{
 "cells": [
  {
   "cell_type": "code",
   "execution_count": 1,
   "metadata": {},
   "outputs": [],
   "source": [
    "import random\n",
    "import os\n",
    "import numpy as np\n",
    "import torch\n",
    "import json\n",
    "from tqdm import tqdm\n",
    "import pandas as pd\n",
    "from transformers import RobertaTokenizer\n",
    "from transformers import AutoTokenizer, AutoModel"
   ]
  },
  {
   "cell_type": "code",
   "execution_count": 2,
   "metadata": {},
   "outputs": [],
   "source": [
    "df = pd.read_csv(\"/shared/3/projects/newsDiffusion/data/processed/translatedCleaned.tsv\", sep=\"\\t\").drop(columns=[\"titleText1\", \"titleText2\"])"
   ]
  },
  {
   "cell_type": "code",
   "execution_count": 4,
   "metadata": {},
   "outputs": [],
   "source": [
    "#for getting non-translated data only \n",
    "#df = df[(df[\"url1_lang\"] == \"en\") & (df[\"url2_lang\"] == \"en\")]"
   ]
  },
  {
   "cell_type": "code",
   "execution_count": 5,
   "metadata": {},
   "outputs": [],
   "source": [
    "tokenizer = AutoTokenizer.from_pretrained('sentence-transformers/all-mpnet-base-v2')"
   ]
  },
  {
   "cell_type": "code",
   "execution_count": 6,
   "metadata": {},
   "outputs": [],
   "source": [
    "#TODO: need to fill in na's with \"\""
   ]
  },
  {
   "cell_type": "code",
   "execution_count": 7,
   "metadata": {},
   "outputs": [],
   "source": [
    "# merged head and tail of text according to \n",
    "#head_length and tail_length \n",
    "def trunc_text(text, tokenizer, head_length, tail_length):\n",
    "\n",
    "    text_ids = tokenizer.encode(text)[1:-1]\n",
    "\n",
    "    #if we don't enough text that we need to take some \n",
    "    #head and tail, then we just take the original text\n",
    "    if len(text_ids) < head_length + tail_length: \n",
    "        return text\n",
    "    \n",
    "    #if we have extra text, we want to take some\n",
    "    #from the beginning and some from the end \n",
    "    else: \n",
    "        head_trunc_ids = text_ids[:head_length]\n",
    "        tail_trunc_ids = text_ids[-tail_length:]\n",
    "        head_trunc_tokens = tokenizer.decode(head_trunc_ids)\n",
    "        tail_trunc_tokens = tokenizer.decode(tail_trunc_ids)\n",
    "        \n",
    "        return head_trunc_tokens + tail_trunc_tokens \n",
    "        \n",
    "    \"\"\"\n",
    "    if trunc_pos == 'head':\n",
    "        text_trunc_ids = text_ids[:head_length]\n",
    "        \n",
    "    elif trunc_pos == 'tail':\n",
    "        #how much extra tail to grab \n",
    "        extra = len(text_ids) - head_length\n",
    "        \n",
    "        #if we have enough text to get full head and tail \n",
    "        if extra >= tail_length: \n",
    "            text_trunc_ids = text_ids[-tail_length:]\n",
    "            \n",
    "        #if we can grab some of the tail but not the full amount we wanted    \n",
    "        elif extra < tail_length and extra > 0: \n",
    "            text_trunc_ids = text_ids[-extra:]\n",
    "\n",
    "        else: \n",
    "            return \"\"\n",
    "    \"\"\"\n",
    "    \n",
    "    "
   ]
  },
  {
   "cell_type": "code",
   "execution_count": 8,
   "metadata": {},
   "outputs": [
    {
     "data": {
      "text/plain": [
       "'MARTINSBURG, W.Va. — A suspected drunken driver was arrested in a New Year’s Day highway crash that killed another motorist in West Virginia, police said.\\n\\nThe accident occurred early Wednesday along southbound Interstate 81 in Berkeley County, The Journal reported.\\n\\nCody Wade Braithwaite, 32, of Winchester, Virginia, was charged with DUI with death, fleeing DUI, and being a prohibited person in possession of a firearm and a fugitive from justice, Berkeley County Sheriff Curtis Keller said.\\n\\nKeller said a deputy investigating calls about a reckless driver attempted to make a traffic stop, but the suspect’s vehicle sped up and hit a car, which then struck a guardrail. The driver of the car was pronounced dead at the scene. The driver’s name was not immediately released.\\n\\nThe suspect’s vehicle also hit a deputy’s cruiser before being stopped, Keller said.\\n\\nBraithwaite was being held without bond in the Eastern Regional Jail. It wasn’t immediately known whether Braithwaite has an attorney.\\n\\n___\\n\\nInformation from: The Journal, http://journal-news.net/\\n\\nCopyright 2020 The Associated Press. All rights reserved. This material may not be published, broadcast, rewritten or redistributed.'"
      ]
     },
     "execution_count": 8,
     "metadata": {},
     "output_type": "execute_result"
    }
   ],
   "source": [
    "df[\"text1\"][0]"
   ]
  },
  {
   "cell_type": "code",
   "execution_count": 9,
   "metadata": {},
   "outputs": [
    {
     "data": {
      "text/plain": [
       "'martinsburg, w. va. — a suspectedreserved. this material may not be published, broadcast, rewritten or redistributed.'"
      ]
     },
     "execution_count": 9,
     "metadata": {},
     "output_type": "execute_result"
    }
   ],
   "source": [
    "trunc_text(df[\"text1\"][0], tokenizer, 10, 20)"
   ]
  },
  {
   "cell_type": "code",
   "execution_count": 10,
   "metadata": {},
   "outputs": [],
   "source": [
    "#following columns are for non-translated data\n",
    "#df = df.dropna(subset=[\"ogTitle1\", \"ogTitle2\", \"ogText1\", \"ogText2\"])"
   ]
  },
  {
   "cell_type": "code",
   "execution_count": 11,
   "metadata": {},
   "outputs": [
    {
     "data": {
      "text/plain": [
       "Index(['Unnamed: 0', 'Unnamed: 0.1', 'url1_lang', 'url2_lang', 'pair_id',\n",
       "       'link1', 'link2', 'ia_link1', 'ia_link2', 'Geography', 'Entities',\n",
       "       'Time', 'Narrative', 'Overall', 'Style', 'Tone', 'id1', 'id2', 'text1',\n",
       "       'title1', 'text2', 'title2'],\n",
       "      dtype='object')"
      ]
     },
     "execution_count": 11,
     "metadata": {},
     "output_type": "execute_result"
    }
   ],
   "source": [
    "df.columns"
   ]
  },
  {
   "cell_type": "code",
   "execution_count": 12,
   "metadata": {},
   "outputs": [],
   "source": [
    "#we replace na's with empty strings so that when we merge\n",
    "#the na values don't override the string in the other column \n",
    "df[[\"title1\", \"title2\", \"text1\", \"text2\"]] = df[[\"title1\", \"title2\", \"text1\", \"text2\"]].fillna(\"\")"
   ]
  },
  {
   "cell_type": "code",
   "execution_count": 13,
   "metadata": {},
   "outputs": [],
   "source": [
    "df[\"titleText1\"] = df[\"title1\"] + df[\"text1\"]\n",
    "df[\"titleText2\"] = df[\"title2\"] + df[\"text2\"]\n"
   ]
  },
  {
   "cell_type": "code",
   "execution_count": 14,
   "metadata": {},
   "outputs": [],
   "source": [
    "HEAD_COUNT = 288\n",
    "TAIL_COUNT = 96"
   ]
  },
  {
   "cell_type": "code",
   "execution_count": 15,
   "metadata": {},
   "outputs": [
    {
     "name": "stderr",
     "output_type": "stream",
     "text": [
      "Token indices sequence length is longer than the specified maximum sequence length for this model (708 > 512). Running this sequence through the model will result in indexing errors\n"
     ]
    }
   ],
   "source": [
    "df[\"text1Merged\"] = df[\"titleText1\"].apply(trunc_text, args=[tokenizer, HEAD_COUNT, TAIL_COUNT])\n",
    "df[\"text2Merged\"] = df[\"titleText2\"].apply(trunc_text, args=[tokenizer, HEAD_COUNT, TAIL_COUNT])"
   ]
  },
  {
   "cell_type": "code",
   "execution_count": 15,
   "metadata": {},
   "outputs": [],
   "source": [
    "import matplotlib.pyplot as plt"
   ]
  },
  {
   "cell_type": "code",
   "execution_count": 16,
   "metadata": {},
   "outputs": [
    {
     "data": {
      "text/plain": [
       "Text(0.5, 1.0, 'Distribution of Character Counts in Articles')"
      ]
     },
     "execution_count": 16,
     "metadata": {},
     "output_type": "execute_result"
    },
    {
     "data": {
      "image/png": "[encoded data removed]",
      "text/plain": [
       "<Figure size 432x288 with 1 Axes>"
      ]
     },
     "metadata": {
      "needs_background": "light"
     },
     "output_type": "display_data"
    }
   ],
   "source": [
    "#this seems about right. We see a relatively hard cutoff \n",
    "#which corresponds to our total token count of 384\n",
    "plt.hist(df[\"text1Merged\"].apply(len), alpha=.5)\n",
    "plt.hist(df[\"text2Merged\"].apply(len), alpha=.5)\n",
    "plt.title(\"Distribution of Character Counts in Articles\")"
   ]
  },
  {
   "cell_type": "code",
   "execution_count": 132,
   "metadata": {},
   "outputs": [],
   "source": [
    "df.to_csv(\"/shared/3/projects/newsDiffusion/data/processed/translated_288_96.tsv\", sep=\"\\t\")"
   ]
  },
  {
   "cell_type": "code",
   "execution_count": 133,
   "metadata": {},
   "outputs": [],
   "source": [
    "enDf = df[(df[\"url1_lang\"] == \"en\") & (df[\"url1_lang\"] == \"en\")]\n",
    "enDf.to_csv(\"/shared/3/projects/newsDiffusion/data/processed/en_288_96.tsv\", sep=\"\\t\")"
   ]
  },
  {
   "cell_type": "code",
   "execution_count": 134,
   "metadata": {},
   "outputs": [],
   "source": [
    "#write files for different proportion \n",
    "HEAD_COUNT = 192\n",
    "TAIL_COUNT = 192\n",
    "df[\"text1Merged\"] = df[\"titleText1\"].apply(trunc_text, args=[tokenizer, HEAD_COUNT, TAIL_COUNT])\n",
    "df[\"text2Merged\"] = df[\"titleText2\"].apply(trunc_text, args=[tokenizer, HEAD_COUNT, TAIL_COUNT])\n",
    "df.to_csv(\"/shared/3/projects/newsDiffusion/data/processed/translated_192_192.tsv\", sep=\"\\t\")\n",
    "\n",
    "enDf = df[(df[\"url1_lang\"] == \"en\") & (df[\"url1_lang\"] == \"en\")]\n",
    "enDf.to_csv(\"/shared/3/projects/newsDiffusion/data/processed/en_192_192.tsv\", sep=\"\\t\")"
   ]
  },
  {
   "cell_type": "code",
   "execution_count": 136,
   "metadata": {},
   "outputs": [],
   "source": [
    "#write files for different proportion \n",
    "HEAD_COUNT = 384\n",
    "TAIL_COUNT = 0\n",
    "df[\"text1Merged\"] = df[\"titleText1\"].apply(trunc_text, args=[tokenizer, HEAD_COUNT, TAIL_COUNT])\n",
    "df[\"text2Merged\"] = df[\"titleText2\"].apply(trunc_text, args=[tokenizer, HEAD_COUNT, TAIL_COUNT])\n",
    "df.to_csv(\"/shared/3/projects/newsDiffusion/data/processed/translated_384_0.tsv\", sep=\"\\t\")\n",
    "\n",
    "enDf = df[(df[\"url1_lang\"] == \"en\") & (df[\"url1_lang\"] == \"en\")]\n",
    "enDf.to_csv(\"/shared/3/projects/newsDiffusion/data/processed/en_384_0.tsv\", sep=\"\\t\")\n"
   ]
  },
  {
   "cell_type": "code",
   "execution_count": 17,
   "metadata": {},
   "outputs": [],
   "source": [
    "tokenizer = AutoTokenizer.from_pretrained('roberta-base')"
   ]
  },
  {
   "cell_type": "code",
   "execution_count": 138,
   "metadata": {},
   "outputs": [
    {
     "name": "stderr",
     "output_type": "stream",
     "text": [
      "Token indices sequence length is longer than the specified maximum sequence length for this model (789 > 512). Running this sequence through the model will result in indexing errors\n"
     ]
    }
   ],
   "source": [
    "#write files for different proportion \n",
    "HEAD_COUNT = 200\n",
    "TAIL_COUNT = 56\n",
    "df[\"text1Merged\"] = df[\"titleText1\"].apply(trunc_text, args=[tokenizer, HEAD_COUNT, TAIL_COUNT])\n",
    "df[\"text2Merged\"] = df[\"titleText2\"].apply(trunc_text, args=[tokenizer, HEAD_COUNT, TAIL_COUNT])\n",
    "df.to_csv(\"/shared/3/projects/newsDiffusion/data/processed/translated_200_56.tsv\", sep=\"\\t\")\n",
    "\n",
    "enDf = df[(df[\"url1_lang\"] == \"en\") & (df[\"url1_lang\"] == \"en\")]\n",
    "enDf.to_csv(\"/shared/3/projects/newsDiffusion/data/processed/en_200_56.tsv\", sep=\"\\t\")"
   ]
  },
  {
   "cell_type": "code",
   "execution_count": 139,
   "metadata": {},
   "outputs": [],
   "source": [
    "#write files for different proportion \n",
    "HEAD_COUNT = 256\n",
    "TAIL_COUNT = 0\n",
    "df[\"text1Merged\"] = df[\"titleText1\"].apply(trunc_text, args=[tokenizer, HEAD_COUNT, TAIL_COUNT])\n",
    "df[\"text2Merged\"] = df[\"titleText2\"].apply(trunc_text, args=[tokenizer, HEAD_COUNT, TAIL_COUNT])\n",
    "df.to_csv(\"/shared/3/projects/newsDiffusion/data/processed/translated_256_0.tsv\", sep=\"\\t\")\n",
    "\n",
    "enDf = df[(df[\"url1_lang\"] == \"en\") & (df[\"url1_lang\"] == \"en\")]\n",
    "enDf.to_csv(\"/shared/3/projects/newsDiffusion/data/processed/en_256_0.tsv\", sep=\"\\t\")"
   ]
  },
  {
   "cell_type": "code",
   "execution_count": 18,
   "metadata": {},
   "outputs": [],
   "source": [
    "#now do the same thing with the test data \n",
    "df = pd.read_csv(\"/shared/3/projects/newsDiffusion/data/processed/enTestData.tsv\", sep=\"\\t\")"
   ]
  },
  {
   "cell_type": "code",
   "execution_count": 19,
   "metadata": {},
   "outputs": [],
   "source": [
    "#we replace na's with empty strings so that when we merge\n",
    "#the na values don't override the string in the other column \n",
    "df[[\"title1\", \"title2\", \"text1\", \"text2\"]] = df[[\"title1\", \"title2\", \"text1\", \"text2\"]].fillna(\"\")\n",
    "\n",
    "df[\"titleText1\"] = df[\"title1\"] + df[\"text1\"]\n",
    "df[\"titleText2\"] = df[\"title2\"] + df[\"text2\"]"
   ]
  },
  {
   "cell_type": "code",
   "execution_count": 24,
   "metadata": {},
   "outputs": [],
   "source": [
    "#since 288 + 96 performed well we want to use this \n",
    "HEAD_COUNT = 288\n",
    "TAIL_COUNT = 96\n",
    "\n",
    "df[\"text1Merged\"] = df[\"titleText1\"].apply(trunc_text, args=[tokenizer, HEAD_COUNT, TAIL_COUNT])\n",
    "df[\"text2Merged\"] = df[\"titleText2\"].apply(trunc_text, args=[tokenizer, HEAD_COUNT, TAIL_COUNT])\n",
    "df.to_csv(\"/shared/3/projects/newsDiffusion/data/processed/enTest_288_96.tsv\", sep=\"\\t\")\n"
   ]
  },
  {
   "cell_type": "code",
   "execution_count": 25,
   "metadata": {},
   "outputs": [],
   "source": [
    "#since 288 + 96 performed well we want to use this \n",
    "HEAD_COUNT = 200\n",
    "TAIL_COUNT = 56\n",
    "\n",
    "df[\"text1Merged\"] = df[\"titleText1\"].apply(trunc_text, args=[tokenizer, HEAD_COUNT, TAIL_COUNT])\n",
    "df[\"text2Merged\"] = df[\"titleText2\"].apply(trunc_text, args=[tokenizer, HEAD_COUNT, TAIL_COUNT])\n",
    "df.to_csv(\"/shared/3/projects/newsDiffusion/data/processed/enTest_200_56.tsv\", sep=\"\\t\")"
   ]
  }
 ],
 "metadata": {
  "kernelspec": {
   "display_name": "Python 3",
   "language": "python",
   "name": "python3"
  },
  "language_info": {
   "codemirror_mode": {
    "name": "ipython",
    "version": 3
   },
   "file_extension": ".py",
   "mimetype": "text/x-python",
   "name": "python",
   "nbconvert_exporter": "python",
   "pygments_lexer": "ipython3",
   "version": "3.8.5"
  }
 },
 "nbformat": 4,
 "nbformat_minor": 5
}
