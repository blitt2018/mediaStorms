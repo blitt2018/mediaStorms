{
 "cells": [
  {
   "cell_type": "code",
   "execution_count": 10,
   "id": "156f3c52",
   "metadata": {},
   "outputs": [],
   "source": [
    "import pandas as pd\n",
    "import pickle \n",
    "import numpy as np"
   ]
  },
  {
   "cell_type": "code",
   "execution_count": 3,
   "id": "edd4cff7",
   "metadata": {},
   "outputs": [],
   "source": [
    "inPath = \"/home/blitt/projects/localNews/models/sentEmbeddings/3.0-crossModelAblation/finalModel\"\n",
    "with open(inPath + \"/outputData.pkl\", \"rb\") as f: \n",
    "    metrics = pickle.load(f)"
   ]
  },
  {
   "cell_type": "code",
   "execution_count": 8,
   "id": "558b43af",
   "metadata": {},
   "outputs": [],
   "source": [
    "EPOCHS = 3\n",
    "FOLDS = 5"
   ]
  },
  {
   "cell_type": "code",
   "execution_count": 14,
   "id": "9a974d5a",
   "metadata": {},
   "outputs": [
    {
     "name": "stdout",
     "output_type": "stream",
     "text": [
      "Epoch: 0\n",
      "[-0.01974798421698655, -0.00411807271828388, 0.06264419034755771, 0.1364921369660232, -0.11750154339355447]\n",
      "Standard Deviation: 0.08497117979383317\n",
      "Average Correlation: 0.011553745396951202\n",
      "Epoch: 1\n",
      "[0.8201630371925391, 0.8525648898494107, 0.8299788920817132, 0.7884570918240391, 0.8161348890790247]\n",
      "Standard Deviation: 0.02078132123552973\n",
      "Average Correlation: 0.8214597600053454\n",
      "Epoch: 2\n",
      "[0.8471425847033357, 0.8700602308851775, 0.8511517442559972, 0.8223207679548726, 0.814902884688181]\n",
      "Standard Deviation: 0.020075819031036248\n",
      "Average Correlation: 0.8411156424975127\n"
     ]
    }
   ],
   "source": [
    "iterList = []\n",
    "corrList = []\n",
    "#go through each epoch \n",
    "for epoch in range(EPOCHS): \n",
    "    corrList = []\n",
    "    for fold in range(FOLDS):\n",
    "\n",
    "        df = pd.DataFrame(metrics[fold][epoch]).T\n",
    "        df.columns =  [\"loss\", \"pred\", \"true\"]\n",
    "        corr = np.corrcoef(df[\"pred\"], df[\"true\"])[1,0]\n",
    "        corrList.append(corr)\n",
    "    print(\"Epoch: \" + str(epoch))\n",
    "    print(corrList)\n",
    "    print(\"Standard Deviation: \" + str(np.std(corrList)))\n",
    "    print(\"Average Correlation: \" + str(np.mean(corrList)))\n",
    "    "
   ]
  },
  {
   "cell_type": "code",
   "execution_count": null,
   "id": "f0c01047",
   "metadata": {},
   "outputs": [],
   "source": []
  }
 ],
 "metadata": {
  "kernelspec": {
   "display_name": "Python 3",
   "language": "python",
   "name": "python3"
  },
  "language_info": {
   "codemirror_mode": {
    "name": "ipython",
    "version": 3
   },
   "file_extension": ".py",
   "mimetype": "text/x-python",
   "name": "python",
   "nbconvert_exporter": "python",
   "pygments_lexer": "ipython3",
   "version": "3.8.5"
  }
 },
 "nbformat": 4,
 "nbformat_minor": 5
}
