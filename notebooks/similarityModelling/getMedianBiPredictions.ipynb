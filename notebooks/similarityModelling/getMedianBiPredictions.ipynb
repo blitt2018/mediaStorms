{
 "cells": [
  {
   "cell_type": "code",
   "execution_count": 13,
   "metadata": {},
   "outputs": [],
   "source": [
    "import pandas as pd\n",
    "import pickle\n",
    "import numpy as np"
   ]
  },
  {
   "cell_type": "code",
   "execution_count": 7,
   "metadata": {},
   "outputs": [],
   "source": [
    "pickleFile = open(\"/shared/3/projects/newsDiffusion/models/2.0-biModelAblation/finalModel/modelResults.pkl\", \"rb\")\n",
    "scoresDict = pickle.load(pickleFile)"
   ]
  },
  {
   "cell_type": "code",
   "execution_count": 8,
   "metadata": {},
   "outputs": [
    {
     "data": {
      "text/plain": [
       "{85: 0.8587845922456185,\n",
       " 92: 0.8603660049341015,\n",
       " 200: 0.8607139800251277,\n",
       " 135: 0.8583788429641135,\n",
       " 60: 0.8613763527855541}"
      ]
     },
     "execution_count": 8,
     "metadata": {},
     "output_type": "execute_result"
    }
   ],
   "source": [
    "#median is 92\n",
    "scoresDict"
   ]
  },
  {
   "cell_type": "code",
   "execution_count": 9,
   "metadata": {},
   "outputs": [],
   "source": [
    "medDf = pd.read_csv(\"/shared/3/projects/newsDiffusion/models/2.0-biModelAblation/finalModel/92testDf.tsv\", sep=\"\\t\")"
   ]
  },
  {
   "cell_type": "code",
   "execution_count": 15,
   "metadata": {},
   "outputs": [
    {
     "data": {
      "text/plain": [
       "Index(['Unnamed: 0', 'Unnamed: 0.1', 'Unnamed: 0.1.1', 'url1_lang',\n",
       "       'url2_lang', 'pair_id', 'link1', 'link2', 'ia_link1', 'ia_link2', 'GEO',\n",
       "       'ENT', 'TIME', 'NAR', 'Overall', 'STYLE', 'TONE', 'id1', 'id2', 'text1',\n",
       "       'title1', 'text2', 'title2', 'titleText1', 'titleText2', 'text1Merged',\n",
       "       'text2Merged', 'ground_truth', 'sims', 'scaledSims'],\n",
       "      dtype='object')"
      ]
     },
     "execution_count": 15,
     "metadata": {},
     "output_type": "execute_result"
    }
   ],
   "source": [
    "medDf.columns"
   ]
  },
  {
   "cell_type": "code",
   "execution_count": 16,
   "metadata": {},
   "outputs": [],
   "source": [
    "cleanedPredictions = medDf[[\"ground_truth\", \"scaledSims\"]]\n",
    "cleanedPredictions.columns = [\"ground_truth\", \"predictions\"]"
   ]
  },
  {
   "cell_type": "code",
   "execution_count": 18,
   "metadata": {},
   "outputs": [],
   "source": [
    "cleanedPredictions.to_csv(\"/shared/3/projects/newsDiffusion/models/2.0-biModelAblation/seed92ModelPredictions.tsv\", sep=\"\\t\")"
   ]
  },
  {
   "cell_type": "code",
   "execution_count": null,
   "metadata": {},
   "outputs": [],
   "source": []
  }
 ],
 "metadata": {
  "kernelspec": {
   "display_name": "Python 3",
   "language": "python",
   "name": "python3"
  }
 },
 "nbformat": 4,
 "nbformat_minor": 5
}
