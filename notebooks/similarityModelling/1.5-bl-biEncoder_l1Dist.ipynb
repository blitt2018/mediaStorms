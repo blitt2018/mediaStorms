{
 "cells": [
  {
   "cell_type": "code",
   "execution_count": 1,
   "metadata": {},
   "outputs": [],
   "source": [
    "from tqdm.auto import tqdm\n",
    "import torch \n",
    "import transformers\n",
    "from transformers import PreTrainedTokenizer\n",
    "from transformers import RobertaTokenizer, PreTrainedTokenizer, DistilBertTokenizer, DistilBertModel, RobertaModel\n",
    "from sentence_transformers import SentenceTransformer, SentencesDataset, InputExample, losses, util\n",
    "from datasets import Dataset\n",
    "import pandas as pd\n",
    "from transformers.optimization import get_linear_schedule_with_warmup\n",
    "import matplotlib.pyplot as plt \n",
    "import numpy as np\n",
    "from sentence_transformers import SentenceTransformer\n",
    "from transformers import AutoTokenizer, AutoModel\n",
    "from torch.nn import CosineEmbeddingLoss\n",
    "import random\n",
    "from torch.nn import CosineEmbeddingLoss\n",
    "from torch import nn\n",
    "#Build up to SBERT model "
   ]
  },
  {
   "cell_type": "code",
   "execution_count": 2,
   "metadata": {},
   "outputs": [],
   "source": [
    "deviceNum = 2\n",
    "device = torch.device(\"cuda:\" + str(deviceNum) if torch.cuda.is_available() else \"cpu\")\n",
    "\n",
    "GRAD_ACC = 6\n",
    "EPOCHS = 2\n",
    "FOLDS = 5\n",
    "SEED = 85\n",
    "BATCH_SIZE = 5\n",
    "\n",
    "#set seeds \n",
    "torch.manual_seed(85)\n",
    "random.seed(85)\n",
    "\n"
   ]
  },
  {
   "cell_type": "code",
   "execution_count": 3,
   "metadata": {},
   "outputs": [],
   "source": [
    "#df = pd.read_csv(\"/shared/3/projects/benlitterer/localNews/NetworkMVP/translatedCleaned.tsv\", sep=\"\\t\")\n",
    "df = pd.read_csv(\"/home/blitt/projects/localNews/data/processed/translated_288_96.tsv\", sep=\"\\t\")\n",
    "\n",
    "#put ground truth values into a list \n",
    "df[\"ground_truth\"] = df['Overall']\n",
    "\n",
    "#get only the columns we need \n",
    "#TODO: do we need \"pair_id\"? \n",
    "#leanDf = df[[\"ground_truth\",  'text1', 'text2', 'title1', 'title2', 'url1_lang', 'url2_lang']].dropna()\n",
    "#for when using merged text\n",
    "leanDf = df[[\"ground_truth\",  'text1Merged', 'text2Merged', 'url1_lang', 'url2_lang']].dropna()\n",
    "\n",
    "#rescale data from (0, 4): (0, 1)\n",
    "leanDf[\"ground_truth\"] = 1 - ((leanDf[\"ground_truth\"] - 1) / 3)\n",
    "\n",
    "#reset index so it is contiguous set of numbers \n",
    "leanDf = leanDf.reset_index(drop=True)\n",
    "\n"
   ]
  },
  {
   "cell_type": "code",
   "execution_count": 4,
   "metadata": {},
   "outputs": [],
   "source": [
    "class BiModel(nn.Module): \n",
    "    def __init__(self):\n",
    "        super(BiModel,self).__init__()\n",
    "        self.model = AutoModel.from_pretrained('sentence-transformers/all-mpnet-base-v2').to(device).train()\n",
    "        #self.cos = torch.nn.CosineSimilarity(dim=1, eps=1e-4)\n",
    "        self.dist = torch.nn.PairwiseDistance(1)\n",
    "        \n",
    "    def mean_pooling(self, token_embeddings, attention_mask): \n",
    "        input_mask_expanded = attention_mask.unsqueeze(-1).expand(token_embeddings.size()).float()\n",
    "        return torch.sum(token_embeddings * input_mask_expanded, 1) / torch.clamp(input_mask_expanded.sum(1), min=1e-9)\n",
    "\n",
    "    def forward(self, input_ids, attention_mask): \n",
    "        \n",
    "        input_ids_a = input_ids[0].to(device)\n",
    "        input_ids_b = input_ids[1].to(device)\n",
    "        attention_a = attention_mask[0].to(device)\n",
    "        attention_b = attention_mask[1].to(device)\n",
    "        \n",
    "        #encode sentence and get mean pooled sentence representation \n",
    "        encoding1 = self.model(input_ids_a, attention_mask=attention_a)[0] #all token embeddings\n",
    "        encoding2 = self.model(input_ids_b, attention_mask=attention_b)[0]\n",
    "        \n",
    "        meanPooled1 = self.mean_pooling(encoding1, attention_a)\n",
    "        meanPooled2 = self.mean_pooling(encoding2, attention_b)\n",
    "        \n",
    "        #2 indicates squared norm (euclidian distance)\n",
    "        pred = self.dist(meanPooled1, meanPooled2)\n",
    "        \n",
    "        #make pred into a similarity between 0 and 1\n",
    "        return 1 / (1+pred)\n"
   ]
  },
  {
   "cell_type": "code",
   "execution_count": 5,
   "metadata": {},
   "outputs": [],
   "source": [
    "def validateBi(model, validLoader, loss_func):\n",
    "    model.eval()\n",
    "   \n",
    "    preds = []\n",
    "    gts = []\n",
    "    \n",
    "    for batch in tqdm(validLoader): \n",
    "        \n",
    "        input_ids = [batch[\"text1Merged_input_ids\"], batch[\"text2Merged_input_ids\"]]\n",
    "        attention_masks = [batch[\"text1Merged_attention_mask\"], batch[\"text2Merged_attention_mask\"]]\n",
    "        pred = model(input_ids, attention_masks)\n",
    "        gt = batch[\"ground_truth\"].to(device)\n",
    "        \n",
    "        preds += list(pred.detach().cpu().tolist())\n",
    "        gts += list(gt.detach().cpu().tolist())\n",
    "    corr = np.corrcoef(preds, gts)[1,0]\n",
    "    print(corr)\n",
    "    model.train()\n",
    "    return corr"
   ]
  },
  {
   "cell_type": "code",
   "execution_count": 6,
   "metadata": {},
   "outputs": [],
   "source": [
    "def trainBi(trainDataset, validDataset): \n",
    "    model = BiModel().to(device)\n",
    "    \n",
    "    # we would initialize everything first\n",
    "    optim = torch.optim.Adam(model.parameters(), lr=2e-6)\n",
    "    \n",
    "    # and setup a warmup for the first ~10% steps\n",
    "    total_steps = int(len(trainDataset) / BATCH_SIZE)*EPOCHS\n",
    "    warmup_steps = int(0.1 * total_steps)\n",
    "    #TODO: change warmup steps back after \n",
    "    scheduler = get_linear_schedule_with_warmup(optim, num_warmup_steps=warmup_steps, num_training_steps=total_steps - warmup_steps)\n",
    "\n",
    "    loss_func = torch.nn.MSELoss(reduction=\"mean\")\n",
    "\n",
    "    trainLoader = torch.utils.data.DataLoader(trainDataset, batch_size=BATCH_SIZE, shuffle=True)\n",
    "    validLoader = torch.utils.data.DataLoader(validDataset, batch_size=2, shuffle=False)\n",
    "    \n",
    "    for epoch in range(EPOCHS):\n",
    "        print(\"EPOCH: \" + str(epoch))\n",
    "        validateBi(model, validLoader, loss_func)\n",
    "        \n",
    "        model.train()  # make sure model is in training mode\n",
    "\n",
    "        #DEBUGGING\n",
    "        #prevParam = list(model.parameters())[0].clone()\n",
    "        for batch in tqdm(trainLoader):\n",
    "            optim.zero_grad()\n",
    "            \n",
    "            input_ids = [batch[\"text1Merged_input_ids\"], batch[\"text2Merged_input_ids\"]]\n",
    "            attention_masks = [batch[\"text1Merged_attention_mask\"], batch[\"text2Merged_attention_mask\"]]\n",
    "            pred = model(input_ids, attention_masks)\n",
    "            \n",
    "            gt = batch[\"ground_truth\"].to(device)\n",
    "            loss = loss_func(pred, gt)\n",
    "            \n",
    "            # using loss, calculate gradients and then optimize\n",
    "            loss.backward()\n",
    "            optim.step()\n",
    "            scheduler.step()\n",
    "            \n",
    "            \"\"\"\n",
    "            #DEBUGGING\n",
    "            \n",
    "            print(loss)\n",
    "            print(scheduler.get_last_lr())\n",
    "            \n",
    "            #see if model params have changed\n",
    "            param = list(model.parameters())[0].clone()\n",
    "            print(torch.equal(param.data, prevParam.data))\n",
    "            \"\"\"\n",
    "            \n",
    "    print(\"final validation\")\n",
    "    validateBi(model, validLoader, loss_func)\n",
    "    return \n",
    "    "
   ]
  },
  {
   "cell_type": "code",
   "execution_count": 7,
   "metadata": {},
   "outputs": [],
   "source": [
    "from sklearn.model_selection import KFold\n",
    "kf = KFold(n_splits=FOLDS, shuffle=True)"
   ]
  },
  {
   "cell_type": "code",
   "execution_count": 8,
   "metadata": {},
   "outputs": [
    {
     "data": {
      "text/plain": [
       "tensor([4.8990, 5.4772])"
      ]
     },
     "execution_count": 8,
     "metadata": {},
     "output_type": "execute_result"
    }
   ],
   "source": [
    "dist = torch.nn.PairwiseDistance(2)\n",
    "m1 = torch.tensor([[1, 4, 5],[2, 3, 8]])\n",
    "m2 = torch.tensor([[3, 6, 9],[1, 1, 3]])\n",
    "\n",
    "dist(m1, m2)"
   ]
  },
  {
   "cell_type": "code",
   "execution_count": 9,
   "metadata": {},
   "outputs": [
    {
     "name": "stdout",
     "output_type": "stream",
     "text": [
      "Total df len: 4806\n",
      "English df len: 1738\n",
      "###### 0 ######\n",
      "Train df len: 4458\n",
      "Valid df len: 348\n"
     ]
    },
    {
     "data": {
      "application/vnd.jupyter.widget-view+json": {
       "model_id": "7751a119c40f411fbcc5927c9c97d08f",
       "version_major": 2,
       "version_minor": 0
      },
      "text/plain": [
       "  0%|          | 0/4458 [00:00<?, ?ex/s]"
      ]
     },
     "metadata": {},
     "output_type": "display_data"
    },
    {
     "data": {
      "application/vnd.jupyter.widget-view+json": {
       "model_id": "a4982d3373b94437a4c975ee85b486f2",
       "version_major": 2,
       "version_minor": 0
      },
      "text/plain": [
       "  0%|          | 0/348 [00:00<?, ?ex/s]"
      ]
     },
     "metadata": {},
     "output_type": "display_data"
    },
    {
     "data": {
      "application/vnd.jupyter.widget-view+json": {
       "model_id": "8e79588b9a7e45759add11823d8582b8",
       "version_major": 2,
       "version_minor": 0
      },
      "text/plain": [
       "  0%|          | 0/4458 [00:00<?, ?ex/s]"
      ]
     },
     "metadata": {},
     "output_type": "display_data"
    },
    {
     "data": {
      "application/vnd.jupyter.widget-view+json": {
       "model_id": "f29b708d31f04e2abaa8d28c3d011119",
       "version_major": 2,
       "version_minor": 0
      },
      "text/plain": [
       "  0%|          | 0/348 [00:00<?, ?ex/s]"
      ]
     },
     "metadata": {},
     "output_type": "display_data"
    },
    {
     "name": "stdout",
     "output_type": "stream",
     "text": [
      "EPOCH: 0\n"
     ]
    },
    {
     "data": {
      "application/vnd.jupyter.widget-view+json": {
       "model_id": "94b27c1dfaad4c32a380f99af7d19006",
       "version_major": 2,
       "version_minor": 0
      },
      "text/plain": [
       "  0%|          | 0/174 [00:00<?, ?it/s]"
      ]
     },
     "metadata": {},
     "output_type": "display_data"
    },
    {
     "name": "stdout",
     "output_type": "stream",
     "text": [
      "0.7864340727335238\n"
     ]
    },
    {
     "data": {
      "application/vnd.jupyter.widget-view+json": {
       "model_id": "14f5bf02126145cf9a66808a6cc86171",
       "version_major": 2,
       "version_minor": 0
      },
      "text/plain": [
       "  0%|          | 0/892 [00:00<?, ?it/s]"
      ]
     },
     "metadata": {},
     "output_type": "display_data"
    },
    {
     "name": "stdout",
     "output_type": "stream",
     "text": [
      "EPOCH: 1\n"
     ]
    },
    {
     "data": {
      "application/vnd.jupyter.widget-view+json": {
       "model_id": "06c1cd209e47407c97dd3012584113be",
       "version_major": 2,
       "version_minor": 0
      },
      "text/plain": [
       "  0%|          | 0/174 [00:00<?, ?it/s]"
      ]
     },
     "metadata": {},
     "output_type": "display_data"
    },
    {
     "name": "stdout",
     "output_type": "stream",
     "text": [
      "0.7701618780991693\n"
     ]
    },
    {
     "data": {
      "application/vnd.jupyter.widget-view+json": {
       "model_id": "ffa2d91848134d4e8f57b740f6e65667",
       "version_major": 2,
       "version_minor": 0
      },
      "text/plain": [
       "  0%|          | 0/892 [00:00<?, ?it/s]"
      ]
     },
     "metadata": {},
     "output_type": "display_data"
    },
    {
     "name": "stdout",
     "output_type": "stream",
     "text": [
      "final validation\n"
     ]
    },
    {
     "data": {
      "application/vnd.jupyter.widget-view+json": {
       "model_id": "656988e3129d4c2d901ff6aa59df656d",
       "version_major": 2,
       "version_minor": 0
      },
      "text/plain": [
       "  0%|          | 0/174 [00:00<?, ?it/s]"
      ]
     },
     "metadata": {},
     "output_type": "display_data"
    },
    {
     "name": "stdout",
     "output_type": "stream",
     "text": [
      "0.7737026988531475\n",
      "###### 1 ######\n",
      "Train df len: 4458\n",
      "Valid df len: 348\n"
     ]
    },
    {
     "data": {
      "application/vnd.jupyter.widget-view+json": {
       "model_id": "6067a463e16245fca8f0501c89e08bbb",
       "version_major": 2,
       "version_minor": 0
      },
      "text/plain": [
       "  0%|          | 0/4458 [00:00<?, ?ex/s]"
      ]
     },
     "metadata": {},
     "output_type": "display_data"
    },
    {
     "data": {
      "application/vnd.jupyter.widget-view+json": {
       "model_id": "b5eb5577f0e64810aa005555eba19396",
       "version_major": 2,
       "version_minor": 0
      },
      "text/plain": [
       "  0%|          | 0/348 [00:00<?, ?ex/s]"
      ]
     },
     "metadata": {},
     "output_type": "display_data"
    },
    {
     "data": {
      "application/vnd.jupyter.widget-view+json": {
       "model_id": "b91f70c142fd4fb8b744d4a1ff4209d1",
       "version_major": 2,
       "version_minor": 0
      },
      "text/plain": [
       "  0%|          | 0/4458 [00:00<?, ?ex/s]"
      ]
     },
     "metadata": {},
     "output_type": "display_data"
    },
    {
     "data": {
      "application/vnd.jupyter.widget-view+json": {
       "model_id": "3d1c3fd5564647629469a6158328bd4e",
       "version_major": 2,
       "version_minor": 0
      },
      "text/plain": [
       "  0%|          | 0/348 [00:00<?, ?ex/s]"
      ]
     },
     "metadata": {},
     "output_type": "display_data"
    },
    {
     "name": "stdout",
     "output_type": "stream",
     "text": [
      "EPOCH: 0\n"
     ]
    },
    {
     "data": {
      "application/vnd.jupyter.widget-view+json": {
       "model_id": "afe30f8cfda04c0e8843113658e43726",
       "version_major": 2,
       "version_minor": 0
      },
      "text/plain": [
       "  0%|          | 0/174 [00:00<?, ?it/s]"
      ]
     },
     "metadata": {},
     "output_type": "display_data"
    },
    {
     "name": "stdout",
     "output_type": "stream",
     "text": [
      "0.7969439814082675\n"
     ]
    },
    {
     "data": {
      "application/vnd.jupyter.widget-view+json": {
       "model_id": "e541ee6fe5834753b1149b3236edda0a",
       "version_major": 2,
       "version_minor": 0
      },
      "text/plain": [
       "  0%|          | 0/892 [00:00<?, ?it/s]"
      ]
     },
     "metadata": {},
     "output_type": "display_data"
    },
    {
     "name": "stdout",
     "output_type": "stream",
     "text": [
      "EPOCH: 1\n"
     ]
    },
    {
     "data": {
      "application/vnd.jupyter.widget-view+json": {
       "model_id": "d6abeb8a64a249e0baf749c97d87e92f",
       "version_major": 2,
       "version_minor": 0
      },
      "text/plain": [
       "  0%|          | 0/174 [00:00<?, ?it/s]"
      ]
     },
     "metadata": {},
     "output_type": "display_data"
    },
    {
     "name": "stdout",
     "output_type": "stream",
     "text": [
      "0.7654129233336104\n"
     ]
    },
    {
     "data": {
      "application/vnd.jupyter.widget-view+json": {
       "model_id": "dac34e0243124af99bfdc22bbdf688da",
       "version_major": 2,
       "version_minor": 0
      },
      "text/plain": [
       "  0%|          | 0/892 [00:00<?, ?it/s]"
      ]
     },
     "metadata": {},
     "output_type": "display_data"
    },
    {
     "name": "stdout",
     "output_type": "stream",
     "text": [
      "final validation\n"
     ]
    },
    {
     "data": {
      "application/vnd.jupyter.widget-view+json": {
       "model_id": "6dcc12b75c2d417d9ef63e18d15b62ca",
       "version_major": 2,
       "version_minor": 0
      },
      "text/plain": [
       "  0%|          | 0/174 [00:00<?, ?it/s]"
      ]
     },
     "metadata": {},
     "output_type": "display_data"
    },
    {
     "name": "stdout",
     "output_type": "stream",
     "text": [
      "0.7661483368901664\n",
      "###### 2 ######\n",
      "Train df len: 4458\n",
      "Valid df len: 348\n"
     ]
    },
    {
     "data": {
      "application/vnd.jupyter.widget-view+json": {
       "model_id": "6f9b240f7d1347cfa2df59c142a9e0fa",
       "version_major": 2,
       "version_minor": 0
      },
      "text/plain": [
       "  0%|          | 0/4458 [00:00<?, ?ex/s]"
      ]
     },
     "metadata": {},
     "output_type": "display_data"
    },
    {
     "data": {
      "application/vnd.jupyter.widget-view+json": {
       "model_id": "66c7fef1c6ec45efbb270b239b34333b",
       "version_major": 2,
       "version_minor": 0
      },
      "text/plain": [
       "  0%|          | 0/348 [00:00<?, ?ex/s]"
      ]
     },
     "metadata": {},
     "output_type": "display_data"
    },
    {
     "data": {
      "application/vnd.jupyter.widget-view+json": {
       "model_id": "a72a64e51ba54ec7ba7c95540e279e7c",
       "version_major": 2,
       "version_minor": 0
      },
      "text/plain": [
       "  0%|          | 0/4458 [00:00<?, ?ex/s]"
      ]
     },
     "metadata": {},
     "output_type": "display_data"
    },
    {
     "data": {
      "application/vnd.jupyter.widget-view+json": {
       "model_id": "51c23139fd5745b48d9af87d449692a8",
       "version_major": 2,
       "version_minor": 0
      },
      "text/plain": [
       "  0%|          | 0/348 [00:00<?, ?ex/s]"
      ]
     },
     "metadata": {},
     "output_type": "display_data"
    },
    {
     "name": "stdout",
     "output_type": "stream",
     "text": [
      "EPOCH: 0\n"
     ]
    },
    {
     "data": {
      "application/vnd.jupyter.widget-view+json": {
       "model_id": "b56b527a1fed4d4ab874466be8b183d2",
       "version_major": 2,
       "version_minor": 0
      },
      "text/plain": [
       "  0%|          | 0/174 [00:00<?, ?it/s]"
      ]
     },
     "metadata": {},
     "output_type": "display_data"
    },
    {
     "name": "stdout",
     "output_type": "stream",
     "text": [
      "0.8294958047088198\n"
     ]
    },
    {
     "data": {
      "application/vnd.jupyter.widget-view+json": {
       "model_id": "189e27c0df4a4a13851d0714ffda0147",
       "version_major": 2,
       "version_minor": 0
      },
      "text/plain": [
       "  0%|          | 0/892 [00:00<?, ?it/s]"
      ]
     },
     "metadata": {},
     "output_type": "display_data"
    },
    {
     "name": "stdout",
     "output_type": "stream",
     "text": [
      "EPOCH: 1\n"
     ]
    },
    {
     "data": {
      "application/vnd.jupyter.widget-view+json": {
       "model_id": "3e214064be7e45b6b1f78bd1baeb955a",
       "version_major": 2,
       "version_minor": 0
      },
      "text/plain": [
       "  0%|          | 0/174 [00:00<?, ?it/s]"
      ]
     },
     "metadata": {},
     "output_type": "display_data"
    },
    {
     "name": "stdout",
     "output_type": "stream",
     "text": [
      "0.7999793710503489\n"
     ]
    },
    {
     "data": {
      "application/vnd.jupyter.widget-view+json": {
       "model_id": "81288e3eb24e45f686653122ded6959e",
       "version_major": 2,
       "version_minor": 0
      },
      "text/plain": [
       "  0%|          | 0/892 [00:00<?, ?it/s]"
      ]
     },
     "metadata": {},
     "output_type": "display_data"
    },
    {
     "name": "stdout",
     "output_type": "stream",
     "text": [
      "final validation\n"
     ]
    },
    {
     "data": {
      "application/vnd.jupyter.widget-view+json": {
       "model_id": "d898b645ab964073871cb5b45f52f72f",
       "version_major": 2,
       "version_minor": 0
      },
      "text/plain": [
       "  0%|          | 0/174 [00:00<?, ?it/s]"
      ]
     },
     "metadata": {},
     "output_type": "display_data"
    },
    {
     "name": "stdout",
     "output_type": "stream",
     "text": [
      "0.7959442349693078\n",
      "###### 3 ######\n",
      "Train df len: 4459\n",
      "Valid df len: 347\n"
     ]
    },
    {
     "data": {
      "application/vnd.jupyter.widget-view+json": {
       "model_id": "abb683fca61a44c4b726748599ff60f7",
       "version_major": 2,
       "version_minor": 0
      },
      "text/plain": [
       "  0%|          | 0/4459 [00:00<?, ?ex/s]"
      ]
     },
     "metadata": {},
     "output_type": "display_data"
    },
    {
     "data": {
      "application/vnd.jupyter.widget-view+json": {
       "model_id": "4e335416828e47d19bc567ed7118d559",
       "version_major": 2,
       "version_minor": 0
      },
      "text/plain": [
       "  0%|          | 0/347 [00:00<?, ?ex/s]"
      ]
     },
     "metadata": {},
     "output_type": "display_data"
    },
    {
     "data": {
      "application/vnd.jupyter.widget-view+json": {
       "model_id": "2069fb32f0554d63a526c565cd51af3a",
       "version_major": 2,
       "version_minor": 0
      },
      "text/plain": [
       "  0%|          | 0/4459 [00:00<?, ?ex/s]"
      ]
     },
     "metadata": {},
     "output_type": "display_data"
    },
    {
     "data": {
      "application/vnd.jupyter.widget-view+json": {
       "model_id": "8d6e1ca401414ae8bea398a0ac2a35fc",
       "version_major": 2,
       "version_minor": 0
      },
      "text/plain": [
       "  0%|          | 0/347 [00:00<?, ?ex/s]"
      ]
     },
     "metadata": {},
     "output_type": "display_data"
    },
    {
     "name": "stdout",
     "output_type": "stream",
     "text": [
      "EPOCH: 0\n"
     ]
    },
    {
     "data": {
      "application/vnd.jupyter.widget-view+json": {
       "model_id": "019fb598bc00474299f44a3d5e2ada92",
       "version_major": 2,
       "version_minor": 0
      },
      "text/plain": [
       "  0%|          | 0/174 [00:00<?, ?it/s]"
      ]
     },
     "metadata": {},
     "output_type": "display_data"
    },
    {
     "name": "stdout",
     "output_type": "stream",
     "text": [
      "0.8019150859300277\n"
     ]
    },
    {
     "data": {
      "application/vnd.jupyter.widget-view+json": {
       "model_id": "b3bd998c27c443c28a2596da02c91cf6",
       "version_major": 2,
       "version_minor": 0
      },
      "text/plain": [
       "  0%|          | 0/892 [00:00<?, ?it/s]"
      ]
     },
     "metadata": {},
     "output_type": "display_data"
    },
    {
     "name": "stdout",
     "output_type": "stream",
     "text": [
      "EPOCH: 1\n"
     ]
    },
    {
     "data": {
      "application/vnd.jupyter.widget-view+json": {
       "model_id": "3b3ab55564a94d499892d4dfa394b60c",
       "version_major": 2,
       "version_minor": 0
      },
      "text/plain": [
       "  0%|          | 0/174 [00:00<?, ?it/s]"
      ]
     },
     "metadata": {},
     "output_type": "display_data"
    },
    {
     "name": "stdout",
     "output_type": "stream",
     "text": [
      "0.7760301080457053\n"
     ]
    },
    {
     "data": {
      "application/vnd.jupyter.widget-view+json": {
       "model_id": "2d15322e37574520b549c699cb9b082e",
       "version_major": 2,
       "version_minor": 0
      },
      "text/plain": [
       "  0%|          | 0/892 [00:00<?, ?it/s]"
      ]
     },
     "metadata": {},
     "output_type": "display_data"
    },
    {
     "name": "stdout",
     "output_type": "stream",
     "text": [
      "final validation\n"
     ]
    },
    {
     "data": {
      "application/vnd.jupyter.widget-view+json": {
       "model_id": "1bd4af052f4b4555bf414d86d283ea51",
       "version_major": 2,
       "version_minor": 0
      },
      "text/plain": [
       "  0%|          | 0/174 [00:00<?, ?it/s]"
      ]
     },
     "metadata": {},
     "output_type": "display_data"
    },
    {
     "name": "stdout",
     "output_type": "stream",
     "text": [
      "0.777872543428849\n",
      "###### 4 ######\n",
      "Train df len: 4459\n",
      "Valid df len: 347\n"
     ]
    },
    {
     "data": {
      "application/vnd.jupyter.widget-view+json": {
       "model_id": "bb95c5c02f394333a49b22b9e01b8726",
       "version_major": 2,
       "version_minor": 0
      },
      "text/plain": [
       "  0%|          | 0/4459 [00:00<?, ?ex/s]"
      ]
     },
     "metadata": {},
     "output_type": "display_data"
    },
    {
     "data": {
      "application/vnd.jupyter.widget-view+json": {
       "model_id": "19a4018b95f7462cac904cc73ff8c15a",
       "version_major": 2,
       "version_minor": 0
      },
      "text/plain": [
       "  0%|          | 0/347 [00:00<?, ?ex/s]"
      ]
     },
     "metadata": {},
     "output_type": "display_data"
    },
    {
     "data": {
      "application/vnd.jupyter.widget-view+json": {
       "model_id": "325005c35a9f4e96b17724ef0dca9090",
       "version_major": 2,
       "version_minor": 0
      },
      "text/plain": [
       "  0%|          | 0/4459 [00:00<?, ?ex/s]"
      ]
     },
     "metadata": {},
     "output_type": "display_data"
    },
    {
     "data": {
      "application/vnd.jupyter.widget-view+json": {
       "model_id": "63f7eb79e293427ab3381ab900f3f9e2",
       "version_major": 2,
       "version_minor": 0
      },
      "text/plain": [
       "  0%|          | 0/347 [00:00<?, ?ex/s]"
      ]
     },
     "metadata": {},
     "output_type": "display_data"
    },
    {
     "name": "stdout",
     "output_type": "stream",
     "text": [
      "EPOCH: 0\n"
     ]
    },
    {
     "data": {
      "application/vnd.jupyter.widget-view+json": {
       "model_id": "cc4dd281360040ecb0734e9130f7d5f5",
       "version_major": 2,
       "version_minor": 0
      },
      "text/plain": [
       "  0%|          | 0/174 [00:00<?, ?it/s]"
      ]
     },
     "metadata": {},
     "output_type": "display_data"
    },
    {
     "name": "stdout",
     "output_type": "stream",
     "text": [
      "0.8228652488813616\n"
     ]
    },
    {
     "data": {
      "application/vnd.jupyter.widget-view+json": {
       "model_id": "53b341a54eac40cab74726f48d295870",
       "version_major": 2,
       "version_minor": 0
      },
      "text/plain": [
       "  0%|          | 0/892 [00:00<?, ?it/s]"
      ]
     },
     "metadata": {},
     "output_type": "display_data"
    },
    {
     "name": "stdout",
     "output_type": "stream",
     "text": [
      "EPOCH: 1\n"
     ]
    },
    {
     "data": {
      "application/vnd.jupyter.widget-view+json": {
       "model_id": "92da114956d446788d6d7a04a2bb6811",
       "version_major": 2,
       "version_minor": 0
      },
      "text/plain": [
       "  0%|          | 0/174 [00:00<?, ?it/s]"
      ]
     },
     "metadata": {},
     "output_type": "display_data"
    },
    {
     "name": "stdout",
     "output_type": "stream",
     "text": [
      "0.789490503082716\n"
     ]
    },
    {
     "data": {
      "application/vnd.jupyter.widget-view+json": {
       "model_id": "9800125e73d44f7797caedcb176dfa4f",
       "version_major": 2,
       "version_minor": 0
      },
      "text/plain": [
       "  0%|          | 0/892 [00:00<?, ?it/s]"
      ]
     },
     "metadata": {},
     "output_type": "display_data"
    },
    {
     "name": "stdout",
     "output_type": "stream",
     "text": [
      "final validation\n"
     ]
    },
    {
     "data": {
      "application/vnd.jupyter.widget-view+json": {
       "model_id": "842d76dd990440a6869d714963d8269b",
       "version_major": 2,
       "version_minor": 0
      },
      "text/plain": [
       "  0%|          | 0/174 [00:00<?, ?it/s]"
      ]
     },
     "metadata": {},
     "output_type": "display_data"
    },
    {
     "name": "stdout",
     "output_type": "stream",
     "text": [
      "0.7974557457600159\n"
     ]
    }
   ],
   "source": [
    "metrics = []\n",
    "transformers.logging.set_verbosity_error()\n",
    "biTokenizer = AutoTokenizer.from_pretrained('sentence-transformers/all-mpnet-base-v2')\n",
    "\n",
    "crossTokenizer = RobertaTokenizer.from_pretrained('roberta-base')\n",
    "\n",
    "#NOTE: THIS LINE IS ONLY FOR QUICK TRAINING CHECK \n",
    "#leanDf = leanDf.iloc[:100, :]\n",
    "\n",
    "#we only want to sample validation data from the pairs that are both english \n",
    "enDf = leanDf[(leanDf[\"url1_lang\"] == \"en\") & (leanDf[\"url2_lang\"] == \"en\")]\n",
    "\n",
    "print(\"Total df len: \" +  str(len(leanDf)))\n",
    "print(\"English df len: \" +  str(len(enDf)))\n",
    "\n",
    "biCorrs = []\n",
    "#we create splits based on the position (not the actual index) of rows in enDf\n",
    "#the idea is to get a split of the english dataset to set aside and then \n",
    "#grab everything else in the en + translated dataset to train on \n",
    "for i, (train_index, valid_index) in enumerate(kf.split(enDf)): \n",
    "    \n",
    "    #grab the rows in enDf corresponding to the positions of our split \n",
    "    validDf = enDf.iloc[valid_index]\n",
    "    \n",
    "    #now get the actual indicies that have been selected\n",
    "    #and subtract the indices in trainDf away from those \n",
    "    remainingIndices = list(set(leanDf.index) - set(validDf.index))\n",
    "    trainDf = leanDf.loc[remainingIndices]\n",
    "    validDf = validDf.reset_index(drop=True)\n",
    "    \n",
    "    print(\"###### \" + str(i).upper() + \" ######\")\n",
    "    print(\"Train df len: \" + str(len(trainDf)))\n",
    "    print(\"Valid df len: \" + str(len(validDf)))\n",
    "    \n",
    "    \n",
    "    trainDataset = Dataset.from_pandas(trainDf)\n",
    "    validDataset = Dataset.from_pandas(validDf)\n",
    "    \n",
    "    all_cols = [\"ground_truth\"]\n",
    "    #NOTE: here we use the merged text\n",
    "    for part in [\"text1Merged\", \"text2Merged\"]: \n",
    "        #tokenizes each row of the dataset and gives us back tuple of lists \n",
    "        trainDataset = trainDataset.map(lambda x: biTokenizer(x[part], max_length=384, padding=\"max_length\", truncation=True))\n",
    "        validDataset = validDataset.map(lambda x: biTokenizer(x[part], max_length=384, padding=\"max_length\", truncation=True))\n",
    "        \n",
    "        for col in ['input_ids', 'attention_mask']: \n",
    "            trainDataset = trainDataset.rename_column(col, part+'_'+col)\n",
    "            validDataset = validDataset.rename_column(col, part+'_'+col)\n",
    "            all_cols.append(part+'_'+col)\n",
    "            \n",
    "    trainDataset.set_format(type='torch', columns=all_cols)\n",
    "    validDataset.set_format(type='torch', columns=all_cols)\n",
    "    \n",
    "    #TODO: change\n",
    "    trainBi(trainDataset, validDataset)\n",
    "\n",
    "    \"\"\"\n",
    "    #TRAIN CROSS ENCODER\n",
    "    #get data loaded in properly \n",
    "    trainDataset = Dataset.from_pandas(trainDf)\n",
    "    validDataset = Dataset.from_pandas(validDf)\n",
    "    \n",
    "    #NOTE: here we use the merged text\n",
    "    trainDataset = trainDataset.map(lambda x: tokenizer(x[\"text1Merged\"], x[\"text2Merged\"], max_length=512, padding=\"max_length\", truncation=True))\n",
    "    validDataset = validDataset.map(lambda x: tokenizer(x[\"text1Merged\"], x[\"text2Merged\"], max_length=512, padding=\"max_length\", truncation=True))\n",
    "    \n",
    "\n",
    "    #only need the input information \n",
    "    trainDataset = trainDataset.remove_columns([\"text1Merged\", \"text2Merged\", \"__index_level_0__\"])\n",
    "    validDataset = validDataset.remove_columns([\"text1Merged\", \"text2Merged\", \"__index_level_0__\"])\n",
    "\n",
    "    # convert dataset features to PyTorch tensors\n",
    "    validDataset.set_format(type='torch', columns=[\"ground_truth\", \"input_ids\", \"attention_mask\"])\n",
    "    trainDataset.set_format(type='torch', columns=[\"ground_truth\", \"input_ids\", \"attention_mask\"])\n",
    "    \n",
    "    \n",
    "    validMetrics = train(trainDataset, validDataset)\n",
    "    metrics.append(validMetrics)\n",
    "    \n",
    "    del trainDataset\n",
    "    del validDataset\n",
    "    \n",
    "    \"\"\"\n",
    "    "
   ]
  },
  {
   "cell_type": "code",
   "execution_count": 10,
   "metadata": {},
   "outputs": [],
   "source": [
    "#model = AutoModel.from_pretrained('sentence-transformers/all-mpnet-base-v2')\n",
    "model = BiModel()"
   ]
  },
  {
   "cell_type": "code",
   "execution_count": 11,
   "metadata": {},
   "outputs": [
    {
     "data": {
      "text/plain": [
       "tensor([ 5.2136e-02, -4.1067e-02,  2.0559e-02, -2.5608e-02, -8.1214e-02,\n",
       "        -5.0451e-02, -9.2575e-02,  5.8284e-02, -1.0750e-02,  2.0278e-01,\n",
       "         1.2713e-02, -6.3587e-02,  6.8787e-02, -1.0403e-02, -1.4380e-02,\n",
       "         7.3561e-02, -3.4523e-02,  1.1633e-01,  1.6805e-02, -2.1002e-02,\n",
       "         5.0159e-02,  1.4371e-01, -4.8371e-02,  5.3918e-03,  3.3420e-02,\n",
       "         6.3143e-02, -2.6937e-02, -1.2208e-02, -4.9116e-02, -3.3328e-02,\n",
       "        -3.0575e-02,  4.8712e-02,  1.5139e-02,  4.6669e-02, -2.0943e+00,\n",
       "         7.2996e-02, -6.4886e-02,  3.7177e-02, -3.1688e-02,  1.4390e-02,\n",
       "        -4.2109e-02, -3.4859e-02, -2.5870e-02,  9.5110e-03, -2.1825e-02,\n",
       "         6.0410e-02,  8.7895e-02,  6.5424e-03,  1.5588e-02, -1.8657e-01,\n",
       "         5.4031e-02, -3.9251e-02,  3.2589e-02, -3.8241e-02, -4.9235e-02,\n",
       "        -1.7446e-02, -1.2888e-03, -5.9867e-03,  8.3567e-03, -3.7311e-02,\n",
       "        -7.0938e-02,  9.2002e-02, -1.4749e-02,  9.8001e-02,  6.8946e-02,\n",
       "         1.1815e-02, -7.0052e-03, -1.1217e-01,  4.4831e-02,  3.0972e-02,\n",
       "        -5.0502e-02, -4.4378e-02, -1.1403e-02, -3.1872e-02,  1.1436e-02,\n",
       "         1.5433e-02,  5.0693e-02, -3.4556e-02, -3.6714e-02,  3.8608e-02,\n",
       "        -5.0368e-02,  8.1040e-02,  1.1633e-01, -7.6207e-02,  2.3463e-02,\n",
       "        -1.2627e-02, -1.0386e-01,  1.1421e-01,  7.4407e-02,  7.1550e-02,\n",
       "        -4.6074e-02,  4.6291e-02, -9.8696e-02,  1.1855e-02,  9.8974e-02,\n",
       "        -4.0527e-02, -9.5348e-02, -2.1856e-02, -8.8219e-02, -2.9298e-02,\n",
       "        -1.1737e-02,  2.1279e-02,  4.7875e-02,  4.2771e-02,  1.1110e-02,\n",
       "        -1.9406e-02,  1.2664e-02,  3.9567e-03, -1.8892e-03,  1.3929e-02,\n",
       "         4.3085e-04, -5.6507e-02, -1.6306e-02,  1.9356e-02, -8.9075e-03,\n",
       "        -2.8927e-02, -5.7208e-02, -3.8315e-02, -6.1745e-02, -2.1830e-02,\n",
       "         2.9869e-02, -2.0655e-02,  7.7263e-02, -2.8699e-02, -1.6612e-02,\n",
       "        -4.0369e-02,  7.5063e-02,  1.3001e-02, -1.1503e-03, -2.4492e-02,\n",
       "        -7.4003e-02, -4.3824e-02,  1.0241e-02, -1.2675e-02, -2.1946e-01,\n",
       "         3.6192e-02,  3.0915e-02,  1.4660e-02,  6.2969e-02, -5.0397e-02,\n",
       "         1.7546e-05, -2.3251e-01, -2.0223e-02, -2.0068e-02,  2.1857e-02,\n",
       "        -3.7619e-02,  3.5118e-02,  7.1419e-02,  2.2001e-03, -5.4628e-04,\n",
       "        -3.4389e-02, -1.2025e-01, -2.3350e-02, -8.6007e-02, -8.6761e-02,\n",
       "        -4.5256e-02,  2.0432e-02,  4.7983e-03, -1.6938e-02, -2.2694e-02,\n",
       "         5.7761e-04,  3.1024e-02,  5.8374e-02,  1.2032e-04,  3.1253e-02,\n",
       "        -1.2191e-01, -2.2354e-02, -5.9440e-02, -4.1424e-02, -3.7745e-02,\n",
       "         3.5193e-02, -2.8770e-02, -4.4865e-02, -1.0261e-02, -1.3586e-02,\n",
       "        -4.1391e-02, -2.2650e-02, -6.4939e-02, -8.2277e-02, -7.7424e-03,\n",
       "        -2.4182e-02, -7.0423e-02,  2.3475e-02, -8.0556e-02,  2.1387e-02,\n",
       "        -2.1595e-02,  3.6871e-02,  3.2417e-02, -2.9493e-02, -2.5155e-01,\n",
       "        -6.5639e-02, -4.4803e-02,  5.2104e-03,  1.0102e-01,  6.3348e-02,\n",
       "        -6.9470e-02, -2.1385e-02, -1.1755e-02,  1.0254e-01, -3.4138e-02,\n",
       "         3.2865e-02, -7.3462e-02,  2.2441e-02, -2.7617e-02, -1.4721e-02,\n",
       "        -7.6561e-04,  9.6314e-02, -9.2097e-02,  3.3198e-02,  8.6215e-02,\n",
       "         2.6898e-02,  2.2670e-02, -8.7823e-02, -2.9994e-02, -2.3343e-02,\n",
       "         3.0506e-02, -2.7238e-02,  9.4848e-02,  4.2977e-02, -9.0036e-02,\n",
       "        -1.1062e-02, -1.5514e-02, -7.0008e-05, -2.2587e-02, -2.7314e-02,\n",
       "         3.9728e-02,  8.7148e-02,  1.3658e-02, -4.0689e-02,  4.1872e-02,\n",
       "        -2.7443e-01,  1.0998e-02, -7.4656e-02,  1.0541e-01, -3.7552e-02,\n",
       "         7.3852e-03, -6.5320e-02,  5.7341e-02, -1.8451e-02,  3.6374e-03,\n",
       "         5.4914e-02, -6.2688e-02,  9.2885e-02,  2.6122e-02, -5.7200e-02,\n",
       "         4.8241e-02,  3.4965e-02, -5.6238e-02,  3.1423e-02,  1.3219e-02,\n",
       "        -4.0648e-02, -1.0890e-01,  1.4192e-02, -6.7561e-02,  7.3657e-02,\n",
       "        -8.1873e-02, -1.2807e-01,  1.5693e-02, -2.2810e-02, -2.9024e-02,\n",
       "         1.3725e+00, -1.2319e-02, -9.8776e-02, -9.8791e-02,  9.2658e-04,\n",
       "        -9.2236e-03,  1.1676e-02, -3.2362e-02,  7.5798e-03,  3.2161e-02,\n",
       "        -2.4735e-02, -9.9230e-02, -8.9125e-02, -1.3985e-02,  5.0730e-02,\n",
       "        -1.7862e-01,  6.5904e-03,  1.1314e-01, -6.7594e-02,  1.7222e-02,\n",
       "        -9.4742e-03,  6.8020e-02,  9.2641e-02,  8.5200e-03,  2.1637e-02,\n",
       "        -2.7387e-03,  4.9391e-02, -1.0988e-02,  1.1795e-02, -2.3979e-02,\n",
       "        -2.3474e-02,  3.9580e-02, -3.1917e-01,  2.8400e-05,  9.1726e-03,\n",
       "         3.9785e-02,  6.7269e-03,  4.8300e-02,  2.9113e-02,  3.1331e-02,\n",
       "        -4.8720e-03,  2.4174e-02,  2.1291e-02, -7.8422e-02,  7.8556e-02,\n",
       "        -3.4075e-02, -6.7136e-02,  4.0296e-02,  1.4425e-01, -7.7924e-02,\n",
       "        -4.8519e-02, -3.6273e-02, -2.6479e-02, -3.0094e-02,  1.5213e-02,\n",
       "        -3.1185e-02, -4.1553e-02,  4.5157e-03, -1.2263e-02, -4.9573e-02,\n",
       "        -6.6792e-02,  5.8937e-02,  2.0049e-02, -4.5702e-02,  3.0607e-02,\n",
       "         8.9129e-03,  3.4547e-02,  5.8900e-03, -4.2177e-02, -2.4783e-02,\n",
       "        -2.7286e-02,  1.6304e-02, -1.2393e-02,  1.6517e-02,  3.1755e-03,\n",
       "        -8.7963e-02, -3.0646e-03,  1.8840e-02, -3.0982e-02,  1.6435e-01,\n",
       "         4.9774e-02,  7.8127e-03, -1.7493e-04,  1.2720e-02,  4.9529e-02,\n",
       "        -1.3172e-01, -7.4949e-03,  9.7216e-02, -3.0059e-02, -2.1335e-01,\n",
       "        -1.1072e-01, -1.3176e-02, -1.6731e-02, -3.7925e-02,  1.6846e-02,\n",
       "        -1.0750e-02,  7.1603e-02, -5.1401e-03, -3.5083e-02, -2.8855e-02,\n",
       "        -1.6800e-02,  3.8349e-03, -3.3621e-02, -9.1937e-04, -4.7774e-02,\n",
       "        -1.3626e-02,  3.1367e-02, -1.3194e-01, -2.6019e-02, -3.2185e-03,\n",
       "        -8.3615e-02,  8.4520e-02, -1.4738e-02,  1.5540e-01, -2.4861e-02,\n",
       "         4.4098e-02, -3.9990e-02, -1.3669e-02, -5.2955e-02,  1.4575e-02,\n",
       "         2.8408e-02, -8.3105e-03, -2.3341e-02, -6.1495e-02,  5.6224e-02,\n",
       "        -1.9319e-02,  2.8823e-02,  3.8452e-02, -3.1304e-02,  3.2802e-02,\n",
       "        -8.4896e-02, -4.8731e-02, -2.3070e-03,  1.3247e-01, -2.0172e-02,\n",
       "         2.9006e-02,  4.1780e-02, -3.4561e-02, -1.7005e-02, -1.0604e+00,\n",
       "         1.3558e-01, -3.4724e-02,  4.8020e-02, -8.9501e-02,  2.6263e-02,\n",
       "         1.4741e-02, -1.9601e-02,  1.3875e-02,  2.7372e-02,  8.0363e-03,\n",
       "        -2.0247e-03,  3.4005e-02, -3.7801e-03,  4.2801e-02, -2.3848e-02,\n",
       "         3.6934e-02,  3.2337e-02,  3.4555e-02, -2.1619e-04,  1.4330e-02,\n",
       "        -3.8477e-02, -1.0174e-02,  1.8937e-02,  3.8870e-02, -4.6058e-02,\n",
       "         4.5904e-02, -1.1731e-02, -4.0138e-02,  9.6597e-02, -1.5052e-01,\n",
       "        -1.2977e-01, -3.7090e-03, -8.6980e-01,  3.7974e-02, -3.3200e-02,\n",
       "         2.5063e-02, -5.2231e-02, -6.8510e-02, -1.4804e-03,  1.1083e-02,\n",
       "         4.3355e-02, -9.3477e-02,  3.8498e-01,  6.1599e-02,  8.3810e-02,\n",
       "        -2.2375e-02,  1.5783e-01,  4.8851e-04, -2.4957e-02,  3.7533e-02,\n",
       "         2.3156e-03, -3.2980e-02, -1.3807e-02,  6.8990e-02,  5.4624e-02,\n",
       "        -4.1164e-02, -2.5123e-02,  3.5705e-02, -3.7989e-02,  2.0049e-02,\n",
       "         1.2981e-02,  9.3566e-01,  1.6802e-02,  1.1454e-02,  3.0424e-02,\n",
       "        -2.8667e-02, -1.8284e-02,  1.1502e-02,  3.8502e-02,  8.8478e-02,\n",
       "         1.0332e-02, -1.2789e-01, -6.0658e-02, -9.7187e-02, -7.8119e-02,\n",
       "         6.6624e-03,  1.2878e-02,  2.1097e-02,  4.7925e-02, -1.2370e-02,\n",
       "         7.5927e-03,  6.6251e-02, -2.4408e-01, -8.0579e-03, -8.1955e-02,\n",
       "        -2.2224e-02,  1.1590e-01, -7.7108e-02, -1.9690e-01,  3.6873e-03,\n",
       "        -1.4956e-01, -8.4278e-03,  4.1049e-02,  3.0540e-04,  3.7404e-02,\n",
       "         3.3259e-02, -3.6986e-02, -3.6598e-02, -2.1840e-03,  3.9020e-02,\n",
       "         2.7628e-02, -6.3115e-02,  8.6935e-02,  5.3807e-02, -4.2632e-02,\n",
       "        -7.7554e-02,  1.5091e-02,  5.6076e-02, -1.6901e-02,  3.5518e-02,\n",
       "         5.5448e-02, -7.8835e-02, -4.1132e-02, -7.3689e-02, -2.5034e-02,\n",
       "        -5.6710e-02,  3.1082e-02,  2.4062e-02,  1.1814e-01, -1.9150e-02,\n",
       "        -1.9765e-01, -2.8071e-02,  9.6329e-02, -3.3405e-02,  2.0591e-03,\n",
       "        -5.8589e-03,  1.0615e-01, -1.5392e-01,  9.9910e-03, -3.0494e-02,\n",
       "         2.4068e-02, -1.1409e-01, -3.1618e-01, -5.0945e-02,  2.9576e-02,\n",
       "         3.1078e-02,  1.6876e-02, -4.1143e-02,  1.5767e-02,  4.1382e-02,\n",
       "         4.4055e-02, -5.2131e-02, -2.4622e-02, -4.7802e-03,  5.8029e-02,\n",
       "         1.8335e-02, -4.2788e-02,  5.4052e-02, -3.6439e-02,  9.2569e-02,\n",
       "        -7.5453e-02,  3.1608e-02, -3.2672e-02,  2.2288e-02,  1.9140e-02,\n",
       "        -1.7117e+00,  3.3586e-02,  6.8466e-02,  5.9038e-02,  3.8751e-02,\n",
       "         1.4121e-02,  8.9526e-02, -8.3040e-02, -1.6492e-01,  4.7561e-01,\n",
       "        -3.7859e-02, -3.0021e-01,  8.3050e-02,  3.9059e-02,  5.4825e-02,\n",
       "         1.1720e-02,  3.9102e-02,  3.0871e-02,  1.0539e+00,  1.2670e-02,\n",
       "         3.0296e-03,  7.4464e-02,  7.1911e-02,  5.3562e-02, -4.2958e-02,\n",
       "         7.6302e-03,  4.9444e-02, -4.3722e-02,  2.0762e-02,  5.6124e-02,\n",
       "         5.1389e-02,  6.5523e-02,  5.9435e-02,  1.1268e-01,  3.3145e-02,\n",
       "         2.2270e-02,  2.2241e-02, -3.6197e-03,  4.6661e-02,  2.0201e-02,\n",
       "        -4.2835e-02, -1.5088e-02,  8.1840e-02,  2.9885e-02,  1.1520e-02,\n",
       "         2.7283e-01,  6.2119e-03, -3.4734e-02, -4.2250e-02, -1.0618e-02,\n",
       "        -2.9541e-02,  5.2967e-02, -2.2434e-02, -4.7915e-02,  4.7310e-02,\n",
       "         4.8468e-02, -1.0528e-01,  5.6465e-02, -1.0831e-01, -2.8197e-02,\n",
       "        -7.9759e-02, -2.6894e-02,  1.5470e-01, -1.6311e-02, -5.2399e-03,\n",
       "        -2.7928e-02,  3.3100e-02, -1.8675e-02,  1.2185e-02, -6.5113e-03,\n",
       "        -1.7929e-02,  6.9779e-03,  2.3009e-02,  5.2191e-02, -1.8381e-02,\n",
       "         4.2997e-02,  1.6766e-02,  8.2802e-01,  1.0529e-01, -3.4717e-02,\n",
       "         3.2650e-02, -2.4480e-02, -7.3947e-03,  5.6173e-03, -2.2136e-02,\n",
       "        -1.6728e-02,  3.3999e-02, -1.4315e-02, -6.3275e-02, -1.2343e-03,\n",
       "        -8.2279e-02, -1.2350e-02,  2.9627e-02, -6.1593e-02, -3.6729e-02,\n",
       "         2.7588e-02, -2.6253e-02,  9.4621e-03, -5.5762e-02,  6.1624e-02,\n",
       "        -2.8262e-02,  5.1705e-02, -6.6576e-02,  3.4333e-02,  5.1224e-02,\n",
       "        -2.7998e-02,  2.9625e-02, -2.9300e-02,  3.6616e-02,  1.5545e-02,\n",
       "        -5.5071e-02,  8.7411e-02, -2.8055e-02,  2.0121e-02, -4.0621e-02,\n",
       "        -3.6199e-04,  7.7530e-02,  4.0332e-02, -2.1365e-02, -2.3018e-03,\n",
       "        -1.3059e-02, -1.5483e-02,  3.6794e-03, -2.2672e-02,  3.7585e-02,\n",
       "         3.2141e-02, -2.2008e-01, -1.2823e-02, -2.1084e-02,  7.2281e-02,\n",
       "         4.9765e-03,  9.2023e-02,  5.1452e-02, -2.2691e+00, -7.0630e-02,\n",
       "         7.2990e-03, -7.4471e-02,  1.0796e-02,  7.2348e-03, -1.5219e-02,\n",
       "         2.8031e-02,  2.9707e-02,  5.9122e-02,  1.0968e-02, -6.0335e-03,\n",
       "         4.2418e-02, -5.3896e-02, -6.9768e-02,  1.3778e-02,  2.4874e-02,\n",
       "        -5.0585e-02, -2.6592e-02, -4.6700e-02,  2.1999e-02,  4.6296e-02,\n",
       "         1.0076e-01, -2.1782e-02,  4.2689e-02, -5.2754e-03, -5.6779e-03,\n",
       "        -1.3581e-02, -6.0034e-02, -1.3313e-01, -1.2599e-02, -8.8780e-02,\n",
       "         2.6804e-02,  2.0586e-02, -2.9674e-02, -4.2065e-02, -4.2133e-02,\n",
       "        -2.5979e-02, -6.9031e-02,  8.3435e-03, -4.5186e-02,  2.1848e-02,\n",
       "        -4.2402e-02, -2.1006e-02, -6.4614e-03, -1.6003e-02, -5.1451e-02,\n",
       "        -9.6948e-02,  6.0879e-02,  2.5038e-02, -2.4785e-02,  1.0835e-01,\n",
       "         5.5846e-02, -3.5308e-02,  3.9076e-02,  4.7241e-03,  1.3892e-02,\n",
       "        -8.3629e-03, -8.8617e-02,  4.4807e-02, -4.3043e-02,  1.0592e-03,\n",
       "        -4.8148e-02, -3.2191e-02, -8.1429e-04,  3.9367e-02, -6.7604e-02,\n",
       "         2.7702e-02,  6.1644e-02, -6.2558e-02, -1.0537e-01,  7.6659e-02,\n",
       "         6.3739e-02,  1.8566e-02,  1.0474e-01,  4.8414e-02,  1.8754e-03,\n",
       "        -3.3814e-03, -1.1083e-01, -3.4964e-02], device='cuda:2',\n",
       "       grad_fn=<SelectBackward0>)"
      ]
     },
     "execution_count": 11,
     "metadata": {},
     "output_type": "execute_result"
    }
   ],
   "source": [
    "[param for param in model.parameters()][0][0]"
   ]
  },
  {
   "cell_type": "code",
   "execution_count": null,
   "metadata": {},
   "outputs": [],
   "source": [
    "validDataset = Dataset.from_pandas(validDf)\n",
    "validDataset[0]\n",
    "\n",
    "for part in [\"text1Merged\", \"text2Merged\"]: \n",
    "        #tokenizes each row of the dataset and gives us back tuple of lists \n",
    "        validDataset = validDataset.map(lambda x: biTokenizer(x[part], max_length=384, padding=\"max_length\", truncation=True))\n",
    "        \n",
    "        for col in ['input_ids', 'attention_mask']: \n",
    "            validDataset = validDataset.rename_column(col, part+'_'+col)\n",
    "            all_cols.append(part+'_'+col)\n",
    "\n",
    "validDataset[0]"
   ]
  },
  {
   "cell_type": "code",
   "execution_count": null,
   "metadata": {},
   "outputs": [],
   "source": [
    "all_cols = [\"ground_truth\"]\n",
    "    for part in [\"text1Merged\", \"text2Merged\"]: \n",
    "        #tokenizes each row of the dataset and gives us back tuple of lists \n",
    "        validDataset = validDataset.map(lambda x: biTokenizer(x[part], max_length=384, padding=\"max_length\", truncation=True))\n",
    "        \n",
    "        for col in ['input_ids', 'attention_mask']: \n",
    "            validDataset = validDataset.rename_column(col, part+'_'+col)\n",
    "            all_cols.append(part+'_'+col)\n",
    "    validDataset.set_format(type='torch', column=all_cols)"
   ]
  },
  {
   "cell_type": "code",
   "execution_count": null,
   "metadata": {},
   "outputs": [],
   "source": [
    "trainLoader = torch.utils.data.DataLoader(validDataset, batch_size=4, shuffle=True)\n",
    "validDataset[0]"
   ]
  },
  {
   "cell_type": "code",
   "execution_count": null,
   "metadata": {},
   "outputs": [],
   "source": [
    "#send corrList to pickled object for later analysis \n",
    "import pickle\n",
    "out_path = \"/home/blitt/projects/localNews/models/sentEmbeddings/2.0-biCrossModel/1.0-justCross/crossCorrList.pckl\"\n",
    "f = open(out_path, \"wb\")\n",
    "\n",
    "pickle.dump(biCorrs, f)"
   ]
  },
  {
   "cell_type": "code",
   "execution_count": null,
   "metadata": {},
   "outputs": [],
   "source": [
    "np.mean(biCorrs)"
   ]
  },
  {
   "cell_type": "code",
   "execution_count": null,
   "metadata": {},
   "outputs": [],
   "source": [
    "import os\n",
    "modelPath = output_path \n",
    "os.listdir(modelPath + \"/checkpoints\")[0]"
   ]
  },
  {
   "cell_type": "code",
   "execution_count": null,
   "metadata": {},
   "outputs": [],
   "source": [
    "\n",
    "output_path = \"/home/blitt/projects/localNews/models/sentEmbeddings/2.0-biCrossModel/justBiExperiments\"\n",
    "checkpoint_path = \"/home/blitt/projects/localNews/models/sentEmbeddings/2.0-biCrossModel/justBiExperiments/checkpoints\"\n",
    "\n",
    "modelPath = output_path + \"/checkpoints/500\"\n",
    "model = SentenceTransformer(modelPath)"
   ]
  },
  {
   "cell_type": "code",
   "execution_count": null,
   "metadata": {},
   "outputs": [],
   "source": [
    "list(validDf[\"text1Merged\"])"
   ]
  },
  {
   "cell_type": "code",
   "execution_count": null,
   "metadata": {},
   "outputs": [],
   "source": []
  }
 ],
 "metadata": {
  "kernelspec": {
   "display_name": "Python 3",
   "language": "python",
   "name": "python3"
  },
  "language_info": {
   "codemirror_mode": {
    "name": "ipython",
    "version": 3
   },
   "file_extension": ".py",
   "mimetype": "text/x-python",
   "name": "python",
   "nbconvert_exporter": "python",
   "pygments_lexer": "ipython3",
   "version": "3.8.5"
  }
 },
 "nbformat": 4,
 "nbformat_minor": 4
}
