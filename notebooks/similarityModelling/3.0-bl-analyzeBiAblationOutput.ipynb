{
 "cells": [
  {
   "cell_type": "code",
   "execution_count": 1,
   "metadata": {},
   "outputs": [],
   "source": [
    "import pandas as pd\n",
    "import pickle \n",
    "import numpy as np"
   ]
  },
  {
   "cell_type": "code",
   "execution_count": 2,
   "metadata": {},
   "outputs": [
    {
     "name": "stdout",
     "output_type": "stream",
     "text": [
      "rows = epoch, columns=fold\n",
      "MODEL: 288_96\n",
      "RUNNING TIME: \n",
      "2285.389204978943\n",
      "[[0.8303091  0.85232384 0.86591196 0.87114802 0.85830033]\n",
      " [0.85381365 0.88883661 0.89279378 0.8973561  0.88566837]\n",
      " [0.85555911 0.89038076 0.89541454 0.89773812 0.88626717]]\n",
      "\n",
      "\n",
      "MODEL: 192_192\n",
      "RUNNING TIME: \n",
      "6102.597308397293\n",
      "[[0.88000046 0.88173918 0.88939577 0.88401655 0.89387063]]\n",
      "\n",
      "\n",
      "MODEL: 384_0\n",
      "RUNNING TIME: \n",
      "2467.7342183589935\n",
      "[[0.85701712 0.85654793 0.84651046 0.87678753 0.85087732]\n",
      " [0.88518885 0.88358779 0.87121641 0.89593042 0.88408045]\n",
      " [0.88610724 0.88396739 0.87324103 0.89654942 0.88600845]]\n",
      "\n",
      "\n",
      "MODEL: justEn\n",
      "RUNNING TIME: \n",
      "1409.3784627914429\n",
      "[[0.87643742 0.85353291 0.84655162 0.86896564 0.84664829]\n",
      " [0.90207286 0.87024556 0.87346538 0.89576742 0.87236564]\n",
      " [0.90361238 0.87147904 0.87518601 0.89658728 0.87418146]]\n",
      "\n",
      "\n"
     ]
    }
   ],
   "source": [
    "modelList = [\"288_96\", \"192_192\", \"384_0\", \"justEn\"]\n",
    "\n",
    "print(\"rows = epoch, columns=fold\")\n",
    "for modelSuffix in modelList: \n",
    "    print(\"MODEL: \" + str(modelSuffix))\n",
    "    inPath = \"/home/blitt/projects/localNews/models/sentEmbeddings/2.0-biModelAblation/\" + modelSuffix\n",
    "    with open(inPath + \"/outputData.pkl\", \"rb\") as f: \n",
    "        corrList = pickle.load(f)\n",
    "\n",
    "    with open(inPath + \"/time.pkl\", \"rb\") as f: \n",
    "        time = pickle.load(f)\n",
    "    \n",
    "    print(\"RUNNING TIME: \")\n",
    "    print(time)\n",
    "    \n",
    "    corrMat = np.array(corrList).T\n",
    "    \n",
    "    print(corrMat)\n",
    "    print(\"\\n\")\n",
    "    \"\"\"\n",
    "    EPOCHS = 3\n",
    "    FOLDS = 5\n",
    "\n",
    "    iterList = []\n",
    "    corrList = []\n",
    "    #go through each epoch \n",
    "    for epoch in range(EPOCHS): \n",
    "        corrList = []\n",
    "        for fold in range(FOLDS):\n",
    "\n",
    "            df = pd.DataFrame(metrics[fold][epoch]).T\n",
    "            df.columns =  [\"loss\", \"pred\", \"true\"]\n",
    "            corr = np.corrcoef(df[\"pred\"], df[\"true\"])[1,0]\n",
    "            corrList.append(corr)\n",
    "        print(\"Epoch: \" + str(epoch))\n",
    "        print(corrList)\n",
    "        print(\"Standard Deviation: \" + str(np.std(corrList)))\n",
    "        print(\"Average Correlation: \" + str(np.mean(corrList)))\n",
    "        print(\"---------------------\")\n",
    "    print(\"\\n\\n\")\n",
    "    \"\"\""
   ]
  },
  {
   "cell_type": "code",
   "execution_count": 17,
   "metadata": {},
   "outputs": [
    {
     "data": {
      "text/plain": [
       "array([[0.87643742, 0.85353291, 0.84655162, 0.86896564, 0.84664829],\n",
       "       [0.90207286, 0.87024556, 0.87346538, 0.89576742, 0.87236564],\n",
       "       [0.90361238, 0.87147904, 0.87518601, 0.89658728, 0.87418146]])"
      ]
     },
     "execution_count": 17,
     "metadata": {},
     "output_type": "execute_result"
    }
   ],
   "source": [
    "corrMat.T"
   ]
  },
  {
   "cell_type": "code",
   "execution_count": null,
   "metadata": {},
   "outputs": [],
   "source": []
  }
 ],
 "metadata": {
  "kernelspec": {
   "display_name": "Python 3",
   "language": "python",
   "name": "python3"
  },
  "language_info": {
   "codemirror_mode": {
    "name": "ipython",
    "version": 3
   },
   "file_extension": ".py",
   "mimetype": "text/x-python",
   "name": "python",
   "nbconvert_exporter": "python",
   "pygments_lexer": "ipython3",
   "version": "3.8.5"
  }
 },
 "nbformat": 4,
 "nbformat_minor": 5
}
