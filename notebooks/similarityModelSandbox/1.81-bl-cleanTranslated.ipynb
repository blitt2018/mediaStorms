{
 "cells": [
  {
   "cell_type": "code",
   "execution_count": 1,
   "id": "5e4a49a9",
   "metadata": {},
   "outputs": [],
   "source": [
    "import pandas as pd "
   ]
  },
  {
   "cell_type": "code",
   "execution_count": 2,
   "id": "1e8d5ef6",
   "metadata": {},
   "outputs": [],
   "source": [
    "rawTranslated = pd.read_csv(\"/shared/3/projects/benlitterer/localNews/NetworkMVP/allTrainDataTranslated.tsv\", sep=\"\\t\")"
   ]
  },
  {
   "cell_type": "code",
   "execution_count": 5,
   "id": "de3173cc",
   "metadata": {},
   "outputs": [
    {
     "data": {
      "text/html": [
       "<div>\n",
       "<style scoped>\n",
       "    .dataframe tbody tr th:only-of-type {\n",
       "        vertical-align: middle;\n",
       "    }\n",
       "\n",
       "    .dataframe tbody tr th {\n",
       "        vertical-align: top;\n",
       "    }\n",
       "\n",
       "    .dataframe thead th {\n",
       "        text-align: right;\n",
       "    }\n",
       "</style>\n",
       "<table border=\"1\" class=\"dataframe\">\n",
       "  <thead>\n",
       "    <tr style=\"text-align: right;\">\n",
       "      <th></th>\n",
       "      <th>Unnamed: 0</th>\n",
       "      <th>url1_lang</th>\n",
       "      <th>url2_lang</th>\n",
       "      <th>pair_id</th>\n",
       "      <th>link1</th>\n",
       "      <th>link2</th>\n",
       "      <th>ia_link1</th>\n",
       "      <th>ia_link2</th>\n",
       "      <th>Geography</th>\n",
       "      <th>Entities</th>\n",
       "      <th>...</th>\n",
       "      <th>id1</th>\n",
       "      <th>id2</th>\n",
       "      <th>text1</th>\n",
       "      <th>title1</th>\n",
       "      <th>text2</th>\n",
       "      <th>title2</th>\n",
       "      <th>title1En</th>\n",
       "      <th>title2En</th>\n",
       "      <th>text1En</th>\n",
       "      <th>text2En</th>\n",
       "    </tr>\n",
       "  </thead>\n",
       "  <tbody>\n",
       "    <tr>\n",
       "      <th>0</th>\n",
       "      <td>0.0</td>\n",
       "      <td>en</td>\n",
       "      <td>en</td>\n",
       "      <td>1484084337_1484110209</td>\n",
       "      <td>https://www.washingtonpost.com/local/virginia-...</td>\n",
       "      <td>https://www.washingtonpost.com/world/the_ameri...</td>\n",
       "      <td>https://web.archive.org/web/www.washingtonpost...</td>\n",
       "      <td>https://web.archive.org/web/www.washingtonpost...</td>\n",
       "      <td>4.0</td>\n",
       "      <td>4.0</td>\n",
       "      <td>...</td>\n",
       "      <td>1.484084e+09</td>\n",
       "      <td>1.484110e+09</td>\n",
       "      <td>MARTINSBURG, W.Va. — A suspected drunken drive...</td>\n",
       "      <td>Virginia man arrested in fatal DUI crash in We...</td>\n",
       "      <td>PORT-AU-PRINCE, Haiti — Haitian President Jove...</td>\n",
       "      <td>Haiti’s leader marks independence day amid sec...</td>\n",
       "      <td>Virginia man arrested in fatal DUI crash in We...</td>\n",
       "      <td>Haiti’s leader marks independence day amid sec...</td>\n",
       "      <td>MARTINSBURG, W.Va. — A suspected drunken drive...</td>\n",
       "      <td>PORT-AU-PRINCE, Haiti — Haitian President Jove...</td>\n",
       "    </tr>\n",
       "    <tr>\n",
       "      <th>1</th>\n",
       "      <td>1.0</td>\n",
       "      <td>en</td>\n",
       "      <td>en</td>\n",
       "      <td>1484396422_1483924666</td>\n",
       "      <td>https://www.stlucianewsonline.com/guyana-three...</td>\n",
       "      <td>https://www.thestar.com/news/world/europe/2020...</td>\n",
       "      <td>https://web.archive.org/web/www.stlucianewsonl...</td>\n",
       "      <td>https://web.archive.org/web/www.thestar.com/ne...</td>\n",
       "      <td>4.0</td>\n",
       "      <td>4.0</td>\n",
       "      <td>...</td>\n",
       "      <td>1.484396e+09</td>\n",
       "      <td>1.483925e+09</td>\n",
       "      <td>Share This On:  Pin 11 Shares  (NEWS ROOM GUYA...</td>\n",
       "      <td>Guyana: Three injured after car crashes into u...</td>\n",
       "      <td>BERLIN - A fire at a zoo in western Germany in...</td>\n",
       "      <td>Fire kills more than 30 animals at zoo in west...</td>\n",
       "      <td>Guyana: Three injured after car crashes into u...</td>\n",
       "      <td>Fire kills more than 30 animals at zoo in west...</td>\n",
       "      <td>Share This On:  Pin 11 Shares  (NEWS ROOM GUYA...</td>\n",
       "      <td>BERLIN - A fire at a zoo in western Germany in...</td>\n",
       "    </tr>\n",
       "    <tr>\n",
       "      <th>2</th>\n",
       "      <td>2.0</td>\n",
       "      <td>en</td>\n",
       "      <td>en</td>\n",
       "      <td>1484698254_1483758694</td>\n",
       "      <td>https://www.teaparty.org/trump-brings-in-2020-...</td>\n",
       "      <td>https://www.timesofisrael.com/trump-says-he-do...</td>\n",
       "      <td>https://web.archive.org/web/www.teaparty.org/t...</td>\n",
       "      <td>https://web.archive.org/web/www.timesofisrael....</td>\n",
       "      <td>1.0</td>\n",
       "      <td>2.0</td>\n",
       "      <td>...</td>\n",
       "      <td>1.484698e+09</td>\n",
       "      <td>1.483759e+09</td>\n",
       "      <td>(Breitbart) – President Donald Trump welcomed ...</td>\n",
       "      <td>Trump Brings In 2020 At Mar-a-Lago: ‘We’re Goi...</td>\n",
       "      <td>PALM BEACH, United States — US President Donal...</td>\n",
       "      <td>Trump says he does not expect war with Iran, ‘...</td>\n",
       "      <td>Trump Brings In 2020 At Mar-a-Lago: ‘We’re Goi...</td>\n",
       "      <td>Trump says he does not expect war with Iran, ‘...</td>\n",
       "      <td>(Breitbart) – President Donald Trump welcomed ...</td>\n",
       "      <td>PALM BEACH, United States — US President Donal...</td>\n",
       "    </tr>\n",
       "  </tbody>\n",
       "</table>\n",
       "<p>3 rows × 25 columns</p>\n",
       "</div>"
      ],
      "text/plain": [
       "   Unnamed: 0 url1_lang url2_lang                pair_id  \\\n",
       "0         0.0        en        en  1484084337_1484110209   \n",
       "1         1.0        en        en  1484396422_1483924666   \n",
       "2         2.0        en        en  1484698254_1483758694   \n",
       "\n",
       "                                               link1  \\\n",
       "0  https://www.washingtonpost.com/local/virginia-...   \n",
       "1  https://www.stlucianewsonline.com/guyana-three...   \n",
       "2  https://www.teaparty.org/trump-brings-in-2020-...   \n",
       "\n",
       "                                               link2  \\\n",
       "0  https://www.washingtonpost.com/world/the_ameri...   \n",
       "1  https://www.thestar.com/news/world/europe/2020...   \n",
       "2  https://www.timesofisrael.com/trump-says-he-do...   \n",
       "\n",
       "                                            ia_link1  \\\n",
       "0  https://web.archive.org/web/www.washingtonpost...   \n",
       "1  https://web.archive.org/web/www.stlucianewsonl...   \n",
       "2  https://web.archive.org/web/www.teaparty.org/t...   \n",
       "\n",
       "                                            ia_link2  Geography  Entities  \\\n",
       "0  https://web.archive.org/web/www.washingtonpost...        4.0       4.0   \n",
       "1  https://web.archive.org/web/www.thestar.com/ne...        4.0       4.0   \n",
       "2  https://web.archive.org/web/www.timesofisrael....        1.0       2.0   \n",
       "\n",
       "   ...           id1           id2  \\\n",
       "0  ...  1.484084e+09  1.484110e+09   \n",
       "1  ...  1.484396e+09  1.483925e+09   \n",
       "2  ...  1.484698e+09  1.483759e+09   \n",
       "\n",
       "                                               text1  \\\n",
       "0  MARTINSBURG, W.Va. — A suspected drunken drive...   \n",
       "1  Share This On:  Pin 11 Shares  (NEWS ROOM GUYA...   \n",
       "2  (Breitbart) – President Donald Trump welcomed ...   \n",
       "\n",
       "                                              title1  \\\n",
       "0  Virginia man arrested in fatal DUI crash in We...   \n",
       "1  Guyana: Three injured after car crashes into u...   \n",
       "2  Trump Brings In 2020 At Mar-a-Lago: ‘We’re Goi...   \n",
       "\n",
       "                                               text2  \\\n",
       "0  PORT-AU-PRINCE, Haiti — Haitian President Jove...   \n",
       "1  BERLIN - A fire at a zoo in western Germany in...   \n",
       "2  PALM BEACH, United States — US President Donal...   \n",
       "\n",
       "                                              title2  \\\n",
       "0  Haiti’s leader marks independence day amid sec...   \n",
       "1  Fire kills more than 30 animals at zoo in west...   \n",
       "2  Trump says he does not expect war with Iran, ‘...   \n",
       "\n",
       "                                            title1En  \\\n",
       "0  Virginia man arrested in fatal DUI crash in We...   \n",
       "1  Guyana: Three injured after car crashes into u...   \n",
       "2  Trump Brings In 2020 At Mar-a-Lago: ‘We’re Goi...   \n",
       "\n",
       "                                            title2En  \\\n",
       "0  Haiti’s leader marks independence day amid sec...   \n",
       "1  Fire kills more than 30 animals at zoo in west...   \n",
       "2  Trump says he does not expect war with Iran, ‘...   \n",
       "\n",
       "                                             text1En  \\\n",
       "0  MARTINSBURG, W.Va. — A suspected drunken drive...   \n",
       "1  Share This On:  Pin 11 Shares  (NEWS ROOM GUYA...   \n",
       "2  (Breitbart) – President Donald Trump welcomed ...   \n",
       "\n",
       "                                             text2En  \n",
       "0  PORT-AU-PRINCE, Haiti — Haitian President Jove...  \n",
       "1  BERLIN - A fire at a zoo in western Germany in...  \n",
       "2  PALM BEACH, United States — US President Donal...  \n",
       "\n",
       "[3 rows x 25 columns]"
      ]
     },
     "execution_count": 5,
     "metadata": {},
     "output_type": "execute_result"
    }
   ],
   "source": [
    "rawTranslated.head(3)"
   ]
  },
  {
   "cell_type": "markdown",
   "id": "6e67e496",
   "metadata": {},
   "source": [
    "Get columns with original english or translated english when appropriate"
   ]
  },
  {
   "cell_type": "code",
   "execution_count": 40,
   "id": "2c9e9e4c",
   "metadata": {},
   "outputs": [],
   "source": [
    "#created nestedList for pandas dataframe \n",
    "dfList = []\n",
    "for i, row in rawTranslated.iterrows(): \n",
    "    \n",
    "    if row[\"url1_lang\"] == \"en\": \n",
    "        text1 = row[\"text1\"]\n",
    "        title1 = row[\"title1\"]\n",
    "    else: \n",
    "        text1 = row[\"text1En\"]\n",
    "        title1 = row[\"title1En\"]\n",
    "        \n",
    "    if row[\"url2_lang\"] == \"en\": \n",
    "        text2 = row[\"text2\"]\n",
    "        title2 = row[\"title2\"]\n",
    "    else: \n",
    "        text2 = row[\"text2En\"]\n",
    "        title2 = row[\"title2En\"]\n",
    "    \n",
    "    newRow = list(row[1:21]) + [text1, title1, text2, title2]\n",
    "    dfList.append(newRow)\n",
    "    \n",
    "names = list(row[1:17].index) + [\"ogText1\", \"ogTitle1\", \"ogText2\", \"ogTitle2\", \"text1\", \"title1\", \"text2\", \"title2\"] \n",
    "mergedData = pd.DataFrame(dfList, columns=names)"
   ]
  },
  {
   "cell_type": "markdown",
   "id": "1fc3153d",
   "metadata": {},
   "source": [
    "clean things up a bit "
   ]
  },
  {
   "cell_type": "code",
   "execution_count": 51,
   "id": "75504c96",
   "metadata": {},
   "outputs": [
    {
     "name": "stdout",
     "output_type": "stream",
     "text": [
      "(4922, 24)\n",
      "(4876, 24)\n"
     ]
    }
   ],
   "source": [
    "print(mergedData.shape)\n",
    "cleanedMerged = mergedData[(mergedData[\"text1\"] != \"#VALUE!\") & (mergedData[\"text2\"] != \"#VALUE!\")]\n",
    "cleanedMerged = cleanedMerged.dropna(subset=[\"text1\", \"text2\"])\n",
    "\n",
    "#turn everything that is junk to empty string. Hopefully in this case we just get padding \n",
    "#that goes through the network and doesn't change everything \n",
    "cleanedMerged[[\"title1\", \"title2\"]] = cleanedMerged[[\"title1\",\"title2\"]].fillna(\"\").replace(\"#VALUE!\", \"\")\n",
    "\n",
    "print(cleanedMerged.shape)"
   ]
  },
  {
   "cell_type": "markdown",
   "id": "17fbcb8f",
   "metadata": {},
   "source": [
    "checking language distribution mostly out of curiousity "
   ]
  },
  {
   "cell_type": "code",
   "execution_count": 56,
   "id": "c0de5c3a",
   "metadata": {},
   "outputs": [
    {
     "data": {
      "text/plain": [
       "en    1767\n",
       "de    1403\n",
       "es     561\n",
       "tr     455\n",
       "pl     349\n",
       "ar     269\n",
       "fr      72\n",
       "Name: url1_lang, dtype: int64"
      ]
     },
     "execution_count": 56,
     "metadata": {},
     "output_type": "execute_result"
    }
   ],
   "source": [
    "cleanedMerged[\"url1_lang\"].value_counts()"
   ]
  },
  {
   "cell_type": "code",
   "execution_count": 57,
   "id": "d921b248",
   "metadata": {},
   "outputs": [
    {
     "data": {
      "text/plain": [
       "en    2325\n",
       "de     845\n",
       "es     561\n",
       "tr     455\n",
       "pl     349\n",
       "ar     269\n",
       "fr      72\n",
       "Name: url2_lang, dtype: int64"
      ]
     },
     "execution_count": 57,
     "metadata": {},
     "output_type": "execute_result"
    }
   ],
   "source": [
    "cleanedMerged[\"url2_lang\"].value_counts()"
   ]
  },
  {
   "cell_type": "raw",
   "id": "50159d19",
   "metadata": {},
   "source": [
    "write (relatively) cleaned version."
   ]
  },
  {
   "cell_type": "code",
   "execution_count": 59,
   "id": "4b4ff25c",
   "metadata": {},
   "outputs": [],
   "source": [
    "cleanedMerged.to_csv(\"/shared/3/projects/benlitterer/localNews/NetworkMVP/translatedCleaned.tsv\", sep=\"\\t\")"
   ]
  },
  {
   "cell_type": "code",
   "execution_count": null,
   "id": "35a089be",
   "metadata": {},
   "outputs": [],
   "source": []
  }
 ],
 "metadata": {
  "kernelspec": {
   "display_name": "Python 3",
   "language": "python",
   "name": "python3"
  },
  "language_info": {
   "codemirror_mode": {
    "name": "ipython",
    "version": 3
   },
   "file_extension": ".py",
   "mimetype": "text/x-python",
   "name": "python",
   "nbconvert_exporter": "python",
   "pygments_lexer": "ipython3",
   "version": "3.8.5"
  }
 },
 "nbformat": 4,
 "nbformat_minor": 5
}
