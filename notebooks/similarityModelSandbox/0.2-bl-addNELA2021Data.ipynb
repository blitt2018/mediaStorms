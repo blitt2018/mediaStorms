{
 "cells": [
  {
   "cell_type": "code",
   "execution_count": 1,
   "metadata": {},
   "outputs": [],
   "source": [
    "import pandas as pd\n",
    "import os\n",
    "import csv"
   ]
  },
  {
   "cell_type": "markdown",
   "metadata": {},
   "source": [
    "## Get National 2021 news "
   ]
  },
  {
   "cell_type": "code",
   "execution_count": 2,
   "metadata": {},
   "outputs": [
    {
     "name": "stdout",
     "output_type": "stream",
     "text": [
      "0\n",
      "50\n",
      "100\n",
      "150\n",
      "200\n",
      "250\n",
      "300\n",
      "350\n"
     ]
    }
   ],
   "source": [
    "nelaGTLocation = \"/shared/3/projects/benlitterer/localNews/NELA-gt-2021/json/nela-gt-2021/newsdata\"\n",
    "\n",
    "outletDfList = []\n",
    "i = 0 \n",
    "for outletName in os.listdir(nelaGTLocation): \n",
    "    if i % 50 == 0: \n",
    "        print(i)\n",
    "    i+= 1 \n",
    "    \n",
    "    #get dataframe for this outlet, add to list \n",
    "    outletPath = nelaGTLocation + \"/\" + outletName\n",
    "    outletDf = pd.read_json(outletPath)\n",
    "    outletDfList.append(outletDf)\n",
    "\n",
    "#resetting the index prevents us from getting a weird nested index later \n",
    "gtDf = pd.concat(outletDfList).reset_index(drop=True)"
   ]
  },
  {
   "cell_type": "code",
   "execution_count": 7,
   "metadata": {},
   "outputs": [
    {
     "data": {
      "text/html": [
       "<div>\n",
       "<style scoped>\n",
       "    .dataframe tbody tr th:only-of-type {\n",
       "        vertical-align: middle;\n",
       "    }\n",
       "\n",
       "    .dataframe tbody tr th {\n",
       "        vertical-align: top;\n",
       "    }\n",
       "\n",
       "    .dataframe thead th {\n",
       "        text-align: right;\n",
       "    }\n",
       "</style>\n",
       "<table border=\"1\" class=\"dataframe\">\n",
       "  <thead>\n",
       "    <tr style=\"text-align: right;\">\n",
       "      <th></th>\n",
       "      <th>id</th>\n",
       "      <th>date</th>\n",
       "      <th>source</th>\n",
       "      <th>title</th>\n",
       "      <th>content</th>\n",
       "      <th>author</th>\n",
       "      <th>url</th>\n",
       "      <th>published</th>\n",
       "      <th>published_utc</th>\n",
       "      <th>collection_utc</th>\n",
       "      <th>national</th>\n",
       "    </tr>\n",
       "  </thead>\n",
       "  <tbody>\n",
       "    <tr>\n",
       "      <th>0</th>\n",
       "      <td>greenwichtime--2021-01-01--Coronavirus and hea...</td>\n",
       "      <td>2021-01-01</td>\n",
       "      <td>greenwichtime</td>\n",
       "      <td>Coronavirus and heavy winds: A tumultuous year...</td>\n",
       "      <td>GREENWICH — The biggest story of 2020 in Green...</td>\n",
       "      <td>By Karen Tensa</td>\n",
       "      <td>https://www.greenwichtime.com/local/article/Co...</td>\n",
       "      <td>Fri, 1 Jan 2021 00:00:00 UT</td>\n",
       "      <td>1609477200</td>\n",
       "      <td>1609467448</td>\n",
       "      <td>True</td>\n",
       "    </tr>\n",
       "    <tr>\n",
       "      <th>1</th>\n",
       "      <td>greenwichtime--2021-01-01--Sweetgreen opens fa...</td>\n",
       "      <td>2021-01-01</td>\n",
       "      <td>greenwichtime</td>\n",
       "      <td>Sweetgreen opens fast casual salad restaurant ...</td>\n",
       "      <td>GREENWICH — Sweetgreen , a fast-casual salad r...</td>\n",
       "      <td>Staff reports</td>\n",
       "      <td>https://www.greenwichtime.com/local/article/Sw...</td>\n",
       "      <td>Fri, 1 Jan 2021 13:00:00 UT</td>\n",
       "      <td>1609524000</td>\n",
       "      <td>1609507568</td>\n",
       "      <td>True</td>\n",
       "    </tr>\n",
       "    <tr>\n",
       "      <th>2</th>\n",
       "      <td>greenwichtime--2021-01-01--Bridge in Greenwich...</td>\n",
       "      <td>2021-01-01</td>\n",
       "      <td>greenwichtime</td>\n",
       "      <td>Bridge in Greenwich: Learning to analyze your ...</td>\n",
       "      <td>With few opportunities to play cards in person...</td>\n",
       "      <td>By Steve Becker</td>\n",
       "      <td>https://www.greenwichtime.com/local/article/Br...</td>\n",
       "      <td>Fri, 1 Jan 2021 10:00:00 UT</td>\n",
       "      <td>1609513200</td>\n",
       "      <td>1609507569</td>\n",
       "      <td>True</td>\n",
       "    </tr>\n",
       "  </tbody>\n",
       "</table>\n",
       "</div>"
      ],
      "text/plain": [
       "                                                  id       date  \\\n",
       "0  greenwichtime--2021-01-01--Coronavirus and hea... 2021-01-01   \n",
       "1  greenwichtime--2021-01-01--Sweetgreen opens fa... 2021-01-01   \n",
       "2  greenwichtime--2021-01-01--Bridge in Greenwich... 2021-01-01   \n",
       "\n",
       "          source                                              title  \\\n",
       "0  greenwichtime  Coronavirus and heavy winds: A tumultuous year...   \n",
       "1  greenwichtime  Sweetgreen opens fast casual salad restaurant ...   \n",
       "2  greenwichtime  Bridge in Greenwich: Learning to analyze your ...   \n",
       "\n",
       "                                             content           author  \\\n",
       "0  GREENWICH — The biggest story of 2020 in Green...   By Karen Tensa   \n",
       "1  GREENWICH — Sweetgreen , a fast-casual salad r...    Staff reports   \n",
       "2  With few opportunities to play cards in person...  By Steve Becker   \n",
       "\n",
       "                                                 url  \\\n",
       "0  https://www.greenwichtime.com/local/article/Co...   \n",
       "1  https://www.greenwichtime.com/local/article/Sw...   \n",
       "2  https://www.greenwichtime.com/local/article/Br...   \n",
       "\n",
       "                     published  published_utc  collection_utc  national  \n",
       "0  Fri, 1 Jan 2021 00:00:00 UT     1609477200      1609467448      True  \n",
       "1  Fri, 1 Jan 2021 13:00:00 UT     1609524000      1609507568      True  \n",
       "2  Fri, 1 Jan 2021 10:00:00 UT     1609513200      1609507569      True  "
      ]
     },
     "execution_count": 7,
     "metadata": {},
     "output_type": "execute_result"
    }
   ],
   "source": [
    "gtDf.head(3)"
   ]
  },
  {
   "cell_type": "markdown",
   "metadata": {},
   "source": [
    "## Bring in data from national 2020 and local 2020-2021 "
   ]
  },
  {
   "cell_type": "code",
   "execution_count": 5,
   "metadata": {},
   "outputs": [
    {
     "name": "stderr",
     "output_type": "stream",
     "text": [
      "/opt/anaconda/lib/python3.8/site-packages/IPython/core/interactiveshell.py:3418: DtypeWarning: Columns (1,2,6,9,10,11,12,13,16,17,18,19,20,21,22,23,24,25,26,27,28,29,30,31,32,33,38,39,40,41) have mixed types.Specify dtype option on import or set low_memory=False.\n",
      "  exec(code_obj, self.user_global_ns, self.user_ns)\n"
     ]
    }
   ],
   "source": [
    "previousDf = pd.read_csv(\"/shared/3/projects/benlitterer/localNews/MVP1/mergedArticles.tsv\", sep=\"\\t\")"
   ]
  },
  {
   "cell_type": "code",
   "execution_count": 6,
   "metadata": {},
   "outputs": [
    {
     "data": {
      "text/plain": [
       "0    False\n",
       "1    False\n",
       "Name: national, dtype: bool"
      ]
     },
     "execution_count": 6,
     "metadata": {},
     "output_type": "execute_result"
    }
   ],
   "source": [
    "previousDf[\"national\"].head(2)"
   ]
  },
  {
   "cell_type": "code",
   "execution_count": 8,
   "metadata": {},
   "outputs": [
    {
     "name": "stdout",
     "output_type": "stream",
     "text": [
      "(3224636, 44)\n"
     ]
    },
    {
     "data": {
      "text/html": [
       "<div>\n",
       "<style scoped>\n",
       "    .dataframe tbody tr th:only-of-type {\n",
       "        vertical-align: middle;\n",
       "    }\n",
       "\n",
       "    .dataframe tbody tr th {\n",
       "        vertical-align: top;\n",
       "    }\n",
       "\n",
       "    .dataframe thead th {\n",
       "        text-align: right;\n",
       "    }\n",
       "</style>\n",
       "<table border=\"1\" class=\"dataframe\">\n",
       "  <thead>\n",
       "    <tr style=\"text-align: right;\">\n",
       "      <th></th>\n",
       "      <th>Unnamed: 0</th>\n",
       "      <th>article_id</th>\n",
       "      <th>sourcedomain_id</th>\n",
       "      <th>date</th>\n",
       "      <th>title</th>\n",
       "      <th>content</th>\n",
       "      <th>url_x</th>\n",
       "      <th>fips</th>\n",
       "      <th>source</th>\n",
       "      <th>description</th>\n",
       "      <th>...</th>\n",
       "      <th>predrt_0</th>\n",
       "      <th>predrt_12</th>\n",
       "      <th>predrt_3</th>\n",
       "      <th>national</th>\n",
       "      <th>id</th>\n",
       "      <th>author</th>\n",
       "      <th>url</th>\n",
       "      <th>published</th>\n",
       "      <th>published_utc</th>\n",
       "      <th>collection_utc</th>\n",
       "    </tr>\n",
       "  </thead>\n",
       "  <tbody>\n",
       "    <tr>\n",
       "      <th>0</th>\n",
       "      <td>0</td>\n",
       "      <td>andalusiastarnews--2020-04-04--Remember When: ...</td>\n",
       "      <td>andalusiastarnews-andalusiastarnews.com</td>\n",
       "      <td>2020-04-04</td>\n",
       "      <td>Remember When: Shehan’s Polio story</td>\n",
       "      <td>Dan Shehan’s “My Polio Story” is continued in ...</td>\n",
       "      <td>https://www.andalusiastarnews.com/2020/04/03/r...</td>\n",
       "      <td>1039.0</td>\n",
       "      <td>andalusiastarnews</td>\n",
       "      <td>Serves Covington County, located in Andalusia....</td>\n",
       "      <td>...</td>\n",
       "      <td>25.04</td>\n",
       "      <td>44.15</td>\n",
       "      <td>30.8</td>\n",
       "      <td>False</td>\n",
       "      <td>NaN</td>\n",
       "      <td>NaN</td>\n",
       "      <td>NaN</td>\n",
       "      <td>NaN</td>\n",
       "      <td>NaN</td>\n",
       "      <td>NaN</td>\n",
       "    </tr>\n",
       "    <tr>\n",
       "      <th>1</th>\n",
       "      <td>1</td>\n",
       "      <td>andalusiastarnews--2020-04-04--Veterans Founda...</td>\n",
       "      <td>andalusiastarnews-andalusiastarnews.com</td>\n",
       "      <td>2020-04-04</td>\n",
       "      <td>Veterans Foundation salutes Vietnam veterans</td>\n",
       "      <td>This past Sunday, March 29th marked National V...</td>\n",
       "      <td>https://www.andalusiastarnews.com/2020/04/03/v...</td>\n",
       "      <td>1039.0</td>\n",
       "      <td>andalusiastarnews</td>\n",
       "      <td>Serves Covington County, located in Andalusia....</td>\n",
       "      <td>...</td>\n",
       "      <td>25.04</td>\n",
       "      <td>44.15</td>\n",
       "      <td>30.8</td>\n",
       "      <td>False</td>\n",
       "      <td>NaN</td>\n",
       "      <td>NaN</td>\n",
       "      <td>NaN</td>\n",
       "      <td>NaN</td>\n",
       "      <td>NaN</td>\n",
       "      <td>NaN</td>\n",
       "    </tr>\n",
       "    <tr>\n",
       "      <th>2</th>\n",
       "      <td>2</td>\n",
       "      <td>andalusiastarnews--2020-04-04--Governor issues...</td>\n",
       "      <td>andalusiastarnews-andalusiastarnews.com</td>\n",
       "      <td>2020-04-04</td>\n",
       "      <td>Governor issues stay at home order</td>\n",
       "      <td>Governor Kay Ivey announced that a stay at hom...</td>\n",
       "      <td>https://www.andalusiastarnews.com/2020/04/03/g...</td>\n",
       "      <td>1039.0</td>\n",
       "      <td>andalusiastarnews</td>\n",
       "      <td>Serves Covington County, located in Andalusia....</td>\n",
       "      <td>...</td>\n",
       "      <td>25.04</td>\n",
       "      <td>44.15</td>\n",
       "      <td>30.8</td>\n",
       "      <td>False</td>\n",
       "      <td>NaN</td>\n",
       "      <td>NaN</td>\n",
       "      <td>NaN</td>\n",
       "      <td>NaN</td>\n",
       "      <td>NaN</td>\n",
       "      <td>NaN</td>\n",
       "    </tr>\n",
       "  </tbody>\n",
       "</table>\n",
       "<p>3 rows × 44 columns</p>\n",
       "</div>"
      ],
      "text/plain": [
       "   Unnamed: 0                                         article_id  \\\n",
       "0           0  andalusiastarnews--2020-04-04--Remember When: ...   \n",
       "1           1  andalusiastarnews--2020-04-04--Veterans Founda...   \n",
       "2           2  andalusiastarnews--2020-04-04--Governor issues...   \n",
       "\n",
       "                           sourcedomain_id        date  \\\n",
       "0  andalusiastarnews-andalusiastarnews.com  2020-04-04   \n",
       "1  andalusiastarnews-andalusiastarnews.com  2020-04-04   \n",
       "2  andalusiastarnews-andalusiastarnews.com  2020-04-04   \n",
       "\n",
       "                                          title  \\\n",
       "0           Remember When: Shehan’s Polio story   \n",
       "1  Veterans Foundation salutes Vietnam veterans   \n",
       "2            Governor issues stay at home order   \n",
       "\n",
       "                                             content  \\\n",
       "0  Dan Shehan’s “My Polio Story” is continued in ...   \n",
       "1  This past Sunday, March 29th marked National V...   \n",
       "2  Governor Kay Ivey announced that a stay at hom...   \n",
       "\n",
       "                                               url_x    fips  \\\n",
       "0  https://www.andalusiastarnews.com/2020/04/03/r...  1039.0   \n",
       "1  https://www.andalusiastarnews.com/2020/04/03/v...  1039.0   \n",
       "2  https://www.andalusiastarnews.com/2020/04/03/g...  1039.0   \n",
       "\n",
       "              source                                        description  ...  \\\n",
       "0  andalusiastarnews  Serves Covington County, located in Andalusia....  ...   \n",
       "1  andalusiastarnews  Serves Covington County, located in Andalusia....  ...   \n",
       "2  andalusiastarnews  Serves Covington County, located in Andalusia....  ...   \n",
       "\n",
       "  predrt_0 predrt_12 predrt_3 national   id  author  url published  \\\n",
       "0    25.04     44.15     30.8    False  NaN     NaN  NaN       NaN   \n",
       "1    25.04     44.15     30.8    False  NaN     NaN  NaN       NaN   \n",
       "2    25.04     44.15     30.8    False  NaN     NaN  NaN       NaN   \n",
       "\n",
       "  published_utc collection_utc  \n",
       "0           NaN            NaN  \n",
       "1           NaN            NaN  \n",
       "2           NaN            NaN  \n",
       "\n",
       "[3 rows x 44 columns]"
      ]
     },
     "execution_count": 8,
     "metadata": {},
     "output_type": "execute_result"
    }
   ],
   "source": [
    "print(previousDf.shape)\n",
    "previousDf.head(3)"
   ]
  },
  {
   "cell_type": "code",
   "execution_count": 9,
   "metadata": {},
   "outputs": [
    {
     "data": {
      "text/plain": [
       "Index(['Unnamed: 0', 'article_id', 'sourcedomain_id', 'date', 'title',\n",
       "       'content', 'url_x', 'fips', 'source', 'description', 'onlinesince',\n",
       "       'rank', 'state', 'city', 'lon', 'lat', 'county', 'total_population',\n",
       "       'white_pct', 'black_pct', 'hispanic_pct', 'nonwhite_pct',\n",
       "       'foreignborn_pct', 'female_pct', 'age29andunder_pct',\n",
       "       'age65andolder_pct', 'median_hh_inc', 'clf_unemploy_pct', 'lesshs_pct',\n",
       "       'lesscollege_pct', 'lesshs_whites_pct', 'lesscollege_whites_pct',\n",
       "       'rural_pct', 'ruralurban_cc', 'predrt_0', 'predrt_12', 'predrt_3',\n",
       "       'national', 'id', 'author', 'url', 'published', 'published_utc',\n",
       "       'collection_utc'],\n",
       "      dtype='object')"
      ]
     },
     "execution_count": 9,
     "metadata": {},
     "output_type": "execute_result"
    }
   ],
   "source": [
    "previousDf.columns"
   ]
  },
  {
   "cell_type": "code",
   "execution_count": 12,
   "metadata": {},
   "outputs": [],
   "source": [
    "\"\"\"\n",
    "Make column names align where possible, not align when it could be confusing \n",
    "gt data:\n",
    "-id -> gt_id \n",
    "\n",
    "local data: \n",
    "-url_x -> url \n",
    "drop url_y \n",
    "\"\"\" \n",
    "\n",
    "\n",
    "#create 'national' column \n",
    "gtDf[\"national\"] = [True for i in range(0, len(gtDf))]\n",
    "\n",
    "#merge \n",
    "#totalDf = pd.concat([localDf, gtDf]).reset_index(drop=True)"
   ]
  },
  {
   "cell_type": "code",
   "execution_count": 27,
   "metadata": {},
   "outputs": [],
   "source": [
    "mergedDf = pd.concat([previousDf, gtDf]).reset_index(drop=True)"
   ]
  },
  {
   "cell_type": "code",
   "execution_count": 42,
   "metadata": {},
   "outputs": [],
   "source": [
    "mergedLean = mergedDf.drop_duplicates([\"source\", \"title\"]).dropna(subset=[\"source\", \"title\"])"
   ]
  },
  {
   "cell_type": "code",
   "execution_count": 49,
   "metadata": {},
   "outputs": [
    {
     "name": "stdout",
     "output_type": "stream",
     "text": [
      "(4769892, 44)\n",
      "(5081145, 44)\n"
     ]
    },
    {
     "ename": "KeyError",
     "evalue": "'url_x'",
     "output_type": "error",
     "traceback": [
      "\u001b[0;31m---------------------------------------------------------------------------\u001b[0m",
      "\u001b[0;31mKeyError\u001b[0m                                  Traceback (most recent call last)",
      "\u001b[0;32m/opt/anaconda/lib/python3.8/site-packages/pandas/core/indexes/base.py\u001b[0m in \u001b[0;36mget_loc\u001b[0;34m(self, key, method, tolerance)\u001b[0m\n\u001b[1;32m   3360\u001b[0m             \u001b[0;32mtry\u001b[0m\u001b[0;34m:\u001b[0m\u001b[0;34m\u001b[0m\u001b[0;34m\u001b[0m\u001b[0m\n\u001b[0;32m-> 3361\u001b[0;31m                 \u001b[0;32mreturn\u001b[0m \u001b[0mself\u001b[0m\u001b[0;34m.\u001b[0m\u001b[0m_engine\u001b[0m\u001b[0;34m.\u001b[0m\u001b[0mget_loc\u001b[0m\u001b[0;34m(\u001b[0m\u001b[0mcasted_key\u001b[0m\u001b[0;34m)\u001b[0m\u001b[0;34m\u001b[0m\u001b[0;34m\u001b[0m\u001b[0m\n\u001b[0m\u001b[1;32m   3362\u001b[0m             \u001b[0;32mexcept\u001b[0m \u001b[0mKeyError\u001b[0m \u001b[0;32mas\u001b[0m \u001b[0merr\u001b[0m\u001b[0;34m:\u001b[0m\u001b[0;34m\u001b[0m\u001b[0;34m\u001b[0m\u001b[0m\n",
      "\u001b[0;32m/opt/anaconda/lib/python3.8/site-packages/pandas/_libs/index.pyx\u001b[0m in \u001b[0;36mpandas._libs.index.IndexEngine.get_loc\u001b[0;34m()\u001b[0m\n",
      "\u001b[0;32m/opt/anaconda/lib/python3.8/site-packages/pandas/_libs/index.pyx\u001b[0m in \u001b[0;36mpandas._libs.index.IndexEngine.get_loc\u001b[0;34m()\u001b[0m\n",
      "\u001b[0;32mpandas/_libs/hashtable_class_helper.pxi\u001b[0m in \u001b[0;36mpandas._libs.hashtable.PyObjectHashTable.get_item\u001b[0;34m()\u001b[0m\n",
      "\u001b[0;32mpandas/_libs/hashtable_class_helper.pxi\u001b[0m in \u001b[0;36mpandas._libs.hashtable.PyObjectHashTable.get_item\u001b[0;34m()\u001b[0m\n",
      "\u001b[0;31mKeyError\u001b[0m: 'url_x'",
      "\nThe above exception was the direct cause of the following exception:\n",
      "\u001b[0;31mKeyError\u001b[0m                                  Traceback (most recent call last)",
      "\u001b[0;32m<ipython-input-49-b4d2184352dc>\u001b[0m in \u001b[0;36m<module>\u001b[0;34m\u001b[0m\n\u001b[1;32m      4\u001b[0m \u001b[0;34m\u001b[0m\u001b[0m\n\u001b[1;32m      5\u001b[0m \u001b[0;31m#fix urls so they aren't split up\u001b[0m\u001b[0;34m\u001b[0m\u001b[0;34m\u001b[0m\u001b[0;34m\u001b[0m\u001b[0m\n\u001b[0;32m----> 6\u001b[0;31m \u001b[0mmergedLean\u001b[0m\u001b[0;34m[\u001b[0m\u001b[0;34m\"url\"\u001b[0m\u001b[0;34m]\u001b[0m\u001b[0;34m.\u001b[0m\u001b[0mfillna\u001b[0m\u001b[0;34m(\u001b[0m\u001b[0mmergedLean\u001b[0m\u001b[0;34m[\u001b[0m\u001b[0;34m\"url_x\"\u001b[0m\u001b[0;34m]\u001b[0m\u001b[0;34m,\u001b[0m \u001b[0minplace\u001b[0m\u001b[0;34m=\u001b[0m\u001b[0;32mTrue\u001b[0m\u001b[0;34m)\u001b[0m\u001b[0;34m\u001b[0m\u001b[0;34m\u001b[0m\u001b[0m\n\u001b[0m\u001b[1;32m      7\u001b[0m \u001b[0mmergedLean\u001b[0m \u001b[0;34m=\u001b[0m \u001b[0mmergedLean\u001b[0m\u001b[0;34m.\u001b[0m\u001b[0mdrop\u001b[0m\u001b[0;34m(\u001b[0m\u001b[0mcolumns\u001b[0m\u001b[0;34m=\u001b[0m\u001b[0;34m[\u001b[0m\u001b[0;34m\"url_x\"\u001b[0m\u001b[0;34m]\u001b[0m\u001b[0;34m)\u001b[0m\u001b[0;34m\u001b[0m\u001b[0;34m\u001b[0m\u001b[0m\n",
      "\u001b[0;32m/opt/anaconda/lib/python3.8/site-packages/pandas/core/frame.py\u001b[0m in \u001b[0;36m__getitem__\u001b[0;34m(self, key)\u001b[0m\n\u001b[1;32m   3456\u001b[0m             \u001b[0;32mif\u001b[0m \u001b[0mself\u001b[0m\u001b[0;34m.\u001b[0m\u001b[0mcolumns\u001b[0m\u001b[0;34m.\u001b[0m\u001b[0mnlevels\u001b[0m \u001b[0;34m>\u001b[0m \u001b[0;36m1\u001b[0m\u001b[0;34m:\u001b[0m\u001b[0;34m\u001b[0m\u001b[0;34m\u001b[0m\u001b[0m\n\u001b[1;32m   3457\u001b[0m                 \u001b[0;32mreturn\u001b[0m \u001b[0mself\u001b[0m\u001b[0;34m.\u001b[0m\u001b[0m_getitem_multilevel\u001b[0m\u001b[0;34m(\u001b[0m\u001b[0mkey\u001b[0m\u001b[0;34m)\u001b[0m\u001b[0;34m\u001b[0m\u001b[0;34m\u001b[0m\u001b[0m\n\u001b[0;32m-> 3458\u001b[0;31m             \u001b[0mindexer\u001b[0m \u001b[0;34m=\u001b[0m \u001b[0mself\u001b[0m\u001b[0;34m.\u001b[0m\u001b[0mcolumns\u001b[0m\u001b[0;34m.\u001b[0m\u001b[0mget_loc\u001b[0m\u001b[0;34m(\u001b[0m\u001b[0mkey\u001b[0m\u001b[0;34m)\u001b[0m\u001b[0;34m\u001b[0m\u001b[0;34m\u001b[0m\u001b[0m\n\u001b[0m\u001b[1;32m   3459\u001b[0m             \u001b[0;32mif\u001b[0m \u001b[0mis_integer\u001b[0m\u001b[0;34m(\u001b[0m\u001b[0mindexer\u001b[0m\u001b[0;34m)\u001b[0m\u001b[0;34m:\u001b[0m\u001b[0;34m\u001b[0m\u001b[0;34m\u001b[0m\u001b[0m\n\u001b[1;32m   3460\u001b[0m                 \u001b[0mindexer\u001b[0m \u001b[0;34m=\u001b[0m \u001b[0;34m[\u001b[0m\u001b[0mindexer\u001b[0m\u001b[0;34m]\u001b[0m\u001b[0;34m\u001b[0m\u001b[0;34m\u001b[0m\u001b[0m\n",
      "\u001b[0;32m/opt/anaconda/lib/python3.8/site-packages/pandas/core/indexes/base.py\u001b[0m in \u001b[0;36mget_loc\u001b[0;34m(self, key, method, tolerance)\u001b[0m\n\u001b[1;32m   3361\u001b[0m                 \u001b[0;32mreturn\u001b[0m \u001b[0mself\u001b[0m\u001b[0;34m.\u001b[0m\u001b[0m_engine\u001b[0m\u001b[0;34m.\u001b[0m\u001b[0mget_loc\u001b[0m\u001b[0;34m(\u001b[0m\u001b[0mcasted_key\u001b[0m\u001b[0;34m)\u001b[0m\u001b[0;34m\u001b[0m\u001b[0;34m\u001b[0m\u001b[0m\n\u001b[1;32m   3362\u001b[0m             \u001b[0;32mexcept\u001b[0m \u001b[0mKeyError\u001b[0m \u001b[0;32mas\u001b[0m \u001b[0merr\u001b[0m\u001b[0;34m:\u001b[0m\u001b[0;34m\u001b[0m\u001b[0;34m\u001b[0m\u001b[0m\n\u001b[0;32m-> 3363\u001b[0;31m                 \u001b[0;32mraise\u001b[0m \u001b[0mKeyError\u001b[0m\u001b[0;34m(\u001b[0m\u001b[0mkey\u001b[0m\u001b[0;34m)\u001b[0m \u001b[0;32mfrom\u001b[0m \u001b[0merr\u001b[0m\u001b[0;34m\u001b[0m\u001b[0;34m\u001b[0m\u001b[0m\n\u001b[0m\u001b[1;32m   3364\u001b[0m \u001b[0;34m\u001b[0m\u001b[0m\n\u001b[1;32m   3365\u001b[0m         \u001b[0;32mif\u001b[0m \u001b[0mis_scalar\u001b[0m\u001b[0;34m(\u001b[0m\u001b[0mkey\u001b[0m\u001b[0;34m)\u001b[0m \u001b[0;32mand\u001b[0m \u001b[0misna\u001b[0m\u001b[0;34m(\u001b[0m\u001b[0mkey\u001b[0m\u001b[0;34m)\u001b[0m \u001b[0;32mand\u001b[0m \u001b[0;32mnot\u001b[0m \u001b[0mself\u001b[0m\u001b[0;34m.\u001b[0m\u001b[0mhasnans\u001b[0m\u001b[0;34m:\u001b[0m\u001b[0;34m\u001b[0m\u001b[0;34m\u001b[0m\u001b[0m\n",
      "\u001b[0;31mKeyError\u001b[0m: 'url_x'"
     ]
    }
   ],
   "source": [
    "#notably, we need to make sure that we have one column with article URLs \n",
    "print(mergedLean.shape)\n",
    "print(mergedDf.shape)\n",
    "\n",
    "#fix urls so they aren't split up \n",
    "#mergedLean[\"url\"].fillna(mergedLean[\"url_x\"], inplace=True)\n",
    "#mergedLean = mergedLean.drop(columns=[\"url_x\"])"
   ]
  },
  {
   "cell_type": "code",
   "execution_count": 46,
   "metadata": {},
   "outputs": [],
   "source": [
    "def underscore(inStr): \n",
    "    return inStr.replace(\" \", \"_\")\n",
    "\n",
    "mergedLean[\"key\"] = mergedLean[\"source\"] + \"_\" + mergedLean[\"title\"].apply(underscore) "
   ]
  },
  {
   "cell_type": "code",
   "execution_count": 47,
   "metadata": {},
   "outputs": [
    {
     "name": "stdout",
     "output_type": "stream",
     "text": [
      "(4769892, 44)\n",
      "(5081145, 44)\n"
     ]
    }
   ],
   "source": [
    "#we did have some articles overlapping on source and title notably \n",
    "print(mergedLean.shape)\n",
    "print(mergedDf.shape)"
   ]
  },
  {
   "cell_type": "code",
   "execution_count": 48,
   "metadata": {},
   "outputs": [],
   "source": [
    "mergedLean.to_csv(\"/shared/3/projects/benlitterer/localNews/mergedNewsData/localNational.tsv\", sep=\"\\t\", quoting=csv.QUOTE_NONNUMERIC)"
   ]
  },
  {
   "cell_type": "code",
   "execution_count": null,
   "metadata": {},
   "outputs": [],
   "source": []
  }
 ],
 "metadata": {
  "kernelspec": {
   "display_name": "Python 3",
   "language": "python",
   "name": "python3"
  },
  "language_info": {
   "codemirror_mode": {
    "name": "ipython",
    "version": 3
   },
   "file_extension": ".py",
   "mimetype": "text/x-python",
   "name": "python",
   "nbconvert_exporter": "python",
   "pygments_lexer": "ipython3",
   "version": "3.8.5"
  }
 },
 "nbformat": 4,
 "nbformat_minor": 4
}
