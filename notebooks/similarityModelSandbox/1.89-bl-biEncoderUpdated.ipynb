{
 "cells": [
  {
   "cell_type": "code",
   "execution_count": 1,
   "metadata": {},
   "outputs": [],
   "source": [
    "from tqdm.auto import tqdm\n",
    "import torch \n",
    "import transformers\n",
    "from transformers import PreTrainedTokenizer\n",
    "from transformers import RobertaTokenizer, PreTrainedTokenizer, DistilBertTokenizer, DistilBertModel, RobertaModel\n",
    "from sentence_transformers import SentenceTransformer, SentencesDataset, InputExample, losses, util\n",
    "from datasets import Dataset\n",
    "import pandas as pd\n",
    "from transformers.optimization import get_linear_schedule_with_warmup\n",
    "import matplotlib.pyplot as plt \n",
    "import numpy as np\n",
    "from sentence_transformers import SentenceTransformer\n",
    "from transformers import AutoTokenizer, AutoModel\n",
    "from torch.nn import CosineEmbeddingLoss\n",
    "import random\n",
    "import os\n",
    "#Build up to SBERT model "
   ]
  },
  {
   "cell_type": "code",
   "execution_count": 2,
   "metadata": {},
   "outputs": [],
   "source": [
    "deviceNum = 4\n",
    "device = torch.device(\"cuda:\" + str(deviceNum) if torch.cuda.is_available() else \"cpu\")\n",
    "\n",
    "GRAD_ACC = 6\n",
    "EPOCHS = 2\n",
    "FOLDS = 5\n",
    "SEED = 85\n",
    "BATCH_SIZE = 5\n",
    "\n",
    "#set seeds \n",
    "torch.manual_seed(85)\n",
    "random.seed(85)\n",
    "\n"
   ]
  },
  {
   "cell_type": "code",
   "execution_count": 3,
   "metadata": {},
   "outputs": [],
   "source": [
    "#df = pd.read_csv(\"/shared/3/projects/benlitterer/localNews/NetworkMVP/translatedCleaned.tsv\", sep=\"\\t\")\n",
    "df = pd.read_csv(\"/home/blitt/projects/localNews/data/processed/translated_300_84.tsv\", sep=\"\\t\")\n",
    "\n",
    "#put ground truth values into a list \n",
    "df[\"ground_truth\"] = df['Overall']\n",
    "\n",
    "#get only the columns we need \n",
    "#TODO: do we need \"pair_id\"? \n",
    "#leanDf = df[[\"ground_truth\",  'text1', 'text2', 'title1', 'title2', 'url1_lang', 'url2_lang']].dropna()\n",
    "#for when using merged text\n",
    "leanDf = df[[\"ground_truth\",  'text1Merged', 'text2Merged', 'url1_lang', 'url2_lang']].dropna()\n",
    "\n",
    "#rescale data from (0, 4): (0, 1)\n",
    "leanDf[\"ground_truth\"] = 1 - ((leanDf[\"ground_truth\"] - 1) / 3)\n",
    "\n",
    "#reset index so it is contiguous set of numbers \n",
    "leanDf = leanDf.reset_index(drop=True)\n",
    "\n"
   ]
  },
  {
   "cell_type": "code",
   "execution_count": 5,
   "metadata": {},
   "outputs": [],
   "source": [
    "def trainBi(epoch, trainExamples, validDf): \n",
    "    train_dataloader = torch.utils.data.DataLoader(trainExamples, shuffle=True, batch_size=BATCH_SIZE)\n",
    "    model = SentenceTransformer('all-mpnet-base-v2', device=\"cuda:\" + str(deviceNum))\n",
    "    train_loss = losses.CosineSimilarityLoss(model)\n",
    "    \n",
    "    output_path = \"/home/blitt/projects/localNews/models/sentEmbeddings/2.0-biCrossModel/1.1-bestModelBi\"\n",
    "    checkpoint_path = \"/home/blitt/projects/localNews/models/sentEmbeddings/2.0-biCrossModel/1.1-bestModelBi/checkpoints_\" + str(epoch)\n",
    "    \n",
    "    #save model to checkpoint \n",
    "    model.fit(train_objectives=[(train_dataloader, train_loss)], epochs=2, warmup_steps=75, output_path=output_path, checkpoint_path=checkpoint_path, save_best_model=True, checkpoint_save_total_limit=1)\n",
    "    #model.fit(train_objectives=[(train_dataloader, train_loss)], epochs=2, warmup_steps=75)\n",
    "    \n",
    "    #VALIDATION \n",
    "    #now get model and evaluate its predictions on validDataset\n",
    "    modelDir = output_path + \"/checkpoints_\" + str(epoch)\n",
    "    checkpointName = os.listdir(modelDir)[0]\n",
    "    modelPath = modelDir + \"/\" + checkpointName\n",
    "    model = SentenceTransformer(modelPath)\n",
    "\n",
    "    \n",
    "    text1 = list(validDf[\"text1Merged\"])\n",
    "    text2 = list(validDf[\"text2Merged\"])\n",
    "    \n",
    "    embed1 = model.encode(text1)\n",
    "    embed2 = model.encode(text2)\n",
    "\n",
    "    #get our cosine sims \n",
    "    cos_scores = [] \n",
    "    for i in range(len(embed1)): \n",
    "        cos_scores.append(float(util.cos_sim(embed1[i], embed2[i])[0][0]))\n",
    "    #ran this sanity check and it appears to check out...\n",
    "    #print(cos_scores)\n",
    "    #print(list(validDf[\"ground_truth\"]))\n",
    "    \n",
    "    corr = np.corrcoef(list(validDf[\"ground_truth\"]), cos_scores)[1, 0]\n",
    "    print(corr)\n",
    "    return corr \n",
    "    "
   ]
  },
  {
   "cell_type": "code",
   "execution_count": 6,
   "metadata": {},
   "outputs": [],
   "source": [
    "from sklearn.model_selection import KFold\n",
    "kf = KFold(n_splits=FOLDS, shuffle=True)"
   ]
  },
  {
   "cell_type": "code",
   "execution_count": 7,
   "metadata": {},
   "outputs": [
    {
     "name": "stdout",
     "output_type": "stream",
     "text": [
      "Total df len: 4806\n",
      "English df len: 1738\n",
      "###### 0 ######\n",
      "Train df len: 4458\n",
      "Valid df len: 348\n"
     ]
    },
    {
     "data": {
      "application/vnd.jupyter.widget-view+json": {
       "model_id": "bbe926485ce545a0ac1978b1146bcee7",
       "version_major": 2,
       "version_minor": 0
      },
      "text/plain": [
       "Epoch:   0%|          | 0/2 [00:00<?, ?it/s]"
      ]
     },
     "metadata": {},
     "output_type": "display_data"
    },
    {
     "data": {
      "application/vnd.jupyter.widget-view+json": {
       "model_id": "41fd49a254b243328c743554cc0616ae",
       "version_major": 2,
       "version_minor": 0
      },
      "text/plain": [
       "Iteration:   0%|          | 0/892 [00:00<?, ?it/s]"
      ]
     },
     "metadata": {},
     "output_type": "display_data"
    },
    {
     "data": {
      "application/vnd.jupyter.widget-view+json": {
       "model_id": "65256ad0f4b94c02a5eb582a5917a385",
       "version_major": 2,
       "version_minor": 0
      },
      "text/plain": [
       "Iteration:   0%|          | 0/892 [00:00<?, ?it/s]"
      ]
     },
     "metadata": {},
     "output_type": "display_data"
    },
    {
     "name": "stdout",
     "output_type": "stream",
     "text": [
      "0.8928811638264366\n",
      "###### 1 ######\n",
      "Train df len: 4458\n",
      "Valid df len: 348\n"
     ]
    },
    {
     "data": {
      "application/vnd.jupyter.widget-view+json": {
       "model_id": "fe75a96729a248c1b76bd161c4325bbd",
       "version_major": 2,
       "version_minor": 0
      },
      "text/plain": [
       "Epoch:   0%|          | 0/2 [00:00<?, ?it/s]"
      ]
     },
     "metadata": {},
     "output_type": "display_data"
    },
    {
     "data": {
      "application/vnd.jupyter.widget-view+json": {
       "model_id": "68f6e47241004b24b2d1ed3f4197901d",
       "version_major": 2,
       "version_minor": 0
      },
      "text/plain": [
       "Iteration:   0%|          | 0/892 [00:00<?, ?it/s]"
      ]
     },
     "metadata": {},
     "output_type": "display_data"
    },
    {
     "data": {
      "application/vnd.jupyter.widget-view+json": {
       "model_id": "747451fffb8847049da7fb46188fb0f3",
       "version_major": 2,
       "version_minor": 0
      },
      "text/plain": [
       "Iteration:   0%|          | 0/892 [00:00<?, ?it/s]"
      ]
     },
     "metadata": {},
     "output_type": "display_data"
    },
    {
     "name": "stdout",
     "output_type": "stream",
     "text": [
      "0.8800843362632257\n",
      "###### 2 ######\n",
      "Train df len: 4458\n",
      "Valid df len: 348\n"
     ]
    },
    {
     "data": {
      "application/vnd.jupyter.widget-view+json": {
       "model_id": "993b96bc871744739e4b8cc16b652fad",
       "version_major": 2,
       "version_minor": 0
      },
      "text/plain": [
       "Epoch:   0%|          | 0/2 [00:00<?, ?it/s]"
      ]
     },
     "metadata": {},
     "output_type": "display_data"
    },
    {
     "data": {
      "application/vnd.jupyter.widget-view+json": {
       "model_id": "0f7008e913c348f5b54ba84828d95cd5",
       "version_major": 2,
       "version_minor": 0
      },
      "text/plain": [
       "Iteration:   0%|          | 0/892 [00:00<?, ?it/s]"
      ]
     },
     "metadata": {},
     "output_type": "display_data"
    },
    {
     "data": {
      "application/vnd.jupyter.widget-view+json": {
       "model_id": "101f38ac3a744d78a57948798414419a",
       "version_major": 2,
       "version_minor": 0
      },
      "text/plain": [
       "Iteration:   0%|          | 0/892 [00:00<?, ?it/s]"
      ]
     },
     "metadata": {},
     "output_type": "display_data"
    },
    {
     "name": "stdout",
     "output_type": "stream",
     "text": [
      "0.8992946988138368\n",
      "###### 3 ######\n",
      "Train df len: 4459\n",
      "Valid df len: 347\n"
     ]
    },
    {
     "data": {
      "application/vnd.jupyter.widget-view+json": {
       "model_id": "39e71d2ca3f647fd94ddea704c694735",
       "version_major": 2,
       "version_minor": 0
      },
      "text/plain": [
       "Epoch:   0%|          | 0/2 [00:00<?, ?it/s]"
      ]
     },
     "metadata": {},
     "output_type": "display_data"
    },
    {
     "data": {
      "application/vnd.jupyter.widget-view+json": {
       "model_id": "94048a7a8bd34e32bf6b2d46dffa41c8",
       "version_major": 2,
       "version_minor": 0
      },
      "text/plain": [
       "Iteration:   0%|          | 0/892 [00:00<?, ?it/s]"
      ]
     },
     "metadata": {},
     "output_type": "display_data"
    },
    {
     "data": {
      "application/vnd.jupyter.widget-view+json": {
       "model_id": "69bef026c10a458482a5b4de06c2508f",
       "version_major": 2,
       "version_minor": 0
      },
      "text/plain": [
       "Iteration:   0%|          | 0/892 [00:00<?, ?it/s]"
      ]
     },
     "metadata": {},
     "output_type": "display_data"
    },
    {
     "name": "stdout",
     "output_type": "stream",
     "text": [
      "0.9068255520949272\n",
      "###### 4 ######\n",
      "Train df len: 4459\n",
      "Valid df len: 347\n"
     ]
    },
    {
     "data": {
      "application/vnd.jupyter.widget-view+json": {
       "model_id": "4f57008cb1be4cb3b50bef3447aea38b",
       "version_major": 2,
       "version_minor": 0
      },
      "text/plain": [
       "Epoch:   0%|          | 0/2 [00:00<?, ?it/s]"
      ]
     },
     "metadata": {},
     "output_type": "display_data"
    },
    {
     "data": {
      "application/vnd.jupyter.widget-view+json": {
       "model_id": "1eb09188e3ba41158771274eddce725b",
       "version_major": 2,
       "version_minor": 0
      },
      "text/plain": [
       "Iteration:   0%|          | 0/892 [00:00<?, ?it/s]"
      ]
     },
     "metadata": {},
     "output_type": "display_data"
    },
    {
     "data": {
      "application/vnd.jupyter.widget-view+json": {
       "model_id": "a2f342727e4f4a9aa211ec47dcb89377",
       "version_major": 2,
       "version_minor": 0
      },
      "text/plain": [
       "Iteration:   0%|          | 0/892 [00:00<?, ?it/s]"
      ]
     },
     "metadata": {},
     "output_type": "display_data"
    },
    {
     "name": "stdout",
     "output_type": "stream",
     "text": [
      "0.8674153396260754\n"
     ]
    }
   ],
   "source": [
    "metrics = []\n",
    "transformers.logging.set_verbosity_error()\n",
    "tokenizer = RobertaTokenizer.from_pretrained('roberta-base')\n",
    "\n",
    "#NOTE: THIS LINE IS ONLY FOR QUICK TRAINING CHECK \n",
    "#leanDf = leanDf.iloc[:300, :]\n",
    "\n",
    "#we only want to sample validation data from the pairs that are both english \n",
    "enDf = leanDf[(leanDf[\"url1_lang\"] == \"en\") & (leanDf[\"url2_lang\"] == \"en\")]\n",
    "\n",
    "print(\"Total df len: \" +  str(len(leanDf)))\n",
    "print(\"English df len: \" +  str(len(enDf)))\n",
    "\n",
    "biCorrs = []\n",
    "#we create splits based on the position (not the actual index) of rows in enDf\n",
    "#the idea is to get a split of the english dataset to set aside and then \n",
    "#grab everything else in the en + translated dataset to train on \n",
    "for i, (train_index, valid_index) in enumerate(kf.split(enDf)): \n",
    "    \n",
    "    #grab the rows in enDf corresponding to the positions of our split \n",
    "    validDf = enDf.iloc[valid_index]\n",
    "    \n",
    "    #now get the actual indicies that have been selected\n",
    "    #and subtract the indices in trainDf away from those \n",
    "    remainingIndices = list(set(leanDf.index) - set(validDf.index))\n",
    "    trainDf = leanDf.loc[remainingIndices]\n",
    "    print(\"###### \" + str(i).upper() + \" ######\")\n",
    "    print(\"Train df len: \" + str(len(trainDf)))\n",
    "    print(\"Valid df len: \" + str(len(validDf)))\n",
    "    \n",
    "    #TRAIN BI ENCODER \n",
    "    trainExamples = []\n",
    "    for row in trainDf.itertuples(): \n",
    "        trainExamples.append(InputExample(texts =[row[2], row[3]], label=row[1]))\n",
    "    validExamples = []\n",
    "    for row in validDf.itertuples(): \n",
    "        validExamples.append(InputExample(texts =[row[2], row[3]], label=row[1]))\n",
    "        \n",
    "    biCorrs.append(trainBi(i, trainExamples, validDf))\n",
    "    \n",
    "    \"\"\"\n",
    "    #TRAIN CROSS ENCODER\n",
    "    #get data loaded in properly \n",
    "    trainDataset = Dataset.from_pandas(trainDf)\n",
    "    validDataset = Dataset.from_pandas(validDf)\n",
    "    \n",
    "    #NOTE: here we use the merged text\n",
    "    trainDataset = trainDataset.map(lambda x: tokenizer(x[\"text1Merged\"], x[\"text2Merged\"], max_length=512, padding=\"max_length\", truncation=True))\n",
    "    validDataset = validDataset.map(lambda x: tokenizer(x[\"text1Merged\"], x[\"text2Merged\"], max_length=512, padding=\"max_length\", truncation=True))\n",
    "    \n",
    "\n",
    "    #only need the input information \n",
    "    trainDataset = trainDataset.remove_columns([\"text1Merged\", \"text2Merged\", \"__index_level_0__\"])\n",
    "    validDataset = validDataset.remove_columns([\"text1Merged\", \"text2Merged\", \"__index_level_0__\"])\n",
    "\n",
    "    # convert dataset features to PyTorch tensors\n",
    "    validDataset.set_format(type='torch', columns=[\"ground_truth\", \"input_ids\", \"attention_mask\"])\n",
    "    trainDataset.set_format(type='torch', columns=[\"ground_truth\", \"input_ids\", \"attention_mask\"])\n",
    "    \n",
    "    \n",
    "    validMetrics = train(trainDataset, validDataset)\n",
    "    metrics.append(validMetrics)\n",
    "    \n",
    "    del trainDataset\n",
    "    del validDataset\n",
    "    \n",
    "    \"\"\"\n",
    "    "
   ]
  },
  {
   "cell_type": "code",
   "execution_count": 8,
   "metadata": {},
   "outputs": [
    {
     "ename": "FileNotFoundError",
     "evalue": "[Errno 2] No such file or directory: '/home/blitt/projects/localNews/models/sentEmbeddings/2.0-biCrossModel/1.0-justCross/crossCorrList.pckl'",
     "output_type": "error",
     "traceback": [
      "\u001b[0;31m---------------------------------------------------------------------------\u001b[0m",
      "\u001b[0;31mFileNotFoundError\u001b[0m                         Traceback (most recent call last)",
      "\u001b[0;32m<ipython-input-8-eb2676d415f8>\u001b[0m in \u001b[0;36m<module>\u001b[0;34m\u001b[0m\n\u001b[1;32m      2\u001b[0m \u001b[0;32mimport\u001b[0m \u001b[0mpickle\u001b[0m\u001b[0;34m\u001b[0m\u001b[0;34m\u001b[0m\u001b[0m\n\u001b[1;32m      3\u001b[0m \u001b[0mout_path\u001b[0m \u001b[0;34m=\u001b[0m \u001b[0;34m\"/home/blitt/projects/localNews/models/sentEmbeddings/2.0-biCrossModel/1.0-justCross/crossCorrList.pckl\"\u001b[0m\u001b[0;34m\u001b[0m\u001b[0;34m\u001b[0m\u001b[0m\n\u001b[0;32m----> 4\u001b[0;31m \u001b[0mf\u001b[0m \u001b[0;34m=\u001b[0m \u001b[0mopen\u001b[0m\u001b[0;34m(\u001b[0m\u001b[0mout_path\u001b[0m\u001b[0;34m,\u001b[0m \u001b[0;34m\"wb\"\u001b[0m\u001b[0;34m)\u001b[0m\u001b[0;34m\u001b[0m\u001b[0;34m\u001b[0m\u001b[0m\n\u001b[0m\u001b[1;32m      5\u001b[0m \u001b[0;34m\u001b[0m\u001b[0m\n\u001b[1;32m      6\u001b[0m \u001b[0mpickle\u001b[0m\u001b[0;34m.\u001b[0m\u001b[0mdump\u001b[0m\u001b[0;34m(\u001b[0m\u001b[0mbiCorrs\u001b[0m\u001b[0;34m,\u001b[0m \u001b[0mf\u001b[0m\u001b[0;34m)\u001b[0m\u001b[0;34m\u001b[0m\u001b[0;34m\u001b[0m\u001b[0m\n",
      "\u001b[0;31mFileNotFoundError\u001b[0m: [Errno 2] No such file or directory: '/home/blitt/projects/localNews/models/sentEmbeddings/2.0-biCrossModel/1.0-justCross/crossCorrList.pckl'"
     ]
    }
   ],
   "source": [
    "#send corrList to pickled object for later analysis \n",
    "import pickle\n",
    "out_path = \"/home/blitt/projects/localNews/models/sentEmbeddings/2.0-biCrossModel/1.0-justCross/crossCorrList.pckl\"\n",
    "f = open(out_path, \"wb\")\n",
    "\n",
    "pickle.dump(biCorrs, f)"
   ]
  },
  {
   "cell_type": "code",
   "execution_count": 9,
   "metadata": {},
   "outputs": [
    {
     "data": {
      "text/plain": [
       "0.8893002181249002"
      ]
     },
     "execution_count": 9,
     "metadata": {},
     "output_type": "execute_result"
    }
   ],
   "source": [
    "np.mean(biCorrs)"
   ]
  },
  {
   "cell_type": "code",
   "execution_count": null,
   "metadata": {},
   "outputs": [],
   "source": [
    "import os\n",
    "modelPath = output_path \n",
    "os.listdir(modelPath + \"/checkpoints\")[0]"
   ]
  },
  {
   "cell_type": "code",
   "execution_count": null,
   "metadata": {},
   "outputs": [],
   "source": [
    "\n",
    "output_path = \"/home/blitt/projects/localNews/models/sentEmbeddings/2.0-biCrossModel/justBiExperiments\"\n",
    "checkpoint_path = \"/home/blitt/projects/localNews/models/sentEmbeddings/2.0-biCrossModel/justBiExperiments/checkpoints\"\n",
    "\n",
    "modelPath = output_path + \"/checkpoints/500\"\n",
    "model = SentenceTransformer(modelPath)"
   ]
  },
  {
   "cell_type": "code",
   "execution_count": null,
   "metadata": {},
   "outputs": [],
   "source": [
    "list(validDf[\"text1Merged\"])"
   ]
  },
  {
   "cell_type": "code",
   "execution_count": null,
   "metadata": {},
   "outputs": [],
   "source": []
  }
 ],
 "metadata": {
  "kernelspec": {
   "display_name": "Python 3",
   "language": "python",
   "name": "python3"
  },
  "language_info": {
   "codemirror_mode": {
    "name": "ipython",
    "version": 3
   },
   "file_extension": ".py",
   "mimetype": "text/x-python",
   "name": "python",
   "nbconvert_exporter": "python",
   "pygments_lexer": "ipython3",
   "version": "3.8.5"
  }
 },
 "nbformat": 4,
 "nbformat_minor": 4
}
