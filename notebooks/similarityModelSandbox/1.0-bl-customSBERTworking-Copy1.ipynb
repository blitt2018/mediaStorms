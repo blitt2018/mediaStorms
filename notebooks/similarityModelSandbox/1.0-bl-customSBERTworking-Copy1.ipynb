{
 "cells": [
  {
   "cell_type": "code",
   "execution_count": 34,
   "metadata": {},
   "outputs": [],
   "source": [
    "from tqdm.auto import tqdm\n",
    "import torch \n",
    "from transformers import DistilBertModel\n",
    "from transformers import DistilBertTokenizer\n",
    "from transformers import PreTrainedTokenizer\n",
    "from sentence_transformers import SentenceTransformer, SentencesDataset, InputExample, losses\n",
    "from datasets import Dataset\n",
    "import pandas as pd\n",
    "from transformers.optimization import get_linear_schedule_with_warmup\n",
    "import matplotlib.pyplot as plt \n",
    "import numpy as np\n",
    "from sentence_transformers import SentenceTransformer\n",
    "from transformers import AutoTokenizer, AutoModel\n",
    "from torch.nn import CosineEmbeddingLoss\n",
    "#Build up to SBERT model "
   ]
  },
  {
   "cell_type": "code",
   "execution_count": 35,
   "metadata": {},
   "outputs": [],
   "source": [
    "deviceNum = 3\n",
    "device = torch.device(\"cuda:\" + str(deviceNum) if torch.cuda.is_available() else \"cpu\")\n"
   ]
  },
  {
   "cell_type": "code",
   "execution_count": 36,
   "metadata": {},
   "outputs": [
    {
     "name": "stdout",
     "output_type": "stream",
     "text": [
      "torch.cuda.memory_allocated: 0.831375GB\n",
      "torch.cuda.memory_reserved: 0.916016GB\n",
      "torch.cuda.memory_free: 0.084641GB\n",
      "torch.cuda.max_memory_reserved: 0.916016GB\n"
     ]
    }
   ],
   "source": [
    "def check_mem():\n",
    "    torch.cuda.empty_cache()\n",
    "    a = torch.cuda.memory_allocated(deviceNum)/1024/1024/1024\n",
    "    r = torch.cuda.memory_reserved(deviceNum)/1024/1024/1024\n",
    "    print(\"torch.cuda.memory_allocated: %fGB\"%a)\n",
    "    print(\"torch.cuda.memory_reserved: %fGB\"%r)\n",
    "    print(\"torch.cuda.memory_free: %fGB\"%(r-a))\n",
    "    print(\"torch.cuda.max_memory_reserved: %fGB\"%(torch.cuda.max_memory_reserved(deviceNum)/1024/1024/1024))\n",
    "check_mem()"
   ]
  },
  {
   "cell_type": "code",
   "execution_count": 37,
   "metadata": {},
   "outputs": [],
   "source": [
    "#taken almost directly from: \n",
    "#https://www.pinecone.io/learn/train-sentence-transformers-softmax/"
   ]
  },
  {
   "cell_type": "code",
   "execution_count": 38,
   "metadata": {},
   "outputs": [],
   "source": [
    "#clear up memory \n",
    "\n",
    "#torch.manual_seed(0)"
   ]
  },
  {
   "cell_type": "code",
   "execution_count": 39,
   "metadata": {},
   "outputs": [],
   "source": [
    "df = pd.read_csv(\"/shared/3/projects/benlitterer/localNews/NetworkMVP/enTrainData.csv\", sep=\"\\t\")\n",
    "df = df.loc[(df[\"url1_lang\"] == \"en\") & (df[\"url2_lang\"] == \"en\")]\n",
    "\n",
    "#put ground truth values into a list \n",
    "df[\"ground_truth\"] = df['Overall']\n",
    "\n",
    "#get only the columns we need \n",
    "#TODO: do we need \"pair_id\"? \n",
    "leanDf = df[[\"ground_truth\",  'text1', 'text2']].dropna()\n",
    "\n",
    "#rescale data from (0, 4): (0, 1)\n",
    "leanDf[\"ground_truth\"] = 1 - ((leanDf[\"ground_truth\"] - 1) / 3)\n"
   ]
  },
  {
   "cell_type": "code",
   "execution_count": 40,
   "metadata": {},
   "outputs": [
    {
     "name": "stdout",
     "output_type": "stream",
     "text": [
      "['PORT-AU-PRINCE, Haiti — Haitian President Jovenel Moïse broke with tradition on Wednesday and celebrated the country’s independence day in the capital for security reasons following months of political turmoil', '\\n\\nMoïse, whose government has been accused of corruption, denounced graft during his speech at the National Palace in Port-au-Prince and urged Haiti’s elite to work with the government and help create employment', '\\n\\n“We’re still extremely poor,” he said', ' “Those who continue to get rich find it normal that they do not pay taxes, find it normal that there can be no competition, find it normal that they set prices for consumers, especially when this consumer is the state itself', '”\\n\\nMoïse also apologized for the country’s ongoing power outages and renewed his 2016 campaign pledge to provide electricity 24 hours a day, saying it was harder to accomplish than he imagined', '\\n\\nThe speech that marked the 216th anniversary of the world’s first black republic was originally slated to take place in the northern coastal town of Gonaives, where Jean-Jacques Dessalines declared Haiti’s independence', ' But the town, like many others, was hit by violent protests that began in September amid anger over corruption, fuel shortages and dwindling food supplies as opposition leaders and supporters demanded the resignation of Moïse', ' More than 40 people have been killed and dozens injured', '\\n\\nLarge-scale protests in Port-au-Prince have since dissipated, although smaller ones are still occurring elsewhere in the country', ' On Wednesday, opposition leaders and supporters gathered in Gonaives to attend the funeral of an anti-government protester and then carried his coffin through the streets as more protesters joined them', '\\n\\nCopyright 2020 The Associated Press', ' All rights reserved', ' This material may not be published, broadcast, rewritten or redistributed', '']\n"
     ]
    }
   ],
   "source": [
    "import re\n",
    "def getTopSentences(inStr):\n",
    "    print(re.split(\"[.!]\", inStr))\n",
    "testStr = leanDf.loc[0,\"text2\"]\n",
    "#print(testStr)\n",
    "getTopSentences(testStr)"
   ]
  },
  {
   "cell_type": "code",
   "execution_count": 41,
   "metadata": {},
   "outputs": [],
   "source": [
    "#get data loaded in properly \n",
    "dataset = Dataset.from_pandas(leanDf)"
   ]
  },
  {
   "cell_type": "code",
   "execution_count": 42,
   "metadata": {},
   "outputs": [],
   "source": [
    "#link: https://huggingface.co/sentence-transformers/all-mpnet-base-v2\n",
    "#example of tokenizing \n",
    "tokenizer = AutoTokenizer.from_pretrained('sentence-transformers/all-mpnet-base-v2')\n",
    "example = dataset[0][\"text1\"]\n",
    "first = tokenizer(example)"
   ]
  },
  {
   "cell_type": "code",
   "execution_count": 43,
   "metadata": {},
   "outputs": [
    {
     "data": {
      "application/vnd.jupyter.widget-view+json": {
       "model_id": "135173dd0bbb46719cf7022c9db9d233",
       "version_major": 2,
       "version_minor": 0
      },
      "text/plain": [
       "  0%|          | 0/1768 [00:00<?, ?ex/s]"
      ]
     },
     "metadata": {},
     "output_type": "display_data"
    },
    {
     "data": {
      "application/vnd.jupyter.widget-view+json": {
       "model_id": "c3b7244374d24a129792b5175966a1e8",
       "version_major": 2,
       "version_minor": 0
      },
      "text/plain": [
       "  0%|          | 0/1768 [00:00<?, ?ex/s]"
      ]
     },
     "metadata": {},
     "output_type": "display_data"
    }
   ],
   "source": [
    "all_cols = [\"ground_truth\"]\n",
    "\n",
    "for part in [\"text1\", \"text2\"]: \n",
    "    #tokenizes each row of the dataset and gives us back tuple of lists \n",
    "    dataset=dataset.map(lambda x: tokenizer(x[part], max_length=384, padding=\"max_length\", truncation=True))\n",
    "    \n",
    "    for col in ['input_ids', 'attention_mask']: \n",
    "        dataset = dataset.rename_column(\n",
    "            col, part+'_'+col\n",
    "        )\n",
    "        all_cols.append(part+'_'+col)"
   ]
  },
  {
   "cell_type": "code",
   "execution_count": 44,
   "metadata": {},
   "outputs": [
    {
     "data": {
      "text/plain": [
       "['ground_truth',\n",
       " 'text1_input_ids',\n",
       " 'text1_attention_mask',\n",
       " 'text2_input_ids',\n",
       " 'text2_attention_mask']"
      ]
     },
     "execution_count": 44,
     "metadata": {},
     "output_type": "execute_result"
    }
   ],
   "source": [
    "all_cols"
   ]
  },
  {
   "cell_type": "code",
   "execution_count": 45,
   "metadata": {},
   "outputs": [],
   "source": [
    "# convert dataset features to PyTorch tensors\n",
    "dataset.set_format(type='torch', columns=all_cols)\n"
   ]
  },
  {
   "cell_type": "code",
   "execution_count": 46,
   "metadata": {},
   "outputs": [
    {
     "name": "stdout",
     "output_type": "stream",
     "text": [
      "torch.cuda.memory_allocated: 0.831375GB\n",
      "torch.cuda.memory_reserved: 0.916016GB\n",
      "torch.cuda.memory_free: 0.084641GB\n",
      "torch.cuda.max_memory_reserved: 0.916016GB\n"
     ]
    }
   ],
   "source": [
    "check_mem()"
   ]
  },
  {
   "cell_type": "code",
   "execution_count": 47,
   "metadata": {},
   "outputs": [
    {
     "name": "stdout",
     "output_type": "stream",
     "text": [
      "total rows: 1768\n",
      "train rows: 1592\n",
      "validation rows: 176\n",
      "sum: 1768\n"
     ]
    }
   ],
   "source": [
    "length = len(dataset)\n",
    "print(\"total rows: \" + str(length))\n",
    "trainProp = .9\n",
    "\n",
    "validLen = int(length * (1-trainProp))\n",
    "trainLen = length - validLen\n",
    "print(\"train rows: \" + str(trainLen) + \"\\nvalidation rows: \" + str(validLen) + \"\\nsum: \" + str(trainLen + validLen))\n",
    "\n",
    "train, valid = torch.utils.data.random_split(dataset, [trainLen, validLen])"
   ]
  },
  {
   "cell_type": "code",
   "execution_count": 48,
   "metadata": {},
   "outputs": [],
   "source": [
    "\n",
    "\n",
    "# initialize the dataloader\n",
    "batch_size = 4\n",
    "trainLoader = torch.utils.data.DataLoader(\n",
    "    train, batch_size=batch_size, shuffle=True\n",
    ")\n",
    "validLoader = torch.utils.data.DataLoader(\n",
    "    valid, batch_size=1, shuffle=True\n",
    ")"
   ]
  },
  {
   "cell_type": "code",
   "execution_count": 49,
   "metadata": {},
   "outputs": [],
   "source": [
    "#Mean Pooling - Take attention mask into account for correct averaging\n",
    "def mean_pooling(token_embeddings, attention_mask):\n",
    "     #First element of model_output contains all token embeddings\n",
    "    #print(attention_mask.unsqueeze(-1).shape)\n",
    "    #print(token_embeddings.size())\n",
    "    input_mask_expanded = attention_mask.unsqueeze(-1).expand(token_embeddings.size()).float()\n",
    "    return torch.sum(token_embeddings * input_mask_expanded, 1) / torch.clamp(input_mask_expanded.sum(1), min=1e-9)\n"
   ]
  },
  {
   "cell_type": "code",
   "execution_count": 50,
   "metadata": {},
   "outputs": [],
   "source": [
    "# start from a pretrained bert-base-uncased model\n",
    "# TODO: consider something already trained for sentance similarity? \n",
    "#del model \n",
    "#model = SentenceTransformer('all-mpnet-base-v2', device=\"cuda:\" + str(deviceNum))\n",
    "#model = SentenceTransformer('sentence-transformers/all-mpnet-base-v2').to(device) \n",
    "model = AutoModel.from_pretrained('sentence-transformers/all-mpnet-base-v2').to(device)\n",
    "\n",
    "#TODO: double check on if reduction=\"mean\" is the right move here...\n",
    "#could cosine similarity also work..? I think that is between the two predicted vectors though.. \n",
    "loss_func = torch.nn.MSELoss(reduction=\"mean\")\n",
    "\n",
    "# we would initialize everything first\n",
    "optim = torch.optim.Adam(model.parameters(), lr=2e-5)\n",
    "# and setup a warmup for the first ~10% steps\n",
    "total_steps = int(len(dataset) / batch_size)\n",
    "warmup_steps = int(0.1 * total_steps)\n",
    "scheduler = get_linear_schedule_with_warmup(optim, num_warmup_steps=warmup_steps, num_training_steps=total_steps - warmup_steps)"
   ]
  },
  {
   "cell_type": "code",
   "execution_count": 51,
   "metadata": {},
   "outputs": [
    {
     "data": {
      "text/plain": [
       "tensor([[[ 9.6638e-02, -1.7067e-01,  7.6038e-03,  ...,  2.3386e-02,\n",
       "           1.0138e-01, -4.2516e-02],\n",
       "         [ 6.8078e-02, -1.5394e-01, -1.2517e-01,  ..., -1.1160e-02,\n",
       "           1.1047e-02, -1.3179e-03],\n",
       "         [ 1.5145e-02, -3.7817e-01, -1.0184e-01,  ..., -8.7419e-02,\n",
       "           1.0200e-01,  7.7285e-02],\n",
       "         ...,\n",
       "         [ 1.0243e-01, -3.4813e-01, -8.4518e-02,  ..., -1.1049e-01,\n",
       "           8.5594e-02, -4.6411e-02],\n",
       "         [-2.5399e-02,  7.7970e-03, -4.4150e-02,  ...,  9.5833e-02,\n",
       "          -6.1752e-02, -6.1012e-03],\n",
       "         [ 1.1801e-01, -1.2156e-01,  2.4940e-02,  ..., -9.5820e-03,\n",
       "           1.4038e-01, -3.2524e-02]],\n",
       "\n",
       "        [[ 1.2760e-01,  2.1539e-02, -4.1318e-02,  ..., -1.0661e-01,\n",
       "          -1.9259e-01, -5.4022e-03],\n",
       "         [ 1.4989e-01, -7.3530e-03, -9.6599e-02,  ..., -8.0247e-02,\n",
       "          -3.2525e-01, -1.0308e-04],\n",
       "         [ 2.1020e-01,  7.2042e-02, -3.7894e-02,  ...,  3.0247e-02,\n",
       "          -3.0968e-01,  1.3309e-02],\n",
       "         ...,\n",
       "         [ 9.5321e-02,  2.8475e-02, -4.2992e-03,  ..., -1.0701e-01,\n",
       "          -6.1208e-02,  1.5411e-02],\n",
       "         [ 1.2539e-01,  3.0186e-02, -3.1345e-02,  ..., -1.0506e-01,\n",
       "          -1.5439e-01, -4.9187e-02],\n",
       "         [ 1.1011e-01,  1.6679e-01, -8.9297e-02,  ..., -9.9172e-02,\n",
       "          -2.4063e-01, -3.6911e-02]]], device='cuda:3',\n",
       "       grad_fn=<NativeLayerNormBackward0>)"
      ]
     },
     "execution_count": 51,
     "metadata": {},
     "output_type": "execute_result"
    }
   ],
   "source": [
    "#For testing \n",
    "sentences = ['This is an example sentence', 'Each sentence is converted']\n",
    "encoded_input = tokenizer(sentences, padding=True, truncation=True, return_tensors='pt')\n",
    "model_output = model(encoded_input[\"input_ids\"].to(device), encoded_input[\"attention_mask\"].to(device))\n",
    "sentence_embeddings = mean_pooling(model_output[0], encoded_input['attention_mask'].to(device))\n",
    "model_output[0]"
   ]
  },
  {
   "cell_type": "code",
   "execution_count": 52,
   "metadata": {},
   "outputs": [
    {
     "data": {
      "text/plain": [
       "torch.Size([2, 7])"
      ]
     },
     "execution_count": 52,
     "metadata": {},
     "output_type": "execute_result"
    }
   ],
   "source": [
    "encoded_input[\"input_ids\"].size()"
   ]
  },
  {
   "cell_type": "code",
   "execution_count": 53,
   "metadata": {},
   "outputs": [
    {
     "name": "stdout",
     "output_type": "stream",
     "text": [
      "[0.7593948136311601, 0.9205664999205727, 0.8863416070394171]\n"
     ]
    }
   ],
   "source": [
    "dummyPreds = [[3, 1, 9], [8, 9, 10], [2, 4, 1], [10, 10, 9]]\n",
    "dummyGT = [[2, 2, 6], [12, 5, 8], [3, 3, 3], [7, 8, 9]]\n",
    "\n",
    "def getCorr(inPreds, inGT): \n",
    "    inPreds = np.array(inPreds)\n",
    "    inGT = np.array(inGT)\n",
    "    corrList = []\n",
    "    for col in range(inPreds.shape[1]): \n",
    "        corr = np.corrcoef(inPreds[:,col], inGT[:,col])[0][1]\n",
    "        corrList.append(corr)\n",
    "    return corrList\n",
    "\n",
    "print(getCorr(dummyPreds, dummyGT))"
   ]
  },
  {
   "cell_type": "code",
   "execution_count": 54,
   "metadata": {},
   "outputs": [
    {
     "name": "stdout",
     "output_type": "stream",
     "text": [
      "torch.cuda.memory_allocated: 1.245931GB\n",
      "torch.cuda.memory_reserved: 1.363281GB\n",
      "torch.cuda.memory_free: 0.117350GB\n",
      "torch.cuda.max_memory_reserved: 1.363281GB\n"
     ]
    }
   ],
   "source": [
    "check_mem()"
   ]
  },
  {
   "cell_type": "code",
   "execution_count": 55,
   "metadata": {},
   "outputs": [
    {
     "data": {
      "text/plain": [
       "tensor([[-0.0147,  0.0549,  0.0246,  ..., -0.0356, -0.0956,  0.0045],\n",
       "        [-0.0133,  0.1922,  0.0129,  ..., -0.0593, -0.0644, -0.0343]],\n",
       "       device='cuda:3', grad_fn=<DivBackward0>)"
      ]
     },
     "execution_count": 55,
     "metadata": {},
     "output_type": "execute_result"
    }
   ],
   "source": [
    "ids = dataset[:2][\"text1_input_ids\"].to(device)\n",
    "attn_mask = dataset[:2][\"text1_attention_mask\"].to(device)\n",
    "test = model(ids, attn_mask)[0]\n",
    "mean_pooling(test, attn_mask)\n",
    "\n"
   ]
  },
  {
   "cell_type": "code",
   "execution_count": 56,
   "metadata": {},
   "outputs": [],
   "source": [
    "def validation(): \n",
    "    model.eval()\n",
    "    vLossList = []\n",
    "    vPred = []\n",
    "    vGT = []\n",
    "\n",
    "    for vBatch in validLoader: \n",
    "        # prepare batches and more all to the active device\n",
    "        vInputs_ids_a = vBatch['text1_input_ids'].to(device)\n",
    "        vInputs_ids_b = vBatch['text2_input_ids'].to(device)\n",
    "        vAttention_a = vBatch['text1_attention_mask'].to(device)\n",
    "        vAttention_b = vBatch['text2_attention_mask'].to(device)\n",
    "\n",
    "        #print(vInputs_ids_a)\n",
    "        #print(vInputs_ids_b)\n",
    "        #ground truth labels need to go to device as well \n",
    "        vLabel = vBatch['ground_truth'].to(device)\n",
    "\n",
    "        # extract token embeddings from BERT\n",
    "        u = model(\n",
    "            vInputs_ids_a, attention_mask=vAttention_a\n",
    "        )[0]  # all token embeddings A\n",
    "\n",
    "        v = model(\n",
    "            vInputs_ids_b, attention_mask=vAttention_b\n",
    "        )[0]  # all token embeddings B\n",
    "\n",
    "        # get the mean pooled vectors\n",
    "        u = mean_pooling(u, vAttention_a)\n",
    "        v = mean_pooling(v, vAttention_b)\n",
    "        \n",
    "        # process concatenated tensor through FFNN\n",
    "        #valX = ffnn(valX)\n",
    "        vPredSim = cos(u, v)\n",
    "        #print(vPredSim)\n",
    "        vLoss = loss_func(vPredSim, vLabel)\n",
    "        vLossList.append(vLoss.item())\n",
    "\n",
    "        #get predictions and ground truth to compute training metrics with \n",
    "        vPred.append(float(vPredSim))\n",
    "        vGT.append(float(vLabel))\n",
    "        \n",
    "    #print(vGT)\n",
    "    return [vLossList, vPred, vGT]\n",
    "        "
   ]
  },
  {
   "cell_type": "code",
   "execution_count": 24,
   "metadata": {},
   "outputs": [
    {
     "data": {
      "application/vnd.jupyter.widget-view+json": {
       "model_id": "13e4024ad89b43ffaaf3ef7eb7add701",
       "version_major": 2,
       "version_minor": 0
      },
      "text/plain": [
       "  0%|          | 0/315 [00:00<?, ?it/s]"
      ]
     },
     "metadata": {},
     "output_type": "display_data"
    }
   ],
   "source": [
    "cos = torch.nn.CosineSimilarity(dim=1, eps=1e-6)\n",
    "trainDict = {}\n",
    "lossList = []\n",
    "validMetrics = []\n",
    "# increase from 1 epoch if need be \n",
    "for epoch in range(1):\n",
    "    \n",
    "    model.train()  # make sure model is in training mode\n",
    "    \n",
    "    # initialize the dataloader loop with tqdm (tqdm == progress bar)\n",
    "    loop = tqdm(trainLoader, leave=True)\n",
    "    \n",
    "    for i, batch in enumerate(loop): \n",
    "        # zero all gradients on each new step\n",
    "        optim.zero_grad()\n",
    "\n",
    "        # prepare batches and more all to the active device\n",
    "        inputs_ids_a = batch['text1_input_ids'].to(device)\n",
    "        inputs_ids_b = batch['text2_input_ids'].to(device)\n",
    "        attention_a = batch['text1_attention_mask'].to(device)\n",
    "        attention_b = batch['text2_attention_mask'].to(device)\n",
    "\n",
    "        #ground truth labels need to go to device as well \n",
    "        label = batch['ground_truth'].to(device)\n",
    "\n",
    "        # extract token embeddings from BERT\n",
    "        u = model(\n",
    "            inputs_ids_a, attention_mask=attention_a\n",
    "        )[0]  # all token embeddings A\n",
    "\n",
    "        v = model(\n",
    "            inputs_ids_b, attention_mask=attention_b\n",
    "        )[0]  # all token embeddings B\n",
    "\n",
    "\n",
    "        # get the mean pooled vectors\n",
    "        u = mean_pooling(u, attention_a)\n",
    "        v = mean_pooling(v, attention_b)\n",
    "\n",
    "        predSim = cos(u, v) \n",
    "        #print(predSim)\n",
    "        # calculate the 'MSE-loss' between predicted and true label\n",
    "        loss = loss_func(predSim, label)\n",
    "\n",
    "        # using loss, calculate gradients and then optimize\n",
    "        loss.backward()\n",
    "        optim.step()\n",
    "\n",
    "        if i % 50 == 0: \n",
    "            validMetrics.append(validation())\n",
    "            \n",
    "        model.train()\n",
    "        lossList.append(float(loss.item()))\n",
    "        # update learning rate scheduler\n",
    "        scheduler.step()\n",
    "\n",
    "        # update the TDQM progress bar\n",
    "        loop.set_description(f'Epoch {epoch}')\n",
    "        loop.set_postfix(loss=loss.item())"
   ]
  },
  {
   "cell_type": "code",
   "execution_count": 25,
   "metadata": {},
   "outputs": [
    {
     "name": "stdout",
     "output_type": "stream",
     "text": [
      "[[1.         0.78161605]\n",
      " [0.78161605 1.        ]]\n",
      "[[1.         0.80541935]\n",
      " [0.80541935 1.        ]]\n",
      "[[1.         0.80933428]\n",
      " [0.80933428 1.        ]]\n",
      "[[1.         0.81963648]\n",
      " [0.81963648 1.        ]]\n",
      "[[1.         0.82078225]\n",
      " [0.82078225 1.        ]]\n",
      "[[1.         0.81712317]\n",
      " [0.81712317 1.        ]]\n",
      "[[1.         0.81934707]\n",
      " [0.81934707 1.        ]]\n"
     ]
    },
    {
     "data": {
      "text/plain": [
       "<matplotlib.collections.PathCollection at 0x7f5e7cd7e910>"
      ]
     },
     "execution_count": 25,
     "metadata": {},
     "output_type": "execute_result"
    },
    {
     "data": {
      "image/png": "[encoded data removed]",
      "text/plain": [
       "<Figure size 432x288 with 1 Axes>"
      ]
     },
     "metadata": {
      "needs_background": "light"
     },
     "output_type": "display_data"
    }
   ],
   "source": [
    "validArr = np.array(validMetrics)\n",
    "#print(validArr.shape)\n",
    "\n",
    "test = validArr[1,:,:]\n",
    "#np.corrcoef(test[1], test[2])\n",
    "\n",
    "#go through each validation step\n",
    "for i in range(validArr.shape[0]): \n",
    "    subDf = pd.DataFrame(validArr[i].T)\n",
    "    subDf.columns = [\"loss\", \"pred\", \"true\"]\n",
    "    corr = np.corrcoef(subDf[\"pred\"], subDf[\"true\"])\n",
    "    print(corr)\n",
    "    \n",
    "plt.scatter(subDf[\"true\"], subDf[\"pred\"])"
   ]
  },
  {
   "cell_type": "code",
   "execution_count": 26,
   "metadata": {},
   "outputs": [
    {
     "data": {
      "text/plain": [
       "[<matplotlib.lines.Line2D at 0x7f5e7cea78e0>]"
      ]
     },
     "execution_count": 26,
     "metadata": {},
     "output_type": "execute_result"
    },
    {
     "data": {
      "image/png": "[encoded data removed]",
      "text/plain": [
       "<Figure size 432x288 with 1 Axes>"
      ]
     },
     "metadata": {
      "needs_background": "light"
     },
     "output_type": "display_data"
    }
   ],
   "source": [
    "plt.plot(lossList)"
   ]
  },
  {
   "cell_type": "code",
   "execution_count": null,
   "metadata": {},
   "outputs": [],
   "source": [
    "#check memory \n",
    "t = torch.cuda.mem_get_info()\n",
    "\n",
    "used = torch.cuda.memory_allocated(device=\"cuda:4\")\n",
    "#proportion of free memory \n",
    "#print(\"used: \" used / t[1])\n",
    "print(\"used: \" + str(t[0]/t[1]))"
   ]
  },
  {
   "cell_type": "code",
   "execution_count": null,
   "metadata": {},
   "outputs": [],
   "source": [
    "trainDf = pd.DataFrame.from_dict(trainDict, orient=\"index\")\n",
    "trainDf.head(3)"
   ]
  },
  {
   "cell_type": "code",
   "execution_count": null,
   "metadata": {},
   "outputs": [],
   "source": [
    "fig, axs = plt.subplots(1,2, figsize=[14,4])\n",
    "axs[0].plot(trainDf[\"trainLoss\"])\n",
    "axs[0].set_title(\"Train Loss\", size=14)\n",
    "axs[0].set_ylabel(\"MSE Loss\",size=14)\n",
    "axs[0].set_xlabel(\"batch\",size=14)\n",
    "\n",
    "axs[1].plot(trainDf.dropna()[\"testLoss\"])\n",
    "axs[1].set_title(\"Validation Loss\",size=14)\n",
    "axs[1].set_ylabel(\"MSE Loss\",size=14)\n",
    "axs[1].set_xlabel(\"batch\",size=14)"
   ]
  },
  {
   "cell_type": "code",
   "execution_count": null,
   "metadata": {},
   "outputs": [],
   "source": []
  },
  {
   "cell_type": "code",
   "execution_count": null,
   "metadata": {},
   "outputs": [],
   "source": [
    "print(x)\n",
    "print(label)\n",
    "print()"
   ]
  },
  {
   "cell_type": "code",
   "execution_count": null,
   "metadata": {},
   "outputs": [],
   "source": [
    "loss_func(x, label)"
   ]
  },
  {
   "cell_type": "code",
   "execution_count": null,
   "metadata": {},
   "outputs": [],
   "source": [
    "plt.plot(trainDf[\"testLoss\"].dropna())"
   ]
  },
  {
   "cell_type": "code",
   "execution_count": null,
   "metadata": {},
   "outputs": [],
   "source": [
    "valX"
   ]
  },
  {
   "cell_type": "code",
   "execution_count": null,
   "metadata": {},
   "outputs": [],
   "source": [
    "vLabel"
   ]
  },
  {
   "cell_type": "code",
   "execution_count": null,
   "metadata": {},
   "outputs": [],
   "source": [
    "x"
   ]
  },
  {
   "cell_type": "code",
   "execution_count": null,
   "metadata": {},
   "outputs": [],
   "source": [
    "label"
   ]
  },
  {
   "cell_type": "code",
   "execution_count": null,
   "metadata": {},
   "outputs": [],
   "source": []
  }
 ],
 "metadata": {
  "kernelspec": {
   "display_name": "Python 3",
   "language": "python",
   "name": "python3"
  },
  "language_info": {
   "codemirror_mode": {
    "name": "ipython",
    "version": 3
   },
   "file_extension": ".py",
   "mimetype": "text/x-python",
   "name": "python",
   "nbconvert_exporter": "python",
   "pygments_lexer": "ipython3",
   "version": "3.8.5"
  }
 },
 "nbformat": 4,
 "nbformat_minor": 4
}
