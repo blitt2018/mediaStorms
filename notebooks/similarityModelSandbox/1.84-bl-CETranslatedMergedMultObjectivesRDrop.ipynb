{
 "cells": [
  {
   "cell_type": "markdown",
   "metadata": {},
   "source": [
    "## News Article Similarity Modelling\n",
    "- Cross encoding \n",
    "- Translated data \n",
    "- Using Title "
   ]
  },
  {
   "cell_type": "code",
   "execution_count": 1,
   "metadata": {},
   "outputs": [],
   "source": [
    "from tqdm.auto import tqdm\n",
    "import torch \n",
    "import random\n",
    "from torch import nn\n",
    "from transformers import RobertaTokenizer, PreTrainedTokenizer, DistilBertTokenizer, DistilBertModel, RobertaModel\n",
    "from sentence_transformers import SentenceTransformer, SentencesDataset, InputExample, losses\n",
    "from datasets import Dataset\n",
    "import pandas as pd\n",
    "from transformers.optimization import get_linear_schedule_with_warmup\n",
    "import matplotlib.pyplot as plt \n",
    "import numpy as np\n",
    "from sentence_transformers import SentenceTransformer\n",
    "from transformers import AutoTokenizer, AutoModel\n",
    "from torch.nn import CosineEmbeddingLoss\n",
    "import transformers\n",
    "import seaborn as sns\n",
    "#Build up to SBERT model "
   ]
  },
  {
   "cell_type": "code",
   "execution_count": 2,
   "metadata": {},
   "outputs": [],
   "source": [
    "deviceNum = 2\n",
    "device = torch.device(\"cuda:\" + str(deviceNum) if torch.cuda.is_available() else \"cpu\")"
   ]
  },
  {
   "cell_type": "code",
   "execution_count": 3,
   "metadata": {},
   "outputs": [],
   "source": [
    "GRAD_ACC = 6\n",
    "EPOCHS = 3\n",
    "FOLDS = 5\n",
    "SEED = 85\n",
    "RDROP_WEIGHT = .1\n",
    "FORWARD_WEIGHT = (1 - RDROP_WEIGHT) / 2\n",
    "BATCH_SIZE = 5"
   ]
  },
  {
   "cell_type": "code",
   "execution_count": 4,
   "metadata": {},
   "outputs": [
    {
     "name": "stdout",
     "output_type": "stream",
     "text": [
      "torch.cuda.memory_allocated: 0.000000GB\n",
      "torch.cuda.memory_reserved: 0.000000GB\n",
      "torch.cuda.memory_free: 0.000000GB\n",
      "torch.cuda.max_memory_reserved: 0.000000GB\n"
     ]
    }
   ],
   "source": [
    "def check_mem():\n",
    "    torch.cuda.empty_cache()\n",
    "    a = torch.cuda.memory_allocated(deviceNum)/1024/1024/1024\n",
    "    r = torch.cuda.memory_reserved(deviceNum)/1024/1024/1024\n",
    "    print(\"torch.cuda.memory_allocated: %fGB\"%a)\n",
    "    print(\"torch.cuda.memory_reserved: %fGB\"%r)\n",
    "    print(\"torch.cuda.memory_free: %fGB\"%(r-a))\n",
    "    print(\"torch.cuda.max_memory_reserved: %fGB\"%(torch.cuda.max_memory_reserved(deviceNum)/1024/1024/1024))\n",
    "check_mem()"
   ]
  },
  {
   "cell_type": "code",
   "execution_count": 5,
   "metadata": {},
   "outputs": [],
   "source": [
    "#set seeds \n",
    "torch.manual_seed(85)\n",
    "random.seed(85)\n",
    "torch.backends.cudnn.deterministic = False"
   ]
  },
  {
   "cell_type": "code",
   "execution_count": 6,
   "metadata": {},
   "outputs": [
    {
     "name": "stdout",
     "output_type": "stream",
     "text": [
      "tensor([2., 2., 2., 2., 2., 2., 0., 2., 2., 0., 0., 2., 0., 2., 0., 2., 0., 2.,\n",
      "        0., 0., 2., 0., 0., 0., 0., 2., 0., 0., 0., 2., 2., 0., 2., 0., 0., 2.,\n",
      "        2., 0., 2., 2., 0., 2., 0., 0., 2., 0., 0., 2., 0., 2., 2., 2., 2., 0.,\n",
      "        2., 0., 2., 0., 2., 2., 2., 0., 0., 0., 2., 0., 2., 2., 0., 2., 0., 0.,\n",
      "        2., 2., 2., 2., 0., 0., 2., 2., 0., 2., 0., 2., 0., 2., 0., 2., 0., 0.,\n",
      "        2., 2., 2., 0., 0., 2., 2., 0., 2., 2., 0., 2., 2., 0., 2., 2., 0., 2.,\n",
      "        0., 2., 0., 0., 0., 2., 0., 2., 0., 0., 2., 2., 0., 0., 2., 0., 0., 2.,\n",
      "        2., 0., 0., 2., 2., 0., 2., 0., 0., 0., 0., 0., 2., 0., 2., 2., 0., 2.,\n",
      "        0., 0., 0., 0., 0., 2., 0., 2., 0., 0., 2., 0., 0., 0., 2., 0., 0., 0.,\n",
      "        0., 0., 2., 0., 0., 0., 2., 2., 2., 0., 0., 0., 2., 0., 2., 0., 2., 0.,\n",
      "        0., 2., 0., 0., 0., 2., 0., 0., 2., 2., 2., 0., 0., 2., 0., 0., 2., 2.,\n",
      "        0., 0.])\n",
      "tensor([0., 2., 0., 2., 0., 0., 2., 2., 2., 2., 2., 0., 0., 0., 2., 0., 2., 2.,\n",
      "        2., 2., 2., 0., 2., 2., 2., 0., 2., 0., 0., 0., 2., 2., 2., 0., 2., 2.,\n",
      "        0., 0., 2., 0., 0., 0., 2., 0., 2., 0., 2., 2., 2., 2., 2., 2., 0., 2.,\n",
      "        2., 0., 0., 0., 0., 2., 2., 0., 2., 2., 0., 0., 2., 2., 0., 0., 0., 0.,\n",
      "        0., 0., 0., 2., 2., 2., 0., 2., 0., 2., 2., 0., 0., 0., 2., 2., 0., 2.,\n",
      "        2., 2., 0., 2., 2., 2., 0., 0., 0., 2., 2., 0., 0., 2., 0., 2., 2., 0.,\n",
      "        0., 2., 0., 2., 2., 2., 0., 0., 0., 2., 0., 0., 0., 0., 0., 0., 2., 0.,\n",
      "        0., 0., 0., 0., 0., 0., 0., 0., 2., 2., 2., 0., 2., 0., 0., 0., 0., 0.,\n",
      "        0., 2., 0., 2., 2., 2., 0., 2., 2., 0., 0., 2., 0., 0., 0., 2., 0., 0.,\n",
      "        0., 0., 2., 0., 0., 0., 2., 0., 2., 2., 2., 0., 2., 2., 0., 0., 0., 0.,\n",
      "        2., 0., 0., 0., 2., 0., 0., 2., 0., 2., 2., 0., 2., 0., 0., 2., 2., 2.,\n",
      "        0., 2.])\n"
     ]
    }
   ],
   "source": [
    "#test dropout \n",
    "ones = torch.ones(200)\n",
    "dropout = nn.Dropout(.5)\n",
    "GELU = nn.GELU()\n",
    "print(dropout(ones))\n",
    "print(dropout(ones))\n"
   ]
  },
  {
   "cell_type": "code",
   "execution_count": 7,
   "metadata": {},
   "outputs": [],
   "source": [
    "df = pd.read_csv(\"/home/blitt/projects/localNews/data/processed/translated_200_56.tsv\", sep=\"\\t\")\n",
    "#df = df.loc[(df[\"url1_lang\"] == \"en\") & (df[\"url2_lang\"] == \"en\")]\n",
    "\n",
    "groundTruths = [\"Geography\", \"Entities\",\"Time\", \"Narrative\", \"Overall\"]\n",
    "features = ['text1Merged', 'text2Merged','url1_lang', 'url2_lang']\n",
    "toSelect = groundTruths + features \n",
    "\n",
    "#get only the columns we need \n",
    "#TODO: do we need \"pair_id\"? \n",
    "leanDf = df[toSelect].dropna()\n",
    "\n",
    "#rescale data from (0, 4): (0, 1)\n",
    "for colName in groundTruths: \n",
    "    leanDf[colName] = 1 - ((leanDf[colName] - 1) / 3)\n",
    "\n",
    "#reset index so it is contiguous set of numbers \n",
    "leanDf = leanDf.reset_index(drop=True)\n"
   ]
  },
  {
   "cell_type": "code",
   "execution_count": 8,
   "metadata": {},
   "outputs": [],
   "source": [
    "class Model(nn.Module): \n",
    "    def __init__(self):\n",
    "        super(Model,self).__init__()\n",
    "        self.model = RobertaModel.from_pretrained('roberta-base')\n",
    "        self.l1 = nn.Linear(768, 5).to(device)\n",
    "        self.dropout = nn.Dropout(.5)\n",
    "        self.loss_func = torch.nn.MSELoss(reduction=\"mean\")\n",
    "        \n",
    "    def mean_pooling(self, token_embeddings, attention_mask): \n",
    "        input_mask_expanded = attention_mask.unsqueeze(-1).expand(token_embeddings.size()).float()\n",
    "        return torch.sum(token_embeddings * input_mask_expanded, 1) / torch.clamp(input_mask_expanded.sum(1), min=1e-9)\n",
    "\n",
    "    def forward(self, input_ids, attention_mask): \n",
    "        \n",
    "        #encode sentence and get mean pooled sentence representation \n",
    "        encoding = self.model(input_ids, attention_mask=attention_mask)[0]  #all token embeddings\n",
    "        meanPooled = self.mean_pooling(encoding, attention_mask)\n",
    "       \n",
    "        pred1 = self.l1(meanPooled)\n",
    "        \n",
    "        encoding = self.model(input_ids, attention_mask=attention_mask)[0]  #all token embeddings\n",
    "        meanPooled = self.mean_pooling(encoding, attention_mask)\n",
    "       \n",
    "        #pred2 = self.l2(self.dropout(self.l1(meanPooled)))\n",
    "        pred2 = self.l1(meanPooled)\n",
    "\n",
    "        return [pred1, pred2]\n"
   ]
  },
  {
   "cell_type": "code",
   "execution_count": 9,
   "metadata": {},
   "outputs": [],
   "source": [
    "\"\"\"\n",
    "Get the loss across multiple different objectives. \n",
    "Since overall is most important it gets more weight. \n",
    "\"\"\"\n",
    "def getWeightedLoss(predTens, gtTens):\n",
    "    loss_func = torch.nn.MSELoss(reduction=\"mean\")\n",
    "    #try getting rid of Tone and Style \n",
    "    LOSS_WEIGHTS = [.1, .1, .1, .1, .6]\n",
    "    loss = 0.0\n",
    "    for i in range(len(LOSS_WEIGHTS)): \n",
    "        \n",
    "        #get ground truth value associated with this column name \n",
    "        currGT = gtTens[:, :, i]\n",
    "        \n",
    "        #TODO: figure out how to index properly here \n",
    "        pred = predTens[:, :, i]\n",
    "        \n",
    "        #get loss \n",
    "        loss += (loss_func(pred, currGT) * LOSS_WEIGHTS[i])\n",
    "    return loss "
   ]
  },
  {
   "cell_type": "code",
   "execution_count": 10,
   "metadata": {},
   "outputs": [],
   "source": [
    "def validation(model, validLoader, loss_func): \n",
    "    model.eval()\n",
    "    lossList = []\n",
    "    predList = []\n",
    "    GT = []\n",
    "    \n",
    "    i = True \n",
    "    for index, batch in enumerate(validLoader): \n",
    "\n",
    "        # prepare batches and more all to the active device\n",
    "        input_ids = batch['input_ids'].to(device)\n",
    "        attention_mask = batch['attention_mask'].to(device)\n",
    "        #label = batch['ground_truth'].to(device).unsqueeze(1)\n",
    "\n",
    "        #send batch info through model \n",
    "        pred1, pred2 = model(input_ids, attention_mask)\n",
    "        pred1, pred2 = pred1.unsqueeze(0), pred2.unsqueeze(0)\n",
    "        \n",
    "        #get ground truths \n",
    "        gts = torch.stack([batch[colName] for colName in groundTruths], 0).to(device).T.unsqueeze(0)\n",
    "        \n",
    "        #get weighted loss relating to label prediction \n",
    "        loss1 = getWeightedLoss(gts, pred1) * FORWARD_WEIGHT \n",
    "        loss2 = getWeightedLoss(gts, pred2) * FORWARD_WEIGHT\n",
    "        loss_r = getWeightedLoss(pred1, pred2) * RDROP_WEIGHT\n",
    "        loss = (loss1 + loss2 + loss_r) / GRAD_ACC\n",
    "        \n",
    "        #get output metrics \n",
    "        #does it matter that we only evaluate on pred1? \n",
    "        lossList.append(loss.detach().cpu().item())\n",
    "        predList.append([float(item) for item in list(pred1.detach().cpu().squeeze())])\n",
    "        GT.append([float(item) for item in list(gts.detach().cpu().squeeze())])\n",
    "        \n",
    "        del pred1, pred2, gts, loss\n",
    "    #print(vGT)\n",
    "    return [lossList, predList, GT]\n",
    "        "
   ]
  },
  {
   "cell_type": "code",
   "execution_count": 11,
   "metadata": {},
   "outputs": [],
   "source": [
    "#set up relevant variables \n",
    "def train(trainDataset, validDataset): \n",
    "    torch.cuda.empty_cache()\n",
    "    #get loaders \n",
    "    trainLoader = torch.utils.data.DataLoader(\n",
    "        trainDataset, batch_size=BATCH_SIZE, shuffle=True\n",
    "    )\n",
    "    validLoader = torch.utils.data.DataLoader(\n",
    "        validDataset, batch_size=1, shuffle=True\n",
    "    )\n",
    "    \n",
    "    trainLen = len(trainDataset)\n",
    "\n",
    "    #load the model \n",
    "    model = Model().to(device)\n",
    "\n",
    "    #TODO: double check on if reduction=\"mean\" is the right move here...\n",
    "    #could cosine similarity also work..? I think that is between the two predicted vectors though.. \n",
    "    loss_func = torch.nn.MSELoss(reduction=\"mean\")\n",
    "\n",
    "    # we would initialize everything first\n",
    "    optim = torch.optim.Adam(model.parameters(), lr=2e-5)\n",
    "\n",
    "    #set up scheduler\n",
    "    # and setup a warmup for the first ~10% steps\n",
    "    total_steps = int((trainLen*EPOCHS) / BATCH_SIZE)\n",
    "    warmup_steps = int(0.1 * total_steps)\n",
    "    scheduler = get_linear_schedule_with_warmup(optim, num_warmup_steps=warmup_steps, num_training_steps=total_steps - warmup_steps)\n",
    "    \n",
    "    \n",
    "    #now run training loop \n",
    "    lossList = []\n",
    "    validMetrics = []\n",
    "    subLossList = []\n",
    "    \n",
    "    # increase from 1 epoch if need be \n",
    "    for epoch in range(EPOCHS):\n",
    "        torch.cuda.empty_cache()\n",
    "        model.train()  # make sure model is in training mode\n",
    "\n",
    "        # initialize the dataloader loop with tqdm (tqdm == progress bar)\n",
    "        loop = tqdm(trainLoader, leave=True)\n",
    "\n",
    "        validMetrics.append(validation(model, validLoader, loss_func))\n",
    "        model.train()\n",
    "\n",
    "        for i, batch in enumerate(loop): \n",
    "            # zero all gradients on each new step\n",
    "            optim.zero_grad()\n",
    "\n",
    "            # prepare batches and more all to the active device\n",
    "            input_ids = batch['input_ids'].to(device)\n",
    "            attention_mask = batch[\"attention_mask\"].to(device)\n",
    "           \n",
    "            #send batch info through model \n",
    "            pred1, pred2 = model(input_ids, attention_mask)\n",
    "            pred1, pred2 = pred1.unsqueeze(0), pred2.unsqueeze(0)\n",
    "\n",
    "            #get gts \n",
    "            gts = torch.stack([batch[colName] for colName in groundTruths], 0).T.to(device).unsqueeze(0)\n",
    "        \n",
    "            #get weighted loss relating to label prediction \n",
    "            loss1 = getWeightedLoss(gts, pred1) * FORWARD_WEIGHT \n",
    "            loss2 = getWeightedLoss(gts, pred2) * FORWARD_WEIGHT\n",
    "            loss_r = getWeightedLoss(pred1, pred2) * RDROP_WEIGHT\n",
    "            loss = (loss1 + loss2 + loss_r) / GRAD_ACC\n",
    "            \n",
    "            # using loss, calculate gradients and then optimize\n",
    "            loss.backward()\n",
    "            optim.step()\n",
    "\n",
    "            #get mean loss over last 20 batches \n",
    "            if i % 20 == 0: \n",
    "                lossList.append(np.mean(subLossList))\n",
    "                subLossList = []\n",
    "                pass\n",
    "\n",
    "            subLossList.append(float(loss.detach().item()))\n",
    "        \n",
    "            # update learning rate scheduler\n",
    "            scheduler.step()\n",
    "\n",
    "            # update the TDQM progress bar\n",
    "            loop.set_description(f'Epoch {epoch}')\n",
    "            loop.set_postfix(loss=loss.item())\n",
    "            del loss \n",
    "        print(\"torch.cuda.memory_allocated: %fGB\"%(torch.cuda.memory_allocated(0)/1024/1024/1024))\n",
    "        print(\"torch.cuda.memory_reserved: %fGB\"%(torch.cuda.memory_reserved(0)/1024/1024/1024))\n",
    "        print(\"torch.cuda.max_memory_reserved: %fGB\"%(torch.cuda.max_memory_reserved(0)/1024/1024/1024))\n",
    "\n",
    "    validMetrics.append(validation(model, validLoader, loss_func))\n",
    "    return validMetrics \n",
    "    del model\n",
    "    del trainLoader\n",
    "    del validLoader"
   ]
  },
  {
   "cell_type": "code",
   "execution_count": 12,
   "metadata": {},
   "outputs": [],
   "source": [
    "from sklearn.model_selection import KFold\n",
    "kf = KFold(n_splits=FOLDS, shuffle=True)"
   ]
  },
  {
   "cell_type": "code",
   "execution_count": null,
   "metadata": {},
   "outputs": [
    {
     "name": "stdout",
     "output_type": "stream",
     "text": [
      "Total df len: 4806\n",
      "English df len: 1738\n",
      "###### 0 ######\n",
      "Train df len: 4458\n",
      "Valid df len: 348\n"
     ]
    },
    {
     "data": {
      "application/vnd.jupyter.widget-view+json": {
       "model_id": "00a6860ec0fc41228efb53b2d93d0056",
       "version_major": 2,
       "version_minor": 0
      },
      "text/plain": [
       "  0%|          | 0/4458 [00:00<?, ?ex/s]"
      ]
     },
     "metadata": {},
     "output_type": "display_data"
    },
    {
     "data": {
      "application/vnd.jupyter.widget-view+json": {
       "model_id": "8aa0da04c23d4b8fae5b5eef4f246164",
       "version_major": 2,
       "version_minor": 0
      },
      "text/plain": [
       "  0%|          | 0/348 [00:00<?, ?ex/s]"
      ]
     },
     "metadata": {},
     "output_type": "display_data"
    },
    {
     "data": {
      "application/vnd.jupyter.widget-view+json": {
       "model_id": "fcbafe37ee4d4bab82abe1fddb5c55e5",
       "version_major": 2,
       "version_minor": 0
      },
      "text/plain": [
       "  0%|          | 0/892 [00:00<?, ?it/s]"
      ]
     },
     "metadata": {},
     "output_type": "display_data"
    },
    {
     "name": "stderr",
     "output_type": "stream",
     "text": [
      "/opt/anaconda/lib/python3.8/site-packages/numpy/core/fromnumeric.py:3474: RuntimeWarning: Mean of empty slice.\n",
      "  return _methods._mean(a, axis=axis, dtype=dtype,\n",
      "/opt/anaconda/lib/python3.8/site-packages/numpy/core/_methods.py:189: RuntimeWarning: invalid value encountered in double_scalars\n",
      "  ret = ret.dtype.type(ret / rcount)\n"
     ]
    },
    {
     "name": "stdout",
     "output_type": "stream",
     "text": [
      "torch.cuda.memory_allocated: 0.000000GB\n",
      "torch.cuda.memory_reserved: 0.000000GB\n",
      "torch.cuda.max_memory_reserved: 0.000000GB\n"
     ]
    },
    {
     "data": {
      "application/vnd.jupyter.widget-view+json": {
       "model_id": "58872bdf5e0d4ce0a0174940c7f49d1f",
       "version_major": 2,
       "version_minor": 0
      },
      "text/plain": [
       "  0%|          | 0/892 [00:00<?, ?it/s]"
      ]
     },
     "metadata": {},
     "output_type": "display_data"
    },
    {
     "name": "stdout",
     "output_type": "stream",
     "text": [
      "torch.cuda.memory_allocated: 0.000000GB\n",
      "torch.cuda.memory_reserved: 0.000000GB\n",
      "torch.cuda.max_memory_reserved: 0.000000GB\n"
     ]
    },
    {
     "data": {
      "application/vnd.jupyter.widget-view+json": {
       "model_id": "d8cafc8018f548248df58dd6265b377d",
       "version_major": 2,
       "version_minor": 0
      },
      "text/plain": [
       "  0%|          | 0/892 [00:00<?, ?it/s]"
      ]
     },
     "metadata": {},
     "output_type": "display_data"
    },
    {
     "name": "stdout",
     "output_type": "stream",
     "text": [
      "torch.cuda.memory_allocated: 0.000000GB\n",
      "torch.cuda.memory_reserved: 0.000000GB\n",
      "torch.cuda.max_memory_reserved: 0.000000GB\n",
      "Wed Jan 18 12:06:08 2023       \n",
      "+-----------------------------------------------------------------------------+\n",
      "| NVIDIA-SMI 465.19.01    Driver Version: 465.19.01    CUDA Version: 11.3     |\n",
      "|-------------------------------+----------------------+----------------------+\n",
      "| GPU  Name        Persistence-M| Bus-Id        Disp.A | Volatile Uncorr. ECC |\n",
      "| Fan  Temp  Perf  Pwr:Usage/Cap|         Memory-Usage | GPU-Util  Compute M. |\n",
      "|                               |                      |               MIG M. |\n",
      "|===============================+======================+======================|\n",
      "|   0  NVIDIA RTX A5000    Off  | 00000000:04:00.0 Off |                  Off |\n",
      "| 30%   23C    P8     8W / 230W |  12365MiB / 24256MiB |      0%      Default |\n",
      "|                               |                      |                  N/A |\n",
      "+-------------------------------+----------------------+----------------------+\n",
      "|   1  NVIDIA GeForce ...  Off  | 00000000:05:00.0 Off |                  N/A |\n",
      "| 70%   82C    P2   246W / 250W |   6605MiB / 11178MiB |     95%      Default |\n",
      "|                               |                      |                  N/A |\n",
      "+-------------------------------+----------------------+----------------------+\n",
      "|   2  NVIDIA GeForce ...  Off  | 00000000:08:00.0 Off |                  N/A |\n",
      "| 70%   80C    P2    81W / 250W |  10193MiB / 11178MiB |      0%      Default |\n",
      "|                               |                      |                  N/A |\n",
      "+-------------------------------+----------------------+----------------------+\n",
      "|   3  NVIDIA GeForce ...  Off  | 00000000:09:00.0 Off |                  N/A |\n",
      "| 29%   29C    P8     8W / 250W |   6769MiB / 11178MiB |      0%      Default |\n",
      "|                               |                      |                  N/A |\n",
      "+-------------------------------+----------------------+----------------------+\n",
      "|   4  NVIDIA GeForce ...  Off  | 00000000:84:00.0 Off |                  N/A |\n",
      "| 29%   24C    P8     8W / 250W |      2MiB / 11178MiB |      0%      Default |\n",
      "|                               |                      |                  N/A |\n",
      "+-------------------------------+----------------------+----------------------+\n",
      "|   5  NVIDIA GeForce ...  Off  | 00000000:85:00.0 Off |                  N/A |\n",
      "| 29%   20C    P8     7W / 250W |   2201MiB / 11178MiB |      0%      Default |\n",
      "|                               |                      |                  N/A |\n",
      "+-------------------------------+----------------------+----------------------+\n",
      "|   6  NVIDIA GeForce ...  Off  | 00000000:88:00.0 Off |                  N/A |\n",
      "| 29%   19C    P8     8W / 250W |   8137MiB / 11178MiB |      0%      Default |\n",
      "|                               |                      |                  N/A |\n",
      "+-------------------------------+----------------------+----------------------+\n",
      "                                                                               \n",
      "+-----------------------------------------------------------------------------+\n",
      "| Processes:                                                                  |\n",
      "|  GPU   GI   CI        PID   Type   Process name                  GPU Memory |\n",
      "|        ID   ID                                                   Usage      |\n",
      "|=============================================================================|\n",
      "|    0   N/A  N/A      7641      C   /opt/anaconda/bin/python         8543MiB |\n",
      "|    0   N/A  N/A     11034      C   /opt/anaconda/bin/python          199MiB |\n",
      "|    0   N/A  N/A     11148      C   /opt/anaconda/bin/python          199MiB |\n",
      "|    0   N/A  N/A     12551      C   /opt/anaconda/bin/python          345MiB |\n",
      "|    0   N/A  N/A     27076      C   /opt/anaconda/bin/python         3077MiB |\n",
      "|    1   N/A  N/A     11034      C   /opt/anaconda/bin/python         6603MiB |\n",
      "|    2   N/A  N/A     11148      C   /opt/anaconda/bin/python        10191MiB |\n",
      "|    3   N/A  N/A     10046      C   /opt/anaconda/bin/python         6767MiB |\n",
      "|    5   N/A  N/A      2681      C   /opt/anaconda/bin/python         2199MiB |\n",
      "|    6   N/A  N/A      6494      C   /opt/anaconda/bin/python         8135MiB |\n",
      "+-----------------------------------------------------------------------------+\n",
      "###### 1 ######\n",
      "Train df len: 4458\n",
      "Valid df len: 348\n"
     ]
    },
    {
     "data": {
      "application/vnd.jupyter.widget-view+json": {
       "model_id": "8373025e2c3e49248f5fec9840c674a1",
       "version_major": 2,
       "version_minor": 0
      },
      "text/plain": [
       "  0%|          | 0/4458 [00:00<?, ?ex/s]"
      ]
     },
     "metadata": {},
     "output_type": "display_data"
    },
    {
     "data": {
      "application/vnd.jupyter.widget-view+json": {
       "model_id": "cc72945e49fb4061871b6a5a43a8eb0f",
       "version_major": 2,
       "version_minor": 0
      },
      "text/plain": [
       "  0%|          | 0/348 [00:00<?, ?ex/s]"
      ]
     },
     "metadata": {},
     "output_type": "display_data"
    },
    {
     "data": {
      "application/vnd.jupyter.widget-view+json": {
       "model_id": "4e3cf81089f84a25b42b7bd74c5a2f4b",
       "version_major": 2,
       "version_minor": 0
      },
      "text/plain": [
       "  0%|          | 0/892 [00:00<?, ?it/s]"
      ]
     },
     "metadata": {},
     "output_type": "display_data"
    },
    {
     "name": "stdout",
     "output_type": "stream",
     "text": [
      "torch.cuda.memory_allocated: 0.000000GB\n",
      "torch.cuda.memory_reserved: 0.000000GB\n",
      "torch.cuda.max_memory_reserved: 0.000000GB\n"
     ]
    },
    {
     "data": {
      "application/vnd.jupyter.widget-view+json": {
       "model_id": "cdce3d223e2843ff968be15f3207dd8e",
       "version_major": 2,
       "version_minor": 0
      },
      "text/plain": [
       "  0%|          | 0/892 [00:00<?, ?it/s]"
      ]
     },
     "metadata": {},
     "output_type": "display_data"
    },
    {
     "name": "stdout",
     "output_type": "stream",
     "text": [
      "torch.cuda.memory_allocated: 0.000000GB\n",
      "torch.cuda.memory_reserved: 0.000000GB\n",
      "torch.cuda.max_memory_reserved: 0.000000GB\n"
     ]
    },
    {
     "data": {
      "application/vnd.jupyter.widget-view+json": {
       "model_id": "2059ea3f60ca4f3398401ca2ede5531a",
       "version_major": 2,
       "version_minor": 0
      },
      "text/plain": [
       "  0%|          | 0/892 [00:00<?, ?it/s]"
      ]
     },
     "metadata": {},
     "output_type": "display_data"
    },
    {
     "name": "stdout",
     "output_type": "stream",
     "text": [
      "torch.cuda.memory_allocated: 0.000000GB\n",
      "torch.cuda.memory_reserved: 0.000000GB\n",
      "torch.cuda.max_memory_reserved: 0.000000GB\n",
      "Wed Jan 18 12:32:08 2023       \n",
      "+-----------------------------------------------------------------------------+\n",
      "| NVIDIA-SMI 465.19.01    Driver Version: 465.19.01    CUDA Version: 11.3     |\n",
      "|-------------------------------+----------------------+----------------------+\n",
      "| GPU  Name        Persistence-M| Bus-Id        Disp.A | Volatile Uncorr. ECC |\n",
      "| Fan  Temp  Perf  Pwr:Usage/Cap|         Memory-Usage | GPU-Util  Compute M. |\n",
      "|                               |                      |               MIG M. |\n",
      "|===============================+======================+======================|\n",
      "|   0  NVIDIA RTX A5000    Off  | 00000000:04:00.0 Off |                  Off |\n",
      "| 35%   65C    P2   146W / 230W |  12507MiB / 24256MiB |     38%      Default |\n",
      "|                               |                      |                  N/A |\n",
      "+-------------------------------+----------------------+----------------------+\n",
      "|   1  NVIDIA GeForce ...  Off  | 00000000:05:00.0 Off |                  N/A |\n",
      "| 72%   84C    P2   147W / 250W |   6605MiB / 11178MiB |     94%      Default |\n",
      "|                               |                      |                  N/A |\n",
      "+-------------------------------+----------------------+----------------------+\n",
      "|   2  NVIDIA GeForce ...  Off  | 00000000:08:00.0 Off |                  N/A |\n",
      "| 69%   80C    P2    81W / 250W |  10193MiB / 11178MiB |      0%      Default |\n",
      "|                               |                      |                  N/A |\n",
      "+-------------------------------+----------------------+----------------------+\n",
      "|   3  NVIDIA GeForce ...  Off  | 00000000:09:00.0 Off |                  N/A |\n",
      "| 29%   29C    P8     8W / 250W |   6769MiB / 11178MiB |      0%      Default |\n",
      "|                               |                      |                  N/A |\n",
      "+-------------------------------+----------------------+----------------------+\n",
      "|   4  NVIDIA GeForce ...  Off  | 00000000:84:00.0 Off |                  N/A |\n",
      "| 29%   24C    P8     8W / 250W |      2MiB / 11178MiB |      0%      Default |\n",
      "|                               |                      |                  N/A |\n",
      "+-------------------------------+----------------------+----------------------+\n",
      "|   5  NVIDIA GeForce ...  Off  | 00000000:85:00.0 Off |                  N/A |\n",
      "| 28%   20C    P8     8W / 250W |   2201MiB / 11178MiB |      0%      Default |\n",
      "|                               |                      |                  N/A |\n",
      "+-------------------------------+----------------------+----------------------+\n",
      "|   6  NVIDIA GeForce ...  Off  | 00000000:88:00.0 Off |                  N/A |\n",
      "| 29%   19C    P8     8W / 250W |   8137MiB / 11178MiB |      0%      Default |\n",
      "|                               |                      |                  N/A |\n",
      "+-------------------------------+----------------------+----------------------+\n",
      "                                                                               \n",
      "+-----------------------------------------------------------------------------+\n",
      "| Processes:                                                                  |\n",
      "|  GPU   GI   CI        PID   Type   Process name                  GPU Memory |\n",
      "|        ID   ID                                                   Usage      |\n",
      "|=============================================================================|\n",
      "|    0   N/A  N/A      7641      C   /opt/anaconda/bin/python         8685MiB |\n",
      "|    0   N/A  N/A     11034      C   /opt/anaconda/bin/python          199MiB |\n",
      "|    0   N/A  N/A     11148      C   /opt/anaconda/bin/python          199MiB |\n",
      "|    0   N/A  N/A     12551      C   /opt/anaconda/bin/python          345MiB |\n",
      "|    0   N/A  N/A     27076      C   /opt/anaconda/bin/python         3077MiB |\n",
      "|    1   N/A  N/A     11034      C   /opt/anaconda/bin/python         6603MiB |\n",
      "|    2   N/A  N/A     11148      C   /opt/anaconda/bin/python        10191MiB |\n",
      "|    3   N/A  N/A     10046      C   /opt/anaconda/bin/python         6767MiB |\n",
      "|    5   N/A  N/A      2681      C   /opt/anaconda/bin/python         2199MiB |\n",
      "|    6   N/A  N/A      6494      C   /opt/anaconda/bin/python         8135MiB |\n",
      "+-----------------------------------------------------------------------------+\n",
      "###### 2 ######\n",
      "Train df len: 4458\n",
      "Valid df len: 348\n"
     ]
    },
    {
     "data": {
      "application/vnd.jupyter.widget-view+json": {
       "model_id": "b26bdce9e2d6440e98c0c15dc16bf789",
       "version_major": 2,
       "version_minor": 0
      },
      "text/plain": [
       "  0%|          | 0/4458 [00:00<?, ?ex/s]"
      ]
     },
     "metadata": {},
     "output_type": "display_data"
    },
    {
     "data": {
      "application/vnd.jupyter.widget-view+json": {
       "model_id": "1652c6ae36734d33917eb32198e21e4b",
       "version_major": 2,
       "version_minor": 0
      },
      "text/plain": [
       "  0%|          | 0/348 [00:00<?, ?ex/s]"
      ]
     },
     "metadata": {},
     "output_type": "display_data"
    },
    {
     "data": {
      "application/vnd.jupyter.widget-view+json": {
       "model_id": "43b7e2b74499466494db96dd8614b88d",
       "version_major": 2,
       "version_minor": 0
      },
      "text/plain": [
       "  0%|          | 0/892 [00:00<?, ?it/s]"
      ]
     },
     "metadata": {},
     "output_type": "display_data"
    },
    {
     "name": "stdout",
     "output_type": "stream",
     "text": [
      "torch.cuda.memory_allocated: 0.000000GB\n",
      "torch.cuda.memory_reserved: 0.000000GB\n",
      "torch.cuda.max_memory_reserved: 0.000000GB\n"
     ]
    },
    {
     "data": {
      "application/vnd.jupyter.widget-view+json": {
       "model_id": "50e982d44ff9435cb667fa6fa7321569",
       "version_major": 2,
       "version_minor": 0
      },
      "text/plain": [
       "  0%|          | 0/892 [00:00<?, ?it/s]"
      ]
     },
     "metadata": {},
     "output_type": "display_data"
    },
    {
     "name": "stdout",
     "output_type": "stream",
     "text": [
      "torch.cuda.memory_allocated: 0.000000GB\n",
      "torch.cuda.memory_reserved: 0.000000GB\n",
      "torch.cuda.max_memory_reserved: 0.000000GB\n"
     ]
    },
    {
     "data": {
      "application/vnd.jupyter.widget-view+json": {
       "model_id": "747dd52ed42f42539fabb4bf000d2064",
       "version_major": 2,
       "version_minor": 0
      },
      "text/plain": [
       "  0%|          | 0/892 [00:00<?, ?it/s]"
      ]
     },
     "metadata": {},
     "output_type": "display_data"
    },
    {
     "name": "stdout",
     "output_type": "stream",
     "text": [
      "torch.cuda.memory_allocated: 0.000000GB\n",
      "torch.cuda.memory_reserved: 0.000000GB\n",
      "torch.cuda.max_memory_reserved: 0.000000GB\n",
      "Wed Jan 18 12:58:10 2023       \n",
      "+-----------------------------------------------------------------------------+\n",
      "| NVIDIA-SMI 465.19.01    Driver Version: 465.19.01    CUDA Version: 11.3     |\n",
      "|-------------------------------+----------------------+----------------------+\n",
      "| GPU  Name        Persistence-M| Bus-Id        Disp.A | Volatile Uncorr. ECC |\n",
      "| Fan  Temp  Perf  Pwr:Usage/Cap|         Memory-Usage | GPU-Util  Compute M. |\n",
      "|                               |                      |               MIG M. |\n",
      "|===============================+======================+======================|\n",
      "|   0  NVIDIA RTX A5000    Off  | 00000000:04:00.0 Off |                  Off |\n",
      "| 37%   66C    P2   169W / 230W |  12507MiB / 24256MiB |     38%      Default |\n",
      "|                               |                      |                  N/A |\n",
      "+-------------------------------+----------------------+----------------------+\n",
      "|   1  NVIDIA GeForce ...  Off  | 00000000:05:00.0 Off |                  N/A |\n",
      "| 29%   29C    P8     8W / 250W |   6605MiB / 11178MiB |      0%      Default |\n",
      "|                               |                      |                  N/A |\n",
      "+-------------------------------+----------------------+----------------------+\n",
      "|   2  NVIDIA GeForce ...  Off  | 00000000:08:00.0 Off |                  N/A |\n",
      "| 64%   78C    P2    80W / 250W |  10193MiB / 11178MiB |      0%      Default |\n",
      "|                               |                      |                  N/A |\n",
      "+-------------------------------+----------------------+----------------------+\n",
      "|   3  NVIDIA GeForce ...  Off  | 00000000:09:00.0 Off |                  N/A |\n",
      "| 29%   28C    P8     8W / 250W |      2MiB / 11178MiB |      0%      Default |\n",
      "|                               |                      |                  N/A |\n",
      "+-------------------------------+----------------------+----------------------+\n",
      "|   4  NVIDIA GeForce ...  Off  | 00000000:84:00.0 Off |                  N/A |\n",
      "| 29%   26C    P8     8W / 250W |   1237MiB / 11178MiB |      0%      Default |\n",
      "|                               |                      |                  N/A |\n",
      "+-------------------------------+----------------------+----------------------+\n",
      "|   5  NVIDIA GeForce ...  Off  | 00000000:85:00.0 Off |                  N/A |\n",
      "| 29%   20C    P8     7W / 250W |   2201MiB / 11178MiB |      0%      Default |\n",
      "|                               |                      |                  N/A |\n",
      "+-------------------------------+----------------------+----------------------+\n",
      "|   6  NVIDIA GeForce ...  Off  | 00000000:88:00.0 Off |                  N/A |\n",
      "| 29%   19C    P8     7W / 250W |   8137MiB / 11178MiB |      0%      Default |\n",
      "|                               |                      |                  N/A |\n",
      "+-------------------------------+----------------------+----------------------+\n",
      "                                                                               \n",
      "+-----------------------------------------------------------------------------+\n",
      "| Processes:                                                                  |\n",
      "|  GPU   GI   CI        PID   Type   Process name                  GPU Memory |\n",
      "|        ID   ID                                                   Usage      |\n",
      "|=============================================================================|\n",
      "|    0   N/A  N/A      7641      C   /opt/anaconda/bin/python         8685MiB |\n",
      "|    0   N/A  N/A     11034      C   /opt/anaconda/bin/python          199MiB |\n",
      "|    0   N/A  N/A     11148      C   /opt/anaconda/bin/python          199MiB |\n",
      "|    0   N/A  N/A     12551      C   /opt/anaconda/bin/python          345MiB |\n",
      "|    0   N/A  N/A     27076      C   /opt/anaconda/bin/python         3077MiB |\n",
      "|    1   N/A  N/A     11034      C   /opt/anaconda/bin/python         6603MiB |\n",
      "|    2   N/A  N/A     11148      C   /opt/anaconda/bin/python        10191MiB |\n",
      "|    4   N/A  N/A     13214      C   /opt/anaconda/bin/python         1235MiB |\n",
      "|    5   N/A  N/A      2681      C   /opt/anaconda/bin/python         2199MiB |\n",
      "|    6   N/A  N/A      6494      C   /opt/anaconda/bin/python         8135MiB |\n",
      "+-----------------------------------------------------------------------------+\n",
      "###### 3 ######\n",
      "Train df len: 4459\n",
      "Valid df len: 347\n"
     ]
    },
    {
     "data": {
      "application/vnd.jupyter.widget-view+json": {
       "model_id": "cb099c1d3cd142dd9509dacaa922447d",
       "version_major": 2,
       "version_minor": 0
      },
      "text/plain": [
       "  0%|          | 0/4459 [00:00<?, ?ex/s]"
      ]
     },
     "metadata": {},
     "output_type": "display_data"
    },
    {
     "data": {
      "application/vnd.jupyter.widget-view+json": {
       "model_id": "15699548cef743998ee9897afc13088d",
       "version_major": 2,
       "version_minor": 0
      },
      "text/plain": [
       "  0%|          | 0/347 [00:00<?, ?ex/s]"
      ]
     },
     "metadata": {},
     "output_type": "display_data"
    },
    {
     "data": {
      "application/vnd.jupyter.widget-view+json": {
       "model_id": "7d572d6999774ef6b1926093fc4fd1f5",
       "version_major": 2,
       "version_minor": 0
      },
      "text/plain": [
       "  0%|          | 0/892 [00:00<?, ?it/s]"
      ]
     },
     "metadata": {},
     "output_type": "display_data"
    },
    {
     "name": "stdout",
     "output_type": "stream",
     "text": [
      "torch.cuda.memory_allocated: 0.000000GB\n",
      "torch.cuda.memory_reserved: 0.000000GB\n",
      "torch.cuda.max_memory_reserved: 0.000000GB\n"
     ]
    },
    {
     "data": {
      "application/vnd.jupyter.widget-view+json": {
       "model_id": "bf4b2a90be4c41f79355941b27bdb14f",
       "version_major": 2,
       "version_minor": 0
      },
      "text/plain": [
       "  0%|          | 0/892 [00:00<?, ?it/s]"
      ]
     },
     "metadata": {},
     "output_type": "display_data"
    },
    {
     "name": "stdout",
     "output_type": "stream",
     "text": [
      "torch.cuda.memory_allocated: 0.000000GB\n",
      "torch.cuda.memory_reserved: 0.000000GB\n",
      "torch.cuda.max_memory_reserved: 0.000000GB\n"
     ]
    },
    {
     "data": {
      "application/vnd.jupyter.widget-view+json": {
       "model_id": "21443a0e66a84a28ad2cf5304069d744",
       "version_major": 2,
       "version_minor": 0
      },
      "text/plain": [
       "  0%|          | 0/892 [00:00<?, ?it/s]"
      ]
     },
     "metadata": {},
     "output_type": "display_data"
    },
    {
     "name": "stdout",
     "output_type": "stream",
     "text": [
      "torch.cuda.memory_allocated: 0.000000GB\n",
      "torch.cuda.memory_reserved: 0.000000GB\n",
      "torch.cuda.max_memory_reserved: 0.000000GB\n",
      "Wed Jan 18 13:24:07 2023       \n",
      "+-----------------------------------------------------------------------------+\n",
      "| NVIDIA-SMI 465.19.01    Driver Version: 465.19.01    CUDA Version: 11.3     |\n",
      "|-------------------------------+----------------------+----------------------+\n",
      "| GPU  Name        Persistence-M| Bus-Id        Disp.A | Volatile Uncorr. ECC |\n",
      "| Fan  Temp  Perf  Pwr:Usage/Cap|         Memory-Usage | GPU-Util  Compute M. |\n",
      "|                               |                      |               MIG M. |\n",
      "|===============================+======================+======================|\n",
      "|   0  NVIDIA RTX A5000    Off  | 00000000:04:00.0 Off |                  Off |\n",
      "| 36%   67C    P2   169W / 230W |  15612MiB / 24256MiB |     45%      Default |\n",
      "|                               |                      |                  N/A |\n",
      "+-------------------------------+----------------------+----------------------+\n",
      "|   1  NVIDIA GeForce ...  Off  | 00000000:05:00.0 Off |                  N/A |\n",
      "| 29%   28C    P8     8W / 250W |   6605MiB / 11178MiB |      0%      Default |\n",
      "|                               |                      |                  N/A |\n",
      "+-------------------------------+----------------------+----------------------+\n",
      "|   2  NVIDIA GeForce ...  Off  | 00000000:08:00.0 Off |                  N/A |\n",
      "| 64%   77C    P2    79W / 250W |  10193MiB / 11178MiB |      0%      Default |\n",
      "|                               |                      |                  N/A |\n",
      "+-------------------------------+----------------------+----------------------+\n",
      "|   3  NVIDIA GeForce ...  Off  | 00000000:09:00.0 Off |                  N/A |\n",
      "| 29%   28C    P8     8W / 250W |      2MiB / 11178MiB |      0%      Default |\n",
      "|                               |                      |                  N/A |\n",
      "+-------------------------------+----------------------+----------------------+\n",
      "|   4  NVIDIA GeForce ...  Off  | 00000000:84:00.0 Off |                  N/A |\n",
      "| 29%   24C    P8     8W / 250W |   5475MiB / 11178MiB |      0%      Default |\n",
      "|                               |                      |                  N/A |\n",
      "+-------------------------------+----------------------+----------------------+\n",
      "|   5  NVIDIA GeForce ...  Off  | 00000000:85:00.0 Off |                  N/A |\n",
      "| 29%   20C    P8     7W / 250W |   2201MiB / 11178MiB |      0%      Default |\n",
      "|                               |                      |                  N/A |\n",
      "+-------------------------------+----------------------+----------------------+\n",
      "|   6  NVIDIA GeForce ...  Off  | 00000000:88:00.0 Off |                  N/A |\n",
      "| 29%   19C    P8     8W / 250W |   8137MiB / 11178MiB |      0%      Default |\n",
      "|                               |                      |                  N/A |\n",
      "+-------------------------------+----------------------+----------------------+\n",
      "                                                                               \n",
      "+-----------------------------------------------------------------------------+\n",
      "| Processes:                                                                  |\n",
      "|  GPU   GI   CI        PID   Type   Process name                  GPU Memory |\n",
      "|        ID   ID                                                   Usage      |\n",
      "|=============================================================================|\n",
      "|    0   N/A  N/A      7641      C   /opt/anaconda/bin/python         8761MiB |\n",
      "|    0   N/A  N/A     11034      C   /opt/anaconda/bin/python          199MiB |\n",
      "|    0   N/A  N/A     11148      C   /opt/anaconda/bin/python          199MiB |\n",
      "|    0   N/A  N/A     12551      C   /opt/anaconda/bin/python          345MiB |\n",
      "|    0   N/A  N/A     22541      C   /opt/anaconda/bin/python         3029MiB |\n",
      "|    0   N/A  N/A     27076      C   /opt/anaconda/bin/python         3077MiB |\n",
      "|    1   N/A  N/A     11034      C   /opt/anaconda/bin/python         6603MiB |\n",
      "|    2   N/A  N/A     11148      C   /opt/anaconda/bin/python        10191MiB |\n",
      "|    4   N/A  N/A     22541      C   /opt/anaconda/bin/python         5473MiB |\n",
      "|    5   N/A  N/A      2681      C   /opt/anaconda/bin/python         2199MiB |\n",
      "|    6   N/A  N/A      6494      C   /opt/anaconda/bin/python         8135MiB |\n",
      "+-----------------------------------------------------------------------------+\n",
      "###### 4 ######\n",
      "Train df len: 4459\n",
      "Valid df len: 347\n"
     ]
    },
    {
     "data": {
      "application/vnd.jupyter.widget-view+json": {
       "model_id": "013540ab533944deb94989a6dc59754c",
       "version_major": 2,
       "version_minor": 0
      },
      "text/plain": [
       "  0%|          | 0/4459 [00:00<?, ?ex/s]"
      ]
     },
     "metadata": {},
     "output_type": "display_data"
    },
    {
     "data": {
      "application/vnd.jupyter.widget-view+json": {
       "model_id": "a7fe00667ade439785b53dfdba2e4880",
       "version_major": 2,
       "version_minor": 0
      },
      "text/plain": [
       "  0%|          | 0/347 [00:00<?, ?ex/s]"
      ]
     },
     "metadata": {},
     "output_type": "display_data"
    },
    {
     "data": {
      "application/vnd.jupyter.widget-view+json": {
       "model_id": "9ceff19e02164a7187fef72e6be7a91e",
       "version_major": 2,
       "version_minor": 0
      },
      "text/plain": [
       "  0%|          | 0/892 [00:00<?, ?it/s]"
      ]
     },
     "metadata": {},
     "output_type": "display_data"
    },
    {
     "name": "stdout",
     "output_type": "stream",
     "text": [
      "torch.cuda.memory_allocated: 0.000000GB\n",
      "torch.cuda.memory_reserved: 0.000000GB\n",
      "torch.cuda.max_memory_reserved: 0.000000GB\n"
     ]
    },
    {
     "data": {
      "application/vnd.jupyter.widget-view+json": {
       "model_id": "e3e60182bfdc4ad0b5597008b1ddb2c5",
       "version_major": 2,
       "version_minor": 0
      },
      "text/plain": [
       "  0%|          | 0/892 [00:00<?, ?it/s]"
      ]
     },
     "metadata": {},
     "output_type": "display_data"
    },
    {
     "name": "stdout",
     "output_type": "stream",
     "text": [
      "torch.cuda.memory_allocated: 0.000000GB\n",
      "torch.cuda.memory_reserved: 0.000000GB\n",
      "torch.cuda.max_memory_reserved: 0.000000GB\n"
     ]
    },
    {
     "data": {
      "application/vnd.jupyter.widget-view+json": {
       "model_id": "f0e51d9d38774cb598fcf4b0cd2bbe3c",
       "version_major": 2,
       "version_minor": 0
      },
      "text/plain": [
       "  0%|          | 0/892 [00:00<?, ?it/s]"
      ]
     },
     "metadata": {},
     "output_type": "display_data"
    }
   ],
   "source": [
    "metrics = []\n",
    "transformers.logging.set_verbosity_error()\n",
    "tokenizer = RobertaTokenizer.from_pretrained('roberta-base')\n",
    "\n",
    "#we only want to sample validation data from the pairs that are both english \n",
    "enDf = leanDf[(leanDf[\"url1_lang\"] == \"en\") & (leanDf[\"url2_lang\"] == \"en\")]\n",
    "\n",
    "print(\"Total df len: \" +  str(len(leanDf)))\n",
    "print(\"English df len: \" +  str(len(enDf)))\n",
    "#we create splits based on the position (not the actual index) of rows in enDf\n",
    "#the idea is to get a split of the english dataset to set aside and then \n",
    "#grab everything else in the en + translated dataset to train on \n",
    "for i, (train_index, valid_index) in enumerate(kf.split(enDf)): \n",
    "    \n",
    "    #grab the rows in enDf corresponding to the positions of our split \n",
    "    validDf = enDf.iloc[valid_index]\n",
    "    \n",
    "    #now get the actual indicies that have been selected\n",
    "    #and subtract the indices in trainDf away from those \n",
    "    remainingIndices = list(set(leanDf.index) - set(validDf.index))\n",
    "    trainDf = leanDf.loc[remainingIndices]\n",
    "    print(\"###### \" + str(i).upper() + \" ######\")\n",
    "    print(\"Train df len: \" + str(len(trainDf)))\n",
    "    print(\"Valid df len: \" + str(len(validDf)))\n",
    "    \n",
    "    #get data loaded in properly \n",
    "    trainDataset = Dataset.from_pandas(trainDf)\n",
    "    validDataset = Dataset.from_pandas(validDf)\n",
    "    \n",
    "    #NOTE: here we use the merged text\n",
    "    trainDataset = trainDataset.map(lambda x: tokenizer(x[\"text1Merged\"], x[\"text2Merged\"], max_length=512, padding=\"max_length\", truncation=True))\n",
    "    validDataset = validDataset.map(lambda x: tokenizer(x[\"text1Merged\"], x[\"text2Merged\"], max_length=512, padding=\"max_length\", truncation=True))\n",
    "    \n",
    "\n",
    "    #only need the input information \n",
    "    trainDataset = trainDataset.remove_columns([\"text1Merged\", \"text2Merged\", \"__index_level_0__\"])\n",
    "    validDataset = validDataset.remove_columns([\"text1Merged\", \"text2Merged\", \"__index_level_0__\"])\n",
    "    \n",
    "    # convert dataset features to PyTorch tensors\n",
    "    formatColumns = groundTruths + [\"input_ids\", \"attention_mask\"]\n",
    "    validDataset.set_format(type='torch', columns=formatColumns)\n",
    "    trainDataset.set_format(type='torch', columns=formatColumns)\n",
    "\n",
    "    validMetrics = train(trainDataset, validDataset)\n",
    "    metrics.append(validMetrics)\n",
    "    \n",
    "    del trainDataset\n",
    "    del validDataset\n",
    "    !nvidia-smi"
   ]
  },
  {
   "cell_type": "code",
   "execution_count": null,
   "metadata": {},
   "outputs": [],
   "source": [
    "#saving this cell, undo if we need old code "
   ]
  },
  {
   "cell_type": "code",
   "execution_count": null,
   "metadata": {},
   "outputs": [],
   "source": [
    "epochList = []\n",
    "foldList = []\n",
    "corrList = []\n",
    "for epoch in range(EPOCHS): \n",
    "    for fold in range(FOLDS): \n",
    "        df = pd.DataFrame(metrics[fold][epoch]).T\n",
    "        df.columns = [\"loss\", \"pred\", \"true\"]\n",
    "        #corr = np.corrcoef(df[\"pred\"], df[\"true\"])\n",
    "\n",
    "        predCols = [\"pred\" + item for item in groundTruths]\n",
    "        gtCols = [\"gt\" + item for item in groundTruths]\n",
    "\n",
    "        df[predCols] = pd.DataFrame(df[\"pred\"].tolist(), index=df.index)\n",
    "        df[gtCols] = pd.DataFrame(df[\"true\"].tolist(), index=df.index)\n",
    "\n",
    "        corrScores = []\n",
    "        for colName in groundTruths: \n",
    "            corr = np.corrcoef(df[\"pred\" + colName], df[\"gt\" + colName])[1, 0]\n",
    "            corrScores.append(corr)\n",
    "        epochList.append(epoch)\n",
    "        foldList.append(fold)\n",
    "        corrList.append(corrScores)"
   ]
  },
  {
   "cell_type": "code",
   "execution_count": null,
   "metadata": {},
   "outputs": [],
   "source": [
    "df = pd.DataFrame({\"epoch\":epochList, \"fold\":foldList, \"corrList\":corrList})\n",
    "df[gtCols] = pd.DataFrame(df[\"corrList\"].tolist(), index=df.index)\n",
    "df = df.drop(columns=[\"corrList\"])"
   ]
  },
  {
   "cell_type": "code",
   "execution_count": null,
   "metadata": {},
   "outputs": [],
   "source": [
    "df.groupby(by=\"epoch\").agg(np.mean)"
   ]
  },
  {
   "cell_type": "code",
   "execution_count": null,
   "metadata": {},
   "outputs": [],
   "source": []
  }
 ],
 "metadata": {
  "kernelspec": {
   "display_name": "Python 3",
   "language": "python",
   "name": "python3"
  },
  "language_info": {
   "codemirror_mode": {
    "name": "ipython",
    "version": 3
   },
   "file_extension": ".py",
   "mimetype": "text/x-python",
   "name": "python",
   "nbconvert_exporter": "python",
   "pygments_lexer": "ipython3",
   "version": "3.8.5"
  }
 },
 "nbformat": 4,
 "nbformat_minor": 4
}
