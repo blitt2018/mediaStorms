{
 "cells": [
  {
   "cell_type": "code",
   "execution_count": 1,
   "metadata": {},
   "outputs": [],
   "source": [
    "import pandas as pd"
   ]
  },
  {
   "cell_type": "code",
   "execution_count": 2,
   "metadata": {},
   "outputs": [],
   "source": [
    "#what should we be matching on... \n",
    "#options are: \n",
    "#CARDINAL, DATE, EVENT, FAC, GPE, LANGUAGE, LAW, LOC, MONEY, NORP, \n",
    "#ORDINAL, ORG, PERCENT, PERSON, PRODUCT, QUANTITY, TIME, WORK_OF_ART\n",
    "#taken from: https://spacy.io/models/en\n"
   ]
  },
  {
   "cell_type": "code",
   "execution_count": 3,
   "metadata": {},
   "outputs": [
    {
     "name": "stderr",
     "output_type": "stream",
     "text": [
      "/opt/anaconda/lib/python3.8/site-packages/IPython/core/interactiveshell.py:3418: DtypeWarning: Columns (1,2,6,9,10,11,12,13,16,17,18,19,20,21,22,23,24,25,26,27,28,29,30,31,32,33,38,39,40,41) have mixed types.Specify dtype option on import or set low_memory=False.\n",
      "  exec(code_obj, self.user_global_ns, self.user_ns)\n"
     ]
    }
   ],
   "source": [
    "df = pd.read_csv(\"/shared/3/projects/benlitterer/localNews/mergedNewsData/mergedNER.tsv\", sep=\"\\t\")"
   ]
  },
  {
   "cell_type": "code",
   "execution_count": 5,
   "metadata": {},
   "outputs": [
    {
     "data": {
      "text/plain": [
       "0          [('PERSON', 'Dan Shehan’s'), ('WORK_OF_ART', '...\n",
       "1          [('DATE', 'This past Sunday, March 29th'), ('E...\n",
       "2          [('PERSON', 'Kay Ivey'), ('DATE', 'Saturday'),...\n",
       "3          [('GPE', 'Covington County'), ('DATE', 'Monday...\n",
       "4          [('GPE', 'Alabama'), ('GPE', 'Covington County...\n",
       "                                 ...                        \n",
       "4769864    [('ORG', 'the National Archives'), ('PERSON', ...\n",
       "4769865    [('PERSON', 'Boris Johnson'), ('EVENT', \"New Y...\n",
       "4769866    [('DATE', 'another eventful year'), ('DATE', '...\n",
       "4769867    [('GPE', 'UK'), ('EVENT', 'the New Year Honour...\n",
       "4769868    [('GPE', 'Northern Ireland'), ('DATE', '2021')...\n",
       "Name: topics, Length: 4769869, dtype: object"
      ]
     },
     "execution_count": 5,
     "metadata": {},
     "output_type": "execute_result"
    }
   ],
   "source": [
    "#IDEA: unpack the list into multiple columns, get those columns into multiple rows. Throw out rows that don't have types of interest. \n",
    "#then, do a groupby [entity, entity_type] which should give us the proper reversal we can map on. \n",
    "#if articles show up in the same row once then they need to be compared? \n",
    "df[\"topics\"]"
   ]
  },
  {
   "cell_type": "code",
   "execution_count": 137,
   "metadata": {},
   "outputs": [
    {
     "name": "stdout",
     "output_type": "stream",
     "text": [
      "dict made\n",
      "[(('PERSON', 'Dan Shehan’s'), ['andalusiastarnews_Remember_When:_Shehan’s_Polio_story']), (('WORK_OF_ART', 'My Polio Story'), ['andalusiastarnews_Remember_When:_Shehan’s_Polio_story']), (('DATE', 'week'), ['andalusiastarnews_Remember_When:_Shehan’s_Polio_story', 'juneauempire_With_physical_contact_forbidden,_Juneau_finds_new_ways_to_socialize', 'theenterpriserecord_Have_you_ever_dealt_with_glitter?_|__Off_the_Record', 'boulderweekly_Facing_supply_disruptions,_Boulder_County_food_banks_prepare_for_the_future', 'boulderweekly_Facing_supply_disruptions,_Boulder_County_food_banks_prepare_for_the_future', 'boulderweekly_Facing_supply_disruptions,_Boulder_County_food_banks_prepare_for_the_future', 'craigdailypress_Over_a_Cup_of_Coffee:_Recipes_using_beef', \"haxtunflemingherald_NJC_responds_to_conditions_under_Governor's_stay-at-home_order\", 'waterburyrepublicanamerican_Calmer_(and_definitely_quieter)_WrestleMania_adapts_to_reality', 'waterburyrepublicanamerican_New_at_home_this_week:_‘Onward,’_Nina_Simone_and_‘The_Talk’', 'waterburyrepublicanamerican_New_at_home_this_week:_‘Onward,’_Nina_Simone_and_‘The_Talk’', 'newsleader_Countywide_emergency_extended', 'claytontribune_Georgia_shelter-in-place_starts_6_p.m._Friday;_exempts_grocery_stores,_food_pick-up,_deliveries', 'thetimescourier_Georgia_shelter-in-place_starts_6_p.m._Friday;_exempts_grocery_stores,_food_pick-up,_deliveries', 'tribune_Countywide_emergency_extended', 'westhawaiitoday_30_reality_TV_shows_that_will_help_you_escape_reality'])]\n"
     ]
    }
   ],
   "source": [
    "#Alternate attempt to create reverse mapping \n",
    "testDf= df[[\"key\", \"topics\"]].dropna(subset=[\"key\", \"topics\"])\n",
    "testDict = dict(zip(testDf[\"key\"], testDf[\"topics\"]))\n",
    "#outDict = {val:[] for key, val in testDict.items()}\n",
    "\n",
    "print(\"dict made\")\n",
    "\n",
    "outDict = {}\n",
    "for outlet, entList in testDict.items(): \n",
    "    for ent in entList: \n",
    "        \n",
    "        #add a bunch of things for entity types etc... \n",
    "        #can we make the pairwise comparison dictionary at the same time? \n",
    "        if ent not in outDict: \n",
    "            outDict[ent] = [outlet]\n",
    "        else: \n",
    "            outDict[ent].append(outlet)\n",
    "print(list(outDict.items())[:3])"
   ]
  },
  {
   "cell_type": "code",
   "execution_count": null,
   "metadata": {},
   "outputs": [],
   "source": []
  },
  {
   "cell_type": "code",
   "execution_count": 115,
   "metadata": {},
   "outputs": [
    {
     "name": "stdout",
     "output_type": "stream",
     "text": [
      "list applied\n"
     ]
    },
    {
     "ename": "KeyboardInterrupt",
     "evalue": "",
     "output_type": "error",
     "traceback": [
      "\u001b[0;31m---------------------------------------------------------------------------\u001b[0m",
      "\u001b[0;31mKeyboardInterrupt\u001b[0m                         Traceback (most recent call last)",
      "\u001b[0;32m<ipython-input-115-3c5122785a97>\u001b[0m in \u001b[0;36m<module>\u001b[0;34m\u001b[0m\n\u001b[1;32m     11\u001b[0m \u001b[0mprint\u001b[0m\u001b[0;34m(\u001b[0m\u001b[0;34m\"list applied\"\u001b[0m\u001b[0;34m)\u001b[0m\u001b[0;34m\u001b[0m\u001b[0;34m\u001b[0m\u001b[0m\n\u001b[1;32m     12\u001b[0m \u001b[0;31m#split lists of tuples into seperate rows (i.e. long format )\u001b[0m\u001b[0;34m\u001b[0m\u001b[0;34m\u001b[0m\u001b[0;34m\u001b[0m\u001b[0m\n\u001b[0;32m---> 13\u001b[0;31m \u001b[0mtestDf\u001b[0m \u001b[0;34m=\u001b[0m \u001b[0mtestDf\u001b[0m\u001b[0;34m.\u001b[0m\u001b[0mexplode\u001b[0m\u001b[0;34m(\u001b[0m\u001b[0;34m[\u001b[0m\u001b[0;34m\"topics\"\u001b[0m\u001b[0;34m]\u001b[0m\u001b[0;34m)\u001b[0m\u001b[0;34m\u001b[0m\u001b[0;34m\u001b[0m\u001b[0m\n\u001b[0m\u001b[1;32m     14\u001b[0m \u001b[0;34m\u001b[0m\u001b[0m\n\u001b[1;32m     15\u001b[0m \u001b[0mprint\u001b[0m\u001b[0;34m(\u001b[0m\u001b[0;34m\"exploded\"\u001b[0m\u001b[0;34m)\u001b[0m\u001b[0;34m\u001b[0m\u001b[0;34m\u001b[0m\u001b[0m\n",
      "\u001b[0;32m/opt/anaconda/lib/python3.8/site-packages/pandas/core/frame.py\u001b[0m in \u001b[0;36mexplode\u001b[0;34m(self, column, ignore_index)\u001b[0m\n\u001b[1;32m   8255\u001b[0m                     \u001b[0;32mraise\u001b[0m \u001b[0mValueError\u001b[0m\u001b[0;34m(\u001b[0m\u001b[0;34m\"columns must have matching element counts\"\u001b[0m\u001b[0;34m)\u001b[0m\u001b[0;34m\u001b[0m\u001b[0;34m\u001b[0m\u001b[0m\n\u001b[1;32m   8256\u001b[0m             \u001b[0mresult\u001b[0m \u001b[0;34m=\u001b[0m \u001b[0mDataFrame\u001b[0m\u001b[0;34m(\u001b[0m\u001b[0;34m{\u001b[0m\u001b[0mc\u001b[0m\u001b[0;34m:\u001b[0m \u001b[0mdf\u001b[0m\u001b[0;34m[\u001b[0m\u001b[0mc\u001b[0m\u001b[0;34m]\u001b[0m\u001b[0;34m.\u001b[0m\u001b[0mexplode\u001b[0m\u001b[0;34m(\u001b[0m\u001b[0;34m)\u001b[0m \u001b[0;32mfor\u001b[0m \u001b[0mc\u001b[0m \u001b[0;32min\u001b[0m \u001b[0mcolumns\u001b[0m\u001b[0;34m}\u001b[0m\u001b[0;34m)\u001b[0m\u001b[0;34m\u001b[0m\u001b[0;34m\u001b[0m\u001b[0m\n\u001b[0;32m-> 8257\u001b[0;31m         \u001b[0mresult\u001b[0m \u001b[0;34m=\u001b[0m \u001b[0mdf\u001b[0m\u001b[0;34m.\u001b[0m\u001b[0mdrop\u001b[0m\u001b[0;34m(\u001b[0m\u001b[0mcolumns\u001b[0m\u001b[0;34m,\u001b[0m \u001b[0maxis\u001b[0m\u001b[0;34m=\u001b[0m\u001b[0;36m1\u001b[0m\u001b[0;34m)\u001b[0m\u001b[0;34m.\u001b[0m\u001b[0mjoin\u001b[0m\u001b[0;34m(\u001b[0m\u001b[0mresult\u001b[0m\u001b[0;34m)\u001b[0m\u001b[0;34m\u001b[0m\u001b[0;34m\u001b[0m\u001b[0m\n\u001b[0m\u001b[1;32m   8258\u001b[0m         \u001b[0;32mif\u001b[0m \u001b[0mignore_index\u001b[0m\u001b[0;34m:\u001b[0m\u001b[0;34m\u001b[0m\u001b[0;34m\u001b[0m\u001b[0m\n\u001b[1;32m   8259\u001b[0m             \u001b[0mresult\u001b[0m\u001b[0;34m.\u001b[0m\u001b[0mindex\u001b[0m \u001b[0;34m=\u001b[0m \u001b[0mibase\u001b[0m\u001b[0;34m.\u001b[0m\u001b[0mdefault_index\u001b[0m\u001b[0;34m(\u001b[0m\u001b[0mlen\u001b[0m\u001b[0;34m(\u001b[0m\u001b[0mresult\u001b[0m\u001b[0;34m)\u001b[0m\u001b[0;34m)\u001b[0m\u001b[0;34m\u001b[0m\u001b[0;34m\u001b[0m\u001b[0m\n",
      "\u001b[0;32m/opt/anaconda/lib/python3.8/site-packages/pandas/core/frame.py\u001b[0m in \u001b[0;36mjoin\u001b[0;34m(self, other, on, how, lsuffix, rsuffix, sort)\u001b[0m\n\u001b[1;32m   9098\u001b[0m         \u001b[0;36m5\u001b[0m  \u001b[0mK5\u001b[0m  \u001b[0mA5\u001b[0m  \u001b[0mNaN\u001b[0m\u001b[0;34m\u001b[0m\u001b[0;34m\u001b[0m\u001b[0m\n\u001b[1;32m   9099\u001b[0m         \"\"\"\n\u001b[0;32m-> 9100\u001b[0;31m         return self._join_compat(\n\u001b[0m\u001b[1;32m   9101\u001b[0m             \u001b[0mother\u001b[0m\u001b[0;34m,\u001b[0m \u001b[0mon\u001b[0m\u001b[0;34m=\u001b[0m\u001b[0mon\u001b[0m\u001b[0;34m,\u001b[0m \u001b[0mhow\u001b[0m\u001b[0;34m=\u001b[0m\u001b[0mhow\u001b[0m\u001b[0;34m,\u001b[0m \u001b[0mlsuffix\u001b[0m\u001b[0;34m=\u001b[0m\u001b[0mlsuffix\u001b[0m\u001b[0;34m,\u001b[0m \u001b[0mrsuffix\u001b[0m\u001b[0;34m=\u001b[0m\u001b[0mrsuffix\u001b[0m\u001b[0;34m,\u001b[0m \u001b[0msort\u001b[0m\u001b[0;34m=\u001b[0m\u001b[0msort\u001b[0m\u001b[0;34m\u001b[0m\u001b[0;34m\u001b[0m\u001b[0m\n\u001b[1;32m   9102\u001b[0m         )\n",
      "\u001b[0;32m/opt/anaconda/lib/python3.8/site-packages/pandas/core/frame.py\u001b[0m in \u001b[0;36m_join_compat\u001b[0;34m(self, other, on, how, lsuffix, rsuffix, sort)\u001b[0m\n\u001b[1;32m   9129\u001b[0m                     \u001b[0msort\u001b[0m\u001b[0;34m=\u001b[0m\u001b[0msort\u001b[0m\u001b[0;34m,\u001b[0m\u001b[0;34m\u001b[0m\u001b[0;34m\u001b[0m\u001b[0m\n\u001b[1;32m   9130\u001b[0m                 )\n\u001b[0;32m-> 9131\u001b[0;31m             return merge(\n\u001b[0m\u001b[1;32m   9132\u001b[0m                 \u001b[0mself\u001b[0m\u001b[0;34m,\u001b[0m\u001b[0;34m\u001b[0m\u001b[0;34m\u001b[0m\u001b[0m\n\u001b[1;32m   9133\u001b[0m                 \u001b[0mother\u001b[0m\u001b[0;34m,\u001b[0m\u001b[0;34m\u001b[0m\u001b[0;34m\u001b[0m\u001b[0m\n",
      "\u001b[0;32m/opt/anaconda/lib/python3.8/site-packages/pandas/core/reshape/merge.py\u001b[0m in \u001b[0;36mmerge\u001b[0;34m(left, right, how, on, left_on, right_on, left_index, right_index, sort, suffixes, copy, indicator, validate)\u001b[0m\n\u001b[1;32m    118\u001b[0m         \u001b[0mvalidate\u001b[0m\u001b[0;34m=\u001b[0m\u001b[0mvalidate\u001b[0m\u001b[0;34m,\u001b[0m\u001b[0;34m\u001b[0m\u001b[0;34m\u001b[0m\u001b[0m\n\u001b[1;32m    119\u001b[0m     )\n\u001b[0;32m--> 120\u001b[0;31m     \u001b[0;32mreturn\u001b[0m \u001b[0mop\u001b[0m\u001b[0;34m.\u001b[0m\u001b[0mget_result\u001b[0m\u001b[0;34m(\u001b[0m\u001b[0;34m)\u001b[0m\u001b[0;34m\u001b[0m\u001b[0;34m\u001b[0m\u001b[0m\n\u001b[0m\u001b[1;32m    121\u001b[0m \u001b[0;34m\u001b[0m\u001b[0m\n\u001b[1;32m    122\u001b[0m \u001b[0;34m\u001b[0m\u001b[0m\n",
      "\u001b[0;32m/opt/anaconda/lib/python3.8/site-packages/pandas/core/reshape/merge.py\u001b[0m in \u001b[0;36mget_result\u001b[0;34m(self)\u001b[0m\n\u001b[1;32m    712\u001b[0m             \u001b[0mself\u001b[0m\u001b[0;34m.\u001b[0m\u001b[0mleft\u001b[0m\u001b[0;34m,\u001b[0m \u001b[0mself\u001b[0m\u001b[0;34m.\u001b[0m\u001b[0mright\u001b[0m \u001b[0;34m=\u001b[0m \u001b[0mself\u001b[0m\u001b[0;34m.\u001b[0m\u001b[0m_indicator_pre_merge\u001b[0m\u001b[0;34m(\u001b[0m\u001b[0mself\u001b[0m\u001b[0;34m.\u001b[0m\u001b[0mleft\u001b[0m\u001b[0;34m,\u001b[0m \u001b[0mself\u001b[0m\u001b[0;34m.\u001b[0m\u001b[0mright\u001b[0m\u001b[0;34m)\u001b[0m\u001b[0;34m\u001b[0m\u001b[0;34m\u001b[0m\u001b[0m\n\u001b[1;32m    713\u001b[0m \u001b[0;34m\u001b[0m\u001b[0m\n\u001b[0;32m--> 714\u001b[0;31m         \u001b[0mjoin_index\u001b[0m\u001b[0;34m,\u001b[0m \u001b[0mleft_indexer\u001b[0m\u001b[0;34m,\u001b[0m \u001b[0mright_indexer\u001b[0m \u001b[0;34m=\u001b[0m \u001b[0mself\u001b[0m\u001b[0;34m.\u001b[0m\u001b[0m_get_join_info\u001b[0m\u001b[0;34m(\u001b[0m\u001b[0;34m)\u001b[0m\u001b[0;34m\u001b[0m\u001b[0;34m\u001b[0m\u001b[0m\n\u001b[0m\u001b[1;32m    715\u001b[0m \u001b[0;34m\u001b[0m\u001b[0m\n\u001b[1;32m    716\u001b[0m         llabels, rlabels = _items_overlap_with_suffix(\n",
      "\u001b[0;32m/opt/anaconda/lib/python3.8/site-packages/pandas/core/reshape/merge.py\u001b[0m in \u001b[0;36m_get_join_info\u001b[0;34m(self)\u001b[0m\n\u001b[1;32m    949\u001b[0m \u001b[0;34m\u001b[0m\u001b[0m\n\u001b[1;32m    950\u001b[0m         \u001b[0;32mif\u001b[0m \u001b[0mself\u001b[0m\u001b[0;34m.\u001b[0m\u001b[0mleft_index\u001b[0m \u001b[0;32mand\u001b[0m \u001b[0mself\u001b[0m\u001b[0;34m.\u001b[0m\u001b[0mright_index\u001b[0m \u001b[0;32mand\u001b[0m \u001b[0mself\u001b[0m\u001b[0;34m.\u001b[0m\u001b[0mhow\u001b[0m \u001b[0;34m!=\u001b[0m \u001b[0;34m\"asof\"\u001b[0m\u001b[0;34m:\u001b[0m\u001b[0;34m\u001b[0m\u001b[0;34m\u001b[0m\u001b[0m\n\u001b[0;32m--> 951\u001b[0;31m             join_index, left_indexer, right_indexer = left_ax.join(\n\u001b[0m\u001b[1;32m    952\u001b[0m                 \u001b[0mright_ax\u001b[0m\u001b[0;34m,\u001b[0m \u001b[0mhow\u001b[0m\u001b[0;34m=\u001b[0m\u001b[0mself\u001b[0m\u001b[0;34m.\u001b[0m\u001b[0mhow\u001b[0m\u001b[0;34m,\u001b[0m \u001b[0mreturn_indexers\u001b[0m\u001b[0;34m=\u001b[0m\u001b[0;32mTrue\u001b[0m\u001b[0;34m,\u001b[0m \u001b[0msort\u001b[0m\u001b[0;34m=\u001b[0m\u001b[0mself\u001b[0m\u001b[0;34m.\u001b[0m\u001b[0msort\u001b[0m\u001b[0;34m\u001b[0m\u001b[0;34m\u001b[0m\u001b[0m\n\u001b[1;32m    953\u001b[0m             )\n",
      "\u001b[0;32m/opt/anaconda/lib/python3.8/site-packages/pandas/core/indexes/base.py\u001b[0m in \u001b[0;36mjoin\u001b[0;34m(self, other, how, level, return_indexers, sort)\u001b[0m\n\u001b[1;32m    205\u001b[0m         \u001b[0msort\u001b[0m\u001b[0;34m:\u001b[0m \u001b[0mbool\u001b[0m \u001b[0;34m=\u001b[0m \u001b[0;32mFalse\u001b[0m\u001b[0;34m,\u001b[0m\u001b[0;34m\u001b[0m\u001b[0;34m\u001b[0m\u001b[0m\n\u001b[1;32m    206\u001b[0m     ):\n\u001b[0;32m--> 207\u001b[0;31m         \u001b[0mjoin_index\u001b[0m\u001b[0;34m,\u001b[0m \u001b[0mlidx\u001b[0m\u001b[0;34m,\u001b[0m \u001b[0mridx\u001b[0m \u001b[0;34m=\u001b[0m \u001b[0mmeth\u001b[0m\u001b[0;34m(\u001b[0m\u001b[0mself\u001b[0m\u001b[0;34m,\u001b[0m \u001b[0mother\u001b[0m\u001b[0;34m,\u001b[0m \u001b[0mhow\u001b[0m\u001b[0;34m=\u001b[0m\u001b[0mhow\u001b[0m\u001b[0;34m,\u001b[0m \u001b[0mlevel\u001b[0m\u001b[0;34m=\u001b[0m\u001b[0mlevel\u001b[0m\u001b[0;34m,\u001b[0m \u001b[0msort\u001b[0m\u001b[0;34m=\u001b[0m\u001b[0msort\u001b[0m\u001b[0;34m)\u001b[0m\u001b[0;34m\u001b[0m\u001b[0;34m\u001b[0m\u001b[0m\n\u001b[0m\u001b[1;32m    208\u001b[0m         \u001b[0;32mif\u001b[0m \u001b[0;32mnot\u001b[0m \u001b[0mreturn_indexers\u001b[0m\u001b[0;34m:\u001b[0m\u001b[0;34m\u001b[0m\u001b[0;34m\u001b[0m\u001b[0m\n\u001b[1;32m    209\u001b[0m             \u001b[0;32mreturn\u001b[0m \u001b[0mjoin_index\u001b[0m\u001b[0;34m\u001b[0m\u001b[0;34m\u001b[0m\u001b[0m\n",
      "\u001b[0;32m/opt/anaconda/lib/python3.8/site-packages/pandas/core/indexes/base.py\u001b[0m in \u001b[0;36mjoin\u001b[0;34m(self, other, how, level, return_indexers, sort)\u001b[0m\n\u001b[1;32m   3993\u001b[0m         \u001b[0;32melif\u001b[0m \u001b[0;32mnot\u001b[0m \u001b[0mself\u001b[0m\u001b[0;34m.\u001b[0m\u001b[0mis_unique\u001b[0m \u001b[0;32mor\u001b[0m \u001b[0;32mnot\u001b[0m \u001b[0mother\u001b[0m\u001b[0;34m.\u001b[0m\u001b[0mis_unique\u001b[0m\u001b[0;34m:\u001b[0m\u001b[0;34m\u001b[0m\u001b[0;34m\u001b[0m\u001b[0m\n\u001b[1;32m   3994\u001b[0m             \u001b[0;32mif\u001b[0m \u001b[0mself\u001b[0m\u001b[0;34m.\u001b[0m\u001b[0mis_monotonic\u001b[0m \u001b[0;32mand\u001b[0m \u001b[0mother\u001b[0m\u001b[0;34m.\u001b[0m\u001b[0mis_monotonic\u001b[0m\u001b[0;34m:\u001b[0m\u001b[0;34m\u001b[0m\u001b[0;34m\u001b[0m\u001b[0m\n\u001b[0;32m-> 3995\u001b[0;31m                 \u001b[0;32mreturn\u001b[0m \u001b[0mself\u001b[0m\u001b[0;34m.\u001b[0m\u001b[0m_join_monotonic\u001b[0m\u001b[0;34m(\u001b[0m\u001b[0mother\u001b[0m\u001b[0;34m,\u001b[0m \u001b[0mhow\u001b[0m\u001b[0;34m=\u001b[0m\u001b[0mhow\u001b[0m\u001b[0;34m)\u001b[0m\u001b[0;34m\u001b[0m\u001b[0;34m\u001b[0m\u001b[0m\n\u001b[0m\u001b[1;32m   3996\u001b[0m             \u001b[0;32melse\u001b[0m\u001b[0;34m:\u001b[0m\u001b[0;34m\u001b[0m\u001b[0;34m\u001b[0m\u001b[0m\n\u001b[1;32m   3997\u001b[0m                 \u001b[0;32mreturn\u001b[0m \u001b[0mself\u001b[0m\u001b[0;34m.\u001b[0m\u001b[0m_join_non_unique\u001b[0m\u001b[0;34m(\u001b[0m\u001b[0mother\u001b[0m\u001b[0;34m,\u001b[0m \u001b[0mhow\u001b[0m\u001b[0;34m=\u001b[0m\u001b[0mhow\u001b[0m\u001b[0;34m)\u001b[0m\u001b[0;34m\u001b[0m\u001b[0;34m\u001b[0m\u001b[0m\n",
      "\u001b[0;32m/opt/anaconda/lib/python3.8/site-packages/pandas/core/indexes/base.py\u001b[0m in \u001b[0;36m_join_monotonic\u001b[0;34m(self, other, how)\u001b[0m\n\u001b[1;32m   4319\u001b[0m         \u001b[0;32melse\u001b[0m\u001b[0;34m:\u001b[0m\u001b[0;34m\u001b[0m\u001b[0;34m\u001b[0m\u001b[0m\n\u001b[1;32m   4320\u001b[0m             \u001b[0;32mif\u001b[0m \u001b[0mhow\u001b[0m \u001b[0;34m==\u001b[0m \u001b[0;34m\"left\"\u001b[0m\u001b[0;34m:\u001b[0m\u001b[0;34m\u001b[0m\u001b[0;34m\u001b[0m\u001b[0m\n\u001b[0;32m-> 4321\u001b[0;31m                 \u001b[0mjoin_array\u001b[0m\u001b[0;34m,\u001b[0m \u001b[0mlidx\u001b[0m\u001b[0;34m,\u001b[0m \u001b[0mridx\u001b[0m \u001b[0;34m=\u001b[0m \u001b[0mself\u001b[0m\u001b[0;34m.\u001b[0m\u001b[0m_left_indexer\u001b[0m\u001b[0;34m(\u001b[0m\u001b[0mother\u001b[0m\u001b[0;34m)\u001b[0m\u001b[0;34m\u001b[0m\u001b[0;34m\u001b[0m\u001b[0m\n\u001b[0m\u001b[1;32m   4322\u001b[0m             \u001b[0;32melif\u001b[0m \u001b[0mhow\u001b[0m \u001b[0;34m==\u001b[0m \u001b[0;34m\"right\"\u001b[0m\u001b[0;34m:\u001b[0m\u001b[0;34m\u001b[0m\u001b[0;34m\u001b[0m\u001b[0m\n\u001b[1;32m   4323\u001b[0m                 \u001b[0mjoin_array\u001b[0m\u001b[0;34m,\u001b[0m \u001b[0mridx\u001b[0m\u001b[0;34m,\u001b[0m \u001b[0mlidx\u001b[0m \u001b[0;34m=\u001b[0m \u001b[0mother\u001b[0m\u001b[0;34m.\u001b[0m\u001b[0m_left_indexer\u001b[0m\u001b[0;34m(\u001b[0m\u001b[0mself\u001b[0m\u001b[0;34m)\u001b[0m\u001b[0;34m\u001b[0m\u001b[0;34m\u001b[0m\u001b[0m\n",
      "\u001b[0;32m/opt/anaconda/lib/python3.8/site-packages/pandas/core/indexes/base.py\u001b[0m in \u001b[0;36m_left_indexer\u001b[0;34m(self, other)\u001b[0m\n\u001b[1;32m    321\u001b[0m         \u001b[0msv\u001b[0m \u001b[0;34m=\u001b[0m \u001b[0mself\u001b[0m\u001b[0;34m.\u001b[0m\u001b[0m_get_join_target\u001b[0m\u001b[0;34m(\u001b[0m\u001b[0;34m)\u001b[0m\u001b[0;34m\u001b[0m\u001b[0;34m\u001b[0m\u001b[0m\n\u001b[1;32m    322\u001b[0m         \u001b[0mov\u001b[0m \u001b[0;34m=\u001b[0m \u001b[0mother\u001b[0m\u001b[0;34m.\u001b[0m\u001b[0m_get_join_target\u001b[0m\u001b[0;34m(\u001b[0m\u001b[0;34m)\u001b[0m\u001b[0;34m\u001b[0m\u001b[0;34m\u001b[0m\u001b[0m\n\u001b[0;32m--> 323\u001b[0;31m         \u001b[0mjoined_ndarray\u001b[0m\u001b[0;34m,\u001b[0m \u001b[0mlidx\u001b[0m\u001b[0;34m,\u001b[0m \u001b[0mridx\u001b[0m \u001b[0;34m=\u001b[0m \u001b[0mlibjoin\u001b[0m\u001b[0;34m.\u001b[0m\u001b[0mleft_join_indexer\u001b[0m\u001b[0;34m(\u001b[0m\u001b[0msv\u001b[0m\u001b[0;34m,\u001b[0m \u001b[0mov\u001b[0m\u001b[0;34m)\u001b[0m\u001b[0;34m\u001b[0m\u001b[0;34m\u001b[0m\u001b[0m\n\u001b[0m\u001b[1;32m    324\u001b[0m         \u001b[0mjoined\u001b[0m \u001b[0;34m=\u001b[0m \u001b[0mself\u001b[0m\u001b[0;34m.\u001b[0m\u001b[0m_from_join_target\u001b[0m\u001b[0;34m(\u001b[0m\u001b[0mjoined_ndarray\u001b[0m\u001b[0;34m)\u001b[0m\u001b[0;34m\u001b[0m\u001b[0;34m\u001b[0m\u001b[0m\n\u001b[1;32m    325\u001b[0m         \u001b[0;32mreturn\u001b[0m \u001b[0mjoined\u001b[0m\u001b[0;34m,\u001b[0m \u001b[0mlidx\u001b[0m\u001b[0;34m,\u001b[0m \u001b[0mridx\u001b[0m\u001b[0;34m\u001b[0m\u001b[0;34m\u001b[0m\u001b[0m\n",
      "\u001b[0;31mKeyboardInterrupt\u001b[0m: "
     ]
    }
   ],
   "source": [
    "#NOTE: this approach is way too slow, especially the part where we explode into multiple rows \n",
    "import ast\n",
    "import re\n",
    "\n",
    "entList = [\"ORG\",\"EVENT\", \"PERSON\", \"WORK_OF_ART\", \"PRODUCT\"]\n",
    "\n",
    "#test out idea for creating reverse mapping \n",
    "testDf = df[[\"key\", \"topics\"]].head(80000).dropna(subset=[\"topics\"])\n",
    "testDf[\"topics\"] = testDf[\"topics\"].apply(list)\n",
    "\n",
    "#time consuming part is these three print statements \n",
    "print(\"list applied\")\n",
    "#split lists of tuples into seperate rows (i.e. long format )\n",
    "testDf = testDf.explode([\"topics\"])\n",
    "\n",
    "print(\"exploded\")\n",
    "\n",
    "#split ent_type, entity pairs to columns \n",
    "testDf[[\"ent_type\",\"entity\"]] = pd.DataFrame(testDf[\"topics\"].tolist(), index=testDf.index)\n",
    "\n",
    "print(\"split\")\n",
    "\n",
    "#only care about certain entity types \n",
    "testDf = testDf[testDf[\"ent_type\"].isin(entList)]\n",
    "\n",
    "print(\"subset\")\n",
    "\n",
    "#cleaning function\n",
    "def cleanEntities(inStr): \n",
    "    lower = inStr.lower()\n",
    "    alphaNum = \" \".join(re.sub(\"[^\\w\\s]\", \"\", lower).split())\n",
    "    return alphaNum\n",
    "\n",
    "#show that our cleaning function works well \n",
    "print(cleanEntities(\"h3ll0!..   \\nW0rlD&*  \\t,,\"))\n",
    "\n",
    "#clean up dataframe a bit \n",
    "testDf = testDf.drop(columns=[\"topics\"]).dropna(subset=[\"ent_type\", \"entity\"]).reset_index(drop=True)\n",
    "\n",
    "#clean up entities so they match eachother better \n",
    "testDf[\"entity\"] = testDf[\"entity\"].apply(cleanEntities)\n",
    "\n",
    "print(\"cleaned\")\n",
    "\n",
    "reverseMapping = testDf.groupby([\"ent_type\", \"entity\"]).agg(list)\n",
    "print(\"grouped\")"
   ]
  },
  {
   "cell_type": "code",
   "execution_count": 105,
   "metadata": {},
   "outputs": [
    {
     "data": {
      "text/html": [
       "<div>\n",
       "<style scoped>\n",
       "    .dataframe tbody tr th:only-of-type {\n",
       "        vertical-align: middle;\n",
       "    }\n",
       "\n",
       "    .dataframe tbody tr th {\n",
       "        vertical-align: top;\n",
       "    }\n",
       "\n",
       "    .dataframe thead th {\n",
       "        text-align: right;\n",
       "    }\n",
       "</style>\n",
       "<table border=\"1\" class=\"dataframe\">\n",
       "  <thead>\n",
       "    <tr style=\"text-align: right;\">\n",
       "      <th></th>\n",
       "      <th></th>\n",
       "      <th>key</th>\n",
       "      <th>len</th>\n",
       "    </tr>\n",
       "    <tr>\n",
       "      <th>ent_type</th>\n",
       "      <th>entity</th>\n",
       "      <th></th>\n",
       "      <th></th>\n",
       "    </tr>\n",
       "  </thead>\n",
       "  <tbody>\n",
       "    <tr>\n",
       "      <th rowspan=\"5\" valign=\"top\">EVENT</th>\n",
       "      <th>allstar game</th>\n",
       "      <td>[dailyherald_Go_Figure:_Ed_Farmer's_numbers_te...</td>\n",
       "      <td>2</td>\n",
       "    </tr>\n",
       "    <tr>\n",
       "      <th>an olympic games</th>\n",
       "      <td>[dailybreeze_Coronavirus_delays_UCLA_pole_vaul...</td>\n",
       "      <td>3</td>\n",
       "    </tr>\n",
       "    <tr>\n",
       "      <th>celtics</th>\n",
       "      <td>[dailybreeze_Who_else_is_joining_Kobe_Bryant_i...</td>\n",
       "      <td>3</td>\n",
       "    </tr>\n",
       "    <tr>\n",
       "      <th>championships</th>\n",
       "      <td>[westhawaiitoday_Virus_forces_Wimbledon_cancel...</td>\n",
       "      <td>2</td>\n",
       "    </tr>\n",
       "    <tr>\n",
       "      <th>division ii</th>\n",
       "      <td>[contracostatimes_Kobe_Bryant,_Tim_Duncan_head...</td>\n",
       "      <td>8</td>\n",
       "    </tr>\n",
       "    <tr>\n",
       "      <th>...</th>\n",
       "      <th>...</th>\n",
       "      <td>...</td>\n",
       "      <td>...</td>\n",
       "    </tr>\n",
       "    <tr>\n",
       "      <th rowspan=\"5\" valign=\"top\">WORK_OF_ART</th>\n",
       "      <th>today</th>\n",
       "      <td>[dailyreviewatlas_'I_just_don't_understand':_A...</td>\n",
       "      <td>4</td>\n",
       "    </tr>\n",
       "    <tr>\n",
       "      <th>top class actions</th>\n",
       "      <td>[dailyreviewatlas_Coronavirus_goes_to_court:_A...</td>\n",
       "      <td>4</td>\n",
       "    </tr>\n",
       "    <tr>\n",
       "      <th>top gun maverick</th>\n",
       "      <td>[waterburyrepublicanamerican_‘Top_Gun_Maverick...</td>\n",
       "      <td>2</td>\n",
       "    </tr>\n",
       "    <tr>\n",
       "      <th>we are big</th>\n",
       "      <td>[dailyreviewatlas_Coronavirus_goes_to_court:_A...</td>\n",
       "      <td>4</td>\n",
       "    </tr>\n",
       "    <tr>\n",
       "      <th>world on fire</th>\n",
       "      <td>[waterburyrepublicanamerican_Commentary:_Two_b...</td>\n",
       "      <td>4</td>\n",
       "    </tr>\n",
       "  </tbody>\n",
       "</table>\n",
       "<p>2361 rows × 2 columns</p>\n",
       "</div>"
      ],
      "text/plain": [
       "                                                                             key  \\\n",
       "ent_type    entity                                                                 \n",
       "EVENT       allstar game       [dailyherald_Go_Figure:_Ed_Farmer's_numbers_te...   \n",
       "            an olympic games   [dailybreeze_Coronavirus_delays_UCLA_pole_vaul...   \n",
       "            celtics            [dailybreeze_Who_else_is_joining_Kobe_Bryant_i...   \n",
       "            championships      [westhawaiitoday_Virus_forces_Wimbledon_cancel...   \n",
       "            division ii        [contracostatimes_Kobe_Bryant,_Tim_Duncan_head...   \n",
       "...                                                                          ...   \n",
       "WORK_OF_ART today              [dailyreviewatlas_'I_just_don't_understand':_A...   \n",
       "            top class actions  [dailyreviewatlas_Coronavirus_goes_to_court:_A...   \n",
       "            top gun maverick   [waterburyrepublicanamerican_‘Top_Gun_Maverick...   \n",
       "            we are big         [dailyreviewatlas_Coronavirus_goes_to_court:_A...   \n",
       "            world on fire      [waterburyrepublicanamerican_Commentary:_Two_b...   \n",
       "\n",
       "                               len  \n",
       "ent_type    entity                  \n",
       "EVENT       allstar game         2  \n",
       "            an olympic games     3  \n",
       "            celtics              3  \n",
       "            championships        2  \n",
       "            division ii          8  \n",
       "...                            ...  \n",
       "WORK_OF_ART today                4  \n",
       "            top class actions    4  \n",
       "            top gun maverick     2  \n",
       "            we are big           4  \n",
       "            world on fire        4  \n",
       "\n",
       "[2361 rows x 2 columns]"
      ]
     },
     "execution_count": 105,
     "metadata": {},
     "output_type": "execute_result"
    }
   ],
   "source": [
    "reverseMapping[\"len\"] = reverseMapping[\"key\"].map(len)\n",
    "reverseMapping[reverseMapping[\"len\"] >=2]\n",
    "\n",
    "def create_mapping(inList): \n",
    "    create_mapping(inList)"
   ]
  },
  {
   "cell_type": "code",
   "execution_count": 63,
   "metadata": {},
   "outputs": [
    {
     "ename": "ValueError",
     "evalue": "malformed node or string: [('PERSON', 'Dan Shehan’s'), ('WORK_OF_ART', 'My Polio Story'), ('DATE', 'week'), ('DATE', 'the 1950s'), ('DATE', 'today'), ('ORG', 'Coronavirus'), ('PERSON', 'Morgan Moore'), ('PERSON', 'Kenneth Moore Hannon'), ('GPE', 'Andalusia'), ('GPE', 'Mobile'), ('ORG', 'the Crippled Children’s Clinic'), ('FAC', 'the Scherf Memorial Building'), ('FAC', 'Opp Avenue'), ('ORG', 'the Red Cross'), ('GPE', 'Andalusia'), ('PERSON', 'Hannon'), ('ORG', 'Medicaid'), ('PERSON', 'Lawrence Bowness'), ('GPE', 'Chicago'), ('GPE', 'Chicago'), ('DATE', 'ten year old'), ('TIME', 'one morning'), ('GPE', 'Pensacola'), ('PERSON', 'Robert Earl Vickery'), ('GPE', 'Birmingham'), ('GPE', 'Pensacola'), ('DATE', 'the middle of the'), ('ORG', 'Navy'), ('GPE', 'Birmingham'), ('CARDINAL', 'two'), ('PERSON', 'Norman'), ('PERSON', 'Henry Everage'), ('ORG', 'Jefferson Hillman Hospital'), ('DATE', 'the next six months'), ('ORDINAL', '11th'), ('DATE', 'the spring of 1954'), ('GPE', 'Gonzalez'), ('GPE', 'Florida'), ('GPE', 'Pensacola'), ('PERSON', 'Dan'), ('ORG', 'Tate High School'), ('DATE', '1957'), ('GPE', 'Warm Springs'), ('GPE', 'Georgia'), ('PERSON', 'Roosevelt'), ('PERSON', 'Dan'), ('ORG', 'the Warm Springs Clinic'), ('DATE', '1960'), ('FAC', 'the Brent Christian High School'), ('GPE', 'Pensacola'), ('ORG', 'Shehan'), ('ORG', 'Bob Jones University'), ('GPE', 'Greenville'), ('GPE', 'South Carolina'), ('ORG', 'Harrington'), ('DATE', 'January 1966'), ('DATE', 'the 2nd semester'), ('GPE', 'DeFuniak Springs'), ('GPE', 'Florida'), ('DATE', 'the beginning of the next school year'), ('ORG', 'Andalusia High School Principal Murray King'), ('LANGUAGE', 'English'), ('DATE', 'his first year'), ('CARDINAL', 'eight'), ('DATE', 'six-week'), ('GPE', 'England'), ('GPE', 'Ireland'), ('GPE', 'Scotland'), ('GPE', 'France'), ('DATE', 'the next three summers'), ('ORG', 'the University of South Alabama'), ('NORP', 'English'), ('CARDINAL', 'one'), ('DATE', 'the year 1976'), ('PERSON', 'Shehan'), ('DATE', 'the end of each day'), ('TIME', 'one night'), ('DATE', 'the next day'), ('DATE', 'about a week'), ('GPE', 'Houston'), ('GPE', 'Texas'), ('ORG', 'Emory University'), ('GPE', 'Atlanta'), ('DATE', 'March'), ('GPE', 'Augusta'), ('GPE', 'Georgia'), ('GPE', 'Andalusia'), ('PERSON', 'Shehan'), ('CARDINAL', 'One'), ('DATE', 'March'), ('DATE', '1995'), ('PERSON', 'Shehan'), ('CARDINAL', 'one'), ('DATE', 'many years'), ('PERSON', 'S. Daniel Shehan'), ('LANGUAGE', 'English'), ('PERSON', 'Joseph C. Wingard'), ('DATE', 'annual'), ('WORK_OF_ART', 'Christmas Sing-a-Long'), ('DATE', '25 years'), ('DATE', 'Christmas'), ('ORG', 'Shehan'), ('DATE', 'many years'), ('ORG', 'the First Baptist Church'), ('FAC', 'the Bull Street Baptist Church'), ('GPE', 'Savannah'), ('WORK_OF_ART', 'Old Rugged Cross'), ('GPE', 'Andalusia'), ('PERSON', 'Dan Shehan'), ('ORG', 'the First National Bank Building on Court'), ('ORG', 'FNBB'), ('GPE', 'Savannah'), ('GPE', 'Georgia'), ('ORG', 'the Coastal Empire Polio Survivors Association'), ('ORG', 'the Three Notch Museum'), ('DATE', 'the 1950s'), ('GPE', 'Georgia'), ('GPE', 'Andalusia'), ('GPE', 'Alabama'), ('ORG', 'the University of New Orleans'), ('ORG', 'Arizona State University'), ('PERSON', 'Connie Zeanah Atkinson'), ('DATE', '1965'), ('ORG', 'UNO'), ('PERSON', 'Covington Countians'), ('DATE', 'summer'), ('PERSON', 'Dickens’'), ('PERSON', 'Tiny Tim'), ('PERSON', 'S. Daniel Shehan'), ('PERSON', 'Bass Wilson'), ('DATE', '1965'), ('ORG', 'the Covington Historical Society')]",
     "output_type": "error",
     "traceback": [
      "\u001b[0;31m---------------------------------------------------------------------------\u001b[0m",
      "\u001b[0;31mValueError\u001b[0m                                Traceback (most recent call last)",
      "\u001b[0;32m<ipython-input-63-b422b53679ef>\u001b[0m in \u001b[0;36m<module>\u001b[0;34m\u001b[0m\n\u001b[1;32m      1\u001b[0m \u001b[0mtestDf\u001b[0m \u001b[0;34m=\u001b[0m \u001b[0mdf\u001b[0m\u001b[0;34m[\u001b[0m\u001b[0;34m[\u001b[0m\u001b[0;34m\"key\"\u001b[0m\u001b[0;34m,\u001b[0m \u001b[0;34m\"topics\"\u001b[0m\u001b[0;34m]\u001b[0m\u001b[0;34m]\u001b[0m\u001b[0;34m.\u001b[0m\u001b[0mhead\u001b[0m\u001b[0;34m(\u001b[0m\u001b[0;36m1000\u001b[0m\u001b[0;34m)\u001b[0m\u001b[0;34m.\u001b[0m\u001b[0mdropna\u001b[0m\u001b[0;34m(\u001b[0m\u001b[0;34m)\u001b[0m\u001b[0;34m\u001b[0m\u001b[0;34m\u001b[0m\u001b[0m\n\u001b[0;32m----> 2\u001b[0;31m \u001b[0mtestDf\u001b[0m\u001b[0;34m[\u001b[0m\u001b[0;34m\"topics\"\u001b[0m\u001b[0;34m]\u001b[0m \u001b[0;34m=\u001b[0m \u001b[0mtestDf\u001b[0m\u001b[0;34m[\u001b[0m\u001b[0;34m\"topics\"\u001b[0m\u001b[0;34m]\u001b[0m\u001b[0;34m.\u001b[0m\u001b[0mapply\u001b[0m\u001b[0;34m(\u001b[0m\u001b[0mast\u001b[0m\u001b[0;34m.\u001b[0m\u001b[0mliteral_eval\u001b[0m\u001b[0;34m)\u001b[0m\u001b[0;34m\u001b[0m\u001b[0;34m\u001b[0m\u001b[0m\n\u001b[0m",
      "\u001b[0;32m/opt/anaconda/lib/python3.8/site-packages/pandas/core/series.py\u001b[0m in \u001b[0;36mapply\u001b[0;34m(self, func, convert_dtype, args, **kwargs)\u001b[0m\n\u001b[1;32m   4355\u001b[0m         \u001b[0mdtype\u001b[0m\u001b[0;34m:\u001b[0m \u001b[0mfloat64\u001b[0m\u001b[0;34m\u001b[0m\u001b[0;34m\u001b[0m\u001b[0m\n\u001b[1;32m   4356\u001b[0m         \"\"\"\n\u001b[0;32m-> 4357\u001b[0;31m         \u001b[0;32mreturn\u001b[0m \u001b[0mSeriesApply\u001b[0m\u001b[0;34m(\u001b[0m\u001b[0mself\u001b[0m\u001b[0;34m,\u001b[0m \u001b[0mfunc\u001b[0m\u001b[0;34m,\u001b[0m \u001b[0mconvert_dtype\u001b[0m\u001b[0;34m,\u001b[0m \u001b[0margs\u001b[0m\u001b[0;34m,\u001b[0m \u001b[0mkwargs\u001b[0m\u001b[0;34m)\u001b[0m\u001b[0;34m.\u001b[0m\u001b[0mapply\u001b[0m\u001b[0;34m(\u001b[0m\u001b[0;34m)\u001b[0m\u001b[0;34m\u001b[0m\u001b[0;34m\u001b[0m\u001b[0m\n\u001b[0m\u001b[1;32m   4358\u001b[0m \u001b[0;34m\u001b[0m\u001b[0m\n\u001b[1;32m   4359\u001b[0m     def _reduce(\n",
      "\u001b[0;32m/opt/anaconda/lib/python3.8/site-packages/pandas/core/apply.py\u001b[0m in \u001b[0;36mapply\u001b[0;34m(self)\u001b[0m\n\u001b[1;32m   1041\u001b[0m             \u001b[0;32mreturn\u001b[0m \u001b[0mself\u001b[0m\u001b[0;34m.\u001b[0m\u001b[0mapply_str\u001b[0m\u001b[0;34m(\u001b[0m\u001b[0;34m)\u001b[0m\u001b[0;34m\u001b[0m\u001b[0;34m\u001b[0m\u001b[0m\n\u001b[1;32m   1042\u001b[0m \u001b[0;34m\u001b[0m\u001b[0m\n\u001b[0;32m-> 1043\u001b[0;31m         \u001b[0;32mreturn\u001b[0m \u001b[0mself\u001b[0m\u001b[0;34m.\u001b[0m\u001b[0mapply_standard\u001b[0m\u001b[0;34m(\u001b[0m\u001b[0;34m)\u001b[0m\u001b[0;34m\u001b[0m\u001b[0;34m\u001b[0m\u001b[0m\n\u001b[0m\u001b[1;32m   1044\u001b[0m \u001b[0;34m\u001b[0m\u001b[0m\n\u001b[1;32m   1045\u001b[0m     \u001b[0;32mdef\u001b[0m \u001b[0magg\u001b[0m\u001b[0;34m(\u001b[0m\u001b[0mself\u001b[0m\u001b[0;34m)\u001b[0m\u001b[0;34m:\u001b[0m\u001b[0;34m\u001b[0m\u001b[0;34m\u001b[0m\u001b[0m\n",
      "\u001b[0;32m/opt/anaconda/lib/python3.8/site-packages/pandas/core/apply.py\u001b[0m in \u001b[0;36mapply_standard\u001b[0;34m(self)\u001b[0m\n\u001b[1;32m   1097\u001b[0m                 \u001b[0;31m# List[Union[Callable[..., Any], str]]]]]\"; expected\u001b[0m\u001b[0;34m\u001b[0m\u001b[0;34m\u001b[0m\u001b[0;34m\u001b[0m\u001b[0m\n\u001b[1;32m   1098\u001b[0m                 \u001b[0;31m# \"Callable[[Any], Any]\"\u001b[0m\u001b[0;34m\u001b[0m\u001b[0;34m\u001b[0m\u001b[0;34m\u001b[0m\u001b[0m\n\u001b[0;32m-> 1099\u001b[0;31m                 mapped = lib.map_infer(\n\u001b[0m\u001b[1;32m   1100\u001b[0m                     \u001b[0mvalues\u001b[0m\u001b[0;34m,\u001b[0m\u001b[0;34m\u001b[0m\u001b[0;34m\u001b[0m\u001b[0m\n\u001b[1;32m   1101\u001b[0m                     \u001b[0mf\u001b[0m\u001b[0;34m,\u001b[0m  \u001b[0;31m# type: ignore[arg-type]\u001b[0m\u001b[0;34m\u001b[0m\u001b[0;34m\u001b[0m\u001b[0m\n",
      "\u001b[0;32m/opt/anaconda/lib/python3.8/site-packages/pandas/_libs/lib.pyx\u001b[0m in \u001b[0;36mpandas._libs.lib.map_infer\u001b[0;34m()\u001b[0m\n",
      "\u001b[0;32m/opt/anaconda/lib/python3.8/ast.py\u001b[0m in \u001b[0;36mliteral_eval\u001b[0;34m(node_or_string)\u001b[0m\n\u001b[1;32m     97\u001b[0m                     \u001b[0;32mreturn\u001b[0m \u001b[0mleft\u001b[0m \u001b[0;34m-\u001b[0m \u001b[0mright\u001b[0m\u001b[0;34m\u001b[0m\u001b[0;34m\u001b[0m\u001b[0m\n\u001b[1;32m     98\u001b[0m         \u001b[0;32mreturn\u001b[0m \u001b[0m_convert_signed_num\u001b[0m\u001b[0;34m(\u001b[0m\u001b[0mnode\u001b[0m\u001b[0;34m)\u001b[0m\u001b[0;34m\u001b[0m\u001b[0;34m\u001b[0m\u001b[0m\n\u001b[0;32m---> 99\u001b[0;31m     \u001b[0;32mreturn\u001b[0m \u001b[0m_convert\u001b[0m\u001b[0;34m(\u001b[0m\u001b[0mnode_or_string\u001b[0m\u001b[0;34m)\u001b[0m\u001b[0;34m\u001b[0m\u001b[0;34m\u001b[0m\u001b[0m\n\u001b[0m\u001b[1;32m    100\u001b[0m \u001b[0;34m\u001b[0m\u001b[0m\n\u001b[1;32m    101\u001b[0m \u001b[0;34m\u001b[0m\u001b[0m\n",
      "\u001b[0;32m/opt/anaconda/lib/python3.8/ast.py\u001b[0m in \u001b[0;36m_convert\u001b[0;34m(node)\u001b[0m\n\u001b[1;32m     96\u001b[0m                 \u001b[0;32melse\u001b[0m\u001b[0;34m:\u001b[0m\u001b[0;34m\u001b[0m\u001b[0;34m\u001b[0m\u001b[0m\n\u001b[1;32m     97\u001b[0m                     \u001b[0;32mreturn\u001b[0m \u001b[0mleft\u001b[0m \u001b[0;34m-\u001b[0m \u001b[0mright\u001b[0m\u001b[0;34m\u001b[0m\u001b[0;34m\u001b[0m\u001b[0m\n\u001b[0;32m---> 98\u001b[0;31m         \u001b[0;32mreturn\u001b[0m \u001b[0m_convert_signed_num\u001b[0m\u001b[0;34m(\u001b[0m\u001b[0mnode\u001b[0m\u001b[0;34m)\u001b[0m\u001b[0;34m\u001b[0m\u001b[0;34m\u001b[0m\u001b[0m\n\u001b[0m\u001b[1;32m     99\u001b[0m     \u001b[0;32mreturn\u001b[0m \u001b[0m_convert\u001b[0m\u001b[0;34m(\u001b[0m\u001b[0mnode_or_string\u001b[0m\u001b[0;34m)\u001b[0m\u001b[0;34m\u001b[0m\u001b[0;34m\u001b[0m\u001b[0m\n\u001b[1;32m    100\u001b[0m \u001b[0;34m\u001b[0m\u001b[0m\n",
      "\u001b[0;32m/opt/anaconda/lib/python3.8/ast.py\u001b[0m in \u001b[0;36m_convert_signed_num\u001b[0;34m(node)\u001b[0m\n\u001b[1;32m     73\u001b[0m             \u001b[0;32melse\u001b[0m\u001b[0;34m:\u001b[0m\u001b[0;34m\u001b[0m\u001b[0;34m\u001b[0m\u001b[0m\n\u001b[1;32m     74\u001b[0m                 \u001b[0;32mreturn\u001b[0m \u001b[0;34m-\u001b[0m \u001b[0moperand\u001b[0m\u001b[0;34m\u001b[0m\u001b[0;34m\u001b[0m\u001b[0m\n\u001b[0;32m---> 75\u001b[0;31m         \u001b[0;32mreturn\u001b[0m \u001b[0m_convert_num\u001b[0m\u001b[0;34m(\u001b[0m\u001b[0mnode\u001b[0m\u001b[0;34m)\u001b[0m\u001b[0;34m\u001b[0m\u001b[0;34m\u001b[0m\u001b[0m\n\u001b[0m\u001b[1;32m     76\u001b[0m     \u001b[0;32mdef\u001b[0m \u001b[0m_convert\u001b[0m\u001b[0;34m(\u001b[0m\u001b[0mnode\u001b[0m\u001b[0;34m)\u001b[0m\u001b[0;34m:\u001b[0m\u001b[0;34m\u001b[0m\u001b[0;34m\u001b[0m\u001b[0m\n\u001b[1;32m     77\u001b[0m         \u001b[0;32mif\u001b[0m \u001b[0misinstance\u001b[0m\u001b[0;34m(\u001b[0m\u001b[0mnode\u001b[0m\u001b[0;34m,\u001b[0m \u001b[0mConstant\u001b[0m\u001b[0;34m)\u001b[0m\u001b[0;34m:\u001b[0m\u001b[0;34m\u001b[0m\u001b[0;34m\u001b[0m\u001b[0m\n",
      "\u001b[0;32m/opt/anaconda/lib/python3.8/ast.py\u001b[0m in \u001b[0;36m_convert_num\u001b[0;34m(node)\u001b[0m\n\u001b[1;32m     64\u001b[0m     \u001b[0;32mdef\u001b[0m \u001b[0m_convert_num\u001b[0m\u001b[0;34m(\u001b[0m\u001b[0mnode\u001b[0m\u001b[0;34m)\u001b[0m\u001b[0;34m:\u001b[0m\u001b[0;34m\u001b[0m\u001b[0;34m\u001b[0m\u001b[0m\n\u001b[1;32m     65\u001b[0m         \u001b[0;32mif\u001b[0m \u001b[0;32mnot\u001b[0m \u001b[0misinstance\u001b[0m\u001b[0;34m(\u001b[0m\u001b[0mnode\u001b[0m\u001b[0;34m,\u001b[0m \u001b[0mConstant\u001b[0m\u001b[0;34m)\u001b[0m \u001b[0;32mor\u001b[0m \u001b[0mtype\u001b[0m\u001b[0;34m(\u001b[0m\u001b[0mnode\u001b[0m\u001b[0;34m.\u001b[0m\u001b[0mvalue\u001b[0m\u001b[0;34m)\u001b[0m \u001b[0;32mnot\u001b[0m \u001b[0;32min\u001b[0m \u001b[0;34m(\u001b[0m\u001b[0mint\u001b[0m\u001b[0;34m,\u001b[0m \u001b[0mfloat\u001b[0m\u001b[0;34m,\u001b[0m \u001b[0mcomplex\u001b[0m\u001b[0;34m)\u001b[0m\u001b[0;34m:\u001b[0m\u001b[0;34m\u001b[0m\u001b[0;34m\u001b[0m\u001b[0m\n\u001b[0;32m---> 66\u001b[0;31m             \u001b[0m_raise_malformed_node\u001b[0m\u001b[0;34m(\u001b[0m\u001b[0mnode\u001b[0m\u001b[0;34m)\u001b[0m\u001b[0;34m\u001b[0m\u001b[0;34m\u001b[0m\u001b[0m\n\u001b[0m\u001b[1;32m     67\u001b[0m         \u001b[0;32mreturn\u001b[0m \u001b[0mnode\u001b[0m\u001b[0;34m.\u001b[0m\u001b[0mvalue\u001b[0m\u001b[0;34m\u001b[0m\u001b[0;34m\u001b[0m\u001b[0m\n\u001b[1;32m     68\u001b[0m     \u001b[0;32mdef\u001b[0m \u001b[0m_convert_signed_num\u001b[0m\u001b[0;34m(\u001b[0m\u001b[0mnode\u001b[0m\u001b[0;34m)\u001b[0m\u001b[0;34m:\u001b[0m\u001b[0;34m\u001b[0m\u001b[0;34m\u001b[0m\u001b[0m\n",
      "\u001b[0;32m/opt/anaconda/lib/python3.8/ast.py\u001b[0m in \u001b[0;36m_raise_malformed_node\u001b[0;34m(node)\u001b[0m\n\u001b[1;32m     61\u001b[0m         \u001b[0mnode_or_string\u001b[0m \u001b[0;34m=\u001b[0m \u001b[0mnode_or_string\u001b[0m\u001b[0;34m.\u001b[0m\u001b[0mbody\u001b[0m\u001b[0;34m\u001b[0m\u001b[0;34m\u001b[0m\u001b[0m\n\u001b[1;32m     62\u001b[0m     \u001b[0;32mdef\u001b[0m \u001b[0m_raise_malformed_node\u001b[0m\u001b[0;34m(\u001b[0m\u001b[0mnode\u001b[0m\u001b[0;34m)\u001b[0m\u001b[0;34m:\u001b[0m\u001b[0;34m\u001b[0m\u001b[0;34m\u001b[0m\u001b[0m\n\u001b[0;32m---> 63\u001b[0;31m         \u001b[0;32mraise\u001b[0m \u001b[0mValueError\u001b[0m\u001b[0;34m(\u001b[0m\u001b[0;34mf'malformed node or string: {node!r}'\u001b[0m\u001b[0;34m)\u001b[0m\u001b[0;34m\u001b[0m\u001b[0;34m\u001b[0m\u001b[0m\n\u001b[0m\u001b[1;32m     64\u001b[0m     \u001b[0;32mdef\u001b[0m \u001b[0m_convert_num\u001b[0m\u001b[0;34m(\u001b[0m\u001b[0mnode\u001b[0m\u001b[0;34m)\u001b[0m\u001b[0;34m:\u001b[0m\u001b[0;34m\u001b[0m\u001b[0;34m\u001b[0m\u001b[0m\n\u001b[1;32m     65\u001b[0m         \u001b[0;32mif\u001b[0m \u001b[0;32mnot\u001b[0m \u001b[0misinstance\u001b[0m\u001b[0;34m(\u001b[0m\u001b[0mnode\u001b[0m\u001b[0;34m,\u001b[0m \u001b[0mConstant\u001b[0m\u001b[0;34m)\u001b[0m \u001b[0;32mor\u001b[0m \u001b[0mtype\u001b[0m\u001b[0;34m(\u001b[0m\u001b[0mnode\u001b[0m\u001b[0;34m.\u001b[0m\u001b[0mvalue\u001b[0m\u001b[0;34m)\u001b[0m \u001b[0;32mnot\u001b[0m \u001b[0;32min\u001b[0m \u001b[0;34m(\u001b[0m\u001b[0mint\u001b[0m\u001b[0;34m,\u001b[0m \u001b[0mfloat\u001b[0m\u001b[0;34m,\u001b[0m \u001b[0mcomplex\u001b[0m\u001b[0;34m)\u001b[0m\u001b[0;34m:\u001b[0m\u001b[0;34m\u001b[0m\u001b[0;34m\u001b[0m\u001b[0m\n",
      "\u001b[0;31mValueError\u001b[0m: malformed node or string: [('PERSON', 'Dan Shehan’s'), ('WORK_OF_ART', 'My Polio Story'), ('DATE', 'week'), ('DATE', 'the 1950s'), ('DATE', 'today'), ('ORG', 'Coronavirus'), ('PERSON', 'Morgan Moore'), ('PERSON', 'Kenneth Moore Hannon'), ('GPE', 'Andalusia'), ('GPE', 'Mobile'), ('ORG', 'the Crippled Children’s Clinic'), ('FAC', 'the Scherf Memorial Building'), ('FAC', 'Opp Avenue'), ('ORG', 'the Red Cross'), ('GPE', 'Andalusia'), ('PERSON', 'Hannon'), ('ORG', 'Medicaid'), ('PERSON', 'Lawrence Bowness'), ('GPE', 'Chicago'), ('GPE', 'Chicago'), ('DATE', 'ten year old'), ('TIME', 'one morning'), ('GPE', 'Pensacola'), ('PERSON', 'Robert Earl Vickery'), ('GPE', 'Birmingham'), ('GPE', 'Pensacola'), ('DATE', 'the middle of the'), ('ORG', 'Navy'), ('GPE', 'Birmingham'), ('CARDINAL', 'two'), ('PERSON', 'Norman'), ('PERSON', 'Henry Everage'), ('ORG', 'Jefferson Hillman Hospital'), ('DATE', 'the next six months'), ('ORDINAL', '11th'), ('DATE', 'the spring of 1954'), ('GPE', 'Gonzalez'), ('GPE', 'Florida'), ('GPE', 'Pensacola'), ('PERSON', 'Dan'), ('ORG', 'Tate High School'), ('DATE', '1957'), ('GPE', 'Warm Springs'), ('GPE', 'Georgia'), ('PERSON', 'Roosevelt'), ('PERSON', 'Dan'), ('ORG', 'the Warm Springs Clinic'), ('DATE', '1960'), ('FAC', 'the Brent Christian High School'), ('GPE', 'Pensacola'), ('ORG', 'Shehan'), ('ORG', 'Bob Jones University'), ('GPE', 'Greenville'), ('GPE', 'South Carolina'), ('ORG', 'Harrington'), ('DATE', 'January 1966'), ('DATE', 'the 2nd semester'), ('GPE', 'DeFuniak Springs'), ('GPE', 'Florida'), ('DATE', 'the beginning of the next school year'), ('ORG', 'Andalusia High School Principal Murray King'), ('LANGUAGE', 'English'), ('DATE', 'his first year'), ('CARDINAL', 'eight'), ('DATE', 'six-week'), ('GPE', 'England'), ('GPE', 'Ireland'), ('GPE', 'Scotland'), ('GPE', 'France'), ('DATE', 'the next three summers'), ('ORG', 'the University of South Alabama'), ('NORP', 'English'), ('CARDINAL', 'one'), ('DATE', 'the year 1976'), ('PERSON', 'Shehan'), ('DATE', 'the end of each day'), ('TIME', 'one night'), ('DATE', 'the next day'), ('DATE', 'about a week'), ('GPE', 'Houston'), ('GPE', 'Texas'), ('ORG', 'Emory University'), ('GPE', 'Atlanta'), ('DATE', 'March'), ('GPE', 'Augusta'), ('GPE', 'Georgia'), ('GPE', 'Andalusia'), ('PERSON', 'Shehan'), ('CARDINAL', 'One'), ('DATE', 'March'), ('DATE', '1995'), ('PERSON', 'Shehan'), ('CARDINAL', 'one'), ('DATE', 'many years'), ('PERSON', 'S. Daniel Shehan'), ('LANGUAGE', 'English'), ('PERSON', 'Joseph C. Wingard'), ('DATE', 'annual'), ('WORK_OF_ART', 'Christmas Sing-a-Long'), ('DATE', '25 years'), ('DATE', 'Christmas'), ('ORG', 'Shehan'), ('DATE', 'many years'), ('ORG', 'the First Baptist Church'), ('FAC', 'the Bull Street Baptist Church'), ('GPE', 'Savannah'), ('WORK_OF_ART', 'Old Rugged Cross'), ('GPE', 'Andalusia'), ('PERSON', 'Dan Shehan'), ('ORG', 'the First National Bank Building on Court'), ('ORG', 'FNBB'), ('GPE', 'Savannah'), ('GPE', 'Georgia'), ('ORG', 'the Coastal Empire Polio Survivors Association'), ('ORG', 'the Three Notch Museum'), ('DATE', 'the 1950s'), ('GPE', 'Georgia'), ('GPE', 'Andalusia'), ('GPE', 'Alabama'), ('ORG', 'the University of New Orleans'), ('ORG', 'Arizona State University'), ('PERSON', 'Connie Zeanah Atkinson'), ('DATE', '1965'), ('ORG', 'UNO'), ('PERSON', 'Covington Countians'), ('DATE', 'summer'), ('PERSON', 'Dickens’'), ('PERSON', 'Tiny Tim'), ('PERSON', 'S. Daniel Shehan'), ('PERSON', 'Bass Wilson'), ('DATE', '1965'), ('ORG', 'the Covington Historical Society')]"
     ]
    }
   ],
   "source": [
    "testDf = df[[\"key\", \"topics\"]].head(1000).dropna()\n",
    "testDf[\"topics\"] = testDf[\"topics\"].apply(ast.literal_eval)\n"
   ]
  },
  {
   "cell_type": "code",
   "execution_count": 33,
   "metadata": {},
   "outputs": [
    {
     "data": {
      "text/html": [
       "<div>\n",
       "<style scoped>\n",
       "    .dataframe tbody tr th:only-of-type {\n",
       "        vertical-align: middle;\n",
       "    }\n",
       "\n",
       "    .dataframe tbody tr th {\n",
       "        vertical-align: top;\n",
       "    }\n",
       "\n",
       "    .dataframe thead th {\n",
       "        text-align: right;\n",
       "    }\n",
       "</style>\n",
       "<table border=\"1\" class=\"dataframe\">\n",
       "  <thead>\n",
       "    <tr style=\"text-align: right;\">\n",
       "      <th></th>\n",
       "      <th>0</th>\n",
       "      <th>1</th>\n",
       "    </tr>\n",
       "  </thead>\n",
       "  <tbody>\n",
       "    <tr>\n",
       "      <th>0</th>\n",
       "      <td>PERSON</td>\n",
       "      <td>Dan Shehan’s</td>\n",
       "    </tr>\n",
       "    <tr>\n",
       "      <th>1</th>\n",
       "      <td>WORK_OF_ART</td>\n",
       "      <td>My Polio Story</td>\n",
       "    </tr>\n",
       "    <tr>\n",
       "      <th>2</th>\n",
       "      <td>DATE</td>\n",
       "      <td>week</td>\n",
       "    </tr>\n",
       "    <tr>\n",
       "      <th>3</th>\n",
       "      <td>DATE</td>\n",
       "      <td>the 1950s</td>\n",
       "    </tr>\n",
       "    <tr>\n",
       "      <th>4</th>\n",
       "      <td>DATE</td>\n",
       "      <td>today</td>\n",
       "    </tr>\n",
       "    <tr>\n",
       "      <th>...</th>\n",
       "      <td>...</td>\n",
       "      <td>...</td>\n",
       "    </tr>\n",
       "    <tr>\n",
       "      <th>43170</th>\n",
       "      <td>QUANTITY</td>\n",
       "      <td>100-mile</td>\n",
       "    </tr>\n",
       "    <tr>\n",
       "      <th>43171</th>\n",
       "      <td>PERSON</td>\n",
       "      <td>Ramon Padilla</td>\n",
       "    </tr>\n",
       "    <tr>\n",
       "      <th>43172</th>\n",
       "      <td>PERSON</td>\n",
       "      <td>Mitchell Thorson</td>\n",
       "    </tr>\n",
       "    <tr>\n",
       "      <th>43173</th>\n",
       "      <td>ORG</td>\n",
       "      <td>USA TODAY Network</td>\n",
       "    </tr>\n",
       "    <tr>\n",
       "      <th>43174</th>\n",
       "      <td>PERSON</td>\n",
       "      <td>Jessica Bliss</td>\n",
       "    </tr>\n",
       "  </tbody>\n",
       "</table>\n",
       "<p>43175 rows × 2 columns</p>\n",
       "</div>"
      ],
      "text/plain": [
       "                 0                  1\n",
       "0           PERSON       Dan Shehan’s\n",
       "1      WORK_OF_ART     My Polio Story\n",
       "2             DATE               week\n",
       "3             DATE          the 1950s\n",
       "4             DATE              today\n",
       "...            ...                ...\n",
       "43170     QUANTITY           100-mile\n",
       "43171       PERSON      Ramon Padilla\n",
       "43172       PERSON   Mitchell Thorson\n",
       "43173          ORG  USA TODAY Network\n",
       "43174       PERSON      Jessica Bliss\n",
       "\n",
       "[43175 rows x 2 columns]"
      ]
     },
     "execution_count": 33,
     "metadata": {},
     "output_type": "execute_result"
    }
   ],
   "source": []
  },
  {
   "cell_type": "code",
   "execution_count": null,
   "metadata": {},
   "outputs": [],
   "source": []
  }
 ],
 "metadata": {
  "kernelspec": {
   "display_name": "Python 3",
   "language": "python",
   "name": "python3"
  },
  "language_info": {
   "codemirror_mode": {
    "name": "ipython",
    "version": 3
   },
   "file_extension": ".py",
   "mimetype": "text/x-python",
   "name": "python",
   "nbconvert_exporter": "python",
   "pygments_lexer": "ipython3",
   "version": "3.8.5"
  }
 },
 "nbformat": 4,
 "nbformat_minor": 4
}
