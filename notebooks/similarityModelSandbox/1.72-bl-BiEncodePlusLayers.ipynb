{
 "cells": [
  {
   "cell_type": "code",
   "execution_count": 1,
   "metadata": {},
   "outputs": [],
   "source": [
    "from tqdm.auto import tqdm\n",
    "import torch \n",
    "from torch import nn\n",
    "from transformers import RobertaTokenizer, PreTrainedTokenizer, DistilBertTokenizer, DistilBertModel, RobertaModel\n",
    "from sentence_transformers import SentenceTransformer, SentencesDataset, InputExample, losses\n",
    "from datasets import Dataset\n",
    "import pandas as pd\n",
    "from transformers.optimization import get_linear_schedule_with_warmup\n",
    "import matplotlib.pyplot as plt \n",
    "import numpy as np\n",
    "from sentence_transformers import SentenceTransformer\n",
    "from transformers import AutoTokenizer, AutoModel\n",
    "from torch.nn import CosineEmbeddingLoss\n",
    "#Build up to SBERT model "
   ]
  },
  {
   "cell_type": "code",
   "execution_count": 2,
   "metadata": {},
   "outputs": [],
   "source": [
    "deviceNum = 1\n",
    "device = torch.device(\"cuda:\" + str(deviceNum) if torch.cuda.is_available() else \"cpu\")\n"
   ]
  },
  {
   "cell_type": "code",
   "execution_count": 3,
   "metadata": {},
   "outputs": [
    {
     "name": "stdout",
     "output_type": "stream",
     "text": [
      "torch.cuda.memory_allocated: 0.000000GB\n",
      "torch.cuda.memory_reserved: 0.000000GB\n",
      "torch.cuda.memory_free: 0.000000GB\n",
      "torch.cuda.max_memory_reserved: 0.000000GB\n"
     ]
    }
   ],
   "source": [
    "def check_mem():\n",
    "    torch.cuda.empty_cache()\n",
    "    a = torch.cuda.memory_allocated(deviceNum)/1024/1024/1024\n",
    "    r = torch.cuda.memory_reserved(deviceNum)/1024/1024/1024\n",
    "    print(\"torch.cuda.memory_allocated: %fGB\"%a)\n",
    "    print(\"torch.cuda.memory_reserved: %fGB\"%r)\n",
    "    print(\"torch.cuda.memory_free: %fGB\"%(r-a))\n",
    "    print(\"torch.cuda.max_memory_reserved: %fGB\"%(torch.cuda.max_memory_reserved(deviceNum)/1024/1024/1024))\n",
    "check_mem()"
   ]
  },
  {
   "cell_type": "code",
   "execution_count": 4,
   "metadata": {},
   "outputs": [],
   "source": [
    "df = pd.read_csv(\"/shared/3/projects/benlitterer/localNews/NetworkMVP/enTrainData.csv\", sep=\"\\t\")\n",
    "df = df.loc[(df[\"url1_lang\"] == \"en\") & (df[\"url2_lang\"] == \"en\")]\n",
    "\n",
    "#put ground truth values into a list \n",
    "df[\"ground_truth\"] = df['Overall']\n",
    "\n",
    "#get only the columns we need \n",
    "#TODO: do we need \"pair_id\"? \n",
    "leanDf = df[[\"ground_truth\",  'text1', 'text2']].dropna()\n",
    "\n",
    "#rescale data from (0, 4): (0, 1)\n",
    "leanDf[\"ground_truth\"] = 1 - ((leanDf[\"ground_truth\"] - 1) / 3)\n"
   ]
  },
  {
   "cell_type": "code",
   "execution_count": 5,
   "metadata": {},
   "outputs": [],
   "source": [
    "#get data loaded in properly \n",
    "dataset = Dataset.from_pandas(leanDf)"
   ]
  },
  {
   "cell_type": "code",
   "execution_count": 6,
   "metadata": {},
   "outputs": [],
   "source": [
    "#link: https://huggingface.co/sentence-transformers/all-mpnet-base-v2\n",
    "#example of tokenizing \n",
    "#tokenizer = AutoTokenizer.from_pretrained('sentence-transformers/all-mpnet-base-v2')\n",
    "#tokenizer = AutoTokenizer.from_pretrained('Giyaseddin/distilbert-base-cased-finetuned-fake-and-real-news-dataset')\n",
    "tokenizer = RobertaTokenizer.from_pretrained('roberta-base')\n",
    "example = dataset[0][\"text1\"]\n",
    "first = tokenizer(example)"
   ]
  },
  {
   "cell_type": "code",
   "execution_count": 7,
   "metadata": {},
   "outputs": [
    {
     "data": {
      "application/vnd.jupyter.widget-view+json": {
       "model_id": "fe45fce8f3db43cb9c80d23a24fa8f45",
       "version_major": 2,
       "version_minor": 0
      },
      "text/plain": [
       "  0%|          | 0/1676 [00:00<?, ?ex/s]"
      ]
     },
     "metadata": {},
     "output_type": "display_data"
    },
    {
     "data": {
      "application/vnd.jupyter.widget-view+json": {
       "model_id": "08d4390eba11469e90f8f3d6fe2a1b90",
       "version_major": 2,
       "version_minor": 0
      },
      "text/plain": [
       "  0%|          | 0/1676 [00:00<?, ?ex/s]"
      ]
     },
     "metadata": {},
     "output_type": "display_data"
    }
   ],
   "source": [
    "all_cols = [\"ground_truth\"]\n",
    "\n",
    "for part in [\"text1\", \"text2\"]: \n",
    "    #tokenizes each row of the dataset and gives us back tuple of lists \n",
    "    dataset=dataset.map(lambda x: tokenizer(x[part], max_length=300, padding=\"max_length\", truncation=True))\n",
    "    \n",
    "    for col in ['input_ids', 'attention_mask']: \n",
    "        dataset = dataset.rename_column(\n",
    "            col, part+'_'+col\n",
    "        )\n",
    "        all_cols.append(part+'_'+col)"
   ]
  },
  {
   "cell_type": "code",
   "execution_count": 38,
   "metadata": {},
   "outputs": [
    {
     "data": {
      "text/plain": [
       "Dataset({\n",
       "    features: ['ground_truth', 'text1', 'text2', '__index_level_0__', 'text1_input_ids', 'text1_attention_mask', 'text2_input_ids', 'text2_attention_mask'],\n",
       "    num_rows: 1676\n",
       "})"
      ]
     },
     "execution_count": 38,
     "metadata": {},
     "output_type": "execute_result"
    }
   ],
   "source": [
    "dataset"
   ]
  },
  {
   "cell_type": "code",
   "execution_count": 8,
   "metadata": {},
   "outputs": [
    {
     "data": {
      "text/plain": [
       "['ground_truth',\n",
       " 'text1_input_ids',\n",
       " 'text1_attention_mask',\n",
       " 'text2_input_ids',\n",
       " 'text2_attention_mask']"
      ]
     },
     "execution_count": 8,
     "metadata": {},
     "output_type": "execute_result"
    }
   ],
   "source": [
    "all_cols"
   ]
  },
  {
   "cell_type": "code",
   "execution_count": 9,
   "metadata": {},
   "outputs": [],
   "source": [
    "# convert dataset features to PyTorch tensors\n",
    "dataset.set_format(type='torch', columns=all_cols)\n"
   ]
  },
  {
   "cell_type": "code",
   "execution_count": 10,
   "metadata": {},
   "outputs": [
    {
     "name": "stdout",
     "output_type": "stream",
     "text": [
      "torch.cuda.memory_allocated: 0.000000GB\n",
      "torch.cuda.memory_reserved: 0.000000GB\n",
      "torch.cuda.memory_free: 0.000000GB\n",
      "torch.cuda.max_memory_reserved: 0.000000GB\n"
     ]
    }
   ],
   "source": [
    "check_mem()"
   ]
  },
  {
   "cell_type": "code",
   "execution_count": 11,
   "metadata": {},
   "outputs": [
    {
     "name": "stdout",
     "output_type": "stream",
     "text": [
      "total rows: 1676\n",
      "train rows: 1509\n",
      "validation rows: 167\n",
      "sum: 1676\n"
     ]
    }
   ],
   "source": [
    "length = len(dataset)\n",
    "print(\"total rows: \" + str(length))\n",
    "trainProp = .9 \n",
    "\n",
    "validLen = int(length * (1-trainProp))\n",
    "trainLen = length - validLen\n",
    "print(\"train rows: \" + str(trainLen) + \"\\nvalidation rows: \" + str(validLen) + \"\\nsum: \" + str(trainLen + validLen))\n",
    "\n",
    "train, valid = torch.utils.data.random_split(dataset, [trainLen, validLen])"
   ]
  },
  {
   "cell_type": "code",
   "execution_count": 12,
   "metadata": {},
   "outputs": [],
   "source": [
    "\n",
    "\n",
    "# initialize the dataloader\n",
    "batch_size = 6\n",
    "trainLoader = torch.utils.data.DataLoader(\n",
    "    train, batch_size=batch_size, shuffle=True\n",
    ")\n",
    "validLoader = torch.utils.data.DataLoader(\n",
    "    valid, batch_size=1, shuffle=True\n",
    ")"
   ]
  },
  {
   "cell_type": "code",
   "execution_count": 13,
   "metadata": {},
   "outputs": [],
   "source": [
    "#Mean Pooling - Take attention mask into account for correct averaging\n",
    "def mean_pooling(token_embeddings, attention_mask):\n",
    "     #First element of model_output contains all token embeddings\n",
    "    #print(attention_mask.unsqueeze(-1).shape)\n",
    "    #print(token_embeddings.size())\n",
    "    input_mask_expanded = attention_mask.unsqueeze(-1).expand(token_embeddings.size()).float()\n",
    "    return torch.sum(token_embeddings * input_mask_expanded, 1) / torch.clamp(input_mask_expanded.sum(1), min=1e-9)\n"
   ]
  },
  {
   "cell_type": "code",
   "execution_count": 14,
   "metadata": {},
   "outputs": [],
   "source": [
    "class SimpleModel(nn.Module):\n",
    "    def __init__(self):\n",
    "        super(SimpleModel,self).__init__()\n",
    "        #self.model = AutoModel.from_pretrained('sentence-transformers/all-mpnet-base-v2')\n",
    "        #self.model = AutoModel.from_pretrained('Giyaseddin/distilbert-base-cased-finetuned-fake-and-real-news-dataset')\n",
    "        self.model = RobertaModel.from_pretrained('roberta-base')\n",
    "        self.ReLU = nn.ReLU()\n",
    "        self.dropout = nn.Dropout(.25)\n",
    "        self.l1 = nn.Linear(768*2, 768).to(device)\n",
    "        self.l2 = nn.Linear(768, 1).to(device)\n",
    "        self.loss_func = torch.nn.MSELoss(reduction=\"mean\")\n",
    "        \n",
    "    def mean_pooling(self, token_embeddings, attention_mask): \n",
    "        input_mask_expanded = attention_mask.unsqueeze(-1).expand(token_embeddings.size()).float()\n",
    "        return torch.sum(token_embeddings * input_mask_expanded, 1) / torch.clamp(input_mask_expanded.sum(1), min=1e-9)\n",
    "\n",
    "    def forward(self, inputs_ids_a, attention_a, inputs_ids_b, attention_b, gt): \n",
    "        \n",
    "        u = self.model(inputs_ids_a, attention_mask=attention_a)[0]  # all token embeddings A\n",
    "        sents_u = mean_pooling(u, attention_a)\n",
    "        \n",
    "        v = self.model(inputs_ids_b, attention_mask=attention_b)[0]  # all token embeddings B\n",
    "        sents_v = self.mean_pooling(v, attention_b)\n",
    "        \n",
    "        fullTensor = torch.cat([sents_u, sents_v], 1)\n",
    "        #print(\"full tensor shape: \" + str(fullTensor.shape))\n",
    "        \n",
    "        out = self.l1(fullTensor)\n",
    "        out = self.dropout(out)\n",
    "        out = self.ReLU(out)\n",
    "        pred = self.l2(out)\n",
    "        \n",
    "        #print(\"pred\" + str(pred))\n",
    "        loss = self.loss_func(pred, gt.unsqueeze(1))\n",
    "        \n",
    "        return [loss, pred, gt] \n"
   ]
  },
  {
   "cell_type": "code",
   "execution_count": 15,
   "metadata": {},
   "outputs": [],
   "source": [
    "class MyModel(nn.Module):\n",
    "    def __init__(self):\n",
    "        super(MyModel,self).__init__()\n",
    "        #self.model = AutoModel.from_pretrained('sentence-transformers/all-mpnet-base-v2')\n",
    "        self.model = RobertaModel.from_pretrained('roberta-base')\n",
    "        \n",
    "        self.ReLU = nn.ReLU()\n",
    "        self.l1 = nn.Linear(768*2, 1).to(device)\n",
    "        \"\"\"\n",
    "        self.l2 = nn.Linear(768*2, 768*2).to(device)\n",
    "        self.l3 = nn.Linear(768*2, 768*2).to(device)\n",
    "        self.l4 = nn.Linear(768*2, 800).to(device)\n",
    "        self.l5 = nn.Linear(800, 500).to(device)\n",
    "        self.l6 = nn.Linear(500, 100).to(device)\n",
    "        self.l7 = nn.Linear(100, 1).to(device)\n",
    "        self.dropout = nn.Dropout(0.5)\n",
    "        \"\"\"\n",
    "        self.loss_func = torch.nn.MSELoss(reduction=\"mean\")\n",
    "        \n",
    "    def mean_pooling(self, token_embeddings, attention_mask): \n",
    "        input_mask_expanded = attention_mask.unsqueeze(-1).expand(token_embeddings.size()).float()\n",
    "        return torch.sum(token_embeddings * input_mask_expanded, 1) / torch.clamp(input_mask_expanded.sum(1), min=1e-9)\n",
    "\n",
    "    def forward(self, inputs_ids_a, attention_a, inputs_ids_b, attention_b, gt): \n",
    "        \n",
    "        u = self.model(inputs_ids_a, attention_mask=attention_a)[0]  # all token embeddings A\n",
    "        sents_u = mean_pooling(u, attention_a)\n",
    "        \n",
    "        v = self.model(inputs_ids_b, attention_mask=attention_b)[0]  # all token embeddings B\n",
    "        sents_v = self.mean_pooling(v, attention_b)\n",
    "        \n",
    "\n",
    "        fullTensor = torch.cat([sents_u, sents_v], 1)\n",
    "        #print(\"full tensor shape: \" + str(fullTensor.shape))\n",
    "        \n",
    "        \n",
    "        #first attempt is a single linear layer\n",
    "        #maybe linear combination of output is sufficient? \n",
    "        #go from 4000 > 500 > 1\n",
    "        pred = self.l1(fullTensor)\n",
    "        \"\"\"\n",
    "        out = self.ReLU(out)\n",
    "        out = self.l2(out)\n",
    "        out = self.dropout(out)\n",
    "        out = self.ReLU(out)\n",
    "        pred = self.l3(out)\n",
    "\n",
    "        out = self.ReLU(out)\n",
    "        out = self.l4(out)\n",
    "        out = self.ReLU(out)\n",
    "        out = self.l5(out)\n",
    "        out = self.dropout(out)\n",
    "        \n",
    "        out = self.ReLU(out)\n",
    "        out = self.l6(out)\n",
    "        out = self.ReLU(out)\n",
    "        pred = self.l7(out)\n",
    "        \"\"\"\n",
    "        \n",
    "        #print(\"pred\" + str(pred))\n",
    "        loss = self.loss_func(pred, gt.unsqueeze(1))\n",
    "        \n",
    "        return [loss, pred, gt] \n"
   ]
  },
  {
   "cell_type": "code",
   "execution_count": 16,
   "metadata": {},
   "outputs": [
    {
     "name": "stderr",
     "output_type": "stream",
     "text": [
      "Some weights of the model checkpoint at roberta-base were not used when initializing RobertaModel: ['lm_head.decoder.weight', 'lm_head.layer_norm.bias', 'lm_head.dense.bias', 'lm_head.layer_norm.weight', 'lm_head.bias', 'lm_head.dense.weight']\n",
      "- This IS expected if you are initializing RobertaModel from the checkpoint of a model trained on another task or with another architecture (e.g. initializing a BertForSequenceClassification model from a BertForPreTraining model).\n",
      "- This IS NOT expected if you are initializing RobertaModel from the checkpoint of a model that you expect to be exactly identical (initializing a BertForSequenceClassification model from a BertForSequenceClassification model).\n"
     ]
    }
   ],
   "source": [
    "model = SimpleModel().to(device)\n",
    "\n",
    "#TODO: double check on if reduction=\"mean\" is the right move here...\n",
    "#could cosine similarity also work..? I think that is between the two predicted vectors though.. \n",
    "loss_func = torch.nn.MSELoss(reduction=\"mean\")\n",
    "\n",
    "# we would initialize everything first\n",
    "optim = torch.optim.Adam(model.parameters(), lr=2e-5)\n",
    "\n",
    "EPOCHS = 4\n",
    "\n",
    "# and setup a warmup for the first ~10% steps\n",
    "total_steps = int((trainLen*EPOCHS) / batch_size)\n",
    "warmup_steps = int(0.1 * total_steps)\n",
    "scheduler = get_linear_schedule_with_warmup(optim, num_warmup_steps=warmup_steps, num_training_steps=total_steps - warmup_steps)"
   ]
  },
  {
   "cell_type": "code",
   "execution_count": 17,
   "metadata": {},
   "outputs": [
    {
     "name": "stdout",
     "output_type": "stream",
     "text": [
      "[0.7593948136311601, 0.9205664999205727, 0.8863416070394171]\n"
     ]
    }
   ],
   "source": [
    "dummyPreds = [[3, 1, 9], [8, 9, 10], [2, 4, 1], [10, 10, 9]]\n",
    "dummyGT = [[2, 2, 6], [12, 5, 8], [3, 3, 3], [7, 8, 9]]\n",
    "\n",
    "def getCorr(inPreds, inGT): \n",
    "    inPreds = np.array(inPreds)\n",
    "    inGT = np.array(inGT)\n",
    "    corrList = []\n",
    "    for col in range(inPreds.shape[1]): \n",
    "        corr = np.corrcoef(inPreds[:,col], inGT[:,col])[0][1]\n",
    "        corrList.append(corr)\n",
    "    return corrList\n",
    "\n",
    "print(getCorr(dummyPreds, dummyGT))"
   ]
  },
  {
   "cell_type": "code",
   "execution_count": 18,
   "metadata": {},
   "outputs": [],
   "source": [
    "def validation(): \n",
    "    model.eval()\n",
    "    vLossList = []\n",
    "    vPred = []\n",
    "    vGT = []\n",
    "\n",
    "    i = True \n",
    "    for vBatch in validLoader: \n",
    "        # prepare batches and more all to the active device\n",
    "        vInputs_ids_a = vBatch['text1_input_ids'].to(device)\n",
    "        vInputs_ids_b = vBatch['text2_input_ids'].to(device)\n",
    "        vAttention_a = vBatch['text1_attention_mask'].to(device)\n",
    "        vAttention_b = vBatch['text2_attention_mask'].to(device)\n",
    "\n",
    "        #ground truth labels need to go to device as well \n",
    "        vLabel = vBatch['ground_truth'].to(device)\n",
    "\n",
    "        vLoss, vPredSim, vLab = model(vInputs_ids_a, vAttention_a, vInputs_ids_b, vAttention_b, vLabel)\n",
    "        \n",
    "        #corr = np.corrcoef(vPredSim, vLab)\n",
    "        vLossList.append(vLoss.item())\n",
    "\n",
    "        #get predictions and ground truth to compute training metrics with \n",
    "        \n",
    "        vPred.append(float(vPredSim))\n",
    "        \n",
    "        vGT.append(float(vLab))\n",
    "        \n",
    "    #print(vGT)\n",
    "    return [vLossList, vPred, vGT]\n",
    "        "
   ]
  },
  {
   "cell_type": "code",
   "execution_count": null,
   "metadata": {},
   "outputs": [],
   "source": []
  },
  {
   "cell_type": "code",
   "execution_count": 19,
   "metadata": {},
   "outputs": [
    {
     "data": {
      "application/vnd.jupyter.widget-view+json": {
       "model_id": "8d037d54e1c94f3e97cc29c84026cc10",
       "version_major": 2,
       "version_minor": 0
      },
      "text/plain": [
       "  0%|          | 0/252 [00:00<?, ?it/s]"
      ]
     },
     "metadata": {},
     "output_type": "display_data"
    },
    {
     "name": "stderr",
     "output_type": "stream",
     "text": [
      "/opt/anaconda/lib/python3.8/site-packages/numpy/core/fromnumeric.py:3474: RuntimeWarning: Mean of empty slice.\n",
      "  return _methods._mean(a, axis=axis, dtype=dtype,\n",
      "/opt/anaconda/lib/python3.8/site-packages/numpy/core/_methods.py:189: RuntimeWarning: invalid value encountered in double_scalars\n",
      "  ret = ret.dtype.type(ret / rcount)\n"
     ]
    },
    {
     "data": {
      "application/vnd.jupyter.widget-view+json": {
       "model_id": "5768d48f0942483886c9564c54cc3289",
       "version_major": 2,
       "version_minor": 0
      },
      "text/plain": [
       "  0%|          | 0/252 [00:00<?, ?it/s]"
      ]
     },
     "metadata": {},
     "output_type": "display_data"
    },
    {
     "data": {
      "application/vnd.jupyter.widget-view+json": {
       "model_id": "f2c9e5747f064782b02c2b5617ba652b",
       "version_major": 2,
       "version_minor": 0
      },
      "text/plain": [
       "  0%|          | 0/252 [00:00<?, ?it/s]"
      ]
     },
     "metadata": {},
     "output_type": "display_data"
    },
    {
     "data": {
      "application/vnd.jupyter.widget-view+json": {
       "model_id": "0a5c60e92a804352831530015204edfa",
       "version_major": 2,
       "version_minor": 0
      },
      "text/plain": [
       "  0%|          | 0/252 [00:00<?, ?it/s]"
      ]
     },
     "metadata": {},
     "output_type": "display_data"
    }
   ],
   "source": [
    "cos = torch.nn.CosineSimilarity(dim=1, eps=1e-6)\n",
    "trainDict = {}\n",
    "lossList = []\n",
    "validMetrics = []\n",
    "trainMetrics = []\n",
    "subLossList = []\n",
    "# increase from 1 epoch if need be \n",
    "for epoch in range(EPOCHS):\n",
    "    \n",
    "    model.train()  # make sure model is in training mode\n",
    "    \n",
    "    # initialize the dataloader loop with tqdm (tqdm == progress bar)\n",
    "    loop = tqdm(trainLoader, leave=True)\n",
    "    \n",
    "    validMetrics.append(validation())\n",
    "    model.train()\n",
    "    \n",
    "    for i, batch in enumerate(loop): \n",
    "        # zero all gradients on each new step\n",
    "        optim.zero_grad()\n",
    "\n",
    "        # prepare batches and more all to the active device\n",
    "        inputs_ids_a = batch['text1_input_ids'].to(device)\n",
    "        inputs_ids_b = batch['text2_input_ids'].to(device)\n",
    "        attention_a = batch['text1_attention_mask'].to(device)\n",
    "        attention_b = batch['text2_attention_mask'].to(device)\n",
    "\n",
    "        #ground truth labels need to go to device as well \n",
    "        label = batch['ground_truth'].to(device)\n",
    "\n",
    "        loss, pred, gt = model(inputs_ids_a, attention_a, inputs_ids_b, attention_b, label)\n",
    "\n",
    "        # using loss, calculate gradients and then optimize\n",
    "        loss.backward()\n",
    "        optim.step()\n",
    "        \n",
    "        if i % 20 == 0: \n",
    "            lossList.append(np.mean(subLossList))\n",
    "            subLossList = []\n",
    "            \n",
    "        subLossList.append(float(loss.item()))\n",
    "        # update learning rate scheduler\n",
    "        scheduler.step()\n",
    "\n",
    "        # update the TDQM progress bar\n",
    "        loop.set_description(f'Epoch {epoch}')\n",
    "        loop.set_postfix(loss=loss.item())\n",
    "validMetrics.append(validation())"
   ]
  },
  {
   "cell_type": "code",
   "execution_count": 35,
   "metadata": {},
   "outputs": [
    {
     "data": {
      "text/plain": [
       "Text(0.5, 1.0, 'Train Loss')"
      ]
     },
     "execution_count": 35,
     "metadata": {},
     "output_type": "execute_result"
    },
    {
     "data": {
      "image/png": "[encoded data removed]",
      "text/plain": [
       "<Figure size 432x288 with 1 Axes>"
      ]
     },
     "metadata": {
      "needs_background": "light"
     },
     "output_type": "display_data"
    }
   ],
   "source": [
    "lossSmoothing = 20\n",
    "lossIndex = [(i * lossSmoothing)/252 for i in range(len(lossList))]\n",
    "plt.plot(lossIndex, lossList)\n",
    "plt.xlabel(\"Batch Num\")\n",
    "plt.ylabel(\"MSE Loss\")\n",
    "plt.title(\"Train Loss\")"
   ]
  },
  {
   "cell_type": "code",
   "execution_count": 30,
   "metadata": {},
   "outputs": [
    {
     "data": {
      "text/plain": [
       "1509"
      ]
     },
     "execution_count": 30,
     "metadata": {},
     "output_type": "execute_result"
    }
   ],
   "source": [
    "len(train)"
   ]
  },
  {
   "cell_type": "code",
   "execution_count": 31,
   "metadata": {},
   "outputs": [
    {
     "data": {
      "text/plain": [
       "(5, 3, 167)"
      ]
     },
     "execution_count": 31,
     "metadata": {},
     "output_type": "execute_result"
    }
   ],
   "source": [
    "validArr = np.array(validMetrics)\n",
    "#print(validArr.shape)\n",
    "\n",
    "validArr.shape"
   ]
  },
  {
   "cell_type": "code",
   "execution_count": 36,
   "metadata": {},
   "outputs": [
    {
     "name": "stdout",
     "output_type": "stream",
     "text": [
      "[[ 1.         -0.05508226]\n",
      " [-0.05508226  1.        ]]\n",
      "[[1.       0.508159]\n",
      " [0.508159 1.      ]]\n",
      "[[1.         0.55397856]\n",
      " [0.55397856 1.        ]]\n",
      "[[1.         0.61016009]\n",
      " [0.61016009 1.        ]]\n",
      "[[1.         0.60412743]\n",
      " [0.60412743 1.        ]]\n"
     ]
    },
    {
     "data": {
      "text/plain": [
       "Text(0.5, 1.0, 'validation eval')"
      ]
     },
     "execution_count": 36,
     "metadata": {},
     "output_type": "execute_result"
    },
    {
     "data": {
      "image/png": "[encoded data removed]",
      "text/plain": [
       "<Figure size 432x288 with 1 Axes>"
      ]
     },
     "metadata": {
      "needs_background": "light"
     },
     "output_type": "display_data"
    }
   ],
   "source": [
    "validArr = np.array(validMetrics)\n",
    "#print(validArr.shape)\n",
    "\n",
    "test = validArr[1,:,:]\n",
    "#np.corrcoef(test[1], test[2])\n",
    "\n",
    "iterList = []\n",
    "corrList = []\n",
    "#go through each validation step\n",
    "for i in range(validArr.shape[0]): \n",
    "    subDf = pd.DataFrame(validArr[i].T)\n",
    "    subDf.columns = [\"loss\", \"pred\", \"true\"]\n",
    "    corr = np.corrcoef(subDf[\"pred\"], subDf[\"true\"])\n",
    "    corrList.append(corr[1, 0])\n",
    "    iterList.append(i)\n",
    "    print(corr)\n",
    "    \n",
    "plt.plot(iterList, corrList)\n",
    "plt.xlabel(\"batch num\")\n",
    "plt.ylabel(\"pearson correlation\")\n",
    "plt.title(\"validation eval\")"
   ]
  },
  {
   "cell_type": "code",
   "execution_count": 37,
   "metadata": {},
   "outputs": [
    {
     "data": {
      "text/plain": [
       "Text(0, 0.5, 'prediction')"
      ]
     },
     "execution_count": 37,
     "metadata": {},
     "output_type": "execute_result"
    },
    {
     "data": {
      "image/png": "[encoded data removed]",
      "text/plain": [
       "<Figure size 432x288 with 1 Axes>"
      ]
     },
     "metadata": {
      "needs_background": "light"
     },
     "output_type": "display_data"
    }
   ],
   "source": [
    "plt.scatter(subDf[\"true\"], subDf[\"pred\"], alpha = .2)\n",
    "plt.title(\"predicted vs. ground truth \")\n",
    "plt.xlabel(\"ground truth\")\n",
    "plt.ylabel(\"prediction\")"
   ]
  },
  {
   "cell_type": "code",
   "execution_count": null,
   "metadata": {},
   "outputs": [],
   "source": []
  },
  {
   "cell_type": "code",
   "execution_count": null,
   "metadata": {},
   "outputs": [],
   "source": [
    "validArr"
   ]
  },
  {
   "cell_type": "code",
   "execution_count": null,
   "metadata": {},
   "outputs": [],
   "source": [
    "fig, axs = plt.subplots(1,2, figsize=[14,4])\n",
    "axs[0].plot(trainDf[\"trainLoss\"])\n",
    "axs[0].set_title(\"Train Loss\", size=14)\n",
    "axs[0].set_ylabel(\"MSE Loss\",size=14)\n",
    "axs[0].set_xlabel(\"batch\",size=14)\n",
    "\n",
    "axs[1].plot(trainDf.dropna()[\"testLoss\"])\n",
    "axs[1].set_title(\"Validation Loss\",size=14)\n",
    "axs[1].set_ylabel(\"MSE Loss\",size=14)\n",
    "axs[1].set_xlabel(\"batch\",size=14)"
   ]
  },
  {
   "cell_type": "code",
   "execution_count": null,
   "metadata": {},
   "outputs": [],
   "source": []
  },
  {
   "cell_type": "code",
   "execution_count": null,
   "metadata": {},
   "outputs": [],
   "source": [
    "print(x)\n",
    "print(label)\n",
    "print()"
   ]
  },
  {
   "cell_type": "code",
   "execution_count": null,
   "metadata": {},
   "outputs": [],
   "source": [
    "loss_func(x, label)"
   ]
  },
  {
   "cell_type": "code",
   "execution_count": null,
   "metadata": {},
   "outputs": [],
   "source": [
    "plt.plot(trainDf[\"testLoss\"].dropna())"
   ]
  },
  {
   "cell_type": "code",
   "execution_count": null,
   "metadata": {},
   "outputs": [],
   "source": [
    "valX"
   ]
  },
  {
   "cell_type": "code",
   "execution_count": null,
   "metadata": {},
   "outputs": [],
   "source": [
    "vLabel"
   ]
  },
  {
   "cell_type": "code",
   "execution_count": null,
   "metadata": {},
   "outputs": [],
   "source": [
    "x"
   ]
  },
  {
   "cell_type": "code",
   "execution_count": null,
   "metadata": {},
   "outputs": [],
   "source": [
    "label"
   ]
  },
  {
   "cell_type": "code",
   "execution_count": null,
   "metadata": {},
   "outputs": [],
   "source": []
  }
 ],
 "metadata": {
  "kernelspec": {
   "display_name": "Python 3",
   "language": "python",
   "name": "python3"
  },
  "language_info": {
   "codemirror_mode": {
    "name": "ipython",
    "version": 3
   },
   "file_extension": ".py",
   "mimetype": "text/x-python",
   "name": "python",
   "nbconvert_exporter": "python",
   "pygments_lexer": "ipython3",
   "version": "3.8.5"
  }
 },
 "nbformat": 4,
 "nbformat_minor": 4
}
