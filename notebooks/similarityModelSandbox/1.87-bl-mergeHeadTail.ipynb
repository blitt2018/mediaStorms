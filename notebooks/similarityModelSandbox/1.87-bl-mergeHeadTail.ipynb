{
 "cells": [
  {
   "cell_type": "code",
   "execution_count": 12,
   "id": "78dec43c",
   "metadata": {},
   "outputs": [],
   "source": [
    "import random\n",
    "import os\n",
    "import numpy as np\n",
    "import torch\n",
    "import json\n",
    "from tqdm import tqdm\n",
    "import pandas as pd\n",
    "from transformers import RobertaTokenizer\n",
    "from transformers import AutoTokenizer, AutoModel"
   ]
  },
  {
   "cell_type": "code",
   "execution_count": 13,
   "id": "0cda8a8e",
   "metadata": {},
   "outputs": [],
   "source": [
    "df = pd.read_csv(\"/shared/3/projects/benlitterer/localNews/NetworkMVP/translatedCleaned.tsv\", sep=\"\\t\")"
   ]
  },
  {
   "cell_type": "code",
   "execution_count": 15,
   "id": "a9f332bd",
   "metadata": {},
   "outputs": [],
   "source": [
    "#for getting non-translated data only \n",
    "df = df[(df[\"url1_lang\"] == \"en\") & (df[\"url2_lang\"] == \"en\")]"
   ]
  },
  {
   "cell_type": "code",
   "execution_count": 16,
   "id": "7cc3795c",
   "metadata": {},
   "outputs": [],
   "source": [
    "tokenizer = AutoTokenizer.from_pretrained('sentence-transformers/all-mpnet-base-v2')"
   ]
  },
  {
   "cell_type": "code",
   "execution_count": 17,
   "id": "7b6a8789",
   "metadata": {},
   "outputs": [],
   "source": [
    "# truncate text from either head or tail part\n",
    "def trunc_text(text, trunc_pos, length):\n",
    "\n",
    "    text_ids = tokenizer.encode(text)[1:-1]\n",
    "\n",
    "    if trunc_pos == 'head':\n",
    "        text_trunc_ids = text_ids[:length]\n",
    "    elif trunc_pos == 'tail':\n",
    "        text_trunc_ids = text_ids[-length:]\n",
    "\n",
    "    text_trunc_tokens = tokenizer.decode(text_trunc_ids)\n",
    "    #text_trunc_back_sent = ''.join([x.replace('_', ' ') for x in text_trunc_tokens])[:-1]\n",
    "\n",
    "    return text_trunc_tokens"
   ]
  },
  {
   "cell_type": "code",
   "execution_count": 18,
   "id": "6b4e7827",
   "metadata": {},
   "outputs": [
    {
     "data": {
      "text/plain": [
       "'reserved. this material may not be published, broadcast, rewritten or redistributed.'"
      ]
     },
     "execution_count": 18,
     "metadata": {},
     "output_type": "execute_result"
    }
   ],
   "source": [
    "trunc_text(df[\"text1\"][0], \"tail\", 20)"
   ]
  },
  {
   "cell_type": "code",
   "execution_count": 21,
   "id": "83ea7921",
   "metadata": {},
   "outputs": [],
   "source": [
    "#following columns are for non-translated data\n",
    "df = df.dropna(subset=[\"ogTitle1\", \"ogTitle2\", \"ogText1\", \"ogText2\"])"
   ]
  },
  {
   "cell_type": "code",
   "execution_count": 22,
   "id": "6471fe07",
   "metadata": {},
   "outputs": [
    {
     "name": "stderr",
     "output_type": "stream",
     "text": [
      "<ipython-input-22-ca814b37620b>:1: SettingWithCopyWarning: \n",
      "A value is trying to be set on a copy of a slice from a DataFrame.\n",
      "Try using .loc[row_indexer,col_indexer] = value instead\n",
      "\n",
      "See the caveats in the documentation: https://pandas.pydata.org/pandas-docs/stable/user_guide/indexing.html#returning-a-view-versus-a-copy\n",
      "  df[\"titleText1\"] = df[\"ogTitle1\"] + df[\"ogText1\"]\n",
      "<ipython-input-22-ca814b37620b>:2: SettingWithCopyWarning: \n",
      "A value is trying to be set on a copy of a slice from a DataFrame.\n",
      "Try using .loc[row_indexer,col_indexer] = value instead\n",
      "\n",
      "See the caveats in the documentation: https://pandas.pydata.org/pandas-docs/stable/user_guide/indexing.html#returning-a-view-versus-a-copy\n",
      "  df[\"titleText2\"] = df[\"ogTitle2\"] + df[\"ogText2\"]\n"
     ]
    }
   ],
   "source": [
    "df[\"titleText1\"] = df[\"ogTitle1\"] + df[\"ogText1\"]\n",
    "df[\"titleText2\"] = df[\"ogTitle2\"] + df[\"ogText2\"]"
   ]
  },
  {
   "cell_type": "code",
   "execution_count": 6,
   "id": "27b5ad08",
   "metadata": {},
   "outputs": [],
   "source": [
    "\"\"\"\n",
    "#for when working with translated data\n",
    "df = df.dropna(subset=[\"title1\", \"title2\", \"text1\", \"text2\"])\n",
    "df[\"titleText1\"] = df[\"title1\"] + df[\"text1\"]\n",
    "df[\"titleText2\"] = df[\"title2\"] + df[\"text2\"]\n",
    "\"\"\""
   ]
  },
  {
   "cell_type": "code",
   "execution_count": 23,
   "id": "c434e2df",
   "metadata": {},
   "outputs": [],
   "source": [
    "HEAD_COUNT = 288\n",
    "TAIL_COUNT = 96"
   ]
  },
  {
   "cell_type": "code",
   "execution_count": 24,
   "id": "72a129e1",
   "metadata": {},
   "outputs": [
    {
     "name": "stderr",
     "output_type": "stream",
     "text": [
      "Token indices sequence length is longer than the specified maximum sequence length for this model (708 > 512). Running this sequence through the model will result in indexing errors\n",
      "<ipython-input-24-32459779fe44>:1: SettingWithCopyWarning: \n",
      "A value is trying to be set on a copy of a slice from a DataFrame.\n",
      "Try using .loc[row_indexer,col_indexer] = value instead\n",
      "\n",
      "See the caveats in the documentation: https://pandas.pydata.org/pandas-docs/stable/user_guide/indexing.html#returning-a-view-versus-a-copy\n",
      "  df[\"text1Head\"] = df[\"titleText1\"] .apply(trunc_text, args=[\"head\", HEAD_COUNT])\n",
      "<ipython-input-24-32459779fe44>:2: SettingWithCopyWarning: \n",
      "A value is trying to be set on a copy of a slice from a DataFrame.\n",
      "Try using .loc[row_indexer,col_indexer] = value instead\n",
      "\n",
      "See the caveats in the documentation: https://pandas.pydata.org/pandas-docs/stable/user_guide/indexing.html#returning-a-view-versus-a-copy\n",
      "  df[\"text1Tail\"] = df[\"text1\"].apply(trunc_text, args=[\"tail\", TAIL_COUNT])\n",
      "<ipython-input-24-32459779fe44>:4: SettingWithCopyWarning: \n",
      "A value is trying to be set on a copy of a slice from a DataFrame.\n",
      "Try using .loc[row_indexer,col_indexer] = value instead\n",
      "\n",
      "See the caveats in the documentation: https://pandas.pydata.org/pandas-docs/stable/user_guide/indexing.html#returning-a-view-versus-a-copy\n",
      "  df[\"text2Head\"] = df[\"titleText2\"].apply(trunc_text, args=[\"head\", HEAD_COUNT])\n",
      "<ipython-input-24-32459779fe44>:5: SettingWithCopyWarning: \n",
      "A value is trying to be set on a copy of a slice from a DataFrame.\n",
      "Try using .loc[row_indexer,col_indexer] = value instead\n",
      "\n",
      "See the caveats in the documentation: https://pandas.pydata.org/pandas-docs/stable/user_guide/indexing.html#returning-a-view-versus-a-copy\n",
      "  df[\"text2Tail\"] = df[\"text2\"].apply(trunc_text, args=[\"tail\", TAIL_COUNT])\n"
     ]
    }
   ],
   "source": [
    "df[\"text1Head\"] = df[\"titleText1\"] .apply(trunc_text, args=[\"head\", HEAD_COUNT])\n",
    "df[\"text1Tail\"] = df[\"text1\"].apply(trunc_text, args=[\"tail\", TAIL_COUNT])\n",
    "\n",
    "df[\"text2Head\"] = df[\"titleText2\"].apply(trunc_text, args=[\"head\", HEAD_COUNT])\n",
    "df[\"text2Tail\"] = df[\"text2\"].apply(trunc_text, args=[\"tail\", TAIL_COUNT])"
   ]
  },
  {
   "cell_type": "code",
   "execution_count": 25,
   "id": "f63e0aee",
   "metadata": {},
   "outputs": [
    {
     "name": "stderr",
     "output_type": "stream",
     "text": [
      "<ipython-input-25-7b4fa12297d6>:1: SettingWithCopyWarning: \n",
      "A value is trying to be set on a copy of a slice from a DataFrame.\n",
      "Try using .loc[row_indexer,col_indexer] = value instead\n",
      "\n",
      "See the caveats in the documentation: https://pandas.pydata.org/pandas-docs/stable/user_guide/indexing.html#returning-a-view-versus-a-copy\n",
      "  df[\"text1Merged\"] = df[\"text1Head\"] + df[\"text1Tail\"]\n",
      "<ipython-input-25-7b4fa12297d6>:2: SettingWithCopyWarning: \n",
      "A value is trying to be set on a copy of a slice from a DataFrame.\n",
      "Try using .loc[row_indexer,col_indexer] = value instead\n",
      "\n",
      "See the caveats in the documentation: https://pandas.pydata.org/pandas-docs/stable/user_guide/indexing.html#returning-a-view-versus-a-copy\n",
      "  df[\"text2Merged\"] = df[\"text2Head\"] + df[\"text2Tail\"]\n"
     ]
    }
   ],
   "source": [
    "df[\"text1Merged\"] = df[\"text1Head\"] + df[\"text1Tail\"]\n",
    "df[\"text2Merged\"] = df[\"text2Head\"] + df[\"text2Tail\"]"
   ]
  },
  {
   "cell_type": "code",
   "execution_count": 27,
   "id": "2023fd06",
   "metadata": {},
   "outputs": [],
   "source": [
    "df.to_csv(\"/home/blitt/projects/localNews/data/processed/en_288_96.tsv\", sep=\"\\t\")"
   ]
  },
  {
   "cell_type": "code",
   "execution_count": null,
   "id": "5b3e16a7",
   "metadata": {},
   "outputs": [],
   "source": []
  }
 ],
 "metadata": {
  "kernelspec": {
   "display_name": "Python 3",
   "language": "python",
   "name": "python3"
  },
  "language_info": {
   "codemirror_mode": {
    "name": "ipython",
    "version": 3
   },
   "file_extension": ".py",
   "mimetype": "text/x-python",
   "name": "python",
   "nbconvert_exporter": "python",
   "pygments_lexer": "ipython3",
   "version": "3.8.5"
  }
 },
 "nbformat": 4,
 "nbformat_minor": 5
}
