{
 "cells": [
  {
   "cell_type": "code",
   "execution_count": 1,
   "id": "fe05ef09",
   "metadata": {},
   "outputs": [],
   "source": [
    "from tqdm.auto import tqdm\n",
    "from sentence_transformers import evaluation\n",
    "import torch \n",
    "from transformers import BertModel\n",
    "from transformers import BertTokenizer\n",
    "from datasets import Dataset\n",
    "import pandas as pd\n",
    "from transformers.optimization import get_linear_schedule_with_warmup\n",
    "import matplotlib.pyplot as plt \n",
    "import numpy as np\n",
    "import sklearn.model_selection\n",
    "from sentence_transformers import SentenceTransformer, InputExample, losses"
   ]
  },
  {
   "cell_type": "code",
   "execution_count": 2,
   "id": "3ee2a8e5",
   "metadata": {},
   "outputs": [],
   "source": [
    "#load data \n",
    "df = pd.read_csv(\"/shared/3/projects/benlitterer/localNews/NetworkMVP/enTrainData.csv\", sep=\"\\t\")\n",
    "df = df.loc[(df[\"url1_lang\"] == \"en\") & (df[\"url2_lang\"] == \"en\")]\n",
    "\n",
    "#put ground truth values into a list \n",
    "df[\"ground_truth\"] = df['Overall']\n",
    "\n",
    "#TODO: do we need to make data tensors or does this happen when we call set_format() later on\n",
    "#df[\"ground_truth\"] = df[\"ground_truth\"].apply(torch.tensor)\n",
    "\n",
    "#[torch.tensor(gtList) for gtList in df[\"ground_truth\"]]\n",
    "\n",
    "#get only the columns we need \n",
    "#TODO: do we need \"pair_id\"? \n",
    "leanDf = df[[\"Overall\", \"Tone\",  'text1', 'text2']].dropna()\n"
   ]
  },
  {
   "cell_type": "code",
   "execution_count": 3,
   "id": "33dc1abe",
   "metadata": {},
   "outputs": [],
   "source": [
    "#scale values so they work for cosine similarity \n",
    "selectedCols = [\"Overall\", \"Tone\"]\n",
    "for col in selectedCols: \n",
    "    leanDf[col] = 1 - (leanDf[col] / 4)"
   ]
  },
  {
   "cell_type": "code",
   "execution_count": 4,
   "id": "2f71edee",
   "metadata": {},
   "outputs": [
    {
     "name": "stdout",
     "output_type": "stream",
     "text": [
      "(1690, 20)\n",
      "1684\n",
      "1510\n"
     ]
    }
   ],
   "source": [
    "print(df.shape)\n",
    "print(len(df[\"link1\"].unique()))\n",
    "print(len(df[\"link2\"].unique()))"
   ]
  },
  {
   "cell_type": "code",
   "execution_count": 5,
   "id": "f039393a",
   "metadata": {},
   "outputs": [
    {
     "name": "stdout",
     "output_type": "stream",
     "text": [
      "torch.cuda.memory_allocated: 0.000000GB\n",
      "torch.cuda.memory_reserved: 0.000000GB\n",
      "torch.cuda.memory_free: 0.000000GB\n",
      "torch.cuda.max_memory_reserved: 0.000000GB\n"
     ]
    }
   ],
   "source": [
    "deviceNum = 1\n",
    "def check_mem():\n",
    "    torch.cuda.empty_cache()\n",
    "    a = torch.cuda.memory_allocated(deviceNum)/1024/1024/1024\n",
    "    r = torch.cuda.memory_reserved(deviceNum)/1024/1024/1024\n",
    "    print(\"torch.cuda.memory_allocated: %fGB\"%a)\n",
    "    print(\"torch.cuda.memory_reserved: %fGB\"%r)\n",
    "    print(\"torch.cuda.memory_free: %fGB\"%(r-a))\n",
    "    print(\"torch.cuda.max_memory_reserved: %fGB\"%(torch.cuda.max_memory_reserved(deviceNum)/1024/1024/1024))\n",
    "check_mem()"
   ]
  },
  {
   "cell_type": "code",
   "execution_count": 6,
   "id": "726709be",
   "metadata": {},
   "outputs": [
    {
     "data": {
      "text/html": [
       "<div>\n",
       "<style scoped>\n",
       "    .dataframe tbody tr th:only-of-type {\n",
       "        vertical-align: middle;\n",
       "    }\n",
       "\n",
       "    .dataframe tbody tr th {\n",
       "        vertical-align: top;\n",
       "    }\n",
       "\n",
       "    .dataframe thead th {\n",
       "        text-align: right;\n",
       "    }\n",
       "</style>\n",
       "<table border=\"1\" class=\"dataframe\">\n",
       "  <thead>\n",
       "    <tr style=\"text-align: right;\">\n",
       "      <th></th>\n",
       "      <th>Overall</th>\n",
       "      <th>Tone</th>\n",
       "      <th>text1</th>\n",
       "      <th>text2</th>\n",
       "    </tr>\n",
       "  </thead>\n",
       "  <tbody>\n",
       "    <tr>\n",
       "      <th>0</th>\n",
       "      <td>0.083333</td>\n",
       "      <td>0.50</td>\n",
       "      <td>A woman was killed early Tuesday when a massiv...</td>\n",
       "      <td>MITCHELL, Jennie L. Age 87, of Atlanta, passed...</td>\n",
       "    </tr>\n",
       "    <tr>\n",
       "      <th>1</th>\n",
       "      <td>0.083333</td>\n",
       "      <td>0.25</td>\n",
       "      <td>The political backdrop of 2019 truly tested in...</td>\n",
       "      <td>EL SEGUNDO — To welcome in the next decade, th...</td>\n",
       "    </tr>\n",
       "  </tbody>\n",
       "</table>\n",
       "</div>"
      ],
      "text/plain": [
       "    Overall  Tone                                              text1  \\\n",
       "0  0.083333  0.50  A woman was killed early Tuesday when a massiv...   \n",
       "1  0.083333  0.25  The political backdrop of 2019 truly tested in...   \n",
       "\n",
       "                                               text2  \n",
       "0  MITCHELL, Jennie L. Age 87, of Atlanta, passed...  \n",
       "1  EL SEGUNDO — To welcome in the next decade, th...  "
      ]
     },
     "execution_count": 6,
     "metadata": {},
     "output_type": "execute_result"
    }
   ],
   "source": [
    "#split data \n",
    "trainDf, validDf = sklearn.model_selection.train_test_split(leanDf, train_size=.75, test_size=.25)\n",
    "trainDf = trainDf.reset_index(drop=True)\n",
    "trainDf.head(2)"
   ]
  },
  {
   "cell_type": "code",
   "execution_count": null,
   "id": "b4c79115",
   "metadata": {},
   "outputs": [],
   "source": []
  },
  {
   "cell_type": "code",
   "execution_count": 7,
   "id": "0a36c6d8",
   "metadata": {},
   "outputs": [],
   "source": [
    "trainOverall = []\n",
    "trainTone = []\n",
    "for row in trainDf.itertuples(): \n",
    "    trainOverall.append(InputExample(texts =[row[3], row[4]], label=row[1]))\n",
    "    trainTone.append(InputExample(texts =[row[3], row[4]], label=row[2]))"
   ]
  },
  {
   "cell_type": "code",
   "execution_count": 8,
   "id": "34e9565c",
   "metadata": {},
   "outputs": [
    {
     "data": {
      "text/plain": [
       "\"\\nfrom sentence_transformers import SentenceTransformer, models\\n\\nword_embedding_model = models.Transformer('bert-base-uncased', max_seq_length=256)\\npooling_model = models.Pooling(word_embedding_model.get_word_embedding_dimension())\\n\\nmodel = SentenceTransformer(modules=[word_embedding_model, pooling_model])\\n\""
      ]
     },
     "execution_count": 8,
     "metadata": {},
     "output_type": "execute_result"
    }
   ],
   "source": [
    "#build model \n",
    "\n",
    "\"\"\"\n",
    "from sentence_transformers import SentenceTransformer, models\n",
    "\n",
    "word_embedding_model = models.Transformer('bert-base-uncased', max_seq_length=256)\n",
    "pooling_model = models.Pooling(word_embedding_model.get_word_embedding_dimension())\n",
    "\n",
    "model = SentenceTransformer(modules=[word_embedding_model, pooling_model])\n",
    "\"\"\""
   ]
  },
  {
   "cell_type": "code",
   "execution_count": 9,
   "id": "7f89bbed",
   "metadata": {},
   "outputs": [
    {
     "name": "stdout",
     "output_type": "stream",
     "text": [
      "torch.cuda.memory_allocated: 0.000000GB\n",
      "torch.cuda.memory_reserved: 0.000000GB\n",
      "torch.cuda.memory_free: 0.000000GB\n",
      "torch.cuda.max_memory_reserved: 0.000000GB\n"
     ]
    },
    {
     "data": {
      "application/vnd.jupyter.widget-view+json": {
       "model_id": "d916faff997c494a8da7fea864364494",
       "version_major": 2,
       "version_minor": 0
      },
      "text/plain": [
       "Epoch:   0%|          | 0/2 [00:00<?, ?it/s]"
      ]
     },
     "metadata": {},
     "output_type": "display_data"
    },
    {
     "data": {
      "application/vnd.jupyter.widget-view+json": {
       "model_id": "08f733180ac5479d9d31c558f425538a",
       "version_major": 2,
       "version_minor": 0
      },
      "text/plain": [
       "Iteration:   0%|          | 0/252 [00:00<?, ?it/s]"
      ]
     },
     "metadata": {},
     "output_type": "display_data"
    },
    {
     "data": {
      "application/vnd.jupyter.widget-view+json": {
       "model_id": "8f5730164809402e8d72d0fbce8603b1",
       "version_major": 2,
       "version_minor": 0
      },
      "text/plain": [
       "Iteration:   0%|          | 0/252 [00:00<?, ?it/s]"
      ]
     },
     "metadata": {},
     "output_type": "display_data"
    }
   ],
   "source": [
    "#Define the model. Either from scratch of by loading a pre-trained model\n",
    "#del model \n",
    "torch.cuda.empty_cache()\n",
    "\n",
    "model = SentenceTransformer('all-mpnet-base-v2', device=\"cuda:\" + str(deviceNum))\n",
    "\n",
    "#Define your train examples. You need more than just two examples...\n",
    "#train_examples = [InputExample(texts=['My first sentence', 'My second sentence'], label=0.8),\n",
    "#    InputExample(texts=['Another pair', 'Unrelated sentence'], label=0.3)]\n",
    "\n",
    "#Define your train dataset, the dataloader and the train loss\n",
    "overallDataloader = torch.utils.data.DataLoader(trainOverall, shuffle=True, batch_size=5)\n",
    "toneDataloader = torch.utils.data.DataLoader(trainTone, shuffle=True, batch_size=5)\n",
    "\n",
    "#works OK \n",
    "#train_loss = losses.MultipleNegativesRankingLoss(model)\n",
    "\n",
    "overallLoss = losses.CosineSimilarityLoss(model)\n",
    "toneLoss = losses.CosineSimilarityLoss(model)\n",
    "\n",
    "evaluator = evaluation.EmbeddingSimilarityEvaluator(list(validDf[\"text1\"]), list(validDf[\"text2\"]), list(validDf[\"Tone\"]))\n",
    "\n",
    "check_mem()\n",
    "\n",
    "train_objectives = [(overallDataloader, overallLoss),(toneDataloader, toneLoss)]\n",
    "#Tune the model\n",
    "output_path = \"/shared/3/projects/benlitterer/localNews/NetworkMVP/SBERTmultitaskEval\"\n",
    "checkpoint_path = \"/shared/3/projects/benlitterer/localNews/NetworkMVP/SBERTmultitaskTraining\"\n",
    "evaluation_steps = 50\n",
    "model.fit(train_objectives=train_objectives, epochs=2, warmup_steps=75, evaluator=evaluator, evaluation_steps = evaluation_steps, output_path=output_path, checkpoint_path=checkpoint_path)"
   ]
  },
  {
   "cell_type": "code",
   "execution_count": 16,
   "id": "3057d4e3",
   "metadata": {},
   "outputs": [],
   "source": [
    "evalData = pd.read_csv(\"/shared/3/projects/benlitterer/localNews/NetworkMVP/SBERTmultitaskEval/eval/similarity_evaluation_results.csv\")"
   ]
  },
  {
   "cell_type": "code",
   "execution_count": 17,
   "id": "3be22b1a",
   "metadata": {},
   "outputs": [
    {
     "data": {
      "text/html": [
       "<div>\n",
       "<style scoped>\n",
       "    .dataframe tbody tr th:only-of-type {\n",
       "        vertical-align: middle;\n",
       "    }\n",
       "\n",
       "    .dataframe tbody tr th {\n",
       "        vertical-align: top;\n",
       "    }\n",
       "\n",
       "    .dataframe thead th {\n",
       "        text-align: right;\n",
       "    }\n",
       "</style>\n",
       "<table border=\"1\" class=\"dataframe\">\n",
       "  <thead>\n",
       "    <tr style=\"text-align: right;\">\n",
       "      <th></th>\n",
       "      <th>epoch</th>\n",
       "      <th>steps</th>\n",
       "      <th>cosine_pearson</th>\n",
       "      <th>cosine_spearman</th>\n",
       "      <th>euclidean_pearson</th>\n",
       "      <th>euclidean_spearman</th>\n",
       "      <th>manhattan_pearson</th>\n",
       "      <th>manhattan_spearman</th>\n",
       "      <th>dot_pearson</th>\n",
       "      <th>dot_spearman</th>\n",
       "    </tr>\n",
       "  </thead>\n",
       "  <tbody>\n",
       "    <tr>\n",
       "      <th>0</th>\n",
       "      <td>0</td>\n",
       "      <td>50</td>\n",
       "      <td>0.490563</td>\n",
       "      <td>0.504727</td>\n",
       "      <td>0.484866</td>\n",
       "      <td>0.504727</td>\n",
       "      <td>0.485585</td>\n",
       "      <td>0.503583</td>\n",
       "      <td>0.490563</td>\n",
       "      <td>0.504727</td>\n",
       "    </tr>\n",
       "    <tr>\n",
       "      <th>1</th>\n",
       "      <td>0</td>\n",
       "      <td>100</td>\n",
       "      <td>0.511936</td>\n",
       "      <td>0.535218</td>\n",
       "      <td>0.496313</td>\n",
       "      <td>0.535218</td>\n",
       "      <td>0.494564</td>\n",
       "      <td>0.532283</td>\n",
       "      <td>0.511936</td>\n",
       "      <td>0.535218</td>\n",
       "    </tr>\n",
       "    <tr>\n",
       "      <th>2</th>\n",
       "      <td>0</td>\n",
       "      <td>150</td>\n",
       "      <td>0.493913</td>\n",
       "      <td>0.511528</td>\n",
       "      <td>0.486590</td>\n",
       "      <td>0.511528</td>\n",
       "      <td>0.482725</td>\n",
       "      <td>0.506622</td>\n",
       "      <td>0.493913</td>\n",
       "      <td>0.511528</td>\n",
       "    </tr>\n",
       "    <tr>\n",
       "      <th>3</th>\n",
       "      <td>0</td>\n",
       "      <td>200</td>\n",
       "      <td>0.535632</td>\n",
       "      <td>0.559082</td>\n",
       "      <td>0.522391</td>\n",
       "      <td>0.559082</td>\n",
       "      <td>0.516921</td>\n",
       "      <td>0.551786</td>\n",
       "      <td>0.535632</td>\n",
       "      <td>0.559082</td>\n",
       "    </tr>\n",
       "    <tr>\n",
       "      <th>4</th>\n",
       "      <td>0</td>\n",
       "      <td>250</td>\n",
       "      <td>0.520619</td>\n",
       "      <td>0.543597</td>\n",
       "      <td>0.508224</td>\n",
       "      <td>0.543597</td>\n",
       "      <td>0.501271</td>\n",
       "      <td>0.536497</td>\n",
       "      <td>0.520619</td>\n",
       "      <td>0.543597</td>\n",
       "    </tr>\n",
       "    <tr>\n",
       "      <th>5</th>\n",
       "      <td>0</td>\n",
       "      <td>-1</td>\n",
       "      <td>0.520824</td>\n",
       "      <td>0.543673</td>\n",
       "      <td>0.508540</td>\n",
       "      <td>0.543673</td>\n",
       "      <td>0.501724</td>\n",
       "      <td>0.536216</td>\n",
       "      <td>0.520824</td>\n",
       "      <td>0.543673</td>\n",
       "    </tr>\n",
       "    <tr>\n",
       "      <th>6</th>\n",
       "      <td>1</td>\n",
       "      <td>50</td>\n",
       "      <td>0.530825</td>\n",
       "      <td>0.556270</td>\n",
       "      <td>0.517885</td>\n",
       "      <td>0.556270</td>\n",
       "      <td>0.512195</td>\n",
       "      <td>0.549309</td>\n",
       "      <td>0.530825</td>\n",
       "      <td>0.556270</td>\n",
       "    </tr>\n",
       "    <tr>\n",
       "      <th>7</th>\n",
       "      <td>1</td>\n",
       "      <td>100</td>\n",
       "      <td>0.525061</td>\n",
       "      <td>0.549493</td>\n",
       "      <td>0.511797</td>\n",
       "      <td>0.549493</td>\n",
       "      <td>0.504851</td>\n",
       "      <td>0.539700</td>\n",
       "      <td>0.525061</td>\n",
       "      <td>0.549493</td>\n",
       "    </tr>\n",
       "    <tr>\n",
       "      <th>8</th>\n",
       "      <td>1</td>\n",
       "      <td>150</td>\n",
       "      <td>0.525260</td>\n",
       "      <td>0.551862</td>\n",
       "      <td>0.509847</td>\n",
       "      <td>0.551862</td>\n",
       "      <td>0.504254</td>\n",
       "      <td>0.542536</td>\n",
       "      <td>0.525260</td>\n",
       "      <td>0.551862</td>\n",
       "    </tr>\n",
       "    <tr>\n",
       "      <th>9</th>\n",
       "      <td>1</td>\n",
       "      <td>200</td>\n",
       "      <td>0.522727</td>\n",
       "      <td>0.548547</td>\n",
       "      <td>0.507778</td>\n",
       "      <td>0.548547</td>\n",
       "      <td>0.501952</td>\n",
       "      <td>0.537482</td>\n",
       "      <td>0.522727</td>\n",
       "      <td>0.548547</td>\n",
       "    </tr>\n",
       "    <tr>\n",
       "      <th>10</th>\n",
       "      <td>1</td>\n",
       "      <td>250</td>\n",
       "      <td>0.521873</td>\n",
       "      <td>0.547685</td>\n",
       "      <td>0.506760</td>\n",
       "      <td>0.547685</td>\n",
       "      <td>0.500917</td>\n",
       "      <td>0.537390</td>\n",
       "      <td>0.521873</td>\n",
       "      <td>0.547685</td>\n",
       "    </tr>\n",
       "    <tr>\n",
       "      <th>11</th>\n",
       "      <td>1</td>\n",
       "      <td>-1</td>\n",
       "      <td>0.521873</td>\n",
       "      <td>0.547677</td>\n",
       "      <td>0.506758</td>\n",
       "      <td>0.547677</td>\n",
       "      <td>0.500914</td>\n",
       "      <td>0.537350</td>\n",
       "      <td>0.521873</td>\n",
       "      <td>0.547677</td>\n",
       "    </tr>\n",
       "  </tbody>\n",
       "</table>\n",
       "</div>"
      ],
      "text/plain": [
       "    epoch  steps  cosine_pearson  cosine_spearman  euclidean_pearson  \\\n",
       "0       0     50        0.490563         0.504727           0.484866   \n",
       "1       0    100        0.511936         0.535218           0.496313   \n",
       "2       0    150        0.493913         0.511528           0.486590   \n",
       "3       0    200        0.535632         0.559082           0.522391   \n",
       "4       0    250        0.520619         0.543597           0.508224   \n",
       "5       0     -1        0.520824         0.543673           0.508540   \n",
       "6       1     50        0.530825         0.556270           0.517885   \n",
       "7       1    100        0.525061         0.549493           0.511797   \n",
       "8       1    150        0.525260         0.551862           0.509847   \n",
       "9       1    200        0.522727         0.548547           0.507778   \n",
       "10      1    250        0.521873         0.547685           0.506760   \n",
       "11      1     -1        0.521873         0.547677           0.506758   \n",
       "\n",
       "    euclidean_spearman  manhattan_pearson  manhattan_spearman  dot_pearson  \\\n",
       "0             0.504727           0.485585            0.503583     0.490563   \n",
       "1             0.535218           0.494564            0.532283     0.511936   \n",
       "2             0.511528           0.482725            0.506622     0.493913   \n",
       "3             0.559082           0.516921            0.551786     0.535632   \n",
       "4             0.543597           0.501271            0.536497     0.520619   \n",
       "5             0.543673           0.501724            0.536216     0.520824   \n",
       "6             0.556270           0.512195            0.549309     0.530825   \n",
       "7             0.549493           0.504851            0.539700     0.525061   \n",
       "8             0.551862           0.504254            0.542536     0.525260   \n",
       "9             0.548547           0.501952            0.537482     0.522727   \n",
       "10            0.547685           0.500917            0.537390     0.521873   \n",
       "11            0.547677           0.500914            0.537350     0.521873   \n",
       "\n",
       "    dot_spearman  \n",
       "0       0.504727  \n",
       "1       0.535218  \n",
       "2       0.511528  \n",
       "3       0.559082  \n",
       "4       0.543597  \n",
       "5       0.543673  \n",
       "6       0.556270  \n",
       "7       0.549493  \n",
       "8       0.551862  \n",
       "9       0.548547  \n",
       "10      0.547685  \n",
       "11      0.547677  "
      ]
     },
     "execution_count": 17,
     "metadata": {},
     "output_type": "execute_result"
    }
   ],
   "source": [
    "evalData"
   ]
  },
  {
   "cell_type": "code",
   "execution_count": 19,
   "id": "5db0545b",
   "metadata": {},
   "outputs": [
    {
     "name": "stderr",
     "output_type": "stream",
     "text": [
      "<ipython-input-19-97c093916601>:9: SettingWithCopyWarning: \n",
      "A value is trying to be set on a copy of a slice from a DataFrame.\n",
      "Try using .loc[row_indexer,col_indexer] = value instead\n",
      "\n",
      "See the caveats in the documentation: https://pandas.pydata.org/pandas-docs/stable/user_guide/indexing.html#returning-a-view-versus-a-copy\n",
      "  plotData[\"totalSteps\"] = totalSteps\n"
     ]
    }
   ],
   "source": [
    "plotData = evalData[evalData[\"steps\"] != -1]\n",
    "currStep = 0 \n",
    "evaluation_steps = 50 \n",
    "totalSteps = []\n",
    "for i in range(len(plotData)):\n",
    "    totalSteps.append(currStep)\n",
    "    currStep += evaluation_steps \n",
    "    \n",
    "plotData[\"totalSteps\"] = totalSteps"
   ]
  },
  {
   "cell_type": "code",
   "execution_count": 20,
   "id": "05dd6235",
   "metadata": {},
   "outputs": [
    {
     "data": {
      "text/plain": [
       "0     0.000000\n",
       "1     0.198413\n",
       "2     0.396825\n",
       "3     0.595238\n",
       "4     0.793651\n",
       "6     0.992063\n",
       "7     1.190476\n",
       "8     1.388889\n",
       "9     1.587302\n",
       "10    1.785714\n",
       "Name: totalSteps, dtype: float64"
      ]
     },
     "execution_count": 20,
     "metadata": {},
     "output_type": "execute_result"
    }
   ],
   "source": [
    "plotData[\"totalSteps\"] / 252"
   ]
  },
  {
   "cell_type": "code",
   "execution_count": 22,
   "id": "db02d9c1",
   "metadata": {},
   "outputs": [
    {
     "data": {
      "text/plain": [
       "Text(0, 0.5, 'Cosine Similarity, Pearson Correlation')"
      ]
     },
     "execution_count": 22,
     "metadata": {},
     "output_type": "execute_result"
    },
    {
     "data": {
      "image/png": "[encoded data removed]",
      "text/plain": [
       "<Figure size 432x288 with 1 Axes>"
      ]
     },
     "metadata": {
      "needs_background": "light"
     },
     "output_type": "display_data"
    }
   ],
   "source": [
    "\n",
    "plt.plot(plotData[\"totalSteps\"] / 252, plotData[\"cosine_pearson\"])\n",
    "plt.title(\"Tone Similarity - Validation Set\")\n",
    "plt.xlabel(\"epoch\")\n",
    "plt.ylabel(\"Cosine Similarity, Pearson Correlation\")"
   ]
  },
  {
   "cell_type": "code",
   "execution_count": 24,
   "id": "dd875423",
   "metadata": {},
   "outputs": [
    {
     "data": {
      "text/plain": [
       "0.8139453681490335"
      ]
     },
     "execution_count": 24,
     "metadata": {},
     "output_type": "execute_result"
    }
   ],
   "source": [
    "evaluator = evaluation.EmbeddingSimilarityEvaluator(list(validDf[\"text1\"]), list(validDf[\"text2\"]), list(validDf[\"Overall\"]))\n",
    "evaluator(model, output_path=output_path + \"/overallSimEval\")"
   ]
  },
  {
   "cell_type": "code",
   "execution_count": null,
   "id": "0367724f",
   "metadata": {},
   "outputs": [],
   "source": []
  },
  {
   "cell_type": "code",
   "execution_count": null,
   "id": "50331aac",
   "metadata": {},
   "outputs": [],
   "source": []
  }
 ],
 "metadata": {
  "kernelspec": {
   "display_name": "Python 3",
   "language": "python",
   "name": "python3"
  },
  "language_info": {
   "codemirror_mode": {
    "name": "ipython",
    "version": 3
   },
   "file_extension": ".py",
   "mimetype": "text/x-python",
   "name": "python",
   "nbconvert_exporter": "python",
   "pygments_lexer": "ipython3",
   "version": "3.8.5"
  }
 },
 "nbformat": 4,
 "nbformat_minor": 5
}
