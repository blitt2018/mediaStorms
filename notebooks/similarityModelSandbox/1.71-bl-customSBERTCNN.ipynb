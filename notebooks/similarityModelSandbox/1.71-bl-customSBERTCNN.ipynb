{
 "cells": [
  {
   "cell_type": "code",
   "execution_count": 1,
   "metadata": {},
   "outputs": [],
   "source": [
    "from tqdm.auto import tqdm\n",
    "import torch \n",
    "from transformers import DistilBertModel\n",
    "from transformers import DistilBertTokenizer\n",
    "from transformers import PreTrainedTokenizer\n",
    "from sentence_transformers import SentenceTransformer, SentencesDataset, InputExample, losses\n",
    "from datasets import Dataset\n",
    "import pandas as pd\n",
    "from transformers.optimization import get_linear_schedule_with_warmup\n",
    "import matplotlib.pyplot as plt \n",
    "import numpy as np\n",
    "from sentence_transformers import SentenceTransformer\n",
    "from transformers import AutoTokenizer, AutoModel\n",
    "from torch.nn import CosineEmbeddingLoss\n",
    "import sklearn\n",
    "import spacy\n",
    "from torch import nn\n",
    "#Build up to SBERT model "
   ]
  },
  {
   "cell_type": "code",
   "execution_count": 2,
   "metadata": {},
   "outputs": [
    {
     "data": {
      "text/plain": [
       "(3524722688, 11554586624)"
      ]
     },
     "execution_count": 2,
     "metadata": {},
     "output_type": "execute_result"
    }
   ],
   "source": [
    "torch.cuda.mem_get_info(2)"
   ]
  },
  {
   "cell_type": "code",
   "execution_count": 3,
   "metadata": {},
   "outputs": [
    {
     "name": "stdout",
     "output_type": "stream",
     "text": [
      "torch.cuda.memory_allocated: 0.000000GB\n",
      "torch.cuda.memory_reserved: 0.000000GB\n",
      "torch.cuda.memory_free: 0.000000GB\n",
      "torch.cuda.max_memory_reserved: 0.000000GB\n"
     ]
    }
   ],
   "source": [
    "deviceNum = 1\n",
    "\n",
    "device = torch.device(\"cuda:\" + str(deviceNum) if torch.cuda.is_available() else \"cpu\")\n",
    "\n",
    "def check_mem():\n",
    "    torch.cuda.empty_cache()\n",
    "    a = torch.cuda.memory_allocated(deviceNum)/1024/1024/1024\n",
    "    r = torch.cuda.memory_reserved(deviceNum)/1024/1024/1024\n",
    "    print(\"torch.cuda.memory_allocated: %fGB\"%a)\n",
    "    print(\"torch.cuda.memory_reserved: %fGB\"%r)\n",
    "    print(\"torch.cuda.memory_free: %fGB\"%(r-a))\n",
    "    print(\"torch.cuda.max_memory_reserved: %fGB\"%(torch.cuda.max_memory_reserved(deviceNum)/1024/1024/1024))\n",
    "check_mem()\n",
    "\n",
    "\n",
    "torch.manual_seed(0)\n",
    "\n",
    "df = pd.read_csv(\"/shared/3/projects/benlitterer/localNews/NetworkMVP/enTrainData.csv\", sep=\"\\t\")\n",
    "df = df.loc[(df[\"url1_lang\"] == \"en\") & (df[\"url2_lang\"] == \"en\")]\n",
    "\n",
    "#put ground truth values into a list \n",
    "df[\"ground_truth\"] = df['Overall']\n",
    "\n",
    "#get only the columns we need \n",
    "#TODO: do we need \"pair_id\"? \n",
    "leanDf = df[[\"ground_truth\",  'text1', 'text2']].dropna()\n",
    "\n",
    "#rescale data from (0, 4): (0, 1)\n",
    "leanDf[\"ground_truth\"] = 1 - ((leanDf[\"ground_truth\"] - 1) / 3)"
   ]
  },
  {
   "cell_type": "code",
   "execution_count": 4,
   "metadata": {},
   "outputs": [],
   "source": [
    "class CustomSentListDataset(Dataset): \n",
    "    def __init__(self, inDf): \n",
    "        self.inDf = inDf \n",
    "        \n",
    "    def __len__(self): \n",
    "        return len(self.inDf)\n",
    "    \n",
    "    def __getitem__(self, idx):\n",
    "        return list(self.inDf.iloc[idx])"
   ]
  },
  {
   "cell_type": "code",
   "execution_count": 5,
   "metadata": {},
   "outputs": [
    {
     "data": {
      "application/vnd.jupyter.widget-view+json": {
       "model_id": "ca5ce6d2ff374a1a979ed82f80a42e66",
       "version_major": 2,
       "version_minor": 0
      },
      "text/plain": [
       "0it [00:00, ?it/s]"
      ]
     },
     "metadata": {},
     "output_type": "display_data"
    },
    {
     "data": {
      "application/vnd.jupyter.widget-view+json": {
       "model_id": "f38ab41d26e94c94bb8a8783ae70ae8a",
       "version_major": 2,
       "version_minor": 0
      },
      "text/plain": [
       "0it [00:00, ?it/s]"
      ]
     },
     "metadata": {},
     "output_type": "display_data"
    },
    {
     "data": {
      "application/vnd.jupyter.widget-view+json": {
       "model_id": "8ccb2993237c4fd3a8d5b14f93f3536e",
       "version_major": 2,
       "version_minor": 0
      },
      "text/plain": [
       "0it [00:00, ?it/s]"
      ]
     },
     "metadata": {},
     "output_type": "display_data"
    },
    {
     "data": {
      "application/vnd.jupyter.widget-view+json": {
       "model_id": "0bc698ac48e14c1cb5af8f65770c23c3",
       "version_major": 2,
       "version_minor": 0
      },
      "text/plain": [
       "0it [00:00, ?it/s]"
      ]
     },
     "metadata": {},
     "output_type": "display_data"
    }
   ],
   "source": [
    "#nlp = spacy.load(\"en_core_web_sm\", disable=[\"tok2vec\", \"tagger\", \"parser\", \"attribute_ruler\", \"lemmatizer\", \"ner\"])\n",
    "#nlp.enable_pipe(\"senter\")\n",
    "nlp = spacy.blank(\"en\")\n",
    "nlp.add_pipe(\"sentencizer\")\n",
    "\n",
    "def extractSents(inList): \n",
    "    separator = nlp.pipe(inList, n_process=8)\n",
    "    textList = []\n",
    "    for text in tqdm(separator): \n",
    "        sentList = [str(sent) for sent in text.sents if len(sent) > 3]\n",
    "        textList.append(sentList)\n",
    "    return textList\n",
    "\n",
    "#split data \n",
    "trainDf, validDf = sklearn.model_selection.train_test_split(leanDf, train_size=.9, test_size=.1)\n",
    "trainDf = trainDf.reset_index(drop=True)\n",
    "validDf = validDf.reset_index(drop=True)\n",
    "\n",
    "trainDf[\"text1\"] = extractSents(trainDf[\"text1\"])\n",
    "trainDf[\"text2\"] = extractSents(trainDf[\"text2\"])\n",
    "validDf[\"text1\"] = extractSents(validDf[\"text1\"])\n",
    "validDf[\"text2\"] = extractSents(validDf[\"text2\"])\n",
    "\n"
   ]
  },
  {
   "cell_type": "code",
   "execution_count": 6,
   "metadata": {},
   "outputs": [],
   "source": [
    "sentCutoff = 60\n",
    " \n",
    "trainDf[\"text1\"] = trainDf[\"text1\"].apply(lambda x: x[:sentCutoff])\n",
    "trainDf[\"text2\"] = trainDf[\"text2\"].apply(lambda x: x[:sentCutoff])\n",
    "\n",
    "validDf[\"text1\"] = validDf[\"text1\"].apply(lambda x: x[:sentCutoff])\n",
    "validDf[\"text2\"] = validDf[\"text2\"].apply(lambda x: x[:sentCutoff])\n"
   ]
  },
  {
   "cell_type": "code",
   "execution_count": 7,
   "metadata": {},
   "outputs": [],
   "source": [
    "tokenizer = AutoTokenizer.from_pretrained('sentence-transformers/all-mpnet-base-v2')\n",
    "\n",
    "def getLoader(inDf, batchSize): \n",
    "    inDf[\"text1\"] = inDf[\"text1\"].apply(lambda x: tokenizer.batch_encode_plus(x, max_length=60, padding=\"max_length\", truncation=True, return_tensors=\"pt\"))\n",
    "    inDf[\"text2\"] = inDf[\"text2\"].apply(lambda x: tokenizer.batch_encode_plus(x, max_length=60, padding=\"max_length\", truncation=True, return_tensors=\"pt\"))\n",
    "    \n",
    "    inDf[\"text1_input_ids\"] = inDf[\"text1\"].apply(lambda x: x[\"input_ids\"])\n",
    "    inDf[\"text2_input_ids\"] = inDf[\"text2\"].apply(lambda x: x[\"input_ids\"])\n",
    "    \n",
    "    inDf[\"text1_attention_mask\"] = inDf[\"text1\"].apply(lambda x: x[\"attention_mask\"])\n",
    "    inDf[\"text2_attention_mask\"] = inDf[\"text2\"].apply(lambda x: x[\"attention_mask\"])\n",
    "    \n",
    "    #inDf[\"ground_truth\"] = inDf[\"ground_truth\"].apply(lambda x: x))\n",
    "    \n",
    "    dataset = CustomSentListDataset(inDf[[\"ground_truth\", \"text1_input_ids\", \"text1_attention_mask\",\"text2_input_ids\", \"text2_attention_mask\"]])\n",
    "    \n",
    "    # convert dataset features to PyTorch tensors\n",
    "    #dataset.set_format(type='torch', columns=inDf.columns())\n",
    "    loader = torch.utils.data.DataLoader(dataset, batch_size=batchSize, shuffle=True)\n",
    "    return [dataset, loader]\n",
    "\n",
    "trainData, trainLoader = getLoader(trainDf, 1)\n",
    "validData, validLoader = getLoader(validDf, 1)\n"
   ]
  },
  {
   "cell_type": "code",
   "execution_count": 8,
   "metadata": {},
   "outputs": [
    {
     "data": {
      "text/plain": [
       "tensor(0.)"
      ]
     },
     "execution_count": 8,
     "metadata": {},
     "output_type": "execute_result"
    }
   ],
   "source": [
    "cos = torch.nn.CosineSimilarity(dim=0, eps=1e-6)\n",
    "cos(torch.Tensor([0]), torch.Tensor([0]))"
   ]
  },
  {
   "cell_type": "code",
   "execution_count": 9,
   "metadata": {},
   "outputs": [],
   "source": [
    "#NOTE: originally universal sentence encoder was fed in as well as mp-net encoding. That's why \n",
    "#they have dimension of two going into the network \n",
    "class BigModel(nn.Module): \n",
    "    def __init__(self, sentCutoff, dropout): \n",
    "        super(BigModel, self).__init__()\n",
    "        \n",
    "        #need encoder first \n",
    "        self.model = AutoModel.from_pretrained('sentence-transformers/all-mpnet-base-v2')\n",
    "        self.cos = torch.nn.CosineSimilarity(dim=0, eps=1e-6)\n",
    "        self.sentCutoff = sentCutoff\n",
    "        self.loss_func = torch.nn.MSELoss(reduction=\"mean\")\n",
    "        \n",
    "        N_UNITS = 5\n",
    "        self.in_1 = SimCnnSubPart(kernel_size=5, dropout=dropout)\n",
    "        self.in_2 = SimCnnSubPart(kernel_size=7, dropout=dropout)\n",
    "        self.in_3 = SimCnnSubPart(kernel_size=10, dropout=dropout)\n",
    "        self.in_4 = SimCnnSubPart(kernel_size=12, dropout=dropout)\n",
    "        self.in_5 = SimCnnSubPart(kernel_size=15, dropout=dropout)\n",
    "        \n",
    "        self.out = nn.Sequential(\n",
    "            nn.Flatten(),\n",
    "            nn.Linear(in_features=128*N_UNITS, out_features=128*(N_UNITS-2)),\n",
    "            nn.ReLU6(),\n",
    "            nn.Linear(in_features=128*(N_UNITS-2), out_features=128*(N_UNITS-3)),\n",
    "            nn.Dropout(dropout),\n",
    "            nn.ReLU6(),\n",
    "            nn.Linear(in_features=128*(N_UNITS-3), out_features=128*(N_UNITS-4)),\n",
    "            nn.ReLU6(),\n",
    "            nn.Linear(in_features=128*(N_UNITS-4), out_features=64),\n",
    "            nn.Dropout(dropout),\n",
    "            nn.ReLU6(),\n",
    "            nn.Linear(in_features=64, out_features=32),\n",
    "            nn.ReLU6(),\n",
    "            nn.Linear(in_features=32, out_features=1),\n",
    "        )\n",
    "        \n",
    "        \"\"\"\n",
    "        self.out = nn.Sequential(\n",
    "            nn.Flatten(),\n",
    "            nn.Linear(in_features=128, out_features=int(128/3)),\n",
    "            nn.ReLU6(),\n",
    "            nn.Linear(in_features=int(128/3), out_features=int(128/6)),\n",
    "            nn.Dropout(dropout),\n",
    "            nn.ReLU6(),\n",
    "            nn.Linear(in_features=int(128/6), out_features=int(128/8)),\n",
    "            nn.ReLU6(),\n",
    "            nn.Linear(in_features=int(128/8), out_features=1)\n",
    "        )\n",
    "        \"\"\"\n",
    "    def forward(self, inputs_ids_a, attention_a, inputs_ids_b, attention_b, gt):\n",
    "        u = self.model(inputs_ids_a, attention_mask=attention_a)[0]  # all token embeddings B\n",
    "\n",
    "        #try to clear up memory and keep only the sentence embeddings \n",
    "        del inputs_ids_a\n",
    "\n",
    "        sents_u = self.mean_pooling(u, attention_a)\n",
    "        del attention_a\n",
    "        del u \n",
    "\n",
    "        v = self.model(inputs_ids_b, attention_mask=attention_b)[0]  # all token embeddings B\n",
    "        del inputs_ids_b\n",
    "\n",
    "        sents_v = self.mean_pooling(v, attention_b)\n",
    "        del attention_b\n",
    "        del v\n",
    "\n",
    "        #print(\"creating matrix\")\n",
    "        #get similarity matrix for sentences between the documents \n",
    "        sims = np.empty([self.sentCutoff, self.sentCutoff])\n",
    "        for i in range(self.sentCutoff):\n",
    "            uSent = torch.Tensor([0]).to(device)\n",
    "            if i < len(sents_u): \n",
    "                uSent = sents_u[i]\n",
    "            for j in range(self.sentCutoff):\n",
    "                vSent = torch.Tensor([0]).to(device)\n",
    "                if j < len(sents_v):\n",
    "                    vSent = sents_v[j]\n",
    "                sims[i, j] = self.cos(uSent, vSent)\n",
    "\n",
    "        sims = torch.Tensor(np.array([sims])).to(device).unsqueeze(1)\n",
    "        del sents_u\n",
    "        del sents_v \n",
    "\n",
    "        #print(sims.shape)\n",
    "        x_1 = self.in_1(sims)\n",
    "        #print(x_1.shape)\n",
    "        x_2 = self.in_2(sims)\n",
    "        x_3 = self.in_3(sims)\n",
    "        x_4 = self.in_4(sims)\n",
    "        x_5 = self.in_5(sims)\n",
    "        x_cat = torch.cat([x_1, x_2, x_3, x_4, x_5], dim=1)\n",
    "        #x_cat = x_3 \n",
    "        #print(x_cat.shape)\n",
    "        \n",
    "        pred = self.out(x_cat)\n",
    "        \n",
    "        gt = gt.unsqueeze(1)\n",
    "            \n",
    "        loss = self.loss_func(pred, gt)\n",
    "        \n",
    "        return [loss, pred, gt] \n",
    "\n",
    "    \n",
    "    def mean_pooling(self, token_embeddings, attention_mask): \n",
    "        input_mask_expanded = attention_mask.unsqueeze(-1).expand(token_embeddings.size()).float()\n",
    "        return torch.sum(token_embeddings * input_mask_expanded, 1) / torch.clamp(input_mask_expanded.sum(1), min=1e-9)\n",
    "\n",
    "class MaxOverTimePooling(nn.Module):\n",
    "\n",
    "    def __init__(self):\n",
    "        super(MaxOverTimePooling, self).__init__()\n",
    "\n",
    "    def forward(self, x):\n",
    "        pool = nn.MaxPool2d(kernel_size=(x.size()[2], x.size()[3]))\n",
    "        return pool(x)\n",
    "    \n",
    "#perform convolutions with a given kernel_size and flatten down to 128 features \n",
    "#note we do feature extraction, dropout, and pooling here  \n",
    "class SimCnnSubPart(nn.Module):\n",
    "    def __init__(self, kernel_size: int, dropout: float):\n",
    "        super(SimCnnSubPart, self).__init__()\n",
    "        \n",
    "        \n",
    "        self.network_1 = nn.Sequential(\n",
    "            #NOTE: chaning this to 1 but maybe should be 2? \n",
    "            CnnBlock(in_channels=1, out_channels=32, kernel_size=kernel_size, dropout=(dropout / 2.0)),\n",
    "            nn.Dropout(dropout / 2),\n",
    "            CnnBlock(in_channels=32, out_channels=64, kernel_size=kernel_size, dropout=(dropout / 2.0)),\n",
    "            #used to be 60 \n",
    "            nn.Conv2d(in_channels=64, out_channels=128, kernel_size=kernel_size),\n",
    "            nn.BatchNorm2d(128),\n",
    "            nn.ReLU6(),\n",
    "            MaxOverTimePooling(),\n",
    "            nn.Flatten(),\n",
    "            nn.Linear(in_features=128, out_features=128),\n",
    "            nn.Dropout(dropout),\n",
    "            nn.ReLU6(),\n",
    "        )\n",
    "\n",
    "    def forward(self, x):\n",
    "        return self.network_1(x)\n",
    "        # x = self.n_2(x)\n",
    "        # return x\n",
    "\n",
    "#create a block of convolutions in a row. Doesn't pool though so just feature extraction basically \n",
    "class CnnBlock(nn.Module):\n",
    "    def __init__(self, in_channels: int, out_channels: int, kernel_size, dropout: int):\n",
    "        super(CnnBlock, self).__init__()\n",
    "\n",
    "        self.c1 = nn.Sequential(\n",
    "            nn.Conv2d(in_channels=in_channels, out_channels=out_channels, kernel_size=kernel_size, padding='same'),\n",
    "            nn.ReLU6(),\n",
    "            nn.BatchNorm2d(out_channels),\n",
    "            nn.Conv2d(in_channels=out_channels, out_channels=out_channels, kernel_size=kernel_size, padding='same'),\n",
    "            nn.ReLU6(),\n",
    "            nn.BatchNorm2d(out_channels),\n",
    "            nn.Dropout(dropout),\n",
    "            nn.Conv2d(in_channels=out_channels, out_channels=out_channels, kernel_size=kernel_size, padding='same'),\n",
    "            nn.ReLU6(),\n",
    "            nn.BatchNorm2d(out_channels),\n",
    "            nn.Conv2d(in_channels=out_channels, out_channels=out_channels, kernel_size=kernel_size, padding='same'),\n",
    "            nn.ReLU6(),\n",
    "            nn.BatchNorm2d(out_channels),\n",
    "            nn.Dropout(dropout),\n",
    "            nn.Conv2d(in_channels=out_channels, out_channels=out_channels, kernel_size=kernel_size, padding='same'),\n",
    "            nn.ReLU6(),\n",
    "            nn.BatchNorm2d(out_channels)\n",
    "        )\n",
    "\n",
    "    def forward(self, x):\n",
    "        return self.c1(x)"
   ]
  },
  {
   "cell_type": "code",
   "execution_count": 10,
   "metadata": {},
   "outputs": [],
   "source": [
    "\n",
    "class MyModel(nn.Module):\n",
    "    def __init__(self, sentCutoff):\n",
    "        #do all the stuff from the inhereted method \n",
    "        super(MyModel,self).__init__()\n",
    "        \n",
    "        #need encoder first \n",
    "        self.model = AutoModel.from_pretrained('sentence-transformers/all-mpnet-base-v2')\n",
    "        self.cos = torch.nn.CosineSimilarity(dim=0, eps=1e-6)\n",
    "        self.sentCutoff = sentCutoff\n",
    "        \n",
    "        #Now start CNN\n",
    "        #layer1 \n",
    "        self.conv1 = nn.Conv2d(in_channels=1, out_channels=100, kernel_size=11, stride = 1, padding=5)\n",
    "        self.pool1 = nn.MaxPool2d(kernel_size=2, stride=2)\n",
    "        self.ReLU1 = nn.ReLU()\n",
    "        \n",
    "        #layer2\n",
    "        self.conv2 = nn.Conv2d(in_channels=100, out_channels=100, kernel_size=5, stride = 1, padding=2)\n",
    "        self.pool2 = nn.MaxPool2d(kernel_size=2, stride=2)\n",
    "        self.ReLU2 = nn.ReLU()\n",
    "        \n",
    "        #layer 3 \n",
    "        self.conv3 = nn.Conv2d(in_channels=100, out_channels=100, kernel_size=5, stride = 1, padding=0)\n",
    "        self.pool3 = nn.MaxPool2d(kernel_size=2, stride=2)\n",
    "        self.ReLU3 = nn.ReLU()\n",
    "        \n",
    "        #layer 4\n",
    "        self.l1 = nn.Linear(2500, 1000)\n",
    "        self.ReLU4 = nn.ReLU()\n",
    "        \n",
    "        #layer 5 \n",
    "        self.l2 = nn.Linear(1000, 1)\n",
    "        \n",
    "        self.loss_func = torch.nn.MSELoss(reduction=\"mean\")\n",
    "        \n",
    "    def mean_pooling(self, token_embeddings, attention_mask): \n",
    "        input_mask_expanded = attention_mask.unsqueeze(-1).expand(token_embeddings.size()).float()\n",
    "        return torch.sum(token_embeddings * input_mask_expanded, 1) / torch.clamp(input_mask_expanded.sum(1), min=1e-9)\n",
    "\n",
    "    def forward(self, inputs_ids_a, attention_a, inputs_ids_b, attention_b, gt): \n",
    "        \n",
    "        #out = out.view(out.size(0), -1)\n",
    "        \n",
    "        u = self.model(inputs_ids_a, attention_mask=attention_a)[0]  # all token embeddings B\n",
    "        #try to clear up memory and keep only the sentence embeddings \n",
    "        del inputs_ids_a\n",
    "\n",
    "        sents_u = self.mean_pooling(u, attention_a)\n",
    "        del attention_a\n",
    "        del u \n",
    "        \n",
    "        v = self.model(inputs_ids_b, attention_mask=attention_b)[0]  # all token embeddings B\n",
    "        del inputs_ids_b\n",
    "\n",
    "        sents_v = self.mean_pooling(v, attention_b)\n",
    "        del attention_b\n",
    "        del v\n",
    "     \n",
    "        #print(\"creating matrix\")\n",
    "        #get similarity matrix for sentences between the documents \n",
    "        sims = np.empty([self.sentCutoff, self.sentCutoff])\n",
    "        for i in range(self.sentCutoff):\n",
    "            uSent = torch.Tensor([0]).to(device)\n",
    "            if i < len(sents_u): \n",
    "                uSent = sents_u[i]\n",
    "            for j in range(self.sentCutoff):\n",
    "                vSent = torch.Tensor([0]).to(device)\n",
    "                if j < len(sents_v):\n",
    "                    vSent = sents_v[j]\n",
    "                sims[i, j] = self.cos(uSent, vSent)\n",
    "\n",
    "        sims = torch.Tensor(np.array([sims])).to(device)\n",
    "        del sents_u\n",
    "        del sents_v \n",
    "\n",
    "        #print(sims.shape)\n",
    "        #print(\"created matrix\")\n",
    "        #first attempt is a single linear layer\n",
    "        #maybe linear combination of output is sufficient? \n",
    "        #go from 4000 > 500 > 1\n",
    "        out = self.conv1(sims)\n",
    "        out = self.pool1(out)\n",
    "        out = self.ReLU1(out)\n",
    "        \n",
    "        #print(out.shape)\n",
    "        #print(\"l1 finished\")\n",
    "        out = self.conv2(out)\n",
    "        out = self.pool2(out)\n",
    "        out = self.ReLU2(out)\n",
    "        \n",
    "        #print(out.shape)\n",
    "        #print(\"l2 finished\")\n",
    "        out = self.conv3(out)\n",
    "        out = self.pool3(out)\n",
    "        out = self.ReLU3(out)\n",
    "        #print(out.shape)\n",
    "        #print(out)\n",
    "        out = out.view(1, out.shape[0]*out.shape[1]*out.shape[2])\n",
    "        \n",
    "        #print(out.shape)\n",
    "        #print(\"l3 finished\")\n",
    "        out = self.l1(out)\n",
    "        out = self.ReLU4(out)\n",
    "        \n",
    "        #print(\"l4 finished\")\n",
    "        pred = self.l2(out)\n",
    "        \n",
    "        #since the first dimension is supposed to represent number of batches, we add \n",
    "        # a dimension to the prediction to indicate batch size of 1\n",
    "        gt = gt.unsqueeze(1)\n",
    "       \n",
    "        #print(pred.shape)\n",
    "        #print(gt.shape)\n",
    "        \n",
    "        loss = self.loss_func(pred, gt)\n",
    "        \n",
    "        return [loss, pred, gt] \n"
   ]
  },
  {
   "cell_type": "code",
   "execution_count": 11,
   "metadata": {},
   "outputs": [],
   "source": [
    "x = torch.Tensor(np.empty([10, 5, 5]))\n",
    "x = x.view(1, x.shape[0]*x.shape[1]*x.shape[2])\n"
   ]
  },
  {
   "cell_type": "code",
   "execution_count": 12,
   "metadata": {},
   "outputs": [],
   "source": [
    "model = MyModel(60).to(device)\n",
    "\n",
    "trainBatch = 1\n",
    "\n",
    "# we would initialize everything first\n",
    "optim = torch.optim.Adam(model.parameters(), lr=2e-5)\n",
    "\n",
    "EPOCHS = 4\n",
    "\n",
    "# and setup a warmup for the first ~10% steps\n",
    "total_steps = int(len(trainData)*EPOCHS / trainBatch)\n",
    "warmup_steps = int(0.1 * total_steps)\n",
    "scheduler = get_linear_schedule_with_warmup(optim, num_warmup_steps=warmup_steps, num_training_steps=total_steps - warmup_steps)"
   ]
  },
  {
   "cell_type": "code",
   "execution_count": 13,
   "metadata": {},
   "outputs": [],
   "source": [
    "def validation(): \n",
    "    model.eval()\n",
    "    lossList = []\n",
    "    preds = []\n",
    "    gts = []\n",
    "\n",
    "    vLoop = tqdm(validLoader, leave=True)\n",
    "    for j, vBatch in enumerate(vLoop): \n",
    "        # prepare batches and more all to the active device\n",
    "        inputs_ids_a = vBatch[1][0].to(device)\n",
    "        attention_a = vBatch[2][0].to(device)\n",
    "        inputs_ids_b = vBatch[3][0].to(device)\n",
    "        attention_b = vBatch[4][0].to(device)\n",
    "        gt = vBatch[0].float().to(device)\n",
    "        \n",
    "        #get outputs from model \n",
    "        loss, pred, gt = model(inputs_ids_a, attention_a, inputs_ids_b, attention_b, gt)\n",
    "        \n",
    "        #get predictions and ground truth to compute training metrics with \n",
    "        lossList.append(float(loss))\n",
    "        preds.append(float(pred))\n",
    "        gts.append(float(gt))\n",
    "        \n",
    "    #print(vGT)\n",
    "    return [lossList, preds, gts]\n",
    "        "
   ]
  },
  {
   "cell_type": "code",
   "execution_count": 14,
   "metadata": {},
   "outputs": [
    {
     "data": {
      "application/vnd.jupyter.widget-view+json": {
       "model_id": "f3a8b2ba9f244504a23595cf1b604057",
       "version_major": 2,
       "version_minor": 0
      },
      "text/plain": [
       "  0%|          | 0/1508 [00:00<?, ?it/s]"
      ]
     },
     "metadata": {},
     "output_type": "display_data"
    },
    {
     "data": {
      "application/vnd.jupyter.widget-view+json": {
       "model_id": "8ee5ee281d8e4eef932ccafd58c85a0a",
       "version_major": 2,
       "version_minor": 0
      },
      "text/plain": [
       "  0%|          | 0/168 [00:00<?, ?it/s]"
      ]
     },
     "metadata": {},
     "output_type": "display_data"
    },
    {
     "name": "stdout",
     "output_type": "stream",
     "text": [
      "validated\n"
     ]
    },
    {
     "data": {
      "application/vnd.jupyter.widget-view+json": {
       "model_id": "956fc4fd2b3d4d95a34c44327d1266d8",
       "version_major": 2,
       "version_minor": 0
      },
      "text/plain": [
       "  0%|          | 0/1508 [00:00<?, ?it/s]"
      ]
     },
     "metadata": {},
     "output_type": "display_data"
    },
    {
     "data": {
      "application/vnd.jupyter.widget-view+json": {
       "model_id": "e8bed26d70fa47cc888be48ae040b54a",
       "version_major": 2,
       "version_minor": 0
      },
      "text/plain": [
       "  0%|          | 0/168 [00:00<?, ?it/s]"
      ]
     },
     "metadata": {},
     "output_type": "display_data"
    },
    {
     "name": "stdout",
     "output_type": "stream",
     "text": [
      "validated\n"
     ]
    },
    {
     "data": {
      "application/vnd.jupyter.widget-view+json": {
       "model_id": "d81dbf13ddb043c8b3fa8bfe4ff886aa",
       "version_major": 2,
       "version_minor": 0
      },
      "text/plain": [
       "  0%|          | 0/1508 [00:00<?, ?it/s]"
      ]
     },
     "metadata": {},
     "output_type": "display_data"
    },
    {
     "data": {
      "application/vnd.jupyter.widget-view+json": {
       "model_id": "0a079acd029941cdacd42c77d0002af9",
       "version_major": 2,
       "version_minor": 0
      },
      "text/plain": [
       "  0%|          | 0/168 [00:00<?, ?it/s]"
      ]
     },
     "metadata": {},
     "output_type": "display_data"
    },
    {
     "name": "stdout",
     "output_type": "stream",
     "text": [
      "validated\n"
     ]
    },
    {
     "data": {
      "application/vnd.jupyter.widget-view+json": {
       "model_id": "ce38221ed35249018046718fbb15aa28",
       "version_major": 2,
       "version_minor": 0
      },
      "text/plain": [
       "  0%|          | 0/1508 [00:00<?, ?it/s]"
      ]
     },
     "metadata": {},
     "output_type": "display_data"
    },
    {
     "data": {
      "application/vnd.jupyter.widget-view+json": {
       "model_id": "9dba5c78c0da43ebb85eeb96487cd847",
       "version_major": 2,
       "version_minor": 0
      },
      "text/plain": [
       "  0%|          | 0/168 [00:00<?, ?it/s]"
      ]
     },
     "metadata": {},
     "output_type": "display_data"
    },
    {
     "name": "stdout",
     "output_type": "stream",
     "text": [
      "validated\n"
     ]
    }
   ],
   "source": [
    "lossSmoothing = 20\n",
    "validationFreq = len(trainData)\n",
    "\n",
    "#TODO: implement a cutoff on how many sentences of the article we can consider \n",
    "#TODO: put model in seperate class? How to make sure the params are updating \n",
    "trainDict = {}\n",
    "lossList = []\n",
    "subLossList = []\n",
    "validMetrics = []\n",
    "# increase from 1 epoch if need be \n",
    "for epoch in range(EPOCHS):\n",
    "    \n",
    "    model.train()  # make sure model is in training mode\n",
    "    \n",
    "    # initialize the dataloader loop with tqdm (tqdm == progress bar)\n",
    "    loop = tqdm(trainLoader, leave=True)\n",
    "    \n",
    "    #validation if at correct step \n",
    "    validMetrics.append(validation())\n",
    "    model.train()\n",
    "    print(\"validated\")\n",
    "            \n",
    "    for i, batch in enumerate(loop): \n",
    "        # zero all gradients on each new step\n",
    "        optim.zero_grad()\n",
    "        \n",
    "        #in practice this doesn't seem to usually actually help but worth adding? \n",
    "        #torch.cuda.empty_cache()\n",
    "\n",
    "        #get model inputs from batch \n",
    "        inputs_ids_a = batch[1][0].to(device)\n",
    "        attention_a = batch[2][0].to(device)\n",
    "        inputs_ids_b = batch[3][0].to(device)\n",
    "        attention_b = batch[4][0].to(device)\n",
    "        gt = batch[0].float().to(device)\n",
    "\n",
    "        #get outputs from model \n",
    "        loss, pred, gt = model(inputs_ids_a, attention_a, inputs_ids_b, attention_b, gt)\n",
    "        \n",
    "        subLossList.append(loss.item())\n",
    "        if i % lossSmoothing == 0: \n",
    "            lossList.append(np.median(subLossList))\n",
    "            subLossList = []\n",
    "            \n",
    "        #update weights \n",
    "        loss.backward()\n",
    "            \n",
    "        optim.step()\n",
    "        scheduler.step()"
   ]
  },
  {
   "cell_type": "code",
   "execution_count": 15,
   "metadata": {},
   "outputs": [
    {
     "data": {
      "text/plain": [
       "[<matplotlib.lines.Line2D at 0x7fbb1a0910d0>]"
      ]
     },
     "execution_count": 15,
     "metadata": {},
     "output_type": "execute_result"
    },
    {
     "data": {
      "image/png": "[encoded data removed]",
      "text/plain": [
       "<Figure size 432x288 with 1 Axes>"
      ]
     },
     "metadata": {
      "needs_background": "light"
     },
     "output_type": "display_data"
    }
   ],
   "source": [
    "plt.plot(lossList)\n"
   ]
  },
  {
   "cell_type": "code",
   "execution_count": 27,
   "metadata": {},
   "outputs": [
    {
     "data": {
      "text/plain": [
       "Text(0.5, 1.0, 'Loss')"
      ]
     },
     "execution_count": 27,
     "metadata": {},
     "output_type": "execute_result"
    },
    {
     "data": {
      "image/png": "[encoded data removed]",
      "text/plain": [
       "<Figure size 432x288 with 1 Axes>"
      ]
     },
     "metadata": {
      "needs_background": "light"
     },
     "output_type": "display_data"
    }
   ],
   "source": [
    "lossIndex = [(i * lossSmoothing) / len(trainData) for i in range(len(lossList))]\n",
    "plt.plot(lossIndex, lossList)\n",
    "plt.xlabel(\"batch num\")\n",
    "plt.ylabel(\"loss\")\n",
    "plt.title(\"Loss\")"
   ]
  },
  {
   "cell_type": "code",
   "execution_count": 17,
   "metadata": {},
   "outputs": [
    {
     "data": {
      "text/plain": [
       "(4, 3, 168)"
      ]
     },
     "execution_count": 17,
     "metadata": {},
     "output_type": "execute_result"
    }
   ],
   "source": [
    "np.array(validMetrics).shape"
   ]
  },
  {
   "cell_type": "code",
   "execution_count": 32,
   "metadata": {},
   "outputs": [],
   "source": [
    "validDf = pd.DataFrame({\"loss\":[], \"pred\":[], \"true\":[], \"iter\":[]})\n",
    "validArr = np.array(validMetrics)\n",
    "\n",
    "iterNum = 0\n",
    "corrList = []\n",
    "iterList = []\n",
    "for i in range(validArr.shape[0]): \n",
    "    subDf = pd.DataFrame(validArr[i].T)\n",
    "    subDf.columns = [\"loss\", \"pred\", \"true\"]\n",
    "    subDf[\"iter\"] = [iterNum for i in range(len(subDf))]\n",
    "    iterList.append(iterNum)\n",
    "    iterNum += 1\n",
    "    validDf = pd.concat([validDf, subDf])\n",
    "    corr = np.corrcoef(subDf[\"pred\"], subDf[\"true\"])\n",
    "    corrList.append(corr[0, 1])"
   ]
  },
  {
   "cell_type": "code",
   "execution_count": 33,
   "metadata": {},
   "outputs": [
    {
     "data": {
      "text/plain": [
       "[0, 1, 2, 3]"
      ]
     },
     "execution_count": 33,
     "metadata": {},
     "output_type": "execute_result"
    }
   ],
   "source": [
    "iterList"
   ]
  },
  {
   "cell_type": "code",
   "execution_count": 34,
   "metadata": {},
   "outputs": [
    {
     "data": {
      "text/plain": [
       "Text(0.5, 1.0, 'validation correlation')"
      ]
     },
     "execution_count": 34,
     "metadata": {},
     "output_type": "execute_result"
    },
    {
     "data": {
      "image/png": "[encoded data removed]",
      "text/plain": [
       "<Figure size 432x288 with 1 Axes>"
      ]
     },
     "metadata": {
      "needs_background": "light"
     },
     "output_type": "display_data"
    }
   ],
   "source": [
    "plt.plot(iterList, corrList)\n",
    "plt.xlabel(\"batch num\")\n",
    "plt.ylabel(\"pearson correlation\")\n",
    "plt.title(\"validation correlation\")"
   ]
  },
  {
   "cell_type": "code",
   "execution_count": 25,
   "metadata": {},
   "outputs": [
    {
     "name": "stdout",
     "output_type": "stream",
     "text": [
      "[[ 1.         -0.10695268]\n",
      " [-0.10695268  1.        ]]\n",
      "[[1.         0.78761865]\n",
      " [0.78761865 1.        ]]\n",
      "[[1.         0.82559261]\n",
      " [0.82559261 1.        ]]\n",
      "[[1.         0.83570591]\n",
      " [0.83570591 1.        ]]\n"
     ]
    },
    {
     "data": {
      "text/plain": [
       "Text(0, 0.5, 'prediction')"
      ]
     },
     "execution_count": 25,
     "metadata": {},
     "output_type": "execute_result"
    },
    {
     "data": {
      "image/png": "[encoded data removed]",
      "text/plain": [
       "<Figure size 432x288 with 1 Axes>"
      ]
     },
     "metadata": {
      "needs_background": "light"
     },
     "output_type": "display_data"
    }
   ],
   "source": [
    "\n",
    "#print(validArr.shape)\n",
    "\n",
    "test = validArr[1,:,:]\n",
    "#np.corrcoef(test[1], test[2])\n",
    "\n",
    "#go through each validation step\n",
    "for i in range(validArr.shape[0]): \n",
    "    subDf = pd.DataFrame(validArr[i].T)\n",
    "    subDf.columns = [\"loss\", \"pred\", \"true\"]\n",
    "    corr = np.corrcoef(subDf[\"pred\"], subDf[\"true\"])\n",
    "    print(corr)\n",
    "    \n",
    "plt.scatter(subDf[\"true\"], subDf[\"pred\"], alpha=.2)\n",
    "plt.title(\"predicted vs. ground truth \")\n",
    "plt.xlabel(\"ground truth\")\n",
    "plt.ylabel(\"prediction\")"
   ]
  },
  {
   "cell_type": "code",
   "execution_count": 21,
   "metadata": {},
   "outputs": [
    {
     "data": {
      "text/plain": [
       "array([[ 1.21718474e-01,  2.50412588e-04,  5.70722148e-02,\n",
       "         2.81229266e-04,  1.60568096e-02,  8.19005311e-01,\n",
       "         1.22099325e-01,  2.12212950e-01,  1.22944400e-01,\n",
       "         2.12211236e-01,  1.03211224e+00,  2.63237598e-04,\n",
       "         1.22281753e-01,  1.21696830e-01,  2.12027147e-01,\n",
       "         1.61135513e-02,  4.69256103e-01,  4.66245383e-01,\n",
       "         8.18733275e-01,  5.66987731e-02,  2.37201530e-04,\n",
       "         8.18952441e-01,  1.61645990e-02,  1.61318406e-02,\n",
       "         2.56316795e-04,  4.67705905e-01,  4.65915531e-01,\n",
       "         2.58726534e-04,  1.21445529e-01,  1.21544383e-01,\n",
       "         1.03358006e+00,  3.24891835e-01,  1.03130066e+00,\n",
       "         2.71586439e-04,  2.35786152e-04,  1.60142779e-02,\n",
       "         1.03259277e+00,  4.65760902e-02,  8.20565283e-01,\n",
       "         2.48721801e-04,  3.28100443e-01,  2.62510934e-04,\n",
       "         2.50996003e-04,  8.19002807e-01,  1.62946377e-02,\n",
       "         2.72758392e-04,  2.12363720e-01,  3.27278465e-01,\n",
       "         1.03099108e+00,  2.47185817e-04,  2.53003236e-04,\n",
       "         1.60420500e-02,  2.43154282e-04,  3.33791785e-02,\n",
       "         2.50171870e-04,  1.60533059e-02,  2.40577065e-04,\n",
       "         1.03313529e+00,  6.29776478e-01,  1.22017965e-01,\n",
       "         1.22285463e-01,  3.26914549e-01,  2.37791421e-04,\n",
       "         2.13069454e-01,  2.71074037e-04,  2.40644265e-04,\n",
       "         2.43344155e-04,  4.67697263e-01,  6.30644977e-01,\n",
       "         2.55399791e-04,  2.59823399e-04,  1.62476283e-02,\n",
       "         2.11663216e-01,  3.26289708e-04,  2.60092726e-04,\n",
       "         4.66291934e-01,  1.60321742e-02,  6.30530417e-01,\n",
       "         1.62902866e-02,  1.23054415e-01,  2.53335340e-04,\n",
       "         8.21650386e-01,  2.58261512e-04,  3.38776074e-02,\n",
       "         2.37580476e-04,  2.63391441e-04,  1.03159559e+00,\n",
       "         1.01953614e+00,  2.12311089e-01,  1.61809456e-02,\n",
       "         2.12250203e-01,  1.03474021e+00,  4.66336221e-01,\n",
       "         1.60313733e-02,  1.19879112e-01,  2.97090854e-04,\n",
       "         4.70967412e-01,  2.40056514e-04,  5.64566776e-02,\n",
       "         2.48055178e-04,  2.57728680e-04,  8.18967044e-01,\n",
       "         8.19489658e-01,  2.12389067e-01,  5.67332022e-02,\n",
       "         2.98325962e-04,  2.50487850e-04,  2.52054859e-04,\n",
       "         1.21986210e-01,  5.64276204e-02,  2.42538415e-04,\n",
       "         2.11566344e-01,  5.65196164e-02,  2.47843302e-04,\n",
       "         1.61785446e-02,  1.03345764e+00,  1.03139973e+00,\n",
       "         2.47942487e-04,  5.67729957e-02,  2.37437285e-04,\n",
       "         2.12132633e-01,  1.03568506e+00,  8.15075338e-01,\n",
       "         1.60571877e-02,  2.51106481e-04,  2.66964644e-01,\n",
       "         2.51899444e-04,  1.21928848e-01,  5.67256734e-02,\n",
       "         1.03286684e+00,  6.30273342e-01,  4.68569756e-01,\n",
       "         4.70637947e-01,  7.07124993e-02,  1.03143847e+00,\n",
       "         2.55559135e-04,  1.22696802e-01,  2.51272228e-04,\n",
       "         4.66495723e-01,  1.61986612e-02,  8.20252180e-01,\n",
       "         2.40282912e-04,  2.29303492e-04,  1.22063749e-01,\n",
       "         2.53278296e-04,  6.30622506e-01,  6.30813479e-01,\n",
       "         4.64645714e-01,  1.03177941e+00,  1.60554014e-02,\n",
       "         2.52434926e-04,  1.03062868e+00,  4.66444433e-01,\n",
       "         2.12294638e-01,  3.34149785e-02,  2.37168715e-04,\n",
       "         1.61061678e-02,  6.31373048e-01,  1.03319740e+00,\n",
       "         2.50001845e-04,  2.55910563e-04,  1.21724278e-01,\n",
       "         3.27044725e-01,  1.21790417e-01,  1.03222656e+00,\n",
       "         3.59094501e-01,  1.03295648e+00,  2.39750298e-04],\n",
       "       [-1.55484099e-02, -1.58244297e-02, -1.66757014e-02,\n",
       "        -1.67698916e-02, -1.56043516e-02, -1.61002204e-02,\n",
       "        -1.60937812e-02, -1.62213054e-02, -1.73009411e-02,\n",
       "        -1.62194669e-02, -1.59292687e-02, -1.62245985e-02,\n",
       "        -1.63547415e-02, -1.55173987e-02, -1.60196051e-02,\n",
       "        -1.58280488e-02, -1.83560289e-02, -1.61549449e-02,\n",
       "        -1.59498919e-02, -1.58928111e-02, -1.54013485e-02,\n",
       "        -1.60710420e-02, -1.60289668e-02, -1.59000661e-02,\n",
       "        -1.60098970e-02, -1.72236189e-02, -1.59133729e-02,\n",
       "        -1.60849784e-02, -1.51570123e-02, -1.52988145e-02,\n",
       "        -1.66514032e-02, -1.44372545e-02, -1.55297955e-02,\n",
       "        -1.64798796e-02, -1.53553300e-02, -1.54364137e-02,\n",
       "        -1.61657240e-02, -1.58149507e-02, -1.69616751e-02,\n",
       "        -1.57709159e-02, -1.72449350e-02, -1.62021890e-02,\n",
       "        -1.58428531e-02, -1.60988607e-02, -1.65393390e-02,\n",
       "        -1.65153984e-02, -1.63849201e-02, -1.65269915e-02,\n",
       "        -1.53773278e-02, -1.57221444e-02, -1.59060750e-02,\n",
       "        -1.55460984e-02, -1.55934049e-02, -1.60330236e-02,\n",
       "        -1.58168226e-02, -1.55905206e-02, -1.55105470e-02,\n",
       "        -1.64326560e-02, -1.58067904e-02, -1.59773510e-02,\n",
       "        -1.63600389e-02, -1.62088424e-02, -1.54204872e-02,\n",
       "        -1.71500295e-02, -1.64643265e-02, -1.55127132e-02,\n",
       "        -1.55994920e-02, -1.72172654e-02, -1.63538046e-02,\n",
       "        -1.59812327e-02, -1.61190387e-02, -1.63550694e-02,\n",
       "        -1.56242698e-02, -1.80634912e-02, -1.61273908e-02,\n",
       "        -1.61890313e-02, -1.55071039e-02, -1.62816737e-02,\n",
       "        -1.65222902e-02, -1.74577758e-02, -1.59165114e-02,\n",
       "        -1.75604336e-02, -1.60705168e-02, -1.73920337e-02,\n",
       "        -1.54136457e-02, -1.62293389e-02, -1.56749580e-02,\n",
       "        -9.72078834e-03, -1.63278393e-02, -1.60932336e-02,\n",
       "        -1.62617546e-02, -1.72218438e-02, -1.62214525e-02,\n",
       "        -1.55039551e-02, -1.29023027e-02, -1.72363240e-02,\n",
       "        -1.96039416e-02, -1.54937571e-02, -1.53839150e-02,\n",
       "        -1.57497674e-02, -1.60539299e-02, -1.60790533e-02,\n",
       "        -1.63677800e-02, -1.64124407e-02, -1.59651041e-02,\n",
       "        -1.72721148e-02, -1.58268083e-02, -1.58762354e-02,\n",
       "        -1.59319080e-02, -1.53227551e-02, -1.55736450e-02,\n",
       "        -1.55189708e-02, -1.55163324e-02, -1.57430395e-02,\n",
       "        -1.60838030e-02, -1.65911373e-02, -1.55785112e-02,\n",
       "        -1.57461893e-02, -1.60486214e-02, -1.54090002e-02,\n",
       "        -1.61341541e-02, -1.76861770e-02, -1.39263533e-02,\n",
       "        -1.56058436e-02, -1.58463400e-02, -1.66861974e-02,\n",
       "        -1.58713404e-02, -1.58497579e-02, -1.59492977e-02,\n",
       "        -1.63005814e-02, -1.61197670e-02, -1.78548712e-02,\n",
       "        -1.93638820e-02, -1.59182288e-02, -1.55976079e-02,\n",
       "        -1.59862172e-02, -1.69476848e-02, -1.58515684e-02,\n",
       "        -1.63382404e-02, -1.61628462e-02, -1.67888347e-02,\n",
       "        -1.55010615e-02, -1.51427705e-02, -1.60428975e-02,\n",
       "        -1.59147196e-02, -1.63396746e-02, -1.64598580e-02,\n",
       "        -1.49825849e-02, -1.57654770e-02, -1.55988010e-02,\n",
       "        -1.58882011e-02, -1.51988072e-02, -1.63006503e-02,\n",
       "        -1.63099747e-02, -1.61309745e-02, -1.54002830e-02,\n",
       "        -1.57989617e-02, -1.68120749e-02, -1.64631512e-02,\n",
       "        -1.58114471e-02, -1.59972049e-02, -1.55567285e-02,\n",
       "        -1.63226705e-02, -1.56514868e-02, -1.59854852e-02,\n",
       "        -1.59116238e-02, -1.63446739e-02, -1.54838720e-02],\n",
       "       [ 3.33333343e-01,  0.00000000e+00,  2.22222224e-01,\n",
       "         0.00000000e+00,  1.11111112e-01,  8.88888896e-01,\n",
       "         3.33333343e-01,  4.44444448e-01,  3.33333343e-01,\n",
       "         4.44444448e-01,  1.00000000e+00,  0.00000000e+00,\n",
       "         3.33333343e-01,  3.33333343e-01,  4.44444448e-01,\n",
       "         1.11111112e-01,  6.66666687e-01,  6.66666687e-01,\n",
       "         8.88888896e-01,  2.22222224e-01,  0.00000000e+00,\n",
       "         8.88888896e-01,  1.11111112e-01,  1.11111112e-01,\n",
       "         0.00000000e+00,  6.66666687e-01,  6.66666687e-01,\n",
       "         0.00000000e+00,  3.33333343e-01,  3.33333343e-01,\n",
       "         1.00000000e+00,  5.55555582e-01,  1.00000000e+00,\n",
       "         0.00000000e+00,  0.00000000e+00,  1.11111112e-01,\n",
       "         1.00000000e+00,  2.00000003e-01,  8.88888896e-01,\n",
       "         0.00000000e+00,  5.55555582e-01,  0.00000000e+00,\n",
       "         0.00000000e+00,  8.88888896e-01,  1.11111112e-01,\n",
       "         0.00000000e+00,  4.44444448e-01,  5.55555582e-01,\n",
       "         1.00000000e+00,  0.00000000e+00,  0.00000000e+00,\n",
       "         1.11111112e-01,  0.00000000e+00,  1.66666672e-01,\n",
       "         0.00000000e+00,  1.11111112e-01,  0.00000000e+00,\n",
       "         1.00000000e+00,  7.77777791e-01,  3.33333343e-01,\n",
       "         3.33333343e-01,  5.55555582e-01,  0.00000000e+00,\n",
       "         4.44444448e-01,  0.00000000e+00,  0.00000000e+00,\n",
       "         0.00000000e+00,  6.66666687e-01,  7.77777791e-01,\n",
       "         0.00000000e+00,  0.00000000e+00,  1.11111112e-01,\n",
       "         4.44444448e-01,  0.00000000e+00,  0.00000000e+00,\n",
       "         6.66666687e-01,  1.11111112e-01,  7.77777791e-01,\n",
       "         1.11111112e-01,  3.33333343e-01,  0.00000000e+00,\n",
       "         8.88888896e-01,  0.00000000e+00,  1.66666672e-01,\n",
       "         0.00000000e+00,  0.00000000e+00,  1.00000000e+00,\n",
       "         1.00000000e+00,  4.44444448e-01,  1.11111112e-01,\n",
       "         4.44444448e-01,  1.00000000e+00,  6.66666687e-01,\n",
       "         1.11111112e-01,  3.33333343e-01,  0.00000000e+00,\n",
       "         6.66666687e-01,  0.00000000e+00,  2.22222224e-01,\n",
       "         0.00000000e+00,  0.00000000e+00,  8.88888896e-01,\n",
       "         8.88888896e-01,  4.44444448e-01,  2.22222224e-01,\n",
       "         0.00000000e+00,  0.00000000e+00,  0.00000000e+00,\n",
       "         3.33333343e-01,  2.22222224e-01,  0.00000000e+00,\n",
       "         4.44444448e-01,  2.22222224e-01,  0.00000000e+00,\n",
       "         1.11111112e-01,  1.00000000e+00,  1.00000000e+00,\n",
       "         0.00000000e+00,  2.22222224e-01,  0.00000000e+00,\n",
       "         4.44444448e-01,  1.00000000e+00,  8.88888896e-01,\n",
       "         1.11111112e-01,  0.00000000e+00,  5.00000000e-01,\n",
       "         0.00000000e+00,  3.33333343e-01,  2.22222224e-01,\n",
       "         1.00000000e+00,  7.77777791e-01,  6.66666687e-01,\n",
       "         6.66666687e-01,  2.50000000e-01,  1.00000000e+00,\n",
       "         0.00000000e+00,  3.33333343e-01,  0.00000000e+00,\n",
       "         6.66666687e-01,  1.11111112e-01,  8.88888896e-01,\n",
       "         0.00000000e+00,  0.00000000e+00,  3.33333343e-01,\n",
       "         0.00000000e+00,  7.77777791e-01,  7.77777791e-01,\n",
       "         6.66666687e-01,  1.00000000e+00,  1.11111112e-01,\n",
       "         0.00000000e+00,  1.00000000e+00,  6.66666687e-01,\n",
       "         4.44444448e-01,  1.66666672e-01,  0.00000000e+00,\n",
       "         1.11111112e-01,  7.77777791e-01,  1.00000000e+00,\n",
       "         0.00000000e+00,  0.00000000e+00,  3.33333343e-01,\n",
       "         5.55555582e-01,  3.33333343e-01,  1.00000000e+00,\n",
       "         5.83333313e-01,  1.00000000e+00,  0.00000000e+00]])"
      ]
     },
     "execution_count": 21,
     "metadata": {},
     "output_type": "execute_result"
    }
   ],
   "source": [
    "validArr[0]"
   ]
  },
  {
   "cell_type": "code",
   "execution_count": 22,
   "metadata": {},
   "outputs": [
    {
     "data": {
      "text/plain": [
       "Series([], Name: true, dtype: float64)"
      ]
     },
     "execution_count": 22,
     "metadata": {},
     "output_type": "execute_result"
    }
   ],
   "source": [
    "validDf.loc[validDf[\"iter\"] == 1400, \"true\"]"
   ]
  },
  {
   "cell_type": "code",
   "execution_count": 23,
   "metadata": {},
   "outputs": [
    {
     "ename": "RuntimeError",
     "evalue": "Invalid device argument.",
     "output_type": "error",
     "traceback": [
      "\u001b[0;31m---------------------------------------------------------------------------\u001b[0m",
      "\u001b[0;31mRuntimeError\u001b[0m                              Traceback (most recent call last)",
      "\u001b[0;32m<ipython-input-23-a84585a66f02>\u001b[0m in \u001b[0;36m<module>\u001b[0;34m\u001b[0m\n\u001b[1;32m      2\u001b[0m \u001b[0mt\u001b[0m \u001b[0;34m=\u001b[0m \u001b[0mtorch\u001b[0m\u001b[0;34m.\u001b[0m\u001b[0mcuda\u001b[0m\u001b[0;34m.\u001b[0m\u001b[0mmem_get_info\u001b[0m\u001b[0;34m(\u001b[0m\u001b[0;34m)\u001b[0m\u001b[0;34m\u001b[0m\u001b[0;34m\u001b[0m\u001b[0m\n\u001b[1;32m      3\u001b[0m \u001b[0;34m\u001b[0m\u001b[0m\n\u001b[0;32m----> 4\u001b[0;31m \u001b[0mused\u001b[0m \u001b[0;34m=\u001b[0m \u001b[0mtorch\u001b[0m\u001b[0;34m.\u001b[0m\u001b[0mcuda\u001b[0m\u001b[0;34m.\u001b[0m\u001b[0mmemory_allocated\u001b[0m\u001b[0;34m(\u001b[0m\u001b[0mdevice\u001b[0m\u001b[0;34m=\u001b[0m\u001b[0;34m\"cuda:4\"\u001b[0m\u001b[0;34m)\u001b[0m\u001b[0;34m\u001b[0m\u001b[0;34m\u001b[0m\u001b[0m\n\u001b[0m\u001b[1;32m      5\u001b[0m \u001b[0;31m#proportion of free memory\u001b[0m\u001b[0;34m\u001b[0m\u001b[0;34m\u001b[0m\u001b[0;34m\u001b[0m\u001b[0m\n\u001b[1;32m      6\u001b[0m \u001b[0;31m#print(\"used: \" used / t[1])\u001b[0m\u001b[0;34m\u001b[0m\u001b[0;34m\u001b[0m\u001b[0;34m\u001b[0m\u001b[0m\n",
      "\u001b[0;32m/opt/anaconda/lib/python3.8/site-packages/torch/cuda/memory.py\u001b[0m in \u001b[0;36mmemory_allocated\u001b[0;34m(device)\u001b[0m\n\u001b[1;32m    317\u001b[0m         \u001b[0mdetails\u001b[0m \u001b[0mabout\u001b[0m \u001b[0mGPU\u001b[0m \u001b[0mmemory\u001b[0m \u001b[0mmanagement\u001b[0m\u001b[0;34m.\u001b[0m\u001b[0;34m\u001b[0m\u001b[0;34m\u001b[0m\u001b[0m\n\u001b[1;32m    318\u001b[0m     \"\"\"\n\u001b[0;32m--> 319\u001b[0;31m     \u001b[0;32mreturn\u001b[0m \u001b[0mmemory_stats\u001b[0m\u001b[0;34m(\u001b[0m\u001b[0mdevice\u001b[0m\u001b[0;34m=\u001b[0m\u001b[0mdevice\u001b[0m\u001b[0;34m)\u001b[0m\u001b[0;34m.\u001b[0m\u001b[0mget\u001b[0m\u001b[0;34m(\u001b[0m\u001b[0;34m\"allocated_bytes.all.current\"\u001b[0m\u001b[0;34m,\u001b[0m \u001b[0;36m0\u001b[0m\u001b[0;34m)\u001b[0m\u001b[0;34m\u001b[0m\u001b[0;34m\u001b[0m\u001b[0m\n\u001b[0m\u001b[1;32m    320\u001b[0m \u001b[0;34m\u001b[0m\u001b[0m\n\u001b[1;32m    321\u001b[0m \u001b[0;34m\u001b[0m\u001b[0m\n",
      "\u001b[0;32m/opt/anaconda/lib/python3.8/site-packages/torch/cuda/memory.py\u001b[0m in \u001b[0;36mmemory_stats\u001b[0;34m(device)\u001b[0m\n\u001b[1;32m    196\u001b[0m             \u001b[0mresult\u001b[0m\u001b[0;34m.\u001b[0m\u001b[0mappend\u001b[0m\u001b[0;34m(\u001b[0m\u001b[0;34m(\u001b[0m\u001b[0mprefix\u001b[0m\u001b[0;34m,\u001b[0m \u001b[0mobj\u001b[0m\u001b[0;34m)\u001b[0m\u001b[0;34m)\u001b[0m\u001b[0;34m\u001b[0m\u001b[0;34m\u001b[0m\u001b[0m\n\u001b[1;32m    197\u001b[0m \u001b[0;34m\u001b[0m\u001b[0m\n\u001b[0;32m--> 198\u001b[0;31m     \u001b[0mstats\u001b[0m \u001b[0;34m=\u001b[0m \u001b[0mmemory_stats_as_nested_dict\u001b[0m\u001b[0;34m(\u001b[0m\u001b[0mdevice\u001b[0m\u001b[0;34m=\u001b[0m\u001b[0mdevice\u001b[0m\u001b[0;34m)\u001b[0m\u001b[0;34m\u001b[0m\u001b[0;34m\u001b[0m\u001b[0m\n\u001b[0m\u001b[1;32m    199\u001b[0m     \u001b[0m_recurse_add_to_result\u001b[0m\u001b[0;34m(\u001b[0m\u001b[0;34m\"\"\u001b[0m\u001b[0;34m,\u001b[0m \u001b[0mstats\u001b[0m\u001b[0;34m)\u001b[0m\u001b[0;34m\u001b[0m\u001b[0;34m\u001b[0m\u001b[0m\n\u001b[1;32m    200\u001b[0m     \u001b[0mresult\u001b[0m\u001b[0;34m.\u001b[0m\u001b[0msort\u001b[0m\u001b[0;34m(\u001b[0m\u001b[0;34m)\u001b[0m\u001b[0;34m\u001b[0m\u001b[0;34m\u001b[0m\u001b[0m\n",
      "\u001b[0;32m/opt/anaconda/lib/python3.8/site-packages/torch/cuda/memory.py\u001b[0m in \u001b[0;36mmemory_stats_as_nested_dict\u001b[0;34m(device)\u001b[0m\n\u001b[1;32m    208\u001b[0m         \u001b[0;32mreturn\u001b[0m \u001b[0;34m{\u001b[0m\u001b[0;34m}\u001b[0m\u001b[0;34m\u001b[0m\u001b[0;34m\u001b[0m\u001b[0m\n\u001b[1;32m    209\u001b[0m     \u001b[0mdevice\u001b[0m \u001b[0;34m=\u001b[0m \u001b[0m_get_device_index\u001b[0m\u001b[0;34m(\u001b[0m\u001b[0mdevice\u001b[0m\u001b[0;34m,\u001b[0m \u001b[0moptional\u001b[0m\u001b[0;34m=\u001b[0m\u001b[0;32mTrue\u001b[0m\u001b[0;34m)\u001b[0m\u001b[0;34m\u001b[0m\u001b[0;34m\u001b[0m\u001b[0m\n\u001b[0;32m--> 210\u001b[0;31m     \u001b[0;32mreturn\u001b[0m \u001b[0mtorch\u001b[0m\u001b[0;34m.\u001b[0m\u001b[0m_C\u001b[0m\u001b[0;34m.\u001b[0m\u001b[0m_cuda_memoryStats\u001b[0m\u001b[0;34m(\u001b[0m\u001b[0mdevice\u001b[0m\u001b[0;34m)\u001b[0m\u001b[0;34m\u001b[0m\u001b[0;34m\u001b[0m\u001b[0m\n\u001b[0m\u001b[1;32m    211\u001b[0m \u001b[0;34m\u001b[0m\u001b[0m\n\u001b[1;32m    212\u001b[0m \u001b[0;34m\u001b[0m\u001b[0m\n",
      "\u001b[0;31mRuntimeError\u001b[0m: Invalid device argument."
     ]
    }
   ],
   "source": [
    "#check memory \n",
    "t = torch.cuda.mem_get_info()\n",
    "\n",
    "used = torch.cuda.memory_allocated(device=\"cuda:4\")\n",
    "#proportion of free memory \n",
    "#print(\"used: \" used / t[1])\n",
    "print(\"used: \" + str(t[0]/t[1]))"
   ]
  }
 ],
 "metadata": {
  "kernelspec": {
   "display_name": "Python 3",
   "language": "python",
   "name": "python3"
  },
  "language_info": {
   "codemirror_mode": {
    "name": "ipython",
    "version": 3
   },
   "file_extension": ".py",
   "mimetype": "text/x-python",
   "name": "python",
   "nbconvert_exporter": "python",
   "pygments_lexer": "ipython3",
   "version": "3.9.12"
  }
 },
 "nbformat": 4,
 "nbformat_minor": 4
}
