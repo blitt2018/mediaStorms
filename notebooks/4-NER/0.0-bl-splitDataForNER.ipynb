{
 "cells": [
  {
   "cell_type": "code",
   "execution_count": 1,
   "metadata": {},
   "outputs": [
    {
     "data": {
      "text/plain": [
       "'\\nThis script splits our data into peices so that NER can be run in parallel \\n'"
      ]
     },
     "execution_count": 1,
     "metadata": {},
     "output_type": "execute_result"
    }
   ],
   "source": [
    "\"\"\"\n",
    "This script splits our data into peices so that NER can be run in parallel \n",
    "\"\"\""
   ]
  },
  {
   "cell_type": "code",
   "execution_count": 10,
   "metadata": {},
   "outputs": [],
   "source": [
    "import pandas as pd\n",
    "import spacy\n",
    "import numpy as np\n",
    "from collections import Counter\n",
    "import csv\n",
    "from multiprocessing import Pool "
   ]
  },
  {
   "cell_type": "code",
   "execution_count": 11,
   "metadata": {},
   "outputs": [
    {
     "name": "stderr",
     "output_type": "stream",
     "text": [
      "/opt/anaconda/lib/python3.8/site-packages/IPython/core/interactiveshell.py:3418: DtypeWarning: Columns (3,4,11,12,13,14,15,18,19,20,21,22,23,24,25,26,27,28,29,30,31,32,33,34,35,40,41,42) have mixed types.Specify dtype option on import or set low_memory=False.\n",
      "  exec(code_obj, self.user_global_ns, self.user_ns)\n"
     ]
    }
   ],
   "source": [
    "#OLD: inFile = \"/shared/3/projects/benlitterer/localNews/mergedNewsData/dataSplits/splitNews27\"\n",
    "inFile = \"/shared/3/projects/newsDiffusion/data/processed/newsData/fullMergedNELAdata.tsv\"\n",
    "newsDf = pd.read_csv(inFile, sep=\"\\t\")"
   ]
  },
  {
   "cell_type": "code",
   "execution_count": 13,
   "metadata": {},
   "outputs": [
    {
     "data": {
      "text/plain": [
       "5081145"
      ]
     },
     "execution_count": 13,
     "metadata": {},
     "output_type": "execute_result"
    }
   ],
   "source": [
    "sub_df = newsDf[['key', 'content']]\n",
    "len(sub_df)"
   ]
  },
  {
   "cell_type": "code",
   "execution_count": 16,
   "metadata": {},
   "outputs": [],
   "source": [
    "## Write the frames to output so that they can be easily analyzed in parallel using a script "
   ]
  },
  {
   "cell_type": "code",
   "execution_count": 17,
   "metadata": {},
   "outputs": [],
   "source": [
    "#we use 160 because that's how many cores we have \n",
    "indexList = np.array_split(np.array(list(range(0, len(sub_df)))), 160)\n",
    "zippedIndices = list(zip(list(range(0, 160)), indexList))\n",
    "\n",
    "outStem = \"/shared/3/projects/newsDiffusion/data/interim/NEREmbedding/NERSplits/NERSplits\"\n",
    "\n",
    "#last file will be missing one row \n",
    "def writeFrame(tup):\n",
    "    i, indices = tup\n",
    "    outDf = sub_df.iloc[indices, :]\n",
    "    outDf.to_csv(outStem + str(i), sep=\"\\t\", quoting=csv.QUOTE_NONNUMERIC)\n",
    "\n",
    "with Pool(12) as p: \n",
    "    p.map(writeFrame, zippedIndices)\n",
    "\n"
   ]
  }
 ],
 "metadata": {
  "kernelspec": {
   "display_name": "Python 3",
   "language": "python",
   "name": "python3"
  },
  "language_info": {
   "codemirror_mode": {
    "name": "ipython",
    "version": 3
   },
   "file_extension": ".py",
   "mimetype": "text/x-python",
   "name": "python",
   "nbconvert_exporter": "python",
   "pygments_lexer": "ipython3",
   "version": "3.8.5"
  }
 },
 "nbformat": 4,
 "nbformat_minor": 4
}
