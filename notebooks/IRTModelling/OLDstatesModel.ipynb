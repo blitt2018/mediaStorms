{
 "cells": [
  {
   "cell_type": "markdown",
   "id": "8dc74c79-db1a-4d76-86b8-3e1778067044",
   "metadata": {},
   "source": [
    "create simple model draft to get outlet embeddings "
   ]
  },
  {
   "cell_type": "code",
   "execution_count": 187,
   "id": "4ca03ba7-ea94-4313-9f25-96acb2b1bdc7",
   "metadata": {},
   "outputs": [],
   "source": [
    "import pandas as pd\n",
    "import numpy as np\n",
    "import matplotlib.pyplot as plt\n",
    "import torch \n",
    "from torchmetrics.functional.classification import f1_score\n",
    "from torch.utils.data import DataLoader, random_split\n",
    "import torch.nn as nn\n",
    "import torch.nn.functional as F\n",
    "from datasets import Dataset\n",
    "from transformers.optimization import get_linear_schedule_with_warmup\n",
    "from transformers import AutoTokenizer, AutoModel\n",
    "from tqdm import tqdm \n",
    "import random\n",
    "from sklearn.preprocessing import OneHotEncoder"
   ]
  },
  {
   "cell_type": "code",
   "execution_count": 2,
   "id": "6ccbd25c-87bb-4dd7-bf77-4a3f245e2199",
   "metadata": {},
   "outputs": [
    {
     "name": "stderr",
     "output_type": "stream",
     "text": [
      "<ipython-input-2-e2098ce75a41>:2: DtypeWarning: Columns (2,3,10,11,12,13,14,17,18,19,20,21,22,23,24,25,26,27,28,29,30,31,32,33,34,39,40,41) have mixed types. Specify dtype option on import or set low_memory=False.\n",
      "  df = pd.read_csv(\"/shared/3/projects/newsDiffusion/data/processed/fullDataWithClustNums.tsv\", sep=\"\\t\")\n"
     ]
    }
   ],
   "source": [
    "# load in the news data of interest \n",
    "df = pd.read_csv(\"/shared/3/projects/newsDiffusion/data/processed/fullDataWithClustNums.tsv\", sep=\"\\t\") "
   ]
  },
  {
   "cell_type": "code",
   "execution_count": 3,
   "id": "b86b32d2-c235-419d-8eee-c245f2ca7a3d",
   "metadata": {},
   "outputs": [
    {
     "data": {
      "text/plain": [
       "490000000000"
      ]
     },
     "execution_count": 3,
     "metadata": {},
     "output_type": "execute_result"
    }
   ],
   "source": [
    "200000*2450000"
   ]
  },
  {
   "cell_type": "code",
   "execution_count": 4,
   "id": "2b07ad5c-0631-4d7e-96dd-4bfc6d3fe7a7",
   "metadata": {},
   "outputs": [
    {
     "data": {
      "text/plain": [
       "2442280"
      ]
     },
     "execution_count": 4,
     "metadata": {},
     "output_type": "execute_result"
    }
   ],
   "source": [
    "len(df)"
   ]
  },
  {
   "cell_type": "code",
   "execution_count": 5,
   "id": "9776477e-f069-4d15-9aa8-e9c907f0ee1d",
   "metadata": {},
   "outputs": [
    {
     "data": {
      "text/plain": [
       "209415"
      ]
     },
     "execution_count": 5,
     "metadata": {},
     "output_type": "execute_result"
    }
   ],
   "source": [
    "len(df[\"clustNum\"].unique()) "
   ]
  },
  {
   "cell_type": "code",
   "execution_count": 6,
   "id": "eceb2027-0363-4da2-a2fc-6564f544b547",
   "metadata": {},
   "outputs": [],
   "source": [
    "embeddingsDf = pd.read_csv(\"/shared/3/projects/newsDiffusion/data/interim/NEREmbedding/embeddingsKeys.tsv\", sep=\"\\t\", names=[\"key\", \"embedding\"], converters={\"embedding\":lambda x: np.array(x.strip(\"[]\").split(\",\"), dtype=float)})"
   ]
  },
  {
   "cell_type": "code",
   "execution_count": 7,
   "id": "99b661f4-99e9-4e92-8435-4a57dab46b34",
   "metadata": {},
   "outputs": [],
   "source": [
    "#we want to get a matrix of outlets x stories \n",
    "storyEmbeddings = pd.merge(df[[\"clustNum\", \"key\"]].dropna(), embeddingsDf, on=\"key\", how=\"left\") "
   ]
  },
  {
   "cell_type": "code",
   "execution_count": 8,
   "id": "a17b61e8-de6f-454f-9efa-9a56d0d5d40e",
   "metadata": {},
   "outputs": [],
   "source": [
    "storyEmbeddings = storyEmbeddings.drop(columns=[\"key\"]).groupby(\"clustNum\").agg([np.mean, len])"
   ]
  },
  {
   "cell_type": "code",
   "execution_count": 9,
   "id": "47630e20-1e88-4164-8090-5c8db2635521",
   "metadata": {},
   "outputs": [],
   "source": [
    "storyEmbeddings.columns = storyEmbeddings.columns.droplevel()"
   ]
  },
  {
   "cell_type": "code",
   "execution_count": 10,
   "id": "1d374c04-d9ca-4789-a3b7-3ac8cfadbdc0",
   "metadata": {},
   "outputs": [],
   "source": [
    "storyEmbeddings = storyEmbeddings[storyEmbeddings[\"len\"] < 3000].reset_index() "
   ]
  },
  {
   "cell_type": "code",
   "execution_count": 11,
   "id": "bf1df03e-d275-4d10-a1fb-0c74a119efd5",
   "metadata": {},
   "outputs": [],
   "source": [
    "storyEmbeddings = storyEmbeddings.rename(columns={\"mean\":\"storyMean\", \"len\":\"clustSize\"}) "
   ]
  },
  {
   "cell_type": "code",
   "execution_count": 12,
   "id": "d888dc7e-0ae0-415a-ac2f-5def0566cfd2",
   "metadata": {},
   "outputs": [],
   "source": [
    "#we give a story cluster number and get back the average embedding for that story cluster \n",
    "storyDict = storyEmbeddings.set_index(\"clustNum\")[[\"storyMean\"]].to_dict()[\"storyMean\"] "
   ]
  },
  {
   "cell_type": "code",
   "execution_count": 15,
   "id": "949f1f82-e378-49e2-beb4-bc0862cde78c",
   "metadata": {},
   "outputs": [],
   "source": [
    "#we want to get a list of all possible story clusters that an outlet can cover\n",
    "allClusts = storyEmbeddings[\"clustNum\"].tolist()"
   ]
  },
  {
   "cell_type": "code",
   "execution_count": 133,
   "id": "0893854c-bdd3-41e4-afce-04c44d1c31da",
   "metadata": {},
   "outputs": [],
   "source": [
    "#keep only the articles that we have embeddings for, since we removed some clusters above\n",
    "outletStoryDf = df.loc[df[\"clustNum\"].isin(allClusts), [\"source\", \"clustNum\"]]"
   ]
  },
  {
   "cell_type": "code",
   "execution_count": 134,
   "id": "be962e6c-d1f8-4b98-9ebd-94e384000504",
   "metadata": {},
   "outputs": [],
   "source": [
    "#now we have each outlet and stories it covered \n",
    "outletStoryDf = outletStoryDf.drop_duplicates()"
   ]
  },
  {
   "cell_type": "code",
   "execution_count": 135,
   "id": "03c6f8f3-8504-40a7-9c7b-eeba192c4e7d",
   "metadata": {},
   "outputs": [
    {
     "name": "stderr",
     "output_type": "stream",
     "text": [
      "787it [00:09, 84.32it/s]\n"
     ]
    }
   ],
   "source": [
    "clusteredStories = outletStoryDf.groupby(\"source\").agg(set)\n",
    "clusteredStories[\"covered\"] = 1\n",
    "\n",
    "notCoveredSamples = [] \n",
    "i = 0 \n",
    "for source, currStories in tqdm(clusteredStories.iterrows()): \n",
    "    # we get the stories not covered by this outlet \n",
    "    # simply all stories minus the stories this outlet did cover \n",
    "    currStories = currStories[\"clustNum\"]\n",
    "    notCovered = set(allClusts) - currStories\n",
    "    \n",
    "    #take 1 times as many negative examples as positive \n",
    "    sample = random.sample(list(notCovered), 1 * len(currStories))\n",
    "    notCoveredSamples.append((source, sample)) "
   ]
  },
  {
   "cell_type": "code",
   "execution_count": 136,
   "id": "fd9285db-1b46-4a3c-a6b5-f33d6bebc22e",
   "metadata": {},
   "outputs": [],
   "source": [
    "notCoveredDf = pd.DataFrame(notCoveredSamples, columns=[\"source\", \"clustNum\"])\n",
    "notCoveredDf[\"covered\"] = 0"
   ]
  },
  {
   "cell_type": "code",
   "execution_count": 138,
   "id": "feae2dc7-a03f-4b19-a9de-fa437e71de0b",
   "metadata": {},
   "outputs": [],
   "source": [
    "#get outlet level information \n",
    "outletDf = df[[\"source\", \"state\"]].drop_duplicates().fillna(\"National\")"
   ]
  },
  {
   "cell_type": "code",
   "execution_count": 139,
   "id": "f638791e-37e8-446d-bc18-a6c5be6969b3",
   "metadata": {},
   "outputs": [],
   "source": [
    "#stateArray = np.array([[item] for item in outletDf[\"state\"]]) "
   ]
  },
  {
   "cell_type": "code",
   "execution_count": 140,
   "id": "25a2b8a9-969c-4296-9841-0c15b6b42d5f",
   "metadata": {},
   "outputs": [
    {
     "data": {
      "text/plain": [
       "'\\n# one hot encode our states \\nonehot_encoder = OneHotEncoder(sparse=False)\\nonehot_encoded = onehot_encoder.fit_transform(stateArray)\\nonehot_encoded.shape\\n\\n#make one hot encoded vector a column in our dataframe \\noutletDf[\"hotState\"] = list(onehot_encoded)\\n'"
      ]
     },
     "execution_count": 140,
     "metadata": {},
     "output_type": "execute_result"
    }
   ],
   "source": [
    "\"\"\"\n",
    "# one hot encode our states \n",
    "onehot_encoder = OneHotEncoder(sparse=False)\n",
    "onehot_encoded = onehot_encoder.fit_transform(stateArray)\n",
    "onehot_encoded.shape\n",
    "\n",
    "#make one hot encoded vector a column in our dataframe \n",
    "outletDf[\"hotState\"] = list(onehot_encoded)\n",
    "\"\"\""
   ]
  },
  {
   "cell_type": "code",
   "execution_count": 141,
   "id": "1eab8628-d5f3-4b23-a5f4-3a03fecf4df3",
   "metadata": {},
   "outputs": [],
   "source": [
    "clusteredStories = clusteredStories.reset_index().explode(\"clustNum\")\n",
    "notCoveredDf = notCoveredDf.explode(\"clustNum\") "
   ]
  },
  {
   "cell_type": "code",
   "execution_count": 142,
   "id": "4591aa79-26c8-4994-a6bf-fe29201cc4aa",
   "metadata": {},
   "outputs": [],
   "source": [
    "#a long form dataframe that gives us outlet, story cluster num, covered or not\n",
    "allCoverage = pd.concat([notCoveredDf.reset_index(drop=True), clusteredStories.reset_index(drop=True)],axis=0) "
   ]
  },
  {
   "cell_type": "code",
   "execution_count": 145,
   "id": "d3570ec9-a37b-44eb-85c8-087c0d3ebcf8",
   "metadata": {},
   "outputs": [],
   "source": [
    "#merge our one hot encoded vectors into the allCoverage dataframe \n",
    "allCoverage = pd.merge(allCoverage, outletDf[[\"source\", \"state\"]], on=\"source\", how=\"left\") "
   ]
  },
  {
   "cell_type": "code",
   "execution_count": 147,
   "id": "d664009f-d163-4769-bc71-d37af7ea756b",
   "metadata": {},
   "outputs": [],
   "source": [
    "# mix up the rows so that we have equal number of pos/neg training examples \n",
    "allCoverage = allCoverage.sample(frac = 1) "
   ]
  },
  {
   "cell_type": "code",
   "execution_count": 148,
   "id": "fe3be768-8a93-4092-9239-d0b3093ebee6",
   "metadata": {},
   "outputs": [
    {
     "data": {
      "text/html": [
       "<div>\n",
       "<style scoped>\n",
       "    .dataframe tbody tr th:only-of-type {\n",
       "        vertical-align: middle;\n",
       "    }\n",
       "\n",
       "    .dataframe tbody tr th {\n",
       "        vertical-align: top;\n",
       "    }\n",
       "\n",
       "    .dataframe thead th {\n",
       "        text-align: right;\n",
       "    }\n",
       "</style>\n",
       "<table border=\"1\" class=\"dataframe\">\n",
       "  <thead>\n",
       "    <tr style=\"text-align: right;\">\n",
       "      <th></th>\n",
       "      <th>source</th>\n",
       "      <th>clustNum</th>\n",
       "      <th>covered</th>\n",
       "      <th>state</th>\n",
       "    </tr>\n",
       "  </thead>\n",
       "  <tbody>\n",
       "    <tr>\n",
       "      <th>1164864</th>\n",
       "      <td>thetorontostar</td>\n",
       "      <td>100403.0</td>\n",
       "      <td>1</td>\n",
       "      <td>National</td>\n",
       "    </tr>\n",
       "    <tr>\n",
       "      <th>1128017</th>\n",
       "      <td>theseattletimes</td>\n",
       "      <td>4108.0</td>\n",
       "      <td>1</td>\n",
       "      <td>National</td>\n",
       "    </tr>\n",
       "    <tr>\n",
       "      <th>806667</th>\n",
       "      <td>hotair</td>\n",
       "      <td>2814.0</td>\n",
       "      <td>1</td>\n",
       "      <td>National</td>\n",
       "    </tr>\n",
       "    <tr>\n",
       "      <th>101685</th>\n",
       "      <td>dailyguide</td>\n",
       "      <td>147740.0</td>\n",
       "      <td>0</td>\n",
       "      <td>Missouri</td>\n",
       "    </tr>\n",
       "    <tr>\n",
       "      <th>867911</th>\n",
       "      <td>nationalinterest</td>\n",
       "      <td>97273.0</td>\n",
       "      <td>1</td>\n",
       "      <td>National</td>\n",
       "    </tr>\n",
       "  </tbody>\n",
       "</table>\n",
       "</div>"
      ],
      "text/plain": [
       "                   source  clustNum  covered     state\n",
       "1164864    thetorontostar  100403.0        1  National\n",
       "1128017   theseattletimes    4108.0        1  National\n",
       "806667             hotair    2814.0        1  National\n",
       "101685         dailyguide  147740.0        0  Missouri\n",
       "867911   nationalinterest   97273.0        1  National"
      ]
     },
     "execution_count": 148,
     "metadata": {},
     "output_type": "execute_result"
    }
   ],
   "source": [
    "allCoverage.head()"
   ]
  },
  {
   "cell_type": "code",
   "execution_count": 149,
   "id": "c92dd859-f198-457d-9981-28ff4fab3cff",
   "metadata": {},
   "outputs": [],
   "source": [
    "### beginning of code for model training ###"
   ]
  },
  {
   "cell_type": "code",
   "execution_count": 150,
   "id": "b6dd9b3c-ccb1-4b93-9b74-1a51d9ea1d38",
   "metadata": {},
   "outputs": [],
   "source": [
    "deviceNum = 2\n",
    "device = torch.device(\"cuda:\" + str(deviceNum) if torch.cuda.is_available() else \"cpu\")"
   ]
  },
  {
   "cell_type": "code",
   "execution_count": 216,
   "id": "9b5159ee-7873-421c-bdaa-02dc8dd456ce",
   "metadata": {},
   "outputs": [],
   "source": [
    "class BasicModel(nn.Module):\n",
    "\n",
    "    def __init__(self, numOutlets, storyVecLen, numStates, stateEmbedLen, storyDict):\n",
    "        super(BasicModel, self).__init__()\n",
    "        self.outletEmbeddings = nn.Embedding(numOutlets, storyVecLen)\n",
    "        self.stateEmbeddings = nn.Embedding(numStates, stateEmbedLen)\n",
    "        self.storyDict = storyDict\n",
    "        self.ReLU = nn.ReLU()\n",
    "        self.Sigmoid = nn.Sigmoid()\n",
    "        self.Dropout = nn.Dropout()\n",
    "        self.linear1 = nn.Linear((storyVecLen * 2) + stateEmbedLen, 200)\n",
    "        self.linear2 = nn.Linear(200, 1) \n",
    "    \n",
    "    #input will be the indices of the embeddings \n",
    "    def forward(self, outletIds, stateIds, storyVecIds):\n",
    "        #these are the outlet/state embeddings we are learning\n",
    "        #NOT the fixed story embeddings \n",
    "        outletEmbeds = self.outletEmbeddings(outletIds) #.view((1, -1))\n",
    "        stateEmbeds = self.stateEmbeddings(stateIds)\n",
    "        \n",
    "        storyVecs = torch.tensor([self.storyDict[int(clustNum)] for clustNum in storyVecIds], dtype=torch.float32).to(device)\n",
    "        inTens = torch.concat((stateEmbeds, outletEmbeds, storyVecs), dim=1).to(device)\n",
    "              \n",
    "        out = self.ReLU(self.Dropout(self.linear1(inTens)))\n",
    "        out = self.linear2(out)\n",
    "        probs = self.Sigmoid(out)\n",
    "        return probs\n",
    "        "
   ]
  },
  {
   "cell_type": "code",
   "execution_count": 217,
   "id": "a775182e-5d05-475f-87d1-4b5ff8c5533e",
   "metadata": {},
   "outputs": [],
   "source": [
    "dataset = Dataset.from_pandas(allCoverage.head(2000000))\n",
    "trainDataset, validDataset = random_split(dataset, [.9, .1]) "
   ]
  },
  {
   "cell_type": "code",
   "execution_count": 218,
   "id": "60145b64-1e1c-4dfd-b7f6-d4d974fc6877",
   "metadata": {},
   "outputs": [],
   "source": [
    "df[\"state\"] = df[\"state\"].fillna(\"National\")"
   ]
  },
  {
   "cell_type": "code",
   "execution_count": 219,
   "id": "80320310-a111-4e82-9d07-0c803676bcab",
   "metadata": {},
   "outputs": [],
   "source": [
    "#get each outlet and state a unique index \n",
    "#we then use this index to recover their embeddings from our matrix \n",
    "outlets = df[\"source\"].unique()\n",
    "outletDict = {outlets[i]:i for i in range(0, len(outlets))}\n",
    "\n",
    "states = df[\"state\"].unique()\n",
    "stateDict = {states[i]:i for i in range(0, len(states))}"
   ]
  },
  {
   "cell_type": "code",
   "execution_count": 220,
   "id": "ebfacef0-468e-4f77-872c-51cf158914dc",
   "metadata": {},
   "outputs": [
    {
     "data": {
      "text/plain": [
       "BasicModel(\n",
       "  (outletEmbeddings): Embedding(829, 768)\n",
       "  (stateEmbeddings): Embedding(47, 47)\n",
       "  (ReLU): ReLU()\n",
       "  (Sigmoid): Sigmoid()\n",
       "  (Dropout): Dropout(p=0.5, inplace=False)\n",
       "  (linear1): Linear(in_features=1583, out_features=200, bias=True)\n",
       "  (linear2): Linear(in_features=200, out_features=1, bias=True)\n",
       ")"
      ]
     },
     "execution_count": 220,
     "metadata": {},
     "output_type": "execute_result"
    }
   ],
   "source": [
    "numStates = len(states) \n",
    "model = BasicModel(len(outlets), 768, numStates, 47, storyDict) \n",
    "\n",
    "#make sure everything is on device \n",
    "model.to(device)"
   ]
  },
  {
   "cell_type": "code",
   "execution_count": 221,
   "id": "7e50c68a-c5c4-43b6-b6b8-353ecc060498",
   "metadata": {},
   "outputs": [],
   "source": [
    "TRAIN_BATCH_SIZE=100\n",
    "VALID_BATCH_SIZE=300\n",
    "EPOCHS=1\n",
    "\n",
    "# we would initialize everything first\n",
    "optim = torch.optim.Adam(model.parameters(), lr=.0001)\n",
    "#optim = torch.optim.SGD(model.parameters(), lr=0.001)\n",
    "# and setup a warmup for the first ~10% steps\n",
    "total_steps = int((len(trainDataset) * EPOCHS) / TRAIN_BATCH_SIZE)\n",
    "warmup_steps = int(0.1 * total_steps)\n",
    "#warmup_steps = 0 \n",
    "#TODO: change warmup steps back after \n",
    "scheduler = get_linear_schedule_with_warmup(optim, num_warmup_steps=warmup_steps, num_training_steps=total_steps - warmup_steps)\n",
    "\n",
    "loss_func = torch.nn.BCELoss()\n",
    "\n",
    "trainLoader = DataLoader(trainDataset, batch_size=TRAIN_BATCH_SIZE, shuffle=True)\n",
    "validLoader = DataLoader(validDataset, batch_size=VALID_BATCH_SIZE, shuffle=False)"
   ]
  },
  {
   "cell_type": "code",
   "execution_count": 222,
   "id": "ef1c1a4a-4ce8-4f16-a30a-809f93852c5b",
   "metadata": {},
   "outputs": [
    {
     "data": {
      "text/plain": [
       "{'source': 'thebrainerddailydispatch',\n",
       " 'clustNum': 149808.0,\n",
       " 'covered': 0,\n",
       " 'state': 'Minnesota',\n",
       " '__index_level_0__': 366029}"
      ]
     },
     "execution_count": 222,
     "metadata": {},
     "output_type": "execute_result"
    }
   ],
   "source": [
    "trainDataset[0]"
   ]
  },
  {
   "cell_type": "code",
   "execution_count": 223,
   "id": "2e7e2408-23a9-443a-81e6-c9d5b954409c",
   "metadata": {},
   "outputs": [
    {
     "data": {
      "text/plain": [
       "11349.27"
      ]
     },
     "execution_count": 223,
     "metadata": {},
     "output_type": "execute_result"
    }
   ],
   "source": [
    "len(trainDataset) / TRAIN_BATCH_SIZE"
   ]
  },
  {
   "cell_type": "code",
   "execution_count": 224,
   "id": "c5668286-a9aa-436d-afee-a581dad65291",
   "metadata": {},
   "outputs": [],
   "source": [
    "def validate(): \n",
    "    #validation loop \n",
    "    allPreds = []\n",
    "    allGts = []\n",
    "    for batch in validLoader: \n",
    "        outletLookups = torch.tensor([outletDict[outlet] for outlet in batch[\"source\"]]).to(device)\n",
    "        stateLookups = torch.tensor([stateDict[state] for state in batch[\"state\"]]).to(device)\n",
    "        preds = model(outletLookups, stateLookups, batch[\"clustNum\"].to(device))\n",
    "        gts = torch.unsqueeze(batch[\"covered\"], dim=1).to(device) \n",
    "        allPreds += preds.detach().squeeze().cpu().tolist()\n",
    "        allGts += gts.detach().squeeze().cpu().tolist()\n",
    "    return f1_score(torch.tensor(allPreds), torch.tensor(allGts)) \n"
   ]
  },
  {
   "cell_type": "code",
   "execution_count": 225,
   "id": "5e6641af-42d6-4f8f-a20d-15cc53dab640",
   "metadata": {},
   "outputs": [],
   "source": [
    "#f1_score(torch.tensor(preds), torch.tensor(gts))"
   ]
  },
  {
   "cell_type": "code",
   "execution_count": 226,
   "id": "7c7143b1-523e-410e-9a47-a4647d8e5371",
   "metadata": {},
   "outputs": [
    {
     "data": {
      "text/plain": [
       "<bound method Module.parameters of BasicModel(\n",
       "  (outletEmbeddings): Embedding(829, 768)\n",
       "  (stateEmbeddings): Embedding(47, 47)\n",
       "  (ReLU): ReLU()\n",
       "  (Sigmoid): Sigmoid()\n",
       "  (Dropout): Dropout(p=0.5, inplace=False)\n",
       "  (linear1): Linear(in_features=1583, out_features=200, bias=True)\n",
       "  (linear2): Linear(in_features=200, out_features=1, bias=True)\n",
       ")>"
      ]
     },
     "execution_count": 226,
     "metadata": {},
     "output_type": "execute_result"
    }
   ],
   "source": [
    "model.parameters"
   ]
  },
  {
   "cell_type": "code",
   "execution_count": 227,
   "id": "3101566e-6a94-43b3-ac6a-9c6ee492f9b4",
   "metadata": {},
   "outputs": [
    {
     "name": "stdout",
     "output_type": "stream",
     "text": [
      "tensor([ 0.0196,  0.0191, -0.0242,  0.0012,  0.0190, -0.0240, -0.0014,  0.0033,\n",
      "        -0.0232, -0.0060, -0.0111, -0.0203,  0.0164, -0.0140,  0.0141, -0.0181,\n",
      "        -0.0109,  0.0240,  0.0156,  0.0083, -0.0093, -0.0049, -0.0135, -0.0032,\n",
      "        -0.0038, -0.0146,  0.0199, -0.0164,  0.0183, -0.0027,  0.0220,  0.0107,\n",
      "        -0.0141,  0.0003,  0.0180, -0.0138, -0.0131,  0.0248, -0.0001, -0.0140,\n",
      "        -0.0119, -0.0077,  0.0245, -0.0206, -0.0059,  0.0207,  0.0181,  0.0029,\n",
      "        -0.0242,  0.0059, -0.0106, -0.0242, -0.0123, -0.0157,  0.0183, -0.0202,\n",
      "         0.0090, -0.0200,  0.0191, -0.0150,  0.0159, -0.0009,  0.0038,  0.0154,\n",
      "         0.0183, -0.0076, -0.0215,  0.0218,  0.0131,  0.0135,  0.0216, -0.0102,\n",
      "        -0.0080, -0.0214, -0.0154, -0.0041,  0.0205,  0.0060,  0.0239, -0.0179,\n",
      "        -0.0068, -0.0250,  0.0154, -0.0241, -0.0214,  0.0029, -0.0099, -0.0094,\n",
      "        -0.0139,  0.0109,  0.0181, -0.0173,  0.0003,  0.0049, -0.0208,  0.0048,\n",
      "         0.0166, -0.0107, -0.0029,  0.0105], device='cuda:2')\n"
     ]
    }
   ],
   "source": [
    "print(model.linear1._parameters['weight'].detach()[0, :100])\n",
    "#print(model.embeddings.weight[0].detach().tolist()[:20])\n",
    "#print(model.embeddings.weight[30].detach().tolist()[:20])"
   ]
  },
  {
   "cell_type": "code",
   "execution_count": 228,
   "id": "71f3c938-e5a8-4824-944f-9cf47cf26018",
   "metadata": {},
   "outputs": [
    {
     "data": {
      "text/plain": [
       "[torch.Size([829, 768]),\n",
       " torch.Size([47, 47]),\n",
       " torch.Size([200, 1583]),\n",
       " torch.Size([200]),\n",
       " torch.Size([1, 200]),\n",
       " torch.Size([1])]"
      ]
     },
     "execution_count": 228,
     "metadata": {},
     "output_type": "execute_result"
    }
   ],
   "source": [
    "[param.size() for param in model.parameters()]"
   ]
  },
  {
   "cell_type": "code",
   "execution_count": 229,
   "id": "5da50c37-c259-4de5-bcb9-d8fce7b84936",
   "metadata": {},
   "outputs": [
    {
     "name": "stderr",
     "output_type": "stream",
     "text": [
      "100%|██████████| 11350/11350 [03:17<00:00, 57.33it/s] \n"
     ]
    }
   ],
   "source": [
    "model.train()\n",
    "validTups = []\n",
    "lossList = []\n",
    "subLossList = []\n",
    "i = 0 \n",
    "for batch in tqdm(trainLoader): \n",
    "    model.train()\n",
    "    optim.zero_grad()\n",
    "    #print(f\"grad before updating\\n {model.linear1.weight.grad[0, :10]}\") \n",
    "    if i % 100 == 0: \n",
    "        #print(model.linear1._parameters['weight'].detach())\n",
    "        pass\n",
    "        \n",
    "    #use matrix to lookup instead of dictionary \n",
    "    #get the outlet ids from the outlet names fed into lookup dictionary  \n",
    "    outletLookups = torch.tensor([outletDict[outlet] for outlet in batch[\"source\"]]).to(device)\n",
    "    stateLookups = torch.tensor([stateDict[state] for state in batch[\"state\"]]).to(device)\n",
    "    #get the embeddings using the id corresponding to each outlet \n",
    "    #outletEmbeds = embeds(outletLookups)\n",
    "    \n",
    "    preds = model(outletLookups, stateLookups, batch[\"clustNum\"].to(device))\n",
    "    \n",
    "    #each story cluster has an id, get the embedding id from the story cluster-embedding dictionary using this id\n",
    "    #storyEmbeds = torch.tensor([embeddingsDict[int(clustNum)] for clustNum in batch[\"clustNum\"]], dtype=torch.float32)\n",
    "    \n",
    "    #get ground truth labels from the batch \n",
    "    gts = torch.unsqueeze(batch[\"covered\"], dim=1).type(\"torch.FloatTensor\").to(device) \n",
    "    \n",
    "    #concatenate the outlet embedding and story cluster BERT embedding \n",
    "    #inTens = torch.concat((outletEmbeds, storyEmbeds), dim=1).to(device)\n",
    "    \n",
    "    #preds = model(inTens)\n",
    "    loss = loss_func(preds, gts)\n",
    "    loss.backward()\n",
    "    optim.step()\n",
    "    #for item in optim.param_groups: \n",
    "    #    print(item['lr']) \n",
    "    #print(f\"grad after updating \\n{model.linear1.weight.grad[0,:10]}\")  \n",
    "    scheduler.step()\n",
    "    subLossList.append(loss.detach().item())\n",
    "    if i % 2000 == 0:\n",
    "        model.eval()\n",
    "        #print(validate())\n",
    "        validTups.append((validate()))\n",
    "        lossList.append(np.mean(subLossList))\n",
    "        subLossList = []\n",
    "        model.train()\n",
    "    i += 1"
   ]
  },
  {
   "cell_type": "code",
   "execution_count": 230,
   "id": "f33eeb10-9177-4fe3-9b95-3552b02058c7",
   "metadata": {},
   "outputs": [],
   "source": [
    "#model.linear2.weight.grad[0]"
   ]
  },
  {
   "cell_type": "code",
   "execution_count": 231,
   "id": "eec6cf8d-68b2-4cf4-919a-34044902bd04",
   "metadata": {},
   "outputs": [
    {
     "name": "stdout",
     "output_type": "stream",
     "text": [
      "tensor([ 0.0220, -0.0053,  0.0220,  ..., -0.0157,  0.0385, -0.0468],\n",
      "       device='cuda:2')\n"
     ]
    }
   ],
   "source": [
    "print(model.linear1._parameters['weight'].detach()[1])"
   ]
  },
  {
   "cell_type": "code",
   "execution_count": 232,
   "id": "7028e4bd-3bcd-4fea-bb1a-e04122d7aabc",
   "metadata": {},
   "outputs": [
    {
     "data": {
      "text/plain": [
       "\"\\nprint(model.linear1._parameters['weight'].detach())\\nprint(model.embeddings.weight[0].detach().tolist()[:20])\\nprint(model.embeddings.weight[30].detach().tolist()[:20])\\n\""
      ]
     },
     "execution_count": 232,
     "metadata": {},
     "output_type": "execute_result"
    }
   ],
   "source": [
    "\"\"\"\n",
    "print(model.linear1._parameters['weight'].detach())\n",
    "print(model.embeddings.weight[0].detach().tolist()[:20])\n",
    "print(model.embeddings.weight[30].detach().tolist()[:20])\n",
    "\"\"\""
   ]
  },
  {
   "cell_type": "code",
   "execution_count": 233,
   "id": "c52d8fb2-6dcd-48ea-a6bf-58530006133b",
   "metadata": {},
   "outputs": [],
   "source": [
    "validDf = pd.DataFrame(validTups, columns=[\"f1\"])"
   ]
  },
  {
   "cell_type": "code",
   "execution_count": 234,
   "id": "f1bad2f4-5f73-4f08-aaca-bd89a40a2e10",
   "metadata": {},
   "outputs": [],
   "source": [
    "#validDf"
   ]
  },
  {
   "cell_type": "code",
   "execution_count": 235,
   "id": "41e8d835-d832-41bf-8f55-e2fc3f0fccee",
   "metadata": {},
   "outputs": [
    {
     "data": {
      "text/plain": [
       "(array([3., 0., 1., 1., 2., 3., 4., 4., 4., 5.]),\n",
       " array([0.09861594, 0.17118576, 0.24375557, 0.31632538, 0.38889519,\n",
       "        0.461465  , 0.53403481, 0.60660462, 0.67917444, 0.75174425,\n",
       "        0.82431406]),\n",
       " <BarContainer object of 10 artists>)"
      ]
     },
     "execution_count": 235,
     "metadata": {},
     "output_type": "execute_result"
    },
    {
     "data": {
      "image/png": "[encoded data removed]",
      "text/plain": [
       "<Figure size 432x288 with 1 Axes>"
      ]
     },
     "metadata": {
      "needs_background": "light"
     },
     "output_type": "display_data"
    }
   ],
   "source": [
    "plt.hist(preds.squeeze().tolist()) "
   ]
  },
  {
   "cell_type": "code",
   "execution_count": 239,
   "id": "7d8c5b13-0f4e-4a80-9459-9412ea7a1d51",
   "metadata": {},
   "outputs": [
    {
     "data": {
      "text/plain": [
       "(array([18.,  0.,  0.,  0.,  0.,  0.,  0.,  0.,  0.,  9.]),\n",
       " array([0. , 0.1, 0.2, 0.3, 0.4, 0.5, 0.6, 0.7, 0.8, 0.9, 1. ]),\n",
       " <BarContainer object of 10 artists>)"
      ]
     },
     "execution_count": 239,
     "metadata": {},
     "output_type": "execute_result"
    },
    {
     "data": {
      "image/png": "[encoded data removed]",
      "text/plain": [
       "<Figure size 432x288 with 1 Axes>"
      ]
     },
     "metadata": {
      "needs_background": "light"
     },
     "output_type": "display_data"
    }
   ],
   "source": [
    "plt.hist(gts.squeeze().tolist())"
   ]
  },
  {
   "cell_type": "code",
   "execution_count": 236,
   "id": "f70a0f4e-9209-4d83-94ec-5dc5bfabacdc",
   "metadata": {},
   "outputs": [
    {
     "data": {
      "text/plain": [
       "[<matplotlib.lines.Line2D at 0x7f1b9e52c580>]"
      ]
     },
     "execution_count": 236,
     "metadata": {},
     "output_type": "execute_result"
    },
    {
     "data": {
      "image/png": "[encoded data removed]",
      "text/plain": [
       "<Figure size 432x288 with 1 Axes>"
      ]
     },
     "metadata": {
      "needs_background": "light"
     },
     "output_type": "display_data"
    }
   ],
   "source": [
    "plt.plot([i for i in range(len(validTups))],validDf[\"f1\"])"
   ]
  },
  {
   "cell_type": "code",
   "execution_count": 237,
   "id": "a2b11fea-453a-426d-8ec7-f2450eafc025",
   "metadata": {},
   "outputs": [],
   "source": [
    "#preds"
   ]
  },
  {
   "cell_type": "code",
   "execution_count": 238,
   "id": "4646fdd9-5f7f-4db8-97fc-34a380fd5aa4",
   "metadata": {},
   "outputs": [
    {
     "data": {
      "text/plain": [
       "[<matplotlib.lines.Line2D at 0x7f1b48803370>]"
      ]
     },
     "execution_count": 238,
     "metadata": {},
     "output_type": "execute_result"
    },
    {
     "data": {
      "image/png": "[encoded data removed]",
      "text/plain": [
       "<Figure size 432x288 with 1 Axes>"
      ]
     },
     "metadata": {
      "needs_background": "light"
     },
     "output_type": "display_data"
    }
   ],
   "source": [
    "import matplotlib.pyplot as plt\n",
    "plt.plot([i for i in range(0, len(lossList))], lossList) "
   ]
  },
  {
   "cell_type": "code",
   "execution_count": 278,
   "id": "2794e419-82a2-4053-af66-d8239b74cde2",
   "metadata": {},
   "outputs": [
    {
     "data": {
      "text/plain": [
       "torch.Size([2, 1536])"
      ]
     },
     "execution_count": 278,
     "metadata": {},
     "output_type": "execute_result"
    }
   ],
   "source": [
    "torch.concat((outletEmbeds, storyEmbeds), dim=1).size()"
   ]
  },
  {
   "cell_type": "code",
   "execution_count": 289,
   "id": "fcb80eeb-21f3-4d44-86c8-2946bd260e8e",
   "metadata": {},
   "outputs": [
    {
     "data": {
      "text/plain": [
       "tensor([[0.4718],\n",
       "        [0.4707]], grad_fn=<SigmoidBackward0>)"
      ]
     },
     "execution_count": 289,
     "metadata": {},
     "output_type": "execute_result"
    }
   ],
   "source": [
    "torch.preds"
   ]
  },
  {
   "cell_type": "code",
   "execution_count": 291,
   "id": "9f89c83a-c039-41ab-b11c-ef8c471f5f87",
   "metadata": {},
   "outputs": [
    {
     "data": {
      "text/plain": [
       "tensor([0.4718, 0.4707], grad_fn=<SqueezeBackward0>)"
      ]
     },
     "execution_count": 291,
     "metadata": {},
     "output_type": "execute_result"
    }
   ],
   "source": [
    "torch.squeeze(preds)"
   ]
  },
  {
   "cell_type": "code",
   "execution_count": 296,
   "id": "04d7bdbd-1b5a-4d27-9acd-5a14527fb4e0",
   "metadata": {},
   "outputs": [
    {
     "data": {
      "text/plain": [
       "tensor([[0],\n",
       "        [0]])"
      ]
     },
     "execution_count": 296,
     "metadata": {},
     "output_type": "execute_result"
    }
   ],
   "source": [
    "torch.unsqueeze(batch[\"covered\"], dim=1)"
   ]
  },
  {
   "cell_type": "code",
   "execution_count": null,
   "id": "3ac5c6f9-92cb-4277-94d7-153aadfad67b",
   "metadata": {},
   "outputs": [],
   "source": []
  }
 ],
 "metadata": {
  "kernelspec": {
   "display_name": "Python 3",
   "language": "python",
   "name": "python3"
  },
  "language_info": {
   "codemirror_mode": {
    "name": "ipython",
    "version": 3
   },
   "file_extension": ".py",
   "mimetype": "text/x-python",
   "name": "python",
   "nbconvert_exporter": "python",
   "pygments_lexer": "ipython3",
   "version": "3.9.12"
  }
 },
 "nbformat": 4,
 "nbformat_minor": 5
}
