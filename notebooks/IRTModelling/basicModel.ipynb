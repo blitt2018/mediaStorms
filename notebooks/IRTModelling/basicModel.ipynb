{
 "cells": [
  {
   "cell_type": "markdown",
   "id": "8dc74c79-db1a-4d76-86b8-3e1778067044",
   "metadata": {},
   "source": [
    "create simple model draft to get outlet embeddings "
   ]
  },
  {
   "cell_type": "code",
   "execution_count": 181,
   "id": "4ca03ba7-ea94-4313-9f25-96acb2b1bdc7",
   "metadata": {},
   "outputs": [],
   "source": [
    "import pandas as pd\n",
    "import numpy as np\n",
    "import torch \n",
    "from torchmetrics.functional.classification import f1_score\n",
    "from torch.utils.data import DataLoader, random_split\n",
    "from sklearn.model_selection import KFold\n",
    "import torch.nn as nn\n",
    "import torch.nn.functional as F\n",
    "from datasets import Dataset\n",
    "import matplotlib.pyplot as plt\n",
    "from transformers.optimization import get_linear_schedule_with_warmup\n",
    "from transformers import AutoTokenizer, AutoModel\n",
    "from tqdm import tqdm \n",
    "import random\n",
    "import wandb "
   ]
  },
  {
   "cell_type": "code",
   "execution_count": 6,
   "id": "6ccbd25c-87bb-4dd7-bf77-4a3f245e2199",
   "metadata": {},
   "outputs": [
    {
     "name": "stderr",
     "output_type": "stream",
     "text": [
      "<ipython-input-6-e2098ce75a41>:2: DtypeWarning: Columns (2,3,10,11,12,13,14,17,18,19,20,21,22,23,24,25,26,27,28,29,30,31,32,33,34,39,40,41) have mixed types. Specify dtype option on import or set low_memory=False.\n",
      "  df = pd.read_csv(\"/shared/3/projects/newsDiffusion/data/processed/fullDataWithClustNums.tsv\", sep=\"\\t\")\n"
     ]
    }
   ],
   "source": [
    "# load in the news data of interest \n",
    "df = pd.read_csv(\"/shared/3/projects/newsDiffusion/data/processed/fullDataWithClustNums.tsv\", sep=\"\\t\") "
   ]
  },
  {
   "cell_type": "code",
   "execution_count": 8,
   "id": "71fd96fa-b4e8-469a-b0f2-b0878f6a0e5e",
   "metadata": {},
   "outputs": [],
   "source": [
    "PICKLE_PATH = \"/shared/3/projects/newsDiffusion/data/processed/IRTmodel/storyEmbeddingsMean.pkl\"\n",
    "storyEmbeddings = pd.read_pickle(PICKLE_PATH)"
   ]
  },
  {
   "cell_type": "code",
   "execution_count": 61,
   "id": "d888dc7e-0ae0-415a-ac2f-5def0566cfd2",
   "metadata": {},
   "outputs": [],
   "source": [
    "#we give a story cluster number and get back the average embedding for that story cluster \n",
    "storyDict = storyEmbeddings.set_index(\"clustNum\")[[\"storyMean\"]].to_dict()[\"storyMean\"] \n",
    "\n",
    "#we want to get a list of all possible story clusters that an outlet can cover\n",
    "allClusts = storyEmbeddings[\"clustNum\"].tolist()\n",
    "\n",
    "#keep only the articles that we have embeddings for, since we removed some clusters above\n",
    "outletStoryDf = df.loc[df[\"clustNum\"].isin(allClusts), [\"source\", \"clustNum\"]]\n",
    "\n",
    "#now we have each outlet and stories it covered \n",
    "outletStoryDf = outletStoryDf.drop_duplicates()"
   ]
  },
  {
   "cell_type": "code",
   "execution_count": 62,
   "id": "03c6f8f3-8504-40a7-9c7b-eeba192c4e7d",
   "metadata": {},
   "outputs": [
    {
     "name": "stderr",
     "output_type": "stream",
     "text": [
      "787it [00:12, 61.75it/s]\n"
     ]
    }
   ],
   "source": [
    "clusteredStories = outletStoryDf.groupby(\"source\").agg(set)\n",
    "clusteredStories[\"covered\"] = 1\n",
    "\n",
    "notCoveredSamples = [] \n",
    "i = 0 \n",
    "for source, currStories in tqdm(clusteredStories.iterrows()): \n",
    "    # we get the stories not covered by this outlet \n",
    "    # simply all stories minus the stories this outlet did cover \n",
    "    currStories = currStories[\"clustNum\"]\n",
    "    notCovered = set(allClusts) - currStories\n",
    "    \n",
    "    #take 1 times as many negative examples as positive \n",
    "    sample = random.sample(list(notCovered), 1 * len(currStories))\n",
    "    notCoveredSamples.append((source, sample)) "
   ]
  },
  {
   "cell_type": "code",
   "execution_count": 63,
   "id": "fd9285db-1b46-4a3c-a6b5-f33d6bebc22e",
   "metadata": {},
   "outputs": [],
   "source": [
    "#create dataframe from samples of not covered stories \n",
    "notCoveredDf = pd.DataFrame(notCoveredSamples, columns=[\"source\", \"clustNum\"])\n",
    "notCoveredDf[\"covered\"] = 0\n",
    "\n",
    "#get covered/non-covered stories in long form \n",
    "clusteredStories = clusteredStories.reset_index().explode(\"clustNum\")\n",
    "notCoveredDf = notCoveredDf.explode(\"clustNum\") \n",
    "\n",
    "#merge both covered and not covered training examples \n",
    "#a long form dataframe that gives us outlet, story cluster num, covered or not\n",
    "allCoverage = pd.concat([notCoveredDf.reset_index(drop=True), clusteredStories.reset_index(drop=True)],axis=0) \n",
    "\n",
    "# mix up the rows so that we have equal number of pos/neg training examples \n",
    "# we reset index so we can troubleshoot cross val splits later on\n",
    "allCoverage = allCoverage.sample(frac = 1).reset_index(drop=True)"
   ]
  },
  {
   "cell_type": "markdown",
   "id": "17db627e-c354-4b4b-b744-a14f68967a3f",
   "metadata": {},
   "source": [
    "### beginning of code for model training "
   ]
  },
  {
   "cell_type": "code",
   "execution_count": 64,
   "id": "6a190100-8470-4775-b0e3-5c2bcd89dc5c",
   "metadata": {},
   "outputs": [
    {
     "data": {
      "text/html": [
       "<div>\n",
       "<style scoped>\n",
       "    .dataframe tbody tr th:only-of-type {\n",
       "        vertical-align: middle;\n",
       "    }\n",
       "\n",
       "    .dataframe tbody tr th {\n",
       "        vertical-align: top;\n",
       "    }\n",
       "\n",
       "    .dataframe thead th {\n",
       "        text-align: right;\n",
       "    }\n",
       "</style>\n",
       "<table border=\"1\" class=\"dataframe\">\n",
       "  <thead>\n",
       "    <tr style=\"text-align: right;\">\n",
       "      <th></th>\n",
       "      <th>source</th>\n",
       "      <th>clustNum</th>\n",
       "      <th>covered</th>\n",
       "    </tr>\n",
       "  </thead>\n",
       "  <tbody>\n",
       "    <tr>\n",
       "      <th>0</th>\n",
       "      <td>eveningstandard</td>\n",
       "      <td>142578.0</td>\n",
       "      <td>1</td>\n",
       "    </tr>\n",
       "    <tr>\n",
       "      <th>1</th>\n",
       "      <td>greeleytribune</td>\n",
       "      <td>165664.0</td>\n",
       "      <td>1</td>\n",
       "    </tr>\n",
       "    <tr>\n",
       "      <th>2</th>\n",
       "      <td>usnews</td>\n",
       "      <td>59894.0</td>\n",
       "      <td>0</td>\n",
       "    </tr>\n",
       "    <tr>\n",
       "      <th>3</th>\n",
       "      <td>theindependent</td>\n",
       "      <td>9395.0</td>\n",
       "      <td>0</td>\n",
       "    </tr>\n",
       "    <tr>\n",
       "      <th>4</th>\n",
       "      <td>globalresearch</td>\n",
       "      <td>2452.0</td>\n",
       "      <td>1</td>\n",
       "    </tr>\n",
       "  </tbody>\n",
       "</table>\n",
       "</div>"
      ],
      "text/plain": [
       "            source  clustNum  covered\n",
       "0  eveningstandard  142578.0        1\n",
       "1   greeleytribune  165664.0        1\n",
       "2           usnews   59894.0        0\n",
       "3   theindependent    9395.0        0\n",
       "4   globalresearch    2452.0        1"
      ]
     },
     "execution_count": 64,
     "metadata": {},
     "output_type": "execute_result"
    }
   ],
   "source": [
    "allCoverage.head()"
   ]
  },
  {
   "cell_type": "code",
   "execution_count": 65,
   "id": "b6dd9b3c-ccb1-4b93-9b74-1a51d9ea1d38",
   "metadata": {},
   "outputs": [],
   "source": [
    "deviceNum = 2\n",
    "device = torch.device(\"cuda:\" + str(deviceNum) if torch.cuda.is_available() else \"cpu\")"
   ]
  },
  {
   "cell_type": "code",
   "execution_count": 101,
   "id": "9b5159ee-7873-421c-bdaa-02dc8dd456ce",
   "metadata": {},
   "outputs": [],
   "source": [
    "class BasicModel(nn.Module):\n",
    "\n",
    "    def __init__(self, numEmbeddings, embeddingLen, storyDict):\n",
    "        super(BasicModel, self).__init__()\n",
    "        self.embeddings = nn.Embedding(numEmbeddings, embeddingLen)\n",
    "        self.storyDict = storyDict\n",
    "        self.ReLU = nn.ReLU()\n",
    "        self.Sigmoid = nn.Sigmoid()\n",
    "        self.Dropout = nn.Dropout()\n",
    "        self.linear1 = nn.Linear(embeddingLen * 2, 200)\n",
    "        self.linear2 = nn.Linear(200, 1) \n",
    "    \n",
    "    #input will be the indices of the embeddings \n",
    "    def forward(self, embedIds, storyVecIds):\n",
    "        #these are the outlet embeddings NOT the story embeddings \n",
    "        outletEmbeds = self.embeddings(embedIds) #.view((1, -1))\n",
    "        storyVecs = torch.tensor([self.storyDict[int(clustNum)] for clustNum in storyVecIds], dtype=torch.float32).to(device)\n",
    "        inTens = torch.concat((outletEmbeds, storyVecs), dim=1).to(device)\n",
    "              \n",
    "        out = self.ReLU(self.Dropout(self.linear1(inTens)))\n",
    "        out = self.linear2(out)\n",
    "        probs = self.Sigmoid(out)\n",
    "        return probs\n",
    "        "
   ]
  },
  {
   "cell_type": "code",
   "execution_count": 169,
   "id": "a775182e-5d05-475f-87d1-4b5ff8c5533e",
   "metadata": {},
   "outputs": [],
   "source": [
    "TOTAL_ROWS = 100000\n",
    "trainDf = allCoverage.head(TOTAL_ROWS) \n",
    "dataset = Dataset.from_pandas(trainDf)\n",
    "#trainDataset, validDataset = random_split(dataset, [.9, .1]) "
   ]
  },
  {
   "cell_type": "code",
   "execution_count": 170,
   "id": "898a3ad0-ed49-490a-9cf8-a83ffefa6194",
   "metadata": {},
   "outputs": [],
   "source": [
    "#embeds = nn.Embedding(len(outlets), 768)  # number of story clusters x length of BERT embeddings \n",
    "outlets = df[\"source\"].unique()\n",
    "outletDict = {outlets[i]:i for i in range(0, len(outlets))}"
   ]
  },
  {
   "cell_type": "code",
   "execution_count": null,
   "id": "ebfacef0-468e-4f77-872c-51cf158914dc",
   "metadata": {},
   "outputs": [],
   "source": []
  },
  {
   "cell_type": "code",
   "execution_count": 171,
   "id": "7e50c68a-c5c4-43b6-b6b8-353ecc060498",
   "metadata": {},
   "outputs": [],
   "source": [
    "\n",
    "#optim = torch.optim.Adam(model.parameters(), lr=.0001)\n",
    "\n",
    "# and setup a warmup for the first ~10% steps\n",
    "#total_steps = int((len(trainDataset) * EPOCHS) / TRAIN_BATCH_SIZE)\n",
    "#warmup_steps = int(0.1 * total_steps)\n",
    "\n",
    "#scheduler = get_linear_schedule_with_warmup(optim, num_warmup_steps=warmup_steps, num_training_steps=total_steps - warmup_steps)\n",
    "\n",
    "\n",
    "#trainLoader = DataLoader(trainDataset, batch_size=TRAIN_BATCH_SIZE, shuffle=True)\n",
    "#validLoader = DataLoader(validDataset, batch_size=VALID_BATCH_SIZE, shuffle=False)"
   ]
  },
  {
   "cell_type": "code",
   "execution_count": 172,
   "id": "c5668286-a9aa-436d-afee-a581dad65291",
   "metadata": {},
   "outputs": [],
   "source": [
    "def validate(validLoader): \n",
    "    #validation loop \n",
    "    allPreds = []\n",
    "    allGts = []\n",
    "    for batch in validLoader: \n",
    "        outletLookups = torch.tensor([outletDict[outlet] for outlet in batch[\"source\"]]).to(device)\n",
    "        preds = model(outletLookups, batch[\"clustNum\"].to(device))\n",
    "        gts = torch.unsqueeze(batch[\"covered\"], dim=1).to(device) \n",
    "        allPreds += preds.detach().squeeze().cpu().tolist()\n",
    "        allGts += gts.detach().squeeze().cpu().tolist()\n",
    "    return f1_score(torch.tensor(allPreds), torch.tensor(allGts)) \n"
   ]
  },
  {
   "cell_type": "code",
   "execution_count": 186,
   "id": "c04279d2-d81f-488f-8d9d-5f80d5ed9260",
   "metadata": {},
   "outputs": [
    {
     "data": {
      "text/plain": [
       "66666"
      ]
     },
     "execution_count": 186,
     "metadata": {},
     "output_type": "execute_result"
    }
   ],
   "source": [
    "int(TOTAL_ROWS * ((K_FOLDS - 1)/ K_FOLDS))"
   ]
  },
  {
   "cell_type": "code",
   "execution_count": 183,
   "id": "0aef30a9-6fc8-4d4f-aac3-eefd414b87d8",
   "metadata": {},
   "outputs": [
    {
     "data": {
      "text/html": [
       "Finishing last run (ID:1drevosa) before initializing another..."
      ],
      "text/plain": [
       "<IPython.core.display.HTML object>"
      ]
     },
     "metadata": {},
     "output_type": "display_data"
    },
    {
     "data": {
      "text/html": [
       "Waiting for W&B process to finish... <strong style=\"color:green\">(success).</strong>"
      ],
      "text/plain": [
       "<IPython.core.display.HTML object>"
      ]
     },
     "metadata": {},
     "output_type": "display_data"
    },
    {
     "data": {
      "application/vnd.jupyter.widget-view+json": {
       "model_id": "",
       "version_major": 2,
       "version_minor": 0
      },
      "text/plain": [
       "VBox(children=(Label(value='0.001 MB of 0.001 MB uploaded (0.000 MB deduped)\\r'), FloatProgress(value=1.0, max…"
      ]
     },
     "metadata": {},
     "output_type": "display_data"
    },
    {
     "data": {
      "text/html": [
       "Synced <strong style=\"color:#cdcd00\">stilted-durian-1</strong>: <a href=\"https://wandb.ai/blitt/localNews-notebooks_IRTModelling/runs/1drevosa\" target=\"_blank\">https://wandb.ai/blitt/localNews-notebooks_IRTModelling/runs/1drevosa</a><br/>Synced 5 W&B file(s), 0 media file(s), 0 artifact file(s) and 0 other file(s)"
      ],
      "text/plain": [
       "<IPython.core.display.HTML object>"
      ]
     },
     "metadata": {},
     "output_type": "display_data"
    },
    {
     "data": {
      "text/html": [
       "Find logs at: <code>./wandb/run-20230508_181719-1drevosa/logs</code>"
      ],
      "text/plain": [
       "<IPython.core.display.HTML object>"
      ]
     },
     "metadata": {},
     "output_type": "display_data"
    },
    {
     "data": {
      "text/html": [
       "Successfully finished last run (ID:1drevosa). Initializing new run:<br/>"
      ],
      "text/plain": [
       "<IPython.core.display.HTML object>"
      ]
     },
     "metadata": {},
     "output_type": "display_data"
    },
    {
     "data": {
      "text/html": [
       "wandb version 0.15.2 is available!  To upgrade, please run:\n",
       " $ pip install wandb --upgrade"
      ],
      "text/plain": [
       "<IPython.core.display.HTML object>"
      ]
     },
     "metadata": {},
     "output_type": "display_data"
    },
    {
     "data": {
      "text/html": [
       "Tracking run with wandb version 0.12.18"
      ],
      "text/plain": [
       "<IPython.core.display.HTML object>"
      ]
     },
     "metadata": {},
     "output_type": "display_data"
    },
    {
     "data": {
      "text/html": [
       "Run data is saved locally in <code>/shared/3/projects/newsDiffusion/models/IRTModelling/wandb/run-20230508_182332-cs4t8bgx</code>"
      ],
      "text/plain": [
       "<IPython.core.display.HTML object>"
      ]
     },
     "metadata": {},
     "output_type": "display_data"
    },
    {
     "data": {
      "text/html": [
       "Syncing run <strong><a href=\"https://wandb.ai/blitt/localNews-notebooks_IRTModelling/runs/cs4t8bgx\" target=\"_blank\">skilled-thunder-2</a></strong> to <a href=\"https://wandb.ai/blitt/localNews-notebooks_IRTModelling\" target=\"_blank\">Weights & Biases</a> (<a href=\"https://wandb.me/run\" target=\"_blank\">docs</a>)<br/>"
      ],
      "text/plain": [
       "<IPython.core.display.HTML object>"
      ]
     },
     "metadata": {},
     "output_type": "display_data"
    },
    {
     "data": {
      "text/html": [
       "<button onClick=\"this.nextSibling.style.display='block';this.style.display='none';\">Display W&B run</button><iframe src=\"https://wandb.ai/blitt/localNews-notebooks_IRTModelling/runs/cs4t8bgx?jupyter=true\" style=\"border:none;width:100%;height:420px;display:none;\"></iframe>"
      ],
      "text/plain": [
       "<wandb.sdk.wandb_run.Run at 0x7f8a88edd550>"
      ]
     },
     "execution_count": 183,
     "metadata": {},
     "output_type": "execute_result"
    }
   ],
   "source": [
    "loss_func = torch.nn.BCELoss()\n",
    "\n",
    "TRAIN_BATCH_SIZE=100\n",
    "VALID_BATCH_SIZE=200\n",
    "EPOCHS=1\n",
    "LR = .0001\n",
    "# testing out cross validation\n",
    "\n",
    "validTups = []\n",
    "trainTups = []\n",
    "\n",
    "K_FOLDS = 3\n",
    "kfold = KFold(n_splits=K_FOLDS, shuffle=True)\n",
    "config = {\n",
    "    \"lr\":LR,\n",
    "    \"batchSize\":TRAIN_BATCH_SIZE,\n",
    "    \"numFolds\":K_FOLDS, \n",
    "    \"trainFrac\":TRAIN_FRAC,\n",
    "    \"totalExamples\":TOTAL_ROWS,\n",
    "    \"trainExamples\":TOTAL_ROWS * ((K_FOLDS - 1)/ K_FOLDS),\n",
    "    \"loss\":\"Binary Cross Entropy\"\n",
    "}\n",
    "wandb.init(dir=\"/shared/3/projects/newsDiffusion/models/IRTModelling/\",reinit=True, config=config,group=\"group\")"
   ]
  },
  {
   "cell_type": "code",
   "execution_count": 173,
   "id": "ee09f066-2a89-4b62-800f-e94ab016a9e1",
   "metadata": {},
   "outputs": [
    {
     "name": "stdout",
     "output_type": "stream",
     "text": [
      "fold: 0\n"
     ]
    },
    {
     "name": "stderr",
     "output_type": "stream",
     "text": [
      "100%|██████████| 667/667 [00:46<00:00, 14.23it/s]\n"
     ]
    },
    {
     "name": "stdout",
     "output_type": "stream",
     "text": [
      "fold: 1\n"
     ]
    },
    {
     "name": "stderr",
     "output_type": "stream",
     "text": [
      "100%|██████████| 667/667 [00:47<00:00, 14.18it/s]\n"
     ]
    },
    {
     "name": "stdout",
     "output_type": "stream",
     "text": [
      "fold: 2\n"
     ]
    },
    {
     "name": "stderr",
     "output_type": "stream",
     "text": [
      "100%|██████████| 667/667 [00:46<00:00, 14.40it/s]\n"
     ]
    }
   ],
   "source": [
    "for fold, (trainIds, validIds) in enumerate(kfold.split(trainDf)):\n",
    "    \n",
    "    model = BasicModel(len(outlets) , 768, storyDict) \n",
    "    model.to(device)\n",
    "    model.train()\n",
    "    \n",
    "    print(f\"fold: {fold}\")\n",
    "    \n",
    "    trainDataset = Dataset.from_pandas(trainDf.iloc[trainIds,])\n",
    "    validDataset = Dataset.from_pandas(trainDf.iloc[validIds,])\n",
    "    \n",
    "    trainLoader = DataLoader(trainDataset, batch_size=TRAIN_BATCH_SIZE, shuffle=True)\n",
    "    validLoader = DataLoader(validDataset, batch_size=VALID_BATCH_SIZE, shuffle=False)\n",
    "    \n",
    "    # and setup a warmup for the first ~10% steps\n",
    "    optim = torch.optim.Adam(model.parameters(), lr=LR)\n",
    "    total_steps = int((len(trainDataset) * EPOCHS) / TRAIN_BATCH_SIZE)\n",
    "    warmup_steps = int(0.1 * total_steps)\n",
    "    scheduler = get_linear_schedule_with_warmup(optim, num_warmup_steps=warmup_steps, num_training_steps=total_steps - warmup_steps)\n",
    "    \n",
    "    subLossList = []\n",
    "    i = 0 \n",
    "    for batch in tqdm(trainLoader): \n",
    "        model.train()\n",
    "        optim.zero_grad()\n",
    "        \n",
    "        #get the outlet ids from the outlet names fed into lookup dictionary  \n",
    "        outletLookups = torch.tensor([outletDict[outlet] for outlet in batch[\"source\"]]).to(device)\n",
    "        preds = model(outletLookups, batch[\"clustNum\"].to(device))\n",
    "\n",
    "        #get ground truth labels from the batch \n",
    "        gts = torch.unsqueeze(batch[\"covered\"], dim=1).type(\"torch.FloatTensor\").to(device) \n",
    "\n",
    "        loss = loss_func(preds, gts)\n",
    "        loss.backward()\n",
    "        optim.step()\n",
    "        scheduler.step()\n",
    "        subLossList.append(loss.detach().item())\n",
    "        if i % 100 == 0:\n",
    "            model.eval()\n",
    "            #print(validate())\n",
    "            validTups.append((fold, i, validate(validLoader)))\n",
    "            trainTups.append((fold, i, np.mean(subLossList)))\n",
    "            subLossList = []\n",
    "            model.train()\n",
    "        i += 1"
   ]
  },
  {
   "cell_type": "code",
   "execution_count": 174,
   "id": "c52d8fb2-6dcd-48ea-a6bf-58530006133b",
   "metadata": {},
   "outputs": [],
   "source": [
    "validDf = pd.DataFrame(validTups, columns=[\"fold\", \"batch\", \"f1\"])"
   ]
  },
  {
   "cell_type": "code",
   "execution_count": 175,
   "id": "8e71e2f8-bb01-4a48-b4db-16e940159b07",
   "metadata": {},
   "outputs": [],
   "source": [
    "validDf[\"f1\"] = [item.item() for item in validDf[\"f1\"]]"
   ]
  },
  {
   "cell_type": "code",
   "execution_count": 176,
   "id": "41e8d835-d832-41bf-8f55-e2fc3f0fccee",
   "metadata": {},
   "outputs": [
    {
     "data": {
      "text/plain": [
       "(array([ 3.,  2.,  9., 10.,  9.,  9., 13.,  8.,  1.,  3.]),\n",
       " array([0.41491768, 0.43500285, 0.45508802, 0.47517319, 0.49525836,\n",
       "        0.51534353, 0.5354287 , 0.55551387, 0.57559904, 0.59568422,\n",
       "        0.61576939]),\n",
       " <BarContainer object of 10 artists>)"
      ]
     },
     "execution_count": 176,
     "metadata": {},
     "output_type": "execute_result"
    },
    {
     "data": {
      "image/png": "[encoded data removed]",
      "text/plain": [
       "<Figure size 432x288 with 1 Axes>"
      ]
     },
     "metadata": {
      "needs_background": "light"
     },
     "output_type": "display_data"
    }
   ],
   "source": [
    "plt.hist(preds.squeeze().tolist()) "
   ]
  },
  {
   "cell_type": "code",
   "execution_count": 177,
   "id": "db25b5b7-1ffe-494a-87b4-919b717e4213",
   "metadata": {},
   "outputs": [],
   "source": [
    "trainEvalDf = pd.DataFrame(trainTups, columns=[\"fold\", \"batch\", \"BCEloss\"]) "
   ]
  },
  {
   "cell_type": "code",
   "execution_count": 178,
   "id": "39e56eff-cd72-4d37-8e41-6ce0206d3dad",
   "metadata": {},
   "outputs": [
    {
     "data": {
      "text/plain": [
       "<AxesSubplot:xlabel='batch', ylabel='f1'>"
      ]
     },
     "execution_count": 178,
     "metadata": {},
     "output_type": "execute_result"
    },
    {
     "data": {
      "image/png": "[encoded data removed]",
      "text/plain": [
       "<Figure size 432x288 with 1 Axes>"
      ]
     },
     "metadata": {
      "needs_background": "light"
     },
     "output_type": "display_data"
    }
   ],
   "source": [
    "sns.lineplot(x=\"batch\", y=\"f1\", hue=\"fold\", data=validDf) "
   ]
  },
  {
   "cell_type": "code",
   "execution_count": 179,
   "id": "90ad10e9-3655-4632-94bd-f7eed533e28a",
   "metadata": {},
   "outputs": [
    {
     "data": {
      "text/plain": [
       "<AxesSubplot:xlabel='batch', ylabel='BCEloss'>"
      ]
     },
     "execution_count": 179,
     "metadata": {},
     "output_type": "execute_result"
    },
    {
     "data": {
      "image/png": "[encoded data removed]",
      "text/plain": [
       "<Figure size 432x288 with 1 Axes>"
      ]
     },
     "metadata": {
      "needs_background": "light"
     },
     "output_type": "display_data"
    }
   ],
   "source": [
    "import seaborn as sns\n",
    "sns.lineplot(x=\"batch\", y=\"BCEloss\", hue=\"fold\", data=trainEvalDf) "
   ]
  },
  {
   "cell_type": "code",
   "execution_count": null,
   "id": "9350c40f-c40f-4607-bd08-18636094cca4",
   "metadata": {},
   "outputs": [],
   "source": []
  }
 ],
 "metadata": {
  "kernelspec": {
   "display_name": "Python 3",
   "language": "python",
   "name": "python3"
  },
  "language_info": {
   "codemirror_mode": {
    "name": "ipython",
    "version": 3
   },
   "file_extension": ".py",
   "mimetype": "text/x-python",
   "name": "python",
   "nbconvert_exporter": "python",
   "pygments_lexer": "ipython3",
   "version": "3.9.12"
  }
 },
 "nbformat": 4,
 "nbformat_minor": 5
}
