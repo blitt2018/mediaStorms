{
 "cells": [
  {
   "cell_type": "markdown",
   "id": "8dc74c79-db1a-4d76-86b8-3e1778067044",
   "metadata": {},
   "source": [
    "create simple model draft to get outlet embeddings "
   ]
  },
  {
   "cell_type": "code",
   "execution_count": 187,
   "id": "4ca03ba7-ea94-4313-9f25-96acb2b1bdc7",
   "metadata": {},
   "outputs": [],
   "source": [
    "import pandas as pd\n",
    "import numpy as np\n",
    "import matplotlib.pyplot as plt\n",
    "import torch \n",
    "from torchmetrics.functional.classification import f1_score\n",
    "from torch.utils.data import DataLoader, random_split\n",
    "import torch.nn as nn\n",
    "import torch.nn.functional as F\n",
    "from datasets import Dataset\n",
    "from transformers.optimization import get_linear_schedule_with_warmup\n",
    "from transformers import AutoTokenizer, AutoModel\n",
    "from tqdm import tqdm \n",
    "import random\n",
    "from sklearn.preprocessing import OneHotEncoder"
   ]
  },
  {
   "cell_type": "code",
   "execution_count": 2,
   "id": "6ccbd25c-87bb-4dd7-bf77-4a3f245e2199",
   "metadata": {},
   "outputs": [
    {
     "name": "stderr",
     "output_type": "stream",
     "text": [
      "<ipython-input-2-e2098ce75a41>:2: DtypeWarning: Columns (2,3,10,11,12,13,14,17,18,19,20,21,22,23,24,25,26,27,28,29,30,31,32,33,34,39,40,41) have mixed types. Specify dtype option on import or set low_memory=False.\n",
      "  df = pd.read_csv(\"/shared/3/projects/newsDiffusion/data/processed/fullDataWithClustNums.tsv\", sep=\"\\t\")\n"
     ]
    }
   ],
   "source": [
    "# load in the news data of interest \n",
    "df = pd.read_csv(\"/shared/3/projects/newsDiffusion/data/processed/fullDataWithClustNums.tsv\", sep=\"\\t\") "
   ]
  },
  {
   "cell_type": "code",
   "execution_count": 5,
   "id": "9776477e-f069-4d15-9aa8-e9c907f0ee1d",
   "metadata": {},
   "outputs": [
    {
     "data": {
      "text/plain": [
       "209415"
      ]
     },
     "execution_count": 5,
     "metadata": {},
     "output_type": "execute_result"
    }
   ],
   "source": [
    "len(df[\"clustNum\"].unique()) "
   ]
  },
  {
   "cell_type": "code",
   "execution_count": 6,
   "id": "eceb2027-0363-4da2-a2fc-6564f544b547",
   "metadata": {},
   "outputs": [],
   "source": [
    "embeddingsDf = pd.read_csv(\"/shared/3/projects/newsDiffusion/data/interim/NEREmbedding/embeddingsKeys.tsv\", sep=\"\\t\", names=[\"key\", \"embedding\"], converters={\"embedding\":lambda x: np.array(x.strip(\"[]\").split(\",\"), dtype=float)})"
   ]
  },
  {
   "cell_type": "code",
   "execution_count": 7,
   "id": "99b661f4-99e9-4e92-8435-4a57dab46b34",
   "metadata": {},
   "outputs": [],
   "source": [
    "#we want to get a matrix of outlets x stories \n",
    "storyEmbeddings = pd.merge(df[[\"clustNum\", \"key\"]].dropna(), embeddingsDf, on=\"key\", how=\"left\") \n",
    "storyEmbeddings = storyEmbeddings.drop(columns=[\"key\"]).groupby(\"clustNum\").agg([np.mean, len])\n",
    "storyEmbeddings.columns = storyEmbeddings.columns.droplevel()\n",
    "storyEmbeddings = storyEmbeddings[storyEmbeddings[\"len\"] < 3000].reset_index() \n",
    "storyEmbeddings = storyEmbeddings.rename(columns={\"mean\":\"storyMean\", \"len\":\"clustSize\"}) "
   ]
  },
  {
   "cell_type": "code",
   "execution_count": null,
   "id": "571fb46d-7956-45be-89c2-93c25e536a1c",
   "metadata": {},
   "outputs": [],
   "source": [
    "PICKLE_PATH = \"/shared/3/projects/newsDiffusion/data/processed/IRTmodel/storyEmbeddingsMean.pkl\"\n",
    "storyEmbeddings.to_pickle(PICKLE_PATH)"
   ]
  }
 ],
 "metadata": {
  "kernelspec": {
   "display_name": "Python 3",
   "language": "python",
   "name": "python3"
  },
  "language_info": {
   "codemirror_mode": {
    "name": "ipython",
    "version": 3
   },
   "file_extension": ".py",
   "mimetype": "text/x-python",
   "name": "python",
   "nbconvert_exporter": "python",
   "pygments_lexer": "ipython3",
   "version": "3.9.12"
  }
 },
 "nbformat": 4,
 "nbformat_minor": 5
}
