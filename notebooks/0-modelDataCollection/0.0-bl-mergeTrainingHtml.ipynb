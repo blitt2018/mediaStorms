{
 "cells": [
  {
   "cell_type": "code",
   "execution_count": null,
   "metadata": {},
   "outputs": [],
   "source": [
    "\"\"\"\n",
    "this notebook merges the train dataset ground truth labels with their corresponding news article texts. \n",
    "Cleaning and filtering is also performed to remove empty or exceptionally short articles \n",
    "\n",
    "task website: \n",
    "https://competitions.codalab.org/competitions/33835#learn_the_details-timetable\n",
    "\"\"\""
   ]
  },
  {
   "cell_type": "code",
   "execution_count": 3,
   "metadata": {},
   "outputs": [],
   "source": [
    "import transformers\n",
    "from tqdm import tqdm \n",
    "import pandas as pd\n",
    "import json\n",
    "import os"
   ]
  },
  {
   "cell_type": "markdown",
   "metadata": {},
   "source": [
    "## start by getting the data in the right format for training "
   ]
  },
  {
   "cell_type": "code",
   "execution_count": 8,
   "metadata": {},
   "outputs": [
    {
     "name": "stderr",
     "output_type": "stream",
     "text": [
      "100%|██████████| 100/100 [00:43<00:00,  2.32it/s]\n"
     ]
    }
   ],
   "source": [
    "#get load json into dataframes\n",
    "outerFolder = \"/shared/3/projects/newsDiffusion/data/raw/train\"\n",
    "\n",
    "dfList = []\n",
    "for folderNum in tqdm(os.listdir(outerFolder)): \n",
    "    innerFolder = outerFolder + \"/\" + folderNum\n",
    "    for innerFileName in os.listdir(innerFolder): \n",
    "        innerPathName = outerFolder + \"/\" + folderNum + \"/\" + innerFileName\n",
    "        if \"json\" in innerPathName: \n",
    "            with open(innerPathName, \"r\") as f: \n",
    "                data = json.loads(f.read())\n",
    "            df = pd.json_normalize(data)\n",
    "            df[\"id\"] = innerFileName.split(\".\")[0]\n",
    "            dfList.append(df)\n",
    "        "
   ]
  },
  {
   "cell_type": "code",
   "execution_count": 9,
   "metadata": {},
   "outputs": [],
   "source": [
    "#concatenate training data dataframes \n",
    "fullDf = pd.concat(dfList).reset_index(drop=True)"
   ]
  },
  {
   "cell_type": "code",
   "execution_count": 1,
   "metadata": {},
   "outputs": [
    {
     "ename": "NameError",
     "evalue": "name 'fullDf' is not defined",
     "output_type": "error",
     "traceback": [
      "\u001b[0;31m---------------------------------------------------------------------------\u001b[0m",
      "\u001b[0;31mNameError\u001b[0m                                 Traceback (most recent call last)",
      "\u001b[0;32m<ipython-input-1-02ac47b5d3c7>\u001b[0m in \u001b[0;36m<module>\u001b[0;34m\u001b[0m\n\u001b[0;32m----> 1\u001b[0;31m \u001b[0mleanDf\u001b[0m \u001b[0;34m=\u001b[0m \u001b[0mfullDf\u001b[0m\u001b[0;34m[\u001b[0m\u001b[0;34m[\u001b[0m\u001b[0;34m\"id\"\u001b[0m\u001b[0;34m,\u001b[0m \u001b[0;34m\"title\"\u001b[0m\u001b[0;34m,\u001b[0m \u001b[0;34m\"url\"\u001b[0m\u001b[0;34m,\u001b[0m \u001b[0;34m\"source_url\"\u001b[0m\u001b[0;34m,\u001b[0m \u001b[0;34m\"text\"\u001b[0m\u001b[0;34m]\u001b[0m\u001b[0;34m]\u001b[0m\u001b[0;34m\u001b[0m\u001b[0;34m\u001b[0m\u001b[0m\n\u001b[0m",
      "\u001b[0;31mNameError\u001b[0m: name 'fullDf' is not defined"
     ]
    }
   ],
   "source": [
    "leanDf = fullDf[[\"id\", \"title\", \"url\", \"source_url\", \"text\"]]"
   ]
  },
  {
   "cell_type": "code",
   "execution_count": 24,
   "metadata": {},
   "outputs": [
    {
     "name": "stdout",
     "output_type": "stream",
     "text": [
      "(4964, 14)\n"
     ]
    },
    {
     "data": {
      "text/html": [
       "<div>\n",
       "<style scoped>\n",
       "    .dataframe tbody tr th:only-of-type {\n",
       "        vertical-align: middle;\n",
       "    }\n",
       "\n",
       "    .dataframe tbody tr th {\n",
       "        vertical-align: top;\n",
       "    }\n",
       "\n",
       "    .dataframe thead th {\n",
       "        text-align: right;\n",
       "    }\n",
       "</style>\n",
       "<table border=\"1\" class=\"dataframe\">\n",
       "  <thead>\n",
       "    <tr style=\"text-align: right;\">\n",
       "      <th></th>\n",
       "      <th>url1_lang</th>\n",
       "      <th>url2_lang</th>\n",
       "      <th>pair_id</th>\n",
       "      <th>link1</th>\n",
       "      <th>link2</th>\n",
       "      <th>ia_link1</th>\n",
       "      <th>ia_link2</th>\n",
       "      <th>Geography</th>\n",
       "      <th>Entities</th>\n",
       "      <th>Time</th>\n",
       "      <th>Narrative</th>\n",
       "      <th>Overall</th>\n",
       "      <th>Style</th>\n",
       "      <th>Tone</th>\n",
       "    </tr>\n",
       "  </thead>\n",
       "  <tbody>\n",
       "    <tr>\n",
       "      <th>0</th>\n",
       "      <td>en</td>\n",
       "      <td>en</td>\n",
       "      <td>1484084337_1484110209</td>\n",
       "      <td>https://www.washingtonpost.com/local/virginia-...</td>\n",
       "      <td>https://www.washingtonpost.com/world/the_ameri...</td>\n",
       "      <td>https://web.archive.org/web/www.washingtonpost...</td>\n",
       "      <td>https://web.archive.org/web/www.washingtonpost...</td>\n",
       "      <td>4.0</td>\n",
       "      <td>4.0</td>\n",
       "      <td>1.0</td>\n",
       "      <td>4.000000</td>\n",
       "      <td>4.000000</td>\n",
       "      <td>1.666667</td>\n",
       "      <td>2.000000</td>\n",
       "    </tr>\n",
       "    <tr>\n",
       "      <th>1</th>\n",
       "      <td>en</td>\n",
       "      <td>en</td>\n",
       "      <td>1484396422_1483924666</td>\n",
       "      <td>https://www.stlucianewsonline.com/guyana-three...</td>\n",
       "      <td>https://www.thestar.com/news/world/europe/2020...</td>\n",
       "      <td>https://web.archive.org/web/www.stlucianewsonl...</td>\n",
       "      <td>https://web.archive.org/web/www.thestar.com/ne...</td>\n",
       "      <td>4.0</td>\n",
       "      <td>4.0</td>\n",
       "      <td>1.0</td>\n",
       "      <td>4.000000</td>\n",
       "      <td>3.666667</td>\n",
       "      <td>1.666667</td>\n",
       "      <td>1.333333</td>\n",
       "    </tr>\n",
       "    <tr>\n",
       "      <th>2</th>\n",
       "      <td>en</td>\n",
       "      <td>en</td>\n",
       "      <td>1484698254_1483758694</td>\n",
       "      <td>https://www.teaparty.org/trump-brings-in-2020-...</td>\n",
       "      <td>https://www.timesofisrael.com/trump-says-he-do...</td>\n",
       "      <td>https://web.archive.org/web/www.teaparty.org/t...</td>\n",
       "      <td>https://web.archive.org/web/www.timesofisrael....</td>\n",
       "      <td>1.0</td>\n",
       "      <td>2.0</td>\n",
       "      <td>1.0</td>\n",
       "      <td>2.333333</td>\n",
       "      <td>2.333333</td>\n",
       "      <td>1.000000</td>\n",
       "      <td>1.333333</td>\n",
       "    </tr>\n",
       "  </tbody>\n",
       "</table>\n",
       "</div>"
      ],
      "text/plain": [
       "  url1_lang url2_lang                pair_id  \\\n",
       "0        en        en  1484084337_1484110209   \n",
       "1        en        en  1484396422_1483924666   \n",
       "2        en        en  1484698254_1483758694   \n",
       "\n",
       "                                               link1  \\\n",
       "0  https://www.washingtonpost.com/local/virginia-...   \n",
       "1  https://www.stlucianewsonline.com/guyana-three...   \n",
       "2  https://www.teaparty.org/trump-brings-in-2020-...   \n",
       "\n",
       "                                               link2  \\\n",
       "0  https://www.washingtonpost.com/world/the_ameri...   \n",
       "1  https://www.thestar.com/news/world/europe/2020...   \n",
       "2  https://www.timesofisrael.com/trump-says-he-do...   \n",
       "\n",
       "                                            ia_link1  \\\n",
       "0  https://web.archive.org/web/www.washingtonpost...   \n",
       "1  https://web.archive.org/web/www.stlucianewsonl...   \n",
       "2  https://web.archive.org/web/www.teaparty.org/t...   \n",
       "\n",
       "                                            ia_link2  Geography  Entities  \\\n",
       "0  https://web.archive.org/web/www.washingtonpost...        4.0       4.0   \n",
       "1  https://web.archive.org/web/www.thestar.com/ne...        4.0       4.0   \n",
       "2  https://web.archive.org/web/www.timesofisrael....        1.0       2.0   \n",
       "\n",
       "   Time  Narrative   Overall     Style      Tone  \n",
       "0   1.0   4.000000  4.000000  1.666667  2.000000  \n",
       "1   1.0   4.000000  3.666667  1.666667  1.333333  \n",
       "2   1.0   2.333333  2.333333  1.000000  1.333333  "
      ]
     },
     "execution_count": 24,
     "metadata": {},
     "output_type": "execute_result"
    }
   ],
   "source": [
    "#get ground truth data \n",
    "#downloaded from: https://competitions.codalab.org/competitions/33835#learn_the_details-timetable\n",
    "groundTruths = pd.read_csv(\"/shared/3/projects/benlitterer/agendaSetting/trainingDataV2.csv\")"
   ]
  },
  {
   "cell_type": "code",
   "execution_count": 25,
   "metadata": {},
   "outputs": [],
   "source": [
    "groundTruths[[\"id1\", \"id2\"]] = groundTruths[\"pair_id\"].str.split(\"_\", expand=True)\n",
    "leanDf = leanDf[[\"id\", \"text\", \"title\"]]"
   ]
  },
  {
   "cell_type": "code",
   "execution_count": 67,
   "metadata": {},
   "outputs": [
    {
     "data": {
      "text/plain": [
       "4964"
      ]
     },
     "execution_count": 67,
     "metadata": {},
     "output_type": "execute_result"
    }
   ],
   "source": [
    "len(groundTruths)"
   ]
  },
  {
   "cell_type": "code",
   "execution_count": 68,
   "metadata": {},
   "outputs": [],
   "source": [
    "#merge text for the first id, id1\n",
    "leanDf1 = leanDf.rename(columns = {\"id\":\"id1\",\"text\":\"text1\", \"title\":\"title1\"})\n",
    "firstMerge = pd.merge(groundTruths, leanDf1, how=\"left\", on=\"id1\")\n",
    "\n",
    "leanDf2 = leanDf.rename(columns = {\"id\":\"id2\",\"text\":\"text2\", \"title\":\"title2\"})\n",
    "merged = pd.merge(firstMerge, leanDf2, how=\"left\", on=\"id2\")\n",
    "merged.head(3)"
   ]
  },
  {
   "cell_type": "code",
   "execution_count": 70,
   "metadata": {},
   "outputs": [],
   "source": [
    "#NOTE: when we do two inner joins above, we lose 14 articles, going down \n",
    "#to 4,951 total articles"
   ]
  },
  {
   "cell_type": "code",
   "execution_count": 71,
   "metadata": {},
   "outputs": [],
   "source": [
    "#drop all data where both the title and text is na for either article pair \n",
    "mergedClean = merged.dropna(subset=[\"title1\", \"text1\"], how=\"all\").dropna(subset=[\"title2\", \"text2\"], how=\"all\")"
   ]
  },
  {
   "cell_type": "code",
   "execution_count": 72,
   "metadata": {},
   "outputs": [],
   "source": [
    "#all of the common articles : \n",
    "removed = list(set(merged[\"pair_id\"]) - set(mergedClean[\"pair_id\"]))\n",
    "removedDf = merged[merged[\"pair_id\"].isin(removed)]"
   ]
  },
  {
   "cell_type": "code",
   "execution_count": 81,
   "metadata": {},
   "outputs": [
    {
     "data": {
      "text/plain": [
       "4951"
      ]
     },
     "execution_count": 81,
     "metadata": {},
     "output_type": "execute_result"
    }
   ],
   "source": [
    "#count all pairs \n",
    "len(mergedClean)"
   ]
  },
  {
   "cell_type": "code",
   "execution_count": 82,
   "metadata": {},
   "outputs": [
    {
     "data": {
      "text/plain": [
       "1791"
      ]
     },
     "execution_count": 82,
     "metadata": {},
     "output_type": "execute_result"
    }
   ],
   "source": [
    "#count en-en pairs \n",
    "len(mergedClean[(mergedClean[\"url1_lang\"] == \"en\") & (mergedClean[\"url2_lang\"] == \"en\")])"
   ]
  },
  {
   "cell_type": "code",
   "execution_count": 83,
   "metadata": {},
   "outputs": [
    {
     "data": {
      "text/plain": [
       "4950"
      ]
     },
     "execution_count": 83,
     "metadata": {},
     "output_type": "execute_result"
    }
   ],
   "source": [
    "#do some more thoughtful dropping of na's \n",
    "#this time for empty text and title fields \n",
    "mergedClean[[\"title1\", \"title2\", \"text1\", \"text2\"]] = mergedClean[[\"title1\", \"title2\", \"text1\", \"text2\"]].fillna(\"\")\n",
    "\n",
    "mergedClean[\"titleText1\"] = mergedClean[\"title1\"] + mergedClean[\"text1\"]\n",
    "mergedClean[\"titleText2\"] = mergedClean[\"title2\"] + mergedClean[\"text2\"]\n",
    "\n",
    "#NOTE: we lose 29 records here\n",
    "#NOTE: we lose 10 records here according to the SemEval paper \n",
    "def splitLen(inStr): \n",
    "    return len(inStr.split())\n",
    "\n",
    "#we want to keep only the data for which we have over 2 tokens \n",
    "mergedClean = mergedClean[(mergedClean[\"titleText1\"].apply(len) > 0) & (mergedClean[\"titleText2\"].apply(len) > 0)]\n",
    "len(mergedClean)"
   ]
  },
  {
   "cell_type": "code",
   "execution_count": 84,
   "metadata": {},
   "outputs": [],
   "source": [
    "mergedClean = mergedClean.drop(columns=[\"titleText1\", \"titleText2\"])"
   ]
  },
  {
   "cell_type": "code",
   "execution_count": 114,
   "metadata": {},
   "outputs": [],
   "source": [
    "#get the articles which were removed in a dataframe \n",
    "#looks like 14 were removed in cleaning\n",
    "removed = list(set(merged[\"pair_id\"]) - set(mergedClean[\"pair_id\"]))\n",
    "removedDf = merged[merged[\"pair_id\"].isin(removed)]"
   ]
  },
  {
   "cell_type": "code",
   "execution_count": 117,
   "metadata": {},
   "outputs": [],
   "source": [
    "shortRemoved = removedDf[[\"pair_id\", \"id1\", \"id2\", \"title1\", \"text1\", \"title2\", \"text2\"]]\n",
    "removed1 = shortRemoved[[\"id1\", \"title1\", \"text1\"]]\n",
    "ids1 = list(removed1.loc[removed1[\"text1\"].isna(), \"id1\"])\n",
    "\n",
    "removed2 = shortRemoved[[\"id2\", \"title2\", \"text2\"]]\n",
    "removed2\n",
    "ids2 = list(removed2.loc[removed2[\"text2\"].isna(), \"id2\"])"
   ]
  },
  {
   "cell_type": "code",
   "execution_count": 119,
   "metadata": {},
   "outputs": [],
   "source": [
    "#send data from all languages \n",
    "#write to file \n",
    "mergedClean.to_csv(\"/shared/3/projects/newsDiffusion/data/processed/allTrainData.tsv\", sep=\"\\t\")"
   ]
  },
  {
   "cell_type": "code",
   "execution_count": 123,
   "metadata": {},
   "outputs": [],
   "source": [
    "noTextId = \"1514227906\""
   ]
  },
  {
   "cell_type": "code",
   "execution_count": 125,
   "metadata": {},
   "outputs": [],
   "source": [
    "allProblemIds = ids1 + ids2 + [noTextId]"
   ]
  },
  {
   "cell_type": "code",
   "execution_count": 64,
   "metadata": {},
   "outputs": [],
   "source": [
    "#we don't lose any en-en pairs during cleaning!\n",
    "mergedCleanEn = mergedClean[(mergedClean[\"url1_lang\"] == \"en\") & (mergedClean[\"url2_lang\"] == \"en\")]\n",
    "len(mergedCleanEn)"
   ]
  },
  {
   "cell_type": "code",
   "execution_count": 66,
   "metadata": {},
   "outputs": [],
   "source": [
    "#write to file \n",
    "mergedCleanEn.to_csv(\"/shared/3/projects/newsDiffusion/data/processed/enTrainData.tsv\", sep=\"\\t\")"
   ]
  }
 ],
 "metadata": {
  "kernelspec": {
   "display_name": "Python 3",
   "language": "python",
   "name": "python3"
  },
  "language_info": {
   "codemirror_mode": {
    "name": "ipython",
    "version": 3
   },
   "file_extension": ".py",
   "mimetype": "text/x-python",
   "name": "python",
   "nbconvert_exporter": "python",
   "pygments_lexer": "ipython3",
   "version": "3.8.5"
  }
 },
 "nbformat": 4,
 "nbformat_minor": 4
}
