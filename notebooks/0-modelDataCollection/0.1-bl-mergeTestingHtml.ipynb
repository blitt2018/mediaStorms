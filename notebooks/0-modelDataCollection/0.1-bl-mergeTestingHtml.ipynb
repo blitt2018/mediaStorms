{
 "cells": [
  {
   "cell_type": "code",
   "execution_count": null,
   "metadata": {},
   "outputs": [],
   "source": [
    "\"\"\"\n",
    "this notebook merges the test dataset ground truth labels with their corresponding news article texts. \n",
    "Cleaning and filtering is also performed to remove empty or exceptionally short articles \n",
    "\n",
    "task website: \n",
    "https://competitions.codalab.org/competitions/33835#learn_the_details-timetable\n",
    "\"\"\""
   ]
  },
  {
   "cell_type": "code",
   "execution_count": 2,
   "metadata": {},
   "outputs": [],
   "source": [
    "import transformers\n",
    "import pandas as pd\n",
    "from tqdm import tqdm \n",
    "import json\n",
    "import os"
   ]
  },
  {
   "cell_type": "code",
   "execution_count": 2,
   "metadata": {},
   "outputs": [
    {
     "name": "stderr",
     "output_type": "stream",
     "text": [
      "100%|██████████| 100/100 [00:43<00:00,  2.32it/s]\n"
     ]
    }
   ],
   "source": [
    "outerFolder = \"/shared/3/projects/newsDiffusion/data/raw/test\"\n",
    "\n",
    "dfList = []\n",
    "for folderNum in tqdm(os.listdir(outerFolder)): \n",
    "    innerFolder = outerFolder + \"/\" + folderNum \n",
    "    for innerFileName in os.listdir(innerFolder): \n",
    "        innerPathName = outerFolder + \"/\" + folderNum + \"/\" + innerFileName\n",
    "        if \"json\" in innerPathName: \n",
    "            with open(innerPathName, \"r\") as f: \n",
    "                data = json.loads(f.read())\n",
    "            df = pd.json_normalize(data)\n",
    "            df[\"id\"] = innerFileName.split(\".\")[0]\n",
    "            dfList.append(df)\n",
    "        "
   ]
  },
  {
   "cell_type": "code",
   "execution_count": 3,
   "metadata": {},
   "outputs": [],
   "source": [
    "fullDf = pd.concat(dfList).reset_index(drop=True)\n",
    "leanDf = fullDf[[\"id\", \"title\", \"url\", \"source_url\", \"text\"]]"
   ]
  },
  {
   "cell_type": "code",
   "execution_count": 47,
   "metadata": {},
   "outputs": [
    {
     "name": "stdout",
     "output_type": "stream",
     "text": [
      "(4902, 14)\n"
     ]
    },
    {
     "data": {
      "text/html": [
       "<div>\n",
       "<style scoped>\n",
       "    .dataframe tbody tr th:only-of-type {\n",
       "        vertical-align: middle;\n",
       "    }\n",
       "\n",
       "    .dataframe tbody tr th {\n",
       "        vertical-align: top;\n",
       "    }\n",
       "\n",
       "    .dataframe thead th {\n",
       "        text-align: right;\n",
       "    }\n",
       "</style>\n",
       "<table border=\"1\" class=\"dataframe\">\n",
       "  <thead>\n",
       "    <tr style=\"text-align: right;\">\n",
       "      <th></th>\n",
       "      <th>url1_lang</th>\n",
       "      <th>url2_lang</th>\n",
       "      <th>pair_id</th>\n",
       "      <th>link1</th>\n",
       "      <th>link2</th>\n",
       "      <th>ia_link1</th>\n",
       "      <th>ia_link2</th>\n",
       "      <th>GEO</th>\n",
       "      <th>ENT</th>\n",
       "      <th>TIME</th>\n",
       "      <th>NAR</th>\n",
       "      <th>Overall</th>\n",
       "      <th>STYLE</th>\n",
       "      <th>TONE</th>\n",
       "    </tr>\n",
       "  </thead>\n",
       "  <tbody>\n",
       "    <tr>\n",
       "      <th>0</th>\n",
       "      <td>en</td>\n",
       "      <td>en</td>\n",
       "      <td>1484189203_1484121193</td>\n",
       "      <td>https://wsvn.com/news/local/broward/police-2-m...</td>\n",
       "      <td>https://wsvn.com/news/local/no-swim-advisory-l...</td>\n",
       "      <td>https://web.archive.org/web/https://wsvn.com/n...</td>\n",
       "      <td>https://web.archive.org/web/https://wsvn.com/n...</td>\n",
       "      <td>1.5</td>\n",
       "      <td>4.0</td>\n",
       "      <td>2.0</td>\n",
       "      <td>4.0</td>\n",
       "      <td>3.5</td>\n",
       "      <td>1.0</td>\n",
       "      <td>1.500000</td>\n",
       "    </tr>\n",
       "    <tr>\n",
       "      <th>1</th>\n",
       "      <td>en</td>\n",
       "      <td>en</td>\n",
       "      <td>1484011097_1484011106</td>\n",
       "      <td>https://www.zdnet.com/article/autoclerk-databa...</td>\n",
       "      <td>https://securityboulevard.com/2019/10/best-wes...</td>\n",
       "      <td>https://web.archive.org/web/https://www.zdnet....</td>\n",
       "      <td>https://web.archive.org/web/https://securitybo...</td>\n",
       "      <td>1.0</td>\n",
       "      <td>2.0</td>\n",
       "      <td>1.0</td>\n",
       "      <td>1.0</td>\n",
       "      <td>1.0</td>\n",
       "      <td>3.5</td>\n",
       "      <td>2.500000</td>\n",
       "    </tr>\n",
       "    <tr>\n",
       "      <th>2</th>\n",
       "      <td>en</td>\n",
       "      <td>en</td>\n",
       "      <td>1484039488_1484261803</td>\n",
       "      <td>https://www.presstelegram.com/2019/12/31/ducks...</td>\n",
       "      <td>https://boingboing.net/2020/01/01/woody-guthri...</td>\n",
       "      <td>https://web.archive.org/web/https://www.presst...</td>\n",
       "      <td>https://web.archive.org/web/https://boingboing...</td>\n",
       "      <td>5.0</td>\n",
       "      <td>4.0</td>\n",
       "      <td>3.0</td>\n",
       "      <td>4.0</td>\n",
       "      <td>4.0</td>\n",
       "      <td>4.0</td>\n",
       "      <td>3.666667</td>\n",
       "    </tr>\n",
       "  </tbody>\n",
       "</table>\n",
       "</div>"
      ],
      "text/plain": [
       "  url1_lang url2_lang                pair_id  \\\n",
       "0        en        en  1484189203_1484121193   \n",
       "1        en        en  1484011097_1484011106   \n",
       "2        en        en  1484039488_1484261803   \n",
       "\n",
       "                                               link1  \\\n",
       "0  https://wsvn.com/news/local/broward/police-2-m...   \n",
       "1  https://www.zdnet.com/article/autoclerk-databa...   \n",
       "2  https://www.presstelegram.com/2019/12/31/ducks...   \n",
       "\n",
       "                                               link2  \\\n",
       "0  https://wsvn.com/news/local/no-swim-advisory-l...   \n",
       "1  https://securityboulevard.com/2019/10/best-wes...   \n",
       "2  https://boingboing.net/2020/01/01/woody-guthri...   \n",
       "\n",
       "                                            ia_link1  \\\n",
       "0  https://web.archive.org/web/https://wsvn.com/n...   \n",
       "1  https://web.archive.org/web/https://www.zdnet....   \n",
       "2  https://web.archive.org/web/https://www.presst...   \n",
       "\n",
       "                                            ia_link2  GEO  ENT  TIME  NAR  \\\n",
       "0  https://web.archive.org/web/https://wsvn.com/n...  1.5  4.0   2.0  4.0   \n",
       "1  https://web.archive.org/web/https://securitybo...  1.0  2.0   1.0  1.0   \n",
       "2  https://web.archive.org/web/https://boingboing...  5.0  4.0   3.0  4.0   \n",
       "\n",
       "   Overall  STYLE      TONE  \n",
       "0      3.5    1.0  1.500000  \n",
       "1      1.0    3.5  2.500000  \n",
       "2      4.0    4.0  3.666667  "
      ]
     },
     "execution_count": 47,
     "metadata": {},
     "output_type": "execute_result"
    }
   ],
   "source": [
    "groundTruths = pd.read_csv(\"/shared/3/projects/benlitterer/agendaSetting/final_evaluation_data.csv\")\n",
    "print(groundTruths.shape)"
   ]
  },
  {
   "cell_type": "code",
   "execution_count": 57,
   "metadata": {},
   "outputs": [
    {
     "data": {
      "text/plain": [
       "(236, 16)"
      ]
     },
     "execution_count": 57,
     "metadata": {},
     "output_type": "execute_result"
    }
   ],
   "source": [
    "#get just the english pairs \n",
    "groundTruths.loc[(groundTruths[\"url1_lang\"] == \"en\") & (groundTruths[\"url2_lang\"] == \"en\")].shape"
   ]
  },
  {
   "cell_type": "code",
   "execution_count": 85,
   "metadata": {},
   "outputs": [],
   "source": [
    "def splitIds(inStr): \n",
    "    return inStr.split(\"_\")\n",
    "#groundTruths[[\"id1\", \"id2\"]] = groundTruths[\"pair_id\"].apply(splitIds)\n",
    "groundTruths[\"id1\"] = [item[0] for item in groundTruths[\"pair_id\"].apply(splitIds)]\n",
    "groundTruths[\"id2\"] = [item[1] for item in groundTruths[\"pair_id\"].apply(splitIds)]"
   ]
  },
  {
   "cell_type": "code",
   "execution_count": 87,
   "metadata": {},
   "outputs": [],
   "source": [
    "leanDf = leanDf[[\"id\", \"text\", \"title\"]]"
   ]
  },
  {
   "cell_type": "code",
   "execution_count": 88,
   "metadata": {},
   "outputs": [],
   "source": [
    "#merge text for the first id, id1\n",
    "leanDf1 = leanDf.rename(columns = {\"id\":\"id1\",\"text\":\"text1\", \"title\":\"title1\"})\n",
    "firstMerge = pd.merge(groundTruths, leanDf1, how=\"left\", on=\"id1\")\n",
    "\n",
    "leanDf2 = leanDf.rename(columns = {\"id\":\"id2\",\"text\":\"text2\", \"title\":\"title2\"})\n",
    "merged = pd.merge(firstMerge, leanDf2, how=\"left\", on=\"id2\")\n",
    "merged.head(3)"
   ]
  },
  {
   "cell_type": "code",
   "execution_count": 100,
   "metadata": {},
   "outputs": [],
   "source": [
    "#NOTE: when we do inner joins, we go down to only 4901 articles above meaning that we \n",
    "#don't have the data for one article "
   ]
  },
  {
   "cell_type": "code",
   "execution_count": 103,
   "metadata": {},
   "outputs": [],
   "source": [
    "mergedClean = merged.dropna(subset=[\"title1\", \"text1\"], how=\"all\").dropna(subset=[\"title2\", \"text2\"], how=\"all\")"
   ]
  },
  {
   "cell_type": "code",
   "execution_count": 108,
   "metadata": {},
   "outputs": [],
   "source": [
    "#get removed article pairs \n",
    "removed = list(set(merged[\"pair_id\"]) - set(mergedClean[\"pair_id\"]))\n",
    "removedDf = merged[merged[\"pair_id\"].isin(removed)]"
   ]
  },
  {
   "cell_type": "code",
   "execution_count": 110,
   "metadata": {},
   "outputs": [
    {
     "data": {
      "text/plain": [
       "['1568361410']"
      ]
     },
     "execution_count": 110,
     "metadata": {},
     "output_type": "execute_result"
    }
   ],
   "source": [
    "list(removedDf[\"id2\"])"
   ]
  },
  {
   "cell_type": "code",
   "execution_count": 105,
   "metadata": {},
   "outputs": [
    {
     "data": {
      "text/plain": [
       "2659    https://www.onet.pl/?utm_source=_viasg_fakt&ut...\n",
       "Name: link2, dtype: object"
      ]
     },
     "execution_count": 105,
     "metadata": {},
     "output_type": "execute_result"
    }
   ],
   "source": [
    "#article that we lost: completely empty....\n",
    "#for some reason we only have empty html of this file (1568361410)\n",
    "merged.loc[merged[\"pair_id\"] == \"1525127987_1568361410\", \"link2\"]"
   ]
  },
  {
   "cell_type": "code",
   "execution_count": 106,
   "metadata": {},
   "outputs": [
    {
     "data": {
      "text/plain": [
       "4901"
      ]
     },
     "execution_count": 106,
     "metadata": {},
     "output_type": "execute_result"
    }
   ],
   "source": [
    "#do some more thoughtful dropping of na's \n",
    "#this time for empty text and title fields \n",
    "mergedClean[[\"title1\", \"title2\", \"text1\", \"text2\"]] = mergedClean[[\"title1\", \"title2\", \"text1\", \"text2\"]].fillna(\"\")\n",
    "\n",
    "mergedClean[\"titleText1\"] = mergedClean[\"title1\"] + mergedClean[\"text1\"]\n",
    "mergedClean[\"titleText2\"] = mergedClean[\"title2\"] + mergedClean[\"text2\"]\n",
    "\n",
    "#NOTE: we lose 29 records here\n",
    "#NOTE: we lose 10 records here according to the SemEval paper \n",
    "def splitLen(inStr): \n",
    "    return len(inStr.split())\n",
    "\n",
    "#we want to keep only the data for which we have over 2 tokens \n",
    "mergedClean = mergedClean[(mergedClean[\"titleText1\"].apply(len) > 0) & (mergedClean[\"titleText2\"].apply(len) > 0)]\n",
    "len(mergedClean)"
   ]
  },
  {
   "cell_type": "code",
   "execution_count": 107,
   "metadata": {},
   "outputs": [
    {
     "data": {
      "text/plain": [
       "(236, 22)"
      ]
     },
     "execution_count": 107,
     "metadata": {},
     "output_type": "execute_result"
    }
   ],
   "source": [
    "#NOTE: here we keep all 236 records \n",
    "#write to file \n",
    "mergedEn = mergedClean[(mergedClean[\"url1_lang\"] == \"en\") & (mergedClean[\"url2_lang\"] == \"en\")]\n",
    "mergedEn.shape"
   ]
  },
  {
   "cell_type": "code",
   "execution_count": 73,
   "metadata": {},
   "outputs": [],
   "source": [
    "mergedEn.to_csv(\"/shared/3/projects/newsDiffusion/data/processed/enTestData.tsv\", sep=\"\\t\")"
   ]
  },
  {
   "cell_type": "code",
   "execution_count": null,
   "metadata": {},
   "outputs": [],
   "source": []
  }
 ],
 "metadata": {
  "kernelspec": {
   "display_name": "Python 3",
   "language": "python",
   "name": "python3"
  },
  "language_info": {
   "codemirror_mode": {
    "name": "ipython",
    "version": 3
   },
   "file_extension": ".py",
   "mimetype": "text/x-python",
   "name": "python",
   "nbconvert_exporter": "python",
   "pygments_lexer": "ipython3",
   "version": "3.8.5"
  }
 },
 "nbformat": 4,
 "nbformat_minor": 4
}
