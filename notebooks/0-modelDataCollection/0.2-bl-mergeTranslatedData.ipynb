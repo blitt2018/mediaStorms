{
 "cells": [
  {
   "cell_type": "code",
   "execution_count": null,
   "metadata": {},
   "outputs": [],
   "source": [
    "\"\"\"\n",
    "This notebook merges data from all languages translated to english \n",
    "with the original train dataset for SemEval news article similarity task\n",
    "\n",
    "task website: \n",
    "https://competitions.codalab.org/competitions/33835#learn_the_details-timetable\n",
    "\"\"\""
   ]
  },
  {
   "cell_type": "code",
   "execution_count": 1,
   "metadata": {},
   "outputs": [],
   "source": [
    "import pandas as pd \n",
    "import matplotlib.pyplot as plt"
   ]
  },
  {
   "cell_type": "code",
   "execution_count": 2,
   "metadata": {},
   "outputs": [],
   "source": [
    "rawTranslated = pd.read_csv(\"/shared/3/projects/newsDiffusion/data/processed/allTrainDataTranslated.tsv\", sep=\"\\t\")"
   ]
  },
  {
   "cell_type": "code",
   "execution_count": 3,
   "metadata": {},
   "outputs": [
    {
     "data": {
      "text/plain": [
       "4950"
      ]
     },
     "execution_count": 3,
     "metadata": {},
     "output_type": "execute_result"
    }
   ],
   "source": [
    "len(rawTranslated)"
   ]
  },
  {
   "cell_type": "code",
   "execution_count": 4,
   "metadata": {},
   "outputs": [],
   "source": [
    "trainData = pd.read_csv(\"/shared/3/projects/newsDiffusion/data/processed/allTrainData.tsv\", sep=\"\\t\")"
   ]
  },
  {
   "cell_type": "code",
   "execution_count": 5,
   "metadata": {},
   "outputs": [
    {
     "data": {
      "text/plain": [
       "Index(['Unnamed: 0', 'url1_lang', 'url2_lang', 'pair_id', 'link1', 'link2',\n",
       "       'ia_link1', 'ia_link2', 'Geography', 'Entities', 'Time', 'Narrative',\n",
       "       'Overall', 'Style', 'Tone', 'id1', 'id2', 'text1', 'title1', 'text2',\n",
       "       'title2'],\n",
       "      dtype='object')"
      ]
     },
     "execution_count": 5,
     "metadata": {},
     "output_type": "execute_result"
    }
   ],
   "source": [
    "trainData.columns"
   ]
  },
  {
   "cell_type": "code",
   "execution_count": 6,
   "metadata": {},
   "outputs": [],
   "source": [
    "rawTranslated = rawTranslated.drop(columns=[\"title1\", \"title2\", \"text1\", \"text2\"]).rename(columns={\"text1En\":\"text1\", \"title1En\":\"title1\", \"text2En\":\"text2\", \"title2En\":\"title2\"})"
   ]
  },
  {
   "cell_type": "code",
   "execution_count": 7,
   "metadata": {},
   "outputs": [
    {
     "data": {
      "text/plain": [
       "Index(['Unnamed: 0', 'url1_lang', 'url2_lang', 'pair_id', 'link1', 'link2',\n",
       "       'ia_link1', 'ia_link2', 'Geography', 'Entities', 'Time', 'Narrative',\n",
       "       'Overall', 'Style', 'Tone', 'id1', 'id2', 'text1', 'title1', 'text2',\n",
       "       'title2'],\n",
       "      dtype='object')"
      ]
     },
     "execution_count": 7,
     "metadata": {},
     "output_type": "execute_result"
    }
   ],
   "source": [
    "trainData.columns"
   ]
  },
  {
   "cell_type": "code",
   "execution_count": 8,
   "metadata": {},
   "outputs": [
    {
     "data": {
      "text/html": [
       "<div>\n",
       "<style scoped>\n",
       "    .dataframe tbody tr th:only-of-type {\n",
       "        vertical-align: middle;\n",
       "    }\n",
       "\n",
       "    .dataframe tbody tr th {\n",
       "        vertical-align: top;\n",
       "    }\n",
       "\n",
       "    .dataframe thead th {\n",
       "        text-align: right;\n",
       "    }\n",
       "</style>\n",
       "<table border=\"1\" class=\"dataframe\">\n",
       "  <thead>\n",
       "    <tr style=\"text-align: right;\">\n",
       "      <th></th>\n",
       "      <th>a</th>\n",
       "      <th>b</th>\n",
       "    </tr>\n",
       "  </thead>\n",
       "  <tbody>\n",
       "    <tr>\n",
       "      <th>0</th>\n",
       "      <td>1</td>\n",
       "      <td>2</td>\n",
       "    </tr>\n",
       "    <tr>\n",
       "      <th>1</th>\n",
       "      <td>2</td>\n",
       "      <td>4</td>\n",
       "    </tr>\n",
       "    <tr>\n",
       "      <th>2</th>\n",
       "      <td>3</td>\n",
       "      <td>6</td>\n",
       "    </tr>\n",
       "    <tr>\n",
       "      <th>0</th>\n",
       "      <td>3</td>\n",
       "      <td>9</td>\n",
       "    </tr>\n",
       "    <tr>\n",
       "      <th>1</th>\n",
       "      <td>7</td>\n",
       "      <td>8</td>\n",
       "    </tr>\n",
       "    <tr>\n",
       "      <th>2</th>\n",
       "      <td>9</td>\n",
       "      <td>5</td>\n",
       "    </tr>\n",
       "  </tbody>\n",
       "</table>\n",
       "</div>"
      ],
      "text/plain": [
       "   a  b\n",
       "0  1  2\n",
       "1  2  4\n",
       "2  3  6\n",
       "0  3  9\n",
       "1  7  8\n",
       "2  9  5"
      ]
     },
     "execution_count": 8,
     "metadata": {},
     "output_type": "execute_result"
    }
   ],
   "source": [
    "#checking that concat with different column orderings doesn't \n",
    "#mess anything up \n",
    "d1 = pd.DataFrame({\"a\":[1, 2, 3], \"b\":[2, 4, 6]})\n",
    "d2 = pd.DataFrame({\"b\":[9, 8, 5], \"a\":[3, 7, 9]})\n",
    "pd.concat([d1, d2])"
   ]
  },
  {
   "cell_type": "code",
   "execution_count": 9,
   "metadata": {},
   "outputs": [],
   "source": [
    "#now we want to concat original en-en pairs with translated data\n",
    "\n",
    "#en-en pairs from original data \n",
    "trainEn = trainData[(trainData[\"url1_lang\"] == \"en\") & (trainData[\"url2_lang\"] == \"en\")]\n",
    "\n",
    "#non en-en pairs from translated data\n",
    "translated = rawTranslated[(rawTranslated[\"url1_lang\"] != \"en\") | (rawTranslated[\"url2_lang\"] != \"en\")]\n",
    "\n",
    "mergedData = pd.concat([trainEn, translated])"
   ]
  },
  {
   "cell_type": "code",
   "execution_count": 13,
   "metadata": {},
   "outputs": [
    {
     "data": {
      "text/plain": [
       "(0, 7000)"
      ]
     },
     "execution_count": 13,
     "metadata": {},
     "output_type": "execute_result"
    },
    {
     "data": {
      "image/png": "[encoded data removed]",
      "text/plain": [
       "<Figure size 432x288 with 1 Axes>"
      ]
     },
     "metadata": {
      "needs_background": "light"
     },
     "output_type": "display_data"
    }
   ],
   "source": [
    "#sanity check concerning article length \n",
    "plt.hist([len(str(item)) for item in mergedData[\"text1\"]], bins=400)\n",
    "plt.xlim([0, 7000])\n",
    "\n",
    "plt.hist([len(str(item)) for item in mergedData[\"text2\"]], bins=400)\n",
    "plt.xlim([0, 7000])"
   ]
  },
  {
   "cell_type": "markdown",
   "metadata": {},
   "source": [
    "clean things up a bit "
   ]
  },
  {
   "cell_type": "code",
   "execution_count": 14,
   "metadata": {},
   "outputs": [],
   "source": [
    "#replace values that didn't translate properly \n",
    "mergedData[[\"text1\", \"title1\", \"text2\", \"title2\"]] = mergedData[[\"text1\", \"title1\", \"text2\", \"title2\"]].replace(\"#VALUE!\", \"\").fillna(\"\")\n",
    "\n",
    "#generate a column that will show us if we have any text attached to an article \n",
    "mergedData[\"titleText1\"] = mergedData[\"title1\"] + mergedData[\"text1\"]\n",
    "mergedData[\"titleText2\"] = mergedData[\"title2\"] + mergedData[\"text2\"]"
   ]
  },
  {
   "cell_type": "code",
   "execution_count": 16,
   "metadata": {},
   "outputs": [
    {
     "data": {
      "text/plain": [
       "0"
      ]
     },
     "execution_count": 16,
     "metadata": {},
     "output_type": "execute_result"
    }
   ],
   "source": [
    "def numToks(inStr): \n",
    "    return len(inStr.split())\n",
    "\n",
    "#sanity check: should be zero \n",
    "#len(mergedData) - len(mergedData[(mergedData[\"titleText1\"].apply(len) > 0) & (mergedData[\"titleText2\"].apply(len) > 0)]) "
   ]
  },
  {
   "cell_type": "code",
   "execution_count": 17,
   "metadata": {},
   "outputs": [
    {
     "data": {
      "text/plain": [
       "4950"
      ]
     },
     "execution_count": 17,
     "metadata": {},
     "output_type": "execute_result"
    }
   ],
   "source": [
    "#keep only the data that were \n",
    "cleanedTranslated = mergedData[(mergedData[\"titleText1\"].apply(len) > 0) & (mergedData[\"titleText2\"].apply(len) > 0)]\n",
    "len(cleanedTranslated)"
   ]
  },
  {
   "cell_type": "markdown",
   "metadata": {},
   "source": [
    "checking language distribution mostly out of curiousity "
   ]
  },
  {
   "cell_type": "code",
   "execution_count": 21,
   "metadata": {},
   "outputs": [
    {
     "data": {
      "text/plain": [
       "url1_lang  url2_lang\n",
       "en         en           1791\n",
       "de         de            857\n",
       "           en            576\n",
       "es         es            567\n",
       "tr         tr            464\n",
       "pl         pl            349\n",
       "ar         ar            274\n",
       "fr         fr             72\n",
       "dtype: int64"
      ]
     },
     "execution_count": 21,
     "metadata": {},
     "output_type": "execute_result"
    }
   ],
   "source": [
    "cleanedTranslated[[\"url1_lang\", \"url2_lang\"]].value_counts()"
   ]
  },
  {
   "cell_type": "code",
   "execution_count": null,
   "metadata": {},
   "outputs": [],
   "source": [
    "#write cleaned version of file "
   ]
  },
  {
   "cell_type": "code",
   "execution_count": 22,
   "metadata": {},
   "outputs": [],
   "source": [
    "cleanedTranslated.to_csv(\"/shared/3/projects/newsDiffusion/data/processed/translatedCleaned.tsv\", sep=\"\\t\")"
   ]
  },
  {
   "cell_type": "code",
   "execution_count": null,
   "metadata": {},
   "outputs": [],
   "source": []
  }
 ],
 "metadata": {
  "kernelspec": {
   "display_name": "Python 3",
   "language": "python",
   "name": "python3"
  },
  "language_info": {
   "codemirror_mode": {
    "name": "ipython",
    "version": 3
   },
   "file_extension": ".py",
   "mimetype": "text/x-python",
   "name": "python",
   "nbconvert_exporter": "python",
   "pygments_lexer": "ipython3",
   "version": "3.8.5"
  }
 },
 "nbformat": 4,
 "nbformat_minor": 5
}
