{
 "cells": [
  {
   "cell_type": "code",
   "execution_count": 15,
   "id": "c2ec0a6f",
   "metadata": {},
   "outputs": [],
   "source": [
    "import pandas as pd"
   ]
  },
  {
   "cell_type": "code",
   "execution_count": 16,
   "id": "c5cf73a7",
   "metadata": {},
   "outputs": [
    {
     "name": "stdout",
     "output_type": "stream",
     "text": [
      "original train len: 4964\n"
     ]
    }
   ],
   "source": [
    "#checking to see where data goes missing \n",
    "#NOTE: seems like we have more training data than anticipated \n",
    "#NOTE: HFL reports 4,942 + 22 (missing) = 4,964, actual paper reports 4,918\n",
    "#WueDevils report 4,964 total\n",
    "ogTrain = pd.read_csv(\"/shared/3/projects/benlitterer/agendaSetting/trainingDataV2.csv\")\n",
    "print(\"original train len: \" + str(len(ogTrain)))"
   ]
  },
  {
   "cell_type": "code",
   "execution_count": 17,
   "id": "f6ee1af0",
   "metadata": {},
   "outputs": [
    {
     "name": "stdout",
     "output_type": "stream",
     "text": [
      "original en. train len: 1800\n"
     ]
    }
   ],
   "source": [
    "ogTrainEn = ogTrain[(ogTrain[\"url1_lang\"] == \"en\") & (ogTrain[\"url2_lang\"] == \"en\")]\n",
    "print(\"original en. train len: \" + str(len(ogTrainEn)))"
   ]
  },
  {
   "cell_type": "code",
   "execution_count": 18,
   "id": "46c14a81",
   "metadata": {},
   "outputs": [
    {
     "name": "stdout",
     "output_type": "stream",
     "text": [
      "original test len: 4902\n"
     ]
    }
   ],
   "source": [
    "#NOTE: Same as what actual paper reports\n",
    "#NOTE: HFL Reports 4,953\n",
    "ogTest =  pd.read_csv(\"/shared/3/projects/benlitterer/agendaSetting/final_evaluation_data.csv\")\n",
    "print(\"original test len: \" + str(len(ogTest)))"
   ]
  },
  {
   "cell_type": "code",
   "execution_count": 19,
   "id": "d1eb31a0",
   "metadata": {},
   "outputs": [
    {
     "name": "stdout",
     "output_type": "stream",
     "text": [
      "original en. test len: 236\n"
     ]
    }
   ],
   "source": [
    "ogTestEn = ogTest[(ogTest[\"url1_lang\"] == \"en\") & (ogTest[\"url2_lang\"] == \"en\")]\n",
    "print(\"original en. test len: \" + str(len(ogTestEn)))"
   ]
  },
  {
   "cell_type": "code",
   "execution_count": 20,
   "id": "eeb7c2ae",
   "metadata": {},
   "outputs": [
    {
     "name": "stdout",
     "output_type": "stream",
     "text": [
      "merged en. train len: 1790\n"
     ]
    }
   ],
   "source": [
    "#check after merging \n",
    "mergedEnTrain = pd.read_csv(\"/shared/3/projects/benlitterer/localNews/NetworkMVP/enTrainData.tsv\", sep=\"\\t\")\n",
    "print(\"merged en. train len: \" + str(len(mergedEnTrain)))"
   ]
  },
  {
   "cell_type": "code",
   "execution_count": 21,
   "id": "356a67ff",
   "metadata": {},
   "outputs": [
    {
     "name": "stdout",
     "output_type": "stream",
     "text": [
      "merged train len: 4935\n"
     ]
    }
   ],
   "source": [
    "allTrain = pd.read_csv(\"/shared/3/projects/benlitterer/localNews/NetworkMVP/allTrainData.tsv\", sep=\"\\t\")\n",
    "print(\"merged train len: \" + str(len(allTrain)))"
   ]
  },
  {
   "cell_type": "code",
   "execution_count": 23,
   "id": "907868fa",
   "metadata": {},
   "outputs": [
    {
     "name": "stdout",
     "output_type": "stream",
     "text": [
      "merged en. test len: 235\n"
     ]
    }
   ],
   "source": [
    "#check after merging \n",
    "mergedEnTrain = pd.read_csv(\"/shared/3/projects/newsDiffusion/data/processed/enTestData.tsv\", sep=\"\\t\")\n",
    "print(\"merged en. test len: \" + str(len(mergedEnTrain)))"
   ]
  },
  {
   "cell_type": "code",
   "execution_count": null,
   "id": "b388428e",
   "metadata": {},
   "outputs": [],
   "source": [
    "#everything lost so far is due to records not having both a title and a text body \n",
    "#TRAIN: \n",
    "# 29 lost total so far \n",
    "# 10 english lost so far \n",
    "#TEST: \n",
    "# 0 english lost so far "
   ]
  },
  {
   "cell_type": "code",
   "execution_count": 13,
   "id": "7d0c5ff0",
   "metadata": {},
   "outputs": [
    {
     "name": "stdout",
     "output_type": "stream",
     "text": [
      "translated train len: 4935\n"
     ]
    }
   ],
   "source": [
    "#check data after translation \n",
    "translated = pd.read_csv(\"/shared/3/projects/newsDiffusion/data/processed/allTrainDataTranslated.tsv\", sep=\"\\t\")\n",
    "print(\"translated train len: \" + str(len(translated)))"
   ]
  },
  {
   "cell_type": "code",
   "execution_count": 14,
   "id": "f7d65661",
   "metadata": {},
   "outputs": [
    {
     "name": "stdout",
     "output_type": "stream",
     "text": [
      "translated en. train len: 1790\n"
     ]
    }
   ],
   "source": [
    "translatedEn = translated[(translated[\"url1_lang\"] == \"en\") & (translated[\"url2_lang\"] == \"en\")]\n",
    "print(\"translated en. train len: \" + str(len(translatedEn)))"
   ]
  },
  {
   "cell_type": "code",
   "execution_count": null,
   "id": "4f66f69e",
   "metadata": {},
   "outputs": [],
   "source": [
    "#none lost just from translating "
   ]
  },
  {
   "cell_type": "code",
   "execution_count": 34,
   "id": "a95b06b6",
   "metadata": {},
   "outputs": [
    {
     "data": {
      "text/plain": [
       "4876"
      ]
     },
     "execution_count": 34,
     "metadata": {},
     "output_type": "execute_result"
    }
   ],
   "source": [
    "translatedCleaned = pd.read_csv(\"/shared/3/projects/benlitterer/localNews/NetworkMVP/translatedCleaned.tsv\", sep=\"\\t\")\n",
    "len(translatedCleaned)"
   ]
  },
  {
   "cell_type": "code",
   "execution_count": null,
   "id": "15ac263c",
   "metadata": {},
   "outputs": [],
   "source": [
    "#NOTE: it seems that google translate simply didn't work for a decent chunk of the data\n",
    "#especially language code \"de\" I'm noticing "
   ]
  },
  {
   "cell_type": "code",
   "execution_count": 35,
   "id": "5bb0c761",
   "metadata": {},
   "outputs": [
    {
     "data": {
      "text/plain": [
       "1767"
      ]
     },
     "execution_count": 35,
     "metadata": {},
     "output_type": "execute_result"
    }
   ],
   "source": [
    "len(translatedCleaned[(translatedCleaned[\"url1_lang\"] == \"en\") & (translatedCleaned[\"url2_lang\"] == \"en\")])"
   ]
  },
  {
   "cell_type": "code",
   "execution_count": 46,
   "id": "67e344a1",
   "metadata": {},
   "outputs": [
    {
     "data": {
      "text/plain": [
       "['A 0\\n\\nA +2\\n\\nA +4\\n\\nA +6\\n\\nThe subject who is truly loyal to the Chief Magistrate will neither advise nor submit to arbitrary measures.']"
      ]
     },
     "execution_count": 46,
     "metadata": {},
     "output_type": "execute_result"
    }
   ],
   "source": [
    "list(allTrain.loc[allTrain[\"pair_id\"] == \"1484396075_1483794933\", \"text1\"])"
   ]
  },
  {
   "cell_type": "code",
   "execution_count": 59,
   "id": "f9f787c8",
   "metadata": {},
   "outputs": [
    {
     "data": {
      "text/plain": [
       "'\\n\\nGeorge Mason National Memorial\\n\\n(Image by Tim Evanson) Details DMCA\\n\\n\\n\\nThis government will set ou'"
      ]
     },
     "execution_count": 59,
     "metadata": {},
     "output_type": "execute_result"
    }
   ],
   "source": [
    "list(allTrain.loc[allTrain[\"pair_id\"] == \"1484188406_1484268924\", \"text1\"])[0][:100]"
   ]
  },
  {
   "cell_type": "code",
   "execution_count": null,
   "id": "4a1d06b8",
   "metadata": {},
   "outputs": [],
   "source": [
    "#examples of strange articles that don't show up with text\n",
    "#https://web.archive.org/web/20200408051653/https://whiznews.com/2020/01/01/echl-at-a-glance-272/\n",
    "#https://www.opednews.com/articles/The-Hong-Kong-Color-Revolu-by-Jeff-J-Brown-China_Color-Revolution_Fascist_Hong-Kong-191227-494.html\n",
    "\n",
    "#Looks like most of the missingness is coming from these sorts of things.. merging with title should help? "
   ]
  }
 ],
 "metadata": {
  "kernelspec": {
   "display_name": "Python 3",
   "language": "python",
   "name": "python3"
  },
  "language_info": {
   "codemirror_mode": {
    "name": "ipython",
    "version": 3
   },
   "file_extension": ".py",
   "mimetype": "text/x-python",
   "name": "python",
   "nbconvert_exporter": "python",
   "pygments_lexer": "ipython3",
   "version": "3.8.5"
  }
 },
 "nbformat": 4,
 "nbformat_minor": 5
}
