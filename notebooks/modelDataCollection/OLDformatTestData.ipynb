{
 "cells": [
  {
   "cell_type": "code",
   "execution_count": 1,
   "metadata": {},
   "outputs": [],
   "source": [
    "import transformers\n",
    "import pandas as pd\n",
    "import json\n",
    "import os"
   ]
  },
  {
   "cell_type": "code",
   "execution_count": 2,
   "metadata": {},
   "outputs": [],
   "source": [
    "outerFolder = \"/shared/3/projects/benlitterer/agendaSetting/testingHtml\"\n",
    "\n",
    "dfList = []\n",
    "for folderNum in os.listdir(outerFolder): \n",
    "    innerFolder = outerFolder + \"/\" + folderNum \n",
    "    for innerFileName in os.listdir(innerFolder): \n",
    "        innerPathName = outerFolder + \"/\" + folderNum + \"/\" + innerFileName\n",
    "        if \"json\" in innerPathName: \n",
    "            with open(innerPathName, \"r\") as f: \n",
    "                data = json.loads(f.read())\n",
    "            df = pd.json_normalize(data)\n",
    "            df[\"id\"] = innerFileName.split(\".\")[0]\n",
    "            dfList.append(df)\n",
    "        "
   ]
  },
  {
   "cell_type": "code",
   "execution_count": null,
   "metadata": {},
   "outputs": [],
   "source": [
    "fullDf = pd.concat(dfList).reset_index(drop=True)"
   ]
  },
  {
   "cell_type": "code",
   "execution_count": null,
   "metadata": {},
   "outputs": [],
   "source": [
    "leanDf = fullDf[[\"id\", \"title\", \"url\", \"source_url\", \"text\"]]"
   ]
  },
  {
   "cell_type": "code",
   "execution_count": null,
   "metadata": {},
   "outputs": [],
   "source": [
    "groundTruths = pd.read_csv(\"/shared/3/projects/benlitterer/agendaSetting/final_evaluation_data.csv\")\n",
    "print(groundTruths.shape)\n",
    "groundTruths.head(3)"
   ]
  },
  {
   "cell_type": "code",
   "execution_count": null,
   "metadata": {},
   "outputs": [],
   "source": [
    "#get just the english pairs \n",
    "groundTruths.loc[(groundTruths[\"url1_lang\"] == \"en\") & (groundTruths[\"url2_lang\"] == \"en\")].shape"
   ]
  },
  {
   "cell_type": "code",
   "execution_count": null,
   "metadata": {},
   "outputs": [],
   "source": [
    "def splitIds(inStr): \n",
    "    return inStr.split(\"_\")\n",
    "#groundTruths[[\"id1\", \"id2\"]] = groundTruths[\"pair_id\"].apply(splitIds)\n",
    "groundTruths[\"id1\"] = [item[0] for item in groundTruths[\"pair_id\"].apply(splitIds)]\n",
    "groundTruths[\"id2\"] = [item[1] for item in groundTruths[\"pair_id\"].apply(splitIds)]"
   ]
  },
  {
   "cell_type": "code",
   "execution_count": null,
   "metadata": {},
   "outputs": [],
   "source": [
    "#This used to work but stopped working potentially due to pandas version error? \n",
    "#groundTruths[[\"id1\", \"id2\"]] = groundTruths[\"pair_id\"].str.split(\"_\", expand=True)"
   ]
  },
  {
   "cell_type": "code",
   "execution_count": null,
   "metadata": {},
   "outputs": [],
   "source": [
    "leanDf = leanDf[[\"id\", \"text\"]]"
   ]
  },
  {
   "cell_type": "code",
   "execution_count": null,
   "metadata": {},
   "outputs": [],
   "source": [
    "#merge text for the first id, id1\n",
    "leanDf1 = leanDf.rename(columns = {\"id\":\"id1\",\"text\":\"text1\"})\n",
    "firstMerge = pd.merge(groundTruths, leanDf1, how=\"left\", on=\"id1\")\n",
    "firstMerge.head(3)"
   ]
  },
  {
   "cell_type": "code",
   "execution_count": null,
   "metadata": {},
   "outputs": [],
   "source": [
    "leanDf2 = leanDf.rename(columns = {\"id\":\"id2\",\"text\":\"text2\"})\n",
    "merged = pd.merge(firstMerge, leanDf2, how=\"left\", on=\"id2\")\n",
    "merged.head(3)"
   ]
  },
  {
   "cell_type": "code",
   "execution_count": 24,
   "metadata": {},
   "outputs": [],
   "source": [
    "#need a more thoughtful way to address na values.\n",
    "#only drop when head and tail are both nan? \n",
    "#mergedFull = merged.dropna(subset=[\"text1\", \"text2\"])"
   ]
  },
  {
   "cell_type": "code",
   "execution_count": 25,
   "metadata": {},
   "outputs": [
    {
     "data": {
      "text/plain": [
       "(4689, 18)"
      ]
     },
     "execution_count": 25,
     "metadata": {},
     "output_type": "execute_result"
    }
   ],
   "source": [
    "mergedFull.shape"
   ]
  },
  {
   "cell_type": "code",
   "execution_count": 27,
   "metadata": {},
   "outputs": [
    {
     "data": {
      "text/plain": [
       "(234, 18)"
      ]
     },
     "execution_count": 27,
     "metadata": {},
     "output_type": "execute_result"
    }
   ],
   "source": [
    "mergedEn = mergedFull[(mergedFull[\"url1_lang\"] == \"en\") & (mergedFull[\"url2_lang\"] == \"en\")]\n",
    "mergedEn.shape"
   ]
  },
  {
   "cell_type": "code",
   "execution_count": 28,
   "metadata": {},
   "outputs": [],
   "source": [
    "mergedEn.to_csv(\"/shared/3/projects/benlitterer/localNews/NetworkMVP/enTestData.csv\", sep=\"\\t\")"
   ]
  },
  {
   "cell_type": "code",
   "execution_count": null,
   "metadata": {},
   "outputs": [],
   "source": []
  }
 ],
 "metadata": {
  "kernelspec": {
   "display_name": "Python 3",
   "language": "python",
   "name": "python3"
  },
  "language_info": {
   "codemirror_mode": {
    "name": "ipython",
    "version": 3
   },
   "file_extension": ".py",
   "mimetype": "text/x-python",
   "name": "python",
   "nbconvert_exporter": "python",
   "pygments_lexer": "ipython3",
   "version": "3.8.5"
  }
 },
 "nbformat": 4,
 "nbformat_minor": 4
}
