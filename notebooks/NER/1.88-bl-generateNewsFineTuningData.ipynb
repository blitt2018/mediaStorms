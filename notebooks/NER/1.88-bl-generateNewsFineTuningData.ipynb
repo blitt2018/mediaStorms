{
 "cells": [
  {
   "cell_type": "code",
   "execution_count": 3,
   "metadata": {},
   "outputs": [],
   "source": [
    "import json "
   ]
  },
  {
   "cell_type": "code",
   "execution_count": 4,
   "metadata": {},
   "outputs": [
    {
     "name": "stdout",
     "output_type": "stream",
     "text": [
      "finished\n"
     ]
    }
   ],
   "source": [
    "#grab first 2.5 million articles \n",
    "realNewsPath = \"/shared/3/datasets/realnews/realnews/realnews.jsonl\"\n",
    "handle = open(realNewsPath, \"r\")\n",
    "outPath = \"/shared/3/projects/benlitterer/localNews/fineTuningIntermediate/first1Mtitle_text.txt\"\n",
    "outFileStr = \"\"\n",
    "\n",
    "for i, line in enumerate(handle): \n",
    "    if i < 1000000: \n",
    "        currDict = json.loads(line)\n",
    "        title = currDict[\"title\"]\n",
    "        text = currDict[\"text\"]\n",
    "        outFileStr += title + \"\\n\"\n",
    "        outFileStr += text + \"\\n\"\n",
    "    else: \n",
    "        print(\"finished\")\n",
    "        break\n",
    "handle.close()\n",
    "\n",
    "outHandle = open(outPath, \"w\")\n",
    "outHandle.write(outFileStr)\n",
    "outHandle.close()"
   ]
  },
  {
   "cell_type": "code",
   "execution_count": null,
   "metadata": {},
   "outputs": [],
   "source": []
  }
 ],
 "metadata": {
  "kernelspec": {
   "display_name": "Python 3",
   "language": "python",
   "name": "python3"
  },
  "language_info": {
   "codemirror_mode": {
    "name": "ipython",
    "version": 3
   },
   "file_extension": ".py",
   "mimetype": "text/x-python",
   "name": "python",
   "nbconvert_exporter": "python",
   "pygments_lexer": "ipython3",
   "version": "3.9.12"
  }
 },
 "nbformat": 4,
 "nbformat_minor": 4
}
