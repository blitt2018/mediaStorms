{
 "cells": [
  {
   "cell_type": "code",
   "execution_count": 60,
   "id": "78dec43c",
   "metadata": {},
   "outputs": [],
   "source": [
    "import random\n",
    "import os\n",
    "import numpy as np\n",
    "import torch\n",
    "import json\n",
    "from tqdm import tqdm\n",
    "import pandas as pd\n",
    "from transformers import RobertaTokenizer"
   ]
  },
  {
   "cell_type": "code",
   "execution_count": 61,
   "id": "0cda8a8e",
   "metadata": {},
   "outputs": [],
   "source": [
    "df = pd.read_csv(\"/shared/3/projects/benlitterer/localNews/NetworkMVP/translatedCleaned.tsv\", sep=\"\\t\")"
   ]
  },
  {
   "cell_type": "code",
   "execution_count": 62,
   "id": "7cc3795c",
   "metadata": {},
   "outputs": [],
   "source": [
    "tokenizer = RobertaTokenizer.from_pretrained(\"roberta-base\")"
   ]
  },
  {
   "cell_type": "code",
   "execution_count": 63,
   "id": "7b6a8789",
   "metadata": {},
   "outputs": [],
   "source": [
    "# truncate text from either head or tail part\n",
    "def trunc_text(text, trunc_pos, length):\n",
    "\n",
    "    text_ids = tokenizer.encode(text)[1:-1]\n",
    "\n",
    "    if trunc_pos == 'head':\n",
    "        text_trunc_ids = text_ids[:length]\n",
    "    elif trunc_pos == 'tail':\n",
    "        text_trunc_ids = text_ids[-length:]\n",
    "\n",
    "    text_trunc_tokens = tokenizer.decode(text_trunc_ids)\n",
    "    #text_trunc_back_sent = ''.join([x.replace('_', ' ') for x in text_trunc_tokens])[:-1]\n",
    "\n",
    "    return text_trunc_tokens"
   ]
  },
  {
   "cell_type": "code",
   "execution_count": 64,
   "id": "6b4e7827",
   "metadata": {},
   "outputs": [
    {
     "data": {
      "text/plain": [
       "' Associated Press. All rights reserved. This material may not be published, broadcast, rewritten or redistributed.'"
      ]
     },
     "execution_count": 64,
     "metadata": {},
     "output_type": "execute_result"
    }
   ],
   "source": [
    "trunc_text(df[\"text1\"][0], \"tail\", 20)"
   ]
  },
  {
   "cell_type": "code",
   "execution_count": 67,
   "id": "27b5ad08",
   "metadata": {},
   "outputs": [],
   "source": [
    "df = df.dropna(subset=[\"title1\", \"title2\", \"text1\", \"text2\"])"
   ]
  },
  {
   "cell_type": "code",
   "execution_count": 68,
   "id": "6b199b3d",
   "metadata": {},
   "outputs": [],
   "source": [
    "df[\"titleText1\"] = df[\"title1\"] + df[\"text1\"]\n",
    "df[\"titleText2\"] = df[\"title2\"] + df[\"text2\"]"
   ]
  },
  {
   "cell_type": "code",
   "execution_count": 69,
   "id": "72a129e1",
   "metadata": {},
   "outputs": [],
   "source": [
    "df[\"text1Head\"] = df[\"titleText1\"] .apply(trunc_text, args=[\"head\", 200])\n",
    "df[\"text1Tail\"] = df[\"text1\"].apply(trunc_text, args=[\"tail\", 56])\n",
    "\n",
    "df[\"text2Head\"] = df[\"titleText2\"].apply(trunc_text, args=[\"head\", 200])\n",
    "df[\"text2Tail\"] = df[\"text2\"].apply(trunc_text, args=[\"tail\", 56])"
   ]
  },
  {
   "cell_type": "code",
   "execution_count": 73,
   "id": "f63e0aee",
   "metadata": {},
   "outputs": [],
   "source": [
    "df[\"text1Merged\"] = df[\"text1Head\"] + df[\"text1Tail\"]\n",
    "df[\"text2Merged\"] = df[\"text2Head\"] + df[\"text2Tail\"]"
   ]
  },
  {
   "cell_type": "code",
   "execution_count": 74,
   "id": "2023fd06",
   "metadata": {},
   "outputs": [],
   "source": [
    "df.to_csv(\"/home/blitt/projects/localNews/data/processed/translated_200_56.tsv\", sep=\"\\t\")"
   ]
  },
  {
   "cell_type": "code",
   "execution_count": null,
   "id": "5b3e16a7",
   "metadata": {},
   "outputs": [],
   "source": []
  }
 ],
 "metadata": {
  "kernelspec": {
   "display_name": "Python 3",
   "language": "python",
   "name": "python3"
  },
  "language_info": {
   "codemirror_mode": {
    "name": "ipython",
    "version": 3
   },
   "file_extension": ".py",
   "mimetype": "text/x-python",
   "name": "python",
   "nbconvert_exporter": "python",
   "pygments_lexer": "ipython3",
   "version": "3.9.12"
  }
 },
 "nbformat": 4,
 "nbformat_minor": 5
}
