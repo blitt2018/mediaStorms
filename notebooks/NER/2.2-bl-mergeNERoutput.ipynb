{
 "cells": [
  {
   "cell_type": "code",
   "execution_count": 1,
   "metadata": {},
   "outputs": [],
   "source": [
    "import pandas as pd\n",
    "import os"
   ]
  },
  {
   "cell_type": "code",
   "execution_count": 3,
   "metadata": {},
   "outputs": [
    {
     "data": {
      "text/html": [
       "<div>\n",
       "<style scoped>\n",
       "    .dataframe tbody tr th:only-of-type {\n",
       "        vertical-align: middle;\n",
       "    }\n",
       "\n",
       "    .dataframe tbody tr th {\n",
       "        vertical-align: top;\n",
       "    }\n",
       "\n",
       "    .dataframe thead th {\n",
       "        text-align: right;\n",
       "    }\n",
       "</style>\n",
       "<table border=\"1\" class=\"dataframe\">\n",
       "  <thead>\n",
       "    <tr style=\"text-align: right;\">\n",
       "      <th></th>\n",
       "      <th>0</th>\n",
       "      <th>1</th>\n",
       "    </tr>\n",
       "  </thead>\n",
       "  <tbody>\n",
       "    <tr>\n",
       "      <th>0</th>\n",
       "      <td>0</td>\n",
       "      <td>[('PERSON', 'Dan Shehan’s'), ('WORK_OF_ART', '...</td>\n",
       "    </tr>\n",
       "    <tr>\n",
       "      <th>1</th>\n",
       "      <td>1</td>\n",
       "      <td>[('DATE', 'This past Sunday, March 29th'), ('E...</td>\n",
       "    </tr>\n",
       "  </tbody>\n",
       "</table>\n",
       "</div>"
      ],
      "text/plain": [
       "   0                                                  1\n",
       "0  0  [('PERSON', 'Dan Shehan’s'), ('WORK_OF_ART', '...\n",
       "1  1  [('DATE', 'This past Sunday, March 29th'), ('E..."
      ]
     },
     "execution_count": 3,
     "metadata": {},
     "output_type": "execute_result"
    }
   ],
   "source": [
    "#get NER output \n",
    "#NOTE: mergedNER is just the seperate files concatenated together \"cat * > ../mergedNER.tsv\"\n",
    "NERdf = pd.read_csv(\"/shared/3/projects/newsDiffusion/data/interim/NEREmbedding/NERSplitsMerged.tsv\", sep=\"\\t\", header=None)\n",
    "NERdf.head(2)"
   ]
  },
  {
   "cell_type": "code",
   "execution_count": 4,
   "metadata": {},
   "outputs": [
    {
     "data": {
      "text/plain": [
       "(5081145, 2)"
      ]
     },
     "execution_count": 4,
     "metadata": {},
     "output_type": "execute_result"
    }
   ],
   "source": [
    "#GOOD!\n",
    "NERdf.shape"
   ]
  },
  {
   "cell_type": "code",
   "execution_count": 5,
   "metadata": {},
   "outputs": [],
   "source": [
    "NERdf.columns=[\"key\", \"NamedEntities\"]"
   ]
  },
  {
   "cell_type": "code",
   "execution_count": 6,
   "metadata": {},
   "outputs": [
    {
     "name": "stderr",
     "output_type": "stream",
     "text": [
      "/opt/anaconda/lib/python3.8/site-packages/IPython/core/interactiveshell.py:3418: DtypeWarning: Columns (3,4,11,12,13,14,15,18,19,20,21,22,23,24,25,26,27,28,29,30,31,32,33,34,35,40,41,42) have mixed types.Specify dtype option on import or set low_memory=False.\n",
      "  exec(code_obj, self.user_global_ns, self.user_ns)\n"
     ]
    },
    {
     "data": {
      "text/html": [
       "<div>\n",
       "<style scoped>\n",
       "    .dataframe tbody tr th:only-of-type {\n",
       "        vertical-align: middle;\n",
       "    }\n",
       "\n",
       "    .dataframe tbody tr th {\n",
       "        vertical-align: top;\n",
       "    }\n",
       "\n",
       "    .dataframe thead th {\n",
       "        text-align: right;\n",
       "    }\n",
       "</style>\n",
       "<table border=\"1\" class=\"dataframe\">\n",
       "  <thead>\n",
       "    <tr style=\"text-align: right;\">\n",
       "      <th></th>\n",
       "      <th>Unnamed: 0</th>\n",
       "      <th>Unnamed: 0.1</th>\n",
       "      <th>key</th>\n",
       "      <th>local_id</th>\n",
       "      <th>sourcedomain_id</th>\n",
       "      <th>date</th>\n",
       "      <th>title</th>\n",
       "      <th>content</th>\n",
       "      <th>url</th>\n",
       "      <th>fips</th>\n",
       "      <th>...</th>\n",
       "      <th>ruralurban_cc</th>\n",
       "      <th>predrt_0</th>\n",
       "      <th>predrt_12</th>\n",
       "      <th>predrt_3</th>\n",
       "      <th>national</th>\n",
       "      <th>id</th>\n",
       "      <th>author</th>\n",
       "      <th>published</th>\n",
       "      <th>published_utc</th>\n",
       "      <th>collection_utc</th>\n",
       "    </tr>\n",
       "  </thead>\n",
       "  <tbody>\n",
       "    <tr>\n",
       "      <th>0</th>\n",
       "      <td>0</td>\n",
       "      <td>0</td>\n",
       "      <td>0</td>\n",
       "      <td>andalusiastarnews--2020-04-04--Remember When: ...</td>\n",
       "      <td>andalusiastarnews-andalusiastarnews.com</td>\n",
       "      <td>2020-04-04</td>\n",
       "      <td>Remember When: Shehan’s Polio story</td>\n",
       "      <td>Dan Shehan’s “My Polio Story” is continued in ...</td>\n",
       "      <td>https://www.andalusiastarnews.com/2020/04/03/r...</td>\n",
       "      <td>1039.0</td>\n",
       "      <td>...</td>\n",
       "      <td>6</td>\n",
       "      <td>25.04</td>\n",
       "      <td>44.15</td>\n",
       "      <td>30.8</td>\n",
       "      <td>False</td>\n",
       "      <td>NaN</td>\n",
       "      <td>NaN</td>\n",
       "      <td>NaN</td>\n",
       "      <td>NaN</td>\n",
       "      <td>NaN</td>\n",
       "    </tr>\n",
       "    <tr>\n",
       "      <th>1</th>\n",
       "      <td>1</td>\n",
       "      <td>1</td>\n",
       "      <td>1</td>\n",
       "      <td>andalusiastarnews--2020-04-04--Veterans Founda...</td>\n",
       "      <td>andalusiastarnews-andalusiastarnews.com</td>\n",
       "      <td>2020-04-04</td>\n",
       "      <td>Veterans Foundation salutes Vietnam veterans</td>\n",
       "      <td>This past Sunday, March 29th marked National V...</td>\n",
       "      <td>https://www.andalusiastarnews.com/2020/04/03/v...</td>\n",
       "      <td>1039.0</td>\n",
       "      <td>...</td>\n",
       "      <td>6</td>\n",
       "      <td>25.04</td>\n",
       "      <td>44.15</td>\n",
       "      <td>30.8</td>\n",
       "      <td>False</td>\n",
       "      <td>NaN</td>\n",
       "      <td>NaN</td>\n",
       "      <td>NaN</td>\n",
       "      <td>NaN</td>\n",
       "      <td>NaN</td>\n",
       "    </tr>\n",
       "  </tbody>\n",
       "</table>\n",
       "<p>2 rows × 45 columns</p>\n",
       "</div>"
      ],
      "text/plain": [
       "   Unnamed: 0  Unnamed: 0.1  key  \\\n",
       "0           0             0    0   \n",
       "1           1             1    1   \n",
       "\n",
       "                                            local_id  \\\n",
       "0  andalusiastarnews--2020-04-04--Remember When: ...   \n",
       "1  andalusiastarnews--2020-04-04--Veterans Founda...   \n",
       "\n",
       "                           sourcedomain_id        date  \\\n",
       "0  andalusiastarnews-andalusiastarnews.com  2020-04-04   \n",
       "1  andalusiastarnews-andalusiastarnews.com  2020-04-04   \n",
       "\n",
       "                                          title  \\\n",
       "0           Remember When: Shehan’s Polio story   \n",
       "1  Veterans Foundation salutes Vietnam veterans   \n",
       "\n",
       "                                             content  \\\n",
       "0  Dan Shehan’s “My Polio Story” is continued in ...   \n",
       "1  This past Sunday, March 29th marked National V...   \n",
       "\n",
       "                                                 url    fips  ...  \\\n",
       "0  https://www.andalusiastarnews.com/2020/04/03/r...  1039.0  ...   \n",
       "1  https://www.andalusiastarnews.com/2020/04/03/v...  1039.0  ...   \n",
       "\n",
       "  ruralurban_cc predrt_0 predrt_12 predrt_3 national   id  author  published  \\\n",
       "0             6    25.04     44.15     30.8    False  NaN     NaN        NaN   \n",
       "1             6    25.04     44.15     30.8    False  NaN     NaN        NaN   \n",
       "\n",
       "  published_utc collection_utc  \n",
       "0           NaN            NaN  \n",
       "1           NaN            NaN  \n",
       "\n",
       "[2 rows x 45 columns]"
      ]
     },
     "execution_count": 6,
     "metadata": {},
     "output_type": "execute_result"
    }
   ],
   "source": [
    "newsDf = pd.read_csv(\"/shared/3/projects/newsDiffusion/data/processed/newsData/fullMergedNELAdata.tsv\", sep=\"\\t\")\n",
    "newsDf.head(2)"
   ]
  },
  {
   "cell_type": "code",
   "execution_count": 9,
   "metadata": {},
   "outputs": [],
   "source": [
    "merged = pd.merge(newsDf, NERdf, how = \"inner\", on=\"key\")"
   ]
  },
  {
   "cell_type": "code",
   "execution_count": 14,
   "metadata": {},
   "outputs": [
    {
     "data": {
      "text/plain": [
       "Index(['Unnamed: 0', 'Unnamed: 0.1', 'key', 'local_id', 'sourcedomain_id',\n",
       "       'date', 'title', 'content', 'url', 'fips', 'source', 'description',\n",
       "       'onlinesince', 'rank', 'state', 'city', 'lon', 'lat', 'county',\n",
       "       'total_population', 'white_pct', 'black_pct', 'hispanic_pct',\n",
       "       'nonwhite_pct', 'foreignborn_pct', 'female_pct', 'age29andunder_pct',\n",
       "       'age65andolder_pct', 'median_hh_inc', 'clf_unemploy_pct', 'lesshs_pct',\n",
       "       'lesscollege_pct', 'lesshs_whites_pct', 'lesscollege_whites_pct',\n",
       "       'rural_pct', 'ruralurban_cc', 'predrt_0', 'predrt_12', 'predrt_3',\n",
       "       'national', 'id', 'author', 'published', 'published_utc',\n",
       "       'collection_utc', 'NamedEntities'],\n",
       "      dtype='object')"
      ]
     },
     "execution_count": 14,
     "metadata": {},
     "output_type": "execute_result"
    }
   ],
   "source": [
    "merged.columns"
   ]
  },
  {
   "cell_type": "code",
   "execution_count": 17,
   "metadata": {},
   "outputs": [
    {
     "name": "stdout",
     "output_type": "stream",
     "text": [
      "(5081145, 46)\n"
     ]
    }
   ],
   "source": [
    "print(merged.shape)\n",
    "merged = merged.drop(columns=[\"Unnamed: 0\", \"Unnamed: 0.1\"])"
   ]
  },
  {
   "cell_type": "code",
   "execution_count": 18,
   "metadata": {},
   "outputs": [],
   "source": [
    "import csv\n",
    "merged.to_csv(\"/shared/3/projects/newsDiffusion/data/processed/newsData/fullDataWithNER.tsv\", sep=\"\\t\", quoting=csv.QUOTE_NONNUMERIC)"
   ]
  }
 ],
 "metadata": {
  "kernelspec": {
   "display_name": "Python 3",
   "language": "python",
   "name": "python3"
  },
  "language_info": {
   "codemirror_mode": {
    "name": "ipython",
    "version": 3
   },
   "file_extension": ".py",
   "mimetype": "text/x-python",
   "name": "python",
   "nbconvert_exporter": "python",
   "pygments_lexer": "ipython3",
   "version": "3.8.5"
  }
 },
 "nbformat": 4,
 "nbformat_minor": 4
}
