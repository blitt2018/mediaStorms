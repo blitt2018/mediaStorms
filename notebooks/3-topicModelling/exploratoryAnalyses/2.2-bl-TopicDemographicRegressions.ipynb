{
 "cells": [
  {
   "cell_type": "code",
   "execution_count": 7,
   "id": "88153192",
   "metadata": {},
   "outputs": [],
   "source": [
    "#df = read.table(\"/shared/3/projects/benlitterer/localNews/MVP1/10articleTopics.csv\",sep=\",\", allowEscapes=TRUE)\n",
    "#df = read.csv(\"/shared/3/projects/benlitterer/localNews/MVP1/articleTopicsQuarter.csv\")\n",
    "library(readr)\n",
    "library(lme4)\n",
    "library(lubridate)\n",
    "library(dplyr)"
   ]
  },
  {
   "cell_type": "markdown",
   "id": "0e792f60",
   "metadata": {},
   "source": [
    "## want to work on aggregate data now... "
   ]
  },
  {
   "cell_type": "code",
   "execution_count": 11,
   "id": "57692b80",
   "metadata": {},
   "outputs": [
    {
     "name": "stderr",
     "output_type": "stream",
     "text": [
      "\u001b[1m\u001b[22mNew names:\n",
      "\u001b[36m•\u001b[39m `` -> `...1`\n",
      "\u001b[1mRows: \u001b[22m\u001b[34m310\u001b[39m \u001b[1mColumns: \u001b[22m\u001b[34m88\u001b[39m\n",
      "\u001b[36m──\u001b[39m \u001b[1mColumn specification\u001b[22m \u001b[36m──────────────────────────────────────────────────────────────────────────────────────────────────────────────────────────\u001b[39m\n",
      "\u001b[1mDelimiter:\u001b[22m \",\"\n",
      "\u001b[31mchr\u001b[39m  (1): source\n",
      "\u001b[32mdbl\u001b[39m (87): ...1, Trump, Crime/Prosecution, Subscription_Service, Media, Labor...\n",
      "\n",
      "\u001b[36mℹ\u001b[39m Use `spec()` to retrieve the full column specification for this data.\n",
      "\u001b[36mℹ\u001b[39m Specify the column types or set `show_col_types = FALSE` to quiet this message.\n"
     ]
    }
   ],
   "source": [
    "df = read_csv(\"/shared/3/projects/benlitterer/localNews/MVP1/outletMeans.csv\")"
   ]
  },
  {
   "cell_type": "code",
   "execution_count": 14,
   "id": "08ac695e",
   "metadata": {},
   "outputs": [
    {
     "data": {
      "text/html": [
       "<style>\n",
       ".list-inline {list-style: none; margin:0; padding: 0}\n",
       ".list-inline>li {display: inline-block}\n",
       ".list-inline>li:not(:last-child)::after {content: \"\\00b7\"; padding: 0 .5ex}\n",
       "</style>\n",
       "<ol class=list-inline><li>'...1'</li><li>'source'</li><li>'Trump'</li><li>'Crime/Prosecution'</li><li>'Subscription_Service'</li><li>'Media'</li><li>'Labor/Pandemic/Immigration'</li><li>'Isreal/Palestine/India'</li><li>'School/Universities'</li><li>'Royal_Family/Stars'</li><li>'NS1'</li><li>'Outdoor Sports'</li><li>'Business'</li><li>'Data/Information/Privacy'</li><li>'Coronavirus_General'</li><li>'States1'</li><li>'Congress'</li><li>'Middle_East_Conflict'</li><li>'NS2'</li><li>'Community'</li><li>'Military'</li><li>'Democratic_Primary'</li><li>'NS3'</li><li>'NS4'</li><li>'China'</li><li>'BLM/George_Floyd'</li><li>'Sports1'</li><li>'Police_Activity'</li><li>'Months'</li><li>'Trump/Scandals'</li><li>'Southern/Midwestern/Eastern_States'</li><li>'Southwestern_States'</li><li>'Severe_Weather'</li><li>'Travel/Flights'</li><li>'Baseball'</li><li>'Religion'</li><li>'Basketball'</li><li>'Race'</li><li>'Construction'</li><li>'Europe'</li><li>'Political_Scandal_General'</li><li>'2020_Election'</li><li>'Veterans'</li><li>'America_as_Institution'</li><li>'Hockey'</li><li>'Family'</li><li>'German_Words'</li><li>'Art/Books/Museums'</li><li>'Football'</li><li>'Food Service'</li><li>'NS5'</li><li>'Supreme_Court'</li><li>'Covid_Illness'</li><li>'Sports2'</li><li>'Climate_Fossil_Fuel'</li><li>'Death/Funeral'</li><li>'Covid_Economic'</li><li>'Vaccination'</li><li>'Pandemic_Funding'</li><li>'Covid_Hospitals_Harm_Mitigation'</li><li>'Covid_Negatives/Deaths'</li><li>'Britain'</li><li>'NS6'</li><li>'Entertainment'</li><li>'Health_Products'</li><li>'Science/Space'</li><li>'Wildlife_Farms'</li><li>'NS7'</li><li>'City_Government'</li><li>'Soccer'</li><li>'2020_Election_Fradulence'</li><li>'Community_Public_Service'</li><li>'total_population'</li><li>'white_pct'</li><li>'black_pct'</li><li>'hispanic_pct'</li><li>'nonwhite_pct'</li><li>'foreignborn_pct'</li><li>'female_pct'</li><li>'age29andunder_pct'</li><li>'age65andolder_pct'</li><li>'median_hh_inc'</li><li>'clf_unemploy_pct'</li><li>'lesshs_pct'</li><li>'lesscollege_pct'</li><li>'lesshs_whites_pct'</li><li>'lesscollege_whites_pct'</li><li>'rural_pct'</li></ol>\n"
      ],
      "text/latex": [
       "\\begin{enumerate*}\n",
       "\\item '...1'\n",
       "\\item 'source'\n",
       "\\item 'Trump'\n",
       "\\item 'Crime/Prosecution'\n",
       "\\item 'Subscription\\_Service'\n",
       "\\item 'Media'\n",
       "\\item 'Labor/Pandemic/Immigration'\n",
       "\\item 'Isreal/Palestine/India'\n",
       "\\item 'School/Universities'\n",
       "\\item 'Royal\\_Family/Stars'\n",
       "\\item 'NS1'\n",
       "\\item 'Outdoor Sports'\n",
       "\\item 'Business'\n",
       "\\item 'Data/Information/Privacy'\n",
       "\\item 'Coronavirus\\_General'\n",
       "\\item 'States1'\n",
       "\\item 'Congress'\n",
       "\\item 'Middle\\_East\\_Conflict'\n",
       "\\item 'NS2'\n",
       "\\item 'Community'\n",
       "\\item 'Military'\n",
       "\\item 'Democratic\\_Primary'\n",
       "\\item 'NS3'\n",
       "\\item 'NS4'\n",
       "\\item 'China'\n",
       "\\item 'BLM/George\\_Floyd'\n",
       "\\item 'Sports1'\n",
       "\\item 'Police\\_Activity'\n",
       "\\item 'Months'\n",
       "\\item 'Trump/Scandals'\n",
       "\\item 'Southern/Midwestern/Eastern\\_States'\n",
       "\\item 'Southwestern\\_States'\n",
       "\\item 'Severe\\_Weather'\n",
       "\\item 'Travel/Flights'\n",
       "\\item 'Baseball'\n",
       "\\item 'Religion'\n",
       "\\item 'Basketball'\n",
       "\\item 'Race'\n",
       "\\item 'Construction'\n",
       "\\item 'Europe'\n",
       "\\item 'Political\\_Scandal\\_General'\n",
       "\\item '2020\\_Election'\n",
       "\\item 'Veterans'\n",
       "\\item 'America\\_as\\_Institution'\n",
       "\\item 'Hockey'\n",
       "\\item 'Family'\n",
       "\\item 'German\\_Words'\n",
       "\\item 'Art/Books/Museums'\n",
       "\\item 'Football'\n",
       "\\item 'Food Service'\n",
       "\\item 'NS5'\n",
       "\\item 'Supreme\\_Court'\n",
       "\\item 'Covid\\_Illness'\n",
       "\\item 'Sports2'\n",
       "\\item 'Climate\\_Fossil\\_Fuel'\n",
       "\\item 'Death/Funeral'\n",
       "\\item 'Covid\\_Economic'\n",
       "\\item 'Vaccination'\n",
       "\\item 'Pandemic\\_Funding'\n",
       "\\item 'Covid\\_Hospitals\\_Harm\\_Mitigation'\n",
       "\\item 'Covid\\_Negatives/Deaths'\n",
       "\\item 'Britain'\n",
       "\\item 'NS6'\n",
       "\\item 'Entertainment'\n",
       "\\item 'Health\\_Products'\n",
       "\\item 'Science/Space'\n",
       "\\item 'Wildlife\\_Farms'\n",
       "\\item 'NS7'\n",
       "\\item 'City\\_Government'\n",
       "\\item 'Soccer'\n",
       "\\item '2020\\_Election\\_Fradulence'\n",
       "\\item 'Community\\_Public\\_Service'\n",
       "\\item 'total\\_population'\n",
       "\\item 'white\\_pct'\n",
       "\\item 'black\\_pct'\n",
       "\\item 'hispanic\\_pct'\n",
       "\\item 'nonwhite\\_pct'\n",
       "\\item 'foreignborn\\_pct'\n",
       "\\item 'female\\_pct'\n",
       "\\item 'age29andunder\\_pct'\n",
       "\\item 'age65andolder\\_pct'\n",
       "\\item 'median\\_hh\\_inc'\n",
       "\\item 'clf\\_unemploy\\_pct'\n",
       "\\item 'lesshs\\_pct'\n",
       "\\item 'lesscollege\\_pct'\n",
       "\\item 'lesshs\\_whites\\_pct'\n",
       "\\item 'lesscollege\\_whites\\_pct'\n",
       "\\item 'rural\\_pct'\n",
       "\\end{enumerate*}\n"
      ],
      "text/markdown": [
       "1. '...1'\n",
       "2. 'source'\n",
       "3. 'Trump'\n",
       "4. 'Crime/Prosecution'\n",
       "5. 'Subscription_Service'\n",
       "6. 'Media'\n",
       "7. 'Labor/Pandemic/Immigration'\n",
       "8. 'Isreal/Palestine/India'\n",
       "9. 'School/Universities'\n",
       "10. 'Royal_Family/Stars'\n",
       "11. 'NS1'\n",
       "12. 'Outdoor Sports'\n",
       "13. 'Business'\n",
       "14. 'Data/Information/Privacy'\n",
       "15. 'Coronavirus_General'\n",
       "16. 'States1'\n",
       "17. 'Congress'\n",
       "18. 'Middle_East_Conflict'\n",
       "19. 'NS2'\n",
       "20. 'Community'\n",
       "21. 'Military'\n",
       "22. 'Democratic_Primary'\n",
       "23. 'NS3'\n",
       "24. 'NS4'\n",
       "25. 'China'\n",
       "26. 'BLM/George_Floyd'\n",
       "27. 'Sports1'\n",
       "28. 'Police_Activity'\n",
       "29. 'Months'\n",
       "30. 'Trump/Scandals'\n",
       "31. 'Southern/Midwestern/Eastern_States'\n",
       "32. 'Southwestern_States'\n",
       "33. 'Severe_Weather'\n",
       "34. 'Travel/Flights'\n",
       "35. 'Baseball'\n",
       "36. 'Religion'\n",
       "37. 'Basketball'\n",
       "38. 'Race'\n",
       "39. 'Construction'\n",
       "40. 'Europe'\n",
       "41. 'Political_Scandal_General'\n",
       "42. '2020_Election'\n",
       "43. 'Veterans'\n",
       "44. 'America_as_Institution'\n",
       "45. 'Hockey'\n",
       "46. 'Family'\n",
       "47. 'German_Words'\n",
       "48. 'Art/Books/Museums'\n",
       "49. 'Football'\n",
       "50. 'Food Service'\n",
       "51. 'NS5'\n",
       "52. 'Supreme_Court'\n",
       "53. 'Covid_Illness'\n",
       "54. 'Sports2'\n",
       "55. 'Climate_Fossil_Fuel'\n",
       "56. 'Death/Funeral'\n",
       "57. 'Covid_Economic'\n",
       "58. 'Vaccination'\n",
       "59. 'Pandemic_Funding'\n",
       "60. 'Covid_Hospitals_Harm_Mitigation'\n",
       "61. 'Covid_Negatives/Deaths'\n",
       "62. 'Britain'\n",
       "63. 'NS6'\n",
       "64. 'Entertainment'\n",
       "65. 'Health_Products'\n",
       "66. 'Science/Space'\n",
       "67. 'Wildlife_Farms'\n",
       "68. 'NS7'\n",
       "69. 'City_Government'\n",
       "70. 'Soccer'\n",
       "71. '2020_Election_Fradulence'\n",
       "72. 'Community_Public_Service'\n",
       "73. 'total_population'\n",
       "74. 'white_pct'\n",
       "75. 'black_pct'\n",
       "76. 'hispanic_pct'\n",
       "77. 'nonwhite_pct'\n",
       "78. 'foreignborn_pct'\n",
       "79. 'female_pct'\n",
       "80. 'age29andunder_pct'\n",
       "81. 'age65andolder_pct'\n",
       "82. 'median_hh_inc'\n",
       "83. 'clf_unemploy_pct'\n",
       "84. 'lesshs_pct'\n",
       "85. 'lesscollege_pct'\n",
       "86. 'lesshs_whites_pct'\n",
       "87. 'lesscollege_whites_pct'\n",
       "88. 'rural_pct'\n",
       "\n",
       "\n"
      ],
      "text/plain": [
       " [1] \"...1\"                               \"source\"                            \n",
       " [3] \"Trump\"                              \"Crime/Prosecution\"                 \n",
       " [5] \"Subscription_Service\"               \"Media\"                             \n",
       " [7] \"Labor/Pandemic/Immigration\"         \"Isreal/Palestine/India\"            \n",
       " [9] \"School/Universities\"                \"Royal_Family/Stars\"                \n",
       "[11] \"NS1\"                                \"Outdoor Sports\"                    \n",
       "[13] \"Business\"                           \"Data/Information/Privacy\"          \n",
       "[15] \"Coronavirus_General\"                \"States1\"                           \n",
       "[17] \"Congress\"                           \"Middle_East_Conflict\"              \n",
       "[19] \"NS2\"                                \"Community\"                         \n",
       "[21] \"Military\"                           \"Democratic_Primary\"                \n",
       "[23] \"NS3\"                                \"NS4\"                               \n",
       "[25] \"China\"                              \"BLM/George_Floyd\"                  \n",
       "[27] \"Sports1\"                            \"Police_Activity\"                   \n",
       "[29] \"Months\"                             \"Trump/Scandals\"                    \n",
       "[31] \"Southern/Midwestern/Eastern_States\" \"Southwestern_States\"               \n",
       "[33] \"Severe_Weather\"                     \"Travel/Flights\"                    \n",
       "[35] \"Baseball\"                           \"Religion\"                          \n",
       "[37] \"Basketball\"                         \"Race\"                              \n",
       "[39] \"Construction\"                       \"Europe\"                            \n",
       "[41] \"Political_Scandal_General\"          \"2020_Election\"                     \n",
       "[43] \"Veterans\"                           \"America_as_Institution\"            \n",
       "[45] \"Hockey\"                             \"Family\"                            \n",
       "[47] \"German_Words\"                       \"Art/Books/Museums\"                 \n",
       "[49] \"Football\"                           \"Food Service\"                      \n",
       "[51] \"NS5\"                                \"Supreme_Court\"                     \n",
       "[53] \"Covid_Illness\"                      \"Sports2\"                           \n",
       "[55] \"Climate_Fossil_Fuel\"                \"Death/Funeral\"                     \n",
       "[57] \"Covid_Economic\"                     \"Vaccination\"                       \n",
       "[59] \"Pandemic_Funding\"                   \"Covid_Hospitals_Harm_Mitigation\"   \n",
       "[61] \"Covid_Negatives/Deaths\"             \"Britain\"                           \n",
       "[63] \"NS6\"                                \"Entertainment\"                     \n",
       "[65] \"Health_Products\"                    \"Science/Space\"                     \n",
       "[67] \"Wildlife_Farms\"                     \"NS7\"                               \n",
       "[69] \"City_Government\"                    \"Soccer\"                            \n",
       "[71] \"2020_Election_Fradulence\"           \"Community_Public_Service\"          \n",
       "[73] \"total_population\"                   \"white_pct\"                         \n",
       "[75] \"black_pct\"                          \"hispanic_pct\"                      \n",
       "[77] \"nonwhite_pct\"                       \"foreignborn_pct\"                   \n",
       "[79] \"female_pct\"                         \"age29andunder_pct\"                 \n",
       "[81] \"age65andolder_pct\"                  \"median_hh_inc\"                     \n",
       "[83] \"clf_unemploy_pct\"                   \"lesshs_pct\"                        \n",
       "[85] \"lesscollege_pct\"                    \"lesshs_whites_pct\"                 \n",
       "[87] \"lesscollege_whites_pct\"             \"rural_pct\"                         "
      ]
     },
     "metadata": {},
     "output_type": "display_data"
    }
   ],
   "source": [
    "colnames(df)"
   ]
  },
  {
   "cell_type": "code",
   "execution_count": 24,
   "id": "dadc2a5b",
   "metadata": {},
   "outputs": [
    {
     "data": {
      "text/html": [
       "56"
      ],
      "text/latex": [
       "56"
      ],
      "text/markdown": [
       "56"
      ],
      "text/plain": [
       "[1] 56"
      ]
     },
     "metadata": {},
     "output_type": "display_data"
    }
   ],
   "source": [
    "grep( \"Death/Funeral\", colnames(df))\n",
    "colnames(df)[56] = \"Death_Funeral\""
   ]
  },
  {
   "cell_type": "code",
   "execution_count": 46,
   "id": "914555a9",
   "metadata": {},
   "outputs": [
    {
     "data": {
      "text/html": [
       "0.836114437087785"
      ],
      "text/latex": [
       "0.836114437087785"
      ],
      "text/markdown": [
       "0.836114437087785"
      ],
      "text/plain": [
       "[1] 0.8361144"
      ]
     },
     "metadata": {},
     "output_type": "display_data"
    }
   ],
   "source": [
    "mean(df$Race*100)"
   ]
  },
  {
   "cell_type": "markdown",
   "id": "166523cc",
   "metadata": {},
   "source": [
    "# Interpretation: Race ~ lesscollege_pct\n",
    "- explains 14.5% of variance (R^2) \n",
    "- an increase in 1 percent of people who have less than a college degree in an outlet's county is associated with a .0234 percent decrease in articles about race. (highly significant p-value)  \n",
    "- Race makes up .836% of the mean on average "
   ]
  },
  {
   "cell_type": "code",
   "execution_count": 32,
   "id": "e053bc1b",
   "metadata": {},
   "outputs": [
    {
     "data": {
      "text/plain": [
       "\n",
       "Call:\n",
       "lm(formula = Race * 100 ~ lesscollege_pct, data = df)\n",
       "\n",
       "Residuals:\n",
       "    Min      1Q  Median      3Q     Max \n",
       "-0.9903 -0.3921 -0.1704  0.1357  6.0387 \n",
       "\n",
       "Coefficients:\n",
       "                 Estimate Std. Error t value Pr(>|t|)    \n",
       "(Intercept)      2.496491   0.231040  10.805  < 2e-16 ***\n",
       "lesscollege_pct -0.023391   0.003202  -7.305 2.39e-12 ***\n",
       "---\n",
       "Signif. codes:  0 ‘***’ 0.001 ‘**’ 0.01 ‘*’ 0.05 ‘.’ 0.1 ‘ ’ 1\n",
       "\n",
       "Residual standard error: 0.7297 on 308 degrees of freedom\n",
       "Multiple R-squared:  0.1477,\tAdjusted R-squared:  0.1449 \n",
       "F-statistic: 53.36 on 1 and 308 DF,  p-value: 2.39e-12\n"
      ]
     },
     "metadata": {},
     "output_type": "display_data"
    }
   ],
   "source": [
    "rural_lm = lm(Race*100~lesscollege_pct, data=df)\n",
    "summary(rural_lm)"
   ]
  },
  {
   "cell_type": "markdown",
   "id": "ccc6bb51",
   "metadata": {},
   "source": [
    "## Interpretation: Death_Funeral  ~ rural_pct\n",
    "- An increase in 1 percent rurality in a county is associated with an increase of .13 percent in the Death_Funderal topic\n",
    "- So an area with 70% rurality is inferred to have an increase of ~4% of Death in its local news coverage \n",
    "- Highly significant p-value\n",
    "- R^2 of .1735\n",
    "- Death_Funeral makes up 6.59% of the news on average"
   ]
  },
  {
   "cell_type": "code",
   "execution_count": 28,
   "id": "1a1e633c",
   "metadata": {},
   "outputs": [
    {
     "data": {
      "text/plain": [
       "\n",
       "Call:\n",
       "lm(formula = Death_Funeral * 100 ~ rural_pct, data = df)\n",
       "\n",
       "Residuals:\n",
       "    Min      1Q  Median      3Q     Max \n",
       "-14.034  -4.356  -1.791   0.526  49.324 \n",
       "\n",
       "Coefficients:\n",
       "            Estimate Std. Error t value Pr(>|t|)    \n",
       "(Intercept)  2.14929    0.74351   2.891  0.00412 ** \n",
       "rural_pct    0.13683    0.01702   8.041 1.93e-14 ***\n",
       "---\n",
       "Signif. codes:  0 ‘***’ 0.001 ‘**’ 0.01 ‘*’ 0.05 ‘.’ 0.1 ‘ ’ 1\n",
       "\n",
       "Residual standard error: 8.766 on 308 degrees of freedom\n",
       "Multiple R-squared:  0.1735,\tAdjusted R-squared:  0.1708 \n",
       "F-statistic: 64.66 on 1 and 308 DF,  p-value: 1.929e-14\n"
      ]
     },
     "metadata": {},
     "output_type": "display_data"
    }
   ],
   "source": [
    "funeral_lm = lm(Death_Funeral*100 ~ rural_pct, data=df)\n",
    "summary(funeral_lm)"
   ]
  },
  {
   "cell_type": "markdown",
   "id": "7195933e",
   "metadata": {},
   "source": [
    "## Interpretation: Democratic_Primary ~ lesscollege_pct + rural_pct + median_hh_inc \n",
    "- 15.76% of variance explained \n",
    "- pct of people with less than college degree. Increase in 1 associated with decrease in .012 in coverage of Democratic Primary, signficant \n",
    "- median_hh_inc - incredibly small, not significant \n",
    "- foreign_born_pct - also very small, not significant "
   ]
  },
  {
   "cell_type": "code",
   "execution_count": 52,
   "id": "818eed56",
   "metadata": {},
   "outputs": [
    {
     "data": {
      "text/html": [
       "0.659448907726151"
      ],
      "text/latex": [
       "0.659448907726151"
      ],
      "text/markdown": [
       "0.659448907726151"
      ],
      "text/plain": [
       "[1] 0.6594489"
      ]
     },
     "metadata": {},
     "output_type": "display_data"
    }
   ],
   "source": [
    "mean(df$Democratic_Primary)*100"
   ]
  },
  {
   "cell_type": "code",
   "execution_count": 56,
   "id": "c6288343",
   "metadata": {},
   "outputs": [
    {
     "data": {
      "text/plain": [
       "\n",
       "Call:\n",
       "lm(formula = Democratic_Primary * 100 ~ lesscollege_pct + median_hh_inc + \n",
       "    foreignborn_pct, data = df)\n",
       "\n",
       "Residuals:\n",
       "    Min      1Q  Median      3Q     Max \n",
       "-1.0299 -0.2891 -0.0774  0.1884  3.6137 \n",
       "\n",
       "Coefficients:\n",
       "                  Estimate Std. Error t value Pr(>|t|)    \n",
       "(Intercept)      1.380e+00  3.953e-01   3.491 0.000552 ***\n",
       "lesscollege_pct -1.211e-02  3.648e-03  -3.320 0.001009 ** \n",
       "median_hh_inc    1.378e-06  2.850e-06   0.483 0.629137    \n",
       "foreignborn_pct  6.647e-03  3.662e-03   1.815 0.070494 .  \n",
       "---\n",
       "Signif. codes:  0 ‘***’ 0.001 ‘**’ 0.01 ‘*’ 0.05 ‘.’ 0.1 ‘ ’ 1\n",
       "\n",
       "Residual standard error: 0.4818 on 306 degrees of freedom\n",
       "Multiple R-squared:  0.1657,\tAdjusted R-squared:  0.1576 \n",
       "F-statistic: 20.26 on 3 and 306 DF,  p-value: 5.268e-12\n"
      ]
     },
     "metadata": {},
     "output_type": "display_data"
    }
   ],
   "source": [
    "dem_primary = lm(Democratic_Primary * 100 ~ lesscollege_pct + rural_pct + median_hh_inc + foreignborn_pct, data=df)\n",
    "summary(dem_primary)"
   ]
  },
  {
   "cell_type": "code",
   "execution_count": 47,
   "id": "f4873688",
   "metadata": {},
   "outputs": [
    {
     "data": {
      "text/html": [
       "6.5898701494232"
      ],
      "text/latex": [
       "6.5898701494232"
      ],
      "text/markdown": [
       "6.5898701494232"
      ],
      "text/plain": [
       "[1] 6.58987"
      ]
     },
     "metadata": {},
     "output_type": "display_data"
    }
   ],
   "source": [
    "mean(df$Death_Funeral*100)"
   ]
  },
  {
   "cell_type": "code",
   "execution_count": 9,
   "id": "7687449e",
   "metadata": {},
   "outputs": [
    {
     "name": "stderr",
     "output_type": "stream",
     "text": [
      "\u001b[1m\u001b[22mNew names:\n",
      "\u001b[36m•\u001b[39m `` -> `...1`\n",
      "\u001b[1mRows: \u001b[22m\u001b[34m806159\u001b[39m \u001b[1mColumns: \u001b[22m\u001b[34m116\u001b[39m\n",
      "\u001b[36m──\u001b[39m \u001b[1mColumn specification\u001b[22m \u001b[36m──────────────────────────────────────────────────────────────────────────────────────────────────────────────────────────\u001b[39m\n",
      "\u001b[1mDelimiter:\u001b[22m \",\"\n",
      "\u001b[31mchr\u001b[39m  (15): article_id, sourcedomain_id, title, content, url_x, source, descr...\n",
      "\u001b[32mdbl\u001b[39m  (99): ...1, index, docNum, Trump, Crime/Prosecution, Subscription_Servi...\n",
      "\u001b[33mlgl\u001b[39m   (1): national\n",
      "\u001b[34mdttm\u001b[39m  (1): date\n",
      "\n",
      "\u001b[36mℹ\u001b[39m Use `spec()` to retrieve the full column specification for this data.\n",
      "\u001b[36mℹ\u001b[39m Specify the column types or set `show_col_types = FALSE` to quiet this message.\n"
     ]
    }
   ],
   "source": [
    "df = read_csv(\"/shared/3/projects/benlitterer/localNews/MVP1/articleTopicsQuarter.csv\")"
   ]
  },
  {
   "cell_type": "code",
   "execution_count": 10,
   "id": "4a3b7711",
   "metadata": {},
   "outputs": [],
   "source": [
    "month = month(df$date)\n",
    "year = year(df$date)\n",
    "df$month_year = paste(month, year, sep=\"_\")"
   ]
  },
  {
   "cell_type": "code",
   "execution_count": 13,
   "id": "c8b4cc9c",
   "metadata": {},
   "outputs": [
    {
     "data": {
      "text/html": [
       "<style>\n",
       ".list-inline {list-style: none; margin:0; padding: 0}\n",
       ".list-inline>li {display: inline-block}\n",
       ".list-inline>li:not(:last-child)::after {content: \"\\00b7\"; padding: 0 .5ex}\n",
       "</style>\n",
       "<ol class=list-inline><li>'...1'</li><li>'index'</li><li>'docNum'</li><li>'Trump'</li><li>'Crime/Prosecution'</li><li>'Subscription_Service'</li><li>'Media'</li><li>'Labor/Pandemic/Immigration'</li><li>'Isreal/Palestine/India'</li><li>'School/Universities'</li><li>'Royal_Family/Stars'</li><li>'NS1'</li><li>'Outdoor Sports'</li><li>'Business'</li><li>'Data/Information/Privacy'</li><li>'Coronavirus_General'</li><li>'States1'</li><li>'Congress'</li><li>'Middle_East_Conflict'</li><li>'NS2'</li><li>'Community'</li><li>'Military'</li><li>'Democratic_Primary'</li><li>'NS3'</li><li>'NS4'</li><li>'China'</li><li>'BLM/George_Floyd'</li><li>'Sports1'</li><li>'Police_Activity'</li><li>'Months'</li><li>'Trump/Scandals'</li><li>'Southern/Midwestern/Eastern_States'</li><li>'Southwestern_States'</li><li>'Severe_Weather'</li><li>'Travel/Flights'</li><li>'Baseball'</li><li>'Religion'</li><li>'Basketball'</li><li>'Race'</li><li>'Construction'</li><li>'Europe'</li><li>'Political_Scandal_General'</li><li>'2020_Election'</li><li>'Veterans'</li><li>'America_as_Institution'</li><li>'Hockey'</li><li>'Family'</li><li>'German_Words'</li><li>'Art/Books/Museums'</li><li>'Football'</li><li>'Food Service'</li><li>'NS5'</li><li>'Supreme_Court'</li><li>'Covid_Illness'</li><li>'Sports2'</li><li>'Climate_Fossil_Fuel'</li><li>'Death/Funeral'</li><li>'Covid_Economic'</li><li>'Vaccination'</li><li>'Pandemic_Funding'</li><li>'Covid_Hospitals_Harm_Mitigation'</li><li>'Covid_Negatives/Deaths'</li><li>'Britain'</li><li>'NS6'</li><li>'Entertainment'</li><li>'Health_Products'</li><li>'Science/Space'</li><li>'Wildlife_Farms'</li><li>'NS7'</li><li>'City_Government'</li><li>'Soccer'</li><li>'2020_Election_Fradulence'</li><li>'Community_Public_Service'</li><li>'article_id'</li><li>'sourcedomain_id'</li><li>'date'</li><li>'title'</li><li>'content'</li><li>'url_x'</li><li>'fips'</li><li>'source'</li><li>'description'</li><li>'onlinesince'</li><li>'rank'</li><li>'state'</li><li>'city'</li><li>'lon'</li><li>'lat'</li><li>'county'</li><li>'total_population'</li><li>'white_pct'</li><li>'black_pct'</li><li>'hispanic_pct'</li><li>'nonwhite_pct'</li><li>'foreignborn_pct'</li><li>'female_pct'</li><li>'age29andunder_pct'</li><li>'age65andolder_pct'</li><li>'median_hh_inc'</li><li>'clf_unemploy_pct'</li><li>'lesshs_pct'</li><li>'lesscollege_pct'</li><li>'lesshs_whites_pct'</li><li>'lesscollege_whites_pct'</li><li>'rural_pct'</li><li>'ruralurban_cc'</li><li>'predrt_0'</li><li>'predrt_12'</li><li>'predrt_3'</li><li>'national'</li><li>'id'</li><li>'author'</li><li>'url'</li><li>'published'</li><li>'published_utc'</li><li>'collection_utc'</li><li>'month_year'</li></ol>\n"
      ],
      "text/latex": [
       "\\begin{enumerate*}\n",
       "\\item '...1'\n",
       "\\item 'index'\n",
       "\\item 'docNum'\n",
       "\\item 'Trump'\n",
       "\\item 'Crime/Prosecution'\n",
       "\\item 'Subscription\\_Service'\n",
       "\\item 'Media'\n",
       "\\item 'Labor/Pandemic/Immigration'\n",
       "\\item 'Isreal/Palestine/India'\n",
       "\\item 'School/Universities'\n",
       "\\item 'Royal\\_Family/Stars'\n",
       "\\item 'NS1'\n",
       "\\item 'Outdoor Sports'\n",
       "\\item 'Business'\n",
       "\\item 'Data/Information/Privacy'\n",
       "\\item 'Coronavirus\\_General'\n",
       "\\item 'States1'\n",
       "\\item 'Congress'\n",
       "\\item 'Middle\\_East\\_Conflict'\n",
       "\\item 'NS2'\n",
       "\\item 'Community'\n",
       "\\item 'Military'\n",
       "\\item 'Democratic\\_Primary'\n",
       "\\item 'NS3'\n",
       "\\item 'NS4'\n",
       "\\item 'China'\n",
       "\\item 'BLM/George\\_Floyd'\n",
       "\\item 'Sports1'\n",
       "\\item 'Police\\_Activity'\n",
       "\\item 'Months'\n",
       "\\item 'Trump/Scandals'\n",
       "\\item 'Southern/Midwestern/Eastern\\_States'\n",
       "\\item 'Southwestern\\_States'\n",
       "\\item 'Severe\\_Weather'\n",
       "\\item 'Travel/Flights'\n",
       "\\item 'Baseball'\n",
       "\\item 'Religion'\n",
       "\\item 'Basketball'\n",
       "\\item 'Race'\n",
       "\\item 'Construction'\n",
       "\\item 'Europe'\n",
       "\\item 'Political\\_Scandal\\_General'\n",
       "\\item '2020\\_Election'\n",
       "\\item 'Veterans'\n",
       "\\item 'America\\_as\\_Institution'\n",
       "\\item 'Hockey'\n",
       "\\item 'Family'\n",
       "\\item 'German\\_Words'\n",
       "\\item 'Art/Books/Museums'\n",
       "\\item 'Football'\n",
       "\\item 'Food Service'\n",
       "\\item 'NS5'\n",
       "\\item 'Supreme\\_Court'\n",
       "\\item 'Covid\\_Illness'\n",
       "\\item 'Sports2'\n",
       "\\item 'Climate\\_Fossil\\_Fuel'\n",
       "\\item 'Death/Funeral'\n",
       "\\item 'Covid\\_Economic'\n",
       "\\item 'Vaccination'\n",
       "\\item 'Pandemic\\_Funding'\n",
       "\\item 'Covid\\_Hospitals\\_Harm\\_Mitigation'\n",
       "\\item 'Covid\\_Negatives/Deaths'\n",
       "\\item 'Britain'\n",
       "\\item 'NS6'\n",
       "\\item 'Entertainment'\n",
       "\\item 'Health\\_Products'\n",
       "\\item 'Science/Space'\n",
       "\\item 'Wildlife\\_Farms'\n",
       "\\item 'NS7'\n",
       "\\item 'City\\_Government'\n",
       "\\item 'Soccer'\n",
       "\\item '2020\\_Election\\_Fradulence'\n",
       "\\item 'Community\\_Public\\_Service'\n",
       "\\item 'article\\_id'\n",
       "\\item 'sourcedomain\\_id'\n",
       "\\item 'date'\n",
       "\\item 'title'\n",
       "\\item 'content'\n",
       "\\item 'url\\_x'\n",
       "\\item 'fips'\n",
       "\\item 'source'\n",
       "\\item 'description'\n",
       "\\item 'onlinesince'\n",
       "\\item 'rank'\n",
       "\\item 'state'\n",
       "\\item 'city'\n",
       "\\item 'lon'\n",
       "\\item 'lat'\n",
       "\\item 'county'\n",
       "\\item 'total\\_population'\n",
       "\\item 'white\\_pct'\n",
       "\\item 'black\\_pct'\n",
       "\\item 'hispanic\\_pct'\n",
       "\\item 'nonwhite\\_pct'\n",
       "\\item 'foreignborn\\_pct'\n",
       "\\item 'female\\_pct'\n",
       "\\item 'age29andunder\\_pct'\n",
       "\\item 'age65andolder\\_pct'\n",
       "\\item 'median\\_hh\\_inc'\n",
       "\\item 'clf\\_unemploy\\_pct'\n",
       "\\item 'lesshs\\_pct'\n",
       "\\item 'lesscollege\\_pct'\n",
       "\\item 'lesshs\\_whites\\_pct'\n",
       "\\item 'lesscollege\\_whites\\_pct'\n",
       "\\item 'rural\\_pct'\n",
       "\\item 'ruralurban\\_cc'\n",
       "\\item 'predrt\\_0'\n",
       "\\item 'predrt\\_12'\n",
       "\\item 'predrt\\_3'\n",
       "\\item 'national'\n",
       "\\item 'id'\n",
       "\\item 'author'\n",
       "\\item 'url'\n",
       "\\item 'published'\n",
       "\\item 'published\\_utc'\n",
       "\\item 'collection\\_utc'\n",
       "\\item 'month\\_year'\n",
       "\\end{enumerate*}\n"
      ],
      "text/markdown": [
       "1. '...1'\n",
       "2. 'index'\n",
       "3. 'docNum'\n",
       "4. 'Trump'\n",
       "5. 'Crime/Prosecution'\n",
       "6. 'Subscription_Service'\n",
       "7. 'Media'\n",
       "8. 'Labor/Pandemic/Immigration'\n",
       "9. 'Isreal/Palestine/India'\n",
       "10. 'School/Universities'\n",
       "11. 'Royal_Family/Stars'\n",
       "12. 'NS1'\n",
       "13. 'Outdoor Sports'\n",
       "14. 'Business'\n",
       "15. 'Data/Information/Privacy'\n",
       "16. 'Coronavirus_General'\n",
       "17. 'States1'\n",
       "18. 'Congress'\n",
       "19. 'Middle_East_Conflict'\n",
       "20. 'NS2'\n",
       "21. 'Community'\n",
       "22. 'Military'\n",
       "23. 'Democratic_Primary'\n",
       "24. 'NS3'\n",
       "25. 'NS4'\n",
       "26. 'China'\n",
       "27. 'BLM/George_Floyd'\n",
       "28. 'Sports1'\n",
       "29. 'Police_Activity'\n",
       "30. 'Months'\n",
       "31. 'Trump/Scandals'\n",
       "32. 'Southern/Midwestern/Eastern_States'\n",
       "33. 'Southwestern_States'\n",
       "34. 'Severe_Weather'\n",
       "35. 'Travel/Flights'\n",
       "36. 'Baseball'\n",
       "37. 'Religion'\n",
       "38. 'Basketball'\n",
       "39. 'Race'\n",
       "40. 'Construction'\n",
       "41. 'Europe'\n",
       "42. 'Political_Scandal_General'\n",
       "43. '2020_Election'\n",
       "44. 'Veterans'\n",
       "45. 'America_as_Institution'\n",
       "46. 'Hockey'\n",
       "47. 'Family'\n",
       "48. 'German_Words'\n",
       "49. 'Art/Books/Museums'\n",
       "50. 'Football'\n",
       "51. 'Food Service'\n",
       "52. 'NS5'\n",
       "53. 'Supreme_Court'\n",
       "54. 'Covid_Illness'\n",
       "55. 'Sports2'\n",
       "56. 'Climate_Fossil_Fuel'\n",
       "57. 'Death/Funeral'\n",
       "58. 'Covid_Economic'\n",
       "59. 'Vaccination'\n",
       "60. 'Pandemic_Funding'\n",
       "61. 'Covid_Hospitals_Harm_Mitigation'\n",
       "62. 'Covid_Negatives/Deaths'\n",
       "63. 'Britain'\n",
       "64. 'NS6'\n",
       "65. 'Entertainment'\n",
       "66. 'Health_Products'\n",
       "67. 'Science/Space'\n",
       "68. 'Wildlife_Farms'\n",
       "69. 'NS7'\n",
       "70. 'City_Government'\n",
       "71. 'Soccer'\n",
       "72. '2020_Election_Fradulence'\n",
       "73. 'Community_Public_Service'\n",
       "74. 'article_id'\n",
       "75. 'sourcedomain_id'\n",
       "76. 'date'\n",
       "77. 'title'\n",
       "78. 'content'\n",
       "79. 'url_x'\n",
       "80. 'fips'\n",
       "81. 'source'\n",
       "82. 'description'\n",
       "83. 'onlinesince'\n",
       "84. 'rank'\n",
       "85. 'state'\n",
       "86. 'city'\n",
       "87. 'lon'\n",
       "88. 'lat'\n",
       "89. 'county'\n",
       "90. 'total_population'\n",
       "91. 'white_pct'\n",
       "92. 'black_pct'\n",
       "93. 'hispanic_pct'\n",
       "94. 'nonwhite_pct'\n",
       "95. 'foreignborn_pct'\n",
       "96. 'female_pct'\n",
       "97. 'age29andunder_pct'\n",
       "98. 'age65andolder_pct'\n",
       "99. 'median_hh_inc'\n",
       "100. 'clf_unemploy_pct'\n",
       "101. 'lesshs_pct'\n",
       "102. 'lesscollege_pct'\n",
       "103. 'lesshs_whites_pct'\n",
       "104. 'lesscollege_whites_pct'\n",
       "105. 'rural_pct'\n",
       "106. 'ruralurban_cc'\n",
       "107. 'predrt_0'\n",
       "108. 'predrt_12'\n",
       "109. 'predrt_3'\n",
       "110. 'national'\n",
       "111. 'id'\n",
       "112. 'author'\n",
       "113. 'url'\n",
       "114. 'published'\n",
       "115. 'published_utc'\n",
       "116. 'collection_utc'\n",
       "117. 'month_year'\n",
       "\n",
       "\n"
      ],
      "text/plain": [
       "  [1] \"...1\"                               \"index\"                             \n",
       "  [3] \"docNum\"                             \"Trump\"                             \n",
       "  [5] \"Crime/Prosecution\"                  \"Subscription_Service\"              \n",
       "  [7] \"Media\"                              \"Labor/Pandemic/Immigration\"        \n",
       "  [9] \"Isreal/Palestine/India\"             \"School/Universities\"               \n",
       " [11] \"Royal_Family/Stars\"                 \"NS1\"                               \n",
       " [13] \"Outdoor Sports\"                     \"Business\"                          \n",
       " [15] \"Data/Information/Privacy\"           \"Coronavirus_General\"               \n",
       " [17] \"States1\"                            \"Congress\"                          \n",
       " [19] \"Middle_East_Conflict\"               \"NS2\"                               \n",
       " [21] \"Community\"                          \"Military\"                          \n",
       " [23] \"Democratic_Primary\"                 \"NS3\"                               \n",
       " [25] \"NS4\"                                \"China\"                             \n",
       " [27] \"BLM/George_Floyd\"                   \"Sports1\"                           \n",
       " [29] \"Police_Activity\"                    \"Months\"                            \n",
       " [31] \"Trump/Scandals\"                     \"Southern/Midwestern/Eastern_States\"\n",
       " [33] \"Southwestern_States\"                \"Severe_Weather\"                    \n",
       " [35] \"Travel/Flights\"                     \"Baseball\"                          \n",
       " [37] \"Religion\"                           \"Basketball\"                        \n",
       " [39] \"Race\"                               \"Construction\"                      \n",
       " [41] \"Europe\"                             \"Political_Scandal_General\"         \n",
       " [43] \"2020_Election\"                      \"Veterans\"                          \n",
       " [45] \"America_as_Institution\"             \"Hockey\"                            \n",
       " [47] \"Family\"                             \"German_Words\"                      \n",
       " [49] \"Art/Books/Museums\"                  \"Football\"                          \n",
       " [51] \"Food Service\"                       \"NS5\"                               \n",
       " [53] \"Supreme_Court\"                      \"Covid_Illness\"                     \n",
       " [55] \"Sports2\"                            \"Climate_Fossil_Fuel\"               \n",
       " [57] \"Death/Funeral\"                      \"Covid_Economic\"                    \n",
       " [59] \"Vaccination\"                        \"Pandemic_Funding\"                  \n",
       " [61] \"Covid_Hospitals_Harm_Mitigation\"    \"Covid_Negatives/Deaths\"            \n",
       " [63] \"Britain\"                            \"NS6\"                               \n",
       " [65] \"Entertainment\"                      \"Health_Products\"                   \n",
       " [67] \"Science/Space\"                      \"Wildlife_Farms\"                    \n",
       " [69] \"NS7\"                                \"City_Government\"                   \n",
       " [71] \"Soccer\"                             \"2020_Election_Fradulence\"          \n",
       " [73] \"Community_Public_Service\"           \"article_id\"                        \n",
       " [75] \"sourcedomain_id\"                    \"date\"                              \n",
       " [77] \"title\"                              \"content\"                           \n",
       " [79] \"url_x\"                              \"fips\"                              \n",
       " [81] \"source\"                             \"description\"                       \n",
       " [83] \"onlinesince\"                        \"rank\"                              \n",
       " [85] \"state\"                              \"city\"                              \n",
       " [87] \"lon\"                                \"lat\"                               \n",
       " [89] \"county\"                             \"total_population\"                  \n",
       " [91] \"white_pct\"                          \"black_pct\"                         \n",
       " [93] \"hispanic_pct\"                       \"nonwhite_pct\"                      \n",
       " [95] \"foreignborn_pct\"                    \"female_pct\"                        \n",
       " [97] \"age29andunder_pct\"                  \"age65andolder_pct\"                 \n",
       " [99] \"median_hh_inc\"                      \"clf_unemploy_pct\"                  \n",
       "[101] \"lesshs_pct\"                         \"lesscollege_pct\"                   \n",
       "[103] \"lesshs_whites_pct\"                  \"lesscollege_whites_pct\"            \n",
       "[105] \"rural_pct\"                          \"ruralurban_cc\"                     \n",
       "[107] \"predrt_0\"                           \"predrt_12\"                         \n",
       "[109] \"predrt_3\"                           \"national\"                          \n",
       "[111] \"id\"                                 \"author\"                            \n",
       "[113] \"url\"                                \"published\"                         \n",
       "[115] \"published_utc\"                      \"collection_utc\"                    \n",
       "[117] \"month_year\"                        "
      ]
     },
     "metadata": {},
     "output_type": "display_data"
    }
   ],
   "source": [
    "colnames(df)"
   ]
  },
  {
   "cell_type": "markdown",
   "id": "cb79b10d",
   "metadata": {},
   "source": [
    "## Model Idea: \n",
    "Wildlife and Farms % ~ Household Income + white % + rural %"
   ]
  },
  {
   "cell_type": "markdown",
   "id": "3c15410c",
   "metadata": {},
   "source": [
    "### just demographics "
   ]
  },
  {
   "cell_type": "markdown",
   "id": "53ebdaca",
   "metadata": {},
   "source": [
    "## Interpretation \n",
    "- White percentage: Increase in 1 percent whiteness of county associated with increase in .0115 % in topic coverage. \n",
    "- Rural percentage: Increase in 1 percent associated with .015% increase in topic. Increase in 20% percent rural = increase in ~ .3% topic coverage.  "
   ]
  },
  {
   "cell_type": "code",
   "execution_count": 14,
   "id": "2eee1a54",
   "metadata": {},
   "outputs": [
    {
     "data": {
      "text/plain": [
       "\n",
       "Call:\n",
       "lm(formula = Wildlife_Farms * 100 ~ median_hh_inc + white_pct + \n",
       "    rural_pct, data = df)\n",
       "\n",
       "Residuals:\n",
       "   Min     1Q Median     3Q    Max \n",
       "-2.811 -1.690 -1.282 -0.819 94.919 \n",
       "\n",
       "Coefficients:\n",
       "                Estimate Std. Error t value Pr(>|t|)    \n",
       "(Intercept)   -1.960e-01  6.431e-02  -3.048   0.0023 ** \n",
       "median_hh_inc  7.833e-06  9.930e-07   7.888 3.08e-15 ***\n",
       "white_pct      1.147e-02  6.546e-04  17.527  < 2e-16 ***\n",
       "rural_pct      1.531e-02  6.172e-04  24.801  < 2e-16 ***\n",
       "---\n",
       "Signif. codes:  0 ‘***’ 0.001 ‘**’ 0.01 ‘*’ 0.05 ‘.’ 0.1 ‘ ’ 1\n",
       "\n",
       "Residual standard error: 6.608 on 359176 degrees of freedom\n",
       "  (446979 observations deleted due to missingness)\n",
       "Multiple R-squared:  0.006249,\tAdjusted R-squared:  0.00624 \n",
       "F-statistic: 752.8 on 3 and 359176 DF,  p-value: < 2.2e-16\n"
      ]
     },
     "metadata": {},
     "output_type": "display_data"
    }
   ],
   "source": [
    "# very helpful: https://m-clark.github.io/mixed-models-with-R/random_intercepts.html\n",
    "# remember: ignoring clustering gives standard errors that are too small because we don't have truly \n",
    "# independant samples. Rather than n ind. samples we have something less than that. \n",
    "\n",
    "#na.omit behavior is default, so we only use local newspapers here \n",
    "rural_lm = lm(Wildlife_Farms*100~median_hh_inc+white_pct+rural_pct, data=df)\n",
    "summary(rural_lm)"
   ]
  },
  {
   "cell_type": "code",
   "execution_count": null,
   "id": "1ceb681f",
   "metadata": {},
   "outputs": [],
   "source": [
    "# quick check to make sure source is available for all local \n",
    "head(df)[c(\"source\", \"national\")]"
   ]
  },
  {
   "cell_type": "code",
   "execution_count": null,
   "id": "cf4f6e65",
   "metadata": {},
   "outputs": [],
   "source": [
    "colnames(df)"
   ]
  },
  {
   "cell_type": "markdown",
   "id": "ebc85493",
   "metadata": {},
   "source": [
    "## An attempt at some interpretation \n",
    "\n",
    "## adding source as random effect \n",
    "\n",
    "### random effects \n",
    "- On average, our estimated source intercepts are 1.132 % away from the mean in terms of topic coverage of wildlife and farming. \n",
    "- The residual variation after estimating random source intercepts is still very very large (42.870) \n",
    "\n",
    "### coefficients \n",
    "- an increase of 1% in white percent is associated with an increase of .0147 in increase in the proportion of content with topic of Wildlife_Farms. So 20% increase in white -> ~ .3% increase in topic. \n",
    "- ^ 20% in rural percent -> ~.14% increase in topic \n",
    "- median_hh_income has very small effect "
   ]
  },
  {
   "cell_type": "code",
   "execution_count": 78,
   "id": "a385214a",
   "metadata": {},
   "outputs": [
    {
     "name": "stderr",
     "output_type": "stream",
     "text": [
      "Warning message:\n",
      "“Some predictor variables are on very different scales: consider rescaling”\n"
     ]
    },
    {
     "data": {
      "text/plain": [
       "Linear mixed model fit by REML ['lmerMod']\n",
       "Formula: Wildlife_Farms * 100 ~ median_hh_inc + white_pct + rural_pct +  \n",
       "    (1 | source)\n",
       "   Data: df\n",
       "\n",
       "REML criterion at convergence: 2370130\n",
       "\n",
       "Scaled residuals: \n",
       "    Min      1Q  Median      3Q     Max \n",
       "-1.2627 -0.2682 -0.1326 -0.0888 14.3109 \n",
       "\n",
       "Random effects:\n",
       " Groups   Name        Variance Std.Dev.\n",
       " source   (Intercept)  1.132   1.064   \n",
       " Residual             42.870   6.548   \n",
       "Number of obs: 359180, groups:  source, 310\n",
       "\n",
       "Fixed effects:\n",
       "               Estimate Std. Error t value\n",
       "(Intercept)   6.799e-02  3.400e-01   0.200\n",
       "median_hh_inc 3.272e-06  4.776e-06   0.685\n",
       "white_pct     1.471e-02  3.809e-03   3.862\n",
       "rural_pct     7.021e-03  3.034e-03   2.314\n",
       "\n",
       "Correlation of Fixed Effects:\n",
       "            (Intr) mdn_h_ wht_pc\n",
       "medin_hh_nc -0.698              \n",
       "white_pct   -0.404 -0.318       \n",
       "rural_pct   -0.324  0.597 -0.535\n",
       "fit warnings:\n",
       "Some predictor variables are on very different scales: consider rescaling"
      ]
     },
     "metadata": {},
     "output_type": "display_data"
    },
    {
     "name": "stderr",
     "output_type": "stream",
     "text": [
      "Computing profile confidence intervals ...\n",
      "\n"
     ]
    },
    {
     "data": {
      "text/html": [
       "<table>\n",
       "<thead><tr><th></th><th scope=col>2.5 %</th><th scope=col>97.5 %</th></tr></thead>\n",
       "<tbody>\n",
       "\t<tr><th scope=row>.sig01</th><td> 9.714763e-01</td><td>1.152928e+00 </td></tr>\n",
       "\t<tr><th scope=row>.sigma</th><td> 6.532391e+00</td><td>6.562688e+00 </td></tr>\n",
       "\t<tr><th scope=row>(Intercept)</th><td>-5.961240e-01</td><td>7.320562e-01 </td></tr>\n",
       "\t<tr><th scope=row>median_hh_inc</th><td>-6.056638e-06</td><td>1.260026e-05 </td></tr>\n",
       "\t<tr><th scope=row>white_pct</th><td> 7.270035e-03</td><td>2.215146e-02 </td></tr>\n",
       "\t<tr><th scope=row>rural_pct</th><td> 1.093509e-03</td><td>1.294827e-02 </td></tr>\n",
       "</tbody>\n",
       "</table>\n"
      ],
      "text/latex": [
       "\\begin{tabular}{r|ll}\n",
       "  & 2.5 \\% & 97.5 \\%\\\\\n",
       "\\hline\n",
       "\t.sig01 &  9.714763e-01 & 1.152928e+00 \\\\\n",
       "\t.sigma &  6.532391e+00 & 6.562688e+00 \\\\\n",
       "\t(Intercept) & -5.961240e-01 & 7.320562e-01 \\\\\n",
       "\tmedian\\_hh\\_inc & -6.056638e-06 & 1.260026e-05 \\\\\n",
       "\twhite\\_pct &  7.270035e-03 & 2.215146e-02 \\\\\n",
       "\trural\\_pct &  1.093509e-03 & 1.294827e-02 \\\\\n",
       "\\end{tabular}\n"
      ],
      "text/markdown": [
       "\n",
       "| <!--/--> | 2.5 % | 97.5 % |\n",
       "|---|---|---|\n",
       "| .sig01 |  9.714763e-01 | 1.152928e+00  |\n",
       "| .sigma |  6.532391e+00 | 6.562688e+00  |\n",
       "| (Intercept) | -5.961240e-01 | 7.320562e-01  |\n",
       "| median_hh_inc | -6.056638e-06 | 1.260026e-05  |\n",
       "| white_pct |  7.270035e-03 | 2.215146e-02  |\n",
       "| rural_pct |  1.093509e-03 | 1.294827e-02  |\n",
       "\n"
      ],
      "text/plain": [
       "              2.5 %         97.5 %      \n",
       ".sig01         9.714763e-01 1.152928e+00\n",
       ".sigma         6.532391e+00 6.562688e+00\n",
       "(Intercept)   -5.961240e-01 7.320562e-01\n",
       "median_hh_inc -6.056638e-06 1.260026e-05\n",
       "white_pct      7.270035e-03 2.215146e-02\n",
       "rural_pct      1.093509e-03 1.294827e-02"
      ]
     },
     "metadata": {},
     "output_type": "display_data"
    }
   ],
   "source": [
    "rural_source = lmer(Wildlife_Farms*100~median_hh_inc+white_pct+rural_pct + (1 | source ), data=df)\n",
    "summary(rural_source)\n",
    "confint(rural_source)"
   ]
  },
  {
   "cell_type": "markdown",
   "id": "d713c052",
   "metadata": {},
   "source": [
    "## Adding month fixed effect\n",
    "- My understanding is that since no pooling occurs (we simply optimize each month using the data from that month), our estimates may be worse.. Other than that why can't we code as dummy variable? \n",
    "- Is it because we don't get interpretation for month effects? "
   ]
  },
  {
   "cell_type": "code",
   "execution_count": 15,
   "id": "90cc89e1",
   "metadata": {},
   "outputs": [
    {
     "name": "stderr",
     "output_type": "stream",
     "text": [
      "Warning message:\n",
      "“Some predictor variables are on very different scales: consider rescaling”\n",
      "\n",
      "Correlation matrix not shown by default, as p = 24 > 12.\n",
      "Use print(obj, correlation=TRUE)  or\n",
      "    vcov(obj)        if you need it\n",
      "\n",
      "\n"
     ]
    },
    {
     "data": {
      "text/plain": [
       "Linear mixed model fit by REML ['lmerMod']\n",
       "Formula: Wildlife_Farms * 100 ~ median_hh_inc + white_pct + rural_pct +  \n",
       "    month_year + (1 | source)\n",
       "   Data: df\n",
       "\n",
       "REML criterion at convergence: 2369906\n",
       "\n",
       "Scaled residuals: \n",
       "    Min      1Q  Median      3Q     Max \n",
       "-1.3280 -0.2639 -0.1421 -0.0846 14.3160 \n",
       "\n",
       "Random effects:\n",
       " Groups   Name        Variance Std.Dev.\n",
       " source   (Intercept)  1.136   1.066   \n",
       " Residual             42.836   6.545   \n",
       "Number of obs: 359180, groups:  source, 310\n",
       "\n",
       "Fixed effects:\n",
       "                    Estimate Std. Error t value\n",
       "(Intercept)       -1.921e-01  3.440e-01  -0.558\n",
       "median_hh_inc      3.248e-06  4.782e-06   0.679\n",
       "white_pct          1.516e-02  3.815e-03   3.974\n",
       "rural_pct          6.807e-03  3.039e-03   2.240\n",
       "month_year10_2020  1.451e-01  7.000e-02   2.074\n",
       "month_year10_2021  2.793e-01  7.142e-02   3.911\n",
       "month_year11_2020  6.038e-02  7.157e-02   0.844\n",
       "month_year11_2021  2.612e-01  7.248e-02   3.604\n",
       "month_year12_2020  1.171e-01  7.143e-02   1.640\n",
       "month_year12_2021  1.140e-01  7.333e-02   1.555\n",
       "month_year2_2021   7.714e-02  7.286e-02   1.059\n",
       "month_year3_2021   2.178e-01  7.135e-02   3.052\n",
       "month_year4_2020  -5.407e-02  7.070e-02  -0.765\n",
       "month_year4_2021   4.065e-01  7.248e-02   5.609\n",
       "month_year5_2020   1.780e-01  6.947e-02   2.562\n",
       "month_year5_2021   4.856e-01  7.595e-02   6.394\n",
       "month_year6_2020   4.649e-02  6.917e-02   0.672\n",
       "month_year6_2021   6.755e-01  7.125e-02   9.481\n",
       "month_year7_2020   3.749e-01  6.883e-02   5.448\n",
       "month_year7_2021   6.622e-01  7.147e-02   9.265\n",
       "month_year8_2020   2.763e-01  7.009e-02   3.942\n",
       "month_year8_2021   3.624e-01  7.205e-02   5.029\n",
       "month_year9_2020   2.487e-01  7.139e-02   3.483\n",
       "month_year9_2021   3.602e-01  7.094e-02   5.078\n",
       "fit warnings:\n",
       "Some predictor variables are on very different scales: consider rescaling"
      ]
     },
     "metadata": {},
     "output_type": "display_data"
    }
   ],
   "source": [
    "rural_source = lmer(Wildlife_Farms*100~median_hh_inc+white_pct+rural_pct + month_year + (1 | source ), data=df)\n",
    "summary(rural_source)\n",
    "#confint(rural_source)"
   ]
  },
  {
   "cell_type": "markdown",
   "id": "ad052049",
   "metadata": {},
   "source": [
    "## Interpretation: \n",
    "- white: 20% increase associated with .3% topic increase \n",
    "- similar source variance\n",
    "- month_year doesn't seem to vary much..? This doesn't make sense to me.. "
   ]
  },
  {
   "cell_type": "code",
   "execution_count": 18,
   "id": "39dad049",
   "metadata": {},
   "outputs": [
    {
     "name": "stderr",
     "output_type": "stream",
     "text": [
      "Warning message:\n",
      "“Some predictor variables are on very different scales: consider rescaling”\n"
     ]
    },
    {
     "data": {
      "text/plain": [
       "Linear mixed model fit by REML ['lmerMod']\n",
       "Formula: Wildlife_Farms * 100 ~ median_hh_inc + white_pct + rural_pct +  \n",
       "    (1 | month_year) + (1 | source)\n",
       "   Data: df\n",
       "\n",
       "REML criterion at convergence: 2369901\n",
       "\n",
       "Scaled residuals: \n",
       "    Min      1Q  Median      3Q     Max \n",
       "-1.3238 -0.2640 -0.1416 -0.0854 14.3161 \n",
       "\n",
       "Random effects:\n",
       " Groups     Name        Variance Std.Dev.\n",
       " source     (Intercept)  1.13518 1.0654  \n",
       " month_year (Intercept)  0.03675 0.1917  \n",
       " Residual               42.83588 6.5449  \n",
       "Number of obs: 359180, groups:  source, 310; month_year, 21\n",
       "\n",
       "Fixed effects:\n",
       "               Estimate Std. Error t value\n",
       "(Intercept)   6.053e-02  3.430e-01   0.176\n",
       "median_hh_inc 3.250e-06  4.782e-06   0.680\n",
       "white_pct     1.513e-02  3.815e-03   3.967\n",
       "rural_pct     6.822e-03  3.038e-03   2.245\n",
       "\n",
       "Correlation of Fixed Effects:\n",
       "            (Intr) mdn_h_ wht_pc\n",
       "medin_hh_nc -0.693              \n",
       "white_pct   -0.401 -0.318       \n",
       "rural_pct   -0.322  0.597 -0.535\n",
       "fit warnings:\n",
       "Some predictor variables are on very different scales: consider rescaling"
      ]
     },
     "metadata": {},
     "output_type": "display_data"
    }
   ],
   "source": [
    "rural_source_time = lmer(Wildlife_Farms*100~median_hh_inc+white_pct+rural_pct + (1|month_year) + (1 | source ), data=df)\n",
    "summary(rural_source_time)\n",
    "#confint(rural_source)"
   ]
  },
  {
   "cell_type": "markdown",
   "id": "234edde5",
   "metadata": {},
   "source": [
    "## BLM topic ~ hh_income + white percent + rural %\n",
    "- rural interpretation: a 1 percent increase in rural percentage is associated with a -.0138 change in coverage of BLM topic. 20% increase in rural -> ~ .28% increase in BLM \n",
    "- white % interpretation: a 1 percent increase in white % is associated with a .0073 change in BLM topic. So 20% increase in white -> ~.14% increase in BLM topic \n",
    "- hh income has very very small non-significant effect "
   ]
  },
  {
   "cell_type": "code",
   "execution_count": 21,
   "id": "1b047007",
   "metadata": {},
   "outputs": [],
   "source": [
    "df = rename(df, \"BLM\"=\"BLM/George_Floyd\")"
   ]
  },
  {
   "cell_type": "code",
   "execution_count": 22,
   "id": "1df66bb0",
   "metadata": {},
   "outputs": [
    {
     "data": {
      "text/plain": [
       "\n",
       "Call:\n",
       "lm(formula = BLM * 100 ~ median_hh_inc + white_pct + rural_pct, \n",
       "    data = df)\n",
       "\n",
       "Residuals:\n",
       "   Min     1Q Median     3Q    Max \n",
       "-1.709 -1.483 -1.312 -0.967 95.087 \n",
       "\n",
       "Coefficients:\n",
       "                Estimate Std. Error t value Pr(>|t|)    \n",
       "(Intercept)    1.186e+00  6.374e-02  18.615   <2e-16 ***\n",
       "median_hh_inc -4.570e-07  9.843e-07  -0.464    0.642    \n",
       "white_pct      7.299e-03  6.488e-04  11.250   <2e-16 ***\n",
       "rural_pct     -1.388e-02  6.118e-04 -22.685   <2e-16 ***\n",
       "---\n",
       "Signif. codes:  0 ‘***’ 0.001 ‘**’ 0.01 ‘*’ 0.05 ‘.’ 0.1 ‘ ’ 1\n",
       "\n",
       "Residual standard error: 6.55 on 359176 degrees of freedom\n",
       "  (446979 observations deleted due to missingness)\n",
       "Multiple R-squared:  0.002001,\tAdjusted R-squared:  0.001993 \n",
       "F-statistic:   240 on 3 and 359176 DF,  p-value: < 2.2e-16\n"
      ]
     },
     "metadata": {},
     "output_type": "display_data"
    }
   ],
   "source": [
    "BLM_lm = lm(BLM*100~median_hh_inc+white_pct+rural_pct, data=df)\n",
    "\n",
    "#lmer(Wildlife_Farms*100~median_hh_inc+white_pct+rural_pct + (1|month_year) + (1 | source ), data=df)\n",
    "summary(BLM_lm)"
   ]
  },
  {
   "cell_type": "markdown",
   "id": "d7f74f50",
   "metadata": {},
   "source": [
    "## TODO: check VIF scores \n",
    "\n",
    "## PROBLEM: white has negative effect alone, but positive effect with rural. Likely due to covariance between them? "
   ]
  },
  {
   "cell_type": "code",
   "execution_count": 23,
   "id": "961ea1e8",
   "metadata": {},
   "outputs": [
    {
     "data": {
      "text/plain": [
       "\n",
       "Call:\n",
       "lm(formula = BLM * 100 ~ white_pct, data = df)\n",
       "\n",
       "Residuals:\n",
       "   Min     1Q Median     3Q    Max \n",
       "-1.412 -1.311 -1.273 -1.245 95.311 \n",
       "\n",
       "Coefficients:\n",
       "             Estimate Std. Error t value Pr(>|t|)    \n",
       "(Intercept)  1.425883   0.037641  37.881  < 2e-16 ***\n",
       "white_pct   -0.001695   0.000525  -3.228  0.00125 ** \n",
       "---\n",
       "Signif. codes:  0 ‘***’ 0.001 ‘**’ 0.01 ‘*’ 0.05 ‘.’ 0.1 ‘ ’ 1\n",
       "\n",
       "Residual standard error: 6.556 on 359178 degrees of freedom\n",
       "  (446979 observations deleted due to missingness)\n",
       "Multiple R-squared:  2.901e-05,\tAdjusted R-squared:  2.623e-05 \n",
       "F-statistic: 10.42 on 1 and 359178 DF,  p-value: 0.001247\n"
      ]
     },
     "metadata": {},
     "output_type": "display_data"
    }
   ],
   "source": [
    "BLM_white = lm(BLM*100~white_pct, data=df)\n",
    "summary(BLM_white)"
   ]
  },
  {
   "cell_type": "markdown",
   "id": "d47f4ada",
   "metadata": {},
   "source": [
    "# Interpretation: \n",
    "- increase in 1% whiteness associated with change of of -.1% BLM_topic coverage "
   ]
  },
  {
   "cell_type": "code",
   "execution_count": 24,
   "id": "24b902f2",
   "metadata": {},
   "outputs": [
    {
     "data": {
      "text/plain": [
       "\n",
       "Call:\n",
       "lm(formula = BLM * 100 ~ rural_pct, data = df)\n",
       "\n",
       "Residuals:\n",
       "   Min     1Q Median     3Q    Max \n",
       "-1.576 -1.514 -1.283 -0.997 95.152 \n",
       "\n",
       "Coefficients:\n",
       "              Estimate Std. Error t value Pr(>|t|)    \n",
       "(Intercept)  1.5763786  0.0155269  101.53   <2e-16 ***\n",
       "rural_pct   -0.0105129  0.0004346  -24.19   <2e-16 ***\n",
       "---\n",
       "Signif. codes:  0 ‘***’ 0.001 ‘**’ 0.01 ‘*’ 0.05 ‘.’ 0.1 ‘ ’ 1\n",
       "\n",
       "Residual standard error: 6.551 on 359178 degrees of freedom\n",
       "  (446979 observations deleted due to missingness)\n",
       "Multiple R-squared:  0.001627,\tAdjusted R-squared:  0.001624 \n",
       "F-statistic: 585.2 on 1 and 359178 DF,  p-value: < 2.2e-16\n"
      ]
     },
     "metadata": {},
     "output_type": "display_data"
    }
   ],
   "source": [
    "BLM_rural = lm(BLM*100~rural_pct, data=df)\n",
    "summary(BLM_rural)"
   ]
  },
  {
   "cell_type": "code",
   "execution_count": 25,
   "id": "f7d207c4",
   "metadata": {},
   "outputs": [
    {
     "data": {
      "text/plain": [
       "\n",
       "Call:\n",
       "lm(formula = BLM * 100 ~ median_hh_inc + white_pct + rural_pct, \n",
       "    data = df)\n",
       "\n",
       "Residuals:\n",
       "   Min     1Q Median     3Q    Max \n",
       "-1.709 -1.483 -1.312 -0.967 95.087 \n",
       "\n",
       "Coefficients:\n",
       "                Estimate Std. Error t value Pr(>|t|)    \n",
       "(Intercept)    1.186e+00  6.374e-02  18.615   <2e-16 ***\n",
       "median_hh_inc -4.570e-07  9.843e-07  -0.464    0.642    \n",
       "white_pct      7.299e-03  6.488e-04  11.250   <2e-16 ***\n",
       "rural_pct     -1.388e-02  6.118e-04 -22.685   <2e-16 ***\n",
       "---\n",
       "Signif. codes:  0 ‘***’ 0.001 ‘**’ 0.01 ‘*’ 0.05 ‘.’ 0.1 ‘ ’ 1\n",
       "\n",
       "Residual standard error: 6.55 on 359176 degrees of freedom\n",
       "  (446979 observations deleted due to missingness)\n",
       "Multiple R-squared:  0.002001,\tAdjusted R-squared:  0.001993 \n",
       "F-statistic:   240 on 3 and 359176 DF,  p-value: < 2.2e-16\n"
      ]
     },
     "metadata": {},
     "output_type": "display_data"
    }
   ],
   "source": [
    "BLM_lm = lm(BLM*100~median_hh_inc+white_pct+rural_pct, data=df)\n",
    "\n",
    "#lmer(Wildlife_Farms*100~median_hh_inc+white_pct+rural_pct + (1|month_year) + (1 | source ), data=df)\n",
    "summary(BLM_lm)"
   ]
  },
  {
   "cell_type": "markdown",
   "id": "d1deb35f",
   "metadata": {},
   "source": [
    "## Interpretation: \n",
    "- source is 1.5% away from mean on average"
   ]
  },
  {
   "cell_type": "markdown",
   "id": "ca948c04",
   "metadata": {},
   "source": [
    "## BLM topic % ~ demographics + source random effect "
   ]
  },
  {
   "cell_type": "code",
   "execution_count": 27,
   "id": "d091c8ba",
   "metadata": {},
   "outputs": [
    {
     "name": "stderr",
     "output_type": "stream",
     "text": [
      "Warning message:\n",
      "“Some predictor variables are on very different scales: consider rescaling”\n"
     ]
    },
    {
     "data": {
      "text/plain": [
       "Linear mixed model fit by REML ['lmerMod']\n",
       "Formula: BLM * 100 ~ median_hh_inc + white_pct + rural_pct + (1 | source)\n",
       "   Data: df\n",
       "\n",
       "REML criterion at convergence: 2362419\n",
       "\n",
       "Scaled residuals: \n",
       "    Min      1Q  Median      3Q     Max \n",
       "-0.9151 -0.2295 -0.1566 -0.0569 14.5569 \n",
       "\n",
       "Random effects:\n",
       " Groups   Name        Variance Std.Dev.\n",
       " source   (Intercept)  1.25    1.118   \n",
       " Residual             41.96    6.477   \n",
       "Number of obs: 359180, groups:  source, 310\n",
       "\n",
       "Fixed effects:\n",
       "                Estimate Std. Error t value\n",
       "(Intercept)    1.353e+00  3.558e-01   3.804\n",
       "median_hh_inc -1.160e-05  4.995e-06  -2.323\n",
       "white_pct      1.276e-02  3.988e-03   3.201\n",
       "rural_pct     -1.500e-02  3.174e-03  -4.726\n",
       "\n",
       "Correlation of Fixed Effects:\n",
       "            (Intr) mdn_h_ wht_pc\n",
       "medin_hh_nc -0.698              \n",
       "white_pct   -0.404 -0.318       \n",
       "rural_pct   -0.324  0.598 -0.535\n",
       "fit warnings:\n",
       "Some predictor variables are on very different scales: consider rescaling"
      ]
     },
     "metadata": {},
     "output_type": "display_data"
    }
   ],
   "source": [
    "BLM_lm = lmer(BLM*100~median_hh_inc+white_pct+rural_pct+(1|source), data=df)\n",
    "\n",
    "#lmer(Wildlife_Farms*100~median_hh_inc+white_pct+rural_pct + (1|month_year) + (1 | source ), data=df)\n",
    "summary(BLM_lm)"
   ]
  },
  {
   "cell_type": "markdown",
   "id": "ae82db7f",
   "metadata": {},
   "source": [
    "## Interpretation: \n",
    "- source and month_year each vary from mean topic coverage by ~1%. White and rural have positive, negative effects \n",
    "of ~.1% increase/decrease in topic coverage for 1% increase in white/rural "
   ]
  },
  {
   "cell_type": "code",
   "execution_count": 28,
   "id": "51ccb0b5",
   "metadata": {},
   "outputs": [
    {
     "name": "stderr",
     "output_type": "stream",
     "text": [
      "Warning message:\n",
      "“Some predictor variables are on very different scales: consider rescaling”\n"
     ]
    },
    {
     "data": {
      "text/plain": [
       "Linear mixed model fit by REML ['lmerMod']\n",
       "Formula: BLM * 100 ~ median_hh_inc + white_pct + rural_pct + (1 | source) +  \n",
       "    (1 | month_year)\n",
       "   Data: df\n",
       "\n",
       "REML criterion at convergence: 2351935\n",
       "\n",
       "Scaled residuals: \n",
       "    Min      1Q  Median      3Q     Max \n",
       "-1.5926 -0.2442 -0.1245 -0.0148 14.8332 \n",
       "\n",
       "Random effects:\n",
       " Groups     Name        Variance Std.Dev.\n",
       " source     (Intercept)  1.021   1.011   \n",
       " month_year (Intercept)  1.169   1.081   \n",
       " Residual               40.740   6.383   \n",
       "Number of obs: 359180, groups:  source, 310; month_year, 21\n",
       "\n",
       "Fixed effects:\n",
       "                Estimate Std. Error t value\n",
       "(Intercept)    1.300e+00  4.004e-01   3.247\n",
       "median_hh_inc -1.062e-05  4.546e-06  -2.336\n",
       "white_pct      1.035e-02  3.625e-03   2.856\n",
       "rural_pct     -1.322e-02  2.889e-03  -4.576\n",
       "\n",
       "Correlation of Fixed Effects:\n",
       "            (Intr) mdn_h_ wht_pc\n",
       "medin_hh_nc -0.564              \n",
       "white_pct   -0.326 -0.318       \n",
       "rural_pct   -0.262  0.597 -0.535\n",
       "fit warnings:\n",
       "Some predictor variables are on very different scales: consider rescaling"
      ]
     },
     "metadata": {},
     "output_type": "display_data"
    }
   ],
   "source": [
    "BLM_lm = lmer(BLM*100~median_hh_inc+white_pct+rural_pct+(1|source)+(1|month_year), data=df)\n",
    "\n",
    "#lmer(Wildlife_Farms*100~median_hh_inc+white_pct+rural_pct + (1|month_year) + (1 | source ), data=df)\n",
    "summary(BLM_lm)"
   ]
  },
  {
   "cell_type": "code",
   "execution_count": null,
   "id": "2b645c0b",
   "metadata": {},
   "outputs": [],
   "source": []
  }
 ],
 "metadata": {
  "kernelspec": {
   "display_name": "R",
   "language": "R",
   "name": "ir"
  },
  "language_info": {
   "codemirror_mode": "r",
   "file_extension": ".r",
   "mimetype": "text/x-r-source",
   "name": "R",
   "pygments_lexer": "r",
   "version": "4.1.3"
  }
 },
 "nbformat": 4,
 "nbformat_minor": 5
}
