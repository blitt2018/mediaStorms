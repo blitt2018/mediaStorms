{
 "cells": [
  {
   "cell_type": "code",
   "execution_count": 18,
   "metadata": {},
   "outputs": [],
   "source": [
    "import pandas as pd \n",
    "import re\n",
    "import networkx as nx\n",
    "import matplotlib.pyplot as plt\n",
    "import seaborn as sns\n",
    "import itertools"
   ]
  },
  {
   "cell_type": "code",
   "execution_count": 19,
   "metadata": {},
   "outputs": [],
   "source": [
    "OUT_PATH = \"/shared/3/projects/newsDiffusion/data/interim/NEREmbedding/embeddingClusterList2020TEST.pkl\"\n",
    "OUT_GRAPH_PATH = \"/shared/3/projects/newsDiffusion/data/interim/NEREmbedding/edgeList2020_5_1000_8TEST.edgelist\""
   ]
  },
  {
   "cell_type": "code",
   "execution_count": 20,
   "metadata": {},
   "outputs": [],
   "source": [
    "#load pairwise information \n",
    "#unfortunately this takes a while since it includes the embeddings \n",
    "pairsDf = pd.read_pickle(\"/shared/3/projects/newsDiffusion/data/interim/NEREmbedding/entityPairs2020TEST.pkl\")"
   ]
  },
  {
   "cell_type": "code",
   "execution_count": 21,
   "metadata": {},
   "outputs": [],
   "source": [
    "pairsDf = pairsDf.drop(columns=[\"embedding\"])"
   ]
  },
  {
   "cell_type": "code",
   "execution_count": 22,
   "metadata": {},
   "outputs": [],
   "source": [
    "#load embeddings to be merged to the pairsDf \n",
    "simDf = pd.read_pickle(\"/shared/3/projects/newsDiffusion/data/interim/NEREmbedding/embeddingPairSimilarity2020TEST.pkl\")"
   ]
  },
  {
   "cell_type": "code",
   "execution_count": 23,
   "metadata": {},
   "outputs": [],
   "source": [
    "#merge embedings onto pairsDf \n",
    "pairsDf[\"similarity\"] = simDf[\"similarity\"]"
   ]
  },
  {
   "cell_type": "code",
   "execution_count": 24,
   "metadata": {},
   "outputs": [],
   "source": [
    "#keep only edges with similarity over the cutoff \n",
    "pairsDf = pairsDf[pairsDf[\"similarity\"] >= .8].reset_index(drop=True)"
   ]
  },
  {
   "cell_type": "code",
   "execution_count": 25,
   "metadata": {},
   "outputs": [
    {
     "name": "stdout",
     "output_type": "stream",
     "text": [
      "1441 pairs >= .8 \n"
     ]
    }
   ],
   "source": [
    "print(str(len(pairsDf)) + \" pairs >= .8 \") "
   ]
  },
  {
   "cell_type": "code",
   "execution_count": 26,
   "metadata": {},
   "outputs": [
    {
     "name": "stdout",
     "output_type": "stream",
     "text": [
      "creating graph\n"
     ]
    }
   ],
   "source": [
    "#this automatically gets rid of duplicates since parallel edges aren't \n",
    "#allowed and graph is undirected by default \n",
    "print(\"creating graph\")\n",
    "graph = nx.from_pandas_edgelist(pairsDf[[\"key1\", \"key2\"]], \"key1\", \"key2\")"
   ]
  },
  {
   "cell_type": "code",
   "execution_count": 28,
   "metadata": {},
   "outputs": [],
   "source": [
    "print(\"writing edgelist\")\n",
    "nx.write_edgelist(graph, OUT_GRAPH_PATH)"
   ]
  },
  {
   "cell_type": "code",
   "execution_count": 27,
   "metadata": {},
   "outputs": [
    {
     "name": "stdout",
     "output_type": "stream",
     "text": [
      "generating components\n"
     ]
    }
   ],
   "source": [
    "print(\"generating components\")\n",
    "components = nx.connected_components(graph)\n",
    "compList = [comp for comp in components]"
   ]
  },
  {
   "cell_type": "code",
   "execution_count": 17,
   "metadata": {},
   "outputs": [],
   "source": [
    "for component in compGraphs: \n",
    "    #do some more stuff\n",
    "    pass "
   ]
  },
  {
   "cell_type": "code",
   "execution_count": 22,
   "metadata": {},
   "outputs": [],
   "source": [
    "#put clustered data into long form \n",
    "clusters = pd.DataFrame({\"cluster\":compList}).reset_index()\n",
    "clustDf = clusters.explode(\"cluster\").rename(columns={\"index\":\"clustNum\", \"cluster\":\"key\"})"
   ]
  },
  {
   "cell_type": "code",
   "execution_count": 26,
   "metadata": {},
   "outputs": [],
   "source": [
    "clustDf.to_pickle(OUT_PATH)"
   ]
  }
 ],
 "metadata": {
  "kernelspec": {
   "display_name": "Python 3",
   "language": "python",
   "name": "python3"
  },
  "language_info": {
   "codemirror_mode": {
    "name": "ipython",
    "version": 3
   },
   "file_extension": ".py",
   "mimetype": "text/x-python",
   "name": "python",
   "nbconvert_exporter": "python",
   "pygments_lexer": "ipython3",
   "version": "3.8.5"
  }
 },
 "nbformat": 4,
 "nbformat_minor": 4
}
