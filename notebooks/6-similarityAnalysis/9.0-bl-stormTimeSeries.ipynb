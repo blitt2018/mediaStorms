{
 "cells": [
  {
   "cell_type": "code",
   "execution_count": 1,
   "metadata": {},
   "outputs": [],
   "source": [
    "import pandas as pd\n",
    "import seaborn as sns\n",
    "import matplotlib.pyplot as plt\n",
    "import numpy as np"
   ]
  },
  {
   "cell_type": "code",
   "execution_count": 2,
   "metadata": {},
   "outputs": [],
   "source": [
    "SCOL_NAME = \"20000_90\""
   ]
  },
  {
   "cell_type": "code",
   "execution_count": 3,
   "metadata": {},
   "outputs": [
    {
     "name": "stderr",
     "output_type": "stream",
     "text": [
      "<ipython-input-3-0089648ec02c>:13: DtypeWarning: Columns (4,5,12,13,15,16,19) have mixed types. Specify dtype option on import or set low_memory=False.\n",
      "  artDf = pd.read_csv(ARTICLES_PATH, sep=\"\\t\")\n"
     ]
    }
   ],
   "source": [
    "#set paths \n",
    "STORMS_PATH  = \"/shared/3/projects/newsDiffusion/data/processed/stormDfs/20000_90_storms.tsv\"\n",
    "ARTICLES_PATH = \"/shared/3/projects/newsDiffusion/data/processed/fullDataWith20000.tsv\"\n",
    "POLITICS_PATH = \"/shared/3/projects/newsDiffusion/data/raw/NELAdata/CSVs/politics.csv\"\n",
    "VER_2020 = \"/shared/3/projects/newsDiffusion/data/raw/NELA-gt-2020/labels.csv\"\n",
    "VER_2021 = \"/shared/3/projects/newsDiffusion/data/raw/NELA-gt-2021/labels_all.tab\"\n",
    "\n",
    "#read data\n",
    "ver2020 = pd.read_csv(VER_2020)\n",
    "ver2021 = pd.read_csv(VER_2021, sep=\"\\t\")\n",
    "politics = pd.read_csv(POLITICS_PATH)\n",
    "stormsDf = pd.read_csv(STORMS_PATH, sep=\"\\t\")\n",
    "artDf = pd.read_csv(ARTICLES_PATH, sep=\"\\t\")\n",
    "\n",
    "#clean up dframes \n",
    "artDf[\"date\"] = pd.to_datetime(artDf[\"date\"])\n",
    "artDf = artDf.drop(columns=[\"Unnamed: 0\"])\n",
    "stormsDf = stormsDf.drop(columns=[\"Unnamed: 0\", SCOL_NAME])\n",
    "\n",
    "#only keep articles after april 4th, that's when local coverage started \n",
    "artDf = artDf[artDf[\"date\"] > \"2020-04-01\"]\n",
    "\n",
    "F_COLOR = \"#fdae61\"\n",
    "S_COLOR = \"#abdda4\""
   ]
  },
  {
   "cell_type": "code",
   "execution_count": 446,
   "metadata": {},
   "outputs": [
    {
     "data": {
      "text/plain": [
       "Index(['Unnamed: 0.2', 'Unnamed: 0.1', 'key', 'local_id', 'sourcedomain_id',\n",
       "       'date', 'title', 'content', 'url', 'fips', 'source', 'description',\n",
       "       'onlinesince', 'rank', 'state', 'city', 'lon', 'lat', 'county',\n",
       "       'total_population', 'white_pct', 'black_pct', 'hispanic_pct',\n",
       "       'nonwhite_pct', 'foreignborn_pct', 'female_pct', 'age29andunder_pct',\n",
       "       'age65andolder_pct', 'median_hh_inc', 'clf_unemploy_pct', 'lesshs_pct',\n",
       "       'lesscollege_pct', 'lesshs_whites_pct', 'lesscollege_whites_pct',\n",
       "       'rural_pct', 'ruralurban_cc', 'predrt_0', 'predrt_12', 'predrt_3',\n",
       "       'national', 'id', 'author', 'published', 'published_utc',\n",
       "       'collection_utc', '20000_80', '20000_85', '20000_90', 'year'],\n",
       "      dtype='object')"
      ]
     },
     "execution_count": 446,
     "metadata": {},
     "output_type": "execute_result"
    }
   ],
   "source": [
    "artDf.columns"
   ]
  },
  {
   "cell_type": "code",
   "execution_count": 5,
   "metadata": {},
   "outputs": [],
   "source": [
    "#fill in the clusters of size 1 that have no cluster label \n",
    "clustList = list(artDf[SCOL_NAME])\n",
    "clustNum = np.nanmax(clustList) + 1\n",
    "\n",
    "for i, num in enumerate(clustList): \n",
    "    currClust = num\n",
    "    if num != num: \n",
    "        clustList[i] = clustNum \n",
    "        clustNum += 1\n",
    "    \n",
    "\n",
    "artDf[SCOL_NAME] = clustList\n",
    "artDf[SCOL_NAME] = artDf[SCOL_NAME].astype(int)"
   ]
  },
  {
   "cell_type": "code",
   "execution_count": 197,
   "metadata": {},
   "outputs": [],
   "source": [
    "def storyLen(inList): \n",
    "    return (max(inList) - min(inList)) / np.timedelta64(1,\"D\")\n",
    "\n",
    "#get features of each cluster\n",
    "test = artDf[[SCOL_NAME, \"date\"]].groupby(SCOL_NAME).agg(list)\n",
    "\n",
    "test[\"nArts\"] = test[\"date\"].apply(len)\n",
    "\n",
    "test[\"storyLen\"] = test[\"date\"].apply(storyLen)\n",
    "\n",
    "test = test.reset_index().drop(columns=[\"date\"])"
   ]
  },
  {
   "cell_type": "code",
   "execution_count": 198,
   "metadata": {},
   "outputs": [],
   "source": [
    "#fill na in 2021 with 2020 ratings \n",
    "sourceDf = pd.merge(ver2020, ver2021[[\"source\",\"label\"]], on=\"source\", how=\"outer\")\n",
    "sourceDf[\"label\"] = sourceDf[\"label_y\"].fillna(sourceDf[\"label_x\"])\n",
    "\n",
    "#get local/national labels \n",
    "localNat = artDf[[\"source\", \"national\"]].drop_duplicates()\n",
    "sourceDf = pd.merge(sourceDf, localNat, on=\"source\", how=\"outer\")\n",
    "\n",
    "#we want outlets with both local and national classification to be local \n",
    "sourceDf = sourceDf.sort_values(\"national\").drop_duplicates(subset=[\"source\"])\n",
    "\n",
    "sourceDf.loc[(sourceDf[\"source\"] == \"charlotteobserver\"), [\"national\"]] = False\n",
    "\n",
    "#only item with a -1 reliability that matters/is relevant is forbes... \n",
    "#should be rated \"reliable\"\n",
    "sourceDf.loc[sourceDf[\"source\"] == \"forbes\", \"label\"] = 0\n",
    "\n",
    "#if we have nat/local duplicates, call them local \n",
    "sourceDf = sourceDf.sort_values(\"national\").drop_duplicates(subset=[\"source\"])\n",
    "\n",
    "sourceDf = sourceDf.rename(columns={\"label\":\"verLab\"})"
   ]
  },
  {
   "cell_type": "code",
   "execution_count": 200,
   "metadata": {},
   "outputs": [],
   "source": [
    "\n",
    "#perform the necessary merging \n",
    "merged = pd.merge(artDf.drop(columns=[\"national\"]), sourceDf[[\"source\", \"verLab\", \"national\"]], on=\"source\", how=\"left\")\n",
    "\n",
    "merged = pd.merge(merged, politics, on=\"fips\", how=\"left\")\n",
    "merged = pd.merge(merged, stormsDf, on=\"key\", how=\"left\")\n",
    "merged[SCOL_NAME + \"_storm\"] = merged[SCOL_NAME + \"_storm\"].fillna(False)\n",
    "\n",
    "merged = pd.merge(merged, test, on=SCOL_NAME, how=\"left\")"
   ]
  },
  {
   "cell_type": "code",
   "execution_count": 202,
   "metadata": {},
   "outputs": [
    {
     "data": {
      "text/plain": [
       "0"
      ]
     },
     "execution_count": 202,
     "metadata": {},
     "output_type": "execute_result"
    }
   ],
   "source": [
    "sum(merged[\"key\"].duplicated())"
   ]
  },
  {
   "cell_type": "code",
   "execution_count": 8,
   "metadata": {},
   "outputs": [],
   "source": [
    "#now we want to get the time series for each storm and plot it. \n",
    "\n",
    "#if it seems logical, we can fit parametric curves? "
   ]
  },
  {
   "cell_type": "code",
   "execution_count": 116,
   "metadata": {},
   "outputs": [
    {
     "data": {
      "text/html": [
       "<div>\n",
       "<style scoped>\n",
       "    .dataframe tbody tr th:only-of-type {\n",
       "        vertical-align: middle;\n",
       "    }\n",
       "\n",
       "    .dataframe tbody tr th {\n",
       "        vertical-align: top;\n",
       "    }\n",
       "\n",
       "    .dataframe thead th {\n",
       "        text-align: right;\n",
       "    }\n",
       "</style>\n",
       "<table border=\"1\" class=\"dataframe\">\n",
       "  <thead>\n",
       "    <tr style=\"text-align: right;\">\n",
       "      <th></th>\n",
       "      <th>date</th>\n",
       "      <th>rural_pct</th>\n",
       "      <th>national</th>\n",
       "    </tr>\n",
       "    <tr>\n",
       "      <th>20000_90</th>\n",
       "      <th></th>\n",
       "      <th></th>\n",
       "      <th></th>\n",
       "    </tr>\n",
       "  </thead>\n",
       "  <tbody>\n",
       "    <tr>\n",
       "      <th>359</th>\n",
       "      <td>[2020-07-07 00:00:00, 2020-07-07 00:00:00, 202...</td>\n",
       "      <td>[nan, nan, nan, nan, nan, nan, 4.1955192253125...</td>\n",
       "      <td>[True, True, True, True, True, True, False, Tr...</td>\n",
       "    </tr>\n",
       "    <tr>\n",
       "      <th>533</th>\n",
       "      <td>[2020-09-18 00:00:00, 2020-09-18 00:00:00, 202...</td>\n",
       "      <td>[nan, nan, nan, nan, nan, nan, nan, nan, nan, ...</td>\n",
       "      <td>[True, True, True, True, True, True, True, Tru...</td>\n",
       "    </tr>\n",
       "    <tr>\n",
       "      <th>608</th>\n",
       "      <td>[2020-11-03 00:00:00, 2020-11-03 00:00:00, 202...</td>\n",
       "      <td>[nan, nan, 37.1145605465824, 62.736, 40.986060...</td>\n",
       "      <td>[False, True, False, False, False, False, Fals...</td>\n",
       "    </tr>\n",
       "    <tr>\n",
       "      <th>1312</th>\n",
       "      <td>[2021-05-10 00:00:00, 2021-05-10 00:00:00, 202...</td>\n",
       "      <td>[4.19551922531257, 2.22496040957112, nan, nan,...</td>\n",
       "      <td>[False, False, True, True, True, False, False,...</td>\n",
       "    </tr>\n",
       "    <tr>\n",
       "      <th>1628</th>\n",
       "      <td>[2021-07-01 00:00:00, 2021-07-01 00:00:00, 202...</td>\n",
       "      <td>[63.5115738928469, nan, nan, nan, 48.391736040...</td>\n",
       "      <td>[False, True, True, True, False, True, True, F...</td>\n",
       "    </tr>\n",
       "  </tbody>\n",
       "</table>\n",
       "</div>"
      ],
      "text/plain": [
       "                                                       date   \n",
       "20000_90                                                      \n",
       "359       [2020-07-07 00:00:00, 2020-07-07 00:00:00, 202...  \\\n",
       "533       [2020-09-18 00:00:00, 2020-09-18 00:00:00, 202...   \n",
       "608       [2020-11-03 00:00:00, 2020-11-03 00:00:00, 202...   \n",
       "1312      [2021-05-10 00:00:00, 2021-05-10 00:00:00, 202...   \n",
       "1628      [2021-07-01 00:00:00, 2021-07-01 00:00:00, 202...   \n",
       "\n",
       "                                                  rural_pct   \n",
       "20000_90                                                      \n",
       "359       [nan, nan, nan, nan, nan, nan, 4.1955192253125...  \\\n",
       "533       [nan, nan, nan, nan, nan, nan, nan, nan, nan, ...   \n",
       "608       [nan, nan, 37.1145605465824, 62.736, 40.986060...   \n",
       "1312      [4.19551922531257, 2.22496040957112, nan, nan,...   \n",
       "1628      [63.5115738928469, nan, nan, nan, 48.391736040...   \n",
       "\n",
       "                                                   national  \n",
       "20000_90                                                     \n",
       "359       [True, True, True, True, True, True, False, Tr...  \n",
       "533       [True, True, True, True, True, True, True, Tru...  \n",
       "608       [False, True, False, False, False, False, Fals...  \n",
       "1312      [False, False, True, True, True, False, False,...  \n",
       "1628      [False, True, True, True, False, True, True, F...  "
      ]
     },
     "execution_count": 116,
     "metadata": {},
     "output_type": "execute_result"
    }
   ],
   "source": [
    "dateDf = merged.loc[merged[SCOL_NAME + \"_storm\"], [SCOL_NAME, \"date\", \"rural_pct\", \"national\"]].groupby(by=[SCOL_NAME]).agg(list)\n",
    "dateDf.head()"
   ]
  },
  {
   "cell_type": "code",
   "execution_count": 203,
   "metadata": {},
   "outputs": [],
   "source": [
    "from collections import Counter\n",
    "\n",
    "def getPeakDay(inList): \n",
    "    return Counter(inList).most_common()[0][0]\n",
    "\n",
    "def getFirstDay(inList): \n",
    "    return min(inList)\n",
    "\n",
    "\n",
    "#first find peak coverage \n",
    "dateDf = merged.loc[merged[SCOL_NAME + \"_storm\"], [SCOL_NAME, \"date\", \"national\", \"rural_pct\", \"state\"]].groupby(by=[SCOL_NAME]).agg(list) #.agg(len)"
   ]
  },
  {
   "cell_type": "code",
   "execution_count": 204,
   "metadata": {},
   "outputs": [],
   "source": [
    "dateDf[\"totalArts\"] = dateDf[\"date\"].apply(len)\n",
    "dateDf[\"peakDay\"] = pd.to_datetime(dateDf[\"date\"].apply(getPeakDay))\n",
    "dateDf[\"firstDay\"] = pd.to_datetime(dateDf[\"date\"].apply(getFirstDay))\n",
    "\n",
    "dateDf = dateDf.explode([\"date\", \"rural_pct\", \"national\", \"state\"])\n",
    "\n",
    "dateDf[\"fDayNorm\"] = ((dateDf[\"date\"] - dateDf[\"firstDay\"]) / np.timedelta64(1, \"D\")).astype(int)\n",
    "dateDf[\"pDayNorm\"] = ((dateDf[\"date\"] - dateDf[\"peakDay\"]) / np.timedelta64(1, \"D\")).astype(int)\n",
    "\n"
   ]
  },
  {
   "cell_type": "code",
   "execution_count": 213,
   "metadata": {},
   "outputs": [],
   "source": [
    "#get the day of peak \n",
    "#only need one row per storm \n",
    "peakDf = dateDf.reset_index().drop_duplicates(subset=[SCOL_NAME])[[SCOL_NAME, \"peakDay\", \"firstDay\"]]\n",
    "peakDf[\"peakDayInt\"] = (peakDf[\"peakDay\"] - peakDf[\"firstDay\"]) / np.timedelta64(1, \"D\")"
   ]
  },
  {
   "cell_type": "code",
   "execution_count": null,
   "metadata": {},
   "outputs": [],
   "source": []
  },
  {
   "cell_type": "code",
   "execution_count": 497,
   "metadata": {},
   "outputs": [
    {
     "data": {
      "image/png": "[encoded data removed]",
      "text/plain": [
       "<Figure size 360x360 with 1 Axes>"
      ]
     },
     "metadata": {
      "needs_background": "light"
     },
     "output_type": "display_data"
    }
   ],
   "source": [
    "fig, ax = plt.subplots(figsize=(5, 5))\n",
    "\n",
    "sns.histplot(data=peakDf, x=\"peakDayInt\", ax=ax, color=colDict[\"turqoise\"])\n",
    "ax.set_title(\"Distribution of Storm Peak Days\")\n",
    "ax.set_xlabel(\"Peak Day of Storm\")\n",
    "ax.set_ylabel(\"Count\")\n",
    "\n",
    "plt.savefig(FIG_PATH + \"peakDay.pdf\", bbox_inches=\"tight\")"
   ]
  },
  {
   "cell_type": "code",
   "execution_count": 307,
   "metadata": {},
   "outputs": [
    {
     "data": {
      "text/plain": [
       "4.5"
      ]
     },
     "execution_count": 307,
     "metadata": {},
     "output_type": "execute_result"
    }
   ],
   "source": [
    "np.mean(peakDf[\"peakDayInt\"])\n",
    "np.median(peakDf[\"peakDayInt\"])"
   ]
  },
  {
   "cell_type": "code",
   "execution_count": 316,
   "metadata": {},
   "outputs": [
    {
     "data": {
      "text/plain": [
       "0.8469387755102041"
      ]
     },
     "execution_count": 316,
     "metadata": {},
     "output_type": "execute_result"
    }
   ],
   "source": []
  },
  {
   "cell_type": "code",
   "execution_count": 217,
   "metadata": {},
   "outputs": [
    {
     "data": {
      "text/html": [
       "<div>\n",
       "<style scoped>\n",
       "    .dataframe tbody tr th:only-of-type {\n",
       "        vertical-align: middle;\n",
       "    }\n",
       "\n",
       "    .dataframe tbody tr th {\n",
       "        vertical-align: top;\n",
       "    }\n",
       "\n",
       "    .dataframe thead th {\n",
       "        text-align: right;\n",
       "    }\n",
       "</style>\n",
       "<table border=\"1\" class=\"dataframe\">\n",
       "  <thead>\n",
       "    <tr style=\"text-align: right;\">\n",
       "      <th></th>\n",
       "      <th>20000_90</th>\n",
       "      <th>peakDay</th>\n",
       "      <th>firstDay</th>\n",
       "      <th>peakDayInt</th>\n",
       "    </tr>\n",
       "  </thead>\n",
       "  <tbody>\n",
       "    <tr>\n",
       "      <th>2745</th>\n",
       "      <td>1917</td>\n",
       "      <td>2021-08-27</td>\n",
       "      <td>2021-08-09</td>\n",
       "      <td>18.0</td>\n",
       "    </tr>\n",
       "    <tr>\n",
       "      <th>3089</th>\n",
       "      <td>2195</td>\n",
       "      <td>2021-09-15</td>\n",
       "      <td>2021-08-27</td>\n",
       "      <td>19.0</td>\n",
       "    </tr>\n",
       "    <tr>\n",
       "      <th>6914</th>\n",
       "      <td>5158</td>\n",
       "      <td>2021-06-04</td>\n",
       "      <td>2021-05-07</td>\n",
       "      <td>28.0</td>\n",
       "    </tr>\n",
       "    <tr>\n",
       "      <th>7738</th>\n",
       "      <td>5381</td>\n",
       "      <td>2021-08-10</td>\n",
       "      <td>2021-07-15</td>\n",
       "      <td>26.0</td>\n",
       "    </tr>\n",
       "    <tr>\n",
       "      <th>8870</th>\n",
       "      <td>5773</td>\n",
       "      <td>2021-11-03</td>\n",
       "      <td>2021-09-30</td>\n",
       "      <td>34.0</td>\n",
       "    </tr>\n",
       "    <tr>\n",
       "      <th>9443</th>\n",
       "      <td>6781</td>\n",
       "      <td>2020-10-08</td>\n",
       "      <td>2020-09-17</td>\n",
       "      <td>21.0</td>\n",
       "    </tr>\n",
       "    <tr>\n",
       "      <th>10073</th>\n",
       "      <td>6876</td>\n",
       "      <td>2020-10-27</td>\n",
       "      <td>2020-10-10</td>\n",
       "      <td>17.0</td>\n",
       "    </tr>\n",
       "    <tr>\n",
       "      <th>10937</th>\n",
       "      <td>8088</td>\n",
       "      <td>2021-04-20</td>\n",
       "      <td>2021-03-04</td>\n",
       "      <td>47.0</td>\n",
       "    </tr>\n",
       "    <tr>\n",
       "      <th>13836</th>\n",
       "      <td>14119</td>\n",
       "      <td>2020-05-01</td>\n",
       "      <td>2020-04-12</td>\n",
       "      <td>19.0</td>\n",
       "    </tr>\n",
       "    <tr>\n",
       "      <th>15827</th>\n",
       "      <td>28369</td>\n",
       "      <td>2021-12-23</td>\n",
       "      <td>2021-11-28</td>\n",
       "      <td>25.0</td>\n",
       "    </tr>\n",
       "    <tr>\n",
       "      <th>19559</th>\n",
       "      <td>108922</td>\n",
       "      <td>2020-07-12</td>\n",
       "      <td>2020-06-01</td>\n",
       "      <td>41.0</td>\n",
       "    </tr>\n",
       "    <tr>\n",
       "      <th>19896</th>\n",
       "      <td>130664</td>\n",
       "      <td>2020-04-23</td>\n",
       "      <td>2020-04-06</td>\n",
       "      <td>17.0</td>\n",
       "    </tr>\n",
       "    <tr>\n",
       "      <th>19948</th>\n",
       "      <td>183029</td>\n",
       "      <td>2021-09-17</td>\n",
       "      <td>2021-08-20</td>\n",
       "      <td>28.0</td>\n",
       "    </tr>\n",
       "  </tbody>\n",
       "</table>\n",
       "</div>"
      ],
      "text/plain": [
       "       20000_90    peakDay   firstDay  peakDayInt\n",
       "2745       1917 2021-08-27 2021-08-09        18.0\n",
       "3089       2195 2021-09-15 2021-08-27        19.0\n",
       "6914       5158 2021-06-04 2021-05-07        28.0\n",
       "7738       5381 2021-08-10 2021-07-15        26.0\n",
       "8870       5773 2021-11-03 2021-09-30        34.0\n",
       "9443       6781 2020-10-08 2020-09-17        21.0\n",
       "10073      6876 2020-10-27 2020-10-10        17.0\n",
       "10937      8088 2021-04-20 2021-03-04        47.0\n",
       "13836     14119 2020-05-01 2020-04-12        19.0\n",
       "15827     28369 2021-12-23 2021-11-28        25.0\n",
       "19559    108922 2020-07-12 2020-06-01        41.0\n",
       "19896    130664 2020-04-23 2020-04-06        17.0\n",
       "19948    183029 2021-09-17 2021-08-20        28.0"
      ]
     },
     "execution_count": 217,
     "metadata": {},
     "output_type": "execute_result"
    }
   ],
   "source": [
    "peakDf[peakDf[\"peakDayInt\"] >= 15]"
   ]
  },
  {
   "cell_type": "code",
   "execution_count": 248,
   "metadata": {},
   "outputs": [
    {
     "data": {
      "text/plain": [
       "13"
      ]
     },
     "execution_count": 248,
     "metadata": {},
     "output_type": "execute_result"
    }
   ],
   "source": [
    "len(peakDf[peakDf[\"peakDayInt\"] >= 15]) "
   ]
  },
  {
   "cell_type": "code",
   "execution_count": 247,
   "metadata": {},
   "outputs": [
    {
     "data": {
      "text/plain": [
       "0.1326530612244898"
      ]
     },
     "execution_count": 247,
     "metadata": {},
     "output_type": "execute_result"
    }
   ],
   "source": [
    "len(peakDf[peakDf[\"peakDayInt\"] >= 15]) / len(peakDf)"
   ]
  },
  {
   "cell_type": "code",
   "execution_count": 220,
   "metadata": {},
   "outputs": [],
   "source": [
    "#stories which peak on or after day 15 \n",
    "stormRows = merged.loc[merged[SCOL_NAME + \"_storm\"] == True]"
   ]
  },
  {
   "cell_type": "code",
   "execution_count": 345,
   "metadata": {},
   "outputs": [
    {
     "data": {
      "text/html": [
       "<div>\n",
       "<style scoped>\n",
       "    .dataframe tbody tr th:only-of-type {\n",
       "        vertical-align: middle;\n",
       "    }\n",
       "\n",
       "    .dataframe tbody tr th {\n",
       "        vertical-align: top;\n",
       "    }\n",
       "\n",
       "    .dataframe thead th {\n",
       "        text-align: right;\n",
       "    }\n",
       "</style>\n",
       "<table border=\"1\" class=\"dataframe\">\n",
       "  <thead>\n",
       "    <tr style=\"text-align: right;\">\n",
       "      <th></th>\n",
       "      <th>Unnamed: 0.2</th>\n",
       "      <th>Unnamed: 0.1</th>\n",
       "      <th>key</th>\n",
       "      <th>local_id</th>\n",
       "      <th>sourcedomain_id</th>\n",
       "      <th>date</th>\n",
       "      <th>title</th>\n",
       "      <th>content</th>\n",
       "      <th>url</th>\n",
       "      <th>fips</th>\n",
       "      <th>...</th>\n",
       "      <th>national</th>\n",
       "      <th>logodds_Trump20</th>\n",
       "      <th>logodds_Trump16</th>\n",
       "      <th>logodds_Romney12</th>\n",
       "      <th>20000_90_average_pct</th>\n",
       "      <th>20000_90_num_over_cutoff</th>\n",
       "      <th>20000_90_storm_source</th>\n",
       "      <th>20000_90_storm</th>\n",
       "      <th>nArts</th>\n",
       "      <th>storyLen</th>\n",
       "    </tr>\n",
       "  </thead>\n",
       "  <tbody>\n",
       "    <tr>\n",
       "      <th>3155207</th>\n",
       "      <td>3500266</td>\n",
       "      <td>4770364</td>\n",
       "      <td>4770364</td>\n",
       "      <td>NaN</td>\n",
       "      <td>NaN</td>\n",
       "      <td>2021-07-16</td>\n",
       "      <td>Biden says platforms like Facebook are ‘killin...</td>\n",
       "      <td>The White House escalated its fight against va...</td>\n",
       "      <td>https://www.theverge.com/2021/7/16/22580620/bi...</td>\n",
       "      <td>NaN</td>\n",
       "      <td>...</td>\n",
       "      <td>True</td>\n",
       "      <td>NaN</td>\n",
       "      <td>NaN</td>\n",
       "      <td>NaN</td>\n",
       "      <td>0.162162</td>\n",
       "      <td>6.0</td>\n",
       "      <td>['truepundit', 'thenewyorktimes', 'thebl', 'rt...</td>\n",
       "      <td>True</td>\n",
       "      <td>88</td>\n",
       "      <td>9.0</td>\n",
       "    </tr>\n",
       "    <tr>\n",
       "      <th>1138590</th>\n",
       "      <td>1483649</td>\n",
       "      <td>2275878</td>\n",
       "      <td>2275878</td>\n",
       "      <td>NaN</td>\n",
       "      <td>NaN</td>\n",
       "      <td>2020-09-14</td>\n",
       "      <td>Q&amp;A: What does a deal between TikTok and Oracl...</td>\n",
       "      <td>Microsoft , which had been vying for a deal , ...</td>\n",
       "      <td>https://www.mail.com/news/politics/10174290-qa...</td>\n",
       "      <td>NaN</td>\n",
       "      <td>...</td>\n",
       "      <td>True</td>\n",
       "      <td>NaN</td>\n",
       "      <td>NaN</td>\n",
       "      <td>NaN</td>\n",
       "      <td>0.157895</td>\n",
       "      <td>6.0</td>\n",
       "      <td>['waterburyrepublicanamerican', 'rt', 'npr', '...</td>\n",
       "      <td>True</td>\n",
       "      <td>81</td>\n",
       "      <td>8.0</td>\n",
       "    </tr>\n",
       "    <tr>\n",
       "      <th>1613836</th>\n",
       "      <td>1958895</td>\n",
       "      <td>1981762</td>\n",
       "      <td>1981762</td>\n",
       "      <td>NaN</td>\n",
       "      <td>NaN</td>\n",
       "      <td>2020-11-22</td>\n",
       "      <td>Trump legal team: ‘Anticipated’ Pennsylvania l...</td>\n",
       "      <td>President Donald Trump ’ s legal team on Satur...</td>\n",
       "      <td>https://thebl.com/us-news/trump-legal-team-ant...</td>\n",
       "      <td>NaN</td>\n",
       "      <td>...</td>\n",
       "      <td>True</td>\n",
       "      <td>NaN</td>\n",
       "      <td>NaN</td>\n",
       "      <td>NaN</td>\n",
       "      <td>0.125000</td>\n",
       "      <td>8.0</td>\n",
       "      <td>['yahoonews', 'saintpaulpioneerpress', 'pbs', ...</td>\n",
       "      <td>True</td>\n",
       "      <td>161</td>\n",
       "      <td>15.0</td>\n",
       "    </tr>\n",
       "    <tr>\n",
       "      <th>1004736</th>\n",
       "      <td>1349795</td>\n",
       "      <td>369538</td>\n",
       "      <td>369538</td>\n",
       "      <td>moberlymonitorindex--2020-08-24--Postal leader...</td>\n",
       "      <td>moberlymonitorindex-moberlymonitor.com</td>\n",
       "      <td>2020-08-24</td>\n",
       "      <td>Postal leader defends changes, denies 'sabotag...</td>\n",
       "      <td>WASHINGTON — Postmaster General Louis DeJoy to...</td>\n",
       "      <td>https://www.moberlymonitor.com/zz/news/2020082...</td>\n",
       "      <td>29175.0</td>\n",
       "      <td>...</td>\n",
       "      <td>False</td>\n",
       "      <td>1.171416</td>\n",
       "      <td>1.193272</td>\n",
       "      <td>0.788277</td>\n",
       "      <td>0.256757</td>\n",
       "      <td>19.0</td>\n",
       "      <td>['westhawaiitoday', 'thetribunechronicle', 'th...</td>\n",
       "      <td>True</td>\n",
       "      <td>363</td>\n",
       "      <td>11.0</td>\n",
       "    </tr>\n",
       "    <tr>\n",
       "      <th>2480546</th>\n",
       "      <td>2825605</td>\n",
       "      <td>3763207</td>\n",
       "      <td>3763207</td>\n",
       "      <td>NaN</td>\n",
       "      <td>NaN</td>\n",
       "      <td>2021-04-01</td>\n",
       "      <td>\"The System of Policing Is on Trial\": Derek Ch...</td>\n",
       "      <td>This is a rush transcript .\\nCopy may not be i...</td>\n",
       "      <td>http://www.democracynow.org/2021/4/1/derek_cha...</td>\n",
       "      <td>NaN</td>\n",
       "      <td>...</td>\n",
       "      <td>True</td>\n",
       "      <td>NaN</td>\n",
       "      <td>NaN</td>\n",
       "      <td>NaN</td>\n",
       "      <td>0.427184</td>\n",
       "      <td>44.0</td>\n",
       "      <td>['westhawaiitoday', 'westcentraltribune', 'wat...</td>\n",
       "      <td>True</td>\n",
       "      <td>1378</td>\n",
       "      <td>53.0</td>\n",
       "    </tr>\n",
       "    <tr>\n",
       "      <th>3602774</th>\n",
       "      <td>3947833</td>\n",
       "      <td>3562457</td>\n",
       "      <td>3562457</td>\n",
       "      <td>NaN</td>\n",
       "      <td>NaN</td>\n",
       "      <td>2021-09-23</td>\n",
       "      <td>Giant sequoia burns in California wildfire as ...</td>\n",
       "      <td>A giant sequoia has been significantly damaged...</td>\n",
       "      <td>https://www.independent.co.uk/climate-change/n...</td>\n",
       "      <td>NaN</td>\n",
       "      <td>...</td>\n",
       "      <td>True</td>\n",
       "      <td>NaN</td>\n",
       "      <td>NaN</td>\n",
       "      <td>NaN</td>\n",
       "      <td>0.131579</td>\n",
       "      <td>5.0</td>\n",
       "      <td>['thehuffingtonpost', 'npr', 'mail', 'latimes'...</td>\n",
       "      <td>True</td>\n",
       "      <td>111</td>\n",
       "      <td>9.0</td>\n",
       "    </tr>\n",
       "    <tr>\n",
       "      <th>2395552</th>\n",
       "      <td>2740611</td>\n",
       "      <td>1343820</td>\n",
       "      <td>1343820</td>\n",
       "      <td>wadenapioneerjournal--2021-03-19--Judge will n...</td>\n",
       "      <td>wadenapioneerjournal-wadenapj.com</td>\n",
       "      <td>2021-03-19</td>\n",
       "      <td>Judge will not move or delay Derek Chauvin tri...</td>\n",
       "      <td>MINNEAPOLIS — The judge in the trial of Derek ...</td>\n",
       "      <td>https://www.wadenapj.com/derek-chauvin-trial/6...</td>\n",
       "      <td>27159.0</td>\n",
       "      <td>...</td>\n",
       "      <td>False</td>\n",
       "      <td>1.003796</td>\n",
       "      <td>1.055123</td>\n",
       "      <td>0.508335</td>\n",
       "      <td>0.427184</td>\n",
       "      <td>44.0</td>\n",
       "      <td>['westhawaiitoday', 'westcentraltribune', 'wat...</td>\n",
       "      <td>True</td>\n",
       "      <td>1378</td>\n",
       "      <td>53.0</td>\n",
       "    </tr>\n",
       "    <tr>\n",
       "      <th>4031451</th>\n",
       "      <td>4376510</td>\n",
       "      <td>3426693</td>\n",
       "      <td>3426693</td>\n",
       "      <td>NaN</td>\n",
       "      <td>NaN</td>\n",
       "      <td>2021-11-30</td>\n",
       "      <td>BREAKING: CNN 'Indefinitely Suspends' Chris Cuomo</td>\n",
       "      <td>And there it is .\\nMultiple media outlets are ...</td>\n",
       "      <td>https://redstate.com/mike_miller/2021/11/30/br...</td>\n",
       "      <td>NaN</td>\n",
       "      <td>...</td>\n",
       "      <td>True</td>\n",
       "      <td>NaN</td>\n",
       "      <td>NaN</td>\n",
       "      <td>NaN</td>\n",
       "      <td>0.278481</td>\n",
       "      <td>22.0</td>\n",
       "      <td>['usatoday', 'thelowellsun', 'thegatewaypundit...</td>\n",
       "      <td>True</td>\n",
       "      <td>337</td>\n",
       "      <td>9.0</td>\n",
       "    </tr>\n",
       "    <tr>\n",
       "      <th>3823201</th>\n",
       "      <td>4168260</td>\n",
       "      <td>3802563</td>\n",
       "      <td>3802563</td>\n",
       "      <td>NaN</td>\n",
       "      <td>NaN</td>\n",
       "      <td>2021-10-28</td>\n",
       "      <td>Poll: Republican Glenn Youngkin Ahead of Democ...</td>\n",
       "      <td>Republican Glenn Youngkin has pulled ahead of ...</td>\n",
       "      <td>http://feedproxy.google.com/~r/breitbart/~3/yV...</td>\n",
       "      <td>NaN</td>\n",
       "      <td>...</td>\n",
       "      <td>True</td>\n",
       "      <td>NaN</td>\n",
       "      <td>NaN</td>\n",
       "      <td>NaN</td>\n",
       "      <td>0.111111</td>\n",
       "      <td>5.0</td>\n",
       "      <td>['yahoonews', 'politicalwire', 'newsmax', 'mai...</td>\n",
       "      <td>True</td>\n",
       "      <td>132</td>\n",
       "      <td>36.0</td>\n",
       "    </tr>\n",
       "    <tr>\n",
       "      <th>3432459</th>\n",
       "      <td>3777518</td>\n",
       "      <td>982869</td>\n",
       "      <td>982869</td>\n",
       "      <td>bostonherald--2021-08-28--Hurricane Ida takes ...</td>\n",
       "      <td>bostonherald-bostonherald.com</td>\n",
       "      <td>2021-08-28</td>\n",
       "      <td>Hurricane Ida takes form and aims at US Gulf C...</td>\n",
       "      <td>ORLANDO, Fla. — Ida grew into a Category 1 hur...</td>\n",
       "      <td>https://www.bostonherald.com/2021/08/27/hurric...</td>\n",
       "      <td>25025.0</td>\n",
       "      <td>...</td>\n",
       "      <td>False</td>\n",
       "      <td>-1.512086</td>\n",
       "      <td>-1.583911</td>\n",
       "      <td>-1.316854</td>\n",
       "      <td>0.428571</td>\n",
       "      <td>24.0</td>\n",
       "      <td>['westhawaiitoday', 'washingtontimes', 'therep...</td>\n",
       "      <td>True</td>\n",
       "      <td>289</td>\n",
       "      <td>7.0</td>\n",
       "    </tr>\n",
       "    <tr>\n",
       "      <th>2542499</th>\n",
       "      <td>2887558</td>\n",
       "      <td>1389848</td>\n",
       "      <td>1389848</td>\n",
       "      <td>thekennebecjournal--2021-04-10--Ex-officer’s t...</td>\n",
       "      <td>thekennebecjournal-centralmaine.com</td>\n",
       "      <td>2021-04-10</td>\n",
       "      <td>Ex-officer’s trial in George Floyd’s death sho...</td>\n",
       "      <td>MINNEAPOLIS — The murder trial of a former Min...</td>\n",
       "      <td>https://www.centralmaine.com/2021/04/10/ex-off...</td>\n",
       "      <td>23011.0</td>\n",
       "      <td>...</td>\n",
       "      <td>False</td>\n",
       "      <td>-0.003893</td>\n",
       "      <td>0.077872</td>\n",
       "      <td>-0.279428</td>\n",
       "      <td>0.427184</td>\n",
       "      <td>44.0</td>\n",
       "      <td>['westhawaiitoday', 'westcentraltribune', 'wat...</td>\n",
       "      <td>True</td>\n",
       "      <td>1378</td>\n",
       "      <td>53.0</td>\n",
       "    </tr>\n",
       "    <tr>\n",
       "      <th>476043</th>\n",
       "      <td>821102</td>\n",
       "      <td>2203836</td>\n",
       "      <td>2203836</td>\n",
       "      <td>NaN</td>\n",
       "      <td>NaN</td>\n",
       "      <td>2020-06-10</td>\n",
       "      <td>Trump: No Change at Bases Named for Confederat...</td>\n",
       "      <td>President Donald Trump on Wednesday said his a...</td>\n",
       "      <td>https://www.newsmax.com/politics/America-Prote...</td>\n",
       "      <td>NaN</td>\n",
       "      <td>...</td>\n",
       "      <td>True</td>\n",
       "      <td>NaN</td>\n",
       "      <td>NaN</td>\n",
       "      <td>NaN</td>\n",
       "      <td>0.333333</td>\n",
       "      <td>21.0</td>\n",
       "      <td>['wellsvilledailyreporter', 'vox', 'usatoday',...</td>\n",
       "      <td>True</td>\n",
       "      <td>144</td>\n",
       "      <td>11.0</td>\n",
       "    </tr>\n",
       "    <tr>\n",
       "      <th>3564956</th>\n",
       "      <td>3910015</td>\n",
       "      <td>4887413</td>\n",
       "      <td>4887413</td>\n",
       "      <td>NaN</td>\n",
       "      <td>NaN</td>\n",
       "      <td>2021-09-17</td>\n",
       "      <td>FDA advisory panel backs COVID-19 boosters for...</td>\n",
       "      <td>WASHINGTON — After overwhelmingly rejecting a ...</td>\n",
       "      <td>https://www.pbs.org/newshour/health/fda-adviso...</td>\n",
       "      <td>NaN</td>\n",
       "      <td>...</td>\n",
       "      <td>True</td>\n",
       "      <td>NaN</td>\n",
       "      <td>NaN</td>\n",
       "      <td>NaN</td>\n",
       "      <td>0.085714</td>\n",
       "      <td>6.0</td>\n",
       "      <td>['westhawaiitoday', 'saintpaulpioneerpress', '...</td>\n",
       "      <td>True</td>\n",
       "      <td>198</td>\n",
       "      <td>12.0</td>\n",
       "    </tr>\n",
       "    <tr>\n",
       "      <th>1937069</th>\n",
       "      <td>2282128</td>\n",
       "      <td>685210</td>\n",
       "      <td>685210</td>\n",
       "      <td>albuquerquejournal--2021-01-11--Right-wing app...</td>\n",
       "      <td>albuquerquejournal-abqjournal.com</td>\n",
       "      <td>2021-01-11</td>\n",
       "      <td>Right-wing app Parler booted off internet over...</td>\n",
       "      <td>The conservative-friendly social network Parle...</td>\n",
       "      <td>https://www.abqjournal.com/1534923/parler-sque...</td>\n",
       "      <td>35001.0</td>\n",
       "      <td>...</td>\n",
       "      <td>False</td>\n",
       "      <td>-0.511846</td>\n",
       "      <td>-0.415064</td>\n",
       "      <td>-0.348269</td>\n",
       "      <td>0.215385</td>\n",
       "      <td>14.0</td>\n",
       "      <td>['usatoday', 'upi', 'theverge', 'thelibertydai...</td>\n",
       "      <td>True</td>\n",
       "      <td>212</td>\n",
       "      <td>8.0</td>\n",
       "    </tr>\n",
       "    <tr>\n",
       "      <th>3269423</th>\n",
       "      <td>3614482</td>\n",
       "      <td>4682736</td>\n",
       "      <td>4682736</td>\n",
       "      <td>NaN</td>\n",
       "      <td>NaN</td>\n",
       "      <td>2021-08-03</td>\n",
       "      <td>Cuomo sexually harassed \"multiple women,\" viol...</td>\n",
       "      <td>New York Governor Andrew Cuomo sexually harass...</td>\n",
       "      <td>https://www.cbsnews.com/video/andrew-cuomo-sex...</td>\n",
       "      <td>NaN</td>\n",
       "      <td>...</td>\n",
       "      <td>True</td>\n",
       "      <td>NaN</td>\n",
       "      <td>NaN</td>\n",
       "      <td>NaN</td>\n",
       "      <td>0.287500</td>\n",
       "      <td>23.0</td>\n",
       "      <td>['yahoonews', 'westernjournal', 'usatoday', 't...</td>\n",
       "      <td>True</td>\n",
       "      <td>390</td>\n",
       "      <td>15.0</td>\n",
       "    </tr>\n",
       "    <tr>\n",
       "      <th>4062598</th>\n",
       "      <td>4407657</td>\n",
       "      <td>3936388</td>\n",
       "      <td>3936388</td>\n",
       "      <td>NaN</td>\n",
       "      <td>NaN</td>\n",
       "      <td>2021-12-04</td>\n",
       "      <td>CNN fires Chris Cuomo for helping brother deal...</td>\n",
       "      <td>NEW YORK ( AP ) — CNN fired anchor Chris Cuomo...</td>\n",
       "      <td>https://www.mercurynews.com/2021/12/04/cnn-fir...</td>\n",
       "      <td>NaN</td>\n",
       "      <td>...</td>\n",
       "      <td>True</td>\n",
       "      <td>NaN</td>\n",
       "      <td>NaN</td>\n",
       "      <td>NaN</td>\n",
       "      <td>0.278481</td>\n",
       "      <td>22.0</td>\n",
       "      <td>['usatoday', 'thelowellsun', 'thegatewaypundit...</td>\n",
       "      <td>True</td>\n",
       "      <td>337</td>\n",
       "      <td>9.0</td>\n",
       "    </tr>\n",
       "    <tr>\n",
       "      <th>474798</th>\n",
       "      <td>819857</td>\n",
       "      <td>2391021</td>\n",
       "      <td>2391021</td>\n",
       "      <td>NaN</td>\n",
       "      <td>NaN</td>\n",
       "      <td>2020-06-10</td>\n",
       "      <td>George Floyd rookie cop Thomas Lane FREED from...</td>\n",
       "      <td>THOMAS Lane , one of the four officers charged...</td>\n",
       "      <td>https://www.thesun.co.uk/news/11834008/george-...</td>\n",
       "      <td>NaN</td>\n",
       "      <td>...</td>\n",
       "      <td>True</td>\n",
       "      <td>NaN</td>\n",
       "      <td>NaN</td>\n",
       "      <td>NaN</td>\n",
       "      <td>0.108696</td>\n",
       "      <td>10.0</td>\n",
       "      <td>['vox', 'thetribunechronicle', 'thelowellsun',...</td>\n",
       "      <td>True</td>\n",
       "      <td>251</td>\n",
       "      <td>15.0</td>\n",
       "    </tr>\n",
       "    <tr>\n",
       "      <th>1561265</th>\n",
       "      <td>1906324</td>\n",
       "      <td>1981591</td>\n",
       "      <td>1981591</td>\n",
       "      <td>NaN</td>\n",
       "      <td>NaN</td>\n",
       "      <td>2020-11-13</td>\n",
       "      <td>Georgia to hand recount votes in each county, ...</td>\n",
       "      <td>After counting nearly 5 million votes in Georg...</td>\n",
       "      <td>https://thebl.com/us-news/georgia-to-hand-reco...</td>\n",
       "      <td>NaN</td>\n",
       "      <td>...</td>\n",
       "      <td>True</td>\n",
       "      <td>NaN</td>\n",
       "      <td>NaN</td>\n",
       "      <td>NaN</td>\n",
       "      <td>0.485981</td>\n",
       "      <td>52.0</td>\n",
       "      <td>['westhawaiitoday', 'westcentraltribune', 'wat...</td>\n",
       "      <td>True</td>\n",
       "      <td>737</td>\n",
       "      <td>21.0</td>\n",
       "    </tr>\n",
       "    <tr>\n",
       "      <th>3303498</th>\n",
       "      <td>3648557</td>\n",
       "      <td>3379023</td>\n",
       "      <td>3379023</td>\n",
       "      <td>NaN</td>\n",
       "      <td>NaN</td>\n",
       "      <td>2021-08-08</td>\n",
       "      <td>Wildfires Rage Through Greece As Thousands Are...</td>\n",
       "      <td>Wildfires Rage Through Greece As Thousands Are...</td>\n",
       "      <td>https://www.npr.org/2021/08/08/1025947847/wild...</td>\n",
       "      <td>NaN</td>\n",
       "      <td>...</td>\n",
       "      <td>True</td>\n",
       "      <td>NaN</td>\n",
       "      <td>NaN</td>\n",
       "      <td>NaN</td>\n",
       "      <td>0.214286</td>\n",
       "      <td>6.0</td>\n",
       "      <td>['oann', 'npr', 'france24', 'dailyheraldchicag...</td>\n",
       "      <td>True</td>\n",
       "      <td>101</td>\n",
       "      <td>18.0</td>\n",
       "    </tr>\n",
       "    <tr>\n",
       "      <th>886093</th>\n",
       "      <td>1231152</td>\n",
       "      <td>3011818</td>\n",
       "      <td>3011818</td>\n",
       "      <td>NaN</td>\n",
       "      <td>NaN</td>\n",
       "      <td>2020-08-07</td>\n",
       "      <td>President Trump Orders Ban on Transactions Wit...</td>\n",
       "      <td>President Donald Trump on Thursday issued exec...</td>\n",
       "      <td>https://www.ntd.com/trump-orders-ban-on-transa...</td>\n",
       "      <td>NaN</td>\n",
       "      <td>...</td>\n",
       "      <td>True</td>\n",
       "      <td>NaN</td>\n",
       "      <td>NaN</td>\n",
       "      <td>NaN</td>\n",
       "      <td>0.113636</td>\n",
       "      <td>10.0</td>\n",
       "      <td>['thetorontostar', 'thetennesseestar', 'pbs', ...</td>\n",
       "      <td>True</td>\n",
       "      <td>316</td>\n",
       "      <td>19.0</td>\n",
       "    </tr>\n",
       "  </tbody>\n",
       "</table>\n",
       "<p>20 rows × 59 columns</p>\n",
       "</div>"
      ],
      "text/plain": [
       "         Unnamed: 0.2  Unnamed: 0.1      key   \n",
       "3155207       3500266       4770364  4770364  \\\n",
       "1138590       1483649       2275878  2275878   \n",
       "1613836       1958895       1981762  1981762   \n",
       "1004736       1349795        369538   369538   \n",
       "2480546       2825605       3763207  3763207   \n",
       "3602774       3947833       3562457  3562457   \n",
       "2395552       2740611       1343820  1343820   \n",
       "4031451       4376510       3426693  3426693   \n",
       "3823201       4168260       3802563  3802563   \n",
       "3432459       3777518        982869   982869   \n",
       "2542499       2887558       1389848  1389848   \n",
       "476043         821102       2203836  2203836   \n",
       "3564956       3910015       4887413  4887413   \n",
       "1937069       2282128        685210   685210   \n",
       "3269423       3614482       4682736  4682736   \n",
       "4062598       4407657       3936388  3936388   \n",
       "474798         819857       2391021  2391021   \n",
       "1561265       1906324       1981591  1981591   \n",
       "3303498       3648557       3379023  3379023   \n",
       "886093        1231152       3011818  3011818   \n",
       "\n",
       "                                                  local_id   \n",
       "3155207                                                NaN  \\\n",
       "1138590                                                NaN   \n",
       "1613836                                                NaN   \n",
       "1004736  moberlymonitorindex--2020-08-24--Postal leader...   \n",
       "2480546                                                NaN   \n",
       "3602774                                                NaN   \n",
       "2395552  wadenapioneerjournal--2021-03-19--Judge will n...   \n",
       "4031451                                                NaN   \n",
       "3823201                                                NaN   \n",
       "3432459  bostonherald--2021-08-28--Hurricane Ida takes ...   \n",
       "2542499  thekennebecjournal--2021-04-10--Ex-officer’s t...   \n",
       "476043                                                 NaN   \n",
       "3564956                                                NaN   \n",
       "1937069  albuquerquejournal--2021-01-11--Right-wing app...   \n",
       "3269423                                                NaN   \n",
       "4062598                                                NaN   \n",
       "474798                                                 NaN   \n",
       "1561265                                                NaN   \n",
       "3303498                                                NaN   \n",
       "886093                                                 NaN   \n",
       "\n",
       "                                sourcedomain_id       date   \n",
       "3155207                                     NaN 2021-07-16  \\\n",
       "1138590                                     NaN 2020-09-14   \n",
       "1613836                                     NaN 2020-11-22   \n",
       "1004736  moberlymonitorindex-moberlymonitor.com 2020-08-24   \n",
       "2480546                                     NaN 2021-04-01   \n",
       "3602774                                     NaN 2021-09-23   \n",
       "2395552       wadenapioneerjournal-wadenapj.com 2021-03-19   \n",
       "4031451                                     NaN 2021-11-30   \n",
       "3823201                                     NaN 2021-10-28   \n",
       "3432459           bostonherald-bostonherald.com 2021-08-28   \n",
       "2542499     thekennebecjournal-centralmaine.com 2021-04-10   \n",
       "476043                                      NaN 2020-06-10   \n",
       "3564956                                     NaN 2021-09-17   \n",
       "1937069       albuquerquejournal-abqjournal.com 2021-01-11   \n",
       "3269423                                     NaN 2021-08-03   \n",
       "4062598                                     NaN 2021-12-04   \n",
       "474798                                      NaN 2020-06-10   \n",
       "1561265                                     NaN 2020-11-13   \n",
       "3303498                                     NaN 2021-08-08   \n",
       "886093                                      NaN 2020-08-07   \n",
       "\n",
       "                                                     title   \n",
       "3155207  Biden says platforms like Facebook are ‘killin...  \\\n",
       "1138590  Q&A: What does a deal between TikTok and Oracl...   \n",
       "1613836  Trump legal team: ‘Anticipated’ Pennsylvania l...   \n",
       "1004736  Postal leader defends changes, denies 'sabotag...   \n",
       "2480546  \"The System of Policing Is on Trial\": Derek Ch...   \n",
       "3602774  Giant sequoia burns in California wildfire as ...   \n",
       "2395552  Judge will not move or delay Derek Chauvin tri...   \n",
       "4031451  BREAKING: CNN 'Indefinitely Suspends' Chris Cuomo   \n",
       "3823201  Poll: Republican Glenn Youngkin Ahead of Democ...   \n",
       "3432459  Hurricane Ida takes form and aims at US Gulf C...   \n",
       "2542499  Ex-officer’s trial in George Floyd’s death sho...   \n",
       "476043   Trump: No Change at Bases Named for Confederat...   \n",
       "3564956  FDA advisory panel backs COVID-19 boosters for...   \n",
       "1937069  Right-wing app Parler booted off internet over...   \n",
       "3269423  Cuomo sexually harassed \"multiple women,\" viol...   \n",
       "4062598  CNN fires Chris Cuomo for helping brother deal...   \n",
       "474798   George Floyd rookie cop Thomas Lane FREED from...   \n",
       "1561265  Georgia to hand recount votes in each county, ...   \n",
       "3303498  Wildfires Rage Through Greece As Thousands Are...   \n",
       "886093   President Trump Orders Ban on Transactions Wit...   \n",
       "\n",
       "                                                   content   \n",
       "3155207  The White House escalated its fight against va...  \\\n",
       "1138590  Microsoft , which had been vying for a deal , ...   \n",
       "1613836  President Donald Trump ’ s legal team on Satur...   \n",
       "1004736  WASHINGTON — Postmaster General Louis DeJoy to...   \n",
       "2480546  This is a rush transcript .\\nCopy may not be i...   \n",
       "3602774  A giant sequoia has been significantly damaged...   \n",
       "2395552  MINNEAPOLIS — The judge in the trial of Derek ...   \n",
       "4031451  And there it is .\\nMultiple media outlets are ...   \n",
       "3823201  Republican Glenn Youngkin has pulled ahead of ...   \n",
       "3432459  ORLANDO, Fla. — Ida grew into a Category 1 hur...   \n",
       "2542499  MINNEAPOLIS — The murder trial of a former Min...   \n",
       "476043   President Donald Trump on Wednesday said his a...   \n",
       "3564956  WASHINGTON — After overwhelmingly rejecting a ...   \n",
       "1937069  The conservative-friendly social network Parle...   \n",
       "3269423  New York Governor Andrew Cuomo sexually harass...   \n",
       "4062598  NEW YORK ( AP ) — CNN fired anchor Chris Cuomo...   \n",
       "474798   THOMAS Lane , one of the four officers charged...   \n",
       "1561265  After counting nearly 5 million votes in Georg...   \n",
       "3303498  Wildfires Rage Through Greece As Thousands Are...   \n",
       "886093   President Donald Trump on Thursday issued exec...   \n",
       "\n",
       "                                                       url     fips  ...   \n",
       "3155207  https://www.theverge.com/2021/7/16/22580620/bi...      NaN  ...  \\\n",
       "1138590  https://www.mail.com/news/politics/10174290-qa...      NaN  ...   \n",
       "1613836  https://thebl.com/us-news/trump-legal-team-ant...      NaN  ...   \n",
       "1004736  https://www.moberlymonitor.com/zz/news/2020082...  29175.0  ...   \n",
       "2480546  http://www.democracynow.org/2021/4/1/derek_cha...      NaN  ...   \n",
       "3602774  https://www.independent.co.uk/climate-change/n...      NaN  ...   \n",
       "2395552  https://www.wadenapj.com/derek-chauvin-trial/6...  27159.0  ...   \n",
       "4031451  https://redstate.com/mike_miller/2021/11/30/br...      NaN  ...   \n",
       "3823201  http://feedproxy.google.com/~r/breitbart/~3/yV...      NaN  ...   \n",
       "3432459  https://www.bostonherald.com/2021/08/27/hurric...  25025.0  ...   \n",
       "2542499  https://www.centralmaine.com/2021/04/10/ex-off...  23011.0  ...   \n",
       "476043   https://www.newsmax.com/politics/America-Prote...      NaN  ...   \n",
       "3564956  https://www.pbs.org/newshour/health/fda-adviso...      NaN  ...   \n",
       "1937069  https://www.abqjournal.com/1534923/parler-sque...  35001.0  ...   \n",
       "3269423  https://www.cbsnews.com/video/andrew-cuomo-sex...      NaN  ...   \n",
       "4062598  https://www.mercurynews.com/2021/12/04/cnn-fir...      NaN  ...   \n",
       "474798   https://www.thesun.co.uk/news/11834008/george-...      NaN  ...   \n",
       "1561265  https://thebl.com/us-news/georgia-to-hand-reco...      NaN  ...   \n",
       "3303498  https://www.npr.org/2021/08/08/1025947847/wild...      NaN  ...   \n",
       "886093   https://www.ntd.com/trump-orders-ban-on-transa...      NaN  ...   \n",
       "\n",
       "        national logodds_Trump20 logodds_Trump16  logodds_Romney12   \n",
       "3155207     True             NaN             NaN               NaN  \\\n",
       "1138590     True             NaN             NaN               NaN   \n",
       "1613836     True             NaN             NaN               NaN   \n",
       "1004736    False        1.171416        1.193272          0.788277   \n",
       "2480546     True             NaN             NaN               NaN   \n",
       "3602774     True             NaN             NaN               NaN   \n",
       "2395552    False        1.003796        1.055123          0.508335   \n",
       "4031451     True             NaN             NaN               NaN   \n",
       "3823201     True             NaN             NaN               NaN   \n",
       "3432459    False       -1.512086       -1.583911         -1.316854   \n",
       "2542499    False       -0.003893        0.077872         -0.279428   \n",
       "476043      True             NaN             NaN               NaN   \n",
       "3564956     True             NaN             NaN               NaN   \n",
       "1937069    False       -0.511846       -0.415064         -0.348269   \n",
       "3269423     True             NaN             NaN               NaN   \n",
       "4062598     True             NaN             NaN               NaN   \n",
       "474798      True             NaN             NaN               NaN   \n",
       "1561265     True             NaN             NaN               NaN   \n",
       "3303498     True             NaN             NaN               NaN   \n",
       "886093      True             NaN             NaN               NaN   \n",
       "\n",
       "        20000_90_average_pct 20000_90_num_over_cutoff   \n",
       "3155207             0.162162                      6.0  \\\n",
       "1138590             0.157895                      6.0   \n",
       "1613836             0.125000                      8.0   \n",
       "1004736             0.256757                     19.0   \n",
       "2480546             0.427184                     44.0   \n",
       "3602774             0.131579                      5.0   \n",
       "2395552             0.427184                     44.0   \n",
       "4031451             0.278481                     22.0   \n",
       "3823201             0.111111                      5.0   \n",
       "3432459             0.428571                     24.0   \n",
       "2542499             0.427184                     44.0   \n",
       "476043              0.333333                     21.0   \n",
       "3564956             0.085714                      6.0   \n",
       "1937069             0.215385                     14.0   \n",
       "3269423             0.287500                     23.0   \n",
       "4062598             0.278481                     22.0   \n",
       "474798              0.108696                     10.0   \n",
       "1561265             0.485981                     52.0   \n",
       "3303498             0.214286                      6.0   \n",
       "886093              0.113636                     10.0   \n",
       "\n",
       "                                     20000_90_storm_source  20000_90_storm   \n",
       "3155207  ['truepundit', 'thenewyorktimes', 'thebl', 'rt...            True  \\\n",
       "1138590  ['waterburyrepublicanamerican', 'rt', 'npr', '...            True   \n",
       "1613836  ['yahoonews', 'saintpaulpioneerpress', 'pbs', ...            True   \n",
       "1004736  ['westhawaiitoday', 'thetribunechronicle', 'th...            True   \n",
       "2480546  ['westhawaiitoday', 'westcentraltribune', 'wat...            True   \n",
       "3602774  ['thehuffingtonpost', 'npr', 'mail', 'latimes'...            True   \n",
       "2395552  ['westhawaiitoday', 'westcentraltribune', 'wat...            True   \n",
       "4031451  ['usatoday', 'thelowellsun', 'thegatewaypundit...            True   \n",
       "3823201  ['yahoonews', 'politicalwire', 'newsmax', 'mai...            True   \n",
       "3432459  ['westhawaiitoday', 'washingtontimes', 'therep...            True   \n",
       "2542499  ['westhawaiitoday', 'westcentraltribune', 'wat...            True   \n",
       "476043   ['wellsvilledailyreporter', 'vox', 'usatoday',...            True   \n",
       "3564956  ['westhawaiitoday', 'saintpaulpioneerpress', '...            True   \n",
       "1937069  ['usatoday', 'upi', 'theverge', 'thelibertydai...            True   \n",
       "3269423  ['yahoonews', 'westernjournal', 'usatoday', 't...            True   \n",
       "4062598  ['usatoday', 'thelowellsun', 'thegatewaypundit...            True   \n",
       "474798   ['vox', 'thetribunechronicle', 'thelowellsun',...            True   \n",
       "1561265  ['westhawaiitoday', 'westcentraltribune', 'wat...            True   \n",
       "3303498  ['oann', 'npr', 'france24', 'dailyheraldchicag...            True   \n",
       "886093   ['thetorontostar', 'thetennesseestar', 'pbs', ...            True   \n",
       "\n",
       "        nArts  storyLen  \n",
       "3155207    88       9.0  \n",
       "1138590    81       8.0  \n",
       "1613836   161      15.0  \n",
       "1004736   363      11.0  \n",
       "2480546  1378      53.0  \n",
       "3602774   111       9.0  \n",
       "2395552  1378      53.0  \n",
       "4031451   337       9.0  \n",
       "3823201   132      36.0  \n",
       "3432459   289       7.0  \n",
       "2542499  1378      53.0  \n",
       "476043    144      11.0  \n",
       "3564956   198      12.0  \n",
       "1937069   212       8.0  \n",
       "3269423   390      15.0  \n",
       "4062598   337       9.0  \n",
       "474798    251      15.0  \n",
       "1561265   737      21.0  \n",
       "3303498   101      18.0  \n",
       "886093    316      19.0  \n",
       "\n",
       "[20 rows x 59 columns]"
      ]
     },
     "execution_count": 345,
     "metadata": {},
     "output_type": "execute_result"
    }
   ],
   "source": [
    "stormRows.sample(20)"
   ]
  },
  {
   "cell_type": "code",
   "execution_count": 361,
   "metadata": {},
   "outputs": [
    {
     "data": {
      "text/plain": [
       "18127     2020-04-05\n",
       "18151     2020-04-05\n",
       "18269     2020-04-05\n",
       "18342     2020-04-05\n",
       "18730     2020-04-05\n",
       "             ...    \n",
       "4209511   2021-12-29\n",
       "4211014   2021-12-29\n",
       "4216886   2021-12-30\n",
       "4218806   2021-12-31\n",
       "4219230   2021-12-31\n",
       "Name: date, Length: 20331, dtype: datetime64[ns]"
      ]
     },
     "execution_count": 361,
     "metadata": {},
     "output_type": "execute_result"
    }
   ],
   "source": [
    "stormRows[\"date\"]"
   ]
  },
  {
   "cell_type": "code",
   "execution_count": 430,
   "metadata": {},
   "outputs": [
    {
     "name": "stderr",
     "output_type": "stream",
     "text": [
      "<ipython-input-430-f20137bbd7d6>:4: SettingWithCopyWarning: \n",
      "A value is trying to be set on a copy of a slice from a DataFrame.\n",
      "Try using .loc[row_indexer,col_indexer] = value instead\n",
      "\n",
      "See the caveats in the documentation: https://pandas.pydata.org/pandas-docs/stable/user_guide/indexing.html#returning-a-view-versus-a-copy\n",
      "  chauvinRows[\"dummy\"] = 1\n"
     ]
    }
   ],
   "source": [
    "#chauvin\n",
    "chauvinRows = stormRows.loc[stormRows[SCOL_NAME] == 8088]\n",
    "#chauvinRows[[\"date\", \"key\"]].groupby(\"date\").agg(len)\n",
    "chauvinRows[\"dummy\"] = 1\n",
    "\n",
    "#chauvinRows = chauvinRows.set_index(\"date\")"
   ]
  },
  {
   "cell_type": "code",
   "execution_count": 431,
   "metadata": {},
   "outputs": [],
   "source": [
    "import matplotlib.ticker as ticker"
   ]
  },
  {
   "cell_type": "code",
   "execution_count": 432,
   "metadata": {},
   "outputs": [
    {
     "data": {
      "text/plain": [
       "PeriodIndex(['2021-03-04', '2021-03-05', '2021-03-06', '2021-03-07',\n",
       "             '2021-03-08', '2021-03-09', '2021-03-10', '2021-03-11',\n",
       "             '2021-03-12', '2021-03-13', '2021-03-14', '2021-03-15',\n",
       "             '2021-03-16', '2021-03-17', '2021-03-18', '2021-03-19',\n",
       "             '2021-03-20', '2021-03-21', '2021-03-22', '2021-03-23',\n",
       "             '2021-03-24', '2021-03-25', '2021-03-26', '2021-03-27',\n",
       "             '2021-03-28', '2021-03-29', '2021-03-30', '2021-03-31',\n",
       "             '2021-04-01', '2021-04-02', '2021-04-03', '2021-04-04',\n",
       "             '2021-04-05', '2021-04-06', '2021-04-07', '2021-04-08',\n",
       "             '2021-04-09', '2021-04-10', '2021-04-11', '2021-04-12',\n",
       "             '2021-04-13', '2021-04-14', '2021-04-15', '2021-04-16',\n",
       "             '2021-04-17', '2021-04-18', '2021-04-19', '2021-04-20',\n",
       "             '2021-04-21', '2021-04-22', '2021-04-23', '2021-04-24',\n",
       "             '2021-04-25', '2021-04-26'],\n",
       "            dtype='period[D]')"
      ]
     },
     "execution_count": 432,
     "metadata": {},
     "output_type": "execute_result"
    }
   ],
   "source": [
    "idx"
   ]
  },
  {
   "cell_type": "code",
   "execution_count": 462,
   "metadata": {},
   "outputs": [
    {
     "data": {
      "text/html": [
       "<svg  width=\"550\" height=\"55\"><rect x=\"0\" y=\"0\" width=\"55\" height=\"55\" style=\"fill:#1f77b4;stroke-width:2;stroke:rgb(255,255,255)\"/><rect x=\"55\" y=\"0\" width=\"55\" height=\"55\" style=\"fill:#ff7f0e;stroke-width:2;stroke:rgb(255,255,255)\"/><rect x=\"110\" y=\"0\" width=\"55\" height=\"55\" style=\"fill:#2ca02c;stroke-width:2;stroke:rgb(255,255,255)\"/><rect x=\"165\" y=\"0\" width=\"55\" height=\"55\" style=\"fill:#d62728;stroke-width:2;stroke:rgb(255,255,255)\"/><rect x=\"220\" y=\"0\" width=\"55\" height=\"55\" style=\"fill:#9467bd;stroke-width:2;stroke:rgb(255,255,255)\"/><rect x=\"275\" y=\"0\" width=\"55\" height=\"55\" style=\"fill:#8c564b;stroke-width:2;stroke:rgb(255,255,255)\"/><rect x=\"330\" y=\"0\" width=\"55\" height=\"55\" style=\"fill:#e377c2;stroke-width:2;stroke:rgb(255,255,255)\"/><rect x=\"385\" y=\"0\" width=\"55\" height=\"55\" style=\"fill:#7f7f7f;stroke-width:2;stroke:rgb(255,255,255)\"/><rect x=\"440\" y=\"0\" width=\"55\" height=\"55\" style=\"fill:#bcbd22;stroke-width:2;stroke:rgb(255,255,255)\"/><rect x=\"495\" y=\"0\" width=\"55\" height=\"55\" style=\"fill:#17becf;stroke-width:2;stroke:rgb(255,255,255)\"/></svg>"
      ],
      "text/plain": [
       "[(0.12156862745098039, 0.4666666666666667, 0.7058823529411765),\n",
       " (1.0, 0.4980392156862745, 0.054901960784313725),\n",
       " (0.17254901960784313, 0.6274509803921569, 0.17254901960784313),\n",
       " (0.8392156862745098, 0.15294117647058825, 0.1568627450980392),\n",
       " (0.5803921568627451, 0.403921568627451, 0.7411764705882353),\n",
       " (0.5490196078431373, 0.33725490196078434, 0.29411764705882354),\n",
       " (0.8901960784313725, 0.4666666666666667, 0.7607843137254902),\n",
       " (0.4980392156862745, 0.4980392156862745, 0.4980392156862745),\n",
       " (0.7372549019607844, 0.7411764705882353, 0.13333333333333333),\n",
       " (0.09019607843137255, 0.7450980392156863, 0.8117647058823529)]"
      ]
     },
     "execution_count": 462,
     "metadata": {},
     "output_type": "execute_result"
    }
   ],
   "source": [
    "tab10"
   ]
  },
  {
   "cell_type": "code",
   "execution_count": 459,
   "metadata": {},
   "outputs": [],
   "source": [
    "tab10 = sns.color_palette(\"tab10\")\n",
    "\n",
    "colNames = [\"blue\", \"orange\", \"green\", \"red\", \"purple\", \"brown\", \"pink\", \"grey\", \"yellow\", \"turqoise\"]\n",
    "colDict = dict(zip(colNames, tab10))"
   ]
  },
  {
   "cell_type": "code",
   "execution_count": 466,
   "metadata": {},
   "outputs": [
    {
     "data": {
      "text/plain": [
       "{'blue': (0.12156862745098039, 0.4666666666666667, 0.7058823529411765),\n",
       " 'orange': (1.0, 0.4980392156862745, 0.054901960784313725),\n",
       " 'green': (0.7372549019607844, 0.7411764705882353, 0.13333333333333333),\n",
       " 'red': (0.8392156862745098, 0.15294117647058825, 0.1568627450980392),\n",
       " 'purple': (0.5803921568627451, 0.403921568627451, 0.7411764705882353),\n",
       " 'brown': (0.5490196078431373, 0.33725490196078434, 0.29411764705882354),\n",
       " 'pink': (0.8901960784313725, 0.4666666666666667, 0.7607843137254902),\n",
       " 'grey': (0.4980392156862745, 0.4980392156862745, 0.4980392156862745),\n",
       " 'turqoise': (0.09019607843137255, 0.7450980392156863, 0.8117647058823529)}"
      ]
     },
     "execution_count": 466,
     "metadata": {},
     "output_type": "execute_result"
    }
   ],
   "source": [
    "colDict"
   ]
  },
  {
   "cell_type": "code",
   "execution_count": 469,
   "metadata": {},
   "outputs": [
    {
     "name": "stderr",
     "output_type": "stream",
     "text": [
      "<ipython-input-469-67a0c23a1ab0>:11: UserWarning: FixedFormatter should only be used together with FixedLocator\n",
      "  ax.set_xticklabels(ax.get_xticklabels(), rotation=45, ha='right', rotation_mode='anchor', size=12)\n"
     ]
    },
    {
     "data": {
      "image/png": "[encoded data removed]",
      "text/plain": [
       "<Figure size 360x252 with 1 Axes>"
      ]
     },
     "metadata": {
      "needs_background": "light"
     },
     "output_type": "display_data"
    }
   ],
   "source": [
    "#idx = pd.period_range(min(chauvinRows.index), max(chauvinRows.index))\n",
    "#chauvinRows = chauvinRows.reindex(idx, fill_value=0)\n",
    "        \n",
    "fig, ax = plt.subplots(figsize=(5, 3.5))\n",
    "sns.lineplot(data=chauvinRows, x=\"date\", y=\"dummy\", estimator=sum, color=colDict[\"purple\"])\n",
    "\n",
    "ax.set_ylabel(\"Number of Articles\", size=14)\n",
    "ax.set_xlabel(\"\")\n",
    "\n",
    "ax.xaxis.set_major_locator(ticker.MultipleLocator(7))\n",
    "ax.set_xticklabels(ax.get_xticklabels(), rotation=45, ha='right', rotation_mode='anchor', size=12)\n",
    "#ax.set_title(\"Derek Chauvin's Court Case\")\n",
    "plt.tight_layout()\n",
    "\n",
    "plt.savefig(FIG_PATH + \"chauvinSeries.pdf\", dpi=600, bbox_inches=\"tight\")"
   ]
  },
  {
   "cell_type": "code",
   "execution_count": 458,
   "metadata": {},
   "outputs": [
    {
     "data": {
      "text/plain": [
       "(0.12156862745098039, 0.4666666666666667, 0.7058823529411765)"
      ]
     },
     "execution_count": 458,
     "metadata": {},
     "output_type": "execute_result"
    }
   ],
   "source": [
    "sns.color_palette(\"tab10\")[0]"
   ]
  },
  {
   "cell_type": "code",
   "execution_count": null,
   "metadata": {},
   "outputs": [],
   "source": [
    "#jury selection begins on ninth? \n",
    "#jury selection resumes around 14th? \n",
    "#attempts to delay or move the trial around the 15th \n",
    "#jury is set around 24th \n",
    "#evidence shown 29 - and testimony \n",
    "\n",
    "chauvinRows"
   ]
  },
  {
   "cell_type": "code",
   "execution_count": 470,
   "metadata": {},
   "outputs": [],
   "source": [
    "#get some stuff to annotate with \n",
    "#list(chauvinRows.sort_values(\"date\").iloc[60:70][\"title\"])\n",
    "#chauvinRows.sort_values(\"date\")[(chauvinRows[\"date\"] >= \"2021-04-05\") & (chauvinRows[\"date\"] <= \"2021-04-20\")]\n",
    "#chauvinRows.sort_values(\"date\")[(chauvinRows[\"date\"] >= \"2021-03-08\") & (chauvinRows[\"date\"] <= \"2021-03-08\")]\n",
    "#list(chauvinRows[chauvinRows[\"key\"] ==  \t4444180][\"content\"])"
   ]
  },
  {
   "cell_type": "code",
   "execution_count": 245,
   "metadata": {},
   "outputs": [
    {
     "name": "stdout",
     "output_type": "stream",
     "text": [
      "pineriverjournal\n",
      "2021-08-25 00:00:00\n",
      "Minnesota health officials report 1,400 new COVID-19 cases, 7 deaths\n",
      "pineriverjournal\n",
      "2021-08-26 00:00:00\n",
      "Minnesota reports 1,800 new COVID-19 infections, 11 deaths\n",
      "echopress\n",
      "2021-08-26 00:00:00\n",
      "Minnesota reports 1,800 new COVID-19 infections, 11 deaths\n",
      "detroitlakestribune\n",
      "2021-08-26 00:00:00\n",
      "Minnesota reports 1,800 new COVID-19 infections, 11 deaths\n",
      "thebrainerddailydispatch\n",
      "2021-08-31 00:00:00\n",
      "Minnesota reports 3,800 additional COVID-19 infections, 6 deaths\n",
      "dailyglobe\n",
      "2021-08-31 00:00:00\n",
      "Minnesota reports 3,800 additional COVID-19 infections, 6 deaths\n",
      "echopress\n",
      "2021-09-01 00:00:00\n",
      "Minnesota reports 1,400 new COVID-19 cases, 6 deaths\n",
      "dailyglobe\n",
      "2021-09-01 00:00:00\n",
      "Minnesota reports 1,400 new COVID-19 cases, 6 deaths\n",
      "thebrainerddailydispatch\n",
      "2021-09-02 00:00:00\n",
      "Minnesota reports 1,900 new COVID-19 cases, 22 deaths\n",
      "wadenapioneerjournal\n",
      "2021-09-02 00:00:00\n",
      "Minnesota reports 1,900 new COVID-19 cases, 22 deaths\n",
      "echopress\n",
      "2021-09-02 00:00:00\n",
      "Minnesota reports 1,900 new COVID-19 cases, 22 deaths\n",
      "westcentraltribune\n",
      "2021-09-02 00:00:00\n",
      "Minnesota reports 1,900 new COVID-19 cases, 22 deaths\n",
      "pineriverjournal\n",
      "2021-09-03 00:00:00\n",
      "Minnesota reports 2,100 new COVID-19 cases, 5 deaths\n",
      "wadenapioneerjournal\n",
      "2021-09-03 00:00:00\n",
      "Minnesota reports 2,100 new COVID-19 cases, 5 deaths\n",
      "detroitlakestribune\n",
      "2021-09-03 00:00:00\n",
      "Minnesota reports 2,100 new COVID-19 cases, 5 deaths\n",
      "echopress\n",
      "2021-09-03 00:00:00\n",
      "Minnesota reports 2,100 new COVID-19 cases, 5 deaths\n",
      "dailyglobe\n",
      "2021-09-08 00:00:00\n",
      "Minnesota confirms nearly 5,800 new COVID-19 cases, 9 deaths\n",
      "dailyglobe\n",
      "2021-09-09 00:00:00\n",
      "Minnesota reports 1,200 new COVID-19 infections, 9 deaths\n",
      "echopress\n",
      "2021-09-09 00:00:00\n",
      "Minnesota reports 1,200 new COVID-19 infections, 9 deaths\n",
      "detroitlakestribune\n",
      "2021-09-10 00:00:00\n",
      "Minnesota reports 2,000 new COVID-19 cases, 18 deaths\n",
      "westcentraltribune\n",
      "2021-09-13 00:00:00\n",
      "Minnesota COVID-19 hospitalizations approach 700\n",
      "detroitlakestribune\n",
      "2021-09-14 00:00:00\n",
      "Minnesota reports 12 COVID-19 deaths Tuesday\n",
      "dailyglobe\n",
      "2021-09-14 00:00:00\n",
      "Minnesota reports 12 COVID-19 deaths Tuesday\n",
      "pineriverjournal\n",
      "2021-09-14 00:00:00\n",
      "Minnesota reports 12 COVID-19 deaths Tuesday\n",
      "dailyglobe\n",
      "2021-09-15 00:00:00\n",
      "COVID-19 death total in Minnesota approaches 8,000\n",
      "wadenapioneerjournal\n",
      "2021-09-15 00:00:00\n",
      "COVID-19 death total in Minnesota approaches 8,000\n",
      "duluthnewstribune\n",
      "2021-09-17 00:00:00\n",
      "COVID-19 hospitalizations in Minnesota remain high\n",
      "pineriverjournal\n",
      "2021-09-17 00:00:00\n",
      "COVID-19 hospitalizations in Minnesota remain high\n",
      "theforum\n",
      "2021-09-17 00:00:00\n",
      "COVID-19 hospitalizations in Minnesota remain high\n",
      "echopress\n",
      "2021-09-17 00:00:00\n",
      "COVID-19 hospitalizations in Minnesota remain high\n"
     ]
    }
   ],
   "source": [
    "currStorm = 183029\n",
    "\n",
    "cStorm = stormRows[stormRows[SCOL_NAME] == currStorm].sample(30).sort_values(\"date\")\n",
    "for i, row in cStorm.iterrows(): \n",
    "    print(row[\"source\"])\n",
    "    print(row[\"date\"])\n",
    "    print(row[\"title\"])"
   ]
  },
  {
   "cell_type": "code",
   "execution_count": null,
   "metadata": {},
   "outputs": [],
   "source": [
    "# fp: 2\n",
    "# expectation of event: 8\n",
    "# not expected: 1\n",
    "# covid: 2"
   ]
  },
  {
   "cell_type": "code",
   "execution_count": null,
   "metadata": {},
   "outputs": [],
   "source": [
    "#1915 - mix of texas and florida mask bans\n",
    "#2195 - recall election, Gavin Newsom is gov. Surge up to recall results \n",
    "#5158 - buildup in anticipation of Biden's infrastructure bill. Turn towards bipartisanship \n",
    "#5381 - Passing of the infrastructure bill through the senate \n",
    "#5773- Buildup to race, through Glenn Youngkin's victory \n",
    "#6781 - Buildup to second debate and cancellation due to Trump having COVID? \n",
    "#6876 - Amy Coney Barrett's confirmation hearings and hearings \n",
    "#8088 - Trial of Derek Chauvin - peaks 47 days after\n",
    "#14119 - Ongoing coverage of Tara Reade\n",
    "#28369 - Coverage leading to conviction of Kim Potter in Daunte Wright Killing\n",
    "#108922 - Coverage of COVID in Minnesota. Decline in cases in early June through an increase in coverage in late june/early july \n",
    "#130664 - Weekly updates on COVID \n",
    "#183029 - Additional storm on Minnesota's COVID cases, August - September "
   ]
  },
  {
   "cell_type": "code",
   "execution_count": 128,
   "metadata": {},
   "outputs": [],
   "source": [
    "def getFirst(inList): \n",
    "    return list(inList)[0]\n",
    "\n",
    "dateCounts = dateDf.reset_index()[[SCOL_NAME, \"pDayNorm\", \"totalArts\", \"national\", \"state\", \"rural_pct\"]].groupby(by=[SCOL_NAME, \"pDayNorm\"])\\\n",
    ".agg(list) #.reset_index() #.head(30)\n",
    "\n",
    "dateCounts[\"artCount\"] = dateCounts[\"totalArts\"].apply(len)\n",
    "dateCounts[\"totalArts\"] = dateCounts[\"totalArts\"].apply(getFirst)\n",
    "\n",
    "dateCounts[\"countNorm\"] = dateCounts[\"artCount\"] / dateCounts[\"totalArts\"]"
   ]
  },
  {
   "cell_type": "code",
   "execution_count": 135,
   "metadata": {},
   "outputs": [],
   "source": [
    "id=dateCounts.index.get_level_values(1)\n",
    "idx=pd.MultiIndex.from_product([dateCounts.index.levels[0],list(range(int(id.min()),int(id.max())))])\n",
    "dateCounts = dateCounts.reindex(idx, fill_value=0).reset_index()\n",
    "\n",
    "dateCounts = dateCounts.rename(columns={\"level_1\":\"pDayNorm\"})"
   ]
  },
  {
   "cell_type": "code",
   "execution_count": 14,
   "metadata": {},
   "outputs": [
    {
     "name": "stderr",
     "output_type": "stream",
     "text": [
      "<ipython-input-14-81b88cfd9370>:2: UserWarning: \n",
      "The palette list has fewer values (1) than needed (98) and will cycle, which may produce an uninterpretable plot.\n",
      "  sns.lineplot(x=\"pDayNorm\", y=\"countNorm\", hue=SCOL_NAME, data=dateCounts.reset_index(), alpha=.1, palette=[\"blue\"], legend=False, ax=ax)\n"
     ]
    },
    {
     "data": {
      "text/plain": [
       "[<matplotlib.axis.XTick at 0x7fb9f3cd3820>,\n",
       " <matplotlib.axis.XTick at 0x7fb9f3cd37f0>,\n",
       " <matplotlib.axis.XTick at 0x7fbaa31bddf0>,\n",
       " <matplotlib.axis.XTick at 0x7fb9edbbe910>,\n",
       " <matplotlib.axis.XTick at 0x7fb9edbbeeb0>,\n",
       " <matplotlib.axis.XTick at 0x7fb9edbd6be0>,\n",
       " <matplotlib.axis.XTick at 0x7fb9edbd86d0>,\n",
       " <matplotlib.axis.XTick at 0x7fb9f3cd3280>,\n",
       " <matplotlib.axis.XTick at 0x7fb9edbbb670>,\n",
       " <matplotlib.axis.XTick at 0x7fb9ed9a53d0>,\n",
       " <matplotlib.axis.XTick at 0x7fb9edd72cd0>,\n",
       " <matplotlib.axis.XTick at 0x7fb9edbd6310>,\n",
       " <matplotlib.axis.XTick at 0x7fb9ed99b3d0>]"
      ]
     },
     "execution_count": 14,
     "metadata": {},
     "output_type": "execute_result"
    },
    {
     "data": {
      "image/png": "[encoded data removed]",
      "text/plain": [
       "<Figure size 576x360 with 1 Axes>"
      ]
     },
     "metadata": {
      "needs_background": "light"
     },
     "output_type": "display_data"
    }
   ],
   "source": [
    "fix, ax = plt.subplots(figsize=(8, 5))\n",
    "sns.lineplot(x=\"pDayNorm\", y=\"countNorm\", hue=SCOL_NAME, data=dateCounts.reset_index(), alpha=.1, palette=[\"blue\"], legend=False, ax=ax)\n",
    "ax.set_xlim(-12, 12.01)\n",
    "ax.set_title(\"Peak-Centered Media-Storm Time-Series\")\n",
    "ax.set_xlabel(\"days from peak\", size=14)\n",
    "ax.set_ylabel(\"proportion of storm coverage\", size=14)\n",
    "ax.set_xticks(np.arange(-12, 13, 2))"
   ]
  },
  {
   "cell_type": "code",
   "execution_count": 15,
   "metadata": {},
   "outputs": [
    {
     "name": "stderr",
     "output_type": "stream",
     "text": [
      "<ipython-input-15-1828ed767395>:2: UserWarning: \n",
      "The palette list has fewer values (1) than needed (98) and will cycle, which may produce an uninterpretable plot.\n",
      "  sns.lineplot(x=\"pDayNorm\", y=\"artCount\", hue=SCOL_NAME, data=dateCounts.reset_index(), alpha=.1, palette=[\"blue\"], legend=False, ax=ax)\n"
     ]
    },
    {
     "data": {
      "text/plain": [
       "[<matplotlib.axis.XTick at 0x7fb9d9bafdc0>,\n",
       " <matplotlib.axis.XTick at 0x7fb9d9baf850>,\n",
       " <matplotlib.axis.XTick at 0x7fba90a72fd0>,\n",
       " <matplotlib.axis.XTick at 0x7fba90a83d90>,\n",
       " <matplotlib.axis.XTick at 0x7fba937a5880>,\n",
       " <matplotlib.axis.XTick at 0x7fba937a5d90>,\n",
       " <matplotlib.axis.XTick at 0x7fba93795880>,\n",
       " <matplotlib.axis.XTick at 0x7fb9d9bafb20>,\n",
       " <matplotlib.axis.XTick at 0x7fba90a728e0>,\n",
       " <matplotlib.axis.XTick at 0x7fba9378b340>,\n",
       " <matplotlib.axis.XTick at 0x7fba937971f0>,\n",
       " <matplotlib.axis.XTick at 0x7fba93782eb0>,\n",
       " <matplotlib.axis.XTick at 0x7fba9377b9a0>]"
      ]
     },
     "execution_count": 15,
     "metadata": {},
     "output_type": "execute_result"
    },
    {
     "data": {
      "image/png": "[encoded data removed]",
      "text/plain": [
       "<Figure size 576x360 with 1 Axes>"
      ]
     },
     "metadata": {
      "needs_background": "light"
     },
     "output_type": "display_data"
    }
   ],
   "source": [
    "fix, ax = plt.subplots(figsize=(8, 5))\n",
    "sns.lineplot(x=\"pDayNorm\", y=\"artCount\", hue=SCOL_NAME, data=dateCounts.reset_index(), alpha=.1, palette=[\"blue\"], legend=False, ax=ax)\n",
    "ax.set_xlim(-12, 12.01)\n",
    "ax.set_title(\"Peak-Centered Media-Storm Time-Series\")\n",
    "ax.set_xlabel(\"days from peak\", size=14)\n",
    "ax.set_ylabel(\"proportion of storm coverage\", size=14)\n",
    "ax.set_xticks(np.arange(-12, 13, 2))"
   ]
  },
  {
   "cell_type": "code",
   "execution_count": 16,
   "metadata": {},
   "outputs": [],
   "source": [
    "#try the same thing but centering on day zero "
   ]
  },
  {
   "cell_type": "code",
   "execution_count": 473,
   "metadata": {},
   "outputs": [],
   "source": [
    "dateCounts = dateDf.reset_index()[[SCOL_NAME, \"fDayNorm\", \"totalArts\", \"rural_pct\", \"national\", \"state\"]].groupby(by=[SCOL_NAME, \"fDayNorm\"])\\\n",
    ".agg(list) #.reset_index() #.head(30)\n",
    "\n",
    "dateCounts[\"artCount\"] = dateCounts[\"totalArts\"].apply(len)\n",
    "dateCounts[\"totalArts\"] = dateCounts[\"totalArts\"].apply(getFirst)\n",
    "\n",
    "dateCounts[\"countNorm\"] = dateCounts[\"artCount\"] / dateCounts[\"totalArts\"]"
   ]
  },
  {
   "cell_type": "code",
   "execution_count": 474,
   "metadata": {},
   "outputs": [
    {
     "name": "stderr",
     "output_type": "stream",
     "text": [
      "/opt/anaconda/lib/python3.8/site-packages/pandas/core/apply.py:1076: RuntimeWarning: Mean of empty slice\n",
      "  mapped = lib.map_infer(\n"
     ]
    }
   ],
   "source": [
    "dateCounts[\"national\"] = dateCounts[\"national\"].apply(np.nanmean)\n",
    "dateCounts[\"rural_pct\"] = dateCounts[\"rural_pct\"].apply(np.nanmean)\n",
    "\n",
    "dateCounts[\"state\"] = dateCounts[\"state\"].apply(lambda x: set([item for item in x if item == item]))"
   ]
  },
  {
   "cell_type": "code",
   "execution_count": 475,
   "metadata": {},
   "outputs": [],
   "source": [
    "dateCounts[\"uniqueStates\"] = dateCounts[\"state\"].apply(len)"
   ]
  },
  {
   "cell_type": "code",
   "execution_count": 476,
   "metadata": {},
   "outputs": [],
   "source": [
    "dateCounts[\"rural_pct\"] = dateCounts[\"rural_pct\"].fillna(0)"
   ]
  },
  {
   "cell_type": "code",
   "execution_count": 477,
   "metadata": {},
   "outputs": [],
   "source": [
    "id=dateCounts.index.get_level_values(1)\n",
    "idx=pd.MultiIndex.from_product([dateCounts.index.levels[0],list(range(int(id.min()),int(id.max())))])\n",
    "dateCounts = dateCounts.reindex(idx, fill_value=0).reset_index()\n",
    "\n",
    "dateCounts = dateCounts.rename(columns={\"level_1\":\"fDayNorm\"})"
   ]
  },
  {
   "cell_type": "code",
   "execution_count": 478,
   "metadata": {},
   "outputs": [],
   "source": [
    "import random"
   ]
  },
  {
   "cell_type": "code",
   "execution_count": 479,
   "metadata": {},
   "outputs": [],
   "source": [
    "#can be used to just look at a few storms \n",
    "sampleStorms = random.sample(list(dateCounts[SCOL_NAME].unique()), 1)\n",
    "sampleCounts = dateCounts[dateCounts[SCOL_NAME].isin(sampleStorms)]"
   ]
  },
  {
   "cell_type": "code",
   "execution_count": 480,
   "metadata": {},
   "outputs": [
    {
     "name": "stderr",
     "output_type": "stream",
     "text": [
      "<ipython-input-480-892b55901f4f>:2: UserWarning: \n",
      "The palette list has fewer values (1) than needed (98) and will cycle, which may produce an uninterpretable plot.\n",
      "  sns.lineplot(x=\"fDayNorm\", y=\"countNorm\", hue=SCOL_NAME, data=dateCounts.reset_index(), alpha=.05, palette=[\"blue\"], legend=False)\n"
     ]
    },
    {
     "data": {
      "text/plain": [
       "Text(0, 0.5, 'proportion of storm coverage')"
      ]
     },
     "execution_count": 480,
     "metadata": {},
     "output_type": "execute_result"
    },
    {
     "data": {
      "image/png": "[encoded data removed]",
      "text/plain": [
       "<Figure size 360x360 with 1 Axes>"
      ]
     },
     "metadata": {
      "needs_background": "light"
     },
     "output_type": "display_data"
    }
   ],
   "source": [
    "fix, ax = plt.subplots(figsize=(5, 5))\n",
    "sns.lineplot(x=\"fDayNorm\", y=\"countNorm\", hue=SCOL_NAME, data=dateCounts.reset_index(), alpha=.05, palette=[\"blue\"], legend=False)\n",
    "sns.lineplot(x=\"fDayNorm\", y=\"countNorm\",data=dateCounts.reset_index(), ax=ax, color=\"blue\", err_style=\"bars\")\n",
    "ax.set_xlim(0, 52)\n",
    "ax.set_title(\"Media-Storm Time-Series\")\n",
    "ax.set_xlabel(\"days since first story\", size=14)\n",
    "ax.set_ylabel(\"proportion of storm coverage\", size=14)\n",
    "#ax.set_xticks(np.arange(-4, 4, 1))"
   ]
  },
  {
   "cell_type": "code",
   "execution_count": 481,
   "metadata": {},
   "outputs": [
    {
     "name": "stderr",
     "output_type": "stream",
     "text": [
      "<ipython-input-481-e0ad0e29bc26>:2: UserWarning: \n",
      "The palette list has fewer values (1) than needed (98) and will cycle, which may produce an uninterpretable plot.\n",
      "  sns.lineplot(x=\"fDayNorm\", y=\"countNorm\", hue=SCOL_NAME, data=dateCounts.reset_index(), alpha=.05, palette=[\"blue\"], legend=False)\n"
     ]
    },
    {
     "data": {
      "text/plain": [
       "Text(0, 0.5, 'proportion of storm coverage')"
      ]
     },
     "execution_count": 481,
     "metadata": {},
     "output_type": "execute_result"
    },
    {
     "data": {
      "image/png": "[encoded data removed]",
      "text/plain": [
       "<Figure size 360x360 with 1 Axes>"
      ]
     },
     "metadata": {
      "needs_background": "light"
     },
     "output_type": "display_data"
    }
   ],
   "source": [
    "fix, ax = plt.subplots(figsize=(5, 5))\n",
    "sns.lineplot(x=\"fDayNorm\", y=\"countNorm\", hue=SCOL_NAME, data=dateCounts.reset_index(), alpha=.05, palette=[\"blue\"], legend=False)\n",
    "sns.lineplot(x=\"fDayNorm\", y=\"countNorm\",data=dateCounts.reset_index(), ax=ax, color=\"blue\", err_style=\"band\")\n",
    "ax.set_xlim(0, 52)\n",
    "ax.set_title(\"Media-Storm Time-Series\")\n",
    "ax.set_xlabel(\"days since first story\", size=14)\n",
    "ax.set_ylabel(\"proportion of storm coverage\", size=14)\n",
    "#ax.set_xticks(np.arange(-4, 4, 1))"
   ]
  },
  {
   "cell_type": "code",
   "execution_count": 482,
   "metadata": {},
   "outputs": [
    {
     "name": "stderr",
     "output_type": "stream",
     "text": [
      "<ipython-input-482-892b55901f4f>:2: UserWarning: \n",
      "The palette list has fewer values (1) than needed (98) and will cycle, which may produce an uninterpretable plot.\n",
      "  sns.lineplot(x=\"fDayNorm\", y=\"countNorm\", hue=SCOL_NAME, data=dateCounts.reset_index(), alpha=.05, palette=[\"blue\"], legend=False)\n"
     ]
    },
    {
     "data": {
      "text/plain": [
       "Text(0, 0.5, 'proportion of storm coverage')"
      ]
     },
     "execution_count": 482,
     "metadata": {},
     "output_type": "execute_result"
    },
    {
     "data": {
      "image/png": "[encoded data removed]",
      "text/plain": [
       "<Figure size 360x360 with 1 Axes>"
      ]
     },
     "metadata": {
      "needs_background": "light"
     },
     "output_type": "display_data"
    }
   ],
   "source": [
    "fix, ax = plt.subplots(figsize=(5, 5))\n",
    "sns.lineplot(x=\"fDayNorm\", y=\"countNorm\", hue=SCOL_NAME, data=dateCounts.reset_index(), alpha=.05, palette=[\"blue\"], legend=False)\n",
    "sns.lineplot(x=\"fDayNorm\", y=\"countNorm\",data=dateCounts.reset_index(), ax=ax, color=\"blue\", err_style=\"bars\")\n",
    "ax.set_xlim(0, 52)\n",
    "ax.set_title(\"Media-Storm Time-Series\")\n",
    "ax.set_xlabel(\"days since first story\", size=14)\n",
    "ax.set_ylabel(\"proportion of storm coverage\", size=14)\n",
    "#ax.set_xticks(np.arange(-4, 4, 1))"
   ]
  },
  {
   "cell_type": "code",
   "execution_count": 483,
   "metadata": {},
   "outputs": [
    {
     "name": "stderr",
     "output_type": "stream",
     "text": [
      "<ipython-input-483-f363a051584b>:2: UserWarning: \n",
      "The palette list has fewer values (1) than needed (98) and will cycle, which may produce an uninterpretable plot.\n",
      "  sns.lineplot(x=\"fDayNorm\", y=\"countNorm\", hue=SCOL_NAME, data=dateCounts.reset_index(), alpha=.05, palette=[\"blue\"], legend=False)\n"
     ]
    },
    {
     "data": {
      "text/plain": [
       "Text(0, 0.5, 'proportion of storm coverage')"
      ]
     },
     "execution_count": 483,
     "metadata": {},
     "output_type": "execute_result"
    },
    {
     "data": {
      "image/png": "[encoded data removed]",
      "text/plain": [
       "<Figure size 360x360 with 1 Axes>"
      ]
     },
     "metadata": {
      "needs_background": "light"
     },
     "output_type": "display_data"
    }
   ],
   "source": [
    "fix, ax = plt.subplots(figsize=(5, 5))\n",
    "sns.lineplot(x=\"fDayNorm\", y=\"countNorm\", hue=SCOL_NAME, data=dateCounts.reset_index(), alpha=.05, palette=[\"blue\"], legend=False)\n",
    "sns.lineplot(x=\"fDayNorm\", y=\"countNorm\",data=dateCounts.reset_index(), ax=ax, color=\"blue\")\n",
    "ax.set_xlim(0, 52)\n",
    "ax.set_title(\"Media-Storm Time-Series\")\n",
    "ax.set_xlabel(\"days from first story\", size=14)\n",
    "ax.set_ylabel(\"proportion of storm coverage\", size=14)\n",
    "#ax.set_xticks(np.arange(-4, 4, 1))"
   ]
  },
  {
   "cell_type": "code",
   "execution_count": 484,
   "metadata": {},
   "outputs": [],
   "source": [
    "dateCounts[\"sqrtCount\"] = np.sqrt(dateCounts[\"artCount\"])"
   ]
  },
  {
   "cell_type": "code",
   "execution_count": 485,
   "metadata": {},
   "outputs": [
    {
     "name": "stderr",
     "output_type": "stream",
     "text": [
      "<ipython-input-485-fdfdd0770097>:2: UserWarning: \n",
      "The palette list has fewer values (1) than needed (98) and will cycle, which may produce an uninterpretable plot.\n",
      "  sns.lineplot(x=\"fDayNorm\", y=\"sqrtCount\", hue=SCOL_NAME, data=dateCounts.reset_index(), alpha=.05, palette=[\"blue\"], legend=False, ax=ax)\n"
     ]
    },
    {
     "data": {
      "text/plain": [
       "Text(0, 0.5, 'number of articles')"
      ]
     },
     "execution_count": 485,
     "metadata": {},
     "output_type": "execute_result"
    },
    {
     "data": {
      "image/png": "[encoded data removed]",
      "text/plain": [
       "<Figure size 576x360 with 1 Axes>"
      ]
     },
     "metadata": {
      "needs_background": "light"
     },
     "output_type": "display_data"
    }
   ],
   "source": [
    "fix, ax = plt.subplots(figsize=(8, 5))\n",
    "sns.lineplot(x=\"fDayNorm\", y=\"sqrtCount\", hue=SCOL_NAME, data=dateCounts.reset_index(), alpha=.05, palette=[\"blue\"], legend=False, ax=ax)\n",
    "sns.lineplot(x=\"fDayNorm\", y=\"sqrtCount\",data=dateCounts.reset_index(), ax=ax, color=\"blue\")\n",
    "ax.set_title(\"Peak-Centered Media-Storm Time-Series\")\n",
    "ax.set_xlabel(\"days from first story\", size=14)\n",
    "ax.set_ylabel(\"number of articles\", size=14)\n",
    "#ax.set_xticks(np.arange(-4, 4, 1))"
   ]
  },
  {
   "cell_type": "code",
   "execution_count": 486,
   "metadata": {},
   "outputs": [],
   "source": [
    "FIG_PATH = \"/home/blitt/projects/localNews/reports/figures/drafts/\"\n",
    "PALETTE = [ \"#008837\", \"#7b3294\"]"
   ]
  },
  {
   "cell_type": "code",
   "execution_count": 487,
   "metadata": {},
   "outputs": [],
   "source": [
    "#START HERE!"
   ]
  },
  {
   "cell_type": "code",
   "execution_count": 488,
   "metadata": {},
   "outputs": [
    {
     "data": {
      "text/html": [
       "<div>\n",
       "<style scoped>\n",
       "    .dataframe tbody tr th:only-of-type {\n",
       "        vertical-align: middle;\n",
       "    }\n",
       "\n",
       "    .dataframe tbody tr th {\n",
       "        vertical-align: top;\n",
       "    }\n",
       "\n",
       "    .dataframe thead th {\n",
       "        text-align: right;\n",
       "    }\n",
       "</style>\n",
       "<table border=\"1\" class=\"dataframe\">\n",
       "  <thead>\n",
       "    <tr style=\"text-align: right;\">\n",
       "      <th></th>\n",
       "      <th>20000_90</th>\n",
       "      <th>fDayNorm</th>\n",
       "      <th>totalArts</th>\n",
       "      <th>rural_pct</th>\n",
       "      <th>national</th>\n",
       "      <th>state</th>\n",
       "      <th>artCount</th>\n",
       "      <th>countNorm</th>\n",
       "      <th>uniqueStates</th>\n",
       "      <th>sqrtCount</th>\n",
       "    </tr>\n",
       "  </thead>\n",
       "  <tbody>\n",
       "    <tr>\n",
       "      <th>0</th>\n",
       "      <td>359</td>\n",
       "      <td>0</td>\n",
       "      <td>93</td>\n",
       "      <td>8.975072</td>\n",
       "      <td>0.692308</td>\n",
       "      <td>{Minnesota, Louisiana, New Mexico, Massachusetts}</td>\n",
       "      <td>26</td>\n",
       "      <td>0.279570</td>\n",
       "      <td>4</td>\n",
       "      <td>5.099020</td>\n",
       "    </tr>\n",
       "    <tr>\n",
       "      <th>1</th>\n",
       "      <td>359</td>\n",
       "      <td>1</td>\n",
       "      <td>93</td>\n",
       "      <td>17.777352</td>\n",
       "      <td>0.466667</td>\n",
       "      <td>{Pennsylvania, California, North Carolina, Min...</td>\n",
       "      <td>45</td>\n",
       "      <td>0.483871</td>\n",
       "      <td>10</td>\n",
       "      <td>6.708204</td>\n",
       "    </tr>\n",
       "    <tr>\n",
       "      <th>2</th>\n",
       "      <td>359</td>\n",
       "      <td>2</td>\n",
       "      <td>93</td>\n",
       "      <td>20.056621</td>\n",
       "      <td>0.400000</td>\n",
       "      <td>{California, Pennsylvania, Minnesota, Massachu...</td>\n",
       "      <td>20</td>\n",
       "      <td>0.215054</td>\n",
       "      <td>7</td>\n",
       "      <td>4.472136</td>\n",
       "    </tr>\n",
       "    <tr>\n",
       "      <th>3</th>\n",
       "      <td>359</td>\n",
       "      <td>3</td>\n",
       "      <td>93</td>\n",
       "      <td>0.000000</td>\n",
       "      <td>1.000000</td>\n",
       "      <td>{}</td>\n",
       "      <td>1</td>\n",
       "      <td>0.010753</td>\n",
       "      <td>0</td>\n",
       "      <td>1.000000</td>\n",
       "    </tr>\n",
       "    <tr>\n",
       "      <th>4</th>\n",
       "      <td>359</td>\n",
       "      <td>4</td>\n",
       "      <td>0</td>\n",
       "      <td>0.000000</td>\n",
       "      <td>0.000000</td>\n",
       "      <td>0</td>\n",
       "      <td>0</td>\n",
       "      <td>0.000000</td>\n",
       "      <td>0</td>\n",
       "      <td>0.000000</td>\n",
       "    </tr>\n",
       "    <tr>\n",
       "      <th>...</th>\n",
       "      <td>...</td>\n",
       "      <td>...</td>\n",
       "      <td>...</td>\n",
       "      <td>...</td>\n",
       "      <td>...</td>\n",
       "      <td>...</td>\n",
       "      <td>...</td>\n",
       "      <td>...</td>\n",
       "      <td>...</td>\n",
       "      <td>...</td>\n",
       "    </tr>\n",
       "    <tr>\n",
       "      <th>5189</th>\n",
       "      <td>295028</td>\n",
       "      <td>48</td>\n",
       "      <td>0</td>\n",
       "      <td>0.000000</td>\n",
       "      <td>0.000000</td>\n",
       "      <td>0</td>\n",
       "      <td>0</td>\n",
       "      <td>0.000000</td>\n",
       "      <td>0</td>\n",
       "      <td>0.000000</td>\n",
       "    </tr>\n",
       "    <tr>\n",
       "      <th>5190</th>\n",
       "      <td>295028</td>\n",
       "      <td>49</td>\n",
       "      <td>0</td>\n",
       "      <td>0.000000</td>\n",
       "      <td>0.000000</td>\n",
       "      <td>0</td>\n",
       "      <td>0</td>\n",
       "      <td>0.000000</td>\n",
       "      <td>0</td>\n",
       "      <td>0.000000</td>\n",
       "    </tr>\n",
       "    <tr>\n",
       "      <th>5191</th>\n",
       "      <td>295028</td>\n",
       "      <td>50</td>\n",
       "      <td>0</td>\n",
       "      <td>0.000000</td>\n",
       "      <td>0.000000</td>\n",
       "      <td>0</td>\n",
       "      <td>0</td>\n",
       "      <td>0.000000</td>\n",
       "      <td>0</td>\n",
       "      <td>0.000000</td>\n",
       "    </tr>\n",
       "    <tr>\n",
       "      <th>5192</th>\n",
       "      <td>295028</td>\n",
       "      <td>51</td>\n",
       "      <td>0</td>\n",
       "      <td>0.000000</td>\n",
       "      <td>0.000000</td>\n",
       "      <td>0</td>\n",
       "      <td>0</td>\n",
       "      <td>0.000000</td>\n",
       "      <td>0</td>\n",
       "      <td>0.000000</td>\n",
       "    </tr>\n",
       "    <tr>\n",
       "      <th>5193</th>\n",
       "      <td>295028</td>\n",
       "      <td>52</td>\n",
       "      <td>0</td>\n",
       "      <td>0.000000</td>\n",
       "      <td>0.000000</td>\n",
       "      <td>0</td>\n",
       "      <td>0</td>\n",
       "      <td>0.000000</td>\n",
       "      <td>0</td>\n",
       "      <td>0.000000</td>\n",
       "    </tr>\n",
       "  </tbody>\n",
       "</table>\n",
       "<p>5194 rows × 10 columns</p>\n",
       "</div>"
      ],
      "text/plain": [
       "      20000_90  fDayNorm  totalArts  rural_pct  national   \n",
       "0          359         0         93   8.975072  0.692308  \\\n",
       "1          359         1         93  17.777352  0.466667   \n",
       "2          359         2         93  20.056621  0.400000   \n",
       "3          359         3         93   0.000000  1.000000   \n",
       "4          359         4          0   0.000000  0.000000   \n",
       "...        ...       ...        ...        ...       ...   \n",
       "5189    295028        48          0   0.000000  0.000000   \n",
       "5190    295028        49          0   0.000000  0.000000   \n",
       "5191    295028        50          0   0.000000  0.000000   \n",
       "5192    295028        51          0   0.000000  0.000000   \n",
       "5193    295028        52          0   0.000000  0.000000   \n",
       "\n",
       "                                                  state  artCount  countNorm   \n",
       "0     {Minnesota, Louisiana, New Mexico, Massachusetts}        26   0.279570  \\\n",
       "1     {Pennsylvania, California, North Carolina, Min...        45   0.483871   \n",
       "2     {California, Pennsylvania, Minnesota, Massachu...        20   0.215054   \n",
       "3                                                    {}         1   0.010753   \n",
       "4                                                     0         0   0.000000   \n",
       "...                                                 ...       ...        ...   \n",
       "5189                                                  0         0   0.000000   \n",
       "5190                                                  0         0   0.000000   \n",
       "5191                                                  0         0   0.000000   \n",
       "5192                                                  0         0   0.000000   \n",
       "5193                                                  0         0   0.000000   \n",
       "\n",
       "      uniqueStates  sqrtCount  \n",
       "0                4   5.099020  \n",
       "1               10   6.708204  \n",
       "2                7   4.472136  \n",
       "3                0   1.000000  \n",
       "4                0   0.000000  \n",
       "...            ...        ...  \n",
       "5189             0   0.000000  \n",
       "5190             0   0.000000  \n",
       "5191             0   0.000000  \n",
       "5192             0   0.000000  \n",
       "5193             0   0.000000  \n",
       "\n",
       "[5194 rows x 10 columns]"
      ]
     },
     "execution_count": 488,
     "metadata": {},
     "output_type": "execute_result"
    }
   ],
   "source": [
    "dateCounts"
   ]
  },
  {
   "cell_type": "code",
   "execution_count": 491,
   "metadata": {},
   "outputs": [
    {
     "data": {
      "text/html": [
       "<svg  width=\"550\" height=\"55\"><rect x=\"0\" y=\"0\" width=\"55\" height=\"55\" style=\"fill:#1f77b4;stroke-width:2;stroke:rgb(255,255,255)\"/><rect x=\"55\" y=\"0\" width=\"55\" height=\"55\" style=\"fill:#ff7f0e;stroke-width:2;stroke:rgb(255,255,255)\"/><rect x=\"110\" y=\"0\" width=\"55\" height=\"55\" style=\"fill:#2ca02c;stroke-width:2;stroke:rgb(255,255,255)\"/><rect x=\"165\" y=\"0\" width=\"55\" height=\"55\" style=\"fill:#d62728;stroke-width:2;stroke:rgb(255,255,255)\"/><rect x=\"220\" y=\"0\" width=\"55\" height=\"55\" style=\"fill:#9467bd;stroke-width:2;stroke:rgb(255,255,255)\"/><rect x=\"275\" y=\"0\" width=\"55\" height=\"55\" style=\"fill:#8c564b;stroke-width:2;stroke:rgb(255,255,255)\"/><rect x=\"330\" y=\"0\" width=\"55\" height=\"55\" style=\"fill:#e377c2;stroke-width:2;stroke:rgb(255,255,255)\"/><rect x=\"385\" y=\"0\" width=\"55\" height=\"55\" style=\"fill:#7f7f7f;stroke-width:2;stroke:rgb(255,255,255)\"/><rect x=\"440\" y=\"0\" width=\"55\" height=\"55\" style=\"fill:#bcbd22;stroke-width:2;stroke:rgb(255,255,255)\"/><rect x=\"495\" y=\"0\" width=\"55\" height=\"55\" style=\"fill:#17becf;stroke-width:2;stroke:rgb(255,255,255)\"/></svg>"
      ],
      "text/plain": [
       "[(0.12156862745098039, 0.4666666666666667, 0.7058823529411765),\n",
       " (1.0, 0.4980392156862745, 0.054901960784313725),\n",
       " (0.17254901960784313, 0.6274509803921569, 0.17254901960784313),\n",
       " (0.8392156862745098, 0.15294117647058825, 0.1568627450980392),\n",
       " (0.5803921568627451, 0.403921568627451, 0.7411764705882353),\n",
       " (0.5490196078431373, 0.33725490196078434, 0.29411764705882354),\n",
       " (0.8901960784313725, 0.4666666666666667, 0.7607843137254902),\n",
       " (0.4980392156862745, 0.4980392156862745, 0.4980392156862745),\n",
       " (0.7372549019607844, 0.7411764705882353, 0.13333333333333333),\n",
       " (0.09019607843137255, 0.7450980392156863, 0.8117647058823529)]"
      ]
     },
     "execution_count": 491,
     "metadata": {},
     "output_type": "execute_result"
    }
   ],
   "source": [
    "tab10"
   ]
  },
  {
   "cell_type": "code",
   "execution_count": 494,
   "metadata": {},
   "outputs": [
    {
     "name": "stderr",
     "output_type": "stream",
     "text": [
      "<ipython-input-494-e0539c897b96>:8: UserWarning: FixedFormatter should only be used together with FixedLocator\n",
      "  axs[1].set_xticklabels(np.arange(0, 60, 10), size=12)\n"
     ]
    },
    {
     "data": {
      "image/png": "[encoded data removed]",
      "text/plain": [
       "<Figure size 432x360 with 2 Axes>"
      ]
     },
     "metadata": {
      "needs_background": "light"
     },
     "output_type": "display_data"
    }
   ],
   "source": [
    "fig, axs = plt.subplots(2, figsize=(6, 5), sharex=True)\n",
    "sns.lineplot(data=dateCounts, x=\"fDayNorm\", y=\"artCount\", color=colDict[\"purple\"], ax=axs[0])\n",
    "sns.lineplot(data=dateCounts, x=\"fDayNorm\", y=\"uniqueStates\", color=colDict[\"green\"], ax=axs[1])\n",
    "\n",
    "axs[0].set_ylabel(\"# of Articles\", size=12)\n",
    "\n",
    "axs[1].set_xlabel(\"Days Since First Article\", size=16)\n",
    "axs[1].set_xticklabels(np.arange(0, 60, 10), size=12)\n",
    "#axs[1].set_xticklabels(ax.get_xticklabels(), size=12)\n",
    "axs[1].set_ylabel(\"# of Unique States\", size=12)\n",
    "axs[1].set_xlim(0, 50)\n",
    "fig.suptitle(\"The Development of Media Storms\", size=16)\n",
    "plt.tight_layout()\n",
    "\n",
    "\n",
    "plt.savefig(FIG_PATH + \"avgTimeSeries.pdf\", bbox_inches = \"tight\")"
   ]
  },
  {
   "cell_type": "code",
   "execution_count": 184,
   "metadata": {},
   "outputs": [
    {
     "data": {
      "text/html": [
       "<div>\n",
       "<style scoped>\n",
       "    .dataframe tbody tr th:only-of-type {\n",
       "        vertical-align: middle;\n",
       "    }\n",
       "\n",
       "    .dataframe tbody tr th {\n",
       "        vertical-align: top;\n",
       "    }\n",
       "\n",
       "    .dataframe thead th {\n",
       "        text-align: right;\n",
       "    }\n",
       "</style>\n",
       "<table border=\"1\" class=\"dataframe\">\n",
       "  <thead>\n",
       "    <tr style=\"text-align: right;\">\n",
       "      <th></th>\n",
       "      <th>fDayNorm</th>\n",
       "      <th>state</th>\n",
       "      <th>uniqueStates</th>\n",
       "      <th>artCount</th>\n",
       "    </tr>\n",
       "  </thead>\n",
       "  <tbody>\n",
       "    <tr>\n",
       "      <th>0</th>\n",
       "      <td>0</td>\n",
       "      <td>{Minnesota, Louisiana, New Mexico, Massachusetts}</td>\n",
       "      <td>4</td>\n",
       "      <td>26</td>\n",
       "    </tr>\n",
       "    <tr>\n",
       "      <th>1</th>\n",
       "      <td>1</td>\n",
       "      <td>{Pennsylvania, California, North Carolina, Min...</td>\n",
       "      <td>10</td>\n",
       "      <td>45</td>\n",
       "    </tr>\n",
       "    <tr>\n",
       "      <th>2</th>\n",
       "      <td>2</td>\n",
       "      <td>{California, Pennsylvania, Minnesota, Massachu...</td>\n",
       "      <td>7</td>\n",
       "      <td>20</td>\n",
       "    </tr>\n",
       "    <tr>\n",
       "      <th>3</th>\n",
       "      <td>3</td>\n",
       "      <td>{}</td>\n",
       "      <td>0</td>\n",
       "      <td>1</td>\n",
       "    </tr>\n",
       "    <tr>\n",
       "      <th>4</th>\n",
       "      <td>4</td>\n",
       "      <td>0</td>\n",
       "      <td>0</td>\n",
       "      <td>0</td>\n",
       "    </tr>\n",
       "    <tr>\n",
       "      <th>5</th>\n",
       "      <td>5</td>\n",
       "      <td>0</td>\n",
       "      <td>0</td>\n",
       "      <td>0</td>\n",
       "    </tr>\n",
       "    <tr>\n",
       "      <th>6</th>\n",
       "      <td>6</td>\n",
       "      <td>{}</td>\n",
       "      <td>0</td>\n",
       "      <td>1</td>\n",
       "    </tr>\n",
       "    <tr>\n",
       "      <th>7</th>\n",
       "      <td>7</td>\n",
       "      <td>0</td>\n",
       "      <td>0</td>\n",
       "      <td>0</td>\n",
       "    </tr>\n",
       "    <tr>\n",
       "      <th>8</th>\n",
       "      <td>8</td>\n",
       "      <td>0</td>\n",
       "      <td>0</td>\n",
       "      <td>0</td>\n",
       "    </tr>\n",
       "    <tr>\n",
       "      <th>9</th>\n",
       "      <td>9</td>\n",
       "      <td>0</td>\n",
       "      <td>0</td>\n",
       "      <td>0</td>\n",
       "    </tr>\n",
       "    <tr>\n",
       "      <th>10</th>\n",
       "      <td>10</td>\n",
       "      <td>0</td>\n",
       "      <td>0</td>\n",
       "      <td>0</td>\n",
       "    </tr>\n",
       "    <tr>\n",
       "      <th>11</th>\n",
       "      <td>11</td>\n",
       "      <td>0</td>\n",
       "      <td>0</td>\n",
       "      <td>0</td>\n",
       "    </tr>\n",
       "    <tr>\n",
       "      <th>12</th>\n",
       "      <td>12</td>\n",
       "      <td>0</td>\n",
       "      <td>0</td>\n",
       "      <td>0</td>\n",
       "    </tr>\n",
       "    <tr>\n",
       "      <th>13</th>\n",
       "      <td>13</td>\n",
       "      <td>0</td>\n",
       "      <td>0</td>\n",
       "      <td>0</td>\n",
       "    </tr>\n",
       "    <tr>\n",
       "      <th>14</th>\n",
       "      <td>14</td>\n",
       "      <td>0</td>\n",
       "      <td>0</td>\n",
       "      <td>0</td>\n",
       "    </tr>\n",
       "    <tr>\n",
       "      <th>15</th>\n",
       "      <td>15</td>\n",
       "      <td>0</td>\n",
       "      <td>0</td>\n",
       "      <td>0</td>\n",
       "    </tr>\n",
       "    <tr>\n",
       "      <th>16</th>\n",
       "      <td>16</td>\n",
       "      <td>0</td>\n",
       "      <td>0</td>\n",
       "      <td>0</td>\n",
       "    </tr>\n",
       "    <tr>\n",
       "      <th>17</th>\n",
       "      <td>17</td>\n",
       "      <td>0</td>\n",
       "      <td>0</td>\n",
       "      <td>0</td>\n",
       "    </tr>\n",
       "    <tr>\n",
       "      <th>18</th>\n",
       "      <td>18</td>\n",
       "      <td>0</td>\n",
       "      <td>0</td>\n",
       "      <td>0</td>\n",
       "    </tr>\n",
       "    <tr>\n",
       "      <th>19</th>\n",
       "      <td>19</td>\n",
       "      <td>0</td>\n",
       "      <td>0</td>\n",
       "      <td>0</td>\n",
       "    </tr>\n",
       "    <tr>\n",
       "      <th>20</th>\n",
       "      <td>20</td>\n",
       "      <td>0</td>\n",
       "      <td>0</td>\n",
       "      <td>0</td>\n",
       "    </tr>\n",
       "    <tr>\n",
       "      <th>21</th>\n",
       "      <td>21</td>\n",
       "      <td>0</td>\n",
       "      <td>0</td>\n",
       "      <td>0</td>\n",
       "    </tr>\n",
       "    <tr>\n",
       "      <th>22</th>\n",
       "      <td>22</td>\n",
       "      <td>0</td>\n",
       "      <td>0</td>\n",
       "      <td>0</td>\n",
       "    </tr>\n",
       "    <tr>\n",
       "      <th>23</th>\n",
       "      <td>23</td>\n",
       "      <td>0</td>\n",
       "      <td>0</td>\n",
       "      <td>0</td>\n",
       "    </tr>\n",
       "    <tr>\n",
       "      <th>24</th>\n",
       "      <td>24</td>\n",
       "      <td>0</td>\n",
       "      <td>0</td>\n",
       "      <td>0</td>\n",
       "    </tr>\n",
       "    <tr>\n",
       "      <th>25</th>\n",
       "      <td>25</td>\n",
       "      <td>0</td>\n",
       "      <td>0</td>\n",
       "      <td>0</td>\n",
       "    </tr>\n",
       "    <tr>\n",
       "      <th>26</th>\n",
       "      <td>26</td>\n",
       "      <td>0</td>\n",
       "      <td>0</td>\n",
       "      <td>0</td>\n",
       "    </tr>\n",
       "    <tr>\n",
       "      <th>27</th>\n",
       "      <td>27</td>\n",
       "      <td>0</td>\n",
       "      <td>0</td>\n",
       "      <td>0</td>\n",
       "    </tr>\n",
       "    <tr>\n",
       "      <th>28</th>\n",
       "      <td>28</td>\n",
       "      <td>0</td>\n",
       "      <td>0</td>\n",
       "      <td>0</td>\n",
       "    </tr>\n",
       "    <tr>\n",
       "      <th>29</th>\n",
       "      <td>29</td>\n",
       "      <td>0</td>\n",
       "      <td>0</td>\n",
       "      <td>0</td>\n",
       "    </tr>\n",
       "  </tbody>\n",
       "</table>\n",
       "</div>"
      ],
      "text/plain": [
       "    fDayNorm                                              state  uniqueStates   \n",
       "0          0  {Minnesota, Louisiana, New Mexico, Massachusetts}             4  \\\n",
       "1          1  {Pennsylvania, California, North Carolina, Min...            10   \n",
       "2          2  {California, Pennsylvania, Minnesota, Massachu...             7   \n",
       "3          3                                                 {}             0   \n",
       "4          4                                                  0             0   \n",
       "5          5                                                  0             0   \n",
       "6          6                                                 {}             0   \n",
       "7          7                                                  0             0   \n",
       "8          8                                                  0             0   \n",
       "9          9                                                  0             0   \n",
       "10        10                                                  0             0   \n",
       "11        11                                                  0             0   \n",
       "12        12                                                  0             0   \n",
       "13        13                                                  0             0   \n",
       "14        14                                                  0             0   \n",
       "15        15                                                  0             0   \n",
       "16        16                                                  0             0   \n",
       "17        17                                                  0             0   \n",
       "18        18                                                  0             0   \n",
       "19        19                                                  0             0   \n",
       "20        20                                                  0             0   \n",
       "21        21                                                  0             0   \n",
       "22        22                                                  0             0   \n",
       "23        23                                                  0             0   \n",
       "24        24                                                  0             0   \n",
       "25        25                                                  0             0   \n",
       "26        26                                                  0             0   \n",
       "27        27                                                  0             0   \n",
       "28        28                                                  0             0   \n",
       "29        29                                                  0             0   \n",
       "\n",
       "    artCount  \n",
       "0         26  \n",
       "1         45  \n",
       "2         20  \n",
       "3          1  \n",
       "4          0  \n",
       "5          0  \n",
       "6          1  \n",
       "7          0  \n",
       "8          0  \n",
       "9          0  \n",
       "10         0  \n",
       "11         0  \n",
       "12         0  \n",
       "13         0  \n",
       "14         0  \n",
       "15         0  \n",
       "16         0  \n",
       "17         0  \n",
       "18         0  \n",
       "19         0  \n",
       "20         0  \n",
       "21         0  \n",
       "22         0  \n",
       "23         0  \n",
       "24         0  \n",
       "25         0  \n",
       "26         0  \n",
       "27         0  \n",
       "28         0  \n",
       "29         0  "
      ]
     },
     "execution_count": 184,
     "metadata": {},
     "output_type": "execute_result"
    }
   ],
   "source": [
    "dateCounts[[\"fDayNorm\", \"state\", \"uniqueStates\", \"artCount\"]].head(30)"
   ]
  },
  {
   "cell_type": "code",
   "execution_count": 177,
   "metadata": {},
   "outputs": [
    {
     "data": {
      "image/png": "[encoded data removed]",
      "text/plain": [
       "<Figure size 432x360 with 2 Axes>"
      ]
     },
     "metadata": {
      "needs_background": "light"
     },
     "output_type": "display_data"
    }
   ],
   "source": [
    "fig, axs = plt.subplots(2, figsize=(6, 5), sharex=True)\n",
    "\n",
    "hasArts = dateCounts[dateCounts[\"artCount\"] > 0]\n",
    "\n",
    "sns.lineplot(data=hasArts, x=\"fDayNorm\", y=\"rural_pct\", color=PALETTE[0], ax=axs[0])\n",
    "sns.lineplot(data=hasArts, x=\"fDayNorm\", y=\"national\", color=PALETTE[1], ax=axs[1])\n",
    "\n",
    "\"\"\"\n",
    "axs[0].set_ylabel(\"# of Articles\", size=12)\n",
    "\n",
    "axs[1].set_xlabel(\"Days Since First Article\", size=16)\n",
    "axs[1].set_xticklabels(np.arange(0, 60, 10), size=12)\n",
    "#axs[1].set_xticklabels(ax.get_xticklabels(), size=12)\n",
    "axs[1].set_ylabel(\"# of Unique States\", size=12)\n",
    "axs[1].set_xlim(0, 50)\n",
    "fig.suptitle(\"The Development of Media Storms\", size=16)\n",
    "\"\"\"\n",
    "plt.xlim(0, 20)\n",
    "plt.tight_layout()\n"
   ]
  },
  {
   "cell_type": "code",
   "execution_count": null,
   "metadata": {},
   "outputs": [],
   "source": []
  },
  {
   "cell_type": "code",
   "execution_count": 82,
   "metadata": {},
   "outputs": [
    {
     "data": {
      "text/plain": [
       "[Text(-10.0, 0, '−10'),\n",
       " Text(0.0, 0, '0'),\n",
       " Text(10.0, 0, '10'),\n",
       " Text(20.0, 0, '20'),\n",
       " Text(30.0, 0, '30'),\n",
       " Text(40.0, 0, '40'),\n",
       " Text(50.0, 0, '50'),\n",
       " Text(60.0, 0, '60')]"
      ]
     },
     "execution_count": 82,
     "metadata": {},
     "output_type": "execute_result"
    }
   ],
   "source": [
    "ax.set_xticklabels(np.arange(0, 50, 10))"
   ]
  },
  {
   "cell_type": "code",
   "execution_count": null,
   "metadata": {},
   "outputs": [],
   "source": [
    "# stateDf[\"uniqueStates\"] = stateDf[\"state\"].apply(set)\n",
    "#stateDf[\"numUniqueStates\"] = len(stateDf[\"uniqueStates\"])"
   ]
  },
  {
   "cell_type": "code",
   "execution_count": 186,
   "metadata": {},
   "outputs": [
    {
     "data": {
      "text/html": [
       "<div>\n",
       "<style scoped>\n",
       "    .dataframe tbody tr th:only-of-type {\n",
       "        vertical-align: middle;\n",
       "    }\n",
       "\n",
       "    .dataframe tbody tr th {\n",
       "        vertical-align: top;\n",
       "    }\n",
       "\n",
       "    .dataframe thead th {\n",
       "        text-align: right;\n",
       "    }\n",
       "</style>\n",
       "<table border=\"1\" class=\"dataframe\">\n",
       "  <thead>\n",
       "    <tr style=\"text-align: right;\">\n",
       "      <th></th>\n",
       "      <th>20000_90</th>\n",
       "      <th>fDayNorm</th>\n",
       "      <th>totalArts</th>\n",
       "      <th>rural_pct</th>\n",
       "      <th>national</th>\n",
       "      <th>state</th>\n",
       "      <th>artCount</th>\n",
       "      <th>countNorm</th>\n",
       "      <th>uniqueStates</th>\n",
       "    </tr>\n",
       "  </thead>\n",
       "  <tbody>\n",
       "    <tr>\n",
       "      <th>0</th>\n",
       "      <td>359</td>\n",
       "      <td>0</td>\n",
       "      <td>93</td>\n",
       "      <td>8.975072</td>\n",
       "      <td>0.730769</td>\n",
       "      <td>{Minnesota, Louisiana, New Mexico, Massachusetts}</td>\n",
       "      <td>26</td>\n",
       "      <td>0.279570</td>\n",
       "      <td>4</td>\n",
       "    </tr>\n",
       "    <tr>\n",
       "      <th>1</th>\n",
       "      <td>359</td>\n",
       "      <td>1</td>\n",
       "      <td>93</td>\n",
       "      <td>17.777352</td>\n",
       "      <td>0.511111</td>\n",
       "      <td>{Pennsylvania, California, North Carolina, Min...</td>\n",
       "      <td>45</td>\n",
       "      <td>0.483871</td>\n",
       "      <td>10</td>\n",
       "    </tr>\n",
       "    <tr>\n",
       "      <th>2</th>\n",
       "      <td>359</td>\n",
       "      <td>2</td>\n",
       "      <td>93</td>\n",
       "      <td>20.056621</td>\n",
       "      <td>0.400000</td>\n",
       "      <td>{California, Pennsylvania, Minnesota, Massachu...</td>\n",
       "      <td>20</td>\n",
       "      <td>0.215054</td>\n",
       "      <td>7</td>\n",
       "    </tr>\n",
       "    <tr>\n",
       "      <th>3</th>\n",
       "      <td>359</td>\n",
       "      <td>3</td>\n",
       "      <td>93</td>\n",
       "      <td>0.000000</td>\n",
       "      <td>1.000000</td>\n",
       "      <td>{}</td>\n",
       "      <td>1</td>\n",
       "      <td>0.010753</td>\n",
       "      <td>0</td>\n",
       "    </tr>\n",
       "    <tr>\n",
       "      <th>4</th>\n",
       "      <td>359</td>\n",
       "      <td>4</td>\n",
       "      <td>0</td>\n",
       "      <td>0.000000</td>\n",
       "      <td>0.000000</td>\n",
       "      <td>0</td>\n",
       "      <td>0</td>\n",
       "      <td>0.000000</td>\n",
       "      <td>0</td>\n",
       "    </tr>\n",
       "    <tr>\n",
       "      <th>...</th>\n",
       "      <td>...</td>\n",
       "      <td>...</td>\n",
       "      <td>...</td>\n",
       "      <td>...</td>\n",
       "      <td>...</td>\n",
       "      <td>...</td>\n",
       "      <td>...</td>\n",
       "      <td>...</td>\n",
       "      <td>...</td>\n",
       "    </tr>\n",
       "    <tr>\n",
       "      <th>5189</th>\n",
       "      <td>295028</td>\n",
       "      <td>48</td>\n",
       "      <td>0</td>\n",
       "      <td>0.000000</td>\n",
       "      <td>0.000000</td>\n",
       "      <td>0</td>\n",
       "      <td>0</td>\n",
       "      <td>0.000000</td>\n",
       "      <td>0</td>\n",
       "    </tr>\n",
       "    <tr>\n",
       "      <th>5190</th>\n",
       "      <td>295028</td>\n",
       "      <td>49</td>\n",
       "      <td>0</td>\n",
       "      <td>0.000000</td>\n",
       "      <td>0.000000</td>\n",
       "      <td>0</td>\n",
       "      <td>0</td>\n",
       "      <td>0.000000</td>\n",
       "      <td>0</td>\n",
       "    </tr>\n",
       "    <tr>\n",
       "      <th>5191</th>\n",
       "      <td>295028</td>\n",
       "      <td>50</td>\n",
       "      <td>0</td>\n",
       "      <td>0.000000</td>\n",
       "      <td>0.000000</td>\n",
       "      <td>0</td>\n",
       "      <td>0</td>\n",
       "      <td>0.000000</td>\n",
       "      <td>0</td>\n",
       "    </tr>\n",
       "    <tr>\n",
       "      <th>5192</th>\n",
       "      <td>295028</td>\n",
       "      <td>51</td>\n",
       "      <td>0</td>\n",
       "      <td>0.000000</td>\n",
       "      <td>0.000000</td>\n",
       "      <td>0</td>\n",
       "      <td>0</td>\n",
       "      <td>0.000000</td>\n",
       "      <td>0</td>\n",
       "    </tr>\n",
       "    <tr>\n",
       "      <th>5193</th>\n",
       "      <td>295028</td>\n",
       "      <td>52</td>\n",
       "      <td>0</td>\n",
       "      <td>0.000000</td>\n",
       "      <td>0.000000</td>\n",
       "      <td>0</td>\n",
       "      <td>0</td>\n",
       "      <td>0.000000</td>\n",
       "      <td>0</td>\n",
       "    </tr>\n",
       "  </tbody>\n",
       "</table>\n",
       "<p>5194 rows × 9 columns</p>\n",
       "</div>"
      ],
      "text/plain": [
       "      20000_90  fDayNorm  totalArts  rural_pct  national   \n",
       "0          359         0         93   8.975072  0.730769  \\\n",
       "1          359         1         93  17.777352  0.511111   \n",
       "2          359         2         93  20.056621  0.400000   \n",
       "3          359         3         93   0.000000  1.000000   \n",
       "4          359         4          0   0.000000  0.000000   \n",
       "...        ...       ...        ...        ...       ...   \n",
       "5189    295028        48          0   0.000000  0.000000   \n",
       "5190    295028        49          0   0.000000  0.000000   \n",
       "5191    295028        50          0   0.000000  0.000000   \n",
       "5192    295028        51          0   0.000000  0.000000   \n",
       "5193    295028        52          0   0.000000  0.000000   \n",
       "\n",
       "                                                  state  artCount  countNorm   \n",
       "0     {Minnesota, Louisiana, New Mexico, Massachusetts}        26   0.279570  \\\n",
       "1     {Pennsylvania, California, North Carolina, Min...        45   0.483871   \n",
       "2     {California, Pennsylvania, Minnesota, Massachu...        20   0.215054   \n",
       "3                                                    {}         1   0.010753   \n",
       "4                                                     0         0   0.000000   \n",
       "...                                                 ...       ...        ...   \n",
       "5189                                                  0         0   0.000000   \n",
       "5190                                                  0         0   0.000000   \n",
       "5191                                                  0         0   0.000000   \n",
       "5192                                                  0         0   0.000000   \n",
       "5193                                                  0         0   0.000000   \n",
       "\n",
       "      uniqueStates  \n",
       "0                4  \n",
       "1               10  \n",
       "2                7  \n",
       "3                0  \n",
       "4                0  \n",
       "...            ...  \n",
       "5189             0  \n",
       "5190             0  \n",
       "5191             0  \n",
       "5192             0  \n",
       "5193             0  \n",
       "\n",
       "[5194 rows x 9 columns]"
      ]
     },
     "execution_count": 186,
     "metadata": {},
     "output_type": "execute_result"
    }
   ],
   "source": [
    "dateCounts"
   ]
  },
  {
   "cell_type": "code",
   "execution_count": null,
   "metadata": {},
   "outputs": [],
   "source": [
    "#additional figure to make, what is the average evolution of all clusters "
   ]
  },
  {
   "cell_type": "code",
   "execution_count": null,
   "metadata": {},
   "outputs": [],
   "source": [
    "#plot for time series of non-storm articles \n",
    "rDateDf = merged.loc[merged[SCOL_NAME + \"_storm\"] == False, [SCOL_NAME, \"date\"]].groupby(by=[SCOL_NAME]).agg(list) "
   ]
  },
  {
   "cell_type": "code",
   "execution_count": null,
   "metadata": {},
   "outputs": [],
   "source": [
    "#get days of storms numbered by date since first article appears\n",
    "rDateDf[\"totalArts\"] = rDateDf[\"date\"].apply(len)"
   ]
  },
  {
   "cell_type": "code",
   "execution_count": null,
   "metadata": {},
   "outputs": [],
   "source": [
    "rDateDf[\"firstDay\"] = pd.to_datetime(rDateDf[\"date\"].apply(min))"
   ]
  },
  {
   "cell_type": "code",
   "execution_count": null,
   "metadata": {},
   "outputs": [],
   "source": [
    "rDateDf = rDateDf.explode(\"date\")"
   ]
  },
  {
   "cell_type": "code",
   "execution_count": null,
   "metadata": {},
   "outputs": [],
   "source": [
    "rDateDf[\"fDayNorm\"] = ((rDateDf[\"date\"] - rDateDf[\"firstDay\"]) / np.timedelta64(1, \"D\")).astype(int)"
   ]
  },
  {
   "cell_type": "code",
   "execution_count": 249,
   "metadata": {},
   "outputs": [],
   "source": [
    "rDateCounts = rDateDf.reset_index()[[SCOL_NAME, \"fDayNorm\", \"totalArts\"]].groupby(by=[SCOL_NAME, \"fDayNorm\"])\\\n",
    ".agg(list) #.reset_index() #.head(30)\n",
    "\n",
    "rDateCounts[\"artCount\"] = rDateCounts[\"totalArts\"].apply(len)\n",
    "rDateCounts[\"totalArts\"] = rDateCounts[\"totalArts\"].apply(getFirst)\n",
    "\n",
    "rDateCounts[\"countNorm\"] = rDateCounts[\"artCount\"] / rDateCounts[\"totalArts\"]"
   ]
  },
  {
   "cell_type": "code",
   "execution_count": null,
   "metadata": {},
   "outputs": [],
   "source": [
    "id=rDateCounts.index.get_level_values(1)\n",
    "idx=pd.MultiIndex.from_product([rDateCounts.index.levels[0],list(range(int(id.min()),int(id.max())))])\n",
    "rDateCounts = rDateCounts.reindex(idx, fill_value=0).reset_index()\n",
    "\n",
    "rDateCounts = rDateCounts.rename(columns={\"level_1\":\"fDayNorm\"})"
   ]
  },
  {
   "cell_type": "code",
   "execution_count": 163,
   "metadata": {},
   "outputs": [],
   "source": [
    "largeClusts = dateDf[dateDf[\"totalArts\"] > 600].reset_index()[SCOL_NAME].unique()"
   ]
  },
  {
   "cell_type": "code",
   "execution_count": 164,
   "metadata": {},
   "outputs": [
    {
     "data": {
      "text/plain": [
       "array([ 533,  608, 6876, 8088])"
      ]
     },
     "execution_count": 164,
     "metadata": {},
     "output_type": "execute_result"
    }
   ],
   "source": [
    "largeClusts"
   ]
  },
  {
   "cell_type": "code",
   "execution_count": 219,
   "metadata": {},
   "outputs": [
    {
     "data": {
      "text/plain": [
       "Text(0, 0.5, 'article count')"
      ]
     },
     "execution_count": 219,
     "metadata": {},
     "output_type": "execute_result"
    },
    {
     "data": {
      "image/png": "[encoded data removed]",
      "text/plain": [
       "<Figure size 576x360 with 1 Axes>"
      ]
     },
     "metadata": {
      "needs_background": "light"
     },
     "output_type": "display_data"
    }
   ],
   "source": [
    "fix, ax = plt.subplots(figsize=(8, 5))\n",
    "sns.lineplot(x=\"fDayNorm\", y=\"artCount\", hue=SCOL_NAME, data=dateCounts[dateCounts[SCOL_NAME].isin(largeClusts)], palette=\"bright\", legend=True, alpha=.8, ax=ax)\n",
    "ax.set_xlim()\n",
    "ax.set_xlim(0, 52)\n",
    "ax.set_title(\"Top 4 storms\")\n",
    "ax.set_xlabel(\"days since first story\", size=14)\n",
    "ax.set_ylabel(\"article count\", size=14)\n",
    "#ax.set_xticks(np.arange(-4, 4, 1))"
   ]
  },
  {
   "cell_type": "code",
   "execution_count": 222,
   "metadata": {},
   "outputs": [],
   "source": [
    "c4817 = merged.loc[merged[SCOL_NAME] == 6876]"
   ]
  },
  {
   "cell_type": "code",
   "execution_count": 223,
   "metadata": {},
   "outputs": [
    {
     "data": {
      "text/html": [
       "<div>\n",
       "<style scoped>\n",
       "    .dataframe tbody tr th:only-of-type {\n",
       "        vertical-align: middle;\n",
       "    }\n",
       "\n",
       "    .dataframe tbody tr th {\n",
       "        vertical-align: top;\n",
       "    }\n",
       "\n",
       "    .dataframe thead th {\n",
       "        text-align: right;\n",
       "    }\n",
       "</style>\n",
       "<table border=\"1\" class=\"dataframe\">\n",
       "  <thead>\n",
       "    <tr style=\"text-align: right;\">\n",
       "      <th></th>\n",
       "      <th>date</th>\n",
       "      <th>title</th>\n",
       "      <th>content</th>\n",
       "    </tr>\n",
       "  </thead>\n",
       "  <tbody>\n",
       "    <tr>\n",
       "      <th>1662870</th>\n",
       "      <td>2020-10-10</td>\n",
       "      <td>Five things to know about Supreme Court nomine...</td>\n",
       "      <td>WASHINGTON — Confirmation hearings begin Monda...</td>\n",
       "    </tr>\n",
       "    <tr>\n",
       "      <th>1662932</th>\n",
       "      <td>2020-10-10</td>\n",
       "      <td>Five things to know about Supreme Court nomine...</td>\n",
       "      <td>WASHINGTON — Confirmation hearings begin Monda...</td>\n",
       "    </tr>\n",
       "    <tr>\n",
       "      <th>1663390</th>\n",
       "      <td>2020-10-10</td>\n",
       "      <td>Five things to know about court nominee Amy Co...</td>\n",
       "      <td>WASHINGTON — Confirmation hearings begin Monda...</td>\n",
       "    </tr>\n",
       "    <tr>\n",
       "      <th>1666816</th>\n",
       "      <td>2020-10-10</td>\n",
       "      <td>Details of Amy Coney Barrett's Monday confirma...</td>\n",
       "      <td>Two U.S. senators from Indiana and a former la...</td>\n",
       "    </tr>\n",
       "    <tr>\n",
       "      <th>1666880</th>\n",
       "      <td>2020-10-10</td>\n",
       "      <td>Five things to know about court nominee Amy Co...</td>\n",
       "      <td>Confirmation hearings begin Monday for Preside...</td>\n",
       "    </tr>\n",
       "  </tbody>\n",
       "</table>\n",
       "</div>"
      ],
      "text/plain": [
       "              date                                              title   \n",
       "1662870 2020-10-10  Five things to know about Supreme Court nomine...  \\\n",
       "1662932 2020-10-10  Five things to know about Supreme Court nomine...   \n",
       "1663390 2020-10-10  Five things to know about court nominee Amy Co...   \n",
       "1666816 2020-10-10  Details of Amy Coney Barrett's Monday confirma...   \n",
       "1666880 2020-10-10  Five things to know about court nominee Amy Co...   \n",
       "\n",
       "                                                   content  \n",
       "1662870  WASHINGTON — Confirmation hearings begin Monda...  \n",
       "1662932  WASHINGTON — Confirmation hearings begin Monda...  \n",
       "1663390  WASHINGTON — Confirmation hearings begin Monda...  \n",
       "1666816  Two U.S. senators from Indiana and a former la...  \n",
       "1666880  Confirmation hearings begin Monday for Preside...  "
      ]
     },
     "execution_count": 223,
     "metadata": {},
     "output_type": "execute_result"
    }
   ],
   "source": [
    "#Biden's infrastructure bill \n",
    "c4817.sample(20).sort_values(\"date\")[[\"date\", \"title\", \"content\"]]"
   ]
  },
  {
   "cell_type": "code",
   "execution_count": null,
   "metadata": {},
   "outputs": [],
   "source": [
    "#fit beta distributions to the time-series \n",
    "#TODO: \n",
    "#normalize the data between zero and one on the x axis \n",
    "#use norms from up above (pdf) for y axis\n",
    "#use scipy beta fit \n",
    "#https://docs.scipy.org/doc/scipy/reference/generated/scipy.stats.beta.html"
   ]
  },
  {
   "cell_type": "code",
   "execution_count": 258,
   "metadata": {},
   "outputs": [
    {
     "data": {
      "text/html": [
       "<div>\n",
       "<style scoped>\n",
       "    .dataframe tbody tr th:only-of-type {\n",
       "        vertical-align: middle;\n",
       "    }\n",
       "\n",
       "    .dataframe tbody tr th {\n",
       "        vertical-align: top;\n",
       "    }\n",
       "\n",
       "    .dataframe thead th {\n",
       "        text-align: right;\n",
       "    }\n",
       "</style>\n",
       "<table border=\"1\" class=\"dataframe\">\n",
       "  <thead>\n",
       "    <tr style=\"text-align: right;\">\n",
       "      <th></th>\n",
       "      <th>20000_90</th>\n",
       "      <th>fDayNorm</th>\n",
       "      <th>totalArts</th>\n",
       "      <th>rural_pct</th>\n",
       "      <th>national</th>\n",
       "      <th>state</th>\n",
       "      <th>artCount</th>\n",
       "      <th>countNorm</th>\n",
       "      <th>uniqueStates</th>\n",
       "    </tr>\n",
       "  </thead>\n",
       "  <tbody>\n",
       "    <tr>\n",
       "      <th>0</th>\n",
       "      <td>359</td>\n",
       "      <td>0</td>\n",
       "      <td>93</td>\n",
       "      <td>8.975072</td>\n",
       "      <td>0.730769</td>\n",
       "      <td>{Minnesota, Louisiana, New Mexico, Massachusetts}</td>\n",
       "      <td>26</td>\n",
       "      <td>0.279570</td>\n",
       "      <td>4</td>\n",
       "    </tr>\n",
       "    <tr>\n",
       "      <th>1</th>\n",
       "      <td>359</td>\n",
       "      <td>1</td>\n",
       "      <td>93</td>\n",
       "      <td>17.777352</td>\n",
       "      <td>0.511111</td>\n",
       "      <td>{Pennsylvania, California, North Carolina, Min...</td>\n",
       "      <td>45</td>\n",
       "      <td>0.483871</td>\n",
       "      <td>10</td>\n",
       "    </tr>\n",
       "    <tr>\n",
       "      <th>2</th>\n",
       "      <td>359</td>\n",
       "      <td>2</td>\n",
       "      <td>93</td>\n",
       "      <td>20.056621</td>\n",
       "      <td>0.400000</td>\n",
       "      <td>{California, Pennsylvania, Minnesota, Massachu...</td>\n",
       "      <td>20</td>\n",
       "      <td>0.215054</td>\n",
       "      <td>7</td>\n",
       "    </tr>\n",
       "    <tr>\n",
       "      <th>3</th>\n",
       "      <td>359</td>\n",
       "      <td>3</td>\n",
       "      <td>93</td>\n",
       "      <td>0.000000</td>\n",
       "      <td>1.000000</td>\n",
       "      <td>{}</td>\n",
       "      <td>1</td>\n",
       "      <td>0.010753</td>\n",
       "      <td>0</td>\n",
       "    </tr>\n",
       "    <tr>\n",
       "      <th>4</th>\n",
       "      <td>359</td>\n",
       "      <td>4</td>\n",
       "      <td>0</td>\n",
       "      <td>0.000000</td>\n",
       "      <td>0.000000</td>\n",
       "      <td>0</td>\n",
       "      <td>0</td>\n",
       "      <td>0.000000</td>\n",
       "      <td>0</td>\n",
       "    </tr>\n",
       "    <tr>\n",
       "      <th>...</th>\n",
       "      <td>...</td>\n",
       "      <td>...</td>\n",
       "      <td>...</td>\n",
       "      <td>...</td>\n",
       "      <td>...</td>\n",
       "      <td>...</td>\n",
       "      <td>...</td>\n",
       "      <td>...</td>\n",
       "      <td>...</td>\n",
       "    </tr>\n",
       "    <tr>\n",
       "      <th>5189</th>\n",
       "      <td>295028</td>\n",
       "      <td>48</td>\n",
       "      <td>0</td>\n",
       "      <td>0.000000</td>\n",
       "      <td>0.000000</td>\n",
       "      <td>0</td>\n",
       "      <td>0</td>\n",
       "      <td>0.000000</td>\n",
       "      <td>0</td>\n",
       "    </tr>\n",
       "    <tr>\n",
       "      <th>5190</th>\n",
       "      <td>295028</td>\n",
       "      <td>49</td>\n",
       "      <td>0</td>\n",
       "      <td>0.000000</td>\n",
       "      <td>0.000000</td>\n",
       "      <td>0</td>\n",
       "      <td>0</td>\n",
       "      <td>0.000000</td>\n",
       "      <td>0</td>\n",
       "    </tr>\n",
       "    <tr>\n",
       "      <th>5191</th>\n",
       "      <td>295028</td>\n",
       "      <td>50</td>\n",
       "      <td>0</td>\n",
       "      <td>0.000000</td>\n",
       "      <td>0.000000</td>\n",
       "      <td>0</td>\n",
       "      <td>0</td>\n",
       "      <td>0.000000</td>\n",
       "      <td>0</td>\n",
       "    </tr>\n",
       "    <tr>\n",
       "      <th>5192</th>\n",
       "      <td>295028</td>\n",
       "      <td>51</td>\n",
       "      <td>0</td>\n",
       "      <td>0.000000</td>\n",
       "      <td>0.000000</td>\n",
       "      <td>0</td>\n",
       "      <td>0</td>\n",
       "      <td>0.000000</td>\n",
       "      <td>0</td>\n",
       "    </tr>\n",
       "    <tr>\n",
       "      <th>5193</th>\n",
       "      <td>295028</td>\n",
       "      <td>52</td>\n",
       "      <td>0</td>\n",
       "      <td>0.000000</td>\n",
       "      <td>0.000000</td>\n",
       "      <td>0</td>\n",
       "      <td>0</td>\n",
       "      <td>0.000000</td>\n",
       "      <td>0</td>\n",
       "    </tr>\n",
       "  </tbody>\n",
       "</table>\n",
       "<p>5194 rows × 9 columns</p>\n",
       "</div>"
      ],
      "text/plain": [
       "      20000_90  fDayNorm  totalArts  rural_pct  national   \n",
       "0          359         0         93   8.975072  0.730769  \\\n",
       "1          359         1         93  17.777352  0.511111   \n",
       "2          359         2         93  20.056621  0.400000   \n",
       "3          359         3         93   0.000000  1.000000   \n",
       "4          359         4          0   0.000000  0.000000   \n",
       "...        ...       ...        ...        ...       ...   \n",
       "5189    295028        48          0   0.000000  0.000000   \n",
       "5190    295028        49          0   0.000000  0.000000   \n",
       "5191    295028        50          0   0.000000  0.000000   \n",
       "5192    295028        51          0   0.000000  0.000000   \n",
       "5193    295028        52          0   0.000000  0.000000   \n",
       "\n",
       "                                                  state  artCount  countNorm   \n",
       "0     {Minnesota, Louisiana, New Mexico, Massachusetts}        26   0.279570  \\\n",
       "1     {Pennsylvania, California, North Carolina, Min...        45   0.483871   \n",
       "2     {California, Pennsylvania, Minnesota, Massachu...        20   0.215054   \n",
       "3                                                    {}         1   0.010753   \n",
       "4                                                     0         0   0.000000   \n",
       "...                                                 ...       ...        ...   \n",
       "5189                                                  0         0   0.000000   \n",
       "5190                                                  0         0   0.000000   \n",
       "5191                                                  0         0   0.000000   \n",
       "5192                                                  0         0   0.000000   \n",
       "5193                                                  0         0   0.000000   \n",
       "\n",
       "      uniqueStates  \n",
       "0                4  \n",
       "1               10  \n",
       "2                7  \n",
       "3                0  \n",
       "4                0  \n",
       "...            ...  \n",
       "5189             0  \n",
       "5190             0  \n",
       "5191             0  \n",
       "5192             0  \n",
       "5193             0  \n",
       "\n",
       "[5194 rows x 9 columns]"
      ]
     },
     "execution_count": 258,
     "metadata": {},
     "output_type": "execute_result"
    }
   ],
   "source": [
    "#get empirical cdf of how many storms are left after a certain day \n",
    "\n"
   ]
  },
  {
   "cell_type": "code",
   "execution_count": 261,
   "metadata": {},
   "outputs": [],
   "source": [
    "dateCounts = dateDf.reset_index()[[SCOL_NAME, \"pDayNorm\", \"totalArts\", \"national\", \"state\", \"rural_pct\"]].groupby(by=[SCOL_NAME, \"pDayNorm\"])\\\n",
    ".agg(list) #.reset_index() #.head(30)\n",
    "\n",
    "dateCounts[\"artCount\"] = dateCounts[\"totalArts\"].apply(len)\n",
    "dateCounts[\"totalArts\"] = dateCounts[\"totalArts\"].apply(getFirst)\n",
    "\n",
    "dateCounts[\"countNorm\"] = dateCounts[\"artCount\"] / dateCounts[\"totalArts\"]\n",
    "\n",
    "#id=dateCounts.index.get_level_values(1)\n",
    "#idx=pd.MultiIndex.from_product([dateCounts.index.levels[0],list(range(int(id.min()),int(id.max())))])\n",
    "#dateCounts = dateCounts.reindex(idx, fill_value=0).reset_index()\n",
    "\n",
    "dateCounts = dateCounts.rename(columns={\"level_1\":\"pDayNorm\"})"
   ]
  },
  {
   "cell_type": "code",
   "execution_count": 274,
   "metadata": {},
   "outputs": [],
   "source": [
    "#how long each story is \n",
    "stormLens = dateDf.reset_index()[[SCOL_NAME, \"date\"]].groupby([SCOL_NAME]).agg(lambda x: ((max(x) - min(x)) / np.timedelta64(1, \"D\")) + 1)"
   ]
  },
  {
   "cell_type": "code",
   "execution_count": 281,
   "metadata": {},
   "outputs": [],
   "source": [
    "#do this for all stories \n",
    "nonStormLens = merged[[SCOL_NAME, \"date\"]].groupby([SCOL_NAME]).agg(lambda x: ((max(x) - min(x)) / np.timedelta64(1, \"D\")) + 1)"
   ]
  },
  {
   "cell_type": "code",
   "execution_count": 495,
   "metadata": {},
   "outputs": [
    {
     "data": {
      "text/html": [
       "<svg  width=\"550\" height=\"55\"><rect x=\"0\" y=\"0\" width=\"55\" height=\"55\" style=\"fill:#1f77b4;stroke-width:2;stroke:rgb(255,255,255)\"/><rect x=\"55\" y=\"0\" width=\"55\" height=\"55\" style=\"fill:#ff7f0e;stroke-width:2;stroke:rgb(255,255,255)\"/><rect x=\"110\" y=\"0\" width=\"55\" height=\"55\" style=\"fill:#2ca02c;stroke-width:2;stroke:rgb(255,255,255)\"/><rect x=\"165\" y=\"0\" width=\"55\" height=\"55\" style=\"fill:#d62728;stroke-width:2;stroke:rgb(255,255,255)\"/><rect x=\"220\" y=\"0\" width=\"55\" height=\"55\" style=\"fill:#9467bd;stroke-width:2;stroke:rgb(255,255,255)\"/><rect x=\"275\" y=\"0\" width=\"55\" height=\"55\" style=\"fill:#8c564b;stroke-width:2;stroke:rgb(255,255,255)\"/><rect x=\"330\" y=\"0\" width=\"55\" height=\"55\" style=\"fill:#e377c2;stroke-width:2;stroke:rgb(255,255,255)\"/><rect x=\"385\" y=\"0\" width=\"55\" height=\"55\" style=\"fill:#7f7f7f;stroke-width:2;stroke:rgb(255,255,255)\"/><rect x=\"440\" y=\"0\" width=\"55\" height=\"55\" style=\"fill:#bcbd22;stroke-width:2;stroke:rgb(255,255,255)\"/><rect x=\"495\" y=\"0\" width=\"55\" height=\"55\" style=\"fill:#17becf;stroke-width:2;stroke:rgb(255,255,255)\"/></svg>"
      ],
      "text/plain": [
       "[(0.12156862745098039, 0.4666666666666667, 0.7058823529411765),\n",
       " (1.0, 0.4980392156862745, 0.054901960784313725),\n",
       " (0.17254901960784313, 0.6274509803921569, 0.17254901960784313),\n",
       " (0.8392156862745098, 0.15294117647058825, 0.1568627450980392),\n",
       " (0.5803921568627451, 0.403921568627451, 0.7411764705882353),\n",
       " (0.5490196078431373, 0.33725490196078434, 0.29411764705882354),\n",
       " (0.8901960784313725, 0.4666666666666667, 0.7607843137254902),\n",
       " (0.4980392156862745, 0.4980392156862745, 0.4980392156862745),\n",
       " (0.7372549019607844, 0.7411764705882353, 0.13333333333333333),\n",
       " (0.09019607843137255, 0.7450980392156863, 0.8117647058823529)]"
      ]
     },
     "execution_count": 495,
     "metadata": {},
     "output_type": "execute_result"
    }
   ],
   "source": [
    "tab10"
   ]
  },
  {
   "cell_type": "code",
   "execution_count": 502,
   "metadata": {},
   "outputs": [
    {
     "name": "stderr",
     "output_type": "stream",
     "text": [
      "<ipython-input-502-f28b3eb815da>:10: UserWarning: FixedFormatter should only be used together with FixedLocator\n",
      "  ax.set_xticklabels(ax.get_xticklabels(), size=12)\n",
      "<ipython-input-502-f28b3eb815da>:11: UserWarning: FixedFormatter should only be used together with FixedLocator\n",
      "  ax.set_yticklabels(ax.get_yticklabels(), size=12)\n"
     ]
    },
    {
     "data": {
      "image/png": "[encoded data removed]",
      "text/plain": [
       "<Figure size 360x216 with 1 Axes>"
      ]
     },
     "metadata": {
      "needs_background": "light"
     },
     "output_type": "display_data"
    }
   ],
   "source": [
    "fig, ax = plt.subplots(figsize = (5, 3))\n",
    "\n",
    "sns.ecdfplot(data=stormLens, x=\"date\", ax=ax, label=\"Media Storms\", color=colDict[\"turqoise\"], linestyle='-')\n",
    "sns.ecdfplot(data=nonStormLens, x=\"date\", ax=ax, label=\"Non Media Storms\", color=\"#00274C\", linestyle='-.' )\n",
    "\n",
    "ax.set_xlim(0, 50)\n",
    "ax.set_ylim(0, 1.05)\n",
    "ax.set_title(\"Proportion of Stories Terminated by Nth Day\", size=14)\n",
    "ax.set_xlabel(\"Day of Story\", size=14)\n",
    "ax.set_xticklabels(ax.get_xticklabels(), size=12)\n",
    "ax.set_yticklabels(ax.get_yticklabels(), size=12)\n",
    "ax.set_ylabel(\"\")\n",
    "ax.legend(loc=\"lower right\")\n",
    "\n",
    "sns.despine()\n",
    "plt.savefig(FIG_PATH + \"ecdf.pdf\", bbox_inches=\"tight\")"
   ]
  },
  {
   "cell_type": "code",
   "execution_count": 318,
   "metadata": {},
   "outputs": [
    {
     "ename": "NameError",
     "evalue": "name 'stormDf' is not defined",
     "output_type": "error",
     "traceback": [
      "\u001b[0;31m---------------------------------------------------------------------------\u001b[0m",
      "\u001b[0;31mNameError\u001b[0m                                 Traceback (most recent call last)",
      "\u001b[0;32m<ipython-input-318-cd5ee7ff0fad>\u001b[0m in \u001b[0;36m<module>\u001b[0;34m\u001b[0m\n\u001b[1;32m      1\u001b[0m \u001b[0;31m#how many storms are under 12 days\u001b[0m\u001b[0;34m\u001b[0m\u001b[0;34m\u001b[0m\u001b[0;34m\u001b[0m\u001b[0m\n\u001b[0;32m----> 2\u001b[0;31m \u001b[0mstormDf\u001b[0m\u001b[0;34m[\u001b[0m\u001b[0mstormDf\u001b[0m\u001b[0;34m[\u001b[0m\u001b[0;34m\"stormDay\"\u001b[0m\u001b[0;34m]\u001b[0m \u001b[0;34m<\u001b[0m \u001b[0;36m12\u001b[0m\u001b[0;34m]\u001b[0m\u001b[0;34m\u001b[0m\u001b[0;34m\u001b[0m\u001b[0m\n\u001b[0m",
      "\u001b[0;31mNameError\u001b[0m: name 'stormDf' is not defined"
     ]
    }
   ],
   "source": [
    "#how many storms are under 12 days \n",
    "stormDf[stormDf[\"stormDay\"] < 12]"
   ]
  },
  {
   "cell_type": "code",
   "execution_count": 278,
   "metadata": {},
   "outputs": [
    {
     "data": {
      "text/plain": [
       "<Axes: xlabel='date', ylabel='Count'>"
      ]
     },
     "execution_count": 278,
     "metadata": {},
     "output_type": "execute_result"
    },
    {
     "data": {
      "image/png": "[encoded data removed]",
      "text/plain": [
       "<Figure size 432x288 with 1 Axes>"
      ]
     },
     "metadata": {
      "needs_background": "light"
     },
     "output_type": "display_data"
    }
   ],
   "source": [
    "sns.histplot(data=stormLens, x=\"date\")"
   ]
  },
  {
   "cell_type": "code",
   "execution_count": null,
   "metadata": {},
   "outputs": [],
   "source": []
  }
 ],
 "metadata": {
  "kernelspec": {
   "display_name": "Python 3",
   "language": "python",
   "name": "python3"
  },
  "language_info": {
   "codemirror_mode": {
    "name": "ipython",
    "version": 3
   },
   "file_extension": ".py",
   "mimetype": "text/x-python",
   "name": "python",
   "nbconvert_exporter": "python",
   "pygments_lexer": "ipython3",
   "version": "3.8.5"
  }
 },
 "nbformat": 4,
 "nbformat_minor": 4
}
