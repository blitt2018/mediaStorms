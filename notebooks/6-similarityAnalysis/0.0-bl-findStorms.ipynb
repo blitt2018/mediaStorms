{
 "cells": [
  {
   "cell_type": "code",
   "execution_count": null,
   "metadata": {},
   "outputs": [],
   "source": [
    "\"\"\"\n",
    "Identifying storms from \"story-clusters\" of articles based on the following criterion: \n",
    "\n",
    "1. Story cluster is over a particular duration threshold \n",
    "2. Contains X or more outlets reporting in \"storm mode\"\n",
    "\n",
    "Reporting in \"storm mode\" means... \n",
    "1. The outlet has over X percent of its coverage during a X day window dedicated to the story cluster \n",
    "2. During that X day window, the outlet published over X articles \n",
    "\"\"\""
   ]
  },
  {
   "cell_type": "code",
   "execution_count": 2,
   "metadata": {},
   "outputs": [],
   "source": [
    "import pandas as pd\n",
    "from datetime import timedelta\n",
    "import seaborn as sns\n",
    "import matplotlib.pyplot as plt\n",
    "import numpy as np"
   ]
  },
  {
   "cell_type": "code",
   "execution_count": 3,
   "metadata": {},
   "outputs": [],
   "source": [
    "STORM_CLUSTS_OUT_PATH = \"/shared/3/projects/newsDiffusion/data/processed/stormDfs/20000_90_storms.tsv\""
   ]
  },
  {
   "cell_type": "code",
   "execution_count": 2,
   "metadata": {},
   "outputs": [],
   "source": [
    "#set cutoffs \n",
    "\n",
    "#minimum number of articles written during 3 day window \n",
    "ARTICLE_COUNT = 40 \n",
    "\n",
    "#reporting percent required to be in \"storm mode\"\n",
    "REPORTING_PERCENT = 3\n",
    "\n",
    "#the number of outlets in \"storm mode\" to consider the story a storm \n",
    "OUTLET_CUTOFF = 5"
   ]
  },
  {
   "cell_type": "code",
   "execution_count": 4,
   "metadata": {},
   "outputs": [
    {
     "name": "stderr",
     "output_type": "stream",
     "text": [
      "<ipython-input-4-b658fbf83435>:2: DtypeWarning: Columns (4,5,12,13,15,16,19) have mixed types. Specify dtype option on import or set low_memory=False.\n",
      "  df = pd.read_csv(IN_PATH, sep=\"\\t\")\n"
     ]
    },
    {
     "data": {
      "text/plain": [
       "4222409"
      ]
     },
     "execution_count": 4,
     "metadata": {},
     "output_type": "execute_result"
    }
   ],
   "source": [
    "IN_PATH = \"/shared/3/projects/newsDiffusion/data/processed/fullDataWith20000.tsv\"\n",
    "df = pd.read_csv(IN_PATH, sep=\"\\t\")\n",
    "\n",
    "df[\"date\"] = pd.to_datetime(df[\"date\"])\n",
    "df = df.dropna(subset=[\"date\"])\n",
    "\n",
    "\n",
    "#only keep data \n",
    "#first day of local coverage in our data, 4/1\n",
    "firstLocDate = min(df.loc[df[\"national\"] == False, \"date\"])\n",
    "\n",
    "df = df[df[\"date\"] > firstLocDate]\n",
    "len(df)\n"
   ]
  },
  {
   "cell_type": "code",
   "execution_count": 5,
   "metadata": {},
   "outputs": [
    {
     "name": "stdout",
     "output_type": "stream",
     "text": [
      "(1375105, 50) articles didn't make it into an entity grouping\n"
     ]
    }
   ],
   "source": [
    "CLUST_PIPE = \"20000_90\"\n",
    "\n",
    "print(f\"{df.dropna(subset=[CLUST_PIPE]).shape} articles didn't make it into an entity grouping\") "
   ]
  },
  {
   "cell_type": "code",
   "execution_count": 6,
   "metadata": {},
   "outputs": [],
   "source": [
    "#group clustered articles into rows \n",
    "longClusts = df[[CLUST_PIPE,\"date\"]].groupby(CLUST_PIPE).agg(list)"
   ]
  },
  {
   "cell_type": "code",
   "execution_count": 7,
   "metadata": {},
   "outputs": [],
   "source": [
    "def numDays(inList): \n",
    "    return (max(inList) - min(inList)) / timedelta(hours=24)\n",
    "\n",
    "#get cluster duration and size \n",
    "longClusts[\"clustLength\"] = longClusts[\"date\"].apply(numDays)\n",
    "longClusts[\"numStories\"] = longClusts[\"date\"].apply(len)"
   ]
  },
  {
   "cell_type": "code",
   "execution_count": 8,
   "metadata": {},
   "outputs": [],
   "source": [
    "#remove shorter stories \n",
    "longClusts = longClusts[(longClusts[\"clustLength\"] > 5)].reset_index()\n",
    "\n",
    "#take the long clusters and keep those rows in the long form article-per-row dataframe\n",
    "longClusts = df[df[CLUST_PIPE].isin(longClusts[CLUST_PIPE].unique())]"
   ]
  },
  {
   "cell_type": "code",
   "execution_count": 9,
   "metadata": {},
   "outputs": [
    {
     "name": "stdout",
     "output_type": "stream",
     "text": [
      "117935 articles in clusters over 5 days\n",
      "10475 clusters over 5 days\n"
     ]
    }
   ],
   "source": [
    "print(f\"{len(longClusts)} articles in clusters over 5 days\") \n",
    "print(f\"{len(longClusts[CLUST_PIPE].unique())} clusters over 5 days\")"
   ]
  },
  {
   "cell_type": "code",
   "execution_count": 10,
   "metadata": {},
   "outputs": [],
   "source": [
    "#now we start time-series part \n",
    "dateDf = longClusts[[\"source\", \"date\", CLUST_PIPE]].sort_values(\"date\")\n",
    "\n",
    "#used for counting later \n",
    "dateDf[\"count\"] = 1"
   ]
  },
  {
   "cell_type": "code",
   "execution_count": 13,
   "metadata": {},
   "outputs": [],
   "source": [
    "#used for counting later \n",
    "df[\"count\"] = 1\n",
    "\n",
    "#within each outlet, get the 3 day rolling window of coverage \n",
    "#count the number of articles in that 3 day window \n",
    "timeRolling = df[[\"source\", \"date\", \"count\"]].groupby(by=[\"source\", \"date\"]).agg(sum).reset_index()\n",
    "timeRolling = timeRolling.groupby(\"source\").rolling(\"3D\", on=\"date\").sum() #.rolling(\"3D\", on=\"date\").sum()\n",
    "timeRolling = timeRolling.reset_index().drop(columns=[\"level_1\"])"
   ]
  },
  {
   "cell_type": "code",
   "execution_count": 206,
   "metadata": {},
   "outputs": [
    {
     "name": "stdout",
     "output_type": "stream",
     "text": [
      "285585\n",
      "285585\n"
     ]
    }
   ],
   "source": [
    "#quick sanity check - shows that we don't have duplicate days \n",
    "print(len(timeRolling))\n",
    "print(len(df.drop_duplicates(subset=[\"source\", \"date\"])))"
   ]
  },
  {
   "cell_type": "code",
   "execution_count": 16,
   "metadata": {},
   "outputs": [],
   "source": [
    "#within each outlet and cluster, get the three day rolling window of coverage \n",
    "timeRollingClust = dateDf.groupby([\"source\", CLUST_PIPE, \"date\"]).sum()\\\n",
    ".reset_index().groupby([\"source\", CLUST_PIPE]).rolling(\"3D\", on=\"date\").sum()\n",
    "\n",
    "timeRollingClust = timeRollingClust.reset_index().drop(columns=[\"level_2\"])"
   ]
  },
  {
   "cell_type": "code",
   "execution_count": 17,
   "metadata": {},
   "outputs": [
    {
     "name": "stdout",
     "output_type": "stream",
     "text": [
      "109086\n",
      "109086\n"
     ]
    }
   ],
   "source": [
    "#same sanity check as above \n",
    "print(len(timeRollingClust))\n",
    "print(len(timeRollingClust.drop_duplicates(subset=[\"source\", CLUST_PIPE, \"date\"])))"
   ]
  },
  {
   "cell_type": "code",
   "execution_count": 18,
   "metadata": {},
   "outputs": [
    {
     "data": {
      "text/plain": [
       "Text(0.5, 1.0, '# number of articles in our 3 day rolling windows at outlet level')"
      ]
     },
     "execution_count": 18,
     "metadata": {},
     "output_type": "execute_result"
    },
    {
     "data": {
      "image/png": "[encoded data removed]",
      "text/plain": [
       "<Figure size 432x288 with 1 Axes>"
      ]
     },
     "metadata": {
      "needs_background": "light"
     },
     "output_type": "display_data"
    }
   ],
   "source": [
    "plt.hist(timeRolling[\"count\"], bins=np.arange(0, 200, 5))\n",
    "plt.title(\"# number of articles in our 3 day rolling windows at outlet level\")"
   ]
  },
  {
   "cell_type": "code",
   "execution_count": 154,
   "metadata": {},
   "outputs": [
    {
     "data": {
      "text/plain": [
       "Text(0.5, 1.0, '# number of articles in our 3 day rolling windows at outlet,cluster level')"
      ]
     },
     "execution_count": 154,
     "metadata": {},
     "output_type": "execute_result"
    },
    {
     "data": {
      "image/png": "[encoded data removed]",
      "text/plain": [
       "<Figure size 432x288 with 1 Axes>"
      ]
     },
     "metadata": {
      "needs_background": "light"
     },
     "output_type": "display_data"
    }
   ],
   "source": [
    "plt.hist(timeRollingClust[\"count\"], bins=np.arange(0, 25, 1))\n",
    "plt.title(\"# number of articles in our 3 day rolling windows at outlet,cluster level\")\n",
    "#interpretation: for most stories, outlets report a very small amount on that story in a 3 day window "
   ]
  },
  {
   "cell_type": "code",
   "execution_count": 19,
   "metadata": {},
   "outputs": [
    {
     "data": {
      "text/html": [
       "<div>\n",
       "<style scoped>\n",
       "    .dataframe tbody tr th:only-of-type {\n",
       "        vertical-align: middle;\n",
       "    }\n",
       "\n",
       "    .dataframe tbody tr th {\n",
       "        vertical-align: top;\n",
       "    }\n",
       "\n",
       "    .dataframe thead th {\n",
       "        text-align: right;\n",
       "    }\n",
       "</style>\n",
       "<table border=\"1\" class=\"dataframe\">\n",
       "  <thead>\n",
       "    <tr style=\"text-align: right;\">\n",
       "      <th></th>\n",
       "      <th>source</th>\n",
       "      <th>20000_90</th>\n",
       "      <th>date</th>\n",
       "      <th>count</th>\n",
       "    </tr>\n",
       "  </thead>\n",
       "  <tbody>\n",
       "    <tr>\n",
       "      <th>0</th>\n",
       "      <td>21stcenturywire</td>\n",
       "      <td>836.0</td>\n",
       "      <td>2021-02-23</td>\n",
       "      <td>1.0</td>\n",
       "    </tr>\n",
       "    <tr>\n",
       "      <th>1</th>\n",
       "      <td>21stcenturywire</td>\n",
       "      <td>959.0</td>\n",
       "      <td>2021-03-30</td>\n",
       "      <td>1.0</td>\n",
       "    </tr>\n",
       "    <tr>\n",
       "      <th>2</th>\n",
       "      <td>21stcenturywire</td>\n",
       "      <td>2457.0</td>\n",
       "      <td>2021-11-13</td>\n",
       "      <td>1.0</td>\n",
       "    </tr>\n",
       "    <tr>\n",
       "      <th>3</th>\n",
       "      <td>21stcenturywire</td>\n",
       "      <td>3075.0</td>\n",
       "      <td>2020-07-11</td>\n",
       "      <td>1.0</td>\n",
       "    </tr>\n",
       "    <tr>\n",
       "      <th>4</th>\n",
       "      <td>21stcenturywire</td>\n",
       "      <td>3216.0</td>\n",
       "      <td>2020-08-12</td>\n",
       "      <td>1.0</td>\n",
       "    </tr>\n",
       "  </tbody>\n",
       "</table>\n",
       "</div>"
      ],
      "text/plain": [
       "            source  20000_90       date  count\n",
       "0  21stcenturywire     836.0 2021-02-23    1.0\n",
       "1  21stcenturywire     959.0 2021-03-30    1.0\n",
       "2  21stcenturywire    2457.0 2021-11-13    1.0\n",
       "3  21stcenturywire    3075.0 2020-07-11    1.0\n",
       "4  21stcenturywire    3216.0 2020-08-12    1.0"
      ]
     },
     "execution_count": 19,
     "metadata": {},
     "output_type": "execute_result"
    }
   ],
   "source": [
    "timeRollingClust.head()"
   ]
  },
  {
   "cell_type": "code",
   "execution_count": 99,
   "metadata": {},
   "outputs": [],
   "source": [
    "#now we have the 3 day windows where we get total coverage and coverage for each cluster \n",
    "stormDf = pd.merge(timeRolling, timeRollingClust.rename(columns={\"count\":\"clustCount\"}), on=[\"source\", \"date\"])\n",
    "\n",
    "stormDf[\"reportingPercent\"] = (stormDf[\"clustCount\"] / stormDf[\"count\"]) * 100"
   ]
  },
  {
   "cell_type": "code",
   "execution_count": 100,
   "metadata": {},
   "outputs": [],
   "source": [
    "#sort storm df so we get the largest three day window for an outlet,cluster appearing first\\\n",
    "#then drop duplicates. Has the effect of keeping only the largest 3-day window for each outlet in each cluster \n",
    "stormDf = stormDf.sort_values([\"source\", CLUST_PIPE, \"reportingPercent\"], ascending=False)\n",
    "stormDf = stormDf.drop_duplicates([\"source\", CLUST_PIPE], keep=\"first\")"
   ]
  },
  {
   "cell_type": "code",
   "execution_count": 101,
   "metadata": {},
   "outputs": [
    {
     "data": {
      "text/plain": [
       "<Axes: xlabel='count', ylabel='Proportion'>"
      ]
     },
     "execution_count": 101,
     "metadata": {},
     "output_type": "execute_result"
    },
    {
     "data": {
      "image/png": "[encoded data removed]",
      "text/plain": [
       "<Figure size 432x288 with 1 Axes>"
      ]
     },
     "metadata": {
      "needs_background": "light"
     },
     "output_type": "display_data"
    }
   ],
   "source": [
    "#example interpretation: 80% of 3-day periods have 200 or less articles in them \n",
    "sns.ecdfplot(x=\"count\", data=stormDf)"
   ]
  },
  {
   "cell_type": "code",
   "execution_count": 102,
   "metadata": {},
   "outputs": [],
   "source": [
    "#keep only the 3 day windows where over 40 articles were reported \n",
    "#TODO: apply the cutoff before taking the max 3-day window \n",
    "stormDf = stormDf[stormDf[\"count\"] >= ARTICLE_COUNT]"
   ]
  },
  {
   "cell_type": "code",
   "execution_count": 103,
   "metadata": {},
   "outputs": [
    {
     "data": {
      "text/plain": [
       "<Axes: xlabel='reportingPercent', ylabel='Density'>"
      ]
     },
     "execution_count": 103,
     "metadata": {},
     "output_type": "execute_result"
    },
    {
     "data": {
      "image/png": "[encoded data removed]",
      "text/plain": [
       "<Figure size 432x288 with 1 Axes>"
      ]
     },
     "metadata": {
      "needs_background": "light"
     },
     "output_type": "display_data"
    }
   ],
   "source": [
    "sns.kdeplot(x=\"reportingPercent\", data=stormDf)"
   ]
  },
  {
   "cell_type": "code",
   "execution_count": 1,
   "metadata": {},
   "outputs": [
    {
     "ename": "NameError",
     "evalue": "name 'sns' is not defined",
     "output_type": "error",
     "traceback": [
      "\u001b[0;31m---------------------------------------------------------------------------\u001b[0m",
      "\u001b[0;31mNameError\u001b[0m                                 Traceback (most recent call last)",
      "\u001b[0;32m<ipython-input-1-1edc12fb4a3c>\u001b[0m in \u001b[0;36m<module>\u001b[0;34m\u001b[0m\n\u001b[1;32m      1\u001b[0m \u001b[0;31m#is there an inflection point here maybe???\u001b[0m\u001b[0;34m\u001b[0m\u001b[0;34m\u001b[0m\u001b[0;34m\u001b[0m\u001b[0m\n\u001b[0;32m----> 2\u001b[0;31m \u001b[0msns\u001b[0m\u001b[0;34m.\u001b[0m\u001b[0mecdfplot\u001b[0m\u001b[0;34m(\u001b[0m\u001b[0mx\u001b[0m\u001b[0;34m=\u001b[0m\u001b[0;34m\"reportingPercent\"\u001b[0m\u001b[0;34m,\u001b[0m \u001b[0mdata\u001b[0m\u001b[0;34m=\u001b[0m\u001b[0mstormDf\u001b[0m\u001b[0;34m)\u001b[0m\u001b[0;34m\u001b[0m\u001b[0;34m\u001b[0m\u001b[0m\n\u001b[0m\u001b[1;32m      3\u001b[0m \u001b[0mplt\u001b[0m\u001b[0;34m.\u001b[0m\u001b[0mtitle\u001b[0m\u001b[0;34m(\u001b[0m\u001b[0;34m\"Empirical CDF: Coverage Dedicated to Event-Clusters\"\u001b[0m\u001b[0;34m)\u001b[0m\u001b[0;34m\u001b[0m\u001b[0;34m\u001b[0m\u001b[0m\n\u001b[1;32m      4\u001b[0m \u001b[0mplt\u001b[0m\u001b[0;34m.\u001b[0m\u001b[0mxlabel\u001b[0m\u001b[0;34m(\u001b[0m\u001b[0;34m\"% Dedicated to Event Cluster\"\u001b[0m\u001b[0;34m)\u001b[0m\u001b[0;34m\u001b[0m\u001b[0;34m\u001b[0m\u001b[0m\n\u001b[1;32m      5\u001b[0m \u001b[0mplt\u001b[0m\u001b[0;34m.\u001b[0m\u001b[0mylabel\u001b[0m\u001b[0;34m(\u001b[0m\u001b[0;34m\"Proportion of 3-Day Windows\"\u001b[0m\u001b[0;34m)\u001b[0m\u001b[0;34m\u001b[0m\u001b[0;34m\u001b[0m\u001b[0m\n",
      "\u001b[0;31mNameError\u001b[0m: name 'sns' is not defined"
     ]
    }
   ],
   "source": [
    "#is there an inflection point here \n",
    "sns.ecdfplot(x=\"reportingPercent\", data=stormDf)\n",
    "plt.title(\"Empirical CDF: Coverage Dedicated to Event-Clusters\")\n",
    "plt.xlabel(\"% Dedicated to Event Cluster\")\n",
    "plt.ylabel(\"Proportion of 3-Day Windows\")"
   ]
  },
  {
   "cell_type": "code",
   "execution_count": 162,
   "metadata": {},
   "outputs": [],
   "source": [
    "#the telegraph reporting on black friday and cyber monday \n",
    "#test = df.loc[(df[CLUST_PIPE] == 5130.0) & (df[\"source\"] == \"drudgereport\"), [\"title\", \"content\", \"source\", \"date\"]]\n",
    "\n",
    "#sns.lineplot(x=\"date\",y=\"source\", data=test[[\"date\", \"source\"]].groupby(\"date\").agg(len).reset_index())\n",
    "\n",
    "#epoch times hurricane Ida \n",
    "#test = df.loc[(df[CLUST_PIPE] == 8716.0) & (df[\"source\"] == \"theepochtimes\"), [\"title\", \"content\", \"source\", \"date\"]]"
   ]
  },
  {
   "cell_type": "code",
   "execution_count": 105,
   "metadata": {},
   "outputs": [],
   "source": [
    "# decide if three day window of coverage is in storm mode \n",
    "stormDf[\"isStorm\"] = stormDf[\"reportingPercent\"] >= REPORTING_PERCENT\n",
    "\n",
    "#group at the story cluster level, so we now have each story cluster\n",
    "#and whether the outlets in that cluster reported in storm mode \n",
    "storyStormDf = stormDf[[CLUST_PIPE,\"isStorm\", \"source\"]].groupby(CLUST_PIPE).agg({\"isStorm\":[np.mean, sum,list], \"source\":list}) #.rename(columns={\"reportingPercent\":\"outletStormPercent\"})\n",
    "storyStormDf.columns = storyStormDf.columns.droplevel()\n",
    "storyStormDf = storyStormDf.reset_index()\n",
    "\n",
    "storyStormDf.columns = [\"20000_90\", \"average_reporting_percent\", \"num_outlets_over_cutoff\", \"isStorm\", \"source\"]"
   ]
  },
  {
   "cell_type": "code",
   "execution_count": 167,
   "metadata": {},
   "outputs": [],
   "source": [
    "def getStormOutlets(inRow): \n",
    "    outlist = []\n",
    "    for i, isStorm in enumerate(inRow[\"isStorm\"]): \n",
    "        if isStorm: \n",
    "            outlist.append(inRow[\"source\"][i])\n",
    "    return outlist \n",
    "\n",
    "storyStormDf[\"stormSource\"] = storyStormDf.apply(getStormOutlets, axis=1)"
   ]
  },
  {
   "cell_type": "code",
   "execution_count": 168,
   "metadata": {},
   "outputs": [],
   "source": [
    "storyStormDf = storyStormDf.drop(columns=[\"isStorm\", \"source\"])\n",
    "\n",
    "#when we have at least OUTLET_CUTOFF outlets on board, we have a storm \n",
    "stormClusts = list(storyStormDf.loc[storyStormDf[\"num_outlets_over_cutoff\"] >= OUTLET_CUTOFF, CLUST_PIPE])"
   ]
  },
  {
   "cell_type": "code",
   "execution_count": 170,
   "metadata": {},
   "outputs": [
    {
     "data": {
      "text/plain": [
       "98"
      ]
     },
     "execution_count": 170,
     "metadata": {},
     "output_type": "execute_result"
    }
   ],
   "source": [
    "#how many storms are there? \n",
    "len(stormClusts)"
   ]
  },
  {
   "cell_type": "code",
   "execution_count": 3,
   "metadata": {},
   "outputs": [
    {
     "data": {
      "text/plain": [
       "'\\nfor looking at the headlines of storm articles \\nstormArticles = df[df[CLUST_PIPE] ==  2965.0]\\n#[item[:300] for item in list(stormArticles.sort_values(\"date\").sample(30)[\"content\"])]\\n\\nfor i, row in stormArticles.sample(10).sort_values(\"date\").iterrows(): \\n    print(row[\"title\"])\\n    print(row[\"date\"])\\n    \\n'"
      ]
     },
     "execution_count": 3,
     "metadata": {},
     "output_type": "execute_result"
    }
   ],
   "source": [
    "\"\"\"\n",
    "for looking at the headlines of storm articles \n",
    "stormArticles = df[df[CLUST_PIPE] ==  2965.0]\n",
    "#[item[:300] for item in list(stormArticles.sort_values(\"date\").sample(30)[\"content\"])]\n",
    "\n",
    "for i, row in stormArticles.sample(10).sort_values(\"date\").iterrows(): \n",
    "    print(row[\"title\"])\n",
    "    print(row[\"date\"])\n",
    "    \n",
    "\"\"\""
   ]
  },
  {
   "cell_type": "code",
   "execution_count": 174,
   "metadata": {},
   "outputs": [],
   "source": [
    "storyStormDf[CLUST_PIPE + \"_storm\"] = True\n",
    "storyStormDf = storyStormDf.rename(columns={\"stormSource\":CLUST_PIPE + \"_storm_source\", \"average_reporting_percent\":CLUST_PIPE + \"_average_pct\", \"num_outlets_over_cutoff\":CLUST_PIPE + \"_num_over_cutoff\"})\n",
    "outDf = pd.merge(df[[\"key\", CLUST_PIPE]], storyStormDf[storyStormDf[CLUST_PIPE + \"_num_over_cutoff\"] >= 5], on=CLUST_PIPE, how=\"right\")"
   ]
  },
  {
   "cell_type": "code",
   "execution_count": 179,
   "metadata": {},
   "outputs": [
    {
     "data": {
      "text/plain": [
       "20000_90\n",
       "8088.0      1378\n",
       "533.0       1026\n",
       "608.0        737\n",
       "6876.0       622\n",
       "4708.0       525\n",
       "            ... \n",
       "19801.0       57\n",
       "234960.0      57\n",
       "111378.0      54\n",
       "130664.0      52\n",
       "94487.0       51\n",
       "Name: count, Length: 98, dtype: int64"
      ]
     },
     "execution_count": 179,
     "metadata": {},
     "output_type": "execute_result"
    }
   ],
   "source": [
    "#print storm cluster sizes \n",
    "outDf[CLUST_PIPE].value_counts()"
   ]
  },
  {
   "cell_type": "code",
   "execution_count": 182,
   "metadata": {},
   "outputs": [],
   "source": [
    "#output storm labels \n",
    "#outDf contains all articles that are a part of storms \n",
    "outDf.to_csv(STORM_CLUSTS_OUT_PATH, sep=\"\\t\")"
   ]
  }
 ],
 "metadata": {
  "kernelspec": {
   "display_name": "Python 3",
   "language": "python",
   "name": "python3"
  },
  "language_info": {
   "codemirror_mode": {
    "name": "ipython",
    "version": 3
   },
   "file_extension": ".py",
   "mimetype": "text/x-python",
   "name": "python",
   "nbconvert_exporter": "python",
   "pygments_lexer": "ipython3",
   "version": "3.8.5"
  }
 },
 "nbformat": 4,
 "nbformat_minor": 4
}
