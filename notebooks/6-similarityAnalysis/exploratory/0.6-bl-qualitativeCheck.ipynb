{
 "cells": [
  {
   "cell_type": "code",
   "execution_count": 209,
   "metadata": {},
   "outputs": [],
   "source": [
    "import pandas as pd\n",
    "import matplotlib.pyplot as plt"
   ]
  },
  {
   "cell_type": "code",
   "execution_count": 210,
   "metadata": {},
   "outputs": [],
   "source": [
    "IN_PATH = \"/shared/3/projects/newsDiffusion/data/processed/fullDataWithClustNums.tsv\""
   ]
  },
  {
   "cell_type": "code",
   "execution_count": 211,
   "metadata": {},
   "outputs": [
    {
     "name": "stderr",
     "output_type": "stream",
     "text": [
      "/opt/anaconda/lib/python3.8/site-packages/IPython/core/interactiveshell.py:3418: DtypeWarning: Columns (2,3,10,11,12,13,14,17,18,19,20,21,22,23,24,25,26,27,28,29,30,31,32,33,34,39,40,41) have mixed types.Specify dtype option on import or set low_memory=False.\n",
      "  exec(code_obj, self.user_global_ns, self.user_ns)\n"
     ]
    }
   ],
   "source": [
    "#MVP path merged = pd.read_csv(\"/shared/3/projects/benlitterer/localNews/data/interim/SingleNE_85_clustered.tsv\", sep=\"\\t\")\n",
    "merged = pd.read_csv(IN_PATH, sep=\"\\t\")"
   ]
  },
  {
   "cell_type": "code",
   "execution_count": 212,
   "metadata": {},
   "outputs": [],
   "source": [
    "merged = merged.dropna(subset=[\"clustNum\"])"
   ]
  },
  {
   "cell_type": "code",
   "execution_count": 213,
   "metadata": {},
   "outputs": [],
   "source": [
    "#first make sure we have the date of an outlet correctly specified \n",
    "merged[\"date\"] = pd.to_datetime(merged[\"date\"])\n",
    "\n",
    "#group data together \n",
    "grouped = merged[[\"key\", \"source\", \"title\", \"content\", \"clustNum\", \"date\", \"national\", \"url\"]].groupby(by=\"clustNum\").agg(list)\n",
    "grouped[\"clustLen\"] = grouped[\"key\"].apply(len)"
   ]
  },
  {
   "cell_type": "markdown",
   "metadata": {},
   "source": [
    "## Important:\n",
    "we have 3 overlapping nat/loc outlets "
   ]
  },
  {
   "cell_type": "code",
   "execution_count": 176,
   "metadata": {},
   "outputs": [
    {
     "data": {
      "text/plain": [
       "{'chicagosuntimes', 'thedenverpost', 'theseattletimes'}"
      ]
     },
     "execution_count": 176,
     "metadata": {},
     "output_type": "execute_result"
    }
   ],
   "source": [
    "#need to address the fact that we have these three overlapping outlets \n",
    "natLoc = merged[[\"source\", \"national\"]].groupby(by=\"national\").agg(set)\n",
    "loc = natLoc.iloc[0,0]\n",
    "nat = natLoc.iloc[1, 0]\n",
    "nat.intersection(loc)"
   ]
  },
  {
   "cell_type": "code",
   "execution_count": 12,
   "metadata": {},
   "outputs": [],
   "source": [
    "grouped[\"natProp\"] = grouped[\"national\"].apply(lambda x: sum(x) / len(x))"
   ]
  },
  {
   "cell_type": "markdown",
   "metadata": {},
   "source": [
    "Sample clusters from different nat-local mixtures and sizes "
   ]
  },
  {
   "cell_type": "code",
   "execution_count": 62,
   "metadata": {},
   "outputs": [],
   "source": [
    "sizeList = [0, 5, 50, 200, 1000, 1000000]\n",
    "mixedList = [0, .1, .5, .9, 1]"
   ]
  },
  {
   "cell_type": "markdown",
   "metadata": {},
   "source": [
    "NOTE: we only have clusters w/ no national news here.. i.e. no very low national news but still has a story or two "
   ]
  },
  {
   "cell_type": "code",
   "execution_count": 63,
   "metadata": {},
   "outputs": [
    {
     "name": "stdout",
     "output_type": "stream",
     "text": [
      "['Jewish High Holy Days celebrations planned in Davis', 'Yolo County’s Jewish community to celebrate beginning of the Hebrew year 578']\n",
      "['thedavisenterprise', 'dailydemocrat']\n",
      "['Jews in Davis and the Yolo County area will join millions of others throughout the world to celebrat', 'Jewish people in Davis and the Yolo County area will join millions of others throughout the world to']\n",
      "----------------------------------------\n",
      "['Census takers start work in Springfield area on Tuesday', 'City urges residents to fill out census']\n",
      "['thestatejournalregister', 'thestatejournalregister']\n",
      "['Starting Tuesday, people wearing masks, having U.S. Census identification and perhaps some Census sw', 'Though a federal judge’s ruling last week will allow the 2020 U.S. Census count to continue through ']\n",
      "----------------------------------------\n",
      "['Abbott blames 20-somethings for latest increases in coronavirus cases', 'Abbott blames 20-somethings for latest increases in coronavirus cases']\n",
      "['valleymorningstar', 'themonitor']\n",
      "['Texans under the age of 30 are testing positively for the new coronavirus at a higher rate, leading ', 'Texans under the age of 30 are testing positively for the new coronavirus at a higher rate, leading ']\n",
      "----------------------------------------\n",
      "['Ducks sign defenseman Jacob Larsson to 2-year contract extension', 'Ducks sign defenseman Jacob Larsson to 2-year contract extension', 'Ducks sign defenseman Jacob Larsson to 2-year contract extension']\n",
      "['dailybreeze', 'dailynews', 'inlandvalleydailybulletin']\n",
      "['The Ducks signed defenseman Jacob Larsson to a two-year, $2.4-million contract extension Thursday, a', 'The Ducks signed defenseman Jacob Larsson to a two-year, $2.4-million contract extension Thursday, a', 'The Ducks signed defenseman Jacob Larsson to a two-year, $2.4-million contract extension Thursday, a']\n",
      "----------------------------------------\n",
      "['California has a new web ‘portal’ to help essential workers find child care', 'California has a new web ‘portal’ to help essential workers find child care']\n",
      "['theenterpriserecord', 'fortbraggadvocatenews']\n",
      "['Families across California can now search for open child care programs on a new state website — thou', 'Families across California can now search for open child care programs on a new state website — thou']\n",
      "----------------------------------------\n",
      "['State police trooper hurt after car hits tree, catches fire in Armstrong County pursuit', 'State police trooper hurt after car hits tree, catches fire in Armstrong County pursuit']\n",
      "['murrysvillestar', 'pittsburghtribunereview']\n",
      "['A state trooper was hurt and a Michigan man arrested Monday after a police chase in Armstrong County', 'A state trooper was hurt and a Michigan man arrested Monday after a police chase in Armstrong County']\n",
      "----------------------------------------\n",
      "['Massachusetts manufacturers produce lifesaving gear in the fight against coronavirus', '2 Fall River manufacturers awarded state grants to assist in COVID-19 response', 'Dighton manufacturer awarded $87K state grant to assist in COVID-19 response']\n",
      "['bostonherald', 'theheraldnews', 'tauntondailygazette']\n",
      "['Manufacturing companies across Massachusetts are pivoting production lines to answer the call for li', 'Two Fall River companies are among 13 Massachusetts organizations to split over $6.5 million in gran', 'A Dighton manufacturer was among 13 Massachusetts organizations to split over $6.5 million in grants']\n",
      "----------------------------------------\n",
      "['WPIAL grads come to grips with PSAC’s decision to suspend sports for fall semester', 'WPIAL grads come to grips with PSAC’s decision to suspend sports for fall semester']\n",
      "['murrysvillestar', 'pittsburghtribunereview']\n",
      "['WPIAL grads come to grips with PSAC’s decision to suspend sports for fall semester\\n\\nMichael Marisco ', 'WPIAL grads come to grips with PSAC’s decision to suspend sports for fall semester\\n\\nMichael Marisco ']\n",
      "----------------------------------------\n"
     ]
    }
   ],
   "source": [
    "SAMPLE_SEED = 124\n",
    "currSize = 0\n",
    "currMix = 0 \n",
    "\n",
    "sizedDf = grouped[(grouped[\"clustLen\"] >= sizeList[currSize]) & (grouped[\"clustLen\"] < sizeList[currSize+1])]\n",
    "mixedDf = sizedDf[(sizedDf[\"natProp\"] >= mixedList[currMix]) & (sizedDf[\"natProp\"] < mixedList[currMix+1])]\n",
    "\n",
    "sample = mixedDf.sample(8, random_state=SAMPLE_SEED)\n",
    "for index, currSamp in sample.iterrows(): \n",
    "    print(currSamp[\"title\"])\n",
    "    print(currSamp[\"source\"])\n",
    "    print([item[:100] for item in currSamp[\"content\"]])\n",
    "    print(\"----------------------------------------\")\n",
    "    "
   ]
  },
  {
   "cell_type": "code",
   "execution_count": 81,
   "metadata": {},
   "outputs": [],
   "source": [
    "import random\n",
    "random.sample([1, 2, 3, 4, 5, 6, 7], 3)\n",
    "random.seed(300)"
   ]
  },
  {
   "cell_type": "code",
   "execution_count": 93,
   "metadata": {},
   "outputs": [
    {
     "data": {
      "text/plain": [
       "'\\nsample = mixedDf.sample(8, random_state=SAMPLE_SEED)\\nfor index, currSamp in sample.iterrows(): \\n    print(index)\\n    #print(len(currSamp[\"title\"]))\\n    print(currSamp[\"title\"])\\n    print(currSamp[\"source\"])\\n    print([item[:100] for item in currSamp[\"content\"]])\\n    print(\"----------------------------------------\")\\n'"
      ]
     },
     "execution_count": 93,
     "metadata": {},
     "output_type": "execute_result"
    }
   ],
   "source": [
    "SAMPLE_SEED = 124\n",
    "currSize = 1\n",
    "currMix = 0 \n",
    "\n",
    "sizedDf = grouped[(grouped[\"clustLen\"] >= sizeList[currSize]) & (grouped[\"clustLen\"] < sizeList[currSize+1])]\n",
    "mixedDf = sizedDf[(sizedDf[\"natProp\"] >= mixedList[currMix]) & (sizedDf[\"natProp\"] < mixedList[currMix+1])]\n",
    "\n",
    "\"\"\"\n",
    "sample = mixedDf.sample(8, random_state=SAMPLE_SEED)\n",
    "for index, currSamp in sample.iterrows(): \n",
    "    print(index)\n",
    "    #print(len(currSamp[\"title\"]))\n",
    "    print(currSamp[\"title\"])\n",
    "    print(currSamp[\"source\"])\n",
    "    print([item[:100] for item in currSamp[\"content\"]])\n",
    "    print(\"----------------------------------------\")\n",
    "\"\"\"    "
   ]
  },
  {
   "cell_type": "code",
   "execution_count": 92,
   "metadata": {},
   "outputs": [
    {
     "data": {
      "text/plain": [
       "'\\nsample = mixedDf.sample(8, random_state=SAMPLE_SEED)\\nfor index, currSamp in sample.iterrows(): \\n    print(index)\\n    #inClusterSamp = random.sample(list(range(0, len(currSamp)-1)))\\n    print(currSamp[\"title\"])\\n    print(currSamp[\"url\"])\\n    print(currSamp[\"source\"])\\n    print([item[:100] for item in currSamp[\"content\"]])\\n    print(\"----------------------------------------\")\\n'"
      ]
     },
     "execution_count": 92,
     "metadata": {},
     "output_type": "execute_result"
    }
   ],
   "source": [
    "SAMPLE_SEED = 124\n",
    "currSize = 2\n",
    "currMix = 0 \n",
    "\n",
    "sizedDf = grouped[(grouped[\"clustLen\"] >= sizeList[currSize]) & (grouped[\"clustLen\"] < sizeList[currSize+1])]\n",
    "mixedDf = sizedDf[(sizedDf[\"natProp\"] >= mixedList[currMix]) & (sizedDf[\"natProp\"] < mixedList[currMix+1])]\n",
    "\n",
    "\"\"\"\n",
    "sample = mixedDf.sample(8, random_state=SAMPLE_SEED)\n",
    "for index, currSamp in sample.iterrows(): \n",
    "    print(index)\n",
    "    #inClusterSamp = random.sample(list(range(0, len(currSamp)-1)))\n",
    "    print(currSamp[\"title\"])\n",
    "    print(currSamp[\"url\"])\n",
    "    print(currSamp[\"source\"])\n",
    "    print([item[:100] for item in currSamp[\"content\"]])\n",
    "    print(\"----------------------------------------\")\n",
    "\"\"\""
   ]
  },
  {
   "cell_type": "code",
   "execution_count": 124,
   "metadata": {},
   "outputs": [
    {
     "data": {
      "text/plain": [
       "'\\nsample = mixedDf.sample(8, random_state=SAMPLE_SEED)\\nfor index, currSamp in sample.iterrows(): \\n    currSamp = pd.DataFrame(currSamp).T.explode([\"key\", \"source\", \"title\", \"content\", \"date\", \"national\", \"url\"])\\n    subSamp = currSamp.sample(10)\\n    \\n    print(subSamp[\"title\"])\\n    print(subSamp[\"url\"])\\n    print(subSamp[\"source\"])\\n    print([item[:200] for item in subSamp[\"content\"]])\\n    print(\"----------------------------------------\")\\n'"
      ]
     },
     "execution_count": 124,
     "metadata": {},
     "output_type": "execute_result"
    }
   ],
   "source": [
    "SAMPLE_SEED = 124\n",
    "currSize = 3\n",
    "currMix = 0 \n",
    "\n",
    "sizedDf = grouped[(grouped[\"clustLen\"] >= sizeList[currSize]) & (grouped[\"clustLen\"] < sizeList[currSize+1])]\n",
    "mixedDf = sizedDf[(sizedDf[\"natProp\"] >= mixedList[currMix]) & (sizedDf[\"natProp\"] < mixedList[currMix+1])]\n",
    "\n",
    "\"\"\"\n",
    "sample = mixedDf.sample(8, random_state=SAMPLE_SEED)\n",
    "for index, currSamp in sample.iterrows(): \n",
    "    currSamp = pd.DataFrame(currSamp).T.explode([\"key\", \"source\", \"title\", \"content\", \"date\", \"national\", \"url\"])\n",
    "    subSamp = currSamp.sample(10)\n",
    "    \n",
    "    print(subSamp[\"title\"])\n",
    "    print(subSamp[\"url\"])\n",
    "    print(subSamp[\"source\"])\n",
    "    print([item[:200] for item in subSamp[\"content\"]])\n",
    "    print(\"----------------------------------------\")\n",
    "\"\"\""
   ]
  },
  {
   "cell_type": "code",
   "execution_count": 136,
   "metadata": {},
   "outputs": [
    {
     "data": {
      "text/plain": [
       "'\\nsample = mixedDf.sample(8, random_state=SAMPLE_SEED)\\nfor index, currSamp in sample.iterrows(): \\n    #currSamp = pd.DataFrame(currSamp).T.explode([\"key\", \"source\", \"title\", \"content\", \"date\", \"national\", \"url\"])\\n    subSamp = currSamp\\n    print(index)\\n    print(subSamp[\"date\"])\\n    print(subSamp[\"national\"])\\n    print(subSamp[\"title\"])\\n    print(subSamp[\"url\"])\\n    print(subSamp[\"source\"])\\n    print([item[:200] for item in subSamp[\"content\"]])\\n    print(\"----------------------------------------\")\\n'"
      ]
     },
     "execution_count": 136,
     "metadata": {},
     "output_type": "execute_result"
    }
   ],
   "source": [
    "SAMPLE_SEED = 124\n",
    "currSize = 0\n",
    "currMix = 1 \n",
    "\n",
    "sizedDf = grouped[(grouped[\"clustLen\"] >= sizeList[currSize]) & (grouped[\"clustLen\"] < sizeList[currSize+1])]\n",
    "mixedDf = sizedDf[(sizedDf[\"natProp\"] >= mixedList[currMix]) & (sizedDf[\"natProp\"] < mixedList[currMix+1])]\n",
    "\n",
    "\"\"\"\n",
    "sample = mixedDf.sample(8, random_state=SAMPLE_SEED)\n",
    "for index, currSamp in sample.iterrows(): \n",
    "    #currSamp = pd.DataFrame(currSamp).T.explode([\"key\", \"source\", \"title\", \"content\", \"date\", \"national\", \"url\"])\n",
    "    subSamp = currSamp\n",
    "    print(index)\n",
    "    print(subSamp[\"date\"])\n",
    "    print(subSamp[\"national\"])\n",
    "    print(subSamp[\"title\"])\n",
    "    print(subSamp[\"url\"])\n",
    "    print(subSamp[\"source\"])\n",
    "    print([item[:200] for item in subSamp[\"content\"]])\n",
    "    print(\"----------------------------------------\")\n",
    "\"\"\""
   ]
  },
  {
   "cell_type": "code",
   "execution_count": 153,
   "metadata": {},
   "outputs": [
    {
     "data": {
      "text/plain": [
       "'\\nSAMPLE_SEED = 124\\ncurrSize = 1\\ncurrMix = 1 \\n\\nsizedDf = grouped[(grouped[\"clustLen\"] >= sizeList[currSize]) & (grouped[\"clustLen\"] < sizeList[currSize+1])]\\nmixedDf = sizedDf[(sizedDf[\"natProp\"] >= mixedList[currMix]) & (sizedDf[\"natProp\"] < mixedList[currMix+1])]\\n\\n\\nsample = mixedDf.sample(8, random_state=SAMPLE_SEED)\\nfor index, currSamp in sample.iterrows(): \\n    #currSamp = pd.DataFrame(currSamp).T.explode([\"key\", \"source\", \"title\", \"content\", \"date\", \"national\", \"url\"])\\n    subSamp = currSamp\\n    print(index)\\n    print(subSamp[\"date\"])\\n    print(subSamp[\"national\"])\\n    print(subSamp[\"title\"])\\n    print(subSamp[\"url\"])\\n    print(subSamp[\"source\"])\\n    print([item[:200] for item in subSamp[\"content\"]])\\n    print(\"----------------------------------------\")\\n'"
      ]
     },
     "execution_count": 153,
     "metadata": {},
     "output_type": "execute_result"
    }
   ],
   "source": [
    "\"\"\"\n",
    "SAMPLE_SEED = 124\n",
    "currSize = 1\n",
    "currMix = 1 \n",
    "\n",
    "sizedDf = grouped[(grouped[\"clustLen\"] >= sizeList[currSize]) & (grouped[\"clustLen\"] < sizeList[currSize+1])]\n",
    "mixedDf = sizedDf[(sizedDf[\"natProp\"] >= mixedList[currMix]) & (sizedDf[\"natProp\"] < mixedList[currMix+1])]\n",
    "\n",
    "\n",
    "sample = mixedDf.sample(8, random_state=SAMPLE_SEED)\n",
    "for index, currSamp in sample.iterrows(): \n",
    "    #currSamp = pd.DataFrame(currSamp).T.explode([\"key\", \"source\", \"title\", \"content\", \"date\", \"national\", \"url\"])\n",
    "    subSamp = currSamp\n",
    "    print(index)\n",
    "    print(subSamp[\"date\"])\n",
    "    print(subSamp[\"national\"])\n",
    "    print(subSamp[\"title\"])\n",
    "    print(subSamp[\"url\"])\n",
    "    print(subSamp[\"source\"])\n",
    "    print([item[:200] for item in subSamp[\"content\"]])\n",
    "    print(\"----------------------------------------\")\n",
    "\"\"\""
   ]
  },
  {
   "cell_type": "code",
   "execution_count": 183,
   "metadata": {},
   "outputs": [
    {
     "data": {
      "text/plain": [
       "'\\nSAMPLE_SEED = 124\\ncurrSize = 2\\ncurrMix = 1 \\n\\nsizedDf = grouped[(grouped[\"clustLen\"] >= sizeList[currSize]) & (grouped[\"clustLen\"] < sizeList[currSize+1])]\\nmixedDf = sizedDf[(sizedDf[\"natProp\"] >= mixedList[currMix]) & (sizedDf[\"natProp\"] < mixedList[currMix+1])]\\n\\n\\nsample = mixedDf.sample(8, random_state=SAMPLE_SEED)\\nfor index, currSamp in sample.iterrows(): \\n    currSamp = pd.DataFrame(currSamp).T.explode([\"key\", \"source\", \"title\", \"content\", \"date\", \"national\", \"url\"])\\n    subSamp = currSamp.sample(10)\\n    print(len(currSamp))\\n    print(list(subSamp[\"natProp\"])[0])\\n    print(index)\\n    print(subSamp[\"date\"])\\n    print(subSamp[\"national\"])\\n    print(list(subSamp[\"title\"]))\\n    print(subSamp[\"url\"])\\n    print(subSamp[\"source\"])\\n    print([item[:200] for item in subSamp[\"content\"]])\\n    print(\"----------------------------------------\")\\n'"
      ]
     },
     "execution_count": 183,
     "metadata": {},
     "output_type": "execute_result"
    }
   ],
   "source": [
    "\"\"\"\n",
    "SAMPLE_SEED = 124\n",
    "currSize = 2\n",
    "currMix = 1 \n",
    "\n",
    "sizedDf = grouped[(grouped[\"clustLen\"] >= sizeList[currSize]) & (grouped[\"clustLen\"] < sizeList[currSize+1])]\n",
    "mixedDf = sizedDf[(sizedDf[\"natProp\"] >= mixedList[currMix]) & (sizedDf[\"natProp\"] < mixedList[currMix+1])]\n",
    "\n",
    "\n",
    "sample = mixedDf.sample(8, random_state=SAMPLE_SEED)\n",
    "for index, currSamp in sample.iterrows(): \n",
    "    currSamp = pd.DataFrame(currSamp).T.explode([\"key\", \"source\", \"title\", \"content\", \"date\", \"national\", \"url\"])\n",
    "    subSamp = currSamp.sample(10)\n",
    "    print(len(currSamp))\n",
    "    print(list(subSamp[\"natProp\"])[0])\n",
    "    print(index)\n",
    "    print(subSamp[\"date\"])\n",
    "    print(subSamp[\"national\"])\n",
    "    print(list(subSamp[\"title\"]))\n",
    "    print(subSamp[\"url\"])\n",
    "    print(subSamp[\"source\"])\n",
    "    print([item[:200] for item in subSamp[\"content\"]])\n",
    "    print(\"----------------------------------------\")\n",
    "\"\"\""
   ]
  },
  {
   "cell_type": "code",
   "execution_count": 185,
   "metadata": {},
   "outputs": [
    {
     "data": {
      "text/plain": [
       "'\\nsample = mixedDf.sample(8, random_state=SAMPLE_SEED)\\nfor index, currSamp in sample.iterrows(): \\n    currSamp = pd.DataFrame(currSamp).T.explode([\"key\", \"source\", \"title\", \"content\", \"date\", \"national\", \"url\"])\\n    subSamp = currSamp.sample(10)\\n    print(len(currSamp))\\n    print(list(subSamp[\"natProp\"])[0])\\n    print(index)\\n    print(subSamp[\"date\"])\\n    print(subSamp[\"national\"])\\n    print(list(subSamp[\"title\"]))\\n    print(subSamp[\"url\"])\\n    print(subSamp[\"source\"])\\n    print([item[:200] for item in subSamp[\"content\"]])\\n    print(\"----------------------------------------\")\\n'"
      ]
     },
     "execution_count": 185,
     "metadata": {},
     "output_type": "execute_result"
    }
   ],
   "source": [
    "SAMPLE_SEED = 124\n",
    "currSize = 3\n",
    "currMix = 1 \n",
    "\n",
    "sizedDf = grouped[(grouped[\"clustLen\"] >= sizeList[currSize]) & (grouped[\"clustLen\"] < sizeList[currSize+1])]\n",
    "mixedDf = sizedDf[(sizedDf[\"natProp\"] >= mixedList[currMix]) & (sizedDf[\"natProp\"] < mixedList[currMix+1])]\n",
    "\n",
    "\"\"\"\n",
    "sample = mixedDf.sample(8, random_state=SAMPLE_SEED)\n",
    "for index, currSamp in sample.iterrows(): \n",
    "    currSamp = pd.DataFrame(currSamp).T.explode([\"key\", \"source\", \"title\", \"content\", \"date\", \"national\", \"url\"])\n",
    "    subSamp = currSamp.sample(10)\n",
    "    print(len(currSamp))\n",
    "    print(list(subSamp[\"natProp\"])[0])\n",
    "    print(index)\n",
    "    print(subSamp[\"date\"])\n",
    "    print(subSamp[\"national\"])\n",
    "    print(list(subSamp[\"title\"]))\n",
    "    print(subSamp[\"url\"])\n",
    "    print(subSamp[\"source\"])\n",
    "    print([item[:200] for item in subSamp[\"content\"]])\n",
    "    print(\"----------------------------------------\")\n",
    "\"\"\""
   ]
  },
  {
   "cell_type": "code",
   "execution_count": 190,
   "metadata": {},
   "outputs": [
    {
     "data": {
      "text/plain": [
       "'\\nsample = mixedDf.sample(5, random_state=SAMPLE_SEED)\\nfor index, currSamp in sample.iterrows(): \\n    currSamp = pd.DataFrame(currSamp).T.explode([\"key\", \"source\", \"title\", \"content\", \"date\", \"national\", \"url\"])\\n    subSamp = currSamp.sample(10)\\n    print(len(currSamp))\\n    print(list(subSamp[\"natProp\"])[0])\\n    print(index)\\n    print(subSamp[\"date\"])\\n    print(subSamp[\"national\"])\\n    print(list(subSamp[\"title\"]))\\n    print(subSamp[\"url\"])\\n    print(subSamp[\"source\"])\\n    print([item[:200] for item in subSamp[\"content\"]])\\n    print(\"----------------------------------------\")\\n'"
      ]
     },
     "execution_count": 190,
     "metadata": {},
     "output_type": "execute_result"
    }
   ],
   "source": [
    "SAMPLE_SEED = 124\n",
    "currSize = 4\n",
    "currMix = 1 \n",
    "\n",
    "sizedDf = grouped[(grouped[\"clustLen\"] >= sizeList[currSize]) & (grouped[\"clustLen\"] < sizeList[currSize+1])]\n",
    "mixedDf = sizedDf[(sizedDf[\"natProp\"] >= mixedList[currMix]) & (sizedDf[\"natProp\"] < mixedList[currMix+1])]\n",
    "\n",
    "\"\"\"\n",
    "sample = mixedDf.sample(5, random_state=SAMPLE_SEED)\n",
    "for index, currSamp in sample.iterrows(): \n",
    "    currSamp = pd.DataFrame(currSamp).T.explode([\"key\", \"source\", \"title\", \"content\", \"date\", \"national\", \"url\"])\n",
    "    subSamp = currSamp.sample(10)\n",
    "    print(len(currSamp))\n",
    "    print(list(subSamp[\"natProp\"])[0])\n",
    "    print(index)\n",
    "    print(subSamp[\"date\"])\n",
    "    print(subSamp[\"national\"])\n",
    "    print(list(subSamp[\"title\"]))\n",
    "    print(subSamp[\"url\"])\n",
    "    print(subSamp[\"source\"])\n",
    "    print([item[:200] for item in subSamp[\"content\"]])\n",
    "    print(\"----------------------------------------\")\n",
    "\"\"\""
   ]
  },
  {
   "cell_type": "code",
   "execution_count": 195,
   "metadata": {},
   "outputs": [
    {
     "data": {
      "text/plain": [
       "'\\nSAMPLE_SEED = 124\\ncurrSize = 0\\ncurrMix = 2 \\n\\nsizedDf = grouped[(grouped[\"clustLen\"] >= sizeList[currSize]) & (grouped[\"clustLen\"] < sizeList[currSize+1])]\\nmixedDf = sizedDf[(sizedDf[\"natProp\"] >= mixedList[currMix]) & (sizedDf[\"natProp\"] < mixedList[currMix+1])]\\n\\nsample = mixedDf.sample(8, random_state=SAMPLE_SEED)\\nfor index, currSamp in sample.iterrows(): \\n    #currSamp = pd.DataFrame(currSamp).T.explode([\"key\", \"source\", \"title\", \"content\", \"date\", \"national\", \"url\"])\\n    subSamp = currSamp #.sample(10)\\n    print(len(currSamp))\\n    #print(list(subSamp[\"natProp\"])[0])\\n    print(index)\\n    print(subSamp[\"date\"])\\n    print(subSamp[\"national\"])\\n    print(list(subSamp[\"title\"]))\\n    print(subSamp[\"url\"])\\n    print(subSamp[\"source\"])\\n    print([item[:250] for item in subSamp[\"content\"]])\\n    print(\"----------------------------------------\")\\n'"
      ]
     },
     "execution_count": 195,
     "metadata": {},
     "output_type": "execute_result"
    }
   ],
   "source": [
    "\"\"\"\n",
    "SAMPLE_SEED = 124\n",
    "currSize = 0\n",
    "currMix = 2 \n",
    "\n",
    "sizedDf = grouped[(grouped[\"clustLen\"] >= sizeList[currSize]) & (grouped[\"clustLen\"] < sizeList[currSize+1])]\n",
    "mixedDf = sizedDf[(sizedDf[\"natProp\"] >= mixedList[currMix]) & (sizedDf[\"natProp\"] < mixedList[currMix+1])]\n",
    "\n",
    "sample = mixedDf.sample(8, random_state=SAMPLE_SEED)\n",
    "for index, currSamp in sample.iterrows(): \n",
    "    #currSamp = pd.DataFrame(currSamp).T.explode([\"key\", \"source\", \"title\", \"content\", \"date\", \"national\", \"url\"])\n",
    "    subSamp = currSamp #.sample(10)\n",
    "    print(len(currSamp))\n",
    "    #print(list(subSamp[\"natProp\"])[0])\n",
    "    print(index)\n",
    "    print(subSamp[\"date\"])\n",
    "    print(subSamp[\"national\"])\n",
    "    print(list(subSamp[\"title\"]))\n",
    "    print(subSamp[\"url\"])\n",
    "    print(subSamp[\"source\"])\n",
    "    print([item[:250] for item in subSamp[\"content\"]])\n",
    "    print(\"----------------------------------------\")\n",
    "\"\"\""
   ]
  },
  {
   "cell_type": "code",
   "execution_count": 198,
   "metadata": {},
   "outputs": [
    {
     "data": {
      "text/plain": [
       "'\\nSAMPLE_SEED = 124\\ncurrSize = 1\\ncurrMix = 2 \\n\\nsizedDf = grouped[(grouped[\"clustLen\"] >= sizeList[currSize]) & (grouped[\"clustLen\"] < sizeList[currSize+1])]\\nmixedDf = sizedDf[(sizedDf[\"natProp\"] >= mixedList[currMix]) & (sizedDf[\"natProp\"] < mixedList[currMix+1])]\\n\\nsample = mixedDf.sample(8, random_state=SAMPLE_SEED)\\nfor index, currSamp in sample.iterrows(): \\n    #currSamp = pd.DataFrame(currSamp).T.explode([\"key\", \"source\", \"title\", \"content\", \"date\", \"national\", \"url\"])\\n    subSamp = currSamp #.sample(10)\\n    print(len(currSamp))\\n    #print(list(subSamp[\"natProp\"])[0])\\n    print(index)\\n    print(subSamp[\"date\"])\\n    print(subSamp[\"national\"])\\n    print(list(subSamp[\"title\"]))\\n    print(subSamp[\"url\"])\\n    print(subSamp[\"source\"])\\n    print([item[:250] for item in subSamp[\"content\"]])\\n    print(\"----------------------------------------\")\\n'"
      ]
     },
     "execution_count": 198,
     "metadata": {},
     "output_type": "execute_result"
    }
   ],
   "source": [
    "\"\"\"\n",
    "SAMPLE_SEED = 124\n",
    "currSize = 1\n",
    "currMix = 2 \n",
    "\n",
    "sizedDf = grouped[(grouped[\"clustLen\"] >= sizeList[currSize]) & (grouped[\"clustLen\"] < sizeList[currSize+1])]\n",
    "mixedDf = sizedDf[(sizedDf[\"natProp\"] >= mixedList[currMix]) & (sizedDf[\"natProp\"] < mixedList[currMix+1])]\n",
    "\n",
    "sample = mixedDf.sample(8, random_state=SAMPLE_SEED)\n",
    "for index, currSamp in sample.iterrows(): \n",
    "    #currSamp = pd.DataFrame(currSamp).T.explode([\"key\", \"source\", \"title\", \"content\", \"date\", \"national\", \"url\"])\n",
    "    subSamp = currSamp #.sample(10)\n",
    "    print(len(currSamp))\n",
    "    #print(list(subSamp[\"natProp\"])[0])\n",
    "    print(index)\n",
    "    print(subSamp[\"date\"])\n",
    "    print(subSamp[\"national\"])\n",
    "    print(list(subSamp[\"title\"]))\n",
    "    print(subSamp[\"url\"])\n",
    "    print(subSamp[\"source\"])\n",
    "    print([item[:250] for item in subSamp[\"content\"]])\n",
    "    print(\"----------------------------------------\")\n",
    "\"\"\""
   ]
  },
  {
   "cell_type": "code",
   "execution_count": 202,
   "metadata": {},
   "outputs": [
    {
     "data": {
      "text/plain": [
       "'\\nSAMPLE_SEED = 124\\ncurrSize = 2\\ncurrMix = 2 \\n\\nsizedDf = grouped[(grouped[\"clustLen\"] >= sizeList[currSize]) & (grouped[\"clustLen\"] < sizeList[currSize+1])]\\nmixedDf = sizedDf[(sizedDf[\"natProp\"] >= mixedList[currMix]) & (sizedDf[\"natProp\"] < mixedList[currMix+1])]\\n\\nsample = mixedDf.sample(8, random_state=SAMPLE_SEED)\\nfor index, currSamp in sample.iterrows(): \\n    currSamp = pd.DataFrame(currSamp).T.explode([\"key\", \"source\", \"title\", \"content\", \"date\", \"national\", \"url\"])\\n    subSamp = currSamp.sample(10)\\n    print(len(currSamp))\\n    print(list(subSamp[\"natProp\"])[0])\\n    print(index)\\n    print(subSamp[\"date\"])\\n    print(subSamp[\"national\"])\\n    print(list(subSamp[\"title\"]))\\n    print(subSamp[\"url\"])\\n    print(subSamp[\"source\"])\\n    print([item[:250] for item in subSamp[\"content\"]])\\n    print(\"----------------------------------------\")\\n'"
      ]
     },
     "execution_count": 202,
     "metadata": {},
     "output_type": "execute_result"
    }
   ],
   "source": [
    "\"\"\"\n",
    "SAMPLE_SEED = 124\n",
    "currSize = 2\n",
    "currMix = 2 \n",
    "\n",
    "sizedDf = grouped[(grouped[\"clustLen\"] >= sizeList[currSize]) & (grouped[\"clustLen\"] < sizeList[currSize+1])]\n",
    "mixedDf = sizedDf[(sizedDf[\"natProp\"] >= mixedList[currMix]) & (sizedDf[\"natProp\"] < mixedList[currMix+1])]\n",
    "\n",
    "sample = mixedDf.sample(8, random_state=SAMPLE_SEED)\n",
    "for index, currSamp in sample.iterrows(): \n",
    "    currSamp = pd.DataFrame(currSamp).T.explode([\"key\", \"source\", \"title\", \"content\", \"date\", \"national\", \"url\"])\n",
    "    subSamp = currSamp.sample(10)\n",
    "    print(len(currSamp))\n",
    "    print(list(subSamp[\"natProp\"])[0])\n",
    "    print(index)\n",
    "    print(subSamp[\"date\"])\n",
    "    print(subSamp[\"national\"])\n",
    "    print(list(subSamp[\"title\"]))\n",
    "    print(subSamp[\"url\"])\n",
    "    print(subSamp[\"source\"])\n",
    "    print([item[:250] for item in subSamp[\"content\"]])\n",
    "    print(\"----------------------------------------\")\n",
    "\"\"\""
   ]
  },
  {
   "cell_type": "code",
   "execution_count": 205,
   "metadata": {},
   "outputs": [
    {
     "data": {
      "text/plain": [
       "'\\nSAMPLE_SEED = 124\\ncurrSize = 3\\ncurrMix = 2 \\n\\nsizedDf = grouped[(grouped[\"clustLen\"] >= sizeList[currSize]) & (grouped[\"clustLen\"] < sizeList[currSize+1])]\\nmixedDf = sizedDf[(sizedDf[\"natProp\"] >= mixedList[currMix]) & (sizedDf[\"natProp\"] < mixedList[currMix+1])]\\n\\nsample = mixedDf.sample(8, random_state=SAMPLE_SEED)\\nfor index, currSamp in sample.iterrows(): \\n    currSamp = pd.DataFrame(currSamp).T.explode([\"key\", \"source\", \"title\", \"content\", \"date\", \"national\", \"url\"])\\n    subSamp = currSamp.sample(10)\\n    print(len(currSamp))\\n    print(list(subSamp[\"natProp\"])[0])\\n    print(index)\\n    print(subSamp[\"date\"])\\n    print(subSamp[\"national\"])\\n    print(list(subSamp[\"title\"]))\\n    print(subSamp[\"url\"])\\n    print(subSamp[\"source\"])\\n    print([item[:250] for item in subSamp[\"content\"]])\\n    print(\"----------------------------------------\")\\n'"
      ]
     },
     "execution_count": 205,
     "metadata": {},
     "output_type": "execute_result"
    }
   ],
   "source": [
    "\"\"\"\n",
    "SAMPLE_SEED = 124\n",
    "currSize = 3\n",
    "currMix = 2 \n",
    "\n",
    "sizedDf = grouped[(grouped[\"clustLen\"] >= sizeList[currSize]) & (grouped[\"clustLen\"] < sizeList[currSize+1])]\n",
    "mixedDf = sizedDf[(sizedDf[\"natProp\"] >= mixedList[currMix]) & (sizedDf[\"natProp\"] < mixedList[currMix+1])]\n",
    "\n",
    "sample = mixedDf.sample(8, random_state=SAMPLE_SEED)\n",
    "for index, currSamp in sample.iterrows(): \n",
    "    currSamp = pd.DataFrame(currSamp).T.explode([\"key\", \"source\", \"title\", \"content\", \"date\", \"national\", \"url\"])\n",
    "    subSamp = currSamp.sample(10)\n",
    "    print(len(currSamp))\n",
    "    print(list(subSamp[\"natProp\"])[0])\n",
    "    print(index)\n",
    "    print(subSamp[\"date\"])\n",
    "    print(subSamp[\"national\"])\n",
    "    print(list(subSamp[\"title\"]))\n",
    "    print(subSamp[\"url\"])\n",
    "    print(subSamp[\"source\"])\n",
    "    print([item[:250] for item in subSamp[\"content\"]])\n",
    "    print(\"----------------------------------------\")\n",
    "\"\"\""
   ]
  },
  {
   "cell_type": "code",
   "execution_count": 208,
   "metadata": {},
   "outputs": [
    {
     "data": {
      "text/plain": [
       "'\\nSAMPLE_SEED = 124\\ncurrSize = 4\\ncurrMix = 2 \\n\\nsizedDf = grouped[(grouped[\"clustLen\"] >= sizeList[currSize]) & (grouped[\"clustLen\"] < sizeList[currSize+1])]\\nmixedDf = sizedDf[(sizedDf[\"natProp\"] >= mixedList[currMix]) & (sizedDf[\"natProp\"] < mixedList[currMix+1])]\\n\\nsample = mixedDf.sample(5, random_state=SAMPLE_SEED)\\nfor index, currSamp in sample.iterrows(): \\n    currSamp = pd.DataFrame(currSamp).T.explode([\"key\", \"source\", \"title\", \"content\", \"date\", \"national\", \"url\"])\\n    subSamp = currSamp.sample(10)\\n    print(len(currSamp))\\n    print(list(subSamp[\"natProp\"])[0])\\n    print(index)\\n    print(subSamp[\"date\"])\\n    print(subSamp[\"national\"])\\n    print(list(subSamp[\"title\"]))\\n    print(subSamp[\"url\"])\\n    print(subSamp[\"source\"])\\n    print([item[:250] for item in subSamp[\"content\"]])\\n    print(\"----------------------------------------\")\\n'"
      ]
     },
     "execution_count": 208,
     "metadata": {},
     "output_type": "execute_result"
    }
   ],
   "source": [
    "\"\"\"\n",
    "SAMPLE_SEED = 124\n",
    "currSize = 4\n",
    "currMix = 2 \n",
    "\n",
    "sizedDf = grouped[(grouped[\"clustLen\"] >= sizeList[currSize]) & (grouped[\"clustLen\"] < sizeList[currSize+1])]\n",
    "mixedDf = sizedDf[(sizedDf[\"natProp\"] >= mixedList[currMix]) & (sizedDf[\"natProp\"] < mixedList[currMix+1])]\n",
    "\n",
    "sample = mixedDf.sample(5, random_state=SAMPLE_SEED)\n",
    "for index, currSamp in sample.iterrows(): \n",
    "    currSamp = pd.DataFrame(currSamp).T.explode([\"key\", \"source\", \"title\", \"content\", \"date\", \"national\", \"url\"])\n",
    "    subSamp = currSamp.sample(10)\n",
    "    print(len(currSamp))\n",
    "    print(list(subSamp[\"natProp\"])[0])\n",
    "    print(index)\n",
    "    print(subSamp[\"date\"])\n",
    "    print(subSamp[\"national\"])\n",
    "    print(list(subSamp[\"title\"]))\n",
    "    print(subSamp[\"url\"])\n",
    "    print(subSamp[\"source\"])\n",
    "    print([item[:250] for item in subSamp[\"content\"]])\n",
    "    print(\"----------------------------------------\")\n",
    "\"\"\""
   ]
  },
  {
   "cell_type": "code",
   "execution_count": null,
   "metadata": {},
   "outputs": [],
   "source": []
  }
 ],
 "metadata": {
  "kernelspec": {
   "display_name": "Python 3",
   "language": "python",
   "name": "python3"
  },
  "language_info": {
   "codemirror_mode": {
    "name": "ipython",
    "version": 3
   },
   "file_extension": ".py",
   "mimetype": "text/x-python",
   "name": "python",
   "nbconvert_exporter": "python",
   "pygments_lexer": "ipython3",
   "version": "3.8.5"
  }
 },
 "nbformat": 4,
 "nbformat_minor": 4
}
