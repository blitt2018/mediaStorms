{
 "cells": [
  {
   "cell_type": "code",
   "execution_count": 286,
   "id": "e2064c78",
   "metadata": {},
   "outputs": [],
   "source": [
    "import pandas as pd\n",
    "from collections import Counter\n",
    "import numpy as np\n",
    "import datetime"
   ]
  },
  {
   "cell_type": "code",
   "execution_count": 3,
   "id": "bffa57f5",
   "metadata": {},
   "outputs": [],
   "source": [
    "STORMS_PATH  = \"/shared/3/projects/newsDiffusion/data/processed/stormDfs/20000_90_storms.tsv\"\n",
    "ARTICLES_PATH = \"/shared/3/projects/newsDiffusion/data/processed/fullDataWith20000.tsv\"\n",
    "\n",
    "stormsDf = pd.read_csv(STORMS_PATH, sep=\"\\t\")\n",
    "artDf = pd.read_csv(ARTICLES_PATH, sep=\"\\t\")\n",
    "\n",
    "artDf = artDf.drop(columns=[\"Unnamed: 0\"])\n",
    "stormsDf = stormsDf.drop(columns=[\"Unnamed: 0\"])\n",
    "\n",
    "SCOL = \"20000_90\"\n",
    "stormsDf[SCOL + \"_storm\"] = True\n",
    "\n",
    "merged = pd.merge(artDf, stormsDf.drop(columns=[SCOL]), on=\"key\", how=\"left\")\n",
    "\n",
    "#important: remove any dates before our first local date \n",
    "merged = merged[merged[\"date\"] >= \"2020-04-01\"]\n",
    "\n",
    "#shouldn't have filtered on string up above but it did the job \n",
    "merged[\"date\"] = pd.to_datetime(merged[\"date\"])"
   ]
  },
  {
   "cell_type": "code",
   "execution_count": 7,
   "id": "9ab881ae",
   "metadata": {},
   "outputs": [],
   "source": [
    "stormDf = merged[merged[\"20000_90_storm\"] == True]\n",
    "\n",
    "#sanitfy check to confirm we have our 98 storms \n",
    "len(stormDf[\"20000_90\"].unique())"
   ]
  },
  {
   "cell_type": "code",
   "execution_count": 20,
   "id": "1bd5b333",
   "metadata": {},
   "outputs": [],
   "source": [
    "pStormDf = stormDf[[\"key\", \"date\", \"title\", \"content\", \"url\", \"fips\", 'source', 'description',\n",
    "       'onlinesince', 'rank', 'state', 'city', 'lon', 'lat', 'county',\n",
    "       'total_population', 'white_pct', 'black_pct', 'hispanic_pct',\n",
    "       'nonwhite_pct', 'foreignborn_pct', 'female_pct', 'age29andunder_pct',\n",
    "       'age65andolder_pct', 'median_hh_inc', 'clf_unemploy_pct', 'lesshs_pct',\n",
    "       'lesscollege_pct', 'lesshs_whites_pct', 'lesscollege_whites_pct',\n",
    "       'rural_pct', 'ruralurban_cc', 'predrt_0', 'predrt_12', 'predrt_3',\n",
    "       'national', 'id', 'author', 'published', 'published_utc',\n",
    "       'collection_utc','20000_90']]\n",
    "\n",
    "pStormDf = pStormDf.rename(columns={\"key\":\"articleID\", \"20000_90\":\"stormID\"})\n",
    "\n",
    "#write a nice version of the storm df to an output file for github \n",
    "pStormDf.to_csv(\"/shared/3/projects/newsDiffusion/data/processed/pubData/20000_90_stormData.tsv\", sep=\"\\t\")"
   ]
  },
  {
   "cell_type": "code",
   "execution_count": 291,
   "id": "cab699da",
   "metadata": {},
   "outputs": [],
   "source": [
    "#now get table, 1 row per storm \n",
    "stormTab = pStormDf[[\"stormID\", \"articleID\", \"national\", \"date\"]].groupby(\"stormID\").agg(list)\n",
    "\n",
    "#get the columns we need \n",
    "stormTab[\"startDay\"] = stormTab[\"date\"].apply(lambda x: min(x))\n",
    "stormTab[\"endDay\"] = stormTab[\"date\"].apply(lambda x: max(x))"
   ]
  },
  {
   "cell_type": "code",
   "execution_count": 292,
   "id": "8ac4349b",
   "metadata": {},
   "outputs": [],
   "source": [
    "stormTab[\"duration\"] = (stormTab[\"endDay\"] - stormTab[\"startDay\"]) + datetime.timedelta(days=1)"
   ]
  },
  {
   "cell_type": "code",
   "execution_count": 293,
   "id": "59cee335",
   "metadata": {},
   "outputs": [],
   "source": [
    "stormTab[\"articleCount\"] = stormTab[\"articleID\"].apply(len)\n",
    "stormTab[\"peakDay\"] = stormTab[\"date\"].apply(lambda x: Counter(x).most_common()[0][0])\n",
    "stormTab[\"nationalPercent\"] = stormTab[\"national\"].apply(lambda x: 100*np.mean(x))\n",
    "\n",
    "#select and sort \n",
    "stormTab = stormTab[[\"startDay\", \"peakDay\", \"duration\",  \"articleCount\", \"nationalPercent\"]]\n",
    "stormTab = stormTab.sort_values(\"startDay\")"
   ]
  },
  {
   "cell_type": "code",
   "execution_count": 295,
   "id": "1d527329",
   "metadata": {},
   "outputs": [],
   "source": [
    "stormDescriptions = [\"Boris Johnson's contraction and recovery from COVID-19\", \"Minnesota Gov. Walz gives COVID-19 update\",\n",
    "                     \"Joe Biden accused of sexual assault\", \n",
    "                     \"Dallas salon owner jailed for violating COVID restrictions\", \"Mike Pence criticized for not wearing mask to Mayo Clinic\", \n",
    "                    \"Adam Schiff and 'Russiagate' transcripts\",\"Response to Trump taking hydroxychloroquine\",\n",
    "                    \"Court trials of officers in George Floyd's murder\", \"Decline and subsequent rise of COVID cases in Minnesota\",\n",
    "                    \"Minneapolis bans police chokeholds in response to George Floyd's murder\", \"Support for defunding,abolishing police in Minneapolis\", \n",
    "                    \"Renaming of army bases named after Confederate leaders\", \"Trump attempts to prevent Bolton from publishing his memoir\", \n",
    "                    \"COVID-19 updates in Minnesota, North Dakota\", \"Mississippi to remove Confederate emblem from flag\", \n",
    "                    \"Top Manhattan prosecutor fired by Trump\", \"Bubba wallace finds noose in garage; subsequent coverage\", \n",
    "                    \"Trump pushes states to reopen their schools\", \"Death of 'Glee' actress Naya Rivera\", \n",
    "                    \"Trump commutes Roger Stone's sentence; ensuing backlash\", \"Major retailers update mask policies\", \n",
    "                    \"Trumps says he will ban TikTok\", \"Joe Biden selects Kamala Harris as V.P.\", \"Postmaster general's involvment in mail-in voting controversy\",\n",
    "                    \"TikTok's owner partners with Oracle rather than Microsoft\", \"Controversy over presidential debate after Trump contracts COVID-19\", \n",
    "                    \"Ruth Bader Ginsburg dies; Trump picks Amy Coney Barrett to replace\", \"Vice-presidential debate 2020\", \n",
    "                    \"Hurricane Delta\", \"Controversy surrounding potential for Biden to pack the Supreme Court\", \n",
    "                    \"Amy Coney Barrett's confirmation hearings and confirmation\", \"Controversy surrounding extension of ballot counting period in Minnesota\", \n",
    "                    \"Biden wins 2020 election\", \"Trump's challenge to 2020 election results in Pennsylvania\", \n",
    "                    \"Michigan certifies election results, sealing Biden's win\", \"Biden wins Wisconsin recount\", \n",
    "                    \"SCOTUS rejects Trump and Texas's attempt to overturn election results\", \"Electoral College casts votes\", \n",
    "                    \"US request to extradite Julian Assange is blocked\", \"Impeachment attempt after January 6\", \n",
    "                    \"Parler removed from app store\", \"Marjorie Taylor Green ousted from her committees\", \n",
    "                    \"Coronavirus updates in California; Deaths decline\", \"Horoscopes referencing celebrities\", \n",
    "                    \"Trump's second impeachment trial\", \"Andrew Cuomo accused of harassment\", \n",
    "                    \"Trial of Derek Chauvin\", \"Cargo ship blocks Suez Canal\", \"Arkansas bans trans healthcare for youth\", \n",
    "                    \"Concern over blood clots after Johnson and Johnson vaccine\", \"Liz Cheney ousted from house leadership role\", \n",
    "                    \"Biden's infrastructure bill\", \"Hacking interferes with Colonial Pipeline\", \n",
    "                    \"Netanyahu ousted by Isreali coalition\", \"Biden and Putin meet in Geneva\", \n",
    "                    \"Biden, senate make Juneteenth a federal holiday\", \"Derek Chauvin Sentenced\", \n",
    "                    \"Extreme heatwave hits Pacific Northwest\", \"Deal reached on Biden's infrastructure bill\", \n",
    "                    \"Trump organization charged with tax crimes\", \"Tropical Storm Elsa\", \n",
    "                    \"Miami death toll climbs after Condo collapses\", \"Infrastructure bill passes through senate\", \n",
    "                    \"Facebook and Biden clash over COVID-19 misinformation\", \"Biden seeks extension for eviction moratorium\", \n",
    "                    \"Massive California wildfire\", \"Cuomo resigns due to sexual harassment allegations\", \n",
    "                    \"Wildfires in Greece\", \"Texas, Florida schools clash with governments over mask mandates\", \n",
    "                    \"Controversy over Biden's Afghanistan withdrawal deadline\", \"COVID-19 updates in Minnesota\", \n",
    "                    \"Wildfires approach Lake Tahoe\", \"Hurricane Ida\", \"Gavin Newsome wins recall ellection\", \n",
    "                    \"Controversy over General Mark Milley's communication with China\", \"Wildfires threaten to destroy California's sequoias\", \n",
    "                    \"Official bodies approve COVID booster\", \"Minnesota COVID-19 updates\", \"Tight governer race in Virginia\", \n",
    "                    \"Controversy, political response to Texas abortion law\", \"House votes to hold Steve Bannon in contempt over Jan. 6\", \n",
    "                    \"Chicago Sky wins first WNBA title\", \"Official bodies approve mixing COVID vaccines and boosters\", \n",
    "                    \"Official bodies approve COVID vaccine for children 5-11\", \"Alec Baldwin kills Halyna Hutchins on set\", \n",
    "                    \"Judge refuses Trump's request to block Jan. 6 records\", \"Court case of Kyle Rittenhouse\", \n",
    "                    \"'Unite the Right' trial developments and verdict\", \"Lauren Boebert makes anti-Muslim comments, apologizes\", \n",
    "                    \"Duante Wright manslaughter trial\", \"CNN fires Chris Cuomo for helping brother\", \"death of Bob Dole\", \n",
    "                    \"Horoscopes featuring celebrity names\", \"House votes to hold Mark Meadows in contempt\", \n",
    "                    \"Deadly tornadoes in Kentucky, southeastern US\", \"Coverage of Omicron variant\", \n",
    "                    \"CDC shortens COVID isolation window\", \"Airlines cancel flights due to COVID staffing shortages\"]"
   ]
  },
  {
   "cell_type": "code",
   "execution_count": 244,
   "id": "6430cff8",
   "metadata": {},
   "outputs": [
    {
     "name": "stdout",
     "output_type": "stream",
     "text": [
      "Deadly tornadoes in Kentucky, southeastern US\n"
     ]
    },
    {
     "data": {
      "text/plain": [
       "['Kentucky hardest hit as storms leave dozens dead in 5 states — VIDEO',\n",
       " '100 FEARED DEAD',\n",
       " 'Kentucky hardest hit as storms leave dozens dead in 5 states',\n",
       " 'Dozens feared dead as tornadoes tear through Kentucky, southeastern US',\n",
       " 'Kentucky governor says storms may have killed at least 70 people',\n",
       " \"'Worst in long time'...\",\n",
       " 'Kentucky Tornado Toll In Dozens; Less Than Feared At Candle Factory',\n",
       " 'A stretch of more than 250 miles might have been hit by one violent, long-track tornado',\n",
       " 'Thousands without heat, water after tornadoes kill dozens',\n",
       " 'At Least 64 People Confirmed Dead in Kentucky After Barrage of Tornadoes']"
      ]
     },
     "execution_count": 244,
     "metadata": {},
     "output_type": "execute_result"
    }
   ],
   "source": [
    "#for getting descriptions \n",
    "idList = list(stormTab.index)\n",
    "\n",
    "stormIndex = 94\n",
    "print(stormDescriptions[stormIndex])\n",
    "list(pStormDf.loc[pStormDf[\"stormID\"] == idList[stormIndex]].sample(10).sort_values(\"date\")[\"title\"])"
   ]
  },
  {
   "cell_type": "code",
   "execution_count": 305,
   "id": "e8fcc94a",
   "metadata": {},
   "outputs": [],
   "source": [
    "stormTab[\"duration\"] = stormTab[\"duration\"].astype(str)"
   ]
  },
  {
   "cell_type": "code",
   "execution_count": 306,
   "id": "ed03c6a4",
   "metadata": {},
   "outputs": [],
   "source": [
    "stormTab[\"description\"] = stormDescriptions\n",
    "#stormTab = stormTab[[\"startDay\", \"peakDay\", \"articleCount\", \"nationalPercent\", \"description\"]]"
   ]
  },
  {
   "cell_type": "code",
   "execution_count": 307,
   "id": "db8ec9a7",
   "metadata": {},
   "outputs": [],
   "source": [
    "#to csv \n",
    "stormTab.to_csv(\"/shared/3/projects/newsDiffusion/data/processed/pubData/stormDescriptions.tsv\", sep=\"\\t\")"
   ]
  },
  {
   "cell_type": "code",
   "execution_count": 309,
   "id": "3706980a",
   "metadata": {},
   "outputs": [],
   "source": [
    "#to latex table\n",
    "stormTab.style.format({'nationalPercent': \"{:.1f}\", \"startDay\":\"{:%b %d, %y}\",  \"peakDay\":\"{:%b %d, %y}\"}).hide().to_latex(\"/home/blitt/projects/localNews/reports/figures/drafts/stormsTable.tex\")"
   ]
  },
  {
   "cell_type": "code",
   "execution_count": null,
   "id": "0ca1da1f",
   "metadata": {},
   "outputs": [],
   "source": []
  }
 ],
 "metadata": {
  "kernelspec": {
   "display_name": "Python 3",
   "language": "python",
   "name": "python3"
  },
  "language_info": {
   "codemirror_mode": {
    "name": "ipython",
    "version": 3
   },
   "file_extension": ".py",
   "mimetype": "text/x-python",
   "name": "python",
   "nbconvert_exporter": "python",
   "pygments_lexer": "ipython3",
   "version": "3.8.5"
  }
 },
 "nbformat": 4,
 "nbformat_minor": 5
}
