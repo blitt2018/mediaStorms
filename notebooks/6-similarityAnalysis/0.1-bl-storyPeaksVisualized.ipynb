{
 "cells": [
  {
   "cell_type": "code",
   "execution_count": 5,
   "metadata": {},
   "outputs": [
    {
     "data": {
      "text/plain": [
       "'\\nplot the time series of media storms identified from April 1, 2020 - December 1, 2021\\n'"
      ]
     },
     "execution_count": 5,
     "metadata": {},
     "output_type": "execute_result"
    }
   ],
   "source": [
    "\"\"\"\n",
    "plot the time series of media storms identified from April 1, 2020 - December 1, 2021\n",
    "\"\"\""
   ]
  },
  {
   "cell_type": "code",
   "execution_count": 58,
   "metadata": {},
   "outputs": [],
   "source": [
    "import pandas as pd\n",
    "import numpy as np\n",
    "import seaborn as sns\n",
    "import matplotlib.pyplot as plt\n",
    "from collections import Counter\n",
    "import datetime\n",
    "import matplotlib.dates as mdates\n",
    "from matplotlib.dates import DateFormatter"
   ]
  },
  {
   "cell_type": "code",
   "execution_count": 7,
   "metadata": {},
   "outputs": [
    {
     "name": "stderr",
     "output_type": "stream",
     "text": [
      "<ipython-input-7-d15d318dab54>:5: DtypeWarning: Columns (4,5,12,13,15,16,19) have mixed types. Specify dtype option on import or set low_memory=False.\n",
      "  artDf = pd.read_csv(ARTICLES_PATH, sep=\"\\t\")\n"
     ]
    }
   ],
   "source": [
    "STORMS_PATH  = \"/shared/3/projects/newsDiffusion/data/processed/stormDfs/20000_90_storms.tsv\"\n",
    "ARTICLES_PATH = \"/shared/3/projects/newsDiffusion/data/processed/fullDataWith20000.tsv\"\n",
    "\n",
    "stormsDf = pd.read_csv(STORMS_PATH, sep=\"\\t\")\n",
    "artDf = pd.read_csv(ARTICLES_PATH, sep=\"\\t\")\n",
    "\n",
    "artDf = artDf.drop(columns=[\"Unnamed: 0\"])\n",
    "stormsDf = stormsDf.drop(columns=[\"Unnamed: 0\"])\n",
    "\n",
    "SCOL = \"20000_90\"\n",
    "stormsDf[SCOL + \"_storm\"] = True\n",
    "\n",
    "merged = pd.merge(artDf, stormsDf.drop(columns=[SCOL]), on=\"key\", how=\"left\")\n",
    "\n",
    "#important: remove any dates before our first local date \n",
    "merged = merged[merged[\"date\"] >= \"2020-04-01\"]\n"
   ]
  },
  {
   "cell_type": "code",
   "execution_count": 8,
   "metadata": {},
   "outputs": [],
   "source": [
    "#shouldn't have filtered on string up above but it did the job \n",
    "merged[\"date\"] = pd.to_datetime(merged[\"date\"])"
   ]
  },
  {
   "cell_type": "code",
   "execution_count": 9,
   "metadata": {},
   "outputs": [],
   "source": [
    "#get each date as a date since the first story in our data \n",
    "#get the first date in our dataset \n",
    "minDate = min(merged[\"date\"])\n",
    "\n",
    "merged[\"dateInt\"] = merged[\"date\"].apply(lambda x: (x - minDate) / np.timedelta64(1, \"D\"))"
   ]
  },
  {
   "cell_type": "code",
   "execution_count": 10,
   "metadata": {},
   "outputs": [],
   "source": [
    "SCOL = \"20000_90\""
   ]
  },
  {
   "cell_type": "code",
   "execution_count": 11,
   "metadata": {},
   "outputs": [],
   "source": [
    "#get largest stories \n",
    "sClustDf = merged[[\"source\", SCOL, \"national\", \"key\", \"content\", \"title\", \"date\", \"dateInt\", \"state\", \"lat\", \"lon\"]].groupby(SCOL).agg(list).reset_index()\n",
    "sClustDf[\"clustSize\"] = sClustDf[\"key\"].apply(len)\n",
    "sClustDf[\"nationalPercent\"] = sClustDf[\"national\"].apply(np.mean)\n",
    "sClustDf[\"duration\"] = ((sClustDf[\"date\"].apply(max) - sClustDf[\"date\"].apply(min)) / np.timedelta64(1, \"D\")) + 1\n",
    "\n",
    "def getUnique(inList): \n",
    "        return len(set([item for item in inList if item == item]))\n",
    "    \n",
    "#get the number of unique states in this story \n",
    "sClustDf[\"numStates\"] = sClustDf[\"state\"].apply(getUnique)"
   ]
  },
  {
   "cell_type": "code",
   "execution_count": 22,
   "metadata": {},
   "outputs": [
    {
     "data": {
      "text/plain": [
       "Index(['Unnamed: 0.2', 'Unnamed: 0.1', 'key', 'local_id', 'sourcedomain_id',\n",
       "       'date', 'title', 'content', 'url', 'fips', 'source', 'description',\n",
       "       'onlinesince', 'rank', 'state', 'city', 'lon', 'lat', 'county',\n",
       "       'total_population', 'white_pct', 'black_pct', 'hispanic_pct',\n",
       "       'nonwhite_pct', 'foreignborn_pct', 'female_pct', 'age29andunder_pct',\n",
       "       'age65andolder_pct', 'median_hh_inc', 'clf_unemploy_pct', 'lesshs_pct',\n",
       "       'lesscollege_pct', 'lesshs_whites_pct', 'lesscollege_whites_pct',\n",
       "       'rural_pct', 'ruralurban_cc', 'predrt_0', 'predrt_12', 'predrt_3',\n",
       "       'national', 'id', 'author', 'published', 'published_utc',\n",
       "       'collection_utc', '20000_80', '20000_85', '20000_90', 'year',\n",
       "       '20000_90_average_pct', '20000_90_num_over_cutoff',\n",
       "       '20000_90_storm_source', '20000_90_storm', 'dateInt'],\n",
       "      dtype='object')"
      ]
     },
     "execution_count": 22,
     "metadata": {},
     "output_type": "execute_result"
    }
   ],
   "source": [
    "sClust"
   ]
  },
  {
   "cell_type": "code",
   "execution_count": 20,
   "metadata": {},
   "outputs": [
    {
     "ename": "KeyError",
     "evalue": "\"['clustNum'] not in index\"",
     "output_type": "error",
     "traceback": [
      "\u001b[0;31m---------------------------------------------------------------------------\u001b[0m",
      "\u001b[0;31mKeyError\u001b[0m                                  Traceback (most recent call last)",
      "\u001b[0;32m<ipython-input-20-4527fdc69daa>\u001b[0m in \u001b[0;36m<module>\u001b[0;34m\u001b[0m\n\u001b[1;32m      1\u001b[0m \u001b[0;31m#get largest stories\u001b[0m\u001b[0;34m\u001b[0m\u001b[0;34m\u001b[0m\u001b[0;34m\u001b[0m\u001b[0m\n\u001b[0;32m----> 2\u001b[0;31m \u001b[0mclustDf\u001b[0m \u001b[0;34m=\u001b[0m \u001b[0mmerged\u001b[0m\u001b[0;34m[\u001b[0m\u001b[0;34m[\u001b[0m\u001b[0;34m\"source\"\u001b[0m\u001b[0;34m,\u001b[0m \u001b[0;34m\"clustNum\"\u001b[0m\u001b[0;34m,\u001b[0m \u001b[0;34m\"national\"\u001b[0m\u001b[0;34m,\u001b[0m \u001b[0;34m\"key\"\u001b[0m\u001b[0;34m,\u001b[0m \u001b[0;34m\"content\"\u001b[0m\u001b[0;34m,\u001b[0m \u001b[0;34m\"title\"\u001b[0m\u001b[0;34m,\u001b[0m \u001b[0;34m\"date\"\u001b[0m\u001b[0;34m,\u001b[0m \u001b[0;34m\"dateInt\"\u001b[0m\u001b[0;34m,\u001b[0m \u001b[0;34m\"state\"\u001b[0m\u001b[0;34m,\u001b[0m \u001b[0;34m\"lat\"\u001b[0m\u001b[0;34m,\u001b[0m \u001b[0;34m\"lon\"\u001b[0m\u001b[0;34m]\u001b[0m\u001b[0;34m]\u001b[0m\u001b[0;34m.\u001b[0m\u001b[0mgroupby\u001b[0m\u001b[0;34m(\u001b[0m\u001b[0;34m\"clustNum\"\u001b[0m\u001b[0;34m)\u001b[0m\u001b[0;34m.\u001b[0m\u001b[0magg\u001b[0m\u001b[0;34m(\u001b[0m\u001b[0mlist\u001b[0m\u001b[0;34m)\u001b[0m\u001b[0;34m.\u001b[0m\u001b[0mreset_index\u001b[0m\u001b[0;34m(\u001b[0m\u001b[0;34m)\u001b[0m\u001b[0;34m\u001b[0m\u001b[0;34m\u001b[0m\u001b[0m\n\u001b[0m\u001b[1;32m      3\u001b[0m \u001b[0mclustDf\u001b[0m\u001b[0;34m[\u001b[0m\u001b[0;34m\"clustSize\"\u001b[0m\u001b[0;34m]\u001b[0m \u001b[0;34m=\u001b[0m \u001b[0mclustDf\u001b[0m\u001b[0;34m[\u001b[0m\u001b[0;34m\"key\"\u001b[0m\u001b[0;34m]\u001b[0m\u001b[0;34m.\u001b[0m\u001b[0mapply\u001b[0m\u001b[0;34m(\u001b[0m\u001b[0mlen\u001b[0m\u001b[0;34m)\u001b[0m\u001b[0;34m\u001b[0m\u001b[0;34m\u001b[0m\u001b[0m\n\u001b[1;32m      4\u001b[0m \u001b[0mclustDf\u001b[0m\u001b[0;34m[\u001b[0m\u001b[0;34m\"nationalPercent\"\u001b[0m\u001b[0;34m]\u001b[0m \u001b[0;34m=\u001b[0m \u001b[0mclustDf\u001b[0m\u001b[0;34m[\u001b[0m\u001b[0;34m\"national\"\u001b[0m\u001b[0;34m]\u001b[0m\u001b[0;34m.\u001b[0m\u001b[0mapply\u001b[0m\u001b[0;34m(\u001b[0m\u001b[0mnp\u001b[0m\u001b[0;34m.\u001b[0m\u001b[0mmean\u001b[0m\u001b[0;34m)\u001b[0m\u001b[0;34m\u001b[0m\u001b[0;34m\u001b[0m\u001b[0m\n\u001b[1;32m      5\u001b[0m \u001b[0mclustDf\u001b[0m\u001b[0;34m[\u001b[0m\u001b[0;34m\"duration\"\u001b[0m\u001b[0;34m]\u001b[0m \u001b[0;34m=\u001b[0m \u001b[0;34m(\u001b[0m\u001b[0;34m(\u001b[0m\u001b[0mclustDf\u001b[0m\u001b[0;34m[\u001b[0m\u001b[0;34m\"date\"\u001b[0m\u001b[0;34m]\u001b[0m\u001b[0;34m.\u001b[0m\u001b[0mapply\u001b[0m\u001b[0;34m(\u001b[0m\u001b[0mmax\u001b[0m\u001b[0;34m)\u001b[0m \u001b[0;34m-\u001b[0m \u001b[0mclustDf\u001b[0m\u001b[0;34m[\u001b[0m\u001b[0;34m\"date\"\u001b[0m\u001b[0;34m]\u001b[0m\u001b[0;34m.\u001b[0m\u001b[0mapply\u001b[0m\u001b[0;34m(\u001b[0m\u001b[0mmin\u001b[0m\u001b[0;34m)\u001b[0m\u001b[0;34m)\u001b[0m \u001b[0;34m/\u001b[0m \u001b[0mnp\u001b[0m\u001b[0;34m.\u001b[0m\u001b[0mtimedelta64\u001b[0m\u001b[0;34m(\u001b[0m\u001b[0;36m1\u001b[0m\u001b[0;34m,\u001b[0m \u001b[0;34m\"D\"\u001b[0m\u001b[0;34m)\u001b[0m\u001b[0;34m)\u001b[0m \u001b[0;34m+\u001b[0m \u001b[0;36m1\u001b[0m\u001b[0;34m\u001b[0m\u001b[0;34m\u001b[0m\u001b[0m\n",
      "\u001b[0;32m/opt/anaconda/lib/python3.8/site-packages/pandas/core/frame.py\u001b[0m in \u001b[0;36m__getitem__\u001b[0;34m(self, key)\u001b[0m\n\u001b[1;32m   3765\u001b[0m             \u001b[0;32mif\u001b[0m \u001b[0mis_iterator\u001b[0m\u001b[0;34m(\u001b[0m\u001b[0mkey\u001b[0m\u001b[0;34m)\u001b[0m\u001b[0;34m:\u001b[0m\u001b[0;34m\u001b[0m\u001b[0;34m\u001b[0m\u001b[0m\n\u001b[1;32m   3766\u001b[0m                 \u001b[0mkey\u001b[0m \u001b[0;34m=\u001b[0m \u001b[0mlist\u001b[0m\u001b[0;34m(\u001b[0m\u001b[0mkey\u001b[0m\u001b[0;34m)\u001b[0m\u001b[0;34m\u001b[0m\u001b[0;34m\u001b[0m\u001b[0m\n\u001b[0;32m-> 3767\u001b[0;31m             \u001b[0mindexer\u001b[0m \u001b[0;34m=\u001b[0m \u001b[0mself\u001b[0m\u001b[0;34m.\u001b[0m\u001b[0mcolumns\u001b[0m\u001b[0;34m.\u001b[0m\u001b[0m_get_indexer_strict\u001b[0m\u001b[0;34m(\u001b[0m\u001b[0mkey\u001b[0m\u001b[0;34m,\u001b[0m \u001b[0;34m\"columns\"\u001b[0m\u001b[0;34m)\u001b[0m\u001b[0;34m[\u001b[0m\u001b[0;36m1\u001b[0m\u001b[0;34m]\u001b[0m\u001b[0;34m\u001b[0m\u001b[0;34m\u001b[0m\u001b[0m\n\u001b[0m\u001b[1;32m   3768\u001b[0m \u001b[0;34m\u001b[0m\u001b[0m\n\u001b[1;32m   3769\u001b[0m         \u001b[0;31m# take() does not accept boolean indexers\u001b[0m\u001b[0;34m\u001b[0m\u001b[0;34m\u001b[0m\u001b[0;34m\u001b[0m\u001b[0m\n",
      "\u001b[0;32m/opt/anaconda/lib/python3.8/site-packages/pandas/core/indexes/base.py\u001b[0m in \u001b[0;36m_get_indexer_strict\u001b[0;34m(self, key, axis_name)\u001b[0m\n\u001b[1;32m   5875\u001b[0m             \u001b[0mkeyarr\u001b[0m\u001b[0;34m,\u001b[0m \u001b[0mindexer\u001b[0m\u001b[0;34m,\u001b[0m \u001b[0mnew_indexer\u001b[0m \u001b[0;34m=\u001b[0m \u001b[0mself\u001b[0m\u001b[0;34m.\u001b[0m\u001b[0m_reindex_non_unique\u001b[0m\u001b[0;34m(\u001b[0m\u001b[0mkeyarr\u001b[0m\u001b[0;34m)\u001b[0m\u001b[0;34m\u001b[0m\u001b[0;34m\u001b[0m\u001b[0m\n\u001b[1;32m   5876\u001b[0m \u001b[0;34m\u001b[0m\u001b[0m\n\u001b[0;32m-> 5877\u001b[0;31m         \u001b[0mself\u001b[0m\u001b[0;34m.\u001b[0m\u001b[0m_raise_if_missing\u001b[0m\u001b[0;34m(\u001b[0m\u001b[0mkeyarr\u001b[0m\u001b[0;34m,\u001b[0m \u001b[0mindexer\u001b[0m\u001b[0;34m,\u001b[0m \u001b[0maxis_name\u001b[0m\u001b[0;34m)\u001b[0m\u001b[0;34m\u001b[0m\u001b[0;34m\u001b[0m\u001b[0m\n\u001b[0m\u001b[1;32m   5878\u001b[0m \u001b[0;34m\u001b[0m\u001b[0m\n\u001b[1;32m   5879\u001b[0m         \u001b[0mkeyarr\u001b[0m \u001b[0;34m=\u001b[0m \u001b[0mself\u001b[0m\u001b[0;34m.\u001b[0m\u001b[0mtake\u001b[0m\u001b[0;34m(\u001b[0m\u001b[0mindexer\u001b[0m\u001b[0;34m)\u001b[0m\u001b[0;34m\u001b[0m\u001b[0;34m\u001b[0m\u001b[0m\n",
      "\u001b[0;32m/opt/anaconda/lib/python3.8/site-packages/pandas/core/indexes/base.py\u001b[0m in \u001b[0;36m_raise_if_missing\u001b[0;34m(self, key, indexer, axis_name)\u001b[0m\n\u001b[1;32m   5939\u001b[0m \u001b[0;34m\u001b[0m\u001b[0m\n\u001b[1;32m   5940\u001b[0m             \u001b[0mnot_found\u001b[0m \u001b[0;34m=\u001b[0m \u001b[0mlist\u001b[0m\u001b[0;34m(\u001b[0m\u001b[0mensure_index\u001b[0m\u001b[0;34m(\u001b[0m\u001b[0mkey\u001b[0m\u001b[0;34m)\u001b[0m\u001b[0;34m[\u001b[0m\u001b[0mmissing_mask\u001b[0m\u001b[0;34m.\u001b[0m\u001b[0mnonzero\u001b[0m\u001b[0;34m(\u001b[0m\u001b[0;34m)\u001b[0m\u001b[0;34m[\u001b[0m\u001b[0;36m0\u001b[0m\u001b[0;34m]\u001b[0m\u001b[0;34m]\u001b[0m\u001b[0;34m.\u001b[0m\u001b[0munique\u001b[0m\u001b[0;34m(\u001b[0m\u001b[0;34m)\u001b[0m\u001b[0;34m)\u001b[0m\u001b[0;34m\u001b[0m\u001b[0;34m\u001b[0m\u001b[0m\n\u001b[0;32m-> 5941\u001b[0;31m             \u001b[0;32mraise\u001b[0m \u001b[0mKeyError\u001b[0m\u001b[0;34m(\u001b[0m\u001b[0;34mf\"{not_found} not in index\"\u001b[0m\u001b[0;34m)\u001b[0m\u001b[0;34m\u001b[0m\u001b[0;34m\u001b[0m\u001b[0m\n\u001b[0m\u001b[1;32m   5942\u001b[0m \u001b[0;34m\u001b[0m\u001b[0m\n\u001b[1;32m   5943\u001b[0m     \u001b[0;34m@\u001b[0m\u001b[0moverload\u001b[0m\u001b[0;34m\u001b[0m\u001b[0;34m\u001b[0m\u001b[0m\n",
      "\u001b[0;31mKeyError\u001b[0m: \"['clustNum'] not in index\""
     ]
    }
   ],
   "source": [
    "#get largest stories \n",
    "clustDf = merged[[\"source\", \"clustNum\", \"national\", \"key\", \"content\", \"title\", \"date\", \"dateInt\", \"state\", \"lat\", \"lon\"]].groupby(\"clustNum\").agg(list).reset_index()\n",
    "clustDf[\"clustSize\"] = clustDf[\"key\"].apply(len)\n",
    "clustDf[\"nationalPercent\"] = clustDf[\"national\"].apply(np.mean)\n",
    "clustDf[\"duration\"] = ((clustDf[\"date\"].apply(max) - clustDf[\"date\"].apply(min)) / np.timedelta64(1, \"D\")) + 1\n",
    "\n",
    "def getUnique(inList): \n",
    "        return len(set([item for item in inList if item == item]))\n",
    "    \n",
    "#get the number of unique states in this story \n",
    "clustDf[\"numStates\"] = clustDf[\"state\"].apply(getUnique)"
   ]
  },
  {
   "cell_type": "code",
   "execution_count": null,
   "metadata": {},
   "outputs": [],
   "source": [
    "#get variance of our date integer \n",
    "clustDf[\"dateStd\"] = clustDf[\"dateInt\"].apply(np.std) "
   ]
  },
  {
   "cell_type": "code",
   "execution_count": null,
   "metadata": {},
   "outputs": [],
   "source": [
    "#consideration: maybe make a cutoff using the variance of news story duration? "
   ]
  },
  {
   "cell_type": "code",
   "execution_count": null,
   "metadata": {},
   "outputs": [],
   "source": [
    "#political unrest in Belarus \n",
    "#nashville bombing \n",
    "#couple pointing guns at protestors "
   ]
  },
  {
   "cell_type": "code",
   "execution_count": 19,
   "metadata": {},
   "outputs": [],
   "source": [
    "#get the top stories in long format so we can plot their times series \n",
    "def generateTopStories(clustDf, topStoryNum, sortCol): \n",
    "    \n",
    "    #typically sortCol will be \"clustSize\", but can also be spike size or something else \n",
    "    #get top number of stories for this column \n",
    "    topStories = clustDf.sort_values(sortCol, ascending=False).head(topStoryNum)\n",
    "\n",
    "    #return the date ints that has the highest frequency in the inList of date ints \n",
    "    def maxDateInt(inList): \n",
    "        return Counter(inList).most_common()[0][0]\n",
    "\n",
    "    #this will be used to sort stories by their peaks \n",
    "    topStories[\"topDay\"] = topStories[\"dateInt\"].apply(maxDateInt)\n",
    "\n",
    "    def getUnique(inList): \n",
    "        return len(set([item for item in inList if item == item]))\n",
    "    \n",
    "    #explode stories out from the story level, then group back again at the story,day level \n",
    "    topStories = topStories.explode([\"source\", \"national\", \"key\", \"content\", \"title\", \"date\", \"dateInt\", \"lat\", \"lon\", \"state\"])\n",
    "    topStoriesDaily = topStories[[SCOL, \"dateInt\", \"key\", \"topDay\", \"lat\", \"lon\", \"state\"]].groupby([SCOL, \"dateInt\"])\\\n",
    "    .agg({\"key\":len, \"topDay\":list, \"state\":getUnique, \"lat\":list, \"lon\":list}).reset_index()\n",
    "\n",
    "    topStoriesDaily[\"topDay\"] = topStoriesDaily[\"topDay\"].apply(lambda x: x[0])\n",
    "    \n",
    "    return topStoriesDaily \n"
   ]
  },
  {
   "cell_type": "code",
   "execution_count": 181,
   "metadata": {},
   "outputs": [],
   "source": [
    "def plotTopStories(topStoriesDaily,  savePath): \n",
    "    outTups = []\n",
    "    fig, ax = plt.subplots(figsize=(12, 3.5))\n",
    "    palette = ['#e41a1c','#377eb8','#4daf4a','#984ea3','#ff7f00','#ffff33','#a65628','#f781bf']\n",
    "    \n",
    "    #set things up so we can plot in terms of dates \n",
    "    def toDate(dayInt): \n",
    "        return fDay + datetime.timedelta(days=dayInt)\n",
    "    \n",
    "    #first day is April 1st, 2020\n",
    "    fDay = datetime.datetime(2020, 4, 1)\n",
    "    \n",
    "    #dateRange = date = pd.date_range(fDay, fDay + datetime.timedelta(maxDayInt), max(topStoriesDaily[\"dateInt\"])freq='1min').tolist()\n",
    "    \n",
    "    for i, clustNum in enumerate(topStoriesDaily.sort_values(\"topDay\", ascending=True)[SCOL].unique()): \n",
    "        currColor = palette[i % len(palette)]\n",
    "        currStories = topStoriesDaily[topStoriesDaily[SCOL] == clustNum] #.drop(columns=[\"key\"])\n",
    "\n",
    "        #get the day ints that we need to fill in\n",
    "        lastDay = max(merged[\"dateInt\"])\n",
    "        missingDays = set(range(0, int(lastDay))) - set(currStories[\"dateInt\"].unique())\n",
    "\n",
    "        #a dataframe to fill in missing days with 0 stories \n",
    "        topDay = list(currStories[\"topDay\"])[0]\n",
    "        missingDaysDf = pd.DataFrame({SCOL:clustNum, \"dateInt\":list(missingDays), \"key\":0, \"topDay\":topDay})\n",
    "        currStories = pd.concat([currStories, missingDaysDf], axis=0).sort_values(\"dateInt\")\n",
    "        currStories[\"date\"] = currStories[\"dateInt\"].apply(toDate)\n",
    "        \n",
    "        ax.plot(currStories[\"date\"], currStories[\"key\"], color=currColor)\n",
    "        #seaborn version: (same) plot = sns.lineplot(x=\"dateInt\",y=\"key\",data=currStories, alpha=1)\n",
    "        ax.fill_between(currStories.date.values, currStories.key.values, zorder=i, color=currColor)\n",
    "        outTups.append((clustNum, currColor, topDay))\n",
    "    \n",
    "    maxDayInt = max(topStoriesDaily[\"dateInt\"])\n",
    "    #ax.set_title(f\"Media Storms: April 1, 2020 - December 31, 2021\")\n",
    "    #ax.set_xlabel(\"day since April 1\")\n",
    "    ax.set_ylabel(\"# of articles\")\n",
    "    ax.set_xlim(fDay, toDate(maxDayInt))\n",
    "    ax.set_ylim(0, 305)\n",
    "    \n",
    "    date_form = DateFormatter(\"%b %Y\")\n",
    "    ax.xaxis.set_major_formatter(date_form)\n",
    "    ax.set_xticklabels(ax.get_xticklabels(), rotation=45, ha='right', rotation_mode='anchor', size=12) \n",
    "    \"\"\"\n",
    "    #format x-axis to show date instead of days since April 1, 2020\n",
    "    fDay = datetime.datetime(2020, 4, 1)\n",
    "    date_form = DateFormatter(\"%B %d, %y\")\n",
    "    outLabs = []\n",
    "    for item in ax.get_xticklabels(): \n",
    "        daysPassed = int(item.get_text())\n",
    "        currDay = fDay + datetime.timedelta(days=daysPassed)\n",
    "        item.set_text(currDay)\n",
    "        outLabs.append(item)\n",
    "    ax.set_xticklabels(outLabs, rotation=45, ha='right', rotation_mode='anchor', size=12) \n",
    "    \"\"\"\n",
    "    \n",
    "    \n",
    "    plt.savefig(savePath, dpi=600, bbox_inches=\"tight\")\n",
    "    plt.show()\n",
    "    return (fig, ax)"
   ]
  },
  {
   "cell_type": "code",
   "execution_count": 16,
   "metadata": {},
   "outputs": [],
   "source": [
    "FIG_PATH = \"/home/blitt/projects/localNews/reports/figures/drafts/\"\n",
    "PALETTE = [\"#008837\", \"#7b3294\"]"
   ]
  },
  {
   "cell_type": "code",
   "execution_count": 17,
   "metadata": {},
   "outputs": [
    {
     "data": {
      "text/plain": [
       "98"
      ]
     },
     "execution_count": 17,
     "metadata": {},
     "output_type": "execute_result"
    }
   ],
   "source": [
    "numStorms = len(stormsDf[SCOL].unique())\n",
    "numStorms"
   ]
  },
  {
   "cell_type": "code",
   "execution_count": 182,
   "metadata": {},
   "outputs": [
    {
     "name": "stderr",
     "output_type": "stream",
     "text": [
      "<ipython-input-181-8f56af09d805>:43: UserWarning: FixedFormatter should only be used together with FixedLocator\n",
      "  ax.set_xticklabels(ax.get_xticklabels(), rotation=45, ha='right', rotation_mode='anchor', size=12)\n"
     ]
    },
    {
     "data": {
      "image/png": "[encoded data removed]",
      "text/plain": [
       "<Figure size 864x252 with 1 Axes>"
      ]
     },
     "metadata": {
      "needs_background": "light"
     },
     "output_type": "display_data"
    }
   ],
   "source": [
    "#first, look at all storms \n",
    "#commentted out for recreating figure: topStoriesDaily = generateTopStories(sClustDf, numStorms, \"clustSize\")\n",
    "outTups = plotTopStories(topStoriesDaily, savePath = FIG_PATH + \"allStormsSeries.pdf\")"
   ]
  },
  {
   "cell_type": "code",
   "execution_count": 176,
   "metadata": {},
   "outputs": [
    {
     "data": {
      "text/plain": [
       "'/home/blitt/projects/localNews/reports/figures/drafts/allStormsSeries.pdf'"
      ]
     },
     "execution_count": 176,
     "metadata": {},
     "output_type": "execute_result"
    }
   ],
   "source": [
    "FIG_PATH + \"allStormsSeries.pdf\""
   ]
  }
 ],
 "metadata": {
  "kernelspec": {
   "display_name": "Python 3",
   "language": "python",
   "name": "python3"
  },
  "language_info": {
   "codemirror_mode": {
    "name": "ipython",
    "version": 3
   },
   "file_extension": ".py",
   "mimetype": "text/x-python",
   "name": "python",
   "nbconvert_exporter": "python",
   "pygments_lexer": "ipython3",
   "version": "3.8.5"
  }
 },
 "nbformat": 4,
 "nbformat_minor": 4
}
