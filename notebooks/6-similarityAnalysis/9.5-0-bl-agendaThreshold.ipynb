{
 "cells": [
  {
   "cell_type": "code",
   "execution_count": 3,
   "metadata": {},
   "outputs": [],
   "source": [
    "#PLAN \n",
    "\n",
    "#load in storm dataframe\n",
    "\n",
    "#load in article dataframe \n",
    "\n",
    "#load in topics\n",
    "\n",
    "#merge everything \n",
    "#should be able to steal from other notebooks \n",
    "\n",
    "#for each storm: \n",
    "    #get time series without storm\n",
    "    #compute daily and weekly topic levels \n"
   ]
  },
  {
   "cell_type": "code",
   "execution_count": 4,
   "metadata": {},
   "outputs": [],
   "source": [
    "import pandas as pd\n",
    "import networkx as nx\n",
    "import numpy as np\n",
    "import matplotlib.pyplot as plt\n",
    "import seaborn as sns\n",
    "import pickle\n",
    "import statsmodels.api as sm\n",
    "import statsmodels.formula.api as smf\n",
    "from ast import literal_eval"
   ]
  },
  {
   "cell_type": "code",
   "execution_count": 6,
   "metadata": {},
   "outputs": [
    {
     "name": "stderr",
     "output_type": "stream",
     "text": [
      "<ipython-input-6-99570a450603>:9: DtypeWarning: Columns (4,5,12,13,15,16,19) have mixed types. Specify dtype option on import or set low_memory=False.\n",
      "  artDf = pd.read_csv(ARTICLES_PATH, sep=\"\\t\")\n"
     ]
    }
   ],
   "source": [
    "N_TOPICS = 30\n",
    "\n",
    "\n",
    "STORMS_PATH  = \"/shared/3/projects/newsDiffusion/data/processed/stormDfs/20000_90_storms.tsv\"\n",
    "ARTICLES_PATH = \"/shared/3/projects/newsDiffusion/data/processed/fullDataWith20000.tsv\"\n",
    "EMBEDS_PATH = \"/shared/3/projects/newsDiffusion/data/processed/articleEmbeddings/embeddings.pkl\"\n",
    "\n",
    "stormsDf = pd.read_csv(STORMS_PATH, sep=\"\\t\")\n",
    "artDf = pd.read_csv(ARTICLES_PATH, sep=\"\\t\")\n",
    "\n",
    "artDf = artDf.drop(columns=[\"Unnamed: 0\"])\n",
    "stormsDf = stormsDf.drop(columns=[\"Unnamed: 0\"])"
   ]
  },
  {
   "cell_type": "code",
   "execution_count": 7,
   "metadata": {},
   "outputs": [],
   "source": [
    "#should be fine to leave all articles in, because we are just grabbing right before the storm starts "
   ]
  },
  {
   "cell_type": "code",
   "execution_count": 8,
   "metadata": {},
   "outputs": [],
   "source": [
    "#a dictionary so we can get the embeddings we need quickly \n",
    "#embeddingsDict = embeddingsDf.set_index(\"key\").to_dict(orient=\"index\")\n",
    "embedsFile = open(EMBEDS_PATH, \"rb\")\n",
    "embeddingsDict = pickle.load(embedsFile)"
   ]
  },
  {
   "cell_type": "code",
   "execution_count": 9,
   "metadata": {},
   "outputs": [],
   "source": [
    "SCOL = \"20000_90\""
   ]
  },
  {
   "cell_type": "code",
   "execution_count": 10,
   "metadata": {},
   "outputs": [],
   "source": [
    "stormsDf[SCOL + \"_storm\"] = True"
   ]
  },
  {
   "cell_type": "code",
   "execution_count": 11,
   "metadata": {},
   "outputs": [],
   "source": [
    "merged = pd.merge(artDf, stormsDf.drop(columns=[SCOL]), on=\"key\", how=\"left\")"
   ]
  },
  {
   "cell_type": "code",
   "execution_count": 12,
   "metadata": {},
   "outputs": [],
   "source": [
    "#load in our topics \n",
    "cols = [\"dummy\", \"key\"] + list(range(0, N_TOPICS))\n",
    "docTopics = pd.read_csv(\"/shared/3/projects/newsDiffusion/data/interim/topicModelling/30/doc_topics.txt\", sep=\"\\t\", names=cols)\n",
    "\n",
    "#load in the words associated with topics \n",
    "topicWords = pd.read_csv(\"/shared/3/projects/newsDiffusion/data/interim/topicModelling/30/topic_keys.txt\", sep=\"\\t\", \\\n",
    "                         names=[\"topicNum\", \"dummy\", \"words\"], usecols=[\"topicNum\", \"words\"])\n",
    "\n",
    "merged = pd.merge(merged, docTopics.drop(columns=[\"dummy\"]), on=\"key\", how=\"left\")"
   ]
  },
  {
   "cell_type": "code",
   "execution_count": 13,
   "metadata": {},
   "outputs": [],
   "source": [
    "SCOL = \"20000_90\""
   ]
  },
  {
   "cell_type": "code",
   "execution_count": 14,
   "metadata": {},
   "outputs": [],
   "source": [
    "merged[\"date\"] = pd.to_datetime(merged[\"date\"])"
   ]
  },
  {
   "cell_type": "code",
   "execution_count": 15,
   "metadata": {},
   "outputs": [],
   "source": [
    "from tqdm import tqdm"
   ]
  },
  {
   "cell_type": "code",
   "execution_count": 16,
   "metadata": {},
   "outputs": [],
   "source": [
    "merged[SCOL + \"_storm\"] = merged[SCOL + \"_storm\"].fillna(False)"
   ]
  },
  {
   "cell_type": "code",
   "execution_count": 17,
   "metadata": {},
   "outputs": [],
   "source": [
    "def maxTopics(inRow): \n",
    "    maxElem = 0\n",
    "    maxTopic = 0 \n",
    "    for i, item in enumerate(inRow): \n",
    "        if item > maxElem: \n",
    "            maxElem = item\n",
    "            maxTopic = i \n",
    "            \n",
    "    #to test we can run: return (maxTopic, maxElem)\n",
    "    return maxTopic"
   ]
  },
  {
   "cell_type": "code",
   "execution_count": 18,
   "metadata": {},
   "outputs": [],
   "source": [
    "ENT_PATH = \"/shared/3/projects/newsDiffusion/data/interim/NEREmbedding/NERIndexPickled.pkl\"\n",
    "\n",
    "#this is the df with our inverted index in it\n",
    "entDf = pd.read_pickle(ENT_PATH)"
   ]
  },
  {
   "cell_type": "code",
   "execution_count": 19,
   "metadata": {},
   "outputs": [],
   "source": [
    "entDf = entDf[[\"key\", \"entity\"]].groupby(\"key\").agg(set)"
   ]
  },
  {
   "cell_type": "code",
   "execution_count": null,
   "metadata": {},
   "outputs": [],
   "source": [
    "#TODO: we want to write a function that removes any article in beforeDf or afterDf that has a similarity score of .8 or \n",
    "#greater with any article in stormRows \n",
    "\n",
    "#take in the keys for the storm rows and the \n",
    "#keys for the rows corresponding to time period before and after \n",
    "def getStormSims(stormKeys, otherKeys): \n",
    "    simList = []\n",
    "    lKeyList = []\n",
    "    rKeyList = []\n",
    "\n",
    "\n",
    "    #within each list of article keys, consider the unique pairs \n",
    "    #and get their cosine similarities \n",
    "    #for i in range(0, len(entGroup)): \n",
    "    stormMat = np.matrix([embeddingsDict[key][\"embedding\"] for key in stormKeys])\n",
    "    otherMat = np.matrix([embeddingsDict[key][\"embedding\"] for key in otherKeys])\n",
    "    pairSims = cosine_similarity(stormMat, otherMat).flatten()\n",
    "    entGroup = np.array(entGroup)\n",
    "\n",
    "    greaterThan = np.where(pairSims > .8)\n",
    "    simList.append(pairSims[greaterThan])\n",
    "\n",
    "    #get the equivalent row and column indices to what we have in the flattened array \n",
    "    left = [math.floor(index / len(entGroup)) for index in greaterThan[0]]\n",
    "    right = [index % len(entGroup) for index in greaterThan[0]]\n",
    "\n",
    "    #get the keys corresponding to the elements we selected from the list \n",
    "    lKeyList.append(entGroup[left])\n",
    "    rKeyList.append(entGroup[right])\n",
    "    \n",
    "\n",
    "#TODO: also measure whether topic diversity decreases "
   ]
  },
  {
   "cell_type": "code",
   "execution_count": 22,
   "metadata": {},
   "outputs": [],
   "source": [
    "from collections import Counter"
   ]
  },
  {
   "cell_type": "code",
   "execution_count": 27,
   "metadata": {},
   "outputs": [
    {
     "data": {
      "text/plain": [
       "129835"
      ]
     },
     "execution_count": 27,
     "metadata": {},
     "output_type": "execute_result"
    }
   ],
   "source": []
  },
  {
   "cell_type": "code",
   "execution_count": 329,
   "metadata": {},
   "outputs": [],
   "source": [
    "#calculate entropy from a list of occurences in diff categories\n",
    "def entropy(inList): \n",
    "    ics = []\n",
    "    for prob in inList: \n",
    "        ics.append(prob * np.log(prob))\n",
    "    return -sum(ics)"
   ]
  },
  {
   "cell_type": "code",
   "execution_count": 279,
   "metadata": {},
   "outputs": [
    {
     "name": "stderr",
     "output_type": "stream",
     "text": [
      "100%|██████████| 98/98 [03:20<00:00,  2.04s/it]\n"
     ]
    }
   ],
   "source": [
    "#NEW ANALYSIS, aggregate at each outlet's average topic percentage \n",
    "pd.options.mode.chained_assignment = None  # default='warn'\n",
    "\n",
    "#for results/analysis dataframes\n",
    "mResults = []\n",
    "regDfs = []\n",
    "regDfsNoStorms = []\n",
    "entDfs = []\n",
    "\n",
    "#for each storm \n",
    "stormClusts = list(stormsDf[SCOL].unique())\n",
    "for clustNum in tqdm(stormClusts): \n",
    "    stormRows = merged[merged[SCOL] == clustNum]\n",
    "    fDay = min(stormRows[\"date\"])\n",
    "    bCutoff = fDay - np.timedelta64(14, \"D\")\n",
    "    aCutoff = fDay + np.timedelta64(14, \"D\")\n",
    "    \n",
    "    stormOutlets = list(stormRows[\"source\"].unique()) \n",
    "    \n",
    "    #p for patrol\n",
    "    pSources = literal_eval(stormRows[\"20000_90_storm_source\"].iloc[0])\n",
    "    \n",
    "    #get all coverage from two weeks before and two weeks after first day\n",
    "    #and keep the storm rows removed\n",
    "    beforeDf = merged[(merged[\"source\"].isin(stormOutlets)) & (merged[\"date\"] >= bCutoff) & (merged[\"date\"] < fDay)]\n",
    "    \n",
    "    afterDf = merged[(merged[\"source\"].isin(stormOutlets)) & (merged[\"date\"] <= aCutoff) & (merged[\"date\"] >= fDay )]\n",
    "    afterDfNoStorms = merged[(merged[\"source\"].isin(stormOutlets)) & (merged[SCOL + \"_storm\"] == False) & (merged[\"date\"] <= aCutoff) & (merged[\"date\"] >= fDay )]\n",
    "    \n",
    "    #get the topic that the storm is \"about\"\n",
    "    stormTopic =  Counter(list(stormRows[list(range(0, N_TOPICS))].apply(maxTopics, axis=1))).most_common()[0][0]\n",
    "    \n",
    "    #set up topic proportion regression model! \n",
    "    beforeDf[\"rDate\"] = (beforeDf[\"date\"] - fDay) / np.timedelta64(1, \"D\")\n",
    "    beforeDf[\"treated\"] = \"0\"\n",
    "\n",
    "    #after df with storms included \n",
    "    afterDf[\"rDate\"] = (afterDf[\"date\"] - fDay) / np.timedelta64(1, \"D\")\n",
    "    afterDf[\"treated\"] = \"1\"\n",
    "    \n",
    "    #after df with storm articles removed \n",
    "    afterDfNoStorms[\"rDate\"] = (afterDfNoStorms[\"date\"] - fDay) / np.timedelta64(1, \"D\")\n",
    "    afterDfNoStorms[\"treated\"] = \"1\"\n",
    "    \n",
    "    regCols = [\"rDate\", \"treated\", stormTopic]\n",
    "    regDf = pd.concat([beforeDf[regCols], afterDf[regCols]]) \n",
    "    regDf[\"stormNum\"] = clustNum\n",
    "    regDf = regDf.rename(columns={stormTopic:\"topicLevel\"}) \n",
    "    regDf[\"stormSize\"] = len(stormRows)\n",
    "    \n",
    "    regDfNoStorms = pd.concat([beforeDf[regCols], afterDfNoStorms[regCols]]) \n",
    "    regDfNoStorms[\"stormNum\"] = clustNum\n",
    "    regDfNoStorms = regDfNoStorms.rename(columns={stormTopic:\"topicLevel\"}) \n",
    "    regDfNoStorms[\"stormSize\"] = len(stormRows)\n",
    "    \n",
    "    regDfs.append(regDf)\n",
    "    regDfsNoStorms.append(regDfNoStorms)"
   ]
  },
  {
   "cell_type": "code",
   "execution_count": 280,
   "metadata": {},
   "outputs": [],
   "source": [
    "#this version has storms left in!\n",
    "pooledDf = pd.concat(regDfs)\n",
    "pooledDf.shape\n",
    "pooledDf[\"topicLevel\"] = pooledDf[\"topicLevel\"] * 100\n",
    "\n",
    "#get average number of topics in the before storm period \n",
    "topicNormDf = pooledDf.groupby([\"stormNum\", \"treated\"]).agg(list).reset_index()\n",
    "topicNormDf = topicNormDf[topicNormDf[\"treated\"] == \"0\"]\n",
    "topicNormDf[\"meanLevel\"] = topicNormDf[\"topicLevel\"].apply(np.mean)\n",
    "\n",
    "#center topic levels around average of before storm period \n",
    "pooledDf = pd.merge(pooledDf, topicNormDf[[\"stormNum\", \"meanLevel\"]], on=\"stormNum\", how=\"left\") \n",
    "pooledDf[\"normLevel\"] = (pooledDf[\"topicLevel\"] - pooledDf[\"meanLevel\"]) + 100"
   ]
  },
  {
   "cell_type": "code",
   "execution_count": 281,
   "metadata": {},
   "outputs": [],
   "source": [
    "\n",
    "#save df \n",
    "wStormsDf = pooledDf.copy(deep=True)"
   ]
  },
  {
   "cell_type": "code",
   "execution_count": 282,
   "metadata": {},
   "outputs": [],
   "source": [
    "#this `aversion has storm articles taken out!\n",
    "pooledDf = pd.concat(regDfsNoStorms)\n",
    "pooledDf.shape\n",
    "pooledDf[\"topicLevel\"] = pooledDf[\"topicLevel\"] * 100\n",
    "\n",
    "#get average number of topics in the before storm period \n",
    "topicNormDf = pooledDf.groupby([\"stormNum\", \"treated\"]).agg(list).reset_index()\n",
    "topicNormDf = topicNormDf[topicNormDf[\"treated\"] == \"0\"]\n",
    "topicNormDf[\"meanLevel\"] = topicNormDf[\"topicLevel\"].apply(np.mean)\n",
    "\n",
    "#center topic levels around average of before storm period \n",
    "pooledDf = pd.merge(pooledDf, topicNormDf[[\"stormNum\", \"meanLevel\"]], on=\"stormNum\", how=\"left\") \n",
    "pooledDf[\"normLevel\"] = (pooledDf[\"topicLevel\"] - pooledDf[\"meanLevel\"]) + 100\n",
    "\n",
    "#save df \n",
    "noStormsDf = pooledDf.copy(deep=True)"
   ]
  },
  {
   "cell_type": "code",
   "execution_count": 235,
   "metadata": {},
   "outputs": [],
   "source": [
    "FIG_PATH = \"/home/blitt/projects/localNews/reports/figures/drafts/\"\n",
    "PALETTE = [\"#008837\", \"#7b3294\"]"
   ]
  },
  {
   "cell_type": "code",
   "execution_count": 252,
   "metadata": {},
   "outputs": [
    {
     "data": {
      "text/html": [
       "<div>\n",
       "<style scoped>\n",
       "    .dataframe tbody tr th:only-of-type {\n",
       "        vertical-align: middle;\n",
       "    }\n",
       "\n",
       "    .dataframe tbody tr th {\n",
       "        vertical-align: top;\n",
       "    }\n",
       "\n",
       "    .dataframe thead th {\n",
       "        text-align: right;\n",
       "    }\n",
       "</style>\n",
       "<table border=\"1\" class=\"dataframe\">\n",
       "  <thead>\n",
       "    <tr style=\"text-align: right;\">\n",
       "      <th></th>\n",
       "      <th>rDate</th>\n",
       "      <th>treated</th>\n",
       "      <th>topicLevel</th>\n",
       "      <th>stormNum</th>\n",
       "      <th>stormSize</th>\n",
       "      <th>meanLevel</th>\n",
       "      <th>normLevel</th>\n",
       "    </tr>\n",
       "  </thead>\n",
       "  <tbody>\n",
       "    <tr>\n",
       "      <th>0</th>\n",
       "      <td>-14.0</td>\n",
       "      <td>0</td>\n",
       "      <td>0.075758</td>\n",
       "      <td>359.0</td>\n",
       "      <td>93</td>\n",
       "      <td>3.097432</td>\n",
       "      <td>96.978325</td>\n",
       "    </tr>\n",
       "    <tr>\n",
       "      <th>1</th>\n",
       "      <td>-14.0</td>\n",
       "      <td>0</td>\n",
       "      <td>0.047081</td>\n",
       "      <td>359.0</td>\n",
       "      <td>93</td>\n",
       "      <td>3.097432</td>\n",
       "      <td>96.949649</td>\n",
       "    </tr>\n",
       "    <tr>\n",
       "      <th>2</th>\n",
       "      <td>-14.0</td>\n",
       "      <td>0</td>\n",
       "      <td>5.359765</td>\n",
       "      <td>359.0</td>\n",
       "      <td>93</td>\n",
       "      <td>3.097432</td>\n",
       "      <td>102.262333</td>\n",
       "    </tr>\n",
       "    <tr>\n",
       "      <th>3</th>\n",
       "      <td>-14.0</td>\n",
       "      <td>0</td>\n",
       "      <td>39.727011</td>\n",
       "      <td>359.0</td>\n",
       "      <td>93</td>\n",
       "      <td>3.097432</td>\n",
       "      <td>136.629579</td>\n",
       "    </tr>\n",
       "    <tr>\n",
       "      <th>4</th>\n",
       "      <td>-14.0</td>\n",
       "      <td>0</td>\n",
       "      <td>2.168950</td>\n",
       "      <td>359.0</td>\n",
       "      <td>93</td>\n",
       "      <td>3.097432</td>\n",
       "      <td>99.071517</td>\n",
       "    </tr>\n",
       "  </tbody>\n",
       "</table>\n",
       "</div>"
      ],
      "text/plain": [
       "   rDate treated  topicLevel  stormNum  stormSize  meanLevel   normLevel\n",
       "0  -14.0       0    0.075758     359.0         93   3.097432   96.978325\n",
       "1  -14.0       0    0.047081     359.0         93   3.097432   96.949649\n",
       "2  -14.0       0    5.359765     359.0         93   3.097432  102.262333\n",
       "3  -14.0       0   39.727011     359.0         93   3.097432  136.629579\n",
       "4  -14.0       0    2.168950     359.0         93   3.097432   99.071517"
      ]
     },
     "execution_count": 252,
     "metadata": {},
     "output_type": "execute_result"
    }
   ],
   "source": [
    "wStormsDf.head()"
   ]
  },
  {
   "cell_type": "code",
   "execution_count": 283,
   "metadata": {},
   "outputs": [],
   "source": [
    "beforeLevel = np.mean(wStormsDf.loc[wStormsDf[\"treated\"] == \"0\", \"topicLevel\"])"
   ]
  },
  {
   "cell_type": "code",
   "execution_count": 285,
   "metadata": {},
   "outputs": [
    {
     "ename": "ValueError",
     "evalue": "'yerr' must not contain negative values",
     "output_type": "error",
     "traceback": [
      "\u001b[0;31m---------------------------------------------------------------------------\u001b[0m",
      "\u001b[0;31mValueError\u001b[0m                                Traceback (most recent call last)",
      "\u001b[0;32m<ipython-input-285-3dfca34b5545>\u001b[0m in \u001b[0;36m<module>\u001b[0;34m\u001b[0m\n\u001b[1;32m      1\u001b[0m \u001b[0mfig\u001b[0m\u001b[0;34m,\u001b[0m \u001b[0maxs\u001b[0m \u001b[0;34m=\u001b[0m \u001b[0mplt\u001b[0m\u001b[0;34m.\u001b[0m\u001b[0msubplots\u001b[0m\u001b[0;34m(\u001b[0m\u001b[0;36m2\u001b[0m\u001b[0;34m,\u001b[0m \u001b[0mfigsize\u001b[0m\u001b[0;34m=\u001b[0m\u001b[0;34m(\u001b[0m\u001b[0;36m5\u001b[0m\u001b[0;34m,\u001b[0m \u001b[0;36m5\u001b[0m\u001b[0;34m)\u001b[0m\u001b[0;34m)\u001b[0m\u001b[0;34m\u001b[0m\u001b[0;34m\u001b[0m\u001b[0m\n\u001b[0;32m----> 2\u001b[0;31m sns.lineplot(data=wStormsDf, x=\"rDate\", y=\"topicLevel\", err_style=\"bars\", ax=axs[0], \\\n\u001b[0m\u001b[1;32m      3\u001b[0m              err_kws={\"elinewidth\":.7}, label=\"storm articles included\", color=PALETTE[0], estimator=\"mean\", n_boot=10)\n\u001b[1;32m      4\u001b[0m \u001b[0;34m\u001b[0m\u001b[0m\n\u001b[1;32m      5\u001b[0m \u001b[0;31m#ax[0].errorbar(x, y_mean, error, color='tab:blue', ecolor='tab:blue')\u001b[0m\u001b[0;34m\u001b[0m\u001b[0;34m\u001b[0m\u001b[0;34m\u001b[0m\u001b[0m\n",
      "\u001b[0;32m/opt/anaconda/lib/python3.8/site-packages/seaborn/relational.py\u001b[0m in \u001b[0;36mlineplot\u001b[0;34m(data, x, y, hue, size, style, units, palette, hue_order, hue_norm, sizes, size_order, size_norm, dashes, markers, style_order, estimator, errorbar, n_boot, seed, orient, sort, err_style, err_kws, legend, ci, ax, **kwargs)\u001b[0m\n\u001b[1;32m    643\u001b[0m     \u001b[0mkwargs\u001b[0m\u001b[0;34m[\u001b[0m\u001b[0;34m\"color\"\u001b[0m\u001b[0;34m]\u001b[0m \u001b[0;34m=\u001b[0m \u001b[0m_default_color\u001b[0m\u001b[0;34m(\u001b[0m\u001b[0max\u001b[0m\u001b[0;34m.\u001b[0m\u001b[0mplot\u001b[0m\u001b[0;34m,\u001b[0m \u001b[0mhue\u001b[0m\u001b[0;34m,\u001b[0m \u001b[0mcolor\u001b[0m\u001b[0;34m,\u001b[0m \u001b[0mkwargs\u001b[0m\u001b[0;34m)\u001b[0m\u001b[0;34m\u001b[0m\u001b[0;34m\u001b[0m\u001b[0m\n\u001b[1;32m    644\u001b[0m \u001b[0;34m\u001b[0m\u001b[0m\n\u001b[0;32m--> 645\u001b[0;31m     \u001b[0mp\u001b[0m\u001b[0;34m.\u001b[0m\u001b[0mplot\u001b[0m\u001b[0;34m(\u001b[0m\u001b[0max\u001b[0m\u001b[0;34m,\u001b[0m \u001b[0mkwargs\u001b[0m\u001b[0;34m)\u001b[0m\u001b[0;34m\u001b[0m\u001b[0;34m\u001b[0m\u001b[0m\n\u001b[0m\u001b[1;32m    646\u001b[0m     \u001b[0;32mreturn\u001b[0m \u001b[0max\u001b[0m\u001b[0;34m\u001b[0m\u001b[0;34m\u001b[0m\u001b[0m\n\u001b[1;32m    647\u001b[0m \u001b[0;34m\u001b[0m\u001b[0m\n",
      "\u001b[0;32m/opt/anaconda/lib/python3.8/site-packages/seaborn/relational.py\u001b[0m in \u001b[0;36mplot\u001b[0;34m(self, ax, kws)\u001b[0m\n\u001b[1;32m    501\u001b[0m                         )\n\u001b[1;32m    502\u001b[0m                     }\n\u001b[0;32m--> 503\u001b[0;31m                     ebars = ax.errorbar(\n\u001b[0m\u001b[1;32m    504\u001b[0m                         \u001b[0msub_data\u001b[0m\u001b[0;34m[\u001b[0m\u001b[0;34m\"x\"\u001b[0m\u001b[0;34m]\u001b[0m\u001b[0;34m,\u001b[0m \u001b[0msub_data\u001b[0m\u001b[0;34m[\u001b[0m\u001b[0;34m\"y\"\u001b[0m\u001b[0;34m]\u001b[0m\u001b[0;34m,\u001b[0m \u001b[0;34m**\u001b[0m\u001b[0merror_param\u001b[0m\u001b[0;34m,\u001b[0m\u001b[0;34m\u001b[0m\u001b[0;34m\u001b[0m\u001b[0m\n\u001b[1;32m    505\u001b[0m                         \u001b[0mlinestyle\u001b[0m\u001b[0;34m=\u001b[0m\u001b[0;34m\"\"\u001b[0m\u001b[0;34m,\u001b[0m \u001b[0mcolor\u001b[0m\u001b[0;34m=\u001b[0m\u001b[0mline_color\u001b[0m\u001b[0;34m,\u001b[0m \u001b[0malpha\u001b[0m\u001b[0;34m=\u001b[0m\u001b[0mline_alpha\u001b[0m\u001b[0;34m,\u001b[0m\u001b[0;34m\u001b[0m\u001b[0;34m\u001b[0m\u001b[0m\n",
      "\u001b[0;32m/opt/anaconda/lib/python3.8/site-packages/matplotlib/__init__.py\u001b[0m in \u001b[0;36minner\u001b[0;34m(ax, data, *args, **kwargs)\u001b[0m\n\u001b[1;32m   1440\u001b[0m     \u001b[0;32mdef\u001b[0m \u001b[0minner\u001b[0m\u001b[0;34m(\u001b[0m\u001b[0max\u001b[0m\u001b[0;34m,\u001b[0m \u001b[0;34m*\u001b[0m\u001b[0margs\u001b[0m\u001b[0;34m,\u001b[0m \u001b[0mdata\u001b[0m\u001b[0;34m=\u001b[0m\u001b[0;32mNone\u001b[0m\u001b[0;34m,\u001b[0m \u001b[0;34m**\u001b[0m\u001b[0mkwargs\u001b[0m\u001b[0;34m)\u001b[0m\u001b[0;34m:\u001b[0m\u001b[0;34m\u001b[0m\u001b[0;34m\u001b[0m\u001b[0m\n\u001b[1;32m   1441\u001b[0m         \u001b[0;32mif\u001b[0m \u001b[0mdata\u001b[0m \u001b[0;32mis\u001b[0m \u001b[0;32mNone\u001b[0m\u001b[0;34m:\u001b[0m\u001b[0;34m\u001b[0m\u001b[0;34m\u001b[0m\u001b[0m\n\u001b[0;32m-> 1442\u001b[0;31m             \u001b[0;32mreturn\u001b[0m \u001b[0mfunc\u001b[0m\u001b[0;34m(\u001b[0m\u001b[0max\u001b[0m\u001b[0;34m,\u001b[0m \u001b[0;34m*\u001b[0m\u001b[0mmap\u001b[0m\u001b[0;34m(\u001b[0m\u001b[0msanitize_sequence\u001b[0m\u001b[0;34m,\u001b[0m \u001b[0margs\u001b[0m\u001b[0;34m)\u001b[0m\u001b[0;34m,\u001b[0m \u001b[0;34m**\u001b[0m\u001b[0mkwargs\u001b[0m\u001b[0;34m)\u001b[0m\u001b[0;34m\u001b[0m\u001b[0;34m\u001b[0m\u001b[0m\n\u001b[0m\u001b[1;32m   1443\u001b[0m \u001b[0;34m\u001b[0m\u001b[0m\n\u001b[1;32m   1444\u001b[0m         \u001b[0mbound\u001b[0m \u001b[0;34m=\u001b[0m \u001b[0mnew_sig\u001b[0m\u001b[0;34m.\u001b[0m\u001b[0mbind\u001b[0m\u001b[0;34m(\u001b[0m\u001b[0max\u001b[0m\u001b[0;34m,\u001b[0m \u001b[0;34m*\u001b[0m\u001b[0margs\u001b[0m\u001b[0;34m,\u001b[0m \u001b[0;34m**\u001b[0m\u001b[0mkwargs\u001b[0m\u001b[0;34m)\u001b[0m\u001b[0;34m\u001b[0m\u001b[0;34m\u001b[0m\u001b[0m\n",
      "\u001b[0;32m/opt/anaconda/lib/python3.8/site-packages/matplotlib/axes/_axes.py\u001b[0m in \u001b[0;36merrorbar\u001b[0;34m(self, x, y, yerr, xerr, fmt, ecolor, elinewidth, capsize, barsabove, lolims, uplims, xlolims, xuplims, errorevery, capthick, **kwargs)\u001b[0m\n\u001b[1;32m   3640\u001b[0m             \u001b[0;32mif\u001b[0m \u001b[0mnp\u001b[0m\u001b[0;34m.\u001b[0m\u001b[0many\u001b[0m\u001b[0;34m(\u001b[0m\u001b[0mnp\u001b[0m\u001b[0;34m.\u001b[0m\u001b[0mless\u001b[0m\u001b[0;34m(\u001b[0m\u001b[0merr\u001b[0m\u001b[0;34m,\u001b[0m \u001b[0;34m-\u001b[0m\u001b[0merr\u001b[0m\u001b[0;34m,\u001b[0m \u001b[0mout\u001b[0m\u001b[0;34m=\u001b[0m\u001b[0mres\u001b[0m\u001b[0;34m,\u001b[0m \u001b[0mwhere\u001b[0m\u001b[0;34m=\u001b[0m\u001b[0;34m(\u001b[0m\u001b[0merr\u001b[0m \u001b[0;34m==\u001b[0m \u001b[0merr\u001b[0m\u001b[0;34m)\u001b[0m\u001b[0;34m)\u001b[0m\u001b[0;34m)\u001b[0m\u001b[0;34m:\u001b[0m\u001b[0;34m\u001b[0m\u001b[0;34m\u001b[0m\u001b[0m\n\u001b[1;32m   3641\u001b[0m                 \u001b[0;31m# like err<0, but also works for timedelta and nan.\u001b[0m\u001b[0;34m\u001b[0m\u001b[0;34m\u001b[0m\u001b[0;34m\u001b[0m\u001b[0m\n\u001b[0;32m-> 3642\u001b[0;31m                 raise ValueError(\n\u001b[0m\u001b[1;32m   3643\u001b[0m                     f\"'{dep_axis}err' must not contain negative values\")\n\u001b[1;32m   3644\u001b[0m             \u001b[0;31m# This is like\u001b[0m\u001b[0;34m\u001b[0m\u001b[0;34m\u001b[0m\u001b[0;34m\u001b[0m\u001b[0m\n",
      "\u001b[0;31mValueError\u001b[0m: 'yerr' must not contain negative values"
     ]
    },
    {
     "data": {
      "image/png": "[encoded data removed]",
      "text/plain": [
       "<Figure size 360x360 with 2 Axes>"
      ]
     },
     "metadata": {
      "needs_background": "light"
     },
     "output_type": "display_data"
    }
   ],
   "source": [
    "fig, axs = plt.subplots(2, figsize=(5, 5))\n",
    "sns.lineplot(data=wStormsDf, x=\"rDate\", y=\"topicLevel\", err_style=\"bars\", ax=axs[0], \\\n",
    "             err_kws={\"elinewidth\":.7}, label=\"storm articles included\", color=PALETTE[0], estimator=\"mean\", n_boot=10)\n",
    "\n",
    "#ax[0].errorbar(x, y_mean, error, color='tab:blue', ecolor='tab:blue')\n",
    "sns.lineplot(data=noStormsDf, x=\"rDate\", err_kws={\"elinewidth\":.7}, y=\"topicLevel\", n_boot=10, err_style=\"bars\", ax=axs[1], label=\"storm articles excluded\", color=PALETTE[1], estimator=\"mean\")\n",
    "\n",
    "axs[0].set_title(\"Storm Topic Percentages Before & During Storms\")\n",
    "axs[0].set_xlabel(\"\")\n",
    "axs[0].set_ylabel(\"\")\n",
    "axs[0].set_ylim(4, 12)\n",
    "axs[0].axvline(0, color=\"grey\", alpha=.5, linestyle=\"dashed\")\n",
    "axs[0].axhline(beforeLevel, color=\"grey\", alpha=.5, linestyle=\"dashed\")\n",
    "axs[0].set_xticks([])\n",
    "#axs[0].set_xticklabels(None)\n",
    "\n",
    "#axs[1].set_title(\"Change in Storm Topic Percentages Before and After Media Storms\")\n",
    "axs[1].set_xlabel(\"Day Relative to Storm\")\n",
    "axs[1].set_ylabel(\"\")\n",
    "axs[1].set_ylim(4, 12)\n",
    "axs[1].axvline(0, color=\"grey\", alpha=.5, linestyle=\"dashed\")\n",
    "axs[1].axhline(beforeLevel, color=\"grey\", alpha=.5, linestyle=\"dashed\")\n",
    "\n",
    "fig.text(0.02, 0.5, \"Average Topic %\", va='center', rotation='vertical')\n",
    "\n",
    "axs[0].legend(loc=\"lower right\")\n",
    "axs[1].legend(loc=\"lower right\")\n",
    "#plt.tight_layout()\n",
    "#caption idea \n",
    "\n",
    "#plt.savefig(FIG_PATH + \"topicSeriesStacked.pdf\", bbox_inches=\"tight\")"
   ]
  },
  {
   "cell_type": "code",
   "execution_count": 298,
   "metadata": {},
   "outputs": [
    {
     "data": {
      "image/png": "[encoded data removed]",
      "text/plain": [
       "<Figure size 360x216 with 1 Axes>"
      ]
     },
     "metadata": {
      "needs_background": "light"
     },
     "output_type": "display_data"
    }
   ],
   "source": [
    "fig, ax = plt.subplots(1, figsize=(5, 3))\n",
    "sns.lineplot(data=wStormsDf, x=\"rDate\", y=\"topicLevel\", err_style=\"bars\", ax=ax, \\\n",
    "             err_kws={\"elinewidth\":.7}, label=\"storm articles included\", color=PALETTE[0], estimator=\"mean\", n_boot=100)\n",
    "\n",
    "sns.lineplot(data=noStormsDf, x=\"rDate\", err_kws={\"elinewidth\":.7}, y=\"topicLevel\", err_style=\"bars\", ax=ax, label=\"storm articles excluded\", color=PALETTE[1], estimator=\"mean\", n_boot=100)\n",
    "\n",
    "ax.set_title(\"\")\n",
    "ax.set_xlabel(\"Day Relative to Storm\", size=12)\n",
    "ax.set_ylabel(\"Average Topic %\", size=12)\n",
    "ax.set_ylim(4.5, 7.51)\n",
    "ax.axvline(-.03, color=\"grey\", alpha=.3, linestyle=\"dashed\")\n",
    "ax.axhline(beforeLevel, color=\"grey\", alpha=.3, linestyle=\"dashed\")\n",
    "ax.legend(loc=\"lower right\")\n",
    "\n",
    "plt.savefig(FIG_PATH + \"StormOutletsTopicSeries.pdf\", bbox_inches=\"tight\")"
   ]
  },
  {
   "cell_type": "code",
   "execution_count": 299,
   "metadata": {},
   "outputs": [],
   "source": [
    "#get diff from mean coverage before to peak after \n",
    "#diff of 1.58%\n",
    "stormDiff = np.mean(wStormsDf.loc[wStormsDf[\"rDate\"] == 1, \"topicLevel\"]) - np.mean(wStormsDf.loc[wStormsDf[\"rDate\"] < 0, \"topicLevel\"]) \n",
    "print(stormDiff)\n",
    "\n",
    "#diff of 1.10%\n",
    "nonStormDiff = np.mean(noStormsDf.loc[noStormsDf[\"rDate\"] == 1, \"topicLevel\"]) - np.mean(noStormsDf.loc[noStormsDf[\"rDate\"] < 0, \"topicLevel\"]) \n",
    "print(nonStormDiff)"
   ]
  },
  {
   "cell_type": "code",
   "execution_count": 291,
   "metadata": {},
   "outputs": [
    {
     "name": "stdout",
     "output_type": "stream",
     "text": [
      "1.9721365855190438\n",
      "1.4938895730964195\n"
     ]
    }
   ],
   "source": [
    "#day 1 - day 15: increase of 1.97%\n",
    "stormDiff = np.mean(wStormsDf.loc[wStormsDf[\"rDate\"] == 1, \"topicLevel\"]) - np.mean(wStormsDf.loc[wStormsDf[\"rDate\"] == -14, \"topicLevel\"]) \n",
    "print(stormDiff)\n",
    "\n",
    "#day 1 - day 15: \n",
    "nonStormDiff = np.mean(noStormsDf.loc[noStormsDf[\"rDate\"] == 1, \"topicLevel\"]) - np.mean(noStormsDf.loc[noStormsDf[\"rDate\"] == -14, \"topicLevel\"]) \n",
    "print(nonStormDiff)"
   ]
  },
  {
   "cell_type": "code",
   "execution_count": 180,
   "metadata": {},
   "outputs": [],
   "source": [
    "monthFrame = merged[(merged[\"date\"] >= \"01-01-2020\") & (merged[\"date\"] <= \"02-01-2020\")]"
   ]
  },
  {
   "cell_type": "code",
   "execution_count": 186,
   "metadata": {},
   "outputs": [],
   "source": [
    "dailyAvgs = monthFrame[[\"date\", \"source\"] + list(range(0, 30))].groupby(\"date\").agg(np.mean).reset_index()"
   ]
  },
  {
   "cell_type": "code",
   "execution_count": 130,
   "metadata": {},
   "outputs": [
    {
     "name": "stderr",
     "output_type": "stream",
     "text": [
      "  7%|▋         | 7/98 [00:06<01:23,  1.10it/s]\n"
     ]
    },
    {
     "ename": "KeyboardInterrupt",
     "evalue": "",
     "output_type": "error",
     "traceback": [
      "\u001b[0;31m---------------------------------------------------------------------------\u001b[0m",
      "\u001b[0;31mKeyboardInterrupt\u001b[0m                         Traceback (most recent call last)",
      "\u001b[0;32m<ipython-input-130-81324b185b73>\u001b[0m in \u001b[0;36m<module>\u001b[0;34m\u001b[0m\n\u001b[1;32m     21\u001b[0m     \u001b[0;31m#get all coverage from two weeks before and two weeks after first day\u001b[0m\u001b[0;34m\u001b[0m\u001b[0;34m\u001b[0m\u001b[0;34m\u001b[0m\u001b[0m\n\u001b[1;32m     22\u001b[0m     \u001b[0;31m#and keep the storm rows removed\u001b[0m\u001b[0;34m\u001b[0m\u001b[0;34m\u001b[0m\u001b[0;34m\u001b[0m\u001b[0m\n\u001b[0;32m---> 23\u001b[0;31m     \u001b[0mbeforeDf\u001b[0m \u001b[0;34m=\u001b[0m \u001b[0mmerged\u001b[0m\u001b[0;34m[\u001b[0m\u001b[0;34m(\u001b[0m\u001b[0mmerged\u001b[0m\u001b[0;34m[\u001b[0m\u001b[0;34m\"source\"\u001b[0m\u001b[0;34m]\u001b[0m\u001b[0;34m.\u001b[0m\u001b[0misin\u001b[0m\u001b[0;34m(\u001b[0m\u001b[0mpSources\u001b[0m\u001b[0;34m)\u001b[0m\u001b[0;34m)\u001b[0m \u001b[0;34m&\u001b[0m \u001b[0;34m(\u001b[0m\u001b[0mmerged\u001b[0m\u001b[0;34m[\u001b[0m\u001b[0;34m\"date\"\u001b[0m\u001b[0;34m]\u001b[0m \u001b[0;34m>=\u001b[0m \u001b[0mbCutoff\u001b[0m\u001b[0;34m)\u001b[0m \u001b[0;34m&\u001b[0m \u001b[0;34m(\u001b[0m\u001b[0mmerged\u001b[0m\u001b[0;34m[\u001b[0m\u001b[0;34m\"date\"\u001b[0m\u001b[0;34m]\u001b[0m \u001b[0;34m<\u001b[0m \u001b[0mfDay\u001b[0m\u001b[0;34m)\u001b[0m\u001b[0;34m]\u001b[0m\u001b[0;34m\u001b[0m\u001b[0;34m\u001b[0m\u001b[0m\n\u001b[0m\u001b[1;32m     24\u001b[0m     \u001b[0;31m#beforeDf = merged[(merged[\"date\"] >= bCutoff) & (merged[\"date\"] < fDay)]\u001b[0m\u001b[0;34m\u001b[0m\u001b[0;34m\u001b[0m\u001b[0;34m\u001b[0m\u001b[0m\n\u001b[1;32m     25\u001b[0m \u001b[0;34m\u001b[0m\u001b[0m\n",
      "\u001b[0;32m/opt/anaconda/lib/python3.8/site-packages/pandas/core/series.py\u001b[0m in \u001b[0;36misin\u001b[0;34m(self, values)\u001b[0m\n\u001b[1;32m   5400\u001b[0m         \u001b[0mdtype\u001b[0m\u001b[0;34m:\u001b[0m \u001b[0mbool\u001b[0m\u001b[0;34m\u001b[0m\u001b[0;34m\u001b[0m\u001b[0m\n\u001b[1;32m   5401\u001b[0m         \"\"\"\n\u001b[0;32m-> 5402\u001b[0;31m         \u001b[0mresult\u001b[0m \u001b[0;34m=\u001b[0m \u001b[0malgorithms\u001b[0m\u001b[0;34m.\u001b[0m\u001b[0misin\u001b[0m\u001b[0;34m(\u001b[0m\u001b[0mself\u001b[0m\u001b[0;34m.\u001b[0m\u001b[0m_values\u001b[0m\u001b[0;34m,\u001b[0m \u001b[0mvalues\u001b[0m\u001b[0;34m)\u001b[0m\u001b[0;34m\u001b[0m\u001b[0;34m\u001b[0m\u001b[0m\n\u001b[0m\u001b[1;32m   5403\u001b[0m         return self._constructor(result, index=self.index, copy=False).__finalize__(\n\u001b[1;32m   5404\u001b[0m             \u001b[0mself\u001b[0m\u001b[0;34m,\u001b[0m \u001b[0mmethod\u001b[0m\u001b[0;34m=\u001b[0m\u001b[0;34m\"isin\"\u001b[0m\u001b[0;34m\u001b[0m\u001b[0;34m\u001b[0m\u001b[0m\n",
      "\u001b[0;32m/opt/anaconda/lib/python3.8/site-packages/pandas/core/algorithms.py\u001b[0m in \u001b[0;36misin\u001b[0;34m(comps, values)\u001b[0m\n\u001b[1;32m    528\u001b[0m         \u001b[0mf\u001b[0m \u001b[0;34m=\u001b[0m \u001b[0mhtable\u001b[0m\u001b[0;34m.\u001b[0m\u001b[0mismember\u001b[0m\u001b[0;34m\u001b[0m\u001b[0;34m\u001b[0m\u001b[0m\n\u001b[1;32m    529\u001b[0m \u001b[0;34m\u001b[0m\u001b[0m\n\u001b[0;32m--> 530\u001b[0;31m     \u001b[0;32mreturn\u001b[0m \u001b[0mf\u001b[0m\u001b[0;34m(\u001b[0m\u001b[0mcomps_array\u001b[0m\u001b[0;34m,\u001b[0m \u001b[0mvalues\u001b[0m\u001b[0;34m)\u001b[0m\u001b[0;34m\u001b[0m\u001b[0;34m\u001b[0m\u001b[0m\n\u001b[0m\u001b[1;32m    531\u001b[0m \u001b[0;34m\u001b[0m\u001b[0m\n\u001b[1;32m    532\u001b[0m \u001b[0;34m\u001b[0m\u001b[0m\n",
      "\u001b[0;31mKeyboardInterrupt\u001b[0m: "
     ]
    }
   ],
   "source": [
    "pd.options.mode.chained_assignment = None  # default='warn'\n",
    "\n",
    "#for results/analysis dataframes\n",
    "mResults = []\n",
    "regDfs = []\n",
    "entDfs = []\n",
    "\n",
    "#for each storm \n",
    "stormClusts = list(stormsDf[SCOL].unique())\n",
    "for clustNum in tqdm(stormClusts): \n",
    "    stormRows = merged[merged[SCOL] == clustNum]\n",
    "    fDay = min(stormRows[\"date\"])\n",
    "    bCutoff = fDay - np.timedelta64(7, \"D\")\n",
    "    aCutoff = fDay + np.timedelta64(7, \"D\")\n",
    "    \n",
    "    stormOutlets = list(stormRows[\"source\"].unique()) \n",
    "    \n",
    "    #p for patrol\n",
    "    pSources = literal_eval(stormRows[\"20000_90_storm_source\"].iloc[0])\n",
    "    \n",
    "    #get all coverage from two weeks before and two weeks after first day\n",
    "    #and keep the storm rows removed\n",
    "    beforeDf = merged[(merged[\"source\"].isin(pSources)) & (merged[\"date\"] >= bCutoff) & (merged[\"date\"] < fDay)]\n",
    "    #beforeDf = merged[(merged[\"date\"] >= bCutoff) & (merged[\"date\"] < fDay)]\n",
    "    \n",
    "    #afterDf = merged[(merged[\"date\"] <= aCutoff) & (merged[\"date\"] > fDay ) & (merged[SCOL + \"_storm\"] == False)]\n",
    "    afterDf = merged[(merged[\"source\"].isin(pSources)) & (merged[SCOL + \"_storm\"] == False) & (merged[\"date\"] <= aCutoff) & (merged[\"date\"] >= fDay )]\n",
    "    #afterDf = merged[(merged[SCOL + \"_storm\"] == False) & (merged[\"date\"] <= aCutoff) & (merged[\"date\"] >= fDay )]\n",
    "    \n",
    "    #beforeSums = beforeDf[list(range(0, N_TOPICS))].apply(np.nansum)\n",
    "    #afterSums = afterDf[list(range(0, N_TOPICS))].apply(np.nansum)\n",
    "    \n",
    "    \"\"\"\n",
    "    this is if we want to use only articles about that topic \n",
    "    #topic distributions from before \n",
    "    beforeCounts = Counter(list(beforeDf[list(range(0, N_TOPICS))].apply(maxTopics, axis=1)))\n",
    "\n",
    "    #topic distribtions from after \n",
    "    afterCounts = Counter(list(afterDf[list(range(0, N_TOPICS))].apply(maxTopics, axis=1)))\n",
    "    \"\"\"\n",
    "\n",
    "    #get the topic that the storm is \"about\"\n",
    "    stormTopic =  Counter(list(stormRows[list(range(0, N_TOPICS))].apply(maxTopics, axis=1))).most_common()[0][0]\n",
    "    \n",
    "    #set up topic proportion regression model! \n",
    "    beforeDf[\"rDate\"] = (beforeDf[\"date\"] - fDay) / np.timedelta64(1, \"D\")\n",
    "    beforeDf[\"DoW\"] = beforeDf[\"date\"].dt.dayofweek\n",
    "    beforeDf[\"treated\"] = \"0\"\n",
    "\n",
    "    afterDf[\"rDate\"] = (afterDf[\"date\"] - fDay) / np.timedelta64(1, \"D\")\n",
    "    afterDf[\"DoW\"] = afterDf[\"date\"].dt.dayofweek\n",
    "\n",
    "    afterDf[\"treated\"] = \"1\"\n",
    "\n",
    "    regCols = [\"rDate\", \"DoW\", \"treated\", stormTopic]\n",
    "    regDf = pd.concat([beforeDf[regCols], afterDf[regCols]]) \n",
    "    regDf[\"DoW\"] = regDf[\"DoW\"].astype(object)\n",
    "    regDf[\"stormNum\"] = clustNum\n",
    "    regDf = regDf.rename(columns={stormTopic:\"topicLevel\"}) \n",
    "    regDf[\"stormSize\"] = len(stormRows)\n",
    "    \n",
    "    #regDf = regDf.rename(columns={stormTopic:\"c\" + str(stormTopic)})\n",
    "\n",
    "    mod = smf.ols(formula=\"topicLevel ~ DoW + rDate + treated + rDate:treated\", data=regDf)\n",
    "    res = mod.fit()\n",
    "    params = (stormTopic, clustNum, res.params[\"treated[T.1]\"], res.pvalues[\"treated[T.1]\"], res.params[\"rDate\"], res.pvalues[\"rDate\"], res.params[\"rDate:treated[T.1]\"], res.pvalues[\"rDate:treated[T.1]\"])\n",
    "    \n",
    "    #append topic prop. model results \n",
    "    mResults.append(params)\n",
    "    regDfs.append(regDf)\n",
    "    \n",
    "    #now do entropy calculations and get data in format for regression \n",
    "    beforeProbs = beforeDf[list(range(0, N_TOPICS)) + [\"rDate\"]].groupby(\"rDate\").agg(sum).apply(lambda x: x / sum(x), axis=1)\n",
    "    beforeEnt = beforeProbs.apply(entropy, axis=1)\n",
    "\n",
    "    afterProbs = afterDf[list(range(0, N_TOPICS)) + [\"rDate\"]].groupby(\"rDate\").agg(sum).apply(lambda x: x / sum(x), axis=1)\n",
    "    afterEnt = afterProbs.apply(entropy, axis=1)\n",
    "\n",
    "    entDf = pd.concat([afterEnt, beforeEnt]).reset_index()\n",
    "    entDf.columns = [\"rDate\", \"entropy\"]\n",
    "    entDf[\"treated\"] = entDf[\"rDate\"] >= 0\n",
    "    entDf[\"storm\"] = clustNum\n",
    "    entDf[\"stormSize\"] = len(stormRows)\n",
    "    \n",
    "    #just do a pooled model here.. \n",
    "    #probably not enough observations to get good unpooled model \n",
    "    entDfs.append(entDf)\n",
    "    \n",
    "    "
   ]
  },
  {
   "cell_type": "code",
   "execution_count": null,
   "metadata": {},
   "outputs": [],
   "source": [
    "mDf = pd.DataFrame(mResults)\n",
    "mDf.columns = [\"topic\", \"stormClust\", \"treated\", \"treated_p\", \"time\", \"time_p\", \"time:treated\", \"time:treated_p\"]"
   ]
  },
  {
   "cell_type": "code",
   "execution_count": null,
   "metadata": {},
   "outputs": [],
   "source": [
    "fig, ax = plt.subplots(figsize=(5, 5))\n",
    "sigDf = mDf[mDf[\"treated_p\"] <= .05]\n",
    "plt.hist(sigDf[\"treated\"], bins=np.arange(-.10, .10, .01))\n",
    "ax.set_xticks(np.arange(-.1, .1, .05))\n",
    "plt.axvline(0, color=\"red\")\n",
    "plt.show()\n",
    "\n",
    "print(f'average estimate for treatment is {np.mean(sigDf[\"treated\"])}')"
   ]
  },
  {
   "cell_type": "code",
   "execution_count": null,
   "metadata": {},
   "outputs": [],
   "source": [
    "fig, ax = plt.subplots(figsize=(5, 5))\n",
    "plt.hist(mDf[\"treated\"], bins=np.arange(-.10, .10, .01))\n",
    "ax.set_xticks(np.arange(-.1, .1, .05))\n",
    "plt.axvline(0, color=\"red\")\n",
    "plt.show()\n",
    "\n",
    "print(f'average estimate for treatment is {np.mean(mDf[\"treated\"])}')"
   ]
  },
  {
   "cell_type": "code",
   "execution_count": null,
   "metadata": {},
   "outputs": [],
   "source": [
    "np.mean(mDf[\"treated_p\"] < .05)"
   ]
  },
  {
   "cell_type": "code",
   "execution_count": 255,
   "metadata": {},
   "outputs": [
    {
     "data": {
      "image/png": "[encoded data removed]",
      "text/plain": [
       "<Figure size 360x360 with 1 Axes>"
      ]
     },
     "metadata": {
      "needs_background": "light"
     },
     "output_type": "display_data"
    },
    {
     "name": "stdout",
     "output_type": "stream",
     "text": [
      "average estimate for time:treatment is -0.002941040003385775\n"
     ]
    }
   ],
   "source": [
    "fig, ax = plt.subplots(figsize=(5, 5))\n",
    "sigDf = mDf[mDf[\"time:treated_p\"] <= .05]\n",
    "plt.hist(sigDf[\"time:treated\"], bins=np.arange(-.05, .05, .005))\n",
    "#ax.set_xticks(np.arange(-.1, .1, .05))\n",
    "plt.show()\n",
    "\n",
    "print(f'average estimate for time:treatment is {np.mean(sigDf[\"time:treated\"])}')"
   ]
  },
  {
   "cell_type": "code",
   "execution_count": 256,
   "metadata": {},
   "outputs": [
    {
     "data": {
      "image/png": "[encoded data removed]",
      "text/plain": [
       "<Figure size 360x360 with 1 Axes>"
      ]
     },
     "metadata": {
      "needs_background": "light"
     },
     "output_type": "display_data"
    },
    {
     "name": "stdout",
     "output_type": "stream",
     "text": [
      "average estimate for time:treatment is -0.0005897262853504437\n"
     ]
    }
   ],
   "source": [
    "fig, ax = plt.subplots(figsize=(5, 5))\n",
    "plt.hist(mDf[\"time:treated\"], bins=np.arange(-.05, .05, .005))\n",
    "#ax.set_xticks(np.arange(-.1, .1, .05))\n",
    "plt.show()\n",
    "\n",
    "print(f'average estimate for time:treatment is {np.mean(mDf[\"time:treated\"])}')"
   ]
  },
  {
   "cell_type": "code",
   "execution_count": 395,
   "metadata": {},
   "outputs": [],
   "source": [
    "pooledDf = pd.concat(regDfs)"
   ]
  },
  {
   "cell_type": "code",
   "execution_count": 396,
   "metadata": {},
   "outputs": [],
   "source": [
    "#easier to think in percents\n",
    "pooledDf[\"topicLevel\"] = pooledDf[\"topicLevel\"] * 100"
   ]
  },
  {
   "cell_type": "code",
   "execution_count": 397,
   "metadata": {},
   "outputs": [],
   "source": [
    "mod = smf.ols(formula=\"topicLevel ~ DoW + rDate + treated + rDate:treated\", data=pooledDf)\n",
    "\n",
    "res = mod.fit()\n",
    "params = (stormTopic, clustNum, res.params[\"treated[T.1]\"], res.pvalues[\"treated[T.1]\"], res.params[\"rDate\"], res.pvalues[\"rDate\"], res.params[\"rDate:treated[T.1]\"], res.pvalues[\"rDate:treated[T.1]\"])\n"
   ]
  },
  {
   "cell_type": "code",
   "execution_count": 398,
   "metadata": {},
   "outputs": [
    {
     "data": {
      "text/html": [
       "<table class=\"simpletable\">\n",
       "<caption>OLS Regression Results</caption>\n",
       "<tr>\n",
       "  <th>Dep. Variable:</th>       <td>topicLevel</td>    <th>  R-squared:         </th>  <td>   0.001</td>  \n",
       "</tr>\n",
       "<tr>\n",
       "  <th>Model:</th>                   <td>OLS</td>       <th>  Adj. R-squared:    </th>  <td>   0.001</td>  \n",
       "</tr>\n",
       "<tr>\n",
       "  <th>Method:</th>             <td>Least Squares</td>  <th>  F-statistic:       </th>  <td>   65.37</td>  \n",
       "</tr>\n",
       "<tr>\n",
       "  <th>Date:</th>             <td>Sat, 17 Jun 2023</td> <th>  Prob (F-statistic):</th>  <td>8.29e-121</td> \n",
       "</tr>\n",
       "<tr>\n",
       "  <th>Time:</th>                 <td>11:48:01</td>     <th>  Log-Likelihood:    </th> <td>-1.7566e+06</td>\n",
       "</tr>\n",
       "<tr>\n",
       "  <th>No. Observations:</th>      <td>412797</td>      <th>  AIC:               </th>  <td>3.513e+06</td> \n",
       "</tr>\n",
       "<tr>\n",
       "  <th>Df Residuals:</th>          <td>412787</td>      <th>  BIC:               </th>  <td>3.513e+06</td> \n",
       "</tr>\n",
       "<tr>\n",
       "  <th>Df Model:</th>              <td>     9</td>      <th>                     </th>      <td> </td>     \n",
       "</tr>\n",
       "<tr>\n",
       "  <th>Covariance Type:</th>      <td>nonrobust</td>    <th>                     </th>      <td> </td>     \n",
       "</tr>\n",
       "</table>\n",
       "<table class=\"simpletable\">\n",
       "<tr>\n",
       "           <td></td>             <th>coef</th>     <th>std err</th>      <th>t</th>      <th>P>|t|</th>  <th>[0.025</th>    <th>0.975]</th>  \n",
       "</tr>\n",
       "<tr>\n",
       "  <th>Intercept</th>          <td>    7.8045</td> <td>    0.107</td> <td>   73.246</td> <td> 0.000</td> <td>    7.596</td> <td>    8.013</td>\n",
       "</tr>\n",
       "<tr>\n",
       "  <th>DoW[T.1]</th>           <td>    0.0922</td> <td>    0.097</td> <td>    0.952</td> <td> 0.341</td> <td>   -0.098</td> <td>    0.282</td>\n",
       "</tr>\n",
       "<tr>\n",
       "  <th>DoW[T.2]</th>           <td>    0.0924</td> <td>    0.096</td> <td>    0.959</td> <td> 0.338</td> <td>   -0.096</td> <td>    0.281</td>\n",
       "</tr>\n",
       "<tr>\n",
       "  <th>DoW[T.3]</th>           <td>    0.0402</td> <td>    0.095</td> <td>    0.423</td> <td> 0.672</td> <td>   -0.146</td> <td>    0.227</td>\n",
       "</tr>\n",
       "<tr>\n",
       "  <th>DoW[T.4]</th>           <td>   -0.3401</td> <td>    0.097</td> <td>   -3.524</td> <td> 0.000</td> <td>   -0.529</td> <td>   -0.151</td>\n",
       "</tr>\n",
       "<tr>\n",
       "  <th>DoW[T.5]</th>           <td>   -0.2319</td> <td>    0.106</td> <td>   -2.186</td> <td> 0.029</td> <td>   -0.440</td> <td>   -0.024</td>\n",
       "</tr>\n",
       "<tr>\n",
       "  <th>DoW[T.6]</th>           <td>   -0.2317</td> <td>    0.108</td> <td>   -2.142</td> <td> 0.032</td> <td>   -0.444</td> <td>   -0.020</td>\n",
       "</tr>\n",
       "<tr>\n",
       "  <th>treated[T.1]</th>       <td>    0.9541</td> <td>    0.110</td> <td>    8.642</td> <td> 0.000</td> <td>    0.738</td> <td>    1.171</td>\n",
       "</tr>\n",
       "<tr>\n",
       "  <th>rDate</th>              <td>    0.1422</td> <td>    0.020</td> <td>    7.279</td> <td> 0.000</td> <td>    0.104</td> <td>    0.181</td>\n",
       "</tr>\n",
       "<tr>\n",
       "  <th>rDate:treated[T.1]</th> <td>   -0.2567</td> <td>    0.025</td> <td>  -10.265</td> <td> 0.000</td> <td>   -0.306</td> <td>   -0.208</td>\n",
       "</tr>\n",
       "</table>\n",
       "<table class=\"simpletable\">\n",
       "<tr>\n",
       "  <th>Omnibus:</th>       <td>225613.286</td> <th>  Durbin-Watson:     </th>  <td>   1.658</td>  \n",
       "</tr>\n",
       "<tr>\n",
       "  <th>Prob(Omnibus):</th>   <td> 0.000</td>   <th>  Jarque-Bera (JB):  </th> <td>1345544.546</td>\n",
       "</tr>\n",
       "<tr>\n",
       "  <th>Skew:</th>            <td> 2.710</td>   <th>  Prob(JB):          </th>  <td>    0.00</td>  \n",
       "</tr>\n",
       "<tr>\n",
       "  <th>Kurtosis:</th>        <td> 9.990</td>   <th>  Cond. No.          </th>  <td>    37.5</td>  \n",
       "</tr>\n",
       "</table><br/><br/>Notes:<br/>[1] Standard Errors assume that the covariance matrix of the errors is correctly specified."
      ],
      "text/plain": [
       "<class 'statsmodels.iolib.summary.Summary'>\n",
       "\"\"\"\n",
       "                            OLS Regression Results                            \n",
       "==============================================================================\n",
       "Dep. Variable:             topicLevel   R-squared:                       0.001\n",
       "Model:                            OLS   Adj. R-squared:                  0.001\n",
       "Method:                 Least Squares   F-statistic:                     65.37\n",
       "Date:                Sat, 17 Jun 2023   Prob (F-statistic):          8.29e-121\n",
       "Time:                        11:48:01   Log-Likelihood:            -1.7566e+06\n",
       "No. Observations:              412797   AIC:                         3.513e+06\n",
       "Df Residuals:                  412787   BIC:                         3.513e+06\n",
       "Df Model:                           9                                         \n",
       "Covariance Type:            nonrobust                                         \n",
       "======================================================================================\n",
       "                         coef    std err          t      P>|t|      [0.025      0.975]\n",
       "--------------------------------------------------------------------------------------\n",
       "Intercept              7.8045      0.107     73.246      0.000       7.596       8.013\n",
       "DoW[T.1]               0.0922      0.097      0.952      0.341      -0.098       0.282\n",
       "DoW[T.2]               0.0924      0.096      0.959      0.338      -0.096       0.281\n",
       "DoW[T.3]               0.0402      0.095      0.423      0.672      -0.146       0.227\n",
       "DoW[T.4]              -0.3401      0.097     -3.524      0.000      -0.529      -0.151\n",
       "DoW[T.5]              -0.2319      0.106     -2.186      0.029      -0.440      -0.024\n",
       "DoW[T.6]              -0.2317      0.108     -2.142      0.032      -0.444      -0.020\n",
       "treated[T.1]           0.9541      0.110      8.642      0.000       0.738       1.171\n",
       "rDate                  0.1422      0.020      7.279      0.000       0.104       0.181\n",
       "rDate:treated[T.1]    -0.2567      0.025    -10.265      0.000      -0.306      -0.208\n",
       "==============================================================================\n",
       "Omnibus:                   225613.286   Durbin-Watson:                   1.658\n",
       "Prob(Omnibus):                  0.000   Jarque-Bera (JB):          1345544.546\n",
       "Skew:                           2.710   Prob(JB):                         0.00\n",
       "Kurtosis:                       9.990   Cond. No.                         37.5\n",
       "==============================================================================\n",
       "\n",
       "Notes:\n",
       "[1] Standard Errors assume that the covariance matrix of the errors is correctly specified.\n",
       "\"\"\""
      ]
     },
     "execution_count": 398,
     "metadata": {},
     "output_type": "execute_result"
    }
   ],
   "source": [
    "res.summary()"
   ]
  },
  {
   "cell_type": "code",
   "execution_count": 399,
   "metadata": {},
   "outputs": [],
   "source": [
    "mod = smf.ols(formula=\"topicLevel ~ DoW + treated + stormSize + treated:stormSize\", data=pooledDf)\n",
    "\n",
    "res = mod.fit()\n",
    "#params = (stormTopic, clustNum, res.params[\"treated[T.1]\"], res.pvalues[\"treated[T.1]\"], res.params[\"rDate\"], res.pvalues[\"rDate\"], res.params[\"rDate:treated[T.1]\"], res.pvalues[\"rDate:treated[T.1]\"])"
   ]
  },
  {
   "cell_type": "code",
   "execution_count": 400,
   "metadata": {},
   "outputs": [
    {
     "data": {
      "text/html": [
       "<table class=\"simpletable\">\n",
       "<caption>OLS Regression Results</caption>\n",
       "<tr>\n",
       "  <th>Dep. Variable:</th>       <td>topicLevel</td>    <th>  R-squared:         </th>  <td>   0.003</td>  \n",
       "</tr>\n",
       "<tr>\n",
       "  <th>Model:</th>                   <td>OLS</td>       <th>  Adj. R-squared:    </th>  <td>   0.003</td>  \n",
       "</tr>\n",
       "<tr>\n",
       "  <th>Method:</th>             <td>Least Squares</td>  <th>  F-statistic:       </th>  <td>   137.0</td>  \n",
       "</tr>\n",
       "<tr>\n",
       "  <th>Date:</th>             <td>Sat, 17 Jun 2023</td> <th>  Prob (F-statistic):</th>  <td>2.61e-259</td> \n",
       "</tr>\n",
       "<tr>\n",
       "  <th>Time:</th>                 <td>11:48:22</td>     <th>  Log-Likelihood:    </th> <td>-1.7563e+06</td>\n",
       "</tr>\n",
       "<tr>\n",
       "  <th>No. Observations:</th>      <td>412797</td>      <th>  AIC:               </th>  <td>3.513e+06</td> \n",
       "</tr>\n",
       "<tr>\n",
       "  <th>Df Residuals:</th>          <td>412787</td>      <th>  BIC:               </th>  <td>3.513e+06</td> \n",
       "</tr>\n",
       "<tr>\n",
       "  <th>Df Model:</th>              <td>     9</td>      <th>                     </th>      <td> </td>     \n",
       "</tr>\n",
       "<tr>\n",
       "  <th>Covariance Type:</th>      <td>nonrobust</td>    <th>                     </th>      <td> </td>     \n",
       "</tr>\n",
       "</table>\n",
       "<table class=\"simpletable\">\n",
       "<tr>\n",
       "             <td></td>               <th>coef</th>     <th>std err</th>      <th>t</th>      <th>P>|t|</th>  <th>[0.025</th>    <th>0.975]</th>  \n",
       "</tr>\n",
       "<tr>\n",
       "  <th>Intercept</th>              <td>    8.2349</td> <td>    0.086</td> <td>   95.789</td> <td> 0.000</td> <td>    8.066</td> <td>    8.403</td>\n",
       "</tr>\n",
       "<tr>\n",
       "  <th>DoW[T.1]</th>               <td>    0.0588</td> <td>    0.097</td> <td>    0.608</td> <td> 0.543</td> <td>   -0.131</td> <td>    0.248</td>\n",
       "</tr>\n",
       "<tr>\n",
       "  <th>DoW[T.2]</th>               <td>    0.0528</td> <td>    0.096</td> <td>    0.548</td> <td> 0.584</td> <td>   -0.136</td> <td>    0.242</td>\n",
       "</tr>\n",
       "<tr>\n",
       "  <th>DoW[T.3]</th>               <td>    0.0133</td> <td>    0.095</td> <td>    0.140</td> <td> 0.889</td> <td>   -0.173</td> <td>    0.199</td>\n",
       "</tr>\n",
       "<tr>\n",
       "  <th>DoW[T.4]</th>               <td>   -0.3395</td> <td>    0.096</td> <td>   -3.533</td> <td> 0.000</td> <td>   -0.528</td> <td>   -0.151</td>\n",
       "</tr>\n",
       "<tr>\n",
       "  <th>DoW[T.5]</th>               <td>   -0.2044</td> <td>    0.106</td> <td>   -1.931</td> <td> 0.054</td> <td>   -0.412</td> <td>    0.003</td>\n",
       "</tr>\n",
       "<tr>\n",
       "  <th>DoW[T.6]</th>               <td>   -0.2267</td> <td>    0.108</td> <td>   -2.098</td> <td> 0.036</td> <td>   -0.438</td> <td>   -0.015</td>\n",
       "</tr>\n",
       "<tr>\n",
       "  <th>treated[T.1]</th>           <td>    0.6585</td> <td>    0.078</td> <td>    8.440</td> <td> 0.000</td> <td>    0.506</td> <td>    0.811</td>\n",
       "</tr>\n",
       "<tr>\n",
       "  <th>stormSize</th>              <td>   -0.0028</td> <td>    0.000</td> <td>  -23.835</td> <td> 0.000</td> <td>   -0.003</td> <td>   -0.003</td>\n",
       "</tr>\n",
       "<tr>\n",
       "  <th>treated[T.1]:stormSize</th> <td>    0.0014</td> <td>    0.000</td> <td>    8.549</td> <td> 0.000</td> <td>    0.001</td> <td>    0.002</td>\n",
       "</tr>\n",
       "</table>\n",
       "<table class=\"simpletable\">\n",
       "<tr>\n",
       "  <th>Omnibus:</th>       <td>225030.680</td> <th>  Durbin-Watson:     </th>  <td>   1.661</td>  \n",
       "</tr>\n",
       "<tr>\n",
       "  <th>Prob(Omnibus):</th>   <td> 0.000</td>   <th>  Jarque-Bera (JB):  </th> <td>1336528.145</td>\n",
       "</tr>\n",
       "<tr>\n",
       "  <th>Skew:</th>            <td> 2.703</td>   <th>  Prob(JB):          </th>  <td>    0.00</td>  \n",
       "</tr>\n",
       "<tr>\n",
       "  <th>Kurtosis:</th>        <td> 9.963</td>   <th>  Cond. No.          </th>  <td>4.25e+03</td>  \n",
       "</tr>\n",
       "</table><br/><br/>Notes:<br/>[1] Standard Errors assume that the covariance matrix of the errors is correctly specified.<br/>[2] The condition number is large, 4.25e+03. This might indicate that there are<br/>strong multicollinearity or other numerical problems."
      ],
      "text/plain": [
       "<class 'statsmodels.iolib.summary.Summary'>\n",
       "\"\"\"\n",
       "                            OLS Regression Results                            \n",
       "==============================================================================\n",
       "Dep. Variable:             topicLevel   R-squared:                       0.003\n",
       "Model:                            OLS   Adj. R-squared:                  0.003\n",
       "Method:                 Least Squares   F-statistic:                     137.0\n",
       "Date:                Sat, 17 Jun 2023   Prob (F-statistic):          2.61e-259\n",
       "Time:                        11:48:22   Log-Likelihood:            -1.7563e+06\n",
       "No. Observations:              412797   AIC:                         3.513e+06\n",
       "Df Residuals:                  412787   BIC:                         3.513e+06\n",
       "Df Model:                           9                                         \n",
       "Covariance Type:            nonrobust                                         \n",
       "==========================================================================================\n",
       "                             coef    std err          t      P>|t|      [0.025      0.975]\n",
       "------------------------------------------------------------------------------------------\n",
       "Intercept                  8.2349      0.086     95.789      0.000       8.066       8.403\n",
       "DoW[T.1]                   0.0588      0.097      0.608      0.543      -0.131       0.248\n",
       "DoW[T.2]                   0.0528      0.096      0.548      0.584      -0.136       0.242\n",
       "DoW[T.3]                   0.0133      0.095      0.140      0.889      -0.173       0.199\n",
       "DoW[T.4]                  -0.3395      0.096     -3.533      0.000      -0.528      -0.151\n",
       "DoW[T.5]                  -0.2044      0.106     -1.931      0.054      -0.412       0.003\n",
       "DoW[T.6]                  -0.2267      0.108     -2.098      0.036      -0.438      -0.015\n",
       "treated[T.1]               0.6585      0.078      8.440      0.000       0.506       0.811\n",
       "stormSize                 -0.0028      0.000    -23.835      0.000      -0.003      -0.003\n",
       "treated[T.1]:stormSize     0.0014      0.000      8.549      0.000       0.001       0.002\n",
       "==============================================================================\n",
       "Omnibus:                   225030.680   Durbin-Watson:                   1.661\n",
       "Prob(Omnibus):                  0.000   Jarque-Bera (JB):          1336528.145\n",
       "Skew:                           2.703   Prob(JB):                         0.00\n",
       "Kurtosis:                       9.963   Cond. No.                     4.25e+03\n",
       "==============================================================================\n",
       "\n",
       "Notes:\n",
       "[1] Standard Errors assume that the covariance matrix of the errors is correctly specified.\n",
       "[2] The condition number is large, 4.25e+03. This might indicate that there are\n",
       "strong multicollinearity or other numerical problems.\n",
       "\"\"\""
      ]
     },
     "execution_count": 400,
     "metadata": {},
     "output_type": "execute_result"
    }
   ],
   "source": [
    "res.summary()"
   ]
  },
  {
   "cell_type": "code",
   "execution_count": 404,
   "metadata": {},
   "outputs": [],
   "source": [
    "stormSize = np.arange(50, 1000, 50)\n",
    "baseEffect = .0066\n",
    "baseTopicLevel = .10 \n",
    "\n",
    "change = []\n",
    "for size in stormSize:  \n",
    "    change.append(.659 + (.0014*size))"
   ]
  },
  {
   "cell_type": "code",
   "execution_count": 412,
   "metadata": {},
   "outputs": [
    {
     "data": {
      "text/plain": [
       "Text(0, 0.5, 'Mean Increase in Storm Topic % Per Article')"
      ]
     },
     "execution_count": 412,
     "metadata": {},
     "output_type": "execute_result"
    },
    {
     "data": {
      "image/png": "[encoded data removed]",
      "text/plain": [
       "<Figure size 432x288 with 1 Axes>"
      ]
     },
     "metadata": {
      "needs_background": "light"
     },
     "output_type": "display_data"
    }
   ],
   "source": [
    "plt.plot(stormSize, change) \n",
    "plt.title(\"The Effect of Story Size on Lowering Agenda Thresholds\")\n",
    "plt.xlabel(\"Storm Size\")\n",
    "plt.ylabel(\"Mean Increase in Storm Topic % Per Article\")"
   ]
  },
  {
   "cell_type": "code",
   "execution_count": 408,
   "metadata": {},
   "outputs": [
    {
     "data": {
      "text/plain": [
       "(array([  1.,   0.,   1.,   0.,   1.,   8.,  25., 148., 553., 727.]),\n",
       " array([1.2290937 , 1.43768359, 1.64627348, 1.85486338, 2.06345327,\n",
       "        2.27204316, 2.48063305, 2.68922294, 2.89781283, 3.10640272,\n",
       "        3.31499262]),\n",
       " <BarContainer object of 10 artists>)"
      ]
     },
     "execution_count": 408,
     "metadata": {},
     "output_type": "execute_result"
    },
    {
     "data": {
      "image/png": "[encoded data removed]",
      "text/plain": [
       "<Figure size 432x288 with 1 Axes>"
      ]
     },
     "metadata": {
      "needs_background": "light"
     },
     "output_type": "display_data"
    }
   ],
   "source": [
    "plt.hist(pEntDf[\"entropy\"])"
   ]
  },
  {
   "cell_type": "code",
   "execution_count": 409,
   "metadata": {},
   "outputs": [
    {
     "data": {
      "text/plain": [
       "<Axes: xlabel='rDate', ylabel='entropy'>"
      ]
     },
     "execution_count": 409,
     "metadata": {},
     "output_type": "execute_result"
    },
    {
     "data": {
      "image/png": "[encoded data removed]",
      "text/plain": [
       "<Figure size 432x288 with 1 Axes>"
      ]
     },
     "metadata": {
      "needs_background": "light"
     },
     "output_type": "display_data"
    }
   ],
   "source": [
    "sns.scatterplot(x=\"rDate\", y=\"entropy\", data=pEntDf, alpha=.3)"
   ]
  },
  {
   "cell_type": "code",
   "execution_count": 411,
   "metadata": {},
   "outputs": [
    {
     "data": {
      "text/html": [
       "<table class=\"simpletable\">\n",
       "<caption>OLS Regression Results</caption>\n",
       "<tr>\n",
       "  <th>Dep. Variable:</th>         <td>entropy</td>     <th>  R-squared:         </th> <td>   0.002</td>\n",
       "</tr>\n",
       "<tr>\n",
       "  <th>Model:</th>                   <td>OLS</td>       <th>  Adj. R-squared:    </th> <td>  -0.000</td>\n",
       "</tr>\n",
       "<tr>\n",
       "  <th>Method:</th>             <td>Least Squares</td>  <th>  F-statistic:       </th> <td>  0.8127</td>\n",
       "</tr>\n",
       "<tr>\n",
       "  <th>Date:</th>             <td>Sat, 17 Jun 2023</td> <th>  Prob (F-statistic):</th>  <td> 0.487</td> \n",
       "</tr>\n",
       "<tr>\n",
       "  <th>Time:</th>                 <td>11:54:38</td>     <th>  Log-Likelihood:    </th> <td>  580.95</td>\n",
       "</tr>\n",
       "<tr>\n",
       "  <th>No. Observations:</th>      <td>  1464</td>      <th>  AIC:               </th> <td>  -1154.</td>\n",
       "</tr>\n",
       "<tr>\n",
       "  <th>Df Residuals:</th>          <td>  1460</td>      <th>  BIC:               </th> <td>  -1133.</td>\n",
       "</tr>\n",
       "<tr>\n",
       "  <th>Df Model:</th>              <td>     3</td>      <th>                     </th>     <td> </td>   \n",
       "</tr>\n",
       "<tr>\n",
       "  <th>Covariance Type:</th>      <td>nonrobust</td>    <th>                     </th>     <td> </td>   \n",
       "</tr>\n",
       "</table>\n",
       "<table class=\"simpletable\">\n",
       "<tr>\n",
       "            <td></td>               <th>coef</th>     <th>std err</th>      <th>t</th>      <th>P>|t|</th>  <th>[0.025</th>    <th>0.975]</th>  \n",
       "</tr>\n",
       "<tr>\n",
       "  <th>Intercept</th>             <td>    3.0514</td> <td>    0.014</td> <td>  219.036</td> <td> 0.000</td> <td>    3.024</td> <td>    3.079</td>\n",
       "</tr>\n",
       "<tr>\n",
       "  <th>treated[T.True]</th>       <td>    0.0157</td> <td>    0.018</td> <td>    0.898</td> <td> 0.369</td> <td>   -0.019</td> <td>    0.050</td>\n",
       "</tr>\n",
       "<tr>\n",
       "  <th>rDate</th>                 <td>   -0.0041</td> <td>    0.003</td> <td>   -1.316</td> <td> 0.189</td> <td>   -0.010</td> <td>    0.002</td>\n",
       "</tr>\n",
       "<tr>\n",
       "  <th>rDate:treated[T.True]</th> <td>    0.0057</td> <td>    0.004</td> <td>    1.411</td> <td> 0.159</td> <td>   -0.002</td> <td>    0.014</td>\n",
       "</tr>\n",
       "</table>\n",
       "<table class=\"simpletable\">\n",
       "<tr>\n",
       "  <th>Omnibus:</th>       <td>876.338</td> <th>  Durbin-Watson:     </th> <td>   0.565</td> \n",
       "</tr>\n",
       "<tr>\n",
       "  <th>Prob(Omnibus):</th> <td> 0.000</td>  <th>  Jarque-Bera (JB):  </th> <td>15686.542</td>\n",
       "</tr>\n",
       "<tr>\n",
       "  <th>Skew:</th>          <td>-2.438</td>  <th>  Prob(JB):          </th> <td>    0.00</td> \n",
       "</tr>\n",
       "<tr>\n",
       "  <th>Kurtosis:</th>      <td>18.277</td>  <th>  Cond. No.          </th> <td>    25.1</td> \n",
       "</tr>\n",
       "</table><br/><br/>Notes:<br/>[1] Standard Errors assume that the covariance matrix of the errors is correctly specified."
      ],
      "text/plain": [
       "<class 'statsmodels.iolib.summary.Summary'>\n",
       "\"\"\"\n",
       "                            OLS Regression Results                            \n",
       "==============================================================================\n",
       "Dep. Variable:                entropy   R-squared:                       0.002\n",
       "Model:                            OLS   Adj. R-squared:                 -0.000\n",
       "Method:                 Least Squares   F-statistic:                    0.8127\n",
       "Date:                Sat, 17 Jun 2023   Prob (F-statistic):              0.487\n",
       "Time:                        11:54:38   Log-Likelihood:                 580.95\n",
       "No. Observations:                1464   AIC:                            -1154.\n",
       "Df Residuals:                    1460   BIC:                            -1133.\n",
       "Df Model:                           3                                         \n",
       "Covariance Type:            nonrobust                                         \n",
       "=========================================================================================\n",
       "                            coef    std err          t      P>|t|      [0.025      0.975]\n",
       "-----------------------------------------------------------------------------------------\n",
       "Intercept                 3.0514      0.014    219.036      0.000       3.024       3.079\n",
       "treated[T.True]           0.0157      0.018      0.898      0.369      -0.019       0.050\n",
       "rDate                    -0.0041      0.003     -1.316      0.189      -0.010       0.002\n",
       "rDate:treated[T.True]     0.0057      0.004      1.411      0.159      -0.002       0.014\n",
       "==============================================================================\n",
       "Omnibus:                      876.338   Durbin-Watson:                   0.565\n",
       "Prob(Omnibus):                  0.000   Jarque-Bera (JB):            15686.542\n",
       "Skew:                          -2.438   Prob(JB):                         0.00\n",
       "Kurtosis:                      18.277   Cond. No.                         25.1\n",
       "==============================================================================\n",
       "\n",
       "Notes:\n",
       "[1] Standard Errors assume that the covariance matrix of the errors is correctly specified.\n",
       "\"\"\""
      ]
     },
     "execution_count": 411,
     "metadata": {},
     "output_type": "execute_result"
    }
   ],
   "source": [
    "#pooled entropy \n",
    "pEntDf = pd.concat(entDfs)\n",
    "pEntDf[\"storm\"] = pEntDf[\"storm\"].astype(str)\n",
    "\n",
    "#regression \n",
    "mod = smf.ols(formula=\"entropy ~ rDate +  treated + rDate:treated\", data=pEntDf)\n",
    "res = mod.fit()\n",
    "res.summary()"
   ]
  },
  {
   "cell_type": "code",
   "execution_count": 413,
   "metadata": {},
   "outputs": [
    {
     "data": {
      "text/html": [
       "<div>\n",
       "<style scoped>\n",
       "    .dataframe tbody tr th:only-of-type {\n",
       "        vertical-align: middle;\n",
       "    }\n",
       "\n",
       "    .dataframe tbody tr th {\n",
       "        vertical-align: top;\n",
       "    }\n",
       "\n",
       "    .dataframe thead th {\n",
       "        text-align: right;\n",
       "    }\n",
       "</style>\n",
       "<table border=\"1\" class=\"dataframe\">\n",
       "  <thead>\n",
       "    <tr style=\"text-align: right;\">\n",
       "      <th></th>\n",
       "      <th>rDate</th>\n",
       "      <th>entropy</th>\n",
       "      <th>treated</th>\n",
       "      <th>storm</th>\n",
       "      <th>stormSize</th>\n",
       "    </tr>\n",
       "  </thead>\n",
       "  <tbody>\n",
       "    <tr>\n",
       "      <th>0</th>\n",
       "      <td>0.0</td>\n",
       "      <td>3.063510</td>\n",
       "      <td>True</td>\n",
       "      <td>359.0</td>\n",
       "      <td>93</td>\n",
       "    </tr>\n",
       "    <tr>\n",
       "      <th>1</th>\n",
       "      <td>1.0</td>\n",
       "      <td>3.094792</td>\n",
       "      <td>True</td>\n",
       "      <td>359.0</td>\n",
       "      <td>93</td>\n",
       "    </tr>\n",
       "    <tr>\n",
       "      <th>2</th>\n",
       "      <td>2.0</td>\n",
       "      <td>3.051465</td>\n",
       "      <td>True</td>\n",
       "      <td>359.0</td>\n",
       "      <td>93</td>\n",
       "    </tr>\n",
       "    <tr>\n",
       "      <th>3</th>\n",
       "      <td>3.0</td>\n",
       "      <td>3.145487</td>\n",
       "      <td>True</td>\n",
       "      <td>359.0</td>\n",
       "      <td>93</td>\n",
       "    </tr>\n",
       "    <tr>\n",
       "      <th>4</th>\n",
       "      <td>4.0</td>\n",
       "      <td>3.121644</td>\n",
       "      <td>True</td>\n",
       "      <td>359.0</td>\n",
       "      <td>93</td>\n",
       "    </tr>\n",
       "    <tr>\n",
       "      <th>...</th>\n",
       "      <td>...</td>\n",
       "      <td>...</td>\n",
       "      <td>...</td>\n",
       "      <td>...</td>\n",
       "      <td>...</td>\n",
       "    </tr>\n",
       "    <tr>\n",
       "      <th>10</th>\n",
       "      <td>-5.0</td>\n",
       "      <td>3.040854</td>\n",
       "      <td>False</td>\n",
       "      <td>295028.0</td>\n",
       "      <td>62</td>\n",
       "    </tr>\n",
       "    <tr>\n",
       "      <th>11</th>\n",
       "      <td>-4.0</td>\n",
       "      <td>2.944442</td>\n",
       "      <td>False</td>\n",
       "      <td>295028.0</td>\n",
       "      <td>62</td>\n",
       "    </tr>\n",
       "    <tr>\n",
       "      <th>12</th>\n",
       "      <td>-3.0</td>\n",
       "      <td>2.864051</td>\n",
       "      <td>False</td>\n",
       "      <td>295028.0</td>\n",
       "      <td>62</td>\n",
       "    </tr>\n",
       "    <tr>\n",
       "      <th>13</th>\n",
       "      <td>-2.0</td>\n",
       "      <td>2.916698</td>\n",
       "      <td>False</td>\n",
       "      <td>295028.0</td>\n",
       "      <td>62</td>\n",
       "    </tr>\n",
       "    <tr>\n",
       "      <th>14</th>\n",
       "      <td>-1.0</td>\n",
       "      <td>2.906757</td>\n",
       "      <td>False</td>\n",
       "      <td>295028.0</td>\n",
       "      <td>62</td>\n",
       "    </tr>\n",
       "  </tbody>\n",
       "</table>\n",
       "<p>1464 rows × 5 columns</p>\n",
       "</div>"
      ],
      "text/plain": [
       "    rDate   entropy  treated     storm  stormSize\n",
       "0     0.0  3.063510     True     359.0         93\n",
       "1     1.0  3.094792     True     359.0         93\n",
       "2     2.0  3.051465     True     359.0         93\n",
       "3     3.0  3.145487     True     359.0         93\n",
       "4     4.0  3.121644     True     359.0         93\n",
       "..    ...       ...      ...       ...        ...\n",
       "10   -5.0  3.040854    False  295028.0         62\n",
       "11   -4.0  2.944442    False  295028.0         62\n",
       "12   -3.0  2.864051    False  295028.0         62\n",
       "13   -2.0  2.916698    False  295028.0         62\n",
       "14   -1.0  2.906757    False  295028.0         62\n",
       "\n",
       "[1464 rows x 5 columns]"
      ]
     },
     "execution_count": 413,
     "metadata": {},
     "output_type": "execute_result"
    }
   ],
   "source": [
    "pEntDf"
   ]
  },
  {
   "cell_type": "code",
   "execution_count": 414,
   "metadata": {},
   "outputs": [
    {
     "data": {
      "text/html": [
       "<table class=\"simpletable\">\n",
       "<caption>OLS Regression Results</caption>\n",
       "<tr>\n",
       "  <th>Dep. Variable:</th>         <td>entropy</td>     <th>  R-squared:         </th> <td>   0.094</td>\n",
       "</tr>\n",
       "<tr>\n",
       "  <th>Model:</th>                   <td>OLS</td>       <th>  Adj. R-squared:    </th> <td>   0.092</td>\n",
       "</tr>\n",
       "<tr>\n",
       "  <th>Method:</th>             <td>Least Squares</td>  <th>  F-statistic:       </th> <td>   50.29</td>\n",
       "</tr>\n",
       "<tr>\n",
       "  <th>Date:</th>             <td>Sat, 17 Jun 2023</td> <th>  Prob (F-statistic):</th> <td>6.28e-31</td>\n",
       "</tr>\n",
       "<tr>\n",
       "  <th>Time:</th>                 <td>11:58:14</td>     <th>  Log-Likelihood:    </th> <td>  651.71</td>\n",
       "</tr>\n",
       "<tr>\n",
       "  <th>No. Observations:</th>      <td>  1464</td>      <th>  AIC:               </th> <td>  -1295.</td>\n",
       "</tr>\n",
       "<tr>\n",
       "  <th>Df Residuals:</th>          <td>  1460</td>      <th>  BIC:               </th> <td>  -1274.</td>\n",
       "</tr>\n",
       "<tr>\n",
       "  <th>Df Model:</th>              <td>     3</td>      <th>                     </th>     <td> </td>   \n",
       "</tr>\n",
       "<tr>\n",
       "  <th>Covariance Type:</th>      <td>nonrobust</td>    <th>                     </th>     <td> </td>   \n",
       "</tr>\n",
       "</table>\n",
       "<table class=\"simpletable\">\n",
       "<tr>\n",
       "              <td></td>                 <th>coef</th>     <th>std err</th>      <th>t</th>      <th>P>|t|</th>  <th>[0.025</th>    <th>0.975]</th>  \n",
       "</tr>\n",
       "<tr>\n",
       "  <th>Intercept</th>                 <td>    3.0100</td> <td>    0.009</td> <td>  342.212</td> <td> 0.000</td> <td>    2.993</td> <td>    3.027</td>\n",
       "</tr>\n",
       "<tr>\n",
       "  <th>treated[T.True]</th>           <td>    0.0119</td> <td>    0.012</td> <td>    0.988</td> <td> 0.323</td> <td>   -0.012</td> <td>    0.035</td>\n",
       "</tr>\n",
       "<tr>\n",
       "  <th>stormSize</th>                 <td>    0.0003</td> <td> 3.11e-05</td> <td>    8.908</td> <td> 0.000</td> <td>    0.000</td> <td>    0.000</td>\n",
       "</tr>\n",
       "<tr>\n",
       "  <th>treated[T.True]:stormSize</th> <td>-3.203e-05</td> <td> 4.25e-05</td> <td>   -0.753</td> <td> 0.451</td> <td>   -0.000</td> <td> 5.14e-05</td>\n",
       "</tr>\n",
       "</table>\n",
       "<table class=\"simpletable\">\n",
       "<tr>\n",
       "  <th>Omnibus:</th>       <td>938.481</td> <th>  Durbin-Watson:     </th> <td>   0.613</td> \n",
       "</tr>\n",
       "<tr>\n",
       "  <th>Prob(Omnibus):</th> <td> 0.000</td>  <th>  Jarque-Bera (JB):  </th> <td>20795.711</td>\n",
       "</tr>\n",
       "<tr>\n",
       "  <th>Skew:</th>          <td>-2.608</td>  <th>  Prob(JB):          </th> <td>    0.00</td> \n",
       "</tr>\n",
       "<tr>\n",
       "  <th>Kurtosis:</th>      <td>20.712</td>  <th>  Cond. No.          </th> <td>1.13e+03</td> \n",
       "</tr>\n",
       "</table><br/><br/>Notes:<br/>[1] Standard Errors assume that the covariance matrix of the errors is correctly specified.<br/>[2] The condition number is large, 1.13e+03. This might indicate that there are<br/>strong multicollinearity or other numerical problems."
      ],
      "text/plain": [
       "<class 'statsmodels.iolib.summary.Summary'>\n",
       "\"\"\"\n",
       "                            OLS Regression Results                            \n",
       "==============================================================================\n",
       "Dep. Variable:                entropy   R-squared:                       0.094\n",
       "Model:                            OLS   Adj. R-squared:                  0.092\n",
       "Method:                 Least Squares   F-statistic:                     50.29\n",
       "Date:                Sat, 17 Jun 2023   Prob (F-statistic):           6.28e-31\n",
       "Time:                        11:58:14   Log-Likelihood:                 651.71\n",
       "No. Observations:                1464   AIC:                            -1295.\n",
       "Df Residuals:                    1460   BIC:                            -1274.\n",
       "Df Model:                           3                                         \n",
       "Covariance Type:            nonrobust                                         \n",
       "=============================================================================================\n",
       "                                coef    std err          t      P>|t|      [0.025      0.975]\n",
       "---------------------------------------------------------------------------------------------\n",
       "Intercept                     3.0100      0.009    342.212      0.000       2.993       3.027\n",
       "treated[T.True]               0.0119      0.012      0.988      0.323      -0.012       0.035\n",
       "stormSize                     0.0003   3.11e-05      8.908      0.000       0.000       0.000\n",
       "treated[T.True]:stormSize -3.203e-05   4.25e-05     -0.753      0.451      -0.000    5.14e-05\n",
       "==============================================================================\n",
       "Omnibus:                      938.481   Durbin-Watson:                   0.613\n",
       "Prob(Omnibus):                  0.000   Jarque-Bera (JB):            20795.711\n",
       "Skew:                          -2.608   Prob(JB):                         0.00\n",
       "Kurtosis:                      20.712   Cond. No.                     1.13e+03\n",
       "==============================================================================\n",
       "\n",
       "Notes:\n",
       "[1] Standard Errors assume that the covariance matrix of the errors is correctly specified.\n",
       "[2] The condition number is large, 1.13e+03. This might indicate that there are\n",
       "strong multicollinearity or other numerical problems.\n",
       "\"\"\""
      ]
     },
     "execution_count": 414,
     "metadata": {},
     "output_type": "execute_result"
    }
   ],
   "source": [
    "#pooled entropy \n",
    "pEntDf = pd.concat(entDfs)\n",
    "pEntDf[\"storm\"] = pEntDf[\"storm\"].astype(str)\n",
    "\n",
    "#regression \n",
    "mod = smf.ols(formula=\"entropy ~ treated +  stormSize + treated:stormSize\", data=pEntDf)\n",
    "res = mod.fit()\n",
    "res.summary()"
   ]
  },
  {
   "cell_type": "code",
   "execution_count": 451,
   "metadata": {},
   "outputs": [
    {
     "name": "stderr",
     "output_type": "stream",
     "text": [
      "100%|██████████| 98/98 [00:48<00:00,  2.00it/s]\n"
     ]
    }
   ],
   "source": [
    "#try when leaving the articles IN \n",
    "pd.options.mode.chained_assignment = None  # default='warn'\n",
    "\n",
    "#for results/analysis dataframes\n",
    "mResults = []\n",
    "regDfs = []\n",
    "entDfs = []\n",
    "\n",
    "#for each storm \n",
    "stormClusts = list(stormsDf[SCOL].unique())\n",
    "for clustNum in tqdm(stormClusts): \n",
    "    stormRows = merged[merged[SCOL] == clustNum]\n",
    "    fDay = min(stormRows[\"date\"])\n",
    "    bCutoff = fDay - np.timedelta64(7, \"D\")\n",
    "    aCutoff = fDay + np.timedelta64(7, \"D\")\n",
    "    \n",
    "    stormOutlets = list(stormRows[\"source\"].unique()) \n",
    "    \n",
    "    #p for patrol\n",
    "    pSources = literal_eval(stormRows[\"20000_90_storm_source\"].iloc[0])\n",
    "    \n",
    "    #get all coverage from two weeks before and two weeks after first day\n",
    "    #and keep the storm rows IN\n",
    "    #for patrol sources do merged[\"source\"].isin(pSources)) \n",
    "    beforeDf = merged[merged[\"source\"].isin(pSources) & (merged[\"date\"] >= bCutoff) & (merged[\"date\"] < fDay)]\n",
    "    afterDf = merged[merged[\"source\"].isin(pSources) & (merged[\"date\"] <= aCutoff) & (merged[\"date\"] >= fDay )]\n",
    "\n",
    "    #get the topic that the storm is \"about\"\n",
    "    stormTopic =  Counter(list(stormRows[list(range(0, N_TOPICS))].apply(maxTopics, axis=1))).most_common()[0][0]\n",
    "    \n",
    "    #set up topic proportion regression model! \n",
    "    beforeDf[\"rDate\"] = (beforeDf[\"date\"] - fDay) / np.timedelta64(1, \"D\")\n",
    "    beforeDf[\"DoW\"] = beforeDf[\"date\"].dt.dayofweek\n",
    "    beforeDf[\"treated\"] = \"0\"\n",
    "\n",
    "    afterDf[\"rDate\"] = (afterDf[\"date\"] - fDay) / np.timedelta64(1, \"D\")\n",
    "    afterDf[\"DoW\"] = afterDf[\"date\"].dt.dayofweek\n",
    "\n",
    "    afterDf[\"treated\"] = \"1\"\n",
    "\n",
    "    regCols = [\"rDate\", \"DoW\", \"treated\", stormTopic]\n",
    "    regDf = pd.concat([beforeDf[regCols], afterDf[regCols]]) \n",
    "    regDf[\"DoW\"] = regDf[\"DoW\"].astype(object)\n",
    "    regDf[\"stormNum\"] = clustNum\n",
    "    regDf = regDf.rename(columns={stormTopic:\"topicLevel\"}) \n",
    "    regDf[\"stormSize\"] = len(stormRows)\n",
    "    regDfs.append(regDf)\n",
    "    "
   ]
  },
  {
   "cell_type": "code",
   "execution_count": 452,
   "metadata": {},
   "outputs": [],
   "source": [
    "pooledDf = pd.concat(regDfs)"
   ]
  },
  {
   "cell_type": "code",
   "execution_count": 453,
   "metadata": {},
   "outputs": [
    {
     "data": {
      "text/plain": [
       "(419134, 6)"
      ]
     },
     "execution_count": 453,
     "metadata": {},
     "output_type": "execute_result"
    }
   ],
   "source": [
    "pooledDf.shape"
   ]
  },
  {
   "cell_type": "code",
   "execution_count": 456,
   "metadata": {},
   "outputs": [
    {
     "data": {
      "text/html": [
       "<table class=\"simpletable\">\n",
       "<caption>OLS Regression Results</caption>\n",
       "<tr>\n",
       "  <th>Dep. Variable:</th>       <td>topicLevel</td>    <th>  R-squared:         </th>  <td>   0.004</td>  \n",
       "</tr>\n",
       "<tr>\n",
       "  <th>Model:</th>                   <td>OLS</td>       <th>  Adj. R-squared:    </th>  <td>   0.004</td>  \n",
       "</tr>\n",
       "<tr>\n",
       "  <th>Method:</th>             <td>Least Squares</td>  <th>  F-statistic:       </th>  <td>   165.2</td>  \n",
       "</tr>\n",
       "<tr>\n",
       "  <th>Date:</th>             <td>Tue, 20 Jun 2023</td> <th>  Prob (F-statistic):</th>  <td>6.07e-314</td> \n",
       "</tr>\n",
       "<tr>\n",
       "  <th>Time:</th>                 <td>19:02:21</td>     <th>  Log-Likelihood:    </th> <td>-1.7995e+06</td>\n",
       "</tr>\n",
       "<tr>\n",
       "  <th>No. Observations:</th>      <td>419131</td>      <th>  AIC:               </th>  <td>3.599e+06</td> \n",
       "</tr>\n",
       "<tr>\n",
       "  <th>Df Residuals:</th>          <td>419121</td>      <th>  BIC:               </th>  <td>3.599e+06</td> \n",
       "</tr>\n",
       "<tr>\n",
       "  <th>Df Model:</th>              <td>     9</td>      <th>                     </th>      <td> </td>     \n",
       "</tr>\n",
       "<tr>\n",
       "  <th>Covariance Type:</th>      <td>nonrobust</td>    <th>                     </th>      <td> </td>     \n",
       "</tr>\n",
       "</table>\n",
       "<table class=\"simpletable\">\n",
       "<tr>\n",
       "           <td></td>             <th>coef</th>     <th>std err</th>      <th>t</th>      <th>P>|t|</th>  <th>[0.025</th>    <th>0.975]</th>  \n",
       "</tr>\n",
       "<tr>\n",
       "  <th>Intercept</th>          <td>    7.7937</td> <td>    0.110</td> <td>   70.577</td> <td> 0.000</td> <td>    7.577</td> <td>    8.010</td>\n",
       "</tr>\n",
       "<tr>\n",
       "  <th>DoW[T.1]</th>           <td>    0.1227</td> <td>    0.100</td> <td>    1.230</td> <td> 0.219</td> <td>   -0.073</td> <td>    0.318</td>\n",
       "</tr>\n",
       "<tr>\n",
       "  <th>DoW[T.2]</th>           <td>    0.1062</td> <td>    0.099</td> <td>    1.069</td> <td> 0.285</td> <td>   -0.089</td> <td>    0.301</td>\n",
       "</tr>\n",
       "<tr>\n",
       "  <th>DoW[T.3]</th>           <td>   -0.0504</td> <td>    0.098</td> <td>   -0.514</td> <td> 0.607</td> <td>   -0.243</td> <td>    0.142</td>\n",
       "</tr>\n",
       "<tr>\n",
       "  <th>DoW[T.4]</th>           <td>   -0.3525</td> <td>    0.100</td> <td>   -3.542</td> <td> 0.000</td> <td>   -0.547</td> <td>   -0.157</td>\n",
       "</tr>\n",
       "<tr>\n",
       "  <th>DoW[T.5]</th>           <td>   -0.1661</td> <td>    0.109</td> <td>   -1.519</td> <td> 0.129</td> <td>   -0.380</td> <td>    0.048</td>\n",
       "</tr>\n",
       "<tr>\n",
       "  <th>DoW[T.6]</th>           <td>   -0.1681</td> <td>    0.111</td> <td>   -1.507</td> <td> 0.132</td> <td>   -0.387</td> <td>    0.050</td>\n",
       "</tr>\n",
       "<tr>\n",
       "  <th>treated[T.1]</th>       <td>    2.0148</td> <td>    0.114</td> <td>   17.665</td> <td> 0.000</td> <td>    1.791</td> <td>    2.238</td>\n",
       "</tr>\n",
       "<tr>\n",
       "  <th>rDate</th>              <td>    0.1407</td> <td>    0.020</td> <td>    6.931</td> <td> 0.000</td> <td>    0.101</td> <td>    0.180</td>\n",
       "</tr>\n",
       "<tr>\n",
       "  <th>rDate:treated[T.1]</th> <td>   -0.3101</td> <td>    0.026</td> <td>  -12.001</td> <td> 0.000</td> <td>   -0.361</td> <td>   -0.259</td>\n",
       "</tr>\n",
       "</table>\n",
       "<table class=\"simpletable\">\n",
       "<tr>\n",
       "  <th>Omnibus:</th>       <td>217785.362</td> <th>  Durbin-Watson:     </th>  <td>   1.673</td>  \n",
       "</tr>\n",
       "<tr>\n",
       "  <th>Prob(Omnibus):</th>   <td> 0.000</td>   <th>  Jarque-Bera (JB):  </th> <td>1159106.880</td>\n",
       "</tr>\n",
       "<tr>\n",
       "  <th>Skew:</th>            <td> 2.597</td>   <th>  Prob(JB):          </th>  <td>    0.00</td>  \n",
       "</tr>\n",
       "<tr>\n",
       "  <th>Kurtosis:</th>        <td> 9.276</td>   <th>  Cond. No.          </th>  <td>    37.6</td>  \n",
       "</tr>\n",
       "</table><br/><br/>Notes:<br/>[1] Standard Errors assume that the covariance matrix of the errors is correctly specified."
      ],
      "text/plain": [
       "<class 'statsmodels.iolib.summary.Summary'>\n",
       "\"\"\"\n",
       "                            OLS Regression Results                            \n",
       "==============================================================================\n",
       "Dep. Variable:             topicLevel   R-squared:                       0.004\n",
       "Model:                            OLS   Adj. R-squared:                  0.004\n",
       "Method:                 Least Squares   F-statistic:                     165.2\n",
       "Date:                Tue, 20 Jun 2023   Prob (F-statistic):          6.07e-314\n",
       "Time:                        19:02:21   Log-Likelihood:            -1.7995e+06\n",
       "No. Observations:              419131   AIC:                         3.599e+06\n",
       "Df Residuals:                  419121   BIC:                         3.599e+06\n",
       "Df Model:                           9                                         \n",
       "Covariance Type:            nonrobust                                         \n",
       "======================================================================================\n",
       "                         coef    std err          t      P>|t|      [0.025      0.975]\n",
       "--------------------------------------------------------------------------------------\n",
       "Intercept              7.7937      0.110     70.577      0.000       7.577       8.010\n",
       "DoW[T.1]               0.1227      0.100      1.230      0.219      -0.073       0.318\n",
       "DoW[T.2]               0.1062      0.099      1.069      0.285      -0.089       0.301\n",
       "DoW[T.3]              -0.0504      0.098     -0.514      0.607      -0.243       0.142\n",
       "DoW[T.4]              -0.3525      0.100     -3.542      0.000      -0.547      -0.157\n",
       "DoW[T.5]              -0.1661      0.109     -1.519      0.129      -0.380       0.048\n",
       "DoW[T.6]              -0.1681      0.111     -1.507      0.132      -0.387       0.050\n",
       "treated[T.1]           2.0148      0.114     17.665      0.000       1.791       2.238\n",
       "rDate                  0.1407      0.020      6.931      0.000       0.101       0.180\n",
       "rDate:treated[T.1]    -0.3101      0.026    -12.001      0.000      -0.361      -0.259\n",
       "==============================================================================\n",
       "Omnibus:                   217785.362   Durbin-Watson:                   1.673\n",
       "Prob(Omnibus):                  0.000   Jarque-Bera (JB):          1159106.880\n",
       "Skew:                           2.597   Prob(JB):                         0.00\n",
       "Kurtosis:                       9.276   Cond. No.                         37.6\n",
       "==============================================================================\n",
       "\n",
       "Notes:\n",
       "[1] Standard Errors assume that the covariance matrix of the errors is correctly specified.\n",
       "\"\"\""
      ]
     },
     "execution_count": 456,
     "metadata": {},
     "output_type": "execute_result"
    }
   ],
   "source": [
    "mod = smf.ols(formula=\"topicLevel ~ DoW + rDate + treated + rDate:treated\", data=pooledDf)\n",
    "\n",
    "res = mod.fit()\n",
    "#params = (stormTopic, clustNum, res.params[\"treated[T.1]\"], res.pvalues[\"treated[T.1]\"], res.params[\"rDate\"], res.pvalues[\"rDate\"], res.params[\"rDate:treated[T.1]\"], res.pvalues[\"rDate:treated[T.1]\"])\n",
    "res.summary()"
   ]
  },
  {
   "cell_type": "code",
   "execution_count": 454,
   "metadata": {},
   "outputs": [
    {
     "data": {
      "text/html": [
       "<table class=\"simpletable\">\n",
       "<caption>OLS Regression Results</caption>\n",
       "<tr>\n",
       "  <th>Dep. Variable:</th>       <td>topicLevel</td>    <th>  R-squared:         </th>  <td>   0.005</td>  \n",
       "</tr>\n",
       "<tr>\n",
       "  <th>Model:</th>                   <td>OLS</td>       <th>  Adj. R-squared:    </th>  <td>   0.005</td>  \n",
       "</tr>\n",
       "<tr>\n",
       "  <th>Method:</th>             <td>Least Squares</td>  <th>  F-statistic:       </th>  <td>   240.9</td>  \n",
       "</tr>\n",
       "<tr>\n",
       "  <th>Date:</th>             <td>Tue, 20 Jun 2023</td> <th>  Prob (F-statistic):</th>   <td>  0.00</td>   \n",
       "</tr>\n",
       "<tr>\n",
       "  <th>Time:</th>                 <td>18:58:27</td>     <th>  Log-Likelihood:    </th> <td>-1.7992e+06</td>\n",
       "</tr>\n",
       "<tr>\n",
       "  <th>No. Observations:</th>      <td>419131</td>      <th>  AIC:               </th>  <td>3.598e+06</td> \n",
       "</tr>\n",
       "<tr>\n",
       "  <th>Df Residuals:</th>          <td>419121</td>      <th>  BIC:               </th>  <td>3.598e+06</td> \n",
       "</tr>\n",
       "<tr>\n",
       "  <th>Df Model:</th>              <td>     9</td>      <th>                     </th>      <td> </td>     \n",
       "</tr>\n",
       "<tr>\n",
       "  <th>Covariance Type:</th>      <td>nonrobust</td>    <th>                     </th>      <td> </td>     \n",
       "</tr>\n",
       "</table>\n",
       "<table class=\"simpletable\">\n",
       "<tr>\n",
       "             <td></td>               <th>coef</th>     <th>std err</th>      <th>t</th>      <th>P>|t|</th>  <th>[0.025</th>    <th>0.975]</th>  \n",
       "</tr>\n",
       "<tr>\n",
       "  <th>Intercept</th>              <td>    8.2169</td> <td>    0.089</td> <td>   92.370</td> <td> 0.000</td> <td>    8.043</td> <td>    8.391</td>\n",
       "</tr>\n",
       "<tr>\n",
       "  <th>DoW[T.1]</th>               <td>    0.0951</td> <td>    0.100</td> <td>    0.954</td> <td> 0.340</td> <td>   -0.100</td> <td>    0.291</td>\n",
       "</tr>\n",
       "<tr>\n",
       "  <th>DoW[T.2]</th>               <td>    0.0696</td> <td>    0.099</td> <td>    0.700</td> <td> 0.484</td> <td>   -0.125</td> <td>    0.264</td>\n",
       "</tr>\n",
       "<tr>\n",
       "  <th>DoW[T.3]</th>               <td>   -0.0621</td> <td>    0.098</td> <td>   -0.634</td> <td> 0.526</td> <td>   -0.254</td> <td>    0.130</td>\n",
       "</tr>\n",
       "<tr>\n",
       "  <th>DoW[T.4]</th>               <td>   -0.3177</td> <td>    0.099</td> <td>   -3.206</td> <td> 0.001</td> <td>   -0.512</td> <td>   -0.123</td>\n",
       "</tr>\n",
       "<tr>\n",
       "  <th>DoW[T.5]</th>               <td>   -0.1030</td> <td>    0.109</td> <td>   -0.945</td> <td> 0.345</td> <td>   -0.317</td> <td>    0.111</td>\n",
       "</tr>\n",
       "<tr>\n",
       "  <th>DoW[T.6]</th>               <td>   -0.1547</td> <td>    0.111</td> <td>   -1.388</td> <td> 0.165</td> <td>   -0.373</td> <td>    0.064</td>\n",
       "</tr>\n",
       "<tr>\n",
       "  <th>treated[T.1]</th>           <td>    1.6984</td> <td>    0.081</td> <td>   21.093</td> <td> 0.000</td> <td>    1.541</td> <td>    1.856</td>\n",
       "</tr>\n",
       "<tr>\n",
       "  <th>stormSize</th>              <td>   -0.0028</td> <td>    0.000</td> <td>  -22.959</td> <td> 0.000</td> <td>   -0.003</td> <td>   -0.003</td>\n",
       "</tr>\n",
       "<tr>\n",
       "  <th>treated[T.1]:stormSize</th> <td>    0.0009</td> <td>    0.000</td> <td>    5.249</td> <td> 0.000</td> <td>    0.001</td> <td>    0.001</td>\n",
       "</tr>\n",
       "</table>\n",
       "<table class=\"simpletable\">\n",
       "<tr>\n",
       "  <th>Omnibus:</th>       <td>217043.673</td> <th>  Durbin-Watson:     </th>  <td>   1.676</td>  \n",
       "</tr>\n",
       "<tr>\n",
       "  <th>Prob(Omnibus):</th>   <td> 0.000</td>   <th>  Jarque-Bera (JB):  </th> <td>1148728.554</td>\n",
       "</tr>\n",
       "<tr>\n",
       "  <th>Skew:</th>            <td> 2.589</td>   <th>  Prob(JB):          </th>  <td>    0.00</td>  \n",
       "</tr>\n",
       "<tr>\n",
       "  <th>Kurtosis:</th>        <td> 9.243</td>   <th>  Cond. No.          </th>  <td>4.26e+03</td>  \n",
       "</tr>\n",
       "</table><br/><br/>Notes:<br/>[1] Standard Errors assume that the covariance matrix of the errors is correctly specified.<br/>[2] The condition number is large, 4.26e+03. This might indicate that there are<br/>strong multicollinearity or other numerical problems."
      ],
      "text/plain": [
       "<class 'statsmodels.iolib.summary.Summary'>\n",
       "\"\"\"\n",
       "                            OLS Regression Results                            \n",
       "==============================================================================\n",
       "Dep. Variable:             topicLevel   R-squared:                       0.005\n",
       "Model:                            OLS   Adj. R-squared:                  0.005\n",
       "Method:                 Least Squares   F-statistic:                     240.9\n",
       "Date:                Tue, 20 Jun 2023   Prob (F-statistic):               0.00\n",
       "Time:                        18:58:27   Log-Likelihood:            -1.7992e+06\n",
       "No. Observations:              419131   AIC:                         3.598e+06\n",
       "Df Residuals:                  419121   BIC:                         3.598e+06\n",
       "Df Model:                           9                                         \n",
       "Covariance Type:            nonrobust                                         \n",
       "==========================================================================================\n",
       "                             coef    std err          t      P>|t|      [0.025      0.975]\n",
       "------------------------------------------------------------------------------------------\n",
       "Intercept                  8.2169      0.089     92.370      0.000       8.043       8.391\n",
       "DoW[T.1]                   0.0951      0.100      0.954      0.340      -0.100       0.291\n",
       "DoW[T.2]                   0.0696      0.099      0.700      0.484      -0.125       0.264\n",
       "DoW[T.3]                  -0.0621      0.098     -0.634      0.526      -0.254       0.130\n",
       "DoW[T.4]                  -0.3177      0.099     -3.206      0.001      -0.512      -0.123\n",
       "DoW[T.5]                  -0.1030      0.109     -0.945      0.345      -0.317       0.111\n",
       "DoW[T.6]                  -0.1547      0.111     -1.388      0.165      -0.373       0.064\n",
       "treated[T.1]               1.6984      0.081     21.093      0.000       1.541       1.856\n",
       "stormSize                 -0.0028      0.000    -22.959      0.000      -0.003      -0.003\n",
       "treated[T.1]:stormSize     0.0009      0.000      5.249      0.000       0.001       0.001\n",
       "==============================================================================\n",
       "Omnibus:                   217043.673   Durbin-Watson:                   1.676\n",
       "Prob(Omnibus):                  0.000   Jarque-Bera (JB):          1148728.554\n",
       "Skew:                           2.589   Prob(JB):                         0.00\n",
       "Kurtosis:                       9.243   Cond. No.                     4.26e+03\n",
       "==============================================================================\n",
       "\n",
       "Notes:\n",
       "[1] Standard Errors assume that the covariance matrix of the errors is correctly specified.\n",
       "[2] The condition number is large, 4.26e+03. This might indicate that there are\n",
       "strong multicollinearity or other numerical problems.\n",
       "\"\"\""
      ]
     },
     "execution_count": 454,
     "metadata": {},
     "output_type": "execute_result"
    }
   ],
   "source": [
    "#easier to think in percents\n",
    "pooledDf[\"topicLevel\"] = pooledDf[\"topicLevel\"] * 100\n",
    "mod = smf.ols(formula=\"topicLevel ~ DoW + treated + stormSize + treated:stormSize\", data=pooledDf)\n",
    "\n",
    "res = mod.fit()\n",
    "res.summary()"
   ]
  },
  {
   "cell_type": "code",
   "execution_count": 457,
   "metadata": {},
   "outputs": [
    {
     "data": {
      "text/plain": [
       "23804"
      ]
     },
     "execution_count": 457,
     "metadata": {},
     "output_type": "execute_result"
    }
   ],
   "source": [
    "import os\n",
    "os.getpid()"
   ]
  },
  {
   "cell_type": "code",
   "execution_count": 1,
   "metadata": {},
   "outputs": [
    {
     "ename": "NameError",
     "evalue": "name 'regDf' is not defined",
     "output_type": "error",
     "traceback": [
      "\u001b[0;31m---------------------------------------------------------------------------\u001b[0m",
      "\u001b[0;31mNameError\u001b[0m                                 Traceback (most recent call last)",
      "\u001b[0;32m<ipython-input-1-bd18d5df6b31>\u001b[0m in \u001b[0;36m<module>\u001b[0;34m\u001b[0m\n\u001b[1;32m      1\u001b[0m \u001b[0;31m#what if we do thisas a figure?\u001b[0m\u001b[0;34m\u001b[0m\u001b[0;34m\u001b[0m\u001b[0;34m\u001b[0m\u001b[0m\n\u001b[0;32m----> 2\u001b[0;31m \u001b[0mregDf\u001b[0m\u001b[0;34m\u001b[0m\u001b[0;34m\u001b[0m\u001b[0m\n\u001b[0m",
      "\u001b[0;31mNameError\u001b[0m: name 'regDf' is not defined"
     ]
    }
   ],
   "source": [
    "#what if we do thisas a figure? \n"
   ]
  },
  {
   "cell_type": "code",
   "execution_count": null,
   "metadata": {},
   "outputs": [],
   "source": []
  }
 ],
 "metadata": {
  "kernelspec": {
   "display_name": "Python 3",
   "language": "python",
   "name": "python3"
  },
  "language_info": {
   "codemirror_mode": {
    "name": "ipython",
    "version": 3
   },
   "file_extension": ".py",
   "mimetype": "text/x-python",
   "name": "python",
   "nbconvert_exporter": "python",
   "pygments_lexer": "ipython3",
   "version": "3.8.5"
  }
 },
 "nbformat": 4,
 "nbformat_minor": 4
}
