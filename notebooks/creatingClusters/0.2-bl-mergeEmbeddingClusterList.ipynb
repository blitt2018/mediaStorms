{
 "cells": [
  {
   "cell_type": "markdown",
   "metadata": {},
   "source": [
    "## Merge Cluster Numbers with Original Data\n"
   ]
  },
  {
   "cell_type": "code",
   "execution_count": 1,
   "metadata": {},
   "outputs": [],
   "source": [
    "import pandas as pd"
   ]
  },
  {
   "cell_type": "code",
   "execution_count": 9,
   "metadata": {},
   "outputs": [],
   "source": [
    "#we anticipate having multiple cluster lists for different cutoff \n",
    "CLUST_PATHS = [\"/shared/3/projects/newsDiffusion/data/interim/NEREmbedding/embeddingClusterList2020.pkl\"]\n",
    "CLUST_SPECS = [\"2_1000_80\"]\n",
    "DF_PATH = \"/shared/3/projects/newsDiffusion/data/processed/newsData/fullDataWithNERCleaned.tsv\"\n",
    "OUT_PATH = \"/shared/3/projects/newsDiffusion/data/processed/fullDataWithClustNumsTest.tsv\""
   ]
  },
  {
   "cell_type": "code",
   "execution_count": 10,
   "metadata": {},
   "outputs": [
    {
     "name": "stderr",
     "output_type": "stream",
     "text": [
      "<ipython-input-10-6c45e2367119>:10: DtypeWarning: Columns (3,4,11,12,14,15,18) have mixed types. Specify dtype option on import or set low_memory=False.\n",
      "  df = pd.read_csv(DF_PATH,\\\n"
     ]
    }
   ],
   "source": [
    "#load in main data source \n",
    "#we don't want to use \"content\", because it takes up a lot of space and\n",
    "#we have already embedded the content. Can always merge back in later so long as we \n",
    "#keep the \"key\" column\n",
    "LOAD_COLS = list(pd.read_csv(DF_PATH, \\\n",
    "                     nrows = 1, sep=\"\\t\").columns)\n",
    "#LOAD_COLS.remove(\"content\")\n",
    "#LOAD_COLS.remove(\"NamedEntities\")\n",
    "\n",
    "df = pd.read_csv(DF_PATH,\\\n",
    "                 sep=\"\\t\", usecols=LOAD_COLS)"
   ]
  },
  {
   "cell_type": "code",
   "execution_count": 15,
   "metadata": {},
   "outputs": [],
   "source": [
    "df = df.drop(columns=[\"NamedEntities\"])"
   ]
  },
  {
   "cell_type": "code",
   "execution_count": null,
   "metadata": {},
   "outputs": [],
   "source": []
  },
  {
   "cell_type": "code",
   "execution_count": 20,
   "metadata": {},
   "outputs": [],
   "source": [
    "#keep merging in our new columns to the dataframe \n",
    "for i, clustPath in enumerate(CLUST_PATHS): \n",
    "    currDf = pd.read_pickle(clustPath)\n",
    "    currDf.rename(columns={\"clustNum\":CLUST_SPECS[i]})\n",
    "    df = pd.merge(df, currDf, on=\"key\", how=\"left\")"
   ]
  },
  {
   "cell_type": "code",
   "execution_count": 21,
   "metadata": {},
   "outputs": [],
   "source": [
    "df[\"date\"] = pd.to_datetime(df[\"date\"])\n",
    "\n",
    "df[\"year\"] = df[\"date\"].dt.year\n"
   ]
  },
  {
   "cell_type": "code",
   "execution_count": 8,
   "metadata": {},
   "outputs": [],
   "source": [
    "df = df.drop(columns=[\"Unnamed: 0\"])\n",
    "df.to_csv(OUT_PATH, sep=\"\\t\")"
   ]
  }
 ],
 "metadata": {
  "kernelspec": {
   "display_name": "Python 3",
   "language": "python",
   "name": "python3"
  },
  "language_info": {
   "codemirror_mode": {
    "name": "ipython",
    "version": 3
   },
   "file_extension": ".py",
   "mimetype": "text/x-python",
   "name": "python",
   "nbconvert_exporter": "python",
   "pygments_lexer": "ipython3",
   "version": "3.8.5"
  }
 },
 "nbformat": 4,
 "nbformat_minor": 4
}
