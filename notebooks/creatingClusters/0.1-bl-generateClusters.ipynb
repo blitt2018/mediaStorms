{
 "cells": [
  {
   "cell_type": "markdown",
   "metadata": {},
   "source": [
    "## Sandbox for getting article pair similarity after filtering by named entities "
   ]
  },
  {
   "cell_type": "code",
   "execution_count": 36,
   "metadata": {},
   "outputs": [],
   "source": [
    "import pandas as pd\n",
    "import numpy as np\n",
    "from ast import literal_eval\n",
    "import re\n",
    "import matplotlib.pyplot as plt\n",
    "from sklearn.cluster import AgglomerativeClustering\n",
    "from scipy.spatial import distance \n",
    "from sklearn.metrics.pairwise import cosine_similarity\n",
    "import seaborn as sns\n",
    "from tqdm import tqdm \n",
    "import networkx as nx\n",
    "import pickle"
   ]
  },
  {
   "cell_type": "code",
   "execution_count": 37,
   "metadata": {},
   "outputs": [],
   "source": [
    "#NOTE: very important, which entity categories to keep \n",
    "#article showing all entity types below\n",
    "# https://www.kaggle.com/code/curiousprogrammer/entity-extraction-and-classification-using-spacy\n",
    "TO_KEEP = [\"org\",\"event\", \"person\", \"work_of_art\", \"product\"]\n",
    "CLUSTER_CUTOFF = [2, 1000]\n",
    "#for testing \n",
    "OUT_PATH = \"/shared/3/projects/newsDiffusion/data/interim/NEREmbedding/embeddingClusterDf_2_1000_83.tsv\"\n",
    "SIM_THRESH = .83\n",
    "INVERTED_ENT_PATH = \"/shared/3/projects/newsDiffusion/data/interim/NEREmbedding/invertedEntityIndex.pkl\"\n",
    "EMBEDS_PATH = \"/shared/3/projects/newsDiffusion/data/processed/articleEmbeddings/embeddings.pkl\""
   ]
  },
  {
   "cell_type": "code",
   "execution_count": 38,
   "metadata": {},
   "outputs": [],
   "source": [
    "#this is the df with our inverted index in it\n",
    "invertedDf = pd.read_pickle(INVERTED_ENT_PATH)"
   ]
  },
  {
   "cell_type": "code",
   "execution_count": 39,
   "metadata": {},
   "outputs": [
    {
     "name": "stdout",
     "output_type": "stream",
     "text": [
      "len before filtering: 7436473\n",
      "len after filtering: 2608726\n"
     ]
    }
   ],
   "source": [
    "print(f\"len before filtering: {len(invertedDf)}\")\n",
    "invertedDf = invertedDf[(invertedDf[\"numArticles\"] >= CLUSTER_CUTOFF[0]) & (invertedDf[\"numArticles\"] <= CLUSTER_CUTOFF[1])]\n",
    "print(f\"len after filtering: {len(invertedDf)}\")"
   ]
  },
  {
   "cell_type": "code",
   "execution_count": 40,
   "metadata": {},
   "outputs": [],
   "source": [
    "#a dictionary so we can get the embeddings we need quickly \n",
    "#embeddingsDict = embeddingsDf.set_index(\"key\").to_dict(orient=\"index\")\n",
    "embedsFile = open(EMBEDS_PATH, \"rb\")\n",
    "embeddingsDict = pickle.load(embedsFile)"
   ]
  },
  {
   "cell_type": "code",
   "execution_count": 41,
   "metadata": {},
   "outputs": [],
   "source": [
    "#get a list of the keys that correspond to each named entity \n",
    "#sort so that smaller clusters will be processed first :) \n",
    "keyOptions = list(invertedDf.sort_values(\"numArticles\", ascending=False)[\"key\"])"
   ]
  },
  {
   "cell_type": "code",
   "execution_count": 42,
   "metadata": {},
   "outputs": [],
   "source": [
    "#sanity check, all of the embeddings are the proper length \n",
    "i = 0 \n",
    "for key, val in embeddingsDict.items(): \n",
    "    if len(val[\"embedding\"]) < 768: \n",
    "        print(\"broken\") "
   ]
  },
  {
   "cell_type": "code",
   "execution_count": 43,
   "metadata": {},
   "outputs": [
    {
     "data": {
      "text/html": [
       "<div>\n",
       "<style scoped>\n",
       "    .dataframe tbody tr th:only-of-type {\n",
       "        vertical-align: middle;\n",
       "    }\n",
       "\n",
       "    .dataframe tbody tr th {\n",
       "        vertical-align: top;\n",
       "    }\n",
       "\n",
       "    .dataframe thead th {\n",
       "        text-align: right;\n",
       "    }\n",
       "</style>\n",
       "<table border=\"1\" class=\"dataframe\">\n",
       "  <thead>\n",
       "    <tr style=\"text-align: right;\">\n",
       "      <th></th>\n",
       "      <th>ent_type</th>\n",
       "      <th>entity</th>\n",
       "      <th>key</th>\n",
       "      <th>numArticles</th>\n",
       "    </tr>\n",
       "  </thead>\n",
       "  <tbody>\n",
       "    <tr>\n",
       "      <th>2</th>\n",
       "      <td>event</td>\n",
       "      <td>arab</td>\n",
       "      <td>[4933735, 4933736]</td>\n",
       "      <td>2</td>\n",
       "    </tr>\n",
       "    <tr>\n",
       "      <th>19</th>\n",
       "      <td>event</td>\n",
       "      <td>2005</td>\n",
       "      <td>[410138, 455564, 462313, 466929]</td>\n",
       "      <td>4</td>\n",
       "    </tr>\n",
       "    <tr>\n",
       "      <th>22</th>\n",
       "      <td>event</td>\n",
       "      <td>27th</td>\n",
       "      <td>[1176150, 1190340]</td>\n",
       "      <td>2</td>\n",
       "    </tr>\n",
       "    <tr>\n",
       "      <th>31</th>\n",
       "      <td>event</td>\n",
       "      <td>85</td>\n",
       "      <td>[3530128, 4307053]</td>\n",
       "      <td>2</td>\n",
       "    </tr>\n",
       "    <tr>\n",
       "      <th>33</th>\n",
       "      <td>event</td>\n",
       "      <td>94</td>\n",
       "      <td>[1893807, 1953515]</td>\n",
       "      <td>2</td>\n",
       "    </tr>\n",
       "  </tbody>\n",
       "</table>\n",
       "</div>"
      ],
      "text/plain": [
       "   ent_type   entity                               key  numArticles\n",
       "2     event    arab                 [4933735, 4933736]            2\n",
       "19    event     2005  [410138, 455564, 462313, 466929]            4\n",
       "22    event     27th                [1176150, 1190340]            2\n",
       "31    event       85                [3530128, 4307053]            2\n",
       "33    event       94                [1893807, 1953515]            2"
      ]
     },
     "execution_count": 43,
     "metadata": {},
     "output_type": "execute_result"
    }
   ],
   "source": [
    "invertedDf.head()"
   ]
  },
  {
   "cell_type": "code",
   "execution_count": 44,
   "metadata": {},
   "outputs": [],
   "source": [
    "from sklearn.metrics.pairwise import cosine_similarity\n",
    "entGroup = keyOptions[0]\n",
    "myMat = np.matrix([embeddingsDict[key][\"embedding\"] for key in entGroup])"
   ]
  },
  {
   "cell_type": "code",
   "execution_count": 45,
   "metadata": {},
   "outputs": [],
   "source": [
    "pairSims = cosine_similarity(myMat)"
   ]
  },
  {
   "cell_type": "code",
   "execution_count": 46,
   "metadata": {},
   "outputs": [
    {
     "name": "stderr",
     "output_type": "stream",
     "text": [
      "100%|██████████| 2608726/2608726 [52:20<00:00, 830.76it/s] \n"
     ]
    }
   ],
   "source": [
    "#a dictionary of pairs we've considered \n",
    "#compared = {i:{} for i in range(0, 6000000)}\n",
    "\n",
    "outDict = {}\n",
    "outList = []\n",
    "\n",
    "#for each list of article keys associated with entities \n",
    "for i, entGroup in enumerate(tqdm(keyOptions)): \n",
    "    \n",
    "    #within each list of article keys, consider the unique pairs \n",
    "    #and get their cosine similarities \n",
    "    #for i in range(0, len(entGroup)): \n",
    "    myMat = np.matrix([embeddingsDict[key][\"embedding\"] for key in entGroup])\n",
    "    pairSims = cosine_similarity(myMat)\n",
    "    \n",
    "    for i, lKey in enumerate(entGroup):\n",
    "        for j, rKey in enumerate(entGroup):\n",
    "            sim = pairSims[i,j]\n",
    "            if sim >= .6: \n",
    "                outDict[(lKey, rKey)] = sim\n",
    "            \n"
   ]
  },
  {
   "cell_type": "code",
   "execution_count": 48,
   "metadata": {},
   "outputs": [],
   "source": [
    "compared = outDict"
   ]
  },
  {
   "cell_type": "code",
   "execution_count": 49,
   "metadata": {},
   "outputs": [],
   "source": [
    "#turn our dictionary of article similarities into a dataframe for easier manipulation if need be \n",
    "pairsDf = pd.DataFrame.from_dict(compared, orient=\"index\").reset_index()"
   ]
  },
  {
   "cell_type": "code",
   "execution_count": 50,
   "metadata": {},
   "outputs": [],
   "source": [
    "pairsDf[[\"key1\", \"key2\"]] = pairsDf[\"index\"].tolist()"
   ]
  },
  {
   "cell_type": "code",
   "execution_count": 51,
   "metadata": {},
   "outputs": [],
   "source": [
    "pairsDf = pairsDf.drop(columns=\"index\")"
   ]
  },
  {
   "cell_type": "code",
   "execution_count": 52,
   "metadata": {},
   "outputs": [],
   "source": [
    "pairsDf = pairsDf.rename(columns={0:\"simScore\"})"
   ]
  },
  {
   "cell_type": "code",
   "execution_count": 53,
   "metadata": {},
   "outputs": [
    {
     "data": {
      "text/plain": [
       "(array([64262374., 48747868., 36325320., 26474026., 18715388., 12753722.,\n",
       "         8084318.,  4503328.,  2543734.,  6249132.]),\n",
       " array([0.6 , 0.64, 0.68, 0.72, 0.76, 0.8 , 0.84, 0.88, 0.92, 0.96, 1.  ]),\n",
       " <BarContainer object of 10 artists>)"
      ]
     },
     "execution_count": 53,
     "metadata": {},
     "output_type": "execute_result"
    },
    {
     "data": {
      "image/png": "[encoded data removed]",
      "text/plain": [
       "<Figure size 432x288 with 1 Axes>"
      ]
     },
     "metadata": {
      "needs_background": "light"
     },
     "output_type": "display_data"
    }
   ],
   "source": [
    "plt.hist(pairsDf[\"simScore\"])"
   ]
  },
  {
   "cell_type": "code",
   "execution_count": 70,
   "metadata": {},
   "outputs": [],
   "source": [
    "overThresh = pairsDf[pairsDf[\"simScore\"] >= SIM_THRESH]"
   ]
  },
  {
   "cell_type": "code",
   "execution_count": 55,
   "metadata": {},
   "outputs": [],
   "source": [
    "graph = nx.from_pandas_edgelist(overThresh[[\"key1\", \"key2\"]], \"key1\", \"key2\")\n",
    "\n",
    "components = nx.connected_components(graph)\n",
    "compList = [comp for comp in components]"
   ]
  },
  {
   "cell_type": "code",
   "execution_count": 61,
   "metadata": {},
   "outputs": [
    {
     "data": {
      "text/plain": [
       "2123624"
      ]
     },
     "execution_count": 61,
     "metadata": {},
     "output_type": "execute_result"
    }
   ],
   "source": [
    "len(compList)"
   ]
  },
  {
   "cell_type": "code",
   "execution_count": 62,
   "metadata": {},
   "outputs": [
    {
     "data": {
      "text/plain": [
       "24094126"
      ]
     },
     "execution_count": 62,
     "metadata": {},
     "output_type": "execute_result"
    }
   ],
   "source": [
    "len(overThresh)"
   ]
  },
  {
   "cell_type": "code",
   "execution_count": 59,
   "metadata": {},
   "outputs": [],
   "source": [
    "clusters = pd.DataFrame({\"cluster\":compList}) #.reset_index()\n",
    "\n",
    "#we can remove clusters of size one \n",
    "clusters[\"clustSize\"] = clusters[\"cluster\"].apply(lambda x: len(list(x)))\n",
    "\n",
    "clusters = clusters[clusters[\"clustSize\"] > 1]\n",
    "\n",
    "clusters[\"clustNum\"] = list(range(0, len(clusters)))"
   ]
  },
  {
   "cell_type": "code",
   "execution_count": 65,
   "metadata": {},
   "outputs": [],
   "source": [
    "clustDf = clusters.explode(\"cluster\").rename(columns={\"index\":\"clustNum\", \"cluster\":\"key\"})"
   ]
  },
  {
   "cell_type": "code",
   "execution_count": 66,
   "metadata": {},
   "outputs": [],
   "source": [
    "clustSizes = pd.DataFrame(clustDf[\"clustNum\"].value_counts()).reset_index()\n",
    "\n",
    "clustSizes.value_counts()"
   ]
  },
  {
   "cell_type": "code",
   "execution_count": 68,
   "metadata": {},
   "outputs": [
    {
     "data": {
      "text/plain": [
       "(0.0, 5000.0)"
      ]
     },
     "execution_count": 68,
     "metadata": {},
     "output_type": "execute_result"
    },
    {
     "data": {
      "image/png": "[encoded data removed]",
      "text/plain": [
       "<Figure size 432x288 with 1 Axes>"
      ]
     },
     "metadata": {
      "needs_background": "light"
     },
     "output_type": "display_data"
    }
   ],
   "source": [
    "plt.hist(clustSizes[\"count\"], bins=np.arange(0, 5000, 100))\n",
    "plt.ylim(0, 300)\n",
    "plt.xlim(0, 5000)"
   ]
  },
  {
   "cell_type": "code",
   "execution_count": 112,
   "metadata": {},
   "outputs": [
    {
     "data": {
      "text/html": [
       "<div>\n",
       "<style scoped>\n",
       "    .dataframe tbody tr th:only-of-type {\n",
       "        vertical-align: middle;\n",
       "    }\n",
       "\n",
       "    .dataframe tbody tr th {\n",
       "        vertical-align: top;\n",
       "    }\n",
       "\n",
       "    .dataframe thead th {\n",
       "        text-align: right;\n",
       "    }\n",
       "</style>\n",
       "<table border=\"1\" class=\"dataframe\">\n",
       "  <thead>\n",
       "    <tr style=\"text-align: right;\">\n",
       "      <th></th>\n",
       "      <th>key</th>\n",
       "      <th>clustSize</th>\n",
       "      <th>clustNum</th>\n",
       "    </tr>\n",
       "  </thead>\n",
       "  <tbody>\n",
       "    <tr>\n",
       "      <th>0</th>\n",
       "      <td>814</td>\n",
       "      <td>2</td>\n",
       "      <td>0</td>\n",
       "    </tr>\n",
       "    <tr>\n",
       "      <th>0</th>\n",
       "      <td>2631</td>\n",
       "      <td>2</td>\n",
       "      <td>0</td>\n",
       "    </tr>\n",
       "    <tr>\n",
       "      <th>1</th>\n",
       "      <td>68890</td>\n",
       "      <td>3</td>\n",
       "      <td>1</td>\n",
       "    </tr>\n",
       "    <tr>\n",
       "      <th>1</th>\n",
       "      <td>70380</td>\n",
       "      <td>3</td>\n",
       "      <td>1</td>\n",
       "    </tr>\n",
       "    <tr>\n",
       "      <th>1</th>\n",
       "      <td>75348</td>\n",
       "      <td>3</td>\n",
       "      <td>1</td>\n",
       "    </tr>\n",
       "  </tbody>\n",
       "</table>\n",
       "</div>"
      ],
      "text/plain": [
       "     key  clustSize  clustNum\n",
       "0    814          2         0\n",
       "0   2631          2         0\n",
       "1  68890          3         1\n",
       "1  70380          3         1\n",
       "1  75348          3         1"
      ]
     },
     "execution_count": 112,
     "metadata": {},
     "output_type": "execute_result"
    }
   ],
   "source": [
    "clustDf.head()"
   ]
  },
  {
   "cell_type": "code",
   "execution_count": 71,
   "metadata": {},
   "outputs": [],
   "source": [
    "clustDf.to_csv(OUT_PATH, sep=\"\\t\")"
   ]
  },
  {
   "cell_type": "code",
   "execution_count": null,
   "metadata": {},
   "outputs": [],
   "source": []
  }
 ],
 "metadata": {
  "kernelspec": {
   "display_name": "Python 3",
   "language": "python",
   "name": "python3"
  },
  "language_info": {
   "codemirror_mode": {
    "name": "ipython",
    "version": 3
   },
   "file_extension": ".py",
   "mimetype": "text/x-python",
   "name": "python",
   "nbconvert_exporter": "python",
   "pygments_lexer": "ipython3",
   "version": "3.8.5"
  }
 },
 "nbformat": 4,
 "nbformat_minor": 5
}
