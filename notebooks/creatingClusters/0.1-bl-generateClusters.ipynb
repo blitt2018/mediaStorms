{
 "cells": [
  {
   "cell_type": "markdown",
   "metadata": {},
   "source": [
    "## Sandbox for getting article pair similarity after filtering by named entities "
   ]
  },
  {
   "cell_type": "code",
   "execution_count": 2,
   "metadata": {},
   "outputs": [],
   "source": [
    "import pandas as pd\n",
    "import numpy as np\n",
    "from ast import literal_eval\n",
    "import re\n",
    "import matplotlib.pyplot as plt\n",
    "from sklearn.cluster import AgglomerativeClustering\n",
    "from scipy.spatial import distance \n",
    "from sklearn.metrics.pairwise import cosine_similarity\n",
    "import seaborn as sns\n",
    "from tqdm import tqdm \n",
    "import networkx as nx\n",
    "import pickle"
   ]
  },
  {
   "cell_type": "code",
   "execution_count": 3,
   "metadata": {},
   "outputs": [],
   "source": [
    "#NOTE: very important, which entity categories to keep \n",
    "#article showing all entity types below\n",
    "# https://www.kaggle.com/code/curiousprogrammer/entity-extraction-and-classification-using-spacy\n",
    "TO_KEEP = [\"org\",\"event\", \"person\", \"work_of_art\", \"product\"]\n",
    "CLUSTER_CUTOFF = [2, 10000]\n",
    "#for testing \n",
    "\n",
    "SIM_THRESH = .8\n",
    "INVERTED_ENT_PATH = \"/shared/3/projects/newsDiffusion/data/interim/NEREmbedding/invertedEntityIndex.pkl\"\n",
    "EMBEDS_PATH = \"/shared/3/projects/newsDiffusion/data/processed/articleEmbeddings/embeddings.pkl\"\n",
    "\n",
    "CLEANED_DF_PATH = \"/shared/3/projects/newsDiffusion/data/processed/newsData/fullDataWithNERCleaned.tsv\""
   ]
  },
  {
   "cell_type": "code",
   "execution_count": 4,
   "metadata": {},
   "outputs": [],
   "source": [
    "#this is the df with our inverted index in it\n",
    "invertedDf = pd.read_pickle(INVERTED_ENT_PATH)"
   ]
  },
  {
   "cell_type": "code",
   "execution_count": 5,
   "metadata": {},
   "outputs": [
    {
     "name": "stdout",
     "output_type": "stream",
     "text": [
      "len before filtering: 7436473\n",
      "len after filtering: 2613960\n"
     ]
    }
   ],
   "source": [
    "print(f\"len before filtering: {len(invertedDf)}\")\n",
    "invertedDf = invertedDf[(invertedDf[\"numArticles\"] >= CLUSTER_CUTOFF[0]) & (invertedDf[\"numArticles\"] <= CLUSTER_CUTOFF[1])]\n",
    "print(f\"len after filtering: {len(invertedDf)}\")"
   ]
  },
  {
   "cell_type": "code",
   "execution_count": 6,
   "metadata": {},
   "outputs": [],
   "source": [
    "#a dictionary so we can get the embeddings we need quickly \n",
    "#embeddingsDict = embeddingsDf.set_index(\"key\").to_dict(orient=\"index\")\n",
    "embedsFile = open(EMBEDS_PATH, \"rb\")\n",
    "embeddingsDict = pickle.load(embedsFile)"
   ]
  },
  {
   "cell_type": "code",
   "execution_count": 7,
   "metadata": {},
   "outputs": [],
   "source": [
    "#get a list of the keys that correspond to each named entity \n",
    "#sort so that smaller clusters will be processed first :) \n",
    "keyOptions = list(invertedDf.sort_values(\"numArticles\", ascending=False)[\"key\"])"
   ]
  },
  {
   "cell_type": "code",
   "execution_count": 8,
   "metadata": {},
   "outputs": [],
   "source": [
    "#sanity check, all of the embeddings are the proper length \n",
    "i = 0 \n",
    "for key, val in embeddingsDict.items(): \n",
    "    if len(val[\"embedding\"]) < 768: \n",
    "        print(\"broken\") "
   ]
  },
  {
   "cell_type": "code",
   "execution_count": 9,
   "metadata": {},
   "outputs": [],
   "source": [
    "from sklearn.metrics.pairwise import cosine_similarity\n",
    "entGroup = keyOptions[0]\n",
    "myMat = np.matrix([embeddingsDict[key][\"embedding\"] for key in entGroup])"
   ]
  },
  {
   "cell_type": "code",
   "execution_count": 10,
   "metadata": {},
   "outputs": [],
   "source": [
    "pairSims = cosine_similarity(myMat)"
   ]
  },
  {
   "cell_type": "code",
   "execution_count": null,
   "metadata": {},
   "outputs": [],
   "source": []
  },
  {
   "cell_type": "code",
   "execution_count": 21,
   "metadata": {},
   "outputs": [
    {
     "name": "stderr",
     "output_type": "stream",
     "text": [
      "100%|██████████| 2613960/2613960 [4:30:50<00:00, 160.85it/s] \n"
     ]
    }
   ],
   "source": [
    "#a dictionary of pairs we've considered \n",
    "#compared = {i:{} for i in range(0, 6000000)}\n",
    "\n",
    "outDict = {}\n",
    "outList = []\n",
    "\n",
    "#for each list of article keys associated with entities \n",
    "for i, entGroup in enumerate(tqdm(keyOptions)): \n",
    "    \n",
    "    #within each list of article keys, consider the unique pairs \n",
    "    #and get their cosine similarities \n",
    "    #for i in range(0, len(entGroup)): \n",
    "    myMat = np.matrix([embeddingsDict[key][\"embedding\"] for key in entGroup])\n",
    "    pairSims = cosine_similarity(myMat)\n",
    "    \n",
    "    for i, lKey in enumerate(entGroup):\n",
    "        for j, rKey in enumerate(entGroup):\n",
    "            sim = pairSims[i,j]\n",
    "            if sim >= SIM_THRESH: \n",
    "                outDict[(lKey, rKey)] = sim"
   ]
  },
  {
   "cell_type": "code",
   "execution_count": 23,
   "metadata": {},
   "outputs": [],
   "source": [
    "compared = outDict"
   ]
  },
  {
   "cell_type": "code",
   "execution_count": 24,
   "metadata": {},
   "outputs": [],
   "source": [
    "#turn our dictionary of article similarities into a dataframe for easier manipulation if need be \n",
    "pairsDf = pd.DataFrame.from_dict(compared, orient=\"index\").reset_index()\n",
    "\n",
    "pairsDf[[\"key1\", \"key2\"]] = pairsDf[\"index\"].tolist()\n",
    "\n",
    "pairsDf = pairsDf.drop(columns=\"index\")\n",
    "\n",
    "pairsDf = pairsDf.rename(columns={0:\"simScore\"})"
   ]
  },
  {
   "cell_type": "code",
   "execution_count": 25,
   "metadata": {},
   "outputs": [
    {
     "data": {
      "text/plain": [
       "(array([11091776.,  8586892.,  6496276.,  4765864.,  3334812.,  2226804.,\n",
       "         1519936.,  1254658.,  1978072.,  4442959.]),\n",
       " array([0.8 , 0.82, 0.84, 0.86, 0.88, 0.9 , 0.92, 0.94, 0.96, 0.98, 1.  ]),\n",
       " <BarContainer object of 10 artists>)"
      ]
     },
     "execution_count": 25,
     "metadata": {},
     "output_type": "execute_result"
    },
    {
     "data": {
      "image/png": "[encoded data removed]",
      "text/plain": [
       "<Figure size 432x288 with 1 Axes>"
      ]
     },
     "metadata": {
      "needs_background": "light"
     },
     "output_type": "display_data"
    }
   ],
   "source": [
    "plt.hist(pairsDf[\"simScore\"])"
   ]
  },
  {
   "cell_type": "code",
   "execution_count": 45,
   "metadata": {},
   "outputs": [
    {
     "name": "stderr",
     "output_type": "stream",
     "text": [
      "100%|██████████| 4/4 [05:12<00:00, 78.08s/it]\n"
     ]
    }
   ],
   "source": [
    "#overThresh = pairsDf[pairsDf[\"simScore\"] >= SIM_THRESH]\n",
    "\n",
    "BASE_PATH = \"/shared/3/projects/newsDiffusion/data/interim/NEREmbedding/\"\n",
    "#OUT_PATHS = [\"embeddingClusterDf_2_3000_83.tsv\", \"embeddingClusterDf_2_3000_85.tsv\", \"embeddingClusterDf_2_3000_87.tsv\", \"embeddingClusterDf_2_3000_9.tsv\"]\n",
    "#OUT_PATHS = [embeddingClusterDf_2_10000_90.tsv]\n",
    "CUTOFFS = [.83, .85, .87, .90]\n",
    "\n",
    "for i, cutoff in enumerate(tqdm(CUTOFFS)): \n",
    "    outPath = BASE_PATH + OUT_PATHS[i]\n",
    "    overThresh = pairsDf[pairsDf[\"simScore\"] >= cutoff]\n",
    "    graph = nx.from_pandas_edgelist(overThresh[[\"key1\", \"key2\"]], \"key1\", \"key2\")\n",
    "\n",
    "    components = nx.connected_components(graph)\n",
    "    compList = [comp for comp in components]\n",
    "\n",
    "    clusters = pd.DataFrame({\"cluster\":compList}) #.reset_index()\n",
    "\n",
    "    #we can remove clusters of size one \n",
    "    clusters[\"clustSize\"] = clusters[\"cluster\"].apply(lambda x: len(list(x)))\n",
    "\n",
    "    clusters = clusters[clusters[\"clustSize\"] > 1]\n",
    "\n",
    "    clusters[\"clustNum\"] = list(range(0, len(clusters)))\n",
    "\n",
    "    clustDf = clusters.explode(\"cluster\").rename(columns={\"index\":\"clustNum\", \"cluster\":\"key\"})\n",
    "\n",
    "    clustSizes = pd.DataFrame(clustDf[\"clustNum\"].value_counts()).reset_index()\n",
    "\n",
    "    clustSizes.value_counts()\n",
    "    \n",
    "    clustDf.to_csv(outPath, sep=\"\\t\")"
   ]
  },
  {
   "cell_type": "code",
   "execution_count": 47,
   "metadata": {},
   "outputs": [
    {
     "data": {
      "text/plain": [
       "2335"
      ]
     },
     "execution_count": 47,
     "metadata": {},
     "output_type": "execute_result"
    }
   ],
   "source": [
    "max(clustDf[\"clustSize\"])"
   ]
  },
  {
   "cell_type": "code",
   "execution_count": 33,
   "metadata": {},
   "outputs": [
    {
     "data": {
      "text/plain": [
       "(0.0, 5000.0)"
      ]
     },
     "execution_count": 33,
     "metadata": {},
     "output_type": "execute_result"
    },
    {
     "data": {
      "image/png": "[encoded data removed]",
      "text/plain": [
       "<Figure size 432x288 with 1 Axes>"
      ]
     },
     "metadata": {
      "needs_background": "light"
     },
     "output_type": "display_data"
    }
   ],
   "source": [
    "plt.hist(clustSizes[\"count\"], bins=np.arange(0, 5000, 100))\n",
    "plt.ylim(0, 300)\n",
    "plt.xlim(0, 5000)"
   ]
  },
  {
   "cell_type": "code",
   "execution_count": 42,
   "metadata": {},
   "outputs": [
    {
     "name": "stdout",
     "output_type": "stream",
     "text": [
      "   clustNum   count\n",
      "0         3  335041\n",
      "1       257   21645\n",
      "2      1993    7793\n",
      "3      5049    5071\n",
      "4      1617    5024\n"
     ]
    }
   ],
   "source": [
    "print(clustSizes.head())"
   ]
  },
  {
   "cell_type": "code",
   "execution_count": 35,
   "metadata": {},
   "outputs": [],
   "source": [
    "clustDf.to_csv(OUT_PATH, sep=\"\\t\")"
   ]
  }
 ],
 "metadata": {
  "kernelspec": {
   "display_name": "Python 3",
   "language": "python",
   "name": "python3"
  },
  "language_info": {
   "codemirror_mode": {
    "name": "ipython",
    "version": 3
   },
   "file_extension": ".py",
   "mimetype": "text/x-python",
   "name": "python",
   "nbconvert_exporter": "python",
   "pygments_lexer": "ipython3",
   "version": "3.8.5"
  }
 },
 "nbformat": 4,
 "nbformat_minor": 5
}
