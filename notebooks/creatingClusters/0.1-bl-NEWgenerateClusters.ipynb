{
 "cells": [
  {
   "cell_type": "markdown",
   "metadata": {},
   "source": [
    "## Sandbox for getting article pair similarity after filtering by named entities "
   ]
  },
  {
   "cell_type": "code",
   "execution_count": 26,
   "metadata": {},
   "outputs": [],
   "source": [
    "import pandas as pd\n",
    "import numpy as np\n",
    "from ast import literal_eval\n",
    "import re\n",
    "import matplotlib.pyplot as plt\n",
    "from sklearn.cluster import AgglomerativeClustering\n",
    "from scipy.spatial import distance \n",
    "from sklearn.metrics.pairwise import cosine_similarity\n",
    "import seaborn as sns\n",
    "from tqdm import tqdm \n",
    "import networkx as nx\n",
    "import pickle"
   ]
  },
  {
   "cell_type": "code",
   "execution_count": 27,
   "metadata": {},
   "outputs": [],
   "source": [
    "#NOTE: very important, which entity categories to keep \n",
    "#article showing all entity types below\n",
    "# https://www.kaggle.com/code/curiousprogrammer/entity-extraction-and-classification-using-spacy\n",
    "TO_KEEP = [\"org\",\"event\", \"person\", \"work_of_art\", \"product\"]\n",
    "CLUSTER_CUTOFF = [2, 20000]\n",
    "#for testing \n",
    "\n",
    "SIM_THRESH = .8\n",
    "INVERTED_ENT_PATH = \"/shared/3/projects/newsDiffusion/data/interim/NEREmbedding/invertedEntityIndex.pkl\"\n",
    "EMBEDS_PATH = \"/shared/3/projects/newsDiffusion/data/processed/articleEmbeddings/embeddings.pkl\"\n",
    "\n",
    "CLEANED_DF_PATH = \"/shared/3/projects/newsDiffusion/data/processed/newsData/fullDataWithNERCleaned.tsv\""
   ]
  },
  {
   "cell_type": "code",
   "execution_count": 29,
   "metadata": {},
   "outputs": [],
   "source": [
    "#this is the df with our inverted index in it\n",
    "invertedDf = pd.read_pickle(INVERTED_ENT_PATH)"
   ]
  },
  {
   "cell_type": "code",
   "execution_count": 30,
   "metadata": {},
   "outputs": [
    {
     "data": {
      "text/html": [
       "<div>\n",
       "<style scoped>\n",
       "    .dataframe tbody tr th:only-of-type {\n",
       "        vertical-align: middle;\n",
       "    }\n",
       "\n",
       "    .dataframe tbody tr th {\n",
       "        vertical-align: top;\n",
       "    }\n",
       "\n",
       "    .dataframe thead th {\n",
       "        text-align: right;\n",
       "    }\n",
       "</style>\n",
       "<table border=\"1\" class=\"dataframe\">\n",
       "  <thead>\n",
       "    <tr style=\"text-align: right;\">\n",
       "      <th></th>\n",
       "      <th>ent_type</th>\n",
       "      <th>entity</th>\n",
       "      <th>key</th>\n",
       "      <th>numArticles</th>\n",
       "    </tr>\n",
       "  </thead>\n",
       "  <tbody>\n",
       "    <tr>\n",
       "      <th>7021892</th>\n",
       "      <td>person</td>\n",
       "      <td>trump</td>\n",
       "      <td>[1698421, 3164668, 3164664, 3164635, 2362776, ...</td>\n",
       "      <td>508605</td>\n",
       "    </tr>\n",
       "    <tr>\n",
       "      <th>3793705</th>\n",
       "      <td>person</td>\n",
       "      <td>biden</td>\n",
       "      <td>[2362808, 2362807, 2362756, 2791187, 2362857, ...</td>\n",
       "      <td>396233</td>\n",
       "    </tr>\n",
       "    <tr>\n",
       "      <th>4385786</th>\n",
       "      <td>person</td>\n",
       "      <td>donald trump</td>\n",
       "      <td>[1698421, 3164668, 3164664, 3164635, 2362776, ...</td>\n",
       "      <td>350400</td>\n",
       "    </tr>\n",
       "    <tr>\n",
       "      <th>5181004</th>\n",
       "      <td>person</td>\n",
       "      <td>joe biden</td>\n",
       "      <td>[2362808, 2362807, 2362809, 2362756, 2362759, ...</td>\n",
       "      <td>322050</td>\n",
       "    </tr>\n",
       "    <tr>\n",
       "      <th>3128310</th>\n",
       "      <td>org</td>\n",
       "      <td>trump</td>\n",
       "      <td>[3164668, 3164664, 2362793, 2791815, 2362754, ...</td>\n",
       "      <td>248328</td>\n",
       "    </tr>\n",
       "  </tbody>\n",
       "</table>\n",
       "</div>"
      ],
      "text/plain": [
       "        ent_type        entity   \n",
       "7021892   person         trump  \\\n",
       "3793705   person         biden   \n",
       "4385786   person  donald trump   \n",
       "5181004   person     joe biden   \n",
       "3128310      org         trump   \n",
       "\n",
       "                                                       key  numArticles  \n",
       "7021892  [1698421, 3164668, 3164664, 3164635, 2362776, ...       508605  \n",
       "3793705  [2362808, 2362807, 2362756, 2791187, 2362857, ...       396233  \n",
       "4385786  [1698421, 3164668, 3164664, 3164635, 2362776, ...       350400  \n",
       "5181004  [2362808, 2362807, 2362809, 2362756, 2362759, ...       322050  \n",
       "3128310  [3164668, 3164664, 2362793, 2791815, 2362754, ...       248328  "
      ]
     },
     "execution_count": 30,
     "metadata": {},
     "output_type": "execute_result"
    }
   ],
   "source": [
    "invertedDf.sort_values(\"numArticles\", ascending=False).head()"
   ]
  },
  {
   "cell_type": "code",
   "execution_count": 31,
   "metadata": {},
   "outputs": [
    {
     "name": "stdout",
     "output_type": "stream",
     "text": [
      "len before filtering: 7436473\n",
      "len after filtering: 2614176\n"
     ]
    }
   ],
   "source": [
    "print(f\"len before filtering: {len(invertedDf)}\")\n",
    "invertedDf = invertedDf[(invertedDf[\"numArticles\"] >= CLUSTER_CUTOFF[0]) & (invertedDf[\"numArticles\"] <= CLUSTER_CUTOFF[1])]\n",
    "print(f\"len after filtering: {len(invertedDf)}\")"
   ]
  },
  {
   "cell_type": "code",
   "execution_count": 32,
   "metadata": {},
   "outputs": [
    {
     "data": {
      "text/plain": [
       "19817"
      ]
     },
     "execution_count": 32,
     "metadata": {},
     "output_type": "execute_result"
    }
   ],
   "source": [
    "max(invertedDf[\"numArticles\"])"
   ]
  },
  {
   "cell_type": "code",
   "execution_count": 8,
   "metadata": {},
   "outputs": [],
   "source": [
    "#a dictionary so we can get the embeddings we need quickly \n",
    "#embeddingsDict = embeddingsDf.set_index(\"key\").to_dict(orient=\"index\")\n",
    "embedsFile = open(EMBEDS_PATH, \"rb\")\n",
    "embeddingsDict = pickle.load(embedsFile)"
   ]
  },
  {
   "cell_type": "code",
   "execution_count": 33,
   "metadata": {},
   "outputs": [],
   "source": [
    "#get a list of the keys that correspond to each named entity \n",
    "#sort so that smaller clusters will be processed first :) \n",
    "keyOptions = list(invertedDf.sort_values(\"numArticles\", ascending=False)[\"key\"])"
   ]
  },
  {
   "cell_type": "code",
   "execution_count": 34,
   "metadata": {},
   "outputs": [],
   "source": [
    "from numpy import dot\n",
    "import math"
   ]
  },
  {
   "cell_type": "code",
   "execution_count": 35,
   "metadata": {},
   "outputs": [
    {
     "name": "stderr",
     "output_type": "stream",
     "text": [
      "100%|██████████| 2614176/2614176 [43:32<00:00, 1000.72it/s]\n"
     ]
    }
   ],
   "source": [
    "#a dictionary of pairs we've considered \n",
    "#compared = {i:{} for i in range(0, 6000000)}\n",
    "\n",
    "simList = []\n",
    "lKeyList = []\n",
    "rKeyList = []\n",
    "\n",
    "#for each list of article keys associated with entities \n",
    "for i, entGroup in enumerate(tqdm(keyOptions)): \n",
    "    \n",
    "    #within each list of article keys, consider the unique pairs \n",
    "    #and get their cosine similarities \n",
    "    #for i in range(0, len(entGroup)): \n",
    "    myMat = np.matrix([embeddingsDict[key][\"embedding\"] for key in entGroup])\n",
    "    pairSims = cosine_similarity(myMat).flatten()\n",
    "    entGroup = np.array(entGroup)\n",
    "    \n",
    "    greaterThan = np.where(pairSims > .8)\n",
    "    simList.append(pairSims[greaterThan])\n",
    "    \n",
    "    #get the equivalent row and column indices to what we have in the flattened array \n",
    "    left = [math.floor(index / len(entGroup)) for index in greaterThan[0]]\n",
    "    right = [index % len(entGroup) for index in greaterThan[0]]\n",
    "    \n",
    "    #get the keys corresponding to the elements we selected from the list \n",
    "    lKeyList.append(entGroup[left])\n",
    "    rKeyList.append(entGroup[right])\n",
    "    \n",
    "    \n",
    "    \"\"\"\n",
    "    for i, lKey in enumerate(entGroup):\n",
    "        for j, rKey in enumerate(entGroup):\n",
    "            pass\n",
    "            #sim = pairSims[i,j]\n",
    "            \n",
    "            if sim >= SIM_THRESH: \n",
    "                outDict[(lKey, rKey)] = sim\n",
    "    \"\"\" \n"
   ]
  },
  {
   "cell_type": "code",
   "execution_count": 36,
   "metadata": {},
   "outputs": [],
   "source": [
    "#concatenate all of the lists of np arrays we made \n",
    "simCat = np.concatenate(simList)\n",
    "lKeyCat = np.concatenate(lKeyList)\n",
    "rKeyCat = np.concatenate(rKeyList)"
   ]
  },
  {
   "cell_type": "code",
   "execution_count": 37,
   "metadata": {},
   "outputs": [],
   "source": [
    "pairsDf = pd.DataFrame({\"lKey\":lKeyCat, \"rKey\":rKeyCat,\"simScore\":simCat})"
   ]
  },
  {
   "cell_type": "code",
   "execution_count": 14,
   "metadata": {},
   "outputs": [],
   "source": [
    "from scipy.spatial.distance import cosine"
   ]
  },
  {
   "cell_type": "code",
   "execution_count": 15,
   "metadata": {},
   "outputs": [
    {
     "data": {
      "text/plain": [
       "1"
      ]
     },
     "execution_count": 15,
     "metadata": {},
     "output_type": "execute_result"
    }
   ],
   "source": [
    "#quick sanity check\n",
    "randIndex = 56566740\n",
    "randRow = pairsDf.loc[randIndex]\n",
    "\n",
    "1 - cosine(embeddingsDict[randRow[\"lKey\"]][\"embedding\"], embeddingsDict[randRow[\"rKey\"]][\"embedding\"])\n"
   ]
  },
  {
   "cell_type": "code",
   "execution_count": 16,
   "metadata": {},
   "outputs": [
    {
     "data": {
      "text/plain": [
       "1.0000000000000009"
      ]
     },
     "execution_count": 16,
     "metadata": {},
     "output_type": "execute_result"
    }
   ],
   "source": [
    "#same thing!\n",
    "randRow[\"simScore\"]"
   ]
  },
  {
   "cell_type": "code",
   "execution_count": 128,
   "metadata": {},
   "outputs": [
    {
     "data": {
      "text/plain": [
       "(array([59479338., 46855108., 36062156., 27001246., 19874420., 14838914.,\n",
       "        13012390., 14586432., 31507106., 54381700.]),\n",
       " array([0.8 , 0.82, 0.84, 0.86, 0.88, 0.9 , 0.92, 0.94, 0.96, 0.98, 1.  ]),\n",
       " <BarContainer object of 10 artists>)"
      ]
     },
     "execution_count": 128,
     "metadata": {},
     "output_type": "execute_result"
    },
    {
     "data": {
      "image/png": "[encoded data removed]",
      "text/plain": [
       "<Figure size 432x288 with 1 Axes>"
      ]
     },
     "metadata": {
      "needs_background": "light"
     },
     "output_type": "display_data"
    }
   ],
   "source": [
    "plt.hist(pairsDf[\"simScore\"])"
   ]
  },
  {
   "cell_type": "code",
   "execution_count": 38,
   "metadata": {},
   "outputs": [],
   "source": [
    "pairsUnique = pairsDf.drop_duplicates(subset=[\"lKey\", \"rKey\"])"
   ]
  },
  {
   "cell_type": "code",
   "execution_count": 18,
   "metadata": {},
   "outputs": [],
   "source": [
    "artsDf = pd.read_csv(CLEANED_DF_PATH,usecols=[\"key\", \"date\"], sep=\"\\t\")"
   ]
  },
  {
   "cell_type": "code",
   "execution_count": 19,
   "metadata": {},
   "outputs": [],
   "source": [
    "artsDf[\"date\"] = pd.to_datetime(artsDf[\"date\"])"
   ]
  },
  {
   "cell_type": "code",
   "execution_count": 20,
   "metadata": {},
   "outputs": [],
   "source": [
    "dateDict = artsDf.set_index(\"key\").to_dict(orient=\"index\")"
   ]
  },
  {
   "cell_type": "code",
   "execution_count": 23,
   "metadata": {},
   "outputs": [],
   "source": [
    "import math \n",
    "import numpy as np"
   ]
  },
  {
   "cell_type": "code",
   "execution_count": 41,
   "metadata": {},
   "outputs": [
    {
     "name": "stderr",
     "output_type": "stream",
     "text": [
      "100%|██████████| 317598810/317598810 [1:23:32<00:00, 63363.30it/s]  \n"
     ]
    }
   ],
   "source": [
    "#TODO: this needs to be absolute value!!\n",
    "lKeys = pairsDf[\"lKey\"]\n",
    "rKeys = pairsDf[\"rKey\"]\n",
    "\n",
    "dateIndices = []\n",
    "for i in tqdm(range(len(pairsDf))): \n",
    "    lDate = dateDict[lKeys[i]][\"date\"]\n",
    "    rDate = dateDict[rKeys[i]][\"date\"]\n",
    "    \n",
    "    dateDist = (rDate - lDate).days\n",
    "    \n",
    "    #so we can have Sunday - Sunday but not Sunday - Monday \n",
    "    if np.abs(dateDist) < 7: \n",
    "        dateIndices.append(i)"
   ]
  },
  {
   "cell_type": "code",
   "execution_count": 42,
   "metadata": {},
   "outputs": [],
   "source": [
    "#the remaining pairs \n",
    "datePairs = pairsDf.iloc[dateIndices]"
   ]
  },
  {
   "cell_type": "code",
   "execution_count": 43,
   "metadata": {},
   "outputs": [
    {
     "data": {
      "text/plain": [
       "0.5680837721022948"
      ]
     },
     "execution_count": 43,
     "metadata": {},
     "output_type": "execute_result"
    }
   ],
   "source": [
    "len(datePairs) / len(pairsDf)"
   ]
  },
  {
   "cell_type": "code",
   "execution_count": 44,
   "metadata": {},
   "outputs": [
    {
     "name": "stderr",
     "output_type": "stream",
     "text": [
      "  0%|          | 0/3 [00:00<?, ?it/s]"
     ]
    },
    {
     "name": "stdout",
     "output_type": "stream",
     "text": [
      "first 10:\n",
      "[237930, 38855, 6731, 6504, 5848, 4166, 3341, 3240, 3137, 3125]\n"
     ]
    },
    {
     "name": "stderr",
     "output_type": "stream",
     "text": [
      " 33%|███▎      | 1/3 [05:24<10:48, 324.40s/it]"
     ]
    },
    {
     "name": "stdout",
     "output_type": "stream",
     "text": [
      "first 10:\n",
      "[20275, 7206, 5768, 5653, 4108, 3599, 3376, 3093, 2406, 2312]\n"
     ]
    },
    {
     "name": "stderr",
     "output_type": "stream",
     "text": [
      " 67%|██████▋   | 2/3 [09:57<04:54, 294.20s/it]"
     ]
    },
    {
     "name": "stdout",
     "output_type": "stream",
     "text": [
      "first 10:\n",
      "[1378, 1026, 737, 622, 525, 516, 477, 464, 442, 391]\n"
     ]
    },
    {
     "name": "stderr",
     "output_type": "stream",
     "text": [
      "100%|██████████| 3/3 [13:48<00:00, 276.07s/it]\n"
     ]
    }
   ],
   "source": [
    "BASE_PATH = \"/shared/3/projects/newsDiffusion/data/interim/NEREmbedding/\"\n",
    "#OUT_PATHS = [\"embeddingClusterDf_2_3000_83.tsv\", \"embeddingClusterDf_2_3000_85.tsv\", \"embeddingClusterDf_2_3000_87.tsv\", \"embeddingClusterDf_2_3000_9.tsv\"]\n",
    "OUT_PATHS = [\"embeddingClusterDf_2_20000_80.tsv\", \"embeddingClusterDf_2_20000_85.tsv\", \"embeddingClusterDf_2_20000_90.tsv\"]\n",
    "CUTOFFS = [.80, .85, .90]\n",
    "\n",
    "for i, cutoff in enumerate(tqdm(CUTOFFS)): \n",
    "    outPath = BASE_PATH + OUT_PATHS[i]\n",
    "    overThresh = datePairs[datePairs[\"simScore\"] >= cutoff]\n",
    "    graph = nx.from_pandas_edgelist(overThresh[[\"lKey\", \"rKey\"]], \"lKey\", \"rKey\")\n",
    "\n",
    "    components = nx.connected_components(graph)\n",
    "    compList = [comp for comp in components]\n",
    "\n",
    "    clusters = pd.DataFrame({\"cluster\":compList}) #.reset_index()\n",
    "\n",
    "    #we can remove clusters of size one \n",
    "    clusters[\"clustSize\"] = clusters[\"cluster\"].apply(lambda x: len(list(x)))\n",
    "\n",
    "    print(f'first 10:\\n{sorted(clusters[\"clustSize\"], reverse=True)[:10]}')\n",
    "    \n",
    "    clusters = clusters[clusters[\"clustSize\"] > 1]\n",
    "\n",
    "    clusters[\"clustNum\"] = list(range(0, len(clusters)))\n",
    "\n",
    "    clustDf = clusters.explode(\"cluster\").rename(columns={\"index\":\"clustNum\", \"cluster\":\"key\"})\n",
    "\n",
    "    clustSizes = pd.DataFrame(clustDf[\"clustNum\"].value_counts()).reset_index()\n",
    "\n",
    "    clustSizes.value_counts()\n",
    "    \n",
    "    clustDf.to_csv(outPath, sep=\"\\t\")"
   ]
  },
  {
   "cell_type": "code",
   "execution_count": 141,
   "metadata": {},
   "outputs": [
    {
     "data": {
      "text/plain": [
       "3195"
      ]
     },
     "execution_count": 141,
     "metadata": {},
     "output_type": "execute_result"
    }
   ],
   "source": [
    "max(clustDf[\"clustSize\"])"
   ]
  },
  {
   "cell_type": "code",
   "execution_count": 33,
   "metadata": {},
   "outputs": [
    {
     "data": {
      "text/plain": [
       "(0.0, 5000.0)"
      ]
     },
     "execution_count": 33,
     "metadata": {},
     "output_type": "execute_result"
    },
    {
     "data": {
      "image/png": "[encoded data removed]",
      "text/plain": [
       "<Figure size 432x288 with 1 Axes>"
      ]
     },
     "metadata": {
      "needs_background": "light"
     },
     "output_type": "display_data"
    }
   ],
   "source": [
    "plt.hist(clustSizes[\"count\"], bins=np.arange(0, 5000, 100))\n",
    "plt.ylim(0, 300)\n",
    "plt.xlim(0, 5000)"
   ]
  },
  {
   "cell_type": "code",
   "execution_count": 42,
   "metadata": {},
   "outputs": [
    {
     "name": "stdout",
     "output_type": "stream",
     "text": [
      "   clustNum   count\n",
      "0         3  335041\n",
      "1       257   21645\n",
      "2      1993    7793\n",
      "3      5049    5071\n",
      "4      1617    5024\n"
     ]
    }
   ],
   "source": [
    "print(clustSizes.head())"
   ]
  },
  {
   "cell_type": "code",
   "execution_count": 35,
   "metadata": {},
   "outputs": [],
   "source": [
    "clustDf.to_csv(OUT_PATH, sep=\"\\t\")"
   ]
  }
 ],
 "metadata": {
  "kernelspec": {
   "display_name": "Python 3",
   "language": "python",
   "name": "python3"
  },
  "language_info": {
   "codemirror_mode": {
    "name": "ipython",
    "version": 3
   },
   "file_extension": ".py",
   "mimetype": "text/x-python",
   "name": "python",
   "nbconvert_exporter": "python",
   "pygments_lexer": "ipython3",
   "version": "3.8.5"
  }
 },
 "nbformat": 4,
 "nbformat_minor": 5
}
