{
 "cells": [
  {
   "cell_type": "code",
   "execution_count": 267,
   "metadata": {},
   "outputs": [],
   "source": [
    "import pandas as pd \n",
    "import re\n",
    "import numpy as np\n",
    "import networkx as nx\n",
    "import matplotlib.pyplot as plt\n",
    "import seaborn as sns\n",
    "import itertools\n",
    "from tqdm import tqdm \n",
    "import seaborn as sns\n",
    "from geopy.distance import geodesic"
   ]
  },
  {
   "cell_type": "code",
   "execution_count": 23,
   "metadata": {},
   "outputs": [
    {
     "name": "stderr",
     "output_type": "stream",
     "text": [
      "/opt/anaconda/lib/python3.8/site-packages/IPython/core/interactiveshell.py:3418: DtypeWarning: Columns (2,3,10,11,12,13,14,17,18,19,20,21,22,23,24,25,26,27,28,29,30,31,32,33,34,39,40,41) have mixed types.Specify dtype option on import or set low_memory=False.\n",
      "  exec(code_obj, self.user_global_ns, self.user_ns)\n"
     ]
    }
   ],
   "source": [
    "IN_PATH = \"/shared/3/projects/newsDiffusion/data/processed/fullDataWithClustNums.tsv\"\n",
    "\n",
    "#we are bringing in the data with demographic information and cluster ids \n",
    "#hence, merged\n",
    "#MVP path merged = pd.read_csv(\"/shared/3/projects/benlitterer/localNews/data/interim/SingleNE_85_clustered.tsv\", sep=\"\\t\")\n",
    "merged = pd.read_csv(IN_PATH, sep=\"\\t\")\n",
    "merged = merged.dropna(subset=[\"clustNum\"])\n"
   ]
  },
  {
   "cell_type": "code",
   "execution_count": 26,
   "metadata": {},
   "outputs": [
    {
     "data": {
      "text/plain": [
       "'\\n#group data together \\ngrouped = merged[[\"key\", \"source\", \"title\", \"content\", \"clustNum\", \"date\", \"national\"]].groupby(by=\"clustNum\").agg(list)\\ngrouped[\"clustLen\"] = grouped[\"key\"].apply(len)\\n\\n#get first to publish within a cluster \\ngrouped[\"first\"] = grouped[\"date\"].apply(lambda x: x.index(min(x)))\\n'"
      ]
     },
     "execution_count": 26,
     "metadata": {},
     "output_type": "execute_result"
    }
   ],
   "source": [
    "#look at which outlet first started a story \n",
    "\n",
    "#first make sure we have the date of an outlet correctly specified \n",
    "merged[\"date\"] = pd.to_datetime(merged[\"date\"])\n",
    "\n",
    "\"\"\"\n",
    "#group data together \n",
    "grouped = merged[[\"key\", \"source\", \"title\", \"content\", \"clustNum\", \"date\", \"national\"]].groupby(by=\"clustNum\").agg(list)\n",
    "grouped[\"clustLen\"] = grouped[\"key\"].apply(len)\n",
    "\n",
    "#get first to publish within a cluster \n",
    "grouped[\"first\"] = grouped[\"date\"].apply(lambda x: x.index(min(x)))\n",
    "\"\"\""
   ]
  },
  {
   "cell_type": "code",
   "execution_count": 27,
   "metadata": {},
   "outputs": [
    {
     "data": {
      "text/plain": [
       "Index(['Unnamed: 0', 'key', 'local_id', 'sourcedomain_id', 'date', 'title',\n",
       "       'content', 'url', 'fips', 'source', 'description', 'onlinesince',\n",
       "       'rank', 'state', 'city', 'lon', 'lat', 'county', 'total_population',\n",
       "       'white_pct', 'black_pct', 'hispanic_pct', 'nonwhite_pct',\n",
       "       'foreignborn_pct', 'female_pct', 'age29andunder_pct',\n",
       "       'age65andolder_pct', 'median_hh_inc', 'clf_unemploy_pct', 'lesshs_pct',\n",
       "       'lesscollege_pct', 'lesshs_whites_pct', 'lesscollege_whites_pct',\n",
       "       'rural_pct', 'ruralurban_cc', 'predrt_0', 'predrt_12', 'predrt_3',\n",
       "       'national', 'id', 'author', 'published', 'published_utc',\n",
       "       'collection_utc', 'year', 'clustNum'],\n",
       "      dtype='object')"
      ]
     },
     "execution_count": 27,
     "metadata": {},
     "output_type": "execute_result"
    }
   ],
   "source": [
    "merged.columns"
   ]
  },
  {
   "cell_type": "code",
   "execution_count": 29,
   "metadata": {},
   "outputs": [],
   "source": [
    "#demVars = [\"clustNum\", \"lon\", \"lat\", \"total_population\", \"white_pct\", \"black_pct\", \"rural_pct\", \"lesscollege_pct\", \"median_hh_inc\", \"age65andolder_pct\"]\n",
    "\n",
    "#variables that we will merge into graph after creating it\n",
    "#in networkx\n",
    "demVars = [\"clustNum\", \"source\"]"
   ]
  },
  {
   "cell_type": "code",
   "execution_count": 30,
   "metadata": {},
   "outputs": [],
   "source": [
    "#get pairwise information\n",
    "#by sorting in this way then calling drop_duplicates, we only consider the first mention of a story by \n",
    "#an outlet. Simplifies the analysis but introduces an assumption \n",
    "#example: merged.head(300)[[\"clustNum\", \"source\", \"date\"]].sort_values([\"clustNum\", \"source\", \"date\"]).head(20)\n",
    "pairwise = merged.sort_values([\"clustNum\", \"source\", \"date\"]).drop_duplicates(subset=[\"clustNum\", \"source\"])\n",
    "\n",
    "#group into clusters\n",
    "pairwise = pairwise.loc[pairwise[\"national\"] == False, [\"key\"] + demVars]\n",
    "pairwise = pairwise.groupby(by=\"clustNum\").agg(list)\n",
    "pairwise[\"clustSize\"] = pairwise[\"source\"].apply(len)\n",
    "\n",
    "#NOTE: we remove very large clusters? because they slow down getting pairwise information \n",
    "pairwise = pairwise[pairwise[\"clustSize\"] < 2000].drop(columns=[\"clustSize\"])"
   ]
  },
  {
   "cell_type": "code",
   "execution_count": 31,
   "metadata": {},
   "outputs": [
    {
     "data": {
      "text/plain": [
       "83491"
      ]
     },
     "execution_count": 31,
     "metadata": {},
     "output_type": "execute_result"
    }
   ],
   "source": [
    "len(pairwise)"
   ]
  },
  {
   "cell_type": "code",
   "execution_count": 32,
   "metadata": {},
   "outputs": [],
   "source": [
    "def getPairwise(inList):\n",
    "    outList = []\n",
    "    for i in range(0, len(inList)-1): \n",
    "        for j in range(i + 1, len(inList)): \n",
    "            outList.append((inList[i], inList[j]))\n",
    "    return outList\n",
    "\n",
    "#applied across an entire series \n",
    "def getPairwiseSeries(inSeries): \n",
    "    return inSeries.apply(getPairwise)\n",
    "\n",
    "pairwise[\"source\"] = pairwise[\"source\"].apply(getPairwise)\n",
    "pairwise = pairwise.explode([\"source\"])\n",
    "#pairwise[[\"date1\", \"date2\"]] = pd.DataFrame(pairwise[\"date\"].tolist(), index=pairwise.index)"
   ]
  },
  {
   "cell_type": "code",
   "execution_count": 33,
   "metadata": {},
   "outputs": [
    {
     "data": {
      "text/html": [
       "<div>\n",
       "<style scoped>\n",
       "    .dataframe tbody tr th:only-of-type {\n",
       "        vertical-align: middle;\n",
       "    }\n",
       "\n",
       "    .dataframe tbody tr th {\n",
       "        vertical-align: top;\n",
       "    }\n",
       "\n",
       "    .dataframe thead th {\n",
       "        text-align: right;\n",
       "    }\n",
       "</style>\n",
       "<table border=\"1\" class=\"dataframe\">\n",
       "  <thead>\n",
       "    <tr style=\"text-align: right;\">\n",
       "      <th></th>\n",
       "      <th>source</th>\n",
       "    </tr>\n",
       "    <tr>\n",
       "      <th>clustNum</th>\n",
       "      <th></th>\n",
       "    </tr>\n",
       "  </thead>\n",
       "  <tbody>\n",
       "    <tr>\n",
       "      <th>0.0</th>\n",
       "      <td>(albuquerquejournal, aurorasentinel)</td>\n",
       "    </tr>\n",
       "    <tr>\n",
       "      <th>0.0</th>\n",
       "      <td>(albuquerquejournal, dailyherald)</td>\n",
       "    </tr>\n",
       "    <tr>\n",
       "      <th>0.0</th>\n",
       "      <td>(albuquerquejournal, murrysvillestar)</td>\n",
       "    </tr>\n",
       "    <tr>\n",
       "      <th>0.0</th>\n",
       "      <td>(albuquerquejournal, newyorkobserver)</td>\n",
       "    </tr>\n",
       "    <tr>\n",
       "      <th>0.0</th>\n",
       "      <td>(albuquerquejournal, pittsburghtribunereview)</td>\n",
       "    </tr>\n",
       "  </tbody>\n",
       "</table>\n",
       "</div>"
      ],
      "text/plain": [
       "                                                 source\n",
       "clustNum                                               \n",
       "0.0                (albuquerquejournal, aurorasentinel)\n",
       "0.0                   (albuquerquejournal, dailyherald)\n",
       "0.0               (albuquerquejournal, murrysvillestar)\n",
       "0.0               (albuquerquejournal, newyorkobserver)\n",
       "0.0       (albuquerquejournal, pittsburghtribunereview)"
      ]
     },
     "execution_count": 33,
     "metadata": {},
     "output_type": "execute_result"
    }
   ],
   "source": [
    "pairwise.head()"
   ]
  },
  {
   "cell_type": "code",
   "execution_count": 34,
   "metadata": {},
   "outputs": [],
   "source": [
    "#TODO: figure out problem with missing rows here... \n",
    "#comes from explode() command"
   ]
  },
  {
   "cell_type": "code",
   "execution_count": 35,
   "metadata": {},
   "outputs": [],
   "source": [
    "pairwise = pairwise.dropna()"
   ]
  },
  {
   "cell_type": "code",
   "execution_count": 36,
   "metadata": {},
   "outputs": [
    {
     "data": {
      "text/html": [
       "<div>\n",
       "<style scoped>\n",
       "    .dataframe tbody tr th:only-of-type {\n",
       "        vertical-align: middle;\n",
       "    }\n",
       "\n",
       "    .dataframe tbody tr th {\n",
       "        vertical-align: top;\n",
       "    }\n",
       "\n",
       "    .dataframe thead th {\n",
       "        text-align: right;\n",
       "    }\n",
       "</style>\n",
       "<table border=\"1\" class=\"dataframe\">\n",
       "  <thead>\n",
       "    <tr style=\"text-align: right;\">\n",
       "      <th></th>\n",
       "      <th>white_pct</th>\n",
       "      <th>lesscollege_pct</th>\n",
       "    </tr>\n",
       "    <tr>\n",
       "      <th>source</th>\n",
       "      <th></th>\n",
       "      <th></th>\n",
       "    </tr>\n",
       "  </thead>\n",
       "  <tbody>\n",
       "    <tr>\n",
       "      <th>andalusiastarnews</th>\n",
       "      <td>83.5140077924143</td>\n",
       "      <td>85.0785142684584</td>\n",
       "    </tr>\n",
       "    <tr>\n",
       "      <th>atmoreadvance</th>\n",
       "      <td>60.5940594059406</td>\n",
       "      <td>88.3743498175607</td>\n",
       "    </tr>\n",
       "    <tr>\n",
       "      <th>thebrewtonstandard</th>\n",
       "      <td>60.5940594059406</td>\n",
       "      <td>88.3743498175607</td>\n",
       "    </tr>\n",
       "    <tr>\n",
       "      <th>clantonadvertiser</th>\n",
       "      <td>80.6102654220964</td>\n",
       "      <td>85.1454514881453</td>\n",
       "    </tr>\n",
       "    <tr>\n",
       "      <th>gadsdenmessenger</th>\n",
       "      <td>78.4313535791337</td>\n",
       "      <td>83.5081455032359</td>\n",
       "    </tr>\n",
       "    <tr>\n",
       "      <th>...</th>\n",
       "      <td>...</td>\n",
       "      <td>...</td>\n",
       "    </tr>\n",
       "    <tr>\n",
       "      <th>bnnbloomberg</th>\n",
       "      <td>NaN</td>\n",
       "      <td>NaN</td>\n",
       "    </tr>\n",
       "    <tr>\n",
       "      <th>trumptimes</th>\n",
       "      <td>NaN</td>\n",
       "      <td>NaN</td>\n",
       "    </tr>\n",
       "    <tr>\n",
       "      <th>sustainablepulse</th>\n",
       "      <td>NaN</td>\n",
       "      <td>NaN</td>\n",
       "    </tr>\n",
       "    <tr>\n",
       "      <th>offguardian</th>\n",
       "      <td>NaN</td>\n",
       "      <td>NaN</td>\n",
       "    </tr>\n",
       "    <tr>\n",
       "      <th>occupyyourself</th>\n",
       "      <td>NaN</td>\n",
       "      <td>NaN</td>\n",
       "    </tr>\n",
       "  </tbody>\n",
       "</table>\n",
       "<p>787 rows × 2 columns</p>\n",
       "</div>"
      ],
      "text/plain": [
       "                           white_pct   lesscollege_pct\n",
       "source                                                \n",
       "andalusiastarnews   83.5140077924143  85.0785142684584\n",
       "atmoreadvance       60.5940594059406  88.3743498175607\n",
       "thebrewtonstandard  60.5940594059406  88.3743498175607\n",
       "clantonadvertiser   80.6102654220964  85.1454514881453\n",
       "gadsdenmessenger    78.4313535791337  83.5081455032359\n",
       "...                              ...               ...\n",
       "bnnbloomberg                     NaN               NaN\n",
       "trumptimes                       NaN               NaN\n",
       "sustainablepulse                 NaN               NaN\n",
       "offguardian                      NaN               NaN\n",
       "occupyyourself                   NaN               NaN\n",
       "\n",
       "[787 rows x 2 columns]"
      ]
     },
     "execution_count": 36,
     "metadata": {},
     "output_type": "execute_result"
    }
   ],
   "source": [
    "merged[[\"source\", \"white_pct\", \"lesscollege_pct\"]].drop_duplicates([\"source\"]).set_index(\"source\")"
   ]
  },
  {
   "cell_type": "code",
   "execution_count": 381,
   "metadata": {},
   "outputs": [],
   "source": [
    "multigraphDf = pairwise #NOTE: necessary? uses more memory...: .copy(deep=True)\n",
    "multigraphDf[[\"source1\", \"source2\"]] = pd.DataFrame(multigraphDf[\"source\"].tolist(), index=multigraphDf.index)\n",
    "\n",
    "#create graph from pandas dataframe. Allow parallel edges!\n",
    "outletGraph = nx.from_pandas_edgelist(multigraphDf[[\"source1\", \"source2\"]], source=\"source1\", target=\"source2\", create_using=nx.MultiGraph)\n",
    "\n",
    "#add node attributes (i.e. population etc... ) to nodes that represent local outlets \n",
    "onlyLocal = merged[merged[\"national\"] == False].drop_duplicates(subset=\"source\") \n",
    "\n",
    "#get national/local \n",
    "#CHECKED that this works correctly \n",
    "#TODO: just add all of the note attributtes that we want in this step\n",
    "#don't deal with them up above \n",
    "localNatDict = merged[[\"source\", \"white_pct\", \"lesscollege_pct\", \"median_hh_inc\", \"rural_pct\", \"age65andolder_pct\", \"total_population\"]].drop_duplicates([\"source\"]).set_index(\"source\").to_dict(orient=\"index\")"
   ]
  },
  {
   "cell_type": "code",
   "execution_count": 382,
   "metadata": {},
   "outputs": [],
   "source": [
    "#NOTE: important step \n",
    "#merge the fields of interest onto the graph \n",
    "nx.set_node_attributes(outletGraph, localNatDict)"
   ]
  },
  {
   "cell_type": "code",
   "execution_count": 384,
   "metadata": {},
   "outputs": [],
   "source": [
    "#TODO: extend to have everything we're interested in \n",
    "#we use this to merge demographic variables onto our configuration model network \n",
    "outletDf = merged[[\"source\", \"white_pct\", \"lesscollege_pct\", \"median_hh_inc\", \"rural_pct\", \"age65andolder_pct\", \"total_population\", \"lat\", \"lon\"]].drop_duplicates([\"source\"]).drop_duplicates()"
   ]
  },
  {
   "cell_type": "code",
   "execution_count": 402,
   "metadata": {},
   "outputs": [
    {
     "name": "stderr",
     "output_type": "stream",
     "text": [
      "100%|██████████| 100/100 [22:18<00:00, 13.39s/it]\n"
     ]
    }
   ],
   "source": [
    "def renameLeft(left): \n",
    "    if left not in [\"nLeft\", \"nRight\"]: \n",
    "        return left + \"Left\"\n",
    "    return left\n",
    "\n",
    "def renameRight(right): \n",
    "    if right not in [\"nLeft\", \"nRight\"] and \"Left\" not in right: \n",
    "        return right + \"Right\"\n",
    "    return right\n",
    "\n",
    "demCats = [\"white_pct\", \"lesscollege_pct\", \"median_hh_inc\", \"rural_pct\", \"age65andolder_pct\", \"total_population\"]\n",
    "demDiffs = {}\n",
    "for i in tqdm(range(100)):\n",
    "\n",
    "    #create config model \n",
    "    #the config model creates a graph with the number of in and out degrees that we see in our graph \n",
    "    #the nodes are random though, so we are assuming that there is no relationship between \n",
    "    #any node characteristics and their degrees \n",
    "    degree = [tup[1] for tup in outletGraph.degree()]\n",
    "    configModel = nx.configuration_model(degree)\n",
    "\n",
    "    #NOTE: we have a different number of edges now so we will need to scale by that! \n",
    "    configModel.remove_edges_from(nx.selfloop_edges(configModel))\n",
    "\n",
    "    #set the config model to have the same nodes and attributes as the original model \n",
    "    nodeMapping = dict(zip(list(configModel.nodes()), list(outletGraph.nodes())))\n",
    "    configModel = nx.relabel_nodes(configModel, nodeMapping)\n",
    "    nx.set_node_attributes(configModel, localNatDict)\n",
    "\n",
    "    #get the edges from the graph\n",
    "    edgeDf = nx.to_pandas_edgelist(configModel, source=\"nLeft\", target=\"nRight\")\n",
    "\n",
    "    #get attributes we're interested in \n",
    "    #localNatDf = merged[[\"source\", \"national\"]].drop_duplicates()\n",
    "    temp = pd.merge(edgeDf, outletDf, how=\"left\", left_on=\"nLeft\", right_on=\"source\").rename(renameLeft, axis=1)\n",
    "    temp = pd.merge(temp, outletDf, how=\"left\", left_on=\"nRight\", right_on=\"source\").rename(renameRight, axis=1)\n",
    "    \n",
    "    #get rid of rows for which we have \"None\" strings for demographic characteristics\n",
    "    temp = temp.replace(\"None\", np.nan).dropna()\n",
    "    \n",
    "    #localNatDf = localNatDf.rename(columns={\"source\":\"target\"})\n",
    "    #edgeDf = pd.merge(temp, localNatDf, how=\"right\", on=\"target\").rename(columns={\"national\":\"national2\"})\n",
    "\n",
    "    #totalEdges = len(list(configModel.edges()))\n",
    "    \n",
    "    #get the mean difference in % of people with < college education \n",
    "    for currDem in demCats: \n",
    "        cDiff = temp[currDem + \"Right\"].astype(float) - temp[currDem + \"Left\"].astype(float)\n",
    "        \n",
    "        if i == 0: \n",
    "            #append the average difference in this demographic category \n",
    "            demDiffs[currDem] = [np.mean(cDiff.abs())]\n",
    "        else: \n",
    "            demDiffs[currDem].append(np.mean(cDiff.abs()))\n",
    "        "
   ]
  },
  {
   "cell_type": "code",
   "execution_count": 405,
   "metadata": {},
   "outputs": [
    {
     "data": {
      "image/png": "[encoded data removed]",
      "text/plain": [
       "<Figure size 864x432 with 6 Axes>"
      ]
     },
     "metadata": {
      "needs_background": "light"
     },
     "output_type": "display_data"
    }
   ],
   "source": [
    "#now try a quick regression accounting for distance as well \n",
    "def renameLeft(inStr): \n",
    "    if \"source\" not in inStr and \"sharedStories\" not in inStr: \n",
    "        return inStr + \"Left\"\n",
    "    return inStr\n",
    "\n",
    "def renameRight(inStr): \n",
    "    if \"source\" not in inStr and \"sharedStories\" not in inStr and \"Left\" not in inStr: \n",
    "        return inStr + \"Right\"\n",
    "    return inStr\n",
    "\n",
    "nRows = 2\n",
    "nCols = 3\n",
    "fig, axs = plt.subplots(nrows=nRows, ncols=nCols, figsize=[12, 6], sharey=True)\n",
    "\n",
    "count = 0\n",
    "for i in range(nRows): \n",
    "    for j in range(nCols): \n",
    "        currDem = demCats[count]\n",
    "        axs[i, j].hist(demDiffs[currDem])\n",
    "        axs[i, j].set_title(currDem)\n",
    "        count += 1\n",
    "        \n",
    "    \n",
    "#merge demographic data onto our pairwise dataframe (edgeList)\n",
    "temp = pd.merge(pairwise, outletDf, how=\"left\", left_on=\"source1\", right_on=\"source\").drop(columns=[\"source_x\", \"source_y\"]).rename(renameLeft, axis=1)\n",
    "temp = pd.merge(temp, outletDf, how=\"left\", left_on=\"source2\", right_on=\"source\").drop(columns=[\"source\"]).rename(renameRight, axis=1)\n",
    "temp = temp.replace(\"None\", np.nan).dropna()\n",
    "\n",
    "count = 0 \n",
    "observedDiffs = []\n",
    "for i in range(nRows): \n",
    "    for j in range(nCols): \n",
    "        currDem = demCats[count]\n",
    "        \n",
    "        #plot a histogram showing configuration distribution\n",
    "        axs[i, j].hist(demDiffs[currDem])\n",
    "        axs[i, j].set_title(currDem)\n",
    "        \n",
    "        #plot the difference we observe in our data \n",
    "        cDiff = temp[currDem + \"Right\"].astype(float) - temp[currDem + \"Left\"].astype(float)\n",
    "        cDiff = np.mean(cDiff.abs())\n",
    "        \n",
    "        observedDiffs.append(cDiff)\n",
    "        axs[i, j].axvline(cDiff, color=\"red\")\n",
    "        count += 1\n",
    "\n",
    "fig.suptitle(\"Demographic Differences Between Outlet Pairs: Expected vs. Observed\")\n",
    "plt.tight_layout()\n"
   ]
  },
  {
   "cell_type": "code",
   "execution_count": 413,
   "metadata": {},
   "outputs": [],
   "source": [
    "#get how national a cluster is \n",
    "clusterNatPercent = merged[[\"clustNum\", \"national\"]].groupby(by=[\"clustNum\"]).agg(np.mean).reset_index()"
   ]
  },
  {
   "cell_type": "code",
   "execution_count": 428,
   "metadata": {},
   "outputs": [],
   "source": [
    "natPercentMerged = pd.merge(merged[[\"source\", \"clustNum\"]], clusterNatPercent, on=\"clustNum\", how=\"inner\")\n",
    "natPercents = natPercentMerged.drop_duplicates(subset=[\"source\", \"clustNum\", \"national\"]).drop(columns=[\"clustNum\"]).groupby(\"source\").agg(np.mean).reset_index()"
   ]
  },
  {
   "cell_type": "code",
   "execution_count": 431,
   "metadata": {},
   "outputs": [
    {
     "data": {
      "text/plain": [
       "Text(0.5, 1.0, 'Outlet level national coverage')"
      ]
     },
     "execution_count": 431,
     "metadata": {},
     "output_type": "execute_result"
    },
    {
     "data": {
      "image/png": "[encoded data removed]",
      "text/plain": [
       "<Figure size 432x288 with 1 Axes>"
      ]
     },
     "metadata": {
      "needs_background": "light"
     },
     "output_type": "display_data"
    }
   ],
   "source": [
    "plt.hist(natPercents[\"national\"])\n",
    "plt.title(\"Outlet level national coverage\")"
   ]
  },
  {
   "cell_type": "code",
   "execution_count": 496,
   "metadata": {},
   "outputs": [],
   "source": [
    "#TODO: extend to have everything we're interested in \n",
    "#we use this to merge demographic variables onto our configuration model network \n",
    "outletDf = merged[[\"source\", \"white_pct\", \"lesscollege_pct\", \"median_hh_inc\", \"rural_pct\", \"age65andolder_pct\", \"total_population\", \"lat\", \"lon\", \"national\", \"state\"]].drop_duplicates([\"source\"]).drop_duplicates()\n",
    "\n",
    "outletDf = outletDf[outletDf[\"national\"] == False].drop(columns=[\"national\"])\n",
    "#merge in degree data\n",
    "degreeDf = pd.DataFrame.from_dict(dict(outletGraph.degree()), orient=\"index\", columns=[\"degree\"]).reset_index().rename(columns={\"index\":\"source\"})\n",
    "outletDf = pd.merge(outletDf, degreeDf, on=\"source\", how=\"left\")\n",
    "\n",
    "outletDf = pd.merge(outletDf, natPercents, on=\"source\", how=\"left\")"
   ]
  },
  {
   "cell_type": "code",
   "execution_count": 510,
   "metadata": {},
   "outputs": [],
   "source": [
    "outletPairs = pairwise[[\"source1\", \"source2\"]].copy(deep=True)\n",
    "outletPairs[[\"source1\", \"source2\"]] = np.sort(outletPairs[[\"source1\", \"source2\"]], axis=1)\n",
    "outletPairs[\"sharedStories\"] = 1\n",
    "outletPairs = outletPairs.groupby(by=[\"source1\", \"source2\"]).agg(sum).reset_index()"
   ]
  },
  {
   "cell_type": "code",
   "execution_count": 511,
   "metadata": {},
   "outputs": [
    {
     "data": {
      "text/html": [
       "<div>\n",
       "<style scoped>\n",
       "    .dataframe tbody tr th:only-of-type {\n",
       "        vertical-align: middle;\n",
       "    }\n",
       "\n",
       "    .dataframe tbody tr th {\n",
       "        vertical-align: top;\n",
       "    }\n",
       "\n",
       "    .dataframe thead th {\n",
       "        text-align: right;\n",
       "    }\n",
       "</style>\n",
       "<table border=\"1\" class=\"dataframe\">\n",
       "  <thead>\n",
       "    <tr style=\"text-align: right;\">\n",
       "      <th></th>\n",
       "      <th>source1</th>\n",
       "      <th>source2</th>\n",
       "      <th>sharedStories</th>\n",
       "    </tr>\n",
       "  </thead>\n",
       "  <tbody>\n",
       "    <tr>\n",
       "      <th>0</th>\n",
       "      <td>addisoncountyindependent</td>\n",
       "      <td>advertiserdemocrat</td>\n",
       "      <td>1</td>\n",
       "    </tr>\n",
       "    <tr>\n",
       "      <th>1</th>\n",
       "      <td>addisoncountyindependent</td>\n",
       "      <td>alamedatimesstar</td>\n",
       "      <td>1</td>\n",
       "    </tr>\n",
       "    <tr>\n",
       "      <th>2</th>\n",
       "      <td>addisoncountyindependent</td>\n",
       "      <td>alaskajournalofcommerce</td>\n",
       "      <td>1</td>\n",
       "    </tr>\n",
       "    <tr>\n",
       "      <th>3</th>\n",
       "      <td>addisoncountyindependent</td>\n",
       "      <td>albertleatribune</td>\n",
       "      <td>1</td>\n",
       "    </tr>\n",
       "    <tr>\n",
       "      <th>4</th>\n",
       "      <td>addisoncountyindependent</td>\n",
       "      <td>albuquerquejournal</td>\n",
       "      <td>2</td>\n",
       "    </tr>\n",
       "    <tr>\n",
       "      <th>...</th>\n",
       "      <td>...</td>\n",
       "      <td>...</td>\n",
       "      <td>...</td>\n",
       "    </tr>\n",
       "    <tr>\n",
       "      <th>46438</th>\n",
       "      <td>winstoncountyjournal</td>\n",
       "      <td>wisecountymessenger</td>\n",
       "      <td>1</td>\n",
       "    </tr>\n",
       "    <tr>\n",
       "      <th>46439</th>\n",
       "      <td>winstoncountyjournal</td>\n",
       "      <td>yellowspringsnews</td>\n",
       "      <td>1</td>\n",
       "    </tr>\n",
       "    <tr>\n",
       "      <th>46440</th>\n",
       "      <td>wisconsinnewspaperassociation</td>\n",
       "      <td>wisecountymessenger</td>\n",
       "      <td>1</td>\n",
       "    </tr>\n",
       "    <tr>\n",
       "      <th>46441</th>\n",
       "      <td>wisconsinnewspaperassociation</td>\n",
       "      <td>yellowspringsnews</td>\n",
       "      <td>1</td>\n",
       "    </tr>\n",
       "    <tr>\n",
       "      <th>46442</th>\n",
       "      <td>wisecountymessenger</td>\n",
       "      <td>yellowspringsnews</td>\n",
       "      <td>1</td>\n",
       "    </tr>\n",
       "  </tbody>\n",
       "</table>\n",
       "<p>46443 rows × 3 columns</p>\n",
       "</div>"
      ],
      "text/plain": [
       "                             source1                  source2  sharedStories\n",
       "0           addisoncountyindependent       advertiserdemocrat              1\n",
       "1           addisoncountyindependent         alamedatimesstar              1\n",
       "2           addisoncountyindependent  alaskajournalofcommerce              1\n",
       "3           addisoncountyindependent         albertleatribune              1\n",
       "4           addisoncountyindependent       albuquerquejournal              2\n",
       "...                              ...                      ...            ...\n",
       "46438           winstoncountyjournal      wisecountymessenger              1\n",
       "46439           winstoncountyjournal        yellowspringsnews              1\n",
       "46440  wisconsinnewspaperassociation      wisecountymessenger              1\n",
       "46441  wisconsinnewspaperassociation        yellowspringsnews              1\n",
       "46442            wisecountymessenger        yellowspringsnews              1\n",
       "\n",
       "[46443 rows x 3 columns]"
      ]
     },
     "execution_count": 511,
     "metadata": {},
     "output_type": "execute_result"
    }
   ],
   "source": [
    "outletPairs"
   ]
  },
  {
   "cell_type": "code",
   "execution_count": 512,
   "metadata": {},
   "outputs": [],
   "source": [
    "#now try a quick regression accounting for distance as well \n",
    "def renameLeft(inStr): \n",
    "    if \"source\" not in inStr and \"sharedStories\" not in inStr: \n",
    "        return inStr + \"Left\"\n",
    "    return inStr\n",
    "\n",
    "def renameRight(inStr): \n",
    "    if \"source\" not in inStr and \"sharedStories\" not in inStr and \"Left\" not in inStr: \n",
    "        return inStr + \"Right\"\n",
    "    return inStr\n",
    "\n",
    "#merge in outlet level data \n",
    "outletPairs = pd.merge(outletPairs.reset_index(), outletDf, how=\"left\", left_on=\"source1\", right_on=\"source\").drop(columns=[\"source\"]).rename(renameLeft, axis=1)\n",
    "outletPairs = pd.merge(outletPairs, outletDf, how=\"left\", left_on=\"source2\", right_on=\"source\").drop(columns=[\"source\"]).rename(renameRight, axis=1)\n",
    "outletPairs = outletPairs.replace(\"None\", np.nan).dropna()"
   ]
  },
  {
   "cell_type": "code",
   "execution_count": 514,
   "metadata": {},
   "outputs": [],
   "source": [
    "#categories to go in our regression \n",
    "demCats = [\"lesscollege_pct\", \"white_pct\", \"median_hh_inc\", \"rural_pct\", \"age65andolder_pct\", \"total_population\",\"degree\"]\n",
    "for cat in demCats: \n",
    "    outletPairs[cat + \"Diff\"] = (outletPairs[cat + \"Right\"].astype(float) - outletPairs[cat + \"Left\"].astype(float)).abs()\n",
    "    "
   ]
  },
  {
   "cell_type": "code",
   "execution_count": 515,
   "metadata": {},
   "outputs": [
    {
     "data": {
      "text/plain": [
       "0.47077677029807385"
      ]
     },
     "execution_count": 515,
     "metadata": {},
     "output_type": "execute_result"
    }
   ],
   "source": [
    "#total number of rural outlets \n",
    "ruralOutlets = len(set(pairwise[\"source1\"].unique()).union(set(pairwise[\"source2\"])))\n",
    "ruralPairs = ruralOutlets**2\n",
    "\n",
    "pairedOutlets = len(outletPairs)\n",
    "\n",
    "pairedOutlets / ruralPairs"
   ]
  },
  {
   "cell_type": "code",
   "execution_count": 516,
   "metadata": {},
   "outputs": [],
   "source": [
    "outletPairs[\"dist\"] = outletPairs[[\"latLeft\", \"lonLeft\", \"latRight\", \"lonRight\"]].apply(lambda x: geodesic((x[\"latLeft\"], x[\"lonLeft\"]), (x[\"latRight\"], x[\"lonRight\"])).miles, axis=1)"
   ]
  },
  {
   "cell_type": "code",
   "execution_count": 517,
   "metadata": {},
   "outputs": [],
   "source": [
    "outletPairs[\"nationalMean\"] = (outletPairs[\"nationalRight\"] + outletPairs[\"nationalLeft\"]) / 2"
   ]
  },
  {
   "cell_type": "code",
   "execution_count": 521,
   "metadata": {},
   "outputs": [],
   "source": [
    "outletPairs[\"sameState\"] = (outletPairs[\"stateRight\"] == outletPairs[\"stateLeft\"]).astype(int)"
   ]
  },
  {
   "cell_type": "code",
   "execution_count": 528,
   "metadata": {},
   "outputs": [
    {
     "data": {
      "text/plain": [
       "Text(0, 0.5, '# of co-reported stories')"
      ]
     },
     "execution_count": 528,
     "metadata": {},
     "output_type": "execute_result"
    },
    {
     "data": {
      "image/png": "[encoded data removed]",
      "text/plain": [
       "<Figure size 432x288 with 1 Axes>"
      ]
     },
     "metadata": {
      "needs_background": "light"
     },
     "output_type": "display_data"
    }
   ],
   "source": [
    "plt.scatter(np.log(outletPairs[\"dist\"]), outletPairs[\"sharedStories\"], alpha=.5)\n",
    "#plt.xlim(-5, 100)\n",
    "plt.ylim(0, 800)\n",
    "plt.xlabel(\"distance between outlet pair\")\n",
    "plt.ylabel(\"# of co-reported stories\")"
   ]
  },
  {
   "cell_type": "code",
   "execution_count": 444,
   "metadata": {},
   "outputs": [
    {
     "data": {
      "text/plain": [
       "Index(['indexLeft', 'source1', 'source2', 'sharedStories', 'white_pctLeft',\n",
       "       'lesscollege_pctLeft', 'median_hh_incLeft', 'rural_pctLeft',\n",
       "       'age65andolder_pctLeft', 'total_populationLeft', 'latLeft', 'lonLeft',\n",
       "       'degreeLeft', 'nationalLeft', 'white_pctRight', 'lesscollege_pctRight',\n",
       "       'median_hh_incRight', 'rural_pctRight', 'age65andolder_pctRight',\n",
       "       'total_populationRight', 'latRight', 'lonRight', 'degreeRight',\n",
       "       'nationalRight', 'lesscollege_pctDiff', 'white_pctDiff',\n",
       "       'median_hh_incDiff', 'rural_pctDiff', 'age65andolder_pctDiff',\n",
       "       'total_populationDiff', 'degreeDiff', 'dist'],\n",
       "      dtype='object')"
      ]
     },
     "execution_count": 444,
     "metadata": {},
     "output_type": "execute_result"
    }
   ],
   "source": [
    "outletPairs.columns"
   ]
  },
  {
   "cell_type": "code",
   "execution_count": 479,
   "metadata": {},
   "outputs": [
    {
     "data": {
      "text/plain": [
       "Text(0, 0.5, 'count')"
      ]
     },
     "execution_count": 479,
     "metadata": {},
     "output_type": "execute_result"
    },
    {
     "data": {
      "image/png": "[encoded data removed]",
      "text/plain": [
       "<Figure size 432x288 with 1 Axes>"
      ]
     },
     "metadata": {
      "needs_background": "light"
     },
     "output_type": "display_data"
    }
   ],
   "source": [
    "plt.hist(outletDf[\"national\"])\n",
    "plt.title(\"Distribution of Local Outlet Coverage with National\")\n",
    "plt.xlabel(\"Mean overlap with nat. coverage \")\n",
    "plt.ylabel(\"count\")"
   ]
  },
  {
   "cell_type": "code",
   "execution_count": 465,
   "metadata": {},
   "outputs": [
    {
     "data": {
      "text/plain": [
       "313"
      ]
     },
     "execution_count": 465,
     "metadata": {},
     "output_type": "execute_result"
    }
   ],
   "source": [
    "len(outletDf)"
   ]
  },
  {
   "cell_type": "code",
   "execution_count": 534,
   "metadata": {},
   "outputs": [],
   "source": [
    "import statsmodels.formula.api as smf\n",
    "mod = smf.ols('sharedStories ~ (lesscollege_pctDiff + white_pctDiff + median_hh_incDiff + rural_pctDiff +\\\n",
    "age65andolder_pctDiff + total_populationDiff) * sameState + dist + degreeDiff', data=outletPairs).fit()"
   ]
  },
  {
   "cell_type": "code",
   "execution_count": 535,
   "metadata": {},
   "outputs": [
    {
     "data": {
      "text/html": [
       "<table class=\"simpletable\">\n",
       "<caption>OLS Regression Results</caption>\n",
       "<tr>\n",
       "  <th>Dep. Variable:</th>      <td>sharedStories</td>  <th>  R-squared:         </th>  <td>   0.063</td>  \n",
       "</tr>\n",
       "<tr>\n",
       "  <th>Model:</th>                   <td>OLS</td>       <th>  Adj. R-squared:    </th>  <td>   0.063</td>  \n",
       "</tr>\n",
       "<tr>\n",
       "  <th>Method:</th>             <td>Least Squares</td>  <th>  F-statistic:       </th>  <td>   205.2</td>  \n",
       "</tr>\n",
       "<tr>\n",
       "  <th>Date:</th>             <td>Fri, 07 Apr 2023</td> <th>  Prob (F-statistic):</th>   <td>  0.00</td>   \n",
       "</tr>\n",
       "<tr>\n",
       "  <th>Time:</th>                 <td>09:39:18</td>     <th>  Log-Likelihood:    </th> <td>-2.6015e+05</td>\n",
       "</tr>\n",
       "<tr>\n",
       "  <th>No. Observations:</th>      <td> 45534</td>      <th>  AIC:               </th>  <td>5.203e+05</td> \n",
       "</tr>\n",
       "<tr>\n",
       "  <th>Df Residuals:</th>          <td> 45518</td>      <th>  BIC:               </th>  <td>5.205e+05</td> \n",
       "</tr>\n",
       "<tr>\n",
       "  <th>Df Model:</th>              <td>    15</td>      <th>                     </th>      <td> </td>     \n",
       "</tr>\n",
       "<tr>\n",
       "  <th>Covariance Type:</th>      <td>nonrobust</td>    <th>                     </th>      <td> </td>     \n",
       "</tr>\n",
       "</table>\n",
       "<table class=\"simpletable\">\n",
       "<tr>\n",
       "                 <td></td>                    <th>coef</th>     <th>std err</th>      <th>t</th>      <th>P>|t|</th>  <th>[0.025</th>    <th>0.975]</th>  \n",
       "</tr>\n",
       "<tr>\n",
       "  <th>Intercept</th>                       <td>   23.1856</td> <td>    1.086</td> <td>   21.343</td> <td> 0.000</td> <td>   21.056</td> <td>   25.315</td>\n",
       "</tr>\n",
       "<tr>\n",
       "  <th>lesscollege_pctDiff</th>             <td>   -0.0737</td> <td>    0.041</td> <td>   -1.795</td> <td> 0.073</td> <td>   -0.154</td> <td>    0.007</td>\n",
       "</tr>\n",
       "<tr>\n",
       "  <th>white_pctDiff</th>                   <td>   -0.0671</td> <td>    0.021</td> <td>   -3.150</td> <td> 0.002</td> <td>   -0.109</td> <td>   -0.025</td>\n",
       "</tr>\n",
       "<tr>\n",
       "  <th>median_hh_incDiff</th>               <td>   -0.0002</td> <td> 3.08e-05</td> <td>   -6.338</td> <td> 0.000</td> <td>   -0.000</td> <td>   -0.000</td>\n",
       "</tr>\n",
       "<tr>\n",
       "  <th>rural_pctDiff</th>                   <td>   -0.0669</td> <td>    0.016</td> <td>   -4.277</td> <td> 0.000</td> <td>   -0.098</td> <td>   -0.036</td>\n",
       "</tr>\n",
       "<tr>\n",
       "  <th>age65andolder_pctDiff</th>           <td>   -0.3859</td> <td>    0.107</td> <td>   -3.619</td> <td> 0.000</td> <td>   -0.595</td> <td>   -0.177</td>\n",
       "</tr>\n",
       "<tr>\n",
       "  <th>total_populationDiff</th>            <td> 1.375e-06</td> <td> 2.83e-07</td> <td>    4.853</td> <td> 0.000</td> <td>  8.2e-07</td> <td> 1.93e-06</td>\n",
       "</tr>\n",
       "<tr>\n",
       "  <th>sameState</th>                       <td>  123.7967</td> <td>    3.322</td> <td>   37.268</td> <td> 0.000</td> <td>  117.286</td> <td>  130.307</td>\n",
       "</tr>\n",
       "<tr>\n",
       "  <th>lesscollege_pctDiff:sameState</th>   <td>    0.3043</td> <td>    0.215</td> <td>    1.415</td> <td> 0.157</td> <td>   -0.117</td> <td>    0.726</td>\n",
       "</tr>\n",
       "<tr>\n",
       "  <th>white_pctDiff:sameState</th>         <td>   -1.6103</td> <td>    0.141</td> <td>  -11.438</td> <td> 0.000</td> <td>   -1.886</td> <td>   -1.334</td>\n",
       "</tr>\n",
       "<tr>\n",
       "  <th>median_hh_incDiff:sameState</th>     <td>   -0.0022</td> <td>    0.000</td> <td>  -12.497</td> <td> 0.000</td> <td>   -0.003</td> <td>   -0.002</td>\n",
       "</tr>\n",
       "<tr>\n",
       "  <th>rural_pctDiff:sameState</th>         <td>   -0.6825</td> <td>    0.091</td> <td>   -7.516</td> <td> 0.000</td> <td>   -0.860</td> <td>   -0.504</td>\n",
       "</tr>\n",
       "<tr>\n",
       "  <th>age65andolder_pctDiff:sameState</th> <td>    2.0978</td> <td>    0.578</td> <td>    3.627</td> <td> 0.000</td> <td>    0.964</td> <td>    3.231</td>\n",
       "</tr>\n",
       "<tr>\n",
       "  <th>total_populationDiff:sameState</th>  <td> 9.361e-06</td> <td> 1.49e-06</td> <td>    6.287</td> <td> 0.000</td> <td> 6.44e-06</td> <td> 1.23e-05</td>\n",
       "</tr>\n",
       "<tr>\n",
       "  <th>dist</th>                            <td>   -0.0027</td> <td>    0.001</td> <td>   -5.137</td> <td> 0.000</td> <td>   -0.004</td> <td>   -0.002</td>\n",
       "</tr>\n",
       "<tr>\n",
       "  <th>degreeDiff</th>                      <td>   -0.0002</td> <td> 6.92e-05</td> <td>   -3.606</td> <td> 0.000</td> <td>   -0.000</td> <td>   -0.000</td>\n",
       "</tr>\n",
       "</table>\n",
       "<table class=\"simpletable\">\n",
       "<tr>\n",
       "  <th>Omnibus:</th>       <td>136734.288</td> <th>  Durbin-Watson:     </th>    <td>   1.922</td>    \n",
       "</tr>\n",
       "<tr>\n",
       "  <th>Prob(Omnibus):</th>   <td> 0.000</td>   <th>  Jarque-Bera (JB):  </th> <td>32599074582.911</td>\n",
       "</tr>\n",
       "<tr>\n",
       "  <th>Skew:</th>            <td>43.493</td>   <th>  Prob(JB):          </th>    <td>    0.00</td>    \n",
       "</tr>\n",
       "<tr>\n",
       "  <th>Kurtosis:</th>       <td>4147.238</td>  <th>  Cond. No.          </th>    <td>1.48e+07</td>    \n",
       "</tr>\n",
       "</table><br/><br/>Notes:<br/>[1] Standard Errors assume that the covariance matrix of the errors is correctly specified.<br/>[2] The condition number is large, 1.48e+07. This might indicate that there are<br/>strong multicollinearity or other numerical problems."
      ],
      "text/plain": [
       "<class 'statsmodels.iolib.summary.Summary'>\n",
       "\"\"\"\n",
       "                            OLS Regression Results                            \n",
       "==============================================================================\n",
       "Dep. Variable:          sharedStories   R-squared:                       0.063\n",
       "Model:                            OLS   Adj. R-squared:                  0.063\n",
       "Method:                 Least Squares   F-statistic:                     205.2\n",
       "Date:                Fri, 07 Apr 2023   Prob (F-statistic):               0.00\n",
       "Time:                        09:39:18   Log-Likelihood:            -2.6015e+05\n",
       "No. Observations:               45534   AIC:                         5.203e+05\n",
       "Df Residuals:                   45518   BIC:                         5.205e+05\n",
       "Df Model:                          15                                         \n",
       "Covariance Type:            nonrobust                                         \n",
       "===================================================================================================\n",
       "                                      coef    std err          t      P>|t|      [0.025      0.975]\n",
       "---------------------------------------------------------------------------------------------------\n",
       "Intercept                          23.1856      1.086     21.343      0.000      21.056      25.315\n",
       "lesscollege_pctDiff                -0.0737      0.041     -1.795      0.073      -0.154       0.007\n",
       "white_pctDiff                      -0.0671      0.021     -3.150      0.002      -0.109      -0.025\n",
       "median_hh_incDiff                  -0.0002   3.08e-05     -6.338      0.000      -0.000      -0.000\n",
       "rural_pctDiff                      -0.0669      0.016     -4.277      0.000      -0.098      -0.036\n",
       "age65andolder_pctDiff              -0.3859      0.107     -3.619      0.000      -0.595      -0.177\n",
       "total_populationDiff             1.375e-06   2.83e-07      4.853      0.000     8.2e-07    1.93e-06\n",
       "sameState                         123.7967      3.322     37.268      0.000     117.286     130.307\n",
       "lesscollege_pctDiff:sameState       0.3043      0.215      1.415      0.157      -0.117       0.726\n",
       "white_pctDiff:sameState            -1.6103      0.141    -11.438      0.000      -1.886      -1.334\n",
       "median_hh_incDiff:sameState        -0.0022      0.000    -12.497      0.000      -0.003      -0.002\n",
       "rural_pctDiff:sameState            -0.6825      0.091     -7.516      0.000      -0.860      -0.504\n",
       "age65andolder_pctDiff:sameState     2.0978      0.578      3.627      0.000       0.964       3.231\n",
       "total_populationDiff:sameState   9.361e-06   1.49e-06      6.287      0.000    6.44e-06    1.23e-05\n",
       "dist                               -0.0027      0.001     -5.137      0.000      -0.004      -0.002\n",
       "degreeDiff                         -0.0002   6.92e-05     -3.606      0.000      -0.000      -0.000\n",
       "==============================================================================\n",
       "Omnibus:                   136734.288   Durbin-Watson:                   1.922\n",
       "Prob(Omnibus):                  0.000   Jarque-Bera (JB):      32599074582.911\n",
       "Skew:                          43.493   Prob(JB):                         0.00\n",
       "Kurtosis:                    4147.238   Cond. No.                     1.48e+07\n",
       "==============================================================================\n",
       "\n",
       "Notes:\n",
       "[1] Standard Errors assume that the covariance matrix of the errors is correctly specified.\n",
       "[2] The condition number is large, 1.48e+07. This might indicate that there are\n",
       "strong multicollinearity or other numerical problems.\n",
       "\"\"\""
      ]
     },
     "execution_count": 535,
     "metadata": {},
     "output_type": "execute_result"
    }
   ],
   "source": [
    "mod.summary()"
   ]
  },
  {
   "cell_type": "code",
   "execution_count": 160,
   "metadata": {},
   "outputs": [
    {
     "data": {
      "text/plain": [
       "45534"
      ]
     },
     "execution_count": 160,
     "metadata": {},
     "output_type": "execute_result"
    }
   ],
   "source": [
    "#note we have 45,534 unique pairs of outlets \n",
    "len(demPairs[[\"source1\", \"source2\", \"latLeft\"]].groupby(by=[\"source1\", \"source2\"]).agg(list))"
   ]
  },
  {
   "cell_type": "code",
   "execution_count": 170,
   "metadata": {},
   "outputs": [],
   "source": [
    "demPairs[\"same\"] = 1"
   ]
  },
  {
   "cell_type": "code",
   "execution_count": 182,
   "metadata": {},
   "outputs": [],
   "source": [
    "#generate random pairs of outlets that aren't in here \n",
    "#we can't select any pairs present in this dictionary \n",
    "noMatchDict = demPairs[[\"source1\", \"source2\"]].groupby(by=[\"source1\"]).agg(set).to_dict(orient=\"index\")"
   ]
  },
  {
   "cell_type": "code",
   "execution_count": 185,
   "metadata": {},
   "outputs": [],
   "source": [
    "allOutlets = set(demPairs[\"source1\"].unique()).union(set(demPairs[\"source2\"].unique()))"
   ]
  },
  {
   "cell_type": "code",
   "execution_count": 187,
   "metadata": {},
   "outputs": [
    {
     "data": {
      "text/plain": [
       "308"
      ]
     },
     "execution_count": 187,
     "metadata": {},
     "output_type": "execute_result"
    }
   ],
   "source": [
    "len(allOutlets)"
   ]
  },
  {
   "cell_type": "code",
   "execution_count": null,
   "metadata": {},
   "outputs": [],
   "source": []
  }
 ],
 "metadata": {
  "kernelspec": {
   "display_name": "Python 3",
   "language": "python",
   "name": "python3"
  },
  "language_info": {
   "codemirror_mode": {
    "name": "ipython",
    "version": 3
   },
   "file_extension": ".py",
   "mimetype": "text/x-python",
   "name": "python",
   "nbconvert_exporter": "python",
   "pygments_lexer": "ipython3",
   "version": "3.8.5"
  }
 },
 "nbformat": 4,
 "nbformat_minor": 4
}
