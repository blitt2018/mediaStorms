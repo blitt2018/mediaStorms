{
 "cells": [
  {
   "cell_type": "code",
   "execution_count": 43,
   "metadata": {},
   "outputs": [],
   "source": [
    "import pandas as pd\n",
    "import numpy as np\n",
    "import seaborn as sns\n",
    "import matplotlib.pyplot as plt\n",
    "from collections import Counter\n",
    "import geopy.distance"
   ]
  },
  {
   "cell_type": "code",
   "execution_count": 173,
   "metadata": {},
   "outputs": [
    {
     "name": "stderr",
     "output_type": "stream",
     "text": [
      "<ipython-input-173-66af72162d2e>:1: DtypeWarning:\n",
      "\n",
      "Columns (3,4,11,12,14,15,18) have mixed types. Specify dtype option on import or set low_memory=False.\n",
      "\n"
     ]
    }
   ],
   "source": [
    "testDf = pd.read_csv(\"/shared/3/projects/newsDiffusion/data/processed/newsData/fullDataWithNERCleaned.tsv\", sep=\"\\t\")"
   ]
  },
  {
   "cell_type": "code",
   "execution_count": 179,
   "metadata": {},
   "outputs": [
    {
     "data": {
      "text/plain": [
       "46"
      ]
     },
     "execution_count": 179,
     "metadata": {},
     "output_type": "execute_result"
    }
   ],
   "source": [
    "len(testDf[\"state\"].unique()) - 1"
   ]
  },
  {
   "cell_type": "code",
   "execution_count": 166,
   "metadata": {},
   "outputs": [
    {
     "name": "stderr",
     "output_type": "stream",
     "text": [
      "<ipython-input-166-66ffc1fa7484>:2: DtypeWarning:\n",
      "\n",
      "Columns (2,3,10,11,13,14,17,39,40,41) have mixed types. Specify dtype option on import or set low_memory=False.\n",
      "\n"
     ]
    }
   ],
   "source": [
    "IN_PATH = \"/shared/3/projects/newsDiffusion/data/processed/fullDataWithClustNums.tsv\"\n",
    "df = pd.read_csv(IN_PATH, sep=\"\\t\")\n",
    "\n",
    "df[\"date\"] = pd.to_datetime(df[\"date\"])\n",
    "df = df.dropna(subset=[\"date\"])"
   ]
  },
  {
   "cell_type": "code",
   "execution_count": 185,
   "metadata": {},
   "outputs": [
    {
     "data": {
      "text/plain": [
       "690039"
      ]
     },
     "execution_count": 185,
     "metadata": {},
     "output_type": "execute_result"
    }
   ],
   "source": [
    "len(df)"
   ]
  },
  {
   "cell_type": "code",
   "execution_count": 167,
   "metadata": {},
   "outputs": [
    {
     "data": {
      "text/plain": [
       "46"
      ]
     },
     "execution_count": 167,
     "metadata": {},
     "output_type": "execute_result"
    }
   ],
   "source": [
    "len(df[\"state\"].unique()) - 1"
   ]
  },
  {
   "cell_type": "code",
   "execution_count": 182,
   "metadata": {},
   "outputs": [
    {
     "data": {
      "text/plain": [
       "229"
      ]
     },
     "execution_count": 182,
     "metadata": {},
     "output_type": "execute_result"
    }
   ],
   "source": [
    "len(df[\"county\"].unique())"
   ]
  },
  {
   "cell_type": "code",
   "execution_count": 168,
   "metadata": {},
   "outputs": [],
   "source": [
    "#we can only keep clusters whose first article occured after the \n",
    "#first day of local coverage in our data, 4/1\n",
    "firstLocDate = min(df.loc[df[\"national\"] == False, \"date\"])\n",
    "clusteredDates = df[[\"clustNum\", \"date\"]].groupby(by=\"clustNum\").agg(list).reset_index()\n",
    "clusteredDates[\"minDate\"] = clusteredDates[\"date\"].apply(lambda x: min(x))\n",
    "keepClusts = clusteredDates.loc[clusteredDates[\"minDate\"] >= firstLocDate, \"clustNum\"]\n",
    "\n",
    "df = df[df[\"clustNum\"].isin(keepClusts)]"
   ]
  },
  {
   "cell_type": "code",
   "execution_count": 169,
   "metadata": {},
   "outputs": [
    {
     "data": {
      "text/plain": [
       "46"
      ]
     },
     "execution_count": 169,
     "metadata": {},
     "output_type": "execute_result"
    }
   ],
   "source": [
    "len(df[\"state\"].unique()) - 1"
   ]
  },
  {
   "cell_type": "code",
   "execution_count": null,
   "metadata": {},
   "outputs": [],
   "source": [
    "#get each date as a date since the first story in our data \n",
    "#get the first date in our dataset \n",
    "minDate = min(df[\"date\"])\n",
    "\n",
    "df[\"dateInt\"] = df[\"date\"].apply(lambda x: (x - minDate) / np.timedelta64(1, \"D\"))\n",
    "\n",
    "#get largest stories \n",
    "clustDf = df[[\"source\", \"clustNum\", \"national\", \"key\", \"content\", \"title\", \"date\", \"dateInt\", \"state\", \"lat\", \"lon\"]].groupby(\"clustNum\").agg(list).reset_index()\n",
    "clustDf[\"clustSize\"] = clustDf[\"key\"].apply(len)\n",
    "clustDf[\"nationalPercent\"] = clustDf[\"national\"].apply(np.mean)\n",
    "clustDf[\"duration\"] = ((clustDf[\"date\"].apply(max) - clustDf[\"date\"].apply(min)) / np.timedelta64(1, \"D\")) + 1\n",
    "\n",
    "def getUnique(inList): \n",
    "        return len(set([item for item in inList if item == item]))\n",
    "    \n",
    "#get the number of unique states in this story \n",
    "clustDf[\"numStates\"] = clustDf[\"state\"].apply(getUnique)\n",
    "\n",
    "#get variance of our date integer \n",
    "clustDf[\"dateStd\"] = clustDf[\"dateInt\"].apply(np.std) "
   ]
  },
  {
   "cell_type": "code",
   "execution_count": 165,
   "metadata": {},
   "outputs": [
    {
     "data": {
      "text/plain": [
       "46"
      ]
     },
     "execution_count": 165,
     "metadata": {},
     "output_type": "execute_result"
    }
   ],
   "source": [
    "len(df[\"state\"].unique()) -1 "
   ]
  },
  {
   "cell_type": "code",
   "execution_count": 34,
   "metadata": {},
   "outputs": [],
   "source": [
    "testList = list(clustDf.loc[clustDf[\"clustNum\"] == 8, \"dateInt\"])[0]\n",
    "\n",
    "def getQuantile(inList, quant):\n",
    "    dayOne = min(inList)\n",
    "    lastDay = max(inList)\n",
    "    return ((lastDay - dayOne) / 4) + minDay"
   ]
  },
  {
   "cell_type": "code",
   "execution_count": 32,
   "metadata": {},
   "outputs": [],
   "source": [
    "#get the quartile for this stories trajectory in terms of which days are reported on \n",
    "clustDf[\"storyQuartile\"] = clustDf[\"dateInt\"].apply(getQuantile, args=[.25])"
   ]
  },
  {
   "cell_type": "code",
   "execution_count": 35,
   "metadata": {},
   "outputs": [],
   "source": [
    "#explode and find only articles that are in the first quarter of their respective story clusters \n",
    "#do this eventually but maybe not first pass? "
   ]
  },
  {
   "cell_type": "code",
   "execution_count": 36,
   "metadata": {},
   "outputs": [],
   "source": [
    "#find the furthest that a story reaches for each story "
   ]
  },
  {
   "cell_type": "code",
   "execution_count": 58,
   "metadata": {},
   "outputs": [],
   "source": [
    "#clustDf[[\"clustNum\", \"key\", \"lat\", \"lon\"]]\n",
    "def getFurthestDist(inSeries): \n",
    "    lats = inSeries[\"lat\"]\n",
    "    lons = inSeries[\"lon\"]\n",
    "    \n",
    "    #get the distance between the current lat/lon pair \n",
    "    #when i == j we are comparing with the same pair we are already considering \n",
    "    candLats = [item for item in inSeries[\"lat\"] if item == item and item != np.nan]\n",
    "    candLons = [item for item in inSeries[\"lon\"] if item == item and item != np.nan]\n",
    "\n",
    "    if len(candLats) == 0: \n",
    "        return np.nan\n",
    "    \n",
    "    maxDists = []\n",
    "    #for each lat lon pair, get the shortest distance to any other lat lon pair \n",
    "    for i, key in enumerate(inSeries[\"key\"]): \n",
    "        lat = lats[i]\n",
    "        lon = lons[i]\n",
    "        \n",
    "        #this checks if either are nans\n",
    "        if lat == lat and lon == lon: \n",
    "            distList = [geopy.distance.geodesic((lat, lon), (candLats[j], candLons[j])).miles for j in range(0, len(candLats))]\n",
    "            maxDists.append(max(distList))\n",
    "        else: \n",
    "            maxDists.append(np.nan)\n",
    "    return maxDists\n",
    "\n",
    "clustDf[\"furthestDist\"] = clustDf[clustDf[\"nationalPercent\"] < 1].apply(getFurthestDist, axis=1)"
   ]
  },
  {
   "cell_type": "code",
   "execution_count": 73,
   "metadata": {},
   "outputs": [],
   "source": [
    "expandedDists = clustDf.dropna(subset=(\"furthestDist\"))"
   ]
  },
  {
   "cell_type": "code",
   "execution_count": 74,
   "metadata": {},
   "outputs": [],
   "source": [
    "keepCols = [\"source\", \"national\", \"date\", \"dateInt\", \"state\", \"furthestDist\"]\n",
    "expandedDists = expandedDists[keepCols + [\"clustNum\"]].explode(keepCols)"
   ]
  },
  {
   "cell_type": "code",
   "execution_count": 75,
   "metadata": {},
   "outputs": [],
   "source": [
    "expandedDists = expandedDists.dropna(subset=\"furthestDist\")"
   ]
  },
  {
   "cell_type": "code",
   "execution_count": 79,
   "metadata": {},
   "outputs": [],
   "source": [
    "#for each outlet, we want to get the furthest outlet it has in each cluster \n",
    "maxClustDists = expandedDists.sort_values([\"clustNum\", \"furthestDist\"], ascending=False).drop_duplicates([\"source\", \"clustNum\"])"
   ]
  },
  {
   "cell_type": "code",
   "execution_count": 104,
   "metadata": {},
   "outputs": [],
   "source": [
    "averageDists = maxClustDists[[\"state\", \"furthestDist\"]].groupby(\"state\").agg(np.mean).sort_values(\"furthestDist\")"
   ]
  },
  {
   "cell_type": "code",
   "execution_count": 89,
   "metadata": {},
   "outputs": [
    {
     "name": "stderr",
     "output_type": "stream",
     "text": [
      "/opt/anaconda/lib/python3.8/site-packages/geopandas/_compat.py:123: UserWarning:\n",
      "\n",
      "The Shapely GEOS version (3.8.0-CAPI-1.13.1 ) is incompatible with the GEOS version PyGEOS was compiled with (3.10.4-CAPI-1.16.2). Conversions between both will be slow.\n",
      "\n"
     ]
    }
   ],
   "source": [
    "import geopandas as gpd"
   ]
  },
  {
   "cell_type": "code",
   "execution_count": 123,
   "metadata": {},
   "outputs": [],
   "source": [
    "states = gpd.read_file(\"/home/blitt/reference/geospatial/shapeFiles/2022_census_states/tl_2022_us_state.shp\")"
   ]
  },
  {
   "cell_type": "code",
   "execution_count": 136,
   "metadata": {},
   "outputs": [],
   "source": [
    "averageDists[\"furthestDist\"] = averageDists[\"furthestDist\"].astype(float)"
   ]
  },
  {
   "cell_type": "code",
   "execution_count": 137,
   "metadata": {},
   "outputs": [],
   "source": [
    "distsMerged = pd.merge(states.rename(columns={\"NAME\":\"state\"}),averageDists, on=\"state\", how=\"left\")"
   ]
  },
  {
   "cell_type": "code",
   "execution_count": 143,
   "metadata": {},
   "outputs": [
    {
     "data": {
      "text/plain": [
       "(array([17., 15.,  9.,  2.,  1.,  1.,  0.,  0.,  0.,  1.]),\n",
       " array([ 153.32590468,  408.18907023,  663.05223578,  917.91540133,\n",
       "        1172.77856688, 1427.64173243, 1682.50489798, 1937.36806353,\n",
       "        2192.23122908, 2447.09439463, 2701.95756018]),\n",
       " <BarContainer object of 10 artists>)"
      ]
     },
     "execution_count": 143,
     "metadata": {},
     "output_type": "execute_result"
    },
    {
     "data": {
      "image/png": "[encoded data removed]",
      "text/plain": [
       "<Figure size 432x288 with 1 Axes>"
      ]
     },
     "metadata": {
      "needs_background": "light"
     },
     "output_type": "display_data"
    }
   ],
   "source": [
    "plt.hist(distsMerged[\"furthestDist\"])"
   ]
  },
  {
   "cell_type": "code",
   "execution_count": 146,
   "metadata": {},
   "outputs": [],
   "source": [
    "distsMerged[\"logFurthestDist\"] = np.log(distsMerged[\"furthestDist\"])"
   ]
  },
  {
   "cell_type": "code",
   "execution_count": 176,
   "metadata": {},
   "outputs": [
    {
     "data": {
      "text/plain": [
       "Text(0.5, 212.7055695423244, '*Log scale')"
      ]
     },
     "execution_count": 176,
     "metadata": {},
     "output_type": "execute_result"
    },
    {
     "data": {
      "image/png": "[encoded data removed]",
      "text/plain": [
       "<Figure size 1080x576 with 2 Axes>"
      ]
     },
     "metadata": {
      "needs_background": "light"
     },
     "output_type": "display_data"
    }
   ],
   "source": [
    "fig, ax = plt.subplots(1, figsize=(15, 8))\n",
    "distsMerged[[\"geometry\", \"logFurthestDist\"]].plot(column=\"logFurthestDist\", cmap=\"Blues\", linewidth=1, ax=ax, legend=True)\n",
    "plt.xlim(-175, -50)\n",
    "plt.ylim(10, 80)\n",
    "plt.title(\"Average Distance of Stories Reported from Outlet Location, State Level\")\n",
    "plt.xlabel(\"*Log scale\")"
   ]
  },
  {
   "cell_type": "code",
   "execution_count": null,
   "metadata": {},
   "outputs": [],
   "source": []
  }
 ],
 "metadata": {
  "kernelspec": {
   "display_name": "Python 3",
   "language": "python",
   "name": "python3"
  },
  "language_info": {
   "codemirror_mode": {
    "name": "ipython",
    "version": 3
   },
   "file_extension": ".py",
   "mimetype": "text/x-python",
   "name": "python",
   "nbconvert_exporter": "python",
   "pygments_lexer": "ipython3",
   "version": "3.8.5"
  }
 },
 "nbformat": 4,
 "nbformat_minor": 4
}
