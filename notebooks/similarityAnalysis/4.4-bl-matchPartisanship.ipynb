{
 "cells": [
  {
   "cell_type": "code",
   "execution_count": 21,
   "metadata": {},
   "outputs": [],
   "source": [
    "import pandas as pd \n",
    "import regex as re\n",
    "import matplotlib.pyplot as plt"
   ]
  },
  {
   "cell_type": "code",
   "execution_count": 3,
   "metadata": {},
   "outputs": [
    {
     "data": {
      "text/html": [
       "<div>\n",
       "<style scoped>\n",
       "    .dataframe tbody tr th:only-of-type {\n",
       "        vertical-align: middle;\n",
       "    }\n",
       "\n",
       "    .dataframe tbody tr th {\n",
       "        vertical-align: top;\n",
       "    }\n",
       "\n",
       "    .dataframe thead th {\n",
       "        text-align: right;\n",
       "    }\n",
       "</style>\n",
       "<table border=\"1\" class=\"dataframe\">\n",
       "  <thead>\n",
       "    <tr style=\"text-align: right;\">\n",
       "      <th></th>\n",
       "      <th>news_source</th>\n",
       "      <th>rating</th>\n",
       "      <th>rating_num</th>\n",
       "      <th>type</th>\n",
       "      <th>agree</th>\n",
       "      <th>disagree</th>\n",
       "      <th>perc_agree</th>\n",
       "      <th>url</th>\n",
       "      <th>editorial_review</th>\n",
       "      <th>blind_survey</th>\n",
       "      <th>third_party_analysis</th>\n",
       "      <th>independent_research</th>\n",
       "      <th>confidence_level</th>\n",
       "      <th>twitter</th>\n",
       "      <th>wiki</th>\n",
       "      <th>facebook</th>\n",
       "      <th>screen_name</th>\n",
       "    </tr>\n",
       "  </thead>\n",
       "  <tbody>\n",
       "    <tr>\n",
       "      <th>0</th>\n",
       "      <td>AARP</td>\n",
       "      <td>center</td>\n",
       "      <td>3.0</td>\n",
       "      <td>Think Tank / Policy Group</td>\n",
       "      <td>1404</td>\n",
       "      <td>2343</td>\n",
       "      <td>0.374700</td>\n",
       "      <td>https://www.allsides.com/news-source/aarp-medi...</td>\n",
       "      <td>0</td>\n",
       "      <td>0</td>\n",
       "      <td>0</td>\n",
       "      <td>0</td>\n",
       "      <td>NaN</td>\n",
       "      <td>https://twitter.com/AARP</td>\n",
       "      <td>https://en.wikipedia.org/wiki/AARP</td>\n",
       "      <td>NaN</td>\n",
       "      <td>AARP</td>\n",
       "    </tr>\n",
       "    <tr>\n",
       "      <th>1</th>\n",
       "      <td>ABC News</td>\n",
       "      <td>left-center</td>\n",
       "      <td>2.0</td>\n",
       "      <td>News Media</td>\n",
       "      <td>13793</td>\n",
       "      <td>9409</td>\n",
       "      <td>0.594475</td>\n",
       "      <td>https://www.allsides.com/news-source/abc-news-...</td>\n",
       "      <td>0</td>\n",
       "      <td>1</td>\n",
       "      <td>1</td>\n",
       "      <td>1</td>\n",
       "      <td>High</td>\n",
       "      <td>https://twitter.com/ABC</td>\n",
       "      <td>https://en.wikipedia.org/wiki/ABC_News</td>\n",
       "      <td>https://www.facebook.com/ABCNews/</td>\n",
       "      <td>ABC</td>\n",
       "    </tr>\n",
       "    <tr>\n",
       "      <th>2</th>\n",
       "      <td>Abridge News</td>\n",
       "      <td>allsides</td>\n",
       "      <td>NaN</td>\n",
       "      <td>News Media</td>\n",
       "      <td>31</td>\n",
       "      <td>17</td>\n",
       "      <td>0.645833</td>\n",
       "      <td>https://www.allsides.com/news-source/abridge-n...</td>\n",
       "      <td>0</td>\n",
       "      <td>0</td>\n",
       "      <td>0</td>\n",
       "      <td>1</td>\n",
       "      <td>High</td>\n",
       "      <td>https://twitter.com/Abridge_News</td>\n",
       "      <td>NaN</td>\n",
       "      <td>https://www.facebook.com/AbridgeNews</td>\n",
       "      <td>Abridge_News</td>\n",
       "    </tr>\n",
       "    <tr>\n",
       "      <th>3</th>\n",
       "      <td>Accuracy in Media</td>\n",
       "      <td>right</td>\n",
       "      <td>5.0</td>\n",
       "      <td>Think Tank / Policy Group</td>\n",
       "      <td>743</td>\n",
       "      <td>444</td>\n",
       "      <td>0.625948</td>\n",
       "      <td>https://www.allsides.com/news-source/accuracy-...</td>\n",
       "      <td>0</td>\n",
       "      <td>0</td>\n",
       "      <td>0</td>\n",
       "      <td>1</td>\n",
       "      <td>Medium</td>\n",
       "      <td>NaN</td>\n",
       "      <td>https://en.wikipedia.org/wiki/Accuracy_in_Media</td>\n",
       "      <td>NaN</td>\n",
       "      <td>NaN</td>\n",
       "    </tr>\n",
       "    <tr>\n",
       "      <th>4</th>\n",
       "      <td>ACLU</td>\n",
       "      <td>left-center</td>\n",
       "      <td>2.0</td>\n",
       "      <td>Think Tank / Policy Group</td>\n",
       "      <td>1272</td>\n",
       "      <td>1697</td>\n",
       "      <td>0.428427</td>\n",
       "      <td>https://www.allsides.com/news-source/american-...</td>\n",
       "      <td>0</td>\n",
       "      <td>0</td>\n",
       "      <td>0</td>\n",
       "      <td>0</td>\n",
       "      <td>NaN</td>\n",
       "      <td>https://twitter.com/@ACLU</td>\n",
       "      <td>https://en.wikipedia.org/wiki/American_Civil_L...</td>\n",
       "      <td>https://www.facebook.com/aclu/</td>\n",
       "      <td>ACLU</td>\n",
       "    </tr>\n",
       "  </tbody>\n",
       "</table>\n",
       "</div>"
      ],
      "text/plain": [
       "         news_source       rating  rating_num                       type   \n",
       "0               AARP       center         3.0  Think Tank / Policy Group  \\\n",
       "1           ABC News  left-center         2.0                 News Media   \n",
       "2       Abridge News     allsides         NaN                 News Media   \n",
       "3  Accuracy in Media        right         5.0  Think Tank / Policy Group   \n",
       "4               ACLU  left-center         2.0  Think Tank / Policy Group   \n",
       "\n",
       "   agree  disagree  perc_agree   \n",
       "0   1404      2343    0.374700  \\\n",
       "1  13793      9409    0.594475   \n",
       "2     31        17    0.645833   \n",
       "3    743       444    0.625948   \n",
       "4   1272      1697    0.428427   \n",
       "\n",
       "                                                 url editorial_review   \n",
       "0  https://www.allsides.com/news-source/aarp-medi...                0  \\\n",
       "1  https://www.allsides.com/news-source/abc-news-...                0   \n",
       "2  https://www.allsides.com/news-source/abridge-n...                0   \n",
       "3  https://www.allsides.com/news-source/accuracy-...                0   \n",
       "4  https://www.allsides.com/news-source/american-...                0   \n",
       "\n",
       "   blind_survey  third_party_analysis  independent_research confidence_level   \n",
       "0             0                     0                     0              NaN  \\\n",
       "1             1                     1                     1             High   \n",
       "2             0                     0                     1             High   \n",
       "3             0                     0                     1           Medium   \n",
       "4             0                     0                     0              NaN   \n",
       "\n",
       "                            twitter   \n",
       "0          https://twitter.com/AARP  \\\n",
       "1           https://twitter.com/ABC   \n",
       "2  https://twitter.com/Abridge_News   \n",
       "3                               NaN   \n",
       "4         https://twitter.com/@ACLU   \n",
       "\n",
       "                                                wiki   \n",
       "0                 https://en.wikipedia.org/wiki/AARP  \\\n",
       "1             https://en.wikipedia.org/wiki/ABC_News   \n",
       "2                                                NaN   \n",
       "3    https://en.wikipedia.org/wiki/Accuracy_in_Media   \n",
       "4  https://en.wikipedia.org/wiki/American_Civil_L...   \n",
       "\n",
       "                               facebook   screen_name  \n",
       "0                                   NaN          AARP  \n",
       "1     https://www.facebook.com/ABCNews/           ABC  \n",
       "2  https://www.facebook.com/AbridgeNews  Abridge_News  \n",
       "3                                   NaN           NaN  \n",
       "4        https://www.facebook.com/aclu/          ACLU  "
      ]
     },
     "execution_count": 3,
     "metadata": {},
     "output_type": "execute_result"
    }
   ],
   "source": [
    "url = \"https://raw.githubusercontent.com/favstats/AllSideR/master/data/allsides_data.csv\"\n",
    "allsides = pd.read_csv(url)\n",
    "allsides.head()"
   ]
  },
  {
   "cell_type": "code",
   "execution_count": 4,
   "metadata": {},
   "outputs": [
    {
     "name": "stderr",
     "output_type": "stream",
     "text": [
      "<ipython-input-4-2c6c3b6dc08c>:1: DtypeWarning: Columns (3,4,11,12,14,15,18) have mixed types. Specify dtype option on import or set low_memory=False.\n",
      "  newsData = pd.read_csv(\"/shared/3/projects/newsDiffusion/data/processed/newsData/fullDataWithNERCleaned.tsv\", sep=\"\\t\")\n"
     ]
    }
   ],
   "source": [
    "newsData = pd.read_csv(\"/shared/3/projects/newsDiffusion/data/processed/newsData/fullDataWithNERCleaned.tsv\", sep=\"\\t\")"
   ]
  },
  {
   "cell_type": "code",
   "execution_count": 6,
   "metadata": {},
   "outputs": [],
   "source": [
    "nationalOutlets = newsData.loc[newsData[\"national\"] == True, \"source\"].unique()"
   ]
  },
  {
   "cell_type": "code",
   "execution_count": 7,
   "metadata": {},
   "outputs": [],
   "source": [
    "#remove anything that isn't a number or letter \n",
    "def cleanStr(inStr): \n",
    "    inStr = inStr.lower()\n",
    "    return re.sub(\"[^a-z0-9]\", \"\", inStr)\n",
    "    \n",
    "allsides[\"sourceCleaned\"] = allsides[\"news_source\"].apply(cleanStr)"
   ]
  },
  {
   "cell_type": "code",
   "execution_count": 8,
   "metadata": {},
   "outputs": [],
   "source": [
    "natDf = pd.DataFrame(nationalOutlets, columns=[\"sourceCleaned\"])"
   ]
  },
  {
   "cell_type": "code",
   "execution_count": 11,
   "metadata": {},
   "outputs": [],
   "source": [
    "matchedSources = pd.merge(natDf, allsides[[\"sourceCleaned\", \"news_source\", \"rating_num\", \"agree\", \"disagree\"]], on=\"sourceCleaned\", how=\"inner\")"
   ]
  },
  {
   "cell_type": "code",
   "execution_count": 14,
   "metadata": {},
   "outputs": [],
   "source": [
    "matchedSources[\"totalRatings\"] = matchedSources[\"agree\"] + matchedSources[\"disagree\"]"
   ]
  },
  {
   "cell_type": "code",
   "execution_count": 24,
   "metadata": {},
   "outputs": [
    {
     "data": {
      "text/plain": [
       "(array([17.,  0., 16.,  0.,  0., 14.,  0.,  6.,  0., 11.]),\n",
       " array([1. , 1.4, 1.8, 2.2, 2.6, 3. , 3.4, 3.8, 4.2, 4.6, 5. ]),\n",
       " <BarContainer object of 10 artists>)"
      ]
     },
     "execution_count": 24,
     "metadata": {},
     "output_type": "execute_result"
    },
    {
     "data": {
      "image/png": "[encoded data removed]",
      "text/plain": [
       "<Figure size 432x288 with 1 Axes>"
      ]
     },
     "metadata": {
      "needs_background": "light"
     },
     "output_type": "display_data"
    }
   ],
   "source": [
    "matchedSources.sort_values(\"totalRatings\", ascending=False).head(30)\n",
    "plt.hist(matchedSources[\"rating_num\"])"
   ]
  },
  {
   "cell_type": "code",
   "execution_count": 40,
   "metadata": {},
   "outputs": [],
   "source": [
    "matchedSources.to_csv(\"/shared/3/projects/newsDiffusion/data/processed/politicalSlant/national2020slant.csv\")"
   ]
  },
  {
   "cell_type": "code",
   "execution_count": null,
   "metadata": {},
   "outputs": [],
   "source": []
  }
 ],
 "metadata": {
  "kernelspec": {
   "display_name": "Python 3",
   "language": "python",
   "name": "python3"
  },
  "language_info": {
   "codemirror_mode": {
    "name": "ipython",
    "version": 3
   },
   "file_extension": ".py",
   "mimetype": "text/x-python",
   "name": "python",
   "nbconvert_exporter": "python",
   "pygments_lexer": "ipython3",
   "version": "3.8.5"
  }
 },
 "nbformat": 4,
 "nbformat_minor": 4
}
