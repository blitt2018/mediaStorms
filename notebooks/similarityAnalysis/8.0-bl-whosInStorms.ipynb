{
 "cells": [
  {
   "cell_type": "code",
   "execution_count": 753,
   "metadata": {},
   "outputs": [],
   "source": [
    "import pandas as pd\n",
    "import seaborn as sns\n",
    "import matplotlib.pyplot as plt\n",
    "import numpy as np\n",
    "import scipy "
   ]
  },
  {
   "cell_type": "code",
   "execution_count": null,
   "metadata": {},
   "outputs": [],
   "source": [
    "#TODO: we are getting some duplicates in this file that we need to check into\n",
    "#problem is likely caused by duplicates in veracity labels, which need to be fixed anyways "
   ]
  },
  {
   "cell_type": "code",
   "execution_count": 2,
   "metadata": {},
   "outputs": [
    {
     "name": "stderr",
     "output_type": "stream",
     "text": [
      "<ipython-input-2-a508520d3801>:13: DtypeWarning: Columns (4,5,12,13,15,16,19) have mixed types. Specify dtype option on import or set low_memory=False.\n",
      "  artDf = pd.read_csv(ARTICLES_PATH, sep=\"\\t\")\n"
     ]
    }
   ],
   "source": [
    "#set paths \n",
    "STORMS_PATH  = \"/shared/3/projects/newsDiffusion/data/processed/stormDfs/20000_90_storms.tsv\"\n",
    "ARTICLES_PATH = \"/shared/3/projects/newsDiffusion/data/processed/fullDataWith20000.tsv\"\n",
    "POLITICS_PATH = \"/shared/3/projects/newsDiffusion/data/raw/NELAdata/CSVs/politics.csv\"\n",
    "VER_2020 = \"/shared/3/projects/newsDiffusion/data/raw/NELA-gt-2020/labels.csv\"\n",
    "VER_2021 = \"/shared/3/projects/newsDiffusion/data/raw/NELA-gt-2021/labels_all.tab\"\n",
    "\n",
    "#read data\n",
    "ver2020 = pd.read_csv(VER_2020)\n",
    "ver2021 = pd.read_csv(VER_2021, sep=\"\\t\")\n",
    "politics = pd.read_csv(POLITICS_PATH)\n",
    "stormsDf = pd.read_csv(STORMS_PATH, sep=\"\\t\")\n",
    "artDf = pd.read_csv(ARTICLES_PATH, sep=\"\\t\")\n",
    "\n",
    "artDf[\"date\"] = pd.to_datetime(artDf[\"date\"])\n",
    "\n",
    "F_COLOR = \"#fdae61\"\n",
    "S_COLOR = \"#abdda4\""
   ]
  },
  {
   "cell_type": "code",
   "execution_count": 1091,
   "metadata": {},
   "outputs": [],
   "source": [
    "forLen = artDf[artDf[\"date\"] >= \"04-01-2020\"]"
   ]
  },
  {
   "cell_type": "code",
   "execution_count": 1092,
   "metadata": {},
   "outputs": [
    {
     "data": {
      "text/plain": [
       "(4228898, 49)"
      ]
     },
     "execution_count": 1092,
     "metadata": {},
     "output_type": "execute_result"
    }
   ],
   "source": [
    "forLen.shape"
   ]
  },
  {
   "cell_type": "code",
   "execution_count": null,
   "metadata": {},
   "outputs": [],
   "source": [
    "forLen"
   ]
  },
  {
   "cell_type": "code",
   "execution_count": 1120,
   "metadata": {},
   "outputs": [
    {
     "data": {
      "text/plain": [
       "20331"
      ]
     },
     "execution_count": 1120,
     "metadata": {},
     "output_type": "execute_result"
    }
   ],
   "source": [
    "len(stormsDf)"
   ]
  },
  {
   "cell_type": "code",
   "execution_count": 1093,
   "metadata": {},
   "outputs": [
    {
     "data": {
      "text/plain": [
       "815"
      ]
     },
     "execution_count": 1093,
     "metadata": {},
     "output_type": "execute_result"
    }
   ],
   "source": [
    "len(forLen[\"source\"].unique())"
   ]
  },
  {
   "cell_type": "code",
   "execution_count": 1094,
   "metadata": {},
   "outputs": [
    {
     "data": {
      "text/html": [
       "<div>\n",
       "<style scoped>\n",
       "    .dataframe tbody tr th:only-of-type {\n",
       "        vertical-align: middle;\n",
       "    }\n",
       "\n",
       "    .dataframe tbody tr th {\n",
       "        vertical-align: top;\n",
       "    }\n",
       "\n",
       "    .dataframe thead th {\n",
       "        text-align: right;\n",
       "    }\n",
       "</style>\n",
       "<table border=\"1\" class=\"dataframe\">\n",
       "  <thead>\n",
       "    <tr style=\"text-align: right;\">\n",
       "      <th></th>\n",
       "      <th>Unnamed: 0.2</th>\n",
       "      <th>Unnamed: 0.1</th>\n",
       "      <th>key</th>\n",
       "      <th>local_id</th>\n",
       "      <th>sourcedomain_id</th>\n",
       "      <th>date</th>\n",
       "      <th>title</th>\n",
       "      <th>content</th>\n",
       "      <th>url</th>\n",
       "      <th>fips</th>\n",
       "      <th>...</th>\n",
       "      <th>national</th>\n",
       "      <th>logodds_Trump20</th>\n",
       "      <th>logodds_Trump16</th>\n",
       "      <th>logodds_Romney12</th>\n",
       "      <th>20000_90_average_pct</th>\n",
       "      <th>20000_90_num_over_cutoff</th>\n",
       "      <th>20000_90_storm_source</th>\n",
       "      <th>20000_90_storm</th>\n",
       "      <th>nArts</th>\n",
       "      <th>storyLen</th>\n",
       "    </tr>\n",
       "  </thead>\n",
       "  <tbody>\n",
       "    <tr>\n",
       "      <th>0</th>\n",
       "      <td>338570</td>\n",
       "      <td>1698421</td>\n",
       "      <td>1698421</td>\n",
       "      <td>NaN</td>\n",
       "      <td>NaN</td>\n",
       "      <td>2020-04-01</td>\n",
       "      <td>Trump says Iran is planning &amp;apos;sneak attack...</td>\n",
       "      <td>Donald Trump claimed on Wednesday that Iran is...</td>\n",
       "      <td>https://www.independent.co.uk/news/world/ameri...</td>\n",
       "      <td>NaN</td>\n",
       "      <td>...</td>\n",
       "      <td>True</td>\n",
       "      <td>NaN</td>\n",
       "      <td>NaN</td>\n",
       "      <td>NaN</td>\n",
       "      <td>NaN</td>\n",
       "      <td>NaN</td>\n",
       "      <td>NaN</td>\n",
       "      <td>False</td>\n",
       "      <td>8</td>\n",
       "      <td>1.0</td>\n",
       "    </tr>\n",
       "    <tr>\n",
       "      <th>1</th>\n",
       "      <td>339430</td>\n",
       "      <td>3014470</td>\n",
       "      <td>3014470</td>\n",
       "      <td>NaN</td>\n",
       "      <td>NaN</td>\n",
       "      <td>2020-04-01</td>\n",
       "      <td>President Trump: ‘Iran or Its Proxies are Plan...</td>\n",
       "      <td>Poking the mighty bear , that ’ s the move .\\n...</td>\n",
       "      <td>https://gellerreport.com/2020/04/president-tru...</td>\n",
       "      <td>NaN</td>\n",
       "      <td>...</td>\n",
       "      <td>True</td>\n",
       "      <td>NaN</td>\n",
       "      <td>NaN</td>\n",
       "      <td>NaN</td>\n",
       "      <td>NaN</td>\n",
       "      <td>NaN</td>\n",
       "      <td>NaN</td>\n",
       "      <td>False</td>\n",
       "      <td>8</td>\n",
       "      <td>1.0</td>\n",
       "    </tr>\n",
       "    <tr>\n",
       "      <th>2</th>\n",
       "      <td>339532</td>\n",
       "      <td>2534467</td>\n",
       "      <td>2534467</td>\n",
       "      <td>NaN</td>\n",
       "      <td>NaN</td>\n",
       "      <td>2020-04-01</td>\n",
       "      <td>Trump: Iran Planning “Sneak Attack” on U.S. Tr...</td>\n",
       "      <td>President Trump said Wednesday that Iran is pl...</td>\n",
       "      <td>https://www.foxnews.com/politics/trump-says-ir...</td>\n",
       "      <td>NaN</td>\n",
       "      <td>...</td>\n",
       "      <td>True</td>\n",
       "      <td>NaN</td>\n",
       "      <td>NaN</td>\n",
       "      <td>NaN</td>\n",
       "      <td>NaN</td>\n",
       "      <td>NaN</td>\n",
       "      <td>NaN</td>\n",
       "      <td>False</td>\n",
       "      <td>8</td>\n",
       "      <td>1.0</td>\n",
       "    </tr>\n",
       "    <tr>\n",
       "      <th>3</th>\n",
       "      <td>339619</td>\n",
       "      <td>2536518</td>\n",
       "      <td>2536518</td>\n",
       "      <td>NaN</td>\n",
       "      <td>NaN</td>\n",
       "      <td>2020-04-01</td>\n",
       "      <td>Trump warns Iran against possible 'sneak attac...</td>\n",
       "      <td>WASHINGTON ( Reuters ) - U.S. President Donald...</td>\n",
       "      <td>http://feeds.reuters.com/~r/Reuters/PoliticsNe...</td>\n",
       "      <td>NaN</td>\n",
       "      <td>...</td>\n",
       "      <td>True</td>\n",
       "      <td>NaN</td>\n",
       "      <td>NaN</td>\n",
       "      <td>NaN</td>\n",
       "      <td>NaN</td>\n",
       "      <td>NaN</td>\n",
       "      <td>NaN</td>\n",
       "      <td>False</td>\n",
       "      <td>8</td>\n",
       "      <td>1.0</td>\n",
       "    </tr>\n",
       "    <tr>\n",
       "      <th>4</th>\n",
       "      <td>340344</td>\n",
       "      <td>2754080</td>\n",
       "      <td>2754080</td>\n",
       "      <td>NaN</td>\n",
       "      <td>NaN</td>\n",
       "      <td>2020-04-01</td>\n",
       "      <td>President Trump: Iran planning sneak attack on...</td>\n",
       "      <td>Poking the mighty bear , that ’ s the move .\\n...</td>\n",
       "      <td>https://gellerreport.com/2020/04/president-tru...</td>\n",
       "      <td>NaN</td>\n",
       "      <td>...</td>\n",
       "      <td>True</td>\n",
       "      <td>NaN</td>\n",
       "      <td>NaN</td>\n",
       "      <td>NaN</td>\n",
       "      <td>NaN</td>\n",
       "      <td>NaN</td>\n",
       "      <td>NaN</td>\n",
       "      <td>False</td>\n",
       "      <td>8</td>\n",
       "      <td>1.0</td>\n",
       "    </tr>\n",
       "  </tbody>\n",
       "</table>\n",
       "<p>5 rows × 59 columns</p>\n",
       "</div>"
      ],
      "text/plain": [
       "   Unnamed: 0.2  Unnamed: 0.1      key local_id sourcedomain_id       date   \n",
       "0        338570       1698421  1698421      NaN             NaN 2020-04-01  \\\n",
       "1        339430       3014470  3014470      NaN             NaN 2020-04-01   \n",
       "2        339532       2534467  2534467      NaN             NaN 2020-04-01   \n",
       "3        339619       2536518  2536518      NaN             NaN 2020-04-01   \n",
       "4        340344       2754080  2754080      NaN             NaN 2020-04-01   \n",
       "\n",
       "                                               title   \n",
       "0  Trump says Iran is planning &apos;sneak attack...  \\\n",
       "1  President Trump: ‘Iran or Its Proxies are Plan...   \n",
       "2  Trump: Iran Planning “Sneak Attack” on U.S. Tr...   \n",
       "3  Trump warns Iran against possible 'sneak attac...   \n",
       "4  President Trump: Iran planning sneak attack on...   \n",
       "\n",
       "                                             content   \n",
       "0  Donald Trump claimed on Wednesday that Iran is...  \\\n",
       "1  Poking the mighty bear , that ’ s the move .\\n...   \n",
       "2  President Trump said Wednesday that Iran is pl...   \n",
       "3  WASHINGTON ( Reuters ) - U.S. President Donald...   \n",
       "4  Poking the mighty bear , that ’ s the move .\\n...   \n",
       "\n",
       "                                                 url  fips  ... national   \n",
       "0  https://www.independent.co.uk/news/world/ameri...   NaN  ...     True  \\\n",
       "1  https://gellerreport.com/2020/04/president-tru...   NaN  ...     True   \n",
       "2  https://www.foxnews.com/politics/trump-says-ir...   NaN  ...     True   \n",
       "3  http://feeds.reuters.com/~r/Reuters/PoliticsNe...   NaN  ...     True   \n",
       "4  https://gellerreport.com/2020/04/president-tru...   NaN  ...     True   \n",
       "\n",
       "  logodds_Trump20 logodds_Trump16  logodds_Romney12 20000_90_average_pct   \n",
       "0             NaN             NaN               NaN                  NaN  \\\n",
       "1             NaN             NaN               NaN                  NaN   \n",
       "2             NaN             NaN               NaN                  NaN   \n",
       "3             NaN             NaN               NaN                  NaN   \n",
       "4             NaN             NaN               NaN                  NaN   \n",
       "\n",
       "  20000_90_num_over_cutoff  20000_90_storm_source  20000_90_storm nArts   \n",
       "0                      NaN                    NaN           False     8  \\\n",
       "1                      NaN                    NaN           False     8   \n",
       "2                      NaN                    NaN           False     8   \n",
       "3                      NaN                    NaN           False     8   \n",
       "4                      NaN                    NaN           False     8   \n",
       "\n",
       "   storyLen  \n",
       "0       1.0  \n",
       "1       1.0  \n",
       "2       1.0  \n",
       "3       1.0  \n",
       "4       1.0  \n",
       "\n",
       "[5 rows x 59 columns]"
      ]
     },
     "execution_count": 1094,
     "metadata": {},
     "output_type": "execute_result"
    }
   ],
   "source": [
    "merged.head()"
   ]
  },
  {
   "cell_type": "code",
   "execution_count": 3,
   "metadata": {},
   "outputs": [],
   "source": [
    "SCOL = \"20000_90\""
   ]
  },
  {
   "cell_type": "code",
   "execution_count": 5,
   "metadata": {},
   "outputs": [],
   "source": [
    "#fill in the clusters of size 1 that have no cluster label \n",
    "clustList = list(artDf[SCOL])\n",
    "clustNum = np.nanmax(clustList) + 1\n",
    "\n",
    "for i, num in enumerate(clustList): \n",
    "    currClust = num\n",
    "    if num != num: \n",
    "        clustList[i] = clustNum \n",
    "        clustNum += 1\n",
    "    \n",
    "\n",
    "artDf[SCOL] = clustList\n",
    "artDf[SCOL] = artDf[SCOL].astype(int)"
   ]
  },
  {
   "cell_type": "code",
   "execution_count": 6,
   "metadata": {},
   "outputs": [
    {
     "name": "stdout",
     "output_type": "stream",
     "text": [
      "1.0% of articles are clustered\n"
     ]
    }
   ],
   "source": [
    "print(f'{len(artDf.dropna(subset=[SCOL])) / len(artDf)}% of articles are clustered') "
   ]
  },
  {
   "cell_type": "code",
   "execution_count": 1099,
   "metadata": {},
   "outputs": [
    {
     "data": {
      "text/plain": [
       "4567468"
      ]
     },
     "execution_count": 1099,
     "metadata": {},
     "output_type": "execute_result"
    }
   ],
   "source": [
    "len(artDf)"
   ]
  },
  {
   "cell_type": "code",
   "execution_count": 1100,
   "metadata": {},
   "outputs": [],
   "source": [
    "forLen = artDf[artDf[\"date\"] >= \"04-01-2020\"]"
   ]
  },
  {
   "cell_type": "code",
   "execution_count": 1103,
   "metadata": {},
   "outputs": [
    {
     "data": {
      "text/plain": [
       "3262495"
      ]
     },
     "execution_count": 1103,
     "metadata": {},
     "output_type": "execute_result"
    }
   ],
   "source": [
    "len(forLen[SCOL].unique())"
   ]
  },
  {
   "cell_type": "code",
   "execution_count": 1097,
   "metadata": {},
   "outputs": [
    {
     "ename": "ValueError",
     "evalue": "Cannot index with multidimensional key",
     "output_type": "error",
     "traceback": [
      "\u001b[0;31m---------------------------------------------------------------------------\u001b[0m",
      "\u001b[0;31mValueError\u001b[0m                                Traceback (most recent call last)",
      "\u001b[0;32m<ipython-input-1097-ef57bc4f6ec1>\u001b[0m in \u001b[0;36m<module>\u001b[0;34m\u001b[0m\n\u001b[0;32m----> 1\u001b[0;31m \u001b[0mlen\u001b[0m\u001b[0;34m(\u001b[0m\u001b[0martDf\u001b[0m\u001b[0;34m.\u001b[0m\u001b[0mloc\u001b[0m\u001b[0;34m[\u001b[0m\u001b[0martDf\u001b[0m\u001b[0;34m[\u001b[0m\u001b[0martDf\u001b[0m\u001b[0;34m[\u001b[0m\u001b[0;34m\"date\"\u001b[0m\u001b[0;34m]\u001b[0m \u001b[0;34m>=\u001b[0m \u001b[0;34m\"04-01-2020\"\u001b[0m\u001b[0;34m]\u001b[0m\u001b[0;34m,\u001b[0m \u001b[0mSCOL\u001b[0m\u001b[0;34m]\u001b[0m\u001b[0;34m.\u001b[0m\u001b[0munique\u001b[0m\u001b[0;34m(\u001b[0m\u001b[0;34m)\u001b[0m\u001b[0;34m)\u001b[0m\u001b[0;34m\u001b[0m\u001b[0;34m\u001b[0m\u001b[0m\n\u001b[0m",
      "\u001b[0;32m/opt/anaconda/lib/python3.8/site-packages/pandas/core/indexing.py\u001b[0m in \u001b[0;36m__getitem__\u001b[0;34m(self, key)\u001b[0m\n\u001b[1;32m   1095\u001b[0m             \u001b[0;32mif\u001b[0m \u001b[0mself\u001b[0m\u001b[0;34m.\u001b[0m\u001b[0m_is_scalar_access\u001b[0m\u001b[0;34m(\u001b[0m\u001b[0mkey\u001b[0m\u001b[0;34m)\u001b[0m\u001b[0;34m:\u001b[0m\u001b[0;34m\u001b[0m\u001b[0;34m\u001b[0m\u001b[0m\n\u001b[1;32m   1096\u001b[0m                 \u001b[0;32mreturn\u001b[0m \u001b[0mself\u001b[0m\u001b[0;34m.\u001b[0m\u001b[0mobj\u001b[0m\u001b[0;34m.\u001b[0m\u001b[0m_get_value\u001b[0m\u001b[0;34m(\u001b[0m\u001b[0;34m*\u001b[0m\u001b[0mkey\u001b[0m\u001b[0;34m,\u001b[0m \u001b[0mtakeable\u001b[0m\u001b[0;34m=\u001b[0m\u001b[0mself\u001b[0m\u001b[0;34m.\u001b[0m\u001b[0m_takeable\u001b[0m\u001b[0;34m)\u001b[0m\u001b[0;34m\u001b[0m\u001b[0;34m\u001b[0m\u001b[0m\n\u001b[0;32m-> 1097\u001b[0;31m             \u001b[0;32mreturn\u001b[0m \u001b[0mself\u001b[0m\u001b[0;34m.\u001b[0m\u001b[0m_getitem_tuple\u001b[0m\u001b[0;34m(\u001b[0m\u001b[0mkey\u001b[0m\u001b[0;34m)\u001b[0m\u001b[0;34m\u001b[0m\u001b[0;34m\u001b[0m\u001b[0m\n\u001b[0m\u001b[1;32m   1098\u001b[0m         \u001b[0;32melse\u001b[0m\u001b[0;34m:\u001b[0m\u001b[0;34m\u001b[0m\u001b[0;34m\u001b[0m\u001b[0m\n\u001b[1;32m   1099\u001b[0m             \u001b[0;31m# we by definition only have the 0th axis\u001b[0m\u001b[0;34m\u001b[0m\u001b[0;34m\u001b[0m\u001b[0;34m\u001b[0m\u001b[0m\n",
      "\u001b[0;32m/opt/anaconda/lib/python3.8/site-packages/pandas/core/indexing.py\u001b[0m in \u001b[0;36m_getitem_tuple\u001b[0;34m(self, tup)\u001b[0m\n\u001b[1;32m   1278\u001b[0m         \u001b[0;32mwith\u001b[0m \u001b[0msuppress\u001b[0m\u001b[0;34m(\u001b[0m\u001b[0mIndexingError\u001b[0m\u001b[0;34m)\u001b[0m\u001b[0;34m:\u001b[0m\u001b[0;34m\u001b[0m\u001b[0;34m\u001b[0m\u001b[0m\n\u001b[1;32m   1279\u001b[0m             \u001b[0mtup\u001b[0m \u001b[0;34m=\u001b[0m \u001b[0mself\u001b[0m\u001b[0;34m.\u001b[0m\u001b[0m_expand_ellipsis\u001b[0m\u001b[0;34m(\u001b[0m\u001b[0mtup\u001b[0m\u001b[0;34m)\u001b[0m\u001b[0;34m\u001b[0m\u001b[0;34m\u001b[0m\u001b[0m\n\u001b[0;32m-> 1280\u001b[0;31m             \u001b[0;32mreturn\u001b[0m \u001b[0mself\u001b[0m\u001b[0;34m.\u001b[0m\u001b[0m_getitem_lowerdim\u001b[0m\u001b[0;34m(\u001b[0m\u001b[0mtup\u001b[0m\u001b[0;34m)\u001b[0m\u001b[0;34m\u001b[0m\u001b[0;34m\u001b[0m\u001b[0m\n\u001b[0m\u001b[1;32m   1281\u001b[0m \u001b[0;34m\u001b[0m\u001b[0m\n\u001b[1;32m   1282\u001b[0m         \u001b[0;31m# no multi-index, so validate all of the indexers\u001b[0m\u001b[0;34m\u001b[0m\u001b[0;34m\u001b[0m\u001b[0;34m\u001b[0m\u001b[0m\n",
      "\u001b[0;32m/opt/anaconda/lib/python3.8/site-packages/pandas/core/indexing.py\u001b[0m in \u001b[0;36m_getitem_lowerdim\u001b[0;34m(self, tup)\u001b[0m\n\u001b[1;32m   1022\u001b[0m                     \u001b[0;32mreturn\u001b[0m \u001b[0msection\u001b[0m\u001b[0;34m\u001b[0m\u001b[0;34m\u001b[0m\u001b[0m\n\u001b[1;32m   1023\u001b[0m                 \u001b[0;31m# This is an elided recursive call to iloc/loc\u001b[0m\u001b[0;34m\u001b[0m\u001b[0;34m\u001b[0m\u001b[0;34m\u001b[0m\u001b[0m\n\u001b[0;32m-> 1024\u001b[0;31m                 \u001b[0;32mreturn\u001b[0m \u001b[0mgetattr\u001b[0m\u001b[0;34m(\u001b[0m\u001b[0msection\u001b[0m\u001b[0;34m,\u001b[0m \u001b[0mself\u001b[0m\u001b[0;34m.\u001b[0m\u001b[0mname\u001b[0m\u001b[0;34m)\u001b[0m\u001b[0;34m[\u001b[0m\u001b[0mnew_key\u001b[0m\u001b[0;34m]\u001b[0m\u001b[0;34m\u001b[0m\u001b[0;34m\u001b[0m\u001b[0m\n\u001b[0m\u001b[1;32m   1025\u001b[0m \u001b[0;34m\u001b[0m\u001b[0m\n\u001b[1;32m   1026\u001b[0m         \u001b[0;32mraise\u001b[0m \u001b[0mIndexingError\u001b[0m\u001b[0;34m(\u001b[0m\u001b[0;34m\"not applicable\"\u001b[0m\u001b[0;34m)\u001b[0m\u001b[0;34m\u001b[0m\u001b[0;34m\u001b[0m\u001b[0m\n",
      "\u001b[0;32m/opt/anaconda/lib/python3.8/site-packages/pandas/core/indexing.py\u001b[0m in \u001b[0;36m__getitem__\u001b[0;34m(self, key)\u001b[0m\n\u001b[1;32m   1101\u001b[0m \u001b[0;34m\u001b[0m\u001b[0m\n\u001b[1;32m   1102\u001b[0m             \u001b[0mmaybe_callable\u001b[0m \u001b[0;34m=\u001b[0m \u001b[0mcom\u001b[0m\u001b[0;34m.\u001b[0m\u001b[0mapply_if_callable\u001b[0m\u001b[0;34m(\u001b[0m\u001b[0mkey\u001b[0m\u001b[0;34m,\u001b[0m \u001b[0mself\u001b[0m\u001b[0;34m.\u001b[0m\u001b[0mobj\u001b[0m\u001b[0;34m)\u001b[0m\u001b[0;34m\u001b[0m\u001b[0;34m\u001b[0m\u001b[0m\n\u001b[0;32m-> 1103\u001b[0;31m             \u001b[0;32mreturn\u001b[0m \u001b[0mself\u001b[0m\u001b[0;34m.\u001b[0m\u001b[0m_getitem_axis\u001b[0m\u001b[0;34m(\u001b[0m\u001b[0mmaybe_callable\u001b[0m\u001b[0;34m,\u001b[0m \u001b[0maxis\u001b[0m\u001b[0;34m=\u001b[0m\u001b[0maxis\u001b[0m\u001b[0;34m)\u001b[0m\u001b[0;34m\u001b[0m\u001b[0;34m\u001b[0m\u001b[0m\n\u001b[0m\u001b[1;32m   1104\u001b[0m \u001b[0;34m\u001b[0m\u001b[0m\n\u001b[1;32m   1105\u001b[0m     \u001b[0;32mdef\u001b[0m \u001b[0m_is_scalar_access\u001b[0m\u001b[0;34m(\u001b[0m\u001b[0mself\u001b[0m\u001b[0;34m,\u001b[0m \u001b[0mkey\u001b[0m\u001b[0;34m:\u001b[0m \u001b[0mtuple\u001b[0m\u001b[0;34m)\u001b[0m\u001b[0;34m:\u001b[0m\u001b[0;34m\u001b[0m\u001b[0;34m\u001b[0m\u001b[0m\n",
      "\u001b[0;32m/opt/anaconda/lib/python3.8/site-packages/pandas/core/indexing.py\u001b[0m in \u001b[0;36m_getitem_axis\u001b[0;34m(self, key, axis)\u001b[0m\n\u001b[1;32m   1328\u001b[0m             \u001b[0;32mif\u001b[0m \u001b[0;32mnot\u001b[0m \u001b[0;34m(\u001b[0m\u001b[0misinstance\u001b[0m\u001b[0;34m(\u001b[0m\u001b[0mkey\u001b[0m\u001b[0;34m,\u001b[0m \u001b[0mtuple\u001b[0m\u001b[0;34m)\u001b[0m \u001b[0;32mand\u001b[0m \u001b[0misinstance\u001b[0m\u001b[0;34m(\u001b[0m\u001b[0mlabels\u001b[0m\u001b[0;34m,\u001b[0m \u001b[0mMultiIndex\u001b[0m\u001b[0;34m)\u001b[0m\u001b[0;34m)\u001b[0m\u001b[0;34m:\u001b[0m\u001b[0;34m\u001b[0m\u001b[0;34m\u001b[0m\u001b[0m\n\u001b[1;32m   1329\u001b[0m                 \u001b[0;32mif\u001b[0m \u001b[0mhasattr\u001b[0m\u001b[0;34m(\u001b[0m\u001b[0mkey\u001b[0m\u001b[0;34m,\u001b[0m \u001b[0;34m\"ndim\"\u001b[0m\u001b[0;34m)\u001b[0m \u001b[0;32mand\u001b[0m \u001b[0mkey\u001b[0m\u001b[0;34m.\u001b[0m\u001b[0mndim\u001b[0m \u001b[0;34m>\u001b[0m \u001b[0;36m1\u001b[0m\u001b[0;34m:\u001b[0m\u001b[0;34m\u001b[0m\u001b[0;34m\u001b[0m\u001b[0m\n\u001b[0;32m-> 1330\u001b[0;31m                     \u001b[0;32mraise\u001b[0m \u001b[0mValueError\u001b[0m\u001b[0;34m(\u001b[0m\u001b[0;34m\"Cannot index with multidimensional key\"\u001b[0m\u001b[0;34m)\u001b[0m\u001b[0;34m\u001b[0m\u001b[0;34m\u001b[0m\u001b[0m\n\u001b[0m\u001b[1;32m   1331\u001b[0m \u001b[0;34m\u001b[0m\u001b[0m\n\u001b[1;32m   1332\u001b[0m                 \u001b[0;32mreturn\u001b[0m \u001b[0mself\u001b[0m\u001b[0;34m.\u001b[0m\u001b[0m_getitem_iterable\u001b[0m\u001b[0;34m(\u001b[0m\u001b[0mkey\u001b[0m\u001b[0;34m,\u001b[0m \u001b[0maxis\u001b[0m\u001b[0;34m=\u001b[0m\u001b[0maxis\u001b[0m\u001b[0;34m)\u001b[0m\u001b[0;34m\u001b[0m\u001b[0;34m\u001b[0m\u001b[0m\n",
      "\u001b[0;31mValueError\u001b[0m: Cannot index with multidimensional key"
     ]
    }
   ],
   "source": [
    "len(artDf.loc[artDf[artDf[\"date\"] >= \"04-01-2020\"], SCOL].unique())"
   ]
  },
  {
   "cell_type": "code",
   "execution_count": 7,
   "metadata": {},
   "outputs": [
    {
     "data": {
      "text/plain": [
       "'\\nsanity check - takes a while \\nprint(len(artDf) - len(artDf.dropna(subset=[SCOL])))\\n\\nprint(np.nanmax(artDf[SCOL]) - max(clustList))\\n'"
      ]
     },
     "execution_count": 7,
     "metadata": {},
     "output_type": "execute_result"
    }
   ],
   "source": [
    "\"\"\"\n",
    "sanity check - takes a while \n",
    "print(len(artDf) - len(artDf.dropna(subset=[SCOL])))\n",
    "\n",
    "print(np.nanmax(artDf[SCOL]) - max(clustList))\n",
    "\"\"\""
   ]
  },
  {
   "cell_type": "code",
   "execution_count": 1012,
   "metadata": {},
   "outputs": [],
   "source": [
    "def storyLen(inList): \n",
    "    return ((max(inList) - min(inList)) / np.timedelta64(1,\"D\")) + 1\n",
    "\n",
    "#get features of each cluster\n",
    "test = artDf[[SCOL, \"date\"]].groupby(SCOL).agg(list)\n",
    "test[\"nArts\"] = test[\"date\"].apply(len)\n",
    "test[\"storyLen\"] = test[\"date\"].apply(storyLen)\n",
    "test = test.reset_index().drop(columns=[\"date\"])"
   ]
  },
  {
   "cell_type": "code",
   "execution_count": 1013,
   "metadata": {},
   "outputs": [
    {
     "data": {
      "text/html": [
       "<div>\n",
       "<style scoped>\n",
       "    .dataframe tbody tr th:only-of-type {\n",
       "        vertical-align: middle;\n",
       "    }\n",
       "\n",
       "    .dataframe tbody tr th {\n",
       "        vertical-align: top;\n",
       "    }\n",
       "\n",
       "    .dataframe thead th {\n",
       "        text-align: right;\n",
       "    }\n",
       "</style>\n",
       "<table border=\"1\" class=\"dataframe\">\n",
       "  <thead>\n",
       "    <tr style=\"text-align: right;\">\n",
       "      <th></th>\n",
       "      <th>20000_90</th>\n",
       "      <th>nArts</th>\n",
       "      <th>storyLen</th>\n",
       "    </tr>\n",
       "  </thead>\n",
       "  <tbody>\n",
       "    <tr>\n",
       "      <th>0</th>\n",
       "      <td>0</td>\n",
       "      <td>9</td>\n",
       "      <td>3.0</td>\n",
       "    </tr>\n",
       "    <tr>\n",
       "      <th>1</th>\n",
       "      <td>1</td>\n",
       "      <td>2</td>\n",
       "      <td>1.0</td>\n",
       "    </tr>\n",
       "    <tr>\n",
       "      <th>2</th>\n",
       "      <td>2</td>\n",
       "      <td>2</td>\n",
       "      <td>1.0</td>\n",
       "    </tr>\n",
       "    <tr>\n",
       "      <th>3</th>\n",
       "      <td>3</td>\n",
       "      <td>3</td>\n",
       "      <td>1.0</td>\n",
       "    </tr>\n",
       "    <tr>\n",
       "      <th>4</th>\n",
       "      <td>4</td>\n",
       "      <td>9</td>\n",
       "      <td>2.0</td>\n",
       "    </tr>\n",
       "  </tbody>\n",
       "</table>\n",
       "</div>"
      ],
      "text/plain": [
       "   20000_90  nArts  storyLen\n",
       "0         0      9       3.0\n",
       "1         1      2       1.0\n",
       "2         2      2       1.0\n",
       "3         3      3       1.0\n",
       "4         4      9       2.0"
      ]
     },
     "execution_count": 1013,
     "metadata": {},
     "output_type": "execute_result"
    }
   ],
   "source": []
  },
  {
   "cell_type": "code",
   "execution_count": 9,
   "metadata": {},
   "outputs": [],
   "source": [
    "#clean up dframes \n",
    "artDf = artDf.drop(columns=[\"Unnamed: 0\"])\n",
    "stormsDf = stormsDf.drop(columns=[\"Unnamed: 0\", SCOL])\n",
    "\n",
    "artDf[\"date\"] = pd.to_datetime(artDf[\"date\"])"
   ]
  },
  {
   "cell_type": "code",
   "execution_count": 985,
   "metadata": {},
   "outputs": [],
   "source": [
    "#fill na in 2021 with 2020 ratings \n",
    "sourceDf = pd.merge(ver2020, ver2021[[\"source\",\"label\"]], on=\"source\", how=\"outer\")\n",
    "sourceDf[\"label\"] = sourceDf[\"label_y\"].fillna(sourceDf[\"label_x\"])\n",
    "\n",
    "#get local/national labels \n",
    "localNat = artDf[[\"source\", \"national\"]].drop_duplicates()\n",
    "sourceDf = pd.merge(sourceDf, localNat, on=\"source\", how=\"outer\")\n",
    "\n",
    "#we want outlets with both local and national classification to be local \n",
    "sourceDf = sourceDf.sort_values(\"national\").drop_duplicates(subset=[\"source\"])\n",
    "\n",
    "sourceDf.loc[(sourceDf[\"source\"] == \"charlotteobserver\"), [\"national\"]] = False"
   ]
  },
  {
   "cell_type": "code",
   "execution_count": 986,
   "metadata": {},
   "outputs": [],
   "source": [
    "#only item with a -1 reliability that matters/is relevant is forbes... \n",
    "#should be rated \"reliable\"\n",
    "sourceDf.loc[sourceDf[\"source\"] == \"forbes\", \"label\"] = 0\n",
    "\n",
    "#if we have nat/local duplicates, call them local \n",
    "sourceDf = sourceDf.sort_values(\"national\").drop_duplicates(subset=[\"source\"])"
   ]
  },
  {
   "cell_type": "code",
   "execution_count": 995,
   "metadata": {},
   "outputs": [],
   "source": [
    "sourceDf = sourceDf.rename(columns={\"label\":\"verLab\"})"
   ]
  },
  {
   "cell_type": "code",
   "execution_count": 998,
   "metadata": {},
   "outputs": [
    {
     "data": {
      "text/plain": [
       "0"
      ]
     },
     "execution_count": 998,
     "metadata": {},
     "output_type": "execute_result"
    }
   ],
   "source": [
    "#verify that we have NO duplicated rows in sourceDf: sum(sourceDf[\"source\"].duplicated())\n",
    "#no dupes here either : sum(politics[\"fips\"].duplicated())"
   ]
  },
  {
   "cell_type": "code",
   "execution_count": 999,
   "metadata": {},
   "outputs": [
    {
     "name": "stdout",
     "output_type": "stream",
     "text": [
      "3\n"
     ]
    }
   ],
   "source": [
    "#perform the necessary merging \n",
    "merged = pd.merge(artDf.drop(columns=[\"national\"]), sourceDf[[\"source\", \"verLab\", \"national\"]], on=\"source\", how=\"left\")\n",
    "\n",
    "merged = pd.merge(merged, politics, on=\"fips\", how=\"left\")\n",
    "\n",
    "merged = pd.merge(merged, stormsDf, on=\"key\", how=\"left\")\n"
   ]
  },
  {
   "cell_type": "code",
   "execution_count": 1002,
   "metadata": {},
   "outputs": [],
   "source": [
    "merged[SCOL + \"_storm\"] = merged[SCOL + \"_storm\"].fillna(False)"
   ]
  },
  {
   "cell_type": "code",
   "execution_count": 1003,
   "metadata": {},
   "outputs": [],
   "source": [
    "#only include articles after april 1, 2020\n",
    "merged = merged[merged[\"date\"] >= \"04-01-2020\"]"
   ]
  },
  {
   "cell_type": "code",
   "execution_count": 1031,
   "metadata": {},
   "outputs": [
    {
     "data": {
      "text/plain": [
       "(4228898, 59)"
      ]
     },
     "execution_count": 1031,
     "metadata": {},
     "output_type": "execute_result"
    }
   ],
   "source": [
    "merged.shape"
   ]
  },
  {
   "cell_type": "code",
   "execution_count": 1026,
   "metadata": {},
   "outputs": [],
   "source": [
    "#merge in article size and duration things \n",
    "merged = pd.merge(merged, test[[SCOL, \"nArts\",\"storyLen\"]], on=SCOL)"
   ]
  },
  {
   "cell_type": "code",
   "execution_count": 1027,
   "metadata": {},
   "outputs": [],
   "source": [
    "#Exploratory question 1: who participates in media storms \n",
    "stormRows = merged.loc[merged[SCOL + \"_storm\"] == True, [\"source\", SCOL, \"verLab\", \"national\", \"logodds_Trump20\", \"total_population\", \"white_pct\", \"date\"]]\n",
    "nonStormRows = merged.loc[merged[SCOL + \"_storm\"] == False, [\"source\", SCOL, \"verLab\", \"national\", \"logodds_Trump20\", \"total_population\", \"white_pct\", \"date\"]]"
   ]
  },
  {
   "cell_type": "code",
   "execution_count": 1035,
   "metadata": {},
   "outputs": [],
   "source": [
    "#get percentage of difference veracity labels \n",
    "#check if there are veracity labels for local outelts? \n",
    "\n",
    "stormVers = pd.DataFrame(stormRows[\"verLab\"].value_counts()).reset_index().rename(columns={\"count\":\"stormCount\"})\n",
    "nonStormVers = pd.DataFrame(nonStormRows[\"verLab\"].value_counts()).reset_index().rename(columns={\"count\":\"stormCount\"})"
   ]
  },
  {
   "cell_type": "code",
   "execution_count": 1036,
   "metadata": {},
   "outputs": [],
   "source": [
    "stormVers[\"normed\"] = stormVers[\"stormCount\"] / sum(stormVers[\"stormCount\"])\n",
    "#stormVers.columns = [name + \"Storm\" for name in stormVers.columns]\n",
    "stormVers[\"storm\"] = True \n",
    "\n",
    "nonStormVers[\"normed\"] = nonStormVers[\"stormCount\"] / sum(nonStormVers[\"stormCount\"])\n",
    "#nonStormVers.columns = [name + \"NonStorm\" for name in nonStormVers.columns]\n",
    "nonStormVers[\"storm\"] = False"
   ]
  },
  {
   "cell_type": "code",
   "execution_count": 1037,
   "metadata": {},
   "outputs": [],
   "source": [
    "#use as a comparison \n",
    "compRows = merged.loc[(merged[\"nArts\"] >= 50) & (merged[\"storyLen\"] > 5) & (merged[\"storyLen\"] <= 53) & (merged[SCOL + \"_storm\"] == False), \\\n",
    "                     [\"date\", \"source\", SCOL, \"national\"]]"
   ]
  },
  {
   "cell_type": "code",
   "execution_count": 1038,
   "metadata": {},
   "outputs": [],
   "source": [
    "def mode(inList):\n",
    "    return scipy.stats.mode(inList)[0][0]"
   ]
  },
  {
   "cell_type": "code",
   "execution_count": 1039,
   "metadata": {},
   "outputs": [],
   "source": [
    "#first get some summary statistics for the storms\n",
    "sCounts = pd.DataFrame(stormRows.value_counts(SCOL)).reset_index()"
   ]
  },
  {
   "cell_type": "code",
   "execution_count": 1040,
   "metadata": {},
   "outputs": [
    {
     "name": "stdout",
     "output_type": "stream",
     "text": [
      "min, max storm size 51, 1378\n",
      "mean, median, mode storm size 207.4591836734694, 155.5, 81\n"
     ]
    },
    {
     "name": "stderr",
     "output_type": "stream",
     "text": [
      "<ipython-input-1038-a05b911cd8ef>:2: FutureWarning: Unlike other reduction functions (e.g. `skew`, `kurtosis`), the default behavior of `mode` typically preserves the axis it acts along. In SciPy 1.11.0, this behavior will change: the default value of `keepdims` will become False, the `axis` over which the statistic is taken will be eliminated, and the value None will no longer be accepted. Set `keepdims` to True or False to avoid this warning.\n",
      "  return scipy.stats.mode(inList)[0][0]\n"
     ]
    }
   ],
   "source": [
    "#number of stories in a storm seems about right \n",
    "print(f'min, max storm size {min(sCounts[\"count\"])}, {max(sCounts[\"count\"])}')\n",
    "print(f'mean, median, mode storm size {np.mean(sCounts[\"count\"])}, {np.median(sCounts[\"count\"])}, {mode(sCounts[\"count\"])}')"
   ]
  },
  {
   "cell_type": "markdown",
   "metadata": {},
   "source": [
    "claim 1: out of the data we have labels for, storm coverage appears to include slightly more reliable articles "
   ]
  },
  {
   "cell_type": "code",
   "execution_count": 1049,
   "metadata": {},
   "outputs": [
    {
     "data": {
      "text/plain": [
       "Text(0.5, 0, '# of Articles')"
      ]
     },
     "execution_count": 1049,
     "metadata": {},
     "output_type": "execute_result"
    },
    {
     "data": {
      "image/png": "[encoded data removed]",
      "text/plain": [
       "<Figure size 360x216 with 1 Axes>"
      ]
     },
     "metadata": {
      "needs_background": "light"
     },
     "output_type": "display_data"
    }
   ],
   "source": [
    "fig, ax = plt.subplots(figsize=(5, 3))\n",
    "sns.histplot(data=sCounts, x=\"count\", ax=ax)\n",
    "ax.set_title(\"Distribution of Storm Article Count\")\n",
    "ax.set_xlabel(\"# of Articles\")"
   ]
  },
  {
   "cell_type": "code",
   "execution_count": 1050,
   "metadata": {},
   "outputs": [
    {
     "name": "stdout",
     "output_type": "stream",
     "text": [
      "min, max storm size 50, 174\n",
      "mean, median, mode storm size 77.5072463768116, 71.0, 56\n"
     ]
    },
    {
     "name": "stderr",
     "output_type": "stream",
     "text": [
      "<ipython-input-1038-a05b911cd8ef>:2: FutureWarning: Unlike other reduction functions (e.g. `skew`, `kurtosis`), the default behavior of `mode` typically preserves the axis it acts along. In SciPy 1.11.0, this behavior will change: the default value of `keepdims` will become False, the `axis` over which the statistic is taken will be eliminated, and the value None will no longer be accepted. Set `keepdims` to True or False to avoid this warning.\n",
      "  return scipy.stats.mode(inList)[0][0]\n"
     ]
    }
   ],
   "source": [
    "#first get some summary statistics for the storms\n",
    "sCountsComp = pd.DataFrame(compRows.value_counts(SCOL)).reset_index()\n",
    "\n",
    "#number of stories in a storm seems about right \n",
    "print(f'min, max storm size {min(sCountsComp[\"count\"])}, {max(sCountsComp[\"count\"])}')\n",
    "print(f'mean, median, mode storm size {np.mean(sCountsComp[\"count\"])}, {np.median(sCountsComp[\"count\"])}, {mode(sCountsComp[\"count\"])}')"
   ]
  },
  {
   "cell_type": "code",
   "execution_count": 1051,
   "metadata": {},
   "outputs": [
    {
     "data": {
      "text/plain": [
       "276"
      ]
     },
     "execution_count": 1051,
     "metadata": {},
     "output_type": "execute_result"
    }
   ],
   "source": [
    "#303 other long stories \n",
    "len(sCountsComp)"
   ]
  },
  {
   "cell_type": "code",
   "execution_count": 1052,
   "metadata": {},
   "outputs": [
    {
     "data": {
      "text/plain": [
       "Text(0.5, 0, '# of Articles')"
      ]
     },
     "execution_count": 1052,
     "metadata": {},
     "output_type": "execute_result"
    },
    {
     "data": {
      "image/png": "[encoded data removed]",
      "text/plain": [
       "<Figure size 360x216 with 1 Axes>"
      ]
     },
     "metadata": {
      "needs_background": "light"
     },
     "output_type": "display_data"
    }
   ],
   "source": [
    "fig, ax = plt.subplots(figsize=(5, 3))\n",
    "sns.histplot(data=sCountsComp, x=\"count\", ax=ax)\n",
    "ax.set_title(\"Distribution of Storm Article Count\")\n",
    "ax.set_xlabel(\"# of Articles\")"
   ]
  },
  {
   "cell_type": "code",
   "execution_count": 1053,
   "metadata": {},
   "outputs": [],
   "source": [
    "#what is the average storm length \n",
    "sDurs = pd.DataFrame(stormRows[[\"date\", SCOL]].groupby(SCOL).agg(lambda x: ((max(x) - min(x))/np.timedelta64(1, \"D\"))+ 1)).reset_index()"
   ]
  },
  {
   "cell_type": "code",
   "execution_count": 1054,
   "metadata": {},
   "outputs": [
    {
     "name": "stdout",
     "output_type": "stream",
     "text": [
      "min, max storm duration 7.0, 54.0\n",
      "mean, median, mode storm duration 15.010204081632653, 11.0, 8.0\n"
     ]
    },
    {
     "name": "stderr",
     "output_type": "stream",
     "text": [
      "<ipython-input-1038-a05b911cd8ef>:2: FutureWarning: Unlike other reduction functions (e.g. `skew`, `kurtosis`), the default behavior of `mode` typically preserves the axis it acts along. In SciPy 1.11.0, this behavior will change: the default value of `keepdims` will become False, the `axis` over which the statistic is taken will be eliminated, and the value None will no longer be accepted. Set `keepdims` to True or False to avoid this warning.\n",
      "  return scipy.stats.mode(inList)[0][0]\n"
     ]
    }
   ],
   "source": [
    "#number of stories in a storm seems about right \n",
    "print(f'min, max storm duration {min(sDurs[\"date\"])}, {max(sDurs[\"date\"])}')\n",
    "print(f'mean, median, mode storm duration {np.mean(sDurs[\"date\"])}, {np.median(sDurs[\"date\"])}, {mode(sDurs[\"date\"])}')"
   ]
  },
  {
   "cell_type": "code",
   "execution_count": 1055,
   "metadata": {},
   "outputs": [
    {
     "data": {
      "text/plain": [
       "Text(0.5, 0, 'Storm Duration')"
      ]
     },
     "execution_count": 1055,
     "metadata": {},
     "output_type": "execute_result"
    },
    {
     "data": {
      "image/png": "[encoded data removed]",
      "text/plain": [
       "<Figure size 360x216 with 1 Axes>"
      ]
     },
     "metadata": {
      "needs_background": "light"
     },
     "output_type": "display_data"
    }
   ],
   "source": [
    "fig, ax = plt.subplots(figsize=(5, 3))\n",
    "sns.histplot(data=sDurs, x=\"date\", ax=ax)\n",
    "ax.set_title(\"Distribution of Storm Duration\")\n",
    "ax.set_xlabel(\"Storm Duration\")"
   ]
  },
  {
   "cell_type": "code",
   "execution_count": 1056,
   "metadata": {},
   "outputs": [
    {
     "name": "stdout",
     "output_type": "stream",
     "text": [
      "min, max storm duration 5.0, 47.0\n",
      "mean, median, mode storm duration 10.101449275362318, 8.0, 5.0\n"
     ]
    },
    {
     "name": "stderr",
     "output_type": "stream",
     "text": [
      "<ipython-input-1038-a05b911cd8ef>:2: FutureWarning: Unlike other reduction functions (e.g. `skew`, `kurtosis`), the default behavior of `mode` typically preserves the axis it acts along. In SciPy 1.11.0, this behavior will change: the default value of `keepdims` will become False, the `axis` over which the statistic is taken will be eliminated, and the value None will no longer be accepted. Set `keepdims` to True or False to avoid this warning.\n",
      "  return scipy.stats.mode(inList)[0][0]\n"
     ]
    }
   ],
   "source": [
    "#its probably worth checking out these long stories.. \n",
    "\n",
    "#what is the average storm length \n",
    "sDursComp = pd.DataFrame(compRows[[\"date\", SCOL]].groupby(SCOL).agg(lambda x: (max(x) - min(x))/np.timedelta64(1, \"D\"))).reset_index()\n",
    "\n",
    "#number of stories in a storm seems about right \n",
    "print(f'min, max storm duration {min(sDursComp[\"date\"])}, {max(sDursComp[\"date\"])}')\n",
    "print(f'mean, median, mode storm duration {np.mean(sDursComp[\"date\"])}, {np.median(sDursComp[\"date\"])}, {mode(sDursComp[\"date\"])}')"
   ]
  },
  {
   "cell_type": "code",
   "execution_count": 1057,
   "metadata": {},
   "outputs": [
    {
     "data": {
      "text/plain": [
       "Text(0.5, 0, 'Storm Duration')"
      ]
     },
     "execution_count": 1057,
     "metadata": {},
     "output_type": "execute_result"
    },
    {
     "data": {
      "image/png": "[encoded data removed]",
      "text/plain": [
       "<Figure size 360x216 with 1 Axes>"
      ]
     },
     "metadata": {
      "needs_background": "light"
     },
     "output_type": "display_data"
    }
   ],
   "source": [
    "fig, ax = plt.subplots(figsize=(5, 3))\n",
    "sns.histplot(data=sDursComp, x=\"date\", ax=ax)\n",
    "ax.set_title(\"Distribution of Storm Duration\")\n",
    "ax.set_xlabel(\"Storm Duration\")"
   ]
  },
  {
   "cell_type": "code",
   "execution_count": 1058,
   "metadata": {},
   "outputs": [
    {
     "name": "stdout",
     "output_type": "stream",
     "text": [
      "min, max storm outlet count 5, 200\n",
      "mean, median, mode outlet count 76.12244897959184, 74.0, 86\n"
     ]
    },
    {
     "name": "stderr",
     "output_type": "stream",
     "text": [
      "<ipython-input-1038-a05b911cd8ef>:2: FutureWarning: Unlike other reduction functions (e.g. `skew`, `kurtosis`), the default behavior of `mode` typically preserves the axis it acts along. In SciPy 1.11.0, this behavior will change: the default value of `keepdims` will become False, the `axis` over which the statistic is taken will be eliminated, and the value None will no longer be accepted. Set `keepdims` to True or False to avoid this warning.\n",
      "  return scipy.stats.mode(inList)[0][0]\n"
     ]
    }
   ],
   "source": [
    "#now get distribution of number of outlets \n",
    "nOuts = pd.DataFrame(stormRows[[SCOL, \"source\"]].groupby(SCOL).agg(lambda x: len(set(x)))).reset_index()\n",
    "\n",
    "#number of stories in a storm seems about right \n",
    "print(f'min, max storm outlet count {min(nOuts[\"source\"])}, {max(nOuts[\"source\"])}')\n",
    "print(f'mean, median, mode outlet count {np.mean(nOuts[\"source\"])}, {np.median(nOuts[\"source\"])}, {mode(nOuts[\"source\"])}')"
   ]
  },
  {
   "cell_type": "code",
   "execution_count": 1059,
   "metadata": {},
   "outputs": [
    {
     "data": {
      "text/plain": [
       "Text(0.5, 0, '# of Outlets')"
      ]
     },
     "execution_count": 1059,
     "metadata": {},
     "output_type": "execute_result"
    },
    {
     "data": {
      "image/png": "[encoded data removed]",
      "text/plain": [
       "<Figure size 360x216 with 1 Axes>"
      ]
     },
     "metadata": {
      "needs_background": "light"
     },
     "output_type": "display_data"
    }
   ],
   "source": [
    "fig, ax = plt.subplots(figsize=(5, 3))\n",
    "sns.histplot(data=nOuts, x=\"source\", ax=ax)\n",
    "ax.set_title(\"Distribution of Storm Outlet Count\")\n",
    "ax.set_xlabel(\"# of Outlets\")"
   ]
  },
  {
   "cell_type": "code",
   "execution_count": 1060,
   "metadata": {},
   "outputs": [],
   "source": [
    "#significantly more outlets "
   ]
  },
  {
   "cell_type": "code",
   "execution_count": 1061,
   "metadata": {},
   "outputs": [
    {
     "name": "stdout",
     "output_type": "stream",
     "text": [
      "min, max storm outlet count 1, 97\n",
      "mean, median, mode outlet count 48.481884057971016, 49.0, 52\n"
     ]
    },
    {
     "name": "stderr",
     "output_type": "stream",
     "text": [
      "<ipython-input-1038-a05b911cd8ef>:2: FutureWarning: Unlike other reduction functions (e.g. `skew`, `kurtosis`), the default behavior of `mode` typically preserves the axis it acts along. In SciPy 1.11.0, this behavior will change: the default value of `keepdims` will become False, the `axis` over which the statistic is taken will be eliminated, and the value None will no longer be accepted. Set `keepdims` to True or False to avoid this warning.\n",
      "  return scipy.stats.mode(inList)[0][0]\n"
     ]
    }
   ],
   "source": [
    "#now get distribution of number of outlets \n",
    "nOutsComp = pd.DataFrame(compRows[[SCOL, \"source\"]].groupby(SCOL).agg(lambda x: len(set(x)))).reset_index()\n",
    "\n",
    "#number of stories in a storm seems about right \n",
    "print(f'min, max storm outlet count {min(nOutsComp[\"source\"])}, {max(nOutsComp[\"source\"])}')\n",
    "print(f'mean, median, mode outlet count {np.mean(nOutsComp[\"source\"])}, {np.median(nOutsComp[\"source\"])}, {mode(nOutsComp[\"source\"])}')"
   ]
  },
  {
   "cell_type": "code",
   "execution_count": 1062,
   "metadata": {},
   "outputs": [],
   "source": [
    "#something very paradoxical at play. clusters which have a HIGH amount of reporting for three outlets tend to have \n",
    "#more unique outlets in their coverage "
   ]
  },
  {
   "cell_type": "code",
   "execution_count": 1063,
   "metadata": {},
   "outputs": [
    {
     "data": {
      "text/plain": [
       "Text(0.5, 0, '# of Outlets')"
      ]
     },
     "execution_count": 1063,
     "metadata": {},
     "output_type": "execute_result"
    },
    {
     "data": {
      "image/png": "[encoded data removed]",
      "text/plain": [
       "<Figure size 360x216 with 1 Axes>"
      ]
     },
     "metadata": {
      "needs_background": "light"
     },
     "output_type": "display_data"
    }
   ],
   "source": [
    "fig, ax = plt.subplots(figsize=(5, 3))\n",
    "sns.histplot(data=nOutsComp, x=\"source\", ax=ax)\n",
    "ax.set_title(\"Distribution of Storm Outlet Count\")\n",
    "ax.set_xlabel(\"# of Outlets\")"
   ]
  },
  {
   "cell_type": "code",
   "execution_count": 1083,
   "metadata": {},
   "outputs": [
    {
     "name": "stdout",
     "output_type": "stream",
     "text": [
      "mean outlets - mean comp outlets = 76.12244897959184 - 48.481884057971016 = 27.640564921620822\n",
      "mean outlets - mean comp outlets = 74.0 - 49.0 = 25.0\n"
     ]
    }
   ],
   "source": [
    "#diff in means for outlet count\n",
    "print(f'mean outlets - mean comp outlets = {np.mean(nOuts[\"source\"])} - {np.mean(nOutsComp[\"source\"])} = {np.mean(nOuts[\"source\"]) - np.mean(nOutsComp[\"source\"])}')\n",
    "\n",
    "#diff in means for outlet count\n",
    "print(f'mean outlets - mean comp outlets = {np.median(nOuts[\"source\"])} - {np.median(nOutsComp[\"source\"])} = {np.median(nOuts[\"source\"]) - np.median(nOutsComp[\"source\"])}')"
   ]
  },
  {
   "cell_type": "code",
   "execution_count": 1105,
   "metadata": {},
   "outputs": [
    {
     "name": "stdout",
     "output_type": "stream",
     "text": [
      "min, max storm outlet count 0.0, 100.0\n",
      "mean, median outlet count 59.07793241728487, 62.189678366148954\n"
     ]
    }
   ],
   "source": [
    "#now check out national/local balance \n",
    "natPercents = stormRows[[SCOL, \"national\"]].groupby(SCOL).agg(lambda x: np.mean(x) * 100)\n",
    "\n",
    "#number of stories in a storm seems about right \n",
    "print(f'min, max storm outlet count {min(natPercents[\"national\"])}, {max(natPercents[\"national\"])}')\n",
    "print(f'mean, median outlet count {np.mean(natPercents[\"national\"])}, {np.median(natPercents[\"national\"])}')"
   ]
  },
  {
   "cell_type": "code",
   "execution_count": 1073,
   "metadata": {},
   "outputs": [
    {
     "data": {
      "text/plain": [
       "<Axes: ylabel='Count'>"
      ]
     },
     "execution_count": 1073,
     "metadata": {},
     "output_type": "execute_result"
    },
    {
     "data": {
      "image/png": "[encoded data removed]",
      "text/plain": [
       "<Figure size 432x288 with 1 Axes>"
      ]
     },
     "metadata": {
      "needs_background": "light"
     },
     "output_type": "display_data"
    }
   ],
   "source": [
    "sns.histplot(natPercents, legend=False)"
   ]
  },
  {
   "cell_type": "code",
   "execution_count": 1074,
   "metadata": {},
   "outputs": [
    {
     "data": {
      "text/html": [
       "<div>\n",
       "<style scoped>\n",
       "    .dataframe tbody tr th:only-of-type {\n",
       "        vertical-align: middle;\n",
       "    }\n",
       "\n",
       "    .dataframe tbody tr th {\n",
       "        vertical-align: top;\n",
       "    }\n",
       "\n",
       "    .dataframe thead th {\n",
       "        text-align: right;\n",
       "    }\n",
       "</style>\n",
       "<table border=\"1\" class=\"dataframe\">\n",
       "  <thead>\n",
       "    <tr style=\"text-align: right;\">\n",
       "      <th></th>\n",
       "      <th>national</th>\n",
       "    </tr>\n",
       "    <tr>\n",
       "      <th>20000_90</th>\n",
       "      <th></th>\n",
       "    </tr>\n",
       "  </thead>\n",
       "  <tbody>\n",
       "    <tr>\n",
       "      <th>102</th>\n",
       "      <td>52.941176</td>\n",
       "    </tr>\n",
       "    <tr>\n",
       "      <th>386</th>\n",
       "      <td>68.867925</td>\n",
       "    </tr>\n",
       "    <tr>\n",
       "      <th>404</th>\n",
       "      <td>83.168317</td>\n",
       "    </tr>\n",
       "    <tr>\n",
       "      <th>558</th>\n",
       "      <td>86.538462</td>\n",
       "    </tr>\n",
       "    <tr>\n",
       "      <th>824</th>\n",
       "      <td>71.000000</td>\n",
       "    </tr>\n",
       "    <tr>\n",
       "      <th>...</th>\n",
       "      <td>...</td>\n",
       "    </tr>\n",
       "    <tr>\n",
       "      <th>182648</th>\n",
       "      <td>0.000000</td>\n",
       "    </tr>\n",
       "    <tr>\n",
       "      <th>183393</th>\n",
       "      <td>78.431373</td>\n",
       "    </tr>\n",
       "    <tr>\n",
       "      <th>188449</th>\n",
       "      <td>46.666667</td>\n",
       "    </tr>\n",
       "    <tr>\n",
       "      <th>267106</th>\n",
       "      <td>0.000000</td>\n",
       "    </tr>\n",
       "    <tr>\n",
       "      <th>297666</th>\n",
       "      <td>72.727273</td>\n",
       "    </tr>\n",
       "  </tbody>\n",
       "</table>\n",
       "<p>276 rows × 1 columns</p>\n",
       "</div>"
      ],
      "text/plain": [
       "           national\n",
       "20000_90           \n",
       "102       52.941176\n",
       "386       68.867925\n",
       "404       83.168317\n",
       "558       86.538462\n",
       "824       71.000000\n",
       "...             ...\n",
       "182648     0.000000\n",
       "183393    78.431373\n",
       "188449    46.666667\n",
       "267106     0.000000\n",
       "297666    72.727273\n",
       "\n",
       "[276 rows x 1 columns]"
      ]
     },
     "execution_count": 1074,
     "metadata": {},
     "output_type": "execute_result"
    }
   ],
   "source": [
    "natPercentsComp "
   ]
  },
  {
   "cell_type": "code",
   "execution_count": 1106,
   "metadata": {},
   "outputs": [
    {
     "name": "stdout",
     "output_type": "stream",
     "text": [
      "min, max comp. nat. percentage national, national\n",
      "mean, median comp. nat percentage 68.88043803254303, 71.62162162162163\n"
     ]
    }
   ],
   "source": [
    "natPercentsComp = compRows[[SCOL, \"national\"]].groupby(SCOL).agg(lambda x: np.mean(x) * 100)\n",
    "\n",
    "#number of stories in a storm seems about right \n",
    "print(f'min, max comp. nat. percentage {min(natPercentsComp)}, {max(natPercentsComp)}')\n",
    "print(f'mean, median comp. nat percentage {np.mean(natPercentsComp)}, {np.median(natPercentsComp)}')"
   ]
  },
  {
   "cell_type": "code",
   "execution_count": 1076,
   "metadata": {},
   "outputs": [
    {
     "data": {
      "text/plain": [
       "<Axes: xlabel='national', ylabel='Count'>"
      ]
     },
     "execution_count": 1076,
     "metadata": {},
     "output_type": "execute_result"
    },
    {
     "data": {
      "image/png": "[encoded data removed]",
      "text/plain": [
       "<Figure size 432x288 with 1 Axes>"
      ]
     },
     "metadata": {
      "needs_background": "light"
     },
     "output_type": "display_data"
    }
   ],
   "source": [
    "sns.histplot(natPercentsComp[\"national\"])"
   ]
  },
  {
   "cell_type": "code",
   "execution_count": 1085,
   "metadata": {},
   "outputs": [
    {
     "name": "stdout",
     "output_type": "stream",
     "text": [
      "mean outlets - mean comp outlets = 59.07793241728487 - 68.88043803254303 = -9.802505615258156\n",
      "mean outlets - mean comp outlets = 62.189678366148954 - 71.62162162162163 = -9.431943255472675\n"
     ]
    }
   ],
   "source": [
    "#diff in means for outlet count\n",
    "print(f'mean outlets - mean comp outlets = {np.mean(natPercents[\"national\"])} - {np.mean(natPercentsComp[\"national\"])} = {np.mean(natPercents[\"national\"]) - np.mean(natPercentsComp[\"national\"])}')\n",
    "\n",
    "#diff in means for outlet count\n",
    "print(f'mean outlets - mean comp outlets = {np.median(natPercents[\"national\"])} - {np.median(natPercentsComp[\"national\"])} = {np.median(natPercents[\"national\"]) - np.median(natPercentsComp[\"national\"])}')"
   ]
  },
  {
   "cell_type": "code",
   "execution_count": 1111,
   "metadata": {},
   "outputs": [],
   "source": [
    "FIG_PATH = \"/home/blitt/projects/localNews/reports/figures/drafts/\"\n",
    "PALETTE = ['#7fc97f','#beaed4','#fdc086','#ffff99','#386cb0','#f0027f','#bf5b17','#666666']"
   ]
  },
  {
   "cell_type": "code",
   "execution_count": 1071,
   "metadata": {},
   "outputs": [
    {
     "data": {
      "image/png": "[encoded data removed]",
      "text/plain": [
       "<Figure size 720x576 with 6 Axes>"
      ]
     },
     "metadata": {
      "needs_background": "light"
     },
     "output_type": "display_data"
    }
   ],
   "source": [
    "fig, axs = plt.subplots(3, 2, figsize=(10 , 8), layout=\"constrained\")\n",
    "\n",
    "#plot number of articles \n",
    "h1 = sns.histplot(data=sCounts, x=\"count\", ax=axs[0, 0], color=PALETTE[0], label=\"Storm Data\")\n",
    "axs[0, 0].set_xlim(0, 1400)\n",
    "axs[0,0].set_title(\"Distribution of Storm Article Count\")\n",
    "axs[0,0].set_xlabel(\"# of Articles\")\n",
    "\n",
    "sns.histplot(data=sCountsComp, x=\"count\", ax=axs[0, 1], color=PALETTE[1], label=\"Comparison Non-Storm Data\")\n",
    "axs[0, 1].set_xlim(0, 1400)\n",
    "axs[0, 1].set_title(\"Distribution of Storm Article Count\")\n",
    "axs[0, 1].set_xlabel(\"# of Articles\")\n",
    "\n",
    "fig.legend(loc=\"outside lower center\")\n",
    "#plot durations \n",
    "sns.histplot(data=sDurs, x=\"date\", ax=axs[1, 0], color=PALETTE[0], bins=np.arange(0, 55, 5))\n",
    "axs[1, 0].set_xlim(0, 55)\n",
    "axs[1, 0].set_title(\"Distribution of Storm Duration\")\n",
    "axs[1, 0].set_xlabel(\"Storm Duration\")\n",
    "\n",
    "sns.histplot(data=sDursComp, x=\"date\", ax=axs[1, 1], color=PALETTE[1], bins=np.arange(0, 55, 5))\n",
    "axs[1, 1].set_xlim(0, 55)\n",
    "axs[1, 1].set_title(\"Distribution of Storm Duration\")\n",
    "axs[1, 1].set_xlabel(\"Storm Duration\")\n",
    "\n",
    "#plot national/local coverage %'s \n",
    "sns.histplot(natPercents[\"national\"], ax=axs[2, 0], color=PALETTE[0], bins=np.arange(0, 100, 10))\n",
    "axs[2, 0].set_xlim(0, 100)\n",
    "axs[2, 0].set_title(\"Distribution of Storm National Coverage %\")\n",
    "axs[2, 0].set_xlabel(\"Storm National Coverage %\")\n",
    "axs[2, 0].set_ylabel(\"Count\")\n",
    "\n",
    "sns.histplot(natPercentsComp[\"national\"], ax=axs[2, 1], color=PALETTE[1], bins=np.arange(0, 100, 10))\n",
    "axs[2, 1].set_xlim(0, 100)\n",
    "axs[2, 1].set_title(\"Distribution of Storm National Coverage %\")\n",
    "axs[2, 1].set_xlabel(\"Storm National Coverage %\")\n",
    "axs[2, 1].set_ylabel(\"Count\")\n",
    "\n",
    "fig.suptitle(\"Storm vs. Non-Storm Distributions\")\n",
    "plt.savefig(FIG_PATH + \"summaryHists.pdf\", bbox_inches=\"tight\")"
   ]
  },
  {
   "cell_type": "code",
   "execution_count": 1121,
   "metadata": {},
   "outputs": [],
   "source": [
    "tab10 = sns.color_palette(\"tab10\")\n",
    "\n",
    "colNames = [\"blue\", \"orange\", \"green\", \"red\", \"purple\", \"brown\", \"pink\", \"grey\", \"yellow\", \"turqoise\"]\n",
    "colDict = dict(zip(colNames, tab10))"
   ]
  },
  {
   "cell_type": "code",
   "execution_count": 1122,
   "metadata": {},
   "outputs": [
    {
     "data": {
      "text/html": [
       "<svg  width=\"550\" height=\"55\"><rect x=\"0\" y=\"0\" width=\"55\" height=\"55\" style=\"fill:#1f77b4;stroke-width:2;stroke:rgb(255,255,255)\"/><rect x=\"55\" y=\"0\" width=\"55\" height=\"55\" style=\"fill:#ff7f0e;stroke-width:2;stroke:rgb(255,255,255)\"/><rect x=\"110\" y=\"0\" width=\"55\" height=\"55\" style=\"fill:#2ca02c;stroke-width:2;stroke:rgb(255,255,255)\"/><rect x=\"165\" y=\"0\" width=\"55\" height=\"55\" style=\"fill:#d62728;stroke-width:2;stroke:rgb(255,255,255)\"/><rect x=\"220\" y=\"0\" width=\"55\" height=\"55\" style=\"fill:#9467bd;stroke-width:2;stroke:rgb(255,255,255)\"/><rect x=\"275\" y=\"0\" width=\"55\" height=\"55\" style=\"fill:#8c564b;stroke-width:2;stroke:rgb(255,255,255)\"/><rect x=\"330\" y=\"0\" width=\"55\" height=\"55\" style=\"fill:#e377c2;stroke-width:2;stroke:rgb(255,255,255)\"/><rect x=\"385\" y=\"0\" width=\"55\" height=\"55\" style=\"fill:#7f7f7f;stroke-width:2;stroke:rgb(255,255,255)\"/><rect x=\"440\" y=\"0\" width=\"55\" height=\"55\" style=\"fill:#bcbd22;stroke-width:2;stroke:rgb(255,255,255)\"/><rect x=\"495\" y=\"0\" width=\"55\" height=\"55\" style=\"fill:#17becf;stroke-width:2;stroke:rgb(255,255,255)\"/></svg>"
      ],
      "text/plain": [
       "[(0.12156862745098039, 0.4666666666666667, 0.7058823529411765),\n",
       " (1.0, 0.4980392156862745, 0.054901960784313725),\n",
       " (0.17254901960784313, 0.6274509803921569, 0.17254901960784313),\n",
       " (0.8392156862745098, 0.15294117647058825, 0.1568627450980392),\n",
       " (0.5803921568627451, 0.403921568627451, 0.7411764705882353),\n",
       " (0.5490196078431373, 0.33725490196078434, 0.29411764705882354),\n",
       " (0.8901960784313725, 0.4666666666666667, 0.7607843137254902),\n",
       " (0.4980392156862745, 0.4980392156862745, 0.4980392156862745),\n",
       " (0.7372549019607844, 0.7411764705882353, 0.13333333333333333),\n",
       " (0.09019607843137255, 0.7450980392156863, 0.8117647058823529)]"
      ]
     },
     "execution_count": 1122,
     "metadata": {},
     "output_type": "execute_result"
    }
   ],
   "source": [
    "tab10"
   ]
  },
  {
   "cell_type": "code",
   "execution_count": 1117,
   "metadata": {},
   "outputs": [
    {
     "data": {
      "image/png": "[encoded data removed]",
      "text/plain": [
       "<Figure size 576x720 with 3 Axes>"
      ]
     },
     "metadata": {
      "needs_background": "light"
     },
     "output_type": "display_data"
    }
   ],
   "source": [
    "#new version \n",
    "fig, axs = plt.subplots(3, 1, figsize=(8 , 10), layout=\"constrained\")\n",
    "\n",
    "#plot number of articles \n",
    "h1 = sns.histplot(data=sCounts, x=\"count\", ax=axs[0], color=colDict[\"brown\"], label=\"Storm Data\")\n",
    "axs[0].set_xlim(0, 1400)\n",
    "axs[0].set_title(\"Distribution of Storm Article Count\", size=14)\n",
    "axs[0].set_xlabel(\"# of Articles\", size=12)\n",
    "axs[1].set_ylabel(\"Count\", size=14)\n",
    "\n",
    "#fig.legend(loc=\"outside lower center\")\n",
    "#plot durations \n",
    "sns.histplot(data=sDurs, x=\"date\", ax=axs[1], color=colDict[\"turqouise\"], bins=np.arange(0, 55, 5))\n",
    "axs[1].set_xlim(0, 55)\n",
    "axs[1].set_title(\"Distribution of Storm Duration\", size=14)\n",
    "axs[1].set_xlabel(\"Storm Duration\", size=12)\n",
    "axs[1].set_ylabel(\"Count\", size=14)\n",
    "\n",
    "#plot national/local coverage %'s \n",
    "sns.histplot(natPercents[\"national\"], ax=axs[2], color=colDict[\"yellow\"], bins=np.arange(0, 100, 10))\n",
    "axs[2].set_xlim(0, 100)\n",
    "axs[2].set_title(\"Distribution of Storm National Coverage %\", size=14)\n",
    "axs[2].set_xlabel(\"Storm National Coverage %\", size=12)\n",
    "axs[2].set_ylabel(\"Count\", size=14) \n",
    "\n",
    "\n",
    "#fig.suptitle(\"Storm Distributions of Media Storm\")\n",
    "plt.savefig(FIG_PATH + \"summaryHists.pdf\", bbox_inches=\"tight\")"
   ]
  },
  {
   "cell_type": "code",
   "execution_count": 961,
   "metadata": {},
   "outputs": [
    {
     "ename": "NameError",
     "evalue": "name 'lines' is not defined",
     "output_type": "error",
     "traceback": [
      "\u001b[0;31m---------------------------------------------------------------------------\u001b[0m",
      "\u001b[0;31mNameError\u001b[0m                                 Traceback (most recent call last)",
      "\u001b[0;32m<ipython-input-961-e98a88da2dde>\u001b[0m in \u001b[0;36m<module>\u001b[0;34m\u001b[0m\n\u001b[0;32m----> 1\u001b[0;31m \u001b[0mplt\u001b[0m\u001b[0;34m.\u001b[0m\u001b[0mfiglegend\u001b[0m\u001b[0;34m(\u001b[0m\u001b[0mlines\u001b[0m\u001b[0;34m,\u001b[0m \u001b[0mlabels\u001b[0m\u001b[0;34m,\u001b[0m \u001b[0mloc\u001b[0m \u001b[0;34m=\u001b[0m \u001b[0;34m'lower center'\u001b[0m\u001b[0;34m,\u001b[0m \u001b[0mncol\u001b[0m\u001b[0;34m=\u001b[0m\u001b[0;36m5\u001b[0m\u001b[0;34m,\u001b[0m \u001b[0mlabelspacing\u001b[0m\u001b[0;34m=\u001b[0m\u001b[0;36m0.\u001b[0m\u001b[0;34m)\u001b[0m\u001b[0;34m\u001b[0m\u001b[0;34m\u001b[0m\u001b[0m\n\u001b[0m",
      "\u001b[0;31mNameError\u001b[0m: name 'lines' is not defined"
     ]
    }
   ],
   "source": [
    "plt.figlegend(lines, labels, loc = 'lower center', ncol=5, labelspacing=0.)"
   ]
  },
  {
   "cell_type": "code",
   "execution_count": null,
   "metadata": {},
   "outputs": [],
   "source": [
    "#if time, add in entropy of veracity "
   ]
  },
  {
   "cell_type": "code",
   "execution_count": 47,
   "metadata": {},
   "outputs": [
    {
     "data": {
      "text/plain": [
       "Text(0.5, 1.0, 'Veracity: Storms Versus Non-Storms')"
      ]
     },
     "execution_count": 47,
     "metadata": {},
     "output_type": "execute_result"
    },
    {
     "data": {
      "image/png": "[encoded data removed]",
      "text/plain": [
       "<Figure size 432x360 with 1 Axes>"
      ]
     },
     "metadata": {
      "needs_background": "light"
     },
     "output_type": "display_data"
    }
   ],
   "source": [
    "fig, ax = plt.subplots(figsize=(6, 5))\n",
    "verProps = pd.concat([stormVers, nonStormVers], axis=0)\n",
    "verProps[\"verLab\"] = (2 - verProps[\"verLab\"]).astype(str) \n",
    "sns.barplot(x=\"normed\", y=\"verLab\", hue=\"storm\", data=verProps, palette=[F_COLOR, S_COLOR])\n",
    "\n",
    "ax.set_xlabel(\"Proportion of Veracity Labelled Coverage\")\n",
    "ax.set_ylabel(\"Veracity Score\")\n",
    "\n",
    "ax.set_title(\"Veracity: Storms Versus Non-Storms\")"
   ]
  },
  {
   "cell_type": "code",
   "execution_count": 48,
   "metadata": {},
   "outputs": [
    {
     "data": {
      "text/plain": [
       "<Axes: xlabel='logodds_Trump20', ylabel='20000_90_storm'>"
      ]
     },
     "execution_count": 48,
     "metadata": {},
     "output_type": "execute_result"
    },
    {
     "data": {
      "image/png": "[encoded data removed]",
      "text/plain": [
       "<Figure size 432x288 with 1 Axes>"
      ]
     },
     "metadata": {
      "needs_background": "light"
     },
     "output_type": "display_data"
    }
   ],
   "source": [
    "#at the local level, what are the politics of outelts participating in storms? \n",
    "sns.boxplot(x=\"logodds_Trump20\", y=SCOL + \"_storm\", data=merged[merged[\"national\"] == False], orient=\"h\", palette=[F_COLOR, S_COLOR])"
   ]
  },
  {
   "cell_type": "code",
   "execution_count": 49,
   "metadata": {},
   "outputs": [
    {
     "data": {
      "text/plain": [
       "<Axes: xlabel='logodds_Trump20', ylabel='20000_90_storm'>"
      ]
     },
     "execution_count": 49,
     "metadata": {},
     "output_type": "execute_result"
    },
    {
     "data": {
      "image/png": "[encoded data removed]",
      "text/plain": [
       "<Figure size 432x288 with 1 Axes>"
      ]
     },
     "metadata": {
      "needs_background": "light"
     },
     "output_type": "display_data"
    }
   ],
   "source": [
    "#at the local level, what are the politics of outelts participating in storms? \n",
    "sns.boxenplot(x=\"logodds_Trump20\", y=SCOL + \"_storm\", data=merged[merged[\"national\"] == False], orient=\"h\", palette=[F_COLOR, S_COLOR])"
   ]
  },
  {
   "cell_type": "code",
   "execution_count": 51,
   "metadata": {},
   "outputs": [],
   "source": [
    "merged[\"sqrt_pop\"] = merged[\"total_population\"].apply(np.sqrt)"
   ]
  },
  {
   "cell_type": "markdown",
   "metadata": {},
   "source": [
    "Do outlets in more densely populated areas participate in more storms?  "
   ]
  },
  {
   "cell_type": "code",
   "execution_count": 52,
   "metadata": {},
   "outputs": [
    {
     "data": {
      "text/plain": [
       "<Axes: xlabel='total_population', ylabel='20000_90_storm'>"
      ]
     },
     "execution_count": 52,
     "metadata": {},
     "output_type": "execute_result"
    },
    {
     "data": {
      "image/png": "[encoded data removed]",
      "text/plain": [
       "<Figure size 432x288 with 1 Axes>"
      ]
     },
     "metadata": {
      "needs_background": "light"
     },
     "output_type": "display_data"
    }
   ],
   "source": [
    "sns.boxplot(x=\"total_population\", y=SCOL + \"_storm\", data=merged[merged[\"national\"] == False], orient=\"h\", palette=[F_COLOR, S_COLOR])"
   ]
  },
  {
   "cell_type": "code",
   "execution_count": 53,
   "metadata": {},
   "outputs": [
    {
     "data": {
      "text/plain": [
       "<Axes: xlabel='total_population', ylabel='20000_90_storm'>"
      ]
     },
     "execution_count": 53,
     "metadata": {},
     "output_type": "execute_result"
    },
    {
     "data": {
      "image/png": "[encoded data removed]",
      "text/plain": [
       "<Figure size 432x288 with 1 Axes>"
      ]
     },
     "metadata": {
      "needs_background": "light"
     },
     "output_type": "display_data"
    }
   ],
   "source": [
    "sns.boxenplot(x=\"total_population\", y=SCOL + \"_storm\", data=merged[merged[\"national\"] == False], orient=\"h\", palette=[F_COLOR, S_COLOR])"
   ]
  },
  {
   "cell_type": "code",
   "execution_count": 56,
   "metadata": {},
   "outputs": [
    {
     "data": {
      "text/plain": [
       "<Axes: xlabel='rural_pct', ylabel='20000_90_storm'>"
      ]
     },
     "execution_count": 56,
     "metadata": {},
     "output_type": "execute_result"
    },
    {
     "data": {
      "image/png": "[encoded data removed]",
      "text/plain": [
       "<Figure size 432x288 with 1 Axes>"
      ]
     },
     "metadata": {
      "needs_background": "light"
     },
     "output_type": "display_data"
    }
   ],
   "source": [
    "sns.boxplot(x=\"rural_pct\", y=SCOL + \"_storm\", data=merged[merged[\"national\"] == False], orient=\"h\", palette=[F_COLOR, S_COLOR])"
   ]
  },
  {
   "cell_type": "code",
   "execution_count": 57,
   "metadata": {},
   "outputs": [
    {
     "data": {
      "text/plain": [
       "<Axes: xlabel='rural_pct', ylabel='20000_90_storm'>"
      ]
     },
     "execution_count": 57,
     "metadata": {},
     "output_type": "execute_result"
    },
    {
     "data": {
      "image/png": "[encoded data removed]",
      "text/plain": [
       "<Figure size 432x288 with 1 Axes>"
      ]
     },
     "metadata": {
      "needs_background": "light"
     },
     "output_type": "display_data"
    }
   ],
   "source": [
    "sns.boxenplot(x=\"rural_pct\", y=SCOL + \"_storm\", data=merged[merged[\"national\"] == False], orient=\"h\", palette=[F_COLOR, S_COLOR])"
   ]
  },
  {
   "cell_type": "markdown",
   "metadata": {},
   "source": [
    "Do outlets in more affluent areas participate in more storms?  "
   ]
  },
  {
   "cell_type": "code",
   "execution_count": 58,
   "metadata": {},
   "outputs": [
    {
     "data": {
      "text/plain": [
       "<Axes: xlabel='median_hh_inc', ylabel='20000_90_storm'>"
      ]
     },
     "execution_count": 58,
     "metadata": {},
     "output_type": "execute_result"
    },
    {
     "data": {
      "image/png": "[encoded data removed]",
      "text/plain": [
       "<Figure size 432x288 with 1 Axes>"
      ]
     },
     "metadata": {
      "needs_background": "light"
     },
     "output_type": "display_data"
    }
   ],
   "source": [
    "sns.boxplot(x=\"median_hh_inc\", y=SCOL + \"_storm\", data=merged[merged[\"national\"] == False], orient=\"h\", palette=[F_COLOR, S_COLOR])"
   ]
  },
  {
   "cell_type": "code",
   "execution_count": 59,
   "metadata": {},
   "outputs": [
    {
     "data": {
      "text/plain": [
       "<Axes: xlabel='median_hh_inc', ylabel='20000_90_storm'>"
      ]
     },
     "execution_count": 59,
     "metadata": {},
     "output_type": "execute_result"
    },
    {
     "data": {
      "image/png": "[encoded data removed]",
      "text/plain": [
       "<Figure size 432x288 with 1 Axes>"
      ]
     },
     "metadata": {
      "needs_background": "light"
     },
     "output_type": "display_data"
    }
   ],
   "source": [
    "sns.boxenplot(x=\"median_hh_inc\", y=SCOL + \"_storm\", data=merged[merged[\"national\"] == False], orient=\"h\", palette=[F_COLOR, S_COLOR])"
   ]
  },
  {
   "cell_type": "code",
   "execution_count": 60,
   "metadata": {},
   "outputs": [],
   "source": [
    "stormNat = pd.DataFrame(merged.loc[merged[SCOL + \"_storm\"] == True, \"national\"].value_counts())\n",
    "stormNat[\"storm\"] = True\n",
    "\n",
    "nonStormNat = pd.DataFrame(merged.loc[merged[SCOL + \"_storm\"] == False, \"national\"].value_counts())\n"
   ]
  },
  {
   "cell_type": "code",
   "execution_count": 61,
   "metadata": {},
   "outputs": [],
   "source": [
    "stormNats = merged[[SCOL + \"_storm\", \"national\", \"key\"]].groupby([SCOL + \"_storm\", \"national\"]).agg(len).reset_index()\n",
    "stormMarginals = merged[SCOL + \"_storm\"].value_counts().reset_index()\n",
    "stormNats = pd.merge(stormNats, stormMarginals, on=SCOL + \"_storm\", how=\"left\")\n",
    "stormNats[\"normed\"] = stormNats[\"key\"] / stormNats[\"count\"]"
   ]
  },
  {
   "cell_type": "code",
   "execution_count": 62,
   "metadata": {},
   "outputs": [],
   "source": [
    "stormNats[SCOL + \"_storm\"] = stormNats[SCOL + \"_storm\"].astype(str)\n",
    "stormNats[\"national\"] = stormNats[\"national\"].astype(str)"
   ]
  },
  {
   "cell_type": "code",
   "execution_count": 63,
   "metadata": {},
   "outputs": [
    {
     "data": {
      "text/plain": [
       "Text(0.5, 1.0, 'National vs. Local: Storms vs. Non-Storms')"
      ]
     },
     "execution_count": 63,
     "metadata": {},
     "output_type": "execute_result"
    },
    {
     "data": {
      "image/png": "[encoded data removed]",
      "text/plain": [
       "<Figure size 432x360 with 1 Axes>"
      ]
     },
     "metadata": {
      "needs_background": "light"
     },
     "output_type": "display_data"
    }
   ],
   "source": [
    "fig, ax = plt.subplots(figsize=(6, 5))\n",
    "sns.barplot(x=\"normed\", y=\"national\", hue=SCOL + \"_storm\", data=stormNats, ax=ax, palette=[F_COLOR, S_COLOR])\n",
    "ax.set_xlabel(\"proportion of total coverage within storm or non-storm grouping\")\n",
    "ax.set_title(\"National vs. Local: Storms vs. Non-Storms\")"
   ]
  },
  {
   "cell_type": "markdown",
   "metadata": {},
   "source": [
    "# TODO: adress how this has changed!\n",
    "# Potential Write-up \n",
    "We find that media storm coverage tends to come from a slightly different subset of outlets than non-storm coverage. In terms of their coverage veracity, storms tend to include slightly more coverage from \"reliable\" sources than from \"mixed\" and \"unreliable\" news outelts. The balance of local and national coverage for storm versus non-storm stories is nearly identical, however. On the local level, storm coverage comes from outlets in more urban, liberal, and affluent counties when compared to non-storm coverage. "
   ]
  },
  {
   "cell_type": "code",
   "execution_count": 64,
   "metadata": {},
   "outputs": [
    {
     "data": {
      "text/plain": [
       "0.0"
      ]
     },
     "execution_count": 64,
     "metadata": {},
     "output_type": "execute_result"
    }
   ],
   "source": [
    "#we note that the local outlets all have a 0 veracity label (reliable)\n",
    "np.mean(merged.loc[merged[\"national\"] == False, \"verLab\"].dropna())"
   ]
  },
  {
   "cell_type": "code",
   "execution_count": 65,
   "metadata": {},
   "outputs": [],
   "source": [
    "def first(inList): \n",
    "    return list(inList)[0]\n",
    "\n",
    "verPairs = merged.loc[merged[\"verLab\"] >= 0, [SCOL, SCOL + \"_storm\", \"verLab\"]].dropna().groupby([SCOL]).agg({\"verLab\":list, SCOL + \"_storm\":first})"
   ]
  },
  {
   "cell_type": "code",
   "execution_count": 66,
   "metadata": {},
   "outputs": [],
   "source": [
    "def uniqueVerLabs(inList): \n",
    "    unique = list(set(inList))\n",
    "    \n",
    "    outList = []\n",
    "    for i in range(len(unique)): \n",
    "        for j in range(i, len(unique)): \n",
    "            outPair = [int(unique[i]), int(unique[j])]\n",
    "            outPair.sort()\n",
    "            outList.append(outPair)\n",
    "    return outList\n",
    "\n",
    "verPairs[\"pairs\"] = verPairs[\"verLab\"].apply(uniqueVerLabs)"
   ]
  },
  {
   "cell_type": "code",
   "execution_count": 67,
   "metadata": {},
   "outputs": [],
   "source": [
    "verPairs = verPairs.drop(columns=[\"verLab\"])"
   ]
  },
  {
   "cell_type": "code",
   "execution_count": 68,
   "metadata": {},
   "outputs": [],
   "source": [
    "verPairs = verPairs.explode(\"pairs\")"
   ]
  },
  {
   "cell_type": "code",
   "execution_count": 69,
   "metadata": {},
   "outputs": [],
   "source": [
    "myMat = np.zeros((3, 3))\n",
    "\n",
    "stormPairs = verPairs.loc[verPairs[SCOL + \"_storm\"] == True]\n",
    "for i, row in stormPairs.iterrows(): \n",
    "    currPair = row[\"pairs\"]\n",
    "    myMat[int(currPair[0]), int(currPair[1])] = myMat[int(currPair[0]), int(currPair[1])] + 1"
   ]
  },
  {
   "cell_type": "code",
   "execution_count": 70,
   "metadata": {},
   "outputs": [
    {
     "data": {
      "text/plain": [
       "array([[91., 88., 90.],\n",
       "       [ 0., 88., 88.],\n",
       "       [ 0.,  0., 90.]])"
      ]
     },
     "execution_count": 70,
     "metadata": {},
     "output_type": "execute_result"
    }
   ],
   "source": [
    "myMat"
   ]
  },
  {
   "cell_type": "code",
   "execution_count": 71,
   "metadata": {},
   "outputs": [],
   "source": [
    "#how mixed are the local and national clusters? \n",
    "natProps = merged[[\"national\", SCOL, SCOL + \"_storm\"]].groupby(SCOL).agg({\"national\":np.mean, SCOL + \"_storm\":lambda x: list(x)[0]})"
   ]
  },
  {
   "cell_type": "code",
   "execution_count": 72,
   "metadata": {},
   "outputs": [],
   "source": [
    "#most of the storms appear to be mixed with national and local coverage "
   ]
  },
  {
   "cell_type": "code",
   "execution_count": 73,
   "metadata": {},
   "outputs": [
    {
     "data": {
      "text/plain": [
       "<Axes: xlabel='national', ylabel='Density'>"
      ]
     },
     "execution_count": 73,
     "metadata": {},
     "output_type": "execute_result"
    },
    {
     "data": {
      "image/png": "[encoded data removed]",
      "text/plain": [
       "<Figure size 432x288 with 1 Axes>"
      ]
     },
     "metadata": {
      "needs_background": "light"
     },
     "output_type": "display_data"
    }
   ],
   "source": [
    "#try and filter out only the longer stories \n",
    "sns.kdeplot(x=\"national\", hue=SCOL + \"_storm\", common_norm=False, data=natProps)"
   ]
  },
  {
   "cell_type": "code",
   "execution_count": 856,
   "metadata": {},
   "outputs": [
    {
     "data": {
      "text/plain": [
       "<Axes: xlabel='national', ylabel='Count'>"
      ]
     },
     "execution_count": 856,
     "metadata": {},
     "output_type": "execute_result"
    },
    {
     "data": {
      "image/png": "[encoded data removed]",
      "text/plain": [
       "<Figure size 432x288 with 1 Axes>"
      ]
     },
     "metadata": {
      "needs_background": "light"
     },
     "output_type": "display_data"
    }
   ],
   "source": [
    "#how mixed are the local and national clusters? \n",
    "natProps = merged.loc[(merged[\"storyLen\"] > 5),  [\"national\", SCOL, SCOL + \"_storm\"]].groupby(SCOL)\\\n",
    ".agg({\"national\":np.mean, SCOL + \"_storm\":lambda x: list(x)[0]})\n",
    "\n",
    "#try and filter out only the longer stories \n",
    "sns.histplot(x=\"national\", hue=SCOL + \"_storm\", common_norm=False, data=natProps)"
   ]
  },
  {
   "cell_type": "code",
   "execution_count": 78,
   "metadata": {},
   "outputs": [
    {
     "data": {
      "text/plain": [
       "51"
      ]
     },
     "execution_count": 78,
     "metadata": {},
     "output_type": "execute_result"
    }
   ],
   "source": [
    "#get the minimum story size \n",
    "min(merged.loc[merged[SCOL + \"_storm\"] == True].drop_duplicates(SCOL)[\"nArts\"])"
   ]
  },
  {
   "cell_type": "code",
   "execution_count": 564,
   "metadata": {},
   "outputs": [
    {
     "data": {
      "text/plain": [
       "(array([ 0., 19., 28., 19., 14.,  2.,  4.,  4.,  1.,  1.,  2.,  0.,  1.,\n",
       "         0.,  1.,  0.,  0.,  0.,  0.,  0.,  1.,  0.,  0.,  0.,  0.,  0.,\n",
       "         0.]),\n",
       " array([   0.,   50.,  100.,  150.,  200.,  250.,  300.,  350.,  400.,\n",
       "         450.,  500.,  550.,  600.,  650.,  700.,  750.,  800.,  850.,\n",
       "         900.,  950., 1000., 1050., 1100., 1150., 1200., 1250., 1300.,\n",
       "        1350.]),\n",
       " <BarContainer object of 27 artists>)"
      ]
     },
     "execution_count": 564,
     "metadata": {},
     "output_type": "execute_result"
    },
    {
     "data": {
      "image/png": "[encoded data removed]",
      "text/plain": [
       "<Figure size 432x288 with 1 Axes>"
      ]
     },
     "metadata": {
      "needs_background": "light"
     },
     "output_type": "display_data"
    }
   ],
   "source": [
    "plt.hist(merged[merged[SCOL + \"_storm\"] == True].drop_duplicates(subset=[SCOL])[\"nArts\"], bins=np.arange(0, 1400, 50))"
   ]
  },
  {
   "cell_type": "code",
   "execution_count": null,
   "metadata": {},
   "outputs": [],
   "source": [
    "#storms don't neccisarily have to be large!"
   ]
  },
  {
   "cell_type": "code",
   "execution_count": 559,
   "metadata": {},
   "outputs": [
    {
     "data": {
      "text/plain": [
       "20000_90_storm\n",
       "True     16\n",
       "False     2\n",
       "Name: count, dtype: int64"
      ]
     },
     "execution_count": 559,
     "metadata": {},
     "output_type": "execute_result"
    }
   ],
   "source": [
    "merged[(merged[\"nArts\"] > 50) & (merged[\"storyLen\"] > 5)].drop_duplicates(subset=[SCOL])[SCOL + \"_storm\"].value_counts()"
   ]
  },
  {
   "cell_type": "code",
   "execution_count": 890,
   "metadata": {},
   "outputs": [
    {
     "data": {
      "text/plain": [
       "Text(0.5, 1.0, 'Storms versus comparable non-Storms: National-Local Mixture')"
      ]
     },
     "execution_count": 890,
     "metadata": {},
     "output_type": "execute_result"
    },
    {
     "data": {
      "image/png": "[encoded data removed]",
      "text/plain": [
       "<Figure size 432x288 with 1 Axes>"
      ]
     },
     "metadata": {
      "needs_background": "light"
     },
     "output_type": "display_data"
    }
   ],
   "source": [
    "#how mixed are the local and national clusters? \n",
    "#NOTE: similar results with stories over size 70 \n",
    "#as we go up in our cutoff, the density of local stories stays strong but we have less exclusively national stories \n",
    "#There is a concern that the exclusively local are false positives \n",
    "natProps = merged.loc[(merged[\"nArts\"] > 50) & (merged[\"storyLen\"] > 5) & (merged[\"storyLen\"] <= 53), [\"national\", SCOL, SCOL + \"_storm\"]].groupby(SCOL)\\\n",
    ".agg({\"national\":np.mean, SCOL + \"_storm\":lambda x: list(x)[0]})\n",
    "\n",
    "#try and filter out only the longer stories \n",
    "sns.histplot(x=\"national\", hue=SCOL + \"_storm\", common_norm=False, data=natProps, stat=\"density\")\n",
    "plt.title(\"Storms versus comparable non-Storms: National-Local Mixture\")"
   ]
  },
  {
   "cell_type": "markdown",
   "metadata": {},
   "source": [
    "# Potential Write-up: \n",
    "We now turn to the multi-medianess of storms. While non-storm stories typically include coverage from exclusively national or local outlets, our media storms typically include a mix of both outlet types. While this is true across all non-storm coverage, it is also true when comparing media storms with non-storm stories of a similar duration and article count. This indicates that the type of stories that take over the coverage of outlets and become media storms are far more likely to be those with both local and national appeal. \n",
    "\n",
    "- we can also bring in work about agenda fragmentation (Gruszczynski, 2020) and show that agenda fragmentation (topic diversity) decreases when storms occur.  "
   ]
  },
  {
   "cell_type": "code",
   "execution_count": 86,
   "metadata": {},
   "outputs": [],
   "source": [
    "#which outlets are the storm outlets \n",
    "patrollers = merged.loc[merged[SCOL + \"_storm\"] == True, [SCOL, SCOL + \"_storm_source\"]].drop_duplicates()"
   ]
  },
  {
   "cell_type": "code",
   "execution_count": 91,
   "metadata": {},
   "outputs": [],
   "source": [
    "from ast import literal_eval"
   ]
  },
  {
   "cell_type": "code",
   "execution_count": 92,
   "metadata": {},
   "outputs": [],
   "source": [
    "patrollers[SCOL + \"_storm_source\"] = patrollers[SCOL + \"_storm_source\"].apply(lambda x: literal_eval(x))\n",
    "#.explode([SCOL + \"_storm_source\"])"
   ]
  },
  {
   "cell_type": "code",
   "execution_count": 100,
   "metadata": {},
   "outputs": [],
   "source": [
    "patrolCounts = patrollers.explode([SCOL + \"_storm_source\"])[SCOL + \"_storm_source\"].value_counts()\n",
    "patrolCounts = pd.DataFrame(patrolCounts).reset_index()"
   ]
  },
  {
   "cell_type": "code",
   "execution_count": 107,
   "metadata": {},
   "outputs": [],
   "source": [
    "#note that the patrolling outlets aren't exclusively national at all! \n",
    "#hard to tell with other outlets, because they might just not report enough to \n",
    "#get over the \"40 in one week\" rule\n",
    "#patrolCounts.tail(40)"
   ]
  },
  {
   "cell_type": "code",
   "execution_count": 167,
   "metadata": {},
   "outputs": [
    {
     "data": {
      "text/plain": [
       "Index(['Unnamed: 0.2', 'Unnamed: 0.1', 'key', 'local_id', 'sourcedomain_id',\n",
       "       'date', 'title', 'content', 'url', 'fips', 'source', 'description',\n",
       "       'onlinesince', 'rank', 'state', 'city', 'lon', 'lat', 'county',\n",
       "       'total_population', 'white_pct', 'black_pct', 'hispanic_pct',\n",
       "       'nonwhite_pct', 'foreignborn_pct', 'female_pct', 'age29andunder_pct',\n",
       "       'age65andolder_pct', 'median_hh_inc', 'clf_unemploy_pct', 'lesshs_pct',\n",
       "       'lesscollege_pct', 'lesshs_whites_pct', 'lesscollege_whites_pct',\n",
       "       'rural_pct', 'ruralurban_cc', 'predrt_0', 'predrt_12', 'predrt_3',\n",
       "       'national', 'id', 'author', 'published', 'published_utc',\n",
       "       'collection_utc', '20000_80', '20000_85', '20000_90', 'year', 'ver2020',\n",
       "       'ver2021', 'logodds_Trump20', 'logodds_Trump16', 'logodds_Romney12',\n",
       "       '20000_90_average_pct', '20000_90_num_over_cutoff',\n",
       "       '20000_90_storm_source', '20000_90_storm', 'verLab', 'nArts',\n",
       "       'storyLen', 'sqrt_pop'],\n",
       "      dtype='object')"
      ]
     },
     "execution_count": 167,
     "metadata": {},
     "output_type": "execute_result"
    }
   ],
   "source": [
    "merged.columns"
   ]
  },
  {
   "cell_type": "code",
   "execution_count": 170,
   "metadata": {},
   "outputs": [],
   "source": [
    "patrolRows = merged.loc[merged[SCOL + \"_storm\"] == True, [SCOL, SCOL + \"_storm_source\", \"date\", \"key\", \"source\", \"national\", \"rural_pct\", \"verLab\"]].drop_duplicates()"
   ]
  },
  {
   "cell_type": "code",
   "execution_count": 171,
   "metadata": {},
   "outputs": [],
   "source": [
    "patrolRows[SCOL + \"_storm_source\"] = patrolRows[SCOL + \"_storm_source\"].apply(lambda x: literal_eval(x))"
   ]
  },
  {
   "cell_type": "code",
   "execution_count": 172,
   "metadata": {},
   "outputs": [],
   "source": [
    "stormInfo = patrolRows[[SCOL, \"date\"]].groupby(SCOL).agg([min, max]).droplevel(0, axis=1)\n",
    "stormInfo[\"lenDays\"] = (stormInfo[\"max\"] - stormInfo[\"min\"]) / np.timedelta64(1, \"D\")\n",
    "stormInfo = stormInfo.reset_index()"
   ]
  },
  {
   "cell_type": "code",
   "execution_count": 173,
   "metadata": {},
   "outputs": [],
   "source": [
    "patrolRows = pd.merge(patrolRows, stormInfo, on=SCOL)"
   ]
  },
  {
   "cell_type": "code",
   "execution_count": 174,
   "metadata": {},
   "outputs": [],
   "source": [
    "patrolRows[\"fNorm\"] = (patrolRows[\"date\"] - patrolRows[\"min\"]) / np.timedelta64(1, \"D\")"
   ]
  },
  {
   "cell_type": "code",
   "execution_count": 175,
   "metadata": {},
   "outputs": [],
   "source": [
    "def patrolled(inRow):\n",
    "    return inRow[\"source\"] in inRow[SCOL + \"_storm_source\"]"
   ]
  },
  {
   "cell_type": "code",
   "execution_count": 176,
   "metadata": {},
   "outputs": [],
   "source": [
    "patrolRows[\"patrolled\"] = patrolRows.apply(patrolled, axis=1)"
   ]
  },
  {
   "cell_type": "code",
   "execution_count": 177,
   "metadata": {},
   "outputs": [
    {
     "data": {
      "text/plain": [
       "<Axes: xlabel='fNorm', ylabel='Density'>"
      ]
     },
     "execution_count": 177,
     "metadata": {},
     "output_type": "execute_result"
    },
    {
     "data": {
      "image/png": "[encoded data removed]",
      "text/plain": [
       "<Figure size 432x288 with 1 Axes>"
      ]
     },
     "metadata": {
      "needs_background": "light"
     },
     "output_type": "display_data"
    }
   ],
   "source": [
    "sns.kdeplot(x=\"fNorm\", hue=\"patrolled\", data=patrolRows, common_norm=False)"
   ]
  },
  {
   "cell_type": "code",
   "execution_count": 178,
   "metadata": {},
   "outputs": [
    {
     "data": {
      "text/plain": [
       "<Axes: xlabel='fNorm', ylabel='Density'>"
      ]
     },
     "execution_count": 178,
     "metadata": {},
     "output_type": "execute_result"
    },
    {
     "data": {
      "image/png": "[encoded data removed]",
      "text/plain": [
       "<Figure size 432x288 with 1 Axes>"
      ]
     },
     "metadata": {
      "needs_background": "light"
     },
     "output_type": "display_data"
    }
   ],
   "source": [
    "sns.kdeplot(x=\"fNorm\", hue=\"national\", data=patrolRows, common_norm=False)"
   ]
  },
  {
   "cell_type": "code",
   "execution_count": 179,
   "metadata": {},
   "outputs": [
    {
     "data": {
      "text/plain": [
       "<Axes: xlabel='fNorm', ylabel='Density'>"
      ]
     },
     "execution_count": 179,
     "metadata": {},
     "output_type": "execute_result"
    },
    {
     "data": {
      "image/png": "[encoded data removed]",
      "text/plain": [
       "<Figure size 432x288 with 1 Axes>"
      ]
     },
     "metadata": {
      "needs_background": "light"
     },
     "output_type": "display_data"
    }
   ],
   "source": [
    "sns.kdeplot(x=\"fNorm\", hue=\"verLab\", data=patrolRows, common_norm=False)"
   ]
  },
  {
   "cell_type": "code",
   "execution_count": 181,
   "metadata": {},
   "outputs": [],
   "source": [
    "#NOTE: but maybe there are still stories that migrate through the ecosystem? "
   ]
  },
  {
   "cell_type": "code",
   "execution_count": 183,
   "metadata": {},
   "outputs": [],
   "source": [
    "patrolRows[\"rural_pct\"] = patrolRows[\"rural_pct\"].astype(float)"
   ]
  },
  {
   "cell_type": "code",
   "execution_count": 188,
   "metadata": {},
   "outputs": [
    {
     "data": {
      "text/plain": [
       "<Axes: xlabel='fNorm', ylabel='rural_pct'>"
      ]
     },
     "execution_count": 188,
     "metadata": {},
     "output_type": "execute_result"
    },
    {
     "data": {
      "image/png": "[encoded data removed]",
      "text/plain": [
       "<Figure size 432x288 with 1 Axes>"
      ]
     },
     "metadata": {
      "needs_background": "light"
     },
     "output_type": "display_data"
    }
   ],
   "source": [
    "sns.kdeplot(x=\"fNorm\", y=\"rural_pct\", data=patrolRows)"
   ]
  },
  {
   "cell_type": "code",
   "execution_count": 257,
   "metadata": {},
   "outputs": [],
   "source": [
    "patrolRows[\"starter\"] = patrolRows[\"fNorm\"] == 0 "
   ]
  },
  {
   "cell_type": "code",
   "execution_count": 265,
   "metadata": {},
   "outputs": [],
   "source": [
    "#another thing to check is who reports on the first day of these stories? \n",
    "covChange = patrolRows[[SCOL, \"national\", \"rural_pct\", \"starter\", \"verLab\"]].groupby([SCOL, \"starter\"]).agg(np.nanmean)"
   ]
  },
  {
   "cell_type": "code",
   "execution_count": 266,
   "metadata": {},
   "outputs": [],
   "source": [
    "covChange = covChange.reset_index().pivot(columns=\"starter\", index=SCOL).droplevel(1, axis=1)"
   ]
  },
  {
   "cell_type": "code",
   "execution_count": 269,
   "metadata": {},
   "outputs": [],
   "source": [
    "covChange.columns = [\"national_start\", \"national_end\", \"rural_pct_start\", \"rural_pct_end\", \"ver_start\", \"ver_end\"]"
   ]
  },
  {
   "cell_type": "code",
   "execution_count": 270,
   "metadata": {},
   "outputs": [],
   "source": [
    "covChange[\"national_diff\"] = covChange[\"national_start\"] -  covChange[\"national_end\"]\n",
    "covChange[\"rural_pct_diff\"] = covChange[\"rural_pct_start\"] -  covChange[\"rural_pct_end\"]\n",
    "covChange[\"ver_diff\"] = covChange[\"ver_start\"] -  covChange[\"ver_end\"]"
   ]
  },
  {
   "cell_type": "code",
   "execution_count": 277,
   "metadata": {},
   "outputs": [
    {
     "data": {
      "text/plain": [
       "(-1.0, 1.0)"
      ]
     },
     "execution_count": 277,
     "metadata": {},
     "output_type": "execute_result"
    },
    {
     "data": {
      "image/png": "[encoded data removed]",
      "text/plain": [
       "<Figure size 432x288 with 1 Axes>"
      ]
     },
     "metadata": {
      "needs_background": "light"
     },
     "output_type": "display_data"
    }
   ],
   "source": [
    "sns.histplot(x=\"national_diff\", data=covChange, bins=np.arange(-1, 1, .1))\n",
    "plt.xlim(-1, 1)"
   ]
  },
  {
   "cell_type": "code",
   "execution_count": 276,
   "metadata": {},
   "outputs": [
    {
     "data": {
      "text/plain": [
       "<Axes: xlabel='rural_pct_diff', ylabel='Count'>"
      ]
     },
     "execution_count": 276,
     "metadata": {},
     "output_type": "execute_result"
    },
    {
     "data": {
      "image/png": "[encoded data removed]",
      "text/plain": [
       "<Figure size 432x288 with 1 Axes>"
      ]
     },
     "metadata": {
      "needs_background": "light"
     },
     "output_type": "display_data"
    }
   ],
   "source": [
    "sns.histplot(x=\"rural_pct_diff\", data=covChange, bins=np.arange(-50, 50, 10))\n"
   ]
  },
  {
   "cell_type": "code",
   "execution_count": 284,
   "metadata": {},
   "outputs": [
    {
     "data": {
      "text/plain": [
       "(-1.0, 1.0)"
      ]
     },
     "execution_count": 284,
     "metadata": {},
     "output_type": "execute_result"
    },
    {
     "data": {
      "image/png": "[encoded data removed]",
      "text/plain": [
       "<Figure size 432x288 with 1 Axes>"
      ]
     },
     "metadata": {
      "needs_background": "light"
     },
     "output_type": "display_data"
    }
   ],
   "source": [
    "sns.histplot(x=\"ver_diff\", data=covChange.dropna(subset=[\"ver_diff\"]), bins=np.arange(-1, 1, .1))\n",
    "plt.xlim(-1, 1)"
   ]
  },
  {
   "cell_type": "code",
   "execution_count": 282,
   "metadata": {},
   "outputs": [
    {
     "data": {
      "text/plain": [
       "0.062240821511347105"
      ]
     },
     "execution_count": 282,
     "metadata": {},
     "output_type": "execute_result"
    }
   ],
   "source": [
    "np.nanmean(covChange[\"ver_diff\"])"
   ]
  },
  {
   "cell_type": "code",
   "execution_count": 304,
   "metadata": {},
   "outputs": [],
   "source": [
    "import random\n",
    "from tqdm import tqdm"
   ]
  },
  {
   "cell_type": "code",
   "execution_count": 338,
   "metadata": {},
   "outputs": [
    {
     "name": "stderr",
     "output_type": "stream",
     "text": [
      "  0%|          | 0/200 [00:00<?, ?it/s]<ipython-input-338-4297fb5915d9>:21: RuntimeWarning: Mean of empty slice\n",
      "  verDiff = np.nanmean(sampRows[\"verLab\"]) - np.nanmean(nonSampRows[\"verLab\"])\n",
      "100%|██████████| 200/200 [01:27<00:00,  2.29it/s]\n"
     ]
    }
   ],
   "source": [
    "#now, for each story, pick a row and find difference with the rest of rows on each of these variables \n",
    "#store the mean and variance of these samples \n",
    "\n",
    "meanNatDiffs = []\n",
    "varNatDiffs = []\n",
    "meanVerDiffs = []\n",
    "varVerDiffs = []\n",
    "for i in tqdm(range(200)): \n",
    "    natDiffs = []\n",
    "    verDiffs = []\n",
    "    for storm in patrolRows[SCOL].unique(): \n",
    "        currStorm = patrolRows[patrolRows[SCOL] == storm]\n",
    "        sampDay = random.sample(list(currStorm[\"date\"]), 1)[0]\n",
    "\n",
    "        sampRows = currStorm[currStorm[\"date\"] == sampDay]\n",
    "        nonSampRows = currStorm[currStorm[\"date\"] != sampDay]\n",
    "\n",
    "        natDiff = np.mean(sampRows[\"national\"]) - np.mean(nonSampRows[\"national\"])\n",
    "        natDiffs.append(natDiff)\n",
    "        \n",
    "        verDiff = np.nanmean(sampRows[\"verLab\"]) - np.nanmean(nonSampRows[\"verLab\"])\n",
    "        verDiffs.append(verDiff)\n",
    "        \n",
    "    meanNatDiffs.append(np.mean(natDiffs))\n",
    "    varNatDiffs.append(np.var(natDiffs))\n",
    "    \n",
    "    meanVerDiffs.append(np.nanmean(verDiffs))\n",
    "    varVerDiffs.append(np.nanvar(verDiffs))"
   ]
  },
  {
   "cell_type": "code",
   "execution_count": 319,
   "metadata": {},
   "outputs": [
    {
     "data": {
      "text/plain": [
       "Text(0, 0.5, 'count')"
      ]
     },
     "execution_count": 319,
     "metadata": {},
     "output_type": "execute_result"
    },
    {
     "data": {
      "image/png": "[encoded data removed]",
      "text/plain": [
       "<Figure size 432x288 with 1 Axes>"
      ]
     },
     "metadata": {
      "needs_background": "light"
     },
     "output_type": "display_data"
    }
   ],
   "source": [
    "plt.hist(meanNatDiffs)\n",
    "plt.title(\"National to Local Drift\")\n",
    "plt.axvline(np.mean(covChange[\"national_diff\"]), color=\"red\")\n",
    "plt.xlabel(\"Average Change in % National Coverage\")\n",
    "plt.ylabel(\"count\")"
   ]
  },
  {
   "cell_type": "code",
   "execution_count": 321,
   "metadata": {},
   "outputs": [
    {
     "data": {
      "text/plain": [
       "Text(0, 0.5, 'count')"
      ]
     },
     "execution_count": 321,
     "metadata": {},
     "output_type": "execute_result"
    },
    {
     "data": {
      "image/png": "[encoded data removed]",
      "text/plain": [
       "<Figure size 432x288 with 1 Axes>"
      ]
     },
     "metadata": {
      "needs_background": "light"
     },
     "output_type": "display_data"
    }
   ],
   "source": [
    "plt.hist(varNatDiffs)\n",
    "plt.title(\"National to Local Drift\")\n",
    "plt.axvline(np.var(covChange[\"national_diff\"]), color=\"red\")\n",
    "plt.xlabel(\"Variance of Change in % National Coverage Across Stories\")\n",
    "plt.ylabel(\"count\")"
   ]
  },
  {
   "cell_type": "markdown",
   "metadata": {},
   "source": [
    "# Interpretation\n",
    "On average, our identified media storms have day 1 coverage that is 10% more national than the remaining days. \n",
    "We also find evidence of heterogeneity of media storm evolution between day 1 and remaining days. In other words, while drift from national to local is more common, we see a wider variety of drift patterns than would be expected by random chance. \n"
   ]
  },
  {
   "cell_type": "code",
   "execution_count": 341,
   "metadata": {},
   "outputs": [
    {
     "data": {
      "text/plain": [
       "Text(0, 0.5, 'count')"
      ]
     },
     "execution_count": 341,
     "metadata": {},
     "output_type": "execute_result"
    },
    {
     "data": {
      "image/png": "[encoded data removed]",
      "text/plain": [
       "<Figure size 432x288 with 1 Axes>"
      ]
     },
     "metadata": {
      "needs_background": "light"
     },
     "output_type": "display_data"
    }
   ],
   "source": [
    "plt.hist(meanVerDiffs)\n",
    "plt.title(\"Drift in Coverage Veracity\")\n",
    "plt.axvline(np.mean(covChange[\"ver_diff\"]), color=\"red\")\n",
    "plt.xlabel(\"Average Change in % Veracity Score\")\n",
    "plt.ylabel(\"count\")"
   ]
  },
  {
   "cell_type": "code",
   "execution_count": 342,
   "metadata": {},
   "outputs": [
    {
     "data": {
      "text/plain": [
       "Text(0, 0.5, 'count')"
      ]
     },
     "execution_count": 342,
     "metadata": {},
     "output_type": "execute_result"
    },
    {
     "data": {
      "image/png": "[encoded data removed]",
      "text/plain": [
       "<Figure size 432x288 with 1 Axes>"
      ]
     },
     "metadata": {
      "needs_background": "light"
     },
     "output_type": "display_data"
    }
   ],
   "source": [
    "plt.hist(varVerDiffs)\n",
    "plt.title(\"Heterogeneity in Storm Veracity Evolution\")\n",
    "plt.axvline(np.nanvar(covChange[\"ver_diff\"]), color=\"red\")\n",
    "plt.xlabel(\"Average Change in % Veracity Score\")\n",
    "plt.ylabel(\"count\")"
   ]
  },
  {
   "cell_type": "markdown",
   "metadata": {},
   "source": [
    "# Interpretation\n",
    "On average, our identified media storms have day 1 coverage that is 6% less reliable than the remaining days. \n",
    "We also find evidence of heterogeneity of media storm's veracity evolution between day 1 and remaining days. In other words, while drift from more reliable to less reliable is more common, we see a wider variety of drift patterns than would be expected by random chance. \n"
   ]
  },
  {
   "cell_type": "code",
   "execution_count": 357,
   "metadata": {},
   "outputs": [
    {
     "data": {
      "text/plain": [
       "array([[1.        , 0.03241826],\n",
       "       [0.03241826, 1.        ]])"
      ]
     },
     "execution_count": 357,
     "metadata": {},
     "output_type": "execute_result"
    },
    {
     "data": {
      "image/png": "[encoded data removed]",
      "text/plain": [
       "<Figure size 432x288 with 1 Axes>"
      ]
     },
     "metadata": {
      "needs_background": "light"
     },
     "output_type": "display_data"
    }
   ],
   "source": [
    "#check if coverage that starts national tends to go local \n",
    "sns.regplot(x=\"national_start\", y=\"national_diff\", data=covChange)\n",
    "\n",
    "np.corrcoef(x=covChange[\"national_start\"], y=covChange[\"national_diff\"])"
   ]
  },
  {
   "cell_type": "code",
   "execution_count": 475,
   "metadata": {},
   "outputs": [],
   "source": [
    "#bins give us our starting value\n",
    "STEP = .2\n",
    "bins = np.arange(0, 1 + STEP, STEP)\n",
    "\n",
    "outList = []\n",
    "for lBin in bins: \n",
    "    outList.append(np.mean(covChange.loc[(covChange[\"national_start\"] >= lBin) & (covChange[\"national_start\"] <= lBin + STEP), \"national_diff\"]))\n"
   ]
  },
  {
   "cell_type": "code",
   "execution_count": 476,
   "metadata": {},
   "outputs": [
    {
     "data": {
      "text/plain": [
       "Text(0, 0.5, 'drift from local to national')"
      ]
     },
     "execution_count": 476,
     "metadata": {},
     "output_type": "execute_result"
    },
    {
     "data": {
      "image/png": "[encoded data removed]",
      "text/plain": [
       "<Figure size 432x288 with 1 Axes>"
      ]
     },
     "metadata": {
      "needs_background": "light"
     },
     "output_type": "display_data"
    }
   ],
   "source": [
    "sns.lineplot(x=np.arange(0, 1 + STEP, STEP), y=outList)\n",
    "plt.xlabel(\"proportion of first day coverage which is national\")\n",
    "plt.ylabel(\"drift from local to national\")"
   ]
  },
  {
   "cell_type": "code",
   "execution_count": 682,
   "metadata": {},
   "outputs": [],
   "source": [
    "covChange[\"natStartBins\"] = pd.cut(covChange[\"national_start\"], bins=bins, right=True)\n",
    "covChange[\"ruralStartBins\"] = pd.cut(covChange[\"rural_pct_start\"], np.arange(0, 70 + 14, 14))\n",
    "covChange[\"verStartBins\"] = pd.cut(covChange[\"ver_start\"], np.arange(0, 1.2 + .3, .3))\n",
    "\n",
    "#covChange[\"natStartBins\"] = pd.qcut(covChange[\"national_start\"], 5)\n",
    "#covChange[\"ruralStartBins\"] = pd.qcut(covChange[\"rural_pct_start\"], 5)\n",
    "#covChange[\"verStartBins\"] = pd.qcut(covChange[\"ver_start\"], 5)\n"
   ]
  },
  {
   "cell_type": "code",
   "execution_count": 683,
   "metadata": {},
   "outputs": [
    {
     "data": {
      "text/plain": [
       "<Axes: xlabel='national_diff', ylabel='natStartBins'>"
      ]
     },
     "execution_count": 683,
     "metadata": {},
     "output_type": "execute_result"
    },
    {
     "data": {
      "image/png": "[encoded data removed]",
      "text/plain": [
       "<Figure size 432x288 with 1 Axes>"
      ]
     },
     "metadata": {
      "needs_background": "light"
     },
     "output_type": "display_data"
    }
   ],
   "source": [
    "\n",
    "sns.barplot(data=covChange,x=\"national_diff\", y=\"natStartBins\", )"
   ]
  },
  {
   "cell_type": "code",
   "execution_count": 684,
   "metadata": {},
   "outputs": [
    {
     "data": {
      "text/plain": [
       "0.0"
      ]
     },
     "execution_count": 684,
     "metadata": {},
     "output_type": "execute_result"
    }
   ],
   "source": [
    "min(covChange[\"ver_start\"])"
   ]
  },
  {
   "cell_type": "code",
   "execution_count": 685,
   "metadata": {},
   "outputs": [],
   "source": [
    "df1 = covChange[[\"national_start\", \"natStartBins\", \"rural_pct_start\", \"ruralStartBins\", \"ver_start\", \"verStartBins\"]].reset_index()\\\n",
    ".rename(columns={\"national_start\":\"natProp\", \"rural_pct_start\":\"ruralProp\", \"ver_start\":\"verProp\"})\n",
    "df1[\"time\"] = 0\n",
    "\n",
    "df2 = covChange[[\"national_end\", \"natStartBins\",\"rural_pct_end\", \"ruralStartBins\", \"ver_end\", \"verStartBins\"]].reset_index()\\\n",
    ".rename(columns={\"national_end\":\"natProp\", \"rural_pct_end\":\"ruralProp\", \"ver_end\":\"verProp\"})\n",
    "df2[\"time\"] = 1\n",
    "\n",
    "newDf = pd.concat([df1, df2]).sort_index()"
   ]
  },
  {
   "cell_type": "code",
   "execution_count": 696,
   "metadata": {},
   "outputs": [
    {
     "data": {
      "text/plain": [
       "Text(0.5, 1.0, 'The Effect of First Day Coverage on Story Trajectory')"
      ]
     },
     "execution_count": 696,
     "metadata": {},
     "output_type": "execute_result"
    },
    {
     "data": {
      "image/png": "[encoded data removed]",
      "text/plain": [
       "<Figure size 441.625x360 with 1 Axes>"
      ]
     },
     "metadata": {
      "needs_background": "light"
     },
     "output_type": "display_data"
    }
   ],
   "source": [
    "sns.relplot(data=newDf, x=\"time\", y=\"natProp\",  hue=\"natStartBins\", kind=\"line\", palette=['#fd8d3c','#fc4e2a','#e31a1c','#bd0026','#800026'])\n",
    "#sns.lineplot(data=newDf, x=\"time\", y=\"natProp\", hue=\"natStartBins\", palette=['#fd8d3c','#fc4e2a','#e31a1c','#bd0026','#800026'], units=SCOL, estimator=None, alpha=.2, legend=False)\n",
    "plt.xlabel(\"first day |---------------remaining coverage ------------>\")\n",
    "plt.ylabel(\"proportion national\")\n",
    "plt.xticks([0,1])\n",
    "plt.title(\"The Effect of First Day Coverage on Story Trajectory\")"
   ]
  },
  {
   "cell_type": "code",
   "execution_count": 697,
   "metadata": {},
   "outputs": [
    {
     "data": {
      "text/html": [
       "<div>\n",
       "<style scoped>\n",
       "    .dataframe tbody tr th:only-of-type {\n",
       "        vertical-align: middle;\n",
       "    }\n",
       "\n",
       "    .dataframe tbody tr th {\n",
       "        vertical-align: top;\n",
       "    }\n",
       "\n",
       "    .dataframe thead th {\n",
       "        text-align: right;\n",
       "    }\n",
       "</style>\n",
       "<table border=\"1\" class=\"dataframe\">\n",
       "  <thead>\n",
       "    <tr style=\"text-align: right;\">\n",
       "      <th></th>\n",
       "      <th>20000_90</th>\n",
       "      <th>natProp</th>\n",
       "      <th>natStartBins</th>\n",
       "      <th>ruralProp</th>\n",
       "      <th>ruralStartBins</th>\n",
       "      <th>verProp</th>\n",
       "      <th>verStartBins</th>\n",
       "      <th>time</th>\n",
       "      <th>unit</th>\n",
       "    </tr>\n",
       "  </thead>\n",
       "  <tbody>\n",
       "    <tr>\n",
       "      <th>0</th>\n",
       "      <td>359</td>\n",
       "      <td>0.492537</td>\n",
       "      <td>(0.4, 0.6]</td>\n",
       "      <td>18.581800</td>\n",
       "      <td>(14, 28]</td>\n",
       "      <td>0.580645</td>\n",
       "      <td>(0.3, 0.6]</td>\n",
       "      <td>0</td>\n",
       "      <td>0</td>\n",
       "    </tr>\n",
       "    <tr>\n",
       "      <th>0</th>\n",
       "      <td>359</td>\n",
       "      <td>0.730769</td>\n",
       "      <td>(0.4, 0.6]</td>\n",
       "      <td>8.975072</td>\n",
       "      <td>(14, 28]</td>\n",
       "      <td>0.611111</td>\n",
       "      <td>(0.3, 0.6]</td>\n",
       "      <td>1</td>\n",
       "      <td>1</td>\n",
       "    </tr>\n",
       "    <tr>\n",
       "      <th>1</th>\n",
       "      <td>533</td>\n",
       "      <td>0.738636</td>\n",
       "      <td>(0.6, 0.8]</td>\n",
       "      <td>17.373445</td>\n",
       "      <td>(14, 28]</td>\n",
       "      <td>0.697391</td>\n",
       "      <td>(0.6, 0.9]</td>\n",
       "      <td>0</td>\n",
       "      <td>2</td>\n",
       "    </tr>\n",
       "    <tr>\n",
       "      <th>1</th>\n",
       "      <td>533</td>\n",
       "      <td>0.616438</td>\n",
       "      <td>(0.6, 0.8]</td>\n",
       "      <td>17.080522</td>\n",
       "      <td>(14, 28]</td>\n",
       "      <td>0.494505</td>\n",
       "      <td>(0.6, 0.9]</td>\n",
       "      <td>1</td>\n",
       "      <td>3</td>\n",
       "    </tr>\n",
       "    <tr>\n",
       "      <th>2</th>\n",
       "      <td>608</td>\n",
       "      <td>0.458503</td>\n",
       "      <td>(0.4, 0.6]</td>\n",
       "      <td>22.298115</td>\n",
       "      <td>(14, 28]</td>\n",
       "      <td>0.642140</td>\n",
       "      <td>(0.6, 0.9]</td>\n",
       "      <td>0</td>\n",
       "      <td>4</td>\n",
       "    </tr>\n",
       "    <tr>\n",
       "      <th>...</th>\n",
       "      <td>...</td>\n",
       "      <td>...</td>\n",
       "      <td>...</td>\n",
       "      <td>...</td>\n",
       "      <td>...</td>\n",
       "      <td>...</td>\n",
       "      <td>...</td>\n",
       "      <td>...</td>\n",
       "      <td>...</td>\n",
       "    </tr>\n",
       "    <tr>\n",
       "      <th>95</th>\n",
       "      <td>234960</td>\n",
       "      <td>0.071429</td>\n",
       "      <td>(0.0, 0.2]</td>\n",
       "      <td>1.514781</td>\n",
       "      <td>(0, 14]</td>\n",
       "      <td>NaN</td>\n",
       "      <td>NaN</td>\n",
       "      <td>0</td>\n",
       "      <td>191</td>\n",
       "    </tr>\n",
       "    <tr>\n",
       "      <th>96</th>\n",
       "      <td>236431</td>\n",
       "      <td>0.000000</td>\n",
       "      <td>NaN</td>\n",
       "      <td>42.427387</td>\n",
       "      <td>(42, 56]</td>\n",
       "      <td>NaN</td>\n",
       "      <td>NaN</td>\n",
       "      <td>1</td>\n",
       "      <td>192</td>\n",
       "    </tr>\n",
       "    <tr>\n",
       "      <th>96</th>\n",
       "      <td>236431</td>\n",
       "      <td>0.000000</td>\n",
       "      <td>NaN</td>\n",
       "      <td>42.836071</td>\n",
       "      <td>(42, 56]</td>\n",
       "      <td>NaN</td>\n",
       "      <td>NaN</td>\n",
       "      <td>0</td>\n",
       "      <td>193</td>\n",
       "    </tr>\n",
       "    <tr>\n",
       "      <th>97</th>\n",
       "      <td>295028</td>\n",
       "      <td>0.192982</td>\n",
       "      <td>(0.0, 0.2]</td>\n",
       "      <td>23.016636</td>\n",
       "      <td>(14, 28]</td>\n",
       "      <td>NaN</td>\n",
       "      <td>NaN</td>\n",
       "      <td>0</td>\n",
       "      <td>194</td>\n",
       "    </tr>\n",
       "    <tr>\n",
       "      <th>97</th>\n",
       "      <td>295028</td>\n",
       "      <td>0.200000</td>\n",
       "      <td>(0.0, 0.2]</td>\n",
       "      <td>19.528102</td>\n",
       "      <td>(14, 28]</td>\n",
       "      <td>NaN</td>\n",
       "      <td>NaN</td>\n",
       "      <td>1</td>\n",
       "      <td>195</td>\n",
       "    </tr>\n",
       "  </tbody>\n",
       "</table>\n",
       "<p>196 rows × 9 columns</p>\n",
       "</div>"
      ],
      "text/plain": [
       "    20000_90   natProp natStartBins  ruralProp ruralStartBins   verProp   \n",
       "0        359  0.492537   (0.4, 0.6]  18.581800       (14, 28]  0.580645  \\\n",
       "0        359  0.730769   (0.4, 0.6]   8.975072       (14, 28]  0.611111   \n",
       "1        533  0.738636   (0.6, 0.8]  17.373445       (14, 28]  0.697391   \n",
       "1        533  0.616438   (0.6, 0.8]  17.080522       (14, 28]  0.494505   \n",
       "2        608  0.458503   (0.4, 0.6]  22.298115       (14, 28]  0.642140   \n",
       "..       ...       ...          ...        ...            ...       ...   \n",
       "95    234960  0.071429   (0.0, 0.2]   1.514781        (0, 14]       NaN   \n",
       "96    236431  0.000000          NaN  42.427387       (42, 56]       NaN   \n",
       "96    236431  0.000000          NaN  42.836071       (42, 56]       NaN   \n",
       "97    295028  0.192982   (0.0, 0.2]  23.016636       (14, 28]       NaN   \n",
       "97    295028  0.200000   (0.0, 0.2]  19.528102       (14, 28]       NaN   \n",
       "\n",
       "   verStartBins  time unit  \n",
       "0    (0.3, 0.6]     0    0  \n",
       "0    (0.3, 0.6]     1    1  \n",
       "1    (0.6, 0.9]     0    2  \n",
       "1    (0.6, 0.9]     1    3  \n",
       "2    (0.6, 0.9]     0    4  \n",
       "..          ...   ...  ...  \n",
       "95          NaN     0  191  \n",
       "96          NaN     1  192  \n",
       "96          NaN     0  193  \n",
       "97          NaN     0  194  \n",
       "97          NaN     1  195  \n",
       "\n",
       "[196 rows x 9 columns]"
      ]
     },
     "execution_count": 697,
     "metadata": {},
     "output_type": "execute_result"
    }
   ],
   "source": [
    "newDf.loc[newDf[\"\"]]"
   ]
  },
  {
   "cell_type": "code",
   "execution_count": 687,
   "metadata": {},
   "outputs": [],
   "source": [
    "newDf[\"unit\"] = list(range(0, len(newDf)))"
   ]
  },
  {
   "cell_type": "code",
   "execution_count": 688,
   "metadata": {},
   "outputs": [],
   "source": [
    "newDf[\"unit\"] = newDf[\"unit\"].astype(str)"
   ]
  },
  {
   "cell_type": "code",
   "execution_count": 689,
   "metadata": {},
   "outputs": [
    {
     "data": {
      "text/html": [
       "<div>\n",
       "<style scoped>\n",
       "    .dataframe tbody tr th:only-of-type {\n",
       "        vertical-align: middle;\n",
       "    }\n",
       "\n",
       "    .dataframe tbody tr th {\n",
       "        vertical-align: top;\n",
       "    }\n",
       "\n",
       "    .dataframe thead th {\n",
       "        text-align: right;\n",
       "    }\n",
       "</style>\n",
       "<table border=\"1\" class=\"dataframe\">\n",
       "  <thead>\n",
       "    <tr style=\"text-align: right;\">\n",
       "      <th></th>\n",
       "      <th>20000_90</th>\n",
       "      <th>natProp</th>\n",
       "      <th>natStartBins</th>\n",
       "      <th>ruralProp</th>\n",
       "      <th>ruralStartBins</th>\n",
       "      <th>verProp</th>\n",
       "      <th>verStartBins</th>\n",
       "      <th>time</th>\n",
       "      <th>unit</th>\n",
       "    </tr>\n",
       "  </thead>\n",
       "  <tbody>\n",
       "    <tr>\n",
       "      <th>0</th>\n",
       "      <td>359</td>\n",
       "      <td>0.492537</td>\n",
       "      <td>(0.4, 0.6]</td>\n",
       "      <td>18.581800</td>\n",
       "      <td>(14, 28]</td>\n",
       "      <td>0.580645</td>\n",
       "      <td>(0.3, 0.6]</td>\n",
       "      <td>0</td>\n",
       "      <td>0</td>\n",
       "    </tr>\n",
       "    <tr>\n",
       "      <th>0</th>\n",
       "      <td>359</td>\n",
       "      <td>0.730769</td>\n",
       "      <td>(0.4, 0.6]</td>\n",
       "      <td>8.975072</td>\n",
       "      <td>(14, 28]</td>\n",
       "      <td>0.611111</td>\n",
       "      <td>(0.3, 0.6]</td>\n",
       "      <td>1</td>\n",
       "      <td>1</td>\n",
       "    </tr>\n",
       "    <tr>\n",
       "      <th>1</th>\n",
       "      <td>533</td>\n",
       "      <td>0.738636</td>\n",
       "      <td>(0.6, 0.8]</td>\n",
       "      <td>17.373445</td>\n",
       "      <td>(14, 28]</td>\n",
       "      <td>0.697391</td>\n",
       "      <td>(0.6, 0.9]</td>\n",
       "      <td>0</td>\n",
       "      <td>2</td>\n",
       "    </tr>\n",
       "    <tr>\n",
       "      <th>1</th>\n",
       "      <td>533</td>\n",
       "      <td>0.616438</td>\n",
       "      <td>(0.6, 0.8]</td>\n",
       "      <td>17.080522</td>\n",
       "      <td>(14, 28]</td>\n",
       "      <td>0.494505</td>\n",
       "      <td>(0.6, 0.9]</td>\n",
       "      <td>1</td>\n",
       "      <td>3</td>\n",
       "    </tr>\n",
       "    <tr>\n",
       "      <th>2</th>\n",
       "      <td>608</td>\n",
       "      <td>0.458503</td>\n",
       "      <td>(0.4, 0.6]</td>\n",
       "      <td>22.298115</td>\n",
       "      <td>(14, 28]</td>\n",
       "      <td>0.642140</td>\n",
       "      <td>(0.6, 0.9]</td>\n",
       "      <td>0</td>\n",
       "      <td>4</td>\n",
       "    </tr>\n",
       "    <tr>\n",
       "      <th>...</th>\n",
       "      <td>...</td>\n",
       "      <td>...</td>\n",
       "      <td>...</td>\n",
       "      <td>...</td>\n",
       "      <td>...</td>\n",
       "      <td>...</td>\n",
       "      <td>...</td>\n",
       "      <td>...</td>\n",
       "      <td>...</td>\n",
       "    </tr>\n",
       "    <tr>\n",
       "      <th>95</th>\n",
       "      <td>234960</td>\n",
       "      <td>0.071429</td>\n",
       "      <td>(0.0, 0.2]</td>\n",
       "      <td>1.514781</td>\n",
       "      <td>(0, 14]</td>\n",
       "      <td>NaN</td>\n",
       "      <td>NaN</td>\n",
       "      <td>0</td>\n",
       "      <td>191</td>\n",
       "    </tr>\n",
       "    <tr>\n",
       "      <th>96</th>\n",
       "      <td>236431</td>\n",
       "      <td>0.000000</td>\n",
       "      <td>NaN</td>\n",
       "      <td>42.427387</td>\n",
       "      <td>(42, 56]</td>\n",
       "      <td>NaN</td>\n",
       "      <td>NaN</td>\n",
       "      <td>1</td>\n",
       "      <td>192</td>\n",
       "    </tr>\n",
       "    <tr>\n",
       "      <th>96</th>\n",
       "      <td>236431</td>\n",
       "      <td>0.000000</td>\n",
       "      <td>NaN</td>\n",
       "      <td>42.836071</td>\n",
       "      <td>(42, 56]</td>\n",
       "      <td>NaN</td>\n",
       "      <td>NaN</td>\n",
       "      <td>0</td>\n",
       "      <td>193</td>\n",
       "    </tr>\n",
       "    <tr>\n",
       "      <th>97</th>\n",
       "      <td>295028</td>\n",
       "      <td>0.192982</td>\n",
       "      <td>(0.0, 0.2]</td>\n",
       "      <td>23.016636</td>\n",
       "      <td>(14, 28]</td>\n",
       "      <td>NaN</td>\n",
       "      <td>NaN</td>\n",
       "      <td>0</td>\n",
       "      <td>194</td>\n",
       "    </tr>\n",
       "    <tr>\n",
       "      <th>97</th>\n",
       "      <td>295028</td>\n",
       "      <td>0.200000</td>\n",
       "      <td>(0.0, 0.2]</td>\n",
       "      <td>19.528102</td>\n",
       "      <td>(14, 28]</td>\n",
       "      <td>NaN</td>\n",
       "      <td>NaN</td>\n",
       "      <td>1</td>\n",
       "      <td>195</td>\n",
       "    </tr>\n",
       "  </tbody>\n",
       "</table>\n",
       "<p>196 rows × 9 columns</p>\n",
       "</div>"
      ],
      "text/plain": [
       "    20000_90   natProp natStartBins  ruralProp ruralStartBins   verProp   \n",
       "0        359  0.492537   (0.4, 0.6]  18.581800       (14, 28]  0.580645  \\\n",
       "0        359  0.730769   (0.4, 0.6]   8.975072       (14, 28]  0.611111   \n",
       "1        533  0.738636   (0.6, 0.8]  17.373445       (14, 28]  0.697391   \n",
       "1        533  0.616438   (0.6, 0.8]  17.080522       (14, 28]  0.494505   \n",
       "2        608  0.458503   (0.4, 0.6]  22.298115       (14, 28]  0.642140   \n",
       "..       ...       ...          ...        ...            ...       ...   \n",
       "95    234960  0.071429   (0.0, 0.2]   1.514781        (0, 14]       NaN   \n",
       "96    236431  0.000000          NaN  42.427387       (42, 56]       NaN   \n",
       "96    236431  0.000000          NaN  42.836071       (42, 56]       NaN   \n",
       "97    295028  0.192982   (0.0, 0.2]  23.016636       (14, 28]       NaN   \n",
       "97    295028  0.200000   (0.0, 0.2]  19.528102       (14, 28]       NaN   \n",
       "\n",
       "   verStartBins  time unit  \n",
       "0    (0.3, 0.6]     0    0  \n",
       "0    (0.3, 0.6]     1    1  \n",
       "1    (0.6, 0.9]     0    2  \n",
       "1    (0.6, 0.9]     1    3  \n",
       "2    (0.6, 0.9]     0    4  \n",
       "..          ...   ...  ...  \n",
       "95          NaN     0  191  \n",
       "96          NaN     1  192  \n",
       "96          NaN     0  193  \n",
       "97          NaN     0  194  \n",
       "97          NaN     1  195  \n",
       "\n",
       "[196 rows x 9 columns]"
      ]
     },
     "execution_count": 689,
     "metadata": {},
     "output_type": "execute_result"
    }
   ],
   "source": [
    "newDf"
   ]
  },
  {
   "cell_type": "code",
   "execution_count": 690,
   "metadata": {},
   "outputs": [
    {
     "name": "stderr",
     "output_type": "stream",
     "text": [
      "<ipython-input-690-17c7a8dd2092>:2: UserWarning: Ignoring `palette` because no `hue` variable has been assigned.\n",
      "  sns.relplot(data=newDf.reset_index(), x=\"time\", y=\"ruralProp\", kind=\"line\", palette=['#014636'])\n"
     ]
    },
    {
     "data": {
      "text/plain": [
       "Text(0.5, 1.0, '')"
      ]
     },
     "execution_count": 690,
     "metadata": {},
     "output_type": "execute_result"
    },
    {
     "data": {
      "image/png": "[encoded data removed]",
      "text/plain": [
       "<Figure size 360x360 with 1 Axes>"
      ]
     },
     "metadata": {
      "needs_background": "light"
     },
     "output_type": "display_data"
    }
   ],
   "source": [
    "#sns.relplot(data=newDf, x=\"time\", y=\"ruralProp\",  hue=\"ruralStartBins\", kind=\"line\", palette=['#fd8d3c','#fc4e2a','#e31a1c','#bd0026','#800026'])\n",
    "sns.relplot(data=newDf.reset_index(), x=\"time\", y=\"ruralProp\", kind=\"line\", palette=['#014636'])\n",
    "\n",
    "plt.xlabel(\"first day |---------------remaining coverage ------------>\")\n",
    "plt.ylabel(\"percent rural\")\n",
    "plt.xticks([0,1])\n",
    "\n",
    "plt.title(\"\")"
   ]
  },
  {
   "cell_type": "code",
   "execution_count": 691,
   "metadata": {},
   "outputs": [
    {
     "data": {
      "text/plain": [
       "Text(0.5, 1.0, '')"
      ]
     },
     "execution_count": 691,
     "metadata": {},
     "output_type": "execute_result"
    },
    {
     "data": {
      "image/png": "[encoded data removed]",
      "text/plain": [
       "<Figure size 437.25x360 with 1 Axes>"
      ]
     },
     "metadata": {
      "needs_background": "light"
     },
     "output_type": "display_data"
    }
   ],
   "source": [
    "#sns.relplot(data=newDf, x=\"time\", y=\"ruralProp\",  hue=\"ruralStartBins\", kind=\"line\", palette=['#fd8d3c','#fc4e2a','#e31a1c','#bd0026','#800026'])\n",
    "sns.relplot(data=newDf.reset_index(), x=\"time\", y=\"ruralProp\", hue=\"ruralStartBins\", kind=\"line\", palette=['#67a9cf','#3690c0','#02818a','#016c59','#014636'])\n",
    "\n",
    "plt.xlabel(\"first day |---------------remaining coverage ------------>\")\n",
    "plt.ylabel(\"percent rural\")\n",
    "plt.xticks([0,1])\n",
    "\n",
    "plt.title(\"\")"
   ]
  },
  {
   "cell_type": "code",
   "execution_count": 692,
   "metadata": {},
   "outputs": [],
   "source": [
    "#idea: try this with the last three days rather than all remaining coverage? "
   ]
  },
  {
   "cell_type": "code",
   "execution_count": 693,
   "metadata": {},
   "outputs": [
    {
     "name": "stderr",
     "output_type": "stream",
     "text": [
      "<ipython-input-693-97b93b9ccab6>:2: UserWarning: The palette list has more values (5) than needed (4), which may not be intended.\n",
      "  sns.relplot(data=newDf.reset_index(), x=\"time\", y=\"verProp\", hue=\"verStartBins\", kind=\"line\", palette=['#67a9cf','#3690c0','#02818a','#016c59','#014636'])\n"
     ]
    },
    {
     "data": {
      "text/plain": [
       "([<matplotlib.axis.XTick at 0x7fe1d9e357c0>,\n",
       "  <matplotlib.axis.XTick at 0x7fe1d9e35790>],\n",
       " [Text(0, 0, '0'), Text(1, 0, '1')])"
      ]
     },
     "execution_count": 693,
     "metadata": {},
     "output_type": "execute_result"
    },
    {
     "data": {
      "image/png": "[encoded data removed]",
      "text/plain": [
       "<Figure size 441.875x360 with 1 Axes>"
      ]
     },
     "metadata": {
      "needs_background": "light"
     },
     "output_type": "display_data"
    }
   ],
   "source": [
    "#sns.relplot(data=newDf, x=\"time\", y=\"ruralProp\",  hue=\"ruralStartBins\", kind=\"line\", palette=['#fd8d3c','#fc4e2a','#e31a1c','#bd0026','#800026'])\n",
    "sns.relplot(data=newDf.reset_index(), x=\"time\", y=\"verProp\", hue=\"verStartBins\", kind=\"line\", palette=['#67a9cf','#3690c0','#02818a','#016c59','#014636'])\n",
    "\n",
    "plt.xlabel(\"first day |---------------remaining coverage ------------>\")\n",
    "plt.ylabel(\"reliablity score (lower is better)\")\n",
    "plt.xticks([0,1])\n",
    "\n",
    "#coverage tends to get more reliable "
   ]
  },
  {
   "cell_type": "code",
   "execution_count": 694,
   "metadata": {},
   "outputs": [
    {
     "data": {
      "text/plain": [
       "ruralStartBins\n",
       "(14, 28]    51\n",
       "(0, 14]     31\n",
       "(28, 42]    10\n",
       "(42, 56]     3\n",
       "(56, 70]     2\n",
       "Name: count, dtype: int64"
      ]
     },
     "execution_count": 694,
     "metadata": {},
     "output_type": "execute_result"
    }
   ],
   "source": [
    "covChange[\"ruralStartBins\"].value_counts()"
   ]
  },
  {
   "cell_type": "code",
   "execution_count": 695,
   "metadata": {},
   "outputs": [],
   "source": [
    "#TODO: make same versions but with percentile cutoffs "
   ]
  },
  {
   "cell_type": "code",
   "execution_count": 618,
   "metadata": {},
   "outputs": [],
   "source": [
    "#can we track the entire lives of our storms in a nice way? \n",
    "stormSeries = merged.loc[merged[SCOL + \"_storm\"] == True, [\"date\", SCOL, \"key\", \"national\"]]\n",
    "fDays = stormSeries[[\"date\", SCOL]].groupby(SCOL).agg([min, max]).reset_index().droplevel(1, 1)\n",
    "fDays.columns = [SCOL, \"fDay\", \"lDay\"] #.rename(columns={\"date\":\"firstDay\"})"
   ]
  },
  {
   "cell_type": "code",
   "execution_count": 619,
   "metadata": {},
   "outputs": [],
   "source": [
    "stormSeries = pd.merge(fDays, stormSeries, on=SCOL)\n",
    "\n",
    "stormSeries[\"fNorm\"] = (stormSeries[\"date\"] - stormSeries[\"fDay\"]) / np.timedelta64(1, \"D\")\n",
    "#stormSeries[\"lNorm\"] = (stormSeries[\"date\"] - stormSeries[\"lDay\"]) / np.timedelta64(1, \"D\")\n",
    "\n",
    "stormSeries[\"propNorm\"] = stormSeries[\"fNorm\"] / ((stormSeries[\"lDay\"] - stormSeries[\"fDay\"]) / np.timedelta64(1, \"D\"))"
   ]
  },
  {
   "cell_type": "code",
   "execution_count": 620,
   "metadata": {},
   "outputs": [
    {
     "data": {
      "text/html": [
       "<div>\n",
       "<style scoped>\n",
       "    .dataframe tbody tr th:only-of-type {\n",
       "        vertical-align: middle;\n",
       "    }\n",
       "\n",
       "    .dataframe tbody tr th {\n",
       "        vertical-align: top;\n",
       "    }\n",
       "\n",
       "    .dataframe thead th {\n",
       "        text-align: right;\n",
       "    }\n",
       "</style>\n",
       "<table border=\"1\" class=\"dataframe\">\n",
       "  <thead>\n",
       "    <tr style=\"text-align: right;\">\n",
       "      <th></th>\n",
       "      <th>20000_90</th>\n",
       "      <th>fDay</th>\n",
       "      <th>lDay</th>\n",
       "      <th>date</th>\n",
       "      <th>key</th>\n",
       "      <th>national</th>\n",
       "      <th>fNorm</th>\n",
       "      <th>propNorm</th>\n",
       "    </tr>\n",
       "  </thead>\n",
       "  <tbody>\n",
       "    <tr>\n",
       "      <th>0</th>\n",
       "      <td>359</td>\n",
       "      <td>2020-07-07</td>\n",
       "      <td>2020-07-13</td>\n",
       "      <td>2020-07-07</td>\n",
       "      <td>2578047</td>\n",
       "      <td>True</td>\n",
       "      <td>0.0</td>\n",
       "      <td>0.000000</td>\n",
       "    </tr>\n",
       "    <tr>\n",
       "      <th>1</th>\n",
       "      <td>359</td>\n",
       "      <td>2020-07-07</td>\n",
       "      <td>2020-07-13</td>\n",
       "      <td>2020-07-07</td>\n",
       "      <td>2858153</td>\n",
       "      <td>True</td>\n",
       "      <td>0.0</td>\n",
       "      <td>0.000000</td>\n",
       "    </tr>\n",
       "    <tr>\n",
       "      <th>2</th>\n",
       "      <td>359</td>\n",
       "      <td>2020-07-07</td>\n",
       "      <td>2020-07-13</td>\n",
       "      <td>2020-07-07</td>\n",
       "      <td>3157398</td>\n",
       "      <td>True</td>\n",
       "      <td>0.0</td>\n",
       "      <td>0.000000</td>\n",
       "    </tr>\n",
       "    <tr>\n",
       "      <th>3</th>\n",
       "      <td>359</td>\n",
       "      <td>2020-07-07</td>\n",
       "      <td>2020-07-13</td>\n",
       "      <td>2020-07-07</td>\n",
       "      <td>2890987</td>\n",
       "      <td>True</td>\n",
       "      <td>0.0</td>\n",
       "      <td>0.000000</td>\n",
       "    </tr>\n",
       "    <tr>\n",
       "      <th>4</th>\n",
       "      <td>359</td>\n",
       "      <td>2020-07-07</td>\n",
       "      <td>2020-07-13</td>\n",
       "      <td>2020-07-07</td>\n",
       "      <td>2532064</td>\n",
       "      <td>True</td>\n",
       "      <td>0.0</td>\n",
       "      <td>0.000000</td>\n",
       "    </tr>\n",
       "    <tr>\n",
       "      <th>...</th>\n",
       "      <td>...</td>\n",
       "      <td>...</td>\n",
       "      <td>...</td>\n",
       "      <td>...</td>\n",
       "      <td>...</td>\n",
       "      <td>...</td>\n",
       "      <td>...</td>\n",
       "      <td>...</td>\n",
       "    </tr>\n",
       "    <tr>\n",
       "      <th>20401</th>\n",
       "      <td>295028</td>\n",
       "      <td>2021-12-05</td>\n",
       "      <td>2021-12-23</td>\n",
       "      <td>2021-12-22</td>\n",
       "      <td>1202929</td>\n",
       "      <td>False</td>\n",
       "      <td>17.0</td>\n",
       "      <td>0.944444</td>\n",
       "    </tr>\n",
       "    <tr>\n",
       "      <th>20402</th>\n",
       "      <td>295028</td>\n",
       "      <td>2021-12-05</td>\n",
       "      <td>2021-12-23</td>\n",
       "      <td>2021-12-22</td>\n",
       "      <td>3936735</td>\n",
       "      <td>True</td>\n",
       "      <td>17.0</td>\n",
       "      <td>0.944444</td>\n",
       "    </tr>\n",
       "    <tr>\n",
       "      <th>20403</th>\n",
       "      <td>295028</td>\n",
       "      <td>2021-12-05</td>\n",
       "      <td>2021-12-23</td>\n",
       "      <td>2021-12-22</td>\n",
       "      <td>1202374</td>\n",
       "      <td>False</td>\n",
       "      <td>17.0</td>\n",
       "      <td>0.944444</td>\n",
       "    </tr>\n",
       "    <tr>\n",
       "      <th>20404</th>\n",
       "      <td>295028</td>\n",
       "      <td>2021-12-05</td>\n",
       "      <td>2021-12-23</td>\n",
       "      <td>2021-12-22</td>\n",
       "      <td>1202340</td>\n",
       "      <td>False</td>\n",
       "      <td>17.0</td>\n",
       "      <td>0.944444</td>\n",
       "    </tr>\n",
       "    <tr>\n",
       "      <th>20405</th>\n",
       "      <td>295028</td>\n",
       "      <td>2021-12-05</td>\n",
       "      <td>2021-12-23</td>\n",
       "      <td>2021-12-23</td>\n",
       "      <td>3936756</td>\n",
       "      <td>True</td>\n",
       "      <td>18.0</td>\n",
       "      <td>1.000000</td>\n",
       "    </tr>\n",
       "  </tbody>\n",
       "</table>\n",
       "<p>20406 rows × 8 columns</p>\n",
       "</div>"
      ],
      "text/plain": [
       "       20000_90       fDay       lDay       date      key  national  fNorm   \n",
       "0           359 2020-07-07 2020-07-13 2020-07-07  2578047      True    0.0  \\\n",
       "1           359 2020-07-07 2020-07-13 2020-07-07  2858153      True    0.0   \n",
       "2           359 2020-07-07 2020-07-13 2020-07-07  3157398      True    0.0   \n",
       "3           359 2020-07-07 2020-07-13 2020-07-07  2890987      True    0.0   \n",
       "4           359 2020-07-07 2020-07-13 2020-07-07  2532064      True    0.0   \n",
       "...         ...        ...        ...        ...      ...       ...    ...   \n",
       "20401    295028 2021-12-05 2021-12-23 2021-12-22  1202929     False   17.0   \n",
       "20402    295028 2021-12-05 2021-12-23 2021-12-22  3936735      True   17.0   \n",
       "20403    295028 2021-12-05 2021-12-23 2021-12-22  1202374     False   17.0   \n",
       "20404    295028 2021-12-05 2021-12-23 2021-12-22  1202340     False   17.0   \n",
       "20405    295028 2021-12-05 2021-12-23 2021-12-23  3936756      True   18.0   \n",
       "\n",
       "       propNorm  \n",
       "0      0.000000  \n",
       "1      0.000000  \n",
       "2      0.000000  \n",
       "3      0.000000  \n",
       "4      0.000000  \n",
       "...         ...  \n",
       "20401  0.944444  \n",
       "20402  0.944444  \n",
       "20403  0.944444  \n",
       "20404  0.944444  \n",
       "20405  1.000000  \n",
       "\n",
       "[20406 rows x 8 columns]"
      ]
     },
     "execution_count": 620,
     "metadata": {},
     "output_type": "execute_result"
    }
   ],
   "source": [
    "stormSeries"
   ]
  },
  {
   "cell_type": "code",
   "execution_count": 621,
   "metadata": {},
   "outputs": [
    {
     "data": {
      "text/html": [
       "<div>\n",
       "<style scoped>\n",
       "    .dataframe tbody tr th:only-of-type {\n",
       "        vertical-align: middle;\n",
       "    }\n",
       "\n",
       "    .dataframe tbody tr th {\n",
       "        vertical-align: top;\n",
       "    }\n",
       "\n",
       "    .dataframe thead th {\n",
       "        text-align: right;\n",
       "    }\n",
       "</style>\n",
       "<table border=\"1\" class=\"dataframe\">\n",
       "  <thead>\n",
       "    <tr style=\"text-align: right;\">\n",
       "      <th></th>\n",
       "      <th>20000_90</th>\n",
       "      <th>fDay</th>\n",
       "      <th>lDay</th>\n",
       "      <th>date</th>\n",
       "      <th>key</th>\n",
       "      <th>national</th>\n",
       "      <th>fNorm</th>\n",
       "      <th>propNorm</th>\n",
       "    </tr>\n",
       "  </thead>\n",
       "  <tbody>\n",
       "    <tr>\n",
       "      <th>0</th>\n",
       "      <td>359</td>\n",
       "      <td>2020-07-07</td>\n",
       "      <td>2020-07-13</td>\n",
       "      <td>2020-07-07</td>\n",
       "      <td>2578047</td>\n",
       "      <td>True</td>\n",
       "      <td>0.0</td>\n",
       "      <td>0.000000</td>\n",
       "    </tr>\n",
       "    <tr>\n",
       "      <th>1</th>\n",
       "      <td>359</td>\n",
       "      <td>2020-07-07</td>\n",
       "      <td>2020-07-13</td>\n",
       "      <td>2020-07-07</td>\n",
       "      <td>2858153</td>\n",
       "      <td>True</td>\n",
       "      <td>0.0</td>\n",
       "      <td>0.000000</td>\n",
       "    </tr>\n",
       "    <tr>\n",
       "      <th>2</th>\n",
       "      <td>359</td>\n",
       "      <td>2020-07-07</td>\n",
       "      <td>2020-07-13</td>\n",
       "      <td>2020-07-07</td>\n",
       "      <td>3157398</td>\n",
       "      <td>True</td>\n",
       "      <td>0.0</td>\n",
       "      <td>0.000000</td>\n",
       "    </tr>\n",
       "    <tr>\n",
       "      <th>3</th>\n",
       "      <td>359</td>\n",
       "      <td>2020-07-07</td>\n",
       "      <td>2020-07-13</td>\n",
       "      <td>2020-07-07</td>\n",
       "      <td>2890987</td>\n",
       "      <td>True</td>\n",
       "      <td>0.0</td>\n",
       "      <td>0.000000</td>\n",
       "    </tr>\n",
       "    <tr>\n",
       "      <th>4</th>\n",
       "      <td>359</td>\n",
       "      <td>2020-07-07</td>\n",
       "      <td>2020-07-13</td>\n",
       "      <td>2020-07-07</td>\n",
       "      <td>2532064</td>\n",
       "      <td>True</td>\n",
       "      <td>0.0</td>\n",
       "      <td>0.000000</td>\n",
       "    </tr>\n",
       "    <tr>\n",
       "      <th>...</th>\n",
       "      <td>...</td>\n",
       "      <td>...</td>\n",
       "      <td>...</td>\n",
       "      <td>...</td>\n",
       "      <td>...</td>\n",
       "      <td>...</td>\n",
       "      <td>...</td>\n",
       "      <td>...</td>\n",
       "    </tr>\n",
       "    <tr>\n",
       "      <th>20401</th>\n",
       "      <td>295028</td>\n",
       "      <td>2021-12-05</td>\n",
       "      <td>2021-12-23</td>\n",
       "      <td>2021-12-22</td>\n",
       "      <td>1202929</td>\n",
       "      <td>False</td>\n",
       "      <td>17.0</td>\n",
       "      <td>0.944444</td>\n",
       "    </tr>\n",
       "    <tr>\n",
       "      <th>20402</th>\n",
       "      <td>295028</td>\n",
       "      <td>2021-12-05</td>\n",
       "      <td>2021-12-23</td>\n",
       "      <td>2021-12-22</td>\n",
       "      <td>3936735</td>\n",
       "      <td>True</td>\n",
       "      <td>17.0</td>\n",
       "      <td>0.944444</td>\n",
       "    </tr>\n",
       "    <tr>\n",
       "      <th>20403</th>\n",
       "      <td>295028</td>\n",
       "      <td>2021-12-05</td>\n",
       "      <td>2021-12-23</td>\n",
       "      <td>2021-12-22</td>\n",
       "      <td>1202374</td>\n",
       "      <td>False</td>\n",
       "      <td>17.0</td>\n",
       "      <td>0.944444</td>\n",
       "    </tr>\n",
       "    <tr>\n",
       "      <th>20404</th>\n",
       "      <td>295028</td>\n",
       "      <td>2021-12-05</td>\n",
       "      <td>2021-12-23</td>\n",
       "      <td>2021-12-22</td>\n",
       "      <td>1202340</td>\n",
       "      <td>False</td>\n",
       "      <td>17.0</td>\n",
       "      <td>0.944444</td>\n",
       "    </tr>\n",
       "    <tr>\n",
       "      <th>20405</th>\n",
       "      <td>295028</td>\n",
       "      <td>2021-12-05</td>\n",
       "      <td>2021-12-23</td>\n",
       "      <td>2021-12-23</td>\n",
       "      <td>3936756</td>\n",
       "      <td>True</td>\n",
       "      <td>18.0</td>\n",
       "      <td>1.000000</td>\n",
       "    </tr>\n",
       "  </tbody>\n",
       "</table>\n",
       "<p>20406 rows × 8 columns</p>\n",
       "</div>"
      ],
      "text/plain": [
       "       20000_90       fDay       lDay       date      key  national  fNorm   \n",
       "0           359 2020-07-07 2020-07-13 2020-07-07  2578047      True    0.0  \\\n",
       "1           359 2020-07-07 2020-07-13 2020-07-07  2858153      True    0.0   \n",
       "2           359 2020-07-07 2020-07-13 2020-07-07  3157398      True    0.0   \n",
       "3           359 2020-07-07 2020-07-13 2020-07-07  2890987      True    0.0   \n",
       "4           359 2020-07-07 2020-07-13 2020-07-07  2532064      True    0.0   \n",
       "...         ...        ...        ...        ...      ...       ...    ...   \n",
       "20401    295028 2021-12-05 2021-12-23 2021-12-22  1202929     False   17.0   \n",
       "20402    295028 2021-12-05 2021-12-23 2021-12-22  3936735      True   17.0   \n",
       "20403    295028 2021-12-05 2021-12-23 2021-12-22  1202374     False   17.0   \n",
       "20404    295028 2021-12-05 2021-12-23 2021-12-22  1202340     False   17.0   \n",
       "20405    295028 2021-12-05 2021-12-23 2021-12-23  3936756      True   18.0   \n",
       "\n",
       "       propNorm  \n",
       "0      0.000000  \n",
       "1      0.000000  \n",
       "2      0.000000  \n",
       "3      0.000000  \n",
       "4      0.000000  \n",
       "...         ...  \n",
       "20401  0.944444  \n",
       "20402  0.944444  \n",
       "20403  0.944444  \n",
       "20404  0.944444  \n",
       "20405  1.000000  \n",
       "\n",
       "[20406 rows x 8 columns]"
      ]
     },
     "execution_count": 621,
     "metadata": {},
     "output_type": "execute_result"
    }
   ],
   "source": [
    "stormSeries"
   ]
  },
  {
   "cell_type": "code",
   "execution_count": 626,
   "metadata": {},
   "outputs": [
    {
     "data": {
      "text/plain": [
       "<Axes: xlabel='propNorm', ylabel='national'>"
      ]
     },
     "execution_count": 626,
     "metadata": {},
     "output_type": "execute_result"
    },
    {
     "data": {
      "image/png": "[encoded data removed]",
      "text/plain": [
       "<Figure size 432x288 with 1 Axes>"
      ]
     },
     "metadata": {
      "needs_background": "light"
     },
     "output_type": "display_data"
    }
   ],
   "source": [
    "natSeries = stormSeries[[SCOL, \"propNorm\", \"national\"]].groupby([SCOL, \"propNorm\"]).agg(np.mean).reset_index()\n",
    "sns.lineplot(data=natSeries, x=\"propNorm\", y = \"national\", hue=SCOL, legend=False)"
   ]
  },
  {
   "cell_type": "code",
   "execution_count": 663,
   "metadata": {},
   "outputs": [
    {
     "data": {
      "text/html": [
       "<div>\n",
       "<style scoped>\n",
       "    .dataframe tbody tr th:only-of-type {\n",
       "        vertical-align: middle;\n",
       "    }\n",
       "\n",
       "    .dataframe tbody tr th {\n",
       "        vertical-align: top;\n",
       "    }\n",
       "\n",
       "    .dataframe thead th {\n",
       "        text-align: right;\n",
       "    }\n",
       "</style>\n",
       "<table border=\"1\" class=\"dataframe\">\n",
       "  <thead>\n",
       "    <tr style=\"text-align: right;\">\n",
       "      <th></th>\n",
       "      <th>Unnamed: 0.2</th>\n",
       "      <th>Unnamed: 0.1</th>\n",
       "      <th>key</th>\n",
       "      <th>local_id</th>\n",
       "      <th>sourcedomain_id</th>\n",
       "      <th>date</th>\n",
       "      <th>title</th>\n",
       "      <th>content</th>\n",
       "      <th>url</th>\n",
       "      <th>fips</th>\n",
       "      <th>...</th>\n",
       "      <th>logodds_Trump16</th>\n",
       "      <th>logodds_Romney12</th>\n",
       "      <th>20000_90_average_pct</th>\n",
       "      <th>20000_90_num_over_cutoff</th>\n",
       "      <th>20000_90_storm_source</th>\n",
       "      <th>20000_90_storm</th>\n",
       "      <th>verLab</th>\n",
       "      <th>nArts</th>\n",
       "      <th>storyLen</th>\n",
       "      <th>sqrt_pop</th>\n",
       "    </tr>\n",
       "  </thead>\n",
       "  <tbody>\n",
       "    <tr>\n",
       "      <th>0</th>\n",
       "      <td>0</td>\n",
       "      <td>2428066</td>\n",
       "      <td>2428066</td>\n",
       "      <td>NaN</td>\n",
       "      <td>NaN</td>\n",
       "      <td>2020-01-01</td>\n",
       "      <td>Five new 2020 coins revealed including VE Day ...</td>\n",
       "      <td>TEAM GB and the 75th anniversary of VE Day are...</td>\n",
       "      <td>https://www.thesun.co.uk/money/10647576/new-20...</td>\n",
       "      <td>NaN</td>\n",
       "      <td>...</td>\n",
       "      <td>NaN</td>\n",
       "      <td>NaN</td>\n",
       "      <td>NaN</td>\n",
       "      <td>NaN</td>\n",
       "      <td>NaN</td>\n",
       "      <td>False</td>\n",
       "      <td>2.0</td>\n",
       "      <td>1</td>\n",
       "      <td>0.0</td>\n",
       "      <td>NaN</td>\n",
       "    </tr>\n",
       "    <tr>\n",
       "      <th>1</th>\n",
       "      <td>1</td>\n",
       "      <td>2283486</td>\n",
       "      <td>2283486</td>\n",
       "      <td>NaN</td>\n",
       "      <td>NaN</td>\n",
       "      <td>2020-01-01</td>\n",
       "      <td>20 YEARS: A SYNDICATION ANNIVERSARY REFLECTION</td>\n",
       "      <td>The close of 2019 marks two full decades since...</td>\n",
       "      <td>http://michellemalkin.com/2019/12/31/20-years-...</td>\n",
       "      <td>NaN</td>\n",
       "      <td>...</td>\n",
       "      <td>NaN</td>\n",
       "      <td>NaN</td>\n",
       "      <td>NaN</td>\n",
       "      <td>NaN</td>\n",
       "      <td>NaN</td>\n",
       "      <td>False</td>\n",
       "      <td>NaN</td>\n",
       "      <td>1</td>\n",
       "      <td>0.0</td>\n",
       "      <td>NaN</td>\n",
       "    </tr>\n",
       "    <tr>\n",
       "      <th>2</th>\n",
       "      <td>2</td>\n",
       "      <td>1543217</td>\n",
       "      <td>1543217</td>\n",
       "      <td>NaN</td>\n",
       "      <td>NaN</td>\n",
       "      <td>2020-01-01</td>\n",
       "      <td>French chef loses MICHELIN suit over star demo...</td>\n",
       "      <td>The showman chef , known as much for his ubiqu...</td>\n",
       "      <td>http://feedproxy.google.com/~r/DrudgeReportFee...</td>\n",
       "      <td>NaN</td>\n",
       "      <td>...</td>\n",
       "      <td>NaN</td>\n",
       "      <td>NaN</td>\n",
       "      <td>NaN</td>\n",
       "      <td>NaN</td>\n",
       "      <td>NaN</td>\n",
       "      <td>False</td>\n",
       "      <td>NaN</td>\n",
       "      <td>1</td>\n",
       "      <td>0.0</td>\n",
       "      <td>NaN</td>\n",
       "    </tr>\n",
       "    <tr>\n",
       "      <th>3</th>\n",
       "      <td>3</td>\n",
       "      <td>1543216</td>\n",
       "      <td>1543216</td>\n",
       "      <td>NaN</td>\n",
       "      <td>NaN</td>\n",
       "      <td>2020-01-01</td>\n",
       "      <td>Hunt for 'insane' simian who attacked hundred ...</td>\n",
       "      <td>A wild monkey is bringing terror to an Indian ...</td>\n",
       "      <td>http://feedproxy.google.com/~r/DrudgeReportFee...</td>\n",
       "      <td>NaN</td>\n",
       "      <td>...</td>\n",
       "      <td>NaN</td>\n",
       "      <td>NaN</td>\n",
       "      <td>NaN</td>\n",
       "      <td>NaN</td>\n",
       "      <td>NaN</td>\n",
       "      <td>False</td>\n",
       "      <td>NaN</td>\n",
       "      <td>1</td>\n",
       "      <td>0.0</td>\n",
       "      <td>NaN</td>\n",
       "    </tr>\n",
       "    <tr>\n",
       "      <th>4</th>\n",
       "      <td>4</td>\n",
       "      <td>1543215</td>\n",
       "      <td>1543215</td>\n",
       "      <td>NaN</td>\n",
       "      <td>NaN</td>\n",
       "      <td>2020-01-01</td>\n",
       "      <td>Furry, cute, drooling herpes: What to do with ...</td>\n",
       "      <td>Visitors to Florida ’ s picturesque Silver Spr...</td>\n",
       "      <td>http://feedproxy.google.com/~r/DrudgeReportFee...</td>\n",
       "      <td>NaN</td>\n",
       "      <td>...</td>\n",
       "      <td>NaN</td>\n",
       "      <td>NaN</td>\n",
       "      <td>NaN</td>\n",
       "      <td>NaN</td>\n",
       "      <td>NaN</td>\n",
       "      <td>False</td>\n",
       "      <td>NaN</td>\n",
       "      <td>1</td>\n",
       "      <td>0.0</td>\n",
       "      <td>NaN</td>\n",
       "    </tr>\n",
       "    <tr>\n",
       "      <th>...</th>\n",
       "      <td>...</td>\n",
       "      <td>...</td>\n",
       "      <td>...</td>\n",
       "      <td>...</td>\n",
       "      <td>...</td>\n",
       "      <td>...</td>\n",
       "      <td>...</td>\n",
       "      <td>...</td>\n",
       "      <td>...</td>\n",
       "      <td>...</td>\n",
       "      <td>...</td>\n",
       "      <td>...</td>\n",
       "      <td>...</td>\n",
       "      <td>...</td>\n",
       "      <td>...</td>\n",
       "      <td>...</td>\n",
       "      <td>...</td>\n",
       "      <td>...</td>\n",
       "      <td>...</td>\n",
       "      <td>...</td>\n",
       "      <td>...</td>\n",
       "    </tr>\n",
       "    <tr>\n",
       "      <th>4582893</th>\n",
       "      <td>4567463</td>\n",
       "      <td>3804678</td>\n",
       "      <td>3804678</td>\n",
       "      <td>NaN</td>\n",
       "      <td>NaN</td>\n",
       "      <td>2021-12-31</td>\n",
       "      <td>Reports: Colorado Wildfires Are Most Destructi...</td>\n",
       "      <td>Colorado ’ s wildfires are shaping up to be th...</td>\n",
       "      <td>https://www.breitbart.com/weather/2021/12/31/r...</td>\n",
       "      <td>NaN</td>\n",
       "      <td>...</td>\n",
       "      <td>NaN</td>\n",
       "      <td>NaN</td>\n",
       "      <td>NaN</td>\n",
       "      <td>NaN</td>\n",
       "      <td>NaN</td>\n",
       "      <td>False</td>\n",
       "      <td>1.0</td>\n",
       "      <td>1</td>\n",
       "      <td>0.0</td>\n",
       "      <td>NaN</td>\n",
       "    </tr>\n",
       "    <tr>\n",
       "      <th>4582894</th>\n",
       "      <td>4567464</td>\n",
       "      <td>3804677</td>\n",
       "      <td>3804677</td>\n",
       "      <td>NaN</td>\n",
       "      <td>NaN</td>\n",
       "      <td>2021-12-31</td>\n",
       "      <td>Police: Disabled Man, Caregivers Zip-Tied amid...</td>\n",
       "      <td>A disabled man , his child , and the people ca...</td>\n",
       "      <td>https://www.breitbart.com/crime/2021/12/31/pol...</td>\n",
       "      <td>NaN</td>\n",
       "      <td>...</td>\n",
       "      <td>NaN</td>\n",
       "      <td>NaN</td>\n",
       "      <td>NaN</td>\n",
       "      <td>NaN</td>\n",
       "      <td>NaN</td>\n",
       "      <td>False</td>\n",
       "      <td>1.0</td>\n",
       "      <td>1</td>\n",
       "      <td>0.0</td>\n",
       "      <td>NaN</td>\n",
       "    </tr>\n",
       "    <tr>\n",
       "      <th>4582895</th>\n",
       "      <td>4567465</td>\n",
       "      <td>3804676</td>\n",
       "      <td>3804676</td>\n",
       "      <td>NaN</td>\n",
       "      <td>NaN</td>\n",
       "      <td>2021-12-31</td>\n",
       "      <td>Joe Biden, with Help from GOP, Resettles Over ...</td>\n",
       "      <td>President Joe Biden has resettled more than 52...</td>\n",
       "      <td>https://www.breitbart.com/podcast/2021/12/31/j...</td>\n",
       "      <td>NaN</td>\n",
       "      <td>...</td>\n",
       "      <td>NaN</td>\n",
       "      <td>NaN</td>\n",
       "      <td>NaN</td>\n",
       "      <td>NaN</td>\n",
       "      <td>NaN</td>\n",
       "      <td>False</td>\n",
       "      <td>1.0</td>\n",
       "      <td>1</td>\n",
       "      <td>0.0</td>\n",
       "      <td>NaN</td>\n",
       "    </tr>\n",
       "    <tr>\n",
       "      <th>4582896</th>\n",
       "      <td>4567466</td>\n",
       "      <td>3925800</td>\n",
       "      <td>3925800</td>\n",
       "      <td>NaN</td>\n",
       "      <td>NaN</td>\n",
       "      <td>2021-12-31</td>\n",
       "      <td>Ghislaine Maxwell’s Conviction Is Welcome But ...</td>\n",
       "      <td>Ghislaine Maxwell ’ s Conviction Is Welcome Bu...</td>\n",
       "      <td>https://thewashingtonstandard.com/ghislaine-ma...</td>\n",
       "      <td>NaN</td>\n",
       "      <td>...</td>\n",
       "      <td>NaN</td>\n",
       "      <td>NaN</td>\n",
       "      <td>NaN</td>\n",
       "      <td>NaN</td>\n",
       "      <td>NaN</td>\n",
       "      <td>False</td>\n",
       "      <td>1.0</td>\n",
       "      <td>3</td>\n",
       "      <td>0.0</td>\n",
       "      <td>NaN</td>\n",
       "    </tr>\n",
       "    <tr>\n",
       "      <th>4582897</th>\n",
       "      <td>4567467</td>\n",
       "      <td>3580090</td>\n",
       "      <td>3580090</td>\n",
       "      <td>NaN</td>\n",
       "      <td>NaN</td>\n",
       "      <td>2021-12-31</td>\n",
       "      <td>New Year’s Day could break temperature record ...</td>\n",
       "      <td>Temperatures on New Year ’ s Day could break r...</td>\n",
       "      <td>https://www.independent.co.uk/news/uk/met-offi...</td>\n",
       "      <td>NaN</td>\n",
       "      <td>...</td>\n",
       "      <td>NaN</td>\n",
       "      <td>NaN</td>\n",
       "      <td>NaN</td>\n",
       "      <td>NaN</td>\n",
       "      <td>NaN</td>\n",
       "      <td>False</td>\n",
       "      <td>2.0</td>\n",
       "      <td>2</td>\n",
       "      <td>0.0</td>\n",
       "      <td>NaN</td>\n",
       "    </tr>\n",
       "  </tbody>\n",
       "</table>\n",
       "<p>4582898 rows × 62 columns</p>\n",
       "</div>"
      ],
      "text/plain": [
       "         Unnamed: 0.2  Unnamed: 0.1      key local_id sourcedomain_id   \n",
       "0                   0       2428066  2428066      NaN             NaN  \\\n",
       "1                   1       2283486  2283486      NaN             NaN   \n",
       "2                   2       1543217  1543217      NaN             NaN   \n",
       "3                   3       1543216  1543216      NaN             NaN   \n",
       "4                   4       1543215  1543215      NaN             NaN   \n",
       "...               ...           ...      ...      ...             ...   \n",
       "4582893       4567463       3804678  3804678      NaN             NaN   \n",
       "4582894       4567464       3804677  3804677      NaN             NaN   \n",
       "4582895       4567465       3804676  3804676      NaN             NaN   \n",
       "4582896       4567466       3925800  3925800      NaN             NaN   \n",
       "4582897       4567467       3580090  3580090      NaN             NaN   \n",
       "\n",
       "              date                                              title   \n",
       "0       2020-01-01  Five new 2020 coins revealed including VE Day ...  \\\n",
       "1       2020-01-01     20 YEARS: A SYNDICATION ANNIVERSARY REFLECTION   \n",
       "2       2020-01-01  French chef loses MICHELIN suit over star demo...   \n",
       "3       2020-01-01  Hunt for 'insane' simian who attacked hundred ...   \n",
       "4       2020-01-01  Furry, cute, drooling herpes: What to do with ...   \n",
       "...            ...                                                ...   \n",
       "4582893 2021-12-31  Reports: Colorado Wildfires Are Most Destructi...   \n",
       "4582894 2021-12-31  Police: Disabled Man, Caregivers Zip-Tied amid...   \n",
       "4582895 2021-12-31  Joe Biden, with Help from GOP, Resettles Over ...   \n",
       "4582896 2021-12-31  Ghislaine Maxwell’s Conviction Is Welcome But ...   \n",
       "4582897 2021-12-31  New Year’s Day could break temperature record ...   \n",
       "\n",
       "                                                   content   \n",
       "0        TEAM GB and the 75th anniversary of VE Day are...  \\\n",
       "1        The close of 2019 marks two full decades since...   \n",
       "2        The showman chef , known as much for his ubiqu...   \n",
       "3        A wild monkey is bringing terror to an Indian ...   \n",
       "4        Visitors to Florida ’ s picturesque Silver Spr...   \n",
       "...                                                    ...   \n",
       "4582893  Colorado ’ s wildfires are shaping up to be th...   \n",
       "4582894  A disabled man , his child , and the people ca...   \n",
       "4582895  President Joe Biden has resettled more than 52...   \n",
       "4582896  Ghislaine Maxwell ’ s Conviction Is Welcome Bu...   \n",
       "4582897  Temperatures on New Year ’ s Day could break r...   \n",
       "\n",
       "                                                       url  fips  ...   \n",
       "0        https://www.thesun.co.uk/money/10647576/new-20...   NaN  ...  \\\n",
       "1        http://michellemalkin.com/2019/12/31/20-years-...   NaN  ...   \n",
       "2        http://feedproxy.google.com/~r/DrudgeReportFee...   NaN  ...   \n",
       "3        http://feedproxy.google.com/~r/DrudgeReportFee...   NaN  ...   \n",
       "4        http://feedproxy.google.com/~r/DrudgeReportFee...   NaN  ...   \n",
       "...                                                    ...   ...  ...   \n",
       "4582893  https://www.breitbart.com/weather/2021/12/31/r...   NaN  ...   \n",
       "4582894  https://www.breitbart.com/crime/2021/12/31/pol...   NaN  ...   \n",
       "4582895  https://www.breitbart.com/podcast/2021/12/31/j...   NaN  ...   \n",
       "4582896  https://thewashingtonstandard.com/ghislaine-ma...   NaN  ...   \n",
       "4582897  https://www.independent.co.uk/news/uk/met-offi...   NaN  ...   \n",
       "\n",
       "        logodds_Trump16 logodds_Romney12 20000_90_average_pct   \n",
       "0                   NaN              NaN                  NaN  \\\n",
       "1                   NaN              NaN                  NaN   \n",
       "2                   NaN              NaN                  NaN   \n",
       "3                   NaN              NaN                  NaN   \n",
       "4                   NaN              NaN                  NaN   \n",
       "...                 ...              ...                  ...   \n",
       "4582893             NaN              NaN                  NaN   \n",
       "4582894             NaN              NaN                  NaN   \n",
       "4582895             NaN              NaN                  NaN   \n",
       "4582896             NaN              NaN                  NaN   \n",
       "4582897             NaN              NaN                  NaN   \n",
       "\n",
       "         20000_90_num_over_cutoff 20000_90_storm_source 20000_90_storm   \n",
       "0                             NaN                   NaN          False  \\\n",
       "1                             NaN                   NaN          False   \n",
       "2                             NaN                   NaN          False   \n",
       "3                             NaN                   NaN          False   \n",
       "4                             NaN                   NaN          False   \n",
       "...                           ...                   ...            ...   \n",
       "4582893                       NaN                   NaN          False   \n",
       "4582894                       NaN                   NaN          False   \n",
       "4582895                       NaN                   NaN          False   \n",
       "4582896                       NaN                   NaN          False   \n",
       "4582897                       NaN                   NaN          False   \n",
       "\n",
       "         verLab  nArts storyLen  sqrt_pop  \n",
       "0           2.0      1      0.0       NaN  \n",
       "1           NaN      1      0.0       NaN  \n",
       "2           NaN      1      0.0       NaN  \n",
       "3           NaN      1      0.0       NaN  \n",
       "4           NaN      1      0.0       NaN  \n",
       "...         ...    ...      ...       ...  \n",
       "4582893     1.0      1      0.0       NaN  \n",
       "4582894     1.0      1      0.0       NaN  \n",
       "4582895     1.0      1      0.0       NaN  \n",
       "4582896     1.0      3      0.0       NaN  \n",
       "4582897     2.0      2      0.0       NaN  \n",
       "\n",
       "[4582898 rows x 62 columns]"
      ]
     },
     "execution_count": 663,
     "metadata": {},
     "output_type": "execute_result"
    }
   ],
   "source": [
    "#fDay versus last day? \n",
    "#first 3 versus last 3 \n",
    "merged"
   ]
  },
  {
   "cell_type": "code",
   "execution_count": null,
   "metadata": {},
   "outputs": [],
   "source": []
  }
 ],
 "metadata": {
  "kernelspec": {
   "display_name": "Python 3",
   "language": "python",
   "name": "python3"
  },
  "language_info": {
   "codemirror_mode": {
    "name": "ipython",
    "version": 3
   },
   "file_extension": ".py",
   "mimetype": "text/x-python",
   "name": "python",
   "nbconvert_exporter": "python",
   "pygments_lexer": "ipython3",
   "version": "3.8.5"
  }
 },
 "nbformat": 4,
 "nbformat_minor": 4
}
