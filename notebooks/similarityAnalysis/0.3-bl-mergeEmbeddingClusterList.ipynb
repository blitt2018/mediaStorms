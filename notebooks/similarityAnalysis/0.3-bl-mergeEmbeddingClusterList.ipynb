{
 "cells": [
  {
   "cell_type": "markdown",
   "metadata": {},
   "source": [
    "## Merge Cluster Numbers with Original Data\n"
   ]
  },
  {
   "cell_type": "code",
   "execution_count": 1,
   "metadata": {},
   "outputs": [],
   "source": [
    "import pandas as pd"
   ]
  },
  {
   "cell_type": "code",
   "execution_count": 2,
   "metadata": {},
   "outputs": [],
   "source": [
    "CLUST_NUMS = \"/shared/3/projects/newsDiffusion/data/interim/NEREmbedding/embeddingClusterList2020.pkl\"\n",
    "DF_PATH = \"/shared/3/projects/newsDiffusion/data/processed/newsData/fullDataWithNER.tsv\"\n",
    "OUT_PATH = \"/shared/3/projects/newsDiffusion/data/processed/fullDataWithClustNums.tsv\""
   ]
  },
  {
   "cell_type": "code",
   "execution_count": 3,
   "metadata": {},
   "outputs": [
    {
     "data": {
      "text/html": [
       "<div>\n",
       "<style scoped>\n",
       "    .dataframe tbody tr th:only-of-type {\n",
       "        vertical-align: middle;\n",
       "    }\n",
       "\n",
       "    .dataframe tbody tr th {\n",
       "        vertical-align: top;\n",
       "    }\n",
       "\n",
       "    .dataframe thead th {\n",
       "        text-align: right;\n",
       "    }\n",
       "</style>\n",
       "<table border=\"1\" class=\"dataframe\">\n",
       "  <thead>\n",
       "    <tr style=\"text-align: right;\">\n",
       "      <th></th>\n",
       "      <th>clustNum</th>\n",
       "      <th>key</th>\n",
       "    </tr>\n",
       "  </thead>\n",
       "  <tbody>\n",
       "    <tr>\n",
       "      <th>0</th>\n",
       "      <td>0</td>\n",
       "      <td>2580480</td>\n",
       "    </tr>\n",
       "    <tr>\n",
       "      <th>0</th>\n",
       "      <td>0</td>\n",
       "      <td>2121734</td>\n",
       "    </tr>\n",
       "  </tbody>\n",
       "</table>\n",
       "</div>"
      ],
      "text/plain": [
       "   clustNum      key\n",
       "0         0  2580480\n",
       "0         0  2121734"
      ]
     },
     "execution_count": 3,
     "metadata": {},
     "output_type": "execute_result"
    }
   ],
   "source": [
    "clustDf = pd.read_pickle(CLUST_NUMS)\n",
    "\n",
    "clustDf.head(2)"
   ]
  },
  {
   "cell_type": "code",
   "execution_count": 4,
   "metadata": {},
   "outputs": [
    {
     "name": "stderr",
     "output_type": "stream",
     "text": [
      "/opt/anaconda/lib/python3.8/site-packages/IPython/core/interactiveshell.py:3418: DtypeWarning: Columns (2,3,10,11,12,13,14,17,18,19,20,21,22,23,24,25,26,27,28,29,30,31,32,33,34,39,40,41) have mixed types.Specify dtype option on import or set low_memory=False.\n",
      "  exec(code_obj, self.user_global_ns, self.user_ns)\n"
     ]
    }
   ],
   "source": [
    "#load in main data source \n",
    "#we don't want to use \"content\", because it takes up a lot of space and\n",
    "#we have already embedded the content. Can always merge back in later so long as we \n",
    "#keep the \"key\" column\n",
    "LOAD_COLS = list(pd.read_csv(DF_PATH, \\\n",
    "                     nrows = 1, sep=\"\\t\").columns)\n",
    "#LOAD_COLS.remove(\"content\")\n",
    "LOAD_COLS.remove(\"NamedEntities\")\n",
    "\n",
    "df = pd.read_csv(DF_PATH,\\\n",
    "                 sep=\"\\t\", usecols=LOAD_COLS)"
   ]
  },
  {
   "cell_type": "code",
   "execution_count": 5,
   "metadata": {},
   "outputs": [],
   "source": [
    "df[\"date\"] = pd.to_datetime(df[\"date\"])\n",
    "\n",
    "df[\"year\"] = df[\"date\"].dt.year\n",
    "\n",
    "#filter so we only use 2020 where we have Reuters \n",
    "df = df[df[\"year\"] == 2020]"
   ]
  },
  {
   "cell_type": "code",
   "execution_count": 6,
   "metadata": {},
   "outputs": [],
   "source": [
    "#only keep rows for which we have a cluster number associated with the key \n",
    "df = pd.merge(df, clustDf, on=\"key\", how=\"left\")"
   ]
  },
  {
   "cell_type": "code",
   "execution_count": 7,
   "metadata": {},
   "outputs": [
    {
     "name": "stdout",
     "output_type": "stream",
     "text": [
      "2442280\n",
      "1266095\n"
     ]
    }
   ],
   "source": [
    "#should be the same as length of clustDf or we have a merging issue\n",
    "#luckily, no issue here \n",
    "print(len(df))\n",
    "\n",
    "print(len(df.dropna(subset=[\"clustNum\"])))"
   ]
  },
  {
   "cell_type": "code",
   "execution_count": 8,
   "metadata": {},
   "outputs": [],
   "source": [
    "df = df.drop(columns=[\"Unnamed: 0\"])\n",
    "df.to_csv(OUT_PATH, sep=\"\\t\")"
   ]
  }
 ],
 "metadata": {
  "kernelspec": {
   "display_name": "Python 3",
   "language": "python",
   "name": "python3"
  },
  "language_info": {
   "codemirror_mode": {
    "name": "ipython",
    "version": 3
   },
   "file_extension": ".py",
   "mimetype": "text/x-python",
   "name": "python",
   "nbconvert_exporter": "python",
   "pygments_lexer": "ipython3",
   "version": "3.8.5"
  }
 },
 "nbformat": 4,
 "nbformat_minor": 4
}
