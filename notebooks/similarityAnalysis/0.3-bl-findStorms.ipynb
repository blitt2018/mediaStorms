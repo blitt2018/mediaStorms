{
 "cells": [
  {
   "cell_type": "code",
   "execution_count": 196,
   "metadata": {},
   "outputs": [],
   "source": [
    "import pandas as pd\n",
    "from datetime import timedelta\n",
    "import seaborn as sns\n",
    "import matplotlib.pyplot as plt\n",
    "import numpy as np"
   ]
  },
  {
   "cell_type": "code",
   "execution_count": 264,
   "metadata": {},
   "outputs": [
    {
     "name": "stderr",
     "output_type": "stream",
     "text": [
      "<ipython-input-264-2e04705d9462>:2: DtypeWarning: Columns (2,3,10,11,13,14,17,39,40,41) have mixed types. Specify dtype option on import or set low_memory=False.\n",
      "  df = pd.read_csv(IN_PATH, sep=\"\\t\")\n"
     ]
    },
    {
     "data": {
      "text/plain": [
       "2065826"
      ]
     },
     "execution_count": 264,
     "metadata": {},
     "output_type": "execute_result"
    }
   ],
   "source": [
    "IN_PATH = \"/shared/3/projects/newsDiffusion/data/processed/fullDataWithClustNums.tsv\"\n",
    "df = pd.read_csv(IN_PATH, sep=\"\\t\")\n",
    "\n",
    "df[\"date\"] = pd.to_datetime(df[\"date\"])\n",
    "df = df.dropna(subset=[\"date\"])\n",
    "\n",
    "\n",
    "#only keep data \n",
    "#first day of local coverage in our data, 4/1\n",
    "firstLocDate = min(df.loc[df[\"national\"] == False, \"date\"])\n",
    "\n",
    "#clusteredDates = df[[\"clustNum\", \"date\"]].groupby(by=\"clustNum\").agg(list).reset_index()\n",
    "#clusteredDates[\"minDate\"] = clusteredDates[\"date\"].apply(lambda x: min(x))\n",
    "#keepClusts = clusteredDates.loc[clusteredDates[\"minDate\"] >= firstLocDate, \"clustNum\"]\n",
    "#df = df[df[\"clustNum\"].isin(keepClusts)]\n",
    "\n",
    "df = df[df[\"date\"] > firstLocDate]\n",
    "len(df)\n"
   ]
  },
  {
   "cell_type": "code",
   "execution_count": 321,
   "metadata": {},
   "outputs": [
    {
     "data": {
      "text/plain": [
       "[' insightful Thomas Paine @ @ @',\n",
       " ' pandemic at kycovid19.ky.gov.',\n",
       " 'y what is right with America .',\n",
       " 'ess Daily Updates, click here.',\n",
       " 'our civil liberties or not .\\n”',\n",
       " 't was updated with further @ @',\n",
       " 'surging cases in the country .',\n",
       " \" and incapable of healing . ''\",\n",
       " 'Pfizer shot by @ @ @ @ @ @ @ .',\n",
       " 's and loosen @ @ @ @ @ gauge .',\n",
       " 'd they – can do a lot better .',\n",
       " '.com .\\nThank you for reading .',\n",
       " \"starvation , '' Beasley said .\",\n",
       " 'ment , with regard to Durham @',\n",
       " 'nterested ?\\nShare this story !',\n",
       " 's that make each other worse.\"',\n",
       " 'e Democratic nominee tweeted .',\n",
       " 'se visit www.covidawaremn.com.',\n",
       " ' most popular products today !',\n",
       " 'orable food .\\nStock up today !']"
      ]
     },
     "execution_count": 321,
     "metadata": {},
     "output_type": "execute_result"
    }
   ],
   "source": [
    "[item[-30:] for item in list(df[df[\"clustNum\"] == 7].sample(20)[\"content\"])]"
   ]
  },
  {
   "cell_type": "code",
   "execution_count": 265,
   "metadata": {},
   "outputs": [],
   "source": [
    "longClusts = df[[\"clustNum\",\"date\"]].groupby(\"clustNum\").agg(list)"
   ]
  },
  {
   "cell_type": "code",
   "execution_count": 266,
   "metadata": {},
   "outputs": [],
   "source": [
    "def numDays(inList): \n",
    "    return (max(inList) - min(inList)) / timedelta(hours=24)\n",
    "\n",
    "longClusts[\"clustLength\"] = longClusts[\"date\"].apply(numDays)\n",
    "longClusts[\"numStories\"] = longClusts[\"date\"].apply(len)"
   ]
  },
  {
   "cell_type": "code",
   "execution_count": 267,
   "metadata": {},
   "outputs": [],
   "source": [
    "longClusts = longClusts[(longClusts[\"clustLength\"] > 5) & (longClusts[\"clustLength\"] < 5000)].reset_index()"
   ]
  },
  {
   "cell_type": "code",
   "execution_count": 268,
   "metadata": {},
   "outputs": [],
   "source": [
    "longClusts = df[df[\"clustNum\"].isin(longClusts[\"clustNum\"].unique())]"
   ]
  },
  {
   "cell_type": "code",
   "execution_count": 269,
   "metadata": {},
   "outputs": [],
   "source": [
    "dateDf = longClusts[[\"source\", \"date\", \"clustNum\"]].sort_values(\"date\")\n",
    "#dateDf = dateDf.set_index(\"source\")\n",
    "dateDf[\"count\"] = 1\n",
    "#dateDf = dateDf.groupby(\"date\").agg({\"count\":sum, \"source\":list})\n",
    "#.groupby(by=[\"source\", \"clustNum\"]).rolling(window=3, on=\"date\").agg(list) #.sum()\n",
    "\n",
    "#for source in dateDf.index.unique(): \n",
    "#    sDf = dateDf.loc[dateDf[\"source\"] == \"source\"]\n",
    "    "
   ]
  },
  {
   "cell_type": "code",
   "execution_count": 270,
   "metadata": {},
   "outputs": [],
   "source": [
    "#within each outlet, get the 3 day rolling window of coverage \n",
    "timeRolling = dateDf.drop(columns=\"clustNum\").groupby(by=[\"source\", \"date\"]).agg(sum)\\\n",
    ".reset_index().groupby(\"source\").rolling(\"3D\", on=\"date\").sum() #.rolling(\"3D\", on=\"date\").sum()\n",
    "timeRolling = timeRolling.reset_index().drop(columns=[\"level_1\"])"
   ]
  },
  {
   "cell_type": "code",
   "execution_count": 271,
   "metadata": {},
   "outputs": [
    {
     "data": {
      "text/plain": [
       "101431"
      ]
     },
     "execution_count": 271,
     "metadata": {},
     "output_type": "execute_result"
    }
   ],
   "source": [
    "len(timeRolling)"
   ]
  },
  {
   "cell_type": "code",
   "execution_count": 272,
   "metadata": {},
   "outputs": [
    {
     "data": {
      "text/plain": [
       "101431"
      ]
     },
     "execution_count": 272,
     "metadata": {},
     "output_type": "execute_result"
    }
   ],
   "source": [
    "#quick sanity check \n",
    "len(dateDf.drop_duplicates(subset=[\"source\", \"date\"]))"
   ]
  },
  {
   "cell_type": "code",
   "execution_count": 273,
   "metadata": {},
   "outputs": [],
   "source": [
    "timeRollingClust = dateDf.groupby([\"source\", \"clustNum\", \"date\"]).sum()\\\n",
    ".reset_index().groupby([\"source\", \"clustNum\"]).rolling(\"3D\", on=\"date\").sum()\n",
    "\n",
    "timeRollingClust = timeRollingClust.reset_index().drop(columns=[\"level_2\"])"
   ]
  },
  {
   "cell_type": "code",
   "execution_count": 274,
   "metadata": {},
   "outputs": [
    {
     "data": {
      "text/plain": [
       "471901"
      ]
     },
     "execution_count": 274,
     "metadata": {},
     "output_type": "execute_result"
    }
   ],
   "source": [
    "len(timeRollingClust)"
   ]
  },
  {
   "cell_type": "code",
   "execution_count": 275,
   "metadata": {},
   "outputs": [
    {
     "data": {
      "text/plain": [
       "471901"
      ]
     },
     "execution_count": 275,
     "metadata": {},
     "output_type": "execute_result"
    }
   ],
   "source": [
    "len(timeRollingClust.drop_duplicates(subset=[\"source\", \"clustNum\", \"date\"]))"
   ]
  },
  {
   "cell_type": "code",
   "execution_count": 276,
   "metadata": {},
   "outputs": [
    {
     "data": {
      "text/plain": [
       "Text(0.5, 1.0, '# number of articles in our 3 day rolling windows at outlet level')"
      ]
     },
     "execution_count": 276,
     "metadata": {},
     "output_type": "execute_result"
    },
    {
     "data": {
      "image/png": "[encoded data removed]",
      "text/plain": [
       "<Figure size 432x288 with 1 Axes>"
      ]
     },
     "metadata": {
      "needs_background": "light"
     },
     "output_type": "display_data"
    }
   ],
   "source": [
    "plt.hist(timeRolling[\"count\"], bins=np.arange(0, 200, 5))\n",
    "plt.title(\"# number of articles in our 3 day rolling windows at outlet level\")"
   ]
  },
  {
   "cell_type": "code",
   "execution_count": 277,
   "metadata": {},
   "outputs": [
    {
     "data": {
      "text/plain": [
       "Text(0.5, 1.0, '# number of articles in our 3 day rolling windows at outlet,cluster level')"
      ]
     },
     "execution_count": 277,
     "metadata": {},
     "output_type": "execute_result"
    },
    {
     "data": {
      "image/png": "[encoded data removed]",
      "text/plain": [
       "<Figure size 432x288 with 1 Axes>"
      ]
     },
     "metadata": {
      "needs_background": "light"
     },
     "output_type": "display_data"
    }
   ],
   "source": [
    "plt.hist(timeRollingClust[\"count\"], bins=np.arange(0, 25, 1))\n",
    "plt.title(\"# number of articles in our 3 day rolling windows at outlet,cluster level\")\n",
    "#interpretation: for most stories, outlets report a very small amount on that story in a 3 day window "
   ]
  },
  {
   "cell_type": "code",
   "execution_count": 279,
   "metadata": {},
   "outputs": [
    {
     "data": {
      "text/plain": [
       "(0.0, 10000.0)"
      ]
     },
     "execution_count": 279,
     "metadata": {},
     "output_type": "execute_result"
    },
    {
     "data": {
      "image/png": "[encoded data removed]",
      "text/plain": [
       "<Figure size 432x288 with 1 Axes>"
      ]
     },
     "metadata": {
      "needs_background": "light"
     },
     "output_type": "display_data"
    }
   ],
   "source": [
    "#zoom in on figure above \n",
    "plt.hist(timeRollingClust[\"count\"], bins=np.arange(0, 25, 1))\n",
    "plt.title(\"# number of articles in our 3 day rolling windows at outlet,cluster level\")\n",
    "\n",
    "plt.ylim(0, 10000)"
   ]
  },
  {
   "cell_type": "code",
   "execution_count": 280,
   "metadata": {},
   "outputs": [
    {
     "data": {
      "text/html": [
       "<div>\n",
       "<style scoped>\n",
       "    .dataframe tbody tr th:only-of-type {\n",
       "        vertical-align: middle;\n",
       "    }\n",
       "\n",
       "    .dataframe tbody tr th {\n",
       "        vertical-align: top;\n",
       "    }\n",
       "\n",
       "    .dataframe thead th {\n",
       "        text-align: right;\n",
       "    }\n",
       "</style>\n",
       "<table border=\"1\" class=\"dataframe\">\n",
       "  <thead>\n",
       "    <tr style=\"text-align: right;\">\n",
       "      <th></th>\n",
       "      <th>source</th>\n",
       "      <th>clustNum</th>\n",
       "      <th>date</th>\n",
       "      <th>count</th>\n",
       "    </tr>\n",
       "  </thead>\n",
       "  <tbody>\n",
       "    <tr>\n",
       "      <th>445849</th>\n",
       "      <td>washingtonpost</td>\n",
       "      <td>7.0</td>\n",
       "      <td>2020-06-28</td>\n",
       "      <td>286.0</td>\n",
       "    </tr>\n",
       "    <tr>\n",
       "      <th>445848</th>\n",
       "      <td>washingtonpost</td>\n",
       "      <td>7.0</td>\n",
       "      <td>2020-06-27</td>\n",
       "      <td>192.0</td>\n",
       "    </tr>\n",
       "    <tr>\n",
       "      <th>445839</th>\n",
       "      <td>washingtonpost</td>\n",
       "      <td>7.0</td>\n",
       "      <td>2020-06-18</td>\n",
       "      <td>109.0</td>\n",
       "    </tr>\n",
       "    <tr>\n",
       "      <th>445850</th>\n",
       "      <td>washingtonpost</td>\n",
       "      <td>7.0</td>\n",
       "      <td>2020-06-30</td>\n",
       "      <td>105.0</td>\n",
       "    </tr>\n",
       "    <tr>\n",
       "      <th>445838</th>\n",
       "      <td>washingtonpost</td>\n",
       "      <td>7.0</td>\n",
       "      <td>2020-06-17</td>\n",
       "      <td>95.0</td>\n",
       "    </tr>\n",
       "    <tr>\n",
       "      <th>...</th>\n",
       "      <td>...</td>\n",
       "      <td>...</td>\n",
       "      <td>...</td>\n",
       "      <td>...</td>\n",
       "    </tr>\n",
       "    <tr>\n",
       "      <th>446802</th>\n",
       "      <td>washingtonpost</td>\n",
       "      <td>19287.0</td>\n",
       "      <td>2020-06-27</td>\n",
       "      <td>1.0</td>\n",
       "    </tr>\n",
       "    <tr>\n",
       "      <th>446801</th>\n",
       "      <td>washingtonpost</td>\n",
       "      <td>19287.0</td>\n",
       "      <td>2020-05-01</td>\n",
       "      <td>1.0</td>\n",
       "    </tr>\n",
       "    <tr>\n",
       "      <th>446800</th>\n",
       "      <td>washingtonpost</td>\n",
       "      <td>19243.0</td>\n",
       "      <td>2020-06-15</td>\n",
       "      <td>1.0</td>\n",
       "    </tr>\n",
       "    <tr>\n",
       "      <th>446799</th>\n",
       "      <td>washingtonpost</td>\n",
       "      <td>19243.0</td>\n",
       "      <td>2020-06-02</td>\n",
       "      <td>1.0</td>\n",
       "    </tr>\n",
       "    <tr>\n",
       "      <th>448072</th>\n",
       "      <td>washingtonpost</td>\n",
       "      <td>208939.0</td>\n",
       "      <td>2020-07-28</td>\n",
       "      <td>1.0</td>\n",
       "    </tr>\n",
       "  </tbody>\n",
       "</table>\n",
       "<p>2324 rows × 4 columns</p>\n",
       "</div>"
      ],
      "text/plain": [
       "                source  clustNum       date  count\n",
       "445849  washingtonpost       7.0 2020-06-28  286.0\n",
       "445848  washingtonpost       7.0 2020-06-27  192.0\n",
       "445839  washingtonpost       7.0 2020-06-18  109.0\n",
       "445850  washingtonpost       7.0 2020-06-30  105.0\n",
       "445838  washingtonpost       7.0 2020-06-17   95.0\n",
       "...                ...       ...        ...    ...\n",
       "446802  washingtonpost   19287.0 2020-06-27    1.0\n",
       "446801  washingtonpost   19287.0 2020-05-01    1.0\n",
       "446800  washingtonpost   19243.0 2020-06-15    1.0\n",
       "446799  washingtonpost   19243.0 2020-06-02    1.0\n",
       "448072  washingtonpost  208939.0 2020-07-28    1.0\n",
       "\n",
       "[2324 rows x 4 columns]"
      ]
     },
     "execution_count": 280,
     "metadata": {},
     "output_type": "execute_result"
    }
   ],
   "source": [
    "#sanity check, what are the clusters where we have lots of reporting? \n",
    "timeRollingClust[timeRollingClust[\"source\"]==\"washingtonpost\"].sort_values(\"count\", ascending=False)"
   ]
  },
  {
   "cell_type": "code",
   "execution_count": 220,
   "metadata": {},
   "outputs": [],
   "source": [
    "#weird, same content from ap but different title\n",
    "rapidCityClust = df.loc[df[\"clustNum\"] == 161285.0, [\"title\", \"content\", \"source\"]]"
   ]
  },
  {
   "cell_type": "code",
   "execution_count": 228,
   "metadata": {},
   "outputs": [],
   "source": [
    "#almost all of the same articles but with different headlines.. hmm \n",
    "vdareClusts = df.loc[df[\"clustNum\"] == 156332.0, [\"title\", \"content\", \"source\", \"date\"]]"
   ]
  },
  {
   "cell_type": "code",
   "execution_count": 231,
   "metadata": {},
   "outputs": [],
   "source": [
    "#the sun media storming about I'm a celebrity? \n",
    "imACeleb = df.loc[df[\"clustNum\"] == 2596.0, [\"title\", \"content\", \"source\", \"date\"]]"
   ]
  },
  {
   "cell_type": "code",
   "execution_count": 235,
   "metadata": {},
   "outputs": [],
   "source": [
    "#cnn and nashville explosion\n",
    "#cnn had 3 day rolling of 14\n",
    "nashvilleExplosion = df.loc[df[\"clustNum\"] == 1462.0, [\"title\", \"content\", \"source\", \"date\"]]"
   ]
  },
  {
   "cell_type": "code",
   "execution_count": 245,
   "metadata": {},
   "outputs": [],
   "source": [
    "#india china standoff\n",
    "#WaPo had 7 over 3 day rolling window \n",
    "indiaChina = df.loc[df[\"clustNum\"] == 4714.0, [\"title\", \"content\", \"source\", \"date\"]]"
   ]
  },
  {
   "cell_type": "code",
   "execution_count": 247,
   "metadata": {},
   "outputs": [],
   "source": [
    "#WaPo had 7 over 3 day rolling window on Kamala Harris birth claims \n",
    "kamalaBirthClaims = df.loc[df[\"clustNum\"] == 1623.0, [\"title\", \"content\", \"source\", \"date\"]]"
   ]
  },
  {
   "cell_type": "code",
   "execution_count": 325,
   "metadata": {},
   "outputs": [],
   "source": [
    "#now we have the 3 day windows where we get total coverage and coverage for each cluster \n",
    "stormDf = pd.merge(timeRolling, timeRollingClust.rename(columns={\"count\":\"clustCount\"}), on=[\"source\", \"date\"])\n",
    "\n",
    "stormDf[\"reportingPercent\"] = (stormDf[\"clustCount\"] / stormDf[\"count\"]) * 100"
   ]
  },
  {
   "cell_type": "code",
   "execution_count": 326,
   "metadata": {},
   "outputs": [],
   "source": [
    "#sort storm df so we get the largest three day window for an outlet,cluster appearing first\n",
    "stormDf = stormDf.sort_values([\"source\", \"clustNum\", \"reportingPercent\"], ascending=False)\n",
    "\n",
    "stormDf = stormDf.drop_duplicates([\"source\", \"clustNum\"], keep=\"first\")"
   ]
  },
  {
   "cell_type": "code",
   "execution_count": 330,
   "metadata": {},
   "outputs": [],
   "source": [
    "stormDf = stormDf[stormDf[\"count\"] >= 20]"
   ]
  },
  {
   "cell_type": "code",
   "execution_count": 418,
   "metadata": {},
   "outputs": [
    {
     "data": {
      "text/plain": [
       "<Axes: xlabel='reportingPercent', ylabel='Density'>"
      ]
     },
     "execution_count": 418,
     "metadata": {},
     "output_type": "execute_result"
    },
    {
     "data": {
      "image/png": "[encoded data removed]",
      "text/plain": [
       "<Figure size 432x288 with 1 Axes>"
      ]
     },
     "metadata": {
      "needs_background": "light"
     },
     "output_type": "display_data"
    }
   ],
   "source": [
    "sns.kdeplot(x=\"reportingPercent\", data=stormDf)"
   ]
  },
  {
   "cell_type": "code",
   "execution_count": 332,
   "metadata": {},
   "outputs": [
    {
     "data": {
      "text/plain": [
       "Text(0.5, 1.0, 'empirical CDF of percentage of coverage dedicated to a given story')"
      ]
     },
     "execution_count": 332,
     "metadata": {},
     "output_type": "execute_result"
    },
    {
     "data": {
      "image/png": "[encoded data removed]",
      "text/plain": [
       "<Figure size 432x288 with 1 Axes>"
      ]
     },
     "metadata": {
      "needs_background": "light"
     },
     "output_type": "display_data"
    }
   ],
   "source": [
    "#is there an inflection point here maybe??? \n",
    "sns.ecdfplot(x=\"reportingPercent\", data=stormDf)\n",
    "plt.title(\"empirical CDF of percentage of coverage dedicated to a given story\")"
   ]
  },
  {
   "cell_type": "code",
   "execution_count": null,
   "metadata": {},
   "outputs": [],
   "source": []
  },
  {
   "cell_type": "code",
   "execution_count": 347,
   "metadata": {},
   "outputs": [
    {
     "data": {
      "text/html": [
       "<div>\n",
       "<style scoped>\n",
       "    .dataframe tbody tr th:only-of-type {\n",
       "        vertical-align: middle;\n",
       "    }\n",
       "\n",
       "    .dataframe tbody tr th {\n",
       "        vertical-align: top;\n",
       "    }\n",
       "\n",
       "    .dataframe thead th {\n",
       "        text-align: right;\n",
       "    }\n",
       "</style>\n",
       "<table border=\"1\" class=\"dataframe\">\n",
       "  <thead>\n",
       "    <tr style=\"text-align: right;\">\n",
       "      <th></th>\n",
       "      <th>source</th>\n",
       "      <th>date</th>\n",
       "      <th>count</th>\n",
       "      <th>clustNum</th>\n",
       "      <th>clustCount</th>\n",
       "      <th>reportingPercent</th>\n",
       "    </tr>\n",
       "  </thead>\n",
       "  <tbody>\n",
       "    <tr>\n",
       "      <th>70572</th>\n",
       "      <td>dailybeast</td>\n",
       "      <td>2020-10-23</td>\n",
       "      <td>37.0</td>\n",
       "      <td>10988.0</td>\n",
       "      <td>8.0</td>\n",
       "      <td>21.621622</td>\n",
       "    </tr>\n",
       "    <tr>\n",
       "      <th>402864</th>\n",
       "      <td>thetelegraph</td>\n",
       "      <td>2020-11-28</td>\n",
       "      <td>248.0</td>\n",
       "      <td>192.0</td>\n",
       "      <td>60.0</td>\n",
       "      <td>24.193548</td>\n",
       "    </tr>\n",
       "    <tr>\n",
       "      <th>258898</th>\n",
       "      <td>southfront</td>\n",
       "      <td>2020-09-13</td>\n",
       "      <td>40.0</td>\n",
       "      <td>8051.0</td>\n",
       "      <td>8.0</td>\n",
       "      <td>20.000000</td>\n",
       "    </tr>\n",
       "    <tr>\n",
       "      <th>25036</th>\n",
       "      <td>birminghammail</td>\n",
       "      <td>2020-06-19</td>\n",
       "      <td>70.0</td>\n",
       "      <td>11232.0</td>\n",
       "      <td>15.0</td>\n",
       "      <td>21.428571</td>\n",
       "    </tr>\n",
       "    <tr>\n",
       "      <th>197580</th>\n",
       "      <td>newyorkpost</td>\n",
       "      <td>2020-11-11</td>\n",
       "      <td>22.0</td>\n",
       "      <td>7.0</td>\n",
       "      <td>14.0</td>\n",
       "      <td>63.636364</td>\n",
       "    </tr>\n",
       "    <tr>\n",
       "      <th>239162</th>\n",
       "      <td>rferl</td>\n",
       "      <td>2020-10-12</td>\n",
       "      <td>23.0</td>\n",
       "      <td>65747.0</td>\n",
       "      <td>5.0</td>\n",
       "      <td>21.739130</td>\n",
       "    </tr>\n",
       "    <tr>\n",
       "      <th>319787</th>\n",
       "      <td>thegatewaypundit</td>\n",
       "      <td>2020-12-06</td>\n",
       "      <td>40.0</td>\n",
       "      <td>7.0</td>\n",
       "      <td>33.0</td>\n",
       "      <td>82.500000</td>\n",
       "    </tr>\n",
       "    <tr>\n",
       "      <th>276478</th>\n",
       "      <td>tass</td>\n",
       "      <td>2020-08-07</td>\n",
       "      <td>49.0</td>\n",
       "      <td>7800.0</td>\n",
       "      <td>10.0</td>\n",
       "      <td>20.408163</td>\n",
       "    </tr>\n",
       "    <tr>\n",
       "      <th>19738</th>\n",
       "      <td>bbc</td>\n",
       "      <td>2020-11-26</td>\n",
       "      <td>22.0</td>\n",
       "      <td>665.0</td>\n",
       "      <td>8.0</td>\n",
       "      <td>36.363636</td>\n",
       "    </tr>\n",
       "    <tr>\n",
       "      <th>50779</th>\n",
       "      <td>chicagosuntimes</td>\n",
       "      <td>2020-11-29</td>\n",
       "      <td>24.0</td>\n",
       "      <td>506.0</td>\n",
       "      <td>5.0</td>\n",
       "      <td>20.833333</td>\n",
       "    </tr>\n",
       "    <tr>\n",
       "      <th>95849</th>\n",
       "      <td>drudgereport</td>\n",
       "      <td>2020-12-28</td>\n",
       "      <td>99.0</td>\n",
       "      <td>1462.0</td>\n",
       "      <td>32.0</td>\n",
       "      <td>32.323232</td>\n",
       "    </tr>\n",
       "    <tr>\n",
       "      <th>186639</th>\n",
       "      <td>news</td>\n",
       "      <td>2020-05-25</td>\n",
       "      <td>38.0</td>\n",
       "      <td>4469.0</td>\n",
       "      <td>17.0</td>\n",
       "      <td>44.736842</td>\n",
       "    </tr>\n",
       "    <tr>\n",
       "      <th>334060</th>\n",
       "      <td>thehuffingtonpost</td>\n",
       "      <td>2020-12-27</td>\n",
       "      <td>22.0</td>\n",
       "      <td>1462.0</td>\n",
       "      <td>6.0</td>\n",
       "      <td>27.272727</td>\n",
       "    </tr>\n",
       "    <tr>\n",
       "      <th>220327</th>\n",
       "      <td>press</td>\n",
       "      <td>2020-04-25</td>\n",
       "      <td>115.0</td>\n",
       "      <td>89.0</td>\n",
       "      <td>35.0</td>\n",
       "      <td>30.434783</td>\n",
       "    </tr>\n",
       "    <tr>\n",
       "      <th>448499</th>\n",
       "      <td>washingtontimes</td>\n",
       "      <td>2020-06-03</td>\n",
       "      <td>44.0</td>\n",
       "      <td>7.0</td>\n",
       "      <td>30.0</td>\n",
       "      <td>68.181818</td>\n",
       "    </tr>\n",
       "  </tbody>\n",
       "</table>\n",
       "</div>"
      ],
      "text/plain": [
       "                   source       date  count  clustNum  clustCount   \n",
       "70572          dailybeast 2020-10-23   37.0   10988.0         8.0  \\\n",
       "402864       thetelegraph 2020-11-28  248.0     192.0        60.0   \n",
       "258898         southfront 2020-09-13   40.0    8051.0         8.0   \n",
       "25036      birminghammail 2020-06-19   70.0   11232.0        15.0   \n",
       "197580        newyorkpost 2020-11-11   22.0       7.0        14.0   \n",
       "239162              rferl 2020-10-12   23.0   65747.0         5.0   \n",
       "319787   thegatewaypundit 2020-12-06   40.0       7.0        33.0   \n",
       "276478               tass 2020-08-07   49.0    7800.0        10.0   \n",
       "19738                 bbc 2020-11-26   22.0     665.0         8.0   \n",
       "50779     chicagosuntimes 2020-11-29   24.0     506.0         5.0   \n",
       "95849        drudgereport 2020-12-28   99.0    1462.0        32.0   \n",
       "186639               news 2020-05-25   38.0    4469.0        17.0   \n",
       "334060  thehuffingtonpost 2020-12-27   22.0    1462.0         6.0   \n",
       "220327              press 2020-04-25  115.0      89.0        35.0   \n",
       "448499    washingtontimes 2020-06-03   44.0       7.0        30.0   \n",
       "\n",
       "        reportingPercent  \n",
       "70572          21.621622  \n",
       "402864         24.193548  \n",
       "258898         20.000000  \n",
       "25036          21.428571  \n",
       "197580         63.636364  \n",
       "239162         21.739130  \n",
       "319787         82.500000  \n",
       "276478         20.408163  \n",
       "19738          36.363636  \n",
       "50779          20.833333  \n",
       "95849          32.323232  \n",
       "186639         44.736842  \n",
       "334060         27.272727  \n",
       "220327         30.434783  \n",
       "448499         68.181818  "
      ]
     },
     "execution_count": 347,
     "metadata": {},
     "output_type": "execute_result"
    }
   ],
   "source": [
    "#checking some examples \n",
    "stormDf[stormDf[\"reportingPercent\"] >= 20].sample(15)"
   ]
  },
  {
   "cell_type": "code",
   "execution_count": 346,
   "metadata": {},
   "outputs": [
    {
     "data": {
      "text/html": [
       "<div>\n",
       "<style scoped>\n",
       "    .dataframe tbody tr th:only-of-type {\n",
       "        vertical-align: middle;\n",
       "    }\n",
       "\n",
       "    .dataframe tbody tr th {\n",
       "        vertical-align: top;\n",
       "    }\n",
       "\n",
       "    .dataframe thead th {\n",
       "        text-align: right;\n",
       "    }\n",
       "</style>\n",
       "<table border=\"1\" class=\"dataframe\">\n",
       "  <thead>\n",
       "    <tr style=\"text-align: right;\">\n",
       "      <th></th>\n",
       "      <th>title</th>\n",
       "      <th>content</th>\n",
       "      <th>source</th>\n",
       "      <th>date</th>\n",
       "    </tr>\n",
       "  </thead>\n",
       "  <tbody>\n",
       "    <tr>\n",
       "      <th>1887070</th>\n",
       "      <td>Black staff, athletes leave Liberty University...</td>\n",
       "      <td>A number of Black staff members and student-at...</td>\n",
       "      <td>thehill</td>\n",
       "      <td>2020-06-24</td>\n",
       "    </tr>\n",
       "    <tr>\n",
       "      <th>1887560</th>\n",
       "      <td>Prominent conservatives question Jerry Falwell...</td>\n",
       "      <td>Jerry Falwell Jr. , the president of Liberty U...</td>\n",
       "      <td>thehill</td>\n",
       "      <td>2020-08-04</td>\n",
       "    </tr>\n",
       "    <tr>\n",
       "      <th>1887573</th>\n",
       "      <td>Falwell Jr. apologizes for viral vacation phot...</td>\n",
       "      <td>Liberty University President Jerry Falwell Jr....</td>\n",
       "      <td>thehill</td>\n",
       "      <td>2020-08-06</td>\n",
       "    </tr>\n",
       "    <tr>\n",
       "      <th>1887583</th>\n",
       "      <td>GOP congressman calls for Falwell's resignation</td>\n",
       "      <td>Rep. Mark Walker Bradley ( Mark ) Mark WalkerP...</td>\n",
       "      <td>thehill</td>\n",
       "      <td>2020-08-06</td>\n",
       "    </tr>\n",
       "    <tr>\n",
       "      <th>1887593</th>\n",
       "      <td>Jerry Falwell Jr. placed on indefinite leave</td>\n",
       "      <td>Jerry Falwell Jr. , president and chancellor o...</td>\n",
       "      <td>thehill</td>\n",
       "      <td>2020-08-07</td>\n",
       "    </tr>\n",
       "    <tr>\n",
       "      <th>1887901</th>\n",
       "      <td>Liberty University announces investigation int...</td>\n",
       "      <td>Liberty University announced Monday that it is...</td>\n",
       "      <td>thehill</td>\n",
       "      <td>2020-08-31</td>\n",
       "    </tr>\n",
       "  </tbody>\n",
       "</table>\n",
       "</div>"
      ],
      "text/plain": [
       "                                                     title   \n",
       "1887070  Black staff, athletes leave Liberty University...  \\\n",
       "1887560  Prominent conservatives question Jerry Falwell...   \n",
       "1887573  Falwell Jr. apologizes for viral vacation phot...   \n",
       "1887583    GOP congressman calls for Falwell's resignation   \n",
       "1887593       Jerry Falwell Jr. placed on indefinite leave   \n",
       "1887901  Liberty University announces investigation int...   \n",
       "\n",
       "                                                   content   source       date  \n",
       "1887070  A number of Black staff members and student-at...  thehill 2020-06-24  \n",
       "1887560  Jerry Falwell Jr. , the president of Liberty U...  thehill 2020-08-04  \n",
       "1887573  Liberty University President Jerry Falwell Jr....  thehill 2020-08-06  \n",
       "1887583  Rep. Mark Walker Bradley ( Mark ) Mark WalkerP...  thehill 2020-08-06  \n",
       "1887593  Jerry Falwell Jr. , president and chancellor o...  thehill 2020-08-07  \n",
       "1887901  Liberty University announced Monday that it is...  thehill 2020-08-31  "
      ]
     },
     "execution_count": 346,
     "metadata": {},
     "output_type": "execute_result"
    }
   ],
   "source": [
    "#russian hacking \n",
    "#14% of yahoo news at peak \n",
    "df.loc[(df[\"clustNum\"] == 21620.0) & (df[\"source\"] == \"yahoonews\"), [\"title\", \"content\", \"source\"]]\n",
    "\n",
    "#17% of abcnews at peak - Daniel Prude spit hood story \n",
    "df.loc[(df[\"clustNum\"] == 1763.0) & (df[\"source\"] == \"abcnews\"), [\"title\", \"content\", \"source\"]]\n",
    "\n",
    "#FALSE POSITIVE - a bunch of boston herald stories about covid \n",
    "df.loc[(df[\"clustNum\"] == 2959.0) & (df[\"source\"] == \"bostonherald\"), [\"title\", \"content\", \"source\", \"date\"]]\n",
    "\n",
    "#the hill reports about Jerry Falwell tweet  \n",
    "#only 5 total stories though... \n",
    "df.loc[(df[\"clustNum\"] == 9242.0) & (df[\"source\"] == \"thehill\"), [\"title\", \"content\", \"source\", \"date\"]]\n",
    "\n",
    "#the telegraph reporting on black friday and cyber monday \n",
    "df.loc[(df[\"clustNum\"] == 192.0) & (df[\"source\"] == \"thetelegraph\"), [\"title\", \"content\", \"source\", \"date\"]]\n",
    "list(df.loc[(df[\"clustNum\"] == 192.0) & (df[\"source\"] == \"thetelegraph\")].sample(20)[\"title\"])"
   ]
  },
  {
   "cell_type": "code",
   "execution_count": 367,
   "metadata": {},
   "outputs": [
    {
     "name": "stderr",
     "output_type": "stream",
     "text": [
      "<ipython-input-367-3ff3af142be1>:2: SettingWithCopyWarning: \n",
      "A value is trying to be set on a copy of a slice from a DataFrame.\n",
      "Try using .loc[row_indexer,col_indexer] = value instead\n",
      "\n",
      "See the caveats in the documentation: https://pandas.pydata.org/pandas-docs/stable/user_guide/indexing.html#returning-a-view-versus-a-copy\n",
      "  stormDf[\"isStorm\"] = stormDf[\"reportingPercent\"] >= 10\n"
     ]
    }
   ],
   "source": [
    "# so let's say that the cutoff is around 10 percent \n",
    "stormDf[\"isStorm\"] = stormDf[\"reportingPercent\"] >= 10"
   ]
  },
  {
   "cell_type": "code",
   "execution_count": 380,
   "metadata": {},
   "outputs": [],
   "source": [
    "storyStormDf = stormDf[[\"clustNum\",\"isStorm\"]].groupby(\"clustNum\").agg([np.mean, sum]) #.rename(columns={\"reportingPercent\":\"outletStormPercent\"})"
   ]
  },
  {
   "cell_type": "code",
   "execution_count": 381,
   "metadata": {},
   "outputs": [],
   "source": [
    "storyStormDf.columns = storyStormDf.columns.droplevel()\n",
    "storyStormDf = storyStormDf.reset_index()"
   ]
  },
  {
   "cell_type": "code",
   "execution_count": 473,
   "metadata": {},
   "outputs": [],
   "source": [
    "storyStormDf = storyStormDf.rename(columns={\"mean\":\"average_reporting_percent\", \"sum\":\"outlets_over_cutoff\"})"
   ]
  },
  {
   "cell_type": "code",
   "execution_count": 475,
   "metadata": {},
   "outputs": [
    {
     "data": {
      "text/html": [
       "<div>\n",
       "<style scoped>\n",
       "    .dataframe tbody tr th:only-of-type {\n",
       "        vertical-align: middle;\n",
       "    }\n",
       "\n",
       "    .dataframe tbody tr th {\n",
       "        vertical-align: top;\n",
       "    }\n",
       "\n",
       "    .dataframe thead th {\n",
       "        text-align: right;\n",
       "    }\n",
       "</style>\n",
       "<table border=\"1\" class=\"dataframe\">\n",
       "  <thead>\n",
       "    <tr style=\"text-align: right;\">\n",
       "      <th></th>\n",
       "      <th>clustNum</th>\n",
       "      <th>average_reporting_percent</th>\n",
       "      <th>outlets_over_cutoff</th>\n",
       "    </tr>\n",
       "  </thead>\n",
       "  <tbody>\n",
       "    <tr>\n",
       "      <th>0</th>\n",
       "      <td>0.0</td>\n",
       "      <td>0.055556</td>\n",
       "      <td>3</td>\n",
       "    </tr>\n",
       "    <tr>\n",
       "      <th>1</th>\n",
       "      <td>1.0</td>\n",
       "      <td>0.148936</td>\n",
       "      <td>14</td>\n",
       "    </tr>\n",
       "    <tr>\n",
       "      <th>2</th>\n",
       "      <td>7.0</td>\n",
       "      <td>1.000000</td>\n",
       "      <td>57</td>\n",
       "    </tr>\n",
       "    <tr>\n",
       "      <th>8</th>\n",
       "      <td>29.0</td>\n",
       "      <td>0.180556</td>\n",
       "      <td>13</td>\n",
       "    </tr>\n",
       "    <tr>\n",
       "      <th>11</th>\n",
       "      <td>44.0</td>\n",
       "      <td>0.156863</td>\n",
       "      <td>8</td>\n",
       "    </tr>\n",
       "    <tr>\n",
       "      <th>...</th>\n",
       "      <td>...</td>\n",
       "      <td>...</td>\n",
       "      <td>...</td>\n",
       "    </tr>\n",
       "    <tr>\n",
       "      <th>10650</th>\n",
       "      <td>48922.0</td>\n",
       "      <td>0.428571</td>\n",
       "      <td>3</td>\n",
       "    </tr>\n",
       "    <tr>\n",
       "      <th>11260</th>\n",
       "      <td>52286.0</td>\n",
       "      <td>0.115385</td>\n",
       "      <td>3</td>\n",
       "    </tr>\n",
       "    <tr>\n",
       "      <th>15727</th>\n",
       "      <td>79378.0</td>\n",
       "      <td>0.150000</td>\n",
       "      <td>3</td>\n",
       "    </tr>\n",
       "    <tr>\n",
       "      <th>18407</th>\n",
       "      <td>97432.0</td>\n",
       "      <td>0.100000</td>\n",
       "      <td>3</td>\n",
       "    </tr>\n",
       "    <tr>\n",
       "      <th>21094</th>\n",
       "      <td>115987.0</td>\n",
       "      <td>0.115385</td>\n",
       "      <td>3</td>\n",
       "    </tr>\n",
       "  </tbody>\n",
       "</table>\n",
       "<p>113 rows × 3 columns</p>\n",
       "</div>"
      ],
      "text/plain": [
       "       clustNum  average_reporting_percent  outlets_over_cutoff\n",
       "0           0.0                   0.055556                    3\n",
       "1           1.0                   0.148936                   14\n",
       "2           7.0                   1.000000                   57\n",
       "8          29.0                   0.180556                   13\n",
       "11         44.0                   0.156863                    8\n",
       "...         ...                        ...                  ...\n",
       "10650   48922.0                   0.428571                    3\n",
       "11260   52286.0                   0.115385                    3\n",
       "15727   79378.0                   0.150000                    3\n",
       "18407   97432.0                   0.100000                    3\n",
       "21094  115987.0                   0.115385                    3\n",
       "\n",
       "[113 rows x 3 columns]"
      ]
     },
     "execution_count": 475,
     "metadata": {},
     "output_type": "execute_result"
    }
   ],
   "source": [
    "storyStormDf[storyStormDf[\"outlets_over_cutoff\"] >= 3]"
   ]
  },
  {
   "cell_type": "code",
   "execution_count": 476,
   "metadata": {},
   "outputs": [
    {
     "data": {
      "text/html": [
       "<div>\n",
       "<style scoped>\n",
       "    .dataframe tbody tr th:only-of-type {\n",
       "        vertical-align: middle;\n",
       "    }\n",
       "\n",
       "    .dataframe tbody tr th {\n",
       "        vertical-align: top;\n",
       "    }\n",
       "\n",
       "    .dataframe thead th {\n",
       "        text-align: right;\n",
       "    }\n",
       "</style>\n",
       "<table border=\"1\" class=\"dataframe\">\n",
       "  <thead>\n",
       "    <tr style=\"text-align: right;\">\n",
       "      <th></th>\n",
       "      <th>Unnamed: 0</th>\n",
       "      <th>key</th>\n",
       "      <th>local_id</th>\n",
       "      <th>sourcedomain_id</th>\n",
       "      <th>date</th>\n",
       "      <th>title</th>\n",
       "      <th>content</th>\n",
       "      <th>url</th>\n",
       "      <th>fips</th>\n",
       "      <th>source</th>\n",
       "      <th>...</th>\n",
       "      <th>national</th>\n",
       "      <th>id</th>\n",
       "      <th>author</th>\n",
       "      <th>published</th>\n",
       "      <th>published_utc</th>\n",
       "      <th>collection_utc</th>\n",
       "      <th>year</th>\n",
       "      <th>clustNum</th>\n",
       "      <th>average_reporting_percent</th>\n",
       "      <th>outlets_over_cutoff</th>\n",
       "    </tr>\n",
       "  </thead>\n",
       "  <tbody>\n",
       "    <tr>\n",
       "      <th>0</th>\n",
       "      <td>12619</td>\n",
       "      <td>12619</td>\n",
       "      <td>newyorkobserver--2020-04-07--Prince Harry and ...</td>\n",
       "      <td>newyorkobserver-observer.com</td>\n",
       "      <td>2020-04-07</td>\n",
       "      <td>Prince Harry and Meghan Are Keeping Busy While...</td>\n",
       "      <td>The Duke and Duchess of Sussex made their move...</td>\n",
       "      <td>https://observer.com/2020/04/prince-harry-megh...</td>\n",
       "      <td>36061.0</td>\n",
       "      <td>newyorkobserver</td>\n",
       "      <td>...</td>\n",
       "      <td>False</td>\n",
       "      <td>NaN</td>\n",
       "      <td>NaN</td>\n",
       "      <td>NaN</td>\n",
       "      <td>NaN</td>\n",
       "      <td>NaN</td>\n",
       "      <td>2020</td>\n",
       "      <td>0.0</td>\n",
       "      <td>0.055556</td>\n",
       "      <td>3</td>\n",
       "    </tr>\n",
       "    <tr>\n",
       "      <th>1</th>\n",
       "      <td>28945</td>\n",
       "      <td>28945</td>\n",
       "      <td>newyorkobserver--2020-04-14--Prince Harry Is H...</td>\n",
       "      <td>newyorkobserver-observer.com</td>\n",
       "      <td>2020-04-14</td>\n",
       "      <td>Prince Harry Is Having Trouble Adjusting to Hi...</td>\n",
       "      <td>The Duke and Duchess of Sussex officially move...</td>\n",
       "      <td>https://observer.com/2020/04/prince-harry-megh...</td>\n",
       "      <td>36061.0</td>\n",
       "      <td>newyorkobserver</td>\n",
       "      <td>...</td>\n",
       "      <td>False</td>\n",
       "      <td>NaN</td>\n",
       "      <td>NaN</td>\n",
       "      <td>NaN</td>\n",
       "      <td>NaN</td>\n",
       "      <td>NaN</td>\n",
       "      <td>2020</td>\n",
       "      <td>0.0</td>\n",
       "      <td>0.055556</td>\n",
       "      <td>3</td>\n",
       "    </tr>\n",
       "    <tr>\n",
       "      <th>2</th>\n",
       "      <td>43496</td>\n",
       "      <td>43496</td>\n",
       "      <td>dailyherald--2020-04-20--Harry and Meghan say ...</td>\n",
       "      <td>dailyherald-dailyherald.com</td>\n",
       "      <td>2020-04-20</td>\n",
       "      <td>Harry and Meghan say they won't cooperate with...</td>\n",
       "      <td>LONDON -- The Duke and Duchess of Sussex say t...</td>\n",
       "      <td>http://www.dailyherald.com/article/20200420/bu...</td>\n",
       "      <td>17031.0</td>\n",
       "      <td>dailyherald</td>\n",
       "      <td>...</td>\n",
       "      <td>False</td>\n",
       "      <td>NaN</td>\n",
       "      <td>NaN</td>\n",
       "      <td>NaN</td>\n",
       "      <td>NaN</td>\n",
       "      <td>NaN</td>\n",
       "      <td>2020</td>\n",
       "      <td>0.0</td>\n",
       "      <td>0.055556</td>\n",
       "      <td>3</td>\n",
       "    </tr>\n",
       "    <tr>\n",
       "      <th>3</th>\n",
       "      <td>43909</td>\n",
       "      <td>43909</td>\n",
       "      <td>murrysvillestar--2020-04-20--Harry and Meghan ...</td>\n",
       "      <td>murrysvillestar-triblive.com</td>\n",
       "      <td>2020-04-20</td>\n",
       "      <td>Harry and Meghan say they won’t cooperate with...</td>\n",
       "      <td>LONDON — The Duke and Duchess of Sussex say th...</td>\n",
       "      <td>https://triblive.com/news/world/harry-and-megh...</td>\n",
       "      <td>42129.0</td>\n",
       "      <td>murrysvillestar</td>\n",
       "      <td>...</td>\n",
       "      <td>False</td>\n",
       "      <td>NaN</td>\n",
       "      <td>NaN</td>\n",
       "      <td>NaN</td>\n",
       "      <td>NaN</td>\n",
       "      <td>NaN</td>\n",
       "      <td>2020</td>\n",
       "      <td>0.0</td>\n",
       "      <td>0.055556</td>\n",
       "      <td>3</td>\n",
       "    </tr>\n",
       "    <tr>\n",
       "      <th>4</th>\n",
       "      <td>43933</td>\n",
       "      <td>43933</td>\n",
       "      <td>pittsburghtribunereview--2020-04-20--Harry and...</td>\n",
       "      <td>pittsburghtribunereview-triblive.com</td>\n",
       "      <td>2020-04-20</td>\n",
       "      <td>Harry and Meghan say they won’t cooperate with...</td>\n",
       "      <td>LONDON — The Duke and Duchess of Sussex say th...</td>\n",
       "      <td>https://triblive.com/news/world/harry-and-megh...</td>\n",
       "      <td>42003.0</td>\n",
       "      <td>pittsburghtribunereview</td>\n",
       "      <td>...</td>\n",
       "      <td>False</td>\n",
       "      <td>NaN</td>\n",
       "      <td>NaN</td>\n",
       "      <td>NaN</td>\n",
       "      <td>NaN</td>\n",
       "      <td>NaN</td>\n",
       "      <td>2020</td>\n",
       "      <td>0.0</td>\n",
       "      <td>0.055556</td>\n",
       "      <td>3</td>\n",
       "    </tr>\n",
       "    <tr>\n",
       "      <th>...</th>\n",
       "      <td>...</td>\n",
       "      <td>...</td>\n",
       "      <td>...</td>\n",
       "      <td>...</td>\n",
       "      <td>...</td>\n",
       "      <td>...</td>\n",
       "      <td>...</td>\n",
       "      <td>...</td>\n",
       "      <td>...</td>\n",
       "      <td>...</td>\n",
       "      <td>...</td>\n",
       "      <td>...</td>\n",
       "      <td>...</td>\n",
       "      <td>...</td>\n",
       "      <td>...</td>\n",
       "      <td>...</td>\n",
       "      <td>...</td>\n",
       "      <td>...</td>\n",
       "      <td>...</td>\n",
       "      <td>...</td>\n",
       "      <td>...</td>\n",
       "    </tr>\n",
       "    <tr>\n",
       "      <th>625815</th>\n",
       "      <td>1166318</td>\n",
       "      <td>1948674</td>\n",
       "      <td>NaN</td>\n",
       "      <td>NaN</td>\n",
       "      <td>2020-09-13</td>\n",
       "      <td>New Thrift Shop Supported by Subscriptions and...</td>\n",
       "      <td>Kutkat , 32 , who was sitting at a sewing mach...</td>\n",
       "      <td>https://www.usnews.com/news/best-states/oregon...</td>\n",
       "      <td>NaN</td>\n",
       "      <td>usnews</td>\n",
       "      <td>...</td>\n",
       "      <td>True</td>\n",
       "      <td>usnews--2020-09-13--New Thrift Shop Supported ...</td>\n",
       "      <td>Associated Press</td>\n",
       "      <td>Sun, 13 Sep 2020 05:01:13 GMT</td>\n",
       "      <td>1.599988e+09</td>\n",
       "      <td>1.600004e+09</td>\n",
       "      <td>2020</td>\n",
       "      <td>209375.0</td>\n",
       "      <td>0.000000</td>\n",
       "      <td>0</td>\n",
       "    </tr>\n",
       "    <tr>\n",
       "      <th>625816</th>\n",
       "      <td>329791</td>\n",
       "      <td>329791</td>\n",
       "      <td>newyorkobserver--2020-08-09--National Museum o...</td>\n",
       "      <td>newyorkobserver-observer.com</td>\n",
       "      <td>2020-08-09</td>\n",
       "      <td>National Museum of Women in the Arts to Host W...</td>\n",
       "      <td>If an artist doesn’t have a Wikipedia page, do...</td>\n",
       "      <td>https://observer.com/2020/08/wikipedia-edit-a-...</td>\n",
       "      <td>36061.0</td>\n",
       "      <td>newyorkobserver</td>\n",
       "      <td>...</td>\n",
       "      <td>False</td>\n",
       "      <td>NaN</td>\n",
       "      <td>NaN</td>\n",
       "      <td>NaN</td>\n",
       "      <td>NaN</td>\n",
       "      <td>NaN</td>\n",
       "      <td>2020</td>\n",
       "      <td>209379.0</td>\n",
       "      <td>0.000000</td>\n",
       "      <td>0</td>\n",
       "    </tr>\n",
       "    <tr>\n",
       "      <th>625817</th>\n",
       "      <td>455126</td>\n",
       "      <td>455126</td>\n",
       "      <td>waterburyrepublicanamerican--2020-10-01--Matta...</td>\n",
       "      <td>waterburyrepublicanamerican-rep-am.com</td>\n",
       "      <td>2020-10-01</td>\n",
       "      <td>Mattatuck hosts Art and Feminism Wikipedia edi...</td>\n",
       "      <td>Mattatuck Museum in Waterbury will host a virt...</td>\n",
       "      <td>https://www.rep-am.com/life-arts/arts/2020/10/...</td>\n",
       "      <td>9009.0</td>\n",
       "      <td>waterburyrepublicanamerican</td>\n",
       "      <td>...</td>\n",
       "      <td>False</td>\n",
       "      <td>NaN</td>\n",
       "      <td>NaN</td>\n",
       "      <td>NaN</td>\n",
       "      <td>NaN</td>\n",
       "      <td>NaN</td>\n",
       "      <td>2020</td>\n",
       "      <td>209379.0</td>\n",
       "      <td>0.000000</td>\n",
       "      <td>0</td>\n",
       "    </tr>\n",
       "    <tr>\n",
       "      <th>625818</th>\n",
       "      <td>2289977</td>\n",
       "      <td>3072333</td>\n",
       "      <td>NaN</td>\n",
       "      <td>NaN</td>\n",
       "      <td>2020-10-31</td>\n",
       "      <td>Bedding sets are more than half off at Macy's ...</td>\n",
       "      <td>— Recommendations are independently chosen by ...</td>\n",
       "      <td>https://feeds.feedblitz.com/~/638044654/0/usat...</td>\n",
       "      <td>NaN</td>\n",
       "      <td>usatoday</td>\n",
       "      <td>...</td>\n",
       "      <td>True</td>\n",
       "      <td>usatoday--2020-10-31--Bedding sets are more th...</td>\n",
       "      <td>Melissa Lee, Reviewed.com</td>\n",
       "      <td>Sat, 31 Oct 2020 17:11:33 +0000</td>\n",
       "      <td>1.604179e+09</td>\n",
       "      <td>1.604199e+09</td>\n",
       "      <td>2020</td>\n",
       "      <td>209395.0</td>\n",
       "      <td>0.000000</td>\n",
       "      <td>0</td>\n",
       "    </tr>\n",
       "    <tr>\n",
       "      <th>625819</th>\n",
       "      <td>2292117</td>\n",
       "      <td>3074473</td>\n",
       "      <td>NaN</td>\n",
       "      <td>NaN</td>\n",
       "      <td>2020-12-11</td>\n",
       "      <td>Bedding sets are 70 to 75% off right now at Ma...</td>\n",
       "      <td>— Recommendations are independently chosen by ...</td>\n",
       "      <td>https://feeds.feedblitz.com/~/640143546/0/usat...</td>\n",
       "      <td>NaN</td>\n",
       "      <td>usatoday</td>\n",
       "      <td>...</td>\n",
       "      <td>True</td>\n",
       "      <td>usatoday--2020-12-11--Bedding sets are 70 to 7...</td>\n",
       "      <td>Melissa Lee, Reviewed</td>\n",
       "      <td>Fri, 11 Dec 2020 22:48:18 +0000</td>\n",
       "      <td>1.607745e+09</td>\n",
       "      <td>1.607745e+09</td>\n",
       "      <td>2020</td>\n",
       "      <td>209395.0</td>\n",
       "      <td>0.000000</td>\n",
       "      <td>0</td>\n",
       "    </tr>\n",
       "  </tbody>\n",
       "</table>\n",
       "<p>625820 rows × 48 columns</p>\n",
       "</div>"
      ],
      "text/plain": [
       "        Unnamed: 0      key   \n",
       "0            12619    12619  \\\n",
       "1            28945    28945   \n",
       "2            43496    43496   \n",
       "3            43909    43909   \n",
       "4            43933    43933   \n",
       "...            ...      ...   \n",
       "625815     1166318  1948674   \n",
       "625816      329791   329791   \n",
       "625817      455126   455126   \n",
       "625818     2289977  3072333   \n",
       "625819     2292117  3074473   \n",
       "\n",
       "                                                 local_id   \n",
       "0       newyorkobserver--2020-04-07--Prince Harry and ...  \\\n",
       "1       newyorkobserver--2020-04-14--Prince Harry Is H...   \n",
       "2       dailyherald--2020-04-20--Harry and Meghan say ...   \n",
       "3       murrysvillestar--2020-04-20--Harry and Meghan ...   \n",
       "4       pittsburghtribunereview--2020-04-20--Harry and...   \n",
       "...                                                   ...   \n",
       "625815                                                NaN   \n",
       "625816  newyorkobserver--2020-08-09--National Museum o...   \n",
       "625817  waterburyrepublicanamerican--2020-10-01--Matta...   \n",
       "625818                                                NaN   \n",
       "625819                                                NaN   \n",
       "\n",
       "                               sourcedomain_id       date   \n",
       "0                 newyorkobserver-observer.com 2020-04-07  \\\n",
       "1                 newyorkobserver-observer.com 2020-04-14   \n",
       "2                  dailyherald-dailyherald.com 2020-04-20   \n",
       "3                 murrysvillestar-triblive.com 2020-04-20   \n",
       "4         pittsburghtribunereview-triblive.com 2020-04-20   \n",
       "...                                        ...        ...   \n",
       "625815                                     NaN 2020-09-13   \n",
       "625816            newyorkobserver-observer.com 2020-08-09   \n",
       "625817  waterburyrepublicanamerican-rep-am.com 2020-10-01   \n",
       "625818                                     NaN 2020-10-31   \n",
       "625819                                     NaN 2020-12-11   \n",
       "\n",
       "                                                    title   \n",
       "0       Prince Harry and Meghan Are Keeping Busy While...  \\\n",
       "1       Prince Harry Is Having Trouble Adjusting to Hi...   \n",
       "2       Harry and Meghan say they won't cooperate with...   \n",
       "3       Harry and Meghan say they won’t cooperate with...   \n",
       "4       Harry and Meghan say they won’t cooperate with...   \n",
       "...                                                   ...   \n",
       "625815  New Thrift Shop Supported by Subscriptions and...   \n",
       "625816  National Museum of Women in the Arts to Host W...   \n",
       "625817  Mattatuck hosts Art and Feminism Wikipedia edi...   \n",
       "625818  Bedding sets are more than half off at Macy's ...   \n",
       "625819  Bedding sets are 70 to 75% off right now at Ma...   \n",
       "\n",
       "                                                  content   \n",
       "0       The Duke and Duchess of Sussex made their move...  \\\n",
       "1       The Duke and Duchess of Sussex officially move...   \n",
       "2       LONDON -- The Duke and Duchess of Sussex say t...   \n",
       "3       LONDON — The Duke and Duchess of Sussex say th...   \n",
       "4       LONDON — The Duke and Duchess of Sussex say th...   \n",
       "...                                                   ...   \n",
       "625815  Kutkat , 32 , who was sitting at a sewing mach...   \n",
       "625816  If an artist doesn’t have a Wikipedia page, do...   \n",
       "625817  Mattatuck Museum in Waterbury will host a virt...   \n",
       "625818  — Recommendations are independently chosen by ...   \n",
       "625819  — Recommendations are independently chosen by ...   \n",
       "\n",
       "                                                      url     fips   \n",
       "0       https://observer.com/2020/04/prince-harry-megh...  36061.0  \\\n",
       "1       https://observer.com/2020/04/prince-harry-megh...  36061.0   \n",
       "2       http://www.dailyherald.com/article/20200420/bu...  17031.0   \n",
       "3       https://triblive.com/news/world/harry-and-megh...  42129.0   \n",
       "4       https://triblive.com/news/world/harry-and-megh...  42003.0   \n",
       "...                                                   ...      ...   \n",
       "625815  https://www.usnews.com/news/best-states/oregon...      NaN   \n",
       "625816  https://observer.com/2020/08/wikipedia-edit-a-...  36061.0   \n",
       "625817  https://www.rep-am.com/life-arts/arts/2020/10/...   9009.0   \n",
       "625818  https://feeds.feedblitz.com/~/638044654/0/usat...      NaN   \n",
       "625819  https://feeds.feedblitz.com/~/640143546/0/usat...      NaN   \n",
       "\n",
       "                             source  ... national   \n",
       "0                   newyorkobserver  ...    False  \\\n",
       "1                   newyorkobserver  ...    False   \n",
       "2                       dailyherald  ...    False   \n",
       "3                   murrysvillestar  ...    False   \n",
       "4           pittsburghtribunereview  ...    False   \n",
       "...                             ...  ...      ...   \n",
       "625815                       usnews  ...     True   \n",
       "625816              newyorkobserver  ...    False   \n",
       "625817  waterburyrepublicanamerican  ...    False   \n",
       "625818                     usatoday  ...     True   \n",
       "625819                     usatoday  ...     True   \n",
       "\n",
       "                                                       id   \n",
       "0                                                     NaN  \\\n",
       "1                                                     NaN   \n",
       "2                                                     NaN   \n",
       "3                                                     NaN   \n",
       "4                                                     NaN   \n",
       "...                                                   ...   \n",
       "625815  usnews--2020-09-13--New Thrift Shop Supported ...   \n",
       "625816                                                NaN   \n",
       "625817                                                NaN   \n",
       "625818  usatoday--2020-10-31--Bedding sets are more th...   \n",
       "625819  usatoday--2020-12-11--Bedding sets are 70 to 7...   \n",
       "\n",
       "                           author                        published   \n",
       "0                             NaN                              NaN  \\\n",
       "1                             NaN                              NaN   \n",
       "2                             NaN                              NaN   \n",
       "3                             NaN                              NaN   \n",
       "4                             NaN                              NaN   \n",
       "...                           ...                              ...   \n",
       "625815           Associated Press    Sun, 13 Sep 2020 05:01:13 GMT   \n",
       "625816                        NaN                              NaN   \n",
       "625817                        NaN                              NaN   \n",
       "625818  Melissa Lee, Reviewed.com  Sat, 31 Oct 2020 17:11:33 +0000   \n",
       "625819      Melissa Lee, Reviewed  Fri, 11 Dec 2020 22:48:18 +0000   \n",
       "\n",
       "       published_utc  collection_utc  year  clustNum   \n",
       "0                NaN             NaN  2020       0.0  \\\n",
       "1                NaN             NaN  2020       0.0   \n",
       "2                NaN             NaN  2020       0.0   \n",
       "3                NaN             NaN  2020       0.0   \n",
       "4                NaN             NaN  2020       0.0   \n",
       "...              ...             ...   ...       ...   \n",
       "625815  1.599988e+09    1.600004e+09  2020  209375.0   \n",
       "625816           NaN             NaN  2020  209379.0   \n",
       "625817           NaN             NaN  2020  209379.0   \n",
       "625818  1.604179e+09    1.604199e+09  2020  209395.0   \n",
       "625819  1.607745e+09    1.607745e+09  2020  209395.0   \n",
       "\n",
       "        average_reporting_percent  outlets_over_cutoff  \n",
       "0                        0.055556                    3  \n",
       "1                        0.055556                    3  \n",
       "2                        0.055556                    3  \n",
       "3                        0.055556                    3  \n",
       "4                        0.055556                    3  \n",
       "...                           ...                  ...  \n",
       "625815                   0.000000                    0  \n",
       "625816                   0.000000                    0  \n",
       "625817                   0.000000                    0  \n",
       "625818                   0.000000                    0  \n",
       "625819                   0.000000                    0  \n",
       "\n",
       "[625820 rows x 48 columns]"
      ]
     },
     "execution_count": 476,
     "metadata": {},
     "output_type": "execute_result"
    }
   ],
   "source": [
    "pd.merge(df, storyStormDf, on=\"clustNum\", how=\"right\")"
   ]
  },
  {
   "cell_type": "code",
   "execution_count": 385,
   "metadata": {},
   "outputs": [
    {
     "data": {
      "text/plain": [
       "<Axes: xlabel='sum', ylabel='Count'>"
      ]
     },
     "execution_count": 385,
     "metadata": {},
     "output_type": "execute_result"
    },
    {
     "data": {
      "image/png": "[encoded data removed]",
      "text/plain": [
       "<Figure size 432x288 with 1 Axes>"
      ]
     },
     "metadata": {
      "needs_background": "light"
     },
     "output_type": "display_data"
    }
   ],
   "source": [
    "sns.histplot(x=\"sum\", data=storyStormDf[storyStormDf[\"sum\"] > 1])"
   ]
  },
  {
   "cell_type": "code",
   "execution_count": 395,
   "metadata": {},
   "outputs": [],
   "source": [
    "#when we have at least three outlets on board \n",
    "stormClusts = list(storyStormDf.loc[storyStormDf[\"sum\"] >= 3, \"clustNum\"])\n",
    "stormClusts.remove(7)"
   ]
  },
  {
   "cell_type": "code",
   "execution_count": 422,
   "metadata": {},
   "outputs": [
    {
     "data": {
      "text/plain": [
       "112"
      ]
     },
     "execution_count": 422,
     "metadata": {},
     "output_type": "execute_result"
    }
   ],
   "source": [
    "#112 storm clusters\n",
    "len(stormClusts)"
   ]
  },
  {
   "cell_type": "code",
   "execution_count": 408,
   "metadata": {},
   "outputs": [
    {
     "data": {
      "text/plain": [
       "[313.0, 443.0, 982.0, 8956.0, 514.0]"
      ]
     },
     "execution_count": 408,
     "metadata": {},
     "output_type": "execute_result"
    }
   ],
   "source": [
    "import random\n",
    "stormSample = random.sample(stormClusts, 5)\n",
    "stormSample"
   ]
  },
  {
   "cell_type": "code",
   "execution_count": 464,
   "metadata": {},
   "outputs": [],
   "source": [
    "#313 doesn't seem quite right.. \n",
    "stormArticles = df[df[\"clustNum\"] == 195]"
   ]
  },
  {
   "cell_type": "code",
   "execution_count": 465,
   "metadata": {},
   "outputs": [
    {
     "data": {
      "text/plain": [
       "\"\\nIt seems like right now the storms are either too mixed, about the same general them but not really the same event, \\nor it's debatable. For example, with Trans people in sports you wonder if that should be one storm or not\\n\""
      ]
     },
     "execution_count": 465,
     "metadata": {},
     "output_type": "execute_result"
    }
   ],
   "source": [
    "\"\"\"\n",
    "It seems like right now the storms are either too mixed, about the same general them but not really the same event, \n",
    "or it's debatable. For example, with Trans people in sports you wonder if that should be one storm or not\n",
    "\"\"\"\n",
    "#0: WRONG, Same Issue Diff. Events: Trump, Prince Harry, Meghan Markle, Privacy \n",
    "#1: DECENT: Trump banning TikTok, seems decent \n",
    "#29: Bubba Wallace story and additional angles \n",
    "#44: contested votes in Belarus and ensuing crackdowns \n",
    "#76: WRONG: premier league news, but not specific to an event \n",
    "#89: NO GREAT: U.S. ships coming near Iran, Iran launches military satellite around same time\n",
    "#97: Trans issues, especially Trans people in sports \n",
    "#141: Trump using illegal funds for border wall, Steve Bannon Arrested about it \n",
    "#153: Felon's voting in Florida \n",
    "#192: NOT GREAT - Black Friday, Tech Reviews, Cyber Monday, Apple \n",
    "#195: Tennis - clearly multiple clusters are merged I think"
   ]
  },
  {
   "cell_type": "code",
   "execution_count": 470,
   "metadata": {},
   "outputs": [
    {
     "data": {
      "text/plain": [
       "'\\nfor i, item in stormArticles.sample(20).sort_values(\"date\").iterrows(): \\n    print(item[\"date\"])\\n    print(item[\"title\"])\\n    print(item[\"content\"][:300])\\n    print(\"-----------------------------\")\\n'"
      ]
     },
     "execution_count": 470,
     "metadata": {},
     "output_type": "execute_result"
    }
   ],
   "source": [
    "\"\"\"\n",
    "for i, item in stormArticles.sample(20).sort_values(\"date\").iterrows(): \n",
    "    print(item[\"date\"])\n",
    "    print(item[\"title\"])\n",
    "    print(item[\"content\"][:300])\n",
    "    print(\"-----------------------------\")\n",
    "\"\"\""
   ]
  },
  {
   "cell_type": "code",
   "execution_count": 469,
   "metadata": {},
   "outputs": [
    {
     "data": {
      "text/plain": [
       "Index(['Unnamed: 0', 'key', 'local_id', 'sourcedomain_id', 'date', 'title',\n",
       "       'content', 'url', 'fips', 'source', 'description', 'onlinesince',\n",
       "       'rank', 'state', 'city', 'lon', 'lat', 'county', 'total_population',\n",
       "       'white_pct', 'black_pct', 'hispanic_pct', 'nonwhite_pct',\n",
       "       'foreignborn_pct', 'female_pct', 'age29andunder_pct',\n",
       "       'age65andolder_pct', 'median_hh_inc', 'clf_unemploy_pct', 'lesshs_pct',\n",
       "       'lesscollege_pct', 'lesshs_whites_pct', 'lesscollege_whites_pct',\n",
       "       'rural_pct', 'ruralurban_cc', 'predrt_0', 'predrt_12', 'predrt_3',\n",
       "       'national', 'id', 'author', 'published', 'published_utc',\n",
       "       'collection_utc', 'year', 'clustNum'],\n",
       "      dtype='object')"
      ]
     },
     "execution_count": 469,
     "metadata": {},
     "output_type": "execute_result"
    }
   ],
   "source": [
    "stormArticles"
   ]
  },
  {
   "cell_type": "code",
   "execution_count": null,
   "metadata": {},
   "outputs": [],
   "source": []
  }
 ],
 "metadata": {
  "kernelspec": {
   "display_name": "Python 3",
   "language": "python",
   "name": "python3"
  },
  "language_info": {
   "codemirror_mode": {
    "name": "ipython",
    "version": 3
   },
   "file_extension": ".py",
   "mimetype": "text/x-python",
   "name": "python",
   "nbconvert_exporter": "python",
   "pygments_lexer": "ipython3",
   "version": "3.8.5"
  }
 },
 "nbformat": 4,
 "nbformat_minor": 4
}
