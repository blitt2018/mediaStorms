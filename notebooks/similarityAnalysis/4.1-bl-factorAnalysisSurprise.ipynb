{
 "cells": [
  {
   "cell_type": "markdown",
   "metadata": {},
   "source": [
    "## Goal: Latent representations of news outlets "
   ]
  },
  {
   "cell_type": "code",
   "execution_count": 161,
   "metadata": {},
   "outputs": [],
   "source": [
    "from surprise import accuracy, Dataset, SVD\n",
    "from surprise.model_selection import train_test_split\n",
    "from surprise.reader import Reader\n",
    "from surprise import Dataset\n",
    "import pandas as pd\n",
    "import numpy as np"
   ]
  },
  {
   "cell_type": "code",
   "execution_count": 2,
   "metadata": {},
   "outputs": [
    {
     "name": "stderr",
     "output_type": "stream",
     "text": [
      "<ipython-input-2-8555fc74f582>:6: DtypeWarning: Columns (2,3,10,11,13,14,17,39,40,41) have mixed types. Specify dtype option on import or set low_memory=False.\n",
      "  merged = pd.read_csv(IN_PATH, sep=\"\\t\")\n"
     ]
    }
   ],
   "source": [
    "IN_PATH = \"/shared/3/projects/newsDiffusion/data/processed/fullDataWithClustNums.tsv\"\n",
    "\n",
    "#we are bringing in the data with demographic information and cluster ids \n",
    "#hence, merged\n",
    "#MVP path merged = pd.read_csv(\"/shared/3/projects/benlitterer/localNews/data/interim/SingleNE_85_clustered.tsv\", sep=\"\\t\")\n",
    "merged = pd.read_csv(IN_PATH, sep=\"\\t\")\n",
    "merged = merged.dropna(subset=[\"clustNum\"])\n",
    "\n"
   ]
  },
  {
   "cell_type": "code",
   "execution_count": 3,
   "metadata": {},
   "outputs": [],
   "source": [
    "merged[\"clustNum\"] = merged[\"clustNum\"].astype(int)"
   ]
  },
  {
   "cell_type": "code",
   "execution_count": 144,
   "metadata": {},
   "outputs": [],
   "source": [
    "outletGroups = merged[[\"source\", \"clustNum\"]].groupby(\"source\").agg(set)\n",
    "outletGroups[\"len\"] = outletGroups[\"clustNum\"].apply(len)\n",
    "outletGroups = outletGroups.sort_values(\"len\").head(400)\n",
    "outletDict = outletGroups.to_dict(orient=\"index\")"
   ]
  },
  {
   "cell_type": "code",
   "execution_count": 96,
   "metadata": {},
   "outputs": [],
   "source": [
    "#MAX_CLUSTNUM = max(merged[\"clustNum\"])\n",
    "#for TESTING: \n",
    "MAX_CLUSTNUM = 50000\n",
    "OUTLET_COUNT = len(outletGroups)"
   ]
  },
  {
   "cell_type": "code",
   "execution_count": 83,
   "metadata": {},
   "outputs": [],
   "source": [
    "#choiceMat = np.zeros((OUTLET_COUNT, MAX_CLUSTNUM), dtype=int)"
   ]
  },
  {
   "cell_type": "code",
   "execution_count": 97,
   "metadata": {},
   "outputs": [],
   "source": [
    "from tqdm import tqdm"
   ]
  },
  {
   "cell_type": "code",
   "execution_count": 102,
   "metadata": {},
   "outputs": [
    {
     "name": "stderr",
     "output_type": "stream",
     "text": [
      "100%|██████████| 200/200 [00:00<00:00, 291.56it/s]\n"
     ]
    }
   ],
   "source": [
    "#TODO: check indexing\n",
    "\n",
    "#change the appropriate indices to have zeros \n",
    "#this is the list telling us which index is which outlet in our matrix \n",
    "sortedOutlets = sorted(list(outletGroups.index))\n",
    "\n",
    "#get the data in long format\n",
    "longDict = {\"outletID\":[], \"storyID\":[], \"covered\":[]}\n",
    "for outlet in tqdm(sortedOutlets): \n",
    "    \n",
    "    #the indices corresponding to stories that are covered for this outlet \n",
    "    artIndices = outletDict[outlet][\"clustNum\"]\n",
    "    \n",
    "    #add the outlet ID and story ID\n",
    "    #if we have a max clust num of 5, that means we have 6 clusters (0 indexed)\n",
    "    longDict[\"outletID\"] += [outlet for i in range(0, MAX_CLUSTNUM+1)]\n",
    "    longDict[\"storyID\"] += [i for i in range(0, MAX_CLUSTNUM+1)]\n",
    "    \n",
    "    coverageVec = list(np.zeros(MAX_CLUSTNUM+1))\n",
    "    for storyIndex in outletDict[outlet][\"clustNum\"]: \n",
    "        if storyIndex <= MAX_CLUSTNUM: \n",
    "            coverageVec[storyIndex] = 1\n",
    "    longDict[\"covered\"] += coverageVec"
   ]
  },
  {
   "cell_type": "code",
   "execution_count": 105,
   "metadata": {},
   "outputs": [
    {
     "data": {
      "text/plain": [
       "2000200"
      ]
     },
     "execution_count": 105,
     "metadata": {},
     "output_type": "execute_result"
    }
   ],
   "source": [
    "coverageDf = pd.DataFrame(longDict)\n",
    "len(coverageDf)"
   ]
  },
  {
   "cell_type": "code",
   "execution_count": 106,
   "metadata": {},
   "outputs": [],
   "source": [
    "reader = Reader(rating_scale=(0, 1))\n",
    "dataset = Dataset.load_from_df(coverageDf, reader)"
   ]
  },
  {
   "cell_type": "code",
   "execution_count": null,
   "metadata": {},
   "outputs": [],
   "source": [
    "# sample random trainset and testset\n",
    "# test set is made of 25% of the ratings.\n",
    "trainset, testset = train_test_split(dataset, test_size=0.25)\n",
    "\n",
    "# We'll use the famous SVD algorithm.\n",
    "algo = SVD(n_factors=300)\n"
   ]
  },
  {
   "cell_type": "code",
   "execution_count": 131,
   "metadata": {},
   "outputs": [],
   "source": [
    "# Train the algorithm on the trainset, and predict ratings for the testset\n",
    "algo.fit(trainset)\n",
    "testOutput = algo.test(testset)\n"
   ]
  },
  {
   "cell_type": "code",
   "execution_count": 132,
   "metadata": {},
   "outputs": [],
   "source": [
    "predictions = [output.est for output in testOutput]\n",
    "binaryPreds = [int(round(pred, 0)) for pred in predictions]\n",
    "gts = [output.r_ui for output in testOutput]"
   ]
  },
  {
   "cell_type": "code",
   "execution_count": 133,
   "metadata": {},
   "outputs": [
    {
     "data": {
      "text/plain": [
       "500050"
      ]
     },
     "execution_count": 133,
     "metadata": {},
     "output_type": "execute_result"
    }
   ],
   "source": [
    "len(predictions)"
   ]
  },
  {
   "cell_type": "code",
   "execution_count": 134,
   "metadata": {},
   "outputs": [],
   "source": [
    "from sklearn.metrics import f1_score"
   ]
  },
  {
   "cell_type": "code",
   "execution_count": 135,
   "metadata": {},
   "outputs": [
    {
     "data": {
      "text/plain": [
       "0.016349977905435263"
      ]
     },
     "execution_count": 135,
     "metadata": {},
     "output_type": "execute_result"
    }
   ],
   "source": [
    "f1_score(gts, binaryPreds)"
   ]
  },
  {
   "cell_type": "code",
   "execution_count": 142,
   "metadata": {},
   "outputs": [
    {
     "data": {
      "text/plain": [
       "7522"
      ]
     },
     "execution_count": 142,
     "metadata": {},
     "output_type": "execute_result"
    }
   ],
   "source": [
    "len(trainset.ur[3])"
   ]
  },
  {
   "cell_type": "code",
   "execution_count": null,
   "metadata": {},
   "outputs": [],
   "source": []
  }
 ],
 "metadata": {
  "kernelspec": {
   "display_name": "Python 3",
   "language": "python",
   "name": "python3"
  },
  "language_info": {
   "codemirror_mode": {
    "name": "ipython",
    "version": 3
   },
   "file_extension": ".py",
   "mimetype": "text/x-python",
   "name": "python",
   "nbconvert_exporter": "python",
   "pygments_lexer": "ipython3",
   "version": "3.8.5"
  }
 },
 "nbformat": 4,
 "nbformat_minor": 4
}
