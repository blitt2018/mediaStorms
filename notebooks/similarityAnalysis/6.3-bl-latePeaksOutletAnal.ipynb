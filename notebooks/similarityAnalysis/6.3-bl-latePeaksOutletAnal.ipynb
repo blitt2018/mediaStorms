{
 "cells": [
  {
   "cell_type": "code",
   "execution_count": 2,
   "metadata": {},
   "outputs": [],
   "source": [
    "import pandas as pd \n",
    "import numpy as np\n",
    "import seaborn as sns\n",
    "import matplotlib.pyplot as plt"
   ]
  },
  {
   "cell_type": "code",
   "execution_count": 3,
   "metadata": {},
   "outputs": [
    {
     "name": "stderr",
     "output_type": "stream",
     "text": [
      "<ipython-input-3-c2e4cd69b53a>:2: DtypeWarning: Columns (2,3,10,11,13,14,17,39,40,41) have mixed types. Specify dtype option on import or set low_memory=False.\n",
      "  df = pd.read_csv(IN_PATH, sep=\"\\t\")\n"
     ]
    }
   ],
   "source": [
    "IN_PATH = \"/shared/3/projects/newsDiffusion/data/processed/fullDataWithClustNums.tsv\"\n",
    "df = pd.read_csv(IN_PATH, sep=\"\\t\")"
   ]
  },
  {
   "cell_type": "code",
   "execution_count": 4,
   "metadata": {},
   "outputs": [],
   "source": [
    "df[\"date\"] = pd.to_datetime(df[\"date\"])\n",
    "df = df.dropna(subset=[\"date\"])"
   ]
  },
  {
   "cell_type": "markdown",
   "metadata": {},
   "source": [
    "keep only data that overlaps with the local data we have (in time series) "
   ]
  },
  {
   "cell_type": "code",
   "execution_count": 5,
   "metadata": {},
   "outputs": [],
   "source": [
    "articlesReported = df[[\"source\", \"key\"]].groupby(\"source\").agg(len).rename(columns={\"key\":\"articlesReported\"})\n",
    "df = pd.merge(df, articlesReported, on=\"source\", how=\"left\")"
   ]
  },
  {
   "cell_type": "code",
   "execution_count": 6,
   "metadata": {},
   "outputs": [
    {
     "data": {
      "text/plain": [
       "1178397"
      ]
     },
     "execution_count": 6,
     "metadata": {},
     "output_type": "execute_result"
    }
   ],
   "source": [
    "firstLocDate = min(df.loc[df[\"national\"] == False, \"date\"])\n",
    "clusteredDates = df[[\"clustNum\", \"date\"]].groupby(by=\"clustNum\").agg(list).reset_index()\n",
    "clusteredDates[\"minDate\"] = clusteredDates[\"date\"].apply(lambda x: max(x))\n",
    "\n",
    "#we can only keep clusters whose first article occured after the \n",
    "#first day of local coverage in our data, 4/1\n",
    "keepClusts = clusteredDates.loc[clusteredDates[\"minDate\"] >= firstLocDate, \"clustNum\"]\n",
    "\n",
    "df = df[df[\"clustNum\"].isin(keepClusts)]\n",
    "len(df)"
   ]
  },
  {
   "cell_type": "code",
   "execution_count": 7,
   "metadata": {},
   "outputs": [],
   "source": [
    "clustDf = df[[\"clustNum\", \"source\", \"key\", \"title\", \"date\", \"state\", \"national\", \"median_hh_inc\", \"rural_pct\", \"total_population\", \"articlesReported\"]].groupby(\"clustNum\").agg(list)\n",
    "\n",
    "clustDf[\"clustSize\"] = clustDf[\"key\"].apply(len)\n",
    "\n",
    "clustDf = clustDf[clustDf[\"clustSize\"] < 3000]\n",
    "\n",
    "\n",
    "clustDf[\"duration\"] = ((clustDf[\"date\"].apply(max) - clustDf[\"date\"].apply(min)) / np.timedelta64(1, \"D\")) + 1\n",
    "\n",
    "def firstDayPercent(inList): \n",
    "    dayOne = min(inList)\n",
    "    return np.mean([day == dayOne for day in inList if day])\n",
    "\n",
    "clustDf[\"dayOnePercent\"] = clustDf[\"date\"].apply(firstDayPercent)"
   ]
  },
  {
   "cell_type": "markdown",
   "metadata": {},
   "source": [
    "## Most clusters are shortish"
   ]
  },
  {
   "cell_type": "code",
   "execution_count": 8,
   "metadata": {},
   "outputs": [
    {
     "data": {
      "text/plain": [
       "Text(0.5, 0, 'Cluster Duration')"
      ]
     },
     "execution_count": 8,
     "metadata": {},
     "output_type": "execute_result"
    },
    {
     "data": {
      "image/png": "[encoded data removed]",
      "text/plain": [
       "<Figure size 432x288 with 1 Axes>"
      ]
     },
     "metadata": {
      "needs_background": "light"
     },
     "output_type": "display_data"
    }
   ],
   "source": [
    "over1 = clustDf[(clustDf[\"duration\"] >= 2)]\n",
    "sns.ecdfplot(x=\"duration\", data=over1)\n",
    "plt.title(\"Empirical CDF: Cluster Duration\")\n",
    "plt.xlabel(\"Cluster Duration\")"
   ]
  },
  {
   "cell_type": "code",
   "execution_count": 9,
   "metadata": {},
   "outputs": [
    {
     "name": "stdout",
     "output_type": "stream",
     "text": [
      "1\n",
      "0.0\n",
      "10\n",
      "0.6049576708833941\n",
      "20\n",
      "0.6773717988329699\n",
      "30\n",
      "0.7230378093026951\n",
      "50\n",
      "0.7774962702707474\n"
     ]
    }
   ],
   "source": [
    "for currCutoff in [1, 10, 20, 30, 50]: \n",
    "    print(currCutoff)\n",
    "    print(len(over1[over1[\"duration\"] <= currCutoff]) / len(over1))"
   ]
  },
  {
   "cell_type": "code",
   "execution_count": 10,
   "metadata": {},
   "outputs": [
    {
     "name": "stdout",
     "output_type": "stream",
     "text": [
      "95465\n",
      "0.5248069047030043\n",
      "38.488620000000004\n"
     ]
    }
   ],
   "source": [
    "timeFiltered = clustDf[(clustDf[\"duration\"] >= 2) & (clustDf[\"duration\"] <= 90)]\n",
    "print(len(timeFiltered))\n",
    "print(len(timeFiltered) / len(clustDf))\n",
    "\n",
    "#all clusts under 30 - clusts under 30, geq 2\n",
    "print(84.65 - 46.16138)"
   ]
  },
  {
   "cell_type": "markdown",
   "metadata": {},
   "source": [
    "# apply outlet num cutoff"
   ]
  },
  {
   "cell_type": "code",
   "execution_count": 14,
   "metadata": {},
   "outputs": [
    {
     "name": "stderr",
     "output_type": "stream",
     "text": [
      "<ipython-input-14-fd570a4932fc>:1: SettingWithCopyWarning: \n",
      "A value is trying to be set on a copy of a slice from a DataFrame.\n",
      "Try using .loc[row_indexer,col_indexer] = value instead\n",
      "\n",
      "See the caveats in the documentation: https://pandas.pydata.org/pandas-docs/stable/user_guide/indexing.html#returning-a-view-versus-a-copy\n",
      "  timeFiltered[\"outletCount\"] = timeFiltered[\"source\"].apply(lambda x: len(set(x)))\n"
     ]
    }
   ],
   "source": [
    "timeFiltered[\"outletCount\"] = timeFiltered[\"source\"].apply(lambda x: len(set(x)))"
   ]
  },
  {
   "cell_type": "markdown",
   "metadata": {},
   "source": [
    "proportion of stories kept after all three cutoffs "
   ]
  },
  {
   "cell_type": "code",
   "execution_count": 13,
   "metadata": {},
   "outputs": [
    {
     "name": "stderr",
     "output_type": "stream",
     "text": [
      "<ipython-input-13-bdda5d55347f>:1: SettingWithCopyWarning: \n",
      "A value is trying to be set on a copy of a slice from a DataFrame.\n",
      "Try using .loc[row_indexer,col_indexer] = value instead\n",
      "\n",
      "See the caveats in the documentation: https://pandas.pydata.org/pandas-docs/stable/user_guide/indexing.html#returning-a-view-versus-a-copy\n",
      "  timeFiltered[\"natPercent\"] = timeFiltered[\"national\"].apply(np.mean)\n"
     ]
    }
   ],
   "source": [
    "timeFiltered[\"natPercent\"] = timeFiltered[\"national\"].apply(np.mean)"
   ]
  },
  {
   "cell_type": "code",
   "execution_count": 15,
   "metadata": {},
   "outputs": [
    {
     "name": "stderr",
     "output_type": "stream",
     "text": [
      "<ipython-input-15-f7207d80f4bc>:5: SettingWithCopyWarning: \n",
      "A value is trying to be set on a copy of a slice from a DataFrame.\n",
      "Try using .loc[row_indexer,col_indexer] = value instead\n",
      "\n",
      "See the caveats in the documentation: https://pandas.pydata.org/pandas-docs/stable/user_guide/indexing.html#returning-a-view-versus-a-copy\n",
      "  timeFiltered[\"storyDay\"] = timeFiltered[\"date\"].apply(getStoryDay)\n"
     ]
    }
   ],
   "source": [
    "def getStoryDay(inList): \n",
    "    dayOne = min(inList)\n",
    "    return [((date - dayOne) / np.timedelta64(1, \"D\")) for date in inList]\n",
    "\n",
    "timeFiltered[\"storyDay\"] = timeFiltered[\"date\"].apply(getStoryDay)"
   ]
  },
  {
   "cell_type": "code",
   "execution_count": 16,
   "metadata": {},
   "outputs": [
    {
     "name": "stderr",
     "output_type": "stream",
     "text": [
      "<ipython-input-16-0ecdf79b730c>:1: SettingWithCopyWarning: \n",
      "A value is trying to be set on a copy of a slice from a DataFrame.\n",
      "Try using .loc[row_indexer,col_indexer] = value instead\n",
      "\n",
      "See the caveats in the documentation: https://pandas.pydata.org/pandas-docs/stable/user_guide/indexing.html#returning-a-view-versus-a-copy\n",
      "  timeFiltered[\"uniqueDays\"] = timeFiltered[\"date\"].apply(lambda x: len(set(x)))\n"
     ]
    }
   ],
   "source": [
    "timeFiltered[\"uniqueDays\"] = timeFiltered[\"date\"].apply(lambda x: len(set(x)))"
   ]
  },
  {
   "cell_type": "code",
   "execution_count": 19,
   "metadata": {},
   "outputs": [
    {
     "name": "stderr",
     "output_type": "stream",
     "text": [
      "<ipython-input-19-b58f0b0261ca>:11: SettingWithCopyWarning: \n",
      "A value is trying to be set on a copy of a slice from a DataFrame.\n",
      "Try using .loc[row_indexer,col_indexer] = value instead\n",
      "\n",
      "See the caveats in the documentation: https://pandas.pydata.org/pandas-docs/stable/user_guide/indexing.html#returning-a-view-versus-a-copy\n",
      "  timeFiltered[\"storyPropCount\"] = timeFiltered.apply(getArticleIndex, axis=1)\n"
     ]
    }
   ],
   "source": [
    "def getArticleIndex(inRow): \n",
    "    days = sorted(list(set(inRow[\"date\"])))\n",
    "    indexList = []\n",
    "    \n",
    "    #for each date, get which day of coverage it was in terms \n",
    "    #of articles published before it \n",
    "    for date in inRow[\"date\"]: \n",
    "        indexList.append(days.index(date) / (inRow[\"uniqueDays\"] -1))\n",
    "    return indexList\n",
    "\n",
    "timeFiltered[\"storyPropCount\"] = timeFiltered.apply(getArticleIndex, axis=1)"
   ]
  },
  {
   "cell_type": "code",
   "execution_count": 38,
   "metadata": {},
   "outputs": [
    {
     "name": "stderr",
     "output_type": "stream",
     "text": [
      "<ipython-input-38-5529dbf902a0>:11: SettingWithCopyWarning: \n",
      "A value is trying to be set on a copy of a slice from a DataFrame.\n",
      "Try using .loc[row_indexer,col_indexer] = value instead\n",
      "\n",
      "See the caveats in the documentation: https://pandas.pydata.org/pandas-docs/stable/user_guide/indexing.html#returning-a-view-versus-a-copy\n",
      "  timeFiltered[[\"peakDay\", \"peakCount\", \"peakPercent\"]] = list(timeFiltered[\"storyDay\"].apply(getPeakPercent))\n",
      "<ipython-input-38-5529dbf902a0>:11: SettingWithCopyWarning: \n",
      "A value is trying to be set on a copy of a slice from a DataFrame.\n",
      "Try using .loc[row_indexer,col_indexer] = value instead\n",
      "\n",
      "See the caveats in the documentation: https://pandas.pydata.org/pandas-docs/stable/user_guide/indexing.html#returning-a-view-versus-a-copy\n",
      "  timeFiltered[[\"peakDay\", \"peakCount\", \"peakPercent\"]] = list(timeFiltered[\"storyDay\"].apply(getPeakPercent))\n",
      "<ipython-input-38-5529dbf902a0>:11: SettingWithCopyWarning: \n",
      "A value is trying to be set on a copy of a slice from a DataFrame.\n",
      "Try using .loc[row_indexer,col_indexer] = value instead\n",
      "\n",
      "See the caveats in the documentation: https://pandas.pydata.org/pandas-docs/stable/user_guide/indexing.html#returning-a-view-versus-a-copy\n",
      "  timeFiltered[[\"peakDay\", \"peakCount\", \"peakPercent\"]] = list(timeFiltered[\"storyDay\"].apply(getPeakPercent))\n"
     ]
    }
   ],
   "source": [
    "from collections import Counter\n",
    "def getPeakPercent(storyDays): \n",
    "    peakDay, peakCount = Counter(storyDays).most_common()[0]\n",
    "    \n",
    "    #example: if a story has days 0-4, then day 1 would be 1 / 4 == .25. \n",
    "    #this way, day 0 is always zero and day 1 is always one \n",
    "    #noting that this is in terms of days between first and last article, not days that we have coverage \n",
    "    peakPercent = peakDay / max(storyDays)\n",
    "    return (peakDay, peakCount, peakPercent)\n",
    "    \n",
    "timeFiltered[[\"peakDay\", \"peakCount\", \"peakPercent\"]] = list(timeFiltered[\"storyDay\"].apply(getPeakPercent))"
   ]
  },
  {
   "cell_type": "code",
   "execution_count": 49,
   "metadata": {},
   "outputs": [
    {
     "name": "stdout",
     "output_type": "stream",
     "text": [
      "dimension of delayed peak df (31794, 21)\n",
      "dimension of df with all stories (95465, 21)\n",
      "proportion of stories with peak after day 0 0.3330435238045357\n"
     ]
    }
   ],
   "source": [
    "#first cutoff should just be only looking at stories where the peak occurs after day 0 \n",
    "peakFiltered = timeFiltered[timeFiltered[\"peakDay\"] > 0]\n",
    "print(f\"dimension of delayed peak df {peakFiltered.shape}\") \n",
    "print(f\"dimension of df with all stories {timeFiltered.shape}\") \n",
    "\n",
    "print(f\"proportion of stories with peak after day 0 {(1 - (len(timeFiltered) - len(peakFiltered)) / len(timeFiltered))}\")"
   ]
  },
  {
   "cell_type": "code",
   "execution_count": 88,
   "metadata": {},
   "outputs": [],
   "source": [
    "filtLong = timeFiltered.explode([\"source\", \"key\", \"title\", \"date\", \"storyDay\", \"state\", \"storyPropCount\", \"national\", \"median_hh_inc\", \"rural_pct\", \"total_population\", \"articlesReported\"]).reset_index()"
   ]
  },
  {
   "cell_type": "code",
   "execution_count": 89,
   "metadata": {},
   "outputs": [],
   "source": [
    "filtLong[\"storyPropDays\"] = (filtLong[\"storyDay\"]) / (filtLong[\"duration\"] - 1) "
   ]
  },
  {
   "cell_type": "code",
   "execution_count": 90,
   "metadata": {},
   "outputs": [],
   "source": [
    "latePeakers = filtLong[filtLong[\"peakDay\"] > 0]\n",
    "earlyPeakers = filtLong[filtLong[\"peakDay\"] == 0]"
   ]
  },
  {
   "cell_type": "code",
   "execution_count": 91,
   "metadata": {},
   "outputs": [],
   "source": [
    "#now get the outlet level mean of stories in terms of when their stories appear in coverage \n",
    "outletClustsEarly = earlyPeakers[[\"source\", \"storyPropDays\", \"national\", \"articlesReported\"]].groupby(\"source\")\\\n",
    ".agg({\"national\":list, \"articlesReported\":list, \"storyPropDays\":[np.mean, len]}).droplevel([0], axis=1) #.sort_values([\"mean\", \"len\"], ascending=False)\n",
    "outletClustsEarly.columns = [\"national\", \"articlesReported\", \"storyPropDaysMean\", \"numStories\"]\n",
    "outletClustsEarly[\"national\"] = outletClustsEarly[\"national\"].apply(lambda x: x[0])\n",
    "outletClustsEarly[\"articlesReported\"] = outletClustsEarly[\"articlesReported\"].apply(lambda x: x[0])\n",
    "\n",
    "outletClustsLate = latePeakers[[\"source\", \"storyPropDays\", \"national\", \"articlesReported\"]].groupby(\"source\")\\\n",
    ".agg({\"national\":list, \"articlesReported\":list, \"storyPropDays\":[np.mean, len]}).droplevel([0], axis=1) #.sort_values([\"mean\", \"len\"], ascending=False)\n",
    "outletClustsLate.columns = [\"national\", \"articlesReported\", \"storyPropDaysMean\", \"numStories\"]\n",
    "outletClustsLate[\"national\"] = outletClustsLate[\"national\"].apply(lambda x: x[0])\n",
    "outletClustsLate[\"articlesReported\"] = outletClustsLate[\"articlesReported\"].apply(lambda x: x[0])\n"
   ]
  },
  {
   "cell_type": "markdown",
   "metadata": {},
   "source": [
    "# is scooped coverage more national or local? "
   ]
  },
  {
   "cell_type": "markdown",
   "metadata": {},
   "source": [
    "If we look at coverage for scooped (late peak) stories, we see that these are more likely to be national"
   ]
  },
  {
   "cell_type": "code",
   "execution_count": 92,
   "metadata": {},
   "outputs": [
    {
     "name": "stdout",
     "output_type": "stream",
     "text": [
      "proportion of national in all coverage: 0.659448198048126\n",
      "proportion of national in scooped coverage: 0.7762578730383652\n"
     ]
    }
   ],
   "source": [
    "print(f'proportion of national in all coverage: {np.mean(earlyPeakers[\"national\"] == True)}')\n",
    "print(f'proportion of national in scooped coverage: {np.mean(latePeakers[\"national\"] == True)}')"
   ]
  },
  {
   "cell_type": "code",
   "execution_count": 96,
   "metadata": {},
   "outputs": [],
   "source": [
    "#look at distribution? \n",
    "earlyNatPercent = earlyPeakers[[\"clustNum\", \"natPercent\"]].groupby(by=\"clustNum\").agg(lambda x: list(x)[0])\n",
    "lateNatPercent = latePeakers[[\"clustNum\", \"natPercent\"]].groupby(by=\"clustNum\").agg(lambda x: list(x)[0])"
   ]
  },
  {
   "cell_type": "code",
   "execution_count": null,
   "metadata": {},
   "outputs": [],
   "source": [
    "#finding: national "
   ]
  },
  {
   "cell_type": "code",
   "execution_count": 110,
   "metadata": {},
   "outputs": [
    {
     "data": {
      "image/png": "[encoded data removed]",
      "text/plain": [
       "<Figure size 432x288 with 2 Axes>"
      ]
     },
     "metadata": {
      "needs_background": "light"
     },
     "output_type": "display_data"
    }
   ],
   "source": [
    "fig, axs = plt.subplots(2, sharey=True)\n",
    "sns.histplot(earlyNatPercent, stat=\"percent\", bins=np.arange(0, 1.1, .1), ax=axs[0])\n",
    "axs[0].set_title(\"coverage which peaks on day 1\")\n",
    "\n",
    "sns.histplot(lateNatPercent, stat=\"percent\", bins=np.arange(0, 1.1, .1), ax=axs[1])\n",
    "axs[1].set_title(\"coverage which peaks after day 1\")\n",
    "plt.tight_layout()"
   ]
  },
  {
   "cell_type": "code",
   "execution_count": 86,
   "metadata": {},
   "outputs": [],
   "source": [
    "#is scooped coverage more national or local? "
   ]
  },
  {
   "cell_type": "markdown",
   "metadata": {},
   "source": [
    "## do national or local outlets tend to be the first to report scoops? "
   ]
  },
  {
   "cell_type": "markdown",
   "metadata": {},
   "source": [
    "we will also want just the first story in story clusters from each outlet (below)"
   ]
  },
  {
   "cell_type": "code",
   "execution_count": 75,
   "metadata": {},
   "outputs": [],
   "source": [
    "#get the first day of coverage \n",
    "filtNoDups = filtLong.reset_index().sort_values([\"clustNum\", \"date\"]).drop_duplicates(subset=[\"clustNum\", \"source\"])\n",
    "\n",
    "firstCoverageClusters = filtNoDups[[\"source\", \"storyPropDays\", \"national\"]].groupby(\"source\")\\\n",
    ".agg({\"national\":list, \"storyPropDays\":[np.mean, len]}).droplevel([0], axis=1) #.sort_values([\"mean\", \"len\"], ascending=False)\n",
    "firstCoverageClusters.columns = [\"national\", \"storyPropDaysMean\", \"numStories\"]\n",
    "firstCoverageClusters[\"national\"] = firstCoverageClusters[\"national\"].apply(lambda x: x[0])\n",
    "\n",
    "#now get the outlet level mean of stories \n",
    "#firstCoverageClusters = fourtyNoDups[[\"source\", \"storyProportion\"]].groupby(\"source\").agg([np.mean, len]).droplevel([0], axis=1).sort_values([\"mean\", \"len\"], ascending=False)"
   ]
  },
  {
   "cell_type": "code",
   "execution_count": 77,
   "metadata": {},
   "outputs": [
    {
     "data": {
      "text/html": [
       "<div>\n",
       "<style scoped>\n",
       "    .dataframe tbody tr th:only-of-type {\n",
       "        vertical-align: middle;\n",
       "    }\n",
       "\n",
       "    .dataframe tbody tr th {\n",
       "        vertical-align: top;\n",
       "    }\n",
       "\n",
       "    .dataframe thead th {\n",
       "        text-align: right;\n",
       "    }\n",
       "</style>\n",
       "<table border=\"1\" class=\"dataframe\">\n",
       "  <thead>\n",
       "    <tr style=\"text-align: right;\">\n",
       "      <th></th>\n",
       "      <th>national</th>\n",
       "      <th>articlesReported</th>\n",
       "      <th>storyPropDaysMean</th>\n",
       "      <th>numStories</th>\n",
       "    </tr>\n",
       "    <tr>\n",
       "      <th>source</th>\n",
       "      <th></th>\n",
       "      <th></th>\n",
       "      <th></th>\n",
       "      <th></th>\n",
       "    </tr>\n",
       "  </thead>\n",
       "  <tbody>\n",
       "    <tr>\n",
       "      <th>21stcenturywire</th>\n",
       "      <td>True</td>\n",
       "      <td>853</td>\n",
       "      <td>0.369399</td>\n",
       "      <td>154</td>\n",
       "    </tr>\n",
       "    <tr>\n",
       "      <th>911truthorg</th>\n",
       "      <td>True</td>\n",
       "      <td>11</td>\n",
       "      <td>0.555556</td>\n",
       "      <td>2</td>\n",
       "    </tr>\n",
       "    <tr>\n",
       "      <th>abcnews</th>\n",
       "      <td>True</td>\n",
       "      <td>8884</td>\n",
       "      <td>0.274617</td>\n",
       "      <td>2231</td>\n",
       "    </tr>\n",
       "    <tr>\n",
       "      <th>acnlatitudes</th>\n",
       "      <td>True</td>\n",
       "      <td>25</td>\n",
       "      <td>0.610169</td>\n",
       "      <td>8</td>\n",
       "    </tr>\n",
       "    <tr>\n",
       "      <th>activistpost</th>\n",
       "      <td>True</td>\n",
       "      <td>3020</td>\n",
       "      <td>0.316794</td>\n",
       "      <td>982</td>\n",
       "    </tr>\n",
       "    <tr>\n",
       "      <th>...</th>\n",
       "      <td>...</td>\n",
       "      <td>...</td>\n",
       "      <td>...</td>\n",
       "      <td>...</td>\n",
       "    </tr>\n",
       "    <tr>\n",
       "      <th>x22report</th>\n",
       "      <td>True</td>\n",
       "      <td>253</td>\n",
       "      <td>0.013275</td>\n",
       "      <td>45</td>\n",
       "    </tr>\n",
       "    <tr>\n",
       "      <th>yahoonews</th>\n",
       "      <td>True</td>\n",
       "      <td>4720</td>\n",
       "      <td>0.4203</td>\n",
       "      <td>631</td>\n",
       "    </tr>\n",
       "    <tr>\n",
       "      <th>yellowspringsnews</th>\n",
       "      <td>False</td>\n",
       "      <td>444</td>\n",
       "      <td>0.491732</td>\n",
       "      <td>61</td>\n",
       "    </tr>\n",
       "    <tr>\n",
       "      <th>yna</th>\n",
       "      <td>True</td>\n",
       "      <td>11623</td>\n",
       "      <td>0.46448</td>\n",
       "      <td>182</td>\n",
       "    </tr>\n",
       "    <tr>\n",
       "      <th>zerohedge</th>\n",
       "      <td>True</td>\n",
       "      <td>2496</td>\n",
       "      <td>0.183187</td>\n",
       "      <td>19</td>\n",
       "    </tr>\n",
       "  </tbody>\n",
       "</table>\n",
       "<p>726 rows × 4 columns</p>\n",
       "</div>"
      ],
      "text/plain": [
       "                   national  articlesReported storyPropDaysMean  numStories\n",
       "source                                                                     \n",
       "21stcenturywire        True               853          0.369399         154\n",
       "911truthorg            True                11          0.555556           2\n",
       "abcnews                True              8884          0.274617        2231\n",
       "acnlatitudes           True                25          0.610169           8\n",
       "activistpost           True              3020          0.316794         982\n",
       "...                     ...               ...               ...         ...\n",
       "x22report              True               253          0.013275          45\n",
       "yahoonews              True              4720            0.4203         631\n",
       "yellowspringsnews     False               444          0.491732          61\n",
       "yna                    True             11623           0.46448         182\n",
       "zerohedge              True              2496          0.183187          19\n",
       "\n",
       "[726 rows x 4 columns]"
      ]
     },
     "execution_count": 77,
     "metadata": {},
     "output_type": "execute_result"
    }
   ],
   "source": [
    "coverageClusters"
   ]
  },
  {
   "cell_type": "code",
   "execution_count": 111,
   "metadata": {},
   "outputs": [
    {
     "data": {
      "text/plain": [
       "Text(0.5, 0.98, 'Distribution of When Outlets Report During the Life of a Story [0,1]')"
      ]
     },
     "execution_count": 111,
     "metadata": {},
     "output_type": "execute_result"
    },
    {
     "data": {
      "image/png": "[encoded data removed]",
      "text/plain": [
       "<Figure size 432x432 with 1 Axes>"
      ]
     },
     "metadata": {
      "needs_background": "light"
     },
     "output_type": "display_data"
    }
   ],
   "source": [
    "\n",
    "fig, ax = plt.subplots(1, figsize=(6, 6))\n",
    "sns.kdeplot(x=\"storyPropDaysMean\", hue=\"national\", common_norm=False, data=coverageClusters[coverageClusters[\"numStories\"] > 10], ax=ax)\n",
    "ax.set_xlabel(\"reporting time during life of story, averaged within outlets(days)\")\n",
    "ax.set_ylabel(\"density of outlets\")\n",
    "\n",
    "fig.suptitle(\"Distribution of When Outlets Report During the Life of a Story [0,1]\")"
   ]
  },
  {
   "cell_type": "code",
   "execution_count": null,
   "metadata": {},
   "outputs": [],
   "source": [
    "\n",
    "fig, ax = plt.subplots(1, figsize=(6, 6))\n",
    "sns.kdeplot(x=\"storyPropDaysMean\", hue=\"national\", common_norm=False, data=coverageClusters[coverageClusters[\"numStories\"] > 100], ax=ax)\n",
    "ax.set_xlabel(\"reporting time during life of story, averaged within outlets(days)\")\n",
    "ax.set_ylabel(\"density of outlets\")\n",
    "\n",
    "fig.suptitle(\"Distribution of When Outlets Report During the Life of a Story [0,1]\")"
   ]
  },
  {
   "cell_type": "code",
   "execution_count": 1315,
   "metadata": {},
   "outputs": [
    {
     "data": {
      "text/plain": [
       "Text(0.5, 0.98, 'Distribution of When Stories are Reported [0,1]')"
      ]
     },
     "execution_count": 1315,
     "metadata": {},
     "output_type": "execute_result"
    },
    {
     "data": {
      "image/png": "[encoded data removed]",
      "text/plain": [
       "<Figure size 576x432 with 2 Axes>"
      ]
     },
     "metadata": {
      "needs_background": "light"
     },
     "output_type": "display_data"
    }
   ],
   "source": [
    "fig, axs = plt.subplots(2, figsize=(8, 6))\n",
    "sns.kdeplot(x=\"storyPropDays\", hue=\"national\", common_norm=False, data=fourtyLong, ax=axs[0])\n",
    "axs[0].set_xlabel(\"reporting time during life of story (normalized days)\")\n",
    "axs[0].set_ylabel(\"density of stories\")\n",
    "\n",
    "sns.kdeplot(x=\"storyPropCount\", hue=\"national\", common_norm=False, data=fourtyLong, ax=axs[1])\n",
    "axs[1].set_xlabel(\"reporting time during life of story (normalized by article count)\")\n",
    "axs[1].set_ylabel(\"density of stories\")\n",
    "\n",
    "fig.suptitle(\"Distribution of When Stories are Reported [0,1]\")"
   ]
  },
  {
   "cell_type": "markdown",
   "metadata": {},
   "source": [
    "## Same plots, but only consider first reporting"
   ]
  },
  {
   "cell_type": "code",
   "execution_count": 1316,
   "metadata": {},
   "outputs": [
    {
     "data": {
      "text/plain": [
       "Text(0.5, 0.98, 'Distribution of When Outlets Report During the Life of a Story [0,1]')"
      ]
     },
     "execution_count": 1316,
     "metadata": {},
     "output_type": "execute_result"
    },
    {
     "data": {
      "image/png": "[encoded data removed]",
      "text/plain": [
       "<Figure size 576x432 with 2 Axes>"
      ]
     },
     "metadata": {
      "needs_background": "light"
     },
     "output_type": "display_data"
    }
   ],
   "source": [
    "\n",
    "fig, axs = plt.subplots(2, figsize=(8, 6))\n",
    "sns.kdeplot(x=\"storyPropDaysMean\", hue=\"national\", common_norm=False, data=firstCoverageClusters[firstCoverageClusters[\"numStories\"] > 100], ax=axs[0])\n",
    "axs[0].set_xlabel(\"reporting time during life of story, averaged within outlets(days)\")\n",
    "axs[0].set_ylabel(\"density of outlets\")\n",
    "\n",
    "sns.kdeplot(x=\"storyPropCountMean\", hue=\"national\", common_norm=False, data=firstCoverageClusters[firstCoverageClusters[\"numStories\"] > 10], ax=axs[1])\n",
    "axs[1].set_xlabel(\"reporting time during life of story, averaged within outlets (# of articles)\")\n",
    "axs[1].set_ylabel(\"density of outlets\")\n",
    "\n",
    "fig.suptitle(\"Distribution of When Outlets Report During the Life of a Story [0,1]\")"
   ]
  },
  {
   "cell_type": "code",
   "execution_count": 1317,
   "metadata": {},
   "outputs": [
    {
     "data": {
      "text/plain": [
       "Text(0.5, 0.98, 'Distribution of When Stories are Reported [0,1]')"
      ]
     },
     "execution_count": 1317,
     "metadata": {},
     "output_type": "execute_result"
    },
    {
     "data": {
      "image/png": "[encoded data removed]",
      "text/plain": [
       "<Figure size 576x432 with 2 Axes>"
      ]
     },
     "metadata": {
      "needs_background": "light"
     },
     "output_type": "display_data"
    }
   ],
   "source": [
    "fig, axs = plt.subplots(2, figsize=(8, 6))\n",
    "sns.kdeplot(x=\"storyPropDays\", hue=\"national\", common_norm=False, data=fourtyNoDups, ax=axs[0])\n",
    "axs[0].set_xlabel(\"reporting time during life of story (normalized days)\")\n",
    "axs[0].set_ylabel(\"density of stories\")\n",
    "\n",
    "sns.kdeplot(x=\"storyPropCount\", hue=\"national\", common_norm=False, data=fourtyNoDups, ax=axs[1])\n",
    "axs[1].set_xlabel(\"reporting time during life of story (normalized by article count)\")\n",
    "axs[1].set_ylabel(\"density of stories\")\n",
    "\n",
    "fig.suptitle(\"Distribution of When Stories are Reported [0,1]\")"
   ]
  },
  {
   "cell_type": "markdown",
   "metadata": {},
   "source": [
    "let's get some examples of local and national early and late outlets "
   ]
  },
  {
   "cell_type": "code",
   "execution_count": 1318,
   "metadata": {},
   "outputs": [
    {
     "data": {
      "text/html": [
       "<div>\n",
       "<style scoped>\n",
       "    .dataframe tbody tr th:only-of-type {\n",
       "        vertical-align: middle;\n",
       "    }\n",
       "\n",
       "    .dataframe tbody tr th {\n",
       "        vertical-align: top;\n",
       "    }\n",
       "\n",
       "    .dataframe thead th {\n",
       "        text-align: right;\n",
       "    }\n",
       "</style>\n",
       "<table border=\"1\" class=\"dataframe\">\n",
       "  <thead>\n",
       "    <tr style=\"text-align: right;\">\n",
       "      <th></th>\n",
       "      <th>national</th>\n",
       "      <th>articlesReported</th>\n",
       "      <th>storyPropDaysMean</th>\n",
       "      <th>storyPropCountMean</th>\n",
       "      <th>numStories</th>\n",
       "    </tr>\n",
       "    <tr>\n",
       "      <th>source</th>\n",
       "      <th></th>\n",
       "      <th></th>\n",
       "      <th></th>\n",
       "      <th></th>\n",
       "      <th></th>\n",
       "    </tr>\n",
       "  </thead>\n",
       "  <tbody>\n",
       "    <tr>\n",
       "      <th>theseattletimes</th>\n",
       "      <td>False</td>\n",
       "      <td>22736</td>\n",
       "      <td>0.373038</td>\n",
       "      <td>0.35229</td>\n",
       "      <td>1836</td>\n",
       "    </tr>\n",
       "    <tr>\n",
       "      <th>deseretnews</th>\n",
       "      <td>False</td>\n",
       "      <td>5011</td>\n",
       "      <td>0.442337</td>\n",
       "      <td>0.436611</td>\n",
       "      <td>169</td>\n",
       "    </tr>\n",
       "    <tr>\n",
       "      <th>therepublic</th>\n",
       "      <td>False</td>\n",
       "      <td>5053</td>\n",
       "      <td>0.46446</td>\n",
       "      <td>0.451335</td>\n",
       "      <td>384</td>\n",
       "    </tr>\n",
       "    <tr>\n",
       "      <th>theheraldnet</th>\n",
       "      <td>False</td>\n",
       "      <td>3954</td>\n",
       "      <td>0.461885</td>\n",
       "      <td>0.459505</td>\n",
       "      <td>146</td>\n",
       "    </tr>\n",
       "    <tr>\n",
       "      <th>startribune</th>\n",
       "      <td>False</td>\n",
       "      <td>4030</td>\n",
       "      <td>0.458385</td>\n",
       "      <td>0.47578</td>\n",
       "      <td>296</td>\n",
       "    </tr>\n",
       "  </tbody>\n",
       "</table>\n",
       "</div>"
      ],
      "text/plain": [
       "                 national  articlesReported storyPropDaysMean   \n",
       "source                                                          \n",
       "theseattletimes     False             22736          0.373038  \\\n",
       "deseretnews         False              5011          0.442337   \n",
       "therepublic         False              5053           0.46446   \n",
       "theheraldnet        False              3954          0.461885   \n",
       "startribune         False              4030          0.458385   \n",
       "\n",
       "                storyPropCountMean  numStories  \n",
       "source                                          \n",
       "theseattletimes            0.35229        1836  \n",
       "deseretnews               0.436611         169  \n",
       "therepublic               0.451335         384  \n",
       "theheraldnet              0.459505         146  \n",
       "startribune                0.47578         296  "
      ]
     },
     "execution_count": 1318,
     "metadata": {},
     "output_type": "execute_result"
    }
   ],
   "source": [
    "lenSorted = coverageClusters[coverageClusters[\"numStories\"] > 100].sort_values([\"storyPropCountMean\", \"storyPropDaysMean\"])\n",
    "lenSorted[lenSorted[\"national\"] == False].head(5)"
   ]
  },
  {
   "cell_type": "code",
   "execution_count": 1319,
   "metadata": {},
   "outputs": [
    {
     "data": {
      "text/html": [
       "<div>\n",
       "<style scoped>\n",
       "    .dataframe tbody tr th:only-of-type {\n",
       "        vertical-align: middle;\n",
       "    }\n",
       "\n",
       "    .dataframe tbody tr th {\n",
       "        vertical-align: top;\n",
       "    }\n",
       "\n",
       "    .dataframe thead th {\n",
       "        text-align: right;\n",
       "    }\n",
       "</style>\n",
       "<table border=\"1\" class=\"dataframe\">\n",
       "  <thead>\n",
       "    <tr style=\"text-align: right;\">\n",
       "      <th></th>\n",
       "      <th>national</th>\n",
       "      <th>articlesReported</th>\n",
       "      <th>storyPropDaysMean</th>\n",
       "      <th>storyPropCountMean</th>\n",
       "      <th>numStories</th>\n",
       "    </tr>\n",
       "    <tr>\n",
       "      <th>source</th>\n",
       "      <th></th>\n",
       "      <th></th>\n",
       "      <th></th>\n",
       "      <th></th>\n",
       "      <th></th>\n",
       "    </tr>\n",
       "  </thead>\n",
       "  <tbody>\n",
       "    <tr>\n",
       "      <th>thebrainerddailydispatch</th>\n",
       "      <td>False</td>\n",
       "      <td>4666</td>\n",
       "      <td>0.719611</td>\n",
       "      <td>0.71637</td>\n",
       "      <td>282</td>\n",
       "    </tr>\n",
       "    <tr>\n",
       "      <th>theirontontribune</th>\n",
       "      <td>False</td>\n",
       "      <td>2353</td>\n",
       "      <td>0.686962</td>\n",
       "      <td>0.720999</td>\n",
       "      <td>133</td>\n",
       "    </tr>\n",
       "    <tr>\n",
       "      <th>thejamestownsun</th>\n",
       "      <td>False</td>\n",
       "      <td>3969</td>\n",
       "      <td>0.721366</td>\n",
       "      <td>0.73266</td>\n",
       "      <td>240</td>\n",
       "    </tr>\n",
       "    <tr>\n",
       "      <th>grandforksherald</th>\n",
       "      <td>False</td>\n",
       "      <td>4145</td>\n",
       "      <td>0.744008</td>\n",
       "      <td>0.748389</td>\n",
       "      <td>321</td>\n",
       "    </tr>\n",
       "    <tr>\n",
       "      <th>themitchelldailyrepublic</th>\n",
       "      <td>False</td>\n",
       "      <td>3900</td>\n",
       "      <td>0.75318</td>\n",
       "      <td>0.75299</td>\n",
       "      <td>208</td>\n",
       "    </tr>\n",
       "  </tbody>\n",
       "</table>\n",
       "</div>"
      ],
      "text/plain": [
       "                          national  articlesReported storyPropDaysMean   \n",
       "source                                                                   \n",
       "thebrainerddailydispatch     False              4666          0.719611  \\\n",
       "theirontontribune            False              2353          0.686962   \n",
       "thejamestownsun              False              3969          0.721366   \n",
       "grandforksherald             False              4145          0.744008   \n",
       "themitchelldailyrepublic     False              3900           0.75318   \n",
       "\n",
       "                         storyPropCountMean  numStories  \n",
       "source                                                   \n",
       "thebrainerddailydispatch            0.71637         282  \n",
       "theirontontribune                  0.720999         133  \n",
       "thejamestownsun                     0.73266         240  \n",
       "grandforksherald                   0.748389         321  \n",
       "themitchelldailyrepublic            0.75299         208  "
      ]
     },
     "execution_count": 1319,
     "metadata": {},
     "output_type": "execute_result"
    }
   ],
   "source": [
    "lenSorted[lenSorted[\"national\"] == False].tail(5)"
   ]
  },
  {
   "cell_type": "code",
   "execution_count": 1320,
   "metadata": {},
   "outputs": [],
   "source": [
    "#let's get some stories from the mitchell daily republic"
   ]
  },
  {
   "cell_type": "code",
   "execution_count": 1321,
   "metadata": {},
   "outputs": [],
   "source": [
    "fourtyLong = fourtyLong.reset_index()"
   ]
  },
  {
   "cell_type": "code",
   "execution_count": 1322,
   "metadata": {},
   "outputs": [],
   "source": [
    "#mitchellClusts = list(set(fourtyLong.reset_index().loc[fourtyLong[\"source\"] == \"themitchelldailyrepublic\", \"clustNum\"]))"
   ]
  },
  {
   "cell_type": "code",
   "execution_count": 1323,
   "metadata": {},
   "outputs": [
    {
     "data": {
      "text/plain": [
       "[520.0, 20488.0, 78344.0, 13835.0, 159754.0]"
      ]
     },
     "execution_count": 1323,
     "metadata": {},
     "output_type": "execute_result"
    }
   ],
   "source": [
    "mitchellRows = fourtyLong[fourtyLong[\"clustNum\"].isin(mitchellClusts)]\n",
    "mitchellClusts[:5]"
   ]
  },
  {
   "cell_type": "code",
   "execution_count": 1324,
   "metadata": {},
   "outputs": [
    {
     "data": {
      "text/html": [
       "<div>\n",
       "<style scoped>\n",
       "    .dataframe tbody tr th:only-of-type {\n",
       "        vertical-align: middle;\n",
       "    }\n",
       "\n",
       "    .dataframe tbody tr th {\n",
       "        vertical-align: top;\n",
       "    }\n",
       "\n",
       "    .dataframe thead th {\n",
       "        text-align: right;\n",
       "    }\n",
       "</style>\n",
       "<table border=\"1\" class=\"dataframe\">\n",
       "  <thead>\n",
       "    <tr style=\"text-align: right;\">\n",
       "      <th></th>\n",
       "      <th>clustNum</th>\n",
       "      <th>source</th>\n",
       "      <th>date</th>\n",
       "      <th>title</th>\n",
       "      <th>clustSize</th>\n",
       "      <th>duration</th>\n",
       "      <th>dayOnePercent</th>\n",
       "      <th>duration</th>\n",
       "      <th>uniqueDays</th>\n",
       "      <th>storyPropDays</th>\n",
       "    </tr>\n",
       "  </thead>\n",
       "  <tbody>\n",
       "    <tr>\n",
       "      <th>24038</th>\n",
       "      <td>22282.0</td>\n",
       "      <td>themitchelldailyrepublic</td>\n",
       "      <td>2020-07-15</td>\n",
       "      <td>High-profile Twitter accounts swept up in wave...</td>\n",
       "      <td>245</td>\n",
       "      <td>24.0</td>\n",
       "      <td>0.102041</td>\n",
       "      <td>24.0</td>\n",
       "      <td>19</td>\n",
       "      <td>0.0</td>\n",
       "    </tr>\n",
       "    <tr>\n",
       "      <th>22979</th>\n",
       "      <td>21620.0</td>\n",
       "      <td>themitchelldailyrepublic</td>\n",
       "      <td>2020-12-13</td>\n",
       "      <td>Sources say, suspected Russian hackers spied o...</td>\n",
       "      <td>529</td>\n",
       "      <td>22.0</td>\n",
       "      <td>0.011342</td>\n",
       "      <td>22.0</td>\n",
       "      <td>17</td>\n",
       "      <td>0.238095</td>\n",
       "    </tr>\n",
       "    <tr>\n",
       "      <th>21891</th>\n",
       "      <td>20488.0</td>\n",
       "      <td>themitchelldailyrepublic</td>\n",
       "      <td>2020-08-02</td>\n",
       "      <td>Wild's Dumba kneels during anthem</td>\n",
       "      <td>36</td>\n",
       "      <td>30.0</td>\n",
       "      <td>0.027778</td>\n",
       "      <td>30.0</td>\n",
       "      <td>10</td>\n",
       "      <td>0.103448</td>\n",
       "    </tr>\n",
       "    <tr>\n",
       "      <th>54976</th>\n",
       "      <td>59730.0</td>\n",
       "      <td>themitchelldailyrepublic</td>\n",
       "      <td>2020-12-23</td>\n",
       "      <td>Second Black man shot dead by police in Ohio c...</td>\n",
       "      <td>112</td>\n",
       "      <td>10.0</td>\n",
       "      <td>0.008929</td>\n",
       "      <td>10.0</td>\n",
       "      <td>9</td>\n",
       "      <td>0.111111</td>\n",
       "    </tr>\n",
       "    <tr>\n",
       "      <th>20830</th>\n",
       "      <td>19080.0</td>\n",
       "      <td>themitchelldailyrepublic</td>\n",
       "      <td>2020-10-07</td>\n",
       "      <td>Women creators of genetic 'scissors' win Nobel...</td>\n",
       "      <td>59</td>\n",
       "      <td>26.0</td>\n",
       "      <td>0.016949</td>\n",
       "      <td>26.0</td>\n",
       "      <td>8</td>\n",
       "      <td>0.2</td>\n",
       "    </tr>\n",
       "    <tr>\n",
       "      <th>...</th>\n",
       "      <td>...</td>\n",
       "      <td>...</td>\n",
       "      <td>...</td>\n",
       "      <td>...</td>\n",
       "      <td>...</td>\n",
       "      <td>...</td>\n",
       "      <td>...</td>\n",
       "      <td>...</td>\n",
       "      <td>...</td>\n",
       "      <td>...</td>\n",
       "    </tr>\n",
       "    <tr>\n",
       "      <th>52464</th>\n",
       "      <td>56534.0</td>\n",
       "      <td>themitchelldailyrepublic</td>\n",
       "      <td>2020-11-29</td>\n",
       "      <td>High school sailing team navigates uncertain w...</td>\n",
       "      <td>16</td>\n",
       "      <td>8.0</td>\n",
       "      <td>0.125000</td>\n",
       "      <td>8.0</td>\n",
       "      <td>2</td>\n",
       "      <td>1.0</td>\n",
       "    </tr>\n",
       "    <tr>\n",
       "      <th>52446</th>\n",
       "      <td>56530.0</td>\n",
       "      <td>themitchelldailyrepublic</td>\n",
       "      <td>2020-08-29</td>\n",
       "      <td>Four young entrepreneurs Kickstart their 'dogh...</td>\n",
       "      <td>7</td>\n",
       "      <td>8.0</td>\n",
       "      <td>0.142857</td>\n",
       "      <td>8.0</td>\n",
       "      <td>2</td>\n",
       "      <td>1.0</td>\n",
       "    </tr>\n",
       "    <tr>\n",
       "      <th>50677</th>\n",
       "      <td>53530.0</td>\n",
       "      <td>themitchelldailyrepublic</td>\n",
       "      <td>2020-07-27</td>\n",
       "      <td>Rising pregnancy complications coincide with r...</td>\n",
       "      <td>7</td>\n",
       "      <td>2.0</td>\n",
       "      <td>0.142857</td>\n",
       "      <td>2.0</td>\n",
       "      <td>2</td>\n",
       "      <td>1.0</td>\n",
       "    </tr>\n",
       "    <tr>\n",
       "      <th>50205</th>\n",
       "      <td>52755.0</td>\n",
       "      <td>themitchelldailyrepublic</td>\n",
       "      <td>2020-08-21</td>\n",
       "      <td>A little fishing tackle goes a long way after ...</td>\n",
       "      <td>7</td>\n",
       "      <td>8.0</td>\n",
       "      <td>0.142857</td>\n",
       "      <td>8.0</td>\n",
       "      <td>2</td>\n",
       "      <td>1.0</td>\n",
       "    </tr>\n",
       "    <tr>\n",
       "      <th>116313</th>\n",
       "      <td>207408.0</td>\n",
       "      <td>themitchelldailyrepublic</td>\n",
       "      <td>2020-11-10</td>\n",
       "      <td>Morken: Patience pays off while bow hunting deer</td>\n",
       "      <td>16</td>\n",
       "      <td>5.0</td>\n",
       "      <td>0.062500</td>\n",
       "      <td>5.0</td>\n",
       "      <td>2</td>\n",
       "      <td>1.0</td>\n",
       "    </tr>\n",
       "  </tbody>\n",
       "</table>\n",
       "<p>175 rows × 10 columns</p>\n",
       "</div>"
      ],
      "text/plain": [
       "        clustNum                    source       date   \n",
       "24038    22282.0  themitchelldailyrepublic 2020-07-15  \\\n",
       "22979    21620.0  themitchelldailyrepublic 2020-12-13   \n",
       "21891    20488.0  themitchelldailyrepublic 2020-08-02   \n",
       "54976    59730.0  themitchelldailyrepublic 2020-12-23   \n",
       "20830    19080.0  themitchelldailyrepublic 2020-10-07   \n",
       "...          ...                       ...        ...   \n",
       "52464    56534.0  themitchelldailyrepublic 2020-11-29   \n",
       "52446    56530.0  themitchelldailyrepublic 2020-08-29   \n",
       "50677    53530.0  themitchelldailyrepublic 2020-07-27   \n",
       "50205    52755.0  themitchelldailyrepublic 2020-08-21   \n",
       "116313  207408.0  themitchelldailyrepublic 2020-11-10   \n",
       "\n",
       "                                                    title  clustSize   \n",
       "24038   High-profile Twitter accounts swept up in wave...        245  \\\n",
       "22979   Sources say, suspected Russian hackers spied o...        529   \n",
       "21891                   Wild's Dumba kneels during anthem         36   \n",
       "54976   Second Black man shot dead by police in Ohio c...        112   \n",
       "20830   Women creators of genetic 'scissors' win Nobel...         59   \n",
       "...                                                   ...        ...   \n",
       "52464   High school sailing team navigates uncertain w...         16   \n",
       "52446   Four young entrepreneurs Kickstart their 'dogh...          7   \n",
       "50677   Rising pregnancy complications coincide with r...          7   \n",
       "50205   A little fishing tackle goes a long way after ...          7   \n",
       "116313   Morken: Patience pays off while bow hunting deer         16   \n",
       "\n",
       "        duration  dayOnePercent  duration  uniqueDays storyPropDays  \n",
       "24038       24.0       0.102041      24.0          19           0.0  \n",
       "22979       22.0       0.011342      22.0          17      0.238095  \n",
       "21891       30.0       0.027778      30.0          10      0.103448  \n",
       "54976       10.0       0.008929      10.0           9      0.111111  \n",
       "20830       26.0       0.016949      26.0           8           0.2  \n",
       "...          ...            ...       ...         ...           ...  \n",
       "52464        8.0       0.125000       8.0           2           1.0  \n",
       "52446        8.0       0.142857       8.0           2           1.0  \n",
       "50677        2.0       0.142857       2.0           2           1.0  \n",
       "50205        8.0       0.142857       8.0           2           1.0  \n",
       "116313       5.0       0.062500       5.0           2           1.0  \n",
       "\n",
       "[175 rows x 10 columns]"
      ]
     },
     "execution_count": 1324,
     "metadata": {},
     "output_type": "execute_result"
    }
   ],
   "source": [
    "fourtyNoDups.loc[fourtyLong[\"source\"] == \"themitchelldailyrepublic\", [\"clustNum\", \"source\", \"date\", \"title\", \"clustSize\", \"duration\", \"dayOnePercent\", \"duration\", \"uniqueDays\", \"storyPropDays\"]].sort_values(\"uniqueDays\", ascending=False)"
   ]
  },
  {
   "cell_type": "code",
   "execution_count": 1325,
   "metadata": {},
   "outputs": [
    {
     "data": {
      "text/html": [
       "<div>\n",
       "<style scoped>\n",
       "    .dataframe tbody tr th:only-of-type {\n",
       "        vertical-align: middle;\n",
       "    }\n",
       "\n",
       "    .dataframe tbody tr th {\n",
       "        vertical-align: top;\n",
       "    }\n",
       "\n",
       "    .dataframe thead th {\n",
       "        text-align: right;\n",
       "    }\n",
       "</style>\n",
       "<table border=\"1\" class=\"dataframe\">\n",
       "  <thead>\n",
       "    <tr style=\"text-align: right;\">\n",
       "      <th></th>\n",
       "      <th>national</th>\n",
       "      <th>articlesReported</th>\n",
       "      <th>storyPropDaysMean</th>\n",
       "      <th>storyPropCountMean</th>\n",
       "      <th>numStories</th>\n",
       "    </tr>\n",
       "    <tr>\n",
       "      <th>source</th>\n",
       "      <th></th>\n",
       "      <th></th>\n",
       "      <th></th>\n",
       "      <th></th>\n",
       "      <th></th>\n",
       "    </tr>\n",
       "  </thead>\n",
       "  <tbody>\n",
       "    <tr>\n",
       "      <th>needtoknow</th>\n",
       "      <td>True</td>\n",
       "      <td>874</td>\n",
       "      <td>0.633118</td>\n",
       "      <td>0.686932</td>\n",
       "      <td>133</td>\n",
       "    </tr>\n",
       "    <tr>\n",
       "      <th>sgtreport</th>\n",
       "      <td>True</td>\n",
       "      <td>5129</td>\n",
       "      <td>0.639538</td>\n",
       "      <td>0.698879</td>\n",
       "      <td>529</td>\n",
       "    </tr>\n",
       "    <tr>\n",
       "      <th>stillnessinthestorm</th>\n",
       "      <td>True</td>\n",
       "      <td>3832</td>\n",
       "      <td>0.694819</td>\n",
       "      <td>0.723604</td>\n",
       "      <td>448</td>\n",
       "    </tr>\n",
       "    <tr>\n",
       "      <th>principiascientificinternational</th>\n",
       "      <td>True</td>\n",
       "      <td>1098</td>\n",
       "      <td>0.671632</td>\n",
       "      <td>0.723981</td>\n",
       "      <td>134</td>\n",
       "    </tr>\n",
       "    <tr>\n",
       "      <th>prepareforchange</th>\n",
       "      <td>True</td>\n",
       "      <td>1532</td>\n",
       "      <td>0.784196</td>\n",
       "      <td>0.819845</td>\n",
       "      <td>103</td>\n",
       "    </tr>\n",
       "  </tbody>\n",
       "</table>\n",
       "</div>"
      ],
      "text/plain": [
       "                                  national  articlesReported   \n",
       "source                                                         \n",
       "needtoknow                            True               874  \\\n",
       "sgtreport                             True              5129   \n",
       "stillnessinthestorm                   True              3832   \n",
       "principiascientificinternational      True              1098   \n",
       "prepareforchange                      True              1532   \n",
       "\n",
       "                                 storyPropDaysMean storyPropCountMean   \n",
       "source                                                                  \n",
       "needtoknow                                0.633118           0.686932  \\\n",
       "sgtreport                                 0.639538           0.698879   \n",
       "stillnessinthestorm                       0.694819           0.723604   \n",
       "principiascientificinternational          0.671632           0.723981   \n",
       "prepareforchange                          0.784196           0.819845   \n",
       "\n",
       "                                  numStories  \n",
       "source                                        \n",
       "needtoknow                               133  \n",
       "sgtreport                                529  \n",
       "stillnessinthestorm                      448  \n",
       "principiascientificinternational         134  \n",
       "prepareforchange                         103  "
      ]
     },
     "execution_count": 1325,
     "metadata": {},
     "output_type": "execute_result"
    }
   ],
   "source": [
    "\n",
    "\n",
    "lenSorted[lenSorted[\"national\"] == True].head(5)\n",
    "\n",
    "lenSorted[lenSorted[\"national\"] == True].tail(5)"
   ]
  },
  {
   "cell_type": "code",
   "execution_count": 1326,
   "metadata": {},
   "outputs": [],
   "source": [
    "veracityDf = pd.read_csv(\"/shared/3/projects/newsDiffusion/data/raw/NELA-gt-2020/labels.csv\")\n",
    "veracityDf[\"label\"] = 2 - veracityDf[\"label\"]\n",
    "veracityDf.columns = [\"source\", \"veracityScore\"]\n"
   ]
  },
  {
   "cell_type": "code",
   "execution_count": 1327,
   "metadata": {},
   "outputs": [],
   "source": [
    "coverageClusters = pd.merge(coverageClusters.reset_index(), veracityDf, on=\"source\", how=\"left\")"
   ]
  },
  {
   "cell_type": "code",
   "execution_count": 1331,
   "metadata": {},
   "outputs": [],
   "source": [
    "fourtyLong = pd.merge(fourtyLong.reset_index(), veracityDf, on=\"source\", how=\"left\")"
   ]
  },
  {
   "cell_type": "code",
   "execution_count": 1332,
   "metadata": {},
   "outputs": [
    {
     "ename": "KeyError",
     "evalue": "\"['veracityScore'] not in index\"",
     "output_type": "error",
     "traceback": [
      "\u001b[0;31m---------------------------------------------------------------------------\u001b[0m",
      "\u001b[0;31mKeyError\u001b[0m                                  Traceback (most recent call last)",
      "\u001b[0;32m<ipython-input-1332-6315b94be558>\u001b[0m in \u001b[0;36m<module>\u001b[0;34m\u001b[0m\n\u001b[1;32m      2\u001b[0m \u001b[0mfourtyNoDups\u001b[0m \u001b[0;34m=\u001b[0m \u001b[0mfourtyLong\u001b[0m\u001b[0;34m.\u001b[0m\u001b[0msort_values\u001b[0m\u001b[0;34m(\u001b[0m\u001b[0;34m[\u001b[0m\u001b[0;34m\"clustNum\"\u001b[0m\u001b[0;34m,\u001b[0m \u001b[0;34m\"date\"\u001b[0m\u001b[0;34m]\u001b[0m\u001b[0;34m)\u001b[0m\u001b[0;34m.\u001b[0m\u001b[0mdrop_duplicates\u001b[0m\u001b[0;34m(\u001b[0m\u001b[0msubset\u001b[0m\u001b[0;34m=\u001b[0m\u001b[0;34m[\u001b[0m\u001b[0;34m\"clustNum\"\u001b[0m\u001b[0;34m,\u001b[0m \u001b[0;34m\"source\"\u001b[0m\u001b[0;34m]\u001b[0m\u001b[0;34m)\u001b[0m\u001b[0;34m\u001b[0m\u001b[0;34m\u001b[0m\u001b[0m\n\u001b[1;32m      3\u001b[0m \u001b[0;34m\u001b[0m\u001b[0m\n\u001b[0;32m----> 4\u001b[0;31m \u001b[0mfirstCoverageClusters\u001b[0m \u001b[0;34m=\u001b[0m \u001b[0mfourtyNoDups\u001b[0m\u001b[0;34m[\u001b[0m\u001b[0;34m[\u001b[0m\u001b[0;34m\"source\"\u001b[0m\u001b[0;34m,\u001b[0m \u001b[0;34m\"storyPropDays\"\u001b[0m\u001b[0;34m,\u001b[0m\u001b[0;34m\"storyPropCount\"\u001b[0m\u001b[0;34m,\u001b[0m \u001b[0;34m\"national\"\u001b[0m\u001b[0;34m,\u001b[0m \u001b[0;34m\"veracityScore\"\u001b[0m\u001b[0;34m]\u001b[0m\u001b[0;34m]\u001b[0m\u001b[0;34m.\u001b[0m\u001b[0mgroupby\u001b[0m\u001b[0;34m(\u001b[0m\u001b[0;34m\"source\"\u001b[0m\u001b[0;34m)\u001b[0m\u001b[0;31m\\\u001b[0m\u001b[0;34m\u001b[0m\u001b[0;34m\u001b[0m\u001b[0m\n\u001b[0m\u001b[1;32m      5\u001b[0m \u001b[0;34m.\u001b[0m\u001b[0magg\u001b[0m\u001b[0;34m(\u001b[0m\u001b[0;34m{\u001b[0m\u001b[0;34m\"national\"\u001b[0m\u001b[0;34m:\u001b[0m\u001b[0mlist\u001b[0m\u001b[0;34m,\u001b[0m \u001b[0;34m\"veracityScore\"\u001b[0m\u001b[0;34m:\u001b[0m\u001b[0mlist\u001b[0m\u001b[0;34m,\u001b[0m \u001b[0;34m\"storyPropDays\"\u001b[0m\u001b[0;34m:\u001b[0m\u001b[0;34m[\u001b[0m\u001b[0mnp\u001b[0m\u001b[0;34m.\u001b[0m\u001b[0mmean\u001b[0m\u001b[0;34m]\u001b[0m\u001b[0;34m,\u001b[0m \u001b[0;34m\"storyPropCount\"\u001b[0m\u001b[0;34m:\u001b[0m\u001b[0;34m[\u001b[0m\u001b[0mnp\u001b[0m\u001b[0;34m.\u001b[0m\u001b[0mmean\u001b[0m\u001b[0;34m,\u001b[0m \u001b[0mlen\u001b[0m\u001b[0;34m]\u001b[0m\u001b[0;34m}\u001b[0m\u001b[0;34m)\u001b[0m\u001b[0;34m.\u001b[0m\u001b[0mdroplevel\u001b[0m\u001b[0;34m(\u001b[0m\u001b[0;34m[\u001b[0m\u001b[0;36m0\u001b[0m\u001b[0;34m]\u001b[0m\u001b[0;34m,\u001b[0m \u001b[0maxis\u001b[0m\u001b[0;34m=\u001b[0m\u001b[0;36m1\u001b[0m\u001b[0;34m)\u001b[0m \u001b[0;31m#.sort_values([\"mean\", \"len\"], ascending=False)\u001b[0m\u001b[0;34m\u001b[0m\u001b[0;34m\u001b[0m\u001b[0m\n\u001b[1;32m      6\u001b[0m \u001b[0mfirstCoverageClusters\u001b[0m\u001b[0;34m.\u001b[0m\u001b[0mcolumns\u001b[0m \u001b[0;34m=\u001b[0m \u001b[0;34m[\u001b[0m\u001b[0;34m\"national\"\u001b[0m\u001b[0;34m,\u001b[0m \u001b[0;34m\"veracityScore\"\u001b[0m\u001b[0;34m,\u001b[0m \u001b[0;34m\"storyPropDaysMean\"\u001b[0m\u001b[0;34m,\u001b[0m \u001b[0;34m\"storyPropCountMean\"\u001b[0m\u001b[0;34m,\u001b[0m \u001b[0;34m\"numStories\"\u001b[0m\u001b[0;34m]\u001b[0m\u001b[0;34m\u001b[0m\u001b[0;34m\u001b[0m\u001b[0m\n",
      "\u001b[0;32m/opt/anaconda/lib/python3.8/site-packages/pandas/core/frame.py\u001b[0m in \u001b[0;36m__getitem__\u001b[0;34m(self, key)\u001b[0m\n\u001b[1;32m   3765\u001b[0m             \u001b[0;32mif\u001b[0m \u001b[0mis_iterator\u001b[0m\u001b[0;34m(\u001b[0m\u001b[0mkey\u001b[0m\u001b[0;34m)\u001b[0m\u001b[0;34m:\u001b[0m\u001b[0;34m\u001b[0m\u001b[0;34m\u001b[0m\u001b[0m\n\u001b[1;32m   3766\u001b[0m                 \u001b[0mkey\u001b[0m \u001b[0;34m=\u001b[0m \u001b[0mlist\u001b[0m\u001b[0;34m(\u001b[0m\u001b[0mkey\u001b[0m\u001b[0;34m)\u001b[0m\u001b[0;34m\u001b[0m\u001b[0;34m\u001b[0m\u001b[0m\n\u001b[0;32m-> 3767\u001b[0;31m             \u001b[0mindexer\u001b[0m \u001b[0;34m=\u001b[0m \u001b[0mself\u001b[0m\u001b[0;34m.\u001b[0m\u001b[0mcolumns\u001b[0m\u001b[0;34m.\u001b[0m\u001b[0m_get_indexer_strict\u001b[0m\u001b[0;34m(\u001b[0m\u001b[0mkey\u001b[0m\u001b[0;34m,\u001b[0m \u001b[0;34m\"columns\"\u001b[0m\u001b[0;34m)\u001b[0m\u001b[0;34m[\u001b[0m\u001b[0;36m1\u001b[0m\u001b[0;34m]\u001b[0m\u001b[0;34m\u001b[0m\u001b[0;34m\u001b[0m\u001b[0m\n\u001b[0m\u001b[1;32m   3768\u001b[0m \u001b[0;34m\u001b[0m\u001b[0m\n\u001b[1;32m   3769\u001b[0m         \u001b[0;31m# take() does not accept boolean indexers\u001b[0m\u001b[0;34m\u001b[0m\u001b[0;34m\u001b[0m\u001b[0;34m\u001b[0m\u001b[0m\n",
      "\u001b[0;32m/opt/anaconda/lib/python3.8/site-packages/pandas/core/indexes/base.py\u001b[0m in \u001b[0;36m_get_indexer_strict\u001b[0;34m(self, key, axis_name)\u001b[0m\n\u001b[1;32m   5874\u001b[0m             \u001b[0mkeyarr\u001b[0m\u001b[0;34m,\u001b[0m \u001b[0mindexer\u001b[0m\u001b[0;34m,\u001b[0m \u001b[0mnew_indexer\u001b[0m \u001b[0;34m=\u001b[0m \u001b[0mself\u001b[0m\u001b[0;34m.\u001b[0m\u001b[0m_reindex_non_unique\u001b[0m\u001b[0;34m(\u001b[0m\u001b[0mkeyarr\u001b[0m\u001b[0;34m)\u001b[0m\u001b[0;34m\u001b[0m\u001b[0;34m\u001b[0m\u001b[0m\n\u001b[1;32m   5875\u001b[0m \u001b[0;34m\u001b[0m\u001b[0m\n\u001b[0;32m-> 5876\u001b[0;31m         \u001b[0mself\u001b[0m\u001b[0;34m.\u001b[0m\u001b[0m_raise_if_missing\u001b[0m\u001b[0;34m(\u001b[0m\u001b[0mkeyarr\u001b[0m\u001b[0;34m,\u001b[0m \u001b[0mindexer\u001b[0m\u001b[0;34m,\u001b[0m \u001b[0maxis_name\u001b[0m\u001b[0;34m)\u001b[0m\u001b[0;34m\u001b[0m\u001b[0;34m\u001b[0m\u001b[0m\n\u001b[0m\u001b[1;32m   5877\u001b[0m \u001b[0;34m\u001b[0m\u001b[0m\n\u001b[1;32m   5878\u001b[0m         \u001b[0mkeyarr\u001b[0m \u001b[0;34m=\u001b[0m \u001b[0mself\u001b[0m\u001b[0;34m.\u001b[0m\u001b[0mtake\u001b[0m\u001b[0;34m(\u001b[0m\u001b[0mindexer\u001b[0m\u001b[0;34m)\u001b[0m\u001b[0;34m\u001b[0m\u001b[0;34m\u001b[0m\u001b[0m\n",
      "\u001b[0;32m/opt/anaconda/lib/python3.8/site-packages/pandas/core/indexes/base.py\u001b[0m in \u001b[0;36m_raise_if_missing\u001b[0;34m(self, key, indexer, axis_name)\u001b[0m\n\u001b[1;32m   5936\u001b[0m \u001b[0;34m\u001b[0m\u001b[0m\n\u001b[1;32m   5937\u001b[0m             \u001b[0mnot_found\u001b[0m \u001b[0;34m=\u001b[0m \u001b[0mlist\u001b[0m\u001b[0;34m(\u001b[0m\u001b[0mensure_index\u001b[0m\u001b[0;34m(\u001b[0m\u001b[0mkey\u001b[0m\u001b[0;34m)\u001b[0m\u001b[0;34m[\u001b[0m\u001b[0mmissing_mask\u001b[0m\u001b[0;34m.\u001b[0m\u001b[0mnonzero\u001b[0m\u001b[0;34m(\u001b[0m\u001b[0;34m)\u001b[0m\u001b[0;34m[\u001b[0m\u001b[0;36m0\u001b[0m\u001b[0;34m]\u001b[0m\u001b[0;34m]\u001b[0m\u001b[0;34m.\u001b[0m\u001b[0munique\u001b[0m\u001b[0;34m(\u001b[0m\u001b[0;34m)\u001b[0m\u001b[0;34m)\u001b[0m\u001b[0;34m\u001b[0m\u001b[0;34m\u001b[0m\u001b[0m\n\u001b[0;32m-> 5938\u001b[0;31m             \u001b[0;32mraise\u001b[0m \u001b[0mKeyError\u001b[0m\u001b[0;34m(\u001b[0m\u001b[0;34mf\"{not_found} not in index\"\u001b[0m\u001b[0;34m)\u001b[0m\u001b[0;34m\u001b[0m\u001b[0;34m\u001b[0m\u001b[0m\n\u001b[0m\u001b[1;32m   5939\u001b[0m \u001b[0;34m\u001b[0m\u001b[0m\n\u001b[1;32m   5940\u001b[0m     \u001b[0;34m@\u001b[0m\u001b[0moverload\u001b[0m\u001b[0;34m\u001b[0m\u001b[0;34m\u001b[0m\u001b[0m\n",
      "\u001b[0;31mKeyError\u001b[0m: \"['veracityScore'] not in index\""
     ]
    }
   ],
   "source": [
    "#and remake the firstCoverageClusters dataframe to include the veracity labels \n",
    "fourtyNoDups = fourtyLong.sort_values([\"clustNum\", \"date\"]).drop_duplicates(subset=[\"clustNum\", \"source\"])\n",
    "\n",
    "firstCoverageClusters = fourtyNoDups[[\"source\", \"storyPropDays\",\"storyPropCount\", \"national\", \"veracityScore\"]].groupby(\"source\")\\\n",
    ".agg({\"national\":list, \"veracityScore\":list, \"storyPropDays\":[np.mean], \"storyPropCount\":[np.mean, len]}).droplevel([0], axis=1) #.sort_values([\"mean\", \"len\"], ascending=False)\n",
    "firstCoverageClusters.columns = [\"national\", \"veracityScore\", \"storyPropDaysMean\", \"storyPropCountMean\", \"numStories\"]\n",
    "firstCoverageClusters[\"national\"] = firstCoverageClusters[\"national\"].apply(lambda x: x[0])\n",
    "firstCoverageClusters[\"veracityScore\"] = firstCoverageClusters[\"veracityScore\"].apply(lambda x: x[0])"
   ]
  },
  {
   "cell_type": "code",
   "execution_count": null,
   "metadata": {},
   "outputs": [],
   "source": [
    "fig, axs = plt.subplots(2, figsize=(8, 6))\n",
    "sns.kdeplot(x=\"storyPropDaysMean\", hue=\"veracityScore\", common_norm=False, data=coverageClusters[coverageClusters[\"numStories\"] > 100], ax=axs[0])\n",
    "axs[0].set_xlabel(\"reporting time during life of story, averaged within outlets(days)\")\n",
    "axs[0].set_ylabel(\"density of outlets\")\n",
    "\n",
    "sns.kdeplot(x=\"storyPropCountMean\", hue=\"veracityScore\", common_norm=False, data=coverageClusters[coverageClusters[\"numStories\"] > 10], ax=axs[1])\n",
    "axs[1].set_xlabel(\"reporting time during life of story, averaged within outlets (# of articles)\")\n",
    "axs[1].set_ylabel(\"density of outlets\")\n",
    "\n",
    "fig.suptitle(\"Distribution of When Outlets Report During the Life of a Story [0,1]\")"
   ]
  },
  {
   "cell_type": "code",
   "execution_count": null,
   "metadata": {},
   "outputs": [],
   "source": [
    "fig, axs = plt.subplots(2, figsize=(8, 6))\n",
    "sns.kdeplot(x=\"storyPropDays\", hue=\"veracityScore\", common_norm=False, data=fourtyLong, ax=axs[0])\n",
    "axs[0].set_xlabel(\"reporting time during life of story (normalized days)\")\n",
    "axs[0].set_ylabel(\"density of stories\")\n",
    "\n",
    "sns.kdeplot(x=\"storyPropCount\", hue=\"veracityScore\", common_norm=False, data=fourtyLong, ax=axs[1])\n",
    "axs[1].set_xlabel(\"reporting time during life of story (normalized by article count)\")\n",
    "axs[1].set_ylabel(\"density of stories\")\n",
    "\n",
    "fig.suptitle(\"Distribution of When Stories are Reported [0,1]\")"
   ]
  },
  {
   "cell_type": "code",
   "execution_count": null,
   "metadata": {},
   "outputs": [],
   "source": [
    "fig, axs = plt.subplots(2, figsize=(8, 6))\n",
    "sns.kdeplot(x=\"storyPropDaysMean\", hue=\"veracityScore\", common_norm=False, data=firstCoverageClusters[firstCoverageClusters[\"numStories\"] > 100], ax=axs[0])\n",
    "axs[0].set_xlabel(\"reporting time during life of story, averaged within outlets(days)\")\n",
    "axs[0].set_ylabel(\"density of outlets\")\n",
    "\n",
    "sns.kdeplot(x=\"storyPropCountMean\", hue=\"veracityScore\", common_norm=False, data=firstCoverageClusters[firstCoverageClusters[\"numStories\"] > 10], ax=axs[1])\n",
    "axs[1].set_xlabel(\"reporting time during life of story, averaged within outlets (# of articles)\")\n",
    "axs[1].set_ylabel(\"density of outlets\")\n",
    "\n",
    "fig.suptitle(\"Distribution of When Outlets Report During the Life of a Story [0,1]\")"
   ]
  },
  {
   "cell_type": "code",
   "execution_count": null,
   "metadata": {},
   "outputs": [],
   "source": [
    "fig, axs = plt.subplots(2, figsize=(8, 6))\n",
    "sns.kdeplot(x=\"storyPropDays\", hue=\"veracityScore\", common_norm=False, data=fourtyNoDups, ax=axs[0])\n",
    "axs[0].set_xlabel(\"reporting time during life of story (normalized days)\")\n",
    "axs[0].set_ylabel(\"density of stories\")\n",
    "\n",
    "sns.kdeplot(x=\"storyPropCount\", hue=\"veracityScore\", common_norm=False, data=fourtyNoDups, ax=axs[1])\n",
    "axs[1].set_xlabel(\"reporting time during life of story (normalized by article count)\")\n",
    "axs[1].set_ylabel(\"density of stories\")\n",
    "\n",
    "fig.suptitle(\"Distribution of When Stories are Reported [0,1]\")"
   ]
  },
  {
   "cell_type": "code",
   "execution_count": 1362,
   "metadata": {},
   "outputs": [
    {
     "data": {
      "text/plain": [
       "array([[ 1.        , -0.13540109],\n",
       "       [-0.13540109,  1.        ]])"
      ]
     },
     "execution_count": 1362,
     "metadata": {},
     "output_type": "execute_result"
    },
    {
     "data": {
      "image/png": "[encoded data removed]",
      "text/plain": [
       "<Figure size 432x288 with 1 Axes>"
      ]
     },
     "metadata": {
      "needs_background": "light"
     },
     "output_type": "display_data"
    }
   ],
   "source": [
    "test = coverageClusters[coverageClusters[\"numStories\"] > 50]\n",
    "plt.scatter(test[\"articlesReported\"], test[\"storyPropCountMean\"], alpha=.2)\n",
    "np.corrcoef(list(test[\"articlesReported\"]), list(test[\"storyPropCountMean\"]))"
   ]
  },
  {
   "cell_type": "code",
   "execution_count": null,
   "metadata": {},
   "outputs": [],
   "source": [
    "fig, axs = plt.subplots(2, figsize=(8, 6))\n",
    "sns.kdeplot(x=\"storyPropDaysMean\", hue=\"veracityScore\", common_norm=False, data=coverageClusters[coverageClusters[\"numStories\"] > 100], ax=axs[0])\n",
    "axs[0].set_xlabel(\"reporting time during life of story, averaged within outlets(days)\")\n",
    "axs[0].set_ylabel(\"density of outlets\")\n",
    "\n",
    "sns.kdeplot(x=\"storyPropCountMean\", hue=\"veracityScore\", common_norm=False, data=coverageClusters[coverageClusters[\"numStories\"] > 10], ax=axs[1])\n",
    "axs[1].set_xlabel(\"reporting time during life of story, averaged within outlets (# of articles)\")\n",
    "axs[1].set_ylabel(\"density of outlets\")\n",
    "\n",
    "fig.suptitle(\"Distribution of When Outlets Report During the Life of a Story [0,1]\")"
   ]
  },
  {
   "cell_type": "markdown",
   "metadata": {},
   "source": [
    "do certain states report first? "
   ]
  },
  {
   "cell_type": "code",
   "execution_count": 1177,
   "metadata": {},
   "outputs": [
    {
     "data": {
      "text/html": [
       "<div>\n",
       "<style scoped>\n",
       "    .dataframe tbody tr th:only-of-type {\n",
       "        vertical-align: middle;\n",
       "    }\n",
       "\n",
       "    .dataframe tbody tr th {\n",
       "        vertical-align: top;\n",
       "    }\n",
       "\n",
       "    .dataframe thead th {\n",
       "        text-align: right;\n",
       "    }\n",
       "</style>\n",
       "<table border=\"1\" class=\"dataframe\">\n",
       "  <thead>\n",
       "    <tr style=\"text-align: right;\">\n",
       "      <th></th>\n",
       "      <th>storyPropCountMean</th>\n",
       "      <th>storyPropDaysMean</th>\n",
       "      <th>lenDup</th>\n",
       "    </tr>\n",
       "    <tr>\n",
       "      <th>state</th>\n",
       "      <th></th>\n",
       "      <th></th>\n",
       "      <th></th>\n",
       "    </tr>\n",
       "  </thead>\n",
       "  <tbody>\n",
       "    <tr>\n",
       "      <th>Tennessee</th>\n",
       "      <td>0.692143</td>\n",
       "      <td>0.715493</td>\n",
       "      <td>50</td>\n",
       "    </tr>\n",
       "    <tr>\n",
       "      <th>North Dakota</th>\n",
       "      <td>0.714584</td>\n",
       "      <td>0.705799</td>\n",
       "      <td>865</td>\n",
       "    </tr>\n",
       "    <tr>\n",
       "      <th>Hawaii</th>\n",
       "      <td>0.699961</td>\n",
       "      <td>0.677786</td>\n",
       "      <td>446</td>\n",
       "    </tr>\n",
       "    <tr>\n",
       "      <th>South Dakota</th>\n",
       "      <td>0.662202</td>\n",
       "      <td>0.659862</td>\n",
       "      <td>348</td>\n",
       "    </tr>\n",
       "    <tr>\n",
       "      <th>Wisconsin</th>\n",
       "      <td>0.672135</td>\n",
       "      <td>0.6584</td>\n",
       "      <td>161</td>\n",
       "    </tr>\n",
       "    <tr>\n",
       "      <th>Minnesota</th>\n",
       "      <td>0.632692</td>\n",
       "      <td>0.62743</td>\n",
       "      <td>2826</td>\n",
       "    </tr>\n",
       "    <tr>\n",
       "      <th>Alabama</th>\n",
       "      <td>0.632806</td>\n",
       "      <td>0.623684</td>\n",
       "      <td>161</td>\n",
       "    </tr>\n",
       "    <tr>\n",
       "      <th>Missouri</th>\n",
       "      <td>0.63503</td>\n",
       "      <td>0.614781</td>\n",
       "      <td>1300</td>\n",
       "    </tr>\n",
       "    <tr>\n",
       "      <th>Pennsylvania</th>\n",
       "      <td>0.611398</td>\n",
       "      <td>0.605764</td>\n",
       "      <td>1700</td>\n",
       "    </tr>\n",
       "    <tr>\n",
       "      <th>Iowa</th>\n",
       "      <td>0.612466</td>\n",
       "      <td>0.576482</td>\n",
       "      <td>75</td>\n",
       "    </tr>\n",
       "    <tr>\n",
       "      <th>Louisiana</th>\n",
       "      <td>0.572179</td>\n",
       "      <td>0.57546</td>\n",
       "      <td>467</td>\n",
       "    </tr>\n",
       "    <tr>\n",
       "      <th>California</th>\n",
       "      <td>0.589008</td>\n",
       "      <td>0.57527</td>\n",
       "      <td>2840</td>\n",
       "    </tr>\n",
       "    <tr>\n",
       "      <th>Massachusetts</th>\n",
       "      <td>0.580548</td>\n",
       "      <td>0.573437</td>\n",
       "      <td>2453</td>\n",
       "    </tr>\n",
       "    <tr>\n",
       "      <th>Texas</th>\n",
       "      <td>0.585263</td>\n",
       "      <td>0.572249</td>\n",
       "      <td>546</td>\n",
       "    </tr>\n",
       "    <tr>\n",
       "      <th>North Carolina</th>\n",
       "      <td>0.605463</td>\n",
       "      <td>0.572091</td>\n",
       "      <td>401</td>\n",
       "    </tr>\n",
       "    <tr>\n",
       "      <th>Montana</th>\n",
       "      <td>0.613115</td>\n",
       "      <td>0.56342</td>\n",
       "      <td>61</td>\n",
       "    </tr>\n",
       "    <tr>\n",
       "      <th>Florida</th>\n",
       "      <td>0.585381</td>\n",
       "      <td>0.558339</td>\n",
       "      <td>93</td>\n",
       "    </tr>\n",
       "    <tr>\n",
       "      <th>Colorado</th>\n",
       "      <td>0.574467</td>\n",
       "      <td>0.557071</td>\n",
       "      <td>1609</td>\n",
       "    </tr>\n",
       "    <tr>\n",
       "      <th>Illinois</th>\n",
       "      <td>0.563949</td>\n",
       "      <td>0.5496</td>\n",
       "      <td>1622</td>\n",
       "    </tr>\n",
       "    <tr>\n",
       "      <th>Connecticut</th>\n",
       "      <td>0.572789</td>\n",
       "      <td>0.543505</td>\n",
       "      <td>231</td>\n",
       "    </tr>\n",
       "    <tr>\n",
       "      <th>Georgia</th>\n",
       "      <td>0.552952</td>\n",
       "      <td>0.535124</td>\n",
       "      <td>287</td>\n",
       "    </tr>\n",
       "    <tr>\n",
       "      <th>Kentucky</th>\n",
       "      <td>0.538792</td>\n",
       "      <td>0.534079</td>\n",
       "      <td>217</td>\n",
       "    </tr>\n",
       "    <tr>\n",
       "      <th>Ohio</th>\n",
       "      <td>0.551648</td>\n",
       "      <td>0.532069</td>\n",
       "      <td>1319</td>\n",
       "    </tr>\n",
       "    <tr>\n",
       "      <th>New Mexico</th>\n",
       "      <td>0.539401</td>\n",
       "      <td>0.530745</td>\n",
       "      <td>816</td>\n",
       "    </tr>\n",
       "    <tr>\n",
       "      <th>Kansas</th>\n",
       "      <td>0.554238</td>\n",
       "      <td>0.529955</td>\n",
       "      <td>140</td>\n",
       "    </tr>\n",
       "    <tr>\n",
       "      <th>New York</th>\n",
       "      <td>0.555247</td>\n",
       "      <td>0.529893</td>\n",
       "      <td>662</td>\n",
       "    </tr>\n",
       "    <tr>\n",
       "      <th>Mississippi</th>\n",
       "      <td>0.564721</td>\n",
       "      <td>0.523904</td>\n",
       "      <td>184</td>\n",
       "    </tr>\n",
       "    <tr>\n",
       "      <th>Maine</th>\n",
       "      <td>0.534289</td>\n",
       "      <td>0.520438</td>\n",
       "      <td>1094</td>\n",
       "    </tr>\n",
       "    <tr>\n",
       "      <th>Washington</th>\n",
       "      <td>0.509029</td>\n",
       "      <td>0.513623</td>\n",
       "      <td>2310</td>\n",
       "    </tr>\n",
       "    <tr>\n",
       "      <th>Nevada</th>\n",
       "      <td>0.512131</td>\n",
       "      <td>0.509238</td>\n",
       "      <td>549</td>\n",
       "    </tr>\n",
       "    <tr>\n",
       "      <th>Utah</th>\n",
       "      <td>0.473104</td>\n",
       "      <td>0.465718</td>\n",
       "      <td>207</td>\n",
       "    </tr>\n",
       "    <tr>\n",
       "      <th>Indiana</th>\n",
       "      <td>0.451335</td>\n",
       "      <td>0.46446</td>\n",
       "      <td>384</td>\n",
       "    </tr>\n",
       "    <tr>\n",
       "      <th>Alaska</th>\n",
       "      <td>0.432563</td>\n",
       "      <td>0.42277</td>\n",
       "      <td>136</td>\n",
       "    </tr>\n",
       "  </tbody>\n",
       "</table>\n",
       "</div>"
      ],
      "text/plain": [
       "               storyPropCountMean storyPropDaysMean  lenDup\n",
       "state                                                      \n",
       "Tennessee                0.692143          0.715493      50\n",
       "North Dakota             0.714584          0.705799     865\n",
       "Hawaii                   0.699961          0.677786     446\n",
       "South Dakota             0.662202          0.659862     348\n",
       "Wisconsin                0.672135            0.6584     161\n",
       "Minnesota                0.632692           0.62743    2826\n",
       "Alabama                  0.632806          0.623684     161\n",
       "Missouri                  0.63503          0.614781    1300\n",
       "Pennsylvania             0.611398          0.605764    1700\n",
       "Iowa                     0.612466          0.576482      75\n",
       "Louisiana                0.572179           0.57546     467\n",
       "California               0.589008           0.57527    2840\n",
       "Massachusetts            0.580548          0.573437    2453\n",
       "Texas                    0.585263          0.572249     546\n",
       "North Carolina           0.605463          0.572091     401\n",
       "Montana                  0.613115           0.56342      61\n",
       "Florida                  0.585381          0.558339      93\n",
       "Colorado                 0.574467          0.557071    1609\n",
       "Illinois                 0.563949            0.5496    1622\n",
       "Connecticut              0.572789          0.543505     231\n",
       "Georgia                  0.552952          0.535124     287\n",
       "Kentucky                 0.538792          0.534079     217\n",
       "Ohio                     0.551648          0.532069    1319\n",
       "New Mexico               0.539401          0.530745     816\n",
       "Kansas                   0.554238          0.529955     140\n",
       "New York                 0.555247          0.529893     662\n",
       "Mississippi              0.564721          0.523904     184\n",
       "Maine                    0.534289          0.520438    1094\n",
       "Washington               0.509029          0.513623    2310\n",
       "Nevada                   0.512131          0.509238     549\n",
       "Utah                     0.473104          0.465718     207\n",
       "Indiana                  0.451335           0.46446     384\n",
       "Alaska                   0.432563           0.42277     136"
      ]
     },
     "execution_count": 1177,
     "metadata": {},
     "output_type": "execute_result"
    }
   ],
   "source": [
    "#get only the local articles \n",
    "stateReportTimes = fourtyLong.loc[fourtyLong[\"national\"] == False, [\"state\", \"storyPropCount\", \"storyPropDays\"]].groupby(\"state\").agg([np.mean, len]).droplevel([0], axis=1)\n",
    "stateReportTimes.columns = [\"storyPropCountMean\", \"len\", \"storyPropDaysMean\", \"lenDup\"]\n",
    "stateReportTimes[stateReportTimes[\"len\"] > 40].sort_values(\"storyPropDaysMean\", ascending=False).drop(columns=[\"len\"])\n",
    "#.sort_values(\"storyPropCount\")"
   ]
  },
  {
   "cell_type": "code",
   "execution_count": 1171,
   "metadata": {},
   "outputs": [
    {
     "data": {
      "text/html": [
       "<div>\n",
       "<style scoped>\n",
       "    .dataframe tbody tr th:only-of-type {\n",
       "        vertical-align: middle;\n",
       "    }\n",
       "\n",
       "    .dataframe tbody tr th {\n",
       "        vertical-align: top;\n",
       "    }\n",
       "\n",
       "    .dataframe thead th {\n",
       "        text-align: right;\n",
       "    }\n",
       "</style>\n",
       "<table border=\"1\" class=\"dataframe\">\n",
       "  <thead>\n",
       "    <tr style=\"text-align: right;\">\n",
       "      <th></th>\n",
       "      <th>index</th>\n",
       "      <th>clustNum</th>\n",
       "      <th>source</th>\n",
       "      <th>key</th>\n",
       "      <th>title</th>\n",
       "      <th>date</th>\n",
       "      <th>state</th>\n",
       "      <th>national</th>\n",
       "      <th>median_hh_inc</th>\n",
       "      <th>rural_pct</th>\n",
       "      <th>...</th>\n",
       "      <th>clustSize</th>\n",
       "      <th>duration</th>\n",
       "      <th>dayOnePercent</th>\n",
       "      <th>outletCount</th>\n",
       "      <th>natPercent</th>\n",
       "      <th>storyDay</th>\n",
       "      <th>uniqueDays</th>\n",
       "      <th>storyPropCount</th>\n",
       "      <th>storyPropDays</th>\n",
       "      <th>veracityScore</th>\n",
       "    </tr>\n",
       "  </thead>\n",
       "  <tbody>\n",
       "    <tr>\n",
       "      <th>201</th>\n",
       "      <td>201</td>\n",
       "      <td>154.0</td>\n",
       "      <td>theforum</td>\n",
       "      <td>100847</td>\n",
       "      <td>Minnesota National Guard, Air Force plan secon...</td>\n",
       "      <td>2020-05-11</td>\n",
       "      <td>North Dakota</td>\n",
       "      <td>False</td>\n",
       "      <td>54926.0</td>\n",
       "      <td>10.434777</td>\n",
       "      <td>...</td>\n",
       "      <td>14</td>\n",
       "      <td>9.0</td>\n",
       "      <td>0.071429</td>\n",
       "      <td>10</td>\n",
       "      <td>0.000000</td>\n",
       "      <td>7.0</td>\n",
       "      <td>4</td>\n",
       "      <td>0.666667</td>\n",
       "      <td>0.875</td>\n",
       "      <td>NaN</td>\n",
       "    </tr>\n",
       "    <tr>\n",
       "      <th>202</th>\n",
       "      <td>202</td>\n",
       "      <td>154.0</td>\n",
       "      <td>grandforksherald</td>\n",
       "      <td>100852</td>\n",
       "      <td>Minnesota National Guard, Air Force plan secon...</td>\n",
       "      <td>2020-05-11</td>\n",
       "      <td>North Dakota</td>\n",
       "      <td>False</td>\n",
       "      <td>50652.0</td>\n",
       "      <td>16.769118</td>\n",
       "      <td>...</td>\n",
       "      <td>14</td>\n",
       "      <td>9.0</td>\n",
       "      <td>0.071429</td>\n",
       "      <td>10</td>\n",
       "      <td>0.000000</td>\n",
       "      <td>7.0</td>\n",
       "      <td>4</td>\n",
       "      <td>0.666667</td>\n",
       "      <td>0.875</td>\n",
       "      <td>NaN</td>\n",
       "    </tr>\n",
       "    <tr>\n",
       "      <th>403</th>\n",
       "      <td>403</td>\n",
       "      <td>416.0</td>\n",
       "      <td>theforum</td>\n",
       "      <td>323865</td>\n",
       "      <td>Koepka makes solid start in bid for PGA Champi...</td>\n",
       "      <td>2020-08-07</td>\n",
       "      <td>North Dakota</td>\n",
       "      <td>False</td>\n",
       "      <td>54926.0</td>\n",
       "      <td>10.434777</td>\n",
       "      <td>...</td>\n",
       "      <td>18</td>\n",
       "      <td>7.0</td>\n",
       "      <td>0.333333</td>\n",
       "      <td>13</td>\n",
       "      <td>0.277778</td>\n",
       "      <td>4.0</td>\n",
       "      <td>4</td>\n",
       "      <td>0.666667</td>\n",
       "      <td>0.666667</td>\n",
       "      <td>NaN</td>\n",
       "    </tr>\n",
       "    <tr>\n",
       "      <th>404</th>\n",
       "      <td>404</td>\n",
       "      <td>416.0</td>\n",
       "      <td>grandforksherald</td>\n",
       "      <td>323873</td>\n",
       "      <td>Koepka makes solid start in bid for PGA Champi...</td>\n",
       "      <td>2020-08-07</td>\n",
       "      <td>North Dakota</td>\n",
       "      <td>False</td>\n",
       "      <td>50652.0</td>\n",
       "      <td>16.769118</td>\n",
       "      <td>...</td>\n",
       "      <td>18</td>\n",
       "      <td>7.0</td>\n",
       "      <td>0.333333</td>\n",
       "      <td>13</td>\n",
       "      <td>0.277778</td>\n",
       "      <td>4.0</td>\n",
       "      <td>4</td>\n",
       "      <td>0.666667</td>\n",
       "      <td>0.666667</td>\n",
       "      <td>NaN</td>\n",
       "    </tr>\n",
       "    <tr>\n",
       "      <th>449</th>\n",
       "      <td>449</td>\n",
       "      <td>520.0</td>\n",
       "      <td>theforum</td>\n",
       "      <td>285628</td>\n",
       "      <td>Vikings finalizing multi-year contract extensi...</td>\n",
       "      <td>2020-07-22</td>\n",
       "      <td>North Dakota</td>\n",
       "      <td>False</td>\n",
       "      <td>54926.0</td>\n",
       "      <td>10.434777</td>\n",
       "      <td>...</td>\n",
       "      <td>21</td>\n",
       "      <td>5.0</td>\n",
       "      <td>0.380952</td>\n",
       "      <td>13</td>\n",
       "      <td>0.095238</td>\n",
       "      <td>0.0</td>\n",
       "      <td>5</td>\n",
       "      <td>0.0</td>\n",
       "      <td>0.0</td>\n",
       "      <td>NaN</td>\n",
       "    </tr>\n",
       "    <tr>\n",
       "      <th>...</th>\n",
       "      <td>...</td>\n",
       "      <td>...</td>\n",
       "      <td>...</td>\n",
       "      <td>...</td>\n",
       "      <td>...</td>\n",
       "      <td>...</td>\n",
       "      <td>...</td>\n",
       "      <td>...</td>\n",
       "      <td>...</td>\n",
       "      <td>...</td>\n",
       "      <td>...</td>\n",
       "      <td>...</td>\n",
       "      <td>...</td>\n",
       "      <td>...</td>\n",
       "      <td>...</td>\n",
       "      <td>...</td>\n",
       "      <td>...</td>\n",
       "      <td>...</td>\n",
       "      <td>...</td>\n",
       "      <td>...</td>\n",
       "      <td>...</td>\n",
       "    </tr>\n",
       "    <tr>\n",
       "      <th>114410</th>\n",
       "      <td>114260</td>\n",
       "      <td>194951.0</td>\n",
       "      <td>grandforksherald</td>\n",
       "      <td>24256</td>\n",
       "      <td>Hauser: Is your soul weary?</td>\n",
       "      <td>2020-04-13</td>\n",
       "      <td>North Dakota</td>\n",
       "      <td>False</td>\n",
       "      <td>50652.0</td>\n",
       "      <td>16.769118</td>\n",
       "      <td>...</td>\n",
       "      <td>4</td>\n",
       "      <td>2.0</td>\n",
       "      <td>0.250000</td>\n",
       "      <td>4</td>\n",
       "      <td>0.000000</td>\n",
       "      <td>1.0</td>\n",
       "      <td>2</td>\n",
       "      <td>1.0</td>\n",
       "      <td>1.0</td>\n",
       "      <td>NaN</td>\n",
       "    </tr>\n",
       "    <tr>\n",
       "      <th>115659</th>\n",
       "      <td>115509</td>\n",
       "      <td>202643.0</td>\n",
       "      <td>devilslakedailyjournal</td>\n",
       "      <td>65723</td>\n",
       "      <td>White House unveils blueprint to expand state ...</td>\n",
       "      <td>2020-04-28</td>\n",
       "      <td>North Dakota</td>\n",
       "      <td>False</td>\n",
       "      <td>50776.0</td>\n",
       "      <td>34.992577</td>\n",
       "      <td>...</td>\n",
       "      <td>24</td>\n",
       "      <td>2.0</td>\n",
       "      <td>0.041667</td>\n",
       "      <td>23</td>\n",
       "      <td>0.083333</td>\n",
       "      <td>1.0</td>\n",
       "      <td>2</td>\n",
       "      <td>1.0</td>\n",
       "      <td>1.0</td>\n",
       "      <td>NaN</td>\n",
       "    </tr>\n",
       "    <tr>\n",
       "      <th>116310</th>\n",
       "      <td>116159</td>\n",
       "      <td>207408.0</td>\n",
       "      <td>theforum</td>\n",
       "      <td>549399</td>\n",
       "      <td>Morken: Patience pays off while bow hunting deer</td>\n",
       "      <td>2020-11-10</td>\n",
       "      <td>North Dakota</td>\n",
       "      <td>False</td>\n",
       "      <td>54926.0</td>\n",
       "      <td>10.434777</td>\n",
       "      <td>...</td>\n",
       "      <td>16</td>\n",
       "      <td>5.0</td>\n",
       "      <td>0.062500</td>\n",
       "      <td>15</td>\n",
       "      <td>0.000000</td>\n",
       "      <td>4.0</td>\n",
       "      <td>2</td>\n",
       "      <td>1.0</td>\n",
       "      <td>1.0</td>\n",
       "      <td>NaN</td>\n",
       "    </tr>\n",
       "    <tr>\n",
       "      <th>116311</th>\n",
       "      <td>116160</td>\n",
       "      <td>207408.0</td>\n",
       "      <td>grandforksherald</td>\n",
       "      <td>549405</td>\n",
       "      <td>Morken: Patience pays off while bow hunting deer</td>\n",
       "      <td>2020-11-10</td>\n",
       "      <td>North Dakota</td>\n",
       "      <td>False</td>\n",
       "      <td>50652.0</td>\n",
       "      <td>16.769118</td>\n",
       "      <td>...</td>\n",
       "      <td>16</td>\n",
       "      <td>5.0</td>\n",
       "      <td>0.062500</td>\n",
       "      <td>15</td>\n",
       "      <td>0.000000</td>\n",
       "      <td>4.0</td>\n",
       "      <td>2</td>\n",
       "      <td>1.0</td>\n",
       "      <td>1.0</td>\n",
       "      <td>NaN</td>\n",
       "    </tr>\n",
       "    <tr>\n",
       "      <th>116312</th>\n",
       "      <td>116161</td>\n",
       "      <td>207408.0</td>\n",
       "      <td>thejamestownsun</td>\n",
       "      <td>549412</td>\n",
       "      <td>Morken: Patience pays off while bow hunting deer</td>\n",
       "      <td>2020-11-10</td>\n",
       "      <td>North Dakota</td>\n",
       "      <td>False</td>\n",
       "      <td>53685.0</td>\n",
       "      <td>27.563981</td>\n",
       "      <td>...</td>\n",
       "      <td>16</td>\n",
       "      <td>5.0</td>\n",
       "      <td>0.062500</td>\n",
       "      <td>15</td>\n",
       "      <td>0.000000</td>\n",
       "      <td>4.0</td>\n",
       "      <td>2</td>\n",
       "      <td>1.0</td>\n",
       "      <td>1.0</td>\n",
       "      <td>NaN</td>\n",
       "    </tr>\n",
       "  </tbody>\n",
       "</table>\n",
       "<p>865 rows × 21 columns</p>\n",
       "</div>"
      ],
      "text/plain": [
       "         index  clustNum                  source     key   \n",
       "201        201     154.0                theforum  100847  \\\n",
       "202        202     154.0        grandforksherald  100852   \n",
       "403        403     416.0                theforum  323865   \n",
       "404        404     416.0        grandforksherald  323873   \n",
       "449        449     520.0                theforum  285628   \n",
       "...        ...       ...                     ...     ...   \n",
       "114410  114260  194951.0        grandforksherald   24256   \n",
       "115659  115509  202643.0  devilslakedailyjournal   65723   \n",
       "116310  116159  207408.0                theforum  549399   \n",
       "116311  116160  207408.0        grandforksherald  549405   \n",
       "116312  116161  207408.0         thejamestownsun  549412   \n",
       "\n",
       "                                                    title       date   \n",
       "201     Minnesota National Guard, Air Force plan secon... 2020-05-11  \\\n",
       "202     Minnesota National Guard, Air Force plan secon... 2020-05-11   \n",
       "403     Koepka makes solid start in bid for PGA Champi... 2020-08-07   \n",
       "404     Koepka makes solid start in bid for PGA Champi... 2020-08-07   \n",
       "449     Vikings finalizing multi-year contract extensi... 2020-07-22   \n",
       "...                                                   ...        ...   \n",
       "114410                        Hauser: Is your soul weary? 2020-04-13   \n",
       "115659  White House unveils blueprint to expand state ... 2020-04-28   \n",
       "116310   Morken: Patience pays off while bow hunting deer 2020-11-10   \n",
       "116311   Morken: Patience pays off while bow hunting deer 2020-11-10   \n",
       "116312   Morken: Patience pays off while bow hunting deer 2020-11-10   \n",
       "\n",
       "               state national median_hh_inc  rural_pct  ... clustSize   \n",
       "201     North Dakota    False       54926.0  10.434777  ...        14  \\\n",
       "202     North Dakota    False       50652.0  16.769118  ...        14   \n",
       "403     North Dakota    False       54926.0  10.434777  ...        18   \n",
       "404     North Dakota    False       50652.0  16.769118  ...        18   \n",
       "449     North Dakota    False       54926.0  10.434777  ...        21   \n",
       "...              ...      ...           ...        ...  ...       ...   \n",
       "114410  North Dakota    False       50652.0  16.769118  ...         4   \n",
       "115659  North Dakota    False       50776.0  34.992577  ...        24   \n",
       "116310  North Dakota    False       54926.0  10.434777  ...        16   \n",
       "116311  North Dakota    False       50652.0  16.769118  ...        16   \n",
       "116312  North Dakota    False       53685.0  27.563981  ...        16   \n",
       "\n",
       "        duration  dayOnePercent  outletCount  natPercent  storyDay uniqueDays   \n",
       "201          9.0       0.071429           10    0.000000       7.0          4  \\\n",
       "202          9.0       0.071429           10    0.000000       7.0          4   \n",
       "403          7.0       0.333333           13    0.277778       4.0          4   \n",
       "404          7.0       0.333333           13    0.277778       4.0          4   \n",
       "449          5.0       0.380952           13    0.095238       0.0          5   \n",
       "...          ...            ...          ...         ...       ...        ...   \n",
       "114410       2.0       0.250000            4    0.000000       1.0          2   \n",
       "115659       2.0       0.041667           23    0.083333       1.0          2   \n",
       "116310       5.0       0.062500           15    0.000000       4.0          2   \n",
       "116311       5.0       0.062500           15    0.000000       4.0          2   \n",
       "116312       5.0       0.062500           15    0.000000       4.0          2   \n",
       "\n",
       "        storyPropCount storyPropDays veracityScore  \n",
       "201           0.666667         0.875           NaN  \n",
       "202           0.666667         0.875           NaN  \n",
       "403           0.666667      0.666667           NaN  \n",
       "404           0.666667      0.666667           NaN  \n",
       "449                0.0           0.0           NaN  \n",
       "...                ...           ...           ...  \n",
       "114410             1.0           1.0           NaN  \n",
       "115659             1.0           1.0           NaN  \n",
       "116310             1.0           1.0           NaN  \n",
       "116311             1.0           1.0           NaN  \n",
       "116312             1.0           1.0           NaN  \n",
       "\n",
       "[865 rows x 21 columns]"
      ]
     },
     "execution_count": 1171,
     "metadata": {},
     "output_type": "execute_result"
    }
   ],
   "source": [
    "fourtyLong[fourtyLong[\"state\"] == \"North Dakota\"]"
   ]
  },
  {
   "cell_type": "code",
   "execution_count": 538,
   "metadata": {},
   "outputs": [
    {
     "ename": "AttributeError",
     "evalue": "'list' object has no attribute 'values'",
     "output_type": "error",
     "traceback": [
      "\u001b[0;31m---------------------------------------------------------------------------\u001b[0m",
      "\u001b[0;31mAttributeError\u001b[0m                            Traceback (most recent call last)",
      "\u001b[0;32m<ipython-input-538-7b651f1b6fee>\u001b[0m in \u001b[0;36m<module>\u001b[0;34m\u001b[0m\n\u001b[1;32m      1\u001b[0m \u001b[0mmyList\u001b[0m \u001b[0;34m=\u001b[0m \u001b[0;34m[\u001b[0m\u001b[0;34m\"a, b, c\"\u001b[0m\u001b[0;34m]\u001b[0m\u001b[0;34m\u001b[0m\u001b[0;34m\u001b[0m\u001b[0m\n\u001b[1;32m      2\u001b[0m \u001b[0mindList\u001b[0m \u001b[0;34m=\u001b[0m \u001b[0;34m[\u001b[0m\u001b[0;36m0\u001b[0m\u001b[0;34m]\u001b[0m\u001b[0;34m\u001b[0m\u001b[0;34m\u001b[0m\u001b[0m\n\u001b[0;32m----> 3\u001b[0;31m \u001b[0mmyList\u001b[0m\u001b[0;34m[\u001b[0m\u001b[0mindList\u001b[0m\u001b[0;34m.\u001b[0m\u001b[0mvalues\u001b[0m\u001b[0;34m(\u001b[0m\u001b[0;34m)\u001b[0m\u001b[0;34m]\u001b[0m\u001b[0;34m\u001b[0m\u001b[0;34m\u001b[0m\u001b[0m\n\u001b[0m",
      "\u001b[0;31mAttributeError\u001b[0m: 'list' object has no attribute 'values'"
     ]
    }
   ],
   "source": [
    "myList = [\"a, b, c\"]\n",
    "indList = [0]\n",
    "myList"
   ]
  },
  {
   "cell_type": "code",
   "execution_count": 539,
   "metadata": {},
   "outputs": [
    {
     "name": "stderr",
     "output_type": "stream",
     "text": [
      "/opt/anaconda/lib/python3.8/site-packages/numpy/core/fromnumeric.py:3432: RuntimeWarning: Mean of empty slice.\n",
      "  return _methods._mean(a, axis=axis, dtype=dtype,\n",
      "/opt/anaconda/lib/python3.8/site-packages/numpy/core/_methods.py:190: RuntimeWarning: invalid value encountered in double_scalars\n",
      "  ret = ret.dtype.type(ret / rcount)\n"
     ]
    }
   ],
   "source": [
    "def getMeanCoverage(inSer): \n",
    "    storyProps = inSer[\"storyProportion\"]\n",
    "    rel = [storyProps[i] for i in range(0, len(inSer[\"label\"])) if inSer[\"label\"][i] == 0] \n",
    "    mixed = [storyProps[i] for i in range(0, len(inSer[\"label\"])) if inSer[\"label\"][i] == 1]\n",
    "    unrel = [storyProps[i] for i in range(0, len(inSer[\"label\"])) if inSer[\"label\"][i] == 2]\n",
    "    \"\"\"\n",
    "    relMean = np.nan\n",
    "    if len(relInds) > 0: \n",
    "        relMean = np.mean(inSer[\"storyProportion\"][relInds])\n",
    "        \n",
    "    mixedMean = np.nan\n",
    "    if len(mixedInds) > 0: \n",
    "        print(mixedInds)\n",
    "        print(inSer[\"storyProportion\"])\n",
    "        mixedMean = np.mean(inSer[\"storyProportion\"][mixedInds])\n",
    "    \n",
    "    unrelMean = np.nan\n",
    "    if len(unrelInds) > 0: \n",
    "        unrelMean = np.mean(inSer[\"storyProportion\"][unrelInds])\n",
    "    \"\"\"\n",
    "    \n",
    "    return (np.mean(rel), np.mean(mixed), np.mean(unrel)) \n",
    "\n",
    "veracityDiff[[\"relMean\", \"mixedMean\", \"unrelMean\"]] = list(veracityDiff.apply(getMeanCoverage, axis=1))"
   ]
  },
  {
   "cell_type": "code",
   "execution_count": 541,
   "metadata": {},
   "outputs": [
    {
     "name": "stderr",
     "output_type": "stream",
     "text": [
      "<ipython-input-541-cec816e33f90>:3: SettingWithCopyWarning: \n",
      "A value is trying to be set on a copy of a slice from a DataFrame.\n",
      "Try using .loc[row_indexer,col_indexer] = value instead\n",
      "\n",
      "See the caveats in the documentation: https://pandas.pydata.org/pandas-docs/stable/user_guide/indexing.html#returning-a-view-versus-a-copy\n",
      "  relUnrel[\"relUnrelDiff\"] = relUnrel[\"relMean\"] - relUnrel[\"unrelMean\"]\n"
     ]
    }
   ],
   "source": [
    "#now get diffs for for rel and unrel \n",
    "relUnrel = veracityDiff.dropna(subset=[\"relMean\", \"unrelMean\"])\n",
    "relUnrel[\"relUnrelDiff\"] = relUnrel[\"relMean\"] - relUnrel[\"unrelMean\"]"
   ]
  },
  {
   "cell_type": "code",
   "execution_count": 557,
   "metadata": {},
   "outputs": [
    {
     "data": {
      "text/plain": [
       "clustNum\n",
       "8.0         10\n",
       "24.0         7\n",
       "79.0        28\n",
       "95.0        14\n",
       "110.0       31\n",
       "            ..\n",
       "208587.0     4\n",
       "208813.0    12\n",
       "208819.0     4\n",
       "209116.0     3\n",
       "209248.0     5\n",
       "Name: clustSize, Length: 6488, dtype: int64"
      ]
     },
     "execution_count": 557,
     "metadata": {},
     "output_type": "execute_result"
    }
   ],
   "source": [
    "relUnrel[\"clustSize\"]"
   ]
  }
 ],
 "metadata": {
  "kernelspec": {
   "display_name": "Python 3",
   "language": "python",
   "name": "python3"
  },
  "language_info": {
   "codemirror_mode": {
    "name": "ipython",
    "version": 3
   },
   "file_extension": ".py",
   "mimetype": "text/x-python",
   "name": "python",
   "nbconvert_exporter": "python",
   "pygments_lexer": "ipython3",
   "version": "3.8.5"
  }
 },
 "nbformat": 4,
 "nbformat_minor": 4
}
