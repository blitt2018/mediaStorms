{
 "cells": [
  {
   "cell_type": "code",
   "execution_count": 57,
   "metadata": {},
   "outputs": [],
   "source": [
    "import pandas as pd\n",
    "import numpy as np\n",
    "import statsmodels.formula.api as smf"
   ]
  },
  {
   "cell_type": "markdown",
   "metadata": {},
   "source": [
    "## Main idea\n",
    "We have some stories that start national, and we want to know what could influence national starting stories. Mostly in terms of content"
   ]
  },
  {
   "cell_type": "code",
   "execution_count": 46,
   "metadata": {},
   "outputs": [],
   "source": [
    "IN_PATH = \"/shared/3/projects/newsDiffusion/data/processed/fullDataWithClustNums.tsv\"\n",
    "\n",
    "merged = pd.read_csv(IN_PATH, sep=\"\\t\")"
   ]
  },
  {
   "cell_type": "code",
   "execution_count": null,
   "metadata": {},
   "outputs": [],
   "source": [
    "merged =  merged.dropna(subset=[\"clustNum\"])\n",
    "\n",
    "#look at which outlet first started a story \n",
    "#first make sure we have the date of an outlet correctly specified \n",
    "merged[\"date\"] = pd.to_datetime(merged[\"date\"])"
   ]
  },
  {
   "cell_type": "code",
   "execution_count": 62,
   "metadata": {},
   "outputs": [],
   "source": [
    "docCols = [\"index\", \"key\"] + [\"Topic\" + str(i) for i in range(40)]\n",
    "\n",
    "#get our topics in the mix \n",
    "docTopics = pd.read_csv(\"/shared/3/projects/newsDiffusion/data/interim/topicModelling/doc_topics.txt\", sep=\"\\t\", names=docCols)"
   ]
  },
  {
   "cell_type": "code",
   "execution_count": 63,
   "metadata": {},
   "outputs": [],
   "source": [
    "merged = pd.merge(merged, docTopics, on=\"key\", how=\"left\")"
   ]
  },
  {
   "cell_type": "code",
   "execution_count": 64,
   "metadata": {},
   "outputs": [],
   "source": [
    "cols = [\"key\", \"source\", \"title\", \"content\", \"clustNum\", \"date\", \"national\"] + [\"Topic\" + str(i) for i in range(40)]\n",
    "\n",
    "#group data together \n",
    "grouped = merged[cols].groupby(by=\"clustNum\").agg(list)\n",
    "grouped[\"clustLen\"] = grouped[\"key\"].apply(len)\n",
    "\n",
    "#get first to publish within a cluster \n",
    "grouped[\"first\"] = grouped[\"date\"].apply(lambda x: x.index(min(x)))"
   ]
  },
  {
   "cell_type": "code",
   "execution_count": 65,
   "metadata": {},
   "outputs": [],
   "source": [
    "grouped[\"nationalFirst\"] = grouped.apply(lambda x: x[\"national\"][x[\"first\"]], axis=1)"
   ]
  },
  {
   "cell_type": "code",
   "execution_count": 66,
   "metadata": {},
   "outputs": [],
   "source": [
    "groupedSample = grouped.sample(20000)"
   ]
  },
  {
   "cell_type": "code",
   "execution_count": 67,
   "metadata": {},
   "outputs": [
    {
     "name": "stderr",
     "output_type": "stream",
     "text": [
      "<ipython-input-67-016928166177>:2: RuntimeWarning: Mean of empty slice\n",
      "  return [np.nanmean(clustList) for clustList in inSeries]\n"
     ]
    }
   ],
   "source": [
    "def seriesMean(inSeries): \n",
    "    return [np.nanmean(clustList) for clustList in inSeries] \n",
    "\n",
    "topicCols = [\"Topic\" + str(i) for i in range(40)]\n",
    "\n",
    "groupedSample[topicCols] = groupedSample[topicCols].apply(seriesMean, axis=1, result_type=\"expand\")"
   ]
  },
  {
   "cell_type": "code",
   "execution_count": 68,
   "metadata": {},
   "outputs": [],
   "source": [
    "groupedSample[\"natProp\"] = groupedSample[\"national\"].apply(np.mean)"
   ]
  },
  {
   "cell_type": "code",
   "execution_count": 69,
   "metadata": {},
   "outputs": [
    {
     "data": {
      "text/plain": [
       "Index(['key', 'source', 'title', 'content', 'date', 'national', 'Topic0',\n",
       "       'Topic1', 'Topic2', 'Topic3', 'Topic4', 'Topic5', 'Topic6', 'Topic7',\n",
       "       'Topic8', 'Topic9', 'Topic10', 'Topic11', 'Topic12', 'Topic13',\n",
       "       'Topic14', 'Topic15', 'Topic16', 'Topic17', 'Topic18', 'Topic19',\n",
       "       'Topic20', 'Topic21', 'Topic22', 'Topic23', 'Topic24', 'Topic25',\n",
       "       'Topic26', 'Topic27', 'Topic28', 'Topic29', 'Topic30', 'Topic31',\n",
       "       'Topic32', 'Topic33', 'Topic34', 'Topic35', 'Topic36', 'Topic37',\n",
       "       'Topic38', 'Topic39', 'clustLen', 'first', 'nationalFirst', 'natProp'],\n",
       "      dtype='object')"
      ]
     },
     "execution_count": 69,
     "metadata": {},
     "output_type": "execute_result"
    }
   ],
   "source": [
    "groupedSample.columns"
   ]
  },
  {
   "cell_type": "code",
   "execution_count": 71,
   "metadata": {},
   "outputs": [],
   "source": [
    "regressStr = \"nationalFirst ~ natProp + \" + \" + \".join(topicCols)"
   ]
  },
  {
   "cell_type": "code",
   "execution_count": 82,
   "metadata": {},
   "outputs": [],
   "source": [
    "groupedSample[\"nationalFirst\"] = groupedSample[\"nationalFirst\"].astype(int)"
   ]
  },
  {
   "cell_type": "code",
   "execution_count": 83,
   "metadata": {},
   "outputs": [],
   "source": [
    "mod = smf.ols(regressStr, data=groupedSample).fit()"
   ]
  },
  {
   "cell_type": "code",
   "execution_count": 130,
   "metadata": {},
   "outputs": [],
   "source": [
    "#mod.summary()"
   ]
  },
  {
   "cell_type": "code",
   "execution_count": 120,
   "metadata": {},
   "outputs": [],
   "source": [
    "pvals = pd.DataFrame(mod.pvalues, columns=[\"pValues\"]).reset_index()\n",
    "params = pd.DataFrame(mod.params, columns=[\"params\"]).reset_index()\n",
    "\n",
    "resultsDf = pd.merge(pvals, params, on=\"index\")\n",
    "#resultsDf[\"pValues\"] = resultsDf[\"pValues\"].astype(float)\n",
    "#resultsDf[\"params\"] = resultsDf[\"params\"].astype(float)\n",
    "resultsDf = resultsDf[(resultsDf[\"index\"] != \"natProp\") & (resultsDf[\"index\"] != \"Intercept\") & (resultsDf[\"pValues\"] <= .5)].sort_values(\"params\")"
   ]
  },
  {
   "cell_type": "code",
   "execution_count": 121,
   "metadata": {},
   "outputs": [
    {
     "data": {
      "text/html": [
       "<div>\n",
       "<style scoped>\n",
       "    .dataframe tbody tr th:only-of-type {\n",
       "        vertical-align: middle;\n",
       "    }\n",
       "\n",
       "    .dataframe tbody tr th {\n",
       "        vertical-align: top;\n",
       "    }\n",
       "\n",
       "    .dataframe thead th {\n",
       "        text-align: right;\n",
       "    }\n",
       "</style>\n",
       "<table border=\"1\" class=\"dataframe\">\n",
       "  <thead>\n",
       "    <tr style=\"text-align: right;\">\n",
       "      <th></th>\n",
       "      <th>topicNum</th>\n",
       "      <th>rand</th>\n",
       "      <th>words</th>\n",
       "    </tr>\n",
       "  </thead>\n",
       "  <tbody>\n",
       "    <tr>\n",
       "      <th>0</th>\n",
       "      <td>0</td>\n",
       "      <td>0.125</td>\n",
       "      <td>league season club united players team game ba...</td>\n",
       "    </tr>\n",
       "    <tr>\n",
       "      <th>1</th>\n",
       "      <td>1</td>\n",
       "      <td>0.125</td>\n",
       "      <td>cases covid deaths county state health number ...</td>\n",
       "    </tr>\n",
       "    <tr>\n",
       "      <th>2</th>\n",
       "      <td>2</td>\n",
       "      <td>0.125</td>\n",
       "      <td>game season team games players play coach foot...</td>\n",
       "    </tr>\n",
       "    <tr>\n",
       "      <th>3</th>\n",
       "      <td>3</td>\n",
       "      <td>0.125</td>\n",
       "      <td>water park animals river lake area dog animal ...</td>\n",
       "    </tr>\n",
       "    <tr>\n",
       "      <th>4</th>\n",
       "      <td>4</td>\n",
       "      <td>0.125</td>\n",
       "      <td>die der und das den von mit ist nicht sich auf...</td>\n",
       "    </tr>\n",
       "  </tbody>\n",
       "</table>\n",
       "</div>"
      ],
      "text/plain": [
       "   topicNum   rand                                              words\n",
       "0         0  0.125  league season club united players team game ba...\n",
       "1         1  0.125  cases covid deaths county state health number ...\n",
       "2         2  0.125  game season team games players play coach foot...\n",
       "3         3  0.125  water park animals river lake area dog animal ...\n",
       "4         4  0.125  die der und das den von mit ist nicht sich auf..."
      ]
     },
     "execution_count": 121,
     "metadata": {},
     "output_type": "execute_result"
    }
   ],
   "source": [
    "topicWords = pd.read_csv(\"/shared/3/projects/newsDiffusion/data/interim/topicModelling/topic_keys.txt\", sep=\"\\t\", names=[\"topicNum\", \"rand\", \"words\"])\n",
    "topicWords.head()"
   ]
  },
  {
   "cell_type": "code",
   "execution_count": 123,
   "metadata": {},
   "outputs": [],
   "source": [
    "import re\n",
    "def getTopicNum(inStr): \n",
    "    cleanStr = inStr.split(\":\")[0]\n",
    "    return re.sub(\"[^0-9]\", \"\", cleanStr)\n",
    "\n",
    "resultsDf[\"topicNum\"] = resultsDf[\"index\"].apply(getTopicNum).astype(int)"
   ]
  },
  {
   "cell_type": "code",
   "execution_count": 124,
   "metadata": {},
   "outputs": [
    {
     "data": {
      "text/html": [
       "<div>\n",
       "<style scoped>\n",
       "    .dataframe tbody tr th:only-of-type {\n",
       "        vertical-align: middle;\n",
       "    }\n",
       "\n",
       "    .dataframe tbody tr th {\n",
       "        vertical-align: top;\n",
       "    }\n",
       "\n",
       "    .dataframe thead th {\n",
       "        text-align: right;\n",
       "    }\n",
       "</style>\n",
       "<table border=\"1\" class=\"dataframe\">\n",
       "  <thead>\n",
       "    <tr style=\"text-align: right;\">\n",
       "      <th></th>\n",
       "      <th>index</th>\n",
       "      <th>pValues</th>\n",
       "      <th>params</th>\n",
       "      <th>topicNum</th>\n",
       "      <th>words</th>\n",
       "    </tr>\n",
       "  </thead>\n",
       "  <tbody>\n",
       "    <tr>\n",
       "      <th>0</th>\n",
       "      <td>Topic22</td>\n",
       "      <td>1.879710e-08</td>\n",
       "      <td>-0.099368</td>\n",
       "      <td>22</td>\n",
       "      <td>israel government people country israeli minis...</td>\n",
       "    </tr>\n",
       "    <tr>\n",
       "      <th>1</th>\n",
       "      <td>Topic27</td>\n",
       "      <td>2.405561e-08</td>\n",
       "      <td>-0.079662</td>\n",
       "      <td>27</td>\n",
       "      <td>people time don family n't back life day told ...</td>\n",
       "    </tr>\n",
       "    <tr>\n",
       "      <th>2</th>\n",
       "      <td>Topic12</td>\n",
       "      <td>1.076639e-05</td>\n",
       "      <td>-0.079066</td>\n",
       "      <td>12</td>\n",
       "      <td>police officers protests protesters city floyd...</td>\n",
       "    </tr>\n",
       "    <tr>\n",
       "      <th>3</th>\n",
       "      <td>Topic20</td>\n",
       "      <td>2.723043e-19</td>\n",
       "      <td>-0.075942</td>\n",
       "      <td>20</td>\n",
       "      <td>police man officers year-old county arrested o...</td>\n",
       "    </tr>\n",
       "    <tr>\n",
       "      <th>4</th>\n",
       "      <td>Topic2</td>\n",
       "      <td>6.123424e-13</td>\n",
       "      <td>-0.058750</td>\n",
       "      <td>2</td>\n",
       "      <td>game season team games players play coach foot...</td>\n",
       "    </tr>\n",
       "    <tr>\n",
       "      <th>5</th>\n",
       "      <td>Topic31</td>\n",
       "      <td>1.836112e-04</td>\n",
       "      <td>-0.058243</td>\n",
       "      <td>31</td>\n",
       "      <td>people state masks coronavirus social health d...</td>\n",
       "    </tr>\n",
       "    <tr>\n",
       "      <th>6</th>\n",
       "      <td>Topic1</td>\n",
       "      <td>7.292947e-02</td>\n",
       "      <td>-0.039199</td>\n",
       "      <td>1</td>\n",
       "      <td>cases covid deaths county state health number ...</td>\n",
       "    </tr>\n",
       "    <tr>\n",
       "      <th>7</th>\n",
       "      <td>Topic13</td>\n",
       "      <td>1.710523e-01</td>\n",
       "      <td>-0.035755</td>\n",
       "      <td>13</td>\n",
       "      <td>it’s don’t time people we’re that’s make i’m w...</td>\n",
       "    </tr>\n",
       "    <tr>\n",
       "      <th>8</th>\n",
       "      <td>Topic36</td>\n",
       "      <td>7.220147e-02</td>\n",
       "      <td>-0.034175</td>\n",
       "      <td>36</td>\n",
       "      <td>investigation case fbi department attorney int...</td>\n",
       "    </tr>\n",
       "    <tr>\n",
       "      <th>9</th>\n",
       "      <td>Topic30</td>\n",
       "      <td>1.559344e-01</td>\n",
       "      <td>-0.028037</td>\n",
       "      <td>30</td>\n",
       "      <td>fire california san a.m p.m argus/dispatch ang...</td>\n",
       "    </tr>\n",
       "  </tbody>\n",
       "</table>\n",
       "</div>"
      ],
      "text/plain": [
       "     index       pValues    params  topicNum  \\\n",
       "0  Topic22  1.879710e-08 -0.099368        22   \n",
       "1  Topic27  2.405561e-08 -0.079662        27   \n",
       "2  Topic12  1.076639e-05 -0.079066        12   \n",
       "3  Topic20  2.723043e-19 -0.075942        20   \n",
       "4   Topic2  6.123424e-13 -0.058750         2   \n",
       "5  Topic31  1.836112e-04 -0.058243        31   \n",
       "6   Topic1  7.292947e-02 -0.039199         1   \n",
       "7  Topic13  1.710523e-01 -0.035755        13   \n",
       "8  Topic36  7.220147e-02 -0.034175        36   \n",
       "9  Topic30  1.559344e-01 -0.028037        30   \n",
       "\n",
       "                                               words  \n",
       "0  israel government people country israeli minis...  \n",
       "1  people time don family n't back life day told ...  \n",
       "2  police officers protests protesters city floyd...  \n",
       "3  police man officers year-old county arrested o...  \n",
       "4  game season team games players play coach foot...  \n",
       "5  people state masks coronavirus social health d...  \n",
       "6  cases covid deaths county state health number ...  \n",
       "7  it’s don’t time people we’re that’s make i’m w...  \n",
       "8  investigation case fbi department attorney int...  \n",
       "9  fire california san a.m p.m argus/dispatch ang...  "
      ]
     },
     "execution_count": 124,
     "metadata": {},
     "output_type": "execute_result"
    }
   ],
   "source": [
    "topicsMerged = pd.merge(resultsDf, topicWords, on=\"topicNum\", how=\"left\").drop(columns=[\"rand\"])\n",
    "topicsMerged.head(10)"
   ]
  },
  {
   "cell_type": "code",
   "execution_count": 128,
   "metadata": {},
   "outputs": [
    {
     "data": {
      "text/html": [
       "<div>\n",
       "<style scoped>\n",
       "    .dataframe tbody tr th:only-of-type {\n",
       "        vertical-align: middle;\n",
       "    }\n",
       "\n",
       "    .dataframe tbody tr th {\n",
       "        vertical-align: top;\n",
       "    }\n",
       "\n",
       "    .dataframe thead th {\n",
       "        text-align: right;\n",
       "    }\n",
       "</style>\n",
       "<table border=\"1\" class=\"dataframe\">\n",
       "  <thead>\n",
       "    <tr style=\"text-align: right;\">\n",
       "      <th></th>\n",
       "      <th>index</th>\n",
       "      <th>pValues</th>\n",
       "      <th>params</th>\n",
       "      <th>topicNum</th>\n",
       "      <th>words</th>\n",
       "    </tr>\n",
       "  </thead>\n",
       "  <tbody>\n",
       "    <tr>\n",
       "      <th>22</th>\n",
       "      <td>Topic18</td>\n",
       "      <td>8.190789e-02</td>\n",
       "      <td>0.029177</td>\n",
       "      <td>18</td>\n",
       "      <td>home time make buy room good hair day made bac...</td>\n",
       "    </tr>\n",
       "    <tr>\n",
       "      <th>23</th>\n",
       "      <td>Topic15</td>\n",
       "      <td>9.843526e-03</td>\n",
       "      <td>0.031198</td>\n",
       "      <td>15</td>\n",
       "      <td>iran russia russian military u.s forces war ir...</td>\n",
       "    </tr>\n",
       "    <tr>\n",
       "      <th>24</th>\n",
       "      <td>Topic8</td>\n",
       "      <td>1.500632e-02</td>\n",
       "      <td>0.036573</td>\n",
       "      <td>8</td>\n",
       "      <td>trump president biden white house donald admin...</td>\n",
       "    </tr>\n",
       "    <tr>\n",
       "      <th>25</th>\n",
       "      <td>Topic4</td>\n",
       "      <td>4.362958e-01</td>\n",
       "      <td>0.037105</td>\n",
       "      <td>4</td>\n",
       "      <td>die der und das den von mit ist nicht sich auf...</td>\n",
       "    </tr>\n",
       "    <tr>\n",
       "      <th>26</th>\n",
       "      <td>Topic39</td>\n",
       "      <td>3.109983e-03</td>\n",
       "      <td>0.047587</td>\n",
       "      <td>39</td>\n",
       "      <td>vaccine covid virus coronavirus people health ...</td>\n",
       "    </tr>\n",
       "    <tr>\n",
       "      <th>27</th>\n",
       "      <td>Topic32</td>\n",
       "      <td>4.499190e-03</td>\n",
       "      <td>0.052925</td>\n",
       "      <td>32</td>\n",
       "      <td>health study cancer treatment patients body me...</td>\n",
       "    </tr>\n",
       "    <tr>\n",
       "      <th>28</th>\n",
       "      <td>Topic33</td>\n",
       "      <td>3.584712e-03</td>\n",
       "      <td>0.054146</td>\n",
       "      <td>33</td>\n",
       "      <td>court law supreme federal justice state judge ...</td>\n",
       "    </tr>\n",
       "    <tr>\n",
       "      <th>29</th>\n",
       "      <td>Topic11</td>\n",
       "      <td>1.894980e-03</td>\n",
       "      <td>0.054920</td>\n",
       "      <td>11</td>\n",
       "      <td>news media twitter facebook video social post ...</td>\n",
       "    </tr>\n",
       "    <tr>\n",
       "      <th>30</th>\n",
       "      <td>Topic23</td>\n",
       "      <td>7.823468e-10</td>\n",
       "      <td>0.086209</td>\n",
       "      <td>23</td>\n",
       "      <td>people world political power america governmen...</td>\n",
       "    </tr>\n",
       "    <tr>\n",
       "      <th>31</th>\n",
       "      <td>Topic5</td>\n",
       "      <td>7.845616e-08</td>\n",
       "      <td>0.089679</td>\n",
       "      <td>5</td>\n",
       "      <td>government people johnson lockdown london mini...</td>\n",
       "    </tr>\n",
       "  </tbody>\n",
       "</table>\n",
       "</div>"
      ],
      "text/plain": [
       "      index       pValues    params  topicNum  \\\n",
       "22  Topic18  8.190789e-02  0.029177        18   \n",
       "23  Topic15  9.843526e-03  0.031198        15   \n",
       "24   Topic8  1.500632e-02  0.036573         8   \n",
       "25   Topic4  4.362958e-01  0.037105         4   \n",
       "26  Topic39  3.109983e-03  0.047587        39   \n",
       "27  Topic32  4.499190e-03  0.052925        32   \n",
       "28  Topic33  3.584712e-03  0.054146        33   \n",
       "29  Topic11  1.894980e-03  0.054920        11   \n",
       "30  Topic23  7.823468e-10  0.086209        23   \n",
       "31   Topic5  7.845616e-08  0.089679         5   \n",
       "\n",
       "                                                words  \n",
       "22  home time make buy room good hair day made bac...  \n",
       "23  iran russia russian military u.s forces war ir...  \n",
       "24  trump president biden white house donald admin...  \n",
       "25  die der und das den von mit ist nicht sich auf...  \n",
       "26  vaccine covid virus coronavirus people health ...  \n",
       "27  health study cancer treatment patients body me...  \n",
       "28  court law supreme federal justice state judge ...  \n",
       "29  news media twitter facebook video social post ...  \n",
       "30  people world political power america governmen...  \n",
       "31  government people johnson lockdown london mini...  "
      ]
     },
     "execution_count": 128,
     "metadata": {},
     "output_type": "execute_result"
    }
   ],
   "source": [
    "topicsMerged.tail(10)"
   ]
  },
  {
   "cell_type": "code",
   "execution_count": 126,
   "metadata": {},
   "outputs": [],
   "source": [
    "mod = smf.ols(\"nationalFirst ~ natProp\", data=groupedSample).fit()"
   ]
  },
  {
   "cell_type": "code",
   "execution_count": 127,
   "metadata": {},
   "outputs": [
    {
     "data": {
      "text/html": [
       "<table class=\"simpletable\">\n",
       "<caption>OLS Regression Results</caption>\n",
       "<tr>\n",
       "  <th>Dep. Variable:</th>      <td>nationalFirst</td>  <th>  R-squared:         </th>  <td>   0.855</td> \n",
       "</tr>\n",
       "<tr>\n",
       "  <th>Model:</th>                   <td>OLS</td>       <th>  Adj. R-squared:    </th>  <td>   0.855</td> \n",
       "</tr>\n",
       "<tr>\n",
       "  <th>Method:</th>             <td>Least Squares</td>  <th>  F-statistic:       </th>  <td>1.179e+05</td>\n",
       "</tr>\n",
       "<tr>\n",
       "  <th>Date:</th>             <td>Tue, 11 Apr 2023</td> <th>  Prob (F-statistic):</th>   <td>  0.00</td>  \n",
       "</tr>\n",
       "<tr>\n",
       "  <th>Time:</th>                 <td>11:33:24</td>     <th>  Log-Likelihood:    </th>  <td>  5624.8</td> \n",
       "</tr>\n",
       "<tr>\n",
       "  <th>No. Observations:</th>      <td> 20000</td>      <th>  AIC:               </th> <td>-1.125e+04</td>\n",
       "</tr>\n",
       "<tr>\n",
       "  <th>Df Residuals:</th>          <td> 19998</td>      <th>  BIC:               </th> <td>-1.123e+04</td>\n",
       "</tr>\n",
       "<tr>\n",
       "  <th>Df Model:</th>              <td>     1</td>      <th>                     </th>      <td> </td>    \n",
       "</tr>\n",
       "<tr>\n",
       "  <th>Covariance Type:</th>      <td>nonrobust</td>    <th>                     </th>      <td> </td>    \n",
       "</tr>\n",
       "</table>\n",
       "<table class=\"simpletable\">\n",
       "<tr>\n",
       "      <td></td>         <th>coef</th>     <th>std err</th>      <th>t</th>      <th>P>|t|</th>  <th>[0.025</th>    <th>0.975]</th>  \n",
       "</tr>\n",
       "<tr>\n",
       "  <th>Intercept</th> <td>   -0.0503</td> <td>    0.002</td> <td>  -21.023</td> <td> 0.000</td> <td>   -0.055</td> <td>   -0.046</td>\n",
       "</tr>\n",
       "<tr>\n",
       "  <th>natProp</th>   <td>    1.0209</td> <td>    0.003</td> <td>  343.355</td> <td> 0.000</td> <td>    1.015</td> <td>    1.027</td>\n",
       "</tr>\n",
       "</table>\n",
       "<table class=\"simpletable\">\n",
       "<tr>\n",
       "  <th>Omnibus:</th>       <td>7234.184</td> <th>  Durbin-Watson:     </th> <td>   2.017</td> \n",
       "</tr>\n",
       "<tr>\n",
       "  <th>Prob(Omnibus):</th>  <td> 0.000</td>  <th>  Jarque-Bera (JB):  </th> <td>55978.205</td>\n",
       "</tr>\n",
       "<tr>\n",
       "  <th>Skew:</th>           <td>-1.533</td>  <th>  Prob(JB):          </th> <td>    0.00</td> \n",
       "</tr>\n",
       "<tr>\n",
       "  <th>Kurtosis:</th>       <td>10.601</td>  <th>  Cond. No.          </th> <td>    3.51</td> \n",
       "</tr>\n",
       "</table><br/><br/>Notes:<br/>[1] Standard Errors assume that the covariance matrix of the errors is correctly specified."
      ],
      "text/plain": [
       "<class 'statsmodels.iolib.summary.Summary'>\n",
       "\"\"\"\n",
       "                            OLS Regression Results                            \n",
       "==============================================================================\n",
       "Dep. Variable:          nationalFirst   R-squared:                       0.855\n",
       "Model:                            OLS   Adj. R-squared:                  0.855\n",
       "Method:                 Least Squares   F-statistic:                 1.179e+05\n",
       "Date:                Tue, 11 Apr 2023   Prob (F-statistic):               0.00\n",
       "Time:                        11:33:24   Log-Likelihood:                 5624.8\n",
       "No. Observations:               20000   AIC:                        -1.125e+04\n",
       "Df Residuals:                   19998   BIC:                        -1.123e+04\n",
       "Df Model:                           1                                         \n",
       "Covariance Type:            nonrobust                                         \n",
       "==============================================================================\n",
       "                 coef    std err          t      P>|t|      [0.025      0.975]\n",
       "------------------------------------------------------------------------------\n",
       "Intercept     -0.0503      0.002    -21.023      0.000      -0.055      -0.046\n",
       "natProp        1.0209      0.003    343.355      0.000       1.015       1.027\n",
       "==============================================================================\n",
       "Omnibus:                     7234.184   Durbin-Watson:                   2.017\n",
       "Prob(Omnibus):                  0.000   Jarque-Bera (JB):            55978.205\n",
       "Skew:                          -1.533   Prob(JB):                         0.00\n",
       "Kurtosis:                      10.601   Cond. No.                         3.51\n",
       "==============================================================================\n",
       "\n",
       "Notes:\n",
       "[1] Standard Errors assume that the covariance matrix of the errors is correctly specified.\n",
       "\"\"\""
      ]
     },
     "execution_count": 127,
     "metadata": {},
     "output_type": "execute_result"
    }
   ],
   "source": [
    "mod.summary()"
   ]
  },
  {
   "cell_type": "code",
   "execution_count": 134,
   "metadata": {},
   "outputs": [
    {
     "data": {
      "text/plain": [
       "<matplotlib.collections.PathCollection at 0x7fae6816c9a0>"
      ]
     },
     "execution_count": 134,
     "metadata": {},
     "output_type": "execute_result"
    },
    {
     "data": {
      "image/png": "[encoded data removed]",
      "text/plain": [
       "<Figure size 432x288 with 1 Axes>"
      ]
     },
     "metadata": {
      "needs_background": "light"
     },
     "output_type": "display_data"
    }
   ],
   "source": [
    "# maybe do some exploratory work to see if we can visualize this? \n",
    "import matplotlib.pyplot as plt\n",
    "plt.scatter(groupedSample[\"Topic39\"], groupedSample[\"Topic1\"], alpha = .1)"
   ]
  },
  {
   "cell_type": "code",
   "execution_count": 152,
   "metadata": {},
   "outputs": [],
   "source": [
    "hasBoth = (groupedSample[\"national\"].apply(sum) != groupedSample[\"national\"].apply(len)) & (groupedSample[\"national\"].apply(sum) != 0)"
   ]
  },
  {
   "cell_type": "code",
   "execution_count": 153,
   "metadata": {},
   "outputs": [],
   "source": [
    "groupedSample[\"hasBoth\"] = hasBoth"
   ]
  },
  {
   "cell_type": "code",
   "execution_count": 159,
   "metadata": {},
   "outputs": [
    {
     "data": {
      "text/plain": [
       "(0.0, 0.5)"
      ]
     },
     "execution_count": 159,
     "metadata": {},
     "output_type": "execute_result"
    },
    {
     "data": {
      "image/png": "[encoded data removed]",
      "text/plain": [
       "<Figure size 432x288 with 1 Axes>"
      ]
     },
     "metadata": {
      "needs_background": "light"
     },
     "output_type": "display_data"
    }
   ],
   "source": [
    "import seaborn as sns\n",
    "\n",
    "mixedClusts = groupedSample[groupedSample[\"hasBoth\"] == True]\n",
    "\n",
    "# Use the 'hue' argument to provide a factor variable\n",
    "sns.scatterplot( x=\"Topic39\", y=\"Topic1\", data=mixedClusts, hue='nationalFirst', legend=True, alpha=.3)\n",
    "plt.title(\"Covid coverage: who starts mixed clusters\")\n",
    "plt.xlabel(\"Topic: vaccine covid virus coronavirus\")\n",
    "plt.ylabel(\"Topic: cases covid deaths county\")\n",
    "\n",
    "plt.xlim(0, .5)\n",
    "plt.ylim(0, .5)"
   ]
  },
  {
   "cell_type": "code",
   "execution_count": 181,
   "metadata": {},
   "outputs": [],
   "source": [
    "groupedSample[\"Topic1Bins\"] = pd.cut(groupedSample[\"Topic1\"], bins=[0, .2, .4, .6, .8])"
   ]
  },
  {
   "cell_type": "code",
   "execution_count": 185,
   "metadata": {},
   "outputs": [
    {
     "data": {
      "text/plain": [
       "<AxesSubplot:xlabel='nationalFirst', ylabel='Topic1Bins'>"
      ]
     },
     "execution_count": 185,
     "metadata": {},
     "output_type": "execute_result"
    },
    {
     "data": {
      "image/png": "[encoded data removed]",
      "text/plain": [
       "<Figure size 432x288 with 1 Axes>"
      ]
     },
     "metadata": {
      "needs_background": "light"
     },
     "output_type": "display_data"
    }
   ],
   "source": [
    "mixedClusts = groupedSample[groupedSample[\"hasBoth\"] == True]\n",
    "sns.barplot(x=\"nationalFirst\", y=\"Topic1Bins\", data=mixedClusts)"
   ]
  },
  {
   "cell_type": "code",
   "execution_count": 191,
   "metadata": {},
   "outputs": [],
   "source": [
    "groupedSample[\"Topic39Bins\"] = pd.cut(groupedSample[\"Topic39\"], bins=[0, .2, .4, .6, .8])"
   ]
  },
  {
   "cell_type": "code",
   "execution_count": 192,
   "metadata": {},
   "outputs": [
    {
     "data": {
      "text/plain": [
       "<AxesSubplot:xlabel='nationalFirst', ylabel='Topic39Bins'>"
      ]
     },
     "execution_count": 192,
     "metadata": {},
     "output_type": "execute_result"
    },
    {
     "data": {
      "image/png": "[encoded data removed]",
      "text/plain": [
       "<Figure size 432x288 with 1 Axes>"
      ]
     },
     "metadata": {
      "needs_background": "light"
     },
     "output_type": "display_data"
    }
   ],
   "source": [
    "mixedClusts = groupedSample[groupedSample[\"hasBoth\"] == True]\n",
    "sns.barplot(x=\"nationalFirst\", y=\"Topic39Bins\", data=mixedClusts)"
   ]
  },
  {
   "cell_type": "code",
   "execution_count": null,
   "metadata": {},
   "outputs": [],
   "source": []
  }
 ],
 "metadata": {
  "kernelspec": {
   "display_name": "Python 3",
   "language": "python",
   "name": "python3"
  },
  "language_info": {
   "codemirror_mode": {
    "name": "ipython",
    "version": 3
   },
   "file_extension": ".py",
   "mimetype": "text/x-python",
   "name": "python",
   "nbconvert_exporter": "python",
   "pygments_lexer": "ipython3",
   "version": "3.8.5"
  }
 },
 "nbformat": 4,
 "nbformat_minor": 4
}
