{
 "cells": [
  {
   "cell_type": "code",
   "execution_count": 1189,
   "metadata": {},
   "outputs": [],
   "source": [
    "import pandas as pd \n",
    "import numpy as np\n",
    "import seaborn as sns\n",
    "import matplotlib.pyplot as plt"
   ]
  },
  {
   "cell_type": "code",
   "execution_count": 1211,
   "metadata": {},
   "outputs": [
    {
     "name": "stderr",
     "output_type": "stream",
     "text": [
      "<ipython-input-1211-c2e4cd69b53a>:2: DtypeWarning: Columns (2,3,10,11,13,14,17,39,40,41) have mixed types. Specify dtype option on import or set low_memory=False.\n",
      "  df = pd.read_csv(IN_PATH, sep=\"\\t\")\n"
     ]
    }
   ],
   "source": [
    "IN_PATH = \"/shared/3/projects/newsDiffusion/data/processed/fullDataWithClustNums.tsv\"\n",
    "df = pd.read_csv(IN_PATH, sep=\"\\t\")"
   ]
  },
  {
   "cell_type": "code",
   "execution_count": 1212,
   "metadata": {},
   "outputs": [],
   "source": [
    "df[\"date\"] = pd.to_datetime(df[\"date\"])\n",
    "df = df.dropna(subset=[\"date\"])"
   ]
  },
  {
   "cell_type": "markdown",
   "metadata": {},
   "source": [
    "keep only data that overlaps with the local data we have (in time series) "
   ]
  },
  {
   "cell_type": "code",
   "execution_count": 1213,
   "metadata": {},
   "outputs": [],
   "source": [
    "articlesReported = df[[\"source\", \"key\"]].groupby(\"source\").agg(len).rename(columns={\"key\":\"articlesReported\"})\n",
    "df = pd.merge(df, articlesReported, on=\"source\", how=\"left\")"
   ]
  },
  {
   "cell_type": "code",
   "execution_count": 1215,
   "metadata": {},
   "outputs": [
    {
     "data": {
      "text/plain": [
       "1178397"
      ]
     },
     "execution_count": 1215,
     "metadata": {},
     "output_type": "execute_result"
    }
   ],
   "source": [
    "firstLocDate = min(df.loc[df[\"national\"] == False, \"date\"])\n",
    "\n",
    "clusteredDates = df[[\"clustNum\", \"date\"]].groupby(by=\"clustNum\").agg(list).reset_index()\n",
    "\n",
    "clusteredDates[\"minDate\"] = clusteredDates[\"date\"].apply(lambda x: max(x))\n",
    "\n",
    "#we can only keep clusters whose first article occured after the \n",
    "#first day of local coverage in our data, 4/1\n",
    "keepClusts = clusteredDates.loc[clusteredDates[\"minDate\"] >= firstLocDate, \"clustNum\"]\n",
    "\n",
    "df = df[df[\"clustNum\"].isin(keepClusts)]\n",
    "len(df)"
   ]
  },
  {
   "cell_type": "code",
   "execution_count": 1216,
   "metadata": {},
   "outputs": [
    {
     "data": {
      "text/plain": [
       "Index(['Unnamed: 0', 'key', 'local_id', 'sourcedomain_id', 'date', 'title',\n",
       "       'content', 'url', 'fips', 'source', 'description', 'onlinesince',\n",
       "       'rank', 'state', 'city', 'lon', 'lat', 'county', 'total_population',\n",
       "       'white_pct', 'black_pct', 'hispanic_pct', 'nonwhite_pct',\n",
       "       'foreignborn_pct', 'female_pct', 'age29andunder_pct',\n",
       "       'age65andolder_pct', 'median_hh_inc', 'clf_unemploy_pct', 'lesshs_pct',\n",
       "       'lesscollege_pct', 'lesshs_whites_pct', 'lesscollege_whites_pct',\n",
       "       'rural_pct', 'ruralurban_cc', 'predrt_0', 'predrt_12', 'predrt_3',\n",
       "       'national', 'id', 'author', 'published', 'published_utc',\n",
       "       'collection_utc', 'year', 'clustNum', 'articlesReported'],\n",
       "      dtype='object')"
      ]
     },
     "execution_count": 1216,
     "metadata": {},
     "output_type": "execute_result"
    }
   ],
   "source": [
    "df.columns"
   ]
  },
  {
   "cell_type": "code",
   "execution_count": 1217,
   "metadata": {},
   "outputs": [],
   "source": [
    "clustDf = df[[\"clustNum\", \"source\", \"key\", \"title\", \"date\", \"state\", \"national\", \"median_hh_inc\", \"rural_pct\", \"total_population\", \"articlesReported\"]].groupby(\"clustNum\").agg(list)\n",
    "\n",
    "clustDf[\"clustSize\"] = clustDf[\"key\"].apply(len)"
   ]
  },
  {
   "cell_type": "code",
   "execution_count": 1218,
   "metadata": {},
   "outputs": [],
   "source": [
    "clustDf = clustDf[clustDf[\"clustSize\"] < 3000]"
   ]
  },
  {
   "cell_type": "code",
   "execution_count": 1219,
   "metadata": {},
   "outputs": [
    {
     "data": {
      "text/plain": [
       "181905"
      ]
     },
     "execution_count": 1219,
     "metadata": {},
     "output_type": "execute_result"
    }
   ],
   "source": [
    "len(clustDf)"
   ]
  },
  {
   "cell_type": "code",
   "execution_count": 1220,
   "metadata": {},
   "outputs": [],
   "source": [
    "clustDf[\"duration\"] = ((clustDf[\"date\"].apply(max) - clustDf[\"date\"].apply(min)) / np.timedelta64(1, \"D\")) + 1"
   ]
  },
  {
   "cell_type": "code",
   "execution_count": 1221,
   "metadata": {},
   "outputs": [],
   "source": [
    "def firstDayPercent(inList): \n",
    "    dayOne = min(inList)\n",
    "    return np.mean([day == dayOne for day in inList if day])\n",
    "\n",
    "clustDf[\"dayOnePercent\"] = clustDf[\"date\"].apply(firstDayPercent)"
   ]
  },
  {
   "cell_type": "code",
   "execution_count": 1222,
   "metadata": {},
   "outputs": [
    {
     "data": {
      "text/plain": [
       "(array([153113.,   8268.,   5636.,   3867.,   3460.,   2443.,   1963.,\n",
       "          1386.,   1005.,    764.]),\n",
       " array([  1. ,  37.5,  74. , 110.5, 147. , 183.5, 220. , 256.5, 293. ,\n",
       "        329.5, 366. ]),\n",
       " <BarContainer object of 10 artists>)"
      ]
     },
     "execution_count": 1222,
     "metadata": {},
     "output_type": "execute_result"
    },
    {
     "data": {
      "image/png": "[encoded data removed]",
      "text/plain": [
       "<Figure size 432x288 with 1 Axes>"
      ]
     },
     "metadata": {
      "needs_background": "light"
     },
     "output_type": "display_data"
    }
   ],
   "source": [
    "plt.hist(clustDf[\"duration\"])"
   ]
  },
  {
   "cell_type": "code",
   "execution_count": 1223,
   "metadata": {},
   "outputs": [
    {
     "data": {
      "text/plain": [
       "0.37726285698578926"
      ]
     },
     "execution_count": 1223,
     "metadata": {},
     "output_type": "execute_result"
    }
   ],
   "source": [
    "len(clustDf[clustDf[\"duration\"] == 1]) / len(clustDf)"
   ]
  },
  {
   "cell_type": "code",
   "execution_count": 1224,
   "metadata": {},
   "outputs": [
    {
     "name": "stdout",
     "output_type": "stream",
     "text": [
      "1\n",
      "0.37726285698578926\n",
      "10\n",
      "0.7539924685962452\n",
      "20\n",
      "0.7990874357494296\n",
      "30\n",
      "0.8275253566422034\n",
      "50\n",
      "0.8614386630383991\n"
     ]
    }
   ],
   "source": [
    "for currCutoff in [1, 10, 20, 30, 50]: \n",
    "    print(currCutoff)\n",
    "    print(len(clustDf[clustDf[\"duration\"] <= currCutoff]) / len(clustDf))"
   ]
  },
  {
   "cell_type": "markdown",
   "metadata": {},
   "source": [
    "## Most clusters are shortish"
   ]
  },
  {
   "cell_type": "code",
   "execution_count": 1225,
   "metadata": {},
   "outputs": [
    {
     "data": {
      "text/plain": [
       "Text(0.5, 0, 'Cluster Duration')"
      ]
     },
     "execution_count": 1225,
     "metadata": {},
     "output_type": "execute_result"
    },
    {
     "data": {
      "image/png": "[encoded data removed]",
      "text/plain": [
       "<Figure size 432x288 with 1 Axes>"
      ]
     },
     "metadata": {
      "needs_background": "light"
     },
     "output_type": "display_data"
    }
   ],
   "source": [
    "over1 = clustDf[(clustDf[\"duration\"] >= 2)]\n",
    "sns.ecdfplot(x=\"duration\", data=over1)\n",
    "plt.title(\"Empirical CDF: Cluster Duration\")\n",
    "plt.xlabel(\"Cluster Duration\")"
   ]
  },
  {
   "cell_type": "code",
   "execution_count": 1226,
   "metadata": {},
   "outputs": [
    {
     "name": "stdout",
     "output_type": "stream",
     "text": [
      "1\n",
      "0.0\n",
      "10\n",
      "0.6049576708833941\n",
      "20\n",
      "0.6773717988329699\n",
      "30\n",
      "0.7230378093026951\n",
      "50\n",
      "0.7774962702707474\n"
     ]
    }
   ],
   "source": [
    "for currCutoff in [1, 10, 20, 30, 50]: \n",
    "    print(currCutoff)\n",
    "    print(len(over1[over1[\"duration\"] <= currCutoff]) / len(over1))"
   ]
  },
  {
   "cell_type": "code",
   "execution_count": 1227,
   "metadata": {},
   "outputs": [
    {
     "name": "stdout",
     "output_type": "stream",
     "text": [
      "81905\n",
      "0.4502624996564141\n",
      "38.488620000000004\n"
     ]
    }
   ],
   "source": [
    "twoThirty = clustDf[(clustDf[\"duration\"] >= 2) & (clustDf[\"duration\"] <= 30)]\n",
    "print(len(twoThirty))\n",
    "print(len(twoThirty) / len(clustDf))\n",
    "\n",
    "#all clusts under 30 - clusts under 30, geq 2\n",
    "print(84.65 - 46.16138)"
   ]
  },
  {
   "cell_type": "markdown",
   "metadata": {},
   "source": [
    "# apply outlet num cutoff"
   ]
  },
  {
   "cell_type": "code",
   "execution_count": 1229,
   "metadata": {},
   "outputs": [
    {
     "name": "stderr",
     "output_type": "stream",
     "text": [
      "<ipython-input-1229-35523b274d11>:1: SettingWithCopyWarning: \n",
      "A value is trying to be set on a copy of a slice from a DataFrame.\n",
      "Try using .loc[row_indexer,col_indexer] = value instead\n",
      "\n",
      "See the caveats in the documentation: https://pandas.pydata.org/pandas-docs/stable/user_guide/indexing.html#returning-a-view-versus-a-copy\n",
      "  twoThirty[\"outletCount\"] = twoThirty[\"source\"].apply(lambda x: len(set(x)))\n"
     ]
    }
   ],
   "source": [
    "twoThirty[\"outletCount\"] = twoThirty[\"source\"].apply(lambda x: len(set(x)))"
   ]
  },
  {
   "cell_type": "code",
   "execution_count": 1230,
   "metadata": {},
   "outputs": [
    {
     "data": {
      "text/plain": [
       "([<matplotlib.axis.XTick at 0x7fd04bafedc0>,\n",
       "  <matplotlib.axis.XTick at 0x7fd04bafed90>,\n",
       "  <matplotlib.axis.XTick at 0x7fd04ba8ecd0>,\n",
       "  <matplotlib.axis.XTick at 0x7fd04baa45e0>,\n",
       "  <matplotlib.axis.XTick at 0x7fd04baa4e50>,\n",
       "  <matplotlib.axis.XTick at 0x7fd04baa7b80>,\n",
       "  <matplotlib.axis.XTick at 0x7fd04baaa670>,\n",
       "  <matplotlib.axis.XTick at 0x7fd04ba9ec70>,\n",
       "  <matplotlib.axis.XTick at 0x7fd04baaae50>,\n",
       "  <matplotlib.axis.XTick at 0x7fd04baaeb80>,\n",
       "  <matplotlib.axis.XTick at 0x7fd04bafe7f0>,\n",
       "  <matplotlib.axis.XTick at 0x7fd04baf6880>,\n",
       "  <matplotlib.axis.XTick at 0x7fd04ba91700>,\n",
       "  <matplotlib.axis.XTick at 0x7fd04babc580>,\n",
       "  <matplotlib.axis.XTick at 0x7fd04ba94760>,\n",
       "  <matplotlib.axis.XTick at 0x7fd04baa7580>,\n",
       "  <matplotlib.axis.XTick at 0x7fd04bac12b0>,\n",
       "  <matplotlib.axis.XTick at 0x7fd04bac1d60>,\n",
       "  <matplotlib.axis.XTick at 0x7fd04bac4850>,\n",
       "  <matplotlib.axis.XTick at 0x7fd04babca90>],\n",
       " [Text(0, 0, '0'),\n",
       "  Text(1, 0, '1'),\n",
       "  Text(2, 0, '2'),\n",
       "  Text(3, 0, '3'),\n",
       "  Text(4, 0, '4'),\n",
       "  Text(5, 0, '5'),\n",
       "  Text(6, 0, '6'),\n",
       "  Text(7, 0, '7'),\n",
       "  Text(8, 0, '8'),\n",
       "  Text(9, 0, '9'),\n",
       "  Text(10, 0, '10'),\n",
       "  Text(11, 0, '11'),\n",
       "  Text(12, 0, '12'),\n",
       "  Text(13, 0, '13'),\n",
       "  Text(14, 0, '14'),\n",
       "  Text(15, 0, '15'),\n",
       "  Text(16, 0, '16'),\n",
       "  Text(17, 0, '17'),\n",
       "  Text(18, 0, '18'),\n",
       "  Text(19, 0, '19')])"
      ]
     },
     "execution_count": 1230,
     "metadata": {},
     "output_type": "execute_result"
    },
    {
     "data": {
      "image/png": "[encoded data removed]",
      "text/plain": [
       "<Figure size 432x288 with 1 Axes>"
      ]
     },
     "metadata": {
      "needs_background": "light"
     },
     "output_type": "display_data"
    }
   ],
   "source": [
    "sns.histplot(x=\"outletCount\", data=twoThirty, bins=np.arange(0,20, 1))\n",
    "plt.xlim(0, 20)\n",
    "plt.xticks(np.arange(0, 20, 1))"
   ]
  },
  {
   "cell_type": "code",
   "execution_count": 1231,
   "metadata": {},
   "outputs": [
    {
     "name": "stdout",
     "output_type": "stream",
     "text": [
      "percentage kept from twoThirty dataframe: 0.6709236310359563\n"
     ]
    }
   ],
   "source": [
    "twoThirty_Two = twoThirty[twoThirty[\"outletCount\"] >= 2]\n",
    "print(f\"percentage kept from twoThirty dataframe: {len(twoThirty_Two) / len(twoThirty)}\") "
   ]
  },
  {
   "cell_type": "markdown",
   "metadata": {},
   "source": [
    "# apply day 1 coverage cutoff "
   ]
  },
  {
   "cell_type": "code",
   "execution_count": 1335,
   "metadata": {},
   "outputs": [
    {
     "data": {
      "text/plain": [
       "0.21835052805079055"
      ]
     },
     "execution_count": 1335,
     "metadata": {},
     "output_type": "execute_result"
    }
   ],
   "source": [
    "fourtyPercent = twoThirty_Two[twoThirty_Two[\"dayOnePercent\"] <= .40]\n",
    "len(fourtyPercent) / len(twoThirty)"
   ]
  },
  {
   "cell_type": "markdown",
   "metadata": {},
   "source": [
    "proportion of stories kept after all three cutoffs "
   ]
  },
  {
   "cell_type": "code",
   "execution_count": 1336,
   "metadata": {},
   "outputs": [
    {
     "data": {
      "text/plain": [
       "0.09831505456144692"
      ]
     },
     "execution_count": 1336,
     "metadata": {},
     "output_type": "execute_result"
    }
   ],
   "source": [
    "len(fourtyPercent) / len(clustDf)"
   ]
  },
  {
   "cell_type": "code",
   "execution_count": 1337,
   "metadata": {},
   "outputs": [
    {
     "data": {
      "text/plain": [
       "<Axes: xlabel='dayOnePercent', ylabel='Count'>"
      ]
     },
     "execution_count": 1337,
     "metadata": {},
     "output_type": "execute_result"
    },
    {
     "data": {
      "image/png": "[encoded data removed]",
      "text/plain": [
       "<Figure size 432x288 with 1 Axes>"
      ]
     },
     "metadata": {
      "needs_background": "light"
     },
     "output_type": "display_data"
    }
   ],
   "source": [
    "sns.histplot(x=\"dayOnePercent\", data=twoThirty)"
   ]
  },
  {
   "cell_type": "code",
   "execution_count": 1338,
   "metadata": {},
   "outputs": [
    {
     "data": {
      "text/plain": [
       "<Axes: xlabel='dayOnePercent', ylabel='Proportion'>"
      ]
     },
     "execution_count": 1338,
     "metadata": {},
     "output_type": "execute_result"
    },
    {
     "data": {
      "image/png": "[encoded data removed]",
      "text/plain": [
       "<Figure size 432x288 with 1 Axes>"
      ]
     },
     "metadata": {
      "needs_background": "light"
     },
     "output_type": "display_data"
    }
   ],
   "source": [
    "#this occurs because we have tons of 2 (or more) day stories where half of the coverage is on each day \n",
    "sns.ecdfplot(x=\"dayOnePercent\", data=twoThirty)"
   ]
  },
  {
   "cell_type": "markdown",
   "metadata": {},
   "source": [
    "- ~36,317 stories >= 3 days and <= 20 days \n",
    "- 16,266 stories of those 36,317 have <= 40% of their coverage on day one \n",
    "- ~6,094 of our ~200000 stories last 3 or more days and have less than 10% of their coverage on day 1"
   ]
  },
  {
   "cell_type": "code",
   "execution_count": 1339,
   "metadata": {},
   "outputs": [
    {
     "name": "stderr",
     "output_type": "stream",
     "text": [
      "<ipython-input-1339-529f112cfe3e>:1: SettingWithCopyWarning: \n",
      "A value is trying to be set on a copy of a slice from a DataFrame.\n",
      "Try using .loc[row_indexer,col_indexer] = value instead\n",
      "\n",
      "See the caveats in the documentation: https://pandas.pydata.org/pandas-docs/stable/user_guide/indexing.html#returning-a-view-versus-a-copy\n",
      "  fourtyPercent[\"natPercent\"] = fourtyPercent[\"national\"].apply(np.mean)\n"
     ]
    }
   ],
   "source": [
    "fourtyPercent[\"natPercent\"] = fourtyPercent[\"national\"].apply(np.mean)"
   ]
  },
  {
   "cell_type": "code",
   "execution_count": 1340,
   "metadata": {},
   "outputs": [
    {
     "name": "stdout",
     "output_type": "stream",
     "text": [
      "mixed: 0.26738984567210916\n",
      "local: 0.1161932453589801\n",
      "national: 0.6164169089689108\n"
     ]
    },
    {
     "name": "stderr",
     "output_type": "stream",
     "text": [
      "<ipython-input-1340-b03a06eda635>:3: SettingWithCopyWarning: \n",
      "A value is trying to be set on a copy of a slice from a DataFrame.\n",
      "Try using .loc[row_indexer,col_indexer] = value instead\n",
      "\n",
      "See the caveats in the documentation: https://pandas.pydata.org/pandas-docs/stable/user_guide/indexing.html#returning-a-view-versus-a-copy\n",
      "  nonScooped[\"national\"] = nonScooped[\"national\"].apply(np.mean)\n"
     ]
    }
   ],
   "source": [
    "#distribution of story types amongst non scoop stories \n",
    "nonScooped = twoThirty[twoThirty[\"dayOnePercent\"] > .40]\n",
    "nonScooped[\"national\"] = nonScooped[\"national\"].apply(np.mean)\n",
    "print(f'mixed: {len(fourtyPercent[(fourtyPercent[\"natPercent\"] != 0) & (fourtyPercent[\"natPercent\"] != 1)]) / len(fourtyPercent)}')\n",
    "print(f'local: {len(fourtyPercent[(fourtyPercent[\"natPercent\"] == 0)]) / len(fourtyPercent)}')\n",
    "print(f'national: {len(fourtyPercent[(fourtyPercent[\"natPercent\"] == 1)]) / len(fourtyPercent)}')"
   ]
  },
  {
   "cell_type": "markdown",
   "metadata": {},
   "source": [
    "## distribution of story types amongst \"scoop stories\""
   ]
  },
  {
   "cell_type": "code",
   "execution_count": 1341,
   "metadata": {},
   "outputs": [
    {
     "name": "stdout",
     "output_type": "stream",
     "text": [
      "mixed: 0.26738984567210916\n",
      "local: 0.1161932453589801\n",
      "national: 0.6164169089689108\n"
     ]
    }
   ],
   "source": [
    "## How much of coverage is at all mixed \n",
    "print(f'mixed: {len(fourtyPercent[(fourtyPercent[\"natPercent\"] != 0) & (fourtyPercent[\"natPercent\"] != 1)]) / len(fourtyPercent)}')\n",
    "print(f'local: {len(fourtyPercent[(fourtyPercent[\"natPercent\"] == 0)]) / len(fourtyPercent)}')\n",
    "print(f'national: {len(fourtyPercent[(fourtyPercent[\"natPercent\"] == 1)]) / len(fourtyPercent)}')"
   ]
  },
  {
   "cell_type": "code",
   "execution_count": 1342,
   "metadata": {},
   "outputs": [
    {
     "data": {
      "text/plain": [
       "<Axes: xlabel='natPercent', ylabel='Count'>"
      ]
     },
     "execution_count": 1342,
     "metadata": {},
     "output_type": "execute_result"
    },
    {
     "data": {
      "image/png": "[encoded data removed]",
      "text/plain": [
       "<Figure size 432x288 with 1 Axes>"
      ]
     },
     "metadata": {
      "needs_background": "light"
     },
     "output_type": "display_data"
    }
   ],
   "source": [
    "sns.histplot(x=\"natPercent\", data=fourtyPercent)"
   ]
  },
  {
   "cell_type": "code",
   "execution_count": 1343,
   "metadata": {},
   "outputs": [
    {
     "name": "stderr",
     "output_type": "stream",
     "text": [
      "<ipython-input-1343-b5dd8b95e8d7>:5: SettingWithCopyWarning: \n",
      "A value is trying to be set on a copy of a slice from a DataFrame.\n",
      "Try using .loc[row_indexer,col_indexer] = value instead\n",
      "\n",
      "See the caveats in the documentation: https://pandas.pydata.org/pandas-docs/stable/user_guide/indexing.html#returning-a-view-versus-a-copy\n",
      "  fourtyPercent[\"storyDay\"] = fourtyPercent[\"date\"].apply(getStoryDay)\n"
     ]
    }
   ],
   "source": [
    "def getStoryDay(inList): \n",
    "    dayOne = min(inList)\n",
    "    return [((date - dayOne) / np.timedelta64(1, \"D\")) for date in inList]\n",
    "\n",
    "fourtyPercent[\"storyDay\"] = fourtyPercent[\"date\"].apply(getStoryDay)"
   ]
  },
  {
   "cell_type": "code",
   "execution_count": 1344,
   "metadata": {},
   "outputs": [
    {
     "name": "stderr",
     "output_type": "stream",
     "text": [
      "<ipython-input-1344-f7567157893b>:1: SettingWithCopyWarning: \n",
      "A value is trying to be set on a copy of a slice from a DataFrame.\n",
      "Try using .loc[row_indexer,col_indexer] = value instead\n",
      "\n",
      "See the caveats in the documentation: https://pandas.pydata.org/pandas-docs/stable/user_guide/indexing.html#returning-a-view-versus-a-copy\n",
      "  fourtyPercent[\"uniqueDays\"] = fourtyPercent[\"date\"].apply(lambda x: len(set(x)))\n"
     ]
    }
   ],
   "source": [
    "fourtyPercent[\"uniqueDays\"] = fourtyPercent[\"date\"].apply(lambda x: len(set(x)))"
   ]
  },
  {
   "cell_type": "code",
   "execution_count": 1345,
   "metadata": {},
   "outputs": [],
   "source": [
    "#TEST\n",
    "#fourtyPercent = fourtyPercent[fourtyPercent[\"uniqueDays\"] >= 4]"
   ]
  },
  {
   "cell_type": "code",
   "execution_count": 1346,
   "metadata": {},
   "outputs": [
    {
     "data": {
      "text/plain": [
       "Timestamp('2020-06-20 00:00:00')"
      ]
     },
     "execution_count": 1346,
     "metadata": {},
     "output_type": "execute_result"
    }
   ],
   "source": [
    "days = fourtyPercent.iloc[0, 3]\n",
    "days = sorted(list(set(days)))\n",
    "days[1]"
   ]
  },
  {
   "cell_type": "code",
   "execution_count": 1347,
   "metadata": {},
   "outputs": [
    {
     "name": "stderr",
     "output_type": "stream",
     "text": [
      "<ipython-input-1347-873535bc37f3>:11: SettingWithCopyWarning: \n",
      "A value is trying to be set on a copy of a slice from a DataFrame.\n",
      "Try using .loc[row_indexer,col_indexer] = value instead\n",
      "\n",
      "See the caveats in the documentation: https://pandas.pydata.org/pandas-docs/stable/user_guide/indexing.html#returning-a-view-versus-a-copy\n",
      "  fourtyPercent[\"storyPropCount\"] = fourtyPercent.apply(getArticleIndex, axis=1)\n"
     ]
    }
   ],
   "source": [
    "def getArticleIndex(inRow): \n",
    "    days = sorted(list(set(inRow[\"date\"])))\n",
    "    indexList = []\n",
    "    \n",
    "    #for each date, get which day of coverage it was in terms \n",
    "    #of articles published before it \n",
    "    for date in inRow[\"date\"]: \n",
    "        indexList.append(days.index(date) / (inRow[\"uniqueDays\"] -1))\n",
    "    return indexList\n",
    "\n",
    "fourtyPercent[\"storyPropCount\"] = fourtyPercent.apply(getArticleIndex, axis=1)"
   ]
  },
  {
   "cell_type": "code",
   "execution_count": 1348,
   "metadata": {},
   "outputs": [],
   "source": [
    "fourtyLong = fourtyPercent.explode([\"source\", \"key\", \"title\", \"date\", \"storyDay\", \"state\", \"storyPropCount\", \"national\", \"median_hh_inc\", \"rural_pct\", \"total_population\", \"articlesReported\"])"
   ]
  },
  {
   "cell_type": "markdown",
   "metadata": {},
   "source": [
    "RQ: what is the balance of local/national for scoops versus non scoops\n"
   ]
  },
  {
   "cell_type": "code",
   "execution_count": 1278,
   "metadata": {},
   "outputs": [
    {
     "name": "stdout",
     "output_type": "stream",
     "text": [
      "proportion of national in all coverage: 0.6961397559566088\n",
      "proportion of national in scooped coverage: 0.7696398958610794\n"
     ]
    }
   ],
   "source": [
    "print(f'proportion of national in all coverage: {np.mean(df[\"national\"] == True)}')\n",
    "print(f'proportion of national in scooped coverage: {np.mean(fourtyLong[\"national\"] == True)}')"
   ]
  },
  {
   "cell_type": "code",
   "execution_count": 1279,
   "metadata": {},
   "outputs": [],
   "source": [
    "fourtyLong[\"storyPropDays\"] = (fourtyLong[\"storyDay\"]) / (fourtyLong[\"duration\"] - 1) "
   ]
  },
  {
   "cell_type": "code",
   "execution_count": 1280,
   "metadata": {},
   "outputs": [
    {
     "data": {
      "text/plain": [
       "(array([26240.,  3365.,  7866.,  9109.,  2720., 20071.,  6676.,  3291.,\n",
       "         2588., 34457.]),\n",
       " array([0. , 0.1, 0.2, 0.3, 0.4, 0.5, 0.6, 0.7, 0.8, 0.9, 1. ]),\n",
       " <BarContainer object of 10 artists>)"
      ]
     },
     "execution_count": 1280,
     "metadata": {},
     "output_type": "execute_result"
    },
    {
     "data": {
      "image/png": "[encoded data removed]",
      "text/plain": [
       "<Figure size 432x288 with 1 Axes>"
      ]
     },
     "metadata": {
      "needs_background": "light"
     },
     "output_type": "display_data"
    }
   ],
   "source": [
    "plt.hist(fourtyLong[\"storyPropCount\"])"
   ]
  },
  {
   "cell_type": "code",
   "execution_count": 1309,
   "metadata": {},
   "outputs": [],
   "source": [
    "#now get the outlet level mean of stories in terms of when their stories appear in coverage \n",
    "coverageClusters = fourtyLong[[\"source\", \"storyPropDays\",\"storyPropCount\", \"national\", \"articlesReported\"]].groupby(\"source\")\\\n",
    ".agg({\"national\":list, \"articlesReported\":list, \"storyPropDays\":[np.mean], \"storyPropCount\":[np.mean, len]}).droplevel([0], axis=1) #.sort_values([\"mean\", \"len\"], ascending=False)\n",
    "coverageClusters.columns = [\"national\", \"articlesReported\", \"storyPropDaysMean\", \"storyPropCountMean\", \"numStories\"]\n",
    "coverageClusters[\"national\"] = coverageClusters[\"national\"].apply(lambda x: x[0])\n",
    "coverageClusters[\"articlesReported\"] = coverageClusters[\"articlesReported\"].apply(lambda x: x[0])"
   ]
  },
  {
   "cell_type": "markdown",
   "metadata": {},
   "source": [
    "It looks like using days or number of articles is reasonable  for quantifying how far \"through\" coverage outlets are reporting"
   ]
  },
  {
   "cell_type": "code",
   "execution_count": 1310,
   "metadata": {},
   "outputs": [
    {
     "data": {
      "text/plain": [
       "<matplotlib.collections.PathCollection at 0x7fd04b2de940>"
      ]
     },
     "execution_count": 1310,
     "metadata": {},
     "output_type": "execute_result"
    },
    {
     "data": {
      "image/png": "[encoded data removed]",
      "text/plain": [
       "<Figure size 432x288 with 1 Axes>"
      ]
     },
     "metadata": {
      "needs_background": "light"
     },
     "output_type": "display_data"
    }
   ],
   "source": [
    "plt.scatter(coverageClusters[\"storyPropDaysMean\"], coverageClusters[\"storyPropCountMean\"], alpha=.5)"
   ]
  },
  {
   "cell_type": "markdown",
   "metadata": {},
   "source": [
    "get outlets that tend to be at the beginning of story clusters or at the end "
   ]
  },
  {
   "cell_type": "markdown",
   "metadata": {},
   "source": [
    "## do national or local outlets tend to be the first to report scoops? "
   ]
  },
  {
   "cell_type": "markdown",
   "metadata": {},
   "source": [
    "we will also want just the first story in story clusters from each outlet (below)"
   ]
  },
  {
   "cell_type": "code",
   "execution_count": 1312,
   "metadata": {},
   "outputs": [],
   "source": [
    "#get the first day of coverage \n",
    "fourtyNoDups = fourtyLong.reset_index().sort_values([\"clustNum\", \"date\"]).drop_duplicates(subset=[\"clustNum\", \"source\"])\n",
    "\n",
    "firstCoverageClusters = fourtyNoDups[[\"source\", \"storyPropDays\",\"storyPropCount\", \"national\"]].groupby(\"source\")\\\n",
    ".agg({\"national\":list, \"storyPropDays\":[np.mean], \"storyPropCount\":[np.mean, len]}).droplevel([0], axis=1) #.sort_values([\"mean\", \"len\"], ascending=False)\n",
    "firstCoverageClusters.columns = [\"national\", \"storyPropDaysMean\", \"storyPropCountMean\", \"numStories\"]\n",
    "firstCoverageClusters[\"national\"] = firstCoverageClusters[\"national\"].apply(lambda x: x[0])\n",
    "\n",
    "#now get the outlet level mean of stories \n",
    "#firstCoverageClusters = fourtyNoDups[[\"source\", \"storyProportion\"]].groupby(\"source\").agg([np.mean, len]).droplevel([0], axis=1).sort_values([\"mean\", \"len\"], ascending=False)"
   ]
  },
  {
   "cell_type": "code",
   "execution_count": 1313,
   "metadata": {},
   "outputs": [
    {
     "data": {
      "text/plain": [
       "476"
      ]
     },
     "execution_count": 1313,
     "metadata": {},
     "output_type": "execute_result"
    }
   ],
   "source": [
    "len(coverageClusters[coverageClusters[\"numStories\"] > 10])"
   ]
  },
  {
   "cell_type": "code",
   "execution_count": 1314,
   "metadata": {},
   "outputs": [
    {
     "data": {
      "text/plain": [
       "Text(0.5, 0.98, 'Distribution of When Outlets Report During the Life of a Story [0,1]')"
      ]
     },
     "execution_count": 1314,
     "metadata": {},
     "output_type": "execute_result"
    },
    {
     "data": {
      "image/png": "[encoded data removed]",
      "text/plain": [
       "<Figure size 576x432 with 2 Axes>"
      ]
     },
     "metadata": {
      "needs_background": "light"
     },
     "output_type": "display_data"
    }
   ],
   "source": [
    "\n",
    "fig, axs = plt.subplots(2, figsize=(8, 6))\n",
    "sns.kdeplot(x=\"storyPropDaysMean\", hue=\"national\", common_norm=False, data=coverageClusters[coverageClusters[\"numStories\"] > 100], ax=axs[0])\n",
    "axs[0].set_xlabel(\"reporting time during life of story, averaged within outlets(days)\")\n",
    "axs[0].set_ylabel(\"density of outlets\")\n",
    "\n",
    "sns.kdeplot(x=\"storyPropCountMean\", hue=\"national\", common_norm=False, data=coverageClusters[coverageClusters[\"numStories\"] > 10], ax=axs[1])\n",
    "axs[1].set_xlabel(\"reporting time during life of story, averaged within outlets (# of articles)\")\n",
    "axs[1].set_ylabel(\"density of outlets\")\n",
    "\n",
    "fig.suptitle(\"Distribution of When Outlets Report During the Life of a Story [0,1]\")"
   ]
  },
  {
   "cell_type": "code",
   "execution_count": 1315,
   "metadata": {},
   "outputs": [
    {
     "data": {
      "text/plain": [
       "Text(0.5, 0.98, 'Distribution of When Stories are Reported [0,1]')"
      ]
     },
     "execution_count": 1315,
     "metadata": {},
     "output_type": "execute_result"
    },
    {
     "data": {
      "image/png": "[encoded data removed]",
      "text/plain": [
       "<Figure size 576x432 with 2 Axes>"
      ]
     },
     "metadata": {
      "needs_background": "light"
     },
     "output_type": "display_data"
    }
   ],
   "source": [
    "fig, axs = plt.subplots(2, figsize=(8, 6))\n",
    "sns.kdeplot(x=\"storyPropDays\", hue=\"national\", common_norm=False, data=fourtyLong, ax=axs[0])\n",
    "axs[0].set_xlabel(\"reporting time during life of story (normalized days)\")\n",
    "axs[0].set_ylabel(\"density of stories\")\n",
    "\n",
    "sns.kdeplot(x=\"storyPropCount\", hue=\"national\", common_norm=False, data=fourtyLong, ax=axs[1])\n",
    "axs[1].set_xlabel(\"reporting time during life of story (normalized by article count)\")\n",
    "axs[1].set_ylabel(\"density of stories\")\n",
    "\n",
    "fig.suptitle(\"Distribution of When Stories are Reported [0,1]\")"
   ]
  },
  {
   "cell_type": "markdown",
   "metadata": {},
   "source": [
    "## Same plots, but only consider first reporting"
   ]
  },
  {
   "cell_type": "code",
   "execution_count": 1316,
   "metadata": {},
   "outputs": [
    {
     "data": {
      "text/plain": [
       "Text(0.5, 0.98, 'Distribution of When Outlets Report During the Life of a Story [0,1]')"
      ]
     },
     "execution_count": 1316,
     "metadata": {},
     "output_type": "execute_result"
    },
    {
     "data": {
      "image/png": "[encoded data removed]",
      "text/plain": [
       "<Figure size 576x432 with 2 Axes>"
      ]
     },
     "metadata": {
      "needs_background": "light"
     },
     "output_type": "display_data"
    }
   ],
   "source": [
    "\n",
    "fig, axs = plt.subplots(2, figsize=(8, 6))\n",
    "sns.kdeplot(x=\"storyPropDaysMean\", hue=\"national\", common_norm=False, data=firstCoverageClusters[firstCoverageClusters[\"numStories\"] > 100], ax=axs[0])\n",
    "axs[0].set_xlabel(\"reporting time during life of story, averaged within outlets(days)\")\n",
    "axs[0].set_ylabel(\"density of outlets\")\n",
    "\n",
    "sns.kdeplot(x=\"storyPropCountMean\", hue=\"national\", common_norm=False, data=firstCoverageClusters[firstCoverageClusters[\"numStories\"] > 10], ax=axs[1])\n",
    "axs[1].set_xlabel(\"reporting time during life of story, averaged within outlets (# of articles)\")\n",
    "axs[1].set_ylabel(\"density of outlets\")\n",
    "\n",
    "fig.suptitle(\"Distribution of When Outlets Report During the Life of a Story [0,1]\")"
   ]
  },
  {
   "cell_type": "code",
   "execution_count": 1317,
   "metadata": {},
   "outputs": [
    {
     "data": {
      "text/plain": [
       "Text(0.5, 0.98, 'Distribution of When Stories are Reported [0,1]')"
      ]
     },
     "execution_count": 1317,
     "metadata": {},
     "output_type": "execute_result"
    },
    {
     "data": {
      "image/png": "[encoded data removed]",
      "text/plain": [
       "<Figure size 576x432 with 2 Axes>"
      ]
     },
     "metadata": {
      "needs_background": "light"
     },
     "output_type": "display_data"
    }
   ],
   "source": [
    "fig, axs = plt.subplots(2, figsize=(8, 6))\n",
    "sns.kdeplot(x=\"storyPropDays\", hue=\"national\", common_norm=False, data=fourtyNoDups, ax=axs[0])\n",
    "axs[0].set_xlabel(\"reporting time during life of story (normalized days)\")\n",
    "axs[0].set_ylabel(\"density of stories\")\n",
    "\n",
    "sns.kdeplot(x=\"storyPropCount\", hue=\"national\", common_norm=False, data=fourtyNoDups, ax=axs[1])\n",
    "axs[1].set_xlabel(\"reporting time during life of story (normalized by article count)\")\n",
    "axs[1].set_ylabel(\"density of stories\")\n",
    "\n",
    "fig.suptitle(\"Distribution of When Stories are Reported [0,1]\")"
   ]
  },
  {
   "cell_type": "markdown",
   "metadata": {},
   "source": [
    "let's get some examples of local and national early and late outlets "
   ]
  },
  {
   "cell_type": "code",
   "execution_count": 1318,
   "metadata": {},
   "outputs": [
    {
     "data": {
      "text/html": [
       "<div>\n",
       "<style scoped>\n",
       "    .dataframe tbody tr th:only-of-type {\n",
       "        vertical-align: middle;\n",
       "    }\n",
       "\n",
       "    .dataframe tbody tr th {\n",
       "        vertical-align: top;\n",
       "    }\n",
       "\n",
       "    .dataframe thead th {\n",
       "        text-align: right;\n",
       "    }\n",
       "</style>\n",
       "<table border=\"1\" class=\"dataframe\">\n",
       "  <thead>\n",
       "    <tr style=\"text-align: right;\">\n",
       "      <th></th>\n",
       "      <th>national</th>\n",
       "      <th>articlesReported</th>\n",
       "      <th>storyPropDaysMean</th>\n",
       "      <th>storyPropCountMean</th>\n",
       "      <th>numStories</th>\n",
       "    </tr>\n",
       "    <tr>\n",
       "      <th>source</th>\n",
       "      <th></th>\n",
       "      <th></th>\n",
       "      <th></th>\n",
       "      <th></th>\n",
       "      <th></th>\n",
       "    </tr>\n",
       "  </thead>\n",
       "  <tbody>\n",
       "    <tr>\n",
       "      <th>theseattletimes</th>\n",
       "      <td>False</td>\n",
       "      <td>22736</td>\n",
       "      <td>0.373038</td>\n",
       "      <td>0.35229</td>\n",
       "      <td>1836</td>\n",
       "    </tr>\n",
       "    <tr>\n",
       "      <th>deseretnews</th>\n",
       "      <td>False</td>\n",
       "      <td>5011</td>\n",
       "      <td>0.442337</td>\n",
       "      <td>0.436611</td>\n",
       "      <td>169</td>\n",
       "    </tr>\n",
       "    <tr>\n",
       "      <th>therepublic</th>\n",
       "      <td>False</td>\n",
       "      <td>5053</td>\n",
       "      <td>0.46446</td>\n",
       "      <td>0.451335</td>\n",
       "      <td>384</td>\n",
       "    </tr>\n",
       "    <tr>\n",
       "      <th>theheraldnet</th>\n",
       "      <td>False</td>\n",
       "      <td>3954</td>\n",
       "      <td>0.461885</td>\n",
       "      <td>0.459505</td>\n",
       "      <td>146</td>\n",
       "    </tr>\n",
       "    <tr>\n",
       "      <th>startribune</th>\n",
       "      <td>False</td>\n",
       "      <td>4030</td>\n",
       "      <td>0.458385</td>\n",
       "      <td>0.47578</td>\n",
       "      <td>296</td>\n",
       "    </tr>\n",
       "  </tbody>\n",
       "</table>\n",
       "</div>"
      ],
      "text/plain": [
       "                 national  articlesReported storyPropDaysMean   \n",
       "source                                                          \n",
       "theseattletimes     False             22736          0.373038  \\\n",
       "deseretnews         False              5011          0.442337   \n",
       "therepublic         False              5053           0.46446   \n",
       "theheraldnet        False              3954          0.461885   \n",
       "startribune         False              4030          0.458385   \n",
       "\n",
       "                storyPropCountMean  numStories  \n",
       "source                                          \n",
       "theseattletimes            0.35229        1836  \n",
       "deseretnews               0.436611         169  \n",
       "therepublic               0.451335         384  \n",
       "theheraldnet              0.459505         146  \n",
       "startribune                0.47578         296  "
      ]
     },
     "execution_count": 1318,
     "metadata": {},
     "output_type": "execute_result"
    }
   ],
   "source": [
    "lenSorted = coverageClusters[coverageClusters[\"numStories\"] > 100].sort_values([\"storyPropCountMean\", \"storyPropDaysMean\"])\n",
    "lenSorted[lenSorted[\"national\"] == False].head(5)"
   ]
  },
  {
   "cell_type": "code",
   "execution_count": 1319,
   "metadata": {},
   "outputs": [
    {
     "data": {
      "text/html": [
       "<div>\n",
       "<style scoped>\n",
       "    .dataframe tbody tr th:only-of-type {\n",
       "        vertical-align: middle;\n",
       "    }\n",
       "\n",
       "    .dataframe tbody tr th {\n",
       "        vertical-align: top;\n",
       "    }\n",
       "\n",
       "    .dataframe thead th {\n",
       "        text-align: right;\n",
       "    }\n",
       "</style>\n",
       "<table border=\"1\" class=\"dataframe\">\n",
       "  <thead>\n",
       "    <tr style=\"text-align: right;\">\n",
       "      <th></th>\n",
       "      <th>national</th>\n",
       "      <th>articlesReported</th>\n",
       "      <th>storyPropDaysMean</th>\n",
       "      <th>storyPropCountMean</th>\n",
       "      <th>numStories</th>\n",
       "    </tr>\n",
       "    <tr>\n",
       "      <th>source</th>\n",
       "      <th></th>\n",
       "      <th></th>\n",
       "      <th></th>\n",
       "      <th></th>\n",
       "      <th></th>\n",
       "    </tr>\n",
       "  </thead>\n",
       "  <tbody>\n",
       "    <tr>\n",
       "      <th>thebrainerddailydispatch</th>\n",
       "      <td>False</td>\n",
       "      <td>4666</td>\n",
       "      <td>0.719611</td>\n",
       "      <td>0.71637</td>\n",
       "      <td>282</td>\n",
       "    </tr>\n",
       "    <tr>\n",
       "      <th>theirontontribune</th>\n",
       "      <td>False</td>\n",
       "      <td>2353</td>\n",
       "      <td>0.686962</td>\n",
       "      <td>0.720999</td>\n",
       "      <td>133</td>\n",
       "    </tr>\n",
       "    <tr>\n",
       "      <th>thejamestownsun</th>\n",
       "      <td>False</td>\n",
       "      <td>3969</td>\n",
       "      <td>0.721366</td>\n",
       "      <td>0.73266</td>\n",
       "      <td>240</td>\n",
       "    </tr>\n",
       "    <tr>\n",
       "      <th>grandforksherald</th>\n",
       "      <td>False</td>\n",
       "      <td>4145</td>\n",
       "      <td>0.744008</td>\n",
       "      <td>0.748389</td>\n",
       "      <td>321</td>\n",
       "    </tr>\n",
       "    <tr>\n",
       "      <th>themitchelldailyrepublic</th>\n",
       "      <td>False</td>\n",
       "      <td>3900</td>\n",
       "      <td>0.75318</td>\n",
       "      <td>0.75299</td>\n",
       "      <td>208</td>\n",
       "    </tr>\n",
       "  </tbody>\n",
       "</table>\n",
       "</div>"
      ],
      "text/plain": [
       "                          national  articlesReported storyPropDaysMean   \n",
       "source                                                                   \n",
       "thebrainerddailydispatch     False              4666          0.719611  \\\n",
       "theirontontribune            False              2353          0.686962   \n",
       "thejamestownsun              False              3969          0.721366   \n",
       "grandforksherald             False              4145          0.744008   \n",
       "themitchelldailyrepublic     False              3900           0.75318   \n",
       "\n",
       "                         storyPropCountMean  numStories  \n",
       "source                                                   \n",
       "thebrainerddailydispatch            0.71637         282  \n",
       "theirontontribune                  0.720999         133  \n",
       "thejamestownsun                     0.73266         240  \n",
       "grandforksherald                   0.748389         321  \n",
       "themitchelldailyrepublic            0.75299         208  "
      ]
     },
     "execution_count": 1319,
     "metadata": {},
     "output_type": "execute_result"
    }
   ],
   "source": [
    "lenSorted[lenSorted[\"national\"] == False].tail(5)"
   ]
  },
  {
   "cell_type": "code",
   "execution_count": 1320,
   "metadata": {},
   "outputs": [],
   "source": [
    "#let's get some stories from the mitchell daily republic"
   ]
  },
  {
   "cell_type": "code",
   "execution_count": 1321,
   "metadata": {},
   "outputs": [],
   "source": [
    "fourtyLong = fourtyLong.reset_index()"
   ]
  },
  {
   "cell_type": "code",
   "execution_count": 1322,
   "metadata": {},
   "outputs": [],
   "source": [
    "#mitchellClusts = list(set(fourtyLong.reset_index().loc[fourtyLong[\"source\"] == \"themitchelldailyrepublic\", \"clustNum\"]))"
   ]
  },
  {
   "cell_type": "code",
   "execution_count": 1323,
   "metadata": {},
   "outputs": [
    {
     "data": {
      "text/plain": [
       "[520.0, 20488.0, 78344.0, 13835.0, 159754.0]"
      ]
     },
     "execution_count": 1323,
     "metadata": {},
     "output_type": "execute_result"
    }
   ],
   "source": [
    "mitchellRows = fourtyLong[fourtyLong[\"clustNum\"].isin(mitchellClusts)]\n",
    "mitchellClusts[:5]"
   ]
  },
  {
   "cell_type": "code",
   "execution_count": 1324,
   "metadata": {},
   "outputs": [
    {
     "data": {
      "text/html": [
       "<div>\n",
       "<style scoped>\n",
       "    .dataframe tbody tr th:only-of-type {\n",
       "        vertical-align: middle;\n",
       "    }\n",
       "\n",
       "    .dataframe tbody tr th {\n",
       "        vertical-align: top;\n",
       "    }\n",
       "\n",
       "    .dataframe thead th {\n",
       "        text-align: right;\n",
       "    }\n",
       "</style>\n",
       "<table border=\"1\" class=\"dataframe\">\n",
       "  <thead>\n",
       "    <tr style=\"text-align: right;\">\n",
       "      <th></th>\n",
       "      <th>clustNum</th>\n",
       "      <th>source</th>\n",
       "      <th>date</th>\n",
       "      <th>title</th>\n",
       "      <th>clustSize</th>\n",
       "      <th>duration</th>\n",
       "      <th>dayOnePercent</th>\n",
       "      <th>duration</th>\n",
       "      <th>uniqueDays</th>\n",
       "      <th>storyPropDays</th>\n",
       "    </tr>\n",
       "  </thead>\n",
       "  <tbody>\n",
       "    <tr>\n",
       "      <th>24038</th>\n",
       "      <td>22282.0</td>\n",
       "      <td>themitchelldailyrepublic</td>\n",
       "      <td>2020-07-15</td>\n",
       "      <td>High-profile Twitter accounts swept up in wave...</td>\n",
       "      <td>245</td>\n",
       "      <td>24.0</td>\n",
       "      <td>0.102041</td>\n",
       "      <td>24.0</td>\n",
       "      <td>19</td>\n",
       "      <td>0.0</td>\n",
       "    </tr>\n",
       "    <tr>\n",
       "      <th>22979</th>\n",
       "      <td>21620.0</td>\n",
       "      <td>themitchelldailyrepublic</td>\n",
       "      <td>2020-12-13</td>\n",
       "      <td>Sources say, suspected Russian hackers spied o...</td>\n",
       "      <td>529</td>\n",
       "      <td>22.0</td>\n",
       "      <td>0.011342</td>\n",
       "      <td>22.0</td>\n",
       "      <td>17</td>\n",
       "      <td>0.238095</td>\n",
       "    </tr>\n",
       "    <tr>\n",
       "      <th>21891</th>\n",
       "      <td>20488.0</td>\n",
       "      <td>themitchelldailyrepublic</td>\n",
       "      <td>2020-08-02</td>\n",
       "      <td>Wild's Dumba kneels during anthem</td>\n",
       "      <td>36</td>\n",
       "      <td>30.0</td>\n",
       "      <td>0.027778</td>\n",
       "      <td>30.0</td>\n",
       "      <td>10</td>\n",
       "      <td>0.103448</td>\n",
       "    </tr>\n",
       "    <tr>\n",
       "      <th>54976</th>\n",
       "      <td>59730.0</td>\n",
       "      <td>themitchelldailyrepublic</td>\n",
       "      <td>2020-12-23</td>\n",
       "      <td>Second Black man shot dead by police in Ohio c...</td>\n",
       "      <td>112</td>\n",
       "      <td>10.0</td>\n",
       "      <td>0.008929</td>\n",
       "      <td>10.0</td>\n",
       "      <td>9</td>\n",
       "      <td>0.111111</td>\n",
       "    </tr>\n",
       "    <tr>\n",
       "      <th>20830</th>\n",
       "      <td>19080.0</td>\n",
       "      <td>themitchelldailyrepublic</td>\n",
       "      <td>2020-10-07</td>\n",
       "      <td>Women creators of genetic 'scissors' win Nobel...</td>\n",
       "      <td>59</td>\n",
       "      <td>26.0</td>\n",
       "      <td>0.016949</td>\n",
       "      <td>26.0</td>\n",
       "      <td>8</td>\n",
       "      <td>0.2</td>\n",
       "    </tr>\n",
       "    <tr>\n",
       "      <th>...</th>\n",
       "      <td>...</td>\n",
       "      <td>...</td>\n",
       "      <td>...</td>\n",
       "      <td>...</td>\n",
       "      <td>...</td>\n",
       "      <td>...</td>\n",
       "      <td>...</td>\n",
       "      <td>...</td>\n",
       "      <td>...</td>\n",
       "      <td>...</td>\n",
       "    </tr>\n",
       "    <tr>\n",
       "      <th>52464</th>\n",
       "      <td>56534.0</td>\n",
       "      <td>themitchelldailyrepublic</td>\n",
       "      <td>2020-11-29</td>\n",
       "      <td>High school sailing team navigates uncertain w...</td>\n",
       "      <td>16</td>\n",
       "      <td>8.0</td>\n",
       "      <td>0.125000</td>\n",
       "      <td>8.0</td>\n",
       "      <td>2</td>\n",
       "      <td>1.0</td>\n",
       "    </tr>\n",
       "    <tr>\n",
       "      <th>52446</th>\n",
       "      <td>56530.0</td>\n",
       "      <td>themitchelldailyrepublic</td>\n",
       "      <td>2020-08-29</td>\n",
       "      <td>Four young entrepreneurs Kickstart their 'dogh...</td>\n",
       "      <td>7</td>\n",
       "      <td>8.0</td>\n",
       "      <td>0.142857</td>\n",
       "      <td>8.0</td>\n",
       "      <td>2</td>\n",
       "      <td>1.0</td>\n",
       "    </tr>\n",
       "    <tr>\n",
       "      <th>50677</th>\n",
       "      <td>53530.0</td>\n",
       "      <td>themitchelldailyrepublic</td>\n",
       "      <td>2020-07-27</td>\n",
       "      <td>Rising pregnancy complications coincide with r...</td>\n",
       "      <td>7</td>\n",
       "      <td>2.0</td>\n",
       "      <td>0.142857</td>\n",
       "      <td>2.0</td>\n",
       "      <td>2</td>\n",
       "      <td>1.0</td>\n",
       "    </tr>\n",
       "    <tr>\n",
       "      <th>50205</th>\n",
       "      <td>52755.0</td>\n",
       "      <td>themitchelldailyrepublic</td>\n",
       "      <td>2020-08-21</td>\n",
       "      <td>A little fishing tackle goes a long way after ...</td>\n",
       "      <td>7</td>\n",
       "      <td>8.0</td>\n",
       "      <td>0.142857</td>\n",
       "      <td>8.0</td>\n",
       "      <td>2</td>\n",
       "      <td>1.0</td>\n",
       "    </tr>\n",
       "    <tr>\n",
       "      <th>116313</th>\n",
       "      <td>207408.0</td>\n",
       "      <td>themitchelldailyrepublic</td>\n",
       "      <td>2020-11-10</td>\n",
       "      <td>Morken: Patience pays off while bow hunting deer</td>\n",
       "      <td>16</td>\n",
       "      <td>5.0</td>\n",
       "      <td>0.062500</td>\n",
       "      <td>5.0</td>\n",
       "      <td>2</td>\n",
       "      <td>1.0</td>\n",
       "    </tr>\n",
       "  </tbody>\n",
       "</table>\n",
       "<p>175 rows × 10 columns</p>\n",
       "</div>"
      ],
      "text/plain": [
       "        clustNum                    source       date   \n",
       "24038    22282.0  themitchelldailyrepublic 2020-07-15  \\\n",
       "22979    21620.0  themitchelldailyrepublic 2020-12-13   \n",
       "21891    20488.0  themitchelldailyrepublic 2020-08-02   \n",
       "54976    59730.0  themitchelldailyrepublic 2020-12-23   \n",
       "20830    19080.0  themitchelldailyrepublic 2020-10-07   \n",
       "...          ...                       ...        ...   \n",
       "52464    56534.0  themitchelldailyrepublic 2020-11-29   \n",
       "52446    56530.0  themitchelldailyrepublic 2020-08-29   \n",
       "50677    53530.0  themitchelldailyrepublic 2020-07-27   \n",
       "50205    52755.0  themitchelldailyrepublic 2020-08-21   \n",
       "116313  207408.0  themitchelldailyrepublic 2020-11-10   \n",
       "\n",
       "                                                    title  clustSize   \n",
       "24038   High-profile Twitter accounts swept up in wave...        245  \\\n",
       "22979   Sources say, suspected Russian hackers spied o...        529   \n",
       "21891                   Wild's Dumba kneels during anthem         36   \n",
       "54976   Second Black man shot dead by police in Ohio c...        112   \n",
       "20830   Women creators of genetic 'scissors' win Nobel...         59   \n",
       "...                                                   ...        ...   \n",
       "52464   High school sailing team navigates uncertain w...         16   \n",
       "52446   Four young entrepreneurs Kickstart their 'dogh...          7   \n",
       "50677   Rising pregnancy complications coincide with r...          7   \n",
       "50205   A little fishing tackle goes a long way after ...          7   \n",
       "116313   Morken: Patience pays off while bow hunting deer         16   \n",
       "\n",
       "        duration  dayOnePercent  duration  uniqueDays storyPropDays  \n",
       "24038       24.0       0.102041      24.0          19           0.0  \n",
       "22979       22.0       0.011342      22.0          17      0.238095  \n",
       "21891       30.0       0.027778      30.0          10      0.103448  \n",
       "54976       10.0       0.008929      10.0           9      0.111111  \n",
       "20830       26.0       0.016949      26.0           8           0.2  \n",
       "...          ...            ...       ...         ...           ...  \n",
       "52464        8.0       0.125000       8.0           2           1.0  \n",
       "52446        8.0       0.142857       8.0           2           1.0  \n",
       "50677        2.0       0.142857       2.0           2           1.0  \n",
       "50205        8.0       0.142857       8.0           2           1.0  \n",
       "116313       5.0       0.062500       5.0           2           1.0  \n",
       "\n",
       "[175 rows x 10 columns]"
      ]
     },
     "execution_count": 1324,
     "metadata": {},
     "output_type": "execute_result"
    }
   ],
   "source": [
    "fourtyNoDups.loc[fourtyLong[\"source\"] == \"themitchelldailyrepublic\", [\"clustNum\", \"source\", \"date\", \"title\", \"clustSize\", \"duration\", \"dayOnePercent\", \"duration\", \"uniqueDays\", \"storyPropDays\"]].sort_values(\"uniqueDays\", ascending=False)"
   ]
  },
  {
   "cell_type": "code",
   "execution_count": 1325,
   "metadata": {},
   "outputs": [
    {
     "data": {
      "text/html": [
       "<div>\n",
       "<style scoped>\n",
       "    .dataframe tbody tr th:only-of-type {\n",
       "        vertical-align: middle;\n",
       "    }\n",
       "\n",
       "    .dataframe tbody tr th {\n",
       "        vertical-align: top;\n",
       "    }\n",
       "\n",
       "    .dataframe thead th {\n",
       "        text-align: right;\n",
       "    }\n",
       "</style>\n",
       "<table border=\"1\" class=\"dataframe\">\n",
       "  <thead>\n",
       "    <tr style=\"text-align: right;\">\n",
       "      <th></th>\n",
       "      <th>national</th>\n",
       "      <th>articlesReported</th>\n",
       "      <th>storyPropDaysMean</th>\n",
       "      <th>storyPropCountMean</th>\n",
       "      <th>numStories</th>\n",
       "    </tr>\n",
       "    <tr>\n",
       "      <th>source</th>\n",
       "      <th></th>\n",
       "      <th></th>\n",
       "      <th></th>\n",
       "      <th></th>\n",
       "      <th></th>\n",
       "    </tr>\n",
       "  </thead>\n",
       "  <tbody>\n",
       "    <tr>\n",
       "      <th>needtoknow</th>\n",
       "      <td>True</td>\n",
       "      <td>874</td>\n",
       "      <td>0.633118</td>\n",
       "      <td>0.686932</td>\n",
       "      <td>133</td>\n",
       "    </tr>\n",
       "    <tr>\n",
       "      <th>sgtreport</th>\n",
       "      <td>True</td>\n",
       "      <td>5129</td>\n",
       "      <td>0.639538</td>\n",
       "      <td>0.698879</td>\n",
       "      <td>529</td>\n",
       "    </tr>\n",
       "    <tr>\n",
       "      <th>stillnessinthestorm</th>\n",
       "      <td>True</td>\n",
       "      <td>3832</td>\n",
       "      <td>0.694819</td>\n",
       "      <td>0.723604</td>\n",
       "      <td>448</td>\n",
       "    </tr>\n",
       "    <tr>\n",
       "      <th>principiascientificinternational</th>\n",
       "      <td>True</td>\n",
       "      <td>1098</td>\n",
       "      <td>0.671632</td>\n",
       "      <td>0.723981</td>\n",
       "      <td>134</td>\n",
       "    </tr>\n",
       "    <tr>\n",
       "      <th>prepareforchange</th>\n",
       "      <td>True</td>\n",
       "      <td>1532</td>\n",
       "      <td>0.784196</td>\n",
       "      <td>0.819845</td>\n",
       "      <td>103</td>\n",
       "    </tr>\n",
       "  </tbody>\n",
       "</table>\n",
       "</div>"
      ],
      "text/plain": [
       "                                  national  articlesReported   \n",
       "source                                                         \n",
       "needtoknow                            True               874  \\\n",
       "sgtreport                             True              5129   \n",
       "stillnessinthestorm                   True              3832   \n",
       "principiascientificinternational      True              1098   \n",
       "prepareforchange                      True              1532   \n",
       "\n",
       "                                 storyPropDaysMean storyPropCountMean   \n",
       "source                                                                  \n",
       "needtoknow                                0.633118           0.686932  \\\n",
       "sgtreport                                 0.639538           0.698879   \n",
       "stillnessinthestorm                       0.694819           0.723604   \n",
       "principiascientificinternational          0.671632           0.723981   \n",
       "prepareforchange                          0.784196           0.819845   \n",
       "\n",
       "                                  numStories  \n",
       "source                                        \n",
       "needtoknow                               133  \n",
       "sgtreport                                529  \n",
       "stillnessinthestorm                      448  \n",
       "principiascientificinternational         134  \n",
       "prepareforchange                         103  "
      ]
     },
     "execution_count": 1325,
     "metadata": {},
     "output_type": "execute_result"
    }
   ],
   "source": [
    "\n",
    "\n",
    "lenSorted[lenSorted[\"national\"] == True].head(5)\n",
    "\n",
    "lenSorted[lenSorted[\"national\"] == True].tail(5)"
   ]
  },
  {
   "cell_type": "code",
   "execution_count": 1326,
   "metadata": {},
   "outputs": [],
   "source": [
    "veracityDf = pd.read_csv(\"/shared/3/projects/newsDiffusion/data/raw/NELA-gt-2020/labels.csv\")\n",
    "veracityDf[\"label\"] = 2 - veracityDf[\"label\"]\n",
    "veracityDf.columns = [\"source\", \"veracityScore\"]\n"
   ]
  },
  {
   "cell_type": "code",
   "execution_count": 1327,
   "metadata": {},
   "outputs": [],
   "source": [
    "coverageClusters = pd.merge(coverageClusters.reset_index(), veracityDf, on=\"source\", how=\"left\")"
   ]
  },
  {
   "cell_type": "code",
   "execution_count": 1331,
   "metadata": {},
   "outputs": [],
   "source": [
    "fourtyLong = pd.merge(fourtyLong.reset_index(), veracityDf, on=\"source\", how=\"left\")"
   ]
  },
  {
   "cell_type": "code",
   "execution_count": 1332,
   "metadata": {},
   "outputs": [
    {
     "ename": "KeyError",
     "evalue": "\"['veracityScore'] not in index\"",
     "output_type": "error",
     "traceback": [
      "\u001b[0;31m---------------------------------------------------------------------------\u001b[0m",
      "\u001b[0;31mKeyError\u001b[0m                                  Traceback (most recent call last)",
      "\u001b[0;32m<ipython-input-1332-6315b94be558>\u001b[0m in \u001b[0;36m<module>\u001b[0;34m\u001b[0m\n\u001b[1;32m      2\u001b[0m \u001b[0mfourtyNoDups\u001b[0m \u001b[0;34m=\u001b[0m \u001b[0mfourtyLong\u001b[0m\u001b[0;34m.\u001b[0m\u001b[0msort_values\u001b[0m\u001b[0;34m(\u001b[0m\u001b[0;34m[\u001b[0m\u001b[0;34m\"clustNum\"\u001b[0m\u001b[0;34m,\u001b[0m \u001b[0;34m\"date\"\u001b[0m\u001b[0;34m]\u001b[0m\u001b[0;34m)\u001b[0m\u001b[0;34m.\u001b[0m\u001b[0mdrop_duplicates\u001b[0m\u001b[0;34m(\u001b[0m\u001b[0msubset\u001b[0m\u001b[0;34m=\u001b[0m\u001b[0;34m[\u001b[0m\u001b[0;34m\"clustNum\"\u001b[0m\u001b[0;34m,\u001b[0m \u001b[0;34m\"source\"\u001b[0m\u001b[0;34m]\u001b[0m\u001b[0;34m)\u001b[0m\u001b[0;34m\u001b[0m\u001b[0;34m\u001b[0m\u001b[0m\n\u001b[1;32m      3\u001b[0m \u001b[0;34m\u001b[0m\u001b[0m\n\u001b[0;32m----> 4\u001b[0;31m \u001b[0mfirstCoverageClusters\u001b[0m \u001b[0;34m=\u001b[0m \u001b[0mfourtyNoDups\u001b[0m\u001b[0;34m[\u001b[0m\u001b[0;34m[\u001b[0m\u001b[0;34m\"source\"\u001b[0m\u001b[0;34m,\u001b[0m \u001b[0;34m\"storyPropDays\"\u001b[0m\u001b[0;34m,\u001b[0m\u001b[0;34m\"storyPropCount\"\u001b[0m\u001b[0;34m,\u001b[0m \u001b[0;34m\"national\"\u001b[0m\u001b[0;34m,\u001b[0m \u001b[0;34m\"veracityScore\"\u001b[0m\u001b[0;34m]\u001b[0m\u001b[0;34m]\u001b[0m\u001b[0;34m.\u001b[0m\u001b[0mgroupby\u001b[0m\u001b[0;34m(\u001b[0m\u001b[0;34m\"source\"\u001b[0m\u001b[0;34m)\u001b[0m\u001b[0;31m\\\u001b[0m\u001b[0;34m\u001b[0m\u001b[0;34m\u001b[0m\u001b[0m\n\u001b[0m\u001b[1;32m      5\u001b[0m \u001b[0;34m.\u001b[0m\u001b[0magg\u001b[0m\u001b[0;34m(\u001b[0m\u001b[0;34m{\u001b[0m\u001b[0;34m\"national\"\u001b[0m\u001b[0;34m:\u001b[0m\u001b[0mlist\u001b[0m\u001b[0;34m,\u001b[0m \u001b[0;34m\"veracityScore\"\u001b[0m\u001b[0;34m:\u001b[0m\u001b[0mlist\u001b[0m\u001b[0;34m,\u001b[0m \u001b[0;34m\"storyPropDays\"\u001b[0m\u001b[0;34m:\u001b[0m\u001b[0;34m[\u001b[0m\u001b[0mnp\u001b[0m\u001b[0;34m.\u001b[0m\u001b[0mmean\u001b[0m\u001b[0;34m]\u001b[0m\u001b[0;34m,\u001b[0m \u001b[0;34m\"storyPropCount\"\u001b[0m\u001b[0;34m:\u001b[0m\u001b[0;34m[\u001b[0m\u001b[0mnp\u001b[0m\u001b[0;34m.\u001b[0m\u001b[0mmean\u001b[0m\u001b[0;34m,\u001b[0m \u001b[0mlen\u001b[0m\u001b[0;34m]\u001b[0m\u001b[0;34m}\u001b[0m\u001b[0;34m)\u001b[0m\u001b[0;34m.\u001b[0m\u001b[0mdroplevel\u001b[0m\u001b[0;34m(\u001b[0m\u001b[0;34m[\u001b[0m\u001b[0;36m0\u001b[0m\u001b[0;34m]\u001b[0m\u001b[0;34m,\u001b[0m \u001b[0maxis\u001b[0m\u001b[0;34m=\u001b[0m\u001b[0;36m1\u001b[0m\u001b[0;34m)\u001b[0m \u001b[0;31m#.sort_values([\"mean\", \"len\"], ascending=False)\u001b[0m\u001b[0;34m\u001b[0m\u001b[0;34m\u001b[0m\u001b[0m\n\u001b[1;32m      6\u001b[0m \u001b[0mfirstCoverageClusters\u001b[0m\u001b[0;34m.\u001b[0m\u001b[0mcolumns\u001b[0m \u001b[0;34m=\u001b[0m \u001b[0;34m[\u001b[0m\u001b[0;34m\"national\"\u001b[0m\u001b[0;34m,\u001b[0m \u001b[0;34m\"veracityScore\"\u001b[0m\u001b[0;34m,\u001b[0m \u001b[0;34m\"storyPropDaysMean\"\u001b[0m\u001b[0;34m,\u001b[0m \u001b[0;34m\"storyPropCountMean\"\u001b[0m\u001b[0;34m,\u001b[0m \u001b[0;34m\"numStories\"\u001b[0m\u001b[0;34m]\u001b[0m\u001b[0;34m\u001b[0m\u001b[0;34m\u001b[0m\u001b[0m\n",
      "\u001b[0;32m/opt/anaconda/lib/python3.8/site-packages/pandas/core/frame.py\u001b[0m in \u001b[0;36m__getitem__\u001b[0;34m(self, key)\u001b[0m\n\u001b[1;32m   3765\u001b[0m             \u001b[0;32mif\u001b[0m \u001b[0mis_iterator\u001b[0m\u001b[0;34m(\u001b[0m\u001b[0mkey\u001b[0m\u001b[0;34m)\u001b[0m\u001b[0;34m:\u001b[0m\u001b[0;34m\u001b[0m\u001b[0;34m\u001b[0m\u001b[0m\n\u001b[1;32m   3766\u001b[0m                 \u001b[0mkey\u001b[0m \u001b[0;34m=\u001b[0m \u001b[0mlist\u001b[0m\u001b[0;34m(\u001b[0m\u001b[0mkey\u001b[0m\u001b[0;34m)\u001b[0m\u001b[0;34m\u001b[0m\u001b[0;34m\u001b[0m\u001b[0m\n\u001b[0;32m-> 3767\u001b[0;31m             \u001b[0mindexer\u001b[0m \u001b[0;34m=\u001b[0m \u001b[0mself\u001b[0m\u001b[0;34m.\u001b[0m\u001b[0mcolumns\u001b[0m\u001b[0;34m.\u001b[0m\u001b[0m_get_indexer_strict\u001b[0m\u001b[0;34m(\u001b[0m\u001b[0mkey\u001b[0m\u001b[0;34m,\u001b[0m \u001b[0;34m\"columns\"\u001b[0m\u001b[0;34m)\u001b[0m\u001b[0;34m[\u001b[0m\u001b[0;36m1\u001b[0m\u001b[0;34m]\u001b[0m\u001b[0;34m\u001b[0m\u001b[0;34m\u001b[0m\u001b[0m\n\u001b[0m\u001b[1;32m   3768\u001b[0m \u001b[0;34m\u001b[0m\u001b[0m\n\u001b[1;32m   3769\u001b[0m         \u001b[0;31m# take() does not accept boolean indexers\u001b[0m\u001b[0;34m\u001b[0m\u001b[0;34m\u001b[0m\u001b[0;34m\u001b[0m\u001b[0m\n",
      "\u001b[0;32m/opt/anaconda/lib/python3.8/site-packages/pandas/core/indexes/base.py\u001b[0m in \u001b[0;36m_get_indexer_strict\u001b[0;34m(self, key, axis_name)\u001b[0m\n\u001b[1;32m   5874\u001b[0m             \u001b[0mkeyarr\u001b[0m\u001b[0;34m,\u001b[0m \u001b[0mindexer\u001b[0m\u001b[0;34m,\u001b[0m \u001b[0mnew_indexer\u001b[0m \u001b[0;34m=\u001b[0m \u001b[0mself\u001b[0m\u001b[0;34m.\u001b[0m\u001b[0m_reindex_non_unique\u001b[0m\u001b[0;34m(\u001b[0m\u001b[0mkeyarr\u001b[0m\u001b[0;34m)\u001b[0m\u001b[0;34m\u001b[0m\u001b[0;34m\u001b[0m\u001b[0m\n\u001b[1;32m   5875\u001b[0m \u001b[0;34m\u001b[0m\u001b[0m\n\u001b[0;32m-> 5876\u001b[0;31m         \u001b[0mself\u001b[0m\u001b[0;34m.\u001b[0m\u001b[0m_raise_if_missing\u001b[0m\u001b[0;34m(\u001b[0m\u001b[0mkeyarr\u001b[0m\u001b[0;34m,\u001b[0m \u001b[0mindexer\u001b[0m\u001b[0;34m,\u001b[0m \u001b[0maxis_name\u001b[0m\u001b[0;34m)\u001b[0m\u001b[0;34m\u001b[0m\u001b[0;34m\u001b[0m\u001b[0m\n\u001b[0m\u001b[1;32m   5877\u001b[0m \u001b[0;34m\u001b[0m\u001b[0m\n\u001b[1;32m   5878\u001b[0m         \u001b[0mkeyarr\u001b[0m \u001b[0;34m=\u001b[0m \u001b[0mself\u001b[0m\u001b[0;34m.\u001b[0m\u001b[0mtake\u001b[0m\u001b[0;34m(\u001b[0m\u001b[0mindexer\u001b[0m\u001b[0;34m)\u001b[0m\u001b[0;34m\u001b[0m\u001b[0;34m\u001b[0m\u001b[0m\n",
      "\u001b[0;32m/opt/anaconda/lib/python3.8/site-packages/pandas/core/indexes/base.py\u001b[0m in \u001b[0;36m_raise_if_missing\u001b[0;34m(self, key, indexer, axis_name)\u001b[0m\n\u001b[1;32m   5936\u001b[0m \u001b[0;34m\u001b[0m\u001b[0m\n\u001b[1;32m   5937\u001b[0m             \u001b[0mnot_found\u001b[0m \u001b[0;34m=\u001b[0m \u001b[0mlist\u001b[0m\u001b[0;34m(\u001b[0m\u001b[0mensure_index\u001b[0m\u001b[0;34m(\u001b[0m\u001b[0mkey\u001b[0m\u001b[0;34m)\u001b[0m\u001b[0;34m[\u001b[0m\u001b[0mmissing_mask\u001b[0m\u001b[0;34m.\u001b[0m\u001b[0mnonzero\u001b[0m\u001b[0;34m(\u001b[0m\u001b[0;34m)\u001b[0m\u001b[0;34m[\u001b[0m\u001b[0;36m0\u001b[0m\u001b[0;34m]\u001b[0m\u001b[0;34m]\u001b[0m\u001b[0;34m.\u001b[0m\u001b[0munique\u001b[0m\u001b[0;34m(\u001b[0m\u001b[0;34m)\u001b[0m\u001b[0;34m)\u001b[0m\u001b[0;34m\u001b[0m\u001b[0;34m\u001b[0m\u001b[0m\n\u001b[0;32m-> 5938\u001b[0;31m             \u001b[0;32mraise\u001b[0m \u001b[0mKeyError\u001b[0m\u001b[0;34m(\u001b[0m\u001b[0;34mf\"{not_found} not in index\"\u001b[0m\u001b[0;34m)\u001b[0m\u001b[0;34m\u001b[0m\u001b[0;34m\u001b[0m\u001b[0m\n\u001b[0m\u001b[1;32m   5939\u001b[0m \u001b[0;34m\u001b[0m\u001b[0m\n\u001b[1;32m   5940\u001b[0m     \u001b[0;34m@\u001b[0m\u001b[0moverload\u001b[0m\u001b[0;34m\u001b[0m\u001b[0;34m\u001b[0m\u001b[0m\n",
      "\u001b[0;31mKeyError\u001b[0m: \"['veracityScore'] not in index\""
     ]
    }
   ],
   "source": [
    "#and remake the firstCoverageClusters dataframe to include the veracity labels \n",
    "fourtyNoDups = fourtyLong.sort_values([\"clustNum\", \"date\"]).drop_duplicates(subset=[\"clustNum\", \"source\"])\n",
    "\n",
    "firstCoverageClusters = fourtyNoDups[[\"source\", \"storyPropDays\",\"storyPropCount\", \"national\", \"veracityScore\"]].groupby(\"source\")\\\n",
    ".agg({\"national\":list, \"veracityScore\":list, \"storyPropDays\":[np.mean], \"storyPropCount\":[np.mean, len]}).droplevel([0], axis=1) #.sort_values([\"mean\", \"len\"], ascending=False)\n",
    "firstCoverageClusters.columns = [\"national\", \"veracityScore\", \"storyPropDaysMean\", \"storyPropCountMean\", \"numStories\"]\n",
    "firstCoverageClusters[\"national\"] = firstCoverageClusters[\"national\"].apply(lambda x: x[0])\n",
    "firstCoverageClusters[\"veracityScore\"] = firstCoverageClusters[\"veracityScore\"].apply(lambda x: x[0])"
   ]
  },
  {
   "cell_type": "code",
   "execution_count": null,
   "metadata": {},
   "outputs": [],
   "source": [
    "fig, axs = plt.subplots(2, figsize=(8, 6))\n",
    "sns.kdeplot(x=\"storyPropDaysMean\", hue=\"veracityScore\", common_norm=False, data=coverageClusters[coverageClusters[\"numStories\"] > 100], ax=axs[0])\n",
    "axs[0].set_xlabel(\"reporting time during life of story, averaged within outlets(days)\")\n",
    "axs[0].set_ylabel(\"density of outlets\")\n",
    "\n",
    "sns.kdeplot(x=\"storyPropCountMean\", hue=\"veracityScore\", common_norm=False, data=coverageClusters[coverageClusters[\"numStories\"] > 10], ax=axs[1])\n",
    "axs[1].set_xlabel(\"reporting time during life of story, averaged within outlets (# of articles)\")\n",
    "axs[1].set_ylabel(\"density of outlets\")\n",
    "\n",
    "fig.suptitle(\"Distribution of When Outlets Report During the Life of a Story [0,1]\")"
   ]
  },
  {
   "cell_type": "code",
   "execution_count": null,
   "metadata": {},
   "outputs": [],
   "source": [
    "fig, axs = plt.subplots(2, figsize=(8, 6))\n",
    "sns.kdeplot(x=\"storyPropDays\", hue=\"veracityScore\", common_norm=False, data=fourtyLong, ax=axs[0])\n",
    "axs[0].set_xlabel(\"reporting time during life of story (normalized days)\")\n",
    "axs[0].set_ylabel(\"density of stories\")\n",
    "\n",
    "sns.kdeplot(x=\"storyPropCount\", hue=\"veracityScore\", common_norm=False, data=fourtyLong, ax=axs[1])\n",
    "axs[1].set_xlabel(\"reporting time during life of story (normalized by article count)\")\n",
    "axs[1].set_ylabel(\"density of stories\")\n",
    "\n",
    "fig.suptitle(\"Distribution of When Stories are Reported [0,1]\")"
   ]
  },
  {
   "cell_type": "code",
   "execution_count": null,
   "metadata": {},
   "outputs": [],
   "source": [
    "fig, axs = plt.subplots(2, figsize=(8, 6))\n",
    "sns.kdeplot(x=\"storyPropDaysMean\", hue=\"veracityScore\", common_norm=False, data=firstCoverageClusters[firstCoverageClusters[\"numStories\"] > 100], ax=axs[0])\n",
    "axs[0].set_xlabel(\"reporting time during life of story, averaged within outlets(days)\")\n",
    "axs[0].set_ylabel(\"density of outlets\")\n",
    "\n",
    "sns.kdeplot(x=\"storyPropCountMean\", hue=\"veracityScore\", common_norm=False, data=firstCoverageClusters[firstCoverageClusters[\"numStories\"] > 10], ax=axs[1])\n",
    "axs[1].set_xlabel(\"reporting time during life of story, averaged within outlets (# of articles)\")\n",
    "axs[1].set_ylabel(\"density of outlets\")\n",
    "\n",
    "fig.suptitle(\"Distribution of When Outlets Report During the Life of a Story [0,1]\")"
   ]
  },
  {
   "cell_type": "code",
   "execution_count": null,
   "metadata": {},
   "outputs": [],
   "source": [
    "fig, axs = plt.subplots(2, figsize=(8, 6))\n",
    "sns.kdeplot(x=\"storyPropDays\", hue=\"veracityScore\", common_norm=False, data=fourtyNoDups, ax=axs[0])\n",
    "axs[0].set_xlabel(\"reporting time during life of story (normalized days)\")\n",
    "axs[0].set_ylabel(\"density of stories\")\n",
    "\n",
    "sns.kdeplot(x=\"storyPropCount\", hue=\"veracityScore\", common_norm=False, data=fourtyNoDups, ax=axs[1])\n",
    "axs[1].set_xlabel(\"reporting time during life of story (normalized by article count)\")\n",
    "axs[1].set_ylabel(\"density of stories\")\n",
    "\n",
    "fig.suptitle(\"Distribution of When Stories are Reported [0,1]\")"
   ]
  },
  {
   "cell_type": "code",
   "execution_count": 1362,
   "metadata": {},
   "outputs": [
    {
     "data": {
      "text/plain": [
       "array([[ 1.        , -0.13540109],\n",
       "       [-0.13540109,  1.        ]])"
      ]
     },
     "execution_count": 1362,
     "metadata": {},
     "output_type": "execute_result"
    },
    {
     "data": {
      "image/png": "[encoded data removed]",
      "text/plain": [
       "<Figure size 432x288 with 1 Axes>"
      ]
     },
     "metadata": {
      "needs_background": "light"
     },
     "output_type": "display_data"
    }
   ],
   "source": [
    "test = coverageClusters[coverageClusters[\"numStories\"] > 50]\n",
    "plt.scatter(test[\"articlesReported\"], test[\"storyPropCountMean\"], alpha=.2)\n",
    "np.corrcoef(list(test[\"articlesReported\"]), list(test[\"storyPropCountMean\"]))"
   ]
  },
  {
   "cell_type": "code",
   "execution_count": null,
   "metadata": {},
   "outputs": [],
   "source": [
    "fig, axs = plt.subplots(2, figsize=(8, 6))\n",
    "sns.kdeplot(x=\"storyPropDaysMean\", hue=\"veracityScore\", common_norm=False, data=coverageClusters[coverageClusters[\"numStories\"] > 100], ax=axs[0])\n",
    "axs[0].set_xlabel(\"reporting time during life of story, averaged within outlets(days)\")\n",
    "axs[0].set_ylabel(\"density of outlets\")\n",
    "\n",
    "sns.kdeplot(x=\"storyPropCountMean\", hue=\"veracityScore\", common_norm=False, data=coverageClusters[coverageClusters[\"numStories\"] > 10], ax=axs[1])\n",
    "axs[1].set_xlabel(\"reporting time during life of story, averaged within outlets (# of articles)\")\n",
    "axs[1].set_ylabel(\"density of outlets\")\n",
    "\n",
    "fig.suptitle(\"Distribution of When Outlets Report During the Life of a Story [0,1]\")"
   ]
  },
  {
   "cell_type": "markdown",
   "metadata": {},
   "source": [
    "do certain states report first? "
   ]
  },
  {
   "cell_type": "code",
   "execution_count": 1177,
   "metadata": {},
   "outputs": [
    {
     "data": {
      "text/html": [
       "<div>\n",
       "<style scoped>\n",
       "    .dataframe tbody tr th:only-of-type {\n",
       "        vertical-align: middle;\n",
       "    }\n",
       "\n",
       "    .dataframe tbody tr th {\n",
       "        vertical-align: top;\n",
       "    }\n",
       "\n",
       "    .dataframe thead th {\n",
       "        text-align: right;\n",
       "    }\n",
       "</style>\n",
       "<table border=\"1\" class=\"dataframe\">\n",
       "  <thead>\n",
       "    <tr style=\"text-align: right;\">\n",
       "      <th></th>\n",
       "      <th>storyPropCountMean</th>\n",
       "      <th>storyPropDaysMean</th>\n",
       "      <th>lenDup</th>\n",
       "    </tr>\n",
       "    <tr>\n",
       "      <th>state</th>\n",
       "      <th></th>\n",
       "      <th></th>\n",
       "      <th></th>\n",
       "    </tr>\n",
       "  </thead>\n",
       "  <tbody>\n",
       "    <tr>\n",
       "      <th>Tennessee</th>\n",
       "      <td>0.692143</td>\n",
       "      <td>0.715493</td>\n",
       "      <td>50</td>\n",
       "    </tr>\n",
       "    <tr>\n",
       "      <th>North Dakota</th>\n",
       "      <td>0.714584</td>\n",
       "      <td>0.705799</td>\n",
       "      <td>865</td>\n",
       "    </tr>\n",
       "    <tr>\n",
       "      <th>Hawaii</th>\n",
       "      <td>0.699961</td>\n",
       "      <td>0.677786</td>\n",
       "      <td>446</td>\n",
       "    </tr>\n",
       "    <tr>\n",
       "      <th>South Dakota</th>\n",
       "      <td>0.662202</td>\n",
       "      <td>0.659862</td>\n",
       "      <td>348</td>\n",
       "    </tr>\n",
       "    <tr>\n",
       "      <th>Wisconsin</th>\n",
       "      <td>0.672135</td>\n",
       "      <td>0.6584</td>\n",
       "      <td>161</td>\n",
       "    </tr>\n",
       "    <tr>\n",
       "      <th>Minnesota</th>\n",
       "      <td>0.632692</td>\n",
       "      <td>0.62743</td>\n",
       "      <td>2826</td>\n",
       "    </tr>\n",
       "    <tr>\n",
       "      <th>Alabama</th>\n",
       "      <td>0.632806</td>\n",
       "      <td>0.623684</td>\n",
       "      <td>161</td>\n",
       "    </tr>\n",
       "    <tr>\n",
       "      <th>Missouri</th>\n",
       "      <td>0.63503</td>\n",
       "      <td>0.614781</td>\n",
       "      <td>1300</td>\n",
       "    </tr>\n",
       "    <tr>\n",
       "      <th>Pennsylvania</th>\n",
       "      <td>0.611398</td>\n",
       "      <td>0.605764</td>\n",
       "      <td>1700</td>\n",
       "    </tr>\n",
       "    <tr>\n",
       "      <th>Iowa</th>\n",
       "      <td>0.612466</td>\n",
       "      <td>0.576482</td>\n",
       "      <td>75</td>\n",
       "    </tr>\n",
       "    <tr>\n",
       "      <th>Louisiana</th>\n",
       "      <td>0.572179</td>\n",
       "      <td>0.57546</td>\n",
       "      <td>467</td>\n",
       "    </tr>\n",
       "    <tr>\n",
       "      <th>California</th>\n",
       "      <td>0.589008</td>\n",
       "      <td>0.57527</td>\n",
       "      <td>2840</td>\n",
       "    </tr>\n",
       "    <tr>\n",
       "      <th>Massachusetts</th>\n",
       "      <td>0.580548</td>\n",
       "      <td>0.573437</td>\n",
       "      <td>2453</td>\n",
       "    </tr>\n",
       "    <tr>\n",
       "      <th>Texas</th>\n",
       "      <td>0.585263</td>\n",
       "      <td>0.572249</td>\n",
       "      <td>546</td>\n",
       "    </tr>\n",
       "    <tr>\n",
       "      <th>North Carolina</th>\n",
       "      <td>0.605463</td>\n",
       "      <td>0.572091</td>\n",
       "      <td>401</td>\n",
       "    </tr>\n",
       "    <tr>\n",
       "      <th>Montana</th>\n",
       "      <td>0.613115</td>\n",
       "      <td>0.56342</td>\n",
       "      <td>61</td>\n",
       "    </tr>\n",
       "    <tr>\n",
       "      <th>Florida</th>\n",
       "      <td>0.585381</td>\n",
       "      <td>0.558339</td>\n",
       "      <td>93</td>\n",
       "    </tr>\n",
       "    <tr>\n",
       "      <th>Colorado</th>\n",
       "      <td>0.574467</td>\n",
       "      <td>0.557071</td>\n",
       "      <td>1609</td>\n",
       "    </tr>\n",
       "    <tr>\n",
       "      <th>Illinois</th>\n",
       "      <td>0.563949</td>\n",
       "      <td>0.5496</td>\n",
       "      <td>1622</td>\n",
       "    </tr>\n",
       "    <tr>\n",
       "      <th>Connecticut</th>\n",
       "      <td>0.572789</td>\n",
       "      <td>0.543505</td>\n",
       "      <td>231</td>\n",
       "    </tr>\n",
       "    <tr>\n",
       "      <th>Georgia</th>\n",
       "      <td>0.552952</td>\n",
       "      <td>0.535124</td>\n",
       "      <td>287</td>\n",
       "    </tr>\n",
       "    <tr>\n",
       "      <th>Kentucky</th>\n",
       "      <td>0.538792</td>\n",
       "      <td>0.534079</td>\n",
       "      <td>217</td>\n",
       "    </tr>\n",
       "    <tr>\n",
       "      <th>Ohio</th>\n",
       "      <td>0.551648</td>\n",
       "      <td>0.532069</td>\n",
       "      <td>1319</td>\n",
       "    </tr>\n",
       "    <tr>\n",
       "      <th>New Mexico</th>\n",
       "      <td>0.539401</td>\n",
       "      <td>0.530745</td>\n",
       "      <td>816</td>\n",
       "    </tr>\n",
       "    <tr>\n",
       "      <th>Kansas</th>\n",
       "      <td>0.554238</td>\n",
       "      <td>0.529955</td>\n",
       "      <td>140</td>\n",
       "    </tr>\n",
       "    <tr>\n",
       "      <th>New York</th>\n",
       "      <td>0.555247</td>\n",
       "      <td>0.529893</td>\n",
       "      <td>662</td>\n",
       "    </tr>\n",
       "    <tr>\n",
       "      <th>Mississippi</th>\n",
       "      <td>0.564721</td>\n",
       "      <td>0.523904</td>\n",
       "      <td>184</td>\n",
       "    </tr>\n",
       "    <tr>\n",
       "      <th>Maine</th>\n",
       "      <td>0.534289</td>\n",
       "      <td>0.520438</td>\n",
       "      <td>1094</td>\n",
       "    </tr>\n",
       "    <tr>\n",
       "      <th>Washington</th>\n",
       "      <td>0.509029</td>\n",
       "      <td>0.513623</td>\n",
       "      <td>2310</td>\n",
       "    </tr>\n",
       "    <tr>\n",
       "      <th>Nevada</th>\n",
       "      <td>0.512131</td>\n",
       "      <td>0.509238</td>\n",
       "      <td>549</td>\n",
       "    </tr>\n",
       "    <tr>\n",
       "      <th>Utah</th>\n",
       "      <td>0.473104</td>\n",
       "      <td>0.465718</td>\n",
       "      <td>207</td>\n",
       "    </tr>\n",
       "    <tr>\n",
       "      <th>Indiana</th>\n",
       "      <td>0.451335</td>\n",
       "      <td>0.46446</td>\n",
       "      <td>384</td>\n",
       "    </tr>\n",
       "    <tr>\n",
       "      <th>Alaska</th>\n",
       "      <td>0.432563</td>\n",
       "      <td>0.42277</td>\n",
       "      <td>136</td>\n",
       "    </tr>\n",
       "  </tbody>\n",
       "</table>\n",
       "</div>"
      ],
      "text/plain": [
       "               storyPropCountMean storyPropDaysMean  lenDup\n",
       "state                                                      \n",
       "Tennessee                0.692143          0.715493      50\n",
       "North Dakota             0.714584          0.705799     865\n",
       "Hawaii                   0.699961          0.677786     446\n",
       "South Dakota             0.662202          0.659862     348\n",
       "Wisconsin                0.672135            0.6584     161\n",
       "Minnesota                0.632692           0.62743    2826\n",
       "Alabama                  0.632806          0.623684     161\n",
       "Missouri                  0.63503          0.614781    1300\n",
       "Pennsylvania             0.611398          0.605764    1700\n",
       "Iowa                     0.612466          0.576482      75\n",
       "Louisiana                0.572179           0.57546     467\n",
       "California               0.589008           0.57527    2840\n",
       "Massachusetts            0.580548          0.573437    2453\n",
       "Texas                    0.585263          0.572249     546\n",
       "North Carolina           0.605463          0.572091     401\n",
       "Montana                  0.613115           0.56342      61\n",
       "Florida                  0.585381          0.558339      93\n",
       "Colorado                 0.574467          0.557071    1609\n",
       "Illinois                 0.563949            0.5496    1622\n",
       "Connecticut              0.572789          0.543505     231\n",
       "Georgia                  0.552952          0.535124     287\n",
       "Kentucky                 0.538792          0.534079     217\n",
       "Ohio                     0.551648          0.532069    1319\n",
       "New Mexico               0.539401          0.530745     816\n",
       "Kansas                   0.554238          0.529955     140\n",
       "New York                 0.555247          0.529893     662\n",
       "Mississippi              0.564721          0.523904     184\n",
       "Maine                    0.534289          0.520438    1094\n",
       "Washington               0.509029          0.513623    2310\n",
       "Nevada                   0.512131          0.509238     549\n",
       "Utah                     0.473104          0.465718     207\n",
       "Indiana                  0.451335           0.46446     384\n",
       "Alaska                   0.432563           0.42277     136"
      ]
     },
     "execution_count": 1177,
     "metadata": {},
     "output_type": "execute_result"
    }
   ],
   "source": [
    "#get only the local articles \n",
    "stateReportTimes = fourtyLong.loc[fourtyLong[\"national\"] == False, [\"state\", \"storyPropCount\", \"storyPropDays\"]].groupby(\"state\").agg([np.mean, len]).droplevel([0], axis=1)\n",
    "stateReportTimes.columns = [\"storyPropCountMean\", \"len\", \"storyPropDaysMean\", \"lenDup\"]\n",
    "stateReportTimes[stateReportTimes[\"len\"] > 40].sort_values(\"storyPropDaysMean\", ascending=False).drop(columns=[\"len\"])\n",
    "#.sort_values(\"storyPropCount\")"
   ]
  },
  {
   "cell_type": "code",
   "execution_count": 1171,
   "metadata": {},
   "outputs": [
    {
     "data": {
      "text/html": [
       "<div>\n",
       "<style scoped>\n",
       "    .dataframe tbody tr th:only-of-type {\n",
       "        vertical-align: middle;\n",
       "    }\n",
       "\n",
       "    .dataframe tbody tr th {\n",
       "        vertical-align: top;\n",
       "    }\n",
       "\n",
       "    .dataframe thead th {\n",
       "        text-align: right;\n",
       "    }\n",
       "</style>\n",
       "<table border=\"1\" class=\"dataframe\">\n",
       "  <thead>\n",
       "    <tr style=\"text-align: right;\">\n",
       "      <th></th>\n",
       "      <th>index</th>\n",
       "      <th>clustNum</th>\n",
       "      <th>source</th>\n",
       "      <th>key</th>\n",
       "      <th>title</th>\n",
       "      <th>date</th>\n",
       "      <th>state</th>\n",
       "      <th>national</th>\n",
       "      <th>median_hh_inc</th>\n",
       "      <th>rural_pct</th>\n",
       "      <th>...</th>\n",
       "      <th>clustSize</th>\n",
       "      <th>duration</th>\n",
       "      <th>dayOnePercent</th>\n",
       "      <th>outletCount</th>\n",
       "      <th>natPercent</th>\n",
       "      <th>storyDay</th>\n",
       "      <th>uniqueDays</th>\n",
       "      <th>storyPropCount</th>\n",
       "      <th>storyPropDays</th>\n",
       "      <th>veracityScore</th>\n",
       "    </tr>\n",
       "  </thead>\n",
       "  <tbody>\n",
       "    <tr>\n",
       "      <th>201</th>\n",
       "      <td>201</td>\n",
       "      <td>154.0</td>\n",
       "      <td>theforum</td>\n",
       "      <td>100847</td>\n",
       "      <td>Minnesota National Guard, Air Force plan secon...</td>\n",
       "      <td>2020-05-11</td>\n",
       "      <td>North Dakota</td>\n",
       "      <td>False</td>\n",
       "      <td>54926.0</td>\n",
       "      <td>10.434777</td>\n",
       "      <td>...</td>\n",
       "      <td>14</td>\n",
       "      <td>9.0</td>\n",
       "      <td>0.071429</td>\n",
       "      <td>10</td>\n",
       "      <td>0.000000</td>\n",
       "      <td>7.0</td>\n",
       "      <td>4</td>\n",
       "      <td>0.666667</td>\n",
       "      <td>0.875</td>\n",
       "      <td>NaN</td>\n",
       "    </tr>\n",
       "    <tr>\n",
       "      <th>202</th>\n",
       "      <td>202</td>\n",
       "      <td>154.0</td>\n",
       "      <td>grandforksherald</td>\n",
       "      <td>100852</td>\n",
       "      <td>Minnesota National Guard, Air Force plan secon...</td>\n",
       "      <td>2020-05-11</td>\n",
       "      <td>North Dakota</td>\n",
       "      <td>False</td>\n",
       "      <td>50652.0</td>\n",
       "      <td>16.769118</td>\n",
       "      <td>...</td>\n",
       "      <td>14</td>\n",
       "      <td>9.0</td>\n",
       "      <td>0.071429</td>\n",
       "      <td>10</td>\n",
       "      <td>0.000000</td>\n",
       "      <td>7.0</td>\n",
       "      <td>4</td>\n",
       "      <td>0.666667</td>\n",
       "      <td>0.875</td>\n",
       "      <td>NaN</td>\n",
       "    </tr>\n",
       "    <tr>\n",
       "      <th>403</th>\n",
       "      <td>403</td>\n",
       "      <td>416.0</td>\n",
       "      <td>theforum</td>\n",
       "      <td>323865</td>\n",
       "      <td>Koepka makes solid start in bid for PGA Champi...</td>\n",
       "      <td>2020-08-07</td>\n",
       "      <td>North Dakota</td>\n",
       "      <td>False</td>\n",
       "      <td>54926.0</td>\n",
       "      <td>10.434777</td>\n",
       "      <td>...</td>\n",
       "      <td>18</td>\n",
       "      <td>7.0</td>\n",
       "      <td>0.333333</td>\n",
       "      <td>13</td>\n",
       "      <td>0.277778</td>\n",
       "      <td>4.0</td>\n",
       "      <td>4</td>\n",
       "      <td>0.666667</td>\n",
       "      <td>0.666667</td>\n",
       "      <td>NaN</td>\n",
       "    </tr>\n",
       "    <tr>\n",
       "      <th>404</th>\n",
       "      <td>404</td>\n",
       "      <td>416.0</td>\n",
       "      <td>grandforksherald</td>\n",
       "      <td>323873</td>\n",
       "      <td>Koepka makes solid start in bid for PGA Champi...</td>\n",
       "      <td>2020-08-07</td>\n",
       "      <td>North Dakota</td>\n",
       "      <td>False</td>\n",
       "      <td>50652.0</td>\n",
       "      <td>16.769118</td>\n",
       "      <td>...</td>\n",
       "      <td>18</td>\n",
       "      <td>7.0</td>\n",
       "      <td>0.333333</td>\n",
       "      <td>13</td>\n",
       "      <td>0.277778</td>\n",
       "      <td>4.0</td>\n",
       "      <td>4</td>\n",
       "      <td>0.666667</td>\n",
       "      <td>0.666667</td>\n",
       "      <td>NaN</td>\n",
       "    </tr>\n",
       "    <tr>\n",
       "      <th>449</th>\n",
       "      <td>449</td>\n",
       "      <td>520.0</td>\n",
       "      <td>theforum</td>\n",
       "      <td>285628</td>\n",
       "      <td>Vikings finalizing multi-year contract extensi...</td>\n",
       "      <td>2020-07-22</td>\n",
       "      <td>North Dakota</td>\n",
       "      <td>False</td>\n",
       "      <td>54926.0</td>\n",
       "      <td>10.434777</td>\n",
       "      <td>...</td>\n",
       "      <td>21</td>\n",
       "      <td>5.0</td>\n",
       "      <td>0.380952</td>\n",
       "      <td>13</td>\n",
       "      <td>0.095238</td>\n",
       "      <td>0.0</td>\n",
       "      <td>5</td>\n",
       "      <td>0.0</td>\n",
       "      <td>0.0</td>\n",
       "      <td>NaN</td>\n",
       "    </tr>\n",
       "    <tr>\n",
       "      <th>...</th>\n",
       "      <td>...</td>\n",
       "      <td>...</td>\n",
       "      <td>...</td>\n",
       "      <td>...</td>\n",
       "      <td>...</td>\n",
       "      <td>...</td>\n",
       "      <td>...</td>\n",
       "      <td>...</td>\n",
       "      <td>...</td>\n",
       "      <td>...</td>\n",
       "      <td>...</td>\n",
       "      <td>...</td>\n",
       "      <td>...</td>\n",
       "      <td>...</td>\n",
       "      <td>...</td>\n",
       "      <td>...</td>\n",
       "      <td>...</td>\n",
       "      <td>...</td>\n",
       "      <td>...</td>\n",
       "      <td>...</td>\n",
       "      <td>...</td>\n",
       "    </tr>\n",
       "    <tr>\n",
       "      <th>114410</th>\n",
       "      <td>114260</td>\n",
       "      <td>194951.0</td>\n",
       "      <td>grandforksherald</td>\n",
       "      <td>24256</td>\n",
       "      <td>Hauser: Is your soul weary?</td>\n",
       "      <td>2020-04-13</td>\n",
       "      <td>North Dakota</td>\n",
       "      <td>False</td>\n",
       "      <td>50652.0</td>\n",
       "      <td>16.769118</td>\n",
       "      <td>...</td>\n",
       "      <td>4</td>\n",
       "      <td>2.0</td>\n",
       "      <td>0.250000</td>\n",
       "      <td>4</td>\n",
       "      <td>0.000000</td>\n",
       "      <td>1.0</td>\n",
       "      <td>2</td>\n",
       "      <td>1.0</td>\n",
       "      <td>1.0</td>\n",
       "      <td>NaN</td>\n",
       "    </tr>\n",
       "    <tr>\n",
       "      <th>115659</th>\n",
       "      <td>115509</td>\n",
       "      <td>202643.0</td>\n",
       "      <td>devilslakedailyjournal</td>\n",
       "      <td>65723</td>\n",
       "      <td>White House unveils blueprint to expand state ...</td>\n",
       "      <td>2020-04-28</td>\n",
       "      <td>North Dakota</td>\n",
       "      <td>False</td>\n",
       "      <td>50776.0</td>\n",
       "      <td>34.992577</td>\n",
       "      <td>...</td>\n",
       "      <td>24</td>\n",
       "      <td>2.0</td>\n",
       "      <td>0.041667</td>\n",
       "      <td>23</td>\n",
       "      <td>0.083333</td>\n",
       "      <td>1.0</td>\n",
       "      <td>2</td>\n",
       "      <td>1.0</td>\n",
       "      <td>1.0</td>\n",
       "      <td>NaN</td>\n",
       "    </tr>\n",
       "    <tr>\n",
       "      <th>116310</th>\n",
       "      <td>116159</td>\n",
       "      <td>207408.0</td>\n",
       "      <td>theforum</td>\n",
       "      <td>549399</td>\n",
       "      <td>Morken: Patience pays off while bow hunting deer</td>\n",
       "      <td>2020-11-10</td>\n",
       "      <td>North Dakota</td>\n",
       "      <td>False</td>\n",
       "      <td>54926.0</td>\n",
       "      <td>10.434777</td>\n",
       "      <td>...</td>\n",
       "      <td>16</td>\n",
       "      <td>5.0</td>\n",
       "      <td>0.062500</td>\n",
       "      <td>15</td>\n",
       "      <td>0.000000</td>\n",
       "      <td>4.0</td>\n",
       "      <td>2</td>\n",
       "      <td>1.0</td>\n",
       "      <td>1.0</td>\n",
       "      <td>NaN</td>\n",
       "    </tr>\n",
       "    <tr>\n",
       "      <th>116311</th>\n",
       "      <td>116160</td>\n",
       "      <td>207408.0</td>\n",
       "      <td>grandforksherald</td>\n",
       "      <td>549405</td>\n",
       "      <td>Morken: Patience pays off while bow hunting deer</td>\n",
       "      <td>2020-11-10</td>\n",
       "      <td>North Dakota</td>\n",
       "      <td>False</td>\n",
       "      <td>50652.0</td>\n",
       "      <td>16.769118</td>\n",
       "      <td>...</td>\n",
       "      <td>16</td>\n",
       "      <td>5.0</td>\n",
       "      <td>0.062500</td>\n",
       "      <td>15</td>\n",
       "      <td>0.000000</td>\n",
       "      <td>4.0</td>\n",
       "      <td>2</td>\n",
       "      <td>1.0</td>\n",
       "      <td>1.0</td>\n",
       "      <td>NaN</td>\n",
       "    </tr>\n",
       "    <tr>\n",
       "      <th>116312</th>\n",
       "      <td>116161</td>\n",
       "      <td>207408.0</td>\n",
       "      <td>thejamestownsun</td>\n",
       "      <td>549412</td>\n",
       "      <td>Morken: Patience pays off while bow hunting deer</td>\n",
       "      <td>2020-11-10</td>\n",
       "      <td>North Dakota</td>\n",
       "      <td>False</td>\n",
       "      <td>53685.0</td>\n",
       "      <td>27.563981</td>\n",
       "      <td>...</td>\n",
       "      <td>16</td>\n",
       "      <td>5.0</td>\n",
       "      <td>0.062500</td>\n",
       "      <td>15</td>\n",
       "      <td>0.000000</td>\n",
       "      <td>4.0</td>\n",
       "      <td>2</td>\n",
       "      <td>1.0</td>\n",
       "      <td>1.0</td>\n",
       "      <td>NaN</td>\n",
       "    </tr>\n",
       "  </tbody>\n",
       "</table>\n",
       "<p>865 rows × 21 columns</p>\n",
       "</div>"
      ],
      "text/plain": [
       "         index  clustNum                  source     key   \n",
       "201        201     154.0                theforum  100847  \\\n",
       "202        202     154.0        grandforksherald  100852   \n",
       "403        403     416.0                theforum  323865   \n",
       "404        404     416.0        grandforksherald  323873   \n",
       "449        449     520.0                theforum  285628   \n",
       "...        ...       ...                     ...     ...   \n",
       "114410  114260  194951.0        grandforksherald   24256   \n",
       "115659  115509  202643.0  devilslakedailyjournal   65723   \n",
       "116310  116159  207408.0                theforum  549399   \n",
       "116311  116160  207408.0        grandforksherald  549405   \n",
       "116312  116161  207408.0         thejamestownsun  549412   \n",
       "\n",
       "                                                    title       date   \n",
       "201     Minnesota National Guard, Air Force plan secon... 2020-05-11  \\\n",
       "202     Minnesota National Guard, Air Force plan secon... 2020-05-11   \n",
       "403     Koepka makes solid start in bid for PGA Champi... 2020-08-07   \n",
       "404     Koepka makes solid start in bid for PGA Champi... 2020-08-07   \n",
       "449     Vikings finalizing multi-year contract extensi... 2020-07-22   \n",
       "...                                                   ...        ...   \n",
       "114410                        Hauser: Is your soul weary? 2020-04-13   \n",
       "115659  White House unveils blueprint to expand state ... 2020-04-28   \n",
       "116310   Morken: Patience pays off while bow hunting deer 2020-11-10   \n",
       "116311   Morken: Patience pays off while bow hunting deer 2020-11-10   \n",
       "116312   Morken: Patience pays off while bow hunting deer 2020-11-10   \n",
       "\n",
       "               state national median_hh_inc  rural_pct  ... clustSize   \n",
       "201     North Dakota    False       54926.0  10.434777  ...        14  \\\n",
       "202     North Dakota    False       50652.0  16.769118  ...        14   \n",
       "403     North Dakota    False       54926.0  10.434777  ...        18   \n",
       "404     North Dakota    False       50652.0  16.769118  ...        18   \n",
       "449     North Dakota    False       54926.0  10.434777  ...        21   \n",
       "...              ...      ...           ...        ...  ...       ...   \n",
       "114410  North Dakota    False       50652.0  16.769118  ...         4   \n",
       "115659  North Dakota    False       50776.0  34.992577  ...        24   \n",
       "116310  North Dakota    False       54926.0  10.434777  ...        16   \n",
       "116311  North Dakota    False       50652.0  16.769118  ...        16   \n",
       "116312  North Dakota    False       53685.0  27.563981  ...        16   \n",
       "\n",
       "        duration  dayOnePercent  outletCount  natPercent  storyDay uniqueDays   \n",
       "201          9.0       0.071429           10    0.000000       7.0          4  \\\n",
       "202          9.0       0.071429           10    0.000000       7.0          4   \n",
       "403          7.0       0.333333           13    0.277778       4.0          4   \n",
       "404          7.0       0.333333           13    0.277778       4.0          4   \n",
       "449          5.0       0.380952           13    0.095238       0.0          5   \n",
       "...          ...            ...          ...         ...       ...        ...   \n",
       "114410       2.0       0.250000            4    0.000000       1.0          2   \n",
       "115659       2.0       0.041667           23    0.083333       1.0          2   \n",
       "116310       5.0       0.062500           15    0.000000       4.0          2   \n",
       "116311       5.0       0.062500           15    0.000000       4.0          2   \n",
       "116312       5.0       0.062500           15    0.000000       4.0          2   \n",
       "\n",
       "        storyPropCount storyPropDays veracityScore  \n",
       "201           0.666667         0.875           NaN  \n",
       "202           0.666667         0.875           NaN  \n",
       "403           0.666667      0.666667           NaN  \n",
       "404           0.666667      0.666667           NaN  \n",
       "449                0.0           0.0           NaN  \n",
       "...                ...           ...           ...  \n",
       "114410             1.0           1.0           NaN  \n",
       "115659             1.0           1.0           NaN  \n",
       "116310             1.0           1.0           NaN  \n",
       "116311             1.0           1.0           NaN  \n",
       "116312             1.0           1.0           NaN  \n",
       "\n",
       "[865 rows x 21 columns]"
      ]
     },
     "execution_count": 1171,
     "metadata": {},
     "output_type": "execute_result"
    }
   ],
   "source": [
    "fourtyLong[fourtyLong[\"state\"] == \"North Dakota\"]"
   ]
  },
  {
   "cell_type": "code",
   "execution_count": 538,
   "metadata": {},
   "outputs": [
    {
     "ename": "AttributeError",
     "evalue": "'list' object has no attribute 'values'",
     "output_type": "error",
     "traceback": [
      "\u001b[0;31m---------------------------------------------------------------------------\u001b[0m",
      "\u001b[0;31mAttributeError\u001b[0m                            Traceback (most recent call last)",
      "\u001b[0;32m<ipython-input-538-7b651f1b6fee>\u001b[0m in \u001b[0;36m<module>\u001b[0;34m\u001b[0m\n\u001b[1;32m      1\u001b[0m \u001b[0mmyList\u001b[0m \u001b[0;34m=\u001b[0m \u001b[0;34m[\u001b[0m\u001b[0;34m\"a, b, c\"\u001b[0m\u001b[0;34m]\u001b[0m\u001b[0;34m\u001b[0m\u001b[0;34m\u001b[0m\u001b[0m\n\u001b[1;32m      2\u001b[0m \u001b[0mindList\u001b[0m \u001b[0;34m=\u001b[0m \u001b[0;34m[\u001b[0m\u001b[0;36m0\u001b[0m\u001b[0;34m]\u001b[0m\u001b[0;34m\u001b[0m\u001b[0;34m\u001b[0m\u001b[0m\n\u001b[0;32m----> 3\u001b[0;31m \u001b[0mmyList\u001b[0m\u001b[0;34m[\u001b[0m\u001b[0mindList\u001b[0m\u001b[0;34m.\u001b[0m\u001b[0mvalues\u001b[0m\u001b[0;34m(\u001b[0m\u001b[0;34m)\u001b[0m\u001b[0;34m]\u001b[0m\u001b[0;34m\u001b[0m\u001b[0;34m\u001b[0m\u001b[0m\n\u001b[0m",
      "\u001b[0;31mAttributeError\u001b[0m: 'list' object has no attribute 'values'"
     ]
    }
   ],
   "source": [
    "myList = [\"a, b, c\"]\n",
    "indList = [0]\n",
    "myList"
   ]
  },
  {
   "cell_type": "code",
   "execution_count": 539,
   "metadata": {},
   "outputs": [
    {
     "name": "stderr",
     "output_type": "stream",
     "text": [
      "/opt/anaconda/lib/python3.8/site-packages/numpy/core/fromnumeric.py:3432: RuntimeWarning: Mean of empty slice.\n",
      "  return _methods._mean(a, axis=axis, dtype=dtype,\n",
      "/opt/anaconda/lib/python3.8/site-packages/numpy/core/_methods.py:190: RuntimeWarning: invalid value encountered in double_scalars\n",
      "  ret = ret.dtype.type(ret / rcount)\n"
     ]
    }
   ],
   "source": [
    "def getMeanCoverage(inSer): \n",
    "    storyProps = inSer[\"storyProportion\"]\n",
    "    rel = [storyProps[i] for i in range(0, len(inSer[\"label\"])) if inSer[\"label\"][i] == 0] \n",
    "    mixed = [storyProps[i] for i in range(0, len(inSer[\"label\"])) if inSer[\"label\"][i] == 1]\n",
    "    unrel = [storyProps[i] for i in range(0, len(inSer[\"label\"])) if inSer[\"label\"][i] == 2]\n",
    "    \"\"\"\n",
    "    relMean = np.nan\n",
    "    if len(relInds) > 0: \n",
    "        relMean = np.mean(inSer[\"storyProportion\"][relInds])\n",
    "        \n",
    "    mixedMean = np.nan\n",
    "    if len(mixedInds) > 0: \n",
    "        print(mixedInds)\n",
    "        print(inSer[\"storyProportion\"])\n",
    "        mixedMean = np.mean(inSer[\"storyProportion\"][mixedInds])\n",
    "    \n",
    "    unrelMean = np.nan\n",
    "    if len(unrelInds) > 0: \n",
    "        unrelMean = np.mean(inSer[\"storyProportion\"][unrelInds])\n",
    "    \"\"\"\n",
    "    \n",
    "    return (np.mean(rel), np.mean(mixed), np.mean(unrel)) \n",
    "\n",
    "veracityDiff[[\"relMean\", \"mixedMean\", \"unrelMean\"]] = list(veracityDiff.apply(getMeanCoverage, axis=1))"
   ]
  },
  {
   "cell_type": "code",
   "execution_count": 541,
   "metadata": {},
   "outputs": [
    {
     "name": "stderr",
     "output_type": "stream",
     "text": [
      "<ipython-input-541-cec816e33f90>:3: SettingWithCopyWarning: \n",
      "A value is trying to be set on a copy of a slice from a DataFrame.\n",
      "Try using .loc[row_indexer,col_indexer] = value instead\n",
      "\n",
      "See the caveats in the documentation: https://pandas.pydata.org/pandas-docs/stable/user_guide/indexing.html#returning-a-view-versus-a-copy\n",
      "  relUnrel[\"relUnrelDiff\"] = relUnrel[\"relMean\"] - relUnrel[\"unrelMean\"]\n"
     ]
    }
   ],
   "source": [
    "#now get diffs for for rel and unrel \n",
    "relUnrel = veracityDiff.dropna(subset=[\"relMean\", \"unrelMean\"])\n",
    "relUnrel[\"relUnrelDiff\"] = relUnrel[\"relMean\"] - relUnrel[\"unrelMean\"]"
   ]
  },
  {
   "cell_type": "code",
   "execution_count": 557,
   "metadata": {},
   "outputs": [
    {
     "data": {
      "text/plain": [
       "clustNum\n",
       "8.0         10\n",
       "24.0         7\n",
       "79.0        28\n",
       "95.0        14\n",
       "110.0       31\n",
       "            ..\n",
       "208587.0     4\n",
       "208813.0    12\n",
       "208819.0     4\n",
       "209116.0     3\n",
       "209248.0     5\n",
       "Name: clustSize, Length: 6488, dtype: int64"
      ]
     },
     "execution_count": 557,
     "metadata": {},
     "output_type": "execute_result"
    }
   ],
   "source": [
    "relUnrel[\"clustSize\"]"
   ]
  },
  {
   "cell_type": "code",
   "execution_count": 558,
   "metadata": {},
   "outputs": [
    {
     "name": "stderr",
     "output_type": "stream",
     "text": [
      "<ipython-input-558-a6b33ccdcafa>:2: SettingWithCopyWarning: \n",
      "A value is trying to be set on a copy of a slice from a DataFrame.\n",
      "Try using .loc[row_indexer,col_indexer] = value instead\n",
      "\n",
      "See the caveats in the documentation: https://pandas.pydata.org/pandas-docs/stable/user_guide/indexing.html#returning-a-view-versus-a-copy\n",
      "  relUnrel[\"clustSize\"] = relUnrel[\"label\"].apply(len)\n"
     ]
    },
    {
     "data": {
      "text/plain": [
       "<matplotlib.lines.Line2D at 0x7fd0c948d460>"
      ]
     },
     "execution_count": 558,
     "metadata": {},
     "output_type": "execute_result"
    },
    {
     "data": {
      "image/png": "[encoded data removed]",
      "text/plain": [
       "<Figure size 432x288 with 1 Axes>"
      ]
     },
     "metadata": {
      "needs_background": "light"
     },
     "output_type": "display_data"
    }
   ],
   "source": [
    "len(relUnrel[relUnrel[\"relUnrelDiff\"] > 0]) / len(relUnrel)\n",
    "relUnrel[\"clustSize\"] = relUnrel[\"label\"].apply(len)\n",
    "sns.histplot(x=\"relUnrelDiff\", data=relUnrel, bins=np.arange(-1, 1, .05))\n",
    "plt.axvline(0, color=\"red\")"
   ]
  },
  {
   "cell_type": "code",
   "execution_count": 546,
   "metadata": {},
   "outputs": [
    {
     "data": {
      "text/plain": [
       "<matplotlib.lines.Line2D at 0x7fd0d6c1d8e0>"
      ]
     },
     "execution_count": 546,
     "metadata": {},
     "output_type": "execute_result"
    },
    {
     "data": {
      "image/png": "[encoded data removed]",
      "text/plain": [
       "<Figure size 432x288 with 1 Axes>"
      ]
     },
     "metadata": {
      "needs_background": "light"
     },
     "output_type": "display_data"
    }
   ],
   "source": [
    "sns.kdeplot(x=\"relUnrelDiff\", data=relUnrel[relUnrel[\"clustSize\"] > 0])\n",
    "plt.axvline(0, color=\"red\")"
   ]
  },
  {
   "cell_type": "code",
   "execution_count": 520,
   "metadata": {},
   "outputs": [
    {
     "data": {
      "text/plain": [
       "Text(0.5, 0, 'reliable coverage day - unreliable coverage day')"
      ]
     },
     "execution_count": 520,
     "metadata": {},
     "output_type": "execute_result"
    },
    {
     "data": {
      "image/png": "[encoded data removed]",
      "text/plain": [
       "<Figure size 432x288 with 1 Axes>"
      ]
     },
     "metadata": {
      "needs_background": "light"
     },
     "output_type": "display_data"
    }
   ],
   "source": [
    "sns.histplot(x=\"relUnrelDiff\", data=relUnrel[relUnrel[\"clustSize\"] > 0], bins=np.arange(-40, 40, 1))\n",
    "plt.axvline(0, color=\"red\")\n",
    "plt.xlim(-40, 40)\n",
    "plt.xlabel(\"reliable coverage day - unreliable coverage day\")"
   ]
  },
  {
   "cell_type": "code",
   "execution_count": 517,
   "metadata": {},
   "outputs": [],
   "source": [
    "veracityDiff[\"meanProportion\"] = veracityDiff[\"storyProportion\"].apply(np.mean)\n",
    "#veracityDiff.pivot(columns=[\"label\", \"clustNum\"], values=[\"meanProportion\"])"
   ]
  },
  {
   "cell_type": "code",
   "execution_count": 431,
   "metadata": {},
   "outputs": [],
   "source": [
    "#we now want to do the same analysis but within story clusters, and for local news  \n",
    "#fourtyPercent.reset_index()"
   ]
  },
  {
   "cell_type": "code",
   "execution_count": 1016,
   "metadata": {},
   "outputs": [
    {
     "data": {
      "text/html": [
       "<div>\n",
       "<style scoped>\n",
       "    .dataframe tbody tr th:only-of-type {\n",
       "        vertical-align: middle;\n",
       "    }\n",
       "\n",
       "    .dataframe tbody tr th {\n",
       "        vertical-align: top;\n",
       "    }\n",
       "\n",
       "    .dataframe thead th {\n",
       "        text-align: right;\n",
       "    }\n",
       "</style>\n",
       "<table border=\"1\" class=\"dataframe\">\n",
       "  <thead>\n",
       "    <tr style=\"text-align: right;\">\n",
       "      <th></th>\n",
       "      <th>index</th>\n",
       "      <th>clustNum</th>\n",
       "      <th>source</th>\n",
       "      <th>key</th>\n",
       "      <th>title</th>\n",
       "      <th>date</th>\n",
       "      <th>national</th>\n",
       "      <th>median_hh_inc</th>\n",
       "      <th>rural_pct</th>\n",
       "      <th>total_population</th>\n",
       "      <th>clustSize</th>\n",
       "      <th>duration</th>\n",
       "      <th>dayOnePercent</th>\n",
       "      <th>outletCount</th>\n",
       "      <th>natPercent</th>\n",
       "      <th>storyDay</th>\n",
       "      <th>uniqueDays</th>\n",
       "      <th>storyPropCount</th>\n",
       "      <th>storyPropDays</th>\n",
       "      <th>veracityScore</th>\n",
       "    </tr>\n",
       "  </thead>\n",
       "  <tbody>\n",
       "    <tr>\n",
       "      <th>0</th>\n",
       "      <td>0</td>\n",
       "      <td>23.0</td>\n",
       "      <td>lewrockwell</td>\n",
       "      <td>1446596</td>\n",
       "      <td>Head of the Vaccine Hydra: The Rise of Robert ...</td>\n",
       "      <td>2020-05-19</td>\n",
       "      <td>True</td>\n",
       "      <td>NaN</td>\n",
       "      <td>NaN</td>\n",
       "      <td>NaN</td>\n",
       "      <td>6</td>\n",
       "      <td>6.0</td>\n",
       "      <td>0.166667</td>\n",
       "      <td>4</td>\n",
       "      <td>1.0</td>\n",
       "      <td>5.0</td>\n",
       "      <td>4</td>\n",
       "      <td>1.0</td>\n",
       "      <td>1.0</td>\n",
       "      <td>0.0</td>\n",
       "    </tr>\n",
       "    <tr>\n",
       "      <th>1</th>\n",
       "      <td>1</td>\n",
       "      <td>23.0</td>\n",
       "      <td>freedom-bunker</td>\n",
       "      <td>1451494</td>\n",
       "      <td>Head of the Vaccine Hydra: The Rise of Robert ...</td>\n",
       "      <td>2020-05-19</td>\n",
       "      <td>True</td>\n",
       "      <td>NaN</td>\n",
       "      <td>NaN</td>\n",
       "      <td>NaN</td>\n",
       "      <td>6</td>\n",
       "      <td>6.0</td>\n",
       "      <td>0.166667</td>\n",
       "      <td>4</td>\n",
       "      <td>1.0</td>\n",
       "      <td>5.0</td>\n",
       "      <td>4</td>\n",
       "      <td>1.0</td>\n",
       "      <td>1.0</td>\n",
       "      <td>NaN</td>\n",
       "    </tr>\n",
       "    <tr>\n",
       "      <th>2</th>\n",
       "      <td>2</td>\n",
       "      <td>23.0</td>\n",
       "      <td>mintpressnews</td>\n",
       "      <td>1591484</td>\n",
       "      <td>Head of the Hydra: The Rise of Robert Kadlec</td>\n",
       "      <td>2020-05-15</td>\n",
       "      <td>True</td>\n",
       "      <td>NaN</td>\n",
       "      <td>NaN</td>\n",
       "      <td>NaN</td>\n",
       "      <td>6</td>\n",
       "      <td>6.0</td>\n",
       "      <td>0.166667</td>\n",
       "      <td>4</td>\n",
       "      <td>1.0</td>\n",
       "      <td>1.0</td>\n",
       "      <td>4</td>\n",
       "      <td>0.333333</td>\n",
       "      <td>0.2</td>\n",
       "      <td>0.0</td>\n",
       "    </tr>\n",
       "    <tr>\n",
       "      <th>3</th>\n",
       "      <td>3</td>\n",
       "      <td>23.0</td>\n",
       "      <td>therussophileorg</td>\n",
       "      <td>2095707</td>\n",
       "      <td>Head of the Hydra: the Rise of Robert Kadlec, ...</td>\n",
       "      <td>2020-05-14</td>\n",
       "      <td>True</td>\n",
       "      <td>NaN</td>\n",
       "      <td>NaN</td>\n",
       "      <td>NaN</td>\n",
       "      <td>6</td>\n",
       "      <td>6.0</td>\n",
       "      <td>0.166667</td>\n",
       "      <td>4</td>\n",
       "      <td>1.0</td>\n",
       "      <td>0.0</td>\n",
       "      <td>4</td>\n",
       "      <td>0.0</td>\n",
       "      <td>0.0</td>\n",
       "      <td>NaN</td>\n",
       "    </tr>\n",
       "    <tr>\n",
       "      <th>4</th>\n",
       "      <td>4</td>\n",
       "      <td>23.0</td>\n",
       "      <td>therussophileorg</td>\n",
       "      <td>2096002</td>\n",
       "      <td>The Head of the Hydra: Rise of Robert Kadlec</td>\n",
       "      <td>2020-05-18</td>\n",
       "      <td>True</td>\n",
       "      <td>NaN</td>\n",
       "      <td>NaN</td>\n",
       "      <td>NaN</td>\n",
       "      <td>6</td>\n",
       "      <td>6.0</td>\n",
       "      <td>0.166667</td>\n",
       "      <td>4</td>\n",
       "      <td>1.0</td>\n",
       "      <td>4.0</td>\n",
       "      <td>4</td>\n",
       "      <td>0.666667</td>\n",
       "      <td>0.8</td>\n",
       "      <td>NaN</td>\n",
       "    </tr>\n",
       "    <tr>\n",
       "      <th>...</th>\n",
       "      <td>...</td>\n",
       "      <td>...</td>\n",
       "      <td>...</td>\n",
       "      <td>...</td>\n",
       "      <td>...</td>\n",
       "      <td>...</td>\n",
       "      <td>...</td>\n",
       "      <td>...</td>\n",
       "      <td>...</td>\n",
       "      <td>...</td>\n",
       "      <td>...</td>\n",
       "      <td>...</td>\n",
       "      <td>...</td>\n",
       "      <td>...</td>\n",
       "      <td>...</td>\n",
       "      <td>...</td>\n",
       "      <td>...</td>\n",
       "      <td>...</td>\n",
       "      <td>...</td>\n",
       "      <td>...</td>\n",
       "    </tr>\n",
       "    <tr>\n",
       "      <th>61153</th>\n",
       "      <td>61051</td>\n",
       "      <td>208813.0</td>\n",
       "      <td>pinknewsuk</td>\n",
       "      <td>2822767</td>\n",
       "      <td>Chicago’s Black lesbian mayor has one thing to...</td>\n",
       "      <td>2020-05-31</td>\n",
       "      <td>True</td>\n",
       "      <td>NaN</td>\n",
       "      <td>NaN</td>\n",
       "      <td>NaN</td>\n",
       "      <td>15</td>\n",
       "      <td>13.0</td>\n",
       "      <td>0.133333</td>\n",
       "      <td>12</td>\n",
       "      <td>1.0</td>\n",
       "      <td>2.0</td>\n",
       "      <td>5</td>\n",
       "      <td>0.5</td>\n",
       "      <td>0.166667</td>\n",
       "      <td>2.0</td>\n",
       "    </tr>\n",
       "    <tr>\n",
       "      <th>61154</th>\n",
       "      <td>61052</td>\n",
       "      <td>208813.0</td>\n",
       "      <td>thepoliticalinsider</td>\n",
       "      <td>2828392</td>\n",
       "      <td>Chicago Mayor Lori Lightfoot Sends Brutal Mess...</td>\n",
       "      <td>2020-05-30</td>\n",
       "      <td>True</td>\n",
       "      <td>NaN</td>\n",
       "      <td>NaN</td>\n",
       "      <td>NaN</td>\n",
       "      <td>15</td>\n",
       "      <td>13.0</td>\n",
       "      <td>0.133333</td>\n",
       "      <td>12</td>\n",
       "      <td>1.0</td>\n",
       "      <td>1.0</td>\n",
       "      <td>5</td>\n",
       "      <td>0.25</td>\n",
       "      <td>0.083333</td>\n",
       "      <td>1.0</td>\n",
       "    </tr>\n",
       "    <tr>\n",
       "      <th>61155</th>\n",
       "      <td>61053</td>\n",
       "      <td>208813.0</td>\n",
       "      <td>foxnews</td>\n",
       "      <td>2867129</td>\n",
       "      <td>Chicago mayor tells Trump 'F-U' after tweet ab...</td>\n",
       "      <td>2020-05-30</td>\n",
       "      <td>True</td>\n",
       "      <td>NaN</td>\n",
       "      <td>NaN</td>\n",
       "      <td>NaN</td>\n",
       "      <td>15</td>\n",
       "      <td>13.0</td>\n",
       "      <td>0.133333</td>\n",
       "      <td>12</td>\n",
       "      <td>1.0</td>\n",
       "      <td>1.0</td>\n",
       "      <td>5</td>\n",
       "      <td>0.25</td>\n",
       "      <td>0.083333</td>\n",
       "      <td>0.0</td>\n",
       "    </tr>\n",
       "    <tr>\n",
       "      <th>61156</th>\n",
       "      <td>61054</td>\n",
       "      <td>208813.0</td>\n",
       "      <td>thelibertydaily</td>\n",
       "      <td>3010592</td>\n",
       "      <td>Communist Chicago Mayor Lori Lightfoot Says Sh...</td>\n",
       "      <td>2020-05-30</td>\n",
       "      <td>True</td>\n",
       "      <td>NaN</td>\n",
       "      <td>NaN</td>\n",
       "      <td>NaN</td>\n",
       "      <td>15</td>\n",
       "      <td>13.0</td>\n",
       "      <td>0.133333</td>\n",
       "      <td>12</td>\n",
       "      <td>1.0</td>\n",
       "      <td>1.0</td>\n",
       "      <td>5</td>\n",
       "      <td>0.25</td>\n",
       "      <td>0.083333</td>\n",
       "      <td>0.0</td>\n",
       "    </tr>\n",
       "    <tr>\n",
       "      <th>61157</th>\n",
       "      <td>61055</td>\n",
       "      <td>208813.0</td>\n",
       "      <td>lawenforcementtoday</td>\n",
       "      <td>3165326</td>\n",
       "      <td>While her city burns, Chicago mayor publicly s...</td>\n",
       "      <td>2020-05-31</td>\n",
       "      <td>True</td>\n",
       "      <td>NaN</td>\n",
       "      <td>NaN</td>\n",
       "      <td>NaN</td>\n",
       "      <td>15</td>\n",
       "      <td>13.0</td>\n",
       "      <td>0.133333</td>\n",
       "      <td>12</td>\n",
       "      <td>1.0</td>\n",
       "      <td>2.0</td>\n",
       "      <td>5</td>\n",
       "      <td>0.5</td>\n",
       "      <td>0.166667</td>\n",
       "      <td>0.0</td>\n",
       "    </tr>\n",
       "  </tbody>\n",
       "</table>\n",
       "<p>61158 rows × 20 columns</p>\n",
       "</div>"
      ],
      "text/plain": [
       "       index  clustNum               source      key   \n",
       "0          0      23.0          lewrockwell  1446596  \\\n",
       "1          1      23.0       freedom-bunker  1451494   \n",
       "2          2      23.0        mintpressnews  1591484   \n",
       "3          3      23.0     therussophileorg  2095707   \n",
       "4          4      23.0     therussophileorg  2096002   \n",
       "...      ...       ...                  ...      ...   \n",
       "61153  61051  208813.0           pinknewsuk  2822767   \n",
       "61154  61052  208813.0  thepoliticalinsider  2828392   \n",
       "61155  61053  208813.0              foxnews  2867129   \n",
       "61156  61054  208813.0      thelibertydaily  3010592   \n",
       "61157  61055  208813.0  lawenforcementtoday  3165326   \n",
       "\n",
       "                                                   title       date national   \n",
       "0      Head of the Vaccine Hydra: The Rise of Robert ... 2020-05-19     True  \\\n",
       "1      Head of the Vaccine Hydra: The Rise of Robert ... 2020-05-19     True   \n",
       "2           Head of the Hydra: The Rise of Robert Kadlec 2020-05-15     True   \n",
       "3      Head of the Hydra: the Rise of Robert Kadlec, ... 2020-05-14     True   \n",
       "4           The Head of the Hydra: Rise of Robert Kadlec 2020-05-18     True   \n",
       "...                                                  ...        ...      ...   \n",
       "61153  Chicago’s Black lesbian mayor has one thing to... 2020-05-31     True   \n",
       "61154  Chicago Mayor Lori Lightfoot Sends Brutal Mess... 2020-05-30     True   \n",
       "61155  Chicago mayor tells Trump 'F-U' after tweet ab... 2020-05-30     True   \n",
       "61156  Communist Chicago Mayor Lori Lightfoot Says Sh... 2020-05-30     True   \n",
       "61157  While her city burns, Chicago mayor publicly s... 2020-05-31     True   \n",
       "\n",
       "      median_hh_inc rural_pct total_population  clustSize  duration   \n",
       "0               NaN       NaN              NaN          6       6.0  \\\n",
       "1               NaN       NaN              NaN          6       6.0   \n",
       "2               NaN       NaN              NaN          6       6.0   \n",
       "3               NaN       NaN              NaN          6       6.0   \n",
       "4               NaN       NaN              NaN          6       6.0   \n",
       "...             ...       ...              ...        ...       ...   \n",
       "61153           NaN       NaN              NaN         15      13.0   \n",
       "61154           NaN       NaN              NaN         15      13.0   \n",
       "61155           NaN       NaN              NaN         15      13.0   \n",
       "61156           NaN       NaN              NaN         15      13.0   \n",
       "61157           NaN       NaN              NaN         15      13.0   \n",
       "\n",
       "       dayOnePercent  outletCount  natPercent storyDay  uniqueDays   \n",
       "0           0.166667            4         1.0      5.0           4  \\\n",
       "1           0.166667            4         1.0      5.0           4   \n",
       "2           0.166667            4         1.0      1.0           4   \n",
       "3           0.166667            4         1.0      0.0           4   \n",
       "4           0.166667            4         1.0      4.0           4   \n",
       "...              ...          ...         ...      ...         ...   \n",
       "61153       0.133333           12         1.0      2.0           5   \n",
       "61154       0.133333           12         1.0      1.0           5   \n",
       "61155       0.133333           12         1.0      1.0           5   \n",
       "61156       0.133333           12         1.0      1.0           5   \n",
       "61157       0.133333           12         1.0      2.0           5   \n",
       "\n",
       "      storyPropCount storyPropDays  veracityScore  \n",
       "0                1.0           1.0            0.0  \n",
       "1                1.0           1.0            NaN  \n",
       "2           0.333333           0.2            0.0  \n",
       "3                0.0           0.0            NaN  \n",
       "4           0.666667           0.8            NaN  \n",
       "...              ...           ...            ...  \n",
       "61153            0.5      0.166667            2.0  \n",
       "61154           0.25      0.083333            1.0  \n",
       "61155           0.25      0.083333            0.0  \n",
       "61156           0.25      0.083333            0.0  \n",
       "61157            0.5      0.166667            0.0  \n",
       "\n",
       "[61158 rows x 20 columns]"
      ]
     },
     "execution_count": 1016,
     "metadata": {},
     "output_type": "execute_result"
    }
   ],
   "source": [
    "fourtyLong[]"
   ]
  },
  {
   "cell_type": "code",
   "execution_count": null,
   "metadata": {},
   "outputs": [],
   "source": []
  }
 ],
 "metadata": {
  "kernelspec": {
   "display_name": "Python 3",
   "language": "python",
   "name": "python3"
  },
  "language_info": {
   "codemirror_mode": {
    "name": "ipython",
    "version": 3
   },
   "file_extension": ".py",
   "mimetype": "text/x-python",
   "name": "python",
   "nbconvert_exporter": "python",
   "pygments_lexer": "ipython3",
   "version": "3.8.5"
  }
 },
 "nbformat": 4,
 "nbformat_minor": 4
}
