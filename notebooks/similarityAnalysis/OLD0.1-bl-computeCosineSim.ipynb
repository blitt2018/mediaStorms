{
 "cells": [
  {
   "cell_type": "code",
   "execution_count": 10,
   "metadata": {},
   "outputs": [],
   "source": [
    "import pandas as pd\n",
    "from tqdm.notebook import tqdm \n",
    "from multiprocessing import Pool \n",
    "from scipy.spatial import distance \n",
    "import numpy as np"
   ]
  },
  {
   "cell_type": "markdown",
   "metadata": {},
   "source": [
    "## First step is to load very large pickle file \n",
    "This file contains ~1.3 billion rows "
   ]
  },
  {
   "cell_type": "code",
   "execution_count": null,
   "metadata": {},
   "outputs": [],
   "source": [
    "OUT_PATH = \"/shared/3/projects/newsDiffusion/data/interim/NEREmbedding/embeddingPairSimilarity2020.pkl\""
   ]
  },
  {
   "cell_type": "code",
   "execution_count": 2,
   "metadata": {},
   "outputs": [],
   "source": [
    "#load pairs that were generated from entity clustering \n",
    "pairDf = pd.read_pickle(\"/shared/3/projects/newsDiffusion/data/interim/NEREmbedding/entityPairs2020.pkl\")"
   ]
  },
  {
   "cell_type": "code",
   "execution_count": 11,
   "metadata": {},
   "outputs": [
    {
     "name": "stdout",
     "output_type": "stream",
     "text": [
      "starting similarity calculations\n"
     ]
    },
    {
     "data": {
      "application/vnd.jupyter.widget-view+json": {
       "model_id": "afcebd70b4154bd5930df5d88017d2e0",
       "version_major": 2,
       "version_minor": 0
      },
      "text/plain": [
       "  0%|          | 0/10 [00:00<?, ?it/s]"
      ]
     },
     "metadata": {},
     "output_type": "display_data"
    },
    {
     "name": "stderr",
     "output_type": "stream",
     "text": [
      "<ipython-input-11-d3f92447073f>:18: SettingWithCopyWarning: \n",
      "A value is trying to be set on a copy of a slice from a DataFrame.\n",
      "Try using .loc[row_indexer,col_indexer] = value instead\n",
      "\n",
      "See the caveats in the documentation: https://pandas.pydata.org/pandas-docs/stable/user_guide/indexing.html#returning-a-view-versus-a-copy\n",
      "  testDf[\"similarity\"] = similarity\n"
     ]
    }
   ],
   "source": [
    "def getCos(inList): \n",
    "    return 1 - distance.cosine(inList[0], inList[1])\n",
    "\n",
    "def getCosSeries(inSeries): \n",
    "    return inSeries.apply(getCos)\n",
    "\n",
    "#tqdm.pandas()\n",
    "#exploded.head(1000000)[\"embedding\"].progress_map(getCos)\n",
    "\n",
    "embeddings = pairDf[\"embedding\"]\n",
    "\n",
    "print(\"starting similarity calculations\")\n",
    "with Pool(12) as pool: \n",
    "    print(\"splitting embedding list\")\n",
    "    splitList = np.array_split(embeddings, 10)\n",
    "    \n",
    "    print(\"getting similarity\")\n",
    "    similarityArrs = list(tqdm(pool.imap(getCosSeries, splitList), total=10))\n",
    "    \n",
    "    print(\"concatenating chunks together\")\n",
    "    similarity = pd.concat(similarityArrs)\n",
    "\n",
    "print(\"adding column to dataframe\")\n",
    "pairDf = pairDf.drop(columns=[\"embedding\"])\n",
    "pairDf[\"similarity\"] = similarity\n"
   ]
  },
  {
   "cell_type": "code",
   "execution_count": 16,
   "metadata": {},
   "outputs": [
    {
     "data": {
      "text/html": [
       "<div>\n",
       "<style scoped>\n",
       "    .dataframe tbody tr th:only-of-type {\n",
       "        vertical-align: middle;\n",
       "    }\n",
       "\n",
       "    .dataframe tbody tr th {\n",
       "        vertical-align: top;\n",
       "    }\n",
       "\n",
       "    .dataframe thead th {\n",
       "        text-align: right;\n",
       "    }\n",
       "</style>\n",
       "<table border=\"1\" class=\"dataframe\">\n",
       "  <thead>\n",
       "    <tr style=\"text-align: right;\">\n",
       "      <th></th>\n",
       "      <th>ent_type</th>\n",
       "      <th>entity</th>\n",
       "      <th>key1</th>\n",
       "      <th>key2</th>\n",
       "      <th>similarity</th>\n",
       "    </tr>\n",
       "  </thead>\n",
       "  <tbody>\n",
       "    <tr>\n",
       "      <th>0</th>\n",
       "      <td>event</td>\n",
       "      <td>america first</td>\n",
       "      <td>1727985</td>\n",
       "      <td>1728036</td>\n",
       "      <td>0.985507</td>\n",
       "    </tr>\n",
       "    <tr>\n",
       "      <th>1</th>\n",
       "      <td>event</td>\n",
       "      <td>america first</td>\n",
       "      <td>1727985</td>\n",
       "      <td>2003441</td>\n",
       "      <td>0.228275</td>\n",
       "    </tr>\n",
       "    <tr>\n",
       "      <th>2</th>\n",
       "      <td>event</td>\n",
       "      <td>america first</td>\n",
       "      <td>1727985</td>\n",
       "      <td>2003468</td>\n",
       "      <td>0.216420</td>\n",
       "    </tr>\n",
       "    <tr>\n",
       "      <th>3</th>\n",
       "      <td>event</td>\n",
       "      <td>america first</td>\n",
       "      <td>1727985</td>\n",
       "      <td>2613520</td>\n",
       "      <td>0.238758</td>\n",
       "    </tr>\n",
       "    <tr>\n",
       "      <th>4</th>\n",
       "      <td>event</td>\n",
       "      <td>america first</td>\n",
       "      <td>1727985</td>\n",
       "      <td>2660920</td>\n",
       "      <td>0.257908</td>\n",
       "    </tr>\n",
       "    <tr>\n",
       "      <th>...</th>\n",
       "      <td>...</td>\n",
       "      <td>...</td>\n",
       "      <td>...</td>\n",
       "      <td>...</td>\n",
       "      <td>...</td>\n",
       "    </tr>\n",
       "    <tr>\n",
       "      <th>50014</th>\n",
       "      <td>event</td>\n",
       "      <td>a civil war</td>\n",
       "      <td>2096287</td>\n",
       "      <td>2298235</td>\n",
       "      <td>0.177401</td>\n",
       "    </tr>\n",
       "    <tr>\n",
       "      <th>50015</th>\n",
       "      <td>event</td>\n",
       "      <td>a civil war</td>\n",
       "      <td>2096287</td>\n",
       "      <td>2331446</td>\n",
       "      <td>0.139892</td>\n",
       "    </tr>\n",
       "    <tr>\n",
       "      <th>50016</th>\n",
       "      <td>event</td>\n",
       "      <td>a civil war</td>\n",
       "      <td>2096287</td>\n",
       "      <td>2350830</td>\n",
       "      <td>0.168434</td>\n",
       "    </tr>\n",
       "    <tr>\n",
       "      <th>50017</th>\n",
       "      <td>event</td>\n",
       "      <td>a civil war</td>\n",
       "      <td>2096287</td>\n",
       "      <td>2362779</td>\n",
       "      <td>0.075460</td>\n",
       "    </tr>\n",
       "    <tr>\n",
       "      <th>50018</th>\n",
       "      <td>event</td>\n",
       "      <td>a civil war</td>\n",
       "      <td>2096287</td>\n",
       "      <td>2366144</td>\n",
       "      <td>0.125611</td>\n",
       "    </tr>\n",
       "  </tbody>\n",
       "</table>\n",
       "<p>50000 rows × 5 columns</p>\n",
       "</div>"
      ],
      "text/plain": [
       "      ent_type          entity     key1     key2  similarity\n",
       "0        event   america first  1727985  1728036    0.985507\n",
       "1        event   america first  1727985  2003441    0.228275\n",
       "2        event   america first  1727985  2003468    0.216420\n",
       "3        event   america first  1727985  2613520    0.238758\n",
       "4        event   america first  1727985  2660920    0.257908\n",
       "...        ...             ...      ...      ...         ...\n",
       "50014    event     a civil war  2096287  2298235    0.177401\n",
       "50015    event     a civil war  2096287  2331446    0.139892\n",
       "50016    event     a civil war  2096287  2350830    0.168434\n",
       "50017    event     a civil war  2096287  2362779    0.075460\n",
       "50018    event     a civil war  2096287  2366144    0.125611\n",
       "\n",
       "[50000 rows x 5 columns]"
      ]
     },
     "execution_count": 16,
     "metadata": {},
     "output_type": "execute_result"
    }
   ],
   "source": [
    "pairDf.to_pickle(OUT_PATH)"
   ]
  }
 ],
 "metadata": {
  "kernelspec": {
   "display_name": "Python 3",
   "language": "python",
   "name": "python3"
  },
  "language_info": {
   "codemirror_mode": {
    "name": "ipython",
    "version": 3
   },
   "file_extension": ".py",
   "mimetype": "text/x-python",
   "name": "python",
   "nbconvert_exporter": "python",
   "pygments_lexer": "ipython3",
   "version": "3.8.5"
  }
 },
 "nbformat": 4,
 "nbformat_minor": 4
}
