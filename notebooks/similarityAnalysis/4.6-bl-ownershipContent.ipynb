{
 "cells": [
  {
   "cell_type": "code",
   "execution_count": 21,
   "metadata": {},
   "outputs": [],
   "source": [
    "import pandas as pd\n",
    "import numpy as np\n",
    "import seaborn as sns\n",
    "import matplotlib.pyplot as plt"
   ]
  },
  {
   "cell_type": "code",
   "execution_count": 2,
   "metadata": {},
   "outputs": [],
   "source": [
    "veracityDf = pd.read_csv(\"/shared/3/projects/newsDiffusion/data/raw/NELA-gt-2020/labels.csv\")"
   ]
  },
  {
   "cell_type": "code",
   "execution_count": 4,
   "metadata": {},
   "outputs": [
    {
     "data": {
      "text/html": [
       "<div>\n",
       "<style scoped>\n",
       "    .dataframe tbody tr th:only-of-type {\n",
       "        vertical-align: middle;\n",
       "    }\n",
       "\n",
       "    .dataframe tbody tr th {\n",
       "        vertical-align: top;\n",
       "    }\n",
       "\n",
       "    .dataframe thead th {\n",
       "        text-align: right;\n",
       "    }\n",
       "</style>\n",
       "<table border=\"1\" class=\"dataframe\">\n",
       "  <thead>\n",
       "    <tr style=\"text-align: right;\">\n",
       "      <th></th>\n",
       "      <th>source</th>\n",
       "      <th>label</th>\n",
       "    </tr>\n",
       "  </thead>\n",
       "  <tbody>\n",
       "    <tr>\n",
       "      <th>0</th>\n",
       "      <td>adweek</td>\n",
       "      <td>0</td>\n",
       "    </tr>\n",
       "    <tr>\n",
       "      <th>1</th>\n",
       "      <td>airwars</td>\n",
       "      <td>0</td>\n",
       "    </tr>\n",
       "    <tr>\n",
       "      <th>2</th>\n",
       "      <td>bangkokpost</td>\n",
       "      <td>0</td>\n",
       "    </tr>\n",
       "  </tbody>\n",
       "</table>\n",
       "</div>"
      ],
      "text/plain": [
       "        source  label\n",
       "0       adweek      0\n",
       "1      airwars      0\n",
       "2  bangkokpost      0"
      ]
     },
     "execution_count": 4,
     "metadata": {},
     "output_type": "execute_result"
    }
   ],
   "source": [
    "veracityDf.head(3)"
   ]
  },
  {
   "cell_type": "code",
   "execution_count": 5,
   "metadata": {},
   "outputs": [],
   "source": [
    "ownership = pd.read_csv(\"/shared/3/projects/newsDiffusion/data/processed/ownership/infoboxUNCOwnership.csv\").rename(columns={\"ogName\":\"source\"})"
   ]
  },
  {
   "cell_type": "code",
   "execution_count": 10,
   "metadata": {},
   "outputs": [
    {
     "data": {
      "text/html": [
       "<div>\n",
       "<style scoped>\n",
       "    .dataframe tbody tr th:only-of-type {\n",
       "        vertical-align: middle;\n",
       "    }\n",
       "\n",
       "    .dataframe tbody tr th {\n",
       "        vertical-align: top;\n",
       "    }\n",
       "\n",
       "    .dataframe thead th {\n",
       "        text-align: right;\n",
       "    }\n",
       "</style>\n",
       "<table border=\"1\" class=\"dataframe\">\n",
       "  <thead>\n",
       "    <tr style=\"text-align: right;\">\n",
       "      <th></th>\n",
       "      <th>Unnamed: 0</th>\n",
       "      <th>source</th>\n",
       "      <th>pName</th>\n",
       "      <th>search result</th>\n",
       "      <th>WikiOwner</th>\n",
       "      <th>UNCOwner</th>\n",
       "      <th>mergedOwner</th>\n",
       "      <th>cleanedOwner</th>\n",
       "    </tr>\n",
       "  </thead>\n",
       "  <tbody>\n",
       "    <tr>\n",
       "      <th>0</th>\n",
       "      <td>0</td>\n",
       "      <td>andalusiastarnews</td>\n",
       "      <td>andalusia star news</td>\n",
       "      <td>Andalusia Star News</td>\n",
       "      <td>Boone Newspapers</td>\n",
       "      <td>Boone Newspapers</td>\n",
       "      <td>Boone Newspapers</td>\n",
       "      <td>Boone Newspapers</td>\n",
       "    </tr>\n",
       "  </tbody>\n",
       "</table>\n",
       "</div>"
      ],
      "text/plain": [
       "   Unnamed: 0             source                pName        search result   \n",
       "0           0  andalusiastarnews  andalusia star news  Andalusia Star News  \\\n",
       "\n",
       "          WikiOwner          UNCOwner       mergedOwner      cleanedOwner  \n",
       "0  Boone Newspapers  Boone Newspapers  Boone Newspapers  Boone Newspapers  "
      ]
     },
     "execution_count": 10,
     "metadata": {},
     "output_type": "execute_result"
    }
   ],
   "source": [
    "ownership.head(1)"
   ]
  },
  {
   "cell_type": "code",
   "execution_count": 16,
   "metadata": {},
   "outputs": [
    {
     "name": "stderr",
     "output_type": "stream",
     "text": [
      "<ipython-input-16-0d2084b2e61c>:6: DtypeWarning: Columns (2,3,10,11,13,14,17,39,40,41) have mixed types. Specify dtype option on import or set low_memory=False.\n",
      "  merged = pd.read_csv(IN_PATH, sep=\"\\t\")\n"
     ]
    }
   ],
   "source": [
    "IN_PATH = \"/shared/3/projects/newsDiffusion/data/processed/fullDataWithClustNums.tsv\"\n",
    "\n",
    "#we are bringing in the data with demographic information and cluster ids \n",
    "#hence, merged\n",
    "#MVP path merged = pd.read_csv(\"/shared/3/prohttps://eribean.github.io/girth/docs/quickstart/quickstart/jects/benlitterer/localNews/data/interim/SingleNE_85_clustered.tsv\", sep=\"\\t\")\n",
    "merged = pd.read_csv(IN_PATH, sep=\"\\t\")\n",
    "merged = merged.dropna(subset=[\"clustNum\"])"
   ]
  },
  {
   "cell_type": "code",
   "execution_count": 17,
   "metadata": {},
   "outputs": [
    {
     "data": {
      "text/html": [
       "<div>\n",
       "<style scoped>\n",
       "    .dataframe tbody tr th:only-of-type {\n",
       "        vertical-align: middle;\n",
       "    }\n",
       "\n",
       "    .dataframe tbody tr th {\n",
       "        vertical-align: top;\n",
       "    }\n",
       "\n",
       "    .dataframe thead th {\n",
       "        text-align: right;\n",
       "    }\n",
       "</style>\n",
       "<table border=\"1\" class=\"dataframe\">\n",
       "  <thead>\n",
       "    <tr style=\"text-align: right;\">\n",
       "      <th></th>\n",
       "      <th>Unnamed: 0</th>\n",
       "      <th>key</th>\n",
       "      <th>local_id</th>\n",
       "      <th>sourcedomain_id</th>\n",
       "      <th>date</th>\n",
       "      <th>title</th>\n",
       "      <th>content</th>\n",
       "      <th>url</th>\n",
       "      <th>fips</th>\n",
       "      <th>source</th>\n",
       "      <th>...</th>\n",
       "      <th>predrt_12</th>\n",
       "      <th>predrt_3</th>\n",
       "      <th>national</th>\n",
       "      <th>id</th>\n",
       "      <th>author</th>\n",
       "      <th>published</th>\n",
       "      <th>published_utc</th>\n",
       "      <th>collection_utc</th>\n",
       "      <th>year</th>\n",
       "      <th>clustNum</th>\n",
       "    </tr>\n",
       "  </thead>\n",
       "  <tbody>\n",
       "    <tr>\n",
       "      <th>2</th>\n",
       "      <td>2</td>\n",
       "      <td>2</td>\n",
       "      <td>andalusiastarnews--2020-04-04--Governor issues...</td>\n",
       "      <td>andalusiastarnews-andalusiastarnews.com</td>\n",
       "      <td>2020-04-04</td>\n",
       "      <td>Governor issues stay at home order</td>\n",
       "      <td>Governor Kay Ivey announced that a stay at hom...</td>\n",
       "      <td>https://www.andalusiastarnews.com/2020/04/03/g...</td>\n",
       "      <td>1039.0</td>\n",
       "      <td>andalusiastarnews</td>\n",
       "      <td>...</td>\n",
       "      <td>44.15</td>\n",
       "      <td>30.8</td>\n",
       "      <td>False</td>\n",
       "      <td>NaN</td>\n",
       "      <td>NaN</td>\n",
       "      <td>NaN</td>\n",
       "      <td>NaN</td>\n",
       "      <td>NaN</td>\n",
       "      <td>2020</td>\n",
       "      <td>7.0</td>\n",
       "    </tr>\n",
       "  </tbody>\n",
       "</table>\n",
       "<p>1 rows × 46 columns</p>\n",
       "</div>"
      ],
      "text/plain": [
       "   Unnamed: 0  key                                           local_id   \n",
       "2           2    2  andalusiastarnews--2020-04-04--Governor issues...  \\\n",
       "\n",
       "                           sourcedomain_id        date   \n",
       "2  andalusiastarnews-andalusiastarnews.com  2020-04-04  \\\n",
       "\n",
       "                                title   \n",
       "2  Governor issues stay at home order  \\\n",
       "\n",
       "                                             content   \n",
       "2  Governor Kay Ivey announced that a stay at hom...  \\\n",
       "\n",
       "                                                 url    fips   \n",
       "2  https://www.andalusiastarnews.com/2020/04/03/g...  1039.0  \\\n",
       "\n",
       "              source  ... predrt_12 predrt_3  national   id author  published   \n",
       "2  andalusiastarnews  ...     44.15     30.8     False  NaN    NaN        NaN  \\\n",
       "\n",
       "   published_utc collection_utc  year  clustNum  \n",
       "2            NaN            NaN  2020       7.0  \n",
       "\n",
       "[1 rows x 46 columns]"
      ]
     },
     "execution_count": 17,
     "metadata": {},
     "output_type": "execute_result"
    }
   ],
   "source": [
    "merged.head(1)"
   ]
  },
  {
   "cell_type": "code",
   "execution_count": 18,
   "metadata": {},
   "outputs": [],
   "source": [
    "#bring in the ownership info \n",
    "merged = pd.merge(merged, ownership[[\"source\", \"search result\", \"cleanedOwner\"]], on=\"source\", how=\"left\")\n",
    "\n",
    "#bring in veracity labels \n",
    "merged = pd.merge(merged, veracityDf, on=\"source\", how=\"left\")"
   ]
  },
  {
   "cell_type": "code",
   "execution_count": 20,
   "metadata": {},
   "outputs": [],
   "source": [
    "#bring in topic information \n",
    "docTopics = pd.read_csv(\"/shared/3/projects/newsDiffusion/data/interim/topicModelling/doc_topics.txt\", sep=\"\\t\")\n",
    "docTopics.columns = [\"index\", \"key\"] + [\"Topic\" + str(i) for i in range(40)]\n",
    "merged = pd.merge(merged, docTopics, on=\"key\", how=\"left\")"
   ]
  },
  {
   "cell_type": "code",
   "execution_count": 61,
   "metadata": {},
   "outputs": [],
   "source": [
    "clustSizes = merged[[\"clustNum\", \"national\"]].groupby(\"clustNum\").agg(len).rename(columns={\"national\":\"clustSize\"}).reset_index()\n",
    "merged = pd.merge(merged, clustSizes, on=\"clustNum\", how=\"left\")"
   ]
  },
  {
   "cell_type": "code",
   "execution_count": 62,
   "metadata": {},
   "outputs": [],
   "source": [
    "merged = merged[merged[\"clustSize\"] < 3000]"
   ]
  },
  {
   "cell_type": "markdown",
   "metadata": {},
   "source": [
    "## H1: do papers owned by conglomerates spread more mis/dis-info "
   ]
  },
  {
   "cell_type": "code",
   "execution_count": 24,
   "metadata": {},
   "outputs": [],
   "source": [
    "merged = merged.rename(columns={\"label\":\"veracityLabel\"})"
   ]
  },
  {
   "cell_type": "code",
   "execution_count": 63,
   "metadata": {},
   "outputs": [],
   "source": [
    "#first we need to get % coverage for each story cluster\n",
    "clustVeracities = merged.dropna(subset=\"veracityLabel\")[[\"veracityLabel\",\"clustNum\"]].groupby(\"clustNum\").agg(np.mean).reset_index()\n",
    "clustVeracities = clustVeracities.rename(columns={\"veracityLabel\":\"clustVeracity\"})"
   ]
  },
  {
   "cell_type": "code",
   "execution_count": 64,
   "metadata": {},
   "outputs": [
    {
     "data": {
      "text/plain": [
       "<Axes: xlabel='clustVeracity', ylabel='Density'>"
      ]
     },
     "execution_count": 64,
     "metadata": {},
     "output_type": "execute_result"
    },
    {
     "data": {
      "image/png": "[encoded data removed]",
      "text/plain": [
       "<Figure size 432x288 with 1 Axes>"
      ]
     },
     "metadata": {
      "needs_background": "light"
     },
     "output_type": "display_data"
    }
   ],
   "source": [
    "#look at the distribution of cluster-averaged veracity labels \n",
    "sns.kdeplot(clustVeracities[\"clustVeracity\"])"
   ]
  },
  {
   "cell_type": "code",
   "execution_count": 65,
   "metadata": {},
   "outputs": [],
   "source": [
    "\"\"\"\n",
    "0 - Reliable \n",
    "1 - Mixed\n",
    "2 - Unreliable \n",
    "\"\"\"\n",
    "\n",
    "# merge the cluster-level average veracity\n",
    "# clusters with no veracity score don't matter/count\n",
    "# only want to look at local papers, since we are intersted in ownership / overlap w / national \n",
    "vLabeled = pd.merge(merged, clustVeracities, on=\"clustNum\", how=\"left\").dropna(subset = \"clustVeracity\")\n",
    "vLabeled = vLabeled[vLabeled[\"national\"] == False]"
   ]
  },
  {
   "cell_type": "code",
   "execution_count": 222,
   "metadata": {},
   "outputs": [],
   "source": [
    "#now we need to assign labels based on the ownership of local papers \n",
    "#figure out which outlets are owned by larger firms\n",
    "ownershipCounts = ownership[[\"source\", \"cleanedOwner\"]].groupby(\"cleanedOwner\").agg(len).sort_values(\"source\", ascending=False)\n",
    "ownershipCounts = ownershipCounts[ownershipCounts[\"source\"] >= 2]\n",
    "topOwners = list(ownershipCounts.index)\n",
    "\n",
    "vLabeled[\"largeOwner\"] = vLabeled[\"cleanedOwner\"].isin(topOwners)"
   ]
  },
  {
   "cell_type": "code",
   "execution_count": 223,
   "metadata": {},
   "outputs": [
    {
     "data": {
      "text/html": [
       "<div>\n",
       "<style scoped>\n",
       "    .dataframe tbody tr th:only-of-type {\n",
       "        vertical-align: middle;\n",
       "    }\n",
       "\n",
       "    .dataframe tbody tr th {\n",
       "        vertical-align: top;\n",
       "    }\n",
       "\n",
       "    .dataframe thead th {\n",
       "        text-align: right;\n",
       "    }\n",
       "</style>\n",
       "<table border=\"1\" class=\"dataframe\">\n",
       "  <thead>\n",
       "    <tr style=\"text-align: right;\">\n",
       "      <th></th>\n",
       "      <th>source</th>\n",
       "    </tr>\n",
       "    <tr>\n",
       "      <th>cleanedOwner</th>\n",
       "      <th></th>\n",
       "    </tr>\n",
       "  </thead>\n",
       "  <tbody>\n",
       "    <tr>\n",
       "      <th>Gannett</th>\n",
       "      <td>34</td>\n",
       "    </tr>\n",
       "    <tr>\n",
       "      <th>Boone Newspapers</th>\n",
       "      <td>13</td>\n",
       "    </tr>\n",
       "    <tr>\n",
       "      <th>Forum Communications</th>\n",
       "      <td>10</td>\n",
       "    </tr>\n",
       "    <tr>\n",
       "      <th>Digital First Media</th>\n",
       "      <td>10</td>\n",
       "    </tr>\n",
       "    <tr>\n",
       "      <th>Sound Publishing</th>\n",
       "      <td>9</td>\n",
       "    </tr>\n",
       "    <tr>\n",
       "      <th>AIM Media</th>\n",
       "      <td>7</td>\n",
       "    </tr>\n",
       "    <tr>\n",
       "      <th>Black Press Group</th>\n",
       "      <td>5</td>\n",
       "    </tr>\n",
       "    <tr>\n",
       "      <th>Morris Multimedia</th>\n",
       "      <td>5</td>\n",
       "    </tr>\n",
       "    <tr>\n",
       "      <th>Champion Media</th>\n",
       "      <td>4</td>\n",
       "    </tr>\n",
       "    <tr>\n",
       "      <th>Tribune/Digital First</th>\n",
       "      <td>3</td>\n",
       "    </tr>\n",
       "    <tr>\n",
       "      <th>Digital First</th>\n",
       "      <td>3</td>\n",
       "    </tr>\n",
       "    <tr>\n",
       "      <th>BridgeTower Media</th>\n",
       "      <td>2</td>\n",
       "    </tr>\n",
       "    <tr>\n",
       "      <th>Community Newspapers</th>\n",
       "      <td>2</td>\n",
       "    </tr>\n",
       "    <tr>\n",
       "      <th>Cherry Road Media</th>\n",
       "      <td>2</td>\n",
       "    </tr>\n",
       "    <tr>\n",
       "      <th>MaineToday</th>\n",
       "      <td>2</td>\n",
       "    </tr>\n",
       "    <tr>\n",
       "      <th>Ogden Newspapers</th>\n",
       "      <td>2</td>\n",
       "    </tr>\n",
       "    <tr>\n",
       "      <th>Specht Newspapers</th>\n",
       "      <td>2</td>\n",
       "    </tr>\n",
       "    <tr>\n",
       "      <th>McClatchy</th>\n",
       "      <td>2</td>\n",
       "    </tr>\n",
       "    <tr>\n",
       "      <th>Swift Newspapers</th>\n",
       "      <td>2</td>\n",
       "    </tr>\n",
       "  </tbody>\n",
       "</table>\n",
       "</div>"
      ],
      "text/plain": [
       "                       source\n",
       "cleanedOwner                 \n",
       "Gannett                    34\n",
       "Boone Newspapers           13\n",
       "Forum Communications       10\n",
       "Digital First Media        10\n",
       "Sound Publishing            9\n",
       "AIM Media                   7\n",
       "Black Press Group           5\n",
       "Morris Multimedia           5\n",
       "Champion Media              4\n",
       "Tribune/Digital First       3\n",
       "Digital First               3\n",
       "BridgeTower Media           2\n",
       "Community Newspapers        2\n",
       "Cherry Road Media           2\n",
       "MaineToday                  2\n",
       "Ogden Newspapers            2\n",
       "Specht Newspapers           2\n",
       "McClatchy                   2\n",
       "Swift Newspapers            2"
      ]
     },
     "execution_count": 223,
     "metadata": {},
     "output_type": "execute_result"
    }
   ],
   "source": [
    "ownershipCounts"
   ]
  },
  {
   "cell_type": "code",
   "execution_count": 234,
   "metadata": {},
   "outputs": [
    {
     "data": {
      "text/plain": [
       "0.10862619808306709"
      ]
     },
     "execution_count": 234,
     "metadata": {},
     "output_type": "execute_result"
    }
   ],
   "source": [
    "34 / 313"
   ]
  },
  {
   "cell_type": "code",
   "execution_count": 224,
   "metadata": {},
   "outputs": [
    {
     "data": {
      "text/plain": [
       "Text(0.5, 0, '<-- More reliable           Less Reliable -->')"
      ]
     },
     "execution_count": 224,
     "metadata": {},
     "output_type": "execute_result"
    },
    {
     "data": {
      "image/png": "[encoded data removed]",
      "text/plain": [
       "<Figure size 432x288 with 1 Axes>"
      ]
     },
     "metadata": {
      "needs_background": "light"
     },
     "output_type": "display_data"
    }
   ],
   "source": [
    "sns.kdeplot(x=\"clustVeracity\", hue=\"largeOwner\", common_norm=False, data=vLabeled)\n",
    "plt.title(\"Chain Ownership: Reporting of Mis/Disinfo\")\n",
    "plt.xlabel(\"<-- More reliable           Less Reliable -->\")"
   ]
  },
  {
   "cell_type": "code",
   "execution_count": 227,
   "metadata": {},
   "outputs": [
    {
     "data": {
      "text/plain": [
       "Text(0.5, 0, '<-- More reliable           Less Reliable -->')"
      ]
     },
     "execution_count": 227,
     "metadata": {},
     "output_type": "execute_result"
    },
    {
     "data": {
      "image/png": "[encoded data removed]",
      "text/plain": [
       "<Figure size 432x288 with 1 Axes>"
      ]
     },
     "metadata": {
      "needs_background": "light"
     },
     "output_type": "display_data"
    }
   ],
   "source": [
    "sns.histplot(x=\"clustVeracity\", hue=\"largeOwner\", common_norm=False, stat=\"density\", bins = 15, data=vLabeled)\n",
    "plt.title(\"Ownership and overlap with more/less reliable national news\")\n",
    "plt.xlabel(\"<-- More reliable           Less Reliable -->\")"
   ]
  },
  {
   "cell_type": "code",
   "execution_count": 108,
   "metadata": {},
   "outputs": [
    {
     "name": "stdout",
     "output_type": "stream",
     "text": [
      "Large Owner Mis/Disinfo Mean: 0.6513315244768965\n",
      "Large Owner Mis/Disinfo Median: 0.6538461538461539\n",
      "Non Large Owner Mis/Disinfo Mean: 0.6293244935866673\n",
      "Non Large Owner Mis/Disinfo Median: 0.6395759717314488\n",
      "from 113490 total articles and 26970 unique clusters\n"
     ]
    }
   ],
   "source": [
    "print(f'Large Owner Mis/Disinfo Mean: {np.mean(vLabeled.loc[vLabeled[\"largeOwner\"] == True, \"clustVeracity\"])}')\n",
    "print(f'Large Owner Mis/Disinfo Median: {np.median(vLabeled.loc[vLabeled[\"largeOwner\"] == True, \"clustVeracity\"])}')\n",
    "\n",
    "print(f'Non Large Owner Mis/Disinfo Mean: {np.mean(vLabeled.loc[vLabeled[\"largeOwner\"] == False, \"clustVeracity\"])}')\n",
    "print(f'Non Large Owner Mis/Disinfo Median: {np.median(vLabeled.loc[vLabeled[\"largeOwner\"] == False, \"clustVeracity\"])}')\n",
    "\n",
    "print(f'from {len(vLabeled)} total articles and {len(vLabeled[\"clustNum\"].unique())} unique clusters')"
   ]
  },
  {
   "cell_type": "code",
   "execution_count": 109,
   "metadata": {},
   "outputs": [],
   "source": [
    "vLabeled[\"GannettOwns\"] = vLabeled[\"cleanedOwner\"] == \"Gannett\""
   ]
  },
  {
   "cell_type": "code",
   "execution_count": 115,
   "metadata": {},
   "outputs": [
    {
     "data": {
      "text/plain": [
       "Text(0.5, 1.0, 'Ownership and overlap with more/less factual national news')"
      ]
     },
     "execution_count": 115,
     "metadata": {},
     "output_type": "execute_result"
    },
    {
     "data": {
      "image/png": "[encoded data removed]",
      "text/plain": [
       "<Figure size 432x288 with 1 Axes>"
      ]
     },
     "metadata": {
      "needs_background": "light"
     },
     "output_type": "display_data"
    }
   ],
   "source": [
    "sns.kdeplot(x=\"clustVeracity\", hue=\"GannettOwns\", common_norm=False, data=vLabeled)\n",
    "plt.title(\"Ownership and overlap with more/less factual national news\")"
   ]
  },
  {
   "cell_type": "code",
   "execution_count": 238,
   "metadata": {},
   "outputs": [
    {
     "data": {
      "text/plain": [
       "Text(0.5, 1.0, 'Ownership and overlap with more/less factual national news')"
      ]
     },
     "execution_count": 238,
     "metadata": {},
     "output_type": "execute_result"
    },
    {
     "data": {
      "image/png": "[encoded data removed]",
      "text/plain": [
       "<Figure size 432x288 with 1 Axes>"
      ]
     },
     "metadata": {
      "needs_background": "light"
     },
     "output_type": "display_data"
    }
   ],
   "source": [
    "sns.histplot(x=\"clustVeracity\", hue=\"GannettOwns\", common_norm=False, stat=\"density\", bins = 15, data=vLabeled)\n",
    "plt.xlabel(\"<-- More reliable           Less Reliable -->\")\n",
    "plt.axvline(.757, color=\"orange\")\n",
    "plt.axvline(.622)\n",
    "plt.title(\"Ownership and overlap with more/less factual national news\")"
   ]
  },
  {
   "cell_type": "code",
   "execution_count": 112,
   "metadata": {},
   "outputs": [
    {
     "name": "stdout",
     "output_type": "stream",
     "text": [
      "Gannett Mis/Disinfo Mean: 0.757612228578956\n",
      "Gannett Mis/Disinfo Median: 0.751207729468599\n",
      "Non-Gannett Mis/Disinfo Mean: 0.6221517970142101\n",
      "Non-Gannett Mis/Disinfo Median: 0.625\n",
      "from 113490 total articles and 26970 unique clusters\n"
     ]
    }
   ],
   "source": [
    "print(f'Gannett Mis/Disinfo Mean: {np.mean(vLabeled.loc[vLabeled[\"GannettOwns\"] == True, \"clustVeracity\"])}')\n",
    "print(f'Gannett Mis/Disinfo Median: {np.median(vLabeled.loc[vLabeled[\"GannettOwns\"] == True, \"clustVeracity\"])}')\n",
    "\n",
    "print(f'Non-Gannett Mis/Disinfo Mean: {np.mean(vLabeled.loc[vLabeled[\"GannettOwns\"] == False, \"clustVeracity\"])}')\n",
    "print(f'Non-Gannett Mis/Disinfo Median: {np.median(vLabeled.loc[vLabeled[\"GannettOwns\"] == False, \"clustVeracity\"])}')\n",
    "\n",
    "print(f'from {len(vLabeled)} total articles and {len(vLabeled[\"clustNum\"].unique())} unique clusters')"
   ]
  },
  {
   "cell_type": "markdown",
   "metadata": {},
   "source": [
    "## H2: which topics are more/less common in large-owner papers  "
   ]
  },
  {
   "cell_type": "code",
   "execution_count": 127,
   "metadata": {},
   "outputs": [],
   "source": [
    "## first we want to get average topic distributions at the cluster level \n",
    "topicCols = [\"Topic\" + str(i) for i in range(40)]\n",
    "topicAverages = merged[[\"clustNum\"] + topicCols].groupby(\"clustNum\").agg(np.mean).reset_index()\n",
    "\n",
    "topicAverages = pd.merge(merged[[\"clustNum\", \"national\", \"cleanedOwner\"]], topicAverages, on=\"clustNum\").reset_index()"
   ]
  },
  {
   "cell_type": "code",
   "execution_count": 128,
   "metadata": {},
   "outputs": [
    {
     "data": {
      "text/html": [
       "<div>\n",
       "<style scoped>\n",
       "    .dataframe tbody tr th:only-of-type {\n",
       "        vertical-align: middle;\n",
       "    }\n",
       "\n",
       "    .dataframe tbody tr th {\n",
       "        vertical-align: top;\n",
       "    }\n",
       "\n",
       "    .dataframe thead th {\n",
       "        text-align: right;\n",
       "    }\n",
       "</style>\n",
       "<table border=\"1\" class=\"dataframe\">\n",
       "  <thead>\n",
       "    <tr style=\"text-align: right;\">\n",
       "      <th></th>\n",
       "      <th>index</th>\n",
       "      <th>clustNum</th>\n",
       "      <th>national</th>\n",
       "      <th>cleanedOwner</th>\n",
       "      <th>Topic0</th>\n",
       "      <th>Topic1</th>\n",
       "      <th>Topic2</th>\n",
       "      <th>Topic3</th>\n",
       "      <th>Topic4</th>\n",
       "      <th>Topic5</th>\n",
       "      <th>...</th>\n",
       "      <th>Topic30</th>\n",
       "      <th>Topic31</th>\n",
       "      <th>Topic32</th>\n",
       "      <th>Topic33</th>\n",
       "      <th>Topic34</th>\n",
       "      <th>Topic35</th>\n",
       "      <th>Topic36</th>\n",
       "      <th>Topic37</th>\n",
       "      <th>Topic38</th>\n",
       "      <th>Topic39</th>\n",
       "    </tr>\n",
       "  </thead>\n",
       "  <tbody>\n",
       "    <tr>\n",
       "      <th>0</th>\n",
       "      <td>0</td>\n",
       "      <td>29486.0</td>\n",
       "      <td>False</td>\n",
       "      <td>NaN</td>\n",
       "      <td>0.009153</td>\n",
       "      <td>0.003136</td>\n",
       "      <td>0.170972</td>\n",
       "      <td>0.001801</td>\n",
       "      <td>0.000753</td>\n",
       "      <td>0.003009</td>\n",
       "      <td>...</td>\n",
       "      <td>0.003762</td>\n",
       "      <td>0.165354</td>\n",
       "      <td>0.001357</td>\n",
       "      <td>0.010601</td>\n",
       "      <td>0.001775</td>\n",
       "      <td>0.001934</td>\n",
       "      <td>0.001376</td>\n",
       "      <td>0.011579</td>\n",
       "      <td>0.015661</td>\n",
       "      <td>0.000753</td>\n",
       "    </tr>\n",
       "    <tr>\n",
       "      <th>1</th>\n",
       "      <td>1</td>\n",
       "      <td>29486.0</td>\n",
       "      <td>False</td>\n",
       "      <td>NaN</td>\n",
       "      <td>0.009153</td>\n",
       "      <td>0.003136</td>\n",
       "      <td>0.170972</td>\n",
       "      <td>0.001801</td>\n",
       "      <td>0.000753</td>\n",
       "      <td>0.003009</td>\n",
       "      <td>...</td>\n",
       "      <td>0.003762</td>\n",
       "      <td>0.165354</td>\n",
       "      <td>0.001357</td>\n",
       "      <td>0.010601</td>\n",
       "      <td>0.001775</td>\n",
       "      <td>0.001934</td>\n",
       "      <td>0.001376</td>\n",
       "      <td>0.011579</td>\n",
       "      <td>0.015661</td>\n",
       "      <td>0.000753</td>\n",
       "    </tr>\n",
       "    <tr>\n",
       "      <th>2</th>\n",
       "      <td>2</td>\n",
       "      <td>29486.0</td>\n",
       "      <td>False</td>\n",
       "      <td>Boone Newspapers</td>\n",
       "      <td>0.009153</td>\n",
       "      <td>0.003136</td>\n",
       "      <td>0.170972</td>\n",
       "      <td>0.001801</td>\n",
       "      <td>0.000753</td>\n",
       "      <td>0.003009</td>\n",
       "      <td>...</td>\n",
       "      <td>0.003762</td>\n",
       "      <td>0.165354</td>\n",
       "      <td>0.001357</td>\n",
       "      <td>0.010601</td>\n",
       "      <td>0.001775</td>\n",
       "      <td>0.001934</td>\n",
       "      <td>0.001376</td>\n",
       "      <td>0.011579</td>\n",
       "      <td>0.015661</td>\n",
       "      <td>0.000753</td>\n",
       "    </tr>\n",
       "  </tbody>\n",
       "</table>\n",
       "<p>3 rows × 44 columns</p>\n",
       "</div>"
      ],
      "text/plain": [
       "   index  clustNum  national      cleanedOwner    Topic0    Topic1    Topic2   \n",
       "0      0   29486.0     False               NaN  0.009153  0.003136  0.170972  \\\n",
       "1      1   29486.0     False               NaN  0.009153  0.003136  0.170972   \n",
       "2      2   29486.0     False  Boone Newspapers  0.009153  0.003136  0.170972   \n",
       "\n",
       "     Topic3    Topic4    Topic5  ...   Topic30   Topic31   Topic32   Topic33   \n",
       "0  0.001801  0.000753  0.003009  ...  0.003762  0.165354  0.001357  0.010601  \\\n",
       "1  0.001801  0.000753  0.003009  ...  0.003762  0.165354  0.001357  0.010601   \n",
       "2  0.001801  0.000753  0.003009  ...  0.003762  0.165354  0.001357  0.010601   \n",
       "\n",
       "    Topic34   Topic35   Topic36   Topic37   Topic38   Topic39  \n",
       "0  0.001775  0.001934  0.001376  0.011579  0.015661  0.000753  \n",
       "1  0.001775  0.001934  0.001376  0.011579  0.015661  0.000753  \n",
       "2  0.001775  0.001934  0.001376  0.011579  0.015661  0.000753  \n",
       "\n",
       "[3 rows x 44 columns]"
      ]
     },
     "execution_count": 128,
     "metadata": {},
     "output_type": "execute_result"
    }
   ],
   "source": [
    "topicAverages.head(3)"
   ]
  },
  {
   "cell_type": "code",
   "execution_count": 129,
   "metadata": {},
   "outputs": [
    {
     "data": {
      "text/html": [
       "<div>\n",
       "<style scoped>\n",
       "    .dataframe tbody tr th:only-of-type {\n",
       "        vertical-align: middle;\n",
       "    }\n",
       "\n",
       "    .dataframe tbody tr th {\n",
       "        vertical-align: top;\n",
       "    }\n",
       "\n",
       "    .dataframe thead th {\n",
       "        text-align: right;\n",
       "    }\n",
       "</style>\n",
       "<table border=\"1\" class=\"dataframe\">\n",
       "  <thead>\n",
       "    <tr style=\"text-align: right;\">\n",
       "      <th></th>\n",
       "      <th>source</th>\n",
       "    </tr>\n",
       "    <tr>\n",
       "      <th>cleanedOwner</th>\n",
       "      <th></th>\n",
       "    </tr>\n",
       "  </thead>\n",
       "  <tbody>\n",
       "    <tr>\n",
       "      <th>Gannett</th>\n",
       "      <td>34</td>\n",
       "    </tr>\n",
       "    <tr>\n",
       "      <th>Boone Newspapers</th>\n",
       "      <td>13</td>\n",
       "    </tr>\n",
       "    <tr>\n",
       "      <th>Forum Communications</th>\n",
       "      <td>10</td>\n",
       "    </tr>\n",
       "    <tr>\n",
       "      <th>Digital First Media</th>\n",
       "      <td>10</td>\n",
       "    </tr>\n",
       "  </tbody>\n",
       "</table>\n",
       "</div>"
      ],
      "text/plain": [
       "                      source\n",
       "cleanedOwner                \n",
       "Gannett                   34\n",
       "Boone Newspapers          13\n",
       "Forum Communications      10\n",
       "Digital First Media       10"
      ]
     },
     "execution_count": 129,
     "metadata": {},
     "output_type": "execute_result"
    }
   ],
   "source": [
    "#now we need to assign labels based on the ownership of local papers \n",
    "#figure out which outlets are owned by larger firms\n",
    "ownershipCounts = ownership[[\"source\", \"cleanedOwner\"]].groupby(\"cleanedOwner\").agg(len).sort_values(\"source\", ascending=False)\n",
    "ownershipCounts = ownershipCounts[ownershipCounts[\"source\"] >= 10]\n",
    "topOwners = list(ownershipCounts.index)\n",
    "\n",
    "topicAverages[\"largeOwner\"] = topicAverages[\"cleanedOwner\"].isin(topOwners)\n",
    "topicAverages[\"GannettOwned\"] = topicAverages[\"cleanedOwner\"] == \"Gannett\"\n",
    "ownershipCounts"
   ]
  },
  {
   "cell_type": "code",
   "execution_count": 251,
   "metadata": {},
   "outputs": [],
   "source": [
    "#now we need to find the difference in average amount of cluster-averaged topics \n",
    "largeOwnerMean = topicAverages.loc[topicAverages[\"largeOwner\"] == True, topicCols].apply(np.mean)\n",
    "smallOwnerMean = topicAverages.loc[topicAverages[\"largeOwner\"] == False, topicCols].apply(np.mean)\n",
    "topicDiffs = pd.DataFrame(largeOwnerMean - smallOwnerMean).reset_index().rename(columns={\"index\":\"topicNum\", 0:\"meanDiff\"}).sort_values(\"meanDiff\", ascending=False)"
   ]
  },
  {
   "cell_type": "code",
   "execution_count": 252,
   "metadata": {},
   "outputs": [],
   "source": [
    "topicWords = pd.read_csv(\"/shared/3/projects/newsDiffusion/data/interim/topicModelling/topic_keys.txt\", sep=\"\\t\", names=[\"topicNum\", \"rand\", \"words\"])\n",
    "topicWords[\"topicNum\"] = \"Topic\" + topicWords[\"topicNum\"].astype(str)"
   ]
  },
  {
   "cell_type": "code",
   "execution_count": 253,
   "metadata": {},
   "outputs": [
    {
     "data": {
      "text/html": [
       "<div>\n",
       "<style scoped>\n",
       "    .dataframe tbody tr th:only-of-type {\n",
       "        vertical-align: middle;\n",
       "    }\n",
       "\n",
       "    .dataframe tbody tr th {\n",
       "        vertical-align: top;\n",
       "    }\n",
       "\n",
       "    .dataframe thead th {\n",
       "        text-align: right;\n",
       "    }\n",
       "</style>\n",
       "<table border=\"1\" class=\"dataframe\">\n",
       "  <thead>\n",
       "    <tr style=\"text-align: right;\">\n",
       "      <th></th>\n",
       "      <th>topicNum</th>\n",
       "      <th>meanDiff</th>\n",
       "      <th>words</th>\n",
       "    </tr>\n",
       "  </thead>\n",
       "  <tbody>\n",
       "    <tr>\n",
       "      <th>0</th>\n",
       "      <td>Topic2</td>\n",
       "      <td>0.098993</td>\n",
       "      <td>game season team games players play coach foot...</td>\n",
       "    </tr>\n",
       "    <tr>\n",
       "      <th>1</th>\n",
       "      <td>Topic13</td>\n",
       "      <td>0.049077</td>\n",
       "      <td>it’s don’t time people we’re that’s make i’m w...</td>\n",
       "    </tr>\n",
       "    <tr>\n",
       "      <th>2</th>\n",
       "      <td>Topic38</td>\n",
       "      <td>0.039555</td>\n",
       "      <td>city county board council public meeting town ...</td>\n",
       "    </tr>\n",
       "    <tr>\n",
       "      <th>3</th>\n",
       "      <td>Topic14</td>\n",
       "      <td>0.023110</td>\n",
       "      <td>family years church home wife died john funera...</td>\n",
       "    </tr>\n",
       "    <tr>\n",
       "      <th>4</th>\n",
       "      <td>Topic1</td>\n",
       "      <td>0.022942</td>\n",
       "      <td>cases covid deaths county state health number ...</td>\n",
       "    </tr>\n",
       "    <tr>\n",
       "      <th>5</th>\n",
       "      <td>Topic37</td>\n",
       "      <td>0.020152</td>\n",
       "      <td>p.m event community year a.m day online events...</td>\n",
       "    </tr>\n",
       "    <tr>\n",
       "      <th>6</th>\n",
       "      <td>Topic9</td>\n",
       "      <td>0.018092</td>\n",
       "      <td>school students schools university education c...</td>\n",
       "    </tr>\n",
       "    <tr>\n",
       "      <th>7</th>\n",
       "      <td>Topic31</td>\n",
       "      <td>0.013497</td>\n",
       "      <td>people state masks coronavirus social health d...</td>\n",
       "    </tr>\n",
       "    <tr>\n",
       "      <th>8</th>\n",
       "      <td>Topic26</td>\n",
       "      <td>0.013124</td>\n",
       "      <td>health covid care coronavirus hospital medical...</td>\n",
       "    </tr>\n",
       "    <tr>\n",
       "      <th>9</th>\n",
       "      <td>Topic3</td>\n",
       "      <td>0.012968</td>\n",
       "      <td>water park animals river lake area dog animal ...</td>\n",
       "    </tr>\n",
       "  </tbody>\n",
       "</table>\n",
       "</div>"
      ],
      "text/plain": [
       "  topicNum  meanDiff                                              words\n",
       "0   Topic2  0.098993  game season team games players play coach foot...\n",
       "1  Topic13  0.049077  it’s don’t time people we’re that’s make i’m w...\n",
       "2  Topic38  0.039555  city county board council public meeting town ...\n",
       "3  Topic14  0.023110  family years church home wife died john funera...\n",
       "4   Topic1  0.022942  cases covid deaths county state health number ...\n",
       "5  Topic37  0.020152  p.m event community year a.m day online events...\n",
       "6   Topic9  0.018092  school students schools university education c...\n",
       "7  Topic31  0.013497  people state masks coronavirus social health d...\n",
       "8  Topic26  0.013124  health covid care coronavirus hospital medical...\n",
       "9   Topic3  0.012968  water park animals river lake area dog animal ..."
      ]
     },
     "execution_count": 253,
     "metadata": {},
     "output_type": "execute_result"
    }
   ],
   "source": [
    "wordsMerged = pd.merge(topicDiffs, topicWords, on=\"topicNum\", how=\"inner\").drop(columns=[\"rand\"])\n",
    "wordsMerged.head(10)"
   ]
  },
  {
   "cell_type": "code",
   "execution_count": 254,
   "metadata": {},
   "outputs": [
    {
     "data": {
      "text/html": [
       "<div>\n",
       "<style scoped>\n",
       "    .dataframe tbody tr th:only-of-type {\n",
       "        vertical-align: middle;\n",
       "    }\n",
       "\n",
       "    .dataframe tbody tr th {\n",
       "        vertical-align: top;\n",
       "    }\n",
       "\n",
       "    .dataframe thead th {\n",
       "        text-align: right;\n",
       "    }\n",
       "</style>\n",
       "<table border=\"1\" class=\"dataframe\">\n",
       "  <thead>\n",
       "    <tr style=\"text-align: right;\">\n",
       "      <th></th>\n",
       "      <th>topicNum</th>\n",
       "      <th>meanDiff</th>\n",
       "      <th>words</th>\n",
       "    </tr>\n",
       "  </thead>\n",
       "  <tbody>\n",
       "    <tr>\n",
       "      <th>30</th>\n",
       "      <td>Topic19</td>\n",
       "      <td>-0.014911</td>\n",
       "      <td>coronavirus cases country people virus travel ...</td>\n",
       "    </tr>\n",
       "    <tr>\n",
       "      <th>31</th>\n",
       "      <td>Topic36</td>\n",
       "      <td>-0.016415</td>\n",
       "      <td>investigation case fbi department attorney int...</td>\n",
       "    </tr>\n",
       "    <tr>\n",
       "      <th>32</th>\n",
       "      <td>Topic0</td>\n",
       "      <td>-0.017402</td>\n",
       "      <td>league season club united players team game ba...</td>\n",
       "    </tr>\n",
       "    <tr>\n",
       "      <th>33</th>\n",
       "      <td>Topic22</td>\n",
       "      <td>-0.021445</td>\n",
       "      <td>israel government people country israeli minis...</td>\n",
       "    </tr>\n",
       "    <tr>\n",
       "      <th>34</th>\n",
       "      <td>Topic11</td>\n",
       "      <td>-0.022060</td>\n",
       "      <td>news media twitter facebook video social post ...</td>\n",
       "    </tr>\n",
       "    <tr>\n",
       "      <th>35</th>\n",
       "      <td>Topic8</td>\n",
       "      <td>-0.022174</td>\n",
       "      <td>trump president biden white house donald admin...</td>\n",
       "    </tr>\n",
       "    <tr>\n",
       "      <th>36</th>\n",
       "      <td>Topic24</td>\n",
       "      <td>-0.023231</td>\n",
       "      <td>show film music series star love year story mo...</td>\n",
       "    </tr>\n",
       "    <tr>\n",
       "      <th>37</th>\n",
       "      <td>Topic23</td>\n",
       "      <td>-0.023767</td>\n",
       "      <td>people world political power america governmen...</td>\n",
       "    </tr>\n",
       "    <tr>\n",
       "      <th>38</th>\n",
       "      <td>Topic5</td>\n",
       "      <td>-0.025989</td>\n",
       "      <td>government people johnson lockdown london mini...</td>\n",
       "    </tr>\n",
       "    <tr>\n",
       "      <th>39</th>\n",
       "      <td>Topic15</td>\n",
       "      <td>-0.032781</td>\n",
       "      <td>iran russia russian military u.s forces war ir...</td>\n",
       "    </tr>\n",
       "  </tbody>\n",
       "</table>\n",
       "</div>"
      ],
      "text/plain": [
       "   topicNum  meanDiff                                              words\n",
       "30  Topic19 -0.014911  coronavirus cases country people virus travel ...\n",
       "31  Topic36 -0.016415  investigation case fbi department attorney int...\n",
       "32   Topic0 -0.017402  league season club united players team game ba...\n",
       "33  Topic22 -0.021445  israel government people country israeli minis...\n",
       "34  Topic11 -0.022060  news media twitter facebook video social post ...\n",
       "35   Topic8 -0.022174  trump president biden white house donald admin...\n",
       "36  Topic24 -0.023231  show film music series star love year story mo...\n",
       "37  Topic23 -0.023767  people world political power america governmen...\n",
       "38   Topic5 -0.025989  government people johnson lockdown london mini...\n",
       "39  Topic15 -0.032781  iran russia russian military u.s forces war ir..."
      ]
     },
     "execution_count": 254,
     "metadata": {},
     "output_type": "execute_result"
    }
   ],
   "source": [
    "wordsMerged.tail(10)"
   ]
  },
  {
   "cell_type": "code",
   "execution_count": 161,
   "metadata": {},
   "outputs": [
    {
     "data": {
      "text/plain": [
       "['it’s don’t time people we’re that’s make i’m work lot things good back there’s didn’t they’re he’s can’t doesn’t day ']"
      ]
     },
     "execution_count": 161,
     "metadata": {},
     "output_type": "execute_result"
    }
   ],
   "source": [
    "list(topicWords.loc[topicWords[\"topicNum\"] == \"Topic13\",\"words\"])"
   ]
  },
  {
   "cell_type": "code",
   "execution_count": 248,
   "metadata": {},
   "outputs": [],
   "source": [
    "#now we need to find the difference in average amount of cluster-averaged topics \n",
    "GannettMean = topicAverages.loc[topicAverages[\"GannettOwned\"] == True, topicCols].apply(np.mean)\n",
    "nonGannettMean = topicAverages.loc[topicAverages[\"GannettOwned\"] == False, topicCols].apply(np.mean)\n",
    "topicDiffs = pd.DataFrame(GannettMean - nonGannettMean).reset_index().rename(columns={\"index\":\"topicNum\", 0:\"meanDiff\"}).sort_values(\"meanDiff\", ascending=False)"
   ]
  },
  {
   "cell_type": "code",
   "execution_count": 249,
   "metadata": {},
   "outputs": [
    {
     "data": {
      "text/html": [
       "<div>\n",
       "<style scoped>\n",
       "    .dataframe tbody tr th:only-of-type {\n",
       "        vertical-align: middle;\n",
       "    }\n",
       "\n",
       "    .dataframe tbody tr th {\n",
       "        vertical-align: top;\n",
       "    }\n",
       "\n",
       "    .dataframe thead th {\n",
       "        text-align: right;\n",
       "    }\n",
       "</style>\n",
       "<table border=\"1\" class=\"dataframe\">\n",
       "  <thead>\n",
       "    <tr style=\"text-align: right;\">\n",
       "      <th></th>\n",
       "      <th>topicNum</th>\n",
       "      <th>meanDiff</th>\n",
       "      <th>rand</th>\n",
       "      <th>words</th>\n",
       "    </tr>\n",
       "  </thead>\n",
       "  <tbody>\n",
       "    <tr>\n",
       "      <th>0</th>\n",
       "      <td>Topic38</td>\n",
       "      <td>0.042663</td>\n",
       "      <td>0.125</td>\n",
       "      <td>city county board council public meeting town ...</td>\n",
       "    </tr>\n",
       "    <tr>\n",
       "      <th>1</th>\n",
       "      <td>Topic37</td>\n",
       "      <td>0.037518</td>\n",
       "      <td>0.125</td>\n",
       "      <td>p.m event community year a.m day online events...</td>\n",
       "    </tr>\n",
       "    <tr>\n",
       "      <th>2</th>\n",
       "      <td>Topic1</td>\n",
       "      <td>0.037376</td>\n",
       "      <td>0.125</td>\n",
       "      <td>cases covid deaths county state health number ...</td>\n",
       "    </tr>\n",
       "    <tr>\n",
       "      <th>3</th>\n",
       "      <td>Topic9</td>\n",
       "      <td>0.031028</td>\n",
       "      <td>0.125</td>\n",
       "      <td>school students schools university education c...</td>\n",
       "    </tr>\n",
       "    <tr>\n",
       "      <th>4</th>\n",
       "      <td>Topic31</td>\n",
       "      <td>0.030583</td>\n",
       "      <td>0.125</td>\n",
       "      <td>people state masks coronavirus social health d...</td>\n",
       "    </tr>\n",
       "    <tr>\n",
       "      <th>5</th>\n",
       "      <td>Topic26</td>\n",
       "      <td>0.030472</td>\n",
       "      <td>0.125</td>\n",
       "      <td>health covid care coronavirus hospital medical...</td>\n",
       "    </tr>\n",
       "    <tr>\n",
       "      <th>6</th>\n",
       "      <td>Topic13</td>\n",
       "      <td>0.029460</td>\n",
       "      <td>0.125</td>\n",
       "      <td>it’s don’t time people we’re that’s make i’m w...</td>\n",
       "    </tr>\n",
       "    <tr>\n",
       "      <th>7</th>\n",
       "      <td>Topic6</td>\n",
       "      <td>0.025921</td>\n",
       "      <td>0.125</td>\n",
       "      <td>million money workers tax federal pay pandemic...</td>\n",
       "    </tr>\n",
       "    <tr>\n",
       "      <th>8</th>\n",
       "      <td>Topic14</td>\n",
       "      <td>0.017241</td>\n",
       "      <td>0.125</td>\n",
       "      <td>family years church home wife died john funera...</td>\n",
       "    </tr>\n",
       "    <tr>\n",
       "      <th>9</th>\n",
       "      <td>Topic3</td>\n",
       "      <td>0.011130</td>\n",
       "      <td>0.125</td>\n",
       "      <td>water park animals river lake area dog animal ...</td>\n",
       "    </tr>\n",
       "  </tbody>\n",
       "</table>\n",
       "</div>"
      ],
      "text/plain": [
       "  topicNum  meanDiff   rand                                              words\n",
       "0  Topic38  0.042663  0.125  city county board council public meeting town ...\n",
       "1  Topic37  0.037518  0.125  p.m event community year a.m day online events...\n",
       "2   Topic1  0.037376  0.125  cases covid deaths county state health number ...\n",
       "3   Topic9  0.031028  0.125  school students schools university education c...\n",
       "4  Topic31  0.030583  0.125  people state masks coronavirus social health d...\n",
       "5  Topic26  0.030472  0.125  health covid care coronavirus hospital medical...\n",
       "6  Topic13  0.029460  0.125  it’s don’t time people we’re that’s make i’m w...\n",
       "7   Topic6  0.025921  0.125  million money workers tax federal pay pandemic...\n",
       "8  Topic14  0.017241  0.125  family years church home wife died john funera...\n",
       "9   Topic3  0.011130  0.125  water park animals river lake area dog animal ..."
      ]
     },
     "execution_count": 249,
     "metadata": {},
     "output_type": "execute_result"
    }
   ],
   "source": [
    "wordsMerged = pd.merge(topicDiffs, topicWords, on=\"topicNum\", how=\"inner\")\n",
    "wordsMerged.head(10)"
   ]
  },
  {
   "cell_type": "code",
   "execution_count": 250,
   "metadata": {},
   "outputs": [
    {
     "data": {
      "text/html": [
       "<div>\n",
       "<style scoped>\n",
       "    .dataframe tbody tr th:only-of-type {\n",
       "        vertical-align: middle;\n",
       "    }\n",
       "\n",
       "    .dataframe tbody tr th {\n",
       "        vertical-align: top;\n",
       "    }\n",
       "\n",
       "    .dataframe thead th {\n",
       "        text-align: right;\n",
       "    }\n",
       "</style>\n",
       "<table border=\"1\" class=\"dataframe\">\n",
       "  <thead>\n",
       "    <tr style=\"text-align: right;\">\n",
       "      <th></th>\n",
       "      <th>topicNum</th>\n",
       "      <th>meanDiff</th>\n",
       "      <th>rand</th>\n",
       "      <th>words</th>\n",
       "    </tr>\n",
       "  </thead>\n",
       "  <tbody>\n",
       "    <tr>\n",
       "      <th>30</th>\n",
       "      <td>Topic8</td>\n",
       "      <td>-0.015268</td>\n",
       "      <td>0.125</td>\n",
       "      <td>trump president biden white house donald admin...</td>\n",
       "    </tr>\n",
       "    <tr>\n",
       "      <th>31</th>\n",
       "      <td>Topic27</td>\n",
       "      <td>-0.017014</td>\n",
       "      <td>0.125</td>\n",
       "      <td>people time don family n't back life day told ...</td>\n",
       "    </tr>\n",
       "    <tr>\n",
       "      <th>32</th>\n",
       "      <td>Topic22</td>\n",
       "      <td>-0.019016</td>\n",
       "      <td>0.125</td>\n",
       "      <td>israel government people country israeli minis...</td>\n",
       "    </tr>\n",
       "    <tr>\n",
       "      <th>33</th>\n",
       "      <td>Topic11</td>\n",
       "      <td>-0.020389</td>\n",
       "      <td>0.125</td>\n",
       "      <td>news media twitter facebook video social post ...</td>\n",
       "    </tr>\n",
       "    <tr>\n",
       "      <th>34</th>\n",
       "      <td>Topic24</td>\n",
       "      <td>-0.023460</td>\n",
       "      <td>0.125</td>\n",
       "      <td>show film music series star love year story mo...</td>\n",
       "    </tr>\n",
       "    <tr>\n",
       "      <th>35</th>\n",
       "      <td>Topic5</td>\n",
       "      <td>-0.023881</td>\n",
       "      <td>0.125</td>\n",
       "      <td>government people johnson lockdown london mini...</td>\n",
       "    </tr>\n",
       "    <tr>\n",
       "      <th>36</th>\n",
       "      <td>Topic23</td>\n",
       "      <td>-0.025016</td>\n",
       "      <td>0.125</td>\n",
       "      <td>people world political power america governmen...</td>\n",
       "    </tr>\n",
       "    <tr>\n",
       "      <th>37</th>\n",
       "      <td>Topic0</td>\n",
       "      <td>-0.027702</td>\n",
       "      <td>0.125</td>\n",
       "      <td>league season club united players team game ba...</td>\n",
       "    </tr>\n",
       "    <tr>\n",
       "      <th>38</th>\n",
       "      <td>Topic15</td>\n",
       "      <td>-0.030186</td>\n",
       "      <td>0.125</td>\n",
       "      <td>iran russia russian military u.s forces war ir...</td>\n",
       "    </tr>\n",
       "    <tr>\n",
       "      <th>39</th>\n",
       "      <td>Topic2</td>\n",
       "      <td>-0.036129</td>\n",
       "      <td>0.125</td>\n",
       "      <td>game season team games players play coach foot...</td>\n",
       "    </tr>\n",
       "  </tbody>\n",
       "</table>\n",
       "</div>"
      ],
      "text/plain": [
       "   topicNum  meanDiff   rand   \n",
       "30   Topic8 -0.015268  0.125  \\\n",
       "31  Topic27 -0.017014  0.125   \n",
       "32  Topic22 -0.019016  0.125   \n",
       "33  Topic11 -0.020389  0.125   \n",
       "34  Topic24 -0.023460  0.125   \n",
       "35   Topic5 -0.023881  0.125   \n",
       "36  Topic23 -0.025016  0.125   \n",
       "37   Topic0 -0.027702  0.125   \n",
       "38  Topic15 -0.030186  0.125   \n",
       "39   Topic2 -0.036129  0.125   \n",
       "\n",
       "                                                words  \n",
       "30  trump president biden white house donald admin...  \n",
       "31  people time don family n't back life day told ...  \n",
       "32  israel government people country israeli minis...  \n",
       "33  news media twitter facebook video social post ...  \n",
       "34  show film music series star love year story mo...  \n",
       "35  government people johnson lockdown london mini...  \n",
       "36  people world political power america governmen...  \n",
       "37  league season club united players team game ba...  \n",
       "38  iran russia russian military u.s forces war ir...  \n",
       "39  game season team games players play coach foot...  "
      ]
     },
     "execution_count": 250,
     "metadata": {},
     "output_type": "execute_result"
    }
   ],
   "source": [
    "wordsMerged.tail(10)"
   ]
  },
  {
   "cell_type": "markdown",
   "metadata": {},
   "source": [
    "## H3: Does usage of AP change with different owners? "
   ]
  },
  {
   "cell_type": "code",
   "execution_count": 171,
   "metadata": {},
   "outputs": [],
   "source": [
    "#get the AP labels imported \n",
    "apLabels = pd.read_csv(\"/shared/3/projects/newsDiffusion/data/processed/fromAP/APLabels.tsv\", sep=\"\\t\")"
   ]
  },
  {
   "cell_type": "code",
   "execution_count": 174,
   "metadata": {},
   "outputs": [],
   "source": [
    "apDf = pd.merge(merged, apLabels, on=\"key\", how=\"left\")"
   ]
  },
  {
   "cell_type": "code",
   "execution_count": 198,
   "metadata": {},
   "outputs": [
    {
     "name": "stderr",
     "output_type": "stream",
     "text": [
      "<ipython-input-198-002ec5172d3b>:7: SettingWithCopyWarning: \n",
      "A value is trying to be set on a copy of a slice from a DataFrame.\n",
      "Try using .loc[row_indexer,col_indexer] = value instead\n",
      "\n",
      "See the caveats in the documentation: https://pandas.pydata.org/pandas-docs/stable/user_guide/indexing.html#returning-a-view-versus-a-copy\n",
      "  apDf[\"largeOwner\"] = apDf[\"cleanedOwner\"].isin(topOwners)\n",
      "<ipython-input-198-002ec5172d3b>:8: SettingWithCopyWarning: \n",
      "A value is trying to be set on a copy of a slice from a DataFrame.\n",
      "Try using .loc[row_indexer,col_indexer] = value instead\n",
      "\n",
      "See the caveats in the documentation: https://pandas.pydata.org/pandas-docs/stable/user_guide/indexing.html#returning-a-view-versus-a-copy\n",
      "  apDf[\"GannettOwned\"] = apDf[\"cleanedOwner\"] == \"Gannett\"\n"
     ]
    },
    {
     "data": {
      "text/html": [
       "<div>\n",
       "<style scoped>\n",
       "    .dataframe tbody tr th:only-of-type {\n",
       "        vertical-align: middle;\n",
       "    }\n",
       "\n",
       "    .dataframe tbody tr th {\n",
       "        vertical-align: top;\n",
       "    }\n",
       "\n",
       "    .dataframe thead th {\n",
       "        text-align: right;\n",
       "    }\n",
       "</style>\n",
       "<table border=\"1\" class=\"dataframe\">\n",
       "  <thead>\n",
       "    <tr style=\"text-align: right;\">\n",
       "      <th></th>\n",
       "      <th>source</th>\n",
       "    </tr>\n",
       "    <tr>\n",
       "      <th>cleanedOwner</th>\n",
       "      <th></th>\n",
       "    </tr>\n",
       "  </thead>\n",
       "  <tbody>\n",
       "    <tr>\n",
       "      <th>Gannett</th>\n",
       "      <td>34</td>\n",
       "    </tr>\n",
       "    <tr>\n",
       "      <th>Boone Newspapers</th>\n",
       "      <td>13</td>\n",
       "    </tr>\n",
       "    <tr>\n",
       "      <th>Forum Communications</th>\n",
       "      <td>10</td>\n",
       "    </tr>\n",
       "    <tr>\n",
       "      <th>Digital First Media</th>\n",
       "      <td>10</td>\n",
       "    </tr>\n",
       "  </tbody>\n",
       "</table>\n",
       "</div>"
      ],
      "text/plain": [
       "                      source\n",
       "cleanedOwner                \n",
       "Gannett                   34\n",
       "Boone Newspapers          13\n",
       "Forum Communications      10\n",
       "Digital First Media       10"
      ]
     },
     "execution_count": 198,
     "metadata": {},
     "output_type": "execute_result"
    }
   ],
   "source": [
    "apDf[\"largeOwner\"] = apDf[\"cleanedOwner\"].isin(topOwners)\n",
    "apDf[\"GannettOwned\"] = apDf[\"cleanedOwner\"] == \"Gannett\"\n",
    "ownershipCounts"
   ]
  },
  {
   "cell_type": "code",
   "execution_count": 199,
   "metadata": {},
   "outputs": [
    {
     "name": "stderr",
     "output_type": "stream",
     "text": [
      "<ipython-input-199-d3e6d5df0224>:1: SettingWithCopyWarning: \n",
      "A value is trying to be set on a copy of a slice from a DataFrame.\n",
      "Try using .loc[row_indexer,col_indexer] = value instead\n",
      "\n",
      "See the caveats in the documentation: https://pandas.pydata.org/pandas-docs/stable/user_guide/indexing.html#returning-a-view-versus-a-copy\n",
      "  apDf[\"fromAP\"] = apDf[\"fromAP\"].fillna(False)\n"
     ]
    }
   ],
   "source": [
    "apDf[\"fromAP\"] = apDf[\"fromAP\"].fillna(False)"
   ]
  },
  {
   "cell_type": "code",
   "execution_count": 200,
   "metadata": {},
   "outputs": [
    {
     "data": {
      "text/plain": [
       "0.06078871133538922"
      ]
     },
     "execution_count": 200,
     "metadata": {},
     "output_type": "execute_result"
    }
   ],
   "source": [
    "np.mean(apDf.loc[apDf[\"largeOwner\"] == False, \"fromAP\"])\n",
    "np.mean(apDf.loc[apDf[\"largeOwner\"] == True, \"fromAP\"])"
   ]
  },
  {
   "cell_type": "code",
   "execution_count": 257,
   "metadata": {},
   "outputs": [
    {
     "data": {
      "text/plain": [
       "Text(0.5, 1.0, 'Ownership and Assoc. Press Coverage')"
      ]
     },
     "execution_count": 257,
     "metadata": {},
     "output_type": "execute_result"
    },
    {
     "data": {
      "image/png": "[encoded data removed]",
      "text/plain": [
       "<Figure size 432x288 with 1 Axes>"
      ]
     },
     "metadata": {
      "needs_background": "light"
     },
     "output_type": "display_data"
    }
   ],
   "source": [
    "sns.barplot(x=\"largeOwner\", y=\"fromAP\",estimator=np.mean, n_boot=1000, data=apDf)\n",
    "plt.ylabel(\"Proportion from AP\")\n",
    "plt.xlabel(\"articles from outlet w/ large owner\")\n",
    "plt.title(\"Ownership and Assoc. Press Coverage\")"
   ]
  },
  {
   "cell_type": "code",
   "execution_count": 258,
   "metadata": {},
   "outputs": [
    {
     "data": {
      "text/plain": [
       "Text(0.5, 1.0, 'Ownership and Assoc. Press Coverage')"
      ]
     },
     "execution_count": 258,
     "metadata": {},
     "output_type": "execute_result"
    },
    {
     "data": {
      "image/png": "[encoded data removed]",
      "text/plain": [
       "<Figure size 432x288 with 1 Axes>"
      ]
     },
     "metadata": {
      "needs_background": "light"
     },
     "output_type": "display_data"
    }
   ],
   "source": [
    "sns.barplot(x=\"GannettOwned\", y=\"fromAP\",estimator=np.mean, n_boot=1000, data=apDf)\n",
    "plt.ylabel(\"Proportion from AP\")\n",
    "plt.xlabel(\"articles from outlet owned by Gannett\")\n",
    "plt.title(\"Ownership and Assoc. Press Coverage\")"
   ]
  },
  {
   "cell_type": "code",
   "execution_count": 204,
   "metadata": {},
   "outputs": [],
   "source": [
    "#now do it at the story cluster level \n",
    "apStoryDf = pd.merge(merged, apLabels, on=\"key\", how=\"left\")"
   ]
  },
  {
   "cell_type": "code",
   "execution_count": 205,
   "metadata": {},
   "outputs": [],
   "source": [
    "apStoryDf[\"fromAP\"] = apStoryDf[\"fromAP\"].fillna(False)"
   ]
  },
  {
   "cell_type": "code",
   "execution_count": 210,
   "metadata": {},
   "outputs": [],
   "source": [
    "#if we have one story from AP, we say the entire thing came from AP \n",
    "storyAPLabs = apStoryDf[[\"clustNum\", \"fromAP\"]].groupby(\"clustNum\").agg(lambda x: sum(x) > 0).reset_index()\n",
    "storyAPLabs = storyAPLabs.rename(columns={\"fromAP\":\"clustFromAP\"})"
   ]
  },
  {
   "cell_type": "code",
   "execution_count": 212,
   "metadata": {},
   "outputs": [],
   "source": [
    "apStoryDf = pd.merge(apStoryDf, storyAPLabs, on=\"clustNum\", how=\"left\")"
   ]
  },
  {
   "cell_type": "code",
   "execution_count": 214,
   "metadata": {},
   "outputs": [],
   "source": [
    "apStoryDf[\"largeOwner\"] = apStoryDf[\"cleanedOwner\"].isin(topOwners)\n",
    "apStoryDf[\"GannettOwned\"] = apStoryDf[\"cleanedOwner\"] == \"Gannett\""
   ]
  },
  {
   "cell_type": "code",
   "execution_count": 259,
   "metadata": {},
   "outputs": [
    {
     "data": {
      "text/plain": [
       "Text(0.5, 1.0, 'Ownership and Assoc. Press Coverage')"
      ]
     },
     "execution_count": 259,
     "metadata": {},
     "output_type": "execute_result"
    },
    {
     "data": {
      "image/png": "[encoded data removed]",
      "text/plain": [
       "<Figure size 432x288 with 1 Axes>"
      ]
     },
     "metadata": {
      "needs_background": "light"
     },
     "output_type": "display_data"
    }
   ],
   "source": [
    "sns.barplot(x=\"largeOwner\", y=\"clustFromAP\",estimator=np.mean, n_boot=1000, data=apStoryDf)\n",
    "plt.ylabel(\"Proportion from AP\")\n",
    "plt.xlabel(\"articles from outlet w/ large owner\")\n",
    "plt.title(\"Ownership and Assoc. Press Coverage\")"
   ]
  },
  {
   "cell_type": "code",
   "execution_count": 260,
   "metadata": {},
   "outputs": [
    {
     "data": {
      "text/plain": [
       "Text(0.5, 1.0, 'Ownership and Assoc. Press Coverage')"
      ]
     },
     "execution_count": 260,
     "metadata": {},
     "output_type": "execute_result"
    },
    {
     "data": {
      "image/png": "[encoded data removed]",
      "text/plain": [
       "<Figure size 432x288 with 1 Axes>"
      ]
     },
     "metadata": {
      "needs_background": "light"
     },
     "output_type": "display_data"
    }
   ],
   "source": [
    "sns.barplot(x=\"GannettOwned\", y=\"clustFromAP\",estimator=np.mean, n_boot=300, data=apStoryDf)\n",
    "plt.ylabel(\"Proportion from AP\")\n",
    "plt.xlabel(\"articles from outlet owned by Gannett\")\n",
    "plt.title(\"Ownership and Assoc. Press Coverage\")"
   ]
  },
  {
   "cell_type": "code",
   "execution_count": null,
   "metadata": {},
   "outputs": [],
   "source": []
  }
 ],
 "metadata": {
  "kernelspec": {
   "display_name": "Python 3",
   "language": "python",
   "name": "python3"
  },
  "language_info": {
   "codemirror_mode": {
    "name": "ipython",
    "version": 3
   },
   "file_extension": ".py",
   "mimetype": "text/x-python",
   "name": "python",
   "nbconvert_exporter": "python",
   "pygments_lexer": "ipython3",
   "version": "3.8.5"
  }
 },
 "nbformat": 4,
 "nbformat_minor": 4
}
