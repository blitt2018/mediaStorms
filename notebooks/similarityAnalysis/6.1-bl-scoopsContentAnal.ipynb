{
 "cells": [
  {
   "cell_type": "code",
   "execution_count": 3,
   "metadata": {},
   "outputs": [],
   "source": [
    "import pandas as pd \n",
    "import numpy as np\n",
    "import seaborn as sns\n",
    "import matplotlib.pyplot as plt"
   ]
  },
  {
   "cell_type": "code",
   "execution_count": 2,
   "metadata": {},
   "outputs": [],
   "source": [
    "IN_PATH = \"/shared/3/projects/newsDiffusion/data/processed/fullDataWithClustNums.tsv\"\n",
    "df = pd.read_csv(IN_PATH, sep=\"\\t\")\n",
    "\n",
    "df[\"date\"] = pd.to_datetime(df[\"date\"])\n",
    "df = df.dropna(subset=[\"date\"])\n",
    "\n",
    "\n",
    "#we can only keep clusters whose first article occured after the \n",
    "#first day of local coverage in our data, 4/1\n",
    "firstLocDate = min(df.loc[df[\"national\"] == False, \"date\"])\n",
    "clusteredDates = df[[\"clustNum\", \"date\"]].groupby(by=\"clustNum\").agg(list).reset_index()\n",
    "clusteredDates[\"minDate\"] = clusteredDates[\"date\"].apply(lambda x: min(x))\n",
    "keepClusts = clusteredDates.loc[clusteredDates[\"minDate\"] >= firstLocDate, \"clustNum\"]\n",
    "\n",
    "df = df[df[\"clustNum\"].isin(keepClusts)]\n",
    "len(df)\n",
    "\n",
    "clustDf = df[[\"clustNum\", \"source\", \"key\", \"title\", \"date\", \"national\", \"median_hh_inc\", \"rural_pct\", \"total_population\"]].groupby(\"clustNum\").agg(list)\n",
    "clustDf[\"clustSize\"] = clustDf[\"key\"].apply(len)\n",
    "clustDf = clustDf[clustDf[\"clustSize\"] < 3000]\n",
    "clustDf[\"duration\"] = ((clustDf[\"date\"].apply(max) - clustDf[\"date\"].apply(min)) / np.timedelta64(1, \"D\")) + 1\n",
    "\n",
    "def firstDayPercent(inList): \n",
    "    dayOne = min(inList)\n",
    "    return np.mean([day == dayOne for day in inList if day])\n",
    "\n",
    "clustDf[\"dayOnePercent\"] = clustDf[\"date\"].apply(firstDayPercent)\n",
    "\n",
    "#apply duration cutoff\n",
    "twoThirty = clustDf[(clustDf[\"duration\"] >= 2) & (clustDf[\"duration\"] <= 30)]\n",
    "twoThirty[\"outletCount\"] = twoThirty[\"source\"].apply(lambda x: len(set(x)))\n",
    "\n",
    "#apply outlet number cutoff \n",
    "twoThirty_Two = twoThirty[twoThirty[\"outletCount\"] >= 2]\n",
    "print(f\"percentage kept from twoThirty dataframe: {len(twoThirty_Two) / len(twoThirty)}\") \n",
    "\n",
    "#apply day 1, \"scoop\" cutoff \n",
    "fourtyPercent = twoThirty_Two[twoThirty_Two[\"dayOnePercent\"] <= .40]\n",
    "len(fourtyPercent) / len(twoThirty)\n",
    "fourtyPercent[\"natPercent\"] = fourtyPercent[\"national\"].apply(np.mean)\n"
   ]
  },
  {
   "cell_type": "code",
   "execution_count": 46,
   "metadata": {},
   "outputs": [],
   "source": [
    "fourtyLong = fourtyPercent.explode([\"source\", \"key\", \"title\", \"date\", \"national\", \"median_hh_inc\", \"rural_pct\", \"total_population\"])\n",
    "fourtyLong = fourtyLong.reset_index()"
   ]
  },
  {
   "cell_type": "code",
   "execution_count": 47,
   "metadata": {},
   "outputs": [],
   "source": [
    "#load in topics \n",
    "cols = [\"index\", \"key\"] + [\"Topic\" + str(i) for i in range(40)]\n",
    "docTopics = pd.read_csv(\"/shared/3/projects/newsDiffusion/data/interim/topicModelling/doc_topics.txt\", names=cols, sep=\"\\t\")"
   ]
  },
  {
   "cell_type": "markdown",
   "metadata": {},
   "source": [
    "## NOTE: we lose some articles when clusters\n",
    "possibly because some of our articles were blank when running topic model? "
   ]
  },
  {
   "cell_type": "code",
   "execution_count": 48,
   "metadata": {},
   "outputs": [],
   "source": [
    "fourtyLong = pd.merge(fourtyLong, docTopics, on=\"key\", how=\"inner\")"
   ]
  },
  {
   "cell_type": "code",
   "execution_count": null,
   "metadata": {},
   "outputs": [],
   "source": [
    "#first question: are scooped stories different than non scooped stories in their topic distribution? \n",
    "#get non scooped stories \n"
   ]
  },
  {
   "cell_type": "code",
   "execution_count": 49,
   "metadata": {},
   "outputs": [
    {
     "data": {
      "text/plain": [
       "Index(['clustNum', 'source', 'key', 'title', 'date', 'national',\n",
       "       'median_hh_inc', 'rural_pct', 'total_population', 'clustSize',\n",
       "       'dayOnePercent', 'duration', 'outletCount', 'natPercent', 'index',\n",
       "       'Topic0', 'Topic1', 'Topic2', 'Topic3', 'Topic4', 'Topic5', 'Topic6',\n",
       "       'Topic7', 'Topic8', 'Topic9', 'Topic10', 'Topic11', 'Topic12',\n",
       "       'Topic13', 'Topic14', 'Topic15', 'Topic16', 'Topic17', 'Topic18',\n",
       "       'Topic19', 'Topic20', 'Topic21', 'Topic22', 'Topic23', 'Topic24',\n",
       "       'Topic25', 'Topic26', 'Topic27', 'Topic28', 'Topic29', 'Topic30',\n",
       "       'Topic31', 'Topic32', 'Topic33', 'Topic34', 'Topic35', 'Topic36',\n",
       "       'Topic37', 'Topic38', 'Topic39'],\n",
       "      dtype='object')"
      ]
     },
     "execution_count": 49,
     "metadata": {},
     "output_type": "execute_result"
    }
   ],
   "source": [
    "fourtyLong.columns"
   ]
  },
  {
   "cell_type": "code",
   "execution_count": null,
   "metadata": {},
   "outputs": [],
   "source": [
    "#do certain topics evolve more or less rapidly, or last longer or shorter? \n",
    "topicCols = [\"Topic\" + str(i) for i in range(40)]\n",
    "topicAverages = fourtyLong[[\"clustNum\", \"duration\"] + topicCols].groupby(by=\"clustNum\").agg(list)\n",
    "\n",
    "def colMean(inCol): \n",
    "    return [np.mean(currList) for currList in inCol]\n",
    "\n",
    "topicAverages[topicCols] = topicAverages[topicCols].apply(colMean)\n",
    "topicAverages[\"duration\"] = topicAverages[\"duration\"].apply(lambda x: x[0])\n",
    "\n",
    "durationCorrs = []\n",
    "for topicCol in topicCols: \n",
    "    durationCorrs.append(np.corrcoef(topicAverages[\"duration\"], topicAverages[topicCol])[0,1])\n",
    "\n",
    "durCorrDf = pd.DataFrame({\"durationCorrs\":durationCorrs, \"topicNum\":list(range(40))})\n",
    "\n",
    "topicWords = pd.read_csv(\"/shared/3/projects/newsDiffusion/data/interim/topicModelling/topic_keys.txt\", sep=\"\\t\", names=[\"topicNum\", \"rand\", \"words\"])\n",
    "\n",
    "durCorrDf = pd.merge(durCorrDf, topicWords, on=\"topicNum\").sort_values(\"durationCorrs\").drop(columns=[\"rand\"])\n",
    "durCorrDf.head()\n",
    "\n",
    "durCorrDf.tail()"
   ]
  },
  {
   "cell_type": "code",
   "execution_count": 104,
   "metadata": {},
   "outputs": [],
   "source": [
    "topicAverages = fourtyLong.loc[fourtyLong[\"natPercent\"] == 0, [\"clustNum\", \"duration\"] + topicCols].groupby(by=\"clustNum\").agg(list)\n",
    "\n",
    "def colMean(inCol): \n",
    "    return [np.mean(currList) for currList in inCol]\n",
    "\n",
    "topicAverages[topicCols] = topicAverages[topicCols].apply(colMean)\n",
    "topicAverages[\"duration\"] = topicAverages[\"duration\"].apply(lambda x: x[0])\n",
    "\n",
    "durationCorrs = []\n",
    "for topicCol in topicCols: \n",
    "    durationCorrs.append(np.corrcoef(topicAverages[\"duration\"], topicAverages[topicCol])[0,1])\n",
    "\n",
    "durCorrDf = pd.DataFrame({\"durationCorrs\":durationCorrs, \"topicNum\":list(range(40))})\n",
    "\n",
    "topicWords = pd.read_csv(\"/shared/3/projects/newsDiffusion/data/interim/topicModelling/topic_keys.txt\", sep=\"\\t\", names=[\"topicNum\", \"rand\", \"words\"])\n",
    "\n",
    "durCorrDf = pd.merge(durCorrDf, topicWords, on=\"topicNum\").sort_values(\"durationCorrs\").drop(columns=[\"rand\"])"
   ]
  },
  {
   "cell_type": "code",
   "execution_count": 105,
   "metadata": {},
   "outputs": [
    {
     "data": {
      "text/html": [
       "<div>\n",
       "<style scoped>\n",
       "    .dataframe tbody tr th:only-of-type {\n",
       "        vertical-align: middle;\n",
       "    }\n",
       "\n",
       "    .dataframe tbody tr th {\n",
       "        vertical-align: top;\n",
       "    }\n",
       "\n",
       "    .dataframe thead th {\n",
       "        text-align: right;\n",
       "    }\n",
       "</style>\n",
       "<table border=\"1\" class=\"dataframe\">\n",
       "  <thead>\n",
       "    <tr style=\"text-align: right;\">\n",
       "      <th></th>\n",
       "      <th>durationCorrs</th>\n",
       "      <th>topicNum</th>\n",
       "      <th>words</th>\n",
       "    </tr>\n",
       "  </thead>\n",
       "  <tbody>\n",
       "    <tr>\n",
       "      <th>13</th>\n",
       "      <td>-0.133336</td>\n",
       "      <td>13</td>\n",
       "      <td>it’s don’t time people we’re that’s make i’m w...</td>\n",
       "    </tr>\n",
       "    <tr>\n",
       "      <th>27</th>\n",
       "      <td>-0.100705</td>\n",
       "      <td>27</td>\n",
       "      <td>people time don family n't back life day told ...</td>\n",
       "    </tr>\n",
       "    <tr>\n",
       "      <th>8</th>\n",
       "      <td>-0.079396</td>\n",
       "      <td>8</td>\n",
       "      <td>trump president biden white house donald admin...</td>\n",
       "    </tr>\n",
       "    <tr>\n",
       "      <th>39</th>\n",
       "      <td>-0.058858</td>\n",
       "      <td>39</td>\n",
       "      <td>vaccine covid virus coronavirus people health ...</td>\n",
       "    </tr>\n",
       "    <tr>\n",
       "      <th>20</th>\n",
       "      <td>-0.052375</td>\n",
       "      <td>20</td>\n",
       "      <td>police man officers year-old county arrested o...</td>\n",
       "    </tr>\n",
       "  </tbody>\n",
       "</table>\n",
       "</div>"
      ],
      "text/plain": [
       "    durationCorrs  topicNum                                              words\n",
       "13      -0.133336        13  it’s don’t time people we’re that’s make i’m w...\n",
       "27      -0.100705        27  people time don family n't back life day told ...\n",
       "8       -0.079396         8  trump president biden white house donald admin...\n",
       "39      -0.058858        39  vaccine covid virus coronavirus people health ...\n",
       "20      -0.052375        20  police man officers year-old county arrested o..."
      ]
     },
     "execution_count": 105,
     "metadata": {},
     "output_type": "execute_result"
    }
   ],
   "source": [
    "durCorrDf.head()"
   ]
  },
  {
   "cell_type": "code",
   "execution_count": 106,
   "metadata": {},
   "outputs": [
    {
     "data": {
      "text/html": [
       "<div>\n",
       "<style scoped>\n",
       "    .dataframe tbody tr th:only-of-type {\n",
       "        vertical-align: middle;\n",
       "    }\n",
       "\n",
       "    .dataframe tbody tr th {\n",
       "        vertical-align: top;\n",
       "    }\n",
       "\n",
       "    .dataframe thead th {\n",
       "        text-align: right;\n",
       "    }\n",
       "</style>\n",
       "<table border=\"1\" class=\"dataframe\">\n",
       "  <thead>\n",
       "    <tr style=\"text-align: right;\">\n",
       "      <th></th>\n",
       "      <th>durationCorrs</th>\n",
       "      <th>topicNum</th>\n",
       "      <th>words</th>\n",
       "    </tr>\n",
       "  </thead>\n",
       "  <tbody>\n",
       "    <tr>\n",
       "      <th>4</th>\n",
       "      <td>0.043151</td>\n",
       "      <td>4</td>\n",
       "      <td>die der und das den von mit ist nicht sich auf...</td>\n",
       "    </tr>\n",
       "    <tr>\n",
       "      <th>9</th>\n",
       "      <td>0.064474</td>\n",
       "      <td>9</td>\n",
       "      <td>school students schools university education c...</td>\n",
       "    </tr>\n",
       "    <tr>\n",
       "      <th>24</th>\n",
       "      <td>0.066755</td>\n",
       "      <td>24</td>\n",
       "      <td>show film music series star love year story mo...</td>\n",
       "    </tr>\n",
       "    <tr>\n",
       "      <th>38</th>\n",
       "      <td>0.110419</td>\n",
       "      <td>38</td>\n",
       "      <td>city county board council public meeting town ...</td>\n",
       "    </tr>\n",
       "    <tr>\n",
       "      <th>37</th>\n",
       "      <td>0.175202</td>\n",
       "      <td>37</td>\n",
       "      <td>p.m event community year a.m day online events...</td>\n",
       "    </tr>\n",
       "  </tbody>\n",
       "</table>\n",
       "</div>"
      ],
      "text/plain": [
       "    durationCorrs  topicNum                                              words\n",
       "4        0.043151         4  die der und das den von mit ist nicht sich auf...\n",
       "9        0.064474         9  school students schools university education c...\n",
       "24       0.066755        24  show film music series star love year story mo...\n",
       "38       0.110419        38  city county board council public meeting town ...\n",
       "37       0.175202        37  p.m event community year a.m day online events..."
      ]
     },
     "execution_count": 106,
     "metadata": {},
     "output_type": "execute_result"
    }
   ],
   "source": [
    "durCorrDf.tail()"
   ]
  },
  {
   "cell_type": "code",
   "execution_count": 108,
   "metadata": {},
   "outputs": [],
   "source": [
    "topicAverages = fourtyLong.loc[fourtyLong[\"natPercent\"] == 1, [\"clustNum\", \"duration\"] + topicCols].groupby(by=\"clustNum\").agg(list)\n",
    "\n",
    "def colMean(inCol): \n",
    "    return [np.mean(currList) for currList in inCol]\n",
    "\n",
    "topicAverages[topicCols] = topicAverages[topicCols].apply(colMean)\n",
    "topicAverages[\"duration\"] = topicAverages[\"duration\"].apply(lambda x: x[0])\n",
    "\n",
    "durationCorrs = []\n",
    "for topicCol in topicCols: \n",
    "    durationCorrs.append(np.corrcoef(topicAverages[\"duration\"], topicAverages[topicCol])[0,1])\n",
    "\n",
    "durCorrDf = pd.DataFrame({\"durationCorrs\":durationCorrs, \"topicNum\":list(range(40))})\n",
    "\n",
    "topicWords = pd.read_csv(\"/shared/3/projects/newsDiffusion/data/interim/topicModelling/topic_keys.txt\", sep=\"\\t\", names=[\"topicNum\", \"rand\", \"words\"])\n",
    "\n",
    "durCorrDf = pd.merge(durCorrDf, topicWords, on=\"topicNum\").sort_values(\"durationCorrs\").drop(columns=[\"rand\"])"
   ]
  },
  {
   "cell_type": "code",
   "execution_count": 109,
   "metadata": {},
   "outputs": [
    {
     "data": {
      "text/html": [
       "<div>\n",
       "<style scoped>\n",
       "    .dataframe tbody tr th:only-of-type {\n",
       "        vertical-align: middle;\n",
       "    }\n",
       "\n",
       "    .dataframe tbody tr th {\n",
       "        vertical-align: top;\n",
       "    }\n",
       "\n",
       "    .dataframe thead th {\n",
       "        text-align: right;\n",
       "    }\n",
       "</style>\n",
       "<table border=\"1\" class=\"dataframe\">\n",
       "  <thead>\n",
       "    <tr style=\"text-align: right;\">\n",
       "      <th></th>\n",
       "      <th>durationCorrs</th>\n",
       "      <th>topicNum</th>\n",
       "      <th>words</th>\n",
       "    </tr>\n",
       "  </thead>\n",
       "  <tbody>\n",
       "    <tr>\n",
       "      <th>8</th>\n",
       "      <td>-0.125997</td>\n",
       "      <td>8</td>\n",
       "      <td>trump president biden white house donald admin...</td>\n",
       "    </tr>\n",
       "    <tr>\n",
       "      <th>12</th>\n",
       "      <td>-0.057864</td>\n",
       "      <td>12</td>\n",
       "      <td>police officers protests protesters city floyd...</td>\n",
       "    </tr>\n",
       "    <tr>\n",
       "      <th>31</th>\n",
       "      <td>-0.038028</td>\n",
       "      <td>31</td>\n",
       "      <td>people state masks coronavirus social health d...</td>\n",
       "    </tr>\n",
       "    <tr>\n",
       "      <th>20</th>\n",
       "      <td>-0.033725</td>\n",
       "      <td>20</td>\n",
       "      <td>police man officers year-old county arrested o...</td>\n",
       "    </tr>\n",
       "    <tr>\n",
       "      <th>2</th>\n",
       "      <td>-0.033216</td>\n",
       "      <td>2</td>\n",
       "      <td>game season team games players play coach foot...</td>\n",
       "    </tr>\n",
       "  </tbody>\n",
       "</table>\n",
       "</div>"
      ],
      "text/plain": [
       "    durationCorrs  topicNum                                              words\n",
       "8       -0.125997         8  trump president biden white house donald admin...\n",
       "12      -0.057864        12  police officers protests protesters city floyd...\n",
       "31      -0.038028        31  people state masks coronavirus social health d...\n",
       "20      -0.033725        20  police man officers year-old county arrested o...\n",
       "2       -0.033216         2  game season team games players play coach foot..."
      ]
     },
     "execution_count": 109,
     "metadata": {},
     "output_type": "execute_result"
    }
   ],
   "source": [
    "durCorrDf.head()"
   ]
  },
  {
   "cell_type": "code",
   "execution_count": 110,
   "metadata": {},
   "outputs": [
    {
     "data": {
      "text/html": [
       "<div>\n",
       "<style scoped>\n",
       "    .dataframe tbody tr th:only-of-type {\n",
       "        vertical-align: middle;\n",
       "    }\n",
       "\n",
       "    .dataframe tbody tr th {\n",
       "        vertical-align: top;\n",
       "    }\n",
       "\n",
       "    .dataframe thead th {\n",
       "        text-align: right;\n",
       "    }\n",
       "</style>\n",
       "<table border=\"1\" class=\"dataframe\">\n",
       "  <thead>\n",
       "    <tr style=\"text-align: right;\">\n",
       "      <th></th>\n",
       "      <th>durationCorrs</th>\n",
       "      <th>topicNum</th>\n",
       "      <th>words</th>\n",
       "    </tr>\n",
       "  </thead>\n",
       "  <tbody>\n",
       "    <tr>\n",
       "      <th>28</th>\n",
       "      <td>0.048235</td>\n",
       "      <td>28</td>\n",
       "      <td>food restaurant store farmers meat make custom...</td>\n",
       "    </tr>\n",
       "    <tr>\n",
       "      <th>32</th>\n",
       "      <td>0.048624</td>\n",
       "      <td>32</td>\n",
       "      <td>health study cancer treatment patients body me...</td>\n",
       "    </tr>\n",
       "    <tr>\n",
       "      <th>18</th>\n",
       "      <td>0.050685</td>\n",
       "      <td>18</td>\n",
       "      <td>home time make buy room good hair day made bac...</td>\n",
       "    </tr>\n",
       "    <tr>\n",
       "      <th>24</th>\n",
       "      <td>0.057813</td>\n",
       "      <td>24</td>\n",
       "      <td>show film music series star love year story mo...</td>\n",
       "    </tr>\n",
       "    <tr>\n",
       "      <th>9</th>\n",
       "      <td>0.068426</td>\n",
       "      <td>9</td>\n",
       "      <td>school students schools university education c...</td>\n",
       "    </tr>\n",
       "  </tbody>\n",
       "</table>\n",
       "</div>"
      ],
      "text/plain": [
       "    durationCorrs  topicNum                                              words\n",
       "28       0.048235        28  food restaurant store farmers meat make custom...\n",
       "32       0.048624        32  health study cancer treatment patients body me...\n",
       "18       0.050685        18  home time make buy room good hair day made bac...\n",
       "24       0.057813        24  show film music series star love year story mo...\n",
       "9        0.068426         9  school students schools university education c..."
      ]
     },
     "execution_count": 110,
     "metadata": {},
     "output_type": "execute_result"
    }
   ],
   "source": [
    "durCorrDf.tail()"
   ]
  },
  {
   "cell_type": "code",
   "execution_count": 111,
   "metadata": {},
   "outputs": [
    {
     "data": {
      "text/plain": [
       "10773"
      ]
     },
     "execution_count": 111,
     "metadata": {},
     "output_type": "execute_result"
    }
   ],
   "source": [
    "len(topicAverages)"
   ]
  },
  {
   "cell_type": "code",
   "execution_count": null,
   "metadata": {},
   "outputs": [],
   "source": []
  }
 ],
 "metadata": {
  "kernelspec": {
   "display_name": "Python 3",
   "language": "python",
   "name": "python3"
  },
  "language_info": {
   "codemirror_mode": {
    "name": "ipython",
    "version": 3
   },
   "file_extension": ".py",
   "mimetype": "text/x-python",
   "name": "python",
   "nbconvert_exporter": "python",
   "pygments_lexer": "ipython3",
   "version": "3.8.5"
  }
 },
 "nbformat": 4,
 "nbformat_minor": 4
}
