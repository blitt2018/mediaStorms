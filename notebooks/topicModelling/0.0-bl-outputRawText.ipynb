{
 "cells": [
  {
   "cell_type": "code",
   "execution_count": 24,
   "metadata": {},
   "outputs": [],
   "source": [
    "import pandas as pd\n",
    "import tqdm"
   ]
  },
  {
   "cell_type": "markdown",
   "metadata": {},
   "source": [
    "# Purpose\n",
    "Output text data for topic modelling"
   ]
  },
  {
   "cell_type": "code",
   "execution_count": 33,
   "metadata": {},
   "outputs": [],
   "source": [
    "OUT_PATH = \"/shared/3/projects/newsDiffusion/data/interim/topicModelling/raw_text_2020.txt\""
   ]
  },
  {
   "cell_type": "code",
   "execution_count": 6,
   "metadata": {},
   "outputs": [],
   "source": [
    "LOAD_COLS = [\"key\", \"source\", \"content\", \"date\"]\n",
    "\n",
    "#just need to export the text so we can topic model it using MALLET \n",
    "df = pd.read_csv(\"/shared/3/projects/newsDiffusion/data/processed/newsData/fullDataWithNERCleaned.tsv\",\\\n",
    "                 sep=\"\\t\", usecols = LOAD_COLS)"
   ]
  },
  {
   "cell_type": "code",
   "execution_count": 13,
   "metadata": {},
   "outputs": [],
   "source": [
    "df[\"date\"] = pd.to_datetime(df[\"date\"])\n",
    "\n",
    "df[\"year\"] = df[\"date\"].dt.year\n",
    "\n",
    "#filter so we only use 2020 where we have Reuters \n",
    "df = df[df[\"year\"] == 2020]\n",
    "df = df.dropna(subset=[\"content\"])"
   ]
  },
  {
   "cell_type": "code",
   "execution_count": 25,
   "metadata": {},
   "outputs": [
    {
     "name": "stderr",
     "output_type": "stream",
     "text": [
      "100%|██████████| 2211526/2211526 [03:10<00:00, 11620.98it/s]\n"
     ]
    }
   ],
   "source": [
    "#remove any newlines and carriage returns if we have them \n",
    "df[\"contentClean\"] = df[\"content\"].apply(lambda x: x.replace(\"\\n\", \" \").replace(\"\\r\", \"\").replace(\"\\t\", \" \"))\n",
    "\n",
    "content = df[\"content\"]\n",
    "contentClean = []\n",
    "\n",
    "for currStr in tqdm.tqdm(content): \n",
    "    contentClean.append(\" \".join(currStr.split()))\n",
    "#df[\"contentClean\"] = df[\"content\"].apply(lambda x: \" \".join(x.split()))"
   ]
  },
  {
   "cell_type": "code",
   "execution_count": 26,
   "metadata": {},
   "outputs": [],
   "source": [
    "df[\"contentClean\"] = contentClean"
   ]
  },
  {
   "cell_type": "code",
   "execution_count": 30,
   "metadata": {},
   "outputs": [
    {
     "data": {
      "text/plain": [
       "\"TEAM GB and the 75th anniversary of VE Day are to be commemorated on coins this year , the Royal Mint has revealed . A 50p featuring different sporting equipment , such as rowing oars and boxing gloves , will be launched later in 2020 ahead of the Tokyo Olympic Games this summer . A special £2 coin will also be minted to celebrate the beginning of the end of the Second World War , as 2020 marks the 75th anniversary of VE Day . The coin depicts the celebrations that erupted following news of Germany 's surrender on May @ @ @ @ @ @ @ a crowd of people smiling and cheering , emblazoned with the word `` victory '' . The new coins are just two of five that have been revealed today to celebrate the New Year . Another £2 coin celebrating `` 100 years of mystery '' thanks to crime fiction author Dame Agatha Christie is also to be released . A century on from her first novel , The Mysterious Affair At Styles , the `` Queen of Crime '' will be remembered on the coin engraved with a handgun , bottle of poison @ @ @ @ @ @ @ . To celebrate 400 years since the voyage of the Mayflower , a ship that carried 102 men , women and children from Plymouth , England , to Provincetown , Massachusetts , a special £2 coin will also be issued . In addition , a special £5 coin will be minted to mark 200 years since the end of King George III 's reign . The Royal Mint has n't specified which coins will enter circulation and which ones will remain commemorative - but they will be available to buy at a later @ @ @ @ @ @ @ be worth in the future will also depend on how many are made . Colin Bellamy , from coin site Coin Hunter , told The Sun : `` The coin that 's most likely to enter into circulation is the 50p - 50p coins from the New Year 's Day collection tend to be released a few months after they 've been announced . `` How valuable it will be all depends on the mintage . If it 's anything like the Team GB Rio 50p and more than six million are made @ @ @ @ @ @ @ be worth face value . `` If the £2 coins are released then they could be worth more but that 's because we 've not seen a new £2 put into circulation since 2016 . '' Nicola Howell , chief commercial officer at The Royal Mint , said : `` Our 2020 annual set commemorates a broad range of important historical events and people that have had a huge impact in how we live our lives today . `` Not only that , but in support of how proud they have made our @ @ @ @ @ @ @ present - we 're delighted to have unveiled a Team GB 2020 50p coin in support of our athletes heading to the Tokyo Olympic Games this summer . ''\""
      ]
     },
     "execution_count": 30,
     "metadata": {},
     "output_type": "execute_result"
    }
   ],
   "source": [
    "df[\"contentClean\"][0]"
   ]
  },
  {
   "cell_type": "code",
   "execution_count": 34,
   "metadata": {},
   "outputs": [],
   "source": [
    "df[[\"key\", \"source\", \"contentClean\"]].to_csv(OUT_PATH, sep=\"\\t\", header=False, index=False)"
   ]
  },
  {
   "cell_type": "code",
   "execution_count": null,
   "metadata": {},
   "outputs": [],
   "source": []
  }
 ],
 "metadata": {
  "kernelspec": {
   "display_name": "Python 3",
   "language": "python",
   "name": "python3"
  },
  "language_info": {
   "codemirror_mode": {
    "name": "ipython",
    "version": 3
   },
   "file_extension": ".py",
   "mimetype": "text/x-python",
   "name": "python",
   "nbconvert_exporter": "python",
   "pygments_lexer": "ipython3",
   "version": "3.8.5"
  }
 },
 "nbformat": 4,
 "nbformat_minor": 4
}
