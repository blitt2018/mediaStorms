{
 "cells": [
  {
   "cell_type": "code",
   "execution_count": 1,
   "id": "6ace9bd5",
   "metadata": {},
   "outputs": [
    {
     "data": {
      "text/plain": [
       "'\\nThis file...\\n1. finds the cosine similarity between articles with at least 1 named entity \\n2. filters down to only article pairs closer than 1 week \\n3. creates a graph of articles with cosine sim. weighted edges\\n4. outputs connected components of that graph after considering only weighted edges above a certain \\nsimilarity threshold\\n'"
      ]
     },
     "execution_count": 1,
     "metadata": {},
     "output_type": "execute_result"
    }
   ],
   "source": [
    "\"\"\"\n",
    "This file...\n",
    "1. finds the cosine similarity between articles with at least 1 named entity \n",
    "2. filters down to only article pairs closer than 1 week \n",
    "3. creates a graph of articles with cosine sim. weighted edges\n",
    "4. outputs connected components of that graph after considering only weighted edges above a certain \n",
    "similarity threshold\n",
    "\"\"\""
   ]
  },
  {
   "cell_type": "code",
   "execution_count": 2,
   "id": "3bcc28dc",
   "metadata": {},
   "outputs": [
    {
     "name": "stderr",
     "output_type": "stream",
     "text": [
      "/opt/anaconda/lib/python3.8/site-packages/scipy/__init__.py:146: UserWarning: A NumPy version >=1.16.5 and <1.23.0 is required for this version of SciPy (detected version 1.23.5\n",
      "  warnings.warn(f\"A NumPy version >={np_minversion} and <{np_maxversion}\"\n"
     ]
    }
   ],
   "source": [
    "from numpy import dot\n",
    "import math\n",
    "import pandas as pd\n",
    "import numpy as np\n",
    "from ast import literal_eval\n",
    "import re\n",
    "import matplotlib.pyplot as plt\n",
    "from sklearn.cluster import AgglomerativeClustering\n",
    "from scipy.spatial import distance \n",
    "from sklearn.metrics.pairwise import cosine_similarity\n",
    "from scipy.spatial.distance import cosine\n",
    "import seaborn as sns\n",
    "from tqdm import tqdm \n",
    "import networkx as nx\n",
    "import pickle"
   ]
  },
  {
   "cell_type": "code",
   "execution_count": 3,
   "id": "94980fcb",
   "metadata": {},
   "outputs": [],
   "source": [
    "#NOTE: very important, which entity categories to keep \n",
    "#article showing all entity types below\n",
    "# https://www.kaggle.com/code/curiousprogrammer/entity-extraction-and-classification-using-spacy\n",
    "TO_KEEP = [\"org\",\"event\", \"person\", \"work_of_art\", \"product\"]\n",
    "\n",
    "#only keep named entities that have a # of articles associated with them in this range \n",
    "CLUSTER_CUTOFF = [2, 20000]\n",
    "\n",
    "#this is the lowest cosine similarity threshold we will use \n",
    "SIM_THRESH = .8\n",
    "\n",
    "INVERTED_ENT_PATH = \"/shared/3/projects/newsDiffusion/data/interim/NEREmbedding/invertedEntityIndex.pkl\"\n",
    "EMBEDS_PATH = \"/shared/3/projects/newsDiffusion/data/processed/articleEmbeddings/embeddings.pkl\"\n",
    "CLEANED_DF_PATH = \"/shared/3/projects/newsDiffusion/data/processed/newsData/fullDataWithNERCleaned.tsv\"\n",
    "\n",
    "#how many days apart do we allow our articles to be? \n",
    "#if we consider adding edge between them based on cosine similarity \n",
    "#7 allows for Sunday - Sunday but NOT Sunday - Monday of following week \n",
    "DATE_FILTER = 7"
   ]
  },
  {
   "cell_type": "markdown",
   "id": "d145b069",
   "metadata": {},
   "source": [
    "## Load data"
   ]
  },
  {
   "cell_type": "code",
   "execution_count": 9,
   "id": "b5ea14b4",
   "metadata": {},
   "outputs": [],
   "source": [
    "#this is the df with our inverted index in it\n",
    "invertedDf = pd.read_pickle(INVERTED_ENT_PATH)\n",
    "\n",
    "#what are the entities with the top number of associated articles \n",
    "invertedDf = invertedDf.sort_values(\"numArticles\", ascending=False)\n",
    "\n",
    "#remove any entities with only one article \n",
    "invertedDf = invertedDf[invertedDf[\"numArticles\"] >= CLUSTER_CUTOFF[0]]"
   ]
  },
  {
   "cell_type": "code",
   "execution_count": 14,
   "id": "0dad3062",
   "metadata": {},
   "outputs": [
    {
     "data": {
      "text/plain": [
       "2614309"
      ]
     },
     "execution_count": 14,
     "metadata": {},
     "output_type": "execute_result"
    }
   ],
   "source": [
    "#all entities with at least two associated articles\n",
    "len(invertedDf)"
   ]
  },
  {
   "cell_type": "code",
   "execution_count": 15,
   "id": "7e58f767",
   "metadata": {},
   "outputs": [
    {
     "data": {
      "text/plain": [
       "133"
      ]
     },
     "execution_count": 15,
     "metadata": {},
     "output_type": "execute_result"
    }
   ],
   "source": [
    "#number of entities which get cut off\n",
    "len(invertedDf[invertedDf[\"numArticles\"] > 20000])"
   ]
  },
  {
   "cell_type": "code",
   "execution_count": 16,
   "id": "a447d2a1",
   "metadata": {},
   "outputs": [
    {
     "data": {
      "text/plain": [
       "2614176"
      ]
     },
     "execution_count": 16,
     "metadata": {},
     "output_type": "execute_result"
    }
   ],
   "source": [
    "#number remaining \n",
    "2614309 - 133"
   ]
  },
  {
   "cell_type": "code",
   "execution_count": 24,
   "id": "87a69011",
   "metadata": {},
   "outputs": [],
   "source": [
    "invertedDf = invertedDf[[\"entity\", \"ent_type\", \"numArticles\"]]"
   ]
  },
  {
   "cell_type": "code",
   "execution_count": 25,
   "id": "a088ab48",
   "metadata": {},
   "outputs": [],
   "source": [
    "removedEnts = invertedDf[invertedDf[\"numArticles\"] > 20000]"
   ]
  },
  {
   "cell_type": "code",
   "execution_count": 29,
   "id": "f01fda5f",
   "metadata": {},
   "outputs": [],
   "source": [
    "#output this table to storage for github\n",
    "removedEnts.to_csv(\"/shared/3/projects/newsDiffusion/data/processed/pubData/removedEntities.tsv\", sep=\"\\t\")"
   ]
  },
  {
   "cell_type": "code",
   "execution_count": 30,
   "id": "66a06657",
   "metadata": {},
   "outputs": [
    {
     "data": {
      "text/plain": [
       "['trump',\n",
       " 'biden',\n",
       " 'donald trump',\n",
       " 'joe biden',\n",
       " 'trump',\n",
       " 'congress',\n",
       " 'senate',\n",
       " 'house',\n",
       " 'twitter',\n",
       " 'facebook']"
      ]
     },
     "execution_count": 30,
     "metadata": {},
     "output_type": "execute_result"
    }
   ],
   "source": [
    "#easy way to look at a list of these entities \n",
    "list(invertedDf.loc[invertedDf[\"numArticles\"] > 20000, \"entity\"])[:10]"
   ]
  }
 ],
 "metadata": {
  "kernelspec": {
   "display_name": "Python 3",
   "language": "python",
   "name": "python3"
  },
  "language_info": {
   "codemirror_mode": {
    "name": "ipython",
    "version": 3
   },
   "file_extension": ".py",
   "mimetype": "text/x-python",
   "name": "python",
   "nbconvert_exporter": "python",
   "pygments_lexer": "ipython3",
   "version": "3.8.5"
  }
 },
 "nbformat": 4,
 "nbformat_minor": 5
}
