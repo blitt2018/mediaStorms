{
 "cells": [
  {
   "cell_type": "code",
   "execution_count": null,
   "metadata": {},
   "outputs": [],
   "source": [
    "\"\"\"\n",
    "We generate cluster labels in the previous file. Now we merge cluster numbers for different cutoffs into\n",
    "our dataframe with the rest of our news-article information. \n",
    "\"\"\""
   ]
  },
  {
   "cell_type": "code",
   "execution_count": 5,
   "metadata": {},
   "outputs": [],
   "source": [
    "import pandas as pd"
   ]
  },
  {
   "cell_type": "code",
   "execution_count": 6,
   "metadata": {},
   "outputs": [],
   "source": [
    "#we anticipate having multiple cluster lists for different cutoff \n",
    "BASE_PATH = \"/shared/3/projects/newsDiffusion/data/interim/NEREmbedding/\"\n",
    "CLUST_PATHS = [\"embeddingClusterDf_2_20000_80.tsv\",\n",
    "              \"embeddingClusterDf_2_20000_85.tsv\",\n",
    "              \"embeddingClusterDf_2_20000_90.tsv\"]\n",
    "\n",
    "CLUST_SPECS = [\"20000_80\", \"20000_85\", \"20000_90\"]\n",
    "DF_PATH = \"/shared/3/projects/newsDiffusion/data/processed/newsData/fullDataWithNERCleaned.tsv\"\n",
    "OUT_PATH = \"/shared/3/projects/newsDiffusion/data/processed/fullDataWith20000.tsv\""
   ]
  },
  {
   "cell_type": "code",
   "execution_count": 7,
   "metadata": {},
   "outputs": [
    {
     "name": "stderr",
     "output_type": "stream",
     "text": [
      "<ipython-input-7-55daac8ec3a9>:8: DtypeWarning: Columns (3,4,11,12,14,15,18) have mixed types. Specify dtype option on import or set low_memory=False.\n",
      "  df = pd.read_csv(DF_PATH,\\\n"
     ]
    }
   ],
   "source": [
    "#load in main data source \n",
    "#keep the \"key\" column\n",
    "LOAD_COLS = list(pd.read_csv(DF_PATH, \\\n",
    "                     nrows = 1, sep=\"\\t\").columns)\n",
    "#LOAD_COLS.remove(\"content\")\n",
    "LOAD_COLS.remove(\"NamedEntities\")\n",
    "\n",
    "df = pd.read_csv(DF_PATH,\\\n",
    "                 sep=\"\\t\", usecols=LOAD_COLS)"
   ]
  },
  {
   "cell_type": "code",
   "execution_count": 8,
   "metadata": {},
   "outputs": [
    {
     "data": {
      "text/plain": [
       "Index(['Unnamed: 0.1', 'Unnamed: 0', 'key', 'local_id', 'sourcedomain_id',\n",
       "       'date', 'title', 'content', 'url', 'fips', 'source', 'description',\n",
       "       'onlinesince', 'rank', 'state', 'city', 'lon', 'lat', 'county',\n",
       "       'total_population', 'white_pct', 'black_pct', 'hispanic_pct',\n",
       "       'nonwhite_pct', 'foreignborn_pct', 'female_pct', 'age29andunder_pct',\n",
       "       'age65andolder_pct', 'median_hh_inc', 'clf_unemploy_pct', 'lesshs_pct',\n",
       "       'lesscollege_pct', 'lesshs_whites_pct', 'lesscollege_whites_pct',\n",
       "       'rural_pct', 'ruralurban_cc', 'predrt_0', 'predrt_12', 'predrt_3',\n",
       "       'national', 'id', 'author', 'published', 'published_utc',\n",
       "       'collection_utc'],\n",
       "      dtype='object')"
      ]
     },
     "execution_count": 8,
     "metadata": {},
     "output_type": "execute_result"
    }
   ],
   "source": [
    "df.columns"
   ]
  },
  {
   "cell_type": "code",
   "execution_count": 9,
   "metadata": {},
   "outputs": [
    {
     "name": "stdout",
     "output_type": "stream",
     "text": [
      "Index(['key', '20000_80'], dtype='object')\n",
      "Index(['key', '20000_85'], dtype='object')\n",
      "Index(['key', '20000_90'], dtype='object')\n"
     ]
    }
   ],
   "source": [
    "#keep merging in our new columns to the dataframe \n",
    "for i, fName in enumerate(CLUST_PATHS):\n",
    "    clustPath = BASE_PATH + fName\n",
    "    currDf = pd.read_csv(clustPath, sep=\"\\t\", usecols=[\"key\", \"clustNum\"])\n",
    "    currDf = currDf.rename(columns={\"clustNum\":CLUST_SPECS[i]})\n",
    "    print(currDf.columns)\n",
    "    df = pd.merge(df, currDf, on=\"key\", how=\"left\")"
   ]
  },
  {
   "cell_type": "code",
   "execution_count": 4,
   "metadata": {},
   "outputs": [
    {
     "ename": "NameError",
     "evalue": "name 'df' is not defined",
     "output_type": "error",
     "traceback": [
      "\u001b[0;31m---------------------------------------------------------------------------\u001b[0m",
      "\u001b[0;31mNameError\u001b[0m                                 Traceback (most recent call last)",
      "\u001b[0;32m<ipython-input-4-b666bf274d0a>\u001b[0m in \u001b[0;36m<module>\u001b[0;34m\u001b[0m\n\u001b[0;32m----> 1\u001b[0;31m \u001b[0mdf\u001b[0m\u001b[0;34m.\u001b[0m\u001b[0mcolumns\u001b[0m\u001b[0;34m\u001b[0m\u001b[0;34m\u001b[0m\u001b[0m\n\u001b[0m",
      "\u001b[0;31mNameError\u001b[0m: name 'df' is not defined"
     ]
    }
   ],
   "source": [
    "df.columns"
   ]
  },
  {
   "cell_type": "code",
   "execution_count": 10,
   "metadata": {},
   "outputs": [],
   "source": [
    "df[\"date\"] = pd.to_datetime(df[\"date\"])\n",
    "\n",
    "df[\"year\"] = df[\"date\"].dt.year\n"
   ]
  },
  {
   "cell_type": "code",
   "execution_count": 11,
   "metadata": {},
   "outputs": [],
   "source": [
    "df.to_csv(OUT_PATH, sep=\"\\t\")"
   ]
  }
 ],
 "metadata": {
  "kernelspec": {
   "display_name": "Python 3",
   "language": "python",
   "name": "python3"
  },
  "language_info": {
   "codemirror_mode": {
    "name": "ipython",
    "version": 3
   },
   "file_extension": ".py",
   "mimetype": "text/x-python",
   "name": "python",
   "nbconvert_exporter": "python",
   "pygments_lexer": "ipython3",
   "version": "3.8.5"
  }
 },
 "nbformat": 4,
 "nbformat_minor": 4
}
