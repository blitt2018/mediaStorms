{
 "cells": [
  {
   "cell_type": "code",
   "execution_count": 25,
   "id": "fb85b826",
   "metadata": {},
   "outputs": [],
   "source": [
    "import pandas as pd\n",
    "import numpy as np\n",
    "import seaborn as sns\n",
    "import matplotlib.pyplot as plt\n",
    "import random"
   ]
  },
  {
   "cell_type": "code",
   "execution_count": 2,
   "id": "8ee78c45",
   "metadata": {},
   "outputs": [
    {
     "name": "stderr",
     "output_type": "stream",
     "text": [
      "<ipython-input-2-648cd93f803b>:1: DtypeWarning: Columns (4,5,12,13,15,16,19,41,42,43) have mixed types. Specify dtype option on import or set low_memory=False.\n",
      "  df = pd.read_csv(\"/shared/3/projects/newsDiffusion/data/interim/NEREmbedding/headTailMerged.tsv\", sep=\"\\t\")\n"
     ]
    }
   ],
   "source": [
    "df = pd.read_csv(\"/shared/3/projects/newsDiffusion/data/interim/NEREmbedding/headTailMerged.tsv\", sep=\"\\t\") "
   ]
  },
  {
   "cell_type": "code",
   "execution_count": 40,
   "id": "98d046be",
   "metadata": {},
   "outputs": [
    {
     "name": "stderr",
     "output_type": "stream",
     "text": [
      "<ipython-input-40-e65603079937>:4: DtypeWarning: Columns (4,5,12,13,15,16,19) have mixed types. Specify dtype option on import or set low_memory=False.\n",
      "  artDf = pd.read_csv(ARTICLES_PATH, sep=\"\\t\")\n"
     ]
    }
   ],
   "source": [
    "#get the keys for the cleaned rows we are interested in \n",
    "ARTICLES_PATH = \"/shared/3/projects/newsDiffusion/data/processed/fullDataWith20000.tsv\"\n",
    "\n",
    "artDf = pd.read_csv(ARTICLES_PATH, sep=\"\\t\")\n",
    "artDf = artDf.drop(columns=[\"Unnamed: 0\"])\n",
    "\n",
    "#important: remove any dates before our first local date \n",
    "artDf =  artDf[artDf[\"date\"] >= \"2020-04-01\"]"
   ]
  },
  {
   "cell_type": "code",
   "execution_count": 43,
   "id": "76bc51af",
   "metadata": {},
   "outputs": [],
   "source": [
    "cleanKeys = artDf[\"key\"]"
   ]
  },
  {
   "cell_type": "code",
   "execution_count": 47,
   "id": "42300b55",
   "metadata": {},
   "outputs": [],
   "source": [
    "df = df.set_index(\"key\")"
   ]
  },
  {
   "cell_type": "code",
   "execution_count": 49,
   "id": "ca615476",
   "metadata": {},
   "outputs": [],
   "source": [
    "cleanDf = df.loc[cleanKeys]"
   ]
  },
  {
   "cell_type": "code",
   "execution_count": 50,
   "id": "31a39099",
   "metadata": {},
   "outputs": [
    {
     "data": {
      "text/plain": [
       "4228898"
      ]
     },
     "execution_count": 50,
     "metadata": {},
     "output_type": "execute_result"
    }
   ],
   "source": [
    "len(cleanDf)"
   ]
  },
  {
   "cell_type": "code",
   "execution_count": 51,
   "id": "91af3a86",
   "metadata": {},
   "outputs": [],
   "source": [
    "contentLens = cleanDf.dropna(subset=[\"content\"])[\"content\"].apply(lambda x: len(x.split()))\n",
    "truncLens = cleanDf.dropna(subset=[\"headTail\"])[\"headTail\"].apply(lambda x: len(x.split()))"
   ]
  },
  {
   "cell_type": "code",
   "execution_count": 82,
   "id": "854dce51",
   "metadata": {},
   "outputs": [
    {
     "data": {
      "text/plain": [
       "467.0"
      ]
     },
     "execution_count": 82,
     "metadata": {},
     "output_type": "execute_result"
    }
   ],
   "source": [
    "np.median(contentLens)"
   ]
  },
  {
   "cell_type": "code",
   "execution_count": 83,
   "id": "090a4b93",
   "metadata": {},
   "outputs": [
    {
     "data": {
      "text/plain": [
       "317.0"
      ]
     },
     "execution_count": 83,
     "metadata": {},
     "output_type": "execute_result"
    }
   ],
   "source": [
    "np.median(truncLens)"
   ]
  },
  {
   "cell_type": "code",
   "execution_count": 54,
   "id": "920fa3d5",
   "metadata": {},
   "outputs": [],
   "source": [
    "contentLens = list(contentLens)"
   ]
  },
  {
   "cell_type": "code",
   "execution_count": 55,
   "id": "ee7817ad",
   "metadata": {},
   "outputs": [],
   "source": [
    "truncLens = list(truncLens)"
   ]
  },
  {
   "cell_type": "code",
   "execution_count": 69,
   "id": "51698401",
   "metadata": {},
   "outputs": [],
   "source": [
    "tab10 = sns.color_palette(\"tab10\")\n",
    "\n",
    "colNames = [\"blue\", \"orange\", \"green\", \"red\", \"purple\", \"brown\", \"pink\", \"grey\", \"yellow\", \"turqoise\"]\n",
    "colDict = dict(zip(colNames, tab10))"
   ]
  },
  {
   "cell_type": "code",
   "execution_count": 76,
   "id": "f122d9d9",
   "metadata": {},
   "outputs": [],
   "source": [
    "FIG_PATH = \"/home/blitt/projects/localNews/reports/figures/drafts/\""
   ]
  },
  {
   "cell_type": "code",
   "execution_count": 84,
   "id": "1a57b0bf",
   "metadata": {},
   "outputs": [
    {
     "data": {
      "image/png": "[encoded data removed]",
      "text/plain": [
       "<Figure size 432x288 with 1 Axes>"
      ]
     },
     "metadata": {
      "needs_background": "light"
     },
     "output_type": "display_data"
    }
   ],
   "source": [
    "fig, ax = plt.subplots()\n",
    "#list(random.sample(contentLens, 4000))\n",
    "sns.ecdfplot(contentLens, ax=ax, label=\"Pre-Truncation\", color=colDict[\"grey\"])\n",
    "\n",
    "#list(random.sample(truncLens, 4000))\n",
    "sns.ecdfplot(truncLens, ax=ax, label=\"Post-Truncation\", color=colDict[\"purple\"])\n",
    "plt.xlim(0, 3000)\n",
    "ax.set_title(\"Article Length: Pre Versus Post Truncation\", fontsize=14)\n",
    "ax.set_xlabel(\"Number of Words\", fontsize=14)\n",
    "ax.set_ylabel(\"Proportion\", fontsize=16)\n",
    "ax.tick_params(axis='both', which='major', labelsize=13)\n",
    "plt.legend()\n",
    "plt.savefig(FIG_PATH + \"documentLengthCDF.pdf\", bbox_inches=\"tight\")"
   ]
  },
  {
   "cell_type": "code",
   "execution_count": 85,
   "id": "a133d715",
   "metadata": {},
   "outputs": [
    {
     "data": {
      "text/plain": [
       "'/home/blitt/projects/localNews/reports/figures/drafts/documentLengthCDF.pdf'"
      ]
     },
     "execution_count": 85,
     "metadata": {},
     "output_type": "execute_result"
    }
   ],
   "source": [
    "FIG_PATH + \"documentLengthCDF.pdf\""
   ]
  },
  {
   "cell_type": "code",
   "execution_count": null,
   "id": "40d1bbf0",
   "metadata": {},
   "outputs": [],
   "source": []
  }
 ],
 "metadata": {
  "kernelspec": {
   "display_name": "Python 3",
   "language": "python",
   "name": "python3"
  },
  "language_info": {
   "codemirror_mode": {
    "name": "ipython",
    "version": 3
   },
   "file_extension": ".py",
   "mimetype": "text/x-python",
   "name": "python",
   "nbconvert_exporter": "python",
   "pygments_lexer": "ipython3",
   "version": "3.8.5"
  }
 },
 "nbformat": 4,
 "nbformat_minor": 5
}
